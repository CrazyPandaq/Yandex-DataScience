{
 "cells": [
  {
   "cell_type": "markdown",
   "metadata": {
    "toc": true
   },
   "source": [
    "<h1>Содержание<span class=\"tocSkip\"></span></h1>\n",
    "<div class=\"toc\"><ul class=\"toc-item\"><li><span><a href=\"#Подготовка\" data-toc-modified-id=\"Подготовка-1\"><span class=\"toc-item-num\">1&nbsp;&nbsp;</span>Подготовка</a></span><ul class=\"toc-item\"><li><span><a href=\"#Вывод:\" data-toc-modified-id=\"Вывод:-1.1\"><span class=\"toc-item-num\">1.1&nbsp;&nbsp;</span>Вывод:</a></span></li></ul></li><li><span><a href=\"#Обучение\" data-toc-modified-id=\"Обучение-2\"><span class=\"toc-item-num\">2&nbsp;&nbsp;</span>Обучение</a></span><ul class=\"toc-item\"><li><span><a href=\"#Подготовим-выборки\" data-toc-modified-id=\"Подготовим-выборки-2.1\"><span class=\"toc-item-num\">2.1&nbsp;&nbsp;</span>Подготовим выборки</a></span></li><li><span><a href=\"#Логистическая-регрессия\" data-toc-modified-id=\"Логистическая-регрессия-2.2\"><span class=\"toc-item-num\">2.2&nbsp;&nbsp;</span>Логистическая регрессия</a></span></li><li><span><a href=\"#DecisionTreeClassifier\" data-toc-modified-id=\"DecisionTreeClassifier-2.3\"><span class=\"toc-item-num\">2.3&nbsp;&nbsp;</span>DecisionTreeClassifier</a></span></li><li><span><a href=\"#CatBoostClassifier\" data-toc-modified-id=\"CatBoostClassifier-2.4\"><span class=\"toc-item-num\">2.4&nbsp;&nbsp;</span>CatBoostClassifier</a></span></li><li><span><a href=\"#RidgeClassifier\" data-toc-modified-id=\"RidgeClassifier-2.5\"><span class=\"toc-item-num\">2.5&nbsp;&nbsp;</span>RidgeClassifier</a></span></li><li><span><a href=\"#LinearSVC\" data-toc-modified-id=\"LinearSVC-2.6\"><span class=\"toc-item-num\">2.6&nbsp;&nbsp;</span>LinearSVC</a></span></li><li><span><a href=\"#Вывод:\" data-toc-modified-id=\"Вывод:-2.7\"><span class=\"toc-item-num\">2.7&nbsp;&nbsp;</span>Вывод:</a></span></li></ul></li><li><span><a href=\"#Тест\" data-toc-modified-id=\"Тест-3\"><span class=\"toc-item-num\">3&nbsp;&nbsp;</span>Тест</a></span><ul class=\"toc-item\"><li><span><a href=\"#Проверка-модели-на-тестовой-выборке\" data-toc-modified-id=\"Проверка-модели-на-тестовой-выборке-3.1\"><span class=\"toc-item-num\">3.1&nbsp;&nbsp;</span>Проверка модели на тестовой выборке</a></span></li><li><span><a href=\"#Итоговая-таблица\" data-toc-modified-id=\"Итоговая-таблица-3.2\"><span class=\"toc-item-num\">3.2&nbsp;&nbsp;</span>Итоговая таблица</a></span></li></ul></li><li><span><a href=\"#Выводы\" data-toc-modified-id=\"Выводы-4\"><span class=\"toc-item-num\">4&nbsp;&nbsp;</span>Выводы</a></span></li></ul></div>"
   ]
  },
  {
   "cell_type": "markdown",
   "metadata": {},
   "source": [
    "# Проект для «Викишоп»"
   ]
  },
  {
   "cell_type": "markdown",
   "metadata": {},
   "source": [
    "Интернет-магазин «Викишоп» запускает новый сервис. Теперь пользователи могут редактировать и дополнять описания товаров, как в вики-сообществах. То есть клиенты предлагают свои правки и комментируют изменения других. Магазину нужен инструмент, который будет искать токсичные комментарии и отправлять их на модерацию. \n",
    "\n",
    "Обучите модель классифицировать комментарии на позитивные и негативные. В вашем распоряжении набор данных с разметкой о токсичности правок.\n",
    "\n",
    "Постройте модель со значением метрики качества *F1* не меньше 0.75. \n",
    "\n",
    "**Инструкция по выполнению проекта**\n",
    "\n",
    "1. Загрузите и подготовьте данные.\n",
    "2. Обучите разные модели. \n",
    "3. Сделайте выводы.\n",
    "\n",
    "Для выполнения проекта применять *BERT* необязательно, но вы можете попробовать.\n",
    "\n",
    "**Описание данных**\n",
    "\n",
    "Данные находятся в файле `toxic_comments.csv`. Столбец *text* в нём содержит текст комментария, а *toxic* — целевой признак."
   ]
  },
  {
   "cell_type": "markdown",
   "metadata": {},
   "source": [
    "## Подготовка"
   ]
  },
  {
   "cell_type": "code",
   "execution_count": 1,
   "metadata": {},
   "outputs": [],
   "source": [
    "import pandas as pd\n",
    "import numpy as np\n",
    "import tqdm\n",
    "import re\n",
    "import nltk\n",
    "import time\n",
    "\n",
    "from pymystem3 import Mystem\n",
    "from nltk.corpus import stopwords as nltk_stopwords\n",
    "\n",
    "from sklearn.feature_extraction.text import CountVectorizer\n",
    "from sklearn.feature_extraction.text import TfidfVectorizer\n",
    "\n",
    "from sklearn.metrics import f1_score, accuracy_score\n",
    "from sklearn.model_selection import train_test_split, cross_val_score, GridSearchCV\n",
    "\n",
    "from sklearn.linear_model import LogisticRegression\n",
    "from sklearn.tree import DecisionTreeClassifier\n",
    "from catboost import CatBoostClassifier\n",
    "from sklearn.linear_model import RidgeClassifier\n",
    "from sklearn.svm import LinearSVC\n",
    "\n",
    "import warnings\n",
    "warnings.filterwarnings('ignore')\n",
    "\n",
    "rnd_st = 12345"
   ]
  },
  {
   "cell_type": "code",
   "execution_count": 2,
   "metadata": {},
   "outputs": [],
   "source": [
    "try:\n",
    "    data = pd.read_csv(\"/datasets/toxic_comments.csv\")\n",
    "except:\n",
    "    data = pd.read_csv(\"datasets/toxic_comments.csv\")"
   ]
  },
  {
   "cell_type": "code",
   "execution_count": 3,
   "metadata": {},
   "outputs": [
    {
     "name": "stdout",
     "output_type": "stream",
     "text": [
      "<class 'pandas.core.frame.DataFrame'>\n",
      "RangeIndex: 159571 entries, 0 to 159570\n",
      "Data columns (total 2 columns):\n",
      " #   Column  Non-Null Count   Dtype \n",
      "---  ------  --------------   ----- \n",
      " 0   text    159571 non-null  object\n",
      " 1   toxic   159571 non-null  int64 \n",
      "dtypes: int64(1), object(1)\n",
      "memory usage: 2.4+ MB\n"
     ]
    }
   ],
   "source": [
    "data.info()"
   ]
  },
  {
   "cell_type": "code",
   "execution_count": 4,
   "metadata": {},
   "outputs": [
    {
     "data": {
      "text/html": [
       "<div>\n",
       "<style scoped>\n",
       "    .dataframe tbody tr th:only-of-type {\n",
       "        vertical-align: middle;\n",
       "    }\n",
       "\n",
       "    .dataframe tbody tr th {\n",
       "        vertical-align: top;\n",
       "    }\n",
       "\n",
       "    .dataframe thead th {\n",
       "        text-align: right;\n",
       "    }\n",
       "</style>\n",
       "<table border=\"1\" class=\"dataframe\">\n",
       "  <thead>\n",
       "    <tr style=\"text-align: right;\">\n",
       "      <th></th>\n",
       "      <th>text</th>\n",
       "      <th>toxic</th>\n",
       "    </tr>\n",
       "  </thead>\n",
       "  <tbody>\n",
       "    <tr>\n",
       "      <th>0</th>\n",
       "      <td>Explanation\\nWhy the edits made under my usern...</td>\n",
       "      <td>0</td>\n",
       "    </tr>\n",
       "    <tr>\n",
       "      <th>1</th>\n",
       "      <td>D'aww! He matches this background colour I'm s...</td>\n",
       "      <td>0</td>\n",
       "    </tr>\n",
       "    <tr>\n",
       "      <th>2</th>\n",
       "      <td>Hey man, I'm really not trying to edit war. It...</td>\n",
       "      <td>0</td>\n",
       "    </tr>\n",
       "    <tr>\n",
       "      <th>3</th>\n",
       "      <td>\"\\nMore\\nI can't make any real suggestions on ...</td>\n",
       "      <td>0</td>\n",
       "    </tr>\n",
       "    <tr>\n",
       "      <th>4</th>\n",
       "      <td>You, sir, are my hero. Any chance you remember...</td>\n",
       "      <td>0</td>\n",
       "    </tr>\n",
       "  </tbody>\n",
       "</table>\n",
       "</div>"
      ],
      "text/plain": [
       "                                                text  toxic\n",
       "0  Explanation\\nWhy the edits made under my usern...      0\n",
       "1  D'aww! He matches this background colour I'm s...      0\n",
       "2  Hey man, I'm really not trying to edit war. It...      0\n",
       "3  \"\\nMore\\nI can't make any real suggestions on ...      0\n",
       "4  You, sir, are my hero. Any chance you remember...      0"
      ]
     },
     "execution_count": 4,
     "metadata": {},
     "output_type": "execute_result"
    }
   ],
   "source": [
    "data.head()"
   ]
  },
  {
   "cell_type": "code",
   "execution_count": 5,
   "metadata": {},
   "outputs": [
    {
     "data": {
      "text/plain": [
       "0    143346\n",
       "1     16225\n",
       "Name: toxic, dtype: int64"
      ]
     },
     "execution_count": 5,
     "metadata": {},
     "output_type": "execute_result"
    }
   ],
   "source": [
    "data['toxic'].value_counts()"
   ]
  },
  {
   "cell_type": "code",
   "execution_count": 6,
   "metadata": {},
   "outputs": [
    {
     "data": {
      "text/plain": [
       "<AxesSubplot:>"
      ]
     },
     "execution_count": 6,
     "metadata": {},
     "output_type": "execute_result"
    },
    {
     "data": {
      "image/png": "[encoded data removed]",
      "text/plain": [
       "<Figure size 432x288 with 1 Axes>"
      ]
     },
     "metadata": {
      "needs_background": "light"
     },
     "output_type": "display_data"
    }
   ],
   "source": [
    "data['toxic'].value_counts().plot(kind='bar')"
   ]
  },
  {
   "cell_type": "markdown",
   "metadata": {},
   "source": [
    "Всего 16тыс. строк из 159571 тыс. являются токсичными. \n",
    "\n",
    "Наблюдается дисбаланс классов."
   ]
  },
  {
   "cell_type": "code",
   "execution_count": 7,
   "metadata": {},
   "outputs": [
    {
     "data": {
      "text/plain": [
       "text     0\n",
       "toxic    0\n",
       "dtype: int64"
      ]
     },
     "execution_count": 7,
     "metadata": {},
     "output_type": "execute_result"
    }
   ],
   "source": [
    "data.isnull().sum()"
   ]
  },
  {
   "cell_type": "code",
   "execution_count": 8,
   "metadata": {},
   "outputs": [
    {
     "data": {
      "text/plain": [
       "0"
      ]
     },
     "execution_count": 8,
     "metadata": {},
     "output_type": "execute_result"
    }
   ],
   "source": [
    "data.duplicated().sum()"
   ]
  },
  {
   "cell_type": "markdown",
   "metadata": {},
   "source": [
    "Пропусков и дубликатов не обнаружено"
   ]
  },
  {
   "cell_type": "code",
   "execution_count": 9,
   "metadata": {},
   "outputs": [
    {
     "name": "stderr",
     "output_type": "stream",
     "text": [
      "[nltk_data] Downloading package stopwords to /home/jovyan/nltk_data...\n",
      "[nltk_data]   Unzipping corpora/stopwords.zip.\n"
     ]
    }
   ],
   "source": [
    "nltk.download('stopwords')\n",
    "stopwords = set(nltk_stopwords.words('english'))"
   ]
  },
  {
   "cell_type": "markdown",
   "metadata": {},
   "source": [
    "Стоп-слова загружены"
   ]
  },
  {
   "cell_type": "code",
   "execution_count": 10,
   "metadata": {},
   "outputs": [
    {
     "name": "stderr",
     "output_type": "stream",
     "text": [
      "[nltk_data] Downloading package averaged_perceptron_tagger to\n",
      "[nltk_data]     /home/jovyan/nltk_data...\n",
      "[nltk_data]   Unzipping taggers/averaged_perceptron_tagger.zip.\n",
      "[nltk_data] Downloading package wordnet to /home/jovyan/nltk_data...\n",
      "[nltk_data]   Package wordnet is already up-to-date!\n"
     ]
    },
    {
     "data": {
      "text/plain": [
       "True"
      ]
     },
     "execution_count": 10,
     "metadata": {},
     "output_type": "execute_result"
    }
   ],
   "source": [
    "from nltk.stem import WordNetLemmatizer\n",
    "from nltk.corpus import wordnet\n",
    "from nltk import word_tokenize, pos_tag\n",
    "from nltk.tokenize import sent_tokenize\n",
    "nltk.download('averaged_perceptron_tagger')\n",
    "\n",
    "lemmatizer = WordNetLemmatizer()\n",
    "\n",
    "nltk.download('wordnet')"
   ]
  },
  {
   "cell_type": "code",
   "execution_count": 11,
   "metadata": {},
   "outputs": [],
   "source": [
    "def clear_text(text):\n",
    "    text = text.lower()\n",
    "    a = re.sub(r'[^a-zA-Z]',\" \",text)\n",
    "    a_1 = a.split()\n",
    "    return \" \".join(a_1)"
   ]
  },
  {
   "cell_type": "code",
   "execution_count": 12,
   "metadata": {},
   "outputs": [],
   "source": [
    "#data[\"clear_text\"] = data[\"text\"].apply(clear_text)"
   ]
  },
  {
   "cell_type": "code",
   "execution_count": 13,
   "metadata": {},
   "outputs": [],
   "source": [
    "#data.head()"
   ]
  },
  {
   "cell_type": "code",
   "execution_count": 12,
   "metadata": {},
   "outputs": [],
   "source": [
    "def get_wordnet_pos(word):\n",
    "    \"\"\"Map POS tag to first character lemmatize() accepts\"\"\"\n",
    "    tag = nltk.pos_tag([word])[0][1][0].upper()\n",
    "    tag_dict = {\"J\": wordnet.ADJ,\n",
    "                \"N\": wordnet.NOUN,\n",
    "                \"V\": wordnet.VERB,\n",
    "                \"R\": wordnet.ADV}\n",
    "    return tag_dict.get(tag, wordnet.NOUN)"
   ]
  },
  {
   "cell_type": "code",
   "execution_count": 13,
   "metadata": {},
   "outputs": [],
   "source": [
    "def lemmatize_text(text):\n",
    "    return \" \".join([lemmatizer.lemmatize(w, get_wordnet_pos(w)) for w in nltk.word_tokenize(text)])"
   ]
  },
  {
   "cell_type": "code",
   "execution_count": 16,
   "metadata": {},
   "outputs": [
    {
     "data": {
      "text/plain": [
       "'\\n%%time\\ndata[\"lemm_text\"] = data[\"clear_text\"].apply(lemmatize_text)\\n'"
      ]
     },
     "execution_count": 16,
     "metadata": {},
     "output_type": "execute_result"
    }
   ],
   "source": [
    "\"\"\"\n",
    "%%time\n",
    "data[\"lemm_text\"] = data[\"clear_text\"].apply(lemmatize_text)\n",
    "\"\"\""
   ]
  },
  {
   "cell_type": "code",
   "execution_count": 17,
   "metadata": {},
   "outputs": [
    {
     "data": {
      "text/plain": [
       "'\\n%%time\\n\\nm = Mystem()\\n\\ndef lemmatize_text(text):\\n    text = text.lower()\\n    lemm_text = \"\".join(m.lemmatize(text))\\n    cleared_text = re.sub(r\\'[^a-zA-Z]\\', \\' \\', lemm_text) \\n    return \" \".join(cleared_text.split())\\n\\ndata[\\'lemm_text\\'] = data[\\'text\\'].apply(lemmatize_text)\\n'"
      ]
     },
     "execution_count": 17,
     "metadata": {},
     "output_type": "execute_result"
    }
   ],
   "source": [
    "\"\"\"\n",
    "%%time\n",
    "\n",
    "m = Mystem()\n",
    "\n",
    "def lemmatize_text(text):\n",
    "    text = text.lower()\n",
    "    lemm_text = \"\".join(m.lemmatize(text))\n",
    "    cleared_text = re.sub(r'[^a-zA-Z]', ' ', lemm_text) \n",
    "    return \" \".join(cleared_text.split())\n",
    "\n",
    "data['lemm_text'] = data['text'].apply(lemmatize_text)\n",
    "\"\"\""
   ]
  },
  {
   "cell_type": "code",
   "execution_count": 38,
   "metadata": {},
   "outputs": [
    {
     "data": {
      "text/plain": [
       "'aleksandr want to be approve he go to lesson every day'"
      ]
     },
     "execution_count": 38,
     "metadata": {},
     "output_type": "execute_result"
    }
   ],
   "source": [
    "# КОД РЕВЬЮЕРА\n",
    "\n",
    "lemmatize_text(clear_text('Aleksandr wants to be approved (1@*23&^#%@&* He goes 123 to lessons every day !\"@!121\")'))"
   ]
  },
  {
   "cell_type": "code",
   "execution_count": 29,
   "metadata": {},
   "outputs": [],
   "source": [
    "import string\n",
    "punctuation = string.punctuation\n",
    "wordnet_lemmatizer = WordNetLemmatizer()"
   ]
  },
  {
   "cell_type": "code",
   "execution_count": 37,
   "metadata": {},
   "outputs": [],
   "source": [
    "def tokenizer(text):\n",
    "    #Определение слова токенов\n",
    "    tokens = [ word for sent in sent_tokenize(text) for word in word_tokenize(sent)]\n",
    "    tokens = list(filter(lambda t: t not in punctuation, tokens)) # Уборка знаков припенания внутри слов\n",
    "    tokens = list(filter(lambda t: t.lower() not in stopwords, tokens)) #Уборка стоп-слов\n",
    "    filtered_tokens = []\n",
    "    for token in tokens: # Регулярные выражений\n",
    "        if re.search('[a-zA-Z]', token):\n",
    "            filtered_tokens.append(token)\n",
    "    filtered_tokens = list(\n",
    "        map(lambda token: wordnet_lemmatizer.lemmatize(token.lower()), filtered_tokens)) #Лемматизаци токенов\n",
    "    filtered_tokens = list(filter(lambda t: t not in punctuation, filtered_tokens)) # Фильтр пл знаков припенания\n",
    "    return ' '.join(filtered_tokens)"
   ]
  },
  {
   "cell_type": "code",
   "execution_count": 36,
   "metadata": {},
   "outputs": [
    {
     "data": {
      "text/plain": [
       "'aleksandr want approved go lesson every day'"
      ]
     },
     "execution_count": 36,
     "metadata": {},
     "output_type": "execute_result"
    }
   ],
   "source": [
    "# КОД РЕВЬЮЕРА\n",
    "\n",
    "tokenizer('Aleksandr wants to be approved (1@*23&^#%@&* He goes 123 to lessons every day !\"@!121\")')"
   ]
  },
  {
   "cell_type": "code",
   "execution_count": 39,
   "metadata": {},
   "outputs": [],
   "source": [
    "data['lemm_text'] = data['text'].map(tokenizer)"
   ]
  },
  {
   "cell_type": "code",
   "execution_count": 40,
   "metadata": {},
   "outputs": [
    {
     "data": {
      "text/html": [
       "<div>\n",
       "<style scoped>\n",
       "    .dataframe tbody tr th:only-of-type {\n",
       "        vertical-align: middle;\n",
       "    }\n",
       "\n",
       "    .dataframe tbody tr th {\n",
       "        vertical-align: top;\n",
       "    }\n",
       "\n",
       "    .dataframe thead th {\n",
       "        text-align: right;\n",
       "    }\n",
       "</style>\n",
       "<table border=\"1\" class=\"dataframe\">\n",
       "  <thead>\n",
       "    <tr style=\"text-align: right;\">\n",
       "      <th></th>\n",
       "      <th>text</th>\n",
       "      <th>toxic</th>\n",
       "      <th>lemm_text</th>\n",
       "    </tr>\n",
       "  </thead>\n",
       "  <tbody>\n",
       "    <tr>\n",
       "      <th>0</th>\n",
       "      <td>Explanation\\nWhy the edits made under my usern...</td>\n",
       "      <td>0</td>\n",
       "      <td>explanation edits made username hardcore metal...</td>\n",
       "    </tr>\n",
       "    <tr>\n",
       "      <th>1</th>\n",
       "      <td>D'aww! He matches this background colour I'm s...</td>\n",
       "      <td>0</td>\n",
       "      <td>d'aww match background colour 'm seemingly stu...</td>\n",
       "    </tr>\n",
       "    <tr>\n",
       "      <th>2</th>\n",
       "      <td>Hey man, I'm really not trying to edit war. It...</td>\n",
       "      <td>0</td>\n",
       "      <td>hey man 'm really trying edit war 's guy const...</td>\n",
       "    </tr>\n",
       "    <tr>\n",
       "      <th>3</th>\n",
       "      <td>\"\\nMore\\nI can't make any real suggestions on ...</td>\n",
       "      <td>0</td>\n",
       "      <td>ca n't make real suggestion improvement wonder...</td>\n",
       "    </tr>\n",
       "    <tr>\n",
       "      <th>4</th>\n",
       "      <td>You, sir, are my hero. Any chance you remember...</td>\n",
       "      <td>0</td>\n",
       "      <td>sir hero chance remember page 's</td>\n",
       "    </tr>\n",
       "  </tbody>\n",
       "</table>\n",
       "</div>"
      ],
      "text/plain": [
       "                                                text  toxic  \\\n",
       "0  Explanation\\nWhy the edits made under my usern...      0   \n",
       "1  D'aww! He matches this background colour I'm s...      0   \n",
       "2  Hey man, I'm really not trying to edit war. It...      0   \n",
       "3  \"\\nMore\\nI can't make any real suggestions on ...      0   \n",
       "4  You, sir, are my hero. Any chance you remember...      0   \n",
       "\n",
       "                                           lemm_text  \n",
       "0  explanation edits made username hardcore metal...  \n",
       "1  d'aww match background colour 'm seemingly stu...  \n",
       "2  hey man 'm really trying edit war 's guy const...  \n",
       "3  ca n't make real suggestion improvement wonder...  \n",
       "4                   sir hero chance remember page 's  "
      ]
     },
     "execution_count": 40,
     "metadata": {},
     "output_type": "execute_result"
    }
   ],
   "source": [
    "data.head()"
   ]
  },
  {
   "cell_type": "markdown",
   "metadata": {},
   "source": [
    "Текст лемматизирован"
   ]
  },
  {
   "cell_type": "code",
   "execution_count": 41,
   "metadata": {},
   "outputs": [],
   "source": [
    "toxic_comments = data.drop(['text'], axis=1)"
   ]
  },
  {
   "cell_type": "code",
   "execution_count": 42,
   "metadata": {},
   "outputs": [
    {
     "data": {
      "text/html": [
       "<div>\n",
       "<style scoped>\n",
       "    .dataframe tbody tr th:only-of-type {\n",
       "        vertical-align: middle;\n",
       "    }\n",
       "\n",
       "    .dataframe tbody tr th {\n",
       "        vertical-align: top;\n",
       "    }\n",
       "\n",
       "    .dataframe thead th {\n",
       "        text-align: right;\n",
       "    }\n",
       "</style>\n",
       "<table border=\"1\" class=\"dataframe\">\n",
       "  <thead>\n",
       "    <tr style=\"text-align: right;\">\n",
       "      <th></th>\n",
       "      <th>toxic</th>\n",
       "      <th>lemm_text</th>\n",
       "    </tr>\n",
       "  </thead>\n",
       "  <tbody>\n",
       "    <tr>\n",
       "      <th>0</th>\n",
       "      <td>0</td>\n",
       "      <td>explanation edits made username hardcore metal...</td>\n",
       "    </tr>\n",
       "    <tr>\n",
       "      <th>1</th>\n",
       "      <td>0</td>\n",
       "      <td>d'aww match background colour 'm seemingly stu...</td>\n",
       "    </tr>\n",
       "    <tr>\n",
       "      <th>2</th>\n",
       "      <td>0</td>\n",
       "      <td>hey man 'm really trying edit war 's guy const...</td>\n",
       "    </tr>\n",
       "    <tr>\n",
       "      <th>3</th>\n",
       "      <td>0</td>\n",
       "      <td>ca n't make real suggestion improvement wonder...</td>\n",
       "    </tr>\n",
       "    <tr>\n",
       "      <th>4</th>\n",
       "      <td>0</td>\n",
       "      <td>sir hero chance remember page 's</td>\n",
       "    </tr>\n",
       "    <tr>\n",
       "      <th>5</th>\n",
       "      <td>0</td>\n",
       "      <td>congratulation well use tool well talk</td>\n",
       "    </tr>\n",
       "    <tr>\n",
       "      <th>6</th>\n",
       "      <td>1</td>\n",
       "      <td>cocksucker piss around work</td>\n",
       "    </tr>\n",
       "    <tr>\n",
       "      <th>7</th>\n",
       "      <td>0</td>\n",
       "      <td>vandalism matt shirvington article reverted pl...</td>\n",
       "    </tr>\n",
       "    <tr>\n",
       "      <th>8</th>\n",
       "      <td>0</td>\n",
       "      <td>sorry word 'nonsense offensive anyway 'm inten...</td>\n",
       "    </tr>\n",
       "    <tr>\n",
       "      <th>9</th>\n",
       "      <td>0</td>\n",
       "      <td>alignment subject contrary dulithgow</td>\n",
       "    </tr>\n",
       "    <tr>\n",
       "      <th>10</th>\n",
       "      <td>0</td>\n",
       "      <td>fair use rationale image wonju.jpg thanks uplo...</td>\n",
       "    </tr>\n",
       "    <tr>\n",
       "      <th>11</th>\n",
       "      <td>0</td>\n",
       "      <td>bbq man let discus it-maybe phone</td>\n",
       "    </tr>\n",
       "    <tr>\n",
       "      <th>12</th>\n",
       "      <td>1</td>\n",
       "      <td>hey talk exclusive group wp taliban good destr...</td>\n",
       "    </tr>\n",
       "    <tr>\n",
       "      <th>13</th>\n",
       "      <td>0</td>\n",
       "      <td>start throwing accusation warning let review e...</td>\n",
       "    </tr>\n",
       "    <tr>\n",
       "      <th>14</th>\n",
       "      <td>0</td>\n",
       "      <td>oh girl started argument stuck nose n't belong...</td>\n",
       "    </tr>\n",
       "  </tbody>\n",
       "</table>\n",
       "</div>"
      ],
      "text/plain": [
       "    toxic                                          lemm_text\n",
       "0       0  explanation edits made username hardcore metal...\n",
       "1       0  d'aww match background colour 'm seemingly stu...\n",
       "2       0  hey man 'm really trying edit war 's guy const...\n",
       "3       0  ca n't make real suggestion improvement wonder...\n",
       "4       0                   sir hero chance remember page 's\n",
       "5       0             congratulation well use tool well talk\n",
       "6       1                        cocksucker piss around work\n",
       "7       0  vandalism matt shirvington article reverted pl...\n",
       "8       0  sorry word 'nonsense offensive anyway 'm inten...\n",
       "9       0               alignment subject contrary dulithgow\n",
       "10      0  fair use rationale image wonju.jpg thanks uplo...\n",
       "11      0                  bbq man let discus it-maybe phone\n",
       "12      1  hey talk exclusive group wp taliban good destr...\n",
       "13      0  start throwing accusation warning let review e...\n",
       "14      0  oh girl started argument stuck nose n't belong..."
      ]
     },
     "execution_count": 42,
     "metadata": {},
     "output_type": "execute_result"
    }
   ],
   "source": [
    "toxic_comments.head(15)"
   ]
  },
  {
   "cell_type": "markdown",
   "metadata": {},
   "source": [
    "Разделим датасет на обущающую, валидационную и тестовую выборку"
   ]
  },
  {
   "cell_type": "code",
   "execution_count": 43,
   "metadata": {},
   "outputs": [],
   "source": [
    "train, valid = train_test_split(toxic_comments,\n",
    "                               test_size=0.3,\n",
    "                               random_state = rnd_st)\n",
    "\n",
    "valid, test = train_test_split(valid,\n",
    "                               test_size=0.5,\n",
    "                               random_state = rnd_st)"
   ]
  },
  {
   "cell_type": "code",
   "execution_count": 44,
   "metadata": {},
   "outputs": [
    {
     "name": "stdout",
     "output_type": "stream",
     "text": [
      "Размер обущающей выборки: (111699, 2)\n",
      "Размер валидационной выборки: (23936, 2)\n",
      "Размер тестовой выборки: (23936, 2)\n"
     ]
    }
   ],
   "source": [
    "print(f\"Размер обущающей выборки: {train.shape}\", f\"Размер валидационной выборки: {valid.shape}\", f\"Размер тестовой выборки: {test.shape}\", sep = \"\\n\")"
   ]
  },
  {
   "cell_type": "markdown",
   "metadata": {},
   "source": [
    "### Вывод:"
   ]
  },
  {
   "cell_type": "markdown",
   "metadata": {},
   "source": [
    "* Данные загружены\n",
    "* Пропусков и дубликатов не обнаружено\n",
    "* Текст был очистен и лемматизирован\n",
    "* Наблюдается дисбаланс классов, токсичных комментариев примерно 10% от всех\n",
    "* Исходный датасет был разбит на: обущающую, валидационную и тестовую выборку"
   ]
  },
  {
   "cell_type": "markdown",
   "metadata": {},
   "source": [
    "В качестве баланса класса, в дальнейшем буду использовать `Class weight` в моделях"
   ]
  },
  {
   "cell_type": "markdown",
   "metadata": {},
   "source": [
    "## Обучение"
   ]
  },
  {
   "cell_type": "markdown",
   "metadata": {},
   "source": [
    "### Подготовим выборки"
   ]
  },
  {
   "cell_type": "markdown",
   "metadata": {},
   "source": [
    "Подготовим тестовую выборку"
   ]
  },
  {
   "cell_type": "code",
   "execution_count": 45,
   "metadata": {},
   "outputs": [],
   "source": [
    "target_train = train['toxic']"
   ]
  },
  {
   "cell_type": "code",
   "execution_count": 46,
   "metadata": {},
   "outputs": [],
   "source": [
    "train_corpus = train['lemm_text']\n",
    "\n",
    "count_tf_idf = TfidfVectorizer(stop_words=stopwords)\n",
    "\n",
    "tfidf_train = count_tf_idf.fit_transform(train_corpus)"
   ]
  },
  {
   "cell_type": "markdown",
   "metadata": {},
   "source": [
    "Подготовим валидационную выборку"
   ]
  },
  {
   "cell_type": "code",
   "execution_count": 47,
   "metadata": {},
   "outputs": [],
   "source": [
    "valid_target = valid['toxic']\n",
    "\n",
    "valid_corpus = valid['lemm_text']\n",
    "\n",
    "tfidf_valid = count_tf_idf.transform(valid_corpus)"
   ]
  },
  {
   "cell_type": "markdown",
   "metadata": {},
   "source": [
    "### Логистическая регрессия"
   ]
  },
  {
   "cell_type": "code",
   "execution_count": 48,
   "metadata": {},
   "outputs": [
    {
     "name": "stdout",
     "output_type": "stream",
     "text": [
      "F1 модели равен: 0.7470313062252608\n",
      "Точность модели равна: 0.9412600267379679\n",
      "CPU times: user 18.8 s, sys: 21 s, total: 39.8 s\n",
      "Wall time: 40 s\n"
     ]
    }
   ],
   "source": [
    "%%time\n",
    "\n",
    "LR = LogisticRegression(class_weight='balanced', random_state = rnd_st)\n",
    "\n",
    "LR.fit(tfidf_train, target_train)\n",
    "\n",
    "lr_predicted = LR.predict(tfidf_valid)\n",
    "\n",
    "f1_lr = f1_score(valid_target, lr_predicted)\n",
    "accurace_lr = accuracy_score(valid_target, lr_predicted)\n",
    "\n",
    "print(f\"F1 модели равен: {f1_lr}\", f\"Точность модели равна: {accurace_lr}\", sep =\"\\n\")"
   ]
  },
  {
   "cell_type": "markdown",
   "metadata": {},
   "source": [
    "### DecisionTreeClassifier"
   ]
  },
  {
   "cell_type": "code",
   "execution_count": 30,
   "metadata": {},
   "outputs": [
    {
     "data": {
      "text/plain": [
       "'\\nclassificator = DecisionTreeClassifier()\\nhyperparams = [{\\'max_depth\\':[x for x in range(1,51)],\\n                \\'random_state\\':[12345],\\n                \\'class_weight\\':[\"balanced\"]}]\\n\\n\\nprint(\\'# Tuning hyper-parameters for f1_score\\')\\nprint()\\nclf = GridSearchCV(classificator, hyperparams, scoring=\\'f1\\',cv=5)\\nclf.fit(tfidf_train, target_train)\\nprint(\"Best parameters set found on development set:\")\\nprint()\\nDTC_best_params = clf.best_params_\\nprint(DTC_best_params)\\nprint()\\n'"
      ]
     },
     "execution_count": 30,
     "metadata": {},
     "output_type": "execute_result"
    }
   ],
   "source": [
    "\"\"\"\n",
    "classificator = DecisionTreeClassifier()\n",
    "hyperparams = [{'max_depth':[x for x in range(1,51)],\n",
    "                'random_state':[12345],\n",
    "                'class_weight':[\"balanced\"]}]\n",
    "\n",
    "\n",
    "print('# Tuning hyper-parameters for f1_score')\n",
    "print()\n",
    "clf = GridSearchCV(classificator, hyperparams, scoring='f1',cv=5)\n",
    "clf.fit(tfidf_train, target_train)\n",
    "print(\"Best parameters set found on development set:\")\n",
    "print()\n",
    "DTC_best_params = clf.best_params_\n",
    "print(DTC_best_params)\n",
    "print()\n",
    "\"\"\""
   ]
  },
  {
   "cell_type": "code",
   "execution_count": 49,
   "metadata": {},
   "outputs": [
    {
     "name": "stdout",
     "output_type": "stream",
     "text": [
      "F1 модели равен: 0.6246354049809288\n",
      "Точность модели равна: 0.930105280748663\n",
      "CPU times: user 24.1 s, sys: 25.8 ms, total: 24.1 s\n",
      "Wall time: 24.1 s\n"
     ]
    }
   ],
   "source": [
    "%%time\n",
    "\n",
    "DTC = DecisionTreeClassifier(class_weight='balanced', random_state = rnd_st, max_depth = 32)\n",
    "\n",
    "DTC.fit(tfidf_train, target_train)\n",
    "\n",
    "dtc_predicted = DTC.predict(tfidf_valid)\n",
    "\n",
    "f1_dtc = f1_score(valid_target, dtc_predicted)\n",
    "accurace_dtc = accuracy_score(valid_target, dtc_predicted)\n",
    "\n",
    "print(f\"F1 модели равен: {f1_dtc}\", f\"Точность модели равна: {accurace_dtc}\", sep =\"\\n\")"
   ]
  },
  {
   "cell_type": "markdown",
   "metadata": {},
   "source": [
    "### CatBoostClassifier"
   ]
  },
  {
   "cell_type": "code",
   "execution_count": 32,
   "metadata": {},
   "outputs": [
    {
     "data": {
      "text/plain": [
       "'\\n%%time\\n\\nclassificator = CatBoostClassifier(iterations=100, class_weights=\\'balanced\\',random_state = rnd_st)\\n\\nclassificator.fit(tfidf_train, target_train)\\n\\ntarget_predict = classificator.predict(tfidf_valid)\\n\\nf1_cbc = f1_score(valid_target, target_predict)\\naccurace_cbc = accuracy_score(valid_target, target_predict)\\n\\nprint(f\"F1 модели равен: {f1_cbc}\", f\"Точность модели равна: {accurace_cbc}\", sep =\"\\n\")\\n'"
      ]
     },
     "execution_count": 32,
     "metadata": {},
     "output_type": "execute_result"
    }
   ],
   "source": [
    "\"\"\"\n",
    "%%time\n",
    "\n",
    "classificator = CatBoostClassifier(iterations=100, class_weights='balanced',random_state = rnd_st)\n",
    "\n",
    "classificator.fit(tfidf_train, target_train)\n",
    "\n",
    "target_predict = classificator.predict(tfidf_valid)\n",
    "\n",
    "f1_cbc = f1_score(valid_target, target_predict)\n",
    "accurace_cbc = accuracy_score(valid_target, target_predict)\n",
    "\n",
    "print(f\"F1 модели равен: {f1_cbc}\", f\"Точность модели равна: {accurace_cbc}\", sep =\"\\n\")\n",
    "\"\"\""
   ]
  },
  {
   "cell_type": "markdown",
   "metadata": {},
   "source": [
    "CatBoost убивает ядро. Не понимаю из-за чего"
   ]
  },
  {
   "cell_type": "markdown",
   "metadata": {},
   "source": [
    "### RidgeClassifier"
   ]
  },
  {
   "cell_type": "code",
   "execution_count": 50,
   "metadata": {},
   "outputs": [
    {
     "name": "stdout",
     "output_type": "stream",
     "text": [
      "F1 модели равен: 0.2700093653195014\n",
      "Точность модели равна: 0.5766627673796791\n",
      "CPU times: user 10 s, sys: 14.2 s, total: 24.3 s\n",
      "Wall time: 24.3 s\n"
     ]
    }
   ],
   "source": [
    "%%time\n",
    "\n",
    "model_clf = RidgeClassifier(class_weight = \"balanced\",random_state = rnd_st)\n",
    "\n",
    "model_clf.fit(tfidf_train, target_train)\n",
    "\n",
    "predicted_clf = model_clf.predict(tfidf_valid)\n",
    "\n",
    "f1_clf = f1_score(valid_target, predicted_clf)\n",
    "accurace_clf = accuracy_score(valid_target, predicted_clf)\n",
    "print(f\"F1 модели равен: {f1_clf}\", f\"Точность модели равна: {accurace_clf}\", sep =\"\\n\")"
   ]
  },
  {
   "cell_type": "markdown",
   "metadata": {},
   "source": [
    "### LinearSVC"
   ]
  },
  {
   "cell_type": "code",
   "execution_count": 51,
   "metadata": {},
   "outputs": [
    {
     "name": "stdout",
     "output_type": "stream",
     "text": [
      "F1 модели равен: 0.7805985552115584\n",
      "Точность модели равна: 0.5766627673796791\n",
      "CPU times: user 314 ms, sys: 23.8 ms, total: 338 ms\n",
      "Wall time: 344 ms\n"
     ]
    }
   ],
   "source": [
    "%%time\n",
    "\n",
    "model_svc = LinearSVC(random_state = rnd_st, C = 2.5, max_iter = 5, class_weight = \"balanced\")\n",
    "\n",
    "model_svc.fit(tfidf_train, target_train)\n",
    "\n",
    "predicted_svc = model_svc.predict(tfidf_valid)\n",
    "\n",
    "f1_svc = f1_score(valid_target, predicted_svc)\n",
    "accurace_svc = accuracy_score(valid_target, predicted_clf)\n",
    "\n",
    "print(f\"F1 модели равен: {f1_svc}\", f\"Точность модели равна: {accurace_svc}\", sep =\"\\n\")"
   ]
  },
  {
   "cell_type": "markdown",
   "metadata": {},
   "source": [
    "### Вывод:"
   ]
  },
  {
   "cell_type": "markdown",
   "metadata": {},
   "source": [
    "* Были протестированы разные моедли\n",
    "* Значение F1 по условию преодалели только 2 модели: LinearSVC и LogisticRegression.\n",
    "* Наилучшее значение получилось у LinearSVC: F1 = 0.7902374670184698"
   ]
  },
  {
   "cell_type": "markdown",
   "metadata": {},
   "source": [
    "## Тест"
   ]
  },
  {
   "cell_type": "markdown",
   "metadata": {},
   "source": [
    "### Проверка модели на тестовой выборке "
   ]
  },
  {
   "cell_type": "code",
   "execution_count": 52,
   "metadata": {},
   "outputs": [],
   "source": [
    "target_test = test['toxic']"
   ]
  },
  {
   "cell_type": "code",
   "execution_count": 53,
   "metadata": {},
   "outputs": [],
   "source": [
    "test_corpus = test['lemm_text']"
   ]
  },
  {
   "cell_type": "code",
   "execution_count": 54,
   "metadata": {},
   "outputs": [],
   "source": [
    "tfidf_test = count_tf_idf.transform(test_corpus)"
   ]
  },
  {
   "cell_type": "code",
   "execution_count": 55,
   "metadata": {},
   "outputs": [
    {
     "name": "stdout",
     "output_type": "stream",
     "text": [
      "F1 модели равен: 0.7739165985282093\n",
      "Точность модели равна: 0.9537934491978609\n"
     ]
    }
   ],
   "source": [
    "predicted_svc_test = model_svc.predict(tfidf_test)\n",
    "\n",
    "f1_svc_test = f1_score(target_test, predicted_svc_test)\n",
    "accurace_svc_test = accuracy_score(target_test, predicted_svc_test)\n",
    "\n",
    "print(f\"F1 модели равен: {f1_svc_test}\", f\"Точность модели равна: {accurace_svc_test}\", sep =\"\\n\")"
   ]
  },
  {
   "cell_type": "markdown",
   "metadata": {},
   "source": [
    "На тесте значение F1 получилось выше 0.75, что соответствует условию задания"
   ]
  },
  {
   "cell_type": "markdown",
   "metadata": {},
   "source": [
    "### Итоговая таблица"
   ]
  },
  {
   "cell_type": "code",
   "execution_count": 39,
   "metadata": {},
   "outputs": [],
   "source": [
    "data_itog = pd.DataFrame({\"Model\":[\"LogisticRegression\",\n",
    "                                   \"DecisionTreeClassifier\",\n",
    "                                  \"RidgeClassifier\",\n",
    "                                  \"LinearSVC\",\n",
    "                                  \"LinearSVC_test\"],\n",
    "                          \"F1\":[f1_lr,f1_dtc,f1_clf,f1_svc,f1_svc_test],\n",
    "                          \"Accurace\":[accurace_lr,accurace_dtc,accurace_clf,accurace_svc,accurace_svc_test]\n",
    "                         })"
   ]
  },
  {
   "cell_type": "code",
   "execution_count": 40,
   "metadata": {},
   "outputs": [
    {
     "data": {
      "text/html": [
       "<div>\n",
       "<style scoped>\n",
       "    .dataframe tbody tr th:only-of-type {\n",
       "        vertical-align: middle;\n",
       "    }\n",
       "\n",
       "    .dataframe tbody tr th {\n",
       "        vertical-align: top;\n",
       "    }\n",
       "\n",
       "    .dataframe thead th {\n",
       "        text-align: right;\n",
       "    }\n",
       "</style>\n",
       "<table border=\"1\" class=\"dataframe\">\n",
       "  <thead>\n",
       "    <tr style=\"text-align: right;\">\n",
       "      <th></th>\n",
       "      <th>Model</th>\n",
       "      <th>F1</th>\n",
       "      <th>Accurace</th>\n",
       "    </tr>\n",
       "  </thead>\n",
       "  <tbody>\n",
       "    <tr>\n",
       "      <th>3</th>\n",
       "      <td>LinearSVC</td>\n",
       "      <td>0.780599</td>\n",
       "      <td>0.576663</td>\n",
       "    </tr>\n",
       "    <tr>\n",
       "      <th>4</th>\n",
       "      <td>LinearSVC_test</td>\n",
       "      <td>0.773917</td>\n",
       "      <td>0.953793</td>\n",
       "    </tr>\n",
       "    <tr>\n",
       "      <th>0</th>\n",
       "      <td>LogisticRegression</td>\n",
       "      <td>0.747031</td>\n",
       "      <td>0.941260</td>\n",
       "    </tr>\n",
       "    <tr>\n",
       "      <th>1</th>\n",
       "      <td>DecisionTreeClassifier</td>\n",
       "      <td>0.624635</td>\n",
       "      <td>0.930105</td>\n",
       "    </tr>\n",
       "    <tr>\n",
       "      <th>2</th>\n",
       "      <td>RidgeClassifier</td>\n",
       "      <td>0.270009</td>\n",
       "      <td>0.576663</td>\n",
       "    </tr>\n",
       "  </tbody>\n",
       "</table>\n",
       "</div>"
      ],
      "text/plain": [
       "                    Model        F1  Accurace\n",
       "3               LinearSVC  0.780599  0.576663\n",
       "4          LinearSVC_test  0.773917  0.953793\n",
       "0      LogisticRegression  0.747031  0.941260\n",
       "1  DecisionTreeClassifier  0.624635  0.930105\n",
       "2         RidgeClassifier  0.270009  0.576663"
      ]
     },
     "execution_count": 40,
     "metadata": {},
     "output_type": "execute_result"
    }
   ],
   "source": [
    "data_itog.sort_values(by = \"F1\",ascending = False)"
   ]
  },
  {
   "cell_type": "markdown",
   "metadata": {},
   "source": [
    "## Выводы"
   ]
  },
  {
   "cell_type": "markdown",
   "metadata": {},
   "source": [
    "* Были загружены данные и проанализированы. В итоге найден дисбаланс классов: токсичных комментариев составляет примерно 10% от всех комментариев. Пропусков и дубликатов не обнаружено;\n",
    "* Текст был очистен и лемматизирован;\n",
    "* Исходный датасет был разбит на: обущающую, валидационную и тестовую выборку;\n",
    "* Протестированы различные модели. Наилучший результат показала LinearSVC. F1 составил 0.790237;\n",
    "* На тесте данная модель показала значение F1 = 0.780296, что соответствует условию задания."
   ]
  }
 ],
 "metadata": {
  "ExecuteTimeLog": [
   {
    "duration": 1262,
    "start_time": "2022-07-18T13:34:34.357Z"
   },
   {
    "duration": 2396,
    "start_time": "2022-07-18T13:34:35.621Z"
   },
   {
    "duration": 31,
    "start_time": "2022-07-18T13:43:15.292Z"
   },
   {
    "duration": 107,
    "start_time": "2022-07-18T13:43:20.710Z"
   },
   {
    "duration": 15,
    "start_time": "2022-07-18T13:43:23.565Z"
   },
   {
    "duration": 6,
    "start_time": "2022-07-18T13:43:43.457Z"
   },
   {
    "duration": 27,
    "start_time": "2022-07-18T13:44:44.171Z"
   },
   {
    "duration": 11,
    "start_time": "2022-07-18T13:44:50.263Z"
   },
   {
    "duration": 231,
    "start_time": "2022-07-18T13:44:54.523Z"
   },
   {
    "duration": 276,
    "start_time": "2022-07-18T13:47:40.343Z"
   },
   {
    "duration": 5,
    "start_time": "2022-07-18T13:48:46.814Z"
   },
   {
    "duration": 50,
    "start_time": "2022-07-18T13:49:31.469Z"
   },
   {
    "duration": 4,
    "start_time": "2022-07-18T13:49:35.372Z"
   },
   {
    "duration": 4,
    "start_time": "2022-07-18T13:49:46.121Z"
   },
   {
    "duration": 60741,
    "start_time": "2022-07-18T13:50:32.228Z"
   },
   {
    "duration": 0,
    "start_time": "2022-07-18T13:51:32.970Z"
   },
   {
    "duration": 3,
    "start_time": "2022-07-18T13:52:23.970Z"
   },
   {
    "duration": 2,
    "start_time": "2022-07-18T13:52:26.529Z"
   },
   {
    "duration": 21,
    "start_time": "2022-07-18T13:52:43.167Z"
   },
   {
    "duration": 3859,
    "start_time": "2022-07-18T13:53:02.477Z"
   },
   {
    "duration": 9,
    "start_time": "2022-07-18T13:53:17.973Z"
   },
   {
    "duration": 135899,
    "start_time": "2022-07-18T13:53:36.747Z"
   },
   {
    "duration": 0,
    "start_time": "2022-07-18T13:55:52.648Z"
   },
   {
    "duration": 9,
    "start_time": "2022-07-18T13:56:09.340Z"
   },
   {
    "duration": 10,
    "start_time": "2022-07-18T13:56:21.849Z"
   },
   {
    "duration": 8,
    "start_time": "2022-07-18T13:56:32.876Z"
   },
   {
    "duration": 1228,
    "start_time": "2022-07-18T14:01:52.722Z"
   },
   {
    "duration": 885,
    "start_time": "2022-07-18T14:01:53.953Z"
   },
   {
    "duration": 34,
    "start_time": "2022-07-18T14:01:54.840Z"
   },
   {
    "duration": 14,
    "start_time": "2022-07-18T14:01:54.875Z"
   },
   {
    "duration": 7,
    "start_time": "2022-07-18T14:01:54.892Z"
   },
   {
    "duration": 30,
    "start_time": "2022-07-18T14:01:54.925Z"
   },
   {
    "duration": 231,
    "start_time": "2022-07-18T14:01:54.957Z"
   },
   {
    "duration": 186,
    "start_time": "2022-07-18T14:01:55.190Z"
   },
   {
    "duration": 4,
    "start_time": "2022-07-18T14:01:55.377Z"
   },
   {
    "duration": 3856,
    "start_time": "2022-07-18T14:01:55.382Z"
   },
   {
    "duration": 1263,
    "start_time": "2022-07-18T14:02:14.122Z"
   },
   {
    "duration": 857,
    "start_time": "2022-07-18T14:02:15.387Z"
   },
   {
    "duration": 34,
    "start_time": "2022-07-18T14:02:16.245Z"
   },
   {
    "duration": 15,
    "start_time": "2022-07-18T14:02:16.281Z"
   },
   {
    "duration": 27,
    "start_time": "2022-07-18T14:02:16.298Z"
   },
   {
    "duration": 34,
    "start_time": "2022-07-18T14:02:16.327Z"
   },
   {
    "duration": 233,
    "start_time": "2022-07-18T14:02:16.363Z"
   },
   {
    "duration": 204,
    "start_time": "2022-07-18T14:02:16.598Z"
   },
   {
    "duration": 4,
    "start_time": "2022-07-18T14:02:16.804Z"
   },
   {
    "duration": 3784,
    "start_time": "2022-07-18T14:02:16.810Z"
   },
   {
    "duration": 7,
    "start_time": "2022-07-18T14:02:20.595Z"
   },
   {
    "duration": 963730,
    "start_time": "2022-07-18T14:02:20.604Z"
   },
   {
    "duration": 0,
    "start_time": "2022-07-18T14:18:24.336Z"
   },
   {
    "duration": 2,
    "start_time": "2022-07-18T14:18:38.899Z"
   },
   {
    "duration": 2,
    "start_time": "2022-07-18T14:18:41.615Z"
   },
   {
    "duration": 3,
    "start_time": "2022-07-18T14:18:45.723Z"
   },
   {
    "duration": 5,
    "start_time": "2022-07-18T14:18:56.005Z"
   },
   {
    "duration": 86542,
    "start_time": "2022-07-18T14:19:21.556Z"
   },
   {
    "duration": 8,
    "start_time": "2022-07-18T14:21:00.383Z"
   },
   {
    "duration": 1315,
    "start_time": "2022-07-18T14:21:17.505Z"
   },
   {
    "duration": 859,
    "start_time": "2022-07-18T14:21:18.822Z"
   },
   {
    "duration": 31,
    "start_time": "2022-07-18T14:21:19.682Z"
   },
   {
    "duration": 19,
    "start_time": "2022-07-18T14:21:19.715Z"
   },
   {
    "duration": 7,
    "start_time": "2022-07-18T14:21:19.736Z"
   },
   {
    "duration": 28,
    "start_time": "2022-07-18T14:21:19.744Z"
   },
   {
    "duration": 234,
    "start_time": "2022-07-18T14:21:19.773Z"
   },
   {
    "duration": 198,
    "start_time": "2022-07-18T14:21:20.009Z"
   },
   {
    "duration": 86538,
    "start_time": "2022-07-18T14:21:20.208Z"
   },
   {
    "duration": 8,
    "start_time": "2022-07-18T14:22:46.748Z"
   },
   {
    "duration": 56,
    "start_time": "2022-07-20T11:35:04.452Z"
   },
   {
    "duration": 1907,
    "start_time": "2022-07-20T11:35:11.553Z"
   },
   {
    "duration": 3448,
    "start_time": "2022-07-20T11:35:13.462Z"
   },
   {
    "duration": 32,
    "start_time": "2022-07-20T11:35:16.911Z"
   },
   {
    "duration": 13,
    "start_time": "2022-07-20T11:35:16.945Z"
   },
   {
    "duration": 5,
    "start_time": "2022-07-20T11:35:16.960Z"
   },
   {
    "duration": 42,
    "start_time": "2022-07-20T11:35:16.966Z"
   },
   {
    "duration": 213,
    "start_time": "2022-07-20T11:35:17.009Z"
   },
   {
    "duration": 525,
    "start_time": "2022-07-20T11:35:17.224Z"
   },
   {
    "duration": 94669,
    "start_time": "2022-07-20T11:35:17.750Z"
   },
   {
    "duration": 9,
    "start_time": "2022-07-20T11:36:52.420Z"
   },
   {
    "duration": 85,
    "start_time": "2022-07-20T11:36:52.430Z"
   },
   {
    "duration": 416,
    "start_time": "2022-07-20T11:37:14.180Z"
   },
   {
    "duration": 794,
    "start_time": "2022-07-20T11:53:36.658Z"
   },
   {
    "duration": 111,
    "start_time": "2022-07-20T11:54:00.038Z"
   },
   {
    "duration": 101,
    "start_time": "2022-07-20T11:54:07.368Z"
   },
   {
    "duration": 10,
    "start_time": "2022-07-20T11:55:47.974Z"
   },
   {
    "duration": 60,
    "start_time": "2022-07-20T12:12:03.450Z"
   },
   {
    "duration": 7,
    "start_time": "2022-07-20T12:12:13.796Z"
   },
   {
    "duration": 113,
    "start_time": "2022-07-20T12:13:36.766Z"
   },
   {
    "duration": 123,
    "start_time": "2022-07-20T12:15:22.922Z"
   },
   {
    "duration": 5,
    "start_time": "2022-07-20T12:15:28.120Z"
   },
   {
    "duration": 30,
    "start_time": "2022-07-20T12:15:41.814Z"
   },
   {
    "duration": 10,
    "start_time": "2022-07-20T12:16:19.547Z"
   },
   {
    "duration": 3,
    "start_time": "2022-07-20T12:16:28.184Z"
   },
   {
    "duration": 36,
    "start_time": "2022-07-20T12:16:39.439Z"
   },
   {
    "duration": 4,
    "start_time": "2022-07-20T12:16:39.653Z"
   },
   {
    "duration": 78,
    "start_time": "2022-07-20T12:17:11.991Z"
   },
   {
    "duration": 4,
    "start_time": "2022-07-20T12:17:16.494Z"
   },
   {
    "duration": 3,
    "start_time": "2022-07-20T12:17:20.624Z"
   },
   {
    "duration": 3,
    "start_time": "2022-07-20T12:17:32.703Z"
   },
   {
    "duration": 4,
    "start_time": "2022-07-20T12:18:16.154Z"
   },
   {
    "duration": 3,
    "start_time": "2022-07-20T12:19:59.541Z"
   },
   {
    "duration": 4,
    "start_time": "2022-07-20T12:20:07.425Z"
   },
   {
    "duration": 32,
    "start_time": "2022-07-20T12:20:18.822Z"
   },
   {
    "duration": 4,
    "start_time": "2022-07-20T12:20:19.175Z"
   },
   {
    "duration": 5,
    "start_time": "2022-07-20T12:26:44.163Z"
   },
   {
    "duration": 8,
    "start_time": "2022-07-20T12:30:46.420Z"
   },
   {
    "duration": 3,
    "start_time": "2022-07-20T12:31:10.972Z"
   },
   {
    "duration": 7837,
    "start_time": "2022-07-20T12:31:32.439Z"
   },
   {
    "duration": 1825,
    "start_time": "2022-07-20T12:32:10.800Z"
   },
   {
    "duration": 44377,
    "start_time": "2022-07-20T12:37:17.833Z"
   },
   {
    "duration": 10892,
    "start_time": "2022-07-20T12:38:14.172Z"
   },
   {
    "duration": 43433,
    "start_time": "2022-07-20T12:38:29.084Z"
   },
   {
    "duration": 43597,
    "start_time": "2022-07-20T12:39:32.109Z"
   },
   {
    "duration": 11,
    "start_time": "2022-07-20T12:42:22.031Z"
   },
   {
    "duration": 290,
    "start_time": "2022-07-20T12:52:34.923Z"
   },
   {
    "duration": 5,
    "start_time": "2022-07-20T12:53:14.289Z"
   },
   {
    "duration": 18,
    "start_time": "2022-07-20T12:53:59.820Z"
   },
   {
    "duration": 13,
    "start_time": "2022-07-20T12:54:14.018Z"
   },
   {
    "duration": 24288,
    "start_time": "2022-07-20T12:54:33.051Z"
   },
   {
    "duration": 1741766,
    "start_time": "2022-07-20T12:54:58.848Z"
   },
   {
    "duration": 27622,
    "start_time": "2022-07-20T13:37:19.273Z"
   },
   {
    "duration": 3,
    "start_time": "2022-07-20T13:49:00.373Z"
   },
   {
    "duration": 2811,
    "start_time": "2022-07-20T13:50:20.754Z"
   },
   {
    "duration": 3354,
    "start_time": "2022-07-20T13:50:23.567Z"
   },
   {
    "duration": 33,
    "start_time": "2022-07-20T13:50:26.922Z"
   },
   {
    "duration": 14,
    "start_time": "2022-07-20T13:50:26.957Z"
   },
   {
    "duration": 6,
    "start_time": "2022-07-20T13:50:26.973Z"
   },
   {
    "duration": 465,
    "start_time": "2022-07-20T13:50:26.981Z"
   },
   {
    "duration": 29,
    "start_time": "2022-07-20T13:50:27.448Z"
   },
   {
    "duration": 258,
    "start_time": "2022-07-20T13:50:27.479Z"
   },
   {
    "duration": 258,
    "start_time": "2022-07-20T13:50:27.739Z"
   },
   {
    "duration": 112795,
    "start_time": "2022-07-20T13:50:27.999Z"
   },
   {
    "duration": 9,
    "start_time": "2022-07-20T13:52:20.803Z"
   },
   {
    "duration": 78,
    "start_time": "2022-07-20T13:52:20.814Z"
   },
   {
    "duration": 89,
    "start_time": "2022-07-20T13:52:20.894Z"
   },
   {
    "duration": 81,
    "start_time": "2022-07-20T13:52:20.985Z"
   },
   {
    "duration": 4,
    "start_time": "2022-07-20T13:52:21.067Z"
   },
   {
    "duration": 50,
    "start_time": "2022-07-20T13:52:21.073Z"
   },
   {
    "duration": 8007,
    "start_time": "2022-07-20T13:52:21.125Z"
   },
   {
    "duration": 1683,
    "start_time": "2022-07-20T13:52:29.134Z"
   },
   {
    "duration": 43096,
    "start_time": "2022-07-20T13:52:30.818Z"
   },
   {
    "duration": 1707131,
    "start_time": "2022-07-20T13:53:13.916Z"
   },
   {
    "duration": 26540,
    "start_time": "2022-07-20T14:21:41.049Z"
   },
   {
    "duration": 179,
    "start_time": "2022-07-20T14:28:37.124Z"
   },
   {
    "duration": 93,
    "start_time": "2022-07-20T14:28:44.075Z"
   },
   {
    "duration": 2112,
    "start_time": "2022-07-20T14:29:03.304Z"
   },
   {
    "duration": 3269,
    "start_time": "2022-07-20T14:29:05.418Z"
   },
   {
    "duration": 39,
    "start_time": "2022-07-20T14:29:08.688Z"
   },
   {
    "duration": 19,
    "start_time": "2022-07-20T14:29:08.729Z"
   },
   {
    "duration": 7,
    "start_time": "2022-07-20T14:29:08.751Z"
   },
   {
    "duration": 468,
    "start_time": "2022-07-20T14:29:08.759Z"
   },
   {
    "duration": 30,
    "start_time": "2022-07-20T14:29:09.229Z"
   },
   {
    "duration": 302,
    "start_time": "2022-07-20T14:29:09.261Z"
   },
   {
    "duration": 189,
    "start_time": "2022-07-20T14:29:09.565Z"
   },
   {
    "duration": 99699,
    "start_time": "2022-07-20T14:29:09.756Z"
   },
   {
    "duration": 9,
    "start_time": "2022-07-20T14:30:49.456Z"
   },
   {
    "duration": 54,
    "start_time": "2022-07-20T14:30:49.467Z"
   },
   {
    "duration": 7,
    "start_time": "2022-07-20T14:30:49.522Z"
   },
   {
    "duration": 40,
    "start_time": "2022-07-20T14:30:49.532Z"
   },
   {
    "duration": 3,
    "start_time": "2022-07-20T14:30:49.574Z"
   },
   {
    "duration": 5,
    "start_time": "2022-07-20T14:30:49.579Z"
   },
   {
    "duration": 7934,
    "start_time": "2022-07-20T14:30:49.603Z"
   },
   {
    "duration": 1551,
    "start_time": "2022-07-20T14:30:57.538Z"
   },
   {
    "duration": 43714,
    "start_time": "2022-07-20T14:30:59.090Z"
   },
   {
    "duration": 5,
    "start_time": "2022-07-20T14:31:42.806Z"
   },
   {
    "duration": 27104,
    "start_time": "2022-07-20T14:31:42.812Z"
   },
   {
    "duration": 2157,
    "start_time": "2022-07-20T14:38:23.573Z"
   },
   {
    "duration": 3187,
    "start_time": "2022-07-20T14:38:25.732Z"
   },
   {
    "duration": 33,
    "start_time": "2022-07-20T14:38:28.921Z"
   },
   {
    "duration": 13,
    "start_time": "2022-07-20T14:38:28.956Z"
   },
   {
    "duration": 6,
    "start_time": "2022-07-20T14:38:28.972Z"
   },
   {
    "duration": 471,
    "start_time": "2022-07-20T14:38:28.979Z"
   },
   {
    "duration": 28,
    "start_time": "2022-07-20T14:38:29.452Z"
   },
   {
    "duration": 259,
    "start_time": "2022-07-20T14:38:29.481Z"
   },
   {
    "duration": 192,
    "start_time": "2022-07-20T14:38:29.742Z"
   },
   {
    "duration": 96606,
    "start_time": "2022-07-20T14:38:29.937Z"
   },
   {
    "duration": 10,
    "start_time": "2022-07-20T14:40:06.546Z"
   },
   {
    "duration": 51,
    "start_time": "2022-07-20T14:40:06.557Z"
   },
   {
    "duration": 9,
    "start_time": "2022-07-20T14:40:06.610Z"
   },
   {
    "duration": 54,
    "start_time": "2022-07-20T14:40:06.622Z"
   },
   {
    "duration": 5,
    "start_time": "2022-07-20T14:40:06.679Z"
   },
   {
    "duration": 20,
    "start_time": "2022-07-20T14:40:06.686Z"
   },
   {
    "duration": 7810,
    "start_time": "2022-07-20T14:40:06.708Z"
   },
   {
    "duration": 1693,
    "start_time": "2022-07-20T14:40:14.520Z"
   },
   {
    "duration": 42192,
    "start_time": "2022-07-20T14:40:16.214Z"
   },
   {
    "duration": 5,
    "start_time": "2022-07-20T14:40:58.408Z"
   },
   {
    "duration": 26018,
    "start_time": "2022-07-20T14:40:58.415Z"
   },
   {
    "duration": 1972,
    "start_time": "2022-07-20T14:43:57.454Z"
   },
   {
    "duration": 3329,
    "start_time": "2022-07-20T14:43:59.428Z"
   },
   {
    "duration": 37,
    "start_time": "2022-07-20T14:44:02.760Z"
   },
   {
    "duration": 79,
    "start_time": "2022-07-20T14:44:02.799Z"
   },
   {
    "duration": 56,
    "start_time": "2022-07-20T14:44:02.880Z"
   },
   {
    "duration": 568,
    "start_time": "2022-07-20T14:44:02.938Z"
   },
   {
    "duration": 29,
    "start_time": "2022-07-20T14:44:03.508Z"
   },
   {
    "duration": 250,
    "start_time": "2022-07-20T14:44:03.539Z"
   },
   {
    "duration": 244,
    "start_time": "2022-07-20T14:44:03.791Z"
   },
   {
    "duration": 99004,
    "start_time": "2022-07-20T14:44:04.037Z"
   },
   {
    "duration": 10,
    "start_time": "2022-07-20T14:45:43.043Z"
   },
   {
    "duration": 66,
    "start_time": "2022-07-20T14:45:43.055Z"
   },
   {
    "duration": 29,
    "start_time": "2022-07-20T14:45:43.122Z"
   },
   {
    "duration": 63,
    "start_time": "2022-07-20T14:45:43.155Z"
   },
   {
    "duration": 3,
    "start_time": "2022-07-20T14:45:43.220Z"
   },
   {
    "duration": 20,
    "start_time": "2022-07-20T14:45:43.225Z"
   },
   {
    "duration": 7841,
    "start_time": "2022-07-20T14:45:43.246Z"
   },
   {
    "duration": 1542,
    "start_time": "2022-07-20T14:45:51.089Z"
   },
   {
    "duration": 43173,
    "start_time": "2022-07-20T14:45:52.633Z"
   },
   {
    "duration": 5,
    "start_time": "2022-07-20T14:46:35.808Z"
   },
   {
    "duration": 27475,
    "start_time": "2022-07-20T14:46:35.814Z"
   },
   {
    "duration": 4,
    "start_time": "2022-07-20T14:47:03.290Z"
   },
   {
    "duration": 5,
    "start_time": "2022-07-20T14:48:43.814Z"
   },
   {
    "duration": 10557,
    "start_time": "2022-07-20T14:48:58.653Z"
   },
   {
    "duration": 9924,
    "start_time": "2022-07-20T14:49:16.782Z"
   },
   {
    "duration": 12621,
    "start_time": "2022-07-20T14:50:02.984Z"
   },
   {
    "duration": 82,
    "start_time": "2022-07-20T14:51:11.871Z"
   },
   {
    "duration": 5,
    "start_time": "2022-07-20T14:51:17.096Z"
   },
   {
    "duration": 86,
    "start_time": "2022-07-20T14:51:19.970Z"
   },
   {
    "duration": 4,
    "start_time": "2022-07-20T14:51:40.471Z"
   },
   {
    "duration": 99,
    "start_time": "2022-07-20T14:51:43.657Z"
   },
   {
    "duration": 11617,
    "start_time": "2022-07-20T14:52:02.389Z"
   },
   {
    "duration": 17997,
    "start_time": "2022-07-20T14:52:22.814Z"
   },
   {
    "duration": 5043,
    "start_time": "2022-07-20T14:53:14.300Z"
   },
   {
    "duration": 5607,
    "start_time": "2022-07-20T14:54:36.491Z"
   },
   {
    "duration": 5587,
    "start_time": "2022-07-20T14:55:45.065Z"
   },
   {
    "duration": 7608,
    "start_time": "2022-07-20T14:56:20.482Z"
   },
   {
    "duration": 348,
    "start_time": "2022-07-20T14:57:32.253Z"
   },
   {
    "duration": 92,
    "start_time": "2022-07-20T14:57:55.663Z"
   },
   {
    "duration": 83,
    "start_time": "2022-07-20T14:58:03.990Z"
   },
   {
    "duration": 1520,
    "start_time": "2022-07-20T14:58:27.181Z"
   },
   {
    "duration": 5,
    "start_time": "2022-07-20T14:58:55.911Z"
   },
   {
    "duration": 25,
    "start_time": "2022-07-20T15:00:08.473Z"
   },
   {
    "duration": 1369,
    "start_time": "2022-07-20T15:00:18.084Z"
   },
   {
    "duration": 2126,
    "start_time": "2022-07-20T15:00:46.599Z"
   },
   {
    "duration": 3242,
    "start_time": "2022-07-20T15:00:48.728Z"
   },
   {
    "duration": 32,
    "start_time": "2022-07-20T15:00:51.971Z"
   },
   {
    "duration": 12,
    "start_time": "2022-07-20T15:00:52.005Z"
   },
   {
    "duration": 17,
    "start_time": "2022-07-20T15:00:52.019Z"
   },
   {
    "duration": 420,
    "start_time": "2022-07-20T15:00:52.038Z"
   },
   {
    "duration": 26,
    "start_time": "2022-07-20T15:00:52.460Z"
   },
   {
    "duration": 246,
    "start_time": "2022-07-20T15:00:52.488Z"
   },
   {
    "duration": 204,
    "start_time": "2022-07-20T15:00:52.736Z"
   },
   {
    "duration": 102972,
    "start_time": "2022-07-20T15:00:52.942Z"
   },
   {
    "duration": 9,
    "start_time": "2022-07-20T15:02:35.916Z"
   },
   {
    "duration": 36,
    "start_time": "2022-07-20T15:02:35.927Z"
   },
   {
    "duration": 8,
    "start_time": "2022-07-20T15:02:35.965Z"
   },
   {
    "duration": 57,
    "start_time": "2022-07-20T15:02:35.976Z"
   },
   {
    "duration": 4,
    "start_time": "2022-07-20T15:02:36.035Z"
   },
   {
    "duration": 8,
    "start_time": "2022-07-20T15:02:36.040Z"
   },
   {
    "duration": 7980,
    "start_time": "2022-07-20T15:02:36.050Z"
   },
   {
    "duration": 1654,
    "start_time": "2022-07-20T15:02:44.031Z"
   },
   {
    "duration": 43324,
    "start_time": "2022-07-20T15:02:45.687Z"
   },
   {
    "duration": 5,
    "start_time": "2022-07-20T15:03:29.013Z"
   },
   {
    "duration": 25754,
    "start_time": "2022-07-20T15:03:29.020Z"
   },
   {
    "duration": 5,
    "start_time": "2022-07-20T15:03:54.776Z"
   },
   {
    "duration": 22121,
    "start_time": "2022-07-20T15:03:54.783Z"
   },
   {
    "duration": 351,
    "start_time": "2022-07-20T15:04:16.907Z"
   },
   {
    "duration": 4,
    "start_time": "2022-07-20T15:07:45.214Z"
   },
   {
    "duration": 356,
    "start_time": "2022-07-20T15:08:05.268Z"
   },
   {
    "duration": 1364,
    "start_time": "2022-07-20T15:08:24.469Z"
   },
   {
    "duration": 49,
    "start_time": "2022-07-20T15:10:54.470Z"
   },
   {
    "duration": 6,
    "start_time": "2022-07-20T15:10:54.680Z"
   },
   {
    "duration": 6,
    "start_time": "2022-07-20T15:10:55.160Z"
   },
   {
    "duration": 2034,
    "start_time": "2022-07-20T15:11:01.299Z"
   },
   {
    "duration": 3469,
    "start_time": "2022-07-20T15:11:03.336Z"
   },
   {
    "duration": 37,
    "start_time": "2022-07-20T15:11:06.806Z"
   },
   {
    "duration": 15,
    "start_time": "2022-07-20T15:11:06.845Z"
   },
   {
    "duration": 7,
    "start_time": "2022-07-20T15:11:06.862Z"
   },
   {
    "duration": 445,
    "start_time": "2022-07-20T15:11:06.871Z"
   },
   {
    "duration": 29,
    "start_time": "2022-07-20T15:11:07.318Z"
   },
   {
    "duration": 256,
    "start_time": "2022-07-20T15:11:07.349Z"
   },
   {
    "duration": 236,
    "start_time": "2022-07-20T15:11:07.606Z"
   },
   {
    "duration": 106781,
    "start_time": "2022-07-20T15:11:07.844Z"
   },
   {
    "duration": 9,
    "start_time": "2022-07-20T15:12:54.628Z"
   },
   {
    "duration": 60,
    "start_time": "2022-07-20T15:12:54.639Z"
   },
   {
    "duration": 19,
    "start_time": "2022-07-20T15:12:54.701Z"
   },
   {
    "duration": 54,
    "start_time": "2022-07-20T15:12:54.723Z"
   },
   {
    "duration": 4,
    "start_time": "2022-07-20T15:12:54.779Z"
   },
   {
    "duration": 22,
    "start_time": "2022-07-20T15:12:54.785Z"
   },
   {
    "duration": 8176,
    "start_time": "2022-07-20T15:12:54.809Z"
   },
   {
    "duration": 1664,
    "start_time": "2022-07-20T15:13:02.987Z"
   },
   {
    "duration": 45662,
    "start_time": "2022-07-20T15:13:04.653Z"
   },
   {
    "duration": 5,
    "start_time": "2022-07-20T15:13:50.316Z"
   },
   {
    "duration": 27160,
    "start_time": "2022-07-20T15:13:50.322Z"
   },
   {
    "duration": 5,
    "start_time": "2022-07-20T15:14:17.484Z"
   },
   {
    "duration": 24713,
    "start_time": "2022-07-20T15:14:17.491Z"
   },
   {
    "duration": 335,
    "start_time": "2022-07-20T15:14:42.207Z"
   },
   {
    "duration": 3,
    "start_time": "2022-07-20T15:14:42.544Z"
   },
   {
    "duration": 372,
    "start_time": "2022-07-20T15:14:42.549Z"
   },
   {
    "duration": 1384,
    "start_time": "2022-07-20T15:14:42.922Z"
   },
   {
    "duration": 15,
    "start_time": "2022-07-20T15:14:44.309Z"
   },
   {
    "duration": 4,
    "start_time": "2022-07-20T15:19:40.792Z"
   },
   {
    "duration": 11,
    "start_time": "2022-07-20T15:20:11.066Z"
   },
   {
    "duration": 144,
    "start_time": "2022-07-20T15:20:20.975Z"
   },
   {
    "duration": 12,
    "start_time": "2022-07-20T15:20:24.974Z"
   },
   {
    "duration": 2042,
    "start_time": "2022-07-21T18:14:07.854Z"
   },
   {
    "duration": 2212,
    "start_time": "2022-07-21T18:14:09.898Z"
   },
   {
    "duration": 33,
    "start_time": "2022-07-21T18:14:12.111Z"
   },
   {
    "duration": 14,
    "start_time": "2022-07-21T18:14:12.146Z"
   },
   {
    "duration": 5,
    "start_time": "2022-07-21T18:14:12.162Z"
   },
   {
    "duration": 562,
    "start_time": "2022-07-21T18:14:12.168Z"
   },
   {
    "duration": 45,
    "start_time": "2022-07-21T18:14:13.689Z"
   },
   {
    "duration": 222,
    "start_time": "2022-07-21T18:14:13.940Z"
   },
   {
    "duration": 293,
    "start_time": "2022-07-21T18:14:18.401Z"
   },
   {
    "duration": 5,
    "start_time": "2022-07-21T18:16:22.352Z"
   },
   {
    "duration": 4,
    "start_time": "2022-07-21T18:16:38.890Z"
   },
   {
    "duration": 7,
    "start_time": "2022-07-21T18:16:41.718Z"
   },
   {
    "duration": 7,
    "start_time": "2022-07-21T18:16:44.808Z"
   },
   {
    "duration": 102,
    "start_time": "2022-07-21T18:17:26.999Z"
   },
   {
    "duration": 2,
    "start_time": "2022-07-21T18:17:39.987Z"
   },
   {
    "duration": 3,
    "start_time": "2022-07-21T18:18:13.746Z"
   },
   {
    "duration": 3713,
    "start_time": "2022-07-21T18:20:43.293Z"
   },
   {
    "duration": 7,
    "start_time": "2022-07-21T18:20:54.623Z"
   },
   {
    "duration": 4,
    "start_time": "2022-07-21T18:21:08.823Z"
   },
   {
    "duration": 3852,
    "start_time": "2022-07-21T18:21:09.166Z"
   },
   {
    "duration": 7,
    "start_time": "2022-07-21T18:21:13.020Z"
   },
   {
    "duration": 3,
    "start_time": "2022-07-21T18:23:36.782Z"
   },
   {
    "duration": 376,
    "start_time": "2022-07-21T18:23:45.727Z"
   },
   {
    "duration": 2842,
    "start_time": "2022-07-21T18:24:56.906Z"
   },
   {
    "duration": 3,
    "start_time": "2022-07-21T18:25:55.774Z"
   },
   {
    "duration": 239,
    "start_time": "2022-07-21T18:26:05.467Z"
   },
   {
    "duration": 42,
    "start_time": "2022-07-21T18:26:15.607Z"
   },
   {
    "duration": 107479,
    "start_time": "2022-07-21T18:26:16.139Z"
   },
   {
    "duration": 8,
    "start_time": "2022-07-21T18:28:09.827Z"
   },
   {
    "duration": 4,
    "start_time": "2022-07-21T18:28:51.014Z"
   },
   {
    "duration": 545,
    "start_time": "2022-07-21T18:29:07.451Z"
   },
   {
    "duration": 4,
    "start_time": "2022-07-21T18:30:48.754Z"
   },
   {
    "duration": 721,
    "start_time": "2022-07-21T18:30:48.964Z"
   },
   {
    "duration": 34,
    "start_time": "2022-07-21T18:30:49.688Z"
   },
   {
    "duration": 7,
    "start_time": "2022-07-21T18:30:49.724Z"
   },
   {
    "duration": 7,
    "start_time": "2022-07-21T18:30:49.849Z"
   },
   {
    "duration": 112,
    "start_time": "2022-07-21T18:30:50.033Z"
   },
   {
    "duration": 27,
    "start_time": "2022-07-21T18:30:51.117Z"
   },
   {
    "duration": 211,
    "start_time": "2022-07-21T18:30:51.769Z"
   },
   {
    "duration": 5,
    "start_time": "2022-07-21T18:30:52.747Z"
   },
   {
    "duration": 4,
    "start_time": "2022-07-21T18:30:53.723Z"
   },
   {
    "duration": 3845,
    "start_time": "2022-07-21T18:30:54.665Z"
   },
   {
    "duration": 7,
    "start_time": "2022-07-21T18:30:58.512Z"
   },
   {
    "duration": 2,
    "start_time": "2022-07-21T18:31:00.106Z"
   },
   {
    "duration": 3,
    "start_time": "2022-07-21T18:31:03.028Z"
   },
   {
    "duration": 577,
    "start_time": "2022-07-21T18:31:04.573Z"
   },
   {
    "duration": 413,
    "start_time": "2022-07-21T18:31:34.657Z"
   },
   {
    "duration": 446,
    "start_time": "2022-07-21T18:31:37.397Z"
   },
   {
    "duration": 14941,
    "start_time": "2022-07-21T18:34:57.093Z"
   },
   {
    "duration": 8,
    "start_time": "2022-07-21T18:37:34.603Z"
   },
   {
    "duration": 6,
    "start_time": "2022-07-21T18:37:37.035Z"
   },
   {
    "duration": 40,
    "start_time": "2022-07-21T18:38:11.225Z"
   },
   {
    "duration": 7,
    "start_time": "2022-07-21T18:38:35.213Z"
   },
   {
    "duration": 3,
    "start_time": "2022-07-21T18:38:36.344Z"
   },
   {
    "duration": 5,
    "start_time": "2022-07-21T18:38:36.585Z"
   },
   {
    "duration": 203,
    "start_time": "2022-07-21T18:38:50.253Z"
   },
   {
    "duration": 5,
    "start_time": "2022-07-21T18:39:14.900Z"
   },
   {
    "duration": 4,
    "start_time": "2022-07-21T18:39:15.351Z"
   },
   {
    "duration": 4,
    "start_time": "2022-07-21T18:39:15.537Z"
   },
   {
    "duration": 305,
    "start_time": "2022-07-21T18:39:15.965Z"
   },
   {
    "duration": 6,
    "start_time": "2022-07-21T18:39:25.851Z"
   },
   {
    "duration": 3,
    "start_time": "2022-07-21T18:39:26.199Z"
   },
   {
    "duration": 6,
    "start_time": "2022-07-21T18:39:26.417Z"
   },
   {
    "duration": 140688,
    "start_time": "2022-07-21T18:39:26.882Z"
   },
   {
    "duration": 9,
    "start_time": "2022-07-21T18:42:58.545Z"
   },
   {
    "duration": 10,
    "start_time": "2022-07-21T18:48:02.194Z"
   },
   {
    "duration": 11205,
    "start_time": "2022-07-21T18:48:11.805Z"
   },
   {
    "duration": 11301,
    "start_time": "2022-07-21T18:48:33.431Z"
   },
   {
    "duration": 14,
    "start_time": "2022-07-21T18:48:53.806Z"
   },
   {
    "duration": 4,
    "start_time": "2022-07-21T18:56:00.671Z"
   },
   {
    "duration": 4,
    "start_time": "2022-07-21T18:57:13.152Z"
   },
   {
    "duration": 3769,
    "start_time": "2022-07-21T18:57:30.987Z"
   },
   {
    "duration": 4,
    "start_time": "2022-07-21T18:58:02.176Z"
   },
   {
    "duration": 712,
    "start_time": "2022-07-21T18:58:02.703Z"
   },
   {
    "duration": 32,
    "start_time": "2022-07-21T18:58:03.690Z"
   },
   {
    "duration": 7,
    "start_time": "2022-07-21T18:58:04.258Z"
   },
   {
    "duration": 7,
    "start_time": "2022-07-21T18:58:04.653Z"
   },
   {
    "duration": 119,
    "start_time": "2022-07-21T18:58:05.012Z"
   },
   {
    "duration": 28,
    "start_time": "2022-07-21T18:58:05.712Z"
   },
   {
    "duration": 216,
    "start_time": "2022-07-21T18:58:05.885Z"
   },
   {
    "duration": 4,
    "start_time": "2022-07-21T18:58:06.283Z"
   },
   {
    "duration": 3,
    "start_time": "2022-07-21T18:58:07.368Z"
   },
   {
    "duration": 3920,
    "start_time": "2022-07-21T18:58:07.934Z"
   },
   {
    "duration": 7,
    "start_time": "2022-07-21T18:58:11.856Z"
   },
   {
    "duration": 6,
    "start_time": "2022-07-21T18:58:13.913Z"
   },
   {
    "duration": 3,
    "start_time": "2022-07-21T18:58:17.024Z"
   },
   {
    "duration": 3,
    "start_time": "2022-07-21T18:58:19.744Z"
   },
   {
    "duration": 3,
    "start_time": "2022-07-21T18:58:21.719Z"
   },
   {
    "duration": 203,
    "start_time": "2022-07-21T18:58:29.115Z"
   },
   {
    "duration": 270,
    "start_time": "2022-07-21T18:58:41.261Z"
   },
   {
    "duration": 868544,
    "start_time": "2022-07-21T18:58:49.789Z"
   },
   {
    "duration": 2,
    "start_time": "2022-07-21T19:13:28.953Z"
   },
   {
    "duration": 3,
    "start_time": "2022-07-21T19:13:29.148Z"
   },
   {
    "duration": 3,
    "start_time": "2022-07-21T19:13:31.386Z"
   },
   {
    "duration": 1296,
    "start_time": "2022-07-21T19:15:22.494Z"
   },
   {
    "duration": 800,
    "start_time": "2022-07-21T19:15:23.792Z"
   },
   {
    "duration": 37,
    "start_time": "2022-07-21T19:15:24.593Z"
   },
   {
    "duration": 13,
    "start_time": "2022-07-21T19:15:24.632Z"
   },
   {
    "duration": 9,
    "start_time": "2022-07-21T19:15:24.647Z"
   },
   {
    "duration": 399,
    "start_time": "2022-07-21T19:15:24.658Z"
   },
   {
    "duration": 29,
    "start_time": "2022-07-21T19:15:25.058Z"
   },
   {
    "duration": 270,
    "start_time": "2022-07-21T19:15:25.088Z"
   },
   {
    "duration": 154,
    "start_time": "2022-07-21T19:15:25.362Z"
   },
   {
    "duration": 33,
    "start_time": "2022-07-21T19:15:25.519Z"
   },
   {
    "duration": 3,
    "start_time": "2022-07-21T19:15:25.554Z"
   },
   {
    "duration": 9,
    "start_time": "2022-07-21T19:15:25.559Z"
   },
   {
    "duration": 4,
    "start_time": "2022-07-21T19:15:25.570Z"
   },
   {
    "duration": 5,
    "start_time": "2022-07-21T19:15:25.576Z"
   },
   {
    "duration": 18,
    "start_time": "2022-07-21T19:15:25.583Z"
   },
   {
    "duration": 326,
    "start_time": "2022-07-21T19:15:25.602Z"
   },
   {
    "duration": 0,
    "start_time": "2022-07-21T19:15:25.930Z"
   },
   {
    "duration": 0,
    "start_time": "2022-07-21T19:15:25.931Z"
   },
   {
    "duration": 0,
    "start_time": "2022-07-21T19:15:25.932Z"
   },
   {
    "duration": 0,
    "start_time": "2022-07-21T19:15:25.933Z"
   },
   {
    "duration": 0,
    "start_time": "2022-07-21T19:15:25.934Z"
   },
   {
    "duration": 0,
    "start_time": "2022-07-21T19:15:25.936Z"
   },
   {
    "duration": 0,
    "start_time": "2022-07-21T19:15:25.937Z"
   },
   {
    "duration": 0,
    "start_time": "2022-07-21T19:15:25.938Z"
   },
   {
    "duration": 0,
    "start_time": "2022-07-21T19:15:25.939Z"
   },
   {
    "duration": 0,
    "start_time": "2022-07-21T19:15:25.940Z"
   },
   {
    "duration": 0,
    "start_time": "2022-07-21T19:15:25.941Z"
   },
   {
    "duration": 0,
    "start_time": "2022-07-21T19:15:25.942Z"
   },
   {
    "duration": 0,
    "start_time": "2022-07-21T19:15:25.943Z"
   },
   {
    "duration": 0,
    "start_time": "2022-07-21T19:15:25.944Z"
   },
   {
    "duration": 0,
    "start_time": "2022-07-21T19:15:25.945Z"
   },
   {
    "duration": 0,
    "start_time": "2022-07-21T19:15:25.946Z"
   },
   {
    "duration": 0,
    "start_time": "2022-07-21T19:15:25.947Z"
   },
   {
    "duration": 0,
    "start_time": "2022-07-21T19:15:25.948Z"
   },
   {
    "duration": 0,
    "start_time": "2022-07-21T19:15:25.949Z"
   },
   {
    "duration": 0,
    "start_time": "2022-07-21T19:15:25.950Z"
   },
   {
    "duration": 0,
    "start_time": "2022-07-21T19:15:25.951Z"
   },
   {
    "duration": 0,
    "start_time": "2022-07-21T19:15:25.952Z"
   },
   {
    "duration": 3,
    "start_time": "2022-07-21T19:16:28.808Z"
   },
   {
    "duration": 6,
    "start_time": "2022-07-21T19:17:10.739Z"
   },
   {
    "duration": 303,
    "start_time": "2022-07-21T19:17:12.837Z"
   },
   {
    "duration": 5,
    "start_time": "2022-07-21T19:17:34.483Z"
   },
   {
    "duration": 1379,
    "start_time": "2022-07-21T19:23:38.975Z"
   },
   {
    "duration": 753,
    "start_time": "2022-07-21T19:23:40.356Z"
   },
   {
    "duration": 23,
    "start_time": "2022-07-21T19:23:41.110Z"
   },
   {
    "duration": 14,
    "start_time": "2022-07-21T19:23:41.134Z"
   },
   {
    "duration": 6,
    "start_time": "2022-07-21T19:23:41.150Z"
   },
   {
    "duration": 368,
    "start_time": "2022-07-21T19:23:41.157Z"
   },
   {
    "duration": 27,
    "start_time": "2022-07-21T19:23:41.527Z"
   },
   {
    "duration": 230,
    "start_time": "2022-07-21T19:23:41.555Z"
   },
   {
    "duration": 130,
    "start_time": "2022-07-21T19:23:41.787Z"
   },
   {
    "duration": 31,
    "start_time": "2022-07-21T19:23:41.918Z"
   },
   {
    "duration": 3,
    "start_time": "2022-07-21T19:23:41.951Z"
   },
   {
    "duration": 4,
    "start_time": "2022-07-21T19:23:41.956Z"
   },
   {
    "duration": 5,
    "start_time": "2022-07-21T19:23:41.962Z"
   },
   {
    "duration": 6,
    "start_time": "2022-07-21T19:23:41.970Z"
   },
   {
    "duration": 1209964,
    "start_time": "2022-07-21T19:23:41.978Z"
   },
   {
    "duration": 6,
    "start_time": "2022-07-21T19:43:51.944Z"
   },
   {
    "duration": 9,
    "start_time": "2022-07-21T19:43:51.952Z"
   },
   {
    "duration": 9,
    "start_time": "2022-07-21T19:43:51.963Z"
   },
   {
    "duration": 50,
    "start_time": "2022-07-21T19:43:51.973Z"
   },
   {
    "duration": 6,
    "start_time": "2022-07-21T19:43:52.025Z"
   },
   {
    "duration": 30,
    "start_time": "2022-07-21T19:43:52.033Z"
   },
   {
    "duration": 4,
    "start_time": "2022-07-21T19:43:52.064Z"
   },
   {
    "duration": 5,
    "start_time": "2022-07-21T19:43:52.069Z"
   },
   {
    "duration": 7086,
    "start_time": "2022-07-21T19:43:52.075Z"
   },
   {
    "duration": 895,
    "start_time": "2022-07-21T19:43:59.162Z"
   },
   {
    "duration": 60979,
    "start_time": "2022-07-21T19:44:00.059Z"
   },
   {
    "duration": 4,
    "start_time": "2022-07-21T19:45:01.039Z"
   },
   {
    "duration": 23171,
    "start_time": "2022-07-21T19:45:01.044Z"
   },
   {
    "duration": 5,
    "start_time": "2022-07-21T19:45:24.216Z"
   },
   {
    "duration": 8982,
    "start_time": "2022-07-21T19:45:24.222Z"
   },
   {
    "duration": 307,
    "start_time": "2022-07-21T19:45:33.205Z"
   },
   {
    "duration": 3,
    "start_time": "2022-07-21T19:45:33.513Z"
   },
   {
    "duration": 322,
    "start_time": "2022-07-21T19:45:33.518Z"
   },
   {
    "duration": 627,
    "start_time": "2022-07-21T19:45:33.843Z"
   },
   {
    "duration": 13,
    "start_time": "2022-07-21T19:45:34.472Z"
   },
   {
    "duration": 48,
    "start_time": "2022-07-21T19:45:34.487Z"
   },
   {
    "duration": 0,
    "start_time": "2022-07-21T19:45:34.537Z"
   },
   {
    "duration": 2,
    "start_time": "2022-07-21T19:46:07.429Z"
   },
   {
    "duration": 3886,
    "start_time": "2022-07-21T19:46:21.743Z"
   },
   {
    "duration": 8,
    "start_time": "2022-07-21T19:46:38.312Z"
   },
   {
    "duration": 1453,
    "start_time": "2022-07-21T19:47:41.682Z"
   },
   {
    "duration": 2245,
    "start_time": "2022-07-21T19:47:43.137Z"
   },
   {
    "duration": 33,
    "start_time": "2022-07-21T19:47:45.384Z"
   },
   {
    "duration": 22,
    "start_time": "2022-07-21T19:47:45.419Z"
   },
   {
    "duration": 5,
    "start_time": "2022-07-21T19:47:45.444Z"
   },
   {
    "duration": 404,
    "start_time": "2022-07-21T19:47:45.450Z"
   },
   {
    "duration": 28,
    "start_time": "2022-07-21T19:47:45.856Z"
   },
   {
    "duration": 243,
    "start_time": "2022-07-21T19:47:45.886Z"
   },
   {
    "duration": 203,
    "start_time": "2022-07-21T19:47:46.132Z"
   },
   {
    "duration": 34,
    "start_time": "2022-07-21T19:47:46.337Z"
   },
   {
    "duration": 4,
    "start_time": "2022-07-21T19:47:46.372Z"
   },
   {
    "duration": 9,
    "start_time": "2022-07-21T19:47:46.378Z"
   },
   {
    "duration": 3833,
    "start_time": "2022-07-21T19:47:46.388Z"
   },
   {
    "duration": 8,
    "start_time": "2022-07-21T19:47:50.223Z"
   },
   {
    "duration": 15,
    "start_time": "2022-07-21T19:47:50.232Z"
   },
   {
    "duration": 1119284,
    "start_time": "2022-07-21T19:47:50.248Z"
   },
   {
    "duration": 4,
    "start_time": "2022-07-21T20:06:29.534Z"
   },
   {
    "duration": 12,
    "start_time": "2022-07-21T20:06:29.539Z"
   },
   {
    "duration": 7,
    "start_time": "2022-07-21T20:06:29.553Z"
   },
   {
    "duration": 67,
    "start_time": "2022-07-21T20:06:29.561Z"
   },
   {
    "duration": 6,
    "start_time": "2022-07-21T20:06:29.630Z"
   },
   {
    "duration": 58,
    "start_time": "2022-07-21T20:06:29.638Z"
   },
   {
    "duration": 13,
    "start_time": "2022-07-21T20:06:29.698Z"
   },
   {
    "duration": 15,
    "start_time": "2022-07-21T20:06:29.713Z"
   },
   {
    "duration": 7428,
    "start_time": "2022-07-21T20:06:29.730Z"
   },
   {
    "duration": 1517,
    "start_time": "2022-07-21T20:06:37.159Z"
   },
   {
    "duration": 34333,
    "start_time": "2022-07-21T20:06:38.678Z"
   },
   {
    "duration": 4,
    "start_time": "2022-07-21T20:07:13.018Z"
   },
   {
    "duration": 21870,
    "start_time": "2022-07-21T20:07:13.024Z"
   },
   {
    "duration": 12,
    "start_time": "2022-07-21T20:07:34.896Z"
   },
   {
    "duration": 22401,
    "start_time": "2022-07-21T20:07:34.912Z"
   },
   {
    "duration": 340,
    "start_time": "2022-07-21T20:07:57.314Z"
   },
   {
    "duration": 3,
    "start_time": "2022-07-21T20:07:57.656Z"
   },
   {
    "duration": 283,
    "start_time": "2022-07-21T20:07:57.660Z"
   },
   {
    "duration": 1170,
    "start_time": "2022-07-21T20:07:57.944Z"
   },
   {
    "duration": 19,
    "start_time": "2022-07-21T20:07:59.116Z"
   },
   {
    "duration": 5,
    "start_time": "2022-07-21T20:07:59.137Z"
   },
   {
    "duration": 28,
    "start_time": "2022-07-21T20:07:59.143Z"
   },
   {
    "duration": 16,
    "start_time": "2022-07-21T20:15:14.394Z"
   },
   {
    "duration": 1350,
    "start_time": "2022-07-21T20:15:34.727Z"
   },
   {
    "duration": 762,
    "start_time": "2022-07-21T20:15:36.079Z"
   },
   {
    "duration": 30,
    "start_time": "2022-07-21T20:15:36.842Z"
   },
   {
    "duration": 18,
    "start_time": "2022-07-21T20:15:36.874Z"
   },
   {
    "duration": 7,
    "start_time": "2022-07-21T20:15:36.901Z"
   },
   {
    "duration": 380,
    "start_time": "2022-07-21T20:15:36.910Z"
   },
   {
    "duration": 32,
    "start_time": "2022-07-21T20:15:37.292Z"
   },
   {
    "duration": 257,
    "start_time": "2022-07-21T20:15:37.326Z"
   },
   {
    "duration": 131,
    "start_time": "2022-07-21T20:15:37.585Z"
   },
   {
    "duration": 31,
    "start_time": "2022-07-21T20:15:37.718Z"
   },
   {
    "duration": 3,
    "start_time": "2022-07-21T20:15:37.751Z"
   },
   {
    "duration": 7,
    "start_time": "2022-07-21T20:15:37.756Z"
   },
   {
    "duration": 3806,
    "start_time": "2022-07-21T20:15:37.765Z"
   },
   {
    "duration": 7,
    "start_time": "2022-07-21T20:15:41.574Z"
   },
   {
    "duration": 7,
    "start_time": "2022-07-21T20:15:41.582Z"
   },
   {
    "duration": 1135286,
    "start_time": "2022-07-21T20:15:41.590Z"
   },
   {
    "duration": 4,
    "start_time": "2022-07-21T20:34:36.877Z"
   },
   {
    "duration": 11,
    "start_time": "2022-07-21T20:34:36.883Z"
   },
   {
    "duration": 7,
    "start_time": "2022-07-21T20:34:36.901Z"
   },
   {
    "duration": 61,
    "start_time": "2022-07-21T20:34:36.909Z"
   },
   {
    "duration": 11,
    "start_time": "2022-07-21T20:34:36.971Z"
   },
   {
    "duration": 66,
    "start_time": "2022-07-21T20:34:36.984Z"
   },
   {
    "duration": 4,
    "start_time": "2022-07-21T20:34:37.051Z"
   },
   {
    "duration": 7,
    "start_time": "2022-07-21T20:34:37.056Z"
   },
   {
    "duration": 3492,
    "start_time": "2022-07-21T20:34:37.064Z"
   },
   {
    "duration": 653,
    "start_time": "2022-07-21T20:34:40.558Z"
   },
   {
    "duration": 13715,
    "start_time": "2022-07-21T20:34:41.214Z"
   },
   {
    "duration": 3,
    "start_time": "2022-07-21T20:34:54.931Z"
   },
   {
    "duration": 1028,
    "start_time": "2022-07-21T20:34:54.936Z"
   },
   {
    "duration": 5,
    "start_time": "2022-07-21T20:34:55.965Z"
   },
   {
    "duration": 1533,
    "start_time": "2022-07-21T20:34:55.971Z"
   },
   {
    "duration": 179,
    "start_time": "2022-07-21T20:34:57.507Z"
   },
   {
    "duration": 3,
    "start_time": "2022-07-21T20:34:57.688Z"
   },
   {
    "duration": 282,
    "start_time": "2022-07-21T20:34:57.700Z"
   },
   {
    "duration": 381,
    "start_time": "2022-07-21T20:34:57.984Z"
   },
   {
    "duration": 11,
    "start_time": "2022-07-21T20:34:58.367Z"
   },
   {
    "duration": 9,
    "start_time": "2022-07-21T20:34:58.379Z"
   },
   {
    "duration": 17,
    "start_time": "2022-07-21T20:34:58.403Z"
   },
   {
    "duration": 8,
    "start_time": "2022-07-21T20:35:51.740Z"
   },
   {
    "duration": 3,
    "start_time": "2022-07-21T20:40:33.356Z"
   },
   {
    "duration": 3,
    "start_time": "2022-07-21T20:40:34.669Z"
   },
   {
    "duration": 9,
    "start_time": "2022-07-21T20:40:50.715Z"
   },
   {
    "duration": 152,
    "start_time": "2022-07-21T20:40:58.189Z"
   },
   {
    "duration": 241,
    "start_time": "2022-07-21T20:41:06.175Z"
   },
   {
    "duration": 3,
    "start_time": "2022-07-21T20:42:03.864Z"
   },
   {
    "duration": 20,
    "start_time": "2022-07-21T20:42:05.161Z"
   },
   {
    "duration": 309,
    "start_time": "2022-07-21T20:42:05.372Z"
   },
   {
    "duration": 4,
    "start_time": "2022-07-21T20:42:46.635Z"
   },
   {
    "duration": 152590,
    "start_time": "2022-07-21T20:42:47.965Z"
   },
   {
    "duration": 10,
    "start_time": "2022-07-21T20:45:20.556Z"
   },
   {
    "duration": 1417,
    "start_time": "2022-07-21T20:46:49.021Z"
   },
   {
    "duration": 854,
    "start_time": "2022-07-21T20:46:50.442Z"
   },
   {
    "duration": 32,
    "start_time": "2022-07-21T20:46:51.298Z"
   },
   {
    "duration": 32,
    "start_time": "2022-07-21T20:46:51.335Z"
   },
   {
    "duration": 14,
    "start_time": "2022-07-21T20:46:51.370Z"
   },
   {
    "duration": 462,
    "start_time": "2022-07-21T20:46:51.385Z"
   },
   {
    "duration": 27,
    "start_time": "2022-07-21T20:46:51.849Z"
   },
   {
    "duration": 263,
    "start_time": "2022-07-21T20:46:51.877Z"
   },
   {
    "duration": 135,
    "start_time": "2022-07-21T20:46:52.142Z"
   },
   {
    "duration": 47,
    "start_time": "2022-07-21T20:46:52.279Z"
   },
   {
    "duration": 3,
    "start_time": "2022-07-21T20:46:52.330Z"
   },
   {
    "duration": 6,
    "start_time": "2022-07-21T20:46:52.335Z"
   },
   {
    "duration": 22,
    "start_time": "2022-07-21T20:46:52.343Z"
   },
   {
    "duration": 30,
    "start_time": "2022-07-21T20:46:52.368Z"
   },
   {
    "duration": 33,
    "start_time": "2022-07-21T20:46:52.400Z"
   },
   {
    "duration": 23,
    "start_time": "2022-07-21T20:46:52.435Z"
   },
   {
    "duration": 21,
    "start_time": "2022-07-21T20:46:52.460Z"
   },
   {
    "duration": 9,
    "start_time": "2022-07-21T20:46:52.483Z"
   },
   {
    "duration": 41,
    "start_time": "2022-07-21T20:46:52.493Z"
   },
   {
    "duration": 147835,
    "start_time": "2022-07-21T20:46:52.535Z"
   },
   {
    "duration": 7,
    "start_time": "2022-07-21T20:49:20.372Z"
   },
   {
    "duration": 40,
    "start_time": "2022-07-21T20:49:20.380Z"
   },
   {
    "duration": 7,
    "start_time": "2022-07-21T20:49:20.422Z"
   },
   {
    "duration": 39,
    "start_time": "2022-07-21T20:49:20.431Z"
   },
   {
    "duration": 4,
    "start_time": "2022-07-21T20:49:20.472Z"
   },
   {
    "duration": 14,
    "start_time": "2022-07-21T20:49:20.477Z"
   },
   {
    "duration": 3622,
    "start_time": "2022-07-21T20:49:20.492Z"
   },
   {
    "duration": 754,
    "start_time": "2022-07-21T20:49:24.116Z"
   },
   {
    "duration": 39331,
    "start_time": "2022-07-21T20:49:24.872Z"
   },
   {
    "duration": 6,
    "start_time": "2022-07-21T20:50:04.208Z"
   },
   {
    "duration": 23807,
    "start_time": "2022-07-21T20:50:04.216Z"
   },
   {
    "duration": 4,
    "start_time": "2022-07-21T20:50:28.025Z"
   },
   {
    "duration": 19073,
    "start_time": "2022-07-21T20:50:28.030Z"
   },
   {
    "duration": 344,
    "start_time": "2022-07-21T20:50:47.109Z"
   },
   {
    "duration": 3,
    "start_time": "2022-07-21T20:50:47.455Z"
   },
   {
    "duration": 6,
    "start_time": "2022-07-21T20:50:47.460Z"
   },
   {
    "duration": 717,
    "start_time": "2022-07-21T20:50:47.467Z"
   },
   {
    "duration": 30,
    "start_time": "2022-07-21T20:50:48.186Z"
   },
   {
    "duration": 3,
    "start_time": "2022-07-21T20:50:48.218Z"
   },
   {
    "duration": 12,
    "start_time": "2022-07-21T20:50:48.223Z"
   },
   {
    "duration": 1428,
    "start_time": "2022-07-22T17:59:54.649Z"
   },
   {
    "duration": 2304,
    "start_time": "2022-07-22T17:59:56.079Z"
   },
   {
    "duration": 31,
    "start_time": "2022-07-22T17:59:58.385Z"
   },
   {
    "duration": 20,
    "start_time": "2022-07-22T17:59:58.418Z"
   },
   {
    "duration": 22,
    "start_time": "2022-07-22T17:59:58.439Z"
   },
   {
    "duration": 540,
    "start_time": "2022-07-22T17:59:58.462Z"
   },
   {
    "duration": 46,
    "start_time": "2022-07-22T17:59:59.003Z"
   },
   {
    "duration": 218,
    "start_time": "2022-07-22T17:59:59.061Z"
   },
   {
    "duration": 402,
    "start_time": "2022-07-22T17:59:59.280Z"
   },
   {
    "duration": 338,
    "start_time": "2022-07-22T18:00:00.363Z"
   },
   {
    "duration": 3,
    "start_time": "2022-07-22T18:00:01.543Z"
   },
   {
    "duration": 4,
    "start_time": "2022-07-22T18:00:09.002Z"
   },
   {
    "duration": 3,
    "start_time": "2022-07-22T18:00:09.373Z"
   },
   {
    "duration": 1265,
    "start_time": "2022-07-22T18:00:20.999Z"
   },
   {
    "duration": 5,
    "start_time": "2022-07-22T18:01:17.276Z"
   },
   {
    "duration": 5,
    "start_time": "2022-07-22T18:03:27.075Z"
   },
   {
    "duration": 6,
    "start_time": "2022-07-22T18:03:34.242Z"
   },
   {
    "duration": 6,
    "start_time": "2022-07-22T18:04:17.700Z"
   },
   {
    "duration": 6,
    "start_time": "2022-07-22T18:05:00.314Z"
   },
   {
    "duration": 8,
    "start_time": "2022-07-22T18:05:09.818Z"
   },
   {
    "duration": 9,
    "start_time": "2022-07-22T18:05:31.074Z"
   },
   {
    "duration": 6,
    "start_time": "2022-07-22T18:05:59.590Z"
   },
   {
    "duration": 6,
    "start_time": "2022-07-22T18:06:11.544Z"
   },
   {
    "duration": 8,
    "start_time": "2022-07-22T18:06:18.490Z"
   },
   {
    "duration": 9,
    "start_time": "2022-07-22T18:06:25.984Z"
   },
   {
    "duration": 3,
    "start_time": "2022-07-22T18:07:27.553Z"
   },
   {
    "duration": 7,
    "start_time": "2022-07-22T18:07:40.778Z"
   },
   {
    "duration": 6,
    "start_time": "2022-07-22T18:07:52.147Z"
   },
   {
    "duration": 3,
    "start_time": "2022-07-22T18:08:15.367Z"
   },
   {
    "duration": 8,
    "start_time": "2022-07-22T18:08:29.114Z"
   },
   {
    "duration": 5,
    "start_time": "2022-07-22T18:08:36.946Z"
   },
   {
    "duration": 5,
    "start_time": "2022-07-22T18:08:39.144Z"
   },
   {
    "duration": 4,
    "start_time": "2022-07-22T18:08:48.794Z"
   },
   {
    "duration": 4,
    "start_time": "2022-07-22T18:09:59.309Z"
   },
   {
    "duration": 5,
    "start_time": "2022-07-22T18:11:57.800Z"
   },
   {
    "duration": 4,
    "start_time": "2022-07-22T18:11:59.540Z"
   },
   {
    "duration": 5,
    "start_time": "2022-07-22T18:14:29.316Z"
   },
   {
    "duration": 7,
    "start_time": "2022-07-22T18:21:45.065Z"
   },
   {
    "duration": 146069,
    "start_time": "2022-07-22T18:21:54.010Z"
   },
   {
    "duration": 8,
    "start_time": "2022-07-22T18:25:06.148Z"
   },
   {
    "duration": 31,
    "start_time": "2022-07-22T18:25:06.647Z"
   },
   {
    "duration": 8,
    "start_time": "2022-07-22T18:25:06.834Z"
   },
   {
    "duration": 47,
    "start_time": "2022-07-22T18:25:07.195Z"
   },
   {
    "duration": 4,
    "start_time": "2022-07-22T18:25:07.411Z"
   },
   {
    "duration": 3,
    "start_time": "2022-07-22T18:25:09.254Z"
   },
   {
    "duration": 3541,
    "start_time": "2022-07-22T18:25:09.731Z"
   },
   {
    "duration": 685,
    "start_time": "2022-07-22T18:25:14.419Z"
   },
   {
    "duration": 40022,
    "start_time": "2022-07-22T18:25:17.852Z"
   },
   {
    "duration": 24115,
    "start_time": "2022-07-22T18:25:57.876Z"
   },
   {
    "duration": 24276,
    "start_time": "2022-07-22T18:26:21.993Z"
   },
   {
    "duration": 349,
    "start_time": "2022-07-22T18:26:46.360Z"
   },
   {
    "duration": 3,
    "start_time": "2022-07-22T18:27:18.747Z"
   },
   {
    "duration": 2,
    "start_time": "2022-07-22T18:27:19.096Z"
   },
   {
    "duration": 727,
    "start_time": "2022-07-22T18:27:21.306Z"
   },
   {
    "duration": 18,
    "start_time": "2022-07-22T18:27:22.601Z"
   }
  ],
  "kernelspec": {
   "display_name": "Python 3 (ipykernel)",
   "language": "python",
   "name": "python3"
  },
  "language_info": {
   "codemirror_mode": {
    "name": "ipython",
    "version": 3
   },
   "file_extension": ".py",
   "mimetype": "text/x-python",
   "name": "python",
   "nbconvert_exporter": "python",
   "pygments_lexer": "ipython3",
   "version": "3.9.5"
  },
  "toc": {
   "base_numbering": 1,
   "nav_menu": {},
   "number_sections": true,
   "sideBar": true,
   "skip_h1_title": true,
   "title_cell": "Содержание",
   "title_sidebar": "Contents",
   "toc_cell": true,
   "toc_position": {
    "height": "calc(100% - 180px)",
    "left": "10px",
    "top": "150px",
    "width": "302.391px"
   },
   "toc_section_display": true,
   "toc_window_display": false
  }
 },
 "nbformat": 4,
 "nbformat_minor": 2
}
