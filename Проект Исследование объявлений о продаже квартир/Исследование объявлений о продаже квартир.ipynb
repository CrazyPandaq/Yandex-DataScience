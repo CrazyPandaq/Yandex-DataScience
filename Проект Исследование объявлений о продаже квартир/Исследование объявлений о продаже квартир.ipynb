{
 "cells": [
  {
   "cell_type": "markdown",
   "metadata": {
    "toc": true
   },
   "source": [
    "<h1>Содержание<span class=\"tocSkip\"></span></h1>\n",
    "<div class=\"toc\"><ul class=\"toc-item\"><li><span><a href=\"#Исследование-объявлений-о-продаже-квартир\" data-toc-modified-id=\"Исследование-объявлений-о-продаже-квартир-1\">Исследование объявлений о продаже квартир</a></span><ul class=\"toc-item\"><li><span><a href=\"#Изучение-данных-из-файла\" data-toc-modified-id=\"Изучение-данных-из-файла-1.1\">Изучение данных из файла</a></span><ul class=\"toc-item\"><li><span><a href=\"#Вывод\" data-toc-modified-id=\"Вывод-1.1.1\">Вывод</a></span></li></ul></li><li><span><a href=\"#Предобработка-данных\" data-toc-modified-id=\"Предобработка-данных-1.2\">Предобработка данных</a></span><ul class=\"toc-item\"><li><span><a href=\"#Предобработка-данных-в-столбце-balcony\" data-toc-modified-id=\"Предобработка-данных-в-столбце-balcony-1.2.1\">Предобработка данных в столбце <code>balcony</code></a></span></li><li><span><a href=\"#Предобработка-данных-в-столбце-first_day_exposition\" data-toc-modified-id=\"Предобработка-данных-в-столбце-first_day_exposition-1.2.2\">Предобработка данных в столбце <code>first_day_exposition</code></a></span></li><li><span><a href=\"#Предобработка-данных-в-столбце-ponds_around3000\" data-toc-modified-id=\"Предобработка-данных-в-столбце-ponds_around3000-1.2.3\">Предобработка данных в столбце <code>ponds_around3000</code></a></span></li><li><span><a href=\"#Предобработка-данных-в-столбце-parks_around3000\" data-toc-modified-id=\"Предобработка-данных-в-столбце-parks_around3000-1.2.4\">Предобработка данных в столбце <code>parks_around3000</code></a></span></li><li><span><a href=\"#Предобработка-данных-в-столбце-is_apartment\" data-toc-modified-id=\"Предобработка-данных-в-столбце-is_apartment-1.2.5\">Предобработка данных в столбце <code>is_apartment</code></a></span></li><li><span><a href=\"#Предобработка-данных-в-столбце-ceiling_height\" data-toc-modified-id=\"Предобработка-данных-в-столбце-ceiling_height-1.2.6\">Предобработка данных в столбце <code>ceiling_height</code></a></span></li></ul></li><li><span><a href=\"#Расчёты-и-добавление-результатов-в-таблицу\" data-toc-modified-id=\"Расчёты-и-добавление-результатов-в-таблицу-1.3\">Расчёты и добавление результатов в таблицу</a></span><ul class=\"toc-item\"><li><span><a href=\"#Добавление-цены-за-квадратный-метр\" data-toc-modified-id=\"Добавление-цены-за-квадратный-метр-1.3.1\">Добавление цены за квадратный метр</a></span></li><li><span><a href=\"#Добавление-дня-недели,-месяц-и-год-публикации-объявления;\" data-toc-modified-id=\"Добавление-дня-недели,-месяц-и-год-публикации-объявления;-1.3.2\">Добавление дня недели, месяц и год публикации объявления;</a></span><ul class=\"toc-item\"><li><span><a href=\"#Добавляем-день-недели\" data-toc-modified-id=\"Добавляем-день-недели-1.3.2.1\">Добавляем день недели</a></span></li><li><span><a href=\"#Добавляем-месяц\" data-toc-modified-id=\"Добавляем-месяц-1.3.2.2\">Добавляем месяц</a></span></li><li><span><a href=\"#Добавляем-год\" data-toc-modified-id=\"Добавляем-год-1.3.2.3\">Добавляем год</a></span></li></ul></li><li><span><a href=\"#Этаж-квартиры\" data-toc-modified-id=\"Этаж-квартиры-1.3.3\">Этаж квартиры</a></span></li><li><span><a href=\"#Cоотношение-жилой-и-общей-площади-и-отношение-площади-кухни-к-общей.\" data-toc-modified-id=\"Cоотношение-жилой-и-общей-площади-и-отношение-площади-кухни-к-общей.-1.3.4\">Cоотношение жилой и общей площади и отношение площади кухни к общей.</a></span><ul class=\"toc-item\"><li><span><a href=\"#Cоотношение-жилой-и-общей-площади\" data-toc-modified-id=\"Cоотношение-жилой-и-общей-площади-1.3.4.1\">Cоотношение жилой и общей площади</a></span></li><li><span><a href=\"#Cоотношение-площади-кухни-к-общей-площади\" data-toc-modified-id=\"Cоотношение-площади-кухни-к-общей-площади-1.3.4.2\">Cоотношение площади кухни к общей площади</a></span></li></ul></li><li><span><a href=\"#Вывод-таблицы\" data-toc-modified-id=\"Вывод-таблицы-1.3.5\">Вывод таблицы</a></span></li></ul></li><li><span><a href=\"#Исследовательский-анализ-данных\" data-toc-modified-id=\"Исследовательский-анализ-данных-1.4\">Исследовательский анализ данных</a></span><ul class=\"toc-item\"><li><span><a href=\"#Анализ-площади.\" data-toc-modified-id=\"Анализ-площади.-1.4.1\">Анализ площади.</a></span><ul class=\"toc-item\"><li><span><a href=\"#Вывод:\" data-toc-modified-id=\"Вывод:-1.4.1.1\">Вывод:</a></span></li></ul></li><li><span><a href=\"#Анализ-цены.\" data-toc-modified-id=\"Анализ-цены.-1.4.2\">Анализ цены.</a></span><ul class=\"toc-item\"><li><span><a href=\"#Вывод:\" data-toc-modified-id=\"Вывод:-1.4.2.1\">Вывод:</a></span></li></ul></li><li><span><a href=\"#Анализ-числа-комнат.\" data-toc-modified-id=\"Анализ-числа-комнат.-1.4.3\">Анализ числа комнат.</a></span><ul class=\"toc-item\"><li><span><a href=\"#Вывод:\" data-toc-modified-id=\"Вывод:-1.4.3.1\">Вывод:</a></span></li></ul></li><li><span><a href=\"#Анализ-высоты-потолков.\" data-toc-modified-id=\"Анализ-высоты-потолков.-1.4.4\">Анализ высоты потолков.</a></span><ul class=\"toc-item\"><li><span><a href=\"#Вывод:\" data-toc-modified-id=\"Вывод:-1.4.4.1\">Вывод:</a></span></li></ul></li><li><span><a href=\"#Время-продажи-квартиры.\" data-toc-modified-id=\"Время-продажи-квартиры.-1.4.5\">Время продажи квартиры.</a></span><ul class=\"toc-item\"><li><span><a href=\"#Вывод:\" data-toc-modified-id=\"Вывод:-1.4.5.1\">Вывод:</a></span></li></ul></li><li><span><a href=\"#Факторы,-влияющие-на-стоимость-квартиры\" data-toc-modified-id=\"Факторы,-влияющие-на-стоимость-квартиры-1.4.6\">Факторы, влияющие на стоимость квартиры</a></span><ul class=\"toc-item\"><li><span><a href=\"#Площадь\" data-toc-modified-id=\"Площадь-1.4.6.1\">Площадь</a></span></li><li><span><a href=\"#Число-комнат\" data-toc-modified-id=\"Число-комнат-1.4.6.2\">Число комнат</a></span></li><li><span><a href=\"#Вывод:\" data-toc-modified-id=\"Вывод:-1.4.6.3\">Вывод:</a></span></li><li><span><a href=\"#Удаленность-от-центра\" data-toc-modified-id=\"Удаленность-от-центра-1.4.6.4\">Удаленность от центра</a></span></li><li><span><a href=\"#Вывод:\" data-toc-modified-id=\"Вывод:-1.4.6.5\">Вывод:</a></span></li><li><span><a href=\"#Зависимость-от-этажа\" data-toc-modified-id=\"Зависимость-от-этажа-1.4.6.6\">Зависимость от этажа</a></span></li><li><span><a href=\"#Вывод:\" data-toc-modified-id=\"Вывод:-1.4.6.7\">Вывод:</a></span></li><li><span><a href=\"#День-недели\" data-toc-modified-id=\"День-недели-1.4.6.8\">День недели</a></span></li><li><span><a href=\"#Вывод:\" data-toc-modified-id=\"Вывод:-1.4.6.9\">Вывод:</a></span></li><li><span><a href=\"#Месяц\" data-toc-modified-id=\"Месяц-1.4.6.10\">Месяц</a></span></li><li><span><a href=\"#Вывод:\" data-toc-modified-id=\"Вывод:-1.4.6.11\">Вывод:</a></span></li><li><span><a href=\"#Год\" data-toc-modified-id=\"Год-1.4.6.12\">Год</a></span></li><li><span><a href=\"#Вывод:\" data-toc-modified-id=\"Вывод:-1.4.6.13\">Вывод:</a></span></li></ul></li><li><span><a href=\"#Населенные-пункты-с-максимальной-и-минимальной-стоимостью\" data-toc-modified-id=\"Населенные-пункты-с-максимальной-и-минимальной-стоимостью-1.4.7\">Населенные пункты с максимальной и минимальной стоимостью</a></span><ul class=\"toc-item\"><li><span><a href=\"#Вывод:\" data-toc-modified-id=\"Вывод:-1.4.7.1\">Вывод:</a></span></li></ul></li><li><span><a href=\"#Поиск-центральной-зоны-и-зависимость-цены-от-расстояния\" data-toc-modified-id=\"Поиск-центральной-зоны-и-зависимость-цены-от-расстояния-1.4.8\">Поиск центральной зоны и зависимость цены от расстояния</a></span><ul class=\"toc-item\"><li><span><a href=\"#Вывод:\" data-toc-modified-id=\"Вывод:-1.4.8.1\">Вывод:</a></span></li></ul></li><li><span><a href=\"#Сегмент-квартир-в-центре\" data-toc-modified-id=\"Сегмент-квартир-в-центре-1.4.9\">Сегмент квартир в центре</a></span><ul class=\"toc-item\"><li><span><a href=\"#Зависимость-стоимости-квадратного-метра-от-количества-комнат\" data-toc-modified-id=\"Зависимость-стоимости-квадратного-метра-от-количества-комнат-1.4.9.1\">Зависимость стоимости квадратного метра от количества комнат</a></span></li><li><span><a href=\"#Вывод:\" data-toc-modified-id=\"Вывод:-1.4.9.2\">Вывод:</a></span></li><li><span><a href=\"#Зависимость-стоимости-квадратного-метра-от-этажа\" data-toc-modified-id=\"Зависимость-стоимости-квадратного-метра-от-этажа-1.4.9.3\">Зависимость стоимости квадратного метра от этажа</a></span></li><li><span><a href=\"#Вывод:\" data-toc-modified-id=\"Вывод:-1.4.9.4\">Вывод:</a></span></li><li><span><a href=\"#Зависимость-стоимости-квадратного-метра-от-удаленности-от-центра\" data-toc-modified-id=\"Зависимость-стоимости-квадратного-метра-от-удаленности-от-центра-1.4.9.5\">Зависимость стоимости квадратного метра от удаленности от центра</a></span></li><li><span><a href=\"#Вывод:\" data-toc-modified-id=\"Вывод:-1.4.9.6\">Вывод:</a></span></li><li><span><a href=\"#Зависимость-стоимости-квадратного-метра-от-даты-размещения-объявления\" data-toc-modified-id=\"Зависимость-стоимости-квадратного-метра-от-даты-размещения-объявления-1.4.9.7\">Зависимость стоимости квадратного метра от даты размещения объявления</a></span></li><li><span><a href=\"#Вывод:\" data-toc-modified-id=\"Вывод:-1.4.9.8\">Вывод:</a></span></li><li><span><a href=\"#Вывод:\" data-toc-modified-id=\"Вывод:-1.4.9.9\">Вывод:</a></span></li><li><span><a href=\"#Вывод:\" data-toc-modified-id=\"Вывод:-1.4.9.10\">Вывод:</a></span></li><li><span><a href=\"#Общая-площадь\" data-toc-modified-id=\"Общая-площадь-1.4.9.11\">Общая площадь</a></span></li><li><span><a href=\"#Цена\" data-toc-modified-id=\"Цена-1.4.9.12\">Цена</a></span></li><li><span><a href=\"#Комнаты\" data-toc-modified-id=\"Комнаты-1.4.9.13\">Комнаты</a></span></li><li><span><a href=\"#Высота-потолков\" data-toc-modified-id=\"Высота-потолков-1.4.9.14\">Высота потолков</a></span></li></ul></li></ul></li><li><span><a href=\"#Общий-вывод\" data-toc-modified-id=\"Общий-вывод-1.5\">Общий вывод</a></span></li></ul></li></ul></div>"
   ]
  },
  {
   "cell_type": "markdown",
   "metadata": {},
   "source": [
    "# Исследование объявлений о продаже квартир\n",
    "\n",
    "В вашем распоряжении данные сервиса Яндекc Недвижимость — архив объявлений о продаже квартир в Санкт-Петербурге и соседних населённых пунктах за несколько лет. Нужно научиться определять рыночную стоимость объектов недвижимости. Ваша задача — установить параметры. Это позволит построить автоматизированную систему: она отследит аномалии и мошенническую деятельность. \n",
    "\n",
    "По каждой квартире на продажу доступны два вида данных. Первые вписаны пользователем, вторые получены автоматически на основе картографических данных. Например, расстояние до центра, аэропорта, ближайшего парка и водоёма. \n",
    "\n",
    "Описание данных:\n",
    "* airports_nearest — расстояние до ближайшего аэропорта в метрах (м)\n",
    "* balcony — число балконов\n",
    "* ceiling_height — высота потолков (м)\n",
    "* cityCenters_nearest — расстояние до центра города (м)\n",
    "* days_exposition — сколько дней было размещено объявление (от публикации до снятия)\n",
    "* first_day_exposition — дата публикации\n",
    "* floor — этаж\n",
    "* floors_total — всего этажей в доме\n",
    "* is_apartment — апартаменты (булев тип)\n",
    "* kitchen_area — площадь кухни в квадратных метрах (м²)\n",
    "* last_price — цена на момент снятия с публикации\n",
    "* living_area — жилая площадь в квадратных метрах (м²)\n",
    "* locality_name — название населённого пункта\n",
    "* open_plan — свободная планировка (булев тип)\n",
    "* parks_around3000 — число парков в радиусе 3 км\n",
    "* parks_nearest — расстояние до ближайшего парка (м)\n",
    "* ponds_around3000 — число водоёмов в радиусе 3 км\n",
    "* ponds_nearest — расстояние до ближайшего водоёма (м)\n",
    "* rooms — число комнат\n",
    "* studio — квартира-студия (булев тип)\n",
    "* total_area — площадь квартиры в квадратных метрах (м²)\n",
    "* total_images — число фотографий квартиры в объявлени"
   ]
  },
  {
   "cell_type": "markdown",
   "metadata": {},
   "source": [
    "## Изучение данных из файла"
   ]
  },
  {
   "cell_type": "code",
   "execution_count": 1,
   "metadata": {},
   "outputs": [],
   "source": [
    "import pandas as pd\n",
    "import matplotlib.pyplot as plt"
   ]
  },
  {
   "cell_type": "code",
   "execution_count": 2,
   "metadata": {},
   "outputs": [],
   "source": [
    "#data = pd.read_csv(\"real_estate_data.csv\", sep =\"\\t\")\n",
    "data = pd.read_csv(\"/datasets/real_estate_data.csv\", sep =\"\\t\")"
   ]
  },
  {
   "cell_type": "code",
   "execution_count": 3,
   "metadata": {},
   "outputs": [
    {
     "name": "stdout",
     "output_type": "stream",
     "text": [
      "<class 'pandas.core.frame.DataFrame'>\n",
      "RangeIndex: 23699 entries, 0 to 23698\n",
      "Data columns (total 22 columns):\n",
      " #   Column                Non-Null Count  Dtype  \n",
      "---  ------                --------------  -----  \n",
      " 0   total_images          23699 non-null  int64  \n",
      " 1   last_price            23699 non-null  float64\n",
      " 2   total_area            23699 non-null  float64\n",
      " 3   first_day_exposition  23699 non-null  object \n",
      " 4   rooms                 23699 non-null  int64  \n",
      " 5   ceiling_height        14504 non-null  float64\n",
      " 6   floors_total          23613 non-null  float64\n",
      " 7   living_area           21796 non-null  float64\n",
      " 8   floor                 23699 non-null  int64  \n",
      " 9   is_apartment          2775 non-null   object \n",
      " 10  studio                23699 non-null  bool   \n",
      " 11  open_plan             23699 non-null  bool   \n",
      " 12  kitchen_area          21421 non-null  float64\n",
      " 13  balcony               12180 non-null  float64\n",
      " 14  locality_name         23650 non-null  object \n",
      " 15  airports_nearest      18157 non-null  float64\n",
      " 16  cityCenters_nearest   18180 non-null  float64\n",
      " 17  parks_around3000      18181 non-null  float64\n",
      " 18  parks_nearest         8079 non-null   float64\n",
      " 19  ponds_around3000      18181 non-null  float64\n",
      " 20  ponds_nearest         9110 non-null   float64\n",
      " 21  days_exposition       20518 non-null  float64\n",
      "dtypes: bool(2), float64(14), int64(3), object(3)\n",
      "memory usage: 3.7+ MB\n"
     ]
    }
   ],
   "source": [
    "data.info()"
   ]
  },
  {
   "cell_type": "code",
   "execution_count": 4,
   "metadata": {},
   "outputs": [],
   "source": [
    "#Изменим тип на int в столбце last_price для более удобного восприятия\n",
    "data[\"last_price\"] = data[\"last_price\"].astype(\"int\")"
   ]
  },
  {
   "cell_type": "code",
   "execution_count": 5,
   "metadata": {},
   "outputs": [
    {
     "data": {
      "text/html": [
       "<div>\n",
       "<style scoped>\n",
       "    .dataframe tbody tr th:only-of-type {\n",
       "        vertical-align: middle;\n",
       "    }\n",
       "\n",
       "    .dataframe tbody tr th {\n",
       "        vertical-align: top;\n",
       "    }\n",
       "\n",
       "    .dataframe thead th {\n",
       "        text-align: right;\n",
       "    }\n",
       "</style>\n",
       "<table border=\"1\" class=\"dataframe\">\n",
       "  <thead>\n",
       "    <tr style=\"text-align: right;\">\n",
       "      <th></th>\n",
       "      <th>0</th>\n",
       "      <th>1</th>\n",
       "      <th>2</th>\n",
       "      <th>3</th>\n",
       "      <th>4</th>\n",
       "      <th>5</th>\n",
       "      <th>6</th>\n",
       "      <th>7</th>\n",
       "      <th>8</th>\n",
       "      <th>9</th>\n",
       "      <th>...</th>\n",
       "      <th>23689</th>\n",
       "      <th>23690</th>\n",
       "      <th>23691</th>\n",
       "      <th>23692</th>\n",
       "      <th>23693</th>\n",
       "      <th>23694</th>\n",
       "      <th>23695</th>\n",
       "      <th>23696</th>\n",
       "      <th>23697</th>\n",
       "      <th>23698</th>\n",
       "    </tr>\n",
       "  </thead>\n",
       "  <tbody>\n",
       "    <tr>\n",
       "      <th>total_images</th>\n",
       "      <td>20</td>\n",
       "      <td>7</td>\n",
       "      <td>10</td>\n",
       "      <td>0</td>\n",
       "      <td>2</td>\n",
       "      <td>10</td>\n",
       "      <td>6</td>\n",
       "      <td>5</td>\n",
       "      <td>20</td>\n",
       "      <td>18</td>\n",
       "      <td>...</td>\n",
       "      <td>13</td>\n",
       "      <td>3</td>\n",
       "      <td>11</td>\n",
       "      <td>2</td>\n",
       "      <td>9</td>\n",
       "      <td>9</td>\n",
       "      <td>14</td>\n",
       "      <td>18</td>\n",
       "      <td>13</td>\n",
       "      <td>4</td>\n",
       "    </tr>\n",
       "    <tr>\n",
       "      <th>last_price</th>\n",
       "      <td>13000000</td>\n",
       "      <td>3350000</td>\n",
       "      <td>5196000</td>\n",
       "      <td>64900000</td>\n",
       "      <td>10000000</td>\n",
       "      <td>2890000</td>\n",
       "      <td>3700000</td>\n",
       "      <td>7915000</td>\n",
       "      <td>2900000</td>\n",
       "      <td>5400000</td>\n",
       "      <td>...</td>\n",
       "      <td>3550000</td>\n",
       "      <td>5500000</td>\n",
       "      <td>9470000</td>\n",
       "      <td>1350000</td>\n",
       "      <td>4600000</td>\n",
       "      <td>9700000</td>\n",
       "      <td>3100000</td>\n",
       "      <td>2500000</td>\n",
       "      <td>11475000</td>\n",
       "      <td>1350000</td>\n",
       "    </tr>\n",
       "    <tr>\n",
       "      <th>total_area</th>\n",
       "      <td>108.0</td>\n",
       "      <td>40.4</td>\n",
       "      <td>56.0</td>\n",
       "      <td>159.0</td>\n",
       "      <td>100.0</td>\n",
       "      <td>30.4</td>\n",
       "      <td>37.3</td>\n",
       "      <td>71.6</td>\n",
       "      <td>33.16</td>\n",
       "      <td>61.0</td>\n",
       "      <td>...</td>\n",
       "      <td>35.3</td>\n",
       "      <td>52.0</td>\n",
       "      <td>72.9</td>\n",
       "      <td>30.0</td>\n",
       "      <td>62.4</td>\n",
       "      <td>133.81</td>\n",
       "      <td>59.0</td>\n",
       "      <td>56.7</td>\n",
       "      <td>76.75</td>\n",
       "      <td>32.3</td>\n",
       "    </tr>\n",
       "    <tr>\n",
       "      <th>first_day_exposition</th>\n",
       "      <td>2019-03-07T00:00:00</td>\n",
       "      <td>2018-12-04T00:00:00</td>\n",
       "      <td>2015-08-20T00:00:00</td>\n",
       "      <td>2015-07-24T00:00:00</td>\n",
       "      <td>2018-06-19T00:00:00</td>\n",
       "      <td>2018-09-10T00:00:00</td>\n",
       "      <td>2017-11-02T00:00:00</td>\n",
       "      <td>2019-04-18T00:00:00</td>\n",
       "      <td>2018-05-23T00:00:00</td>\n",
       "      <td>2017-02-26T00:00:00</td>\n",
       "      <td>...</td>\n",
       "      <td>2018-02-28T00:00:00</td>\n",
       "      <td>2018-07-19T00:00:00</td>\n",
       "      <td>2016-10-13T00:00:00</td>\n",
       "      <td>2017-07-07T00:00:00</td>\n",
       "      <td>2016-08-05T00:00:00</td>\n",
       "      <td>2017-03-21T00:00:00</td>\n",
       "      <td>2018-01-15T00:00:00</td>\n",
       "      <td>2018-02-11T00:00:00</td>\n",
       "      <td>2017-03-28T00:00:00</td>\n",
       "      <td>2017-07-21T00:00:00</td>\n",
       "    </tr>\n",
       "    <tr>\n",
       "      <th>rooms</th>\n",
       "      <td>3</td>\n",
       "      <td>1</td>\n",
       "      <td>2</td>\n",
       "      <td>3</td>\n",
       "      <td>2</td>\n",
       "      <td>1</td>\n",
       "      <td>1</td>\n",
       "      <td>2</td>\n",
       "      <td>1</td>\n",
       "      <td>3</td>\n",
       "      <td>...</td>\n",
       "      <td>1</td>\n",
       "      <td>2</td>\n",
       "      <td>2</td>\n",
       "      <td>1</td>\n",
       "      <td>3</td>\n",
       "      <td>3</td>\n",
       "      <td>3</td>\n",
       "      <td>2</td>\n",
       "      <td>2</td>\n",
       "      <td>1</td>\n",
       "    </tr>\n",
       "    <tr>\n",
       "      <th>ceiling_height</th>\n",
       "      <td>2.7</td>\n",
       "      <td>NaN</td>\n",
       "      <td>NaN</td>\n",
       "      <td>NaN</td>\n",
       "      <td>3.03</td>\n",
       "      <td>NaN</td>\n",
       "      <td>NaN</td>\n",
       "      <td>NaN</td>\n",
       "      <td>NaN</td>\n",
       "      <td>2.5</td>\n",
       "      <td>...</td>\n",
       "      <td>2.86</td>\n",
       "      <td>NaN</td>\n",
       "      <td>2.75</td>\n",
       "      <td>NaN</td>\n",
       "      <td>2.6</td>\n",
       "      <td>3.7</td>\n",
       "      <td>NaN</td>\n",
       "      <td>NaN</td>\n",
       "      <td>3.0</td>\n",
       "      <td>2.5</td>\n",
       "    </tr>\n",
       "    <tr>\n",
       "      <th>floors_total</th>\n",
       "      <td>16.0</td>\n",
       "      <td>11.0</td>\n",
       "      <td>5.0</td>\n",
       "      <td>14.0</td>\n",
       "      <td>14.0</td>\n",
       "      <td>12.0</td>\n",
       "      <td>26.0</td>\n",
       "      <td>24.0</td>\n",
       "      <td>27.0</td>\n",
       "      <td>9.0</td>\n",
       "      <td>...</td>\n",
       "      <td>15.0</td>\n",
       "      <td>5.0</td>\n",
       "      <td>25.0</td>\n",
       "      <td>5.0</td>\n",
       "      <td>9.0</td>\n",
       "      <td>5.0</td>\n",
       "      <td>5.0</td>\n",
       "      <td>3.0</td>\n",
       "      <td>17.0</td>\n",
       "      <td>5.0</td>\n",
       "    </tr>\n",
       "    <tr>\n",
       "      <th>living_area</th>\n",
       "      <td>51.0</td>\n",
       "      <td>18.6</td>\n",
       "      <td>34.3</td>\n",
       "      <td>NaN</td>\n",
       "      <td>32.0</td>\n",
       "      <td>14.4</td>\n",
       "      <td>10.6</td>\n",
       "      <td>NaN</td>\n",
       "      <td>15.43</td>\n",
       "      <td>43.6</td>\n",
       "      <td>...</td>\n",
       "      <td>16.3</td>\n",
       "      <td>31.0</td>\n",
       "      <td>40.3</td>\n",
       "      <td>17.5</td>\n",
       "      <td>40.0</td>\n",
       "      <td>73.3</td>\n",
       "      <td>38.0</td>\n",
       "      <td>29.7</td>\n",
       "      <td>NaN</td>\n",
       "      <td>12.3</td>\n",
       "    </tr>\n",
       "    <tr>\n",
       "      <th>floor</th>\n",
       "      <td>8</td>\n",
       "      <td>1</td>\n",
       "      <td>4</td>\n",
       "      <td>9</td>\n",
       "      <td>13</td>\n",
       "      <td>5</td>\n",
       "      <td>6</td>\n",
       "      <td>22</td>\n",
       "      <td>26</td>\n",
       "      <td>7</td>\n",
       "      <td>...</td>\n",
       "      <td>4</td>\n",
       "      <td>2</td>\n",
       "      <td>7</td>\n",
       "      <td>4</td>\n",
       "      <td>8</td>\n",
       "      <td>3</td>\n",
       "      <td>4</td>\n",
       "      <td>1</td>\n",
       "      <td>12</td>\n",
       "      <td>1</td>\n",
       "    </tr>\n",
       "    <tr>\n",
       "      <th>is_apartment</th>\n",
       "      <td>NaN</td>\n",
       "      <td>NaN</td>\n",
       "      <td>NaN</td>\n",
       "      <td>NaN</td>\n",
       "      <td>NaN</td>\n",
       "      <td>NaN</td>\n",
       "      <td>NaN</td>\n",
       "      <td>NaN</td>\n",
       "      <td>NaN</td>\n",
       "      <td>NaN</td>\n",
       "      <td>...</td>\n",
       "      <td>NaN</td>\n",
       "      <td>NaN</td>\n",
       "      <td>NaN</td>\n",
       "      <td>NaN</td>\n",
       "      <td>NaN</td>\n",
       "      <td>NaN</td>\n",
       "      <td>NaN</td>\n",
       "      <td>NaN</td>\n",
       "      <td>NaN</td>\n",
       "      <td>NaN</td>\n",
       "    </tr>\n",
       "    <tr>\n",
       "      <th>studio</th>\n",
       "      <td>False</td>\n",
       "      <td>False</td>\n",
       "      <td>False</td>\n",
       "      <td>False</td>\n",
       "      <td>False</td>\n",
       "      <td>False</td>\n",
       "      <td>False</td>\n",
       "      <td>False</td>\n",
       "      <td>False</td>\n",
       "      <td>False</td>\n",
       "      <td>...</td>\n",
       "      <td>False</td>\n",
       "      <td>False</td>\n",
       "      <td>False</td>\n",
       "      <td>False</td>\n",
       "      <td>False</td>\n",
       "      <td>False</td>\n",
       "      <td>False</td>\n",
       "      <td>False</td>\n",
       "      <td>False</td>\n",
       "      <td>False</td>\n",
       "    </tr>\n",
       "    <tr>\n",
       "      <th>open_plan</th>\n",
       "      <td>False</td>\n",
       "      <td>False</td>\n",
       "      <td>False</td>\n",
       "      <td>False</td>\n",
       "      <td>False</td>\n",
       "      <td>False</td>\n",
       "      <td>False</td>\n",
       "      <td>False</td>\n",
       "      <td>False</td>\n",
       "      <td>False</td>\n",
       "      <td>...</td>\n",
       "      <td>False</td>\n",
       "      <td>False</td>\n",
       "      <td>False</td>\n",
       "      <td>False</td>\n",
       "      <td>False</td>\n",
       "      <td>False</td>\n",
       "      <td>False</td>\n",
       "      <td>False</td>\n",
       "      <td>False</td>\n",
       "      <td>False</td>\n",
       "    </tr>\n",
       "    <tr>\n",
       "      <th>kitchen_area</th>\n",
       "      <td>25.0</td>\n",
       "      <td>11.0</td>\n",
       "      <td>8.3</td>\n",
       "      <td>NaN</td>\n",
       "      <td>41.0</td>\n",
       "      <td>9.1</td>\n",
       "      <td>14.4</td>\n",
       "      <td>18.9</td>\n",
       "      <td>8.81</td>\n",
       "      <td>6.5</td>\n",
       "      <td>...</td>\n",
       "      <td>9.1</td>\n",
       "      <td>6.0</td>\n",
       "      <td>10.6</td>\n",
       "      <td>6.0</td>\n",
       "      <td>8.0</td>\n",
       "      <td>13.83</td>\n",
       "      <td>8.5</td>\n",
       "      <td>NaN</td>\n",
       "      <td>23.3</td>\n",
       "      <td>9.0</td>\n",
       "    </tr>\n",
       "    <tr>\n",
       "      <th>balcony</th>\n",
       "      <td>NaN</td>\n",
       "      <td>2.0</td>\n",
       "      <td>0.0</td>\n",
       "      <td>0.0</td>\n",
       "      <td>NaN</td>\n",
       "      <td>NaN</td>\n",
       "      <td>1.0</td>\n",
       "      <td>2.0</td>\n",
       "      <td>NaN</td>\n",
       "      <td>2.0</td>\n",
       "      <td>...</td>\n",
       "      <td>2.0</td>\n",
       "      <td>NaN</td>\n",
       "      <td>1.0</td>\n",
       "      <td>NaN</td>\n",
       "      <td>0.0</td>\n",
       "      <td>NaN</td>\n",
       "      <td>NaN</td>\n",
       "      <td>NaN</td>\n",
       "      <td>2.0</td>\n",
       "      <td>NaN</td>\n",
       "    </tr>\n",
       "    <tr>\n",
       "      <th>locality_name</th>\n",
       "      <td>Санкт-Петербург</td>\n",
       "      <td>посёлок Шушары</td>\n",
       "      <td>Санкт-Петербург</td>\n",
       "      <td>Санкт-Петербург</td>\n",
       "      <td>Санкт-Петербург</td>\n",
       "      <td>городской посёлок Янино-1</td>\n",
       "      <td>посёлок Парголово</td>\n",
       "      <td>Санкт-Петербург</td>\n",
       "      <td>посёлок Мурино</td>\n",
       "      <td>Санкт-Петербург</td>\n",
       "      <td>...</td>\n",
       "      <td>Санкт-Петербург</td>\n",
       "      <td>Санкт-Петербург</td>\n",
       "      <td>Санкт-Петербург</td>\n",
       "      <td>Тихвин</td>\n",
       "      <td>Петергоф</td>\n",
       "      <td>Санкт-Петербург</td>\n",
       "      <td>Тосно</td>\n",
       "      <td>село Рождествено</td>\n",
       "      <td>Санкт-Петербург</td>\n",
       "      <td>поселок Новый Учхоз</td>\n",
       "    </tr>\n",
       "    <tr>\n",
       "      <th>airports_nearest</th>\n",
       "      <td>18863.0</td>\n",
       "      <td>12817.0</td>\n",
       "      <td>21741.0</td>\n",
       "      <td>28098.0</td>\n",
       "      <td>31856.0</td>\n",
       "      <td>NaN</td>\n",
       "      <td>52996.0</td>\n",
       "      <td>23982.0</td>\n",
       "      <td>NaN</td>\n",
       "      <td>50898.0</td>\n",
       "      <td>...</td>\n",
       "      <td>17284.0</td>\n",
       "      <td>20151.0</td>\n",
       "      <td>19424.0</td>\n",
       "      <td>NaN</td>\n",
       "      <td>45602.0</td>\n",
       "      <td>24665.0</td>\n",
       "      <td>NaN</td>\n",
       "      <td>NaN</td>\n",
       "      <td>39140.0</td>\n",
       "      <td>NaN</td>\n",
       "    </tr>\n",
       "    <tr>\n",
       "      <th>cityCenters_nearest</th>\n",
       "      <td>16028.0</td>\n",
       "      <td>18603.0</td>\n",
       "      <td>13933.0</td>\n",
       "      <td>6800.0</td>\n",
       "      <td>8098.0</td>\n",
       "      <td>NaN</td>\n",
       "      <td>19143.0</td>\n",
       "      <td>11634.0</td>\n",
       "      <td>NaN</td>\n",
       "      <td>15008.0</td>\n",
       "      <td>...</td>\n",
       "      <td>16081.0</td>\n",
       "      <td>6263.0</td>\n",
       "      <td>4489.0</td>\n",
       "      <td>NaN</td>\n",
       "      <td>34104.0</td>\n",
       "      <td>4232.0</td>\n",
       "      <td>NaN</td>\n",
       "      <td>NaN</td>\n",
       "      <td>10364.0</td>\n",
       "      <td>NaN</td>\n",
       "    </tr>\n",
       "    <tr>\n",
       "      <th>parks_around3000</th>\n",
       "      <td>1.0</td>\n",
       "      <td>0.0</td>\n",
       "      <td>1.0</td>\n",
       "      <td>2.0</td>\n",
       "      <td>2.0</td>\n",
       "      <td>NaN</td>\n",
       "      <td>0.0</td>\n",
       "      <td>0.0</td>\n",
       "      <td>NaN</td>\n",
       "      <td>0.0</td>\n",
       "      <td>...</td>\n",
       "      <td>1.0</td>\n",
       "      <td>1.0</td>\n",
       "      <td>0.0</td>\n",
       "      <td>NaN</td>\n",
       "      <td>1.0</td>\n",
       "      <td>1.0</td>\n",
       "      <td>NaN</td>\n",
       "      <td>NaN</td>\n",
       "      <td>2.0</td>\n",
       "      <td>NaN</td>\n",
       "    </tr>\n",
       "    <tr>\n",
       "      <th>parks_nearest</th>\n",
       "      <td>482.0</td>\n",
       "      <td>NaN</td>\n",
       "      <td>90.0</td>\n",
       "      <td>84.0</td>\n",
       "      <td>112.0</td>\n",
       "      <td>NaN</td>\n",
       "      <td>NaN</td>\n",
       "      <td>NaN</td>\n",
       "      <td>NaN</td>\n",
       "      <td>NaN</td>\n",
       "      <td>...</td>\n",
       "      <td>353.0</td>\n",
       "      <td>300.0</td>\n",
       "      <td>NaN</td>\n",
       "      <td>NaN</td>\n",
       "      <td>352.0</td>\n",
       "      <td>796.0</td>\n",
       "      <td>NaN</td>\n",
       "      <td>NaN</td>\n",
       "      <td>173.0</td>\n",
       "      <td>NaN</td>\n",
       "    </tr>\n",
       "    <tr>\n",
       "      <th>ponds_around3000</th>\n",
       "      <td>2.0</td>\n",
       "      <td>0.0</td>\n",
       "      <td>2.0</td>\n",
       "      <td>3.0</td>\n",
       "      <td>1.0</td>\n",
       "      <td>NaN</td>\n",
       "      <td>0.0</td>\n",
       "      <td>0.0</td>\n",
       "      <td>NaN</td>\n",
       "      <td>0.0</td>\n",
       "      <td>...</td>\n",
       "      <td>2.0</td>\n",
       "      <td>0.0</td>\n",
       "      <td>1.0</td>\n",
       "      <td>NaN</td>\n",
       "      <td>1.0</td>\n",
       "      <td>3.0</td>\n",
       "      <td>NaN</td>\n",
       "      <td>NaN</td>\n",
       "      <td>3.0</td>\n",
       "      <td>NaN</td>\n",
       "    </tr>\n",
       "    <tr>\n",
       "      <th>ponds_nearest</th>\n",
       "      <td>755.0</td>\n",
       "      <td>NaN</td>\n",
       "      <td>574.0</td>\n",
       "      <td>234.0</td>\n",
       "      <td>48.0</td>\n",
       "      <td>NaN</td>\n",
       "      <td>NaN</td>\n",
       "      <td>NaN</td>\n",
       "      <td>NaN</td>\n",
       "      <td>NaN</td>\n",
       "      <td>...</td>\n",
       "      <td>652.0</td>\n",
       "      <td>NaN</td>\n",
       "      <td>806.0</td>\n",
       "      <td>NaN</td>\n",
       "      <td>675.0</td>\n",
       "      <td>381.0</td>\n",
       "      <td>NaN</td>\n",
       "      <td>NaN</td>\n",
       "      <td>196.0</td>\n",
       "      <td>NaN</td>\n",
       "    </tr>\n",
       "    <tr>\n",
       "      <th>days_exposition</th>\n",
       "      <td>NaN</td>\n",
       "      <td>81.0</td>\n",
       "      <td>558.0</td>\n",
       "      <td>424.0</td>\n",
       "      <td>121.0</td>\n",
       "      <td>55.0</td>\n",
       "      <td>155.0</td>\n",
       "      <td>NaN</td>\n",
       "      <td>189.0</td>\n",
       "      <td>289.0</td>\n",
       "      <td>...</td>\n",
       "      <td>29.0</td>\n",
       "      <td>15.0</td>\n",
       "      <td>519.0</td>\n",
       "      <td>413.0</td>\n",
       "      <td>239.0</td>\n",
       "      <td>NaN</td>\n",
       "      <td>45.0</td>\n",
       "      <td>NaN</td>\n",
       "      <td>602.0</td>\n",
       "      <td>NaN</td>\n",
       "    </tr>\n",
       "  </tbody>\n",
       "</table>\n",
       "<p>22 rows × 23699 columns</p>\n",
       "</div>"
      ],
      "text/plain": [
       "                                    0                    1      \\\n",
       "total_images                           20                    7   \n",
       "last_price                       13000000              3350000   \n",
       "total_area                          108.0                 40.4   \n",
       "first_day_exposition  2019-03-07T00:00:00  2018-12-04T00:00:00   \n",
       "rooms                                   3                    1   \n",
       "ceiling_height                        2.7                  NaN   \n",
       "floors_total                         16.0                 11.0   \n",
       "living_area                          51.0                 18.6   \n",
       "floor                                   8                    1   \n",
       "is_apartment                          NaN                  NaN   \n",
       "studio                              False                False   \n",
       "open_plan                           False                False   \n",
       "kitchen_area                         25.0                 11.0   \n",
       "balcony                               NaN                  2.0   \n",
       "locality_name             Санкт-Петербург       посёлок Шушары   \n",
       "airports_nearest                  18863.0              12817.0   \n",
       "cityCenters_nearest               16028.0              18603.0   \n",
       "parks_around3000                      1.0                  0.0   \n",
       "parks_nearest                       482.0                  NaN   \n",
       "ponds_around3000                      2.0                  0.0   \n",
       "ponds_nearest                       755.0                  NaN   \n",
       "days_exposition                       NaN                 81.0   \n",
       "\n",
       "                                    2                    3      \\\n",
       "total_images                           10                    0   \n",
       "last_price                        5196000             64900000   \n",
       "total_area                           56.0                159.0   \n",
       "first_day_exposition  2015-08-20T00:00:00  2015-07-24T00:00:00   \n",
       "rooms                                   2                    3   \n",
       "ceiling_height                        NaN                  NaN   \n",
       "floors_total                          5.0                 14.0   \n",
       "living_area                          34.3                  NaN   \n",
       "floor                                   4                    9   \n",
       "is_apartment                          NaN                  NaN   \n",
       "studio                              False                False   \n",
       "open_plan                           False                False   \n",
       "kitchen_area                          8.3                  NaN   \n",
       "balcony                               0.0                  0.0   \n",
       "locality_name             Санкт-Петербург      Санкт-Петербург   \n",
       "airports_nearest                  21741.0              28098.0   \n",
       "cityCenters_nearest               13933.0               6800.0   \n",
       "parks_around3000                      1.0                  2.0   \n",
       "parks_nearest                        90.0                 84.0   \n",
       "ponds_around3000                      2.0                  3.0   \n",
       "ponds_nearest                       574.0                234.0   \n",
       "days_exposition                     558.0                424.0   \n",
       "\n",
       "                                    4                          5      \\\n",
       "total_images                            2                         10   \n",
       "last_price                       10000000                    2890000   \n",
       "total_area                          100.0                       30.4   \n",
       "first_day_exposition  2018-06-19T00:00:00        2018-09-10T00:00:00   \n",
       "rooms                                   2                          1   \n",
       "ceiling_height                       3.03                        NaN   \n",
       "floors_total                         14.0                       12.0   \n",
       "living_area                          32.0                       14.4   \n",
       "floor                                  13                          5   \n",
       "is_apartment                          NaN                        NaN   \n",
       "studio                              False                      False   \n",
       "open_plan                           False                      False   \n",
       "kitchen_area                         41.0                        9.1   \n",
       "balcony                               NaN                        NaN   \n",
       "locality_name             Санкт-Петербург  городской посёлок Янино-1   \n",
       "airports_nearest                  31856.0                        NaN   \n",
       "cityCenters_nearest                8098.0                        NaN   \n",
       "parks_around3000                      2.0                        NaN   \n",
       "parks_nearest                       112.0                        NaN   \n",
       "ponds_around3000                      1.0                        NaN   \n",
       "ponds_nearest                        48.0                        NaN   \n",
       "days_exposition                     121.0                       55.0   \n",
       "\n",
       "                                    6                    7      \\\n",
       "total_images                            6                    5   \n",
       "last_price                        3700000              7915000   \n",
       "total_area                           37.3                 71.6   \n",
       "first_day_exposition  2017-11-02T00:00:00  2019-04-18T00:00:00   \n",
       "rooms                                   1                    2   \n",
       "ceiling_height                        NaN                  NaN   \n",
       "floors_total                         26.0                 24.0   \n",
       "living_area                          10.6                  NaN   \n",
       "floor                                   6                   22   \n",
       "is_apartment                          NaN                  NaN   \n",
       "studio                              False                False   \n",
       "open_plan                           False                False   \n",
       "kitchen_area                         14.4                 18.9   \n",
       "balcony                               1.0                  2.0   \n",
       "locality_name           посёлок Парголово      Санкт-Петербург   \n",
       "airports_nearest                  52996.0              23982.0   \n",
       "cityCenters_nearest               19143.0              11634.0   \n",
       "parks_around3000                      0.0                  0.0   \n",
       "parks_nearest                         NaN                  NaN   \n",
       "ponds_around3000                      0.0                  0.0   \n",
       "ponds_nearest                         NaN                  NaN   \n",
       "days_exposition                     155.0                  NaN   \n",
       "\n",
       "                                    8                    9      ...  \\\n",
       "total_images                           20                   18  ...   \n",
       "last_price                        2900000              5400000  ...   \n",
       "total_area                          33.16                 61.0  ...   \n",
       "first_day_exposition  2018-05-23T00:00:00  2017-02-26T00:00:00  ...   \n",
       "rooms                                   1                    3  ...   \n",
       "ceiling_height                        NaN                  2.5  ...   \n",
       "floors_total                         27.0                  9.0  ...   \n",
       "living_area                         15.43                 43.6  ...   \n",
       "floor                                  26                    7  ...   \n",
       "is_apartment                          NaN                  NaN  ...   \n",
       "studio                              False                False  ...   \n",
       "open_plan                           False                False  ...   \n",
       "kitchen_area                         8.81                  6.5  ...   \n",
       "balcony                               NaN                  2.0  ...   \n",
       "locality_name              посёлок Мурино      Санкт-Петербург  ...   \n",
       "airports_nearest                      NaN              50898.0  ...   \n",
       "cityCenters_nearest                   NaN              15008.0  ...   \n",
       "parks_around3000                      NaN                  0.0  ...   \n",
       "parks_nearest                         NaN                  NaN  ...   \n",
       "ponds_around3000                      NaN                  0.0  ...   \n",
       "ponds_nearest                         NaN                  NaN  ...   \n",
       "days_exposition                     189.0                289.0  ...   \n",
       "\n",
       "                                    23689                23690  \\\n",
       "total_images                           13                    3   \n",
       "last_price                        3550000              5500000   \n",
       "total_area                           35.3                 52.0   \n",
       "first_day_exposition  2018-02-28T00:00:00  2018-07-19T00:00:00   \n",
       "rooms                                   1                    2   \n",
       "ceiling_height                       2.86                  NaN   \n",
       "floors_total                         15.0                  5.0   \n",
       "living_area                          16.3                 31.0   \n",
       "floor                                   4                    2   \n",
       "is_apartment                          NaN                  NaN   \n",
       "studio                              False                False   \n",
       "open_plan                           False                False   \n",
       "kitchen_area                          9.1                  6.0   \n",
       "balcony                               2.0                  NaN   \n",
       "locality_name             Санкт-Петербург      Санкт-Петербург   \n",
       "airports_nearest                  17284.0              20151.0   \n",
       "cityCenters_nearest               16081.0               6263.0   \n",
       "parks_around3000                      1.0                  1.0   \n",
       "parks_nearest                       353.0                300.0   \n",
       "ponds_around3000                      2.0                  0.0   \n",
       "ponds_nearest                       652.0                  NaN   \n",
       "days_exposition                      29.0                 15.0   \n",
       "\n",
       "                                    23691                23692  \\\n",
       "total_images                           11                    2   \n",
       "last_price                        9470000              1350000   \n",
       "total_area                           72.9                 30.0   \n",
       "first_day_exposition  2016-10-13T00:00:00  2017-07-07T00:00:00   \n",
       "rooms                                   2                    1   \n",
       "ceiling_height                       2.75                  NaN   \n",
       "floors_total                         25.0                  5.0   \n",
       "living_area                          40.3                 17.5   \n",
       "floor                                   7                    4   \n",
       "is_apartment                          NaN                  NaN   \n",
       "studio                              False                False   \n",
       "open_plan                           False                False   \n",
       "kitchen_area                         10.6                  6.0   \n",
       "balcony                               1.0                  NaN   \n",
       "locality_name             Санкт-Петербург               Тихвин   \n",
       "airports_nearest                  19424.0                  NaN   \n",
       "cityCenters_nearest                4489.0                  NaN   \n",
       "parks_around3000                      0.0                  NaN   \n",
       "parks_nearest                         NaN                  NaN   \n",
       "ponds_around3000                      1.0                  NaN   \n",
       "ponds_nearest                       806.0                  NaN   \n",
       "days_exposition                     519.0                413.0   \n",
       "\n",
       "                                    23693                23694  \\\n",
       "total_images                            9                    9   \n",
       "last_price                        4600000              9700000   \n",
       "total_area                           62.4               133.81   \n",
       "first_day_exposition  2016-08-05T00:00:00  2017-03-21T00:00:00   \n",
       "rooms                                   3                    3   \n",
       "ceiling_height                        2.6                  3.7   \n",
       "floors_total                          9.0                  5.0   \n",
       "living_area                          40.0                 73.3   \n",
       "floor                                   8                    3   \n",
       "is_apartment                          NaN                  NaN   \n",
       "studio                              False                False   \n",
       "open_plan                           False                False   \n",
       "kitchen_area                          8.0                13.83   \n",
       "balcony                               0.0                  NaN   \n",
       "locality_name                    Петергоф      Санкт-Петербург   \n",
       "airports_nearest                  45602.0              24665.0   \n",
       "cityCenters_nearest               34104.0               4232.0   \n",
       "parks_around3000                      1.0                  1.0   \n",
       "parks_nearest                       352.0                796.0   \n",
       "ponds_around3000                      1.0                  3.0   \n",
       "ponds_nearest                       675.0                381.0   \n",
       "days_exposition                     239.0                  NaN   \n",
       "\n",
       "                                    23695                23696  \\\n",
       "total_images                           14                   18   \n",
       "last_price                        3100000              2500000   \n",
       "total_area                           59.0                 56.7   \n",
       "first_day_exposition  2018-01-15T00:00:00  2018-02-11T00:00:00   \n",
       "rooms                                   3                    2   \n",
       "ceiling_height                        NaN                  NaN   \n",
       "floors_total                          5.0                  3.0   \n",
       "living_area                          38.0                 29.7   \n",
       "floor                                   4                    1   \n",
       "is_apartment                          NaN                  NaN   \n",
       "studio                              False                False   \n",
       "open_plan                           False                False   \n",
       "kitchen_area                          8.5                  NaN   \n",
       "balcony                               NaN                  NaN   \n",
       "locality_name                       Тосно     село Рождествено   \n",
       "airports_nearest                      NaN                  NaN   \n",
       "cityCenters_nearest                   NaN                  NaN   \n",
       "parks_around3000                      NaN                  NaN   \n",
       "parks_nearest                         NaN                  NaN   \n",
       "ponds_around3000                      NaN                  NaN   \n",
       "ponds_nearest                         NaN                  NaN   \n",
       "days_exposition                      45.0                  NaN   \n",
       "\n",
       "                                    23697                23698  \n",
       "total_images                           13                    4  \n",
       "last_price                       11475000              1350000  \n",
       "total_area                          76.75                 32.3  \n",
       "first_day_exposition  2017-03-28T00:00:00  2017-07-21T00:00:00  \n",
       "rooms                                   2                    1  \n",
       "ceiling_height                        3.0                  2.5  \n",
       "floors_total                         17.0                  5.0  \n",
       "living_area                           NaN                 12.3  \n",
       "floor                                  12                    1  \n",
       "is_apartment                          NaN                  NaN  \n",
       "studio                              False                False  \n",
       "open_plan                           False                False  \n",
       "kitchen_area                         23.3                  9.0  \n",
       "balcony                               2.0                  NaN  \n",
       "locality_name             Санкт-Петербург  поселок Новый Учхоз  \n",
       "airports_nearest                  39140.0                  NaN  \n",
       "cityCenters_nearest               10364.0                  NaN  \n",
       "parks_around3000                      2.0                  NaN  \n",
       "parks_nearest                       173.0                  NaN  \n",
       "ponds_around3000                      3.0                  NaN  \n",
       "ponds_nearest                       196.0                  NaN  \n",
       "days_exposition                     602.0                  NaN  \n",
       "\n",
       "[22 rows x 23699 columns]"
      ]
     },
     "execution_count": 5,
     "metadata": {},
     "output_type": "execute_result"
    }
   ],
   "source": [
    "data.T"
   ]
  },
  {
   "cell_type": "code",
   "execution_count": 6,
   "metadata": {},
   "outputs": [
    {
     "data": {
      "text/html": [
       "<div>\n",
       "<style scoped>\n",
       "    .dataframe tbody tr th:only-of-type {\n",
       "        vertical-align: middle;\n",
       "    }\n",
       "\n",
       "    .dataframe tbody tr th {\n",
       "        vertical-align: top;\n",
       "    }\n",
       "\n",
       "    .dataframe thead th {\n",
       "        text-align: right;\n",
       "    }\n",
       "</style>\n",
       "<table border=\"1\" class=\"dataframe\">\n",
       "  <thead>\n",
       "    <tr style=\"text-align: right;\">\n",
       "      <th></th>\n",
       "      <th>total_images</th>\n",
       "      <th>last_price</th>\n",
       "      <th>total_area</th>\n",
       "      <th>rooms</th>\n",
       "      <th>ceiling_height</th>\n",
       "      <th>floors_total</th>\n",
       "      <th>living_area</th>\n",
       "      <th>floor</th>\n",
       "      <th>kitchen_area</th>\n",
       "      <th>balcony</th>\n",
       "      <th>airports_nearest</th>\n",
       "      <th>cityCenters_nearest</th>\n",
       "      <th>parks_around3000</th>\n",
       "      <th>parks_nearest</th>\n",
       "      <th>ponds_around3000</th>\n",
       "      <th>ponds_nearest</th>\n",
       "      <th>days_exposition</th>\n",
       "    </tr>\n",
       "  </thead>\n",
       "  <tbody>\n",
       "    <tr>\n",
       "      <th>count</th>\n",
       "      <td>23699.000000</td>\n",
       "      <td>2.369900e+04</td>\n",
       "      <td>23699.000000</td>\n",
       "      <td>23699.000000</td>\n",
       "      <td>14504.000000</td>\n",
       "      <td>23613.000000</td>\n",
       "      <td>21796.000000</td>\n",
       "      <td>23699.000000</td>\n",
       "      <td>21421.000000</td>\n",
       "      <td>12180.000000</td>\n",
       "      <td>18157.000000</td>\n",
       "      <td>18180.000000</td>\n",
       "      <td>18181.000000</td>\n",
       "      <td>8079.000000</td>\n",
       "      <td>18181.000000</td>\n",
       "      <td>9110.000000</td>\n",
       "      <td>20518.000000</td>\n",
       "    </tr>\n",
       "    <tr>\n",
       "      <th>mean</th>\n",
       "      <td>9.858475</td>\n",
       "      <td>6.541549e+06</td>\n",
       "      <td>60.348651</td>\n",
       "      <td>2.070636</td>\n",
       "      <td>2.771499</td>\n",
       "      <td>10.673824</td>\n",
       "      <td>34.457852</td>\n",
       "      <td>5.892358</td>\n",
       "      <td>10.569807</td>\n",
       "      <td>1.150082</td>\n",
       "      <td>28793.672193</td>\n",
       "      <td>14191.277833</td>\n",
       "      <td>0.611408</td>\n",
       "      <td>490.804555</td>\n",
       "      <td>0.770255</td>\n",
       "      <td>517.980900</td>\n",
       "      <td>180.888634</td>\n",
       "    </tr>\n",
       "    <tr>\n",
       "      <th>std</th>\n",
       "      <td>5.682529</td>\n",
       "      <td>1.088701e+07</td>\n",
       "      <td>35.654083</td>\n",
       "      <td>1.078405</td>\n",
       "      <td>1.261056</td>\n",
       "      <td>6.597173</td>\n",
       "      <td>22.030445</td>\n",
       "      <td>4.885249</td>\n",
       "      <td>5.905438</td>\n",
       "      <td>1.071300</td>\n",
       "      <td>12630.880622</td>\n",
       "      <td>8608.386210</td>\n",
       "      <td>0.802074</td>\n",
       "      <td>342.317995</td>\n",
       "      <td>0.938346</td>\n",
       "      <td>277.720643</td>\n",
       "      <td>219.727988</td>\n",
       "    </tr>\n",
       "    <tr>\n",
       "      <th>min</th>\n",
       "      <td>0.000000</td>\n",
       "      <td>1.219000e+04</td>\n",
       "      <td>12.000000</td>\n",
       "      <td>0.000000</td>\n",
       "      <td>1.000000</td>\n",
       "      <td>1.000000</td>\n",
       "      <td>2.000000</td>\n",
       "      <td>1.000000</td>\n",
       "      <td>1.300000</td>\n",
       "      <td>0.000000</td>\n",
       "      <td>0.000000</td>\n",
       "      <td>181.000000</td>\n",
       "      <td>0.000000</td>\n",
       "      <td>1.000000</td>\n",
       "      <td>0.000000</td>\n",
       "      <td>13.000000</td>\n",
       "      <td>1.000000</td>\n",
       "    </tr>\n",
       "    <tr>\n",
       "      <th>25%</th>\n",
       "      <td>6.000000</td>\n",
       "      <td>3.400000e+06</td>\n",
       "      <td>40.000000</td>\n",
       "      <td>1.000000</td>\n",
       "      <td>2.520000</td>\n",
       "      <td>5.000000</td>\n",
       "      <td>18.600000</td>\n",
       "      <td>2.000000</td>\n",
       "      <td>7.000000</td>\n",
       "      <td>0.000000</td>\n",
       "      <td>18585.000000</td>\n",
       "      <td>9238.000000</td>\n",
       "      <td>0.000000</td>\n",
       "      <td>288.000000</td>\n",
       "      <td>0.000000</td>\n",
       "      <td>294.000000</td>\n",
       "      <td>45.000000</td>\n",
       "    </tr>\n",
       "    <tr>\n",
       "      <th>50%</th>\n",
       "      <td>9.000000</td>\n",
       "      <td>4.650000e+06</td>\n",
       "      <td>52.000000</td>\n",
       "      <td>2.000000</td>\n",
       "      <td>2.650000</td>\n",
       "      <td>9.000000</td>\n",
       "      <td>30.000000</td>\n",
       "      <td>4.000000</td>\n",
       "      <td>9.100000</td>\n",
       "      <td>1.000000</td>\n",
       "      <td>26726.000000</td>\n",
       "      <td>13098.500000</td>\n",
       "      <td>0.000000</td>\n",
       "      <td>455.000000</td>\n",
       "      <td>1.000000</td>\n",
       "      <td>502.000000</td>\n",
       "      <td>95.000000</td>\n",
       "    </tr>\n",
       "    <tr>\n",
       "      <th>75%</th>\n",
       "      <td>14.000000</td>\n",
       "      <td>6.800000e+06</td>\n",
       "      <td>69.900000</td>\n",
       "      <td>3.000000</td>\n",
       "      <td>2.800000</td>\n",
       "      <td>16.000000</td>\n",
       "      <td>42.300000</td>\n",
       "      <td>8.000000</td>\n",
       "      <td>12.000000</td>\n",
       "      <td>2.000000</td>\n",
       "      <td>37273.000000</td>\n",
       "      <td>16293.000000</td>\n",
       "      <td>1.000000</td>\n",
       "      <td>612.000000</td>\n",
       "      <td>1.000000</td>\n",
       "      <td>729.000000</td>\n",
       "      <td>232.000000</td>\n",
       "    </tr>\n",
       "    <tr>\n",
       "      <th>max</th>\n",
       "      <td>50.000000</td>\n",
       "      <td>7.630000e+08</td>\n",
       "      <td>900.000000</td>\n",
       "      <td>19.000000</td>\n",
       "      <td>100.000000</td>\n",
       "      <td>60.000000</td>\n",
       "      <td>409.700000</td>\n",
       "      <td>33.000000</td>\n",
       "      <td>112.000000</td>\n",
       "      <td>5.000000</td>\n",
       "      <td>84869.000000</td>\n",
       "      <td>65968.000000</td>\n",
       "      <td>3.000000</td>\n",
       "      <td>3190.000000</td>\n",
       "      <td>3.000000</td>\n",
       "      <td>1344.000000</td>\n",
       "      <td>1580.000000</td>\n",
       "    </tr>\n",
       "  </tbody>\n",
       "</table>\n",
       "</div>"
      ],
      "text/plain": [
       "       total_images    last_price    total_area         rooms  ceiling_height  \\\n",
       "count  23699.000000  2.369900e+04  23699.000000  23699.000000    14504.000000   \n",
       "mean       9.858475  6.541549e+06     60.348651      2.070636        2.771499   \n",
       "std        5.682529  1.088701e+07     35.654083      1.078405        1.261056   \n",
       "min        0.000000  1.219000e+04     12.000000      0.000000        1.000000   \n",
       "25%        6.000000  3.400000e+06     40.000000      1.000000        2.520000   \n",
       "50%        9.000000  4.650000e+06     52.000000      2.000000        2.650000   \n",
       "75%       14.000000  6.800000e+06     69.900000      3.000000        2.800000   \n",
       "max       50.000000  7.630000e+08    900.000000     19.000000      100.000000   \n",
       "\n",
       "       floors_total   living_area         floor  kitchen_area       balcony  \\\n",
       "count  23613.000000  21796.000000  23699.000000  21421.000000  12180.000000   \n",
       "mean      10.673824     34.457852      5.892358     10.569807      1.150082   \n",
       "std        6.597173     22.030445      4.885249      5.905438      1.071300   \n",
       "min        1.000000      2.000000      1.000000      1.300000      0.000000   \n",
       "25%        5.000000     18.600000      2.000000      7.000000      0.000000   \n",
       "50%        9.000000     30.000000      4.000000      9.100000      1.000000   \n",
       "75%       16.000000     42.300000      8.000000     12.000000      2.000000   \n",
       "max       60.000000    409.700000     33.000000    112.000000      5.000000   \n",
       "\n",
       "       airports_nearest  cityCenters_nearest  parks_around3000  parks_nearest  \\\n",
       "count      18157.000000         18180.000000      18181.000000    8079.000000   \n",
       "mean       28793.672193         14191.277833          0.611408     490.804555   \n",
       "std        12630.880622          8608.386210          0.802074     342.317995   \n",
       "min            0.000000           181.000000          0.000000       1.000000   \n",
       "25%        18585.000000          9238.000000          0.000000     288.000000   \n",
       "50%        26726.000000         13098.500000          0.000000     455.000000   \n",
       "75%        37273.000000         16293.000000          1.000000     612.000000   \n",
       "max        84869.000000         65968.000000          3.000000    3190.000000   \n",
       "\n",
       "       ponds_around3000  ponds_nearest  days_exposition  \n",
       "count      18181.000000    9110.000000     20518.000000  \n",
       "mean           0.770255     517.980900       180.888634  \n",
       "std            0.938346     277.720643       219.727988  \n",
       "min            0.000000      13.000000         1.000000  \n",
       "25%            0.000000     294.000000        45.000000  \n",
       "50%            1.000000     502.000000        95.000000  \n",
       "75%            1.000000     729.000000       232.000000  \n",
       "max            3.000000    1344.000000      1580.000000  "
      ]
     },
     "execution_count": 6,
     "metadata": {},
     "output_type": "execute_result"
    }
   ],
   "source": [
    "data.describe()"
   ]
  },
  {
   "cell_type": "markdown",
   "metadata": {},
   "source": [
    "### Вывод"
   ]
  },
  {
   "cell_type": "markdown",
   "metadata": {},
   "source": [
    "Количесвто столбцов в таблице - 22 штуки. При этом в 15 из них наблюдаются пропуски. Кроме того, в столбцах нарушен формат данных:\n",
    "* `first_day_exposition` - в формате строки, а не даты. пропуски;\n",
    "* `balcony` - в форме float, а не int (Количество балконов целое число). пропуски;\n",
    "* `ponds_around3000` - в формате float, а не int (Количество прудов вокруг объекта должно быть целым числом). пропуски;\n",
    "* `parks_around3000` - в формате float, а не int (Количество парков вокруг объекта должно быть целым числом). пропуски;\n",
    "* `floors_total` - в формате float, а не int (Количество этажей в доме должны быть целым числом). пропуски;\n",
    "* `is_apartment` - в формате строки, а не логического значений(булев тип). пропуски;\n",
    "* `days_exposition` - в формате float, а не int. пропуски;\n",
    "* `ceiling_height` - пропуски;\n",
    "* `living_area` - пропуски;\n",
    "* `kitchen_area` - пропуски;\n",
    "* `locality_name` - пропуски;\n",
    "* `airports_nearest` - пропуски;\n",
    "* `cityCenters_nearest` - пропуски;\n",
    "* `parks_nearest` - пропуски;\n",
    "* `ponds_nearest` - пропуски;\n",
    "\n",
    "При изучениий столбцов, можно заметить выбросы:\n",
    "* `rooms` - максимальное количесвто комнта равнятся 19;\n",
    "* `floors_total` - Максимальное значение этажа равняется 60, при этом в столбце `floor` максимальное значение 33. При этом в СПБ такие высокти предназначены для бизнес-центров.\n",
    "* `ceiling_height` - Максимальная высота потолка равняется 100, а минимальное 1"
   ]
  },
  {
   "cell_type": "markdown",
   "metadata": {},
   "source": [
    "## Предобработка данных"
   ]
  },
  {
   "cell_type": "markdown",
   "metadata": {},
   "source": [
    "### Предобработка данных в столбце `balcony`"
   ]
  },
  {
   "cell_type": "markdown",
   "metadata": {},
   "source": [
    "Заменим пропуски на 0, так как можно предположить, что пустые значений появились при отсутствии балконов. И поменяем тип данных на `int`"
   ]
  },
  {
   "cell_type": "code",
   "execution_count": 7,
   "metadata": {},
   "outputs": [
    {
     "data": {
      "text/plain": [
       "1.0    4195\n",
       "0.0    3758\n",
       "2.0    3659\n",
       "5.0     304\n",
       "4.0     183\n",
       "3.0      81\n",
       "Name: balcony, dtype: int64"
      ]
     },
     "execution_count": 7,
     "metadata": {},
     "output_type": "execute_result"
    }
   ],
   "source": [
    "data['balcony'].value_counts()"
   ]
  },
  {
   "cell_type": "code",
   "execution_count": 8,
   "metadata": {},
   "outputs": [
    {
     "name": "stdout",
     "output_type": "stream",
     "text": [
      "Количество пропусков в столбце: 11519\n",
      "Процент пропусков в столбце: 48.605426389299126\n"
     ]
    }
   ],
   "source": [
    "print(\"Количество пропусков в столбце:\", data['balcony'].isna().sum())\n",
    "print(\"Процент пропусков в столбце:\",data['balcony'].isna().sum() / len(data['total_images']) * 100)"
   ]
  },
  {
   "cell_type": "code",
   "execution_count": 9,
   "metadata": {},
   "outputs": [],
   "source": [
    "data['balcony'] = data['balcony'].fillna(0)\n",
    "data['balcony'] = data['balcony'].astype(\"int\")"
   ]
  },
  {
   "cell_type": "code",
   "execution_count": 10,
   "metadata": {},
   "outputs": [
    {
     "name": "stdout",
     "output_type": "stream",
     "text": [
      "Количество пропусков в столбце: 0\n"
     ]
    }
   ],
   "source": [
    "print(\"Количество пропусков в столбце:\", data['balcony'].isna().sum())"
   ]
  },
  {
   "cell_type": "code",
   "execution_count": 11,
   "metadata": {},
   "outputs": [
    {
     "data": {
      "text/plain": [
       "0    15277\n",
       "1     4195\n",
       "2     3659\n",
       "5      304\n",
       "4      183\n",
       "3       81\n",
       "Name: balcony, dtype: int64"
      ]
     },
     "execution_count": 11,
     "metadata": {},
     "output_type": "execute_result"
    }
   ],
   "source": [
    "data['balcony'].value_counts()"
   ]
  },
  {
   "cell_type": "markdown",
   "metadata": {},
   "source": [
    "### Предобработка данных в столбце `first_day_exposition`"
   ]
  },
  {
   "cell_type": "markdown",
   "metadata": {},
   "source": [
    "В столбце не указаны время покупки, поэтому можно привести к формату Год-месяц-дата"
   ]
  },
  {
   "cell_type": "code",
   "execution_count": 12,
   "metadata": {},
   "outputs": [],
   "source": [
    "data[\"first_day_exposition\"] = pd.to_datetime(data['first_day_exposition'], format = \"%Y-%m-%d\")"
   ]
  },
  {
   "cell_type": "markdown",
   "metadata": {},
   "source": [
    "### Предобработка данных в столбце `ponds_around3000`"
   ]
  },
  {
   "cell_type": "markdown",
   "metadata": {},
   "source": [
    "Заменим пропуски на 0, так как можно предположить, что пустые значений появились при отсутствии прудов в радиусе 3 км. И поменяем тип данных на `int`"
   ]
  },
  {
   "cell_type": "code",
   "execution_count": 13,
   "metadata": {},
   "outputs": [
    {
     "data": {
      "text/plain": [
       "0.0    9071\n",
       "1.0    5717\n",
       "2.0    1892\n",
       "3.0    1501\n",
       "Name: ponds_around3000, dtype: int64"
      ]
     },
     "execution_count": 13,
     "metadata": {},
     "output_type": "execute_result"
    }
   ],
   "source": [
    "data['ponds_around3000'].value_counts()"
   ]
  },
  {
   "cell_type": "code",
   "execution_count": 14,
   "metadata": {},
   "outputs": [
    {
     "name": "stdout",
     "output_type": "stream",
     "text": [
      "Количество пропусков в столбце: 5518\n",
      "Процент пропусков в столбце: 23.2836828558167\n"
     ]
    }
   ],
   "source": [
    "print(\"Количество пропусков в столбце:\", data['ponds_around3000'].isna().sum())\n",
    "print(\"Процент пропусков в столбце:\",data['ponds_around3000'].isna().sum() / len(data['total_images']) * 100)"
   ]
  },
  {
   "cell_type": "code",
   "execution_count": 15,
   "metadata": {},
   "outputs": [],
   "source": [
    "data['ponds_around3000'] = data['ponds_around3000'].fillna(0)\n",
    "data['ponds_around3000'] = data['ponds_around3000'].astype(\"int\")"
   ]
  },
  {
   "cell_type": "code",
   "execution_count": 16,
   "metadata": {},
   "outputs": [
    {
     "name": "stdout",
     "output_type": "stream",
     "text": [
      "Процент пропусков в столбце: 0.0\n"
     ]
    }
   ],
   "source": [
    "print(\"Процент пропусков в столбце:\",data['ponds_around3000'].isna().sum() / len(data['total_images']) * 100)"
   ]
  },
  {
   "cell_type": "code",
   "execution_count": 17,
   "metadata": {},
   "outputs": [
    {
     "data": {
      "text/plain": [
       "0    14589\n",
       "1     5717\n",
       "2     1892\n",
       "3     1501\n",
       "Name: ponds_around3000, dtype: int64"
      ]
     },
     "execution_count": 17,
     "metadata": {},
     "output_type": "execute_result"
    }
   ],
   "source": [
    "data['ponds_around3000'].value_counts()"
   ]
  },
  {
   "cell_type": "markdown",
   "metadata": {},
   "source": [
    "### Предобработка данных в столбце `parks_around3000`"
   ]
  },
  {
   "cell_type": "markdown",
   "metadata": {},
   "source": [
    "Заменим пропуски на 0, так как можно предположить, что пустые значений появились при отсутствии парков в радиусе 3 км. И поменяем тип данных на `int`"
   ]
  },
  {
   "cell_type": "code",
   "execution_count": 18,
   "metadata": {},
   "outputs": [
    {
     "data": {
      "text/plain": [
       "0.0    10106\n",
       "1.0     5681\n",
       "2.0     1747\n",
       "3.0      647\n",
       "Name: parks_around3000, dtype: int64"
      ]
     },
     "execution_count": 18,
     "metadata": {},
     "output_type": "execute_result"
    }
   ],
   "source": [
    "data['parks_around3000'].value_counts()"
   ]
  },
  {
   "cell_type": "code",
   "execution_count": 19,
   "metadata": {},
   "outputs": [
    {
     "name": "stdout",
     "output_type": "stream",
     "text": [
      "Количество пропусков в столбце: 5518\n",
      "Процент пропусков в столбце: 23.2836828558167\n"
     ]
    }
   ],
   "source": [
    "print(\"Количество пропусков в столбце:\", data['parks_around3000'].isna().sum())\n",
    "print(\"Процент пропусков в столбце:\",data['parks_around3000'].isna().sum() / len(data['total_images']) * 100)"
   ]
  },
  {
   "cell_type": "code",
   "execution_count": 20,
   "metadata": {},
   "outputs": [],
   "source": [
    "data['ponds_around3000'] = data['ponds_around3000'].fillna(0)\n",
    "data['ponds_around3000'] = data['ponds_around3000'].astype(\"int\")"
   ]
  },
  {
   "cell_type": "code",
   "execution_count": 21,
   "metadata": {},
   "outputs": [
    {
     "data": {
      "text/plain": [
       "0    14589\n",
       "1     5717\n",
       "2     1892\n",
       "3     1501\n",
       "Name: ponds_around3000, dtype: int64"
      ]
     },
     "execution_count": 21,
     "metadata": {},
     "output_type": "execute_result"
    }
   ],
   "source": [
    "data['ponds_around3000'].value_counts()"
   ]
  },
  {
   "cell_type": "markdown",
   "metadata": {},
   "source": [
    "### Предобработка данных в столбце `is_apartment`"
   ]
  },
  {
   "cell_type": "markdown",
   "metadata": {},
   "source": [
    "В связи с тем, что пропуски в столбце составляют 88 процентов, можно предположить что введение столбца апартаментов было добавлено недавно или игнорировалось, так как апартаментов было немного. Поэтому пропуски можно заменить на `False`"
   ]
  },
  {
   "cell_type": "code",
   "execution_count": 22,
   "metadata": {},
   "outputs": [
    {
     "data": {
      "text/plain": [
       "False    2725\n",
       "True       50\n",
       "Name: is_apartment, dtype: int64"
      ]
     },
     "execution_count": 22,
     "metadata": {},
     "output_type": "execute_result"
    }
   ],
   "source": [
    "data[\"is_apartment\"].value_counts()"
   ]
  },
  {
   "cell_type": "code",
   "execution_count": 23,
   "metadata": {},
   "outputs": [
    {
     "name": "stdout",
     "output_type": "stream",
     "text": [
      "Количество пропусков в столбце: 20924\n",
      "Процент пропусков в столбце: 88.2906451749019\n"
     ]
    }
   ],
   "source": [
    "print(\"Количество пропусков в столбце:\", data['is_apartment'].isna().sum())\n",
    "print(\"Процент пропусков в столбце:\",data['is_apartment'].isna().sum() / len(data['total_images']) * 100)"
   ]
  },
  {
   "cell_type": "code",
   "execution_count": 24,
   "metadata": {},
   "outputs": [],
   "source": [
    "data[\"is_apartment\"] = data[\"is_apartment\"].fillna(False)"
   ]
  },
  {
   "cell_type": "code",
   "execution_count": 25,
   "metadata": {},
   "outputs": [
    {
     "name": "stdout",
     "output_type": "stream",
     "text": [
      "Процент пропусков в столбце: 0.0\n"
     ]
    }
   ],
   "source": [
    "print(\"Процент пропусков в столбце:\",data['is_apartment'].isna().sum() / len(data['total_images']) * 100)"
   ]
  },
  {
   "cell_type": "code",
   "execution_count": 26,
   "metadata": {},
   "outputs": [
    {
     "data": {
      "text/plain": [
       "False    23649\n",
       "True        50\n",
       "Name: is_apartment, dtype: int64"
      ]
     },
     "execution_count": 26,
     "metadata": {},
     "output_type": "execute_result"
    }
   ],
   "source": [
    "data[\"is_apartment\"].value_counts()"
   ]
  },
  {
   "cell_type": "markdown",
   "metadata": {},
   "source": [
    "### Предобработка данных в столбце `ceiling_height`"
   ]
  },
  {
   "cell_type": "code",
   "execution_count": 27,
   "metadata": {},
   "outputs": [
    {
     "data": {
      "text/plain": [
       "count    14504.000000\n",
       "mean         2.771499\n",
       "std          1.261056\n",
       "min          1.000000\n",
       "25%          2.520000\n",
       "50%          2.650000\n",
       "75%          2.800000\n",
       "max        100.000000\n",
       "Name: ceiling_height, dtype: float64"
      ]
     },
     "execution_count": 27,
     "metadata": {},
     "output_type": "execute_result"
    }
   ],
   "source": [
    "data['ceiling_height'].describe()"
   ]
  },
  {
   "cell_type": "code",
   "execution_count": 28,
   "metadata": {},
   "outputs": [
    {
     "data": {
      "text/plain": [
       "25"
      ]
     },
     "execution_count": 28,
     "metadata": {},
     "output_type": "execute_result"
    }
   ],
   "source": [
    "data[data[\"ceiling_height\"] > 10]['ceiling_height'].count()"
   ]
  },
  {
   "cell_type": "markdown",
   "metadata": {},
   "source": [
    "Можно предполодить, что высота была прописана с ошибкой в запятой из-за невнимательности человека. Можно 25 значений перевести в нормальный вид."
   ]
  },
  {
   "cell_type": "code",
   "execution_count": 29,
   "metadata": {},
   "outputs": [],
   "source": [
    "import warnings\n",
    "warnings.filterwarnings('ignore')\n",
    "for i in range(len(data[\"ceiling_height\"])):\n",
    "        if data[\"ceiling_height\"][i] > 10:\n",
    "            data[\"ceiling_height\"][i] = data[\"ceiling_height\"][i] / 10"
   ]
  },
  {
   "cell_type": "code",
   "execution_count": 30,
   "metadata": {},
   "outputs": [
    {
     "data": {
      "text/plain": [
       "0"
      ]
     },
     "execution_count": 30,
     "metadata": {},
     "output_type": "execute_result"
    }
   ],
   "source": [
    "data[data[\"ceiling_height\"] > 10]['ceiling_height'].count()"
   ]
  },
  {
   "cell_type": "code",
   "execution_count": 31,
   "metadata": {},
   "outputs": [
    {
     "data": {
      "text/plain": [
       "count    14504.000000\n",
       "mean         2.728100\n",
       "std          0.299855\n",
       "min          1.000000\n",
       "25%          2.510000\n",
       "50%          2.650000\n",
       "75%          2.800000\n",
       "max         10.000000\n",
       "Name: ceiling_height, dtype: float64"
      ]
     },
     "execution_count": 31,
     "metadata": {},
     "output_type": "execute_result"
    }
   ],
   "source": [
    "data['ceiling_height'].describe()"
   ]
  },
  {
   "cell_type": "code",
   "execution_count": 32,
   "metadata": {},
   "outputs": [
    {
     "data": {
      "text/plain": [
       "25"
      ]
     },
     "execution_count": 32,
     "metadata": {},
     "output_type": "execute_result"
    }
   ],
   "source": [
    "data[data[\"ceiling_height\"] < 2.4]['ceiling_height'].count()"
   ]
  },
  {
   "cell_type": "code",
   "execution_count": 33,
   "metadata": {},
   "outputs": [
    {
     "data": {
      "text/plain": [
       "5"
      ]
     },
     "execution_count": 33,
     "metadata": {},
     "output_type": "execute_result"
    }
   ],
   "source": [
    "data[data[\"ceiling_height\"] > 6]['ceiling_height'].count()"
   ]
  },
  {
   "cell_type": "code",
   "execution_count": 34,
   "metadata": {},
   "outputs": [
    {
     "name": "stdout",
     "output_type": "stream",
     "text": [
      "Количество пропусков в столбце: 9195\n",
      "Процент пропусков в столбце: 38.799105447487236\n"
     ]
    }
   ],
   "source": [
    "print(\"Количество пропусков в столбце:\", data['ceiling_height'].isna().sum())\n",
    "print(\"Процент пропусков в столбце:\",data['ceiling_height'].isna().sum() / len(data['total_images']) * 100)"
   ]
  },
  {
   "cell_type": "markdown",
   "metadata": {},
   "source": [
    "В связи с тем, что нет информации о том, являются ли квартиры многоуровневыми, то пропущенные значений целесообразно заполнить медианной. Тем более отклонение равняется всего 0.2%. \n",
    "Выбросы ( 25 значений меньше 2.4 метра и 5 значений больше 6 метров(Если принять 6 метров как максимальное значение высоты потолка) составляют меньше 1% от общего числа значений, поэтому их мжно не удалять."
   ]
  },
  {
   "cell_type": "code",
   "execution_count": 35,
   "metadata": {},
   "outputs": [],
   "source": [
    "data[\"ceiling_height\"] = data[\"ceiling_height\"].fillna(data[\"ceiling_height\"].median())"
   ]
  },
  {
   "cell_type": "code",
   "execution_count": 36,
   "metadata": {},
   "outputs": [
    {
     "name": "stdout",
     "output_type": "stream",
     "text": [
      "Количество пропусков в столбце: 0\n",
      "Процент пропусков в столбце: 0.0\n"
     ]
    }
   ],
   "source": [
    "print(\"Количество пропусков в столбце:\", data['ceiling_height'].isna().sum())\n",
    "print(\"Процент пропусков в столбце:\",data['ceiling_height'].isna().sum() / len(data['total_images']) * 100)"
   ]
  },
  {
   "cell_type": "markdown",
   "metadata": {},
   "source": [
    "* Пропуски `parks_nearest`, `ponds_nearest` и в `airports_nearest` возникли в следствие того, что рядом нет парков,озер или аэропорта, либо находятся очень далеко, что не целесообразно их указывать. Поэтому возникли пропуски. Для анализа они не нужны, поэтому пропуски можно не заполнять.\n",
    "* Пропуски в `locality_name` вызваны невнимательностью оператора, заполняющего данные. Но количество таких пропусков составляет меньше 1%, что не повлияет на анализ.\n",
    "* Пропуски в `floors_total` вызваны тем, что скорей всего данное поле необязательна к заполнению. Процент пропусков составляет меньше 1% - на анализ не повлияет.\n",
    "* Пропуски в `days_exposition` появились в следствие того, что объявление не было снято, когда квартира была продана. Пропусков в столбце около 3000 (13,4%). Так как очень трудно оценить зависимость по продаже для заполнения - пропуски можно заменить на медианное значение, однако это может привести к искажению общей картины. Поэтому предлагаю оставить пропуски.\n",
    "* Пропуски в `kitchen_area` возможно возникли в результате наличия студий, так как в студии нет разделения на комнаты. Процент пропусков составляет 9% и в анализе не рассматривается. Оставим пустые строки.\n",
    "* Пропуски в `living_area` могли также возникнуть по причине студии, так как нет разделения. Процент пропусков составляет 8% и в анализе не рассматривается. Оставим пустые строки.\n",
    "* Пропуски в `cityCenters_nearest` могли возникуть в результате автоматического расчета системой от места до центра. При этом возможно стоял параметр, дальше определенного километрожа пропускал расчет, из-за большого расстояния. Посмотрим сколько пропусков есть когда город \"СПБ\" и когда в название населенного пункта пусто:"
   ]
  },
  {
   "cell_type": "code",
   "execution_count": 37,
   "metadata": {},
   "outputs": [
    {
     "data": {
      "text/plain": [
       "61"
      ]
     },
     "execution_count": 37,
     "metadata": {},
     "output_type": "execute_result"
    }
   ],
   "source": [
    "data[(data[\"locality_name\"] == \"Санкт-Петербург\") & (data[\"cityCenters_nearest\"].isna() == True)]['is_apartment'].count()"
   ]
  },
  {
   "cell_type": "code",
   "execution_count": 38,
   "metadata": {},
   "outputs": [
    {
     "data": {
      "text/plain": [
       "15721"
      ]
     },
     "execution_count": 38,
     "metadata": {},
     "output_type": "execute_result"
    }
   ],
   "source": [
    "data[(data[\"locality_name\"] == \"Санкт-Петербург\")]['is_apartment'].count()"
   ]
  },
  {
   "cell_type": "code",
   "execution_count": 39,
   "metadata": {},
   "outputs": [
    {
     "data": {
      "text/plain": [
       "8"
      ]
     },
     "execution_count": 39,
     "metadata": {},
     "output_type": "execute_result"
    }
   ],
   "source": [
    "data[(data[\"locality_name\"].isna() == True) & (data[\"cityCenters_nearest\"].isna() == True)]['is_apartment'].count()"
   ]
  },
  {
   "cell_type": "markdown",
   "metadata": {},
   "source": [
    "Как видим, количесвто пропусков для СПБ составляет 0,4%. А без названия населенного пункта всего 8 случаев. При рассмотрении информации квартир в СПБ такие пропуски не повлияют на анализ. А для других населенных пунктов данная информация не важна. Поэтому оставим пустые строки."
   ]
  },
  {
   "cell_type": "markdown",
   "metadata": {},
   "source": [
    "## Расчёты и добавление результатов в таблицу"
   ]
  },
  {
   "cell_type": "markdown",
   "metadata": {},
   "source": [
    "### Добавление цены за квадратный метр"
   ]
  },
  {
   "cell_type": "code",
   "execution_count": 40,
   "metadata": {},
   "outputs": [],
   "source": [
    "data['price_square_meter'] = data['last_price'] / data['total_area']"
   ]
  },
  {
   "cell_type": "markdown",
   "metadata": {},
   "source": [
    "Для удобного восприятия информации перевем тип данных в int"
   ]
  },
  {
   "cell_type": "code",
   "execution_count": 41,
   "metadata": {},
   "outputs": [],
   "source": [
    "data['price_square_meter'] = data['price_square_meter'].astype(\"int\")"
   ]
  },
  {
   "cell_type": "markdown",
   "metadata": {},
   "source": [
    "### Добавление дня недели, месяц и год публикации объявления;"
   ]
  },
  {
   "cell_type": "markdown",
   "metadata": {},
   "source": [
    "#### Добавляем день недели"
   ]
  },
  {
   "cell_type": "code",
   "execution_count": 42,
   "metadata": {},
   "outputs": [],
   "source": [
    "data[\"day\"] = data[\"first_day_exposition\"].dt.weekday"
   ]
  },
  {
   "cell_type": "markdown",
   "metadata": {},
   "source": [
    "#### Добавляем месяц"
   ]
  },
  {
   "cell_type": "code",
   "execution_count": 43,
   "metadata": {},
   "outputs": [],
   "source": [
    "data[\"month\"] = data[\"first_day_exposition\"].dt.month"
   ]
  },
  {
   "cell_type": "markdown",
   "metadata": {},
   "source": [
    "#### Добавляем год"
   ]
  },
  {
   "cell_type": "code",
   "execution_count": 44,
   "metadata": {},
   "outputs": [],
   "source": [
    "data[\"year\"] = data[\"first_day_exposition\"].dt.year"
   ]
  },
  {
   "cell_type": "markdown",
   "metadata": {},
   "source": [
    "### Этаж квартиры"
   ]
  },
  {
   "cell_type": "code",
   "execution_count": 45,
   "metadata": {},
   "outputs": [],
   "source": [
    "def level_of_floor(row):\n",
    "    floor = row[\"floor\"]\n",
    "    last_floor = row[\"floors_total\"]\n",
    "    if floor == 1:\n",
    "        return \"Первый\"\n",
    "    elif floor == last_floor:\n",
    "        return \"Последний\"\n",
    "    else:\n",
    "        return \"Другой\""
   ]
  },
  {
   "cell_type": "code",
   "execution_count": 46,
   "metadata": {},
   "outputs": [],
   "source": [
    "data[\"floor_category\"] = data.apply(level_of_floor,axis =1)"
   ]
  },
  {
   "cell_type": "code",
   "execution_count": 47,
   "metadata": {},
   "outputs": [
    {
     "data": {
      "text/plain": [
       "Другой       17446\n",
       "Последний     3336\n",
       "Первый        2917\n",
       "Name: floor_category, dtype: int64"
      ]
     },
     "execution_count": 47,
     "metadata": {},
     "output_type": "execute_result"
    }
   ],
   "source": [
    "data[\"floor_category\"].value_counts()"
   ]
  },
  {
   "cell_type": "markdown",
   "metadata": {},
   "source": [
    "### Cоотношение жилой и общей площади и отношение площади кухни к общей."
   ]
  },
  {
   "cell_type": "markdown",
   "metadata": {},
   "source": [
    "#### Cоотношение жилой и общей площади"
   ]
  },
  {
   "cell_type": "code",
   "execution_count": 48,
   "metadata": {},
   "outputs": [],
   "source": [
    "data[\"area_living\"] = data[\"living_area\"] / data[\"total_area\"]"
   ]
  },
  {
   "cell_type": "markdown",
   "metadata": {},
   "source": [
    "#### Cоотношение площади кухни к общей площади"
   ]
  },
  {
   "cell_type": "code",
   "execution_count": 49,
   "metadata": {},
   "outputs": [],
   "source": [
    "data[\"area_kitchen\"] = data[\"kitchen_area\"] / data[\"total_area\"]"
   ]
  },
  {
   "cell_type": "markdown",
   "metadata": {},
   "source": [
    "### Вывод таблицы"
   ]
  },
  {
   "cell_type": "code",
   "execution_count": 50,
   "metadata": {},
   "outputs": [
    {
     "data": {
      "text/html": [
       "<div>\n",
       "<style scoped>\n",
       "    .dataframe tbody tr th:only-of-type {\n",
       "        vertical-align: middle;\n",
       "    }\n",
       "\n",
       "    .dataframe tbody tr th {\n",
       "        vertical-align: top;\n",
       "    }\n",
       "\n",
       "    .dataframe thead th {\n",
       "        text-align: right;\n",
       "    }\n",
       "</style>\n",
       "<table border=\"1\" class=\"dataframe\">\n",
       "  <thead>\n",
       "    <tr style=\"text-align: right;\">\n",
       "      <th></th>\n",
       "      <th>0</th>\n",
       "      <th>1</th>\n",
       "      <th>2</th>\n",
       "      <th>3</th>\n",
       "      <th>4</th>\n",
       "      <th>5</th>\n",
       "      <th>6</th>\n",
       "      <th>7</th>\n",
       "      <th>8</th>\n",
       "      <th>9</th>\n",
       "      <th>...</th>\n",
       "      <th>23689</th>\n",
       "      <th>23690</th>\n",
       "      <th>23691</th>\n",
       "      <th>23692</th>\n",
       "      <th>23693</th>\n",
       "      <th>23694</th>\n",
       "      <th>23695</th>\n",
       "      <th>23696</th>\n",
       "      <th>23697</th>\n",
       "      <th>23698</th>\n",
       "    </tr>\n",
       "  </thead>\n",
       "  <tbody>\n",
       "    <tr>\n",
       "      <th>total_images</th>\n",
       "      <td>20</td>\n",
       "      <td>7</td>\n",
       "      <td>10</td>\n",
       "      <td>0</td>\n",
       "      <td>2</td>\n",
       "      <td>10</td>\n",
       "      <td>6</td>\n",
       "      <td>5</td>\n",
       "      <td>20</td>\n",
       "      <td>18</td>\n",
       "      <td>...</td>\n",
       "      <td>13</td>\n",
       "      <td>3</td>\n",
       "      <td>11</td>\n",
       "      <td>2</td>\n",
       "      <td>9</td>\n",
       "      <td>9</td>\n",
       "      <td>14</td>\n",
       "      <td>18</td>\n",
       "      <td>13</td>\n",
       "      <td>4</td>\n",
       "    </tr>\n",
       "    <tr>\n",
       "      <th>last_price</th>\n",
       "      <td>13000000</td>\n",
       "      <td>3350000</td>\n",
       "      <td>5196000</td>\n",
       "      <td>64900000</td>\n",
       "      <td>10000000</td>\n",
       "      <td>2890000</td>\n",
       "      <td>3700000</td>\n",
       "      <td>7915000</td>\n",
       "      <td>2900000</td>\n",
       "      <td>5400000</td>\n",
       "      <td>...</td>\n",
       "      <td>3550000</td>\n",
       "      <td>5500000</td>\n",
       "      <td>9470000</td>\n",
       "      <td>1350000</td>\n",
       "      <td>4600000</td>\n",
       "      <td>9700000</td>\n",
       "      <td>3100000</td>\n",
       "      <td>2500000</td>\n",
       "      <td>11475000</td>\n",
       "      <td>1350000</td>\n",
       "    </tr>\n",
       "    <tr>\n",
       "      <th>total_area</th>\n",
       "      <td>108.0</td>\n",
       "      <td>40.4</td>\n",
       "      <td>56.0</td>\n",
       "      <td>159.0</td>\n",
       "      <td>100.0</td>\n",
       "      <td>30.4</td>\n",
       "      <td>37.3</td>\n",
       "      <td>71.6</td>\n",
       "      <td>33.16</td>\n",
       "      <td>61.0</td>\n",
       "      <td>...</td>\n",
       "      <td>35.3</td>\n",
       "      <td>52.0</td>\n",
       "      <td>72.9</td>\n",
       "      <td>30.0</td>\n",
       "      <td>62.4</td>\n",
       "      <td>133.81</td>\n",
       "      <td>59.0</td>\n",
       "      <td>56.7</td>\n",
       "      <td>76.75</td>\n",
       "      <td>32.3</td>\n",
       "    </tr>\n",
       "    <tr>\n",
       "      <th>first_day_exposition</th>\n",
       "      <td>2019-03-07 00:00:00</td>\n",
       "      <td>2018-12-04 00:00:00</td>\n",
       "      <td>2015-08-20 00:00:00</td>\n",
       "      <td>2015-07-24 00:00:00</td>\n",
       "      <td>2018-06-19 00:00:00</td>\n",
       "      <td>2018-09-10 00:00:00</td>\n",
       "      <td>2017-11-02 00:00:00</td>\n",
       "      <td>2019-04-18 00:00:00</td>\n",
       "      <td>2018-05-23 00:00:00</td>\n",
       "      <td>2017-02-26 00:00:00</td>\n",
       "      <td>...</td>\n",
       "      <td>2018-02-28 00:00:00</td>\n",
       "      <td>2018-07-19 00:00:00</td>\n",
       "      <td>2016-10-13 00:00:00</td>\n",
       "      <td>2017-07-07 00:00:00</td>\n",
       "      <td>2016-08-05 00:00:00</td>\n",
       "      <td>2017-03-21 00:00:00</td>\n",
       "      <td>2018-01-15 00:00:00</td>\n",
       "      <td>2018-02-11 00:00:00</td>\n",
       "      <td>2017-03-28 00:00:00</td>\n",
       "      <td>2017-07-21 00:00:00</td>\n",
       "    </tr>\n",
       "    <tr>\n",
       "      <th>rooms</th>\n",
       "      <td>3</td>\n",
       "      <td>1</td>\n",
       "      <td>2</td>\n",
       "      <td>3</td>\n",
       "      <td>2</td>\n",
       "      <td>1</td>\n",
       "      <td>1</td>\n",
       "      <td>2</td>\n",
       "      <td>1</td>\n",
       "      <td>3</td>\n",
       "      <td>...</td>\n",
       "      <td>1</td>\n",
       "      <td>2</td>\n",
       "      <td>2</td>\n",
       "      <td>1</td>\n",
       "      <td>3</td>\n",
       "      <td>3</td>\n",
       "      <td>3</td>\n",
       "      <td>2</td>\n",
       "      <td>2</td>\n",
       "      <td>1</td>\n",
       "    </tr>\n",
       "    <tr>\n",
       "      <th>ceiling_height</th>\n",
       "      <td>2.7</td>\n",
       "      <td>2.65</td>\n",
       "      <td>2.65</td>\n",
       "      <td>2.65</td>\n",
       "      <td>3.03</td>\n",
       "      <td>2.65</td>\n",
       "      <td>2.65</td>\n",
       "      <td>2.65</td>\n",
       "      <td>2.65</td>\n",
       "      <td>2.5</td>\n",
       "      <td>...</td>\n",
       "      <td>2.86</td>\n",
       "      <td>2.65</td>\n",
       "      <td>2.75</td>\n",
       "      <td>2.65</td>\n",
       "      <td>2.6</td>\n",
       "      <td>3.7</td>\n",
       "      <td>2.65</td>\n",
       "      <td>2.65</td>\n",
       "      <td>3.0</td>\n",
       "      <td>2.5</td>\n",
       "    </tr>\n",
       "    <tr>\n",
       "      <th>floors_total</th>\n",
       "      <td>16.0</td>\n",
       "      <td>11.0</td>\n",
       "      <td>5.0</td>\n",
       "      <td>14.0</td>\n",
       "      <td>14.0</td>\n",
       "      <td>12.0</td>\n",
       "      <td>26.0</td>\n",
       "      <td>24.0</td>\n",
       "      <td>27.0</td>\n",
       "      <td>9.0</td>\n",
       "      <td>...</td>\n",
       "      <td>15.0</td>\n",
       "      <td>5.0</td>\n",
       "      <td>25.0</td>\n",
       "      <td>5.0</td>\n",
       "      <td>9.0</td>\n",
       "      <td>5.0</td>\n",
       "      <td>5.0</td>\n",
       "      <td>3.0</td>\n",
       "      <td>17.0</td>\n",
       "      <td>5.0</td>\n",
       "    </tr>\n",
       "    <tr>\n",
       "      <th>living_area</th>\n",
       "      <td>51.0</td>\n",
       "      <td>18.6</td>\n",
       "      <td>34.3</td>\n",
       "      <td>NaN</td>\n",
       "      <td>32.0</td>\n",
       "      <td>14.4</td>\n",
       "      <td>10.6</td>\n",
       "      <td>NaN</td>\n",
       "      <td>15.43</td>\n",
       "      <td>43.6</td>\n",
       "      <td>...</td>\n",
       "      <td>16.3</td>\n",
       "      <td>31.0</td>\n",
       "      <td>40.3</td>\n",
       "      <td>17.5</td>\n",
       "      <td>40.0</td>\n",
       "      <td>73.3</td>\n",
       "      <td>38.0</td>\n",
       "      <td>29.7</td>\n",
       "      <td>NaN</td>\n",
       "      <td>12.3</td>\n",
       "    </tr>\n",
       "    <tr>\n",
       "      <th>floor</th>\n",
       "      <td>8</td>\n",
       "      <td>1</td>\n",
       "      <td>4</td>\n",
       "      <td>9</td>\n",
       "      <td>13</td>\n",
       "      <td>5</td>\n",
       "      <td>6</td>\n",
       "      <td>22</td>\n",
       "      <td>26</td>\n",
       "      <td>7</td>\n",
       "      <td>...</td>\n",
       "      <td>4</td>\n",
       "      <td>2</td>\n",
       "      <td>7</td>\n",
       "      <td>4</td>\n",
       "      <td>8</td>\n",
       "      <td>3</td>\n",
       "      <td>4</td>\n",
       "      <td>1</td>\n",
       "      <td>12</td>\n",
       "      <td>1</td>\n",
       "    </tr>\n",
       "    <tr>\n",
       "      <th>is_apartment</th>\n",
       "      <td>False</td>\n",
       "      <td>False</td>\n",
       "      <td>False</td>\n",
       "      <td>False</td>\n",
       "      <td>False</td>\n",
       "      <td>False</td>\n",
       "      <td>False</td>\n",
       "      <td>False</td>\n",
       "      <td>False</td>\n",
       "      <td>False</td>\n",
       "      <td>...</td>\n",
       "      <td>False</td>\n",
       "      <td>False</td>\n",
       "      <td>False</td>\n",
       "      <td>False</td>\n",
       "      <td>False</td>\n",
       "      <td>False</td>\n",
       "      <td>False</td>\n",
       "      <td>False</td>\n",
       "      <td>False</td>\n",
       "      <td>False</td>\n",
       "    </tr>\n",
       "    <tr>\n",
       "      <th>studio</th>\n",
       "      <td>False</td>\n",
       "      <td>False</td>\n",
       "      <td>False</td>\n",
       "      <td>False</td>\n",
       "      <td>False</td>\n",
       "      <td>False</td>\n",
       "      <td>False</td>\n",
       "      <td>False</td>\n",
       "      <td>False</td>\n",
       "      <td>False</td>\n",
       "      <td>...</td>\n",
       "      <td>False</td>\n",
       "      <td>False</td>\n",
       "      <td>False</td>\n",
       "      <td>False</td>\n",
       "      <td>False</td>\n",
       "      <td>False</td>\n",
       "      <td>False</td>\n",
       "      <td>False</td>\n",
       "      <td>False</td>\n",
       "      <td>False</td>\n",
       "    </tr>\n",
       "    <tr>\n",
       "      <th>open_plan</th>\n",
       "      <td>False</td>\n",
       "      <td>False</td>\n",
       "      <td>False</td>\n",
       "      <td>False</td>\n",
       "      <td>False</td>\n",
       "      <td>False</td>\n",
       "      <td>False</td>\n",
       "      <td>False</td>\n",
       "      <td>False</td>\n",
       "      <td>False</td>\n",
       "      <td>...</td>\n",
       "      <td>False</td>\n",
       "      <td>False</td>\n",
       "      <td>False</td>\n",
       "      <td>False</td>\n",
       "      <td>False</td>\n",
       "      <td>False</td>\n",
       "      <td>False</td>\n",
       "      <td>False</td>\n",
       "      <td>False</td>\n",
       "      <td>False</td>\n",
       "    </tr>\n",
       "    <tr>\n",
       "      <th>kitchen_area</th>\n",
       "      <td>25.0</td>\n",
       "      <td>11.0</td>\n",
       "      <td>8.3</td>\n",
       "      <td>NaN</td>\n",
       "      <td>41.0</td>\n",
       "      <td>9.1</td>\n",
       "      <td>14.4</td>\n",
       "      <td>18.9</td>\n",
       "      <td>8.81</td>\n",
       "      <td>6.5</td>\n",
       "      <td>...</td>\n",
       "      <td>9.1</td>\n",
       "      <td>6.0</td>\n",
       "      <td>10.6</td>\n",
       "      <td>6.0</td>\n",
       "      <td>8.0</td>\n",
       "      <td>13.83</td>\n",
       "      <td>8.5</td>\n",
       "      <td>NaN</td>\n",
       "      <td>23.3</td>\n",
       "      <td>9.0</td>\n",
       "    </tr>\n",
       "    <tr>\n",
       "      <th>balcony</th>\n",
       "      <td>0</td>\n",
       "      <td>2</td>\n",
       "      <td>0</td>\n",
       "      <td>0</td>\n",
       "      <td>0</td>\n",
       "      <td>0</td>\n",
       "      <td>1</td>\n",
       "      <td>2</td>\n",
       "      <td>0</td>\n",
       "      <td>2</td>\n",
       "      <td>...</td>\n",
       "      <td>2</td>\n",
       "      <td>0</td>\n",
       "      <td>1</td>\n",
       "      <td>0</td>\n",
       "      <td>0</td>\n",
       "      <td>0</td>\n",
       "      <td>0</td>\n",
       "      <td>0</td>\n",
       "      <td>2</td>\n",
       "      <td>0</td>\n",
       "    </tr>\n",
       "    <tr>\n",
       "      <th>locality_name</th>\n",
       "      <td>Санкт-Петербург</td>\n",
       "      <td>посёлок Шушары</td>\n",
       "      <td>Санкт-Петербург</td>\n",
       "      <td>Санкт-Петербург</td>\n",
       "      <td>Санкт-Петербург</td>\n",
       "      <td>городской посёлок Янино-1</td>\n",
       "      <td>посёлок Парголово</td>\n",
       "      <td>Санкт-Петербург</td>\n",
       "      <td>посёлок Мурино</td>\n",
       "      <td>Санкт-Петербург</td>\n",
       "      <td>...</td>\n",
       "      <td>Санкт-Петербург</td>\n",
       "      <td>Санкт-Петербург</td>\n",
       "      <td>Санкт-Петербург</td>\n",
       "      <td>Тихвин</td>\n",
       "      <td>Петергоф</td>\n",
       "      <td>Санкт-Петербург</td>\n",
       "      <td>Тосно</td>\n",
       "      <td>село Рождествено</td>\n",
       "      <td>Санкт-Петербург</td>\n",
       "      <td>поселок Новый Учхоз</td>\n",
       "    </tr>\n",
       "    <tr>\n",
       "      <th>airports_nearest</th>\n",
       "      <td>18863.0</td>\n",
       "      <td>12817.0</td>\n",
       "      <td>21741.0</td>\n",
       "      <td>28098.0</td>\n",
       "      <td>31856.0</td>\n",
       "      <td>NaN</td>\n",
       "      <td>52996.0</td>\n",
       "      <td>23982.0</td>\n",
       "      <td>NaN</td>\n",
       "      <td>50898.0</td>\n",
       "      <td>...</td>\n",
       "      <td>17284.0</td>\n",
       "      <td>20151.0</td>\n",
       "      <td>19424.0</td>\n",
       "      <td>NaN</td>\n",
       "      <td>45602.0</td>\n",
       "      <td>24665.0</td>\n",
       "      <td>NaN</td>\n",
       "      <td>NaN</td>\n",
       "      <td>39140.0</td>\n",
       "      <td>NaN</td>\n",
       "    </tr>\n",
       "    <tr>\n",
       "      <th>cityCenters_nearest</th>\n",
       "      <td>16028.0</td>\n",
       "      <td>18603.0</td>\n",
       "      <td>13933.0</td>\n",
       "      <td>6800.0</td>\n",
       "      <td>8098.0</td>\n",
       "      <td>NaN</td>\n",
       "      <td>19143.0</td>\n",
       "      <td>11634.0</td>\n",
       "      <td>NaN</td>\n",
       "      <td>15008.0</td>\n",
       "      <td>...</td>\n",
       "      <td>16081.0</td>\n",
       "      <td>6263.0</td>\n",
       "      <td>4489.0</td>\n",
       "      <td>NaN</td>\n",
       "      <td>34104.0</td>\n",
       "      <td>4232.0</td>\n",
       "      <td>NaN</td>\n",
       "      <td>NaN</td>\n",
       "      <td>10364.0</td>\n",
       "      <td>NaN</td>\n",
       "    </tr>\n",
       "    <tr>\n",
       "      <th>parks_around3000</th>\n",
       "      <td>1.0</td>\n",
       "      <td>0.0</td>\n",
       "      <td>1.0</td>\n",
       "      <td>2.0</td>\n",
       "      <td>2.0</td>\n",
       "      <td>NaN</td>\n",
       "      <td>0.0</td>\n",
       "      <td>0.0</td>\n",
       "      <td>NaN</td>\n",
       "      <td>0.0</td>\n",
       "      <td>...</td>\n",
       "      <td>1.0</td>\n",
       "      <td>1.0</td>\n",
       "      <td>0.0</td>\n",
       "      <td>NaN</td>\n",
       "      <td>1.0</td>\n",
       "      <td>1.0</td>\n",
       "      <td>NaN</td>\n",
       "      <td>NaN</td>\n",
       "      <td>2.0</td>\n",
       "      <td>NaN</td>\n",
       "    </tr>\n",
       "    <tr>\n",
       "      <th>parks_nearest</th>\n",
       "      <td>482.0</td>\n",
       "      <td>NaN</td>\n",
       "      <td>90.0</td>\n",
       "      <td>84.0</td>\n",
       "      <td>112.0</td>\n",
       "      <td>NaN</td>\n",
       "      <td>NaN</td>\n",
       "      <td>NaN</td>\n",
       "      <td>NaN</td>\n",
       "      <td>NaN</td>\n",
       "      <td>...</td>\n",
       "      <td>353.0</td>\n",
       "      <td>300.0</td>\n",
       "      <td>NaN</td>\n",
       "      <td>NaN</td>\n",
       "      <td>352.0</td>\n",
       "      <td>796.0</td>\n",
       "      <td>NaN</td>\n",
       "      <td>NaN</td>\n",
       "      <td>173.0</td>\n",
       "      <td>NaN</td>\n",
       "    </tr>\n",
       "    <tr>\n",
       "      <th>ponds_around3000</th>\n",
       "      <td>2</td>\n",
       "      <td>0</td>\n",
       "      <td>2</td>\n",
       "      <td>3</td>\n",
       "      <td>1</td>\n",
       "      <td>0</td>\n",
       "      <td>0</td>\n",
       "      <td>0</td>\n",
       "      <td>0</td>\n",
       "      <td>0</td>\n",
       "      <td>...</td>\n",
       "      <td>2</td>\n",
       "      <td>0</td>\n",
       "      <td>1</td>\n",
       "      <td>0</td>\n",
       "      <td>1</td>\n",
       "      <td>3</td>\n",
       "      <td>0</td>\n",
       "      <td>0</td>\n",
       "      <td>3</td>\n",
       "      <td>0</td>\n",
       "    </tr>\n",
       "    <tr>\n",
       "      <th>ponds_nearest</th>\n",
       "      <td>755.0</td>\n",
       "      <td>NaN</td>\n",
       "      <td>574.0</td>\n",
       "      <td>234.0</td>\n",
       "      <td>48.0</td>\n",
       "      <td>NaN</td>\n",
       "      <td>NaN</td>\n",
       "      <td>NaN</td>\n",
       "      <td>NaN</td>\n",
       "      <td>NaN</td>\n",
       "      <td>...</td>\n",
       "      <td>652.0</td>\n",
       "      <td>NaN</td>\n",
       "      <td>806.0</td>\n",
       "      <td>NaN</td>\n",
       "      <td>675.0</td>\n",
       "      <td>381.0</td>\n",
       "      <td>NaN</td>\n",
       "      <td>NaN</td>\n",
       "      <td>196.0</td>\n",
       "      <td>NaN</td>\n",
       "    </tr>\n",
       "    <tr>\n",
       "      <th>days_exposition</th>\n",
       "      <td>NaN</td>\n",
       "      <td>81.0</td>\n",
       "      <td>558.0</td>\n",
       "      <td>424.0</td>\n",
       "      <td>121.0</td>\n",
       "      <td>55.0</td>\n",
       "      <td>155.0</td>\n",
       "      <td>NaN</td>\n",
       "      <td>189.0</td>\n",
       "      <td>289.0</td>\n",
       "      <td>...</td>\n",
       "      <td>29.0</td>\n",
       "      <td>15.0</td>\n",
       "      <td>519.0</td>\n",
       "      <td>413.0</td>\n",
       "      <td>239.0</td>\n",
       "      <td>NaN</td>\n",
       "      <td>45.0</td>\n",
       "      <td>NaN</td>\n",
       "      <td>602.0</td>\n",
       "      <td>NaN</td>\n",
       "    </tr>\n",
       "    <tr>\n",
       "      <th>price_square_meter</th>\n",
       "      <td>120370</td>\n",
       "      <td>82920</td>\n",
       "      <td>92785</td>\n",
       "      <td>408176</td>\n",
       "      <td>100000</td>\n",
       "      <td>95065</td>\n",
       "      <td>99195</td>\n",
       "      <td>110544</td>\n",
       "      <td>87454</td>\n",
       "      <td>88524</td>\n",
       "      <td>...</td>\n",
       "      <td>100566</td>\n",
       "      <td>105769</td>\n",
       "      <td>129903</td>\n",
       "      <td>45000</td>\n",
       "      <td>73717</td>\n",
       "      <td>72490</td>\n",
       "      <td>52542</td>\n",
       "      <td>44091</td>\n",
       "      <td>149511</td>\n",
       "      <td>41795</td>\n",
       "    </tr>\n",
       "    <tr>\n",
       "      <th>day</th>\n",
       "      <td>3</td>\n",
       "      <td>1</td>\n",
       "      <td>3</td>\n",
       "      <td>4</td>\n",
       "      <td>1</td>\n",
       "      <td>0</td>\n",
       "      <td>3</td>\n",
       "      <td>3</td>\n",
       "      <td>2</td>\n",
       "      <td>6</td>\n",
       "      <td>...</td>\n",
       "      <td>2</td>\n",
       "      <td>3</td>\n",
       "      <td>3</td>\n",
       "      <td>4</td>\n",
       "      <td>4</td>\n",
       "      <td>1</td>\n",
       "      <td>0</td>\n",
       "      <td>6</td>\n",
       "      <td>1</td>\n",
       "      <td>4</td>\n",
       "    </tr>\n",
       "    <tr>\n",
       "      <th>month</th>\n",
       "      <td>3</td>\n",
       "      <td>12</td>\n",
       "      <td>8</td>\n",
       "      <td>7</td>\n",
       "      <td>6</td>\n",
       "      <td>9</td>\n",
       "      <td>11</td>\n",
       "      <td>4</td>\n",
       "      <td>5</td>\n",
       "      <td>2</td>\n",
       "      <td>...</td>\n",
       "      <td>2</td>\n",
       "      <td>7</td>\n",
       "      <td>10</td>\n",
       "      <td>7</td>\n",
       "      <td>8</td>\n",
       "      <td>3</td>\n",
       "      <td>1</td>\n",
       "      <td>2</td>\n",
       "      <td>3</td>\n",
       "      <td>7</td>\n",
       "    </tr>\n",
       "    <tr>\n",
       "      <th>year</th>\n",
       "      <td>2019</td>\n",
       "      <td>2018</td>\n",
       "      <td>2015</td>\n",
       "      <td>2015</td>\n",
       "      <td>2018</td>\n",
       "      <td>2018</td>\n",
       "      <td>2017</td>\n",
       "      <td>2019</td>\n",
       "      <td>2018</td>\n",
       "      <td>2017</td>\n",
       "      <td>...</td>\n",
       "      <td>2018</td>\n",
       "      <td>2018</td>\n",
       "      <td>2016</td>\n",
       "      <td>2017</td>\n",
       "      <td>2016</td>\n",
       "      <td>2017</td>\n",
       "      <td>2018</td>\n",
       "      <td>2018</td>\n",
       "      <td>2017</td>\n",
       "      <td>2017</td>\n",
       "    </tr>\n",
       "    <tr>\n",
       "      <th>floor_category</th>\n",
       "      <td>Другой</td>\n",
       "      <td>Первый</td>\n",
       "      <td>Другой</td>\n",
       "      <td>Другой</td>\n",
       "      <td>Другой</td>\n",
       "      <td>Другой</td>\n",
       "      <td>Другой</td>\n",
       "      <td>Другой</td>\n",
       "      <td>Другой</td>\n",
       "      <td>Другой</td>\n",
       "      <td>...</td>\n",
       "      <td>Другой</td>\n",
       "      <td>Другой</td>\n",
       "      <td>Другой</td>\n",
       "      <td>Другой</td>\n",
       "      <td>Другой</td>\n",
       "      <td>Другой</td>\n",
       "      <td>Другой</td>\n",
       "      <td>Первый</td>\n",
       "      <td>Другой</td>\n",
       "      <td>Первый</td>\n",
       "    </tr>\n",
       "    <tr>\n",
       "      <th>area_living</th>\n",
       "      <td>0.472222</td>\n",
       "      <td>0.460396</td>\n",
       "      <td>0.6125</td>\n",
       "      <td>NaN</td>\n",
       "      <td>0.32</td>\n",
       "      <td>0.473684</td>\n",
       "      <td>0.284182</td>\n",
       "      <td>NaN</td>\n",
       "      <td>0.46532</td>\n",
       "      <td>0.714754</td>\n",
       "      <td>...</td>\n",
       "      <td>0.461756</td>\n",
       "      <td>0.596154</td>\n",
       "      <td>0.552812</td>\n",
       "      <td>0.583333</td>\n",
       "      <td>0.641026</td>\n",
       "      <td>0.547792</td>\n",
       "      <td>0.644068</td>\n",
       "      <td>0.52381</td>\n",
       "      <td>NaN</td>\n",
       "      <td>0.380805</td>\n",
       "    </tr>\n",
       "    <tr>\n",
       "      <th>area_kitchen</th>\n",
       "      <td>0.231481</td>\n",
       "      <td>0.272277</td>\n",
       "      <td>0.148214</td>\n",
       "      <td>NaN</td>\n",
       "      <td>0.41</td>\n",
       "      <td>0.299342</td>\n",
       "      <td>0.386059</td>\n",
       "      <td>0.263966</td>\n",
       "      <td>0.265682</td>\n",
       "      <td>0.106557</td>\n",
       "      <td>...</td>\n",
       "      <td>0.25779</td>\n",
       "      <td>0.115385</td>\n",
       "      <td>0.145405</td>\n",
       "      <td>0.2</td>\n",
       "      <td>0.128205</td>\n",
       "      <td>0.103356</td>\n",
       "      <td>0.144068</td>\n",
       "      <td>NaN</td>\n",
       "      <td>0.303583</td>\n",
       "      <td>0.278638</td>\n",
       "    </tr>\n",
       "  </tbody>\n",
       "</table>\n",
       "<p>29 rows × 23699 columns</p>\n",
       "</div>"
      ],
      "text/plain": [
       "                                    0                    1      \\\n",
       "total_images                           20                    7   \n",
       "last_price                       13000000              3350000   \n",
       "total_area                          108.0                 40.4   \n",
       "first_day_exposition  2019-03-07 00:00:00  2018-12-04 00:00:00   \n",
       "rooms                                   3                    1   \n",
       "ceiling_height                        2.7                 2.65   \n",
       "floors_total                         16.0                 11.0   \n",
       "living_area                          51.0                 18.6   \n",
       "floor                                   8                    1   \n",
       "is_apartment                        False                False   \n",
       "studio                              False                False   \n",
       "open_plan                           False                False   \n",
       "kitchen_area                         25.0                 11.0   \n",
       "balcony                                 0                    2   \n",
       "locality_name             Санкт-Петербург       посёлок Шушары   \n",
       "airports_nearest                  18863.0              12817.0   \n",
       "cityCenters_nearest               16028.0              18603.0   \n",
       "parks_around3000                      1.0                  0.0   \n",
       "parks_nearest                       482.0                  NaN   \n",
       "ponds_around3000                        2                    0   \n",
       "ponds_nearest                       755.0                  NaN   \n",
       "days_exposition                       NaN                 81.0   \n",
       "price_square_meter                 120370                82920   \n",
       "day                                     3                    1   \n",
       "month                                   3                   12   \n",
       "year                                 2019                 2018   \n",
       "floor_category                     Другой               Первый   \n",
       "area_living                      0.472222             0.460396   \n",
       "area_kitchen                     0.231481             0.272277   \n",
       "\n",
       "                                    2                    3      \\\n",
       "total_images                           10                    0   \n",
       "last_price                        5196000             64900000   \n",
       "total_area                           56.0                159.0   \n",
       "first_day_exposition  2015-08-20 00:00:00  2015-07-24 00:00:00   \n",
       "rooms                                   2                    3   \n",
       "ceiling_height                       2.65                 2.65   \n",
       "floors_total                          5.0                 14.0   \n",
       "living_area                          34.3                  NaN   \n",
       "floor                                   4                    9   \n",
       "is_apartment                        False                False   \n",
       "studio                              False                False   \n",
       "open_plan                           False                False   \n",
       "kitchen_area                          8.3                  NaN   \n",
       "balcony                                 0                    0   \n",
       "locality_name             Санкт-Петербург      Санкт-Петербург   \n",
       "airports_nearest                  21741.0              28098.0   \n",
       "cityCenters_nearest               13933.0               6800.0   \n",
       "parks_around3000                      1.0                  2.0   \n",
       "parks_nearest                        90.0                 84.0   \n",
       "ponds_around3000                        2                    3   \n",
       "ponds_nearest                       574.0                234.0   \n",
       "days_exposition                     558.0                424.0   \n",
       "price_square_meter                  92785               408176   \n",
       "day                                     3                    4   \n",
       "month                                   8                    7   \n",
       "year                                 2015                 2015   \n",
       "floor_category                     Другой               Другой   \n",
       "area_living                        0.6125                  NaN   \n",
       "area_kitchen                     0.148214                  NaN   \n",
       "\n",
       "                                    4                          5      \\\n",
       "total_images                            2                         10   \n",
       "last_price                       10000000                    2890000   \n",
       "total_area                          100.0                       30.4   \n",
       "first_day_exposition  2018-06-19 00:00:00        2018-09-10 00:00:00   \n",
       "rooms                                   2                          1   \n",
       "ceiling_height                       3.03                       2.65   \n",
       "floors_total                         14.0                       12.0   \n",
       "living_area                          32.0                       14.4   \n",
       "floor                                  13                          5   \n",
       "is_apartment                        False                      False   \n",
       "studio                              False                      False   \n",
       "open_plan                           False                      False   \n",
       "kitchen_area                         41.0                        9.1   \n",
       "balcony                                 0                          0   \n",
       "locality_name             Санкт-Петербург  городской посёлок Янино-1   \n",
       "airports_nearest                  31856.0                        NaN   \n",
       "cityCenters_nearest                8098.0                        NaN   \n",
       "parks_around3000                      2.0                        NaN   \n",
       "parks_nearest                       112.0                        NaN   \n",
       "ponds_around3000                        1                          0   \n",
       "ponds_nearest                        48.0                        NaN   \n",
       "days_exposition                     121.0                       55.0   \n",
       "price_square_meter                 100000                      95065   \n",
       "day                                     1                          0   \n",
       "month                                   6                          9   \n",
       "year                                 2018                       2018   \n",
       "floor_category                     Другой                     Другой   \n",
       "area_living                          0.32                   0.473684   \n",
       "area_kitchen                         0.41                   0.299342   \n",
       "\n",
       "                                    6                    7      \\\n",
       "total_images                            6                    5   \n",
       "last_price                        3700000              7915000   \n",
       "total_area                           37.3                 71.6   \n",
       "first_day_exposition  2017-11-02 00:00:00  2019-04-18 00:00:00   \n",
       "rooms                                   1                    2   \n",
       "ceiling_height                       2.65                 2.65   \n",
       "floors_total                         26.0                 24.0   \n",
       "living_area                          10.6                  NaN   \n",
       "floor                                   6                   22   \n",
       "is_apartment                        False                False   \n",
       "studio                              False                False   \n",
       "open_plan                           False                False   \n",
       "kitchen_area                         14.4                 18.9   \n",
       "balcony                                 1                    2   \n",
       "locality_name           посёлок Парголово      Санкт-Петербург   \n",
       "airports_nearest                  52996.0              23982.0   \n",
       "cityCenters_nearest               19143.0              11634.0   \n",
       "parks_around3000                      0.0                  0.0   \n",
       "parks_nearest                         NaN                  NaN   \n",
       "ponds_around3000                        0                    0   \n",
       "ponds_nearest                         NaN                  NaN   \n",
       "days_exposition                     155.0                  NaN   \n",
       "price_square_meter                  99195               110544   \n",
       "day                                     3                    3   \n",
       "month                                  11                    4   \n",
       "year                                 2017                 2019   \n",
       "floor_category                     Другой               Другой   \n",
       "area_living                      0.284182                  NaN   \n",
       "area_kitchen                     0.386059             0.263966   \n",
       "\n",
       "                                    8                    9      ...  \\\n",
       "total_images                           20                   18  ...   \n",
       "last_price                        2900000              5400000  ...   \n",
       "total_area                          33.16                 61.0  ...   \n",
       "first_day_exposition  2018-05-23 00:00:00  2017-02-26 00:00:00  ...   \n",
       "rooms                                   1                    3  ...   \n",
       "ceiling_height                       2.65                  2.5  ...   \n",
       "floors_total                         27.0                  9.0  ...   \n",
       "living_area                         15.43                 43.6  ...   \n",
       "floor                                  26                    7  ...   \n",
       "is_apartment                        False                False  ...   \n",
       "studio                              False                False  ...   \n",
       "open_plan                           False                False  ...   \n",
       "kitchen_area                         8.81                  6.5  ...   \n",
       "balcony                                 0                    2  ...   \n",
       "locality_name              посёлок Мурино      Санкт-Петербург  ...   \n",
       "airports_nearest                      NaN              50898.0  ...   \n",
       "cityCenters_nearest                   NaN              15008.0  ...   \n",
       "parks_around3000                      NaN                  0.0  ...   \n",
       "parks_nearest                         NaN                  NaN  ...   \n",
       "ponds_around3000                        0                    0  ...   \n",
       "ponds_nearest                         NaN                  NaN  ...   \n",
       "days_exposition                     189.0                289.0  ...   \n",
       "price_square_meter                  87454                88524  ...   \n",
       "day                                     2                    6  ...   \n",
       "month                                   5                    2  ...   \n",
       "year                                 2018                 2017  ...   \n",
       "floor_category                     Другой               Другой  ...   \n",
       "area_living                       0.46532             0.714754  ...   \n",
       "area_kitchen                     0.265682             0.106557  ...   \n",
       "\n",
       "                                    23689                23690  \\\n",
       "total_images                           13                    3   \n",
       "last_price                        3550000              5500000   \n",
       "total_area                           35.3                 52.0   \n",
       "first_day_exposition  2018-02-28 00:00:00  2018-07-19 00:00:00   \n",
       "rooms                                   1                    2   \n",
       "ceiling_height                       2.86                 2.65   \n",
       "floors_total                         15.0                  5.0   \n",
       "living_area                          16.3                 31.0   \n",
       "floor                                   4                    2   \n",
       "is_apartment                        False                False   \n",
       "studio                              False                False   \n",
       "open_plan                           False                False   \n",
       "kitchen_area                          9.1                  6.0   \n",
       "balcony                                 2                    0   \n",
       "locality_name             Санкт-Петербург      Санкт-Петербург   \n",
       "airports_nearest                  17284.0              20151.0   \n",
       "cityCenters_nearest               16081.0               6263.0   \n",
       "parks_around3000                      1.0                  1.0   \n",
       "parks_nearest                       353.0                300.0   \n",
       "ponds_around3000                        2                    0   \n",
       "ponds_nearest                       652.0                  NaN   \n",
       "days_exposition                      29.0                 15.0   \n",
       "price_square_meter                 100566               105769   \n",
       "day                                     2                    3   \n",
       "month                                   2                    7   \n",
       "year                                 2018                 2018   \n",
       "floor_category                     Другой               Другой   \n",
       "area_living                      0.461756             0.596154   \n",
       "area_kitchen                      0.25779             0.115385   \n",
       "\n",
       "                                    23691                23692  \\\n",
       "total_images                           11                    2   \n",
       "last_price                        9470000              1350000   \n",
       "total_area                           72.9                 30.0   \n",
       "first_day_exposition  2016-10-13 00:00:00  2017-07-07 00:00:00   \n",
       "rooms                                   2                    1   \n",
       "ceiling_height                       2.75                 2.65   \n",
       "floors_total                         25.0                  5.0   \n",
       "living_area                          40.3                 17.5   \n",
       "floor                                   7                    4   \n",
       "is_apartment                        False                False   \n",
       "studio                              False                False   \n",
       "open_plan                           False                False   \n",
       "kitchen_area                         10.6                  6.0   \n",
       "balcony                                 1                    0   \n",
       "locality_name             Санкт-Петербург               Тихвин   \n",
       "airports_nearest                  19424.0                  NaN   \n",
       "cityCenters_nearest                4489.0                  NaN   \n",
       "parks_around3000                      0.0                  NaN   \n",
       "parks_nearest                         NaN                  NaN   \n",
       "ponds_around3000                        1                    0   \n",
       "ponds_nearest                       806.0                  NaN   \n",
       "days_exposition                     519.0                413.0   \n",
       "price_square_meter                 129903                45000   \n",
       "day                                     3                    4   \n",
       "month                                  10                    7   \n",
       "year                                 2016                 2017   \n",
       "floor_category                     Другой               Другой   \n",
       "area_living                      0.552812             0.583333   \n",
       "area_kitchen                     0.145405                  0.2   \n",
       "\n",
       "                                    23693                23694  \\\n",
       "total_images                            9                    9   \n",
       "last_price                        4600000              9700000   \n",
       "total_area                           62.4               133.81   \n",
       "first_day_exposition  2016-08-05 00:00:00  2017-03-21 00:00:00   \n",
       "rooms                                   3                    3   \n",
       "ceiling_height                        2.6                  3.7   \n",
       "floors_total                          9.0                  5.0   \n",
       "living_area                          40.0                 73.3   \n",
       "floor                                   8                    3   \n",
       "is_apartment                        False                False   \n",
       "studio                              False                False   \n",
       "open_plan                           False                False   \n",
       "kitchen_area                          8.0                13.83   \n",
       "balcony                                 0                    0   \n",
       "locality_name                    Петергоф      Санкт-Петербург   \n",
       "airports_nearest                  45602.0              24665.0   \n",
       "cityCenters_nearest               34104.0               4232.0   \n",
       "parks_around3000                      1.0                  1.0   \n",
       "parks_nearest                       352.0                796.0   \n",
       "ponds_around3000                        1                    3   \n",
       "ponds_nearest                       675.0                381.0   \n",
       "days_exposition                     239.0                  NaN   \n",
       "price_square_meter                  73717                72490   \n",
       "day                                     4                    1   \n",
       "month                                   8                    3   \n",
       "year                                 2016                 2017   \n",
       "floor_category                     Другой               Другой   \n",
       "area_living                      0.641026             0.547792   \n",
       "area_kitchen                     0.128205             0.103356   \n",
       "\n",
       "                                    23695                23696  \\\n",
       "total_images                           14                   18   \n",
       "last_price                        3100000              2500000   \n",
       "total_area                           59.0                 56.7   \n",
       "first_day_exposition  2018-01-15 00:00:00  2018-02-11 00:00:00   \n",
       "rooms                                   3                    2   \n",
       "ceiling_height                       2.65                 2.65   \n",
       "floors_total                          5.0                  3.0   \n",
       "living_area                          38.0                 29.7   \n",
       "floor                                   4                    1   \n",
       "is_apartment                        False                False   \n",
       "studio                              False                False   \n",
       "open_plan                           False                False   \n",
       "kitchen_area                          8.5                  NaN   \n",
       "balcony                                 0                    0   \n",
       "locality_name                       Тосно     село Рождествено   \n",
       "airports_nearest                      NaN                  NaN   \n",
       "cityCenters_nearest                   NaN                  NaN   \n",
       "parks_around3000                      NaN                  NaN   \n",
       "parks_nearest                         NaN                  NaN   \n",
       "ponds_around3000                        0                    0   \n",
       "ponds_nearest                         NaN                  NaN   \n",
       "days_exposition                      45.0                  NaN   \n",
       "price_square_meter                  52542                44091   \n",
       "day                                     0                    6   \n",
       "month                                   1                    2   \n",
       "year                                 2018                 2018   \n",
       "floor_category                     Другой               Первый   \n",
       "area_living                      0.644068              0.52381   \n",
       "area_kitchen                     0.144068                  NaN   \n",
       "\n",
       "                                    23697                23698  \n",
       "total_images                           13                    4  \n",
       "last_price                       11475000              1350000  \n",
       "total_area                          76.75                 32.3  \n",
       "first_day_exposition  2017-03-28 00:00:00  2017-07-21 00:00:00  \n",
       "rooms                                   2                    1  \n",
       "ceiling_height                        3.0                  2.5  \n",
       "floors_total                         17.0                  5.0  \n",
       "living_area                           NaN                 12.3  \n",
       "floor                                  12                    1  \n",
       "is_apartment                        False                False  \n",
       "studio                              False                False  \n",
       "open_plan                           False                False  \n",
       "kitchen_area                         23.3                  9.0  \n",
       "balcony                                 2                    0  \n",
       "locality_name             Санкт-Петербург  поселок Новый Учхоз  \n",
       "airports_nearest                  39140.0                  NaN  \n",
       "cityCenters_nearest               10364.0                  NaN  \n",
       "parks_around3000                      2.0                  NaN  \n",
       "parks_nearest                       173.0                  NaN  \n",
       "ponds_around3000                        3                    0  \n",
       "ponds_nearest                       196.0                  NaN  \n",
       "days_exposition                     602.0                  NaN  \n",
       "price_square_meter                 149511                41795  \n",
       "day                                     1                    4  \n",
       "month                                   3                    7  \n",
       "year                                 2017                 2017  \n",
       "floor_category                     Другой               Первый  \n",
       "area_living                           NaN             0.380805  \n",
       "area_kitchen                     0.303583             0.278638  \n",
       "\n",
       "[29 rows x 23699 columns]"
      ]
     },
     "execution_count": 50,
     "metadata": {},
     "output_type": "execute_result"
    }
   ],
   "source": [
    "data.T"
   ]
  },
  {
   "cell_type": "markdown",
   "metadata": {},
   "source": [
    "## Исследовательский анализ данных"
   ]
  },
  {
   "cell_type": "markdown",
   "metadata": {},
   "source": [
    "### Анализ площади."
   ]
  },
  {
   "cell_type": "code",
   "execution_count": 51,
   "metadata": {},
   "outputs": [
    {
     "data": {
      "text/plain": [
       "count    23699.000000\n",
       "mean        60.348651\n",
       "std         35.654083\n",
       "min         12.000000\n",
       "25%         40.000000\n",
       "50%         52.000000\n",
       "75%         69.900000\n",
       "max        900.000000\n",
       "Name: total_area, dtype: float64"
      ]
     },
     "execution_count": 51,
     "metadata": {},
     "output_type": "execute_result"
    }
   ],
   "source": [
    "data[\"total_area\"].describe()"
   ]
  },
  {
   "cell_type": "code",
   "execution_count": 52,
   "metadata": {},
   "outputs": [
    {
     "data": {
      "text/plain": [
       "<AxesSubplot:ylabel='Frequency'>"
      ]
     },
     "execution_count": 52,
     "metadata": {},
     "output_type": "execute_result"
    },
    {
     "data": {
      "image/png": "[encoded data removed]",
      "text/plain": [
       "<Figure size 720x720 with 1 Axes>"
      ]
     },
     "metadata": {
      "needs_background": "light"
     },
     "output_type": "display_data"
    }
   ],
   "source": [
    "data.plot(y = 'total_area', kind = 'hist', bins = 100, grid=True, figsize = (10,10), range = (10,100))"
   ]
  },
  {
   "cell_type": "code",
   "execution_count": 53,
   "metadata": {},
   "outputs": [
    {
     "data": {
      "text/plain": [
       "<AxesSubplot:>"
      ]
     },
     "execution_count": 53,
     "metadata": {},
     "output_type": "execute_result"
    },
    {
     "data": {
      "image/png": "[encoded data removed]",
      "text/plain": [
       "<Figure size 432x288 with 1 Axes>"
      ]
     },
     "metadata": {
      "needs_background": "light"
     },
     "output_type": "display_data"
    }
   ],
   "source": [
    "data.boxplot(column='total_area')"
   ]
  },
  {
   "cell_type": "markdown",
   "metadata": {},
   "source": [
    "#### Вывод:\n",
    "По графику видно, что в основном преобладают квартиры площадью - 50 метров квадратных. Данные сильно колеблятся - минимальное значение - 12квадратов (студия) - в то время как максимальное значение - 900 (выброс)."
   ]
  },
  {
   "cell_type": "markdown",
   "metadata": {},
   "source": [
    "### Анализ цены."
   ]
  },
  {
   "cell_type": "code",
   "execution_count": 54,
   "metadata": {},
   "outputs": [
    {
     "data": {
      "text/plain": [
       "count    2.369900e+04\n",
       "mean     6.541549e+06\n",
       "std      1.088701e+07\n",
       "min      1.219000e+04\n",
       "25%      3.400000e+06\n",
       "50%      4.650000e+06\n",
       "75%      6.800000e+06\n",
       "max      7.630000e+08\n",
       "Name: last_price, dtype: float64"
      ]
     },
     "execution_count": 54,
     "metadata": {},
     "output_type": "execute_result"
    }
   ],
   "source": [
    "data[\"last_price\"].describe()"
   ]
  },
  {
   "cell_type": "code",
   "execution_count": 55,
   "metadata": {},
   "outputs": [
    {
     "data": {
      "text/plain": [
       "<AxesSubplot:>"
      ]
     },
     "execution_count": 55,
     "metadata": {},
     "output_type": "execute_result"
    },
    {
     "data": {
      "image/png": "[encoded data removed]",
      "text/plain": [
       "<Figure size 432x288 with 1 Axes>"
      ]
     },
     "metadata": {
      "needs_background": "light"
     },
     "output_type": "display_data"
    }
   ],
   "source": [
    "data.boxplot(column='last_price')"
   ]
  },
  {
   "cell_type": "code",
   "execution_count": 56,
   "metadata": {},
   "outputs": [
    {
     "data": {
      "text/plain": [
       "<AxesSubplot:ylabel='Frequency'>"
      ]
     },
     "execution_count": 56,
     "metadata": {},
     "output_type": "execute_result"
    },
    {
     "data": {
      "image/png": "[encoded data removed]",
      "text/plain": [
       "<Figure size 720x720 with 1 Axes>"
      ]
     },
     "metadata": {
      "needs_background": "light"
     },
     "output_type": "display_data"
    }
   ],
   "source": [
    "data.plot(y = 'last_price', kind = 'hist', bins = 100, grid=True, figsize = (10,10), range = (0,20000000))"
   ]
  },
  {
   "cell_type": "markdown",
   "metadata": {},
   "source": [
    "#### Вывод:\n",
    "На графике наблюдается нормальное распределение. Средняя цена за квартиру составляет 6,5 млн. руб."
   ]
  },
  {
   "cell_type": "markdown",
   "metadata": {},
   "source": [
    "### Анализ числа комнат."
   ]
  },
  {
   "cell_type": "code",
   "execution_count": 57,
   "metadata": {},
   "outputs": [
    {
     "data": {
      "text/plain": [
       "count    23699.000000\n",
       "mean         2.070636\n",
       "std          1.078405\n",
       "min          0.000000\n",
       "25%          1.000000\n",
       "50%          2.000000\n",
       "75%          3.000000\n",
       "max         19.000000\n",
       "Name: rooms, dtype: float64"
      ]
     },
     "execution_count": 57,
     "metadata": {},
     "output_type": "execute_result"
    }
   ],
   "source": [
    "data[\"rooms\"].describe()"
   ]
  },
  {
   "cell_type": "code",
   "execution_count": 58,
   "metadata": {
    "scrolled": true
   },
   "outputs": [
    {
     "data": {
      "text/plain": [
       "<AxesSubplot:ylabel='Frequency'>"
      ]
     },
     "execution_count": 58,
     "metadata": {},
     "output_type": "execute_result"
    },
    {
     "data": {
      "image/png": "[encoded data removed]",
      "text/plain": [
       "<Figure size 720x720 with 1 Axes>"
      ]
     },
     "metadata": {
      "needs_background": "light"
     },
     "output_type": "display_data"
    }
   ],
   "source": [
    "data.plot(y = 'rooms', kind = 'hist', bins = 20, grid=True, figsize = (10,10), range = (0,20))"
   ]
  },
  {
   "cell_type": "markdown",
   "metadata": {},
   "source": [
    "#### Вывод:\n",
    "По результатам можно сделать вывод, что среднее количесвто комнат в квартире составляет - 2. Минимальное значение равняется нулю, хотя это данные об студиях где нет разделения на комнаты. Максимальное значение составляет 19 комнат (вероятно это аномалия)"
   ]
  },
  {
   "cell_type": "markdown",
   "metadata": {},
   "source": [
    "### Анализ высоты потолков."
   ]
  },
  {
   "cell_type": "code",
   "execution_count": 59,
   "metadata": {},
   "outputs": [
    {
     "data": {
      "text/plain": [
       "count    23699.000000\n",
       "mean         2.697798\n",
       "std          0.237643\n",
       "min          1.000000\n",
       "25%          2.600000\n",
       "50%          2.650000\n",
       "75%          2.700000\n",
       "max         10.000000\n",
       "Name: ceiling_height, dtype: float64"
      ]
     },
     "execution_count": 59,
     "metadata": {},
     "output_type": "execute_result"
    }
   ],
   "source": [
    "data[\"ceiling_height\"].describe()"
   ]
  },
  {
   "cell_type": "code",
   "execution_count": 60,
   "metadata": {},
   "outputs": [
    {
     "data": {
      "text/plain": [
       "<AxesSubplot:>"
      ]
     },
     "execution_count": 60,
     "metadata": {},
     "output_type": "execute_result"
    },
    {
     "data": {
      "image/png": "[encoded data removed]",
      "text/plain": [
       "<Figure size 432x288 with 1 Axes>"
      ]
     },
     "metadata": {
      "needs_background": "light"
     },
     "output_type": "display_data"
    }
   ],
   "source": [
    "data.boxplot(column='ceiling_height')"
   ]
  },
  {
   "cell_type": "code",
   "execution_count": 61,
   "metadata": {},
   "outputs": [
    {
     "data": {
      "text/plain": [
       "<AxesSubplot:ylabel='Frequency'>"
      ]
     },
     "execution_count": 61,
     "metadata": {},
     "output_type": "execute_result"
    },
    {
     "data": {
      "image/png": "[encoded data removed]",
      "text/plain": [
       "<Figure size 720x720 with 1 Axes>"
      ]
     },
     "metadata": {
      "needs_background": "light"
     },
     "output_type": "display_data"
    }
   ],
   "source": [
    "data.plot(y = 'ceiling_height', kind = 'hist', bins = 30, grid=True, figsize = (10,10), range = (0,10))"
   ]
  },
  {
   "cell_type": "markdown",
   "metadata": {},
   "source": [
    "#### Вывод:\n",
    "Почти во всех квартирах высота потолка составляет в среднем - 2,7 метра. Есть минимальное значение - 1 метр, но такой всего один случай и не влияет на результат."
   ]
  },
  {
   "cell_type": "markdown",
   "metadata": {},
   "source": [
    "### Время продажи квартиры."
   ]
  },
  {
   "cell_type": "code",
   "execution_count": 62,
   "metadata": {},
   "outputs": [
    {
     "name": "stdout",
     "output_type": "stream",
     "text": [
      "Количество пропусков в столбце: 3181\n",
      "Процент пропусков в столбце: 13.422507278788135\n"
     ]
    }
   ],
   "source": [
    "print(\"Количество пропусков в столбце:\", data['days_exposition'].isna().sum())\n",
    "print(\"Процент пропусков в столбце:\",data['days_exposition'].isna().sum() / len(data['total_images']) * 100)"
   ]
  },
  {
   "cell_type": "code",
   "execution_count": 63,
   "metadata": {},
   "outputs": [
    {
     "data": {
      "text/plain": [
       "count    20518.000000\n",
       "mean       180.888634\n",
       "std        219.727988\n",
       "min          1.000000\n",
       "25%         45.000000\n",
       "50%         95.000000\n",
       "75%        232.000000\n",
       "max       1580.000000\n",
       "Name: days_exposition, dtype: float64"
      ]
     },
     "execution_count": 63,
     "metadata": {},
     "output_type": "execute_result"
    }
   ],
   "source": [
    "data[\"days_exposition\"].describe()"
   ]
  },
  {
   "cell_type": "code",
   "execution_count": 64,
   "metadata": {},
   "outputs": [
    {
     "data": {
      "text/plain": [
       "<AxesSubplot:>"
      ]
     },
     "execution_count": 64,
     "metadata": {},
     "output_type": "execute_result"
    },
    {
     "data": {
      "image/png": "[encoded data removed]",
      "text/plain": [
       "<Figure size 432x288 with 1 Axes>"
      ]
     },
     "metadata": {
      "needs_background": "light"
     },
     "output_type": "display_data"
    }
   ],
   "source": [
    "data.boxplot(column='days_exposition')"
   ]
  },
  {
   "cell_type": "code",
   "execution_count": 65,
   "metadata": {},
   "outputs": [
    {
     "data": {
      "text/plain": [
       "<AxesSubplot:ylabel='Frequency'>"
      ]
     },
     "execution_count": 65,
     "metadata": {},
     "output_type": "execute_result"
    },
    {
     "data": {
      "image/png": "[encoded data removed]",
      "text/plain": [
       "<Figure size 720x720 with 1 Axes>"
      ]
     },
     "metadata": {
      "needs_background": "light"
     },
     "output_type": "display_data"
    }
   ],
   "source": [
    "data.plot(y = 'days_exposition', kind = 'hist', bins = 100, grid=True, figsize = (10,10), range = (0,1000))"
   ]
  },
  {
   "cell_type": "code",
   "execution_count": 66,
   "metadata": {},
   "outputs": [
    {
     "data": {
      "text/plain": [
       "<AxesSubplot:ylabel='Frequency'>"
      ]
     },
     "execution_count": 66,
     "metadata": {},
     "output_type": "execute_result"
    },
    {
     "data": {
      "image/png": "[encoded data removed]",
      "text/plain": [
       "<Figure size 720x720 with 1 Axes>"
      ]
     },
     "metadata": {
      "needs_background": "light"
     },
     "output_type": "display_data"
    }
   ],
   "source": [
    "data.plot(y = 'days_exposition', kind = 'hist', bins = 100, grid=True, figsize = (10,10), range = (0,100))"
   ]
  },
  {
   "cell_type": "markdown",
   "metadata": {},
   "source": [
    "#### Вывод:\n",
    "Исходя из boxplot - можно сделать вывод, что объявления после 580 дней - уже выбросы."
   ]
  },
  {
   "cell_type": "code",
   "execution_count": 67,
   "metadata": {},
   "outputs": [],
   "source": [
    "data[\"days_exposition\"] = data['days_exposition'].fillna(data[\"days_exposition\"].median())"
   ]
  },
  {
   "cell_type": "code",
   "execution_count": 68,
   "metadata": {},
   "outputs": [
    {
     "name": "stdout",
     "output_type": "stream",
     "text": [
      "Количество пропусков в столбце: 0\n",
      "Процент пропусков в столбце: 0.0\n"
     ]
    }
   ],
   "source": [
    "print(\"Количество пропусков в столбце:\", data['days_exposition'].isna().sum())\n",
    "print(\"Процент пропусков в столбце:\",data['days_exposition'].isna().sum() / len(data['total_images']) * 100)"
   ]
  },
  {
   "cell_type": "code",
   "execution_count": 69,
   "metadata": {},
   "outputs": [
    {
     "data": {
      "text/plain": [
       "(18485, 29)"
      ]
     },
     "execution_count": 69,
     "metadata": {},
     "output_type": "execute_result"
    }
   ],
   "source": [
    "data = data.query('days_exposition < 578 and days_exposition != 45 and days_exposition != 60 and days_exposition !=90')\n",
    "data = data.query('ceiling_height < 3 and total_area < 155 and rooms < 6 and last_price < 12000000')\n",
    "data.shape"
   ]
  },
  {
   "cell_type": "markdown",
   "metadata": {},
   "source": [
    "### Факторы, влияющие на стоимость квартиры"
   ]
  },
  {
   "cell_type": "markdown",
   "metadata": {},
   "source": [
    "#### Площадь"
   ]
  },
  {
   "cell_type": "code",
   "execution_count": 70,
   "metadata": {},
   "outputs": [
    {
     "data": {
      "text/html": [
       "<div>\n",
       "<style scoped>\n",
       "    .dataframe tbody tr th:only-of-type {\n",
       "        vertical-align: middle;\n",
       "    }\n",
       "\n",
       "    .dataframe tbody tr th {\n",
       "        vertical-align: top;\n",
       "    }\n",
       "\n",
       "    .dataframe thead th {\n",
       "        text-align: right;\n",
       "    }\n",
       "</style>\n",
       "<table border=\"1\" class=\"dataframe\">\n",
       "  <thead>\n",
       "    <tr style=\"text-align: right;\">\n",
       "      <th></th>\n",
       "      <th>count</th>\n",
       "      <th>sum</th>\n",
       "      <th>mean</th>\n",
       "      <th>median</th>\n",
       "    </tr>\n",
       "    <tr>\n",
       "      <th>total_area</th>\n",
       "      <th></th>\n",
       "      <th></th>\n",
       "      <th></th>\n",
       "      <th></th>\n",
       "    </tr>\n",
       "  </thead>\n",
       "  <tbody>\n",
       "    <tr>\n",
       "      <th>12.0</th>\n",
       "      <td>1</td>\n",
       "      <td>200000</td>\n",
       "      <td>200000.000000</td>\n",
       "      <td>200000.0</td>\n",
       "    </tr>\n",
       "    <tr>\n",
       "      <th>13.0</th>\n",
       "      <td>2</td>\n",
       "      <td>399999</td>\n",
       "      <td>199999.500000</td>\n",
       "      <td>199999.5</td>\n",
       "    </tr>\n",
       "    <tr>\n",
       "      <th>13.2</th>\n",
       "      <td>1</td>\n",
       "      <td>127727</td>\n",
       "      <td>127727.000000</td>\n",
       "      <td>127727.0</td>\n",
       "    </tr>\n",
       "    <tr>\n",
       "      <th>14.0</th>\n",
       "      <td>1</td>\n",
       "      <td>85000</td>\n",
       "      <td>85000.000000</td>\n",
       "      <td>85000.0</td>\n",
       "    </tr>\n",
       "    <tr>\n",
       "      <th>15.0</th>\n",
       "      <td>2</td>\n",
       "      <td>229999</td>\n",
       "      <td>114999.500000</td>\n",
       "      <td>114999.5</td>\n",
       "    </tr>\n",
       "    <tr>\n",
       "      <th>...</th>\n",
       "      <td>...</td>\n",
       "      <td>...</td>\n",
       "      <td>...</td>\n",
       "      <td>...</td>\n",
       "    </tr>\n",
       "    <tr>\n",
       "      <th>141.3</th>\n",
       "      <td>2</td>\n",
       "      <td>138003</td>\n",
       "      <td>69001.500000</td>\n",
       "      <td>69001.5</td>\n",
       "    </tr>\n",
       "    <tr>\n",
       "      <th>145.0</th>\n",
       "      <td>2</td>\n",
       "      <td>141310</td>\n",
       "      <td>70655.000000</td>\n",
       "      <td>70655.0</td>\n",
       "    </tr>\n",
       "    <tr>\n",
       "      <th>146.0</th>\n",
       "      <td>3</td>\n",
       "      <td>195122</td>\n",
       "      <td>65040.666667</td>\n",
       "      <td>79452.0</td>\n",
       "    </tr>\n",
       "    <tr>\n",
       "      <th>147.7</th>\n",
       "      <td>1</td>\n",
       "      <td>81178</td>\n",
       "      <td>81178.000000</td>\n",
       "      <td>81178.0</td>\n",
       "    </tr>\n",
       "    <tr>\n",
       "      <th>147.8</th>\n",
       "      <td>2</td>\n",
       "      <td>115892</td>\n",
       "      <td>57946.000000</td>\n",
       "      <td>57946.0</td>\n",
       "    </tr>\n",
       "  </tbody>\n",
       "</table>\n",
       "<p>1518 rows × 4 columns</p>\n",
       "</div>"
      ],
      "text/plain": [
       "            count     sum           mean    median\n",
       "total_area                                        \n",
       "12.0            1  200000  200000.000000  200000.0\n",
       "13.0            2  399999  199999.500000  199999.5\n",
       "13.2            1  127727  127727.000000  127727.0\n",
       "14.0            1   85000   85000.000000   85000.0\n",
       "15.0            2  229999  114999.500000  114999.5\n",
       "...           ...     ...            ...       ...\n",
       "141.3           2  138003   69001.500000   69001.5\n",
       "145.0           2  141310   70655.000000   70655.0\n",
       "146.0           3  195122   65040.666667   79452.0\n",
       "147.7           1   81178   81178.000000   81178.0\n",
       "147.8           2  115892   57946.000000   57946.0\n",
       "\n",
       "[1518 rows x 4 columns]"
      ]
     },
     "execution_count": 70,
     "metadata": {},
     "output_type": "execute_result"
    }
   ],
   "source": [
    "pivot_area = data.pivot_table(index = \"total_area\", values = \"price_square_meter\", aggfunc = [\"count\",\"sum\",\"mean\",\"median\"])\n",
    "pivot_area.columns = [\"count\",\"sum\",\"mean\",'median']\n",
    "pivot_area"
   ]
  },
  {
   "cell_type": "code",
   "execution_count": 71,
   "metadata": {},
   "outputs": [
    {
     "data": {
      "text/plain": [
       "<AxesSubplot:xlabel='total_area'>"
      ]
     },
     "execution_count": 71,
     "metadata": {},
     "output_type": "execute_result"
    },
    {
     "data": {
      "image/png": "[encoded data removed]",
      "text/plain": [
       "<Figure size 432x288 with 1 Axes>"
      ]
     },
     "metadata": {
      "needs_background": "light"
     },
     "output_type": "display_data"
    }
   ],
   "source": [
    "pivot_area.sort_values(\"median\", ascending=False).plot(y=\"median\",style=\"o\")"
   ]
  },
  {
   "cell_type": "code",
   "execution_count": 72,
   "metadata": {
    "scrolled": true
   },
   "outputs": [
    {
     "data": {
      "text/plain": [
       "-0.09955431421689082"
      ]
     },
     "execution_count": 72,
     "metadata": {},
     "output_type": "execute_result"
    }
   ],
   "source": [
    "data[\"total_area\"].corr(data[\"price_square_meter\"])"
   ]
  },
  {
   "cell_type": "markdown",
   "metadata": {},
   "source": [
    "##### Вывод:\n",
    "Зачение корреляции не сильно большое, всего 0,1. Однако все равно заметно на графике, что чем больше площадь - тем больше цена"
   ]
  },
  {
   "cell_type": "markdown",
   "metadata": {},
   "source": [
    "#### Число комнат"
   ]
  },
  {
   "cell_type": "code",
   "execution_count": 73,
   "metadata": {},
   "outputs": [
    {
     "data": {
      "text/html": [
       "<div>\n",
       "<style scoped>\n",
       "    .dataframe tbody tr th:only-of-type {\n",
       "        vertical-align: middle;\n",
       "    }\n",
       "\n",
       "    .dataframe tbody tr th {\n",
       "        vertical-align: top;\n",
       "    }\n",
       "\n",
       "    .dataframe thead th {\n",
       "        text-align: right;\n",
       "    }\n",
       "</style>\n",
       "<table border=\"1\" class=\"dataframe\">\n",
       "  <thead>\n",
       "    <tr style=\"text-align: right;\">\n",
       "      <th></th>\n",
       "      <th>count</th>\n",
       "      <th>sum</th>\n",
       "      <th>mean</th>\n",
       "      <th>median</th>\n",
       "    </tr>\n",
       "    <tr>\n",
       "      <th>rooms</th>\n",
       "      <th></th>\n",
       "      <th></th>\n",
       "      <th></th>\n",
       "      <th></th>\n",
       "    </tr>\n",
       "  </thead>\n",
       "  <tbody>\n",
       "    <tr>\n",
       "      <th>0</th>\n",
       "      <td>178</td>\n",
       "      <td>19028733</td>\n",
       "      <td>106902.994382</td>\n",
       "      <td>105050.0</td>\n",
       "    </tr>\n",
       "    <tr>\n",
       "      <th>1</th>\n",
       "      <td>7215</td>\n",
       "      <td>710235230</td>\n",
       "      <td>98438.701317</td>\n",
       "      <td>99496.0</td>\n",
       "    </tr>\n",
       "    <tr>\n",
       "      <th>2</th>\n",
       "      <td>6466</td>\n",
       "      <td>569936027</td>\n",
       "      <td>88143.524126</td>\n",
       "      <td>89534.0</td>\n",
       "    </tr>\n",
       "    <tr>\n",
       "      <th>3</th>\n",
       "      <td>4013</td>\n",
       "      <td>327325919</td>\n",
       "      <td>81566.388986</td>\n",
       "      <td>83426.0</td>\n",
       "    </tr>\n",
       "    <tr>\n",
       "      <th>4</th>\n",
       "      <td>546</td>\n",
       "      <td>42567580</td>\n",
       "      <td>77962.600733</td>\n",
       "      <td>79342.5</td>\n",
       "    </tr>\n",
       "    <tr>\n",
       "      <th>5</th>\n",
       "      <td>67</td>\n",
       "      <td>4634408</td>\n",
       "      <td>69170.268657</td>\n",
       "      <td>73134.0</td>\n",
       "    </tr>\n",
       "  </tbody>\n",
       "</table>\n",
       "</div>"
      ],
      "text/plain": [
       "       count        sum           mean    median\n",
       "rooms                                           \n",
       "0        178   19028733  106902.994382  105050.0\n",
       "1       7215  710235230   98438.701317   99496.0\n",
       "2       6466  569936027   88143.524126   89534.0\n",
       "3       4013  327325919   81566.388986   83426.0\n",
       "4        546   42567580   77962.600733   79342.5\n",
       "5         67    4634408   69170.268657   73134.0"
      ]
     },
     "execution_count": 73,
     "metadata": {},
     "output_type": "execute_result"
    }
   ],
   "source": [
    "pivot_rooms = data.pivot_table(index = \"rooms\", values = \"price_square_meter\", aggfunc = [\"count\",\"sum\",\"mean\",\"median\"])\n",
    "pivot_rooms.columns = [\"count\",\"sum\",\"mean\",'median']\n",
    "pivot_rooms"
   ]
  },
  {
   "cell_type": "markdown",
   "metadata": {},
   "source": [
    "В данных есть большие значений комнат (больше > 10), а также квартиры где нет комнат (предположим, что это не аномалия, а так указывали студии). Но таких значений не очень много (от 1 до 12). Поэтому для более достоверной картины рассмотрим квартиры, в которых общее количесвто больше 100."
   ]
  },
  {
   "cell_type": "code",
   "execution_count": 74,
   "metadata": {},
   "outputs": [
    {
     "data": {
      "text/plain": [
       "<AxesSubplot:xlabel='rooms'>"
      ]
     },
     "execution_count": 74,
     "metadata": {},
     "output_type": "execute_result"
    },
    {
     "data": {
      "image/png": "[encoded data removed]",
      "text/plain": [
       "<Figure size 432x288 with 1 Axes>"
      ]
     },
     "metadata": {
      "needs_background": "light"
     },
     "output_type": "display_data"
    }
   ],
   "source": [
    "pivot_rooms.plot(y = 'median')"
   ]
  },
  {
   "cell_type": "code",
   "execution_count": 75,
   "metadata": {},
   "outputs": [
    {
     "data": {
      "text/plain": [
       "-0.24617950562813973"
      ]
     },
     "execution_count": 75,
     "metadata": {},
     "output_type": "execute_result"
    }
   ],
   "source": [
    "data['rooms'].corr(data['price_square_meter'])"
   ]
  },
  {
   "cell_type": "markdown",
   "metadata": {},
   "source": [
    "Корреляция между количеством комнта и ценой за квадратный метр очень мала. Однако по графику можно сделать вывод, что квартиры, с количеством комнат равным 5, имеют самую низкую стоимость за квадратный метр. Посмотрим на то, как зависит итоговая цена от комнат"
   ]
  },
  {
   "cell_type": "code",
   "execution_count": 76,
   "metadata": {},
   "outputs": [
    {
     "data": {
      "text/html": [
       "<div>\n",
       "<style scoped>\n",
       "    .dataframe tbody tr th:only-of-type {\n",
       "        vertical-align: middle;\n",
       "    }\n",
       "\n",
       "    .dataframe tbody tr th {\n",
       "        vertical-align: top;\n",
       "    }\n",
       "\n",
       "    .dataframe thead th {\n",
       "        text-align: right;\n",
       "    }\n",
       "</style>\n",
       "<table border=\"1\" class=\"dataframe\">\n",
       "  <thead>\n",
       "    <tr style=\"text-align: right;\">\n",
       "      <th></th>\n",
       "      <th>count</th>\n",
       "      <th>sum</th>\n",
       "      <th>mean</th>\n",
       "      <th>median</th>\n",
       "    </tr>\n",
       "    <tr>\n",
       "      <th>rooms</th>\n",
       "      <th></th>\n",
       "      <th></th>\n",
       "      <th></th>\n",
       "      <th></th>\n",
       "    </tr>\n",
       "  </thead>\n",
       "  <tbody>\n",
       "    <tr>\n",
       "      <th>0</th>\n",
       "      <td>178</td>\n",
       "      <td>506180750</td>\n",
       "      <td>2.843712e+06</td>\n",
       "      <td>2700000</td>\n",
       "    </tr>\n",
       "    <tr>\n",
       "      <th>1</th>\n",
       "      <td>7215</td>\n",
       "      <td>26446741335</td>\n",
       "      <td>3.665522e+06</td>\n",
       "      <td>3530000</td>\n",
       "    </tr>\n",
       "    <tr>\n",
       "      <th>2</th>\n",
       "      <td>6466</td>\n",
       "      <td>31145488657</td>\n",
       "      <td>4.816809e+06</td>\n",
       "      <td>4500000</td>\n",
       "    </tr>\n",
       "    <tr>\n",
       "      <th>3</th>\n",
       "      <td>4013</td>\n",
       "      <td>23165058509</td>\n",
       "      <td>5.772504e+06</td>\n",
       "      <td>5500000</td>\n",
       "    </tr>\n",
       "    <tr>\n",
       "      <th>4</th>\n",
       "      <td>546</td>\n",
       "      <td>3491867777</td>\n",
       "      <td>6.395362e+06</td>\n",
       "      <td>6300000</td>\n",
       "    </tr>\n",
       "    <tr>\n",
       "      <th>5</th>\n",
       "      <td>67</td>\n",
       "      <td>499428000</td>\n",
       "      <td>7.454149e+06</td>\n",
       "      <td>7829000</td>\n",
       "    </tr>\n",
       "  </tbody>\n",
       "</table>\n",
       "</div>"
      ],
      "text/plain": [
       "       count          sum          mean   median\n",
       "rooms                                           \n",
       "0        178    506180750  2.843712e+06  2700000\n",
       "1       7215  26446741335  3.665522e+06  3530000\n",
       "2       6466  31145488657  4.816809e+06  4500000\n",
       "3       4013  23165058509  5.772504e+06  5500000\n",
       "4        546   3491867777  6.395362e+06  6300000\n",
       "5         67    499428000  7.454149e+06  7829000"
      ]
     },
     "execution_count": 76,
     "metadata": {},
     "output_type": "execute_result"
    }
   ],
   "source": [
    "pivot_rooms = data.pivot_table(index = \"rooms\", values = \"last_price\", aggfunc = [\"count\",\"sum\",\"mean\",\"median\"])\n",
    "pivot_rooms.columns = [\"count\",\"sum\",\"mean\",'median']\n",
    "pivot_rooms"
   ]
  },
  {
   "cell_type": "code",
   "execution_count": 77,
   "metadata": {},
   "outputs": [
    {
     "data": {
      "text/plain": [
       "<AxesSubplot:xlabel='rooms'>"
      ]
     },
     "execution_count": 77,
     "metadata": {},
     "output_type": "execute_result"
    },
    {
     "data": {
      "image/png": "[encoded data removed]",
      "text/plain": [
       "<Figure size 432x288 with 1 Axes>"
      ]
     },
     "metadata": {
      "needs_background": "light"
     },
     "output_type": "display_data"
    }
   ],
   "source": [
    "pivot_rooms.plot(y = 'median')"
   ]
  },
  {
   "cell_type": "markdown",
   "metadata": {},
   "source": [
    "#### Вывод:\n",
    "Теперь можно точно сказать, что чем больше комнат, тем дороже квартира. Хоть и цена за квадратный метр уменьшается с ростом комнат, но общая площадь увеличивается и в итоге цена растет"
   ]
  },
  {
   "cell_type": "markdown",
   "metadata": {},
   "source": [
    "####  Удаленность от центра"
   ]
  },
  {
   "cell_type": "code",
   "execution_count": 78,
   "metadata": {},
   "outputs": [
    {
     "data": {
      "text/html": [
       "<div>\n",
       "<style scoped>\n",
       "    .dataframe tbody tr th:only-of-type {\n",
       "        vertical-align: middle;\n",
       "    }\n",
       "\n",
       "    .dataframe tbody tr th {\n",
       "        vertical-align: top;\n",
       "    }\n",
       "\n",
       "    .dataframe thead th {\n",
       "        text-align: right;\n",
       "    }\n",
       "</style>\n",
       "<table border=\"1\" class=\"dataframe\">\n",
       "  <thead>\n",
       "    <tr style=\"text-align: right;\">\n",
       "      <th></th>\n",
       "      <th>count</th>\n",
       "      <th>sum</th>\n",
       "      <th>mean</th>\n",
       "      <th>median</th>\n",
       "    </tr>\n",
       "    <tr>\n",
       "      <th>cityCenters_nearest</th>\n",
       "      <th></th>\n",
       "      <th></th>\n",
       "      <th></th>\n",
       "      <th></th>\n",
       "    </tr>\n",
       "  </thead>\n",
       "  <tbody>\n",
       "    <tr>\n",
       "      <th>399.0</th>\n",
       "      <td>1</td>\n",
       "      <td>90000</td>\n",
       "      <td>90000.0</td>\n",
       "      <td>90000.0</td>\n",
       "    </tr>\n",
       "    <tr>\n",
       "      <th>467.0</th>\n",
       "      <td>1</td>\n",
       "      <td>108163</td>\n",
       "      <td>108163.0</td>\n",
       "      <td>108163.0</td>\n",
       "    </tr>\n",
       "    <tr>\n",
       "      <th>472.0</th>\n",
       "      <td>1</td>\n",
       "      <td>144957</td>\n",
       "      <td>144957.0</td>\n",
       "      <td>144957.0</td>\n",
       "    </tr>\n",
       "    <tr>\n",
       "      <th>515.0</th>\n",
       "      <td>1</td>\n",
       "      <td>117283</td>\n",
       "      <td>117283.0</td>\n",
       "      <td>117283.0</td>\n",
       "    </tr>\n",
       "    <tr>\n",
       "      <th>623.0</th>\n",
       "      <td>1</td>\n",
       "      <td>70000</td>\n",
       "      <td>70000.0</td>\n",
       "      <td>70000.0</td>\n",
       "    </tr>\n",
       "    <tr>\n",
       "      <th>...</th>\n",
       "      <td>...</td>\n",
       "      <td>...</td>\n",
       "      <td>...</td>\n",
       "      <td>...</td>\n",
       "    </tr>\n",
       "    <tr>\n",
       "      <th>62454.0</th>\n",
       "      <td>1</td>\n",
       "      <td>69114</td>\n",
       "      <td>69114.0</td>\n",
       "      <td>69114.0</td>\n",
       "    </tr>\n",
       "    <tr>\n",
       "      <th>62706.0</th>\n",
       "      <td>1</td>\n",
       "      <td>62500</td>\n",
       "      <td>62500.0</td>\n",
       "      <td>62500.0</td>\n",
       "    </tr>\n",
       "    <tr>\n",
       "      <th>64857.0</th>\n",
       "      <td>1</td>\n",
       "      <td>67843</td>\n",
       "      <td>67843.0</td>\n",
       "      <td>67843.0</td>\n",
       "    </tr>\n",
       "    <tr>\n",
       "      <th>65764.0</th>\n",
       "      <td>1</td>\n",
       "      <td>67796</td>\n",
       "      <td>67796.0</td>\n",
       "      <td>67796.0</td>\n",
       "    </tr>\n",
       "    <tr>\n",
       "      <th>65952.0</th>\n",
       "      <td>1</td>\n",
       "      <td>71146</td>\n",
       "      <td>71146.0</td>\n",
       "      <td>71146.0</td>\n",
       "    </tr>\n",
       "  </tbody>\n",
       "</table>\n",
       "<p>6092 rows × 4 columns</p>\n",
       "</div>"
      ],
      "text/plain": [
       "                     count     sum      mean    median\n",
       "cityCenters_nearest                                   \n",
       "399.0                    1   90000   90000.0   90000.0\n",
       "467.0                    1  108163  108163.0  108163.0\n",
       "472.0                    1  144957  144957.0  144957.0\n",
       "515.0                    1  117283  117283.0  117283.0\n",
       "623.0                    1   70000   70000.0   70000.0\n",
       "...                    ...     ...       ...       ...\n",
       "62454.0                  1   69114   69114.0   69114.0\n",
       "62706.0                  1   62500   62500.0   62500.0\n",
       "64857.0                  1   67843   67843.0   67843.0\n",
       "65764.0                  1   67796   67796.0   67796.0\n",
       "65952.0                  1   71146   71146.0   71146.0\n",
       "\n",
       "[6092 rows x 4 columns]"
      ]
     },
     "execution_count": 78,
     "metadata": {},
     "output_type": "execute_result"
    }
   ],
   "source": [
    "pivot_city_len = data.pivot_table(index = \"cityCenters_nearest\", values = \"price_square_meter\", aggfunc = [\"count\",\"sum\",\"mean\",\"median\"])\n",
    "pivot_city_len.columns = [\"count\",\"sum\",\"mean\",'median']\n",
    "pivot_city_len"
   ]
  },
  {
   "cell_type": "code",
   "execution_count": 79,
   "metadata": {},
   "outputs": [
    {
     "data": {
      "text/plain": [
       "<AxesSubplot:xlabel='cityCenters_nearest', ylabel='price_square_meter'>"
      ]
     },
     "execution_count": 79,
     "metadata": {},
     "output_type": "execute_result"
    },
    {
     "data": {
      "image/png": "[encoded data removed]",
      "text/plain": [
       "<Figure size 432x288 with 1 Axes>"
      ]
     },
     "metadata": {
      "needs_background": "light"
     },
     "output_type": "display_data"
    }
   ],
   "source": [
    "data.plot(kind = 'scatter', y = 'price_square_meter', x = 'cityCenters_nearest', alpha = 0.5)"
   ]
  },
  {
   "cell_type": "markdown",
   "metadata": {},
   "source": [
    "#### Вывод:\n",
    "из графика отлично видно, что чем ближе квартира к центру, тем выше цена"
   ]
  },
  {
   "cell_type": "markdown",
   "metadata": {},
   "source": [
    "#### Зависимость от этажа"
   ]
  },
  {
   "cell_type": "code",
   "execution_count": 80,
   "metadata": {},
   "outputs": [
    {
     "data": {
      "text/html": [
       "<div>\n",
       "<style scoped>\n",
       "    .dataframe tbody tr th:only-of-type {\n",
       "        vertical-align: middle;\n",
       "    }\n",
       "\n",
       "    .dataframe tbody tr th {\n",
       "        vertical-align: top;\n",
       "    }\n",
       "\n",
       "    .dataframe thead th {\n",
       "        text-align: right;\n",
       "    }\n",
       "</style>\n",
       "<table border=\"1\" class=\"dataframe\">\n",
       "  <thead>\n",
       "    <tr style=\"text-align: right;\">\n",
       "      <th></th>\n",
       "      <th>count</th>\n",
       "      <th>sum</th>\n",
       "      <th>mean</th>\n",
       "      <th>median</th>\n",
       "    </tr>\n",
       "    <tr>\n",
       "      <th>floor_category</th>\n",
       "      <th></th>\n",
       "      <th></th>\n",
       "      <th></th>\n",
       "      <th></th>\n",
       "    </tr>\n",
       "  </thead>\n",
       "  <tbody>\n",
       "    <tr>\n",
       "      <th>Другой</th>\n",
       "      <td>13703</td>\n",
       "      <td>1297723312</td>\n",
       "      <td>94703.591330</td>\n",
       "      <td>95168.0</td>\n",
       "    </tr>\n",
       "    <tr>\n",
       "      <th>Первый</th>\n",
       "      <td>2328</td>\n",
       "      <td>177820044</td>\n",
       "      <td>76383.180412</td>\n",
       "      <td>78365.5</td>\n",
       "    </tr>\n",
       "    <tr>\n",
       "      <th>Последний</th>\n",
       "      <td>2454</td>\n",
       "      <td>198184541</td>\n",
       "      <td>80759.796659</td>\n",
       "      <td>82621.5</td>\n",
       "    </tr>\n",
       "  </tbody>\n",
       "</table>\n",
       "</div>"
      ],
      "text/plain": [
       "                count         sum          mean   median\n",
       "floor_category                                          \n",
       "Другой          13703  1297723312  94703.591330  95168.0\n",
       "Первый           2328   177820044  76383.180412  78365.5\n",
       "Последний        2454   198184541  80759.796659  82621.5"
      ]
     },
     "execution_count": 80,
     "metadata": {},
     "output_type": "execute_result"
    }
   ],
   "source": [
    "pivot_floor = data.pivot_table(index = \"floor_category\", values = \"price_square_meter\", aggfunc = [\"count\",\"sum\",\"mean\",\"median\"])\n",
    "pivot_floor.columns = [\"count\",\"sum\",\"mean\",'median']\n",
    "pivot_floor"
   ]
  },
  {
   "cell_type": "code",
   "execution_count": 81,
   "metadata": {},
   "outputs": [
    {
     "data": {
      "text/plain": [
       "<AxesSubplot:ylabel='median'>"
      ]
     },
     "execution_count": 81,
     "metadata": {},
     "output_type": "execute_result"
    },
    {
     "data": {
      "image/png": "[encoded data removed]",
      "text/plain": [
       "<Figure size 576x576 with 1 Axes>"
      ]
     },
     "metadata": {},
     "output_type": "display_data"
    }
   ],
   "source": [
    "pivot_floor.plot(y='median',kind='pie',figsize=(8,8))"
   ]
  },
  {
   "cell_type": "markdown",
   "metadata": {},
   "source": [
    "#### Вывод:\n",
    "Сильной разницы между ценой за квадратный метр от этажа не наблюдается. По таблице можно сделать вывод, что первый этаж обладает дешевой ценой за квадратный метр. Скорей всего это связано с тем, что очень мало людей согласны жить на первом этаже в связи с различными обстоятельствами, поэтому цена здесь дешевле"
   ]
  },
  {
   "cell_type": "markdown",
   "metadata": {},
   "source": [
    "#### День недели"
   ]
  },
  {
   "cell_type": "code",
   "execution_count": 82,
   "metadata": {},
   "outputs": [
    {
     "data": {
      "text/html": [
       "<div>\n",
       "<style scoped>\n",
       "    .dataframe tbody tr th:only-of-type {\n",
       "        vertical-align: middle;\n",
       "    }\n",
       "\n",
       "    .dataframe tbody tr th {\n",
       "        vertical-align: top;\n",
       "    }\n",
       "\n",
       "    .dataframe thead th {\n",
       "        text-align: right;\n",
       "    }\n",
       "</style>\n",
       "<table border=\"1\" class=\"dataframe\">\n",
       "  <thead>\n",
       "    <tr style=\"text-align: right;\">\n",
       "      <th></th>\n",
       "      <th>count</th>\n",
       "      <th>sum</th>\n",
       "      <th>mean</th>\n",
       "      <th>median</th>\n",
       "    </tr>\n",
       "    <tr>\n",
       "      <th>day</th>\n",
       "      <th></th>\n",
       "      <th></th>\n",
       "      <th></th>\n",
       "      <th></th>\n",
       "    </tr>\n",
       "  </thead>\n",
       "  <tbody>\n",
       "    <tr>\n",
       "      <th>0</th>\n",
       "      <td>2807</td>\n",
       "      <td>255112193</td>\n",
       "      <td>90884.286783</td>\n",
       "      <td>91755.0</td>\n",
       "    </tr>\n",
       "    <tr>\n",
       "      <th>1</th>\n",
       "      <td>3248</td>\n",
       "      <td>295126021</td>\n",
       "      <td>90863.922722</td>\n",
       "      <td>91949.5</td>\n",
       "    </tr>\n",
       "    <tr>\n",
       "      <th>2</th>\n",
       "      <td>3086</td>\n",
       "      <td>281449212</td>\n",
       "      <td>91201.948153</td>\n",
       "      <td>92109.0</td>\n",
       "    </tr>\n",
       "    <tr>\n",
       "      <th>3</th>\n",
       "      <td>3280</td>\n",
       "      <td>295580733</td>\n",
       "      <td>90116.077134</td>\n",
       "      <td>91586.0</td>\n",
       "    </tr>\n",
       "    <tr>\n",
       "      <th>4</th>\n",
       "      <td>3201</td>\n",
       "      <td>289966563</td>\n",
       "      <td>90586.242737</td>\n",
       "      <td>91116.0</td>\n",
       "    </tr>\n",
       "    <tr>\n",
       "      <th>5</th>\n",
       "      <td>1508</td>\n",
       "      <td>134396696</td>\n",
       "      <td>89122.477454</td>\n",
       "      <td>90000.0</td>\n",
       "    </tr>\n",
       "    <tr>\n",
       "      <th>6</th>\n",
       "      <td>1355</td>\n",
       "      <td>122096479</td>\n",
       "      <td>90108.102583</td>\n",
       "      <td>91319.0</td>\n",
       "    </tr>\n",
       "  </tbody>\n",
       "</table>\n",
       "</div>"
      ],
      "text/plain": [
       "     count        sum          mean   median\n",
       "day                                         \n",
       "0     2807  255112193  90884.286783  91755.0\n",
       "1     3248  295126021  90863.922722  91949.5\n",
       "2     3086  281449212  91201.948153  92109.0\n",
       "3     3280  295580733  90116.077134  91586.0\n",
       "4     3201  289966563  90586.242737  91116.0\n",
       "5     1508  134396696  89122.477454  90000.0\n",
       "6     1355  122096479  90108.102583  91319.0"
      ]
     },
     "execution_count": 82,
     "metadata": {},
     "output_type": "execute_result"
    }
   ],
   "source": [
    "pivot_days = data.pivot_table(index=\"day\",values = \"price_square_meter\", aggfunc = [\"count\",\"sum\",\"mean\",\"median\"])\n",
    "pivot_days.columns = [\"count\",\"sum\",\"mean\",\"median\"]\n",
    "pivot_days"
   ]
  },
  {
   "cell_type": "code",
   "execution_count": 83,
   "metadata": {},
   "outputs": [
    {
     "data": {
      "text/plain": [
       "<AxesSubplot:xlabel='day'>"
      ]
     },
     "execution_count": 83,
     "metadata": {},
     "output_type": "execute_result"
    },
    {
     "data": {
      "image/png": "[encoded data removed]",
      "text/plain": [
       "<Figure size 432x288 with 1 Axes>"
      ]
     },
     "metadata": {
      "needs_background": "light"
     },
     "output_type": "display_data"
    }
   ],
   "source": [
    "pivot_days.plot(y=\"median\")"
   ]
  },
  {
   "cell_type": "markdown",
   "metadata": {},
   "source": [
    "#### Вывод:\n",
    "По графику отлично наблюдается пик цены по средам (хоть разница и не велика), а наиболее дешевая цена за квадратный метр наблюдается по субботам. Динамика графика показывает рост цен в начале недели и сильный спад к выходным. Скорей всего это связано с активностью людей в начале рабочей недели."
   ]
  },
  {
   "cell_type": "markdown",
   "metadata": {},
   "source": [
    "#### Месяц"
   ]
  },
  {
   "cell_type": "code",
   "execution_count": 84,
   "metadata": {},
   "outputs": [
    {
     "data": {
      "text/html": [
       "<div>\n",
       "<style scoped>\n",
       "    .dataframe tbody tr th:only-of-type {\n",
       "        vertical-align: middle;\n",
       "    }\n",
       "\n",
       "    .dataframe tbody tr th {\n",
       "        vertical-align: top;\n",
       "    }\n",
       "\n",
       "    .dataframe thead th {\n",
       "        text-align: right;\n",
       "    }\n",
       "</style>\n",
       "<table border=\"1\" class=\"dataframe\">\n",
       "  <thead>\n",
       "    <tr style=\"text-align: right;\">\n",
       "      <th></th>\n",
       "      <th>count</th>\n",
       "      <th>sum</th>\n",
       "      <th>mean</th>\n",
       "      <th>median</th>\n",
       "    </tr>\n",
       "    <tr>\n",
       "      <th>month</th>\n",
       "      <th></th>\n",
       "      <th></th>\n",
       "      <th></th>\n",
       "      <th></th>\n",
       "    </tr>\n",
       "  </thead>\n",
       "  <tbody>\n",
       "    <tr>\n",
       "      <th>1</th>\n",
       "      <td>1148</td>\n",
       "      <td>103700023</td>\n",
       "      <td>90331.030488</td>\n",
       "      <td>91979.5</td>\n",
       "    </tr>\n",
       "    <tr>\n",
       "      <th>2</th>\n",
       "      <td>2054</td>\n",
       "      <td>184213589</td>\n",
       "      <td>89685.291626</td>\n",
       "      <td>91387.0</td>\n",
       "    </tr>\n",
       "    <tr>\n",
       "      <th>3</th>\n",
       "      <td>1991</td>\n",
       "      <td>182256749</td>\n",
       "      <td>91540.305876</td>\n",
       "      <td>92250.0</td>\n",
       "    </tr>\n",
       "    <tr>\n",
       "      <th>4</th>\n",
       "      <td>1902</td>\n",
       "      <td>175672854</td>\n",
       "      <td>92362.173502</td>\n",
       "      <td>93333.0</td>\n",
       "    </tr>\n",
       "    <tr>\n",
       "      <th>5</th>\n",
       "      <td>974</td>\n",
       "      <td>88038018</td>\n",
       "      <td>90388.108830</td>\n",
       "      <td>90000.0</td>\n",
       "    </tr>\n",
       "    <tr>\n",
       "      <th>6</th>\n",
       "      <td>1372</td>\n",
       "      <td>120075347</td>\n",
       "      <td>87518.474490</td>\n",
       "      <td>88840.5</td>\n",
       "    </tr>\n",
       "    <tr>\n",
       "      <th>7</th>\n",
       "      <td>1273</td>\n",
       "      <td>114626563</td>\n",
       "      <td>90044.432836</td>\n",
       "      <td>90909.0</td>\n",
       "    </tr>\n",
       "    <tr>\n",
       "      <th>8</th>\n",
       "      <td>1379</td>\n",
       "      <td>126483859</td>\n",
       "      <td>91721.435098</td>\n",
       "      <td>93333.0</td>\n",
       "    </tr>\n",
       "    <tr>\n",
       "      <th>9</th>\n",
       "      <td>1568</td>\n",
       "      <td>143524821</td>\n",
       "      <td>91533.686862</td>\n",
       "      <td>92030.0</td>\n",
       "    </tr>\n",
       "    <tr>\n",
       "      <th>10</th>\n",
       "      <td>1744</td>\n",
       "      <td>157126399</td>\n",
       "      <td>90095.412271</td>\n",
       "      <td>91213.0</td>\n",
       "    </tr>\n",
       "    <tr>\n",
       "      <th>11</th>\n",
       "      <td>1875</td>\n",
       "      <td>170685154</td>\n",
       "      <td>91032.082133</td>\n",
       "      <td>91703.0</td>\n",
       "    </tr>\n",
       "    <tr>\n",
       "      <th>12</th>\n",
       "      <td>1205</td>\n",
       "      <td>107324521</td>\n",
       "      <td>89065.992531</td>\n",
       "      <td>89130.0</td>\n",
       "    </tr>\n",
       "  </tbody>\n",
       "</table>\n",
       "</div>"
      ],
      "text/plain": [
       "       count        sum          mean   median\n",
       "month                                         \n",
       "1       1148  103700023  90331.030488  91979.5\n",
       "2       2054  184213589  89685.291626  91387.0\n",
       "3       1991  182256749  91540.305876  92250.0\n",
       "4       1902  175672854  92362.173502  93333.0\n",
       "5        974   88038018  90388.108830  90000.0\n",
       "6       1372  120075347  87518.474490  88840.5\n",
       "7       1273  114626563  90044.432836  90909.0\n",
       "8       1379  126483859  91721.435098  93333.0\n",
       "9       1568  143524821  91533.686862  92030.0\n",
       "10      1744  157126399  90095.412271  91213.0\n",
       "11      1875  170685154  91032.082133  91703.0\n",
       "12      1205  107324521  89065.992531  89130.0"
      ]
     },
     "execution_count": 84,
     "metadata": {},
     "output_type": "execute_result"
    }
   ],
   "source": [
    "pivot_months= data.pivot_table(index=\"month\",values = \"price_square_meter\", aggfunc = [\"count\",\"sum\",\"mean\",\"median\"])\n",
    "pivot_months.columns = [\"count\",\"sum\",\"mean\",\"median\"]\n",
    "pivot_months"
   ]
  },
  {
   "cell_type": "code",
   "execution_count": 85,
   "metadata": {},
   "outputs": [
    {
     "data": {
      "text/plain": [
       "<AxesSubplot:xlabel='month'>"
      ]
     },
     "execution_count": 85,
     "metadata": {},
     "output_type": "execute_result"
    },
    {
     "data": {
      "image/png": "[encoded data removed]",
      "text/plain": [
       "<Figure size 432x288 with 1 Axes>"
      ]
     },
     "metadata": {
      "needs_background": "light"
     },
     "output_type": "display_data"
    }
   ],
   "source": [
    "pivot_months.plot(y=\"median\")"
   ]
  },
  {
   "cell_type": "markdown",
   "metadata": {},
   "source": [
    "#### Вывод:\n",
    "По графику отлично наблюдается пик цены марте-апреле, а наиболее дешевая цена за квадратный метр наблюдается июне. А также спад цены осенью и перед новым годом. Такой сильный спад цены летом связан с праздниками и отпусками, а также падение цены в декабре из-за приближающегося праздника. Можно сделать общий вывод, что в продаже квартир наблюдается сезонность продаж!"
   ]
  },
  {
   "cell_type": "markdown",
   "metadata": {},
   "source": [
    "#### Год"
   ]
  },
  {
   "cell_type": "code",
   "execution_count": 86,
   "metadata": {},
   "outputs": [
    {
     "data": {
      "text/html": [
       "<div>\n",
       "<style scoped>\n",
       "    .dataframe tbody tr th:only-of-type {\n",
       "        vertical-align: middle;\n",
       "    }\n",
       "\n",
       "    .dataframe tbody tr th {\n",
       "        vertical-align: top;\n",
       "    }\n",
       "\n",
       "    .dataframe thead th {\n",
       "        text-align: right;\n",
       "    }\n",
       "</style>\n",
       "<table border=\"1\" class=\"dataframe\">\n",
       "  <thead>\n",
       "    <tr style=\"text-align: right;\">\n",
       "      <th></th>\n",
       "      <th>count</th>\n",
       "      <th>sum</th>\n",
       "      <th>mean</th>\n",
       "      <th>median</th>\n",
       "    </tr>\n",
       "    <tr>\n",
       "      <th>year</th>\n",
       "      <th></th>\n",
       "      <th></th>\n",
       "      <th></th>\n",
       "      <th></th>\n",
       "    </tr>\n",
       "  </thead>\n",
       "  <tbody>\n",
       "    <tr>\n",
       "      <th>2014</th>\n",
       "      <td>10</td>\n",
       "      <td>883526</td>\n",
       "      <td>88352.600000</td>\n",
       "      <td>87250.0</td>\n",
       "    </tr>\n",
       "    <tr>\n",
       "      <th>2015</th>\n",
       "      <td>501</td>\n",
       "      <td>44122472</td>\n",
       "      <td>88068.806387</td>\n",
       "      <td>88888.0</td>\n",
       "    </tr>\n",
       "    <tr>\n",
       "      <th>2016</th>\n",
       "      <td>1907</td>\n",
       "      <td>167413072</td>\n",
       "      <td>87788.711064</td>\n",
       "      <td>88105.0</td>\n",
       "    </tr>\n",
       "    <tr>\n",
       "      <th>2017</th>\n",
       "      <td>6678</td>\n",
       "      <td>594445440</td>\n",
       "      <td>89015.489668</td>\n",
       "      <td>89105.0</td>\n",
       "    </tr>\n",
       "    <tr>\n",
       "      <th>2018</th>\n",
       "      <td>7024</td>\n",
       "      <td>635918828</td>\n",
       "      <td>90535.140661</td>\n",
       "      <td>92612.5</td>\n",
       "    </tr>\n",
       "    <tr>\n",
       "      <th>2019</th>\n",
       "      <td>2365</td>\n",
       "      <td>230944559</td>\n",
       "      <td>97650.976321</td>\n",
       "      <td>100000.0</td>\n",
       "    </tr>\n",
       "  </tbody>\n",
       "</table>\n",
       "</div>"
      ],
      "text/plain": [
       "      count        sum          mean    median\n",
       "year                                          \n",
       "2014     10     883526  88352.600000   87250.0\n",
       "2015    501   44122472  88068.806387   88888.0\n",
       "2016   1907  167413072  87788.711064   88105.0\n",
       "2017   6678  594445440  89015.489668   89105.0\n",
       "2018   7024  635918828  90535.140661   92612.5\n",
       "2019   2365  230944559  97650.976321  100000.0"
      ]
     },
     "execution_count": 86,
     "metadata": {},
     "output_type": "execute_result"
    }
   ],
   "source": [
    "pivot_year= data.pivot_table(index=\"year\",values = \"price_square_meter\", aggfunc = [\"count\",\"sum\",\"mean\",\"median\"])\n",
    "pivot_year.columns = [\"count\",\"sum\",\"mean\",\"median\"]\n",
    "pivot_year"
   ]
  },
  {
   "cell_type": "code",
   "execution_count": 87,
   "metadata": {},
   "outputs": [
    {
     "data": {
      "text/plain": [
       "<AxesSubplot:xlabel='year'>"
      ]
     },
     "execution_count": 87,
     "metadata": {},
     "output_type": "execute_result"
    },
    {
     "data": {
      "image/png": "[encoded data removed]",
      "text/plain": [
       "<Figure size 432x288 with 1 Axes>"
      ]
     },
     "metadata": {
      "needs_background": "light"
     },
     "output_type": "display_data"
    }
   ],
   "source": [
    "pivot_year.plot(y=\"median\")"
   ]
  },
  {
   "cell_type": "markdown",
   "metadata": {},
   "source": [
    "#### Вывод:\n",
    "С 2014 наблюдается резкий спад на стоймость квадратного метра и в 2015 году достиг минимума. Однако к 2017 постепенно пошел рост цен и уже в 2019 году почти достиг максимума 2014 года."
   ]
  },
  {
   "cell_type": "markdown",
   "metadata": {},
   "source": [
    "### Населенные пункты с максимальной и минимальной стоимостью"
   ]
  },
  {
   "cell_type": "code",
   "execution_count": 88,
   "metadata": {},
   "outputs": [
    {
     "data": {
      "text/html": [
       "<div>\n",
       "<style scoped>\n",
       "    .dataframe tbody tr th:only-of-type {\n",
       "        vertical-align: middle;\n",
       "    }\n",
       "\n",
       "    .dataframe tbody tr th {\n",
       "        vertical-align: top;\n",
       "    }\n",
       "\n",
       "    .dataframe thead th {\n",
       "        text-align: right;\n",
       "    }\n",
       "</style>\n",
       "<table border=\"1\" class=\"dataframe\">\n",
       "  <thead>\n",
       "    <tr style=\"text-align: right;\">\n",
       "      <th></th>\n",
       "      <th>count</th>\n",
       "      <th>sum</th>\n",
       "      <th>mean</th>\n",
       "      <th>median</th>\n",
       "    </tr>\n",
       "    <tr>\n",
       "      <th>locality_name</th>\n",
       "      <th></th>\n",
       "      <th></th>\n",
       "      <th></th>\n",
       "      <th></th>\n",
       "    </tr>\n",
       "  </thead>\n",
       "  <tbody>\n",
       "    <tr>\n",
       "      <th>Бокситогорск</th>\n",
       "      <td>15</td>\n",
       "      <td>261852</td>\n",
       "      <td>17456.800000</td>\n",
       "      <td>17222.0</td>\n",
       "    </tr>\n",
       "    <tr>\n",
       "      <th>Волосово</th>\n",
       "      <td>29</td>\n",
       "      <td>1177771</td>\n",
       "      <td>40612.793103</td>\n",
       "      <td>40000.0</td>\n",
       "    </tr>\n",
       "    <tr>\n",
       "      <th>Волхов</th>\n",
       "      <td>99</td>\n",
       "      <td>3464538</td>\n",
       "      <td>34995.333333</td>\n",
       "      <td>35000.0</td>\n",
       "    </tr>\n",
       "    <tr>\n",
       "      <th>Всеволожск</th>\n",
       "      <td>355</td>\n",
       "      <td>23645012</td>\n",
       "      <td>66605.667606</td>\n",
       "      <td>65454.0</td>\n",
       "    </tr>\n",
       "    <tr>\n",
       "      <th>Выборг</th>\n",
       "      <td>198</td>\n",
       "      <td>11297880</td>\n",
       "      <td>57060.000000</td>\n",
       "      <td>56897.0</td>\n",
       "    </tr>\n",
       "    <tr>\n",
       "      <th>...</th>\n",
       "      <td>...</td>\n",
       "      <td>...</td>\n",
       "      <td>...</td>\n",
       "      <td>...</td>\n",
       "    </tr>\n",
       "    <tr>\n",
       "      <th>село Путилово</th>\n",
       "      <td>2</td>\n",
       "      <td>79843</td>\n",
       "      <td>39921.500000</td>\n",
       "      <td>39921.5</td>\n",
       "    </tr>\n",
       "    <tr>\n",
       "      <th>село Рождествено</th>\n",
       "      <td>3</td>\n",
       "      <td>113198</td>\n",
       "      <td>37732.666667</td>\n",
       "      <td>35897.0</td>\n",
       "    </tr>\n",
       "    <tr>\n",
       "      <th>село Русско-Высоцкое</th>\n",
       "      <td>8</td>\n",
       "      <td>440598</td>\n",
       "      <td>55074.750000</td>\n",
       "      <td>51540.0</td>\n",
       "    </tr>\n",
       "    <tr>\n",
       "      <th>село Старая Ладога</th>\n",
       "      <td>2</td>\n",
       "      <td>69393</td>\n",
       "      <td>34696.500000</td>\n",
       "      <td>34696.5</td>\n",
       "    </tr>\n",
       "    <tr>\n",
       "      <th>село Шум</th>\n",
       "      <td>1</td>\n",
       "      <td>33898</td>\n",
       "      <td>33898.000000</td>\n",
       "      <td>33898.0</td>\n",
       "    </tr>\n",
       "  </tbody>\n",
       "</table>\n",
       "<p>350 rows × 4 columns</p>\n",
       "</div>"
      ],
      "text/plain": [
       "                      count       sum          mean   median\n",
       "locality_name                                               \n",
       "Бокситогорск             15    261852  17456.800000  17222.0\n",
       "Волосово                 29   1177771  40612.793103  40000.0\n",
       "Волхов                   99   3464538  34995.333333  35000.0\n",
       "Всеволожск              355  23645012  66605.667606  65454.0\n",
       "Выборг                  198  11297880  57060.000000  56897.0\n",
       "...                     ...       ...           ...      ...\n",
       "село Путилово             2     79843  39921.500000  39921.5\n",
       "село Рождествено          3    113198  37732.666667  35897.0\n",
       "село Русско-Высоцкое      8    440598  55074.750000  51540.0\n",
       "село Старая Ладога        2     69393  34696.500000  34696.5\n",
       "село Шум                  1     33898  33898.000000  33898.0\n",
       "\n",
       "[350 rows x 4 columns]"
      ]
     },
     "execution_count": 88,
     "metadata": {},
     "output_type": "execute_result"
    }
   ],
   "source": [
    "pivot_name_local = data.pivot_table(index = \"locality_name\", values = \"price_square_meter\", aggfunc = [\"count\",\"sum\",\"mean\",\"median\"])\n",
    "pivot_name_local.columns = [\"count\",\"sum\",\"mean\",\"median\"]\n",
    "pivot_name_local"
   ]
  },
  {
   "cell_type": "code",
   "execution_count": 89,
   "metadata": {},
   "outputs": [
    {
     "data": {
      "text/html": [
       "<div>\n",
       "<style scoped>\n",
       "    .dataframe tbody tr th:only-of-type {\n",
       "        vertical-align: middle;\n",
       "    }\n",
       "\n",
       "    .dataframe tbody tr th {\n",
       "        vertical-align: top;\n",
       "    }\n",
       "\n",
       "    .dataframe thead th {\n",
       "        text-align: right;\n",
       "    }\n",
       "</style>\n",
       "<table border=\"1\" class=\"dataframe\">\n",
       "  <thead>\n",
       "    <tr style=\"text-align: right;\">\n",
       "      <th></th>\n",
       "      <th>count</th>\n",
       "      <th>sum</th>\n",
       "      <th>mean</th>\n",
       "      <th>median</th>\n",
       "    </tr>\n",
       "    <tr>\n",
       "      <th>locality_name</th>\n",
       "      <th></th>\n",
       "      <th></th>\n",
       "      <th></th>\n",
       "      <th></th>\n",
       "    </tr>\n",
       "  </thead>\n",
       "  <tbody>\n",
       "    <tr>\n",
       "      <th>Санкт-Петербург</th>\n",
       "      <td>11381</td>\n",
       "      <td>1190466847</td>\n",
       "      <td>104601.251823</td>\n",
       "      <td>101500.0</td>\n",
       "    </tr>\n",
       "    <tr>\n",
       "      <th>посёлок Мурино</th>\n",
       "      <td>487</td>\n",
       "      <td>41791234</td>\n",
       "      <td>85813.622177</td>\n",
       "      <td>85714.0</td>\n",
       "    </tr>\n",
       "    <tr>\n",
       "      <th>посёлок Шушары</th>\n",
       "      <td>411</td>\n",
       "      <td>32290834</td>\n",
       "      <td>78566.506083</td>\n",
       "      <td>76666.0</td>\n",
       "    </tr>\n",
       "    <tr>\n",
       "      <th>Всеволожск</th>\n",
       "      <td>355</td>\n",
       "      <td>23645012</td>\n",
       "      <td>66605.667606</td>\n",
       "      <td>65454.0</td>\n",
       "    </tr>\n",
       "    <tr>\n",
       "      <th>посёлок Парголово</th>\n",
       "      <td>303</td>\n",
       "      <td>27289005</td>\n",
       "      <td>90062.722772</td>\n",
       "      <td>91346.0</td>\n",
       "    </tr>\n",
       "    <tr>\n",
       "      <th>Колпино</th>\n",
       "      <td>302</td>\n",
       "      <td>22712266</td>\n",
       "      <td>75206.178808</td>\n",
       "      <td>74689.5</td>\n",
       "    </tr>\n",
       "    <tr>\n",
       "      <th>Пушкин</th>\n",
       "      <td>278</td>\n",
       "      <td>27658655</td>\n",
       "      <td>99491.564748</td>\n",
       "      <td>97988.5</td>\n",
       "    </tr>\n",
       "    <tr>\n",
       "      <th>Гатчина</th>\n",
       "      <td>263</td>\n",
       "      <td>17886683</td>\n",
       "      <td>68010.201521</td>\n",
       "      <td>67045.0</td>\n",
       "    </tr>\n",
       "    <tr>\n",
       "      <th>деревня Кудрово</th>\n",
       "      <td>261</td>\n",
       "      <td>24180384</td>\n",
       "      <td>92645.149425</td>\n",
       "      <td>92000.0</td>\n",
       "    </tr>\n",
       "    <tr>\n",
       "      <th>Выборг</th>\n",
       "      <td>198</td>\n",
       "      <td>11297880</td>\n",
       "      <td>57060.000000</td>\n",
       "      <td>56897.0</td>\n",
       "    </tr>\n",
       "  </tbody>\n",
       "</table>\n",
       "</div>"
      ],
      "text/plain": [
       "                   count         sum           mean    median\n",
       "locality_name                                                \n",
       "Санкт-Петербург    11381  1190466847  104601.251823  101500.0\n",
       "посёлок Мурино       487    41791234   85813.622177   85714.0\n",
       "посёлок Шушары       411    32290834   78566.506083   76666.0\n",
       "Всеволожск           355    23645012   66605.667606   65454.0\n",
       "посёлок Парголово    303    27289005   90062.722772   91346.0\n",
       "Колпино              302    22712266   75206.178808   74689.5\n",
       "Пушкин               278    27658655   99491.564748   97988.5\n",
       "Гатчина              263    17886683   68010.201521   67045.0\n",
       "деревня Кудрово      261    24180384   92645.149425   92000.0\n",
       "Выборг               198    11297880   57060.000000   56897.0"
      ]
     },
     "execution_count": 89,
     "metadata": {},
     "output_type": "execute_result"
    }
   ],
   "source": [
    "pivot_name_local = pivot_name_local.sort_values('count',ascending=False).head(10)\n",
    "pivot_name_local"
   ]
  },
  {
   "cell_type": "markdown",
   "metadata": {},
   "source": [
    "С самой высокой стоимостью"
   ]
  },
  {
   "cell_type": "code",
   "execution_count": 90,
   "metadata": {},
   "outputs": [
    {
     "data": {
      "text/html": [
       "<div>\n",
       "<style scoped>\n",
       "    .dataframe tbody tr th:only-of-type {\n",
       "        vertical-align: middle;\n",
       "    }\n",
       "\n",
       "    .dataframe tbody tr th {\n",
       "        vertical-align: top;\n",
       "    }\n",
       "\n",
       "    .dataframe thead th {\n",
       "        text-align: right;\n",
       "    }\n",
       "</style>\n",
       "<table border=\"1\" class=\"dataframe\">\n",
       "  <thead>\n",
       "    <tr style=\"text-align: right;\">\n",
       "      <th></th>\n",
       "      <th>count</th>\n",
       "      <th>sum</th>\n",
       "      <th>mean</th>\n",
       "      <th>median</th>\n",
       "    </tr>\n",
       "    <tr>\n",
       "      <th>locality_name</th>\n",
       "      <th></th>\n",
       "      <th></th>\n",
       "      <th></th>\n",
       "      <th></th>\n",
       "    </tr>\n",
       "  </thead>\n",
       "  <tbody>\n",
       "    <tr>\n",
       "      <th>Санкт-Петербург</th>\n",
       "      <td>11381</td>\n",
       "      <td>1190466847</td>\n",
       "      <td>104601.251823</td>\n",
       "      <td>101500.0</td>\n",
       "    </tr>\n",
       "  </tbody>\n",
       "</table>\n",
       "</div>"
      ],
      "text/plain": [
       "                 count         sum           mean    median\n",
       "locality_name                                              \n",
       "Санкт-Петербург  11381  1190466847  104601.251823  101500.0"
      ]
     },
     "execution_count": 90,
     "metadata": {},
     "output_type": "execute_result"
    }
   ],
   "source": [
    "pivot_name_local[pivot_name_local[\"mean\"] == pivot_name_local[\"mean\"].max()]"
   ]
  },
  {
   "cell_type": "markdown",
   "metadata": {},
   "source": [
    "С самой низкой стоимостью"
   ]
  },
  {
   "cell_type": "code",
   "execution_count": 91,
   "metadata": {},
   "outputs": [
    {
     "data": {
      "text/html": [
       "<div>\n",
       "<style scoped>\n",
       "    .dataframe tbody tr th:only-of-type {\n",
       "        vertical-align: middle;\n",
       "    }\n",
       "\n",
       "    .dataframe tbody tr th {\n",
       "        vertical-align: top;\n",
       "    }\n",
       "\n",
       "    .dataframe thead th {\n",
       "        text-align: right;\n",
       "    }\n",
       "</style>\n",
       "<table border=\"1\" class=\"dataframe\">\n",
       "  <thead>\n",
       "    <tr style=\"text-align: right;\">\n",
       "      <th></th>\n",
       "      <th>count</th>\n",
       "      <th>sum</th>\n",
       "      <th>mean</th>\n",
       "      <th>median</th>\n",
       "    </tr>\n",
       "    <tr>\n",
       "      <th>locality_name</th>\n",
       "      <th></th>\n",
       "      <th></th>\n",
       "      <th></th>\n",
       "      <th></th>\n",
       "    </tr>\n",
       "  </thead>\n",
       "  <tbody>\n",
       "    <tr>\n",
       "      <th>Выборг</th>\n",
       "      <td>198</td>\n",
       "      <td>11297880</td>\n",
       "      <td>57060.0</td>\n",
       "      <td>56897.0</td>\n",
       "    </tr>\n",
       "  </tbody>\n",
       "</table>\n",
       "</div>"
      ],
      "text/plain": [
       "               count       sum     mean   median\n",
       "locality_name                                   \n",
       "Выборг           198  11297880  57060.0  56897.0"
      ]
     },
     "execution_count": 91,
     "metadata": {},
     "output_type": "execute_result"
    }
   ],
   "source": [
    "pivot_name_local[pivot_name_local[\"mean\"] == pivot_name_local[\"mean\"].min()]"
   ]
  },
  {
   "cell_type": "markdown",
   "metadata": {},
   "source": [
    "#### Вывод:\n",
    "Как и ожидалось, самые дорогие квартиры находятся в СПБ.\n",
    "А вот самая низкая цена оказалась в Выборге, где 177 объявлений о продаже."
   ]
  },
  {
   "cell_type": "markdown",
   "metadata": {},
   "source": [
    "### Поиск центральной зоны и зависимость цены от расстояния"
   ]
  },
  {
   "cell_type": "code",
   "execution_count": 92,
   "metadata": {},
   "outputs": [
    {
     "data": {
      "text/html": [
       "<div>\n",
       "<style scoped>\n",
       "    .dataframe tbody tr th:only-of-type {\n",
       "        vertical-align: middle;\n",
       "    }\n",
       "\n",
       "    .dataframe tbody tr th {\n",
       "        vertical-align: top;\n",
       "    }\n",
       "\n",
       "    .dataframe thead th {\n",
       "        text-align: right;\n",
       "    }\n",
       "</style>\n",
       "<table border=\"1\" class=\"dataframe\">\n",
       "  <thead>\n",
       "    <tr style=\"text-align: right;\">\n",
       "      <th></th>\n",
       "      <th>2</th>\n",
       "      <th>7</th>\n",
       "      <th>9</th>\n",
       "      <th>10</th>\n",
       "      <th>15</th>\n",
       "      <th>17</th>\n",
       "      <th>18</th>\n",
       "      <th>21</th>\n",
       "      <th>24</th>\n",
       "      <th>25</th>\n",
       "      <th>...</th>\n",
       "      <th>23673</th>\n",
       "      <th>23674</th>\n",
       "      <th>23676</th>\n",
       "      <th>23680</th>\n",
       "      <th>23681</th>\n",
       "      <th>23686</th>\n",
       "      <th>23687</th>\n",
       "      <th>23689</th>\n",
       "      <th>23690</th>\n",
       "      <th>23691</th>\n",
       "    </tr>\n",
       "  </thead>\n",
       "  <tbody>\n",
       "    <tr>\n",
       "      <th>total_images</th>\n",
       "      <td>10</td>\n",
       "      <td>5</td>\n",
       "      <td>18</td>\n",
       "      <td>5</td>\n",
       "      <td>16</td>\n",
       "      <td>6</td>\n",
       "      <td>8</td>\n",
       "      <td>13</td>\n",
       "      <td>8</td>\n",
       "      <td>3</td>\n",
       "      <td>...</td>\n",
       "      <td>9</td>\n",
       "      <td>10</td>\n",
       "      <td>19</td>\n",
       "      <td>14</td>\n",
       "      <td>13</td>\n",
       "      <td>8</td>\n",
       "      <td>6</td>\n",
       "      <td>13</td>\n",
       "      <td>3</td>\n",
       "      <td>11</td>\n",
       "    </tr>\n",
       "    <tr>\n",
       "      <th>last_price</th>\n",
       "      <td>5196000</td>\n",
       "      <td>7915000</td>\n",
       "      <td>5400000</td>\n",
       "      <td>5050000</td>\n",
       "      <td>4650000</td>\n",
       "      <td>4180000</td>\n",
       "      <td>3250000</td>\n",
       "      <td>3200000</td>\n",
       "      <td>6500000</td>\n",
       "      <td>6800000</td>\n",
       "      <td>...</td>\n",
       "      <td>3100000</td>\n",
       "      <td>5950000</td>\n",
       "      <td>3550000</td>\n",
       "      <td>5000000</td>\n",
       "      <td>5250000</td>\n",
       "      <td>3300000</td>\n",
       "      <td>3200000</td>\n",
       "      <td>3550000</td>\n",
       "      <td>5500000</td>\n",
       "      <td>9470000</td>\n",
       "    </tr>\n",
       "    <tr>\n",
       "      <th>total_area</th>\n",
       "      <td>56.0</td>\n",
       "      <td>71.6</td>\n",
       "      <td>61.0</td>\n",
       "      <td>39.6</td>\n",
       "      <td>39.0</td>\n",
       "      <td>36.0</td>\n",
       "      <td>31.0</td>\n",
       "      <td>31.6</td>\n",
       "      <td>97.2</td>\n",
       "      <td>76.0</td>\n",
       "      <td>...</td>\n",
       "      <td>23.0</td>\n",
       "      <td>56.0</td>\n",
       "      <td>36.4</td>\n",
       "      <td>59.0</td>\n",
       "      <td>43.0</td>\n",
       "      <td>31.0</td>\n",
       "      <td>39.0</td>\n",
       "      <td>35.3</td>\n",
       "      <td>52.0</td>\n",
       "      <td>72.9</td>\n",
       "    </tr>\n",
       "    <tr>\n",
       "      <th>first_day_exposition</th>\n",
       "      <td>2015-08-20 00:00:00</td>\n",
       "      <td>2019-04-18 00:00:00</td>\n",
       "      <td>2017-02-26 00:00:00</td>\n",
       "      <td>2017-11-16 00:00:00</td>\n",
       "      <td>2017-11-18 00:00:00</td>\n",
       "      <td>2016-09-09 00:00:00</td>\n",
       "      <td>2017-01-27 00:00:00</td>\n",
       "      <td>2018-03-14 00:00:00</td>\n",
       "      <td>2015-10-31 00:00:00</td>\n",
       "      <td>2015-10-01 00:00:00</td>\n",
       "      <td>...</td>\n",
       "      <td>2018-03-19 00:00:00</td>\n",
       "      <td>2019-03-05 00:00:00</td>\n",
       "      <td>2016-06-08 00:00:00</td>\n",
       "      <td>2019-04-04 00:00:00</td>\n",
       "      <td>2018-05-11 00:00:00</td>\n",
       "      <td>2017-04-29 00:00:00</td>\n",
       "      <td>2017-12-16 00:00:00</td>\n",
       "      <td>2018-02-28 00:00:00</td>\n",
       "      <td>2018-07-19 00:00:00</td>\n",
       "      <td>2016-10-13 00:00:00</td>\n",
       "    </tr>\n",
       "    <tr>\n",
       "      <th>rooms</th>\n",
       "      <td>2</td>\n",
       "      <td>2</td>\n",
       "      <td>3</td>\n",
       "      <td>1</td>\n",
       "      <td>1</td>\n",
       "      <td>1</td>\n",
       "      <td>1</td>\n",
       "      <td>1</td>\n",
       "      <td>2</td>\n",
       "      <td>2</td>\n",
       "      <td>...</td>\n",
       "      <td>1</td>\n",
       "      <td>3</td>\n",
       "      <td>1</td>\n",
       "      <td>3</td>\n",
       "      <td>2</td>\n",
       "      <td>1</td>\n",
       "      <td>1</td>\n",
       "      <td>1</td>\n",
       "      <td>2</td>\n",
       "      <td>2</td>\n",
       "    </tr>\n",
       "    <tr>\n",
       "      <th>ceiling_height</th>\n",
       "      <td>2.65</td>\n",
       "      <td>2.65</td>\n",
       "      <td>2.5</td>\n",
       "      <td>2.67</td>\n",
       "      <td>2.65</td>\n",
       "      <td>2.65</td>\n",
       "      <td>2.5</td>\n",
       "      <td>2.65</td>\n",
       "      <td>2.65</td>\n",
       "      <td>2.75</td>\n",
       "      <td>...</td>\n",
       "      <td>2.8</td>\n",
       "      <td>2.65</td>\n",
       "      <td>2.65</td>\n",
       "      <td>2.5</td>\n",
       "      <td>2.5</td>\n",
       "      <td>2.55</td>\n",
       "      <td>2.65</td>\n",
       "      <td>2.86</td>\n",
       "      <td>2.65</td>\n",
       "      <td>2.75</td>\n",
       "    </tr>\n",
       "    <tr>\n",
       "      <th>floors_total</th>\n",
       "      <td>5.0</td>\n",
       "      <td>24.0</td>\n",
       "      <td>9.0</td>\n",
       "      <td>12.0</td>\n",
       "      <td>14.0</td>\n",
       "      <td>17.0</td>\n",
       "      <td>5.0</td>\n",
       "      <td>5.0</td>\n",
       "      <td>3.0</td>\n",
       "      <td>23.0</td>\n",
       "      <td>...</td>\n",
       "      <td>9.0</td>\n",
       "      <td>8.0</td>\n",
       "      <td>16.0</td>\n",
       "      <td>5.0</td>\n",
       "      <td>5.0</td>\n",
       "      <td>9.0</td>\n",
       "      <td>9.0</td>\n",
       "      <td>15.0</td>\n",
       "      <td>5.0</td>\n",
       "      <td>25.0</td>\n",
       "    </tr>\n",
       "    <tr>\n",
       "      <th>living_area</th>\n",
       "      <td>34.3</td>\n",
       "      <td>NaN</td>\n",
       "      <td>43.6</td>\n",
       "      <td>20.3</td>\n",
       "      <td>20.5</td>\n",
       "      <td>16.5</td>\n",
       "      <td>19.4</td>\n",
       "      <td>16.9</td>\n",
       "      <td>46.5</td>\n",
       "      <td>39.0</td>\n",
       "      <td>...</td>\n",
       "      <td>12.6</td>\n",
       "      <td>32.1</td>\n",
       "      <td>14.9</td>\n",
       "      <td>52.0</td>\n",
       "      <td>29.0</td>\n",
       "      <td>18.0</td>\n",
       "      <td>20.0</td>\n",
       "      <td>16.3</td>\n",
       "      <td>31.0</td>\n",
       "      <td>40.3</td>\n",
       "    </tr>\n",
       "    <tr>\n",
       "      <th>floor</th>\n",
       "      <td>4</td>\n",
       "      <td>22</td>\n",
       "      <td>7</td>\n",
       "      <td>3</td>\n",
       "      <td>5</td>\n",
       "      <td>7</td>\n",
       "      <td>2</td>\n",
       "      <td>2</td>\n",
       "      <td>1</td>\n",
       "      <td>18</td>\n",
       "      <td>...</td>\n",
       "      <td>1</td>\n",
       "      <td>3</td>\n",
       "      <td>13</td>\n",
       "      <td>1</td>\n",
       "      <td>2</td>\n",
       "      <td>6</td>\n",
       "      <td>6</td>\n",
       "      <td>4</td>\n",
       "      <td>2</td>\n",
       "      <td>7</td>\n",
       "    </tr>\n",
       "    <tr>\n",
       "      <th>is_apartment</th>\n",
       "      <td>False</td>\n",
       "      <td>False</td>\n",
       "      <td>False</td>\n",
       "      <td>False</td>\n",
       "      <td>False</td>\n",
       "      <td>False</td>\n",
       "      <td>False</td>\n",
       "      <td>False</td>\n",
       "      <td>False</td>\n",
       "      <td>False</td>\n",
       "      <td>...</td>\n",
       "      <td>False</td>\n",
       "      <td>False</td>\n",
       "      <td>False</td>\n",
       "      <td>False</td>\n",
       "      <td>False</td>\n",
       "      <td>False</td>\n",
       "      <td>False</td>\n",
       "      <td>False</td>\n",
       "      <td>False</td>\n",
       "      <td>False</td>\n",
       "    </tr>\n",
       "    <tr>\n",
       "      <th>studio</th>\n",
       "      <td>False</td>\n",
       "      <td>False</td>\n",
       "      <td>False</td>\n",
       "      <td>False</td>\n",
       "      <td>False</td>\n",
       "      <td>False</td>\n",
       "      <td>False</td>\n",
       "      <td>False</td>\n",
       "      <td>False</td>\n",
       "      <td>False</td>\n",
       "      <td>...</td>\n",
       "      <td>False</td>\n",
       "      <td>False</td>\n",
       "      <td>False</td>\n",
       "      <td>False</td>\n",
       "      <td>False</td>\n",
       "      <td>False</td>\n",
       "      <td>False</td>\n",
       "      <td>False</td>\n",
       "      <td>False</td>\n",
       "      <td>False</td>\n",
       "    </tr>\n",
       "    <tr>\n",
       "      <th>open_plan</th>\n",
       "      <td>False</td>\n",
       "      <td>False</td>\n",
       "      <td>False</td>\n",
       "      <td>False</td>\n",
       "      <td>False</td>\n",
       "      <td>False</td>\n",
       "      <td>False</td>\n",
       "      <td>False</td>\n",
       "      <td>False</td>\n",
       "      <td>False</td>\n",
       "      <td>...</td>\n",
       "      <td>False</td>\n",
       "      <td>False</td>\n",
       "      <td>False</td>\n",
       "      <td>False</td>\n",
       "      <td>False</td>\n",
       "      <td>False</td>\n",
       "      <td>False</td>\n",
       "      <td>False</td>\n",
       "      <td>False</td>\n",
       "      <td>False</td>\n",
       "    </tr>\n",
       "    <tr>\n",
       "      <th>kitchen_area</th>\n",
       "      <td>8.3</td>\n",
       "      <td>18.9</td>\n",
       "      <td>6.5</td>\n",
       "      <td>8.5</td>\n",
       "      <td>7.6</td>\n",
       "      <td>11.0</td>\n",
       "      <td>5.6</td>\n",
       "      <td>5.7</td>\n",
       "      <td>19.6</td>\n",
       "      <td>15.0</td>\n",
       "      <td>...</td>\n",
       "      <td>5.0</td>\n",
       "      <td>8.5</td>\n",
       "      <td>9.3</td>\n",
       "      <td>7.0</td>\n",
       "      <td>6.0</td>\n",
       "      <td>6.5</td>\n",
       "      <td>11.0</td>\n",
       "      <td>9.1</td>\n",
       "      <td>6.0</td>\n",
       "      <td>10.6</td>\n",
       "    </tr>\n",
       "    <tr>\n",
       "      <th>balcony</th>\n",
       "      <td>0</td>\n",
       "      <td>2</td>\n",
       "      <td>2</td>\n",
       "      <td>0</td>\n",
       "      <td>1</td>\n",
       "      <td>1</td>\n",
       "      <td>1</td>\n",
       "      <td>1</td>\n",
       "      <td>0</td>\n",
       "      <td>2</td>\n",
       "      <td>...</td>\n",
       "      <td>2</td>\n",
       "      <td>0</td>\n",
       "      <td>0</td>\n",
       "      <td>0</td>\n",
       "      <td>0</td>\n",
       "      <td>0</td>\n",
       "      <td>2</td>\n",
       "      <td>2</td>\n",
       "      <td>0</td>\n",
       "      <td>1</td>\n",
       "    </tr>\n",
       "    <tr>\n",
       "      <th>locality_name</th>\n",
       "      <td>Санкт-Петербург</td>\n",
       "      <td>Санкт-Петербург</td>\n",
       "      <td>Санкт-Петербург</td>\n",
       "      <td>Санкт-Петербург</td>\n",
       "      <td>Санкт-Петербург</td>\n",
       "      <td>Санкт-Петербург</td>\n",
       "      <td>Санкт-Петербург</td>\n",
       "      <td>Санкт-Петербург</td>\n",
       "      <td>Санкт-Петербург</td>\n",
       "      <td>Санкт-Петербург</td>\n",
       "      <td>...</td>\n",
       "      <td>Санкт-Петербург</td>\n",
       "      <td>Санкт-Петербург</td>\n",
       "      <td>Санкт-Петербург</td>\n",
       "      <td>Санкт-Петербург</td>\n",
       "      <td>Санкт-Петербург</td>\n",
       "      <td>Санкт-Петербург</td>\n",
       "      <td>Санкт-Петербург</td>\n",
       "      <td>Санкт-Петербург</td>\n",
       "      <td>Санкт-Петербург</td>\n",
       "      <td>Санкт-Петербург</td>\n",
       "    </tr>\n",
       "    <tr>\n",
       "      <th>airports_nearest</th>\n",
       "      <td>21741.0</td>\n",
       "      <td>23982.0</td>\n",
       "      <td>50898.0</td>\n",
       "      <td>38357.0</td>\n",
       "      <td>12900.0</td>\n",
       "      <td>33564.0</td>\n",
       "      <td>44060.0</td>\n",
       "      <td>36064.0</td>\n",
       "      <td>20052.0</td>\n",
       "      <td>34967.0</td>\n",
       "      <td>...</td>\n",
       "      <td>11813.0</td>\n",
       "      <td>32139.0</td>\n",
       "      <td>32228.0</td>\n",
       "      <td>26835.0</td>\n",
       "      <td>28323.0</td>\n",
       "      <td>11751.0</td>\n",
       "      <td>40837.0</td>\n",
       "      <td>17284.0</td>\n",
       "      <td>20151.0</td>\n",
       "      <td>19424.0</td>\n",
       "    </tr>\n",
       "    <tr>\n",
       "      <th>cityCenters_nearest</th>\n",
       "      <td>13933.0</td>\n",
       "      <td>11634.0</td>\n",
       "      <td>15008.0</td>\n",
       "      <td>13878.0</td>\n",
       "      <td>14259.0</td>\n",
       "      <td>14616.0</td>\n",
       "      <td>10842.0</td>\n",
       "      <td>9722.0</td>\n",
       "      <td>2336.0</td>\n",
       "      <td>14640.0</td>\n",
       "      <td>...</td>\n",
       "      <td>11881.0</td>\n",
       "      <td>9217.0</td>\n",
       "      <td>11884.0</td>\n",
       "      <td>11878.0</td>\n",
       "      <td>7262.0</td>\n",
       "      <td>11602.0</td>\n",
       "      <td>16704.0</td>\n",
       "      <td>16081.0</td>\n",
       "      <td>6263.0</td>\n",
       "      <td>4489.0</td>\n",
       "    </tr>\n",
       "    <tr>\n",
       "      <th>parks_around3000</th>\n",
       "      <td>1.0</td>\n",
       "      <td>0.0</td>\n",
       "      <td>0.0</td>\n",
       "      <td>1.0</td>\n",
       "      <td>1.0</td>\n",
       "      <td>0.0</td>\n",
       "      <td>1.0</td>\n",
       "      <td>1.0</td>\n",
       "      <td>3.0</td>\n",
       "      <td>0.0</td>\n",
       "      <td>...</td>\n",
       "      <td>1.0</td>\n",
       "      <td>0.0</td>\n",
       "      <td>1.0</td>\n",
       "      <td>0.0</td>\n",
       "      <td>1.0</td>\n",
       "      <td>1.0</td>\n",
       "      <td>0.0</td>\n",
       "      <td>1.0</td>\n",
       "      <td>1.0</td>\n",
       "      <td>0.0</td>\n",
       "    </tr>\n",
       "    <tr>\n",
       "      <th>parks_nearest</th>\n",
       "      <td>90.0</td>\n",
       "      <td>NaN</td>\n",
       "      <td>NaN</td>\n",
       "      <td>310.0</td>\n",
       "      <td>590.0</td>\n",
       "      <td>NaN</td>\n",
       "      <td>759.0</td>\n",
       "      <td>248.0</td>\n",
       "      <td>411.0</td>\n",
       "      <td>NaN</td>\n",
       "      <td>...</td>\n",
       "      <td>262.0</td>\n",
       "      <td>NaN</td>\n",
       "      <td>701.0</td>\n",
       "      <td>NaN</td>\n",
       "      <td>497.0</td>\n",
       "      <td>140.0</td>\n",
       "      <td>NaN</td>\n",
       "      <td>353.0</td>\n",
       "      <td>300.0</td>\n",
       "      <td>NaN</td>\n",
       "    </tr>\n",
       "    <tr>\n",
       "      <th>ponds_around3000</th>\n",
       "      <td>2</td>\n",
       "      <td>0</td>\n",
       "      <td>0</td>\n",
       "      <td>2</td>\n",
       "      <td>1</td>\n",
       "      <td>1</td>\n",
       "      <td>0</td>\n",
       "      <td>0</td>\n",
       "      <td>3</td>\n",
       "      <td>1</td>\n",
       "      <td>...</td>\n",
       "      <td>1</td>\n",
       "      <td>2</td>\n",
       "      <td>0</td>\n",
       "      <td>0</td>\n",
       "      <td>2</td>\n",
       "      <td>1</td>\n",
       "      <td>0</td>\n",
       "      <td>2</td>\n",
       "      <td>0</td>\n",
       "      <td>1</td>\n",
       "    </tr>\n",
       "    <tr>\n",
       "      <th>ponds_nearest</th>\n",
       "      <td>574.0</td>\n",
       "      <td>NaN</td>\n",
       "      <td>NaN</td>\n",
       "      <td>553.0</td>\n",
       "      <td>296.0</td>\n",
       "      <td>859.0</td>\n",
       "      <td>NaN</td>\n",
       "      <td>NaN</td>\n",
       "      <td>124.0</td>\n",
       "      <td>564.0</td>\n",
       "      <td>...</td>\n",
       "      <td>442.0</td>\n",
       "      <td>303.0</td>\n",
       "      <td>NaN</td>\n",
       "      <td>NaN</td>\n",
       "      <td>660.0</td>\n",
       "      <td>317.0</td>\n",
       "      <td>NaN</td>\n",
       "      <td>652.0</td>\n",
       "      <td>NaN</td>\n",
       "      <td>806.0</td>\n",
       "    </tr>\n",
       "    <tr>\n",
       "      <th>days_exposition</th>\n",
       "      <td>558.0</td>\n",
       "      <td>95.0</td>\n",
       "      <td>289.0</td>\n",
       "      <td>137.0</td>\n",
       "      <td>19.0</td>\n",
       "      <td>571.0</td>\n",
       "      <td>168.0</td>\n",
       "      <td>310.0</td>\n",
       "      <td>265.0</td>\n",
       "      <td>300.0</td>\n",
       "      <td>...</td>\n",
       "      <td>41.0</td>\n",
       "      <td>95.0</td>\n",
       "      <td>70.0</td>\n",
       "      <td>95.0</td>\n",
       "      <td>80.0</td>\n",
       "      <td>193.0</td>\n",
       "      <td>38.0</td>\n",
       "      <td>29.0</td>\n",
       "      <td>15.0</td>\n",
       "      <td>519.0</td>\n",
       "    </tr>\n",
       "    <tr>\n",
       "      <th>price_square_meter</th>\n",
       "      <td>92785</td>\n",
       "      <td>110544</td>\n",
       "      <td>88524</td>\n",
       "      <td>127525</td>\n",
       "      <td>119230</td>\n",
       "      <td>116111</td>\n",
       "      <td>104838</td>\n",
       "      <td>101265</td>\n",
       "      <td>66872</td>\n",
       "      <td>89473</td>\n",
       "      <td>...</td>\n",
       "      <td>134782</td>\n",
       "      <td>106250</td>\n",
       "      <td>97527</td>\n",
       "      <td>84745</td>\n",
       "      <td>122093</td>\n",
       "      <td>106451</td>\n",
       "      <td>82051</td>\n",
       "      <td>100566</td>\n",
       "      <td>105769</td>\n",
       "      <td>129903</td>\n",
       "    </tr>\n",
       "    <tr>\n",
       "      <th>day</th>\n",
       "      <td>3</td>\n",
       "      <td>3</td>\n",
       "      <td>6</td>\n",
       "      <td>3</td>\n",
       "      <td>5</td>\n",
       "      <td>4</td>\n",
       "      <td>4</td>\n",
       "      <td>2</td>\n",
       "      <td>5</td>\n",
       "      <td>3</td>\n",
       "      <td>...</td>\n",
       "      <td>0</td>\n",
       "      <td>1</td>\n",
       "      <td>2</td>\n",
       "      <td>3</td>\n",
       "      <td>4</td>\n",
       "      <td>5</td>\n",
       "      <td>5</td>\n",
       "      <td>2</td>\n",
       "      <td>3</td>\n",
       "      <td>3</td>\n",
       "    </tr>\n",
       "    <tr>\n",
       "      <th>month</th>\n",
       "      <td>8</td>\n",
       "      <td>4</td>\n",
       "      <td>2</td>\n",
       "      <td>11</td>\n",
       "      <td>11</td>\n",
       "      <td>9</td>\n",
       "      <td>1</td>\n",
       "      <td>3</td>\n",
       "      <td>10</td>\n",
       "      <td>10</td>\n",
       "      <td>...</td>\n",
       "      <td>3</td>\n",
       "      <td>3</td>\n",
       "      <td>6</td>\n",
       "      <td>4</td>\n",
       "      <td>5</td>\n",
       "      <td>4</td>\n",
       "      <td>12</td>\n",
       "      <td>2</td>\n",
       "      <td>7</td>\n",
       "      <td>10</td>\n",
       "    </tr>\n",
       "    <tr>\n",
       "      <th>year</th>\n",
       "      <td>2015</td>\n",
       "      <td>2019</td>\n",
       "      <td>2017</td>\n",
       "      <td>2017</td>\n",
       "      <td>2017</td>\n",
       "      <td>2016</td>\n",
       "      <td>2017</td>\n",
       "      <td>2018</td>\n",
       "      <td>2015</td>\n",
       "      <td>2015</td>\n",
       "      <td>...</td>\n",
       "      <td>2018</td>\n",
       "      <td>2019</td>\n",
       "      <td>2016</td>\n",
       "      <td>2019</td>\n",
       "      <td>2018</td>\n",
       "      <td>2017</td>\n",
       "      <td>2017</td>\n",
       "      <td>2018</td>\n",
       "      <td>2018</td>\n",
       "      <td>2016</td>\n",
       "    </tr>\n",
       "    <tr>\n",
       "      <th>floor_category</th>\n",
       "      <td>Другой</td>\n",
       "      <td>Другой</td>\n",
       "      <td>Другой</td>\n",
       "      <td>Другой</td>\n",
       "      <td>Другой</td>\n",
       "      <td>Другой</td>\n",
       "      <td>Другой</td>\n",
       "      <td>Другой</td>\n",
       "      <td>Первый</td>\n",
       "      <td>Другой</td>\n",
       "      <td>...</td>\n",
       "      <td>Первый</td>\n",
       "      <td>Другой</td>\n",
       "      <td>Другой</td>\n",
       "      <td>Первый</td>\n",
       "      <td>Другой</td>\n",
       "      <td>Другой</td>\n",
       "      <td>Другой</td>\n",
       "      <td>Другой</td>\n",
       "      <td>Другой</td>\n",
       "      <td>Другой</td>\n",
       "    </tr>\n",
       "    <tr>\n",
       "      <th>area_living</th>\n",
       "      <td>0.6125</td>\n",
       "      <td>NaN</td>\n",
       "      <td>0.714754</td>\n",
       "      <td>0.512626</td>\n",
       "      <td>0.525641</td>\n",
       "      <td>0.458333</td>\n",
       "      <td>0.625806</td>\n",
       "      <td>0.53481</td>\n",
       "      <td>0.478395</td>\n",
       "      <td>0.513158</td>\n",
       "      <td>...</td>\n",
       "      <td>0.547826</td>\n",
       "      <td>0.573214</td>\n",
       "      <td>0.409341</td>\n",
       "      <td>0.881356</td>\n",
       "      <td>0.674419</td>\n",
       "      <td>0.580645</td>\n",
       "      <td>0.512821</td>\n",
       "      <td>0.461756</td>\n",
       "      <td>0.596154</td>\n",
       "      <td>0.552812</td>\n",
       "    </tr>\n",
       "    <tr>\n",
       "      <th>area_kitchen</th>\n",
       "      <td>0.148214</td>\n",
       "      <td>0.263966</td>\n",
       "      <td>0.106557</td>\n",
       "      <td>0.214646</td>\n",
       "      <td>0.194872</td>\n",
       "      <td>0.305556</td>\n",
       "      <td>0.180645</td>\n",
       "      <td>0.18038</td>\n",
       "      <td>0.201646</td>\n",
       "      <td>0.197368</td>\n",
       "      <td>...</td>\n",
       "      <td>0.217391</td>\n",
       "      <td>0.151786</td>\n",
       "      <td>0.255495</td>\n",
       "      <td>0.118644</td>\n",
       "      <td>0.139535</td>\n",
       "      <td>0.209677</td>\n",
       "      <td>0.282051</td>\n",
       "      <td>0.25779</td>\n",
       "      <td>0.115385</td>\n",
       "      <td>0.145405</td>\n",
       "    </tr>\n",
       "  </tbody>\n",
       "</table>\n",
       "<p>29 rows × 11381 columns</p>\n",
       "</div>"
      ],
      "text/plain": [
       "                                    2                    7      \\\n",
       "total_images                           10                    5   \n",
       "last_price                        5196000              7915000   \n",
       "total_area                           56.0                 71.6   \n",
       "first_day_exposition  2015-08-20 00:00:00  2019-04-18 00:00:00   \n",
       "rooms                                   2                    2   \n",
       "ceiling_height                       2.65                 2.65   \n",
       "floors_total                          5.0                 24.0   \n",
       "living_area                          34.3                  NaN   \n",
       "floor                                   4                   22   \n",
       "is_apartment                        False                False   \n",
       "studio                              False                False   \n",
       "open_plan                           False                False   \n",
       "kitchen_area                          8.3                 18.9   \n",
       "balcony                                 0                    2   \n",
       "locality_name             Санкт-Петербург      Санкт-Петербург   \n",
       "airports_nearest                  21741.0              23982.0   \n",
       "cityCenters_nearest               13933.0              11634.0   \n",
       "parks_around3000                      1.0                  0.0   \n",
       "parks_nearest                        90.0                  NaN   \n",
       "ponds_around3000                        2                    0   \n",
       "ponds_nearest                       574.0                  NaN   \n",
       "days_exposition                     558.0                 95.0   \n",
       "price_square_meter                  92785               110544   \n",
       "day                                     3                    3   \n",
       "month                                   8                    4   \n",
       "year                                 2015                 2019   \n",
       "floor_category                     Другой               Другой   \n",
       "area_living                        0.6125                  NaN   \n",
       "area_kitchen                     0.148214             0.263966   \n",
       "\n",
       "                                    9                    10     \\\n",
       "total_images                           18                    5   \n",
       "last_price                        5400000              5050000   \n",
       "total_area                           61.0                 39.6   \n",
       "first_day_exposition  2017-02-26 00:00:00  2017-11-16 00:00:00   \n",
       "rooms                                   3                    1   \n",
       "ceiling_height                        2.5                 2.67   \n",
       "floors_total                          9.0                 12.0   \n",
       "living_area                          43.6                 20.3   \n",
       "floor                                   7                    3   \n",
       "is_apartment                        False                False   \n",
       "studio                              False                False   \n",
       "open_plan                           False                False   \n",
       "kitchen_area                          6.5                  8.5   \n",
       "balcony                                 2                    0   \n",
       "locality_name             Санкт-Петербург      Санкт-Петербург   \n",
       "airports_nearest                  50898.0              38357.0   \n",
       "cityCenters_nearest               15008.0              13878.0   \n",
       "parks_around3000                      0.0                  1.0   \n",
       "parks_nearest                         NaN                310.0   \n",
       "ponds_around3000                        0                    2   \n",
       "ponds_nearest                         NaN                553.0   \n",
       "days_exposition                     289.0                137.0   \n",
       "price_square_meter                  88524               127525   \n",
       "day                                     6                    3   \n",
       "month                                   2                   11   \n",
       "year                                 2017                 2017   \n",
       "floor_category                     Другой               Другой   \n",
       "area_living                      0.714754             0.512626   \n",
       "area_kitchen                     0.106557             0.214646   \n",
       "\n",
       "                                    15                   17     \\\n",
       "total_images                           16                    6   \n",
       "last_price                        4650000              4180000   \n",
       "total_area                           39.0                 36.0   \n",
       "first_day_exposition  2017-11-18 00:00:00  2016-09-09 00:00:00   \n",
       "rooms                                   1                    1   \n",
       "ceiling_height                       2.65                 2.65   \n",
       "floors_total                         14.0                 17.0   \n",
       "living_area                          20.5                 16.5   \n",
       "floor                                   5                    7   \n",
       "is_apartment                        False                False   \n",
       "studio                              False                False   \n",
       "open_plan                           False                False   \n",
       "kitchen_area                          7.6                 11.0   \n",
       "balcony                                 1                    1   \n",
       "locality_name             Санкт-Петербург      Санкт-Петербург   \n",
       "airports_nearest                  12900.0              33564.0   \n",
       "cityCenters_nearest               14259.0              14616.0   \n",
       "parks_around3000                      1.0                  0.0   \n",
       "parks_nearest                       590.0                  NaN   \n",
       "ponds_around3000                        1                    1   \n",
       "ponds_nearest                       296.0                859.0   \n",
       "days_exposition                      19.0                571.0   \n",
       "price_square_meter                 119230               116111   \n",
       "day                                     5                    4   \n",
       "month                                  11                    9   \n",
       "year                                 2017                 2016   \n",
       "floor_category                     Другой               Другой   \n",
       "area_living                      0.525641             0.458333   \n",
       "area_kitchen                     0.194872             0.305556   \n",
       "\n",
       "                                    18                   21     \\\n",
       "total_images                            8                   13   \n",
       "last_price                        3250000              3200000   \n",
       "total_area                           31.0                 31.6   \n",
       "first_day_exposition  2017-01-27 00:00:00  2018-03-14 00:00:00   \n",
       "rooms                                   1                    1   \n",
       "ceiling_height                        2.5                 2.65   \n",
       "floors_total                          5.0                  5.0   \n",
       "living_area                          19.4                 16.9   \n",
       "floor                                   2                    2   \n",
       "is_apartment                        False                False   \n",
       "studio                              False                False   \n",
       "open_plan                           False                False   \n",
       "kitchen_area                          5.6                  5.7   \n",
       "balcony                                 1                    1   \n",
       "locality_name             Санкт-Петербург      Санкт-Петербург   \n",
       "airports_nearest                  44060.0              36064.0   \n",
       "cityCenters_nearest               10842.0               9722.0   \n",
       "parks_around3000                      1.0                  1.0   \n",
       "parks_nearest                       759.0                248.0   \n",
       "ponds_around3000                        0                    0   \n",
       "ponds_nearest                         NaN                  NaN   \n",
       "days_exposition                     168.0                310.0   \n",
       "price_square_meter                 104838               101265   \n",
       "day                                     4                    2   \n",
       "month                                   1                    3   \n",
       "year                                 2017                 2018   \n",
       "floor_category                     Другой               Другой   \n",
       "area_living                      0.625806              0.53481   \n",
       "area_kitchen                     0.180645              0.18038   \n",
       "\n",
       "                                    24                   25     ...  \\\n",
       "total_images                            8                    3  ...   \n",
       "last_price                        6500000              6800000  ...   \n",
       "total_area                           97.2                 76.0  ...   \n",
       "first_day_exposition  2015-10-31 00:00:00  2015-10-01 00:00:00  ...   \n",
       "rooms                                   2                    2  ...   \n",
       "ceiling_height                       2.65                 2.75  ...   \n",
       "floors_total                          3.0                 23.0  ...   \n",
       "living_area                          46.5                 39.0  ...   \n",
       "floor                                   1                   18  ...   \n",
       "is_apartment                        False                False  ...   \n",
       "studio                              False                False  ...   \n",
       "open_plan                           False                False  ...   \n",
       "kitchen_area                         19.6                 15.0  ...   \n",
       "balcony                                 0                    2  ...   \n",
       "locality_name             Санкт-Петербург      Санкт-Петербург  ...   \n",
       "airports_nearest                  20052.0              34967.0  ...   \n",
       "cityCenters_nearest                2336.0              14640.0  ...   \n",
       "parks_around3000                      3.0                  0.0  ...   \n",
       "parks_nearest                       411.0                  NaN  ...   \n",
       "ponds_around3000                        3                    1  ...   \n",
       "ponds_nearest                       124.0                564.0  ...   \n",
       "days_exposition                     265.0                300.0  ...   \n",
       "price_square_meter                  66872                89473  ...   \n",
       "day                                     5                    3  ...   \n",
       "month                                  10                   10  ...   \n",
       "year                                 2015                 2015  ...   \n",
       "floor_category                     Первый               Другой  ...   \n",
       "area_living                      0.478395             0.513158  ...   \n",
       "area_kitchen                     0.201646             0.197368  ...   \n",
       "\n",
       "                                    23673                23674  \\\n",
       "total_images                            9                   10   \n",
       "last_price                        3100000              5950000   \n",
       "total_area                           23.0                 56.0   \n",
       "first_day_exposition  2018-03-19 00:00:00  2019-03-05 00:00:00   \n",
       "rooms                                   1                    3   \n",
       "ceiling_height                        2.8                 2.65   \n",
       "floors_total                          9.0                  8.0   \n",
       "living_area                          12.6                 32.1   \n",
       "floor                                   1                    3   \n",
       "is_apartment                        False                False   \n",
       "studio                              False                False   \n",
       "open_plan                           False                False   \n",
       "kitchen_area                          5.0                  8.5   \n",
       "balcony                                 2                    0   \n",
       "locality_name             Санкт-Петербург      Санкт-Петербург   \n",
       "airports_nearest                  11813.0              32139.0   \n",
       "cityCenters_nearest               11881.0               9217.0   \n",
       "parks_around3000                      1.0                  0.0   \n",
       "parks_nearest                       262.0                  NaN   \n",
       "ponds_around3000                        1                    2   \n",
       "ponds_nearest                       442.0                303.0   \n",
       "days_exposition                      41.0                 95.0   \n",
       "price_square_meter                 134782               106250   \n",
       "day                                     0                    1   \n",
       "month                                   3                    3   \n",
       "year                                 2018                 2019   \n",
       "floor_category                     Первый               Другой   \n",
       "area_living                      0.547826             0.573214   \n",
       "area_kitchen                     0.217391             0.151786   \n",
       "\n",
       "                                    23676                23680  \\\n",
       "total_images                           19                   14   \n",
       "last_price                        3550000              5000000   \n",
       "total_area                           36.4                 59.0   \n",
       "first_day_exposition  2016-06-08 00:00:00  2019-04-04 00:00:00   \n",
       "rooms                                   1                    3   \n",
       "ceiling_height                       2.65                  2.5   \n",
       "floors_total                         16.0                  5.0   \n",
       "living_area                          14.9                 52.0   \n",
       "floor                                  13                    1   \n",
       "is_apartment                        False                False   \n",
       "studio                              False                False   \n",
       "open_plan                           False                False   \n",
       "kitchen_area                          9.3                  7.0   \n",
       "balcony                                 0                    0   \n",
       "locality_name             Санкт-Петербург      Санкт-Петербург   \n",
       "airports_nearest                  32228.0              26835.0   \n",
       "cityCenters_nearest               11884.0              11878.0   \n",
       "parks_around3000                      1.0                  0.0   \n",
       "parks_nearest                       701.0                  NaN   \n",
       "ponds_around3000                        0                    0   \n",
       "ponds_nearest                         NaN                  NaN   \n",
       "days_exposition                      70.0                 95.0   \n",
       "price_square_meter                  97527                84745   \n",
       "day                                     2                    3   \n",
       "month                                   6                    4   \n",
       "year                                 2016                 2019   \n",
       "floor_category                     Другой               Первый   \n",
       "area_living                      0.409341             0.881356   \n",
       "area_kitchen                     0.255495             0.118644   \n",
       "\n",
       "                                    23681                23686  \\\n",
       "total_images                           13                    8   \n",
       "last_price                        5250000              3300000   \n",
       "total_area                           43.0                 31.0   \n",
       "first_day_exposition  2018-05-11 00:00:00  2017-04-29 00:00:00   \n",
       "rooms                                   2                    1   \n",
       "ceiling_height                        2.5                 2.55   \n",
       "floors_total                          5.0                  9.0   \n",
       "living_area                          29.0                 18.0   \n",
       "floor                                   2                    6   \n",
       "is_apartment                        False                False   \n",
       "studio                              False                False   \n",
       "open_plan                           False                False   \n",
       "kitchen_area                          6.0                  6.5   \n",
       "balcony                                 0                    0   \n",
       "locality_name             Санкт-Петербург      Санкт-Петербург   \n",
       "airports_nearest                  28323.0              11751.0   \n",
       "cityCenters_nearest                7262.0              11602.0   \n",
       "parks_around3000                      1.0                  1.0   \n",
       "parks_nearest                       497.0                140.0   \n",
       "ponds_around3000                        2                    1   \n",
       "ponds_nearest                       660.0                317.0   \n",
       "days_exposition                      80.0                193.0   \n",
       "price_square_meter                 122093               106451   \n",
       "day                                     4                    5   \n",
       "month                                   5                    4   \n",
       "year                                 2018                 2017   \n",
       "floor_category                     Другой               Другой   \n",
       "area_living                      0.674419             0.580645   \n",
       "area_kitchen                     0.139535             0.209677   \n",
       "\n",
       "                                    23687                23689  \\\n",
       "total_images                            6                   13   \n",
       "last_price                        3200000              3550000   \n",
       "total_area                           39.0                 35.3   \n",
       "first_day_exposition  2017-12-16 00:00:00  2018-02-28 00:00:00   \n",
       "rooms                                   1                    1   \n",
       "ceiling_height                       2.65                 2.86   \n",
       "floors_total                          9.0                 15.0   \n",
       "living_area                          20.0                 16.3   \n",
       "floor                                   6                    4   \n",
       "is_apartment                        False                False   \n",
       "studio                              False                False   \n",
       "open_plan                           False                False   \n",
       "kitchen_area                         11.0                  9.1   \n",
       "balcony                                 2                    2   \n",
       "locality_name             Санкт-Петербург      Санкт-Петербург   \n",
       "airports_nearest                  40837.0              17284.0   \n",
       "cityCenters_nearest               16704.0              16081.0   \n",
       "parks_around3000                      0.0                  1.0   \n",
       "parks_nearest                         NaN                353.0   \n",
       "ponds_around3000                        0                    2   \n",
       "ponds_nearest                         NaN                652.0   \n",
       "days_exposition                      38.0                 29.0   \n",
       "price_square_meter                  82051               100566   \n",
       "day                                     5                    2   \n",
       "month                                  12                    2   \n",
       "year                                 2017                 2018   \n",
       "floor_category                     Другой               Другой   \n",
       "area_living                      0.512821             0.461756   \n",
       "area_kitchen                     0.282051              0.25779   \n",
       "\n",
       "                                    23690                23691  \n",
       "total_images                            3                   11  \n",
       "last_price                        5500000              9470000  \n",
       "total_area                           52.0                 72.9  \n",
       "first_day_exposition  2018-07-19 00:00:00  2016-10-13 00:00:00  \n",
       "rooms                                   2                    2  \n",
       "ceiling_height                       2.65                 2.75  \n",
       "floors_total                          5.0                 25.0  \n",
       "living_area                          31.0                 40.3  \n",
       "floor                                   2                    7  \n",
       "is_apartment                        False                False  \n",
       "studio                              False                False  \n",
       "open_plan                           False                False  \n",
       "kitchen_area                          6.0                 10.6  \n",
       "balcony                                 0                    1  \n",
       "locality_name             Санкт-Петербург      Санкт-Петербург  \n",
       "airports_nearest                  20151.0              19424.0  \n",
       "cityCenters_nearest                6263.0               4489.0  \n",
       "parks_around3000                      1.0                  0.0  \n",
       "parks_nearest                       300.0                  NaN  \n",
       "ponds_around3000                        0                    1  \n",
       "ponds_nearest                         NaN                806.0  \n",
       "days_exposition                      15.0                519.0  \n",
       "price_square_meter                 105769               129903  \n",
       "day                                     3                    3  \n",
       "month                                   7                   10  \n",
       "year                                 2018                 2016  \n",
       "floor_category                     Другой               Другой  \n",
       "area_living                      0.596154             0.552812  \n",
       "area_kitchen                     0.115385             0.145405  \n",
       "\n",
       "[29 rows x 11381 columns]"
      ]
     },
     "execution_count": 92,
     "metadata": {},
     "output_type": "execute_result"
    }
   ],
   "source": [
    "spb_data = data.query('locality_name == \"Санкт-Петербург\"')\n",
    "spb_data.T"
   ]
  },
  {
   "cell_type": "markdown",
   "metadata": {},
   "source": [
    "Создадим новый столбце в км до центра для каждой строки"
   ]
  },
  {
   "cell_type": "code",
   "execution_count": 93,
   "metadata": {},
   "outputs": [],
   "source": [
    "spb_data['near_city'] = spb_data[\"cityCenters_nearest\"] / 1000"
   ]
  },
  {
   "cell_type": "code",
   "execution_count": 94,
   "metadata": {},
   "outputs": [
    {
     "data": {
      "text/plain": [
       "count    11350.000000\n",
       "mean        12.879530\n",
       "std          4.161033\n",
       "min          0.399000\n",
       "25%         10.890000\n",
       "50%         13.166000\n",
       "75%         15.428500\n",
       "max         29.493000\n",
       "Name: near_city, dtype: float64"
      ]
     },
     "execution_count": 94,
     "metadata": {},
     "output_type": "execute_result"
    }
   ],
   "source": [
    "spb_data['near_city'].describe()"
   ]
  },
  {
   "cell_type": "markdown",
   "metadata": {},
   "source": [
    "Заполним пропуски на аномальные значения"
   ]
  },
  {
   "cell_type": "code",
   "execution_count": 95,
   "metadata": {},
   "outputs": [],
   "source": [
    "spb_data[\"near_city\"] = spb_data[\"near_city\"].fillna(999)"
   ]
  },
  {
   "cell_type": "code",
   "execution_count": 96,
   "metadata": {},
   "outputs": [],
   "source": [
    "spb_data[\"near_city\"] = spb_data[\"near_city\"].astype(int)"
   ]
  },
  {
   "cell_type": "code",
   "execution_count": 97,
   "metadata": {},
   "outputs": [],
   "source": [
    "pivot_table_spb_data = spb_data.query('near_city !=999').pivot_table(index = 'near_city', values = 'price_square_meter', aggfunc = 'mean')"
   ]
  },
  {
   "cell_type": "code",
   "execution_count": 98,
   "metadata": {},
   "outputs": [
    {
     "data": {
      "text/html": [
       "<div>\n",
       "<style scoped>\n",
       "    .dataframe tbody tr th:only-of-type {\n",
       "        vertical-align: middle;\n",
       "    }\n",
       "\n",
       "    .dataframe tbody tr th {\n",
       "        vertical-align: top;\n",
       "    }\n",
       "\n",
       "    .dataframe thead th {\n",
       "        text-align: right;\n",
       "    }\n",
       "</style>\n",
       "<table border=\"1\" class=\"dataframe\">\n",
       "  <thead>\n",
       "    <tr style=\"text-align: right;\">\n",
       "      <th></th>\n",
       "      <th>price_square_meter</th>\n",
       "    </tr>\n",
       "    <tr>\n",
       "      <th>near_city</th>\n",
       "      <th></th>\n",
       "    </tr>\n",
       "  </thead>\n",
       "  <tbody>\n",
       "    <tr>\n",
       "      <th>0</th>\n",
       "      <td>117095.818182</td>\n",
       "    </tr>\n",
       "    <tr>\n",
       "      <th>1</th>\n",
       "      <td>122664.847458</td>\n",
       "    </tr>\n",
       "    <tr>\n",
       "      <th>2</th>\n",
       "      <td>111639.071429</td>\n",
       "    </tr>\n",
       "    <tr>\n",
       "      <th>3</th>\n",
       "      <td>110423.623596</td>\n",
       "    </tr>\n",
       "    <tr>\n",
       "      <th>4</th>\n",
       "      <td>121652.571918</td>\n",
       "    </tr>\n",
       "    <tr>\n",
       "      <th>5</th>\n",
       "      <td>122333.422145</td>\n",
       "    </tr>\n",
       "    <tr>\n",
       "      <th>6</th>\n",
       "      <td>122792.502415</td>\n",
       "    </tr>\n",
       "    <tr>\n",
       "      <th>7</th>\n",
       "      <td>119394.632287</td>\n",
       "    </tr>\n",
       "    <tr>\n",
       "      <th>8</th>\n",
       "      <td>110030.005391</td>\n",
       "    </tr>\n",
       "    <tr>\n",
       "      <th>9</th>\n",
       "      <td>105318.468504</td>\n",
       "    </tr>\n",
       "    <tr>\n",
       "      <th>10</th>\n",
       "      <td>105766.733057</td>\n",
       "    </tr>\n",
       "    <tr>\n",
       "      <th>11</th>\n",
       "      <td>103784.687813</td>\n",
       "    </tr>\n",
       "    <tr>\n",
       "      <th>12</th>\n",
       "      <td>106401.456355</td>\n",
       "    </tr>\n",
       "    <tr>\n",
       "      <th>13</th>\n",
       "      <td>105560.049060</td>\n",
       "    </tr>\n",
       "    <tr>\n",
       "      <th>14</th>\n",
       "      <td>103342.814024</td>\n",
       "    </tr>\n",
       "    <tr>\n",
       "      <th>15</th>\n",
       "      <td>100695.839434</td>\n",
       "    </tr>\n",
       "    <tr>\n",
       "      <th>16</th>\n",
       "      <td>98323.045825</td>\n",
       "    </tr>\n",
       "    <tr>\n",
       "      <th>17</th>\n",
       "      <td>94369.035242</td>\n",
       "    </tr>\n",
       "    <tr>\n",
       "      <th>18</th>\n",
       "      <td>93695.146497</td>\n",
       "    </tr>\n",
       "    <tr>\n",
       "      <th>19</th>\n",
       "      <td>93924.230769</td>\n",
       "    </tr>\n",
       "    <tr>\n",
       "      <th>20</th>\n",
       "      <td>103506.137931</td>\n",
       "    </tr>\n",
       "    <tr>\n",
       "      <th>21</th>\n",
       "      <td>89980.779762</td>\n",
       "    </tr>\n",
       "    <tr>\n",
       "      <th>22</th>\n",
       "      <td>87256.056000</td>\n",
       "    </tr>\n",
       "    <tr>\n",
       "      <th>23</th>\n",
       "      <td>92932.615385</td>\n",
       "    </tr>\n",
       "    <tr>\n",
       "      <th>24</th>\n",
       "      <td>83025.333333</td>\n",
       "    </tr>\n",
       "    <tr>\n",
       "      <th>25</th>\n",
       "      <td>90923.291667</td>\n",
       "    </tr>\n",
       "    <tr>\n",
       "      <th>26</th>\n",
       "      <td>85899.000000</td>\n",
       "    </tr>\n",
       "    <tr>\n",
       "      <th>27</th>\n",
       "      <td>70312.000000</td>\n",
       "    </tr>\n",
       "    <tr>\n",
       "      <th>28</th>\n",
       "      <td>83755.500000</td>\n",
       "    </tr>\n",
       "    <tr>\n",
       "      <th>29</th>\n",
       "      <td>56976.000000</td>\n",
       "    </tr>\n",
       "  </tbody>\n",
       "</table>\n",
       "</div>"
      ],
      "text/plain": [
       "           price_square_meter\n",
       "near_city                    \n",
       "0               117095.818182\n",
       "1               122664.847458\n",
       "2               111639.071429\n",
       "3               110423.623596\n",
       "4               121652.571918\n",
       "5               122333.422145\n",
       "6               122792.502415\n",
       "7               119394.632287\n",
       "8               110030.005391\n",
       "9               105318.468504\n",
       "10              105766.733057\n",
       "11              103784.687813\n",
       "12              106401.456355\n",
       "13              105560.049060\n",
       "14              103342.814024\n",
       "15              100695.839434\n",
       "16               98323.045825\n",
       "17               94369.035242\n",
       "18               93695.146497\n",
       "19               93924.230769\n",
       "20              103506.137931\n",
       "21               89980.779762\n",
       "22               87256.056000\n",
       "23               92932.615385\n",
       "24               83025.333333\n",
       "25               90923.291667\n",
       "26               85899.000000\n",
       "27               70312.000000\n",
       "28               83755.500000\n",
       "29               56976.000000"
      ]
     },
     "execution_count": 98,
     "metadata": {},
     "output_type": "execute_result"
    }
   ],
   "source": [
    "pivot_table_spb_data"
   ]
  },
  {
   "cell_type": "code",
   "execution_count": 99,
   "metadata": {},
   "outputs": [
    {
     "data": {
      "text/plain": [
       "<AxesSubplot:xlabel='near_city'>"
      ]
     },
     "execution_count": 99,
     "metadata": {},
     "output_type": "execute_result"
    },
    {
     "data": {
      "image/png": "[encoded data removed]",
      "text/plain": [
       "<Figure size 432x288 with 1 Axes>"
      ]
     },
     "metadata": {
      "needs_background": "light"
     },
     "output_type": "display_data"
    }
   ],
   "source": [
    "pivot_table_spb_data.plot()"
   ]
  },
  {
   "cell_type": "markdown",
   "metadata": {},
   "source": [
    "#### Вывод:\n",
    "Чем дальше от центра, тем цена за квадратный метр ниже. Сильный излом заметен на 3 км, но данное знаечение как-то мало для СПБ. Поэтому возьмем значение следующего сильного излома - 7км. Обозначим, что 7 км и есть центральная зона. Тем более после данного значения наблюдается спад цены"
   ]
  },
  {
   "cell_type": "markdown",
   "metadata": {},
   "source": [
    "### Сегмент квартир в центре"
   ]
  },
  {
   "cell_type": "markdown",
   "metadata": {},
   "source": [
    "Выберем квартиры в СПБ в центральной части(<7км)"
   ]
  },
  {
   "cell_type": "code",
   "execution_count": 100,
   "metadata": {},
   "outputs": [],
   "source": [
    "spb_data = spb_data.query('near_city < 8')"
   ]
  },
  {
   "cell_type": "markdown",
   "metadata": {},
   "source": [
    "#### Зависимость стоимости квадратного метра от количества комнат"
   ]
  },
  {
   "cell_type": "code",
   "execution_count": 101,
   "metadata": {},
   "outputs": [
    {
     "data": {
      "text/html": [
       "<div>\n",
       "<style scoped>\n",
       "    .dataframe tbody tr th:only-of-type {\n",
       "        vertical-align: middle;\n",
       "    }\n",
       "\n",
       "    .dataframe tbody tr th {\n",
       "        vertical-align: top;\n",
       "    }\n",
       "\n",
       "    .dataframe thead th {\n",
       "        text-align: right;\n",
       "    }\n",
       "</style>\n",
       "<table border=\"1\" class=\"dataframe\">\n",
       "  <thead>\n",
       "    <tr style=\"text-align: right;\">\n",
       "      <th></th>\n",
       "      <th>count</th>\n",
       "      <th>sum</th>\n",
       "      <th>mean</th>\n",
       "      <th>median</th>\n",
       "    </tr>\n",
       "    <tr>\n",
       "      <th>rooms</th>\n",
       "      <th></th>\n",
       "      <th></th>\n",
       "      <th></th>\n",
       "      <th></th>\n",
       "    </tr>\n",
       "  </thead>\n",
       "  <tbody>\n",
       "    <tr>\n",
       "      <th>0</th>\n",
       "      <td>9</td>\n",
       "      <td>1209897</td>\n",
       "      <td>134433.000000</td>\n",
       "      <td>131250.0</td>\n",
       "    </tr>\n",
       "    <tr>\n",
       "      <th>1</th>\n",
       "      <td>363</td>\n",
       "      <td>51606727</td>\n",
       "      <td>142167.292011</td>\n",
       "      <td>138683.0</td>\n",
       "    </tr>\n",
       "    <tr>\n",
       "      <th>2</th>\n",
       "      <td>505</td>\n",
       "      <td>60460739</td>\n",
       "      <td>119724.235644</td>\n",
       "      <td>117450.0</td>\n",
       "    </tr>\n",
       "    <tr>\n",
       "      <th>3</th>\n",
       "      <td>354</td>\n",
       "      <td>37348987</td>\n",
       "      <td>105505.612994</td>\n",
       "      <td>102246.0</td>\n",
       "    </tr>\n",
       "    <tr>\n",
       "      <th>4</th>\n",
       "      <td>102</td>\n",
       "      <td>9423877</td>\n",
       "      <td>92390.950980</td>\n",
       "      <td>93650.5</td>\n",
       "    </tr>\n",
       "    <tr>\n",
       "      <th>5</th>\n",
       "      <td>21</td>\n",
       "      <td>1716155</td>\n",
       "      <td>81721.666667</td>\n",
       "      <td>81178.0</td>\n",
       "    </tr>\n",
       "  </tbody>\n",
       "</table>\n",
       "</div>"
      ],
      "text/plain": [
       "       count       sum           mean    median\n",
       "rooms                                          \n",
       "0          9   1209897  134433.000000  131250.0\n",
       "1        363  51606727  142167.292011  138683.0\n",
       "2        505  60460739  119724.235644  117450.0\n",
       "3        354  37348987  105505.612994  102246.0\n",
       "4        102   9423877   92390.950980   93650.5\n",
       "5         21   1716155   81721.666667   81178.0"
      ]
     },
     "execution_count": 101,
     "metadata": {},
     "output_type": "execute_result"
    }
   ],
   "source": [
    "spb_rooms = spb_data.pivot_table(index=\"rooms\", values=\"price_square_meter\",aggfunc = [\"count\",\"sum\",\"mean\",\"median\"])\n",
    "spb_rooms.columns = [\"count\",\"sum\",\"mean\",\"median\"]\n",
    "spb_rooms"
   ]
  },
  {
   "cell_type": "markdown",
   "metadata": {},
   "source": [
    "Отбросим значений, где количесвто меньше 50. так мы отбросим аномальные значений"
   ]
  },
  {
   "cell_type": "code",
   "execution_count": 102,
   "metadata": {},
   "outputs": [
    {
     "data": {
      "text/plain": [
       "<AxesSubplot:xlabel='rooms'>"
      ]
     },
     "execution_count": 102,
     "metadata": {},
     "output_type": "execute_result"
    },
    {
     "data": {
      "image/png": "[encoded data removed]",
      "text/plain": [
       "<Figure size 432x288 with 1 Axes>"
      ]
     },
     "metadata": {
      "needs_background": "light"
     },
     "output_type": "display_data"
    }
   ],
   "source": [
    "spb_rooms.plot(y=\"median\")"
   ]
  },
  {
   "cell_type": "markdown",
   "metadata": {},
   "source": [
    "Если судить по графику. то можно сказать, что самые дорогие квартиры в Питере - это однокомнатные. И чем больше комнат - тем дешевле цена за квадратный метр. Посмотрим итоговую цена за квартиру в зависимости от комнат"
   ]
  },
  {
   "cell_type": "code",
   "execution_count": 103,
   "metadata": {},
   "outputs": [
    {
     "data": {
      "text/plain": [
       "-0.5323527128120713"
      ]
     },
     "execution_count": 103,
     "metadata": {},
     "output_type": "execute_result"
    }
   ],
   "source": [
    "spb_data['rooms'].corr(spb_data[\"price_square_meter\"])"
   ]
  },
  {
   "cell_type": "code",
   "execution_count": 104,
   "metadata": {},
   "outputs": [
    {
     "data": {
      "text/html": [
       "<div>\n",
       "<style scoped>\n",
       "    .dataframe tbody tr th:only-of-type {\n",
       "        vertical-align: middle;\n",
       "    }\n",
       "\n",
       "    .dataframe tbody tr th {\n",
       "        vertical-align: top;\n",
       "    }\n",
       "\n",
       "    .dataframe thead th {\n",
       "        text-align: right;\n",
       "    }\n",
       "</style>\n",
       "<table border=\"1\" class=\"dataframe\">\n",
       "  <thead>\n",
       "    <tr style=\"text-align: right;\">\n",
       "      <th></th>\n",
       "      <th>count</th>\n",
       "      <th>sum</th>\n",
       "      <th>mean</th>\n",
       "      <th>median</th>\n",
       "    </tr>\n",
       "    <tr>\n",
       "      <th>rooms</th>\n",
       "      <th></th>\n",
       "      <th></th>\n",
       "      <th></th>\n",
       "      <th></th>\n",
       "    </tr>\n",
       "  </thead>\n",
       "  <tbody>\n",
       "    <tr>\n",
       "      <th>0</th>\n",
       "      <td>9</td>\n",
       "      <td>33336000</td>\n",
       "      <td>3.704000e+06</td>\n",
       "      <td>3380000</td>\n",
       "    </tr>\n",
       "    <tr>\n",
       "      <th>1</th>\n",
       "      <td>363</td>\n",
       "      <td>2091471242</td>\n",
       "      <td>5.761629e+06</td>\n",
       "      <td>5600000</td>\n",
       "    </tr>\n",
       "    <tr>\n",
       "      <th>2</th>\n",
       "      <td>505</td>\n",
       "      <td>3540295809</td>\n",
       "      <td>7.010487e+06</td>\n",
       "      <td>6700000</td>\n",
       "    </tr>\n",
       "    <tr>\n",
       "      <th>3</th>\n",
       "      <td>354</td>\n",
       "      <td>2854899586</td>\n",
       "      <td>8.064688e+06</td>\n",
       "      <td>7995000</td>\n",
       "    </tr>\n",
       "    <tr>\n",
       "      <th>4</th>\n",
       "      <td>102</td>\n",
       "      <td>908976793</td>\n",
       "      <td>8.911537e+06</td>\n",
       "      <td>8810000</td>\n",
       "    </tr>\n",
       "    <tr>\n",
       "      <th>5</th>\n",
       "      <td>21</td>\n",
       "      <td>206780000</td>\n",
       "      <td>9.846667e+06</td>\n",
       "      <td>10300000</td>\n",
       "    </tr>\n",
       "  </tbody>\n",
       "</table>\n",
       "</div>"
      ],
      "text/plain": [
       "       count         sum          mean    median\n",
       "rooms                                           \n",
       "0          9    33336000  3.704000e+06   3380000\n",
       "1        363  2091471242  5.761629e+06   5600000\n",
       "2        505  3540295809  7.010487e+06   6700000\n",
       "3        354  2854899586  8.064688e+06   7995000\n",
       "4        102   908976793  8.911537e+06   8810000\n",
       "5         21   206780000  9.846667e+06  10300000"
      ]
     },
     "execution_count": 104,
     "metadata": {},
     "output_type": "execute_result"
    }
   ],
   "source": [
    "spb_rooms = spb_data.pivot_table(index=\"rooms\", values=\"last_price\",aggfunc = [\"count\",\"sum\",\"mean\",\"median\"])\n",
    "spb_rooms.columns = [\"count\",\"sum\",\"mean\",\"median\"]\n",
    "spb_rooms"
   ]
  },
  {
   "cell_type": "code",
   "execution_count": 105,
   "metadata": {},
   "outputs": [
    {
     "data": {
      "text/plain": [
       "<AxesSubplot:xlabel='rooms'>"
      ]
     },
     "execution_count": 105,
     "metadata": {},
     "output_type": "execute_result"
    },
    {
     "data": {
      "image/png": "[encoded data removed]",
      "text/plain": [
       "<Figure size 432x288 with 1 Axes>"
      ]
     },
     "metadata": {
      "needs_background": "light"
     },
     "output_type": "display_data"
    }
   ],
   "source": [
    "spb_rooms.plot(y=\"median\")"
   ]
  },
  {
   "cell_type": "markdown",
   "metadata": {},
   "source": [
    "#### Вывод:\n",
    "Как и в общей выборке, цена за квадратный метр от увелечения количества комнат уменьшается, однако итоговая цена растет"
   ]
  },
  {
   "cell_type": "markdown",
   "metadata": {},
   "source": [
    "#### Зависимость стоимости квадратного метра от этажа"
   ]
  },
  {
   "cell_type": "markdown",
   "metadata": {},
   "source": [
    " Для начала проверим значение корреляции"
   ]
  },
  {
   "cell_type": "code",
   "execution_count": 106,
   "metadata": {},
   "outputs": [
    {
     "data": {
      "text/plain": [
       "0.27024051912603697"
      ]
     },
     "execution_count": 106,
     "metadata": {},
     "output_type": "execute_result"
    }
   ],
   "source": [
    "spb_data['floor'].corr(spb_data[\"price_square_meter\"])"
   ]
  },
  {
   "cell_type": "markdown",
   "metadata": {},
   "source": [
    "Уже не 0, что радует. хотя значение не особо большое. Построим график для наглядности"
   ]
  },
  {
   "cell_type": "code",
   "execution_count": 107,
   "metadata": {},
   "outputs": [
    {
     "data": {
      "text/html": [
       "<div>\n",
       "<style scoped>\n",
       "    .dataframe tbody tr th:only-of-type {\n",
       "        vertical-align: middle;\n",
       "    }\n",
       "\n",
       "    .dataframe tbody tr th {\n",
       "        vertical-align: top;\n",
       "    }\n",
       "\n",
       "    .dataframe thead th {\n",
       "        text-align: right;\n",
       "    }\n",
       "</style>\n",
       "<table border=\"1\" class=\"dataframe\">\n",
       "  <thead>\n",
       "    <tr style=\"text-align: right;\">\n",
       "      <th></th>\n",
       "      <th>count</th>\n",
       "      <th>sum</th>\n",
       "      <th>mean</th>\n",
       "      <th>median</th>\n",
       "    </tr>\n",
       "    <tr>\n",
       "      <th>floor_category</th>\n",
       "      <th></th>\n",
       "      <th></th>\n",
       "      <th></th>\n",
       "      <th></th>\n",
       "    </tr>\n",
       "  </thead>\n",
       "  <tbody>\n",
       "    <tr>\n",
       "      <th>Другой</th>\n",
       "      <td>950</td>\n",
       "      <td>117223224</td>\n",
       "      <td>123392.867368</td>\n",
       "      <td>120579.5</td>\n",
       "    </tr>\n",
       "    <tr>\n",
       "      <th>Первый</th>\n",
       "      <td>189</td>\n",
       "      <td>20245630</td>\n",
       "      <td>107119.735450</td>\n",
       "      <td>101815.0</td>\n",
       "    </tr>\n",
       "    <tr>\n",
       "      <th>Последний</th>\n",
       "      <td>215</td>\n",
       "      <td>24297528</td>\n",
       "      <td>113011.758140</td>\n",
       "      <td>108163.0</td>\n",
       "    </tr>\n",
       "  </tbody>\n",
       "</table>\n",
       "</div>"
      ],
      "text/plain": [
       "                count        sum           mean    median\n",
       "floor_category                                           \n",
       "Другой            950  117223224  123392.867368  120579.5\n",
       "Первый            189   20245630  107119.735450  101815.0\n",
       "Последний         215   24297528  113011.758140  108163.0"
      ]
     },
     "execution_count": 107,
     "metadata": {},
     "output_type": "execute_result"
    }
   ],
   "source": [
    "spb_floor = spb_data.pivot_table(index=\"floor_category\", values=\"price_square_meter\",aggfunc = [\"count\",\"sum\",\"mean\",\"median\"])\n",
    "spb_floor.columns = [\"count\",\"sum\",\"mean\",\"median\"]\n",
    "spb_floor"
   ]
  },
  {
   "cell_type": "code",
   "execution_count": 108,
   "metadata": {},
   "outputs": [
    {
     "data": {
      "text/plain": [
       "<AxesSubplot:xlabel='floor_category'>"
      ]
     },
     "execution_count": 108,
     "metadata": {},
     "output_type": "execute_result"
    },
    {
     "data": {
      "image/png": "[encoded data removed]",
      "text/plain": [
       "<Figure size 432x288 with 1 Axes>"
      ]
     },
     "metadata": {
      "needs_background": "light"
     },
     "output_type": "display_data"
    }
   ],
   "source": [
    "spb_floor.plot(y=\"median\")"
   ]
  },
  {
   "cell_type": "markdown",
   "metadata": {},
   "source": [
    "#### Вывод:\n",
    "Разницы с общей выборки не наблюдается. Первый этаж все также самый недорогой"
   ]
  },
  {
   "cell_type": "markdown",
   "metadata": {},
   "source": [
    "#### Зависимость стоимости квадратного метра от удаленности от центра"
   ]
  },
  {
   "cell_type": "code",
   "execution_count": 109,
   "metadata": {},
   "outputs": [
    {
     "data": {
      "text/html": [
       "<div>\n",
       "<style scoped>\n",
       "    .dataframe tbody tr th:only-of-type {\n",
       "        vertical-align: middle;\n",
       "    }\n",
       "\n",
       "    .dataframe tbody tr th {\n",
       "        vertical-align: top;\n",
       "    }\n",
       "\n",
       "    .dataframe thead th {\n",
       "        text-align: right;\n",
       "    }\n",
       "</style>\n",
       "<table border=\"1\" class=\"dataframe\">\n",
       "  <thead>\n",
       "    <tr style=\"text-align: right;\">\n",
       "      <th></th>\n",
       "      <th>count</th>\n",
       "      <th>sum</th>\n",
       "      <th>mean</th>\n",
       "      <th>median</th>\n",
       "    </tr>\n",
       "    <tr>\n",
       "      <th>cityCenters_nearest</th>\n",
       "      <th></th>\n",
       "      <th></th>\n",
       "      <th></th>\n",
       "      <th></th>\n",
       "    </tr>\n",
       "  </thead>\n",
       "  <tbody>\n",
       "    <tr>\n",
       "      <th>399.0</th>\n",
       "      <td>1</td>\n",
       "      <td>90000</td>\n",
       "      <td>90000.00</td>\n",
       "      <td>90000.0</td>\n",
       "    </tr>\n",
       "    <tr>\n",
       "      <th>467.0</th>\n",
       "      <td>1</td>\n",
       "      <td>108163</td>\n",
       "      <td>108163.00</td>\n",
       "      <td>108163.0</td>\n",
       "    </tr>\n",
       "    <tr>\n",
       "      <th>472.0</th>\n",
       "      <td>1</td>\n",
       "      <td>144957</td>\n",
       "      <td>144957.00</td>\n",
       "      <td>144957.0</td>\n",
       "    </tr>\n",
       "    <tr>\n",
       "      <th>515.0</th>\n",
       "      <td>1</td>\n",
       "      <td>117283</td>\n",
       "      <td>117283.00</td>\n",
       "      <td>117283.0</td>\n",
       "    </tr>\n",
       "    <tr>\n",
       "      <th>623.0</th>\n",
       "      <td>1</td>\n",
       "      <td>70000</td>\n",
       "      <td>70000.00</td>\n",
       "      <td>70000.0</td>\n",
       "    </tr>\n",
       "    <tr>\n",
       "      <th>...</th>\n",
       "      <td>...</td>\n",
       "      <td>...</td>\n",
       "      <td>...</td>\n",
       "      <td>...</td>\n",
       "    </tr>\n",
       "    <tr>\n",
       "      <th>7976.0</th>\n",
       "      <td>1</td>\n",
       "      <td>129722</td>\n",
       "      <td>129722.00</td>\n",
       "      <td>129722.0</td>\n",
       "    </tr>\n",
       "    <tr>\n",
       "      <th>7982.0</th>\n",
       "      <td>2</td>\n",
       "      <td>229226</td>\n",
       "      <td>114613.00</td>\n",
       "      <td>114613.0</td>\n",
       "    </tr>\n",
       "    <tr>\n",
       "      <th>7990.0</th>\n",
       "      <td>4</td>\n",
       "      <td>432593</td>\n",
       "      <td>108148.25</td>\n",
       "      <td>107740.0</td>\n",
       "    </tr>\n",
       "    <tr>\n",
       "      <th>7997.0</th>\n",
       "      <td>2</td>\n",
       "      <td>194048</td>\n",
       "      <td>97024.00</td>\n",
       "      <td>97024.0</td>\n",
       "    </tr>\n",
       "    <tr>\n",
       "      <th>7998.0</th>\n",
       "      <td>1</td>\n",
       "      <td>96045</td>\n",
       "      <td>96045.00</td>\n",
       "      <td>96045.0</td>\n",
       "    </tr>\n",
       "  </tbody>\n",
       "</table>\n",
       "<p>911 rows × 4 columns</p>\n",
       "</div>"
      ],
      "text/plain": [
       "                     count     sum       mean    median\n",
       "cityCenters_nearest                                    \n",
       "399.0                    1   90000   90000.00   90000.0\n",
       "467.0                    1  108163  108163.00  108163.0\n",
       "472.0                    1  144957  144957.00  144957.0\n",
       "515.0                    1  117283  117283.00  117283.0\n",
       "623.0                    1   70000   70000.00   70000.0\n",
       "...                    ...     ...        ...       ...\n",
       "7976.0                   1  129722  129722.00  129722.0\n",
       "7982.0                   2  229226  114613.00  114613.0\n",
       "7990.0                   4  432593  108148.25  107740.0\n",
       "7997.0                   2  194048   97024.00   97024.0\n",
       "7998.0                   1   96045   96045.00   96045.0\n",
       "\n",
       "[911 rows x 4 columns]"
      ]
     },
     "execution_count": 109,
     "metadata": {},
     "output_type": "execute_result"
    }
   ],
   "source": [
    "spb_center = spb_data.pivot_table(index=\"cityCenters_nearest\", values=\"price_square_meter\",aggfunc = [\"count\",\"sum\",\"mean\",\"median\"])\n",
    "spb_center.columns = [\"count\",\"sum\",\"mean\",\"median\"]\n",
    "spb_center"
   ]
  },
  {
   "cell_type": "code",
   "execution_count": 110,
   "metadata": {},
   "outputs": [
    {
     "data": {
      "text/plain": [
       "0.07055944212852952"
      ]
     },
     "execution_count": 110,
     "metadata": {},
     "output_type": "execute_result"
    }
   ],
   "source": [
    "spb_data['cityCenters_nearest'].corr(spb_data[\"price_square_meter\"])"
   ]
  },
  {
   "cell_type": "code",
   "execution_count": 111,
   "metadata": {},
   "outputs": [
    {
     "data": {
      "text/plain": [
       "<AxesSubplot:xlabel='cityCenters_nearest'>"
      ]
     },
     "execution_count": 111,
     "metadata": {},
     "output_type": "execute_result"
    },
    {
     "data": {
      "image/png": "[encoded data removed]",
      "text/plain": [
       "<Figure size 432x288 with 1 Axes>"
      ]
     },
     "metadata": {
      "needs_background": "light"
     },
     "output_type": "display_data"
    }
   ],
   "source": [
    "spb_center.plot(y=\"median\")"
   ]
  },
  {
   "cell_type": "markdown",
   "metadata": {},
   "source": [
    "#### Вывод:\n",
    "Как показывает значение корреляции и график - особой зависимости между этими двумя параметрами не наблюдается"
   ]
  },
  {
   "cell_type": "markdown",
   "metadata": {},
   "source": [
    "#### Зависимость стоимости квадратного метра от даты размещения объявления"
   ]
  },
  {
   "cell_type": "code",
   "execution_count": 112,
   "metadata": {},
   "outputs": [
    {
     "data": {
      "text/html": [
       "<div>\n",
       "<style scoped>\n",
       "    .dataframe tbody tr th:only-of-type {\n",
       "        vertical-align: middle;\n",
       "    }\n",
       "\n",
       "    .dataframe tbody tr th {\n",
       "        vertical-align: top;\n",
       "    }\n",
       "\n",
       "    .dataframe thead th {\n",
       "        text-align: right;\n",
       "    }\n",
       "</style>\n",
       "<table border=\"1\" class=\"dataframe\">\n",
       "  <thead>\n",
       "    <tr style=\"text-align: right;\">\n",
       "      <th></th>\n",
       "      <th>count</th>\n",
       "      <th>sum</th>\n",
       "      <th>mean</th>\n",
       "      <th>median</th>\n",
       "    </tr>\n",
       "    <tr>\n",
       "      <th>day</th>\n",
       "      <th></th>\n",
       "      <th></th>\n",
       "      <th></th>\n",
       "      <th></th>\n",
       "    </tr>\n",
       "  </thead>\n",
       "  <tbody>\n",
       "    <tr>\n",
       "      <th>0</th>\n",
       "      <td>199</td>\n",
       "      <td>23529804</td>\n",
       "      <td>118240.221106</td>\n",
       "      <td>114750.0</td>\n",
       "    </tr>\n",
       "    <tr>\n",
       "      <th>1</th>\n",
       "      <td>232</td>\n",
       "      <td>27634357</td>\n",
       "      <td>119113.607759</td>\n",
       "      <td>114074.5</td>\n",
       "    </tr>\n",
       "    <tr>\n",
       "      <th>2</th>\n",
       "      <td>221</td>\n",
       "      <td>26854174</td>\n",
       "      <td>121512.099548</td>\n",
       "      <td>115000.0</td>\n",
       "    </tr>\n",
       "    <tr>\n",
       "      <th>3</th>\n",
       "      <td>258</td>\n",
       "      <td>30523269</td>\n",
       "      <td>118307.244186</td>\n",
       "      <td>115363.5</td>\n",
       "    </tr>\n",
       "    <tr>\n",
       "      <th>4</th>\n",
       "      <td>251</td>\n",
       "      <td>29360762</td>\n",
       "      <td>116975.147410</td>\n",
       "      <td>114642.0</td>\n",
       "    </tr>\n",
       "    <tr>\n",
       "      <th>5</th>\n",
       "      <td>109</td>\n",
       "      <td>13394220</td>\n",
       "      <td>122882.752294</td>\n",
       "      <td>122341.0</td>\n",
       "    </tr>\n",
       "    <tr>\n",
       "      <th>6</th>\n",
       "      <td>84</td>\n",
       "      <td>10469796</td>\n",
       "      <td>124640.428571</td>\n",
       "      <td>123513.0</td>\n",
       "    </tr>\n",
       "  </tbody>\n",
       "</table>\n",
       "</div>"
      ],
      "text/plain": [
       "     count       sum           mean    median\n",
       "day                                          \n",
       "0      199  23529804  118240.221106  114750.0\n",
       "1      232  27634357  119113.607759  114074.5\n",
       "2      221  26854174  121512.099548  115000.0\n",
       "3      258  30523269  118307.244186  115363.5\n",
       "4      251  29360762  116975.147410  114642.0\n",
       "5      109  13394220  122882.752294  122341.0\n",
       "6       84  10469796  124640.428571  123513.0"
      ]
     },
     "execution_count": 112,
     "metadata": {},
     "output_type": "execute_result"
    }
   ],
   "source": [
    "spb_day_pivot = spb_data.pivot_table(index=\"day\",values = \"price_square_meter\", aggfunc = [\"count\",\"sum\",\"mean\",\"median\"])\n",
    "spb_day_pivot.columns = [\"count\",\"sum\",\"mean\",\"median\"]\n",
    "spb_day_pivot"
   ]
  },
  {
   "cell_type": "code",
   "execution_count": 113,
   "metadata": {},
   "outputs": [
    {
     "data": {
      "text/plain": [
       "<AxesSubplot:xlabel='day'>"
      ]
     },
     "execution_count": 113,
     "metadata": {},
     "output_type": "execute_result"
    },
    {
     "data": {
      "image/png": "[encoded data removed]",
      "text/plain": [
       "<Figure size 432x288 with 1 Axes>"
      ]
     },
     "metadata": {
      "needs_background": "light"
     },
     "output_type": "display_data"
    }
   ],
   "source": [
    "spb_day_pivot.plot(y=\"median\")"
   ]
  },
  {
   "cell_type": "markdown",
   "metadata": {},
   "source": [
    "#### Вывод:\n",
    "По сравнению с общей выборки - здесь пик цены приходит на выходные. С пятницы цена за квадратный метр сильно увеличивается. А к вторнику спадает"
   ]
  },
  {
   "cell_type": "code",
   "execution_count": 114,
   "metadata": {},
   "outputs": [
    {
     "data": {
      "text/html": [
       "<div>\n",
       "<style scoped>\n",
       "    .dataframe tbody tr th:only-of-type {\n",
       "        vertical-align: middle;\n",
       "    }\n",
       "\n",
       "    .dataframe tbody tr th {\n",
       "        vertical-align: top;\n",
       "    }\n",
       "\n",
       "    .dataframe thead th {\n",
       "        text-align: right;\n",
       "    }\n",
       "</style>\n",
       "<table border=\"1\" class=\"dataframe\">\n",
       "  <thead>\n",
       "    <tr style=\"text-align: right;\">\n",
       "      <th></th>\n",
       "      <th>count</th>\n",
       "      <th>sum</th>\n",
       "      <th>mean</th>\n",
       "      <th>median</th>\n",
       "    </tr>\n",
       "    <tr>\n",
       "      <th>month</th>\n",
       "      <th></th>\n",
       "      <th></th>\n",
       "      <th></th>\n",
       "      <th></th>\n",
       "    </tr>\n",
       "  </thead>\n",
       "  <tbody>\n",
       "    <tr>\n",
       "      <th>1</th>\n",
       "      <td>63</td>\n",
       "      <td>7581031</td>\n",
       "      <td>120333.825397</td>\n",
       "      <td>110714.0</td>\n",
       "    </tr>\n",
       "    <tr>\n",
       "      <th>2</th>\n",
       "      <td>128</td>\n",
       "      <td>14693664</td>\n",
       "      <td>114794.250000</td>\n",
       "      <td>111570.5</td>\n",
       "    </tr>\n",
       "    <tr>\n",
       "      <th>3</th>\n",
       "      <td>139</td>\n",
       "      <td>18072841</td>\n",
       "      <td>130020.438849</td>\n",
       "      <td>131428.0</td>\n",
       "    </tr>\n",
       "    <tr>\n",
       "      <th>4</th>\n",
       "      <td>140</td>\n",
       "      <td>16747446</td>\n",
       "      <td>119624.614286</td>\n",
       "      <td>117204.5</td>\n",
       "    </tr>\n",
       "    <tr>\n",
       "      <th>5</th>\n",
       "      <td>86</td>\n",
       "      <td>10058368</td>\n",
       "      <td>116957.767442</td>\n",
       "      <td>104883.5</td>\n",
       "    </tr>\n",
       "    <tr>\n",
       "      <th>6</th>\n",
       "      <td>113</td>\n",
       "      <td>12663902</td>\n",
       "      <td>112069.929204</td>\n",
       "      <td>109375.0</td>\n",
       "    </tr>\n",
       "    <tr>\n",
       "      <th>7</th>\n",
       "      <td>97</td>\n",
       "      <td>11780365</td>\n",
       "      <td>121447.061856</td>\n",
       "      <td>113314.0</td>\n",
       "    </tr>\n",
       "    <tr>\n",
       "      <th>8</th>\n",
       "      <td>105</td>\n",
       "      <td>12949548</td>\n",
       "      <td>123329.028571</td>\n",
       "      <td>122727.0</td>\n",
       "    </tr>\n",
       "    <tr>\n",
       "      <th>9</th>\n",
       "      <td>124</td>\n",
       "      <td>15060546</td>\n",
       "      <td>121456.016129</td>\n",
       "      <td>119033.0</td>\n",
       "    </tr>\n",
       "    <tr>\n",
       "      <th>10</th>\n",
       "      <td>133</td>\n",
       "      <td>15423225</td>\n",
       "      <td>115964.097744</td>\n",
       "      <td>113270.0</td>\n",
       "    </tr>\n",
       "    <tr>\n",
       "      <th>11</th>\n",
       "      <td>136</td>\n",
       "      <td>15926255</td>\n",
       "      <td>117104.816176</td>\n",
       "      <td>115504.5</td>\n",
       "    </tr>\n",
       "    <tr>\n",
       "      <th>12</th>\n",
       "      <td>90</td>\n",
       "      <td>10809191</td>\n",
       "      <td>120102.122222</td>\n",
       "      <td>119461.0</td>\n",
       "    </tr>\n",
       "  </tbody>\n",
       "</table>\n",
       "</div>"
      ],
      "text/plain": [
       "       count       sum           mean    median\n",
       "month                                          \n",
       "1         63   7581031  120333.825397  110714.0\n",
       "2        128  14693664  114794.250000  111570.5\n",
       "3        139  18072841  130020.438849  131428.0\n",
       "4        140  16747446  119624.614286  117204.5\n",
       "5         86  10058368  116957.767442  104883.5\n",
       "6        113  12663902  112069.929204  109375.0\n",
       "7         97  11780365  121447.061856  113314.0\n",
       "8        105  12949548  123329.028571  122727.0\n",
       "9        124  15060546  121456.016129  119033.0\n",
       "10       133  15423225  115964.097744  113270.0\n",
       "11       136  15926255  117104.816176  115504.5\n",
       "12        90  10809191  120102.122222  119461.0"
      ]
     },
     "execution_count": 114,
     "metadata": {},
     "output_type": "execute_result"
    }
   ],
   "source": [
    "spb_month_pivot = spb_data.pivot_table(index=\"month\",values = \"price_square_meter\", aggfunc = [\"count\",\"sum\",\"mean\",\"median\"])\n",
    "spb_month_pivot.columns = [\"count\",\"sum\",\"mean\",\"median\"]\n",
    "spb_month_pivot"
   ]
  },
  {
   "cell_type": "code",
   "execution_count": 115,
   "metadata": {},
   "outputs": [
    {
     "data": {
      "text/plain": [
       "<AxesSubplot:xlabel='month'>"
      ]
     },
     "execution_count": 115,
     "metadata": {},
     "output_type": "execute_result"
    },
    {
     "data": {
      "image/png": "[encoded data removed]",
      "text/plain": [
       "<Figure size 432x288 with 1 Axes>"
      ]
     },
     "metadata": {
      "needs_background": "light"
     },
     "output_type": "display_data"
    }
   ],
   "source": [
    "spb_month_pivot.plot(y=\"median\")"
   ]
  },
  {
   "cell_type": "markdown",
   "metadata": {},
   "source": [
    "#### Вывод:\n",
    "Ситуация очень схожа с общей выборкой - летом наблюдается сильный спад и в декабре. Самы пик приходится на весну и осень"
   ]
  },
  {
   "cell_type": "code",
   "execution_count": 116,
   "metadata": {},
   "outputs": [
    {
     "data": {
      "text/html": [
       "<div>\n",
       "<style scoped>\n",
       "    .dataframe tbody tr th:only-of-type {\n",
       "        vertical-align: middle;\n",
       "    }\n",
       "\n",
       "    .dataframe tbody tr th {\n",
       "        vertical-align: top;\n",
       "    }\n",
       "\n",
       "    .dataframe thead th {\n",
       "        text-align: right;\n",
       "    }\n",
       "</style>\n",
       "<table border=\"1\" class=\"dataframe\">\n",
       "  <thead>\n",
       "    <tr style=\"text-align: right;\">\n",
       "      <th></th>\n",
       "      <th>count</th>\n",
       "      <th>sum</th>\n",
       "      <th>mean</th>\n",
       "      <th>median</th>\n",
       "    </tr>\n",
       "    <tr>\n",
       "      <th>year</th>\n",
       "      <th></th>\n",
       "      <th></th>\n",
       "      <th></th>\n",
       "      <th></th>\n",
       "    </tr>\n",
       "  </thead>\n",
       "  <tbody>\n",
       "    <tr>\n",
       "      <th>2014</th>\n",
       "      <td>1</td>\n",
       "      <td>105157</td>\n",
       "      <td>105157.000000</td>\n",
       "      <td>105157.0</td>\n",
       "    </tr>\n",
       "    <tr>\n",
       "      <th>2015</th>\n",
       "      <td>59</td>\n",
       "      <td>6585658</td>\n",
       "      <td>111621.322034</td>\n",
       "      <td>103105.0</td>\n",
       "    </tr>\n",
       "    <tr>\n",
       "      <th>2016</th>\n",
       "      <td>170</td>\n",
       "      <td>18748776</td>\n",
       "      <td>110286.917647</td>\n",
       "      <td>107360.0</td>\n",
       "    </tr>\n",
       "    <tr>\n",
       "      <th>2017</th>\n",
       "      <td>568</td>\n",
       "      <td>66594132</td>\n",
       "      <td>117243.190141</td>\n",
       "      <td>113255.0</td>\n",
       "    </tr>\n",
       "    <tr>\n",
       "      <th>2018</th>\n",
       "      <td>426</td>\n",
       "      <td>52385098</td>\n",
       "      <td>122969.713615</td>\n",
       "      <td>118467.5</td>\n",
       "    </tr>\n",
       "    <tr>\n",
       "      <th>2019</th>\n",
       "      <td>130</td>\n",
       "      <td>17347561</td>\n",
       "      <td>133442.776923</td>\n",
       "      <td>130516.0</td>\n",
       "    </tr>\n",
       "  </tbody>\n",
       "</table>\n",
       "</div>"
      ],
      "text/plain": [
       "      count       sum           mean    median\n",
       "year                                          \n",
       "2014      1    105157  105157.000000  105157.0\n",
       "2015     59   6585658  111621.322034  103105.0\n",
       "2016    170  18748776  110286.917647  107360.0\n",
       "2017    568  66594132  117243.190141  113255.0\n",
       "2018    426  52385098  122969.713615  118467.5\n",
       "2019    130  17347561  133442.776923  130516.0"
      ]
     },
     "execution_count": 116,
     "metadata": {},
     "output_type": "execute_result"
    }
   ],
   "source": [
    "spb_year_pivot = spb_data.pivot_table(index=\"year\",values = \"price_square_meter\", aggfunc = [\"count\",\"sum\",\"mean\",\"median\"])\n",
    "spb_year_pivot.columns = [\"count\",\"sum\",\"mean\",\"median\"]\n",
    "spb_year_pivot"
   ]
  },
  {
   "cell_type": "code",
   "execution_count": 117,
   "metadata": {},
   "outputs": [
    {
     "data": {
      "text/plain": [
       "<AxesSubplot:xlabel='year'>"
      ]
     },
     "execution_count": 117,
     "metadata": {},
     "output_type": "execute_result"
    },
    {
     "data": {
      "image/png": "[encoded data removed]",
      "text/plain": [
       "<Figure size 432x288 with 1 Axes>"
      ]
     },
     "metadata": {
      "needs_background": "light"
     },
     "output_type": "display_data"
    }
   ],
   "source": [
    "spb_year_pivot.plot(y=\"median\")"
   ]
  },
  {
   "cell_type": "markdown",
   "metadata": {},
   "source": [
    "#### Вывод:\n",
    "В отличие от общей выборки, в СПБ с 2014 года цены начали расти."
   ]
  },
  {
   "cell_type": "markdown",
   "metadata": {},
   "source": [
    "#### Общая площадь"
   ]
  },
  {
   "cell_type": "code",
   "execution_count": 118,
   "metadata": {},
   "outputs": [
    {
     "data": {
      "text/plain": [
       "count    1354.000000\n",
       "mean       62.253102\n",
       "std        22.855960\n",
       "min        12.000000\n",
       "25%        44.400000\n",
       "50%        59.505000\n",
       "75%        76.000000\n",
       "max       147.800000\n",
       "Name: total_area, dtype: float64"
      ]
     },
     "execution_count": 118,
     "metadata": {},
     "output_type": "execute_result"
    }
   ],
   "source": [
    "spb_data[\"total_area\"].describe()"
   ]
  },
  {
   "cell_type": "code",
   "execution_count": 119,
   "metadata": {},
   "outputs": [
    {
     "data": {
      "text/plain": [
       "<AxesSubplot:>"
      ]
     },
     "execution_count": 119,
     "metadata": {},
     "output_type": "execute_result"
    },
    {
     "data": {
      "image/png": "[encoded data removed]",
      "text/plain": [
       "<Figure size 432x288 with 1 Axes>"
      ]
     },
     "metadata": {
      "needs_background": "light"
     },
     "output_type": "display_data"
    }
   ],
   "source": [
    "spb_data.boxplot(column='total_area')"
   ]
  },
  {
   "cell_type": "code",
   "execution_count": 120,
   "metadata": {},
   "outputs": [
    {
     "data": {
      "text/plain": [
       "<AxesSubplot:ylabel='Frequency'>"
      ]
     },
     "execution_count": 120,
     "metadata": {},
     "output_type": "execute_result"
    },
    {
     "data": {
      "image/png": "[encoded data removed]",
      "text/plain": [
       "<Figure size 720x720 with 1 Axes>"
      ]
     },
     "metadata": {
      "needs_background": "light"
     },
     "output_type": "display_data"
    }
   ],
   "source": [
    "spb_data.plot(y ='total_area', kind = 'hist', bins = 10, grid=True, figsize = (10,10), range = (10,250))"
   ]
  },
  {
   "cell_type": "markdown",
   "metadata": {},
   "source": [
    "#### Цена"
   ]
  },
  {
   "cell_type": "code",
   "execution_count": 121,
   "metadata": {},
   "outputs": [
    {
     "data": {
      "text/plain": [
       "count    1.354000e+03\n",
       "mean     7.116514e+06\n",
       "std      2.280393e+06\n",
       "min      1.686000e+06\n",
       "25%      5.350000e+06\n",
       "50%      6.900000e+06\n",
       "75%      8.700000e+06\n",
       "max      1.199900e+07\n",
       "Name: last_price, dtype: float64"
      ]
     },
     "execution_count": 121,
     "metadata": {},
     "output_type": "execute_result"
    }
   ],
   "source": [
    "spb_data[\"last_price\"].describe()"
   ]
  },
  {
   "cell_type": "code",
   "execution_count": 122,
   "metadata": {},
   "outputs": [
    {
     "data": {
      "text/plain": [
       "<AxesSubplot:>"
      ]
     },
     "execution_count": 122,
     "metadata": {},
     "output_type": "execute_result"
    },
    {
     "data": {
      "image/png": "[encoded data removed]",
      "text/plain": [
       "<Figure size 432x288 with 1 Axes>"
      ]
     },
     "metadata": {
      "needs_background": "light"
     },
     "output_type": "display_data"
    }
   ],
   "source": [
    "spb_data.boxplot(column='last_price')"
   ]
  },
  {
   "cell_type": "code",
   "execution_count": 123,
   "metadata": {},
   "outputs": [
    {
     "data": {
      "text/plain": [
       "<AxesSubplot:ylabel='Frequency'>"
      ]
     },
     "execution_count": 123,
     "metadata": {},
     "output_type": "execute_result"
    },
    {
     "data": {
      "image/png": "[encoded data removed]",
      "text/plain": [
       "<Figure size 720x720 with 1 Axes>"
      ]
     },
     "metadata": {
      "needs_background": "light"
     },
     "output_type": "display_data"
    }
   ],
   "source": [
    "spb_data.plot(y = 'last_price', kind = 'hist', bins = 50, grid=True, figsize = (10,10), range = (0,13000000))"
   ]
  },
  {
   "cell_type": "markdown",
   "metadata": {},
   "source": [
    "#### Комнаты"
   ]
  },
  {
   "cell_type": "code",
   "execution_count": 124,
   "metadata": {},
   "outputs": [
    {
     "data": {
      "text/plain": [
       "count    1354.000000\n",
       "mean        2.177253\n",
       "std         0.983026\n",
       "min         0.000000\n",
       "25%         1.000000\n",
       "50%         2.000000\n",
       "75%         3.000000\n",
       "max         5.000000\n",
       "Name: rooms, dtype: float64"
      ]
     },
     "execution_count": 124,
     "metadata": {},
     "output_type": "execute_result"
    }
   ],
   "source": [
    "spb_data[\"rooms\"].describe()"
   ]
  },
  {
   "cell_type": "code",
   "execution_count": 125,
   "metadata": {},
   "outputs": [
    {
     "data": {
      "text/plain": [
       "<AxesSubplot:>"
      ]
     },
     "execution_count": 125,
     "metadata": {},
     "output_type": "execute_result"
    },
    {
     "data": {
      "image/png": "[encoded data removed]",
      "text/plain": [
       "<Figure size 432x288 with 1 Axes>"
      ]
     },
     "metadata": {
      "needs_background": "light"
     },
     "output_type": "display_data"
    }
   ],
   "source": [
    "spb_data.boxplot(column='rooms')"
   ]
  },
  {
   "cell_type": "code",
   "execution_count": 126,
   "metadata": {},
   "outputs": [
    {
     "data": {
      "text/plain": [
       "<AxesSubplot:ylabel='Frequency'>"
      ]
     },
     "execution_count": 126,
     "metadata": {},
     "output_type": "execute_result"
    },
    {
     "data": {
      "image/png": "[encoded data removed]",
      "text/plain": [
       "<Figure size 720x720 with 1 Axes>"
      ]
     },
     "metadata": {
      "needs_background": "light"
     },
     "output_type": "display_data"
    }
   ],
   "source": [
    "spb_data.plot(y = 'rooms', kind = 'hist', bins = 10, grid=True, figsize = (10,10), range = (0,8))"
   ]
  },
  {
   "cell_type": "markdown",
   "metadata": {},
   "source": [
    "#### Высота потолков"
   ]
  },
  {
   "cell_type": "code",
   "execution_count": 127,
   "metadata": {},
   "outputs": [
    {
     "data": {
      "text/plain": [
       "count    1354.000000\n",
       "mean        2.674365\n",
       "std         0.094345\n",
       "min         2.400000\n",
       "25%         2.650000\n",
       "50%         2.650000\n",
       "75%         2.700000\n",
       "max         2.990000\n",
       "Name: ceiling_height, dtype: float64"
      ]
     },
     "execution_count": 127,
     "metadata": {},
     "output_type": "execute_result"
    }
   ],
   "source": [
    "spb_data[\"ceiling_height\"].describe()"
   ]
  },
  {
   "cell_type": "code",
   "execution_count": 128,
   "metadata": {},
   "outputs": [
    {
     "data": {
      "text/plain": [
       "<AxesSubplot:>"
      ]
     },
     "execution_count": 128,
     "metadata": {},
     "output_type": "execute_result"
    },
    {
     "data": {
      "image/png": "[encoded data removed]",
      "text/plain": [
       "<Figure size 432x288 with 1 Axes>"
      ]
     },
     "metadata": {
      "needs_background": "light"
     },
     "output_type": "display_data"
    }
   ],
   "source": [
    "spb_data.boxplot(column='ceiling_height')"
   ]
  },
  {
   "cell_type": "code",
   "execution_count": 129,
   "metadata": {},
   "outputs": [
    {
     "data": {
      "text/plain": [
       "<AxesSubplot:ylabel='Frequency'>"
      ]
     },
     "execution_count": 129,
     "metadata": {},
     "output_type": "execute_result"
    },
    {
     "data": {
      "image/png": "[encoded data removed]",
      "text/plain": [
       "<Figure size 720x720 with 1 Axes>"
      ]
     },
     "metadata": {
      "needs_background": "light"
     },
     "output_type": "display_data"
    }
   ],
   "source": [
    "spb_data.plot(y = 'ceiling_height', kind = 'hist', bins = 30, grid=True, figsize = (10,10), range = (0,4))"
   ]
  },
  {
   "cell_type": "markdown",
   "metadata": {},
   "source": [
    "##### Вывод:\n",
    "* 1) Наиболее частая площадь квартир составляет 59 кв.м\n",
    "* 2) Средняя цена квартиры составляет 6 млн. руб. Максимальная цена достигает 12 млн. руб.\n",
    "* 3) Самое популярное - 2х комнатные квартиры\n",
    "* 4) Высота потолков 2.7 метра\n",
    "* По сравнению с общей выборкой, отличается средняя цена квартиры (4,6 млн. руб) и площадь квартиры (52 кв.м)"
   ]
  },
  {
   "cell_type": "markdown",
   "metadata": {},
   "source": [
    "## Общий вывод"
   ]
  },
  {
   "cell_type": "markdown",
   "metadata": {},
   "source": [
    "* Был обработан файл с данными о продажи квартир. При ознакомелние с данными были выявлены аномалии и проблемы в столбцах такие, как пропуски и неверный тип данных. \n",
    "* Посчитали и добавили в таблицу цену квадратного метра жилья, вывели из даты дни недели, месяцы и года размещения объявлений, добавили категории по этажам квартир. Изучили следующие параметры на наличие выбивающихся значений - площадь, цена, число комнат, высота потолков и построены по ним гистограммы.\n",
    "* Было выявлено, что на стоимость квадратного метра квартиры больше всего влияют этаж квартиры и близость к центру. Незначительно на стоимость квадратного метра влияют день, месяц, год размещения и общая площадь. Нужно учитывать, что в 2016-2017 годах стоимость квартир в среднем по рынку была намного ниже, хотя после данного периода стала догонять период 'До'. В отличие от общей выборке - в центре СПБ влияют другие дни недели. Например наиболее резкий рост цен начианется на выходных в СПБ, пока в общих данных пик идет на начало недели."
   ]
  }
 ],
 "metadata": {
  "ExecuteTimeLog": [
   {
    "duration": 380,
    "start_time": "2022-03-09T11:20:26.572Z"
   },
   {
    "duration": 576,
    "start_time": "2022-03-09T11:20:55.632Z"
   },
   {
    "duration": 71,
    "start_time": "2022-03-09T11:20:56.210Z"
   },
   {
    "duration": 5,
    "start_time": "2022-03-09T11:20:56.902Z"
   },
   {
    "duration": 93,
    "start_time": "2022-03-09T11:21:09.904Z"
   },
   {
    "duration": 4,
    "start_time": "2022-03-09T11:21:10.536Z"
   },
   {
    "duration": 61,
    "start_time": "2022-03-09T11:22:03.185Z"
   },
   {
    "duration": 5,
    "start_time": "2022-03-09T11:22:04.243Z"
   },
   {
    "duration": 916,
    "start_time": "2022-03-09T11:22:36.474Z"
   },
   {
    "duration": 13,
    "start_time": "2022-03-09T11:22:37.392Z"
   },
   {
    "duration": 1093,
    "start_time": "2022-03-09T11:23:12.511Z"
   },
   {
    "duration": -831,
    "start_time": "2022-03-09T11:23:14.437Z"
   },
   {
    "duration": 61,
    "start_time": "2022-03-09T11:23:18.943Z"
   },
   {
    "duration": 5,
    "start_time": "2022-03-09T11:23:19.665Z"
   },
   {
    "duration": 70,
    "start_time": "2022-03-09T11:23:27.851Z"
   },
   {
    "duration": 14,
    "start_time": "2022-03-09T11:23:28.173Z"
   },
   {
    "duration": 12,
    "start_time": "2022-03-09T11:25:39.810Z"
   },
   {
    "duration": 281,
    "start_time": "2022-03-09T11:36:26.325Z"
   },
   {
    "duration": 49,
    "start_time": "2022-03-09T11:36:33.466Z"
   },
   {
    "duration": 13,
    "start_time": "2022-03-09T12:14:46.001Z"
   },
   {
    "duration": 1017,
    "start_time": "2022-03-09T12:15:09.908Z"
   },
   {
    "duration": 95,
    "start_time": "2022-03-09T16:21:47.980Z"
   },
   {
    "duration": 21,
    "start_time": "2022-03-09T16:22:09.590Z"
   },
   {
    "duration": 276,
    "start_time": "2022-03-09T16:22:23.670Z"
   },
   {
    "duration": 271,
    "start_time": "2022-03-09T16:22:26.140Z"
   },
   {
    "duration": 292,
    "start_time": "2022-03-09T16:22:30.593Z"
   },
   {
    "duration": 278,
    "start_time": "2022-03-09T16:24:08.244Z"
   },
   {
    "duration": 9,
    "start_time": "2022-03-09T16:24:23.280Z"
   },
   {
    "duration": 7,
    "start_time": "2022-03-09T16:24:45.563Z"
   },
   {
    "duration": 23,
    "start_time": "2022-03-09T16:25:08.155Z"
   },
   {
    "duration": 315,
    "start_time": "2022-03-09T16:26:44.660Z"
   },
   {
    "duration": 306,
    "start_time": "2022-03-09T16:26:50.888Z"
   },
   {
    "duration": 24,
    "start_time": "2022-03-09T16:27:46.861Z"
   },
   {
    "duration": 21,
    "start_time": "2022-03-09T16:27:57.856Z"
   },
   {
    "duration": 23,
    "start_time": "2022-03-09T16:28:22.776Z"
   },
   {
    "duration": 23,
    "start_time": "2022-03-09T16:28:27.044Z"
   },
   {
    "duration": 24,
    "start_time": "2022-03-09T16:29:06.636Z"
   },
   {
    "duration": 3,
    "start_time": "2022-03-09T16:30:29.218Z"
   },
   {
    "duration": 537,
    "start_time": "2022-03-09T16:31:13.673Z"
   },
   {
    "duration": 3,
    "start_time": "2022-03-09T16:31:21.695Z"
   },
   {
    "duration": 7211,
    "start_time": "2022-03-09T16:31:22.373Z"
   },
   {
    "duration": 2,
    "start_time": "2022-03-09T16:31:46.316Z"
   },
   {
    "duration": 4,
    "start_time": "2022-03-09T16:31:47.289Z"
   },
   {
    "duration": 24,
    "start_time": "2022-03-09T16:31:55.379Z"
   },
   {
    "duration": 21,
    "start_time": "2022-03-09T16:32:04.428Z"
   },
   {
    "duration": 23,
    "start_time": "2022-03-09T16:32:27.316Z"
   },
   {
    "duration": 21,
    "start_time": "2022-03-09T16:32:28.986Z"
   },
   {
    "duration": 3,
    "start_time": "2022-03-09T16:32:30.434Z"
   },
   {
    "duration": 5,
    "start_time": "2022-03-09T16:32:30.950Z"
   },
   {
    "duration": 23,
    "start_time": "2022-03-09T16:32:32.026Z"
   },
   {
    "duration": 23,
    "start_time": "2022-03-09T16:32:34.057Z"
   },
   {
    "duration": 28,
    "start_time": "2022-03-09T16:38:08.417Z"
   },
   {
    "duration": 24,
    "start_time": "2022-03-09T16:38:14.964Z"
   },
   {
    "duration": 669,
    "start_time": "2022-03-09T16:38:33.344Z"
   },
   {
    "duration": 89,
    "start_time": "2022-03-09T16:38:34.016Z"
   },
   {
    "duration": 12,
    "start_time": "2022-03-09T16:38:34.108Z"
   },
   {
    "duration": 1046,
    "start_time": "2022-03-09T16:38:34.122Z"
   },
   {
    "duration": 21,
    "start_time": "2022-03-09T16:38:35.170Z"
   },
   {
    "duration": 19,
    "start_time": "2022-03-09T16:38:35.193Z"
   },
   {
    "duration": 25,
    "start_time": "2022-03-09T16:38:35.214Z"
   },
   {
    "duration": 8,
    "start_time": "2022-03-09T16:53:30.114Z"
   },
   {
    "duration": 9,
    "start_time": "2022-03-09T16:54:26.962Z"
   },
   {
    "duration": 7,
    "start_time": "2022-03-09T16:54:37.775Z"
   },
   {
    "duration": 6,
    "start_time": "2022-03-09T17:02:27.900Z"
   },
   {
    "duration": 5,
    "start_time": "2022-03-09T17:03:34.843Z"
   },
   {
    "duration": 5,
    "start_time": "2022-03-09T17:07:40.944Z"
   },
   {
    "duration": 5,
    "start_time": "2022-03-09T17:07:45.922Z"
   },
   {
    "duration": 6,
    "start_time": "2022-03-09T17:13:58.245Z"
   },
   {
    "duration": 6,
    "start_time": "2022-03-09T17:18:32.312Z"
   },
   {
    "duration": 5,
    "start_time": "2022-03-09T17:18:47.713Z"
   },
   {
    "duration": 7,
    "start_time": "2022-03-09T17:18:53.125Z"
   },
   {
    "duration": 4,
    "start_time": "2022-03-09T17:21:48.238Z"
   },
   {
    "duration": 4,
    "start_time": "2022-03-09T17:21:55.378Z"
   },
   {
    "duration": 584,
    "start_time": "2022-03-09T17:22:04.113Z"
   },
   {
    "duration": 95,
    "start_time": "2022-03-09T17:22:04.699Z"
   },
   {
    "duration": 12,
    "start_time": "2022-03-09T17:22:04.796Z"
   },
   {
    "duration": 1022,
    "start_time": "2022-03-09T17:22:04.810Z"
   },
   {
    "duration": 9,
    "start_time": "2022-03-09T17:22:05.834Z"
   },
   {
    "duration": 9,
    "start_time": "2022-03-09T17:22:05.845Z"
   },
   {
    "duration": 23,
    "start_time": "2022-03-09T17:22:05.856Z"
   },
   {
    "duration": 5,
    "start_time": "2022-03-09T17:22:05.881Z"
   },
   {
    "duration": 8,
    "start_time": "2022-03-09T17:22:05.888Z"
   },
   {
    "duration": 316,
    "start_time": "2022-03-09T17:31:55.079Z"
   },
   {
    "duration": 10,
    "start_time": "2022-03-09T17:32:04.873Z"
   },
   {
    "duration": 6,
    "start_time": "2022-03-09T17:32:11.240Z"
   },
   {
    "duration": 7,
    "start_time": "2022-03-09T17:35:37.928Z"
   },
   {
    "duration": 4,
    "start_time": "2022-03-09T17:35:56.785Z"
   },
   {
    "duration": 7,
    "start_time": "2022-03-09T17:35:58.442Z"
   },
   {
    "duration": 5,
    "start_time": "2022-03-09T17:36:49.362Z"
   },
   {
    "duration": 5,
    "start_time": "2022-03-09T17:37:01.437Z"
   },
   {
    "duration": 5,
    "start_time": "2022-03-09T17:37:25.806Z"
   },
   {
    "duration": 5,
    "start_time": "2022-03-09T17:38:35.549Z"
   },
   {
    "duration": 7,
    "start_time": "2022-03-09T17:39:52.316Z"
   },
   {
    "duration": 5,
    "start_time": "2022-03-09T17:39:59.180Z"
   },
   {
    "duration": 7,
    "start_time": "2022-03-09T17:49:34.090Z"
   },
   {
    "duration": 6,
    "start_time": "2022-03-09T17:57:24.418Z"
   },
   {
    "duration": 7,
    "start_time": "2022-03-09T17:57:47.411Z"
   },
   {
    "duration": 5,
    "start_time": "2022-03-09T17:58:06.157Z"
   },
   {
    "duration": 5,
    "start_time": "2022-03-09T17:58:29.556Z"
   },
   {
    "duration": 6,
    "start_time": "2022-03-09T17:58:37.039Z"
   },
   {
    "duration": 257,
    "start_time": "2022-03-09T18:13:43.517Z"
   },
   {
    "duration": 262,
    "start_time": "2022-03-09T18:15:05.532Z"
   },
   {
    "duration": 4,
    "start_time": "2022-03-09T18:15:20.456Z"
   },
   {
    "duration": 267,
    "start_time": "2022-03-09T18:15:31.178Z"
   },
   {
    "duration": 9,
    "start_time": "2022-03-09T18:15:34.871Z"
   },
   {
    "duration": 8,
    "start_time": "2022-03-09T18:17:32.922Z"
   },
   {
    "duration": 7,
    "start_time": "2022-03-09T18:17:48.829Z"
   },
   {
    "duration": 7,
    "start_time": "2022-03-09T18:22:43.226Z"
   },
   {
    "duration": 6,
    "start_time": "2022-03-09T18:23:10.141Z"
   },
   {
    "duration": 6,
    "start_time": "2022-03-09T18:23:17.993Z"
   },
   {
    "duration": 5,
    "start_time": "2022-03-09T18:23:38.222Z"
   },
   {
    "duration": 836,
    "start_time": "2022-03-10T10:42:52.716Z"
   },
   {
    "duration": 84,
    "start_time": "2022-03-10T10:42:53.555Z"
   },
   {
    "duration": 18,
    "start_time": "2022-03-10T10:42:53.643Z"
   },
   {
    "duration": 1718,
    "start_time": "2022-03-10T10:42:53.675Z"
   },
   {
    "duration": 8,
    "start_time": "2022-03-10T10:42:55.396Z"
   },
   {
    "duration": 7,
    "start_time": "2022-03-10T10:42:55.407Z"
   },
   {
    "duration": 9,
    "start_time": "2022-03-10T10:42:55.417Z"
   },
   {
    "duration": 47,
    "start_time": "2022-03-10T10:42:55.429Z"
   },
   {
    "duration": 9,
    "start_time": "2022-03-10T10:42:55.481Z"
   },
   {
    "duration": 8,
    "start_time": "2022-03-10T10:42:55.494Z"
   },
   {
    "duration": 13,
    "start_time": "2022-03-10T10:42:55.505Z"
   },
   {
    "duration": 15,
    "start_time": "2022-03-10T10:42:55.521Z"
   },
   {
    "duration": 38,
    "start_time": "2022-03-10T10:42:55.538Z"
   },
   {
    "duration": 9,
    "start_time": "2022-03-10T10:42:55.579Z"
   },
   {
    "duration": 9,
    "start_time": "2022-03-10T10:42:55.590Z"
   },
   {
    "duration": 9,
    "start_time": "2022-03-10T10:42:55.602Z"
   },
   {
    "duration": 23,
    "start_time": "2022-03-10T10:42:55.614Z"
   },
   {
    "duration": 43,
    "start_time": "2022-03-10T10:42:55.640Z"
   },
   {
    "duration": 10,
    "start_time": "2022-03-10T10:42:55.686Z"
   },
   {
    "duration": 6,
    "start_time": "2022-03-10T10:42:55.698Z"
   },
   {
    "duration": 10,
    "start_time": "2022-03-10T10:42:55.707Z"
   },
   {
    "duration": 55,
    "start_time": "2022-03-10T10:42:55.720Z"
   },
   {
    "duration": 12,
    "start_time": "2022-03-10T10:42:55.778Z"
   },
   {
    "duration": 16,
    "start_time": "2022-03-10T10:42:55.793Z"
   },
   {
    "duration": 9,
    "start_time": "2022-03-10T10:42:55.812Z"
   },
   {
    "duration": 14,
    "start_time": "2022-03-10T10:42:55.824Z"
   },
   {
    "duration": 7,
    "start_time": "2022-03-10T10:43:25.216Z"
   },
   {
    "duration": 7,
    "start_time": "2022-03-10T10:43:32.917Z"
   },
   {
    "duration": 727,
    "start_time": "2022-03-10T10:43:41.398Z"
   },
   {
    "duration": 81,
    "start_time": "2022-03-10T10:43:42.128Z"
   },
   {
    "duration": 17,
    "start_time": "2022-03-10T10:43:42.212Z"
   },
   {
    "duration": 1636,
    "start_time": "2022-03-10T10:43:42.231Z"
   },
   {
    "duration": 8,
    "start_time": "2022-03-10T10:43:43.873Z"
   },
   {
    "duration": 7,
    "start_time": "2022-03-10T10:43:43.883Z"
   },
   {
    "duration": 9,
    "start_time": "2022-03-10T10:43:43.893Z"
   },
   {
    "duration": 6,
    "start_time": "2022-03-10T10:43:43.905Z"
   },
   {
    "duration": 10,
    "start_time": "2022-03-10T10:43:43.916Z"
   },
   {
    "duration": 20,
    "start_time": "2022-03-10T10:43:43.975Z"
   },
   {
    "duration": 9,
    "start_time": "2022-03-10T10:43:43.998Z"
   },
   {
    "duration": 7,
    "start_time": "2022-03-10T10:43:44.009Z"
   },
   {
    "duration": 12,
    "start_time": "2022-03-10T10:43:44.018Z"
   },
   {
    "duration": 42,
    "start_time": "2022-03-10T10:43:44.032Z"
   },
   {
    "duration": 10,
    "start_time": "2022-03-10T10:43:44.077Z"
   },
   {
    "duration": 12,
    "start_time": "2022-03-10T10:43:44.090Z"
   },
   {
    "duration": 8,
    "start_time": "2022-03-10T10:43:44.105Z"
   },
   {
    "duration": 8,
    "start_time": "2022-03-10T10:43:44.116Z"
   },
   {
    "duration": 8,
    "start_time": "2022-03-10T10:43:44.174Z"
   },
   {
    "duration": 11,
    "start_time": "2022-03-10T10:43:44.185Z"
   },
   {
    "duration": 13,
    "start_time": "2022-03-10T10:43:44.199Z"
   },
   {
    "duration": 12,
    "start_time": "2022-03-10T10:43:44.214Z"
   },
   {
    "duration": 43,
    "start_time": "2022-03-10T10:43:44.229Z"
   },
   {
    "duration": 11,
    "start_time": "2022-03-10T10:43:44.275Z"
   },
   {
    "duration": 110,
    "start_time": "2022-03-10T11:11:18.039Z"
   },
   {
    "duration": 524,
    "start_time": "2022-03-10T12:33:49.027Z"
   },
   {
    "duration": 369,
    "start_time": "2022-03-10T12:34:25.440Z"
   },
   {
    "duration": 624,
    "start_time": "2022-03-10T12:34:34.626Z"
   },
   {
    "duration": 354,
    "start_time": "2022-03-10T12:34:42.859Z"
   },
   {
    "duration": 10,
    "start_time": "2022-03-10T12:35:06.996Z"
   },
   {
    "duration": 16,
    "start_time": "2022-03-10T12:35:35.186Z"
   },
   {
    "duration": 52,
    "start_time": "2022-03-10T12:36:01.233Z"
   },
   {
    "duration": 516,
    "start_time": "2022-03-10T12:40:03.287Z"
   },
   {
    "duration": 10,
    "start_time": "2022-03-10T12:40:15.653Z"
   },
   {
    "duration": 297,
    "start_time": "2022-03-10T12:40:28.261Z"
   },
   {
    "duration": 582,
    "start_time": "2022-03-10T12:42:13.792Z"
   },
   {
    "duration": 243,
    "start_time": "2022-03-10T12:44:33.719Z"
   },
   {
    "duration": 304,
    "start_time": "2022-03-10T12:46:53.893Z"
   },
   {
    "duration": 316,
    "start_time": "2022-03-10T12:47:02.129Z"
   },
   {
    "duration": 238,
    "start_time": "2022-03-10T12:47:46.354Z"
   },
   {
    "duration": 278,
    "start_time": "2022-03-10T12:47:55.572Z"
   },
   {
    "duration": 217,
    "start_time": "2022-03-10T12:48:05.802Z"
   },
   {
    "duration": 10,
    "start_time": "2022-03-10T12:52:24.328Z"
   },
   {
    "duration": 12,
    "start_time": "2022-03-10T12:52:46.551Z"
   },
   {
    "duration": 535,
    "start_time": "2022-03-10T12:57:05.647Z"
   },
   {
    "duration": 374,
    "start_time": "2022-03-10T12:57:11.195Z"
   },
   {
    "duration": 375,
    "start_time": "2022-03-10T12:57:19.230Z"
   },
   {
    "duration": 520,
    "start_time": "2022-03-10T12:57:23.183Z"
   },
   {
    "duration": 600,
    "start_time": "2022-03-10T12:57:26.859Z"
   },
   {
    "duration": 220,
    "start_time": "2022-03-10T12:58:19.428Z"
   },
   {
    "duration": 281,
    "start_time": "2022-03-10T12:58:23.055Z"
   },
   {
    "duration": 12,
    "start_time": "2022-03-10T13:01:43.972Z"
   },
   {
    "duration": 9,
    "start_time": "2022-03-10T13:02:00.344Z"
   },
   {
    "duration": 8,
    "start_time": "2022-03-10T13:02:50.455Z"
   },
   {
    "duration": 8,
    "start_time": "2022-03-10T13:02:54.808Z"
   },
   {
    "duration": 13,
    "start_time": "2022-03-10T13:02:58.319Z"
   },
   {
    "duration": 9,
    "start_time": "2022-03-10T13:03:03.150Z"
   },
   {
    "duration": 14,
    "start_time": "2022-03-10T13:06:11.854Z"
   },
   {
    "duration": 8,
    "start_time": "2022-03-10T13:06:19.612Z"
   },
   {
    "duration": 400,
    "start_time": "2022-03-10T13:08:09.180Z"
   },
   {
    "duration": 394,
    "start_time": "2022-03-10T13:08:40.480Z"
   },
   {
    "duration": 8,
    "start_time": "2022-03-10T13:08:49.981Z"
   },
   {
    "duration": 12,
    "start_time": "2022-03-10T13:09:23.710Z"
   },
   {
    "duration": 891,
    "start_time": "2022-03-10T13:09:31.934Z"
   },
   {
    "duration": 90,
    "start_time": "2022-03-10T13:09:32.829Z"
   },
   {
    "duration": 18,
    "start_time": "2022-03-10T13:09:32.926Z"
   },
   {
    "duration": 1687,
    "start_time": "2022-03-10T13:09:32.948Z"
   },
   {
    "duration": 171,
    "start_time": "2022-03-10T13:09:34.638Z"
   },
   {
    "duration": 11,
    "start_time": "2022-03-10T13:09:34.812Z"
   },
   {
    "duration": 9,
    "start_time": "2022-03-10T13:09:34.826Z"
   },
   {
    "duration": 8,
    "start_time": "2022-03-10T13:09:34.872Z"
   },
   {
    "duration": 10,
    "start_time": "2022-03-10T13:09:34.884Z"
   },
   {
    "duration": 10,
    "start_time": "2022-03-10T13:09:34.896Z"
   },
   {
    "duration": 12,
    "start_time": "2022-03-10T13:09:34.908Z"
   },
   {
    "duration": 52,
    "start_time": "2022-03-10T13:09:34.923Z"
   },
   {
    "duration": 8,
    "start_time": "2022-03-10T13:09:34.977Z"
   },
   {
    "duration": 12,
    "start_time": "2022-03-10T13:09:34.987Z"
   },
   {
    "duration": 5,
    "start_time": "2022-03-10T13:09:35.002Z"
   },
   {
    "duration": 10,
    "start_time": "2022-03-10T13:09:35.010Z"
   },
   {
    "duration": 55,
    "start_time": "2022-03-10T13:09:35.023Z"
   },
   {
    "duration": 8,
    "start_time": "2022-03-10T13:09:35.081Z"
   },
   {
    "duration": 14,
    "start_time": "2022-03-10T13:09:35.092Z"
   },
   {
    "duration": 14,
    "start_time": "2022-03-10T13:09:35.108Z"
   },
   {
    "duration": 54,
    "start_time": "2022-03-10T13:09:35.124Z"
   },
   {
    "duration": 15,
    "start_time": "2022-03-10T13:09:35.180Z"
   },
   {
    "duration": 9,
    "start_time": "2022-03-10T13:09:35.198Z"
   },
   {
    "duration": 8,
    "start_time": "2022-03-10T13:09:35.210Z"
   },
   {
    "duration": 12,
    "start_time": "2022-03-10T13:09:35.221Z"
   },
   {
    "duration": 441,
    "start_time": "2022-03-10T13:09:35.274Z"
   },
   {
    "duration": 236,
    "start_time": "2022-03-10T13:09:35.718Z"
   },
   {
    "duration": 26,
    "start_time": "2022-03-10T13:09:35.957Z"
   },
   {
    "duration": 12,
    "start_time": "2022-03-10T13:09:35.986Z"
   },
   {
    "duration": 16,
    "start_time": "2022-03-10T13:09:36.001Z"
   },
   {
    "duration": 4,
    "start_time": "2022-03-10T13:09:36.020Z"
   },
   {
    "duration": 48,
    "start_time": "2022-03-10T13:09:36.027Z"
   },
   {
    "duration": 8,
    "start_time": "2022-03-10T13:09:47.224Z"
   },
   {
    "duration": 8,
    "start_time": "2022-03-10T13:09:49.361Z"
   },
   {
    "duration": 12,
    "start_time": "2022-03-10T13:09:58.224Z"
   },
   {
    "duration": 502,
    "start_time": "2022-03-10T13:10:05.473Z"
   },
   {
    "duration": 8,
    "start_time": "2022-03-10T13:10:06.460Z"
   },
   {
    "duration": 11,
    "start_time": "2022-03-10T13:10:06.963Z"
   },
   {
    "duration": 225,
    "start_time": "2022-03-10T13:10:36.577Z"
   },
   {
    "duration": 378,
    "start_time": "2022-03-10T13:15:29.930Z"
   },
   {
    "duration": 349,
    "start_time": "2022-03-10T13:15:40.086Z"
   },
   {
    "duration": 360,
    "start_time": "2022-03-10T13:15:48.274Z"
   },
   {
    "duration": 383,
    "start_time": "2022-03-10T13:15:53.011Z"
   },
   {
    "duration": 535,
    "start_time": "2022-03-10T13:16:12.375Z"
   },
   {
    "duration": 530,
    "start_time": "2022-03-10T13:16:21.359Z"
   },
   {
    "duration": 520,
    "start_time": "2022-03-10T13:16:27.956Z"
   },
   {
    "duration": 491,
    "start_time": "2022-03-10T13:17:15.818Z"
   },
   {
    "duration": 9,
    "start_time": "2022-03-10T13:21:02.407Z"
   },
   {
    "duration": 10,
    "start_time": "2022-03-10T13:21:55.328Z"
   },
   {
    "duration": 8,
    "start_time": "2022-03-10T13:22:05.390Z"
   },
   {
    "duration": 14,
    "start_time": "2022-03-10T13:22:45.722Z"
   },
   {
    "duration": 9,
    "start_time": "2022-03-10T13:22:56.045Z"
   },
   {
    "duration": 8,
    "start_time": "2022-03-10T13:22:58.464Z"
   },
   {
    "duration": 9,
    "start_time": "2022-03-10T13:23:01.825Z"
   },
   {
    "duration": 8,
    "start_time": "2022-03-10T13:23:34.379Z"
   },
   {
    "duration": 8,
    "start_time": "2022-03-10T13:26:32.648Z"
   },
   {
    "duration": 9,
    "start_time": "2022-03-10T13:26:35.938Z"
   },
   {
    "duration": 8,
    "start_time": "2022-03-10T13:26:38.500Z"
   },
   {
    "duration": 104,
    "start_time": "2022-03-10T13:27:25.954Z"
   },
   {
    "duration": 20,
    "start_time": "2022-03-10T13:27:54.591Z"
   },
   {
    "duration": 7,
    "start_time": "2022-03-10T13:32:56.151Z"
   },
   {
    "duration": 7,
    "start_time": "2022-03-10T13:33:02.352Z"
   },
   {
    "duration": 13,
    "start_time": "2022-03-10T13:33:09.666Z"
   },
   {
    "duration": 10,
    "start_time": "2022-03-10T13:33:32.359Z"
   },
   {
    "duration": 9,
    "start_time": "2022-03-10T13:35:42.238Z"
   },
   {
    "duration": 9,
    "start_time": "2022-03-10T13:35:48.045Z"
   },
   {
    "duration": 13,
    "start_time": "2022-03-10T13:36:05.651Z"
   },
   {
    "duration": 6,
    "start_time": "2022-03-10T13:39:14.268Z"
   },
   {
    "duration": 8,
    "start_time": "2022-03-10T13:39:19.100Z"
   },
   {
    "duration": 12,
    "start_time": "2022-03-10T13:39:37.910Z"
   },
   {
    "duration": 5,
    "start_time": "2022-03-10T13:40:37.734Z"
   },
   {
    "duration": 8,
    "start_time": "2022-03-10T13:40:44.148Z"
   },
   {
    "duration": 404,
    "start_time": "2022-03-10T13:40:55.443Z"
   },
   {
    "duration": 294,
    "start_time": "2022-03-10T13:41:00.146Z"
   },
   {
    "duration": 11,
    "start_time": "2022-03-10T13:41:33.025Z"
   },
   {
    "duration": 16,
    "start_time": "2022-03-10T13:47:39.745Z"
   },
   {
    "duration": 8,
    "start_time": "2022-03-10T13:49:42.178Z"
   },
   {
    "duration": 9,
    "start_time": "2022-03-10T13:49:43.013Z"
   },
   {
    "duration": 7,
    "start_time": "2022-03-10T13:49:43.776Z"
   },
   {
    "duration": 296,
    "start_time": "2022-03-10T13:49:51.714Z"
   },
   {
    "duration": 1726,
    "start_time": "2022-03-10T13:49:55.796Z"
   },
   {
    "duration": 7,
    "start_time": "2022-03-10T13:50:09.401Z"
   },
   {
    "duration": 7,
    "start_time": "2022-03-10T13:50:10.159Z"
   },
   {
    "duration": 8,
    "start_time": "2022-03-10T13:50:10.950Z"
   },
   {
    "duration": 1831,
    "start_time": "2022-03-10T13:50:11.600Z"
   },
   {
    "duration": 5,
    "start_time": "2022-03-10T13:54:25.714Z"
   },
   {
    "duration": 1123,
    "start_time": "2022-03-10T13:56:20.646Z"
   },
   {
    "duration": 716,
    "start_time": "2022-03-10T13:57:06.319Z"
   },
   {
    "duration": 4,
    "start_time": "2022-03-10T13:57:12.767Z"
   },
   {
    "duration": 802,
    "start_time": "2022-03-10T13:57:14.780Z"
   },
   {
    "duration": 11,
    "start_time": "2022-03-10T13:57:30.449Z"
   },
   {
    "duration": 7,
    "start_time": "2022-03-10T13:58:07.650Z"
   },
   {
    "duration": 14,
    "start_time": "2022-03-10T13:58:14.099Z"
   },
   {
    "duration": 6,
    "start_time": "2022-03-10T14:01:32.221Z"
   },
   {
    "duration": 5,
    "start_time": "2022-03-10T14:02:00.659Z"
   },
   {
    "duration": 1867,
    "start_time": "2022-03-10T14:02:13.412Z"
   },
   {
    "duration": 883,
    "start_time": "2022-03-10T14:09:25.894Z"
   },
   {
    "duration": 85,
    "start_time": "2022-03-10T14:09:26.780Z"
   },
   {
    "duration": 20,
    "start_time": "2022-03-10T14:09:26.874Z"
   },
   {
    "duration": 6,
    "start_time": "2022-03-10T14:09:26.897Z"
   },
   {
    "duration": 1799,
    "start_time": "2022-03-10T14:09:26.906Z"
   },
   {
    "duration": 171,
    "start_time": "2022-03-10T14:09:28.708Z"
   },
   {
    "duration": 11,
    "start_time": "2022-03-10T14:09:28.882Z"
   },
   {
    "duration": 7,
    "start_time": "2022-03-10T14:09:28.895Z"
   },
   {
    "duration": 10,
    "start_time": "2022-03-10T14:09:28.906Z"
   },
   {
    "duration": 6,
    "start_time": "2022-03-10T14:09:28.919Z"
   },
   {
    "duration": 8,
    "start_time": "2022-03-10T14:09:28.973Z"
   },
   {
    "duration": 21,
    "start_time": "2022-03-10T14:09:28.984Z"
   },
   {
    "duration": 9,
    "start_time": "2022-03-10T14:09:29.008Z"
   },
   {
    "duration": 7,
    "start_time": "2022-03-10T14:09:29.019Z"
   },
   {
    "duration": 11,
    "start_time": "2022-03-10T14:09:29.029Z"
   },
   {
    "duration": 5,
    "start_time": "2022-03-10T14:09:29.073Z"
   },
   {
    "duration": 13,
    "start_time": "2022-03-10T14:09:29.082Z"
   },
   {
    "duration": 11,
    "start_time": "2022-03-10T14:09:29.098Z"
   },
   {
    "duration": 8,
    "start_time": "2022-03-10T14:09:29.112Z"
   },
   {
    "duration": 54,
    "start_time": "2022-03-10T14:09:29.123Z"
   },
   {
    "duration": 11,
    "start_time": "2022-03-10T14:09:29.180Z"
   },
   {
    "duration": 20,
    "start_time": "2022-03-10T14:09:29.194Z"
   },
   {
    "duration": 19,
    "start_time": "2022-03-10T14:09:29.217Z"
   },
   {
    "duration": 15,
    "start_time": "2022-03-10T14:09:29.239Z"
   },
   {
    "duration": 7,
    "start_time": "2022-03-10T14:09:29.274Z"
   },
   {
    "duration": 14,
    "start_time": "2022-03-10T14:09:29.283Z"
   },
   {
    "duration": 13,
    "start_time": "2022-03-10T14:09:29.303Z"
   },
   {
    "duration": 10,
    "start_time": "2022-03-10T14:09:29.319Z"
   },
   {
    "duration": 423,
    "start_time": "2022-03-10T14:09:29.331Z"
   },
   {
    "duration": 8,
    "start_time": "2022-03-10T14:09:29.757Z"
   },
   {
    "duration": 12,
    "start_time": "2022-03-10T14:09:29.774Z"
   },
   {
    "duration": 7,
    "start_time": "2022-03-10T14:09:29.789Z"
   },
   {
    "duration": 8,
    "start_time": "2022-03-10T14:09:29.799Z"
   },
   {
    "duration": 10,
    "start_time": "2022-03-10T14:09:29.809Z"
   },
   {
    "duration": 52,
    "start_time": "2022-03-10T14:09:29.821Z"
   },
   {
    "duration": 7,
    "start_time": "2022-03-10T14:09:29.875Z"
   },
   {
    "duration": 12,
    "start_time": "2022-03-10T14:09:29.884Z"
   },
   {
    "duration": 4,
    "start_time": "2022-03-10T14:09:29.898Z"
   },
   {
    "duration": 11,
    "start_time": "2022-03-10T14:09:29.905Z"
   },
   {
    "duration": 10,
    "start_time": "2022-03-10T14:09:29.918Z"
   },
   {
    "duration": 8,
    "start_time": "2022-03-10T14:09:29.974Z"
   },
   {
    "duration": 5,
    "start_time": "2022-03-10T14:09:29.984Z"
   },
   {
    "duration": 882,
    "start_time": "2022-03-10T14:09:29.991Z"
   },
   {
    "duration": 9,
    "start_time": "2022-03-10T14:09:30.876Z"
   },
   {
    "duration": 9,
    "start_time": "2022-03-10T14:09:30.888Z"
   },
   {
    "duration": 9,
    "start_time": "2022-03-10T14:09:30.900Z"
   },
   {
    "duration": 1747,
    "start_time": "2022-03-10T14:09:30.912Z"
   },
   {
    "duration": 862,
    "start_time": "2022-03-20T20:34:08.807Z"
   },
   {
    "duration": 160,
    "start_time": "2022-03-20T20:34:09.671Z"
   },
   {
    "duration": 0,
    "start_time": "2022-03-20T20:34:09.836Z"
   },
   {
    "duration": 0,
    "start_time": "2022-03-20T20:34:09.838Z"
   },
   {
    "duration": 0,
    "start_time": "2022-03-20T20:34:09.839Z"
   },
   {
    "duration": 0,
    "start_time": "2022-03-20T20:34:09.840Z"
   },
   {
    "duration": 0,
    "start_time": "2022-03-20T20:34:09.842Z"
   },
   {
    "duration": 0,
    "start_time": "2022-03-20T20:34:09.843Z"
   },
   {
    "duration": 0,
    "start_time": "2022-03-20T20:34:09.845Z"
   },
   {
    "duration": 0,
    "start_time": "2022-03-20T20:34:09.846Z"
   },
   {
    "duration": 0,
    "start_time": "2022-03-20T20:34:09.848Z"
   },
   {
    "duration": 0,
    "start_time": "2022-03-20T20:34:09.849Z"
   },
   {
    "duration": 0,
    "start_time": "2022-03-20T20:34:09.851Z"
   },
   {
    "duration": 0,
    "start_time": "2022-03-20T20:34:09.852Z"
   },
   {
    "duration": 0,
    "start_time": "2022-03-20T20:34:09.853Z"
   },
   {
    "duration": 0,
    "start_time": "2022-03-20T20:34:09.855Z"
   },
   {
    "duration": 0,
    "start_time": "2022-03-20T20:34:09.856Z"
   },
   {
    "duration": 0,
    "start_time": "2022-03-20T20:34:09.857Z"
   },
   {
    "duration": 0,
    "start_time": "2022-03-20T20:34:09.859Z"
   },
   {
    "duration": 0,
    "start_time": "2022-03-20T20:34:09.861Z"
   },
   {
    "duration": 0,
    "start_time": "2022-03-20T20:34:09.862Z"
   },
   {
    "duration": 0,
    "start_time": "2022-03-20T20:34:09.863Z"
   },
   {
    "duration": 0,
    "start_time": "2022-03-20T20:34:09.865Z"
   },
   {
    "duration": 0,
    "start_time": "2022-03-20T20:34:09.866Z"
   },
   {
    "duration": 1,
    "start_time": "2022-03-20T20:34:09.867Z"
   },
   {
    "duration": 0,
    "start_time": "2022-03-20T20:34:09.869Z"
   },
   {
    "duration": 0,
    "start_time": "2022-03-20T20:34:09.870Z"
   },
   {
    "duration": 0,
    "start_time": "2022-03-20T20:34:09.871Z"
   },
   {
    "duration": 0,
    "start_time": "2022-03-20T20:34:09.872Z"
   },
   {
    "duration": 0,
    "start_time": "2022-03-20T20:34:09.933Z"
   },
   {
    "duration": 0,
    "start_time": "2022-03-20T20:34:09.935Z"
   },
   {
    "duration": 0,
    "start_time": "2022-03-20T20:34:09.937Z"
   },
   {
    "duration": 0,
    "start_time": "2022-03-20T20:34:09.938Z"
   },
   {
    "duration": 0,
    "start_time": "2022-03-20T20:34:09.940Z"
   },
   {
    "duration": 0,
    "start_time": "2022-03-20T20:34:09.942Z"
   },
   {
    "duration": 0,
    "start_time": "2022-03-20T20:34:09.943Z"
   },
   {
    "duration": 0,
    "start_time": "2022-03-20T20:34:09.944Z"
   },
   {
    "duration": 0,
    "start_time": "2022-03-20T20:34:09.945Z"
   },
   {
    "duration": 0,
    "start_time": "2022-03-20T20:34:09.946Z"
   },
   {
    "duration": 0,
    "start_time": "2022-03-20T20:34:09.947Z"
   },
   {
    "duration": 0,
    "start_time": "2022-03-20T20:34:09.948Z"
   },
   {
    "duration": 0,
    "start_time": "2022-03-20T20:34:09.950Z"
   },
   {
    "duration": 0,
    "start_time": "2022-03-20T20:34:09.950Z"
   },
   {
    "duration": 0,
    "start_time": "2022-03-20T20:34:09.951Z"
   },
   {
    "duration": 0,
    "start_time": "2022-03-20T20:34:09.952Z"
   },
   {
    "duration": 0,
    "start_time": "2022-03-20T20:34:09.953Z"
   },
   {
    "duration": 0,
    "start_time": "2022-03-20T20:34:09.953Z"
   },
   {
    "duration": 0,
    "start_time": "2022-03-20T20:34:09.960Z"
   },
   {
    "duration": 0,
    "start_time": "2022-03-20T20:34:09.961Z"
   },
   {
    "duration": 0,
    "start_time": "2022-03-20T20:34:09.962Z"
   },
   {
    "duration": 0,
    "start_time": "2022-03-20T20:34:09.965Z"
   },
   {
    "duration": 0,
    "start_time": "2022-03-20T20:34:09.966Z"
   },
   {
    "duration": 0,
    "start_time": "2022-03-20T20:34:09.967Z"
   },
   {
    "duration": 0,
    "start_time": "2022-03-20T20:34:09.968Z"
   },
   {
    "duration": 0,
    "start_time": "2022-03-20T20:34:09.970Z"
   },
   {
    "duration": 1,
    "start_time": "2022-03-20T20:34:09.970Z"
   },
   {
    "duration": 0,
    "start_time": "2022-03-20T20:34:09.972Z"
   },
   {
    "duration": 0,
    "start_time": "2022-03-20T20:34:09.973Z"
   },
   {
    "duration": 0,
    "start_time": "2022-03-20T20:34:09.974Z"
   },
   {
    "duration": 0,
    "start_time": "2022-03-20T20:34:09.975Z"
   },
   {
    "duration": 0,
    "start_time": "2022-03-20T20:34:10.032Z"
   },
   {
    "duration": 0,
    "start_time": "2022-03-20T20:34:10.034Z"
   },
   {
    "duration": 0,
    "start_time": "2022-03-20T20:34:10.035Z"
   },
   {
    "duration": 0,
    "start_time": "2022-03-20T20:34:10.036Z"
   },
   {
    "duration": 0,
    "start_time": "2022-03-20T20:34:10.038Z"
   },
   {
    "duration": 0,
    "start_time": "2022-03-20T20:34:10.039Z"
   },
   {
    "duration": 0,
    "start_time": "2022-03-20T20:34:10.039Z"
   },
   {
    "duration": 0,
    "start_time": "2022-03-20T20:34:10.040Z"
   },
   {
    "duration": 0,
    "start_time": "2022-03-20T20:34:10.041Z"
   },
   {
    "duration": 0,
    "start_time": "2022-03-20T20:34:10.042Z"
   },
   {
    "duration": 0,
    "start_time": "2022-03-20T20:34:10.043Z"
   },
   {
    "duration": 0,
    "start_time": "2022-03-20T20:34:10.044Z"
   },
   {
    "duration": 0,
    "start_time": "2022-03-20T20:34:10.046Z"
   },
   {
    "duration": 0,
    "start_time": "2022-03-20T20:34:10.047Z"
   },
   {
    "duration": 0,
    "start_time": "2022-03-20T20:34:10.048Z"
   },
   {
    "duration": 0,
    "start_time": "2022-03-20T20:34:10.049Z"
   },
   {
    "duration": 0,
    "start_time": "2022-03-20T20:34:10.050Z"
   },
   {
    "duration": 0,
    "start_time": "2022-03-20T20:34:10.051Z"
   },
   {
    "duration": 0,
    "start_time": "2022-03-20T20:34:10.052Z"
   },
   {
    "duration": 0,
    "start_time": "2022-03-20T20:34:10.053Z"
   },
   {
    "duration": 0,
    "start_time": "2022-03-20T20:34:10.054Z"
   },
   {
    "duration": 0,
    "start_time": "2022-03-20T20:34:10.054Z"
   },
   {
    "duration": 0,
    "start_time": "2022-03-20T20:34:10.055Z"
   },
   {
    "duration": 0,
    "start_time": "2022-03-20T20:34:10.057Z"
   },
   {
    "duration": 0,
    "start_time": "2022-03-20T20:34:10.058Z"
   },
   {
    "duration": 0,
    "start_time": "2022-03-20T20:34:10.059Z"
   },
   {
    "duration": 0,
    "start_time": "2022-03-20T20:34:10.060Z"
   },
   {
    "duration": 0,
    "start_time": "2022-03-20T20:34:10.061Z"
   },
   {
    "duration": 0,
    "start_time": "2022-03-20T20:34:10.062Z"
   },
   {
    "duration": 0,
    "start_time": "2022-03-20T20:34:10.063Z"
   },
   {
    "duration": 0,
    "start_time": "2022-03-20T20:34:10.064Z"
   },
   {
    "duration": 0,
    "start_time": "2022-03-20T20:34:10.065Z"
   },
   {
    "duration": 0,
    "start_time": "2022-03-20T20:34:10.066Z"
   },
   {
    "duration": 0,
    "start_time": "2022-03-20T20:34:10.066Z"
   },
   {
    "duration": 0,
    "start_time": "2022-03-20T20:34:10.067Z"
   },
   {
    "duration": 0,
    "start_time": "2022-03-20T20:34:10.068Z"
   },
   {
    "duration": 0,
    "start_time": "2022-03-20T20:34:10.069Z"
   },
   {
    "duration": 0,
    "start_time": "2022-03-20T20:34:10.070Z"
   },
   {
    "duration": 0,
    "start_time": "2022-03-20T20:34:10.071Z"
   },
   {
    "duration": 0,
    "start_time": "2022-03-20T20:34:10.132Z"
   },
   {
    "duration": 0,
    "start_time": "2022-03-20T20:34:10.134Z"
   },
   {
    "duration": 0,
    "start_time": "2022-03-20T20:34:10.135Z"
   },
   {
    "duration": 0,
    "start_time": "2022-03-20T20:34:10.136Z"
   },
   {
    "duration": 660,
    "start_time": "2022-03-20T20:34:41.354Z"
   },
   {
    "duration": 79,
    "start_time": "2022-03-20T20:34:42.015Z"
   },
   {
    "duration": 15,
    "start_time": "2022-03-20T20:34:42.096Z"
   },
   {
    "duration": 4,
    "start_time": "2022-03-20T20:34:42.113Z"
   },
   {
    "duration": 1038,
    "start_time": "2022-03-20T20:34:42.133Z"
   },
   {
    "duration": 99,
    "start_time": "2022-03-20T20:34:43.173Z"
   },
   {
    "duration": 7,
    "start_time": "2022-03-20T20:34:43.273Z"
   },
   {
    "duration": 6,
    "start_time": "2022-03-20T20:34:43.281Z"
   },
   {
    "duration": 5,
    "start_time": "2022-03-20T20:34:43.289Z"
   },
   {
    "duration": 5,
    "start_time": "2022-03-20T20:34:43.296Z"
   },
   {
    "duration": 35,
    "start_time": "2022-03-20T20:34:43.302Z"
   },
   {
    "duration": 11,
    "start_time": "2022-03-20T20:34:43.339Z"
   },
   {
    "duration": 6,
    "start_time": "2022-03-20T20:34:43.352Z"
   },
   {
    "duration": 5,
    "start_time": "2022-03-20T20:34:43.360Z"
   },
   {
    "duration": 5,
    "start_time": "2022-03-20T20:34:43.366Z"
   },
   {
    "duration": 4,
    "start_time": "2022-03-20T20:34:43.373Z"
   },
   {
    "duration": 8,
    "start_time": "2022-03-20T20:34:43.379Z"
   },
   {
    "duration": 7,
    "start_time": "2022-03-20T20:34:43.389Z"
   },
   {
    "duration": 38,
    "start_time": "2022-03-20T20:34:43.398Z"
   },
   {
    "duration": 8,
    "start_time": "2022-03-20T20:34:43.437Z"
   },
   {
    "duration": 8,
    "start_time": "2022-03-20T20:34:43.447Z"
   },
   {
    "duration": 10,
    "start_time": "2022-03-20T20:34:43.456Z"
   },
   {
    "duration": 9,
    "start_time": "2022-03-20T20:34:43.468Z"
   },
   {
    "duration": 6,
    "start_time": "2022-03-20T20:34:43.478Z"
   },
   {
    "duration": 8,
    "start_time": "2022-03-20T20:34:43.486Z"
   },
   {
    "duration": 40,
    "start_time": "2022-03-20T20:34:43.496Z"
   },
   {
    "duration": 8,
    "start_time": "2022-03-20T20:34:43.538Z"
   },
   {
    "duration": 7,
    "start_time": "2022-03-20T20:34:43.550Z"
   },
   {
    "duration": 135,
    "start_time": "2022-03-20T20:34:43.559Z"
   },
   {
    "duration": 5,
    "start_time": "2022-03-20T20:34:43.696Z"
   },
   {
    "duration": 12,
    "start_time": "2022-03-20T20:34:43.702Z"
   },
   {
    "duration": 23,
    "start_time": "2022-03-20T20:34:43.715Z"
   },
   {
    "duration": 6,
    "start_time": "2022-03-20T20:34:43.740Z"
   },
   {
    "duration": 4,
    "start_time": "2022-03-20T20:34:43.748Z"
   },
   {
    "duration": 5,
    "start_time": "2022-03-20T20:34:43.754Z"
   },
   {
    "duration": 5,
    "start_time": "2022-03-20T20:34:43.761Z"
   },
   {
    "duration": 7,
    "start_time": "2022-03-20T20:34:43.767Z"
   },
   {
    "duration": 6,
    "start_time": "2022-03-20T20:34:43.775Z"
   },
   {
    "duration": 8,
    "start_time": "2022-03-20T20:34:43.782Z"
   },
   {
    "duration": 40,
    "start_time": "2022-03-20T20:34:43.792Z"
   },
   {
    "duration": 6,
    "start_time": "2022-03-20T20:34:43.834Z"
   },
   {
    "duration": 4,
    "start_time": "2022-03-20T20:34:43.841Z"
   },
   {
    "duration": 278,
    "start_time": "2022-03-20T20:34:43.847Z"
   },
   {
    "duration": 11,
    "start_time": "2022-03-20T20:34:44.127Z"
   },
   {
    "duration": 16,
    "start_time": "2022-03-20T20:34:44.139Z"
   },
   {
    "duration": 4,
    "start_time": "2022-03-20T20:34:44.157Z"
   },
   {
    "duration": 731,
    "start_time": "2022-03-20T20:34:44.163Z"
   },
   {
    "duration": 8,
    "start_time": "2022-03-20T20:34:44.895Z"
   },
   {
    "duration": 319,
    "start_time": "2022-03-20T20:34:44.904Z"
   },
   {
    "duration": 9,
    "start_time": "2022-03-20T20:34:45.233Z"
   },
   {
    "duration": 304,
    "start_time": "2022-03-20T20:34:45.244Z"
   },
   {
    "duration": 8,
    "start_time": "2022-03-20T20:34:45.549Z"
   },
   {
    "duration": 213,
    "start_time": "2022-03-20T20:34:45.558Z"
   },
   {
    "duration": 8,
    "start_time": "2022-03-20T20:34:45.773Z"
   },
   {
    "duration": 245,
    "start_time": "2022-03-20T20:34:45.783Z"
   },
   {
    "duration": 5,
    "start_time": "2022-03-20T20:34:46.032Z"
   },
   {
    "duration": 10,
    "start_time": "2022-03-20T20:34:46.038Z"
   },
   {
    "duration": 138,
    "start_time": "2022-03-20T20:34:46.049Z"
   },
   {
    "duration": 218,
    "start_time": "2022-03-20T20:34:46.189Z"
   },
   {
    "duration": 43,
    "start_time": "2022-03-20T20:34:46.409Z"
   },
   {
    "duration": 126,
    "start_time": "2022-03-20T20:34:46.454Z"
   },
   {
    "duration": 5,
    "start_time": "2022-03-20T20:34:46.582Z"
   },
   {
    "duration": 46,
    "start_time": "2022-03-20T20:34:46.588Z"
   },
   {
    "duration": 198,
    "start_time": "2022-03-20T20:34:46.636Z"
   },
   {
    "duration": 6,
    "start_time": "2022-03-20T20:34:46.836Z"
   },
   {
    "duration": 42,
    "start_time": "2022-03-20T20:34:46.844Z"
   },
   {
    "duration": 202,
    "start_time": "2022-03-20T20:34:46.888Z"
   },
   {
    "duration": 47,
    "start_time": "2022-03-20T20:34:47.092Z"
   },
   {
    "duration": 155,
    "start_time": "2022-03-20T20:34:47.141Z"
   },
   {
    "duration": 39,
    "start_time": "2022-03-20T20:34:47.297Z"
   },
   {
    "duration": 134,
    "start_time": "2022-03-20T20:34:47.338Z"
   },
   {
    "duration": 29,
    "start_time": "2022-03-20T20:34:47.474Z"
   },
   {
    "duration": 144,
    "start_time": "2022-03-20T20:34:47.505Z"
   },
   {
    "duration": 29,
    "start_time": "2022-03-20T20:34:47.650Z"
   },
   {
    "duration": 146,
    "start_time": "2022-03-20T20:34:47.681Z"
   },
   {
    "duration": 38,
    "start_time": "2022-03-20T20:34:47.832Z"
   },
   {
    "duration": 10,
    "start_time": "2022-03-20T20:34:47.871Z"
   },
   {
    "duration": 8,
    "start_time": "2022-03-20T20:34:47.883Z"
   },
   {
    "duration": 8,
    "start_time": "2022-03-20T20:34:47.893Z"
   },
   {
    "duration": 532,
    "start_time": "2022-03-20T20:34:47.902Z"
   },
   {
    "duration": 4,
    "start_time": "2022-03-20T20:34:48.435Z"
   },
   {
    "duration": 9,
    "start_time": "2022-03-20T20:34:48.444Z"
   },
   {
    "duration": 4,
    "start_time": "2022-03-20T20:34:48.455Z"
   },
   {
    "duration": 6,
    "start_time": "2022-03-20T20:34:48.461Z"
   },
   {
    "duration": 18,
    "start_time": "2022-03-20T20:34:48.469Z"
   },
   {
    "duration": 7,
    "start_time": "2022-03-20T20:34:48.489Z"
   },
   {
    "duration": 160,
    "start_time": "2022-03-20T20:34:48.498Z"
   },
   {
    "duration": 9,
    "start_time": "2022-03-20T20:34:48.659Z"
   },
   {
    "duration": 42,
    "start_time": "2022-03-20T20:34:48.669Z"
   },
   {
    "duration": 171,
    "start_time": "2022-03-20T20:34:48.713Z"
   },
   {
    "duration": 4,
    "start_time": "2022-03-20T20:34:48.887Z"
   },
   {
    "duration": 7,
    "start_time": "2022-03-20T20:34:48.893Z"
   },
   {
    "duration": 46,
    "start_time": "2022-03-20T20:34:48.902Z"
   },
   {
    "duration": 143,
    "start_time": "2022-03-20T20:34:48.949Z"
   },
   {
    "duration": 43,
    "start_time": "2022-03-20T20:34:49.094Z"
   },
   {
    "duration": 5,
    "start_time": "2022-03-20T20:34:49.139Z"
   },
   {
    "duration": 168,
    "start_time": "2022-03-20T20:34:49.146Z"
   },
   {
    "duration": 38,
    "start_time": "2022-03-20T20:34:49.316Z"
   },
   {
    "duration": 137,
    "start_time": "2022-03-20T20:34:49.355Z"
   },
   {
    "duration": 28,
    "start_time": "2022-03-20T20:34:49.494Z"
   },
   {
    "duration": 129,
    "start_time": "2022-03-20T20:34:49.533Z"
   },
   {
    "duration": 28,
    "start_time": "2022-03-20T20:34:49.664Z"
   },
   {
    "duration": 143,
    "start_time": "2022-03-20T20:34:49.694Z"
   },
   {
    "duration": 46,
    "start_time": "2022-03-22T17:37:48.015Z"
   },
   {
    "duration": 931,
    "start_time": "2022-03-22T17:38:03.798Z"
   },
   {
    "duration": 97,
    "start_time": "2022-03-22T17:38:04.731Z"
   },
   {
    "duration": 16,
    "start_time": "2022-03-22T17:38:05.290Z"
   },
   {
    "duration": 4,
    "start_time": "2022-03-22T17:38:05.749Z"
   },
   {
    "duration": 709,
    "start_time": "2022-03-22T17:38:06.383Z"
   },
   {
    "duration": 64,
    "start_time": "2022-03-22T17:38:08.084Z"
   },
   {
    "duration": 6,
    "start_time": "2022-03-22T17:38:11.873Z"
   },
   {
    "duration": 5,
    "start_time": "2022-03-22T17:38:12.703Z"
   },
   {
    "duration": 5,
    "start_time": "2022-03-22T17:38:13.132Z"
   },
   {
    "duration": 4,
    "start_time": "2022-03-22T17:38:13.383Z"
   },
   {
    "duration": 5,
    "start_time": "2022-03-22T17:38:13.974Z"
   },
   {
    "duration": 8,
    "start_time": "2022-03-22T17:38:15.044Z"
   },
   {
    "duration": 6,
    "start_time": "2022-03-22T17:38:15.520Z"
   },
   {
    "duration": 5,
    "start_time": "2022-03-22T17:38:15.666Z"
   },
   {
    "duration": 5,
    "start_time": "2022-03-22T17:38:15.820Z"
   },
   {
    "duration": 4,
    "start_time": "2022-03-22T17:38:15.971Z"
   },
   {
    "duration": 6,
    "start_time": "2022-03-22T17:38:16.114Z"
   },
   {
    "duration": 5,
    "start_time": "2022-03-22T17:38:16.572Z"
   },
   {
    "duration": 5,
    "start_time": "2022-03-22T17:38:16.758Z"
   },
   {
    "duration": 4,
    "start_time": "2022-03-22T17:38:16.931Z"
   },
   {
    "duration": 6,
    "start_time": "2022-03-22T17:38:17.087Z"
   },
   {
    "duration": 6,
    "start_time": "2022-03-22T17:38:18.898Z"
   },
   {
    "duration": 6,
    "start_time": "2022-03-22T17:38:19.303Z"
   },
   {
    "duration": 5,
    "start_time": "2022-03-22T17:38:19.507Z"
   },
   {
    "duration": 4,
    "start_time": "2022-03-22T17:38:19.705Z"
   },
   {
    "duration": 5,
    "start_time": "2022-03-22T17:38:19.893Z"
   },
   {
    "duration": 9,
    "start_time": "2022-03-22T17:38:20.231Z"
   },
   {
    "duration": 9,
    "start_time": "2022-03-22T17:38:20.402Z"
   },
   {
    "duration": 109,
    "start_time": "2022-03-22T17:38:20.722Z"
   },
   {
    "duration": 5,
    "start_time": "2022-03-22T17:38:20.885Z"
   },
   {
    "duration": 9,
    "start_time": "2022-03-22T17:38:21.054Z"
   },
   {
    "duration": 6,
    "start_time": "2022-03-22T17:38:21.214Z"
   },
   {
    "duration": 5,
    "start_time": "2022-03-22T17:38:21.370Z"
   },
   {
    "duration": 7,
    "start_time": "2022-03-22T17:38:21.515Z"
   },
   {
    "duration": 4,
    "start_time": "2022-03-22T17:38:21.848Z"
   },
   {
    "duration": 5,
    "start_time": "2022-03-22T17:38:22.008Z"
   },
   {
    "duration": 7,
    "start_time": "2022-03-22T17:41:24.482Z"
   },
   {
    "duration": 11,
    "start_time": "2022-03-22T17:41:29.313Z"
   },
   {
    "duration": 50,
    "start_time": "2022-03-22T17:41:36.584Z"
   },
   {
    "duration": 7,
    "start_time": "2022-03-22T17:43:38.332Z"
   },
   {
    "duration": 34,
    "start_time": "2022-03-22T17:43:39.898Z"
   },
   {
    "duration": 20,
    "start_time": "2022-03-22T17:43:49.402Z"
   },
   {
    "duration": 25,
    "start_time": "2022-03-22T17:43:56.577Z"
   },
   {
    "duration": 7,
    "start_time": "2022-03-22T17:45:34.655Z"
   },
   {
    "duration": 30,
    "start_time": "2022-03-22T17:45:39.855Z"
   },
   {
    "duration": 8,
    "start_time": "2022-03-22T17:45:58.010Z"
   },
   {
    "duration": 33,
    "start_time": "2022-03-22T17:46:01.958Z"
   },
   {
    "duration": 11,
    "start_time": "2022-03-22T17:46:08.364Z"
   },
   {
    "duration": 9,
    "start_time": "2022-03-22T17:47:06.066Z"
   },
   {
    "duration": 22,
    "start_time": "2022-03-22T17:47:10.027Z"
   },
   {
    "duration": 9,
    "start_time": "2022-03-22T17:49:52.800Z"
   },
   {
    "duration": 9,
    "start_time": "2022-03-22T17:50:25.083Z"
   },
   {
    "duration": 3847,
    "start_time": "2022-03-22T17:50:43.026Z"
   },
   {
    "duration": 7,
    "start_time": "2022-03-22T17:50:49.168Z"
   },
   {
    "duration": 7,
    "start_time": "2022-03-22T17:51:53.011Z"
   },
   {
    "duration": 9,
    "start_time": "2022-03-22T18:00:02.041Z"
   },
   {
    "duration": 1327,
    "start_time": "2022-03-22T18:12:23.273Z"
   },
   {
    "duration": 120,
    "start_time": "2022-03-22T18:12:24.604Z"
   },
   {
    "duration": 25,
    "start_time": "2022-03-22T18:12:24.726Z"
   },
   {
    "duration": 29,
    "start_time": "2022-03-22T18:12:24.754Z"
   },
   {
    "duration": 1128,
    "start_time": "2022-03-22T18:12:24.786Z"
   },
   {
    "duration": 118,
    "start_time": "2022-03-22T18:12:25.916Z"
   },
   {
    "duration": 9,
    "start_time": "2022-03-22T18:12:26.036Z"
   },
   {
    "duration": 9,
    "start_time": "2022-03-22T18:12:26.047Z"
   },
   {
    "duration": 10,
    "start_time": "2022-03-22T18:12:26.083Z"
   },
   {
    "duration": 7,
    "start_time": "2022-03-22T18:12:26.096Z"
   },
   {
    "duration": 14,
    "start_time": "2022-03-22T18:12:26.105Z"
   },
   {
    "duration": 10,
    "start_time": "2022-03-22T18:12:26.122Z"
   },
   {
    "duration": 12,
    "start_time": "2022-03-22T18:12:26.134Z"
   },
   {
    "duration": 8,
    "start_time": "2022-03-22T18:12:26.184Z"
   },
   {
    "duration": 7,
    "start_time": "2022-03-22T18:12:26.194Z"
   },
   {
    "duration": 7,
    "start_time": "2022-03-22T18:12:26.203Z"
   },
   {
    "duration": 9,
    "start_time": "2022-03-22T18:12:26.213Z"
   },
   {
    "duration": 11,
    "start_time": "2022-03-22T18:12:26.224Z"
   },
   {
    "duration": 17,
    "start_time": "2022-03-22T18:12:26.283Z"
   },
   {
    "duration": 13,
    "start_time": "2022-03-22T18:12:26.302Z"
   },
   {
    "duration": 12,
    "start_time": "2022-03-22T18:12:26.318Z"
   },
   {
    "duration": 10,
    "start_time": "2022-03-22T18:12:26.333Z"
   },
   {
    "duration": 38,
    "start_time": "2022-03-22T18:12:26.346Z"
   },
   {
    "duration": 9,
    "start_time": "2022-03-22T18:12:26.387Z"
   },
   {
    "duration": 12,
    "start_time": "2022-03-22T18:12:26.399Z"
   },
   {
    "duration": 9,
    "start_time": "2022-03-22T18:12:26.414Z"
   },
   {
    "duration": 12,
    "start_time": "2022-03-22T18:12:26.425Z"
   },
   {
    "duration": 54,
    "start_time": "2022-03-22T18:12:26.439Z"
   },
   {
    "duration": 198,
    "start_time": "2022-03-22T18:12:26.495Z"
   },
   {
    "duration": 7,
    "start_time": "2022-03-22T18:12:26.696Z"
   },
   {
    "duration": 16,
    "start_time": "2022-03-22T18:12:26.705Z"
   },
   {
    "duration": 9,
    "start_time": "2022-03-22T18:12:26.724Z"
   },
   {
    "duration": 46,
    "start_time": "2022-03-22T18:12:26.736Z"
   },
   {
    "duration": 7,
    "start_time": "2022-03-22T18:12:26.785Z"
   },
   {
    "duration": 9,
    "start_time": "2022-03-22T18:12:26.795Z"
   },
   {
    "duration": 8,
    "start_time": "2022-03-22T18:12:26.807Z"
   },
   {
    "duration": 14,
    "start_time": "2022-03-22T18:12:26.818Z"
   },
   {
    "duration": 52,
    "start_time": "2022-03-22T18:12:26.834Z"
   },
   {
    "duration": 14,
    "start_time": "2022-03-22T18:12:26.888Z"
   },
   {
    "duration": 6,
    "start_time": "2022-03-22T18:12:26.904Z"
   },
   {
    "duration": 5,
    "start_time": "2022-03-22T18:12:26.918Z"
   },
   {
    "duration": 10,
    "start_time": "2022-03-22T18:12:26.925Z"
   },
   {
    "duration": 47,
    "start_time": "2022-03-22T18:12:26.938Z"
   },
   {
    "duration": 8,
    "start_time": "2022-03-22T18:12:26.987Z"
   },
   {
    "duration": 5,
    "start_time": "2022-03-22T18:12:26.997Z"
   },
   {
    "duration": 516,
    "start_time": "2022-03-22T18:12:27.004Z"
   },
   {
    "duration": 11,
    "start_time": "2022-03-22T18:12:27.522Z"
   },
   {
    "duration": 7,
    "start_time": "2022-03-22T18:12:27.535Z"
   },
   {
    "duration": 7,
    "start_time": "2022-03-22T18:12:27.545Z"
   },
   {
    "duration": 1309,
    "start_time": "2022-03-22T18:12:27.554Z"
   },
   {
    "duration": 20,
    "start_time": "2022-03-22T18:12:28.865Z"
   },
   {
    "duration": 569,
    "start_time": "2022-03-22T18:12:28.888Z"
   },
   {
    "duration": 26,
    "start_time": "2022-03-22T18:12:29.460Z"
   },
   {
    "duration": 579,
    "start_time": "2022-03-22T18:12:29.488Z"
   },
   {
    "duration": 21,
    "start_time": "2022-03-22T18:12:30.070Z"
   },
   {
    "duration": 369,
    "start_time": "2022-03-22T18:12:30.093Z"
   },
   {
    "duration": 20,
    "start_time": "2022-03-22T18:12:30.465Z"
   },
   {
    "duration": 406,
    "start_time": "2022-03-22T18:12:30.488Z"
   },
   {
    "duration": 9,
    "start_time": "2022-03-22T18:12:30.897Z"
   },
   {
    "duration": 22,
    "start_time": "2022-03-22T18:12:30.908Z"
   },
   {
    "duration": 278,
    "start_time": "2022-03-22T18:12:30.933Z"
   },
   {
    "duration": 419,
    "start_time": "2022-03-22T18:12:31.214Z"
   },
   {
    "duration": 76,
    "start_time": "2022-03-22T18:12:31.636Z"
   },
   {
    "duration": 229,
    "start_time": "2022-03-22T18:12:31.714Z"
   },
   {
    "duration": 9,
    "start_time": "2022-03-22T18:12:31.945Z"
   },
   {
    "duration": 74,
    "start_time": "2022-03-22T18:12:31.956Z"
   },
   {
    "duration": 328,
    "start_time": "2022-03-22T18:12:32.032Z"
   },
   {
    "duration": 20,
    "start_time": "2022-03-22T18:12:32.364Z"
   },
   {
    "duration": 97,
    "start_time": "2022-03-22T18:12:32.387Z"
   },
   {
    "duration": 357,
    "start_time": "2022-03-22T18:12:32.487Z"
   },
   {
    "duration": 66,
    "start_time": "2022-03-22T18:12:32.847Z"
   },
   {
    "duration": 276,
    "start_time": "2022-03-22T18:12:32.916Z"
   },
   {
    "duration": 88,
    "start_time": "2022-03-22T18:12:33.194Z"
   },
   {
    "duration": 234,
    "start_time": "2022-03-22T18:12:33.285Z"
   },
   {
    "duration": 62,
    "start_time": "2022-03-22T18:12:33.522Z"
   },
   {
    "duration": 261,
    "start_time": "2022-03-22T18:12:33.587Z"
   },
   {
    "duration": 78,
    "start_time": "2022-03-22T18:12:33.851Z"
   },
   {
    "duration": 259,
    "start_time": "2022-03-22T18:12:33.932Z"
   },
   {
    "duration": 62,
    "start_time": "2022-03-22T18:12:34.193Z"
   },
   {
    "duration": 37,
    "start_time": "2022-03-22T18:12:34.258Z"
   },
   {
    "duration": 18,
    "start_time": "2022-03-22T18:12:34.297Z"
   },
   {
    "duration": 36,
    "start_time": "2022-03-22T18:12:34.318Z"
   },
   {
    "duration": 1481,
    "start_time": "2022-03-22T18:12:34.366Z"
   },
   {
    "duration": 7,
    "start_time": "2022-03-22T18:12:35.850Z"
   },
   {
    "duration": 30,
    "start_time": "2022-03-22T18:12:35.859Z"
   },
   {
    "duration": 5,
    "start_time": "2022-03-22T18:12:35.891Z"
   },
   {
    "duration": 6,
    "start_time": "2022-03-22T18:12:35.898Z"
   },
   {
    "duration": 26,
    "start_time": "2022-03-22T18:12:35.907Z"
   },
   {
    "duration": 11,
    "start_time": "2022-03-22T18:12:35.936Z"
   },
   {
    "duration": 266,
    "start_time": "2022-03-22T18:12:35.950Z"
   },
   {
    "duration": 12,
    "start_time": "2022-03-22T18:12:36.219Z"
   },
   {
    "duration": 68,
    "start_time": "2022-03-22T18:12:36.233Z"
   },
   {
    "duration": 273,
    "start_time": "2022-03-22T18:12:36.303Z"
   },
   {
    "duration": 7,
    "start_time": "2022-03-22T18:12:36.582Z"
   },
   {
    "duration": 10,
    "start_time": "2022-03-22T18:12:36.591Z"
   },
   {
    "duration": 78,
    "start_time": "2022-03-22T18:12:36.605Z"
   },
   {
    "duration": 300,
    "start_time": "2022-03-22T18:12:36.686Z"
   },
   {
    "duration": 71,
    "start_time": "2022-03-22T18:12:36.995Z"
   },
   {
    "duration": 21,
    "start_time": "2022-03-22T18:12:37.069Z"
   },
   {
    "duration": 304,
    "start_time": "2022-03-22T18:12:37.092Z"
   },
   {
    "duration": 58,
    "start_time": "2022-03-22T18:12:37.399Z"
   },
   {
    "duration": 235,
    "start_time": "2022-03-22T18:12:37.483Z"
   },
   {
    "duration": 66,
    "start_time": "2022-03-22T18:12:37.720Z"
   },
   {
    "duration": 235,
    "start_time": "2022-03-22T18:12:37.789Z"
   },
   {
    "duration": 67,
    "start_time": "2022-03-22T18:12:38.026Z"
   },
   {
    "duration": 235,
    "start_time": "2022-03-22T18:12:38.095Z"
   },
   {
    "duration": 199,
    "start_time": "2022-03-22T18:25:44.163Z"
   },
   {
    "duration": 177,
    "start_time": "2022-03-22T18:26:44.883Z"
   },
   {
    "duration": 174,
    "start_time": "2022-03-22T18:26:50.314Z"
   },
   {
    "duration": 195,
    "start_time": "2022-03-22T18:26:59.652Z"
   },
   {
    "duration": 193,
    "start_time": "2022-03-22T18:27:15.594Z"
   },
   {
    "duration": 203,
    "start_time": "2022-03-22T18:27:25.562Z"
   },
   {
    "duration": 281,
    "start_time": "2022-03-22T18:27:31.157Z"
   },
   {
    "duration": 164,
    "start_time": "2022-03-22T18:27:36.194Z"
   },
   {
    "duration": 14,
    "start_time": "2022-03-22T18:33:30.166Z"
   },
   {
    "duration": 45,
    "start_time": "2022-03-22T18:33:44.967Z"
   },
   {
    "duration": 5,
    "start_time": "2022-03-22T18:34:00.462Z"
   },
   {
    "duration": 122,
    "start_time": "2022-03-22T18:34:03.334Z"
   },
   {
    "duration": 29,
    "start_time": "2022-03-22T18:34:08.142Z"
   },
   {
    "duration": 24,
    "start_time": "2022-03-22T18:35:11.958Z"
   },
   {
    "duration": 168,
    "start_time": "2022-03-22T18:36:26.240Z"
   },
   {
    "duration": 16,
    "start_time": "2022-03-22T18:41:38.067Z"
   },
   {
    "duration": 18,
    "start_time": "2022-03-22T18:41:44.030Z"
   },
   {
    "duration": 17,
    "start_time": "2022-03-22T18:41:50.677Z"
   },
   {
    "duration": 984,
    "start_time": "2022-03-22T18:42:08.590Z"
   },
   {
    "duration": 114,
    "start_time": "2022-03-22T18:42:09.577Z"
   },
   {
    "duration": 24,
    "start_time": "2022-03-22T18:42:09.693Z"
   },
   {
    "duration": 7,
    "start_time": "2022-03-22T18:42:09.722Z"
   },
   {
    "duration": 2121,
    "start_time": "2022-03-22T18:42:09.731Z"
   },
   {
    "duration": 127,
    "start_time": "2022-03-22T18:42:11.855Z"
   },
   {
    "duration": 9,
    "start_time": "2022-03-22T18:42:11.986Z"
   },
   {
    "duration": 7,
    "start_time": "2022-03-22T18:42:11.998Z"
   },
   {
    "duration": 8,
    "start_time": "2022-03-22T18:42:12.007Z"
   },
   {
    "duration": 9,
    "start_time": "2022-03-22T18:42:12.021Z"
   },
   {
    "duration": 52,
    "start_time": "2022-03-22T18:42:12.032Z"
   },
   {
    "duration": 19,
    "start_time": "2022-03-22T18:42:12.087Z"
   },
   {
    "duration": 10,
    "start_time": "2022-03-22T18:42:12.109Z"
   },
   {
    "duration": 9,
    "start_time": "2022-03-22T18:42:12.122Z"
   },
   {
    "duration": 48,
    "start_time": "2022-03-22T18:42:12.134Z"
   },
   {
    "duration": 8,
    "start_time": "2022-03-22T18:42:12.185Z"
   },
   {
    "duration": 13,
    "start_time": "2022-03-22T18:42:12.196Z"
   },
   {
    "duration": 11,
    "start_time": "2022-03-22T18:42:12.211Z"
   },
   {
    "duration": 8,
    "start_time": "2022-03-22T18:42:12.225Z"
   },
   {
    "duration": 51,
    "start_time": "2022-03-22T18:42:12.236Z"
   },
   {
    "duration": 9,
    "start_time": "2022-03-22T18:42:12.290Z"
   },
   {
    "duration": 17,
    "start_time": "2022-03-22T18:42:12.302Z"
   },
   {
    "duration": 13,
    "start_time": "2022-03-22T18:42:12.322Z"
   },
   {
    "duration": 51,
    "start_time": "2022-03-22T18:42:12.337Z"
   },
   {
    "duration": 8,
    "start_time": "2022-03-22T18:42:12.391Z"
   },
   {
    "duration": 11,
    "start_time": "2022-03-22T18:42:12.402Z"
   },
   {
    "duration": 15,
    "start_time": "2022-03-22T18:42:12.416Z"
   },
   {
    "duration": 49,
    "start_time": "2022-03-22T18:42:12.441Z"
   },
   {
    "duration": 300,
    "start_time": "2022-03-22T18:42:12.493Z"
   },
   {
    "duration": 10,
    "start_time": "2022-03-22T18:42:12.796Z"
   },
   {
    "duration": 30,
    "start_time": "2022-03-22T18:42:12.809Z"
   },
   {
    "duration": 14,
    "start_time": "2022-03-22T18:42:12.842Z"
   },
   {
    "duration": 32,
    "start_time": "2022-03-22T18:42:12.859Z"
   },
   {
    "duration": 24,
    "start_time": "2022-03-22T18:42:12.894Z"
   },
   {
    "duration": 30,
    "start_time": "2022-03-22T18:42:12.921Z"
   },
   {
    "duration": 20,
    "start_time": "2022-03-22T18:42:12.954Z"
   },
   {
    "duration": 27,
    "start_time": "2022-03-22T18:42:12.977Z"
   },
   {
    "duration": 27,
    "start_time": "2022-03-22T18:42:13.007Z"
   },
   {
    "duration": 25,
    "start_time": "2022-03-22T18:42:13.036Z"
   },
   {
    "duration": 8,
    "start_time": "2022-03-22T18:42:13.064Z"
   },
   {
    "duration": 7,
    "start_time": "2022-03-22T18:42:13.075Z"
   },
   {
    "duration": 13,
    "start_time": "2022-03-22T18:42:13.084Z"
   },
   {
    "duration": 10,
    "start_time": "2022-03-22T18:42:13.099Z"
   },
   {
    "duration": 13,
    "start_time": "2022-03-22T18:42:13.111Z"
   },
   {
    "duration": 7,
    "start_time": "2022-03-22T18:42:13.126Z"
   },
   {
    "duration": 788,
    "start_time": "2022-03-22T18:42:13.136Z"
   },
   {
    "duration": 14,
    "start_time": "2022-03-22T18:42:13.928Z"
   },
   {
    "duration": 7,
    "start_time": "2022-03-22T18:42:13.945Z"
   },
   {
    "duration": 32,
    "start_time": "2022-03-22T18:42:13.954Z"
   },
   {
    "duration": 2124,
    "start_time": "2022-03-22T18:42:13.988Z"
   },
   {
    "duration": 15,
    "start_time": "2022-03-22T18:42:16.115Z"
   },
   {
    "duration": 594,
    "start_time": "2022-03-22T18:42:16.132Z"
   },
   {
    "duration": 197,
    "start_time": "2022-03-22T18:42:16.728Z"
   },
   {
    "duration": 13,
    "start_time": "2022-03-22T18:42:16.928Z"
   },
   {
    "duration": 982,
    "start_time": "2022-03-22T18:42:16.943Z"
   },
   {
    "duration": 16,
    "start_time": "2022-03-22T18:42:17.928Z"
   },
   {
    "duration": 387,
    "start_time": "2022-03-22T18:42:17.946Z"
   },
   {
    "duration": 18,
    "start_time": "2022-03-22T18:42:18.338Z"
   },
   {
    "duration": 288,
    "start_time": "2022-03-22T18:42:18.360Z"
   },
   {
    "duration": 384,
    "start_time": "2022-03-22T18:42:18.651Z"
   },
   {
    "duration": 9,
    "start_time": "2022-03-22T18:42:19.038Z"
   },
   {
    "duration": 38,
    "start_time": "2022-03-22T18:42:19.050Z"
   },
   {
    "duration": 213,
    "start_time": "2022-03-22T18:42:19.091Z"
   },
   {
    "duration": 410,
    "start_time": "2022-03-22T18:42:19.308Z"
   },
   {
    "duration": 123,
    "start_time": "2022-03-22T18:42:19.722Z"
   },
   {
    "duration": 80,
    "start_time": "2022-03-22T18:42:19.848Z"
   },
   {
    "duration": 265,
    "start_time": "2022-03-22T18:42:19.931Z"
   },
   {
    "duration": 8,
    "start_time": "2022-03-22T18:42:20.199Z"
   },
   {
    "duration": 94,
    "start_time": "2022-03-22T18:42:20.209Z"
   },
   {
    "duration": 254,
    "start_time": "2022-03-22T18:42:20.306Z"
   },
   {
    "duration": 7,
    "start_time": "2022-03-22T18:42:20.563Z"
   },
   {
    "duration": 67,
    "start_time": "2022-03-22T18:42:20.583Z"
   },
   {
    "duration": 299,
    "start_time": "2022-03-22T18:42:20.652Z"
   },
   {
    "duration": 65,
    "start_time": "2022-03-22T18:42:20.954Z"
   },
   {
    "duration": 281,
    "start_time": "2022-03-22T18:42:21.022Z"
   },
   {
    "duration": 51,
    "start_time": "2022-03-22T18:42:21.305Z"
   },
   {
    "duration": 273,
    "start_time": "2022-03-22T18:42:21.358Z"
   },
   {
    "duration": 87,
    "start_time": "2022-03-22T18:42:21.635Z"
   },
   {
    "duration": 349,
    "start_time": "2022-03-22T18:42:21.725Z"
   },
   {
    "duration": 50,
    "start_time": "2022-03-22T18:42:22.077Z"
   },
   {
    "duration": 283,
    "start_time": "2022-03-22T18:42:22.130Z"
   },
   {
    "duration": 78,
    "start_time": "2022-03-22T18:42:22.425Z"
   },
   {
    "duration": 15,
    "start_time": "2022-03-22T18:42:22.507Z"
   },
   {
    "duration": 16,
    "start_time": "2022-03-22T18:42:22.524Z"
   },
   {
    "duration": 48,
    "start_time": "2022-03-22T18:42:22.542Z"
   },
   {
    "duration": 731,
    "start_time": "2022-03-22T18:42:22.593Z"
   },
   {
    "duration": 7,
    "start_time": "2022-03-22T18:42:23.327Z"
   },
   {
    "duration": 16,
    "start_time": "2022-03-22T18:42:23.337Z"
   },
   {
    "duration": 27,
    "start_time": "2022-03-22T18:42:23.356Z"
   },
   {
    "duration": 8,
    "start_time": "2022-03-22T18:42:23.387Z"
   },
   {
    "duration": 46,
    "start_time": "2022-03-22T18:42:23.398Z"
   },
   {
    "duration": 16,
    "start_time": "2022-03-22T18:42:23.447Z"
   },
   {
    "duration": 255,
    "start_time": "2022-03-22T18:42:23.466Z"
   },
   {
    "duration": 16,
    "start_time": "2022-03-22T18:42:23.724Z"
   },
   {
    "duration": 92,
    "start_time": "2022-03-22T18:42:23.743Z"
   },
   {
    "duration": 381,
    "start_time": "2022-03-22T18:42:23.838Z"
   },
   {
    "duration": 10,
    "start_time": "2022-03-22T18:42:24.222Z"
   },
   {
    "duration": 10,
    "start_time": "2022-03-22T18:42:24.235Z"
   },
   {
    "duration": 77,
    "start_time": "2022-03-22T18:42:24.248Z"
   },
   {
    "duration": 254,
    "start_time": "2022-03-22T18:42:24.328Z"
   },
   {
    "duration": 56,
    "start_time": "2022-03-22T18:42:24.585Z"
   },
   {
    "duration": 7,
    "start_time": "2022-03-22T18:42:24.644Z"
   },
   {
    "duration": 389,
    "start_time": "2022-03-22T18:42:24.687Z"
   },
   {
    "duration": 71,
    "start_time": "2022-03-22T18:42:25.084Z"
   },
   {
    "duration": 256,
    "start_time": "2022-03-22T18:42:25.158Z"
   },
   {
    "duration": 67,
    "start_time": "2022-03-22T18:42:25.417Z"
   },
   {
    "duration": 245,
    "start_time": "2022-03-22T18:42:25.486Z"
   },
   {
    "duration": 61,
    "start_time": "2022-03-22T18:42:25.734Z"
   },
   {
    "duration": 253,
    "start_time": "2022-03-22T18:42:25.797Z"
   },
   {
    "duration": 14,
    "start_time": "2022-03-22T18:42:53.626Z"
   },
   {
    "duration": 528,
    "start_time": "2022-03-22T18:48:33.667Z"
   },
   {
    "duration": 2993,
    "start_time": "2022-03-22T18:48:45.328Z"
   },
   {
    "duration": 536,
    "start_time": "2022-03-22T18:48:51.916Z"
   },
   {
    "duration": 509,
    "start_time": "2022-03-22T18:48:55.790Z"
   },
   {
    "duration": 520,
    "start_time": "2022-03-22T18:50:45.331Z"
   },
   {
    "duration": 499,
    "start_time": "2022-03-22T18:50:51.224Z"
   },
   {
    "duration": 240,
    "start_time": "2022-03-22T18:52:59.674Z"
   },
   {
    "duration": 24,
    "start_time": "2022-03-22T19:05:27.996Z"
   },
   {
    "duration": 307,
    "start_time": "2022-03-22T19:07:18.776Z"
   },
   {
    "duration": 113,
    "start_time": "2022-03-22T19:08:04.586Z"
   },
   {
    "duration": 9,
    "start_time": "2022-03-22T19:08:08.350Z"
   },
   {
    "duration": 11,
    "start_time": "2022-03-22T19:08:48.695Z"
   },
   {
    "duration": 11,
    "start_time": "2022-03-22T19:08:54.857Z"
   },
   {
    "duration": 4,
    "start_time": "2022-03-22T19:09:22.380Z"
   },
   {
    "duration": 8,
    "start_time": "2022-03-22T19:09:26.091Z"
   },
   {
    "duration": 10,
    "start_time": "2022-03-22T19:09:37.694Z"
   },
   {
    "duration": 28,
    "start_time": "2022-03-22T19:12:40.970Z"
   },
   {
    "duration": 25,
    "start_time": "2022-03-22T19:12:47.038Z"
   },
   {
    "duration": 27,
    "start_time": "2022-03-22T19:13:09.102Z"
   },
   {
    "duration": 1044,
    "start_time": "2022-03-22T19:13:54.254Z"
   },
   {
    "duration": 108,
    "start_time": "2022-03-22T19:13:55.301Z"
   },
   {
    "duration": 29,
    "start_time": "2022-03-22T19:13:55.411Z"
   },
   {
    "duration": 9,
    "start_time": "2022-03-22T19:13:55.443Z"
   },
   {
    "duration": 1138,
    "start_time": "2022-03-22T19:13:55.454Z"
   },
   {
    "duration": 115,
    "start_time": "2022-03-22T19:13:56.594Z"
   },
   {
    "duration": 8,
    "start_time": "2022-03-22T19:13:56.711Z"
   },
   {
    "duration": 11,
    "start_time": "2022-03-22T19:13:56.722Z"
   },
   {
    "duration": 14,
    "start_time": "2022-03-22T19:13:56.736Z"
   },
   {
    "duration": 6,
    "start_time": "2022-03-22T19:13:56.781Z"
   },
   {
    "duration": 10,
    "start_time": "2022-03-22T19:13:56.791Z"
   },
   {
    "duration": 15,
    "start_time": "2022-03-22T19:13:56.804Z"
   },
   {
    "duration": 11,
    "start_time": "2022-03-22T19:13:56.822Z"
   },
   {
    "duration": 7,
    "start_time": "2022-03-22T19:13:56.836Z"
   },
   {
    "duration": 6,
    "start_time": "2022-03-22T19:13:56.882Z"
   },
   {
    "duration": 8,
    "start_time": "2022-03-22T19:13:56.891Z"
   },
   {
    "duration": 10,
    "start_time": "2022-03-22T19:13:56.901Z"
   },
   {
    "duration": 10,
    "start_time": "2022-03-22T19:13:56.913Z"
   },
   {
    "duration": 7,
    "start_time": "2022-03-22T19:13:56.925Z"
   },
   {
    "duration": 48,
    "start_time": "2022-03-22T19:13:56.934Z"
   },
   {
    "duration": 10,
    "start_time": "2022-03-22T19:13:56.985Z"
   },
   {
    "duration": 12,
    "start_time": "2022-03-22T19:13:56.998Z"
   },
   {
    "duration": 11,
    "start_time": "2022-03-22T19:13:57.012Z"
   },
   {
    "duration": 12,
    "start_time": "2022-03-22T19:13:57.025Z"
   },
   {
    "duration": 45,
    "start_time": "2022-03-22T19:13:57.039Z"
   },
   {
    "duration": 12,
    "start_time": "2022-03-22T19:13:57.086Z"
   },
   {
    "duration": 16,
    "start_time": "2022-03-22T19:13:57.100Z"
   },
   {
    "duration": 16,
    "start_time": "2022-03-22T19:13:57.126Z"
   },
   {
    "duration": 413,
    "start_time": "2022-03-22T19:13:57.145Z"
   },
   {
    "duration": 10,
    "start_time": "2022-03-22T19:13:57.561Z"
   },
   {
    "duration": 20,
    "start_time": "2022-03-22T19:13:57.574Z"
   },
   {
    "duration": 8,
    "start_time": "2022-03-22T19:13:57.597Z"
   },
   {
    "duration": 9,
    "start_time": "2022-03-22T19:13:57.608Z"
   },
   {
    "duration": 8,
    "start_time": "2022-03-22T19:13:57.619Z"
   },
   {
    "duration": 6,
    "start_time": "2022-03-22T19:13:57.682Z"
   },
   {
    "duration": 10,
    "start_time": "2022-03-22T19:13:57.691Z"
   },
   {
    "duration": 11,
    "start_time": "2022-03-22T19:13:57.704Z"
   },
   {
    "duration": 14,
    "start_time": "2022-03-22T19:13:57.719Z"
   },
   {
    "duration": 46,
    "start_time": "2022-03-22T19:13:57.736Z"
   },
   {
    "duration": 5,
    "start_time": "2022-03-22T19:13:57.784Z"
   },
   {
    "duration": 7,
    "start_time": "2022-03-22T19:13:57.792Z"
   },
   {
    "duration": 15,
    "start_time": "2022-03-22T19:13:57.801Z"
   },
   {
    "duration": 7,
    "start_time": "2022-03-22T19:13:57.819Z"
   },
   {
    "duration": 10,
    "start_time": "2022-03-22T19:13:57.828Z"
   },
   {
    "duration": 8,
    "start_time": "2022-03-22T19:13:57.840Z"
   },
   {
    "duration": 512,
    "start_time": "2022-03-22T19:13:57.850Z"
   },
   {
    "duration": 18,
    "start_time": "2022-03-22T19:13:58.365Z"
   },
   {
    "duration": 5,
    "start_time": "2022-03-22T19:13:58.385Z"
   },
   {
    "duration": 9,
    "start_time": "2022-03-22T19:13:58.392Z"
   },
   {
    "duration": 1281,
    "start_time": "2022-03-22T19:13:58.403Z"
   },
   {
    "duration": 12,
    "start_time": "2022-03-22T19:13:59.686Z"
   },
   {
    "duration": 564,
    "start_time": "2022-03-22T19:13:59.700Z"
   },
   {
    "duration": 182,
    "start_time": "2022-03-22T19:14:00.266Z"
   },
   {
    "duration": 4,
    "start_time": "2022-03-22T19:14:00.450Z"
   },
   {
    "duration": 26,
    "start_time": "2022-03-22T19:14:00.456Z"
   },
   {
    "duration": 12,
    "start_time": "2022-03-22T19:14:00.485Z"
   },
   {
    "duration": 223,
    "start_time": "2022-03-22T19:14:00.499Z"
   },
   {
    "duration": 563,
    "start_time": "2022-03-22T19:14:00.725Z"
   },
   {
    "duration": 13,
    "start_time": "2022-03-22T19:14:01.291Z"
   },
   {
    "duration": 490,
    "start_time": "2022-03-22T19:14:01.307Z"
   },
   {
    "duration": 14,
    "start_time": "2022-03-22T19:14:01.799Z"
   },
   {
    "duration": 210,
    "start_time": "2022-03-22T19:14:01.816Z"
   },
   {
    "duration": 389,
    "start_time": "2022-03-22T19:14:02.029Z"
   },
   {
    "duration": 8,
    "start_time": "2022-03-22T19:14:02.421Z"
   },
   {
    "duration": 29,
    "start_time": "2022-03-22T19:14:02.431Z"
   },
   {
    "duration": 305,
    "start_time": "2022-03-22T19:14:02.463Z"
   },
   {
    "duration": 865,
    "start_time": "2022-03-22T19:14:02.770Z"
   },
   {
    "duration": 525,
    "start_time": "2022-03-22T19:14:03.638Z"
   },
   {
    "duration": 37,
    "start_time": "2022-03-22T19:14:04.166Z"
   },
   {
    "duration": 77,
    "start_time": "2022-03-22T19:14:04.205Z"
   },
   {
    "duration": 252,
    "start_time": "2022-03-22T19:14:04.284Z"
   },
   {
    "duration": 7,
    "start_time": "2022-03-22T19:14:04.539Z"
   },
   {
    "duration": 67,
    "start_time": "2022-03-22T19:14:04.548Z"
   },
   {
    "duration": 254,
    "start_time": "2022-03-22T19:14:04.617Z"
   },
   {
    "duration": 13,
    "start_time": "2022-03-22T19:14:04.874Z"
   },
   {
    "duration": 111,
    "start_time": "2022-03-22T19:14:04.889Z"
   },
   {
    "duration": 282,
    "start_time": "2022-03-22T19:14:05.004Z"
   },
   {
    "duration": 57,
    "start_time": "2022-03-22T19:14:05.289Z"
   },
   {
    "duration": 286,
    "start_time": "2022-03-22T19:14:05.349Z"
   },
   {
    "duration": 59,
    "start_time": "2022-03-22T19:14:05.637Z"
   },
   {
    "duration": 284,
    "start_time": "2022-03-22T19:14:05.698Z"
   },
   {
    "duration": 48,
    "start_time": "2022-03-22T19:14:05.991Z"
   },
   {
    "duration": 236,
    "start_time": "2022-03-22T19:14:06.041Z"
   },
   {
    "duration": 47,
    "start_time": "2022-03-22T19:14:06.282Z"
   },
   {
    "duration": 243,
    "start_time": "2022-03-22T19:14:06.331Z"
   },
   {
    "duration": 85,
    "start_time": "2022-03-22T19:14:06.581Z"
   },
   {
    "duration": 25,
    "start_time": "2022-03-22T19:14:06.669Z"
   },
   {
    "duration": 16,
    "start_time": "2022-03-22T19:14:06.696Z"
   },
   {
    "duration": 25,
    "start_time": "2022-03-22T19:14:06.714Z"
   },
   {
    "duration": 673,
    "start_time": "2022-03-22T19:14:06.742Z"
   },
   {
    "duration": 6,
    "start_time": "2022-03-22T19:14:07.418Z"
   },
   {
    "duration": 69,
    "start_time": "2022-03-22T19:14:07.426Z"
   },
   {
    "duration": 4,
    "start_time": "2022-03-22T19:14:07.498Z"
   },
   {
    "duration": 8,
    "start_time": "2022-03-22T19:14:07.505Z"
   },
   {
    "duration": 80,
    "start_time": "2022-03-22T19:14:07.517Z"
   },
   {
    "duration": 11,
    "start_time": "2022-03-22T19:14:07.600Z"
   },
   {
    "duration": 334,
    "start_time": "2022-03-22T19:14:07.613Z"
   },
   {
    "duration": 37,
    "start_time": "2022-03-22T19:14:07.949Z"
   },
   {
    "duration": 107,
    "start_time": "2022-03-22T19:14:07.989Z"
   },
   {
    "duration": 419,
    "start_time": "2022-03-22T19:14:08.098Z"
   },
   {
    "duration": 8,
    "start_time": "2022-03-22T19:14:08.519Z"
   },
   {
    "duration": 10,
    "start_time": "2022-03-22T19:14:08.529Z"
   },
   {
    "duration": 76,
    "start_time": "2022-03-22T19:14:08.541Z"
   },
   {
    "duration": 243,
    "start_time": "2022-03-22T19:14:08.619Z"
   },
   {
    "duration": 64,
    "start_time": "2022-03-22T19:14:08.865Z"
   },
   {
    "duration": 9,
    "start_time": "2022-03-22T19:14:08.932Z"
   },
   {
    "duration": 264,
    "start_time": "2022-03-22T19:14:08.943Z"
   },
   {
    "duration": 49,
    "start_time": "2022-03-22T19:14:09.210Z"
   },
   {
    "duration": 224,
    "start_time": "2022-03-22T19:14:09.282Z"
   },
   {
    "duration": 51,
    "start_time": "2022-03-22T19:14:09.509Z"
   },
   {
    "duration": 326,
    "start_time": "2022-03-22T19:14:09.582Z"
   },
   {
    "duration": 49,
    "start_time": "2022-03-22T19:14:09.910Z"
   },
   {
    "duration": 250,
    "start_time": "2022-03-22T19:14:09.961Z"
   },
   {
    "duration": 281,
    "start_time": "2022-03-22T19:20:58.274Z"
   },
   {
    "duration": 8,
    "start_time": "2022-03-22T19:21:59.446Z"
   },
   {
    "duration": 57,
    "start_time": "2022-03-22T19:22:07.905Z"
   },
   {
    "duration": 228,
    "start_time": "2022-03-22T19:22:10.137Z"
   },
   {
    "duration": 307,
    "start_time": "2022-03-22T19:23:24.521Z"
   },
   {
    "duration": 45,
    "start_time": "2022-03-22T19:23:32.728Z"
   },
   {
    "duration": 203,
    "start_time": "2022-03-22T19:23:35.018Z"
   },
   {
    "duration": 80,
    "start_time": "2022-03-22T19:23:52.355Z"
   },
   {
    "duration": 262,
    "start_time": "2022-03-22T19:23:54.951Z"
   },
   {
    "duration": 60,
    "start_time": "2022-03-22T19:24:05.333Z"
   },
   {
    "duration": 52,
    "start_time": "2022-03-22T19:24:08.045Z"
   },
   {
    "duration": 276,
    "start_time": "2022-03-22T19:24:08.737Z"
   },
   {
    "duration": 48,
    "start_time": "2022-03-22T19:24:15.526Z"
   },
   {
    "duration": 238,
    "start_time": "2022-03-22T19:24:17.839Z"
   },
   {
    "duration": 54,
    "start_time": "2022-03-22T19:24:37.954Z"
   },
   {
    "duration": 241,
    "start_time": "2022-03-22T19:24:40.737Z"
   },
   {
    "duration": 54,
    "start_time": "2022-03-22T19:25:00.588Z"
   },
   {
    "duration": 62,
    "start_time": "2022-03-22T19:25:05.632Z"
   },
   {
    "duration": 276,
    "start_time": "2022-03-22T19:25:13.845Z"
   },
   {
    "duration": 49,
    "start_time": "2022-03-22T19:25:18.421Z"
   },
   {
    "duration": 55,
    "start_time": "2022-03-22T19:25:23.342Z"
   },
   {
    "duration": 73,
    "start_time": "2022-03-22T19:25:30.328Z"
   },
   {
    "duration": 338,
    "start_time": "2022-03-22T19:25:31.938Z"
   },
   {
    "duration": 314,
    "start_time": "2022-03-22T19:25:53.148Z"
   },
   {
    "duration": 8,
    "start_time": "2022-03-22T19:27:46.292Z"
   },
   {
    "duration": 46,
    "start_time": "2022-03-22T19:28:29.685Z"
   },
   {
    "duration": 217,
    "start_time": "2022-03-22T19:28:35.190Z"
   },
   {
    "duration": 7,
    "start_time": "2022-03-22T19:30:44.586Z"
   },
   {
    "duration": 353,
    "start_time": "2022-03-22T19:33:24.987Z"
   },
   {
    "duration": 45,
    "start_time": "2022-03-22T19:34:04.946Z"
   },
   {
    "duration": 213,
    "start_time": "2022-03-22T19:34:13.028Z"
   },
   {
    "duration": 50,
    "start_time": "2022-03-22T19:41:15.439Z"
   },
   {
    "duration": 231,
    "start_time": "2022-03-22T19:41:30.477Z"
   },
   {
    "duration": 243,
    "start_time": "2022-03-22T19:41:36.728Z"
   },
   {
    "duration": 49,
    "start_time": "2022-03-22T19:41:59.842Z"
   },
   {
    "duration": 243,
    "start_time": "2022-03-22T19:42:02.005Z"
   },
   {
    "duration": 67,
    "start_time": "2022-03-22T19:44:02.633Z"
   },
   {
    "duration": 334,
    "start_time": "2022-03-22T19:44:14.951Z"
   },
   {
    "duration": 287,
    "start_time": "2022-03-22T19:44:25.148Z"
   },
   {
    "duration": 75,
    "start_time": "2022-03-22T19:44:35.915Z"
   },
   {
    "duration": 344,
    "start_time": "2022-03-22T19:44:37.264Z"
   },
   {
    "duration": 653,
    "start_time": "2022-03-22T19:50:43.901Z"
   },
   {
    "duration": 274,
    "start_time": "2022-03-22T19:50:49.304Z"
   },
   {
    "duration": 363,
    "start_time": "2022-03-22T19:50:53.596Z"
   },
   {
    "duration": 304,
    "start_time": "2022-03-22T19:51:00.560Z"
   },
   {
    "duration": 14,
    "start_time": "2022-03-22T19:51:22.333Z"
   },
   {
    "duration": 1160,
    "start_time": "2022-03-23T16:31:22.333Z"
   },
   {
    "duration": 115,
    "start_time": "2022-03-23T16:31:23.497Z"
   },
   {
    "duration": 24,
    "start_time": "2022-03-23T16:31:23.614Z"
   },
   {
    "duration": 6,
    "start_time": "2022-03-23T16:31:23.641Z"
   },
   {
    "duration": 1170,
    "start_time": "2022-03-23T16:31:23.650Z"
   },
   {
    "duration": 113,
    "start_time": "2022-03-23T16:31:24.823Z"
   },
   {
    "duration": 8,
    "start_time": "2022-03-23T16:31:24.939Z"
   },
   {
    "duration": 12,
    "start_time": "2022-03-23T16:31:24.950Z"
   },
   {
    "duration": 8,
    "start_time": "2022-03-23T16:31:24.984Z"
   },
   {
    "duration": 6,
    "start_time": "2022-03-23T16:31:24.996Z"
   },
   {
    "duration": 9,
    "start_time": "2022-03-23T16:31:25.004Z"
   },
   {
    "duration": 11,
    "start_time": "2022-03-23T16:31:25.015Z"
   },
   {
    "duration": 13,
    "start_time": "2022-03-23T16:31:25.028Z"
   },
   {
    "duration": 45,
    "start_time": "2022-03-23T16:31:25.044Z"
   },
   {
    "duration": 12,
    "start_time": "2022-03-23T16:31:25.092Z"
   },
   {
    "duration": 8,
    "start_time": "2022-03-23T16:31:25.106Z"
   },
   {
    "duration": 14,
    "start_time": "2022-03-23T16:31:25.116Z"
   },
   {
    "duration": 12,
    "start_time": "2022-03-23T16:31:25.133Z"
   },
   {
    "duration": 45,
    "start_time": "2022-03-23T16:31:25.148Z"
   },
   {
    "duration": 9,
    "start_time": "2022-03-23T16:31:25.196Z"
   },
   {
    "duration": 16,
    "start_time": "2022-03-23T16:31:25.207Z"
   },
   {
    "duration": 15,
    "start_time": "2022-03-23T16:31:25.225Z"
   },
   {
    "duration": 42,
    "start_time": "2022-03-23T16:31:25.242Z"
   },
   {
    "duration": 9,
    "start_time": "2022-03-23T16:31:25.287Z"
   },
   {
    "duration": 9,
    "start_time": "2022-03-23T16:31:25.299Z"
   },
   {
    "duration": 10,
    "start_time": "2022-03-23T16:31:25.311Z"
   },
   {
    "duration": 60,
    "start_time": "2022-03-23T16:31:25.324Z"
   },
   {
    "duration": 13,
    "start_time": "2022-03-23T16:31:25.393Z"
   },
   {
    "duration": 219,
    "start_time": "2022-03-23T16:31:25.408Z"
   },
   {
    "duration": 8,
    "start_time": "2022-03-23T16:31:25.629Z"
   },
   {
    "duration": 20,
    "start_time": "2022-03-23T16:31:25.640Z"
   },
   {
    "duration": 27,
    "start_time": "2022-03-23T16:31:25.662Z"
   },
   {
    "duration": 28,
    "start_time": "2022-03-23T16:31:25.692Z"
   },
   {
    "duration": 31,
    "start_time": "2022-03-23T16:31:25.723Z"
   },
   {
    "duration": 15,
    "start_time": "2022-03-23T16:31:25.756Z"
   },
   {
    "duration": 15,
    "start_time": "2022-03-23T16:31:25.773Z"
   },
   {
    "duration": 16,
    "start_time": "2022-03-23T16:31:25.790Z"
   },
   {
    "duration": 16,
    "start_time": "2022-03-23T16:31:25.809Z"
   },
   {
    "duration": 16,
    "start_time": "2022-03-23T16:31:25.828Z"
   },
   {
    "duration": 38,
    "start_time": "2022-03-23T16:31:25.846Z"
   },
   {
    "duration": 6,
    "start_time": "2022-03-23T16:31:25.887Z"
   },
   {
    "duration": 12,
    "start_time": "2022-03-23T16:31:25.895Z"
   },
   {
    "duration": 11,
    "start_time": "2022-03-23T16:31:25.910Z"
   },
   {
    "duration": 11,
    "start_time": "2022-03-23T16:31:25.923Z"
   },
   {
    "duration": 7,
    "start_time": "2022-03-23T16:31:25.937Z"
   },
   {
    "duration": 524,
    "start_time": "2022-03-23T16:31:25.946Z"
   },
   {
    "duration": 14,
    "start_time": "2022-03-23T16:31:26.472Z"
   },
   {
    "duration": 23,
    "start_time": "2022-03-23T16:31:26.488Z"
   },
   {
    "duration": 23,
    "start_time": "2022-03-23T16:31:26.513Z"
   },
   {
    "duration": 1394,
    "start_time": "2022-03-23T16:31:26.538Z"
   },
   {
    "duration": 17,
    "start_time": "2022-03-23T16:31:27.935Z"
   },
   {
    "duration": 776,
    "start_time": "2022-03-23T16:31:27.954Z"
   },
   {
    "duration": 251,
    "start_time": "2022-03-23T16:31:28.733Z"
   },
   {
    "duration": 5,
    "start_time": "2022-03-23T16:31:28.986Z"
   },
   {
    "duration": 13,
    "start_time": "2022-03-23T16:31:28.993Z"
   },
   {
    "duration": 11,
    "start_time": "2022-03-23T16:31:29.009Z"
   },
   {
    "duration": 242,
    "start_time": "2022-03-23T16:31:29.023Z"
   },
   {
    "duration": 538,
    "start_time": "2022-03-23T16:31:29.267Z"
   },
   {
    "duration": 12,
    "start_time": "2022-03-23T16:31:29.808Z"
   },
   {
    "duration": 383,
    "start_time": "2022-03-23T16:31:29.822Z"
   },
   {
    "duration": 13,
    "start_time": "2022-03-23T16:31:30.207Z"
   },
   {
    "duration": 202,
    "start_time": "2022-03-23T16:31:30.222Z"
   },
   {
    "duration": 377,
    "start_time": "2022-03-23T16:31:30.426Z"
   },
   {
    "duration": 9,
    "start_time": "2022-03-23T16:31:30.806Z"
   },
   {
    "duration": 22,
    "start_time": "2022-03-23T16:31:30.817Z"
   },
   {
    "duration": 227,
    "start_time": "2022-03-23T16:31:30.842Z"
   },
   {
    "duration": 607,
    "start_time": "2022-03-23T16:31:31.072Z"
   },
   {
    "duration": 513,
    "start_time": "2022-03-23T16:31:31.685Z"
   },
   {
    "duration": 32,
    "start_time": "2022-03-23T16:31:32.201Z"
   },
   {
    "duration": 90,
    "start_time": "2022-03-23T16:31:32.235Z"
   },
   {
    "duration": 257,
    "start_time": "2022-03-23T16:31:32.327Z"
   },
   {
    "duration": 9,
    "start_time": "2022-03-23T16:31:32.586Z"
   },
   {
    "duration": 51,
    "start_time": "2022-03-23T16:31:32.598Z"
   },
   {
    "duration": 262,
    "start_time": "2022-03-23T16:31:32.652Z"
   },
   {
    "duration": 8,
    "start_time": "2022-03-23T16:31:32.916Z"
   },
   {
    "duration": 74,
    "start_time": "2022-03-23T16:31:32.926Z"
   },
   {
    "duration": 253,
    "start_time": "2022-03-23T16:31:33.002Z"
   },
   {
    "duration": 86,
    "start_time": "2022-03-23T16:31:33.258Z"
   },
   {
    "duration": 309,
    "start_time": "2022-03-23T16:31:33.346Z"
   },
   {
    "duration": 69,
    "start_time": "2022-03-23T16:31:33.658Z"
   },
   {
    "duration": 279,
    "start_time": "2022-03-23T16:31:33.729Z"
   },
   {
    "duration": 68,
    "start_time": "2022-03-23T16:31:34.019Z"
   },
   {
    "duration": 264,
    "start_time": "2022-03-23T16:31:34.090Z"
   },
   {
    "duration": 65,
    "start_time": "2022-03-23T16:31:34.356Z"
   },
   {
    "duration": 235,
    "start_time": "2022-03-23T16:31:34.423Z"
   },
   {
    "duration": 65,
    "start_time": "2022-03-23T16:31:34.660Z"
   },
   {
    "duration": 368,
    "start_time": "2022-03-23T16:31:34.727Z"
   },
   {
    "duration": 64,
    "start_time": "2022-03-23T16:31:35.098Z"
   },
   {
    "duration": 16,
    "start_time": "2022-03-23T16:31:35.183Z"
   },
   {
    "duration": 14,
    "start_time": "2022-03-23T16:31:35.202Z"
   },
   {
    "duration": 17,
    "start_time": "2022-03-23T16:31:35.218Z"
   },
   {
    "duration": 563,
    "start_time": "2022-03-23T16:31:35.238Z"
   },
   {
    "duration": 6,
    "start_time": "2022-03-23T16:31:35.803Z"
   },
   {
    "duration": 19,
    "start_time": "2022-03-23T16:31:35.811Z"
   },
   {
    "duration": 4,
    "start_time": "2022-03-23T16:31:35.834Z"
   },
   {
    "duration": 8,
    "start_time": "2022-03-23T16:31:35.841Z"
   },
   {
    "duration": 23,
    "start_time": "2022-03-23T16:31:35.884Z"
   },
   {
    "duration": 14,
    "start_time": "2022-03-23T16:31:35.910Z"
   },
   {
    "duration": 263,
    "start_time": "2022-03-23T16:31:35.926Z"
   },
   {
    "duration": 12,
    "start_time": "2022-03-23T16:31:36.191Z"
   },
   {
    "duration": 48,
    "start_time": "2022-03-23T16:31:36.205Z"
   },
   {
    "duration": 233,
    "start_time": "2022-03-23T16:31:36.284Z"
   },
   {
    "duration": 7,
    "start_time": "2022-03-23T16:31:36.520Z"
   },
   {
    "duration": 70,
    "start_time": "2022-03-23T16:31:36.529Z"
   },
   {
    "duration": 246,
    "start_time": "2022-03-23T16:31:36.601Z"
   },
   {
    "duration": 7,
    "start_time": "2022-03-23T16:31:36.850Z"
   },
   {
    "duration": 60,
    "start_time": "2022-03-23T16:31:36.860Z"
   },
   {
    "duration": 237,
    "start_time": "2022-03-23T16:31:36.922Z"
   },
   {
    "duration": 68,
    "start_time": "2022-03-23T16:31:37.161Z"
   },
   {
    "duration": 8,
    "start_time": "2022-03-23T16:31:37.232Z"
   },
   {
    "duration": 432,
    "start_time": "2022-03-23T16:31:37.242Z"
   },
   {
    "duration": 67,
    "start_time": "2022-03-23T16:31:37.677Z"
   },
   {
    "duration": 317,
    "start_time": "2022-03-23T16:31:37.746Z"
   },
   {
    "duration": 51,
    "start_time": "2022-03-23T16:31:38.066Z"
   },
   {
    "duration": 247,
    "start_time": "2022-03-23T16:31:38.120Z"
   },
   {
    "duration": 53,
    "start_time": "2022-03-23T16:31:38.369Z"
   },
   {
    "duration": 244,
    "start_time": "2022-03-23T16:31:38.425Z"
   },
   {
    "duration": 19,
    "start_time": "2022-03-23T16:31:38.671Z"
   },
   {
    "duration": 301,
    "start_time": "2022-03-23T16:31:38.693Z"
   },
   {
    "duration": 12,
    "start_time": "2022-03-23T16:37:40.760Z"
   },
   {
    "duration": 541,
    "start_time": "2022-03-23T16:38:15.607Z"
   },
   {
    "duration": 539,
    "start_time": "2022-03-23T16:38:22.294Z"
   },
   {
    "duration": 522,
    "start_time": "2022-03-23T16:38:28.339Z"
   },
   {
    "duration": 403,
    "start_time": "2022-03-23T16:40:00.495Z"
   },
   {
    "duration": 637,
    "start_time": "2022-03-23T16:41:13.624Z"
   },
   {
    "duration": 141,
    "start_time": "2022-03-23T16:43:27.602Z"
   },
   {
    "duration": 14,
    "start_time": "2022-03-23T16:43:30.668Z"
   },
   {
    "duration": 250,
    "start_time": "2022-03-23T16:44:37.290Z"
   },
   {
    "duration": 248,
    "start_time": "2022-03-23T16:44:54.836Z"
   },
   {
    "duration": 233,
    "start_time": "2022-03-23T16:45:52.179Z"
   },
   {
    "duration": 535,
    "start_time": "2022-03-23T16:46:01.452Z"
   },
   {
    "duration": 537,
    "start_time": "2022-03-23T16:46:09.842Z"
   },
   {
    "duration": 415,
    "start_time": "2022-03-23T16:46:15.108Z"
   },
   {
    "duration": 160,
    "start_time": "2022-03-23T16:46:33.271Z"
   },
   {
    "duration": 381,
    "start_time": "2022-03-23T16:47:01.277Z"
   },
   {
    "duration": 474,
    "start_time": "2022-03-23T16:47:04.957Z"
   },
   {
    "duration": 412,
    "start_time": "2022-03-23T16:47:09.796Z"
   },
   {
    "duration": 11,
    "start_time": "2022-03-23T16:47:27.969Z"
   },
   {
    "duration": 314,
    "start_time": "2022-03-23T16:47:35.451Z"
   },
   {
    "duration": 342,
    "start_time": "2022-03-23T16:47:57.059Z"
   },
   {
    "duration": 417,
    "start_time": "2022-03-23T16:48:01.500Z"
   },
   {
    "duration": 288,
    "start_time": "2022-03-23T16:49:22.401Z"
   },
   {
    "duration": 435,
    "start_time": "2022-03-23T16:49:33.630Z"
   },
   {
    "duration": 12,
    "start_time": "2022-03-23T16:49:42.335Z"
   },
   {
    "duration": 344,
    "start_time": "2022-03-23T16:49:50.493Z"
   },
   {
    "duration": 387,
    "start_time": "2022-03-23T16:50:01.448Z"
   },
   {
    "duration": 177,
    "start_time": "2022-03-23T16:50:21.026Z"
   },
   {
    "duration": 960,
    "start_time": "2022-03-23T17:06:33.163Z"
   },
   {
    "duration": 147,
    "start_time": "2022-03-23T17:06:34.127Z"
   },
   {
    "duration": 33,
    "start_time": "2022-03-23T17:06:34.277Z"
   },
   {
    "duration": 6,
    "start_time": "2022-03-23T17:06:34.313Z"
   },
   {
    "duration": 1143,
    "start_time": "2022-03-23T17:06:34.323Z"
   },
   {
    "duration": 116,
    "start_time": "2022-03-23T17:06:35.469Z"
   },
   {
    "duration": 8,
    "start_time": "2022-03-23T17:06:35.587Z"
   },
   {
    "duration": 10,
    "start_time": "2022-03-23T17:06:35.597Z"
   },
   {
    "duration": 15,
    "start_time": "2022-03-23T17:06:35.609Z"
   },
   {
    "duration": 8,
    "start_time": "2022-03-23T17:06:35.627Z"
   },
   {
    "duration": 12,
    "start_time": "2022-03-23T17:06:35.637Z"
   },
   {
    "duration": 46,
    "start_time": "2022-03-23T17:06:35.651Z"
   },
   {
    "duration": 11,
    "start_time": "2022-03-23T17:06:35.699Z"
   },
   {
    "duration": 9,
    "start_time": "2022-03-23T17:06:35.716Z"
   },
   {
    "duration": 11,
    "start_time": "2022-03-23T17:06:35.728Z"
   },
   {
    "duration": 44,
    "start_time": "2022-03-23T17:06:35.742Z"
   },
   {
    "duration": 10,
    "start_time": "2022-03-23T17:06:35.789Z"
   },
   {
    "duration": 11,
    "start_time": "2022-03-23T17:06:35.801Z"
   },
   {
    "duration": 19,
    "start_time": "2022-03-23T17:06:35.814Z"
   },
   {
    "duration": 9,
    "start_time": "2022-03-23T17:06:35.835Z"
   },
   {
    "duration": 11,
    "start_time": "2022-03-23T17:06:35.846Z"
   },
   {
    "duration": 10,
    "start_time": "2022-03-23T17:06:35.886Z"
   },
   {
    "duration": 16,
    "start_time": "2022-03-23T17:06:35.898Z"
   },
   {
    "duration": 12,
    "start_time": "2022-03-23T17:06:35.917Z"
   },
   {
    "duration": 7,
    "start_time": "2022-03-23T17:06:35.932Z"
   },
   {
    "duration": 10,
    "start_time": "2022-03-23T17:06:35.941Z"
   },
   {
    "duration": 14,
    "start_time": "2022-03-23T17:06:35.984Z"
   },
   {
    "duration": 15,
    "start_time": "2022-03-23T17:06:36.001Z"
   },
   {
    "duration": 324,
    "start_time": "2022-03-23T17:06:36.018Z"
   },
   {
    "duration": 9,
    "start_time": "2022-03-23T17:06:36.345Z"
   },
   {
    "duration": 32,
    "start_time": "2022-03-23T17:06:36.357Z"
   },
   {
    "duration": 9,
    "start_time": "2022-03-23T17:06:36.391Z"
   },
   {
    "duration": 14,
    "start_time": "2022-03-23T17:06:36.402Z"
   },
   {
    "duration": 10,
    "start_time": "2022-03-23T17:06:36.419Z"
   },
   {
    "duration": 11,
    "start_time": "2022-03-23T17:06:36.431Z"
   },
   {
    "duration": 42,
    "start_time": "2022-03-23T17:06:36.445Z"
   },
   {
    "duration": 23,
    "start_time": "2022-03-23T17:06:36.489Z"
   },
   {
    "duration": 16,
    "start_time": "2022-03-23T17:06:36.514Z"
   },
   {
    "duration": 13,
    "start_time": "2022-03-23T17:06:36.532Z"
   },
   {
    "duration": 36,
    "start_time": "2022-03-23T17:06:36.548Z"
   },
   {
    "duration": 6,
    "start_time": "2022-03-23T17:06:36.597Z"
   },
   {
    "duration": 20,
    "start_time": "2022-03-23T17:06:36.606Z"
   },
   {
    "duration": 10,
    "start_time": "2022-03-23T17:06:36.629Z"
   },
   {
    "duration": 9,
    "start_time": "2022-03-23T17:06:36.641Z"
   },
   {
    "duration": 34,
    "start_time": "2022-03-23T17:06:36.652Z"
   },
   {
    "duration": 488,
    "start_time": "2022-03-23T17:06:36.688Z"
   },
   {
    "duration": 15,
    "start_time": "2022-03-23T17:06:37.178Z"
   },
   {
    "duration": 16,
    "start_time": "2022-03-23T17:06:37.195Z"
   },
   {
    "duration": 8,
    "start_time": "2022-03-23T17:06:37.213Z"
   },
   {
    "duration": 1911,
    "start_time": "2022-03-23T17:06:37.223Z"
   },
   {
    "duration": 15,
    "start_time": "2022-03-23T17:06:39.136Z"
   },
   {
    "duration": 768,
    "start_time": "2022-03-23T17:06:39.153Z"
   },
   {
    "duration": 249,
    "start_time": "2022-03-23T17:06:39.923Z"
   },
   {
    "duration": 10,
    "start_time": "2022-03-23T17:06:40.175Z"
   },
   {
    "duration": 19,
    "start_time": "2022-03-23T17:06:40.188Z"
   },
   {
    "duration": 12,
    "start_time": "2022-03-23T17:06:40.209Z"
   },
   {
    "duration": 230,
    "start_time": "2022-03-23T17:06:40.224Z"
   },
   {
    "duration": 544,
    "start_time": "2022-03-23T17:06:40.457Z"
   },
   {
    "duration": 13,
    "start_time": "2022-03-23T17:06:41.003Z"
   },
   {
    "duration": 385,
    "start_time": "2022-03-23T17:06:41.018Z"
   },
   {
    "duration": 13,
    "start_time": "2022-03-23T17:06:41.405Z"
   },
   {
    "duration": 266,
    "start_time": "2022-03-23T17:06:41.420Z"
   },
   {
    "duration": 503,
    "start_time": "2022-03-23T17:06:41.689Z"
   },
   {
    "duration": 9,
    "start_time": "2022-03-23T17:06:42.196Z"
   },
   {
    "duration": 19,
    "start_time": "2022-03-23T17:06:42.208Z"
   },
   {
    "duration": 301,
    "start_time": "2022-03-23T17:06:42.229Z"
   },
   {
    "duration": 838,
    "start_time": "2022-03-23T17:06:42.533Z"
   },
   {
    "duration": 713,
    "start_time": "2022-03-23T17:06:43.374Z"
   },
   {
    "duration": 38,
    "start_time": "2022-03-23T17:06:44.089Z"
   },
   {
    "duration": 99,
    "start_time": "2022-03-23T17:06:44.130Z"
   },
   {
    "duration": 328,
    "start_time": "2022-03-23T17:06:44.232Z"
   },
   {
    "duration": 7,
    "start_time": "2022-03-23T17:06:44.563Z"
   },
   {
    "duration": 47,
    "start_time": "2022-03-23T17:06:44.585Z"
   },
   {
    "duration": 242,
    "start_time": "2022-03-23T17:06:44.634Z"
   },
   {
    "duration": 8,
    "start_time": "2022-03-23T17:06:44.884Z"
   },
   {
    "duration": 60,
    "start_time": "2022-03-23T17:06:44.894Z"
   },
   {
    "duration": 267,
    "start_time": "2022-03-23T17:06:44.956Z"
   },
   {
    "duration": 72,
    "start_time": "2022-03-23T17:06:45.225Z"
   },
   {
    "duration": 270,
    "start_time": "2022-03-23T17:06:45.299Z"
   },
   {
    "duration": 60,
    "start_time": "2022-03-23T17:06:45.571Z"
   },
   {
    "duration": 276,
    "start_time": "2022-03-23T17:06:45.634Z"
   },
   {
    "duration": 44,
    "start_time": "2022-03-23T17:06:45.913Z"
   },
   {
    "duration": 339,
    "start_time": "2022-03-23T17:06:45.959Z"
   },
   {
    "duration": 52,
    "start_time": "2022-03-23T17:06:46.301Z"
   },
   {
    "duration": 240,
    "start_time": "2022-03-23T17:06:46.356Z"
   },
   {
    "duration": 46,
    "start_time": "2022-03-23T17:06:46.598Z"
   },
   {
    "duration": 255,
    "start_time": "2022-03-23T17:06:46.646Z"
   },
   {
    "duration": 58,
    "start_time": "2022-03-23T17:06:46.903Z"
   },
   {
    "duration": 34,
    "start_time": "2022-03-23T17:06:46.963Z"
   },
   {
    "duration": 16,
    "start_time": "2022-03-23T17:06:46.999Z"
   },
   {
    "duration": 29,
    "start_time": "2022-03-23T17:06:47.018Z"
   },
   {
    "duration": 767,
    "start_time": "2022-03-23T17:06:47.050Z"
   },
   {
    "duration": 6,
    "start_time": "2022-03-23T17:06:47.820Z"
   },
   {
    "duration": 14,
    "start_time": "2022-03-23T17:06:47.829Z"
   },
   {
    "duration": 37,
    "start_time": "2022-03-23T17:06:47.846Z"
   },
   {
    "duration": 6,
    "start_time": "2022-03-23T17:06:47.886Z"
   },
   {
    "duration": 35,
    "start_time": "2022-03-23T17:06:47.894Z"
   },
   {
    "duration": 14,
    "start_time": "2022-03-23T17:06:47.932Z"
   },
   {
    "duration": 330,
    "start_time": "2022-03-23T17:06:47.949Z"
   },
   {
    "duration": 12,
    "start_time": "2022-03-23T17:06:48.284Z"
   },
   {
    "duration": 52,
    "start_time": "2022-03-23T17:06:48.298Z"
   },
   {
    "duration": 294,
    "start_time": "2022-03-23T17:06:48.352Z"
   },
   {
    "duration": 16,
    "start_time": "2022-03-23T17:06:48.649Z"
   },
   {
    "duration": 45,
    "start_time": "2022-03-23T17:06:48.683Z"
   },
   {
    "duration": 247,
    "start_time": "2022-03-23T17:06:48.730Z"
   },
   {
    "duration": 9,
    "start_time": "2022-03-23T17:06:48.979Z"
   },
   {
    "duration": 57,
    "start_time": "2022-03-23T17:06:48.991Z"
   },
   {
    "duration": 305,
    "start_time": "2022-03-23T17:06:49.051Z"
   },
   {
    "duration": 76,
    "start_time": "2022-03-23T17:06:49.358Z"
   },
   {
    "duration": 8,
    "start_time": "2022-03-23T17:06:49.436Z"
   },
   {
    "duration": 257,
    "start_time": "2022-03-23T17:06:49.446Z"
   },
   {
    "duration": 49,
    "start_time": "2022-03-23T17:06:49.706Z"
   },
   {
    "duration": 253,
    "start_time": "2022-03-23T17:06:49.758Z"
   },
   {
    "duration": 71,
    "start_time": "2022-03-23T17:06:50.014Z"
   },
   {
    "duration": 235,
    "start_time": "2022-03-23T17:06:50.087Z"
   },
   {
    "duration": 60,
    "start_time": "2022-03-23T17:06:50.324Z"
   },
   {
    "duration": 235,
    "start_time": "2022-03-23T17:06:50.386Z"
   },
   {
    "duration": 13,
    "start_time": "2022-03-23T17:06:50.624Z"
   },
   {
    "duration": 383,
    "start_time": "2022-03-23T17:06:50.639Z"
   },
   {
    "duration": 315,
    "start_time": "2022-03-23T17:06:51.024Z"
   },
   {
    "duration": 11,
    "start_time": "2022-03-23T17:06:51.341Z"
   },
   {
    "duration": 184,
    "start_time": "2022-03-23T17:06:51.362Z"
   },
   {
    "duration": 417,
    "start_time": "2022-03-23T17:06:51.549Z"
   },
   {
    "duration": 16,
    "start_time": "2022-03-23T17:06:51.969Z"
   },
   {
    "duration": 172,
    "start_time": "2022-03-23T17:06:51.987Z"
   },
   {
    "duration": 309,
    "start_time": "2022-03-23T17:06:52.161Z"
   },
   {
    "duration": 17,
    "start_time": "2022-03-23T17:06:52.473Z"
   },
   {
    "duration": 183,
    "start_time": "2022-03-23T17:06:52.493Z"
   },
   {
    "duration": 382,
    "start_time": "2022-03-23T17:06:52.678Z"
   },
   {
    "duration": 368,
    "start_time": "2022-03-23T17:14:36.701Z"
   },
   {
    "duration": 380,
    "start_time": "2022-03-23T17:14:39.666Z"
   },
   {
    "duration": 549,
    "start_time": "2022-03-23T17:14:42.509Z"
   },
   {
    "duration": 411,
    "start_time": "2022-03-23T17:14:46.545Z"
   },
   {
    "duration": 899,
    "start_time": "2022-03-24T09:48:10.164Z"
   },
   {
    "duration": 85,
    "start_time": "2022-03-24T09:48:11.065Z"
   },
   {
    "duration": 16,
    "start_time": "2022-03-24T09:48:11.152Z"
   },
   {
    "duration": 4,
    "start_time": "2022-03-24T09:48:11.170Z"
   },
   {
    "duration": 635,
    "start_time": "2022-03-24T09:48:11.175Z"
   },
   {
    "duration": 63,
    "start_time": "2022-03-24T09:48:11.812Z"
   },
   {
    "duration": 24,
    "start_time": "2022-03-24T09:48:11.877Z"
   },
   {
    "duration": 5,
    "start_time": "2022-03-24T09:48:11.903Z"
   },
   {
    "duration": 7,
    "start_time": "2022-03-24T09:48:11.909Z"
   },
   {
    "duration": 4,
    "start_time": "2022-03-24T09:48:11.918Z"
   },
   {
    "duration": 6,
    "start_time": "2022-03-24T09:48:11.924Z"
   },
   {
    "duration": 10,
    "start_time": "2022-03-24T09:48:11.931Z"
   },
   {
    "duration": 6,
    "start_time": "2022-03-24T09:48:11.942Z"
   },
   {
    "duration": 5,
    "start_time": "2022-03-24T09:48:11.949Z"
   },
   {
    "duration": 48,
    "start_time": "2022-03-24T09:48:11.956Z"
   },
   {
    "duration": 5,
    "start_time": "2022-03-24T09:48:12.006Z"
   },
   {
    "duration": 6,
    "start_time": "2022-03-24T09:48:12.013Z"
   },
   {
    "duration": 6,
    "start_time": "2022-03-24T09:48:12.021Z"
   },
   {
    "duration": 6,
    "start_time": "2022-03-24T09:48:12.029Z"
   },
   {
    "duration": 6,
    "start_time": "2022-03-24T09:48:12.036Z"
   },
   {
    "duration": 13,
    "start_time": "2022-03-24T09:48:12.044Z"
   },
   {
    "duration": 43,
    "start_time": "2022-03-24T09:48:12.059Z"
   },
   {
    "duration": 8,
    "start_time": "2022-03-24T09:48:12.104Z"
   },
   {
    "duration": 6,
    "start_time": "2022-03-24T09:48:12.114Z"
   },
   {
    "duration": 8,
    "start_time": "2022-03-24T09:48:12.122Z"
   },
   {
    "duration": 8,
    "start_time": "2022-03-24T09:48:12.132Z"
   },
   {
    "duration": 10,
    "start_time": "2022-03-24T09:48:12.142Z"
   },
   {
    "duration": 9,
    "start_time": "2022-03-24T09:48:12.157Z"
   },
   {
    "duration": 140,
    "start_time": "2022-03-24T09:48:12.167Z"
   },
   {
    "duration": 5,
    "start_time": "2022-03-24T09:48:12.309Z"
   },
   {
    "duration": 11,
    "start_time": "2022-03-24T09:48:12.316Z"
   },
   {
    "duration": 6,
    "start_time": "2022-03-24T09:48:12.328Z"
   },
   {
    "duration": 7,
    "start_time": "2022-03-24T09:48:12.335Z"
   },
   {
    "duration": 5,
    "start_time": "2022-03-24T09:48:12.344Z"
   },
   {
    "duration": 6,
    "start_time": "2022-03-24T09:48:12.350Z"
   },
   {
    "duration": 44,
    "start_time": "2022-03-24T09:48:12.357Z"
   },
   {
    "duration": 8,
    "start_time": "2022-03-24T09:48:12.403Z"
   },
   {
    "duration": 12,
    "start_time": "2022-03-24T09:48:12.412Z"
   },
   {
    "duration": 7,
    "start_time": "2022-03-24T09:48:12.425Z"
   },
   {
    "duration": 6,
    "start_time": "2022-03-24T09:48:12.434Z"
   },
   {
    "duration": 9,
    "start_time": "2022-03-24T09:48:12.442Z"
   },
   {
    "duration": 16,
    "start_time": "2022-03-24T09:48:12.452Z"
   },
   {
    "duration": 8,
    "start_time": "2022-03-24T09:48:12.470Z"
   },
   {
    "duration": 21,
    "start_time": "2022-03-24T09:48:12.480Z"
   },
   {
    "duration": 4,
    "start_time": "2022-03-24T09:48:12.502Z"
   },
   {
    "duration": 287,
    "start_time": "2022-03-24T09:48:12.507Z"
   },
   {
    "duration": 7,
    "start_time": "2022-03-24T09:48:12.796Z"
   },
   {
    "duration": 5,
    "start_time": "2022-03-24T09:48:12.805Z"
   },
   {
    "duration": 5,
    "start_time": "2022-03-24T09:48:12.811Z"
   },
   {
    "duration": 750,
    "start_time": "2022-03-24T09:48:12.817Z"
   },
   {
    "duration": 8,
    "start_time": "2022-03-24T09:48:13.568Z"
   },
   {
    "duration": 305,
    "start_time": "2022-03-24T09:48:13.577Z"
   },
   {
    "duration": 104,
    "start_time": "2022-03-24T09:48:13.884Z"
   },
   {
    "duration": 17,
    "start_time": "2022-03-24T09:48:13.990Z"
   },
   {
    "duration": 129,
    "start_time": "2022-03-24T09:48:14.009Z"
   },
   {
    "duration": 301,
    "start_time": "2022-03-24T09:48:14.139Z"
   },
   {
    "duration": 7,
    "start_time": "2022-03-24T09:48:14.442Z"
   },
   {
    "duration": 298,
    "start_time": "2022-03-24T09:48:14.451Z"
   },
   {
    "duration": 8,
    "start_time": "2022-03-24T09:48:14.751Z"
   },
   {
    "duration": 114,
    "start_time": "2022-03-24T09:48:14.760Z"
   },
   {
    "duration": 202,
    "start_time": "2022-03-24T09:48:14.876Z"
   },
   {
    "duration": 7,
    "start_time": "2022-03-24T09:48:15.079Z"
   },
   {
    "duration": 21,
    "start_time": "2022-03-24T09:48:15.088Z"
   },
   {
    "duration": 132,
    "start_time": "2022-03-24T09:48:15.111Z"
   },
   {
    "duration": 337,
    "start_time": "2022-03-24T09:48:15.245Z"
   },
   {
    "duration": 297,
    "start_time": "2022-03-24T09:48:15.584Z"
   },
   {
    "duration": 80,
    "start_time": "2022-03-24T09:48:15.883Z"
   },
   {
    "duration": 0,
    "start_time": "2022-03-24T09:48:15.966Z"
   },
   {
    "duration": 0,
    "start_time": "2022-03-24T09:48:15.968Z"
   },
   {
    "duration": 0,
    "start_time": "2022-03-24T09:48:15.969Z"
   },
   {
    "duration": 0,
    "start_time": "2022-03-24T09:48:15.971Z"
   },
   {
    "duration": 0,
    "start_time": "2022-03-24T09:48:15.972Z"
   },
   {
    "duration": 0,
    "start_time": "2022-03-24T09:48:15.974Z"
   },
   {
    "duration": 0,
    "start_time": "2022-03-24T09:48:15.976Z"
   },
   {
    "duration": 0,
    "start_time": "2022-03-24T09:48:15.978Z"
   },
   {
    "duration": 0,
    "start_time": "2022-03-24T09:48:15.979Z"
   },
   {
    "duration": 0,
    "start_time": "2022-03-24T09:48:15.980Z"
   },
   {
    "duration": 0,
    "start_time": "2022-03-24T09:48:16.002Z"
   },
   {
    "duration": 0,
    "start_time": "2022-03-24T09:48:16.003Z"
   },
   {
    "duration": 0,
    "start_time": "2022-03-24T09:48:16.004Z"
   },
   {
    "duration": 0,
    "start_time": "2022-03-24T09:48:16.006Z"
   },
   {
    "duration": 0,
    "start_time": "2022-03-24T09:48:16.007Z"
   },
   {
    "duration": 0,
    "start_time": "2022-03-24T09:48:16.009Z"
   },
   {
    "duration": 0,
    "start_time": "2022-03-24T09:48:16.010Z"
   },
   {
    "duration": 0,
    "start_time": "2022-03-24T09:48:16.011Z"
   },
   {
    "duration": 0,
    "start_time": "2022-03-24T09:48:16.013Z"
   },
   {
    "duration": 0,
    "start_time": "2022-03-24T09:48:16.014Z"
   },
   {
    "duration": 0,
    "start_time": "2022-03-24T09:48:16.016Z"
   },
   {
    "duration": 0,
    "start_time": "2022-03-24T09:48:16.017Z"
   },
   {
    "duration": 0,
    "start_time": "2022-03-24T09:48:16.018Z"
   },
   {
    "duration": 0,
    "start_time": "2022-03-24T09:48:16.020Z"
   },
   {
    "duration": 0,
    "start_time": "2022-03-24T09:48:16.021Z"
   },
   {
    "duration": 0,
    "start_time": "2022-03-24T09:48:16.023Z"
   },
   {
    "duration": 0,
    "start_time": "2022-03-24T09:48:16.024Z"
   },
   {
    "duration": 0,
    "start_time": "2022-03-24T09:48:16.026Z"
   },
   {
    "duration": 0,
    "start_time": "2022-03-24T09:48:16.027Z"
   },
   {
    "duration": 0,
    "start_time": "2022-03-24T09:48:16.028Z"
   },
   {
    "duration": 0,
    "start_time": "2022-03-24T09:48:16.030Z"
   },
   {
    "duration": 0,
    "start_time": "2022-03-24T09:48:16.031Z"
   },
   {
    "duration": 0,
    "start_time": "2022-03-24T09:48:16.033Z"
   },
   {
    "duration": 0,
    "start_time": "2022-03-24T09:48:16.034Z"
   },
   {
    "duration": 0,
    "start_time": "2022-03-24T09:48:16.035Z"
   },
   {
    "duration": 0,
    "start_time": "2022-03-24T09:48:16.037Z"
   },
   {
    "duration": 0,
    "start_time": "2022-03-24T09:48:16.038Z"
   },
   {
    "duration": 0,
    "start_time": "2022-03-24T09:48:16.040Z"
   },
   {
    "duration": 0,
    "start_time": "2022-03-24T09:48:16.101Z"
   },
   {
    "duration": 0,
    "start_time": "2022-03-24T09:48:16.103Z"
   },
   {
    "duration": 0,
    "start_time": "2022-03-24T09:48:16.104Z"
   },
   {
    "duration": 0,
    "start_time": "2022-03-24T09:48:16.106Z"
   },
   {
    "duration": 0,
    "start_time": "2022-03-24T09:48:16.108Z"
   },
   {
    "duration": 0,
    "start_time": "2022-03-24T09:48:16.109Z"
   },
   {
    "duration": 0,
    "start_time": "2022-03-24T09:48:16.110Z"
   },
   {
    "duration": 0,
    "start_time": "2022-03-24T09:48:16.112Z"
   },
   {
    "duration": 0,
    "start_time": "2022-03-24T09:48:16.113Z"
   },
   {
    "duration": 0,
    "start_time": "2022-03-24T09:48:16.115Z"
   },
   {
    "duration": 0,
    "start_time": "2022-03-24T09:48:16.116Z"
   },
   {
    "duration": 0,
    "start_time": "2022-03-24T09:48:16.117Z"
   },
   {
    "duration": 0,
    "start_time": "2022-03-24T09:48:16.119Z"
   },
   {
    "duration": 0,
    "start_time": "2022-03-24T09:48:16.121Z"
   },
   {
    "duration": 0,
    "start_time": "2022-03-24T09:48:16.122Z"
   },
   {
    "duration": 0,
    "start_time": "2022-03-24T09:48:16.124Z"
   },
   {
    "duration": 0,
    "start_time": "2022-03-24T09:48:16.125Z"
   },
   {
    "duration": 0,
    "start_time": "2022-03-24T09:48:16.126Z"
   },
   {
    "duration": 0,
    "start_time": "2022-03-24T09:48:16.128Z"
   },
   {
    "duration": 0,
    "start_time": "2022-03-24T09:48:16.130Z"
   },
   {
    "duration": 0,
    "start_time": "2022-03-24T09:48:16.131Z"
   },
   {
    "duration": 0,
    "start_time": "2022-03-24T09:48:16.132Z"
   },
   {
    "duration": 0,
    "start_time": "2022-03-24T09:48:16.134Z"
   },
   {
    "duration": 4,
    "start_time": "2022-03-24T09:49:03.144Z"
   },
   {
    "duration": 19,
    "start_time": "2022-03-24T09:49:05.215Z"
   },
   {
    "duration": 724,
    "start_time": "2022-03-24T09:49:18.488Z"
   },
   {
    "duration": 79,
    "start_time": "2022-03-24T09:49:19.214Z"
   },
   {
    "duration": 15,
    "start_time": "2022-03-24T09:49:19.295Z"
   },
   {
    "duration": 4,
    "start_time": "2022-03-24T09:49:19.313Z"
   },
   {
    "duration": 616,
    "start_time": "2022-03-24T09:49:19.318Z"
   },
   {
    "duration": 67,
    "start_time": "2022-03-24T09:49:19.935Z"
   },
   {
    "duration": 5,
    "start_time": "2022-03-24T09:49:20.003Z"
   },
   {
    "duration": 8,
    "start_time": "2022-03-24T09:49:20.010Z"
   },
   {
    "duration": 5,
    "start_time": "2022-03-24T09:49:20.019Z"
   },
   {
    "duration": 4,
    "start_time": "2022-03-24T09:49:20.026Z"
   },
   {
    "duration": 12,
    "start_time": "2022-03-24T09:49:20.031Z"
   },
   {
    "duration": 15,
    "start_time": "2022-03-24T09:49:20.045Z"
   },
   {
    "duration": 9,
    "start_time": "2022-03-24T09:49:20.062Z"
   },
   {
    "duration": 5,
    "start_time": "2022-03-24T09:49:20.073Z"
   },
   {
    "duration": 26,
    "start_time": "2022-03-24T09:49:20.079Z"
   },
   {
    "duration": 9,
    "start_time": "2022-03-24T09:49:20.106Z"
   },
   {
    "duration": 13,
    "start_time": "2022-03-24T09:49:20.116Z"
   },
   {
    "duration": 11,
    "start_time": "2022-03-24T09:49:20.131Z"
   },
   {
    "duration": 5,
    "start_time": "2022-03-24T09:49:20.143Z"
   },
   {
    "duration": 7,
    "start_time": "2022-03-24T09:49:20.150Z"
   },
   {
    "duration": 10,
    "start_time": "2022-03-24T09:49:20.158Z"
   },
   {
    "duration": 9,
    "start_time": "2022-03-24T09:49:20.170Z"
   },
   {
    "duration": 7,
    "start_time": "2022-03-24T09:49:20.202Z"
   },
   {
    "duration": 7,
    "start_time": "2022-03-24T09:49:20.211Z"
   },
   {
    "duration": 8,
    "start_time": "2022-03-24T09:49:20.220Z"
   },
   {
    "duration": 17,
    "start_time": "2022-03-24T09:49:20.230Z"
   },
   {
    "duration": 11,
    "start_time": "2022-03-24T09:49:20.248Z"
   },
   {
    "duration": 9,
    "start_time": "2022-03-24T09:49:20.265Z"
   },
   {
    "duration": 119,
    "start_time": "2022-03-24T09:49:20.300Z"
   },
   {
    "duration": 6,
    "start_time": "2022-03-24T09:49:20.421Z"
   },
   {
    "duration": 10,
    "start_time": "2022-03-24T09:49:20.429Z"
   },
   {
    "duration": 5,
    "start_time": "2022-03-24T09:49:20.440Z"
   },
   {
    "duration": 6,
    "start_time": "2022-03-24T09:49:20.447Z"
   },
   {
    "duration": 6,
    "start_time": "2022-03-24T09:49:20.455Z"
   },
   {
    "duration": 6,
    "start_time": "2022-03-24T09:49:20.463Z"
   },
   {
    "duration": 34,
    "start_time": "2022-03-24T09:49:20.471Z"
   },
   {
    "duration": 9,
    "start_time": "2022-03-24T09:49:20.506Z"
   },
   {
    "duration": 12,
    "start_time": "2022-03-24T09:49:20.516Z"
   },
   {
    "duration": 16,
    "start_time": "2022-03-24T09:49:20.530Z"
   },
   {
    "duration": 5,
    "start_time": "2022-03-24T09:49:20.549Z"
   },
   {
    "duration": 9,
    "start_time": "2022-03-24T09:49:20.556Z"
   },
   {
    "duration": 13,
    "start_time": "2022-03-24T09:49:20.566Z"
   },
   {
    "duration": 24,
    "start_time": "2022-03-24T09:49:20.580Z"
   },
   {
    "duration": 6,
    "start_time": "2022-03-24T09:49:20.605Z"
   },
   {
    "duration": 10,
    "start_time": "2022-03-24T09:49:20.613Z"
   },
   {
    "duration": 272,
    "start_time": "2022-03-24T09:49:20.625Z"
   },
   {
    "duration": 7,
    "start_time": "2022-03-24T09:49:20.901Z"
   },
   {
    "duration": 6,
    "start_time": "2022-03-24T09:49:20.910Z"
   },
   {
    "duration": 5,
    "start_time": "2022-03-24T09:49:20.917Z"
   },
   {
    "duration": 801,
    "start_time": "2022-03-24T09:49:20.923Z"
   },
   {
    "duration": 8,
    "start_time": "2022-03-24T09:49:21.726Z"
   },
   {
    "duration": 308,
    "start_time": "2022-03-24T09:49:21.736Z"
   },
   {
    "duration": 108,
    "start_time": "2022-03-24T09:49:22.046Z"
   },
   {
    "duration": 9,
    "start_time": "2022-03-24T09:49:22.156Z"
   },
   {
    "duration": 148,
    "start_time": "2022-03-24T09:49:22.167Z"
   },
   {
    "duration": 291,
    "start_time": "2022-03-24T09:49:22.317Z"
   },
   {
    "duration": 8,
    "start_time": "2022-03-24T09:49:22.610Z"
   },
   {
    "duration": 204,
    "start_time": "2022-03-24T09:49:22.620Z"
   },
   {
    "duration": 8,
    "start_time": "2022-03-24T09:49:22.826Z"
   },
   {
    "duration": 111,
    "start_time": "2022-03-24T09:49:22.835Z"
   },
   {
    "duration": 191,
    "start_time": "2022-03-24T09:49:22.948Z"
   },
   {
    "duration": 5,
    "start_time": "2022-03-24T09:49:23.140Z"
   },
   {
    "duration": 9,
    "start_time": "2022-03-24T09:49:23.147Z"
   },
   {
    "duration": 129,
    "start_time": "2022-03-24T09:49:23.158Z"
   },
   {
    "duration": 330,
    "start_time": "2022-03-24T09:49:23.288Z"
   },
   {
    "duration": 270,
    "start_time": "2022-03-24T09:49:23.620Z"
   },
   {
    "duration": 12,
    "start_time": "2022-03-24T09:49:23.892Z"
   },
   {
    "duration": 21,
    "start_time": "2022-03-24T09:49:23.905Z"
   },
   {
    "duration": 35,
    "start_time": "2022-03-24T09:49:23.928Z"
   },
   {
    "duration": 158,
    "start_time": "2022-03-24T09:49:23.964Z"
   },
   {
    "duration": 5,
    "start_time": "2022-03-24T09:49:24.124Z"
   },
   {
    "duration": 28,
    "start_time": "2022-03-24T09:49:24.130Z"
   },
   {
    "duration": 152,
    "start_time": "2022-03-24T09:49:24.160Z"
   },
   {
    "duration": 6,
    "start_time": "2022-03-24T09:49:24.314Z"
   },
   {
    "duration": 28,
    "start_time": "2022-03-24T09:49:24.322Z"
   },
   {
    "duration": 135,
    "start_time": "2022-03-24T09:49:24.352Z"
   },
   {
    "duration": 45,
    "start_time": "2022-03-24T09:49:24.488Z"
   },
   {
    "duration": 177,
    "start_time": "2022-03-24T09:49:24.534Z"
   },
   {
    "duration": 31,
    "start_time": "2022-03-24T09:49:24.712Z"
   },
   {
    "duration": 136,
    "start_time": "2022-03-24T09:49:24.745Z"
   },
   {
    "duration": 32,
    "start_time": "2022-03-24T09:49:24.883Z"
   },
   {
    "duration": 115,
    "start_time": "2022-03-24T09:49:24.923Z"
   },
   {
    "duration": 29,
    "start_time": "2022-03-24T09:49:25.040Z"
   },
   {
    "duration": 130,
    "start_time": "2022-03-24T09:49:25.071Z"
   },
   {
    "duration": 27,
    "start_time": "2022-03-24T09:49:25.203Z"
   },
   {
    "duration": 126,
    "start_time": "2022-03-24T09:49:25.232Z"
   },
   {
    "duration": 42,
    "start_time": "2022-03-24T09:49:25.359Z"
   },
   {
    "duration": 8,
    "start_time": "2022-03-24T09:49:25.403Z"
   },
   {
    "duration": 8,
    "start_time": "2022-03-24T09:49:25.412Z"
   },
   {
    "duration": 9,
    "start_time": "2022-03-24T09:49:25.422Z"
   },
   {
    "duration": 485,
    "start_time": "2022-03-24T09:49:25.433Z"
   },
   {
    "duration": 3,
    "start_time": "2022-03-24T09:49:25.920Z"
   },
   {
    "duration": 8,
    "start_time": "2022-03-24T09:49:25.925Z"
   },
   {
    "duration": 4,
    "start_time": "2022-03-24T09:49:25.934Z"
   },
   {
    "duration": 5,
    "start_time": "2022-03-24T09:49:25.939Z"
   },
   {
    "duration": 15,
    "start_time": "2022-03-24T09:49:25.945Z"
   },
   {
    "duration": 7,
    "start_time": "2022-03-24T09:49:25.962Z"
   },
   {
    "duration": 230,
    "start_time": "2022-03-24T09:49:25.971Z"
   },
   {
    "duration": 8,
    "start_time": "2022-03-24T09:49:26.203Z"
   },
   {
    "duration": 31,
    "start_time": "2022-03-24T09:49:26.212Z"
   },
   {
    "duration": 171,
    "start_time": "2022-03-24T09:49:26.244Z"
   },
   {
    "duration": 5,
    "start_time": "2022-03-24T09:49:26.416Z"
   },
   {
    "duration": 27,
    "start_time": "2022-03-24T09:49:26.423Z"
   },
   {
    "duration": 137,
    "start_time": "2022-03-24T09:49:26.451Z"
   },
   {
    "duration": 12,
    "start_time": "2022-03-24T09:49:26.590Z"
   },
   {
    "duration": 27,
    "start_time": "2022-03-24T09:49:26.603Z"
   },
   {
    "duration": 140,
    "start_time": "2022-03-24T09:49:26.632Z"
   },
   {
    "duration": 47,
    "start_time": "2022-03-24T09:49:26.774Z"
   },
   {
    "duration": 6,
    "start_time": "2022-03-24T09:49:26.822Z"
   },
   {
    "duration": 151,
    "start_time": "2022-03-24T09:49:26.829Z"
   },
   {
    "duration": 38,
    "start_time": "2022-03-24T09:49:26.982Z"
   },
   {
    "duration": 133,
    "start_time": "2022-03-24T09:49:27.022Z"
   },
   {
    "duration": 28,
    "start_time": "2022-03-24T09:49:27.157Z"
   },
   {
    "duration": 134,
    "start_time": "2022-03-24T09:49:27.187Z"
   },
   {
    "duration": 29,
    "start_time": "2022-03-24T09:49:27.323Z"
   },
   {
    "duration": 207,
    "start_time": "2022-03-24T09:49:27.353Z"
   },
   {
    "duration": 7,
    "start_time": "2022-03-24T09:49:27.562Z"
   },
   {
    "duration": 101,
    "start_time": "2022-03-24T09:49:27.570Z"
   },
   {
    "duration": 158,
    "start_time": "2022-03-24T09:49:27.673Z"
   },
   {
    "duration": 7,
    "start_time": "2022-03-24T09:49:27.832Z"
   },
   {
    "duration": 95,
    "start_time": "2022-03-24T09:49:27.841Z"
   },
   {
    "duration": 222,
    "start_time": "2022-03-24T09:49:27.937Z"
   },
   {
    "duration": 8,
    "start_time": "2022-03-24T09:49:28.160Z"
   },
   {
    "duration": 94,
    "start_time": "2022-03-24T09:49:28.170Z"
   },
   {
    "duration": 171,
    "start_time": "2022-03-24T09:49:28.266Z"
   },
   {
    "duration": 8,
    "start_time": "2022-03-24T09:49:28.439Z"
   },
   {
    "duration": 102,
    "start_time": "2022-03-24T09:49:28.448Z"
   },
   {
    "duration": 209,
    "start_time": "2022-03-24T09:49:28.552Z"
   },
   {
    "duration": 5,
    "start_time": "2022-03-24T09:53:23.067Z"
   },
   {
    "duration": 5,
    "start_time": "2022-03-24T09:53:38.416Z"
   },
   {
    "duration": 815,
    "start_time": "2022-03-24T09:53:44.177Z"
   },
   {
    "duration": 78,
    "start_time": "2022-03-24T09:53:44.994Z"
   },
   {
    "duration": 14,
    "start_time": "2022-03-24T09:53:45.074Z"
   },
   {
    "duration": 11,
    "start_time": "2022-03-24T09:53:45.090Z"
   },
   {
    "duration": 600,
    "start_time": "2022-03-24T09:53:45.102Z"
   },
   {
    "duration": 62,
    "start_time": "2022-03-24T09:53:45.704Z"
   },
   {
    "duration": 4,
    "start_time": "2022-03-24T09:53:45.768Z"
   },
   {
    "duration": 27,
    "start_time": "2022-03-24T09:53:45.774Z"
   },
   {
    "duration": 5,
    "start_time": "2022-03-24T09:53:45.802Z"
   },
   {
    "duration": 6,
    "start_time": "2022-03-24T09:53:45.809Z"
   },
   {
    "duration": 7,
    "start_time": "2022-03-24T09:53:45.816Z"
   },
   {
    "duration": 11,
    "start_time": "2022-03-24T09:53:45.825Z"
   },
   {
    "duration": 11,
    "start_time": "2022-03-24T09:53:45.837Z"
   },
   {
    "duration": 5,
    "start_time": "2022-03-24T09:53:45.850Z"
   },
   {
    "duration": 8,
    "start_time": "2022-03-24T09:53:45.857Z"
   },
   {
    "duration": 36,
    "start_time": "2022-03-24T09:53:45.867Z"
   },
   {
    "duration": 7,
    "start_time": "2022-03-24T09:53:45.905Z"
   },
   {
    "duration": 8,
    "start_time": "2022-03-24T09:53:45.914Z"
   },
   {
    "duration": 10,
    "start_time": "2022-03-24T09:53:45.923Z"
   },
   {
    "duration": 8,
    "start_time": "2022-03-24T09:53:45.934Z"
   },
   {
    "duration": 10,
    "start_time": "2022-03-24T09:53:45.943Z"
   },
   {
    "duration": 9,
    "start_time": "2022-03-24T09:53:45.954Z"
   },
   {
    "duration": 10,
    "start_time": "2022-03-24T09:53:45.965Z"
   },
   {
    "duration": 27,
    "start_time": "2022-03-24T09:53:45.976Z"
   },
   {
    "duration": 3,
    "start_time": "2022-03-24T09:53:46.005Z"
   },
   {
    "duration": 9,
    "start_time": "2022-03-24T09:53:46.009Z"
   },
   {
    "duration": 14,
    "start_time": "2022-03-24T09:53:46.020Z"
   },
   {
    "duration": 8,
    "start_time": "2022-03-24T09:53:46.038Z"
   },
   {
    "duration": 135,
    "start_time": "2022-03-24T09:53:46.048Z"
   },
   {
    "duration": 5,
    "start_time": "2022-03-24T09:53:46.185Z"
   },
   {
    "duration": 15,
    "start_time": "2022-03-24T09:53:46.192Z"
   },
   {
    "duration": 5,
    "start_time": "2022-03-24T09:53:46.208Z"
   },
   {
    "duration": 5,
    "start_time": "2022-03-24T09:53:46.215Z"
   },
   {
    "duration": 5,
    "start_time": "2022-03-24T09:53:46.222Z"
   },
   {
    "duration": 5,
    "start_time": "2022-03-24T09:53:46.228Z"
   },
   {
    "duration": 6,
    "start_time": "2022-03-24T09:53:46.234Z"
   },
   {
    "duration": 11,
    "start_time": "2022-03-24T09:53:46.242Z"
   },
   {
    "duration": 11,
    "start_time": "2022-03-24T09:53:46.254Z"
   },
   {
    "duration": 8,
    "start_time": "2022-03-24T09:53:46.301Z"
   },
   {
    "duration": 4,
    "start_time": "2022-03-24T09:53:46.310Z"
   },
   {
    "duration": 8,
    "start_time": "2022-03-24T09:53:46.316Z"
   },
   {
    "duration": 11,
    "start_time": "2022-03-24T09:53:46.325Z"
   },
   {
    "duration": 8,
    "start_time": "2022-03-24T09:53:46.337Z"
   },
   {
    "duration": 9,
    "start_time": "2022-03-24T09:53:46.347Z"
   },
   {
    "duration": 4,
    "start_time": "2022-03-24T09:53:46.357Z"
   },
   {
    "duration": 284,
    "start_time": "2022-03-24T09:53:46.363Z"
   },
   {
    "duration": 7,
    "start_time": "2022-03-24T09:53:46.648Z"
   },
   {
    "duration": 5,
    "start_time": "2022-03-24T09:53:46.657Z"
   },
   {
    "duration": 4,
    "start_time": "2022-03-24T09:53:46.664Z"
   },
   {
    "duration": 708,
    "start_time": "2022-03-24T09:53:46.669Z"
   },
   {
    "duration": 7,
    "start_time": "2022-03-24T09:53:47.379Z"
   },
   {
    "duration": 295,
    "start_time": "2022-03-24T09:53:47.388Z"
   },
   {
    "duration": 99,
    "start_time": "2022-03-24T09:53:47.685Z"
   },
   {
    "duration": 19,
    "start_time": "2022-03-24T09:53:47.785Z"
   },
   {
    "duration": 111,
    "start_time": "2022-03-24T09:53:47.806Z"
   },
   {
    "duration": 270,
    "start_time": "2022-03-24T09:53:47.919Z"
   },
   {
    "duration": 12,
    "start_time": "2022-03-24T09:53:48.191Z"
   },
   {
    "duration": 197,
    "start_time": "2022-03-24T09:53:48.204Z"
   },
   {
    "duration": 8,
    "start_time": "2022-03-24T09:53:48.403Z"
   },
   {
    "duration": 107,
    "start_time": "2022-03-24T09:53:48.412Z"
   },
   {
    "duration": 189,
    "start_time": "2022-03-24T09:53:48.521Z"
   },
   {
    "duration": 6,
    "start_time": "2022-03-24T09:53:48.711Z"
   },
   {
    "duration": 10,
    "start_time": "2022-03-24T09:53:48.718Z"
   },
   {
    "duration": 127,
    "start_time": "2022-03-24T09:53:48.729Z"
   },
   {
    "duration": 328,
    "start_time": "2022-03-24T09:53:48.858Z"
   },
   {
    "duration": 254,
    "start_time": "2022-03-24T09:53:49.188Z"
   },
   {
    "duration": 5,
    "start_time": "2022-03-24T09:53:49.443Z"
   },
   {
    "duration": 5,
    "start_time": "2022-03-24T09:53:49.449Z"
   },
   {
    "duration": 19,
    "start_time": "2022-03-24T09:53:49.455Z"
   },
   {
    "duration": 55,
    "start_time": "2022-03-24T09:53:49.475Z"
   },
   {
    "duration": 138,
    "start_time": "2022-03-24T09:53:49.532Z"
   },
   {
    "duration": 5,
    "start_time": "2022-03-24T09:53:49.671Z"
   },
   {
    "duration": 39,
    "start_time": "2022-03-24T09:53:49.677Z"
   },
   {
    "duration": 116,
    "start_time": "2022-03-24T09:53:49.718Z"
   },
   {
    "duration": 4,
    "start_time": "2022-03-24T09:53:49.836Z"
   },
   {
    "duration": 27,
    "start_time": "2022-03-24T09:53:49.841Z"
   },
   {
    "duration": 135,
    "start_time": "2022-03-24T09:53:49.869Z"
   },
   {
    "duration": 38,
    "start_time": "2022-03-24T09:53:50.006Z"
   },
   {
    "duration": 169,
    "start_time": "2022-03-24T09:53:50.045Z"
   },
   {
    "duration": 32,
    "start_time": "2022-03-24T09:53:50.215Z"
   },
   {
    "duration": 145,
    "start_time": "2022-03-24T09:53:50.249Z"
   },
   {
    "duration": 27,
    "start_time": "2022-03-24T09:53:50.401Z"
   },
   {
    "duration": 128,
    "start_time": "2022-03-24T09:53:50.430Z"
   },
   {
    "duration": 29,
    "start_time": "2022-03-24T09:53:50.560Z"
   },
   {
    "duration": 124,
    "start_time": "2022-03-24T09:53:50.591Z"
   },
   {
    "duration": 28,
    "start_time": "2022-03-24T09:53:50.717Z"
   },
   {
    "duration": 138,
    "start_time": "2022-03-24T09:53:50.746Z"
   },
   {
    "duration": 41,
    "start_time": "2022-03-24T09:53:50.885Z"
   },
   {
    "duration": 9,
    "start_time": "2022-03-24T09:53:50.928Z"
   },
   {
    "duration": 8,
    "start_time": "2022-03-24T09:53:50.938Z"
   },
   {
    "duration": 8,
    "start_time": "2022-03-24T09:53:50.947Z"
   },
   {
    "duration": 386,
    "start_time": "2022-03-24T09:53:50.956Z"
   },
   {
    "duration": 4,
    "start_time": "2022-03-24T09:53:51.343Z"
   },
   {
    "duration": 9,
    "start_time": "2022-03-24T09:53:51.349Z"
   },
   {
    "duration": 3,
    "start_time": "2022-03-24T09:53:51.360Z"
   },
   {
    "duration": 5,
    "start_time": "2022-03-24T09:53:51.365Z"
   },
   {
    "duration": 43,
    "start_time": "2022-03-24T09:53:51.371Z"
   },
   {
    "duration": 7,
    "start_time": "2022-03-24T09:53:51.415Z"
   },
   {
    "duration": 138,
    "start_time": "2022-03-24T09:53:51.424Z"
   },
   {
    "duration": 8,
    "start_time": "2022-03-24T09:53:51.564Z"
   },
   {
    "duration": 42,
    "start_time": "2022-03-24T09:53:51.574Z"
   },
   {
    "duration": 135,
    "start_time": "2022-03-24T09:53:51.617Z"
   },
   {
    "duration": 4,
    "start_time": "2022-03-24T09:53:51.754Z"
   },
   {
    "duration": 42,
    "start_time": "2022-03-24T09:53:51.760Z"
   },
   {
    "duration": 131,
    "start_time": "2022-03-24T09:53:51.803Z"
   },
   {
    "duration": 5,
    "start_time": "2022-03-24T09:53:51.936Z"
   },
   {
    "duration": 27,
    "start_time": "2022-03-24T09:53:51.943Z"
   },
   {
    "duration": 139,
    "start_time": "2022-03-24T09:53:51.971Z"
   },
   {
    "duration": 32,
    "start_time": "2022-03-24T09:53:52.112Z"
   },
   {
    "duration": 5,
    "start_time": "2022-03-24T09:53:52.145Z"
   },
   {
    "duration": 157,
    "start_time": "2022-03-24T09:53:52.152Z"
   },
   {
    "duration": 32,
    "start_time": "2022-03-24T09:53:52.310Z"
   },
   {
    "duration": 142,
    "start_time": "2022-03-24T09:53:52.344Z"
   },
   {
    "duration": 34,
    "start_time": "2022-03-24T09:53:52.488Z"
   },
   {
    "duration": 133,
    "start_time": "2022-03-24T09:53:52.524Z"
   },
   {
    "duration": 31,
    "start_time": "2022-03-24T09:53:52.658Z"
   },
   {
    "duration": 209,
    "start_time": "2022-03-24T09:53:52.702Z"
   },
   {
    "duration": 7,
    "start_time": "2022-03-24T09:53:52.912Z"
   },
   {
    "duration": 101,
    "start_time": "2022-03-24T09:53:52.921Z"
   },
   {
    "duration": 144,
    "start_time": "2022-03-24T09:53:53.023Z"
   },
   {
    "duration": 8,
    "start_time": "2022-03-24T09:53:53.168Z"
   },
   {
    "duration": 99,
    "start_time": "2022-03-24T09:53:53.177Z"
   },
   {
    "duration": 231,
    "start_time": "2022-03-24T09:53:53.278Z"
   },
   {
    "duration": 7,
    "start_time": "2022-03-24T09:53:53.510Z"
   },
   {
    "duration": 93,
    "start_time": "2022-03-24T09:53:53.519Z"
   },
   {
    "duration": 162,
    "start_time": "2022-03-24T09:53:53.613Z"
   },
   {
    "duration": 7,
    "start_time": "2022-03-24T09:53:53.776Z"
   },
   {
    "duration": 104,
    "start_time": "2022-03-24T09:53:53.785Z"
   },
   {
    "duration": 300,
    "start_time": "2022-03-24T09:53:53.901Z"
   }
  ],
  "kernelspec": {
   "display_name": "Python 3 (ipykernel)",
   "language": "python",
   "name": "python3"
  },
  "language_info": {
   "codemirror_mode": {
    "name": "ipython",
    "version": 3
   },
   "file_extension": ".py",
   "mimetype": "text/x-python",
   "name": "python",
   "nbconvert_exporter": "python",
   "pygments_lexer": "ipython3",
   "version": "3.9.5"
  },
  "toc": {
   "base_numbering": 1,
   "nav_menu": {},
   "number_sections": false,
   "sideBar": true,
   "skip_h1_title": false,
   "title_cell": "Содержание",
   "title_sidebar": "Contents",
   "toc_cell": true,
   "toc_position": {
    "height": "calc(100% - 180px)",
    "left": "10px",
    "top": "150px",
    "width": "339px"
   },
   "toc_section_display": true,
   "toc_window_display": true
  }
 },
 "nbformat": 4,
 "nbformat_minor": 4
}
