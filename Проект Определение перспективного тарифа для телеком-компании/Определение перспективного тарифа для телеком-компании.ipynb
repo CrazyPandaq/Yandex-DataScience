{
 "cells": [
  {
   "cell_type": "markdown",
   "metadata": {},
   "source": [
    "## Информация проекта"
   ]
  },
  {
   "cell_type": "markdown",
   "metadata": {},
   "source": [
    "Вы аналитик компании «Мегалайн» — федерального оператора сотовой связи. Клиентам предлагают два тарифных плана: «Смарт» и «Ультра». Чтобы скорректировать рекламный бюджет, коммерческий департамент хочет понять, какой тариф приносит больше денег.\n",
    "\n",
    "Вам предстоит сделать предварительный анализ тарифов на небольшой выборке клиентов. В вашем распоряжении данные 500 пользователей «Мегалайна»: кто они, откуда, каким тарифом пользуются, сколько звонков и сообщений каждый отправил за 2018 год. Нужно проанализировать поведение клиентов и сделать вывод — какой тариф лучше."
   ]
  },
  {
   "cell_type": "markdown",
   "metadata": {},
   "source": [
    "### Описание данных:"
   ]
  },
  {
   "cell_type": "markdown",
   "metadata": {},
   "source": [
    " - Таблица users (информация о пользователях):\n",
    "* user_id — уникальный идентификатор пользователя\n",
    "* first_name — имя пользователя\n",
    "* last_name — фамилия пользователя\n",
    "* age — возраст пользователя (годы)\n",
    "* reg_date — дата подключения тарифа (день, месяц, год)\n",
    "* churn_date — дата прекращения пользования тарифом (если значение пропущено, то тариф ещё действовал на момент выгрузки данных)\n",
    "* city — город проживания пользователя\n",
    "* tariff — название тарифного плана\n",
    " - Таблица calls (информация о звонках):\n",
    "* id — уникальный номер звонка\n",
    "* call_date — дата звонка\n",
    "* duration — длительность звонка в минутах\n",
    "* user_id — идентификатор пользователя, сделавшего звонок\n",
    " - Таблица messages (информация о сообщениях):\n",
    "* id — уникальный номер сообщения\n",
    "* message_date — дата сообщения\n",
    "* user_id — идентификатор пользователя, отправившего сообщение\n",
    " - Таблица internet (информация об интернет-сессиях):\n",
    "* id — уникальный номер сессии\n",
    "* mb_used — объём потраченного за сессию интернет-трафика (в мегабайтах)\n",
    "* session_date — дата интернет-сессии\n",
    "* user_id — идентификатор пользователя\n",
    " - Таблица tariffs (информация о тарифах):\n",
    "* tariff_name — название тарифа\n",
    "* rub_monthly_fee — ежемесячная абонентская плата в рублях\n",
    "* minutes_included — количество минут разговора в месяц, включённых в абонентскую плату\n",
    "* messages_included — количество сообщений в месяц, включённых в абонентскую плату\n",
    "* mb_per_month_included — объём интернет-трафика, включённого в абонентскую плату (в мегабайтах)\n",
    "* rub_per_minute — стоимость минуты разговора сверх тарифного пакета (например, если в тарифе 100 минут разговора в месяц, то со 101 минуты будет взиматься плата)\n",
    "* rub_per_message — стоимость отправки сообщения сверх тарифного пакета\n",
    "* rub_per_gb — стоимость дополнительного гигабайта интернет-трафика сверх тарифного пакета (1 гигабайт = 1024 мегабайта)"
   ]
  },
  {
   "cell_type": "markdown",
   "metadata": {},
   "source": [
    "### Описание тарифов:"
   ]
  },
  {
   "cell_type": "markdown",
   "metadata": {},
   "source": [
    "1. Тариф «Смарт»:\n",
    "Ежемесячная плата: 550 рублей\n",
    "Включено 500 минут разговора, 50 сообщений и 15 Гб интернет-трафика\n",
    "Стоимость услуг сверх тарифного пакета:\n",
    "минута разговора: 3 рубля\n",
    "сообщение: 3 рубля\n",
    "1 Гб интернет-трафика: 200 рублей\n",
    "\n",
    "\n",
    "2. Тариф «Ультра»:\n",
    "Ежемесячная плата: 1950 рублей\n",
    "Включено 3000 минут разговора, 1000 сообщений и 30 Гб интернет-трафика\n",
    "Стоимость услуг сверх тарифного пакета:\n",
    "минута разговора: 1 рубль\n",
    "сообщение: 1 рубль\n",
    "1 Гб интернет-трафика: 150 рублей"
   ]
  },
  {
   "cell_type": "markdown",
   "metadata": {},
   "source": [
    "## Изучение данных из файла"
   ]
  },
  {
   "cell_type": "code",
   "execution_count": 1,
   "metadata": {},
   "outputs": [],
   "source": [
    "import pandas as pd\n",
    "import matplotlib.pyplot as plt\n",
    "import numpy as np\n",
    "from scipy import stats as st\n",
    "import math\n",
    "import seaborn as sns"
   ]
  },
  {
   "cell_type": "code",
   "execution_count": 2,
   "metadata": {},
   "outputs": [],
   "source": [
    "calls = pd.read_csv(\"/datasets/calls.csv\")\n",
    "internet = pd.read_csv(\"/datasets/internet.csv\", index_col=0)\n",
    "messages = pd.read_csv(\"/datasets/messages.csv\")\n",
    "tarif = pd.read_csv(\"/datasets/tariffs.csv\")\n",
    "users = pd.read_csv(\"/datasets/users.csv\")"
   ]
  },
  {
   "cell_type": "markdown",
   "metadata": {},
   "source": [
    "### Информация о звонках"
   ]
  },
  {
   "cell_type": "code",
   "execution_count": 3,
   "metadata": {},
   "outputs": [
    {
     "name": "stdout",
     "output_type": "stream",
     "text": [
      "<class 'pandas.core.frame.DataFrame'>\n",
      "RangeIndex: 202607 entries, 0 to 202606\n",
      "Data columns (total 4 columns):\n",
      " #   Column     Non-Null Count   Dtype  \n",
      "---  ------     --------------   -----  \n",
      " 0   id         202607 non-null  object \n",
      " 1   call_date  202607 non-null  object \n",
      " 2   duration   202607 non-null  float64\n",
      " 3   user_id    202607 non-null  int64  \n",
      "dtypes: float64(1), int64(1), object(2)\n",
      "memory usage: 6.2+ MB\n"
     ]
    },
    {
     "data": {
      "text/html": [
       "<div>\n",
       "<style scoped>\n",
       "    .dataframe tbody tr th:only-of-type {\n",
       "        vertical-align: middle;\n",
       "    }\n",
       "\n",
       "    .dataframe tbody tr th {\n",
       "        vertical-align: top;\n",
       "    }\n",
       "\n",
       "    .dataframe thead th {\n",
       "        text-align: right;\n",
       "    }\n",
       "</style>\n",
       "<table border=\"1\" class=\"dataframe\">\n",
       "  <thead>\n",
       "    <tr style=\"text-align: right;\">\n",
       "      <th></th>\n",
       "      <th>id</th>\n",
       "      <th>call_date</th>\n",
       "      <th>duration</th>\n",
       "      <th>user_id</th>\n",
       "    </tr>\n",
       "  </thead>\n",
       "  <tbody>\n",
       "    <tr>\n",
       "      <th>0</th>\n",
       "      <td>1000_0</td>\n",
       "      <td>2018-07-25</td>\n",
       "      <td>0.00</td>\n",
       "      <td>1000</td>\n",
       "    </tr>\n",
       "    <tr>\n",
       "      <th>1</th>\n",
       "      <td>1000_1</td>\n",
       "      <td>2018-08-17</td>\n",
       "      <td>0.00</td>\n",
       "      <td>1000</td>\n",
       "    </tr>\n",
       "    <tr>\n",
       "      <th>2</th>\n",
       "      <td>1000_2</td>\n",
       "      <td>2018-06-11</td>\n",
       "      <td>2.85</td>\n",
       "      <td>1000</td>\n",
       "    </tr>\n",
       "    <tr>\n",
       "      <th>3</th>\n",
       "      <td>1000_3</td>\n",
       "      <td>2018-09-21</td>\n",
       "      <td>13.80</td>\n",
       "      <td>1000</td>\n",
       "    </tr>\n",
       "    <tr>\n",
       "      <th>4</th>\n",
       "      <td>1000_4</td>\n",
       "      <td>2018-12-15</td>\n",
       "      <td>5.18</td>\n",
       "      <td>1000</td>\n",
       "    </tr>\n",
       "    <tr>\n",
       "      <th>5</th>\n",
       "      <td>1000_5</td>\n",
       "      <td>2018-11-02</td>\n",
       "      <td>0.00</td>\n",
       "      <td>1000</td>\n",
       "    </tr>\n",
       "    <tr>\n",
       "      <th>6</th>\n",
       "      <td>1000_6</td>\n",
       "      <td>2018-10-18</td>\n",
       "      <td>0.00</td>\n",
       "      <td>1000</td>\n",
       "    </tr>\n",
       "    <tr>\n",
       "      <th>7</th>\n",
       "      <td>1000_7</td>\n",
       "      <td>2018-08-22</td>\n",
       "      <td>18.31</td>\n",
       "      <td>1000</td>\n",
       "    </tr>\n",
       "    <tr>\n",
       "      <th>8</th>\n",
       "      <td>1000_8</td>\n",
       "      <td>2018-09-15</td>\n",
       "      <td>18.44</td>\n",
       "      <td>1000</td>\n",
       "    </tr>\n",
       "    <tr>\n",
       "      <th>9</th>\n",
       "      <td>1000_9</td>\n",
       "      <td>2018-08-15</td>\n",
       "      <td>0.00</td>\n",
       "      <td>1000</td>\n",
       "    </tr>\n",
       "  </tbody>\n",
       "</table>\n",
       "</div>"
      ],
      "text/plain": [
       "       id   call_date  duration  user_id\n",
       "0  1000_0  2018-07-25      0.00     1000\n",
       "1  1000_1  2018-08-17      0.00     1000\n",
       "2  1000_2  2018-06-11      2.85     1000\n",
       "3  1000_3  2018-09-21     13.80     1000\n",
       "4  1000_4  2018-12-15      5.18     1000\n",
       "5  1000_5  2018-11-02      0.00     1000\n",
       "6  1000_6  2018-10-18      0.00     1000\n",
       "7  1000_7  2018-08-22     18.31     1000\n",
       "8  1000_8  2018-09-15     18.44     1000\n",
       "9  1000_9  2018-08-15      0.00     1000"
      ]
     },
     "execution_count": 3,
     "metadata": {},
     "output_type": "execute_result"
    }
   ],
   "source": [
    "calls.info()\n",
    "calls.head(10)"
   ]
  },
  {
   "cell_type": "markdown",
   "metadata": {},
   "source": [
    "### Информация об интернет-сессиях"
   ]
  },
  {
   "cell_type": "code",
   "execution_count": 4,
   "metadata": {},
   "outputs": [
    {
     "name": "stdout",
     "output_type": "stream",
     "text": [
      "<class 'pandas.core.frame.DataFrame'>\n",
      "Int64Index: 149396 entries, 0 to 149395\n",
      "Data columns (total 4 columns):\n",
      " #   Column        Non-Null Count   Dtype  \n",
      "---  ------        --------------   -----  \n",
      " 0   id            149396 non-null  object \n",
      " 1   mb_used       149396 non-null  float64\n",
      " 2   session_date  149396 non-null  object \n",
      " 3   user_id       149396 non-null  int64  \n",
      "dtypes: float64(1), int64(1), object(2)\n",
      "memory usage: 5.7+ MB\n"
     ]
    },
    {
     "data": {
      "text/html": [
       "<div>\n",
       "<style scoped>\n",
       "    .dataframe tbody tr th:only-of-type {\n",
       "        vertical-align: middle;\n",
       "    }\n",
       "\n",
       "    .dataframe tbody tr th {\n",
       "        vertical-align: top;\n",
       "    }\n",
       "\n",
       "    .dataframe thead th {\n",
       "        text-align: right;\n",
       "    }\n",
       "</style>\n",
       "<table border=\"1\" class=\"dataframe\">\n",
       "  <thead>\n",
       "    <tr style=\"text-align: right;\">\n",
       "      <th></th>\n",
       "      <th>id</th>\n",
       "      <th>mb_used</th>\n",
       "      <th>session_date</th>\n",
       "      <th>user_id</th>\n",
       "    </tr>\n",
       "  </thead>\n",
       "  <tbody>\n",
       "    <tr>\n",
       "      <th>0</th>\n",
       "      <td>1000_0</td>\n",
       "      <td>112.95</td>\n",
       "      <td>2018-11-25</td>\n",
       "      <td>1000</td>\n",
       "    </tr>\n",
       "    <tr>\n",
       "      <th>1</th>\n",
       "      <td>1000_1</td>\n",
       "      <td>1052.81</td>\n",
       "      <td>2018-09-07</td>\n",
       "      <td>1000</td>\n",
       "    </tr>\n",
       "    <tr>\n",
       "      <th>2</th>\n",
       "      <td>1000_2</td>\n",
       "      <td>1197.26</td>\n",
       "      <td>2018-06-25</td>\n",
       "      <td>1000</td>\n",
       "    </tr>\n",
       "    <tr>\n",
       "      <th>3</th>\n",
       "      <td>1000_3</td>\n",
       "      <td>550.27</td>\n",
       "      <td>2018-08-22</td>\n",
       "      <td>1000</td>\n",
       "    </tr>\n",
       "    <tr>\n",
       "      <th>4</th>\n",
       "      <td>1000_4</td>\n",
       "      <td>302.56</td>\n",
       "      <td>2018-09-24</td>\n",
       "      <td>1000</td>\n",
       "    </tr>\n",
       "    <tr>\n",
       "      <th>5</th>\n",
       "      <td>1000_5</td>\n",
       "      <td>399.97</td>\n",
       "      <td>2018-10-02</td>\n",
       "      <td>1000</td>\n",
       "    </tr>\n",
       "    <tr>\n",
       "      <th>6</th>\n",
       "      <td>1000_6</td>\n",
       "      <td>540.08</td>\n",
       "      <td>2018-09-07</td>\n",
       "      <td>1000</td>\n",
       "    </tr>\n",
       "    <tr>\n",
       "      <th>7</th>\n",
       "      <td>1000_7</td>\n",
       "      <td>415.70</td>\n",
       "      <td>2018-07-11</td>\n",
       "      <td>1000</td>\n",
       "    </tr>\n",
       "    <tr>\n",
       "      <th>8</th>\n",
       "      <td>1000_8</td>\n",
       "      <td>505.40</td>\n",
       "      <td>2018-10-08</td>\n",
       "      <td>1000</td>\n",
       "    </tr>\n",
       "    <tr>\n",
       "      <th>9</th>\n",
       "      <td>1000_9</td>\n",
       "      <td>345.54</td>\n",
       "      <td>2018-09-03</td>\n",
       "      <td>1000</td>\n",
       "    </tr>\n",
       "  </tbody>\n",
       "</table>\n",
       "</div>"
      ],
      "text/plain": [
       "       id  mb_used session_date  user_id\n",
       "0  1000_0   112.95   2018-11-25     1000\n",
       "1  1000_1  1052.81   2018-09-07     1000\n",
       "2  1000_2  1197.26   2018-06-25     1000\n",
       "3  1000_3   550.27   2018-08-22     1000\n",
       "4  1000_4   302.56   2018-09-24     1000\n",
       "5  1000_5   399.97   2018-10-02     1000\n",
       "6  1000_6   540.08   2018-09-07     1000\n",
       "7  1000_7   415.70   2018-07-11     1000\n",
       "8  1000_8   505.40   2018-10-08     1000\n",
       "9  1000_9   345.54   2018-09-03     1000"
      ]
     },
     "execution_count": 4,
     "metadata": {},
     "output_type": "execute_result"
    }
   ],
   "source": [
    "internet.info()\n",
    "internet.head(10)"
   ]
  },
  {
   "cell_type": "markdown",
   "metadata": {},
   "source": [
    "### Информация о сообщениях"
   ]
  },
  {
   "cell_type": "code",
   "execution_count": 5,
   "metadata": {},
   "outputs": [
    {
     "name": "stdout",
     "output_type": "stream",
     "text": [
      "<class 'pandas.core.frame.DataFrame'>\n",
      "RangeIndex: 123036 entries, 0 to 123035\n",
      "Data columns (total 3 columns):\n",
      " #   Column        Non-Null Count   Dtype \n",
      "---  ------        --------------   ----- \n",
      " 0   id            123036 non-null  object\n",
      " 1   message_date  123036 non-null  object\n",
      " 2   user_id       123036 non-null  int64 \n",
      "dtypes: int64(1), object(2)\n",
      "memory usage: 2.8+ MB\n"
     ]
    },
    {
     "data": {
      "text/html": [
       "<div>\n",
       "<style scoped>\n",
       "    .dataframe tbody tr th:only-of-type {\n",
       "        vertical-align: middle;\n",
       "    }\n",
       "\n",
       "    .dataframe tbody tr th {\n",
       "        vertical-align: top;\n",
       "    }\n",
       "\n",
       "    .dataframe thead th {\n",
       "        text-align: right;\n",
       "    }\n",
       "</style>\n",
       "<table border=\"1\" class=\"dataframe\">\n",
       "  <thead>\n",
       "    <tr style=\"text-align: right;\">\n",
       "      <th></th>\n",
       "      <th>id</th>\n",
       "      <th>message_date</th>\n",
       "      <th>user_id</th>\n",
       "    </tr>\n",
       "  </thead>\n",
       "  <tbody>\n",
       "    <tr>\n",
       "      <th>0</th>\n",
       "      <td>1000_0</td>\n",
       "      <td>2018-06-27</td>\n",
       "      <td>1000</td>\n",
       "    </tr>\n",
       "    <tr>\n",
       "      <th>1</th>\n",
       "      <td>1000_1</td>\n",
       "      <td>2018-10-08</td>\n",
       "      <td>1000</td>\n",
       "    </tr>\n",
       "    <tr>\n",
       "      <th>2</th>\n",
       "      <td>1000_2</td>\n",
       "      <td>2018-08-04</td>\n",
       "      <td>1000</td>\n",
       "    </tr>\n",
       "    <tr>\n",
       "      <th>3</th>\n",
       "      <td>1000_3</td>\n",
       "      <td>2018-06-16</td>\n",
       "      <td>1000</td>\n",
       "    </tr>\n",
       "    <tr>\n",
       "      <th>4</th>\n",
       "      <td>1000_4</td>\n",
       "      <td>2018-12-05</td>\n",
       "      <td>1000</td>\n",
       "    </tr>\n",
       "    <tr>\n",
       "      <th>5</th>\n",
       "      <td>1000_5</td>\n",
       "      <td>2018-06-20</td>\n",
       "      <td>1000</td>\n",
       "    </tr>\n",
       "    <tr>\n",
       "      <th>6</th>\n",
       "      <td>1000_6</td>\n",
       "      <td>2018-11-19</td>\n",
       "      <td>1000</td>\n",
       "    </tr>\n",
       "    <tr>\n",
       "      <th>7</th>\n",
       "      <td>1000_7</td>\n",
       "      <td>2018-10-29</td>\n",
       "      <td>1000</td>\n",
       "    </tr>\n",
       "    <tr>\n",
       "      <th>8</th>\n",
       "      <td>1000_8</td>\n",
       "      <td>2018-06-25</td>\n",
       "      <td>1000</td>\n",
       "    </tr>\n",
       "    <tr>\n",
       "      <th>9</th>\n",
       "      <td>1000_9</td>\n",
       "      <td>2018-12-18</td>\n",
       "      <td>1000</td>\n",
       "    </tr>\n",
       "  </tbody>\n",
       "</table>\n",
       "</div>"
      ],
      "text/plain": [
       "       id message_date  user_id\n",
       "0  1000_0   2018-06-27     1000\n",
       "1  1000_1   2018-10-08     1000\n",
       "2  1000_2   2018-08-04     1000\n",
       "3  1000_3   2018-06-16     1000\n",
       "4  1000_4   2018-12-05     1000\n",
       "5  1000_5   2018-06-20     1000\n",
       "6  1000_6   2018-11-19     1000\n",
       "7  1000_7   2018-10-29     1000\n",
       "8  1000_8   2018-06-25     1000\n",
       "9  1000_9   2018-12-18     1000"
      ]
     },
     "execution_count": 5,
     "metadata": {},
     "output_type": "execute_result"
    }
   ],
   "source": [
    "messages.info()\n",
    "messages.head(10)"
   ]
  },
  {
   "cell_type": "markdown",
   "metadata": {},
   "source": [
    "### Информация о тарифах"
   ]
  },
  {
   "cell_type": "code",
   "execution_count": 6,
   "metadata": {},
   "outputs": [
    {
     "name": "stdout",
     "output_type": "stream",
     "text": [
      "<class 'pandas.core.frame.DataFrame'>\n",
      "RangeIndex: 2 entries, 0 to 1\n",
      "Data columns (total 8 columns):\n",
      " #   Column                 Non-Null Count  Dtype \n",
      "---  ------                 --------------  ----- \n",
      " 0   messages_included      2 non-null      int64 \n",
      " 1   mb_per_month_included  2 non-null      int64 \n",
      " 2   minutes_included       2 non-null      int64 \n",
      " 3   rub_monthly_fee        2 non-null      int64 \n",
      " 4   rub_per_gb             2 non-null      int64 \n",
      " 5   rub_per_message        2 non-null      int64 \n",
      " 6   rub_per_minute         2 non-null      int64 \n",
      " 7   tariff_name            2 non-null      object\n",
      "dtypes: int64(7), object(1)\n",
      "memory usage: 256.0+ bytes\n"
     ]
    },
    {
     "data": {
      "text/html": [
       "<div>\n",
       "<style scoped>\n",
       "    .dataframe tbody tr th:only-of-type {\n",
       "        vertical-align: middle;\n",
       "    }\n",
       "\n",
       "    .dataframe tbody tr th {\n",
       "        vertical-align: top;\n",
       "    }\n",
       "\n",
       "    .dataframe thead th {\n",
       "        text-align: right;\n",
       "    }\n",
       "</style>\n",
       "<table border=\"1\" class=\"dataframe\">\n",
       "  <thead>\n",
       "    <tr style=\"text-align: right;\">\n",
       "      <th></th>\n",
       "      <th>messages_included</th>\n",
       "      <th>mb_per_month_included</th>\n",
       "      <th>minutes_included</th>\n",
       "      <th>rub_monthly_fee</th>\n",
       "      <th>rub_per_gb</th>\n",
       "      <th>rub_per_message</th>\n",
       "      <th>rub_per_minute</th>\n",
       "      <th>tariff_name</th>\n",
       "    </tr>\n",
       "  </thead>\n",
       "  <tbody>\n",
       "    <tr>\n",
       "      <th>0</th>\n",
       "      <td>50</td>\n",
       "      <td>15360</td>\n",
       "      <td>500</td>\n",
       "      <td>550</td>\n",
       "      <td>200</td>\n",
       "      <td>3</td>\n",
       "      <td>3</td>\n",
       "      <td>smart</td>\n",
       "    </tr>\n",
       "    <tr>\n",
       "      <th>1</th>\n",
       "      <td>1000</td>\n",
       "      <td>30720</td>\n",
       "      <td>3000</td>\n",
       "      <td>1950</td>\n",
       "      <td>150</td>\n",
       "      <td>1</td>\n",
       "      <td>1</td>\n",
       "      <td>ultra</td>\n",
       "    </tr>\n",
       "  </tbody>\n",
       "</table>\n",
       "</div>"
      ],
      "text/plain": [
       "   messages_included  mb_per_month_included  minutes_included  \\\n",
       "0                 50                  15360               500   \n",
       "1               1000                  30720              3000   \n",
       "\n",
       "   rub_monthly_fee  rub_per_gb  rub_per_message  rub_per_minute tariff_name  \n",
       "0              550         200                3               3       smart  \n",
       "1             1950         150                1               1       ultra  "
      ]
     },
     "execution_count": 6,
     "metadata": {},
     "output_type": "execute_result"
    }
   ],
   "source": [
    "tarif.info()\n",
    "tarif.head()"
   ]
  },
  {
   "cell_type": "markdown",
   "metadata": {},
   "source": [
    "### Информация о пользователях"
   ]
  },
  {
   "cell_type": "code",
   "execution_count": 7,
   "metadata": {},
   "outputs": [
    {
     "name": "stdout",
     "output_type": "stream",
     "text": [
      "<class 'pandas.core.frame.DataFrame'>\n",
      "RangeIndex: 500 entries, 0 to 499\n",
      "Data columns (total 8 columns):\n",
      " #   Column      Non-Null Count  Dtype \n",
      "---  ------      --------------  ----- \n",
      " 0   user_id     500 non-null    int64 \n",
      " 1   age         500 non-null    int64 \n",
      " 2   churn_date  38 non-null     object\n",
      " 3   city        500 non-null    object\n",
      " 4   first_name  500 non-null    object\n",
      " 5   last_name   500 non-null    object\n",
      " 6   reg_date    500 non-null    object\n",
      " 7   tariff      500 non-null    object\n",
      "dtypes: int64(2), object(6)\n",
      "memory usage: 31.4+ KB\n"
     ]
    },
    {
     "data": {
      "text/html": [
       "<div>\n",
       "<style scoped>\n",
       "    .dataframe tbody tr th:only-of-type {\n",
       "        vertical-align: middle;\n",
       "    }\n",
       "\n",
       "    .dataframe tbody tr th {\n",
       "        vertical-align: top;\n",
       "    }\n",
       "\n",
       "    .dataframe thead th {\n",
       "        text-align: right;\n",
       "    }\n",
       "</style>\n",
       "<table border=\"1\" class=\"dataframe\">\n",
       "  <thead>\n",
       "    <tr style=\"text-align: right;\">\n",
       "      <th></th>\n",
       "      <th>user_id</th>\n",
       "      <th>age</th>\n",
       "      <th>churn_date</th>\n",
       "      <th>city</th>\n",
       "      <th>first_name</th>\n",
       "      <th>last_name</th>\n",
       "      <th>reg_date</th>\n",
       "      <th>tariff</th>\n",
       "    </tr>\n",
       "  </thead>\n",
       "  <tbody>\n",
       "    <tr>\n",
       "      <th>0</th>\n",
       "      <td>1000</td>\n",
       "      <td>52</td>\n",
       "      <td>NaN</td>\n",
       "      <td>Краснодар</td>\n",
       "      <td>Рафаил</td>\n",
       "      <td>Верещагин</td>\n",
       "      <td>2018-05-25</td>\n",
       "      <td>ultra</td>\n",
       "    </tr>\n",
       "    <tr>\n",
       "      <th>1</th>\n",
       "      <td>1001</td>\n",
       "      <td>41</td>\n",
       "      <td>NaN</td>\n",
       "      <td>Москва</td>\n",
       "      <td>Иван</td>\n",
       "      <td>Ежов</td>\n",
       "      <td>2018-11-01</td>\n",
       "      <td>smart</td>\n",
       "    </tr>\n",
       "    <tr>\n",
       "      <th>2</th>\n",
       "      <td>1002</td>\n",
       "      <td>59</td>\n",
       "      <td>NaN</td>\n",
       "      <td>Стерлитамак</td>\n",
       "      <td>Евгений</td>\n",
       "      <td>Абрамович</td>\n",
       "      <td>2018-06-17</td>\n",
       "      <td>smart</td>\n",
       "    </tr>\n",
       "    <tr>\n",
       "      <th>3</th>\n",
       "      <td>1003</td>\n",
       "      <td>23</td>\n",
       "      <td>NaN</td>\n",
       "      <td>Москва</td>\n",
       "      <td>Белла</td>\n",
       "      <td>Белякова</td>\n",
       "      <td>2018-08-17</td>\n",
       "      <td>ultra</td>\n",
       "    </tr>\n",
       "    <tr>\n",
       "      <th>4</th>\n",
       "      <td>1004</td>\n",
       "      <td>68</td>\n",
       "      <td>NaN</td>\n",
       "      <td>Новокузнецк</td>\n",
       "      <td>Татьяна</td>\n",
       "      <td>Авдеенко</td>\n",
       "      <td>2018-05-14</td>\n",
       "      <td>ultra</td>\n",
       "    </tr>\n",
       "    <tr>\n",
       "      <th>5</th>\n",
       "      <td>1005</td>\n",
       "      <td>67</td>\n",
       "      <td>NaN</td>\n",
       "      <td>Набережные Челны</td>\n",
       "      <td>Афанасий</td>\n",
       "      <td>Горлов</td>\n",
       "      <td>2018-01-25</td>\n",
       "      <td>smart</td>\n",
       "    </tr>\n",
       "    <tr>\n",
       "      <th>6</th>\n",
       "      <td>1006</td>\n",
       "      <td>21</td>\n",
       "      <td>NaN</td>\n",
       "      <td>Ульяновск</td>\n",
       "      <td>Леонид</td>\n",
       "      <td>Ермолаев</td>\n",
       "      <td>2018-02-26</td>\n",
       "      <td>smart</td>\n",
       "    </tr>\n",
       "    <tr>\n",
       "      <th>7</th>\n",
       "      <td>1007</td>\n",
       "      <td>65</td>\n",
       "      <td>NaN</td>\n",
       "      <td>Москва</td>\n",
       "      <td>Юна</td>\n",
       "      <td>Березина</td>\n",
       "      <td>2018-04-19</td>\n",
       "      <td>smart</td>\n",
       "    </tr>\n",
       "    <tr>\n",
       "      <th>8</th>\n",
       "      <td>1008</td>\n",
       "      <td>63</td>\n",
       "      <td>NaN</td>\n",
       "      <td>Челябинск</td>\n",
       "      <td>Рустэм</td>\n",
       "      <td>Пономарёв</td>\n",
       "      <td>2018-12-19</td>\n",
       "      <td>smart</td>\n",
       "    </tr>\n",
       "    <tr>\n",
       "      <th>9</th>\n",
       "      <td>1009</td>\n",
       "      <td>24</td>\n",
       "      <td>NaN</td>\n",
       "      <td>Пермь</td>\n",
       "      <td>Василиса</td>\n",
       "      <td>Блинова</td>\n",
       "      <td>2018-03-22</td>\n",
       "      <td>smart</td>\n",
       "    </tr>\n",
       "  </tbody>\n",
       "</table>\n",
       "</div>"
      ],
      "text/plain": [
       "   user_id  age churn_date              city first_name  last_name  \\\n",
       "0     1000   52        NaN         Краснодар     Рафаил  Верещагин   \n",
       "1     1001   41        NaN            Москва       Иван       Ежов   \n",
       "2     1002   59        NaN       Стерлитамак    Евгений  Абрамович   \n",
       "3     1003   23        NaN            Москва      Белла   Белякова   \n",
       "4     1004   68        NaN       Новокузнецк    Татьяна   Авдеенко   \n",
       "5     1005   67        NaN  Набережные Челны   Афанасий     Горлов   \n",
       "6     1006   21        NaN         Ульяновск     Леонид   Ермолаев   \n",
       "7     1007   65        NaN            Москва        Юна   Березина   \n",
       "8     1008   63        NaN         Челябинск     Рустэм  Пономарёв   \n",
       "9     1009   24        NaN             Пермь   Василиса    Блинова   \n",
       "\n",
       "     reg_date tariff  \n",
       "0  2018-05-25  ultra  \n",
       "1  2018-11-01  smart  \n",
       "2  2018-06-17  smart  \n",
       "3  2018-08-17  ultra  \n",
       "4  2018-05-14  ultra  \n",
       "5  2018-01-25  smart  \n",
       "6  2018-02-26  smart  \n",
       "7  2018-04-19  smart  \n",
       "8  2018-12-19  smart  \n",
       "9  2018-03-22  smart  "
      ]
     },
     "execution_count": 7,
     "metadata": {},
     "output_type": "execute_result"
    }
   ],
   "source": [
    "users.info()\n",
    "users.head(10)"
   ]
  },
  {
   "cell_type": "markdown",
   "metadata": {},
   "source": [
    "### Вывод\n",
    "1. Во всех таблицах формат даты не соответствует типу данных.\n",
    "2. В таблице USERS в столбце `churn_date` пропущены данные, но это связано с тем, что тариф все еще действует"
   ]
  },
  {
   "cell_type": "markdown",
   "metadata": {},
   "source": [
    "## Подготовка данных"
   ]
  },
  {
   "cell_type": "markdown",
   "metadata": {},
   "source": [
    "### Поменяем формат дат"
   ]
  },
  {
   "cell_type": "code",
   "execution_count": 8,
   "metadata": {},
   "outputs": [],
   "source": [
    "calls[\"call_date\"] = pd.to_datetime(calls[\"call_date\"], format = \"%Y-%m-%d\")\n",
    "internet[\"session_date\"] = pd.to_datetime(internet[\"session_date\"], format = \"%Y-%m-%d\")\n",
    "messages[\"message_date\"] = pd.to_datetime(messages[\"message_date\"], format = \"%Y-%m-%d\")\n",
    "users[\"reg_date\"] = pd.to_datetime(users[\"reg_date\"], format = \"%Y-%m-%d\")\n",
    "users[\"churn_date\"] = pd.to_datetime(users[\"churn_date\"], format = \"%Y-%m-%d\")"
   ]
  },
  {
   "cell_type": "markdown",
   "metadata": {},
   "source": [
    "### Добавим колонки с месяцем"
   ]
  },
  {
   "cell_type": "code",
   "execution_count": 9,
   "metadata": {},
   "outputs": [],
   "source": [
    "calls[\"month\"] = calls[\"call_date\"].dt.month\n",
    "internet[\"month\"] = internet[\"session_date\"].dt.month\n",
    "messages[\"month\"] = messages[\"message_date\"].dt.month"
   ]
  },
  {
   "cell_type": "markdown",
   "metadata": {},
   "source": [
    "### Округлим значения длительности звонков"
   ]
  },
  {
   "cell_type": "code",
   "execution_count": 10,
   "metadata": {},
   "outputs": [],
   "source": [
    "def okruglenie(row):\n",
    "    return math.ceil(row)\n",
    "calls[\"duration\"] = calls[\"duration\"].apply(okruglenie)\n",
    "#internet[\"mb_used\"] = internet[\"mb_used\"].apply(okruglenie)"
   ]
  },
  {
   "cell_type": "markdown",
   "metadata": {},
   "source": [
    "### Расчет данных для каждого пользователя по месяцам"
   ]
  },
  {
   "cell_type": "markdown",
   "metadata": {},
   "source": [
    "#### Количество сделанных звонков и израсходованных минут разговора по месяцам"
   ]
  },
  {
   "cell_type": "code",
   "execution_count": 11,
   "metadata": {},
   "outputs": [],
   "source": [
    "df_calls = calls.merge(users,on=\"user_id\")"
   ]
  },
  {
   "cell_type": "code",
   "execution_count": 12,
   "metadata": {},
   "outputs": [
    {
     "data": {
      "text/html": [
       "<div>\n",
       "<style scoped>\n",
       "    .dataframe tbody tr th:only-of-type {\n",
       "        vertical-align: middle;\n",
       "    }\n",
       "\n",
       "    .dataframe tbody tr th {\n",
       "        vertical-align: top;\n",
       "    }\n",
       "\n",
       "    .dataframe thead th {\n",
       "        text-align: right;\n",
       "    }\n",
       "</style>\n",
       "<table border=\"1\" class=\"dataframe\">\n",
       "  <thead>\n",
       "    <tr style=\"text-align: right;\">\n",
       "      <th></th>\n",
       "      <th></th>\n",
       "      <th>Количетсво звонков</th>\n",
       "      <th>Длительность</th>\n",
       "    </tr>\n",
       "    <tr>\n",
       "      <th>user_id</th>\n",
       "      <th>month</th>\n",
       "      <th></th>\n",
       "      <th></th>\n",
       "    </tr>\n",
       "  </thead>\n",
       "  <tbody>\n",
       "    <tr>\n",
       "      <th rowspan=\"5\" valign=\"top\">1000</th>\n",
       "      <th>5</th>\n",
       "      <td>22</td>\n",
       "      <td>159</td>\n",
       "    </tr>\n",
       "    <tr>\n",
       "      <th>6</th>\n",
       "      <td>43</td>\n",
       "      <td>172</td>\n",
       "    </tr>\n",
       "    <tr>\n",
       "      <th>7</th>\n",
       "      <td>47</td>\n",
       "      <td>340</td>\n",
       "    </tr>\n",
       "    <tr>\n",
       "      <th>8</th>\n",
       "      <td>52</td>\n",
       "      <td>408</td>\n",
       "    </tr>\n",
       "    <tr>\n",
       "      <th>9</th>\n",
       "      <td>58</td>\n",
       "      <td>466</td>\n",
       "    </tr>\n",
       "    <tr>\n",
       "      <th>...</th>\n",
       "      <th>...</th>\n",
       "      <td>...</td>\n",
       "      <td>...</td>\n",
       "    </tr>\n",
       "    <tr>\n",
       "      <th>1498</th>\n",
       "      <th>10</th>\n",
       "      <td>41</td>\n",
       "      <td>247</td>\n",
       "    </tr>\n",
       "    <tr>\n",
       "      <th rowspan=\"4\" valign=\"top\">1499</th>\n",
       "      <th>9</th>\n",
       "      <td>9</td>\n",
       "      <td>70</td>\n",
       "    </tr>\n",
       "    <tr>\n",
       "      <th>10</th>\n",
       "      <td>68</td>\n",
       "      <td>449</td>\n",
       "    </tr>\n",
       "    <tr>\n",
       "      <th>11</th>\n",
       "      <td>74</td>\n",
       "      <td>612</td>\n",
       "    </tr>\n",
       "    <tr>\n",
       "      <th>12</th>\n",
       "      <td>69</td>\n",
       "      <td>492</td>\n",
       "    </tr>\n",
       "  </tbody>\n",
       "</table>\n",
       "<p>3174 rows × 2 columns</p>\n",
       "</div>"
      ],
      "text/plain": [
       "               Количетсво звонков  Длительность\n",
       "user_id month                                  \n",
       "1000    5                      22           159\n",
       "        6                      43           172\n",
       "        7                      47           340\n",
       "        8                      52           408\n",
       "        9                      58           466\n",
       "...                           ...           ...\n",
       "1498    10                     41           247\n",
       "1499    9                       9            70\n",
       "        10                     68           449\n",
       "        11                     74           612\n",
       "        12                     69           492\n",
       "\n",
       "[3174 rows x 2 columns]"
      ]
     },
     "execution_count": 12,
     "metadata": {},
     "output_type": "execute_result"
    }
   ],
   "source": [
    "calls_pivot = pd.pivot_table(df_calls,index=[\"user_id\",\"month\"],values=\"duration\",aggfunc={\"count\",\"sum\"})\n",
    "calls_pivot.columns =[\"Количетсво звонков\",\"Длительность\"]\n",
    "calls_pivot"
   ]
  },
  {
   "cell_type": "markdown",
   "metadata": {},
   "source": [
    "#### Количество отправленных сообщений по месяцам;"
   ]
  },
  {
   "cell_type": "code",
   "execution_count": 13,
   "metadata": {},
   "outputs": [],
   "source": [
    "df_messages = messages.merge(users,on=\"user_id\")"
   ]
  },
  {
   "cell_type": "code",
   "execution_count": 14,
   "metadata": {},
   "outputs": [
    {
     "data": {
      "text/html": [
       "<div>\n",
       "<style scoped>\n",
       "    .dataframe tbody tr th:only-of-type {\n",
       "        vertical-align: middle;\n",
       "    }\n",
       "\n",
       "    .dataframe tbody tr th {\n",
       "        vertical-align: top;\n",
       "    }\n",
       "\n",
       "    .dataframe thead th {\n",
       "        text-align: right;\n",
       "    }\n",
       "</style>\n",
       "<table border=\"1\" class=\"dataframe\">\n",
       "  <thead>\n",
       "    <tr style=\"text-align: right;\">\n",
       "      <th></th>\n",
       "      <th></th>\n",
       "      <th>Количетсво сообщений</th>\n",
       "    </tr>\n",
       "    <tr>\n",
       "      <th>user_id</th>\n",
       "      <th>month</th>\n",
       "      <th></th>\n",
       "    </tr>\n",
       "  </thead>\n",
       "  <tbody>\n",
       "    <tr>\n",
       "      <th rowspan=\"5\" valign=\"top\">1000</th>\n",
       "      <th>5</th>\n",
       "      <td>22</td>\n",
       "    </tr>\n",
       "    <tr>\n",
       "      <th>6</th>\n",
       "      <td>60</td>\n",
       "    </tr>\n",
       "    <tr>\n",
       "      <th>7</th>\n",
       "      <td>75</td>\n",
       "    </tr>\n",
       "    <tr>\n",
       "      <th>8</th>\n",
       "      <td>81</td>\n",
       "    </tr>\n",
       "    <tr>\n",
       "      <th>9</th>\n",
       "      <td>57</td>\n",
       "    </tr>\n",
       "    <tr>\n",
       "      <th>...</th>\n",
       "      <th>...</th>\n",
       "      <td>...</td>\n",
       "    </tr>\n",
       "    <tr>\n",
       "      <th>1498</th>\n",
       "      <th>10</th>\n",
       "      <td>42</td>\n",
       "    </tr>\n",
       "    <tr>\n",
       "      <th rowspan=\"4\" valign=\"top\">1499</th>\n",
       "      <th>9</th>\n",
       "      <td>11</td>\n",
       "    </tr>\n",
       "    <tr>\n",
       "      <th>10</th>\n",
       "      <td>48</td>\n",
       "    </tr>\n",
       "    <tr>\n",
       "      <th>11</th>\n",
       "      <td>59</td>\n",
       "    </tr>\n",
       "    <tr>\n",
       "      <th>12</th>\n",
       "      <td>66</td>\n",
       "    </tr>\n",
       "  </tbody>\n",
       "</table>\n",
       "<p>2717 rows × 1 columns</p>\n",
       "</div>"
      ],
      "text/plain": [
       "               Количетсво сообщений\n",
       "user_id month                      \n",
       "1000    5                        22\n",
       "        6                        60\n",
       "        7                        75\n",
       "        8                        81\n",
       "        9                        57\n",
       "...                             ...\n",
       "1498    10                       42\n",
       "1499    9                        11\n",
       "        10                       48\n",
       "        11                       59\n",
       "        12                       66\n",
       "\n",
       "[2717 rows x 1 columns]"
      ]
     },
     "execution_count": 14,
     "metadata": {},
     "output_type": "execute_result"
    }
   ],
   "source": [
    "messages_pivot = pd.pivot_table(df_messages,index=[\"user_id\",\"month\"],values=\"id\",aggfunc=\"count\")\n",
    "messages_pivot.columns =[\"Количетсво сообщений\"]\n",
    "messages_pivot"
   ]
  },
  {
   "cell_type": "markdown",
   "metadata": {},
   "source": [
    "#### Объем израсходованного интернет-трафика по месяцам"
   ]
  },
  {
   "cell_type": "code",
   "execution_count": 15,
   "metadata": {},
   "outputs": [],
   "source": [
    "df_internet = internet.merge(users,on=\"user_id\")"
   ]
  },
  {
   "cell_type": "code",
   "execution_count": 16,
   "metadata": {},
   "outputs": [
    {
     "data": {
      "text/html": [
       "<div>\n",
       "<style scoped>\n",
       "    .dataframe tbody tr th:only-of-type {\n",
       "        vertical-align: middle;\n",
       "    }\n",
       "\n",
       "    .dataframe tbody tr th {\n",
       "        vertical-align: top;\n",
       "    }\n",
       "\n",
       "    .dataframe thead th {\n",
       "        text-align: right;\n",
       "    }\n",
       "</style>\n",
       "<table border=\"1\" class=\"dataframe\">\n",
       "  <thead>\n",
       "    <tr style=\"text-align: right;\">\n",
       "      <th></th>\n",
       "      <th></th>\n",
       "      <th>Объём потраченного за сессию интернет-трафика</th>\n",
       "    </tr>\n",
       "    <tr>\n",
       "      <th>user_id</th>\n",
       "      <th>month</th>\n",
       "      <th></th>\n",
       "    </tr>\n",
       "  </thead>\n",
       "  <tbody>\n",
       "    <tr>\n",
       "      <th rowspan=\"5\" valign=\"top\">1000</th>\n",
       "      <th>5</th>\n",
       "      <td>2253.49</td>\n",
       "    </tr>\n",
       "    <tr>\n",
       "      <th>6</th>\n",
       "      <td>23233.77</td>\n",
       "    </tr>\n",
       "    <tr>\n",
       "      <th>7</th>\n",
       "      <td>14003.64</td>\n",
       "    </tr>\n",
       "    <tr>\n",
       "      <th>8</th>\n",
       "      <td>14055.93</td>\n",
       "    </tr>\n",
       "    <tr>\n",
       "      <th>9</th>\n",
       "      <td>14568.91</td>\n",
       "    </tr>\n",
       "    <tr>\n",
       "      <th>...</th>\n",
       "      <th>...</th>\n",
       "      <td>...</td>\n",
       "    </tr>\n",
       "    <tr>\n",
       "      <th>1498</th>\n",
       "      <th>10</th>\n",
       "      <td>20579.36</td>\n",
       "    </tr>\n",
       "    <tr>\n",
       "      <th rowspan=\"4\" valign=\"top\">1499</th>\n",
       "      <th>9</th>\n",
       "      <td>1845.75</td>\n",
       "    </tr>\n",
       "    <tr>\n",
       "      <th>10</th>\n",
       "      <td>17788.51</td>\n",
       "    </tr>\n",
       "    <tr>\n",
       "      <th>11</th>\n",
       "      <td>17963.31</td>\n",
       "    </tr>\n",
       "    <tr>\n",
       "      <th>12</th>\n",
       "      <td>13055.58</td>\n",
       "    </tr>\n",
       "  </tbody>\n",
       "</table>\n",
       "<p>3203 rows × 1 columns</p>\n",
       "</div>"
      ],
      "text/plain": [
       "               Объём потраченного за сессию интернет-трафика\n",
       "user_id month                                               \n",
       "1000    5                                            2253.49\n",
       "        6                                           23233.77\n",
       "        7                                           14003.64\n",
       "        8                                           14055.93\n",
       "        9                                           14568.91\n",
       "...                                                      ...\n",
       "1498    10                                          20579.36\n",
       "1499    9                                            1845.75\n",
       "        10                                          17788.51\n",
       "        11                                          17963.31\n",
       "        12                                          13055.58\n",
       "\n",
       "[3203 rows x 1 columns]"
      ]
     },
     "execution_count": 16,
     "metadata": {},
     "output_type": "execute_result"
    }
   ],
   "source": [
    "internet_pivot = pd.pivot_table(df_internet,index=[\"user_id\",\"month\"],values=\"mb_used\",aggfunc=\"sum\")\n",
    "internet_pivot.columns =[\"Объём потраченного за сессию интернет-трафика\"]\n",
    "internet_pivot"
   ]
  },
  {
   "cell_type": "markdown",
   "metadata": {},
   "source": [
    "#### Объединение полученных таблиц"
   ]
  },
  {
   "cell_type": "code",
   "execution_count": 17,
   "metadata": {},
   "outputs": [],
   "source": [
    "data_all = pd.concat([calls_pivot,messages_pivot,internet_pivot],axis=1)"
   ]
  },
  {
   "cell_type": "markdown",
   "metadata": {},
   "source": [
    "### Обработка нулей и типа данных в таблице"
   ]
  },
  {
   "cell_type": "code",
   "execution_count": 18,
   "metadata": {},
   "outputs": [
    {
     "data": {
      "text/plain": [
       "Количетсво звонков                                40\n",
       "Длительность                                      40\n",
       "Количетсво сообщений                             497\n",
       "Объём потраченного за сессию интернет-трафика     11\n",
       "dtype: int64"
      ]
     },
     "execution_count": 18,
     "metadata": {},
     "output_type": "execute_result"
    }
   ],
   "source": [
    "data_all.isna().sum()"
   ]
  },
  {
   "cell_type": "code",
   "execution_count": 19,
   "metadata": {},
   "outputs": [],
   "source": [
    "data_all['Количетсво звонков'] = data_all['Количетсво звонков'].fillna(0)\n",
    "data_all['Количетсво звонков'] = data_all['Количетсво звонков'].astype(\"int\")"
   ]
  },
  {
   "cell_type": "code",
   "execution_count": 20,
   "metadata": {},
   "outputs": [],
   "source": [
    "data_all['Длительность'] = data_all['Длительность'].fillna(0)\n",
    "data_all['Длительность'] = data_all['Длительность'].astype(\"int\")"
   ]
  },
  {
   "cell_type": "code",
   "execution_count": 21,
   "metadata": {},
   "outputs": [],
   "source": [
    "data_all['Количетсво сообщений'] = data_all['Количетсво сообщений'].fillna(0)\n",
    "data_all['Количетсво сообщений'] = data_all['Количетсво сообщений'].astype(\"int\")"
   ]
  },
  {
   "cell_type": "code",
   "execution_count": 22,
   "metadata": {},
   "outputs": [],
   "source": [
    "data_all['Объём потраченного за сессию интернет-трафика'] = data_all['Объём потраченного за сессию интернет-трафика'].fillna(0)\n",
    "data_all['Объём потраченного за сессию интернет-трафика'] = data_all['Объём потраченного за сессию интернет-трафика'].astype(\"int\")"
   ]
  },
  {
   "cell_type": "code",
   "execution_count": 23,
   "metadata": {},
   "outputs": [
    {
     "data": {
      "text/plain": [
       "Количетсво звонков                               0\n",
       "Длительность                                     0\n",
       "Количетсво сообщений                             0\n",
       "Объём потраченного за сессию интернет-трафика    0\n",
       "dtype: int64"
      ]
     },
     "execution_count": 23,
     "metadata": {},
     "output_type": "execute_result"
    }
   ],
   "source": [
    "data_all.isna().sum()"
   ]
  },
  {
   "cell_type": "code",
   "execution_count": 24,
   "metadata": {},
   "outputs": [
    {
     "data": {
      "text/html": [
       "<div>\n",
       "<style scoped>\n",
       "    .dataframe tbody tr th:only-of-type {\n",
       "        vertical-align: middle;\n",
       "    }\n",
       "\n",
       "    .dataframe tbody tr th {\n",
       "        vertical-align: top;\n",
       "    }\n",
       "\n",
       "    .dataframe thead th {\n",
       "        text-align: right;\n",
       "    }\n",
       "</style>\n",
       "<table border=\"1\" class=\"dataframe\">\n",
       "  <thead>\n",
       "    <tr style=\"text-align: right;\">\n",
       "      <th></th>\n",
       "      <th></th>\n",
       "      <th>Количетсво звонков</th>\n",
       "      <th>Длительность</th>\n",
       "      <th>Количетсво сообщений</th>\n",
       "      <th>Объём потраченного за сессию интернет-трафика</th>\n",
       "    </tr>\n",
       "    <tr>\n",
       "      <th>user_id</th>\n",
       "      <th>month</th>\n",
       "      <th></th>\n",
       "      <th></th>\n",
       "      <th></th>\n",
       "      <th></th>\n",
       "    </tr>\n",
       "  </thead>\n",
       "  <tbody>\n",
       "    <tr>\n",
       "      <th rowspan=\"8\" valign=\"top\">1000</th>\n",
       "      <th>5</th>\n",
       "      <td>22</td>\n",
       "      <td>159</td>\n",
       "      <td>22</td>\n",
       "      <td>2253</td>\n",
       "    </tr>\n",
       "    <tr>\n",
       "      <th>6</th>\n",
       "      <td>43</td>\n",
       "      <td>172</td>\n",
       "      <td>60</td>\n",
       "      <td>23233</td>\n",
       "    </tr>\n",
       "    <tr>\n",
       "      <th>7</th>\n",
       "      <td>47</td>\n",
       "      <td>340</td>\n",
       "      <td>75</td>\n",
       "      <td>14003</td>\n",
       "    </tr>\n",
       "    <tr>\n",
       "      <th>8</th>\n",
       "      <td>52</td>\n",
       "      <td>408</td>\n",
       "      <td>81</td>\n",
       "      <td>14055</td>\n",
       "    </tr>\n",
       "    <tr>\n",
       "      <th>9</th>\n",
       "      <td>58</td>\n",
       "      <td>466</td>\n",
       "      <td>57</td>\n",
       "      <td>14568</td>\n",
       "    </tr>\n",
       "    <tr>\n",
       "      <th>10</th>\n",
       "      <td>57</td>\n",
       "      <td>350</td>\n",
       "      <td>73</td>\n",
       "      <td>14702</td>\n",
       "    </tr>\n",
       "    <tr>\n",
       "      <th>11</th>\n",
       "      <td>43</td>\n",
       "      <td>338</td>\n",
       "      <td>58</td>\n",
       "      <td>14756</td>\n",
       "    </tr>\n",
       "    <tr>\n",
       "      <th>12</th>\n",
       "      <td>46</td>\n",
       "      <td>333</td>\n",
       "      <td>70</td>\n",
       "      <td>9817</td>\n",
       "    </tr>\n",
       "    <tr>\n",
       "      <th rowspan=\"2\" valign=\"top\">1001</th>\n",
       "      <th>11</th>\n",
       "      <td>59</td>\n",
       "      <td>430</td>\n",
       "      <td>0</td>\n",
       "      <td>18429</td>\n",
       "    </tr>\n",
       "    <tr>\n",
       "      <th>12</th>\n",
       "      <td>63</td>\n",
       "      <td>414</td>\n",
       "      <td>0</td>\n",
       "      <td>14036</td>\n",
       "    </tr>\n",
       "    <tr>\n",
       "      <th rowspan=\"7\" valign=\"top\">1002</th>\n",
       "      <th>6</th>\n",
       "      <td>15</td>\n",
       "      <td>117</td>\n",
       "      <td>4</td>\n",
       "      <td>10856</td>\n",
       "    </tr>\n",
       "    <tr>\n",
       "      <th>7</th>\n",
       "      <td>26</td>\n",
       "      <td>214</td>\n",
       "      <td>11</td>\n",
       "      <td>17580</td>\n",
       "    </tr>\n",
       "    <tr>\n",
       "      <th>8</th>\n",
       "      <td>42</td>\n",
       "      <td>289</td>\n",
       "      <td>13</td>\n",
       "      <td>20319</td>\n",
       "    </tr>\n",
       "    <tr>\n",
       "      <th>9</th>\n",
       "      <td>36</td>\n",
       "      <td>206</td>\n",
       "      <td>4</td>\n",
       "      <td>16691</td>\n",
       "    </tr>\n",
       "    <tr>\n",
       "      <th>10</th>\n",
       "      <td>33</td>\n",
       "      <td>212</td>\n",
       "      <td>10</td>\n",
       "      <td>13888</td>\n",
       "    </tr>\n",
       "    <tr>\n",
       "      <th>11</th>\n",
       "      <td>32</td>\n",
       "      <td>243</td>\n",
       "      <td>16</td>\n",
       "      <td>18587</td>\n",
       "    </tr>\n",
       "    <tr>\n",
       "      <th>12</th>\n",
       "      <td>33</td>\n",
       "      <td>236</td>\n",
       "      <td>12</td>\n",
       "      <td>18113</td>\n",
       "    </tr>\n",
       "    <tr>\n",
       "      <th rowspan=\"3\" valign=\"top\">1003</th>\n",
       "      <th>8</th>\n",
       "      <td>55</td>\n",
       "      <td>380</td>\n",
       "      <td>37</td>\n",
       "      <td>8565</td>\n",
       "    </tr>\n",
       "    <tr>\n",
       "      <th>9</th>\n",
       "      <td>134</td>\n",
       "      <td>961</td>\n",
       "      <td>91</td>\n",
       "      <td>12468</td>\n",
       "    </tr>\n",
       "    <tr>\n",
       "      <th>10</th>\n",
       "      <td>108</td>\n",
       "      <td>855</td>\n",
       "      <td>83</td>\n",
       "      <td>14768</td>\n",
       "    </tr>\n",
       "  </tbody>\n",
       "</table>\n",
       "</div>"
      ],
      "text/plain": [
       "               Количетсво звонков  Длительность  Количетсво сообщений  \\\n",
       "user_id month                                                           \n",
       "1000    5                      22           159                    22   \n",
       "        6                      43           172                    60   \n",
       "        7                      47           340                    75   \n",
       "        8                      52           408                    81   \n",
       "        9                      58           466                    57   \n",
       "        10                     57           350                    73   \n",
       "        11                     43           338                    58   \n",
       "        12                     46           333                    70   \n",
       "1001    11                     59           430                     0   \n",
       "        12                     63           414                     0   \n",
       "1002    6                      15           117                     4   \n",
       "        7                      26           214                    11   \n",
       "        8                      42           289                    13   \n",
       "        9                      36           206                     4   \n",
       "        10                     33           212                    10   \n",
       "        11                     32           243                    16   \n",
       "        12                     33           236                    12   \n",
       "1003    8                      55           380                    37   \n",
       "        9                     134           961                    91   \n",
       "        10                    108           855                    83   \n",
       "\n",
       "               Объём потраченного за сессию интернет-трафика  \n",
       "user_id month                                                 \n",
       "1000    5                                               2253  \n",
       "        6                                              23233  \n",
       "        7                                              14003  \n",
       "        8                                              14055  \n",
       "        9                                              14568  \n",
       "        10                                             14702  \n",
       "        11                                             14756  \n",
       "        12                                              9817  \n",
       "1001    11                                             18429  \n",
       "        12                                             14036  \n",
       "1002    6                                              10856  \n",
       "        7                                              17580  \n",
       "        8                                              20319  \n",
       "        9                                              16691  \n",
       "        10                                             13888  \n",
       "        11                                             18587  \n",
       "        12                                             18113  \n",
       "1003    8                                               8565  \n",
       "        9                                              12468  \n",
       "        10                                             14768  "
      ]
     },
     "execution_count": 24,
     "metadata": {},
     "output_type": "execute_result"
    }
   ],
   "source": [
    "data_all.head(20)"
   ]
  },
  {
   "cell_type": "code",
   "execution_count": 25,
   "metadata": {},
   "outputs": [],
   "source": [
    "for user in data_all.index:\n",
    "    data_all.loc[user, 'Тариф'] = users.loc[user[0]-1000, 'tariff']"
   ]
  },
  {
   "cell_type": "code",
   "execution_count": 26,
   "metadata": {},
   "outputs": [
    {
     "data": {
      "text/html": [
       "<div>\n",
       "<style scoped>\n",
       "    .dataframe tbody tr th:only-of-type {\n",
       "        vertical-align: middle;\n",
       "    }\n",
       "\n",
       "    .dataframe tbody tr th {\n",
       "        vertical-align: top;\n",
       "    }\n",
       "\n",
       "    .dataframe thead th {\n",
       "        text-align: right;\n",
       "    }\n",
       "</style>\n",
       "<table border=\"1\" class=\"dataframe\">\n",
       "  <thead>\n",
       "    <tr style=\"text-align: right;\">\n",
       "      <th></th>\n",
       "      <th></th>\n",
       "      <th>Количетсво звонков</th>\n",
       "      <th>Длительность</th>\n",
       "      <th>Количетсво сообщений</th>\n",
       "      <th>Объём потраченного за сессию интернет-трафика</th>\n",
       "      <th>Тариф</th>\n",
       "    </tr>\n",
       "    <tr>\n",
       "      <th>user_id</th>\n",
       "      <th>month</th>\n",
       "      <th></th>\n",
       "      <th></th>\n",
       "      <th></th>\n",
       "      <th></th>\n",
       "      <th></th>\n",
       "    </tr>\n",
       "  </thead>\n",
       "  <tbody>\n",
       "    <tr>\n",
       "      <th rowspan=\"5\" valign=\"top\">1000</th>\n",
       "      <th>5</th>\n",
       "      <td>22</td>\n",
       "      <td>159</td>\n",
       "      <td>22</td>\n",
       "      <td>2253</td>\n",
       "      <td>ultra</td>\n",
       "    </tr>\n",
       "    <tr>\n",
       "      <th>6</th>\n",
       "      <td>43</td>\n",
       "      <td>172</td>\n",
       "      <td>60</td>\n",
       "      <td>23233</td>\n",
       "      <td>ultra</td>\n",
       "    </tr>\n",
       "    <tr>\n",
       "      <th>7</th>\n",
       "      <td>47</td>\n",
       "      <td>340</td>\n",
       "      <td>75</td>\n",
       "      <td>14003</td>\n",
       "      <td>ultra</td>\n",
       "    </tr>\n",
       "    <tr>\n",
       "      <th>8</th>\n",
       "      <td>52</td>\n",
       "      <td>408</td>\n",
       "      <td>81</td>\n",
       "      <td>14055</td>\n",
       "      <td>ultra</td>\n",
       "    </tr>\n",
       "    <tr>\n",
       "      <th>9</th>\n",
       "      <td>58</td>\n",
       "      <td>466</td>\n",
       "      <td>57</td>\n",
       "      <td>14568</td>\n",
       "      <td>ultra</td>\n",
       "    </tr>\n",
       "    <tr>\n",
       "      <th>...</th>\n",
       "      <th>...</th>\n",
       "      <td>...</td>\n",
       "      <td>...</td>\n",
       "      <td>...</td>\n",
       "      <td>...</td>\n",
       "      <td>...</td>\n",
       "    </tr>\n",
       "    <tr>\n",
       "      <th>1498</th>\n",
       "      <th>10</th>\n",
       "      <td>41</td>\n",
       "      <td>247</td>\n",
       "      <td>42</td>\n",
       "      <td>20579</td>\n",
       "      <td>smart</td>\n",
       "    </tr>\n",
       "    <tr>\n",
       "      <th rowspan=\"4\" valign=\"top\">1499</th>\n",
       "      <th>9</th>\n",
       "      <td>9</td>\n",
       "      <td>70</td>\n",
       "      <td>11</td>\n",
       "      <td>1845</td>\n",
       "      <td>smart</td>\n",
       "    </tr>\n",
       "    <tr>\n",
       "      <th>10</th>\n",
       "      <td>68</td>\n",
       "      <td>449</td>\n",
       "      <td>48</td>\n",
       "      <td>17788</td>\n",
       "      <td>smart</td>\n",
       "    </tr>\n",
       "    <tr>\n",
       "      <th>11</th>\n",
       "      <td>74</td>\n",
       "      <td>612</td>\n",
       "      <td>59</td>\n",
       "      <td>17963</td>\n",
       "      <td>smart</td>\n",
       "    </tr>\n",
       "    <tr>\n",
       "      <th>12</th>\n",
       "      <td>69</td>\n",
       "      <td>492</td>\n",
       "      <td>66</td>\n",
       "      <td>13055</td>\n",
       "      <td>smart</td>\n",
       "    </tr>\n",
       "  </tbody>\n",
       "</table>\n",
       "<p>3214 rows × 5 columns</p>\n",
       "</div>"
      ],
      "text/plain": [
       "               Количетсво звонков  Длительность  Количетсво сообщений  \\\n",
       "user_id month                                                           \n",
       "1000    5                      22           159                    22   \n",
       "        6                      43           172                    60   \n",
       "        7                      47           340                    75   \n",
       "        8                      52           408                    81   \n",
       "        9                      58           466                    57   \n",
       "...                           ...           ...                   ...   \n",
       "1498    10                     41           247                    42   \n",
       "1499    9                       9            70                    11   \n",
       "        10                     68           449                    48   \n",
       "        11                     74           612                    59   \n",
       "        12                     69           492                    66   \n",
       "\n",
       "               Объём потраченного за сессию интернет-трафика  Тариф  \n",
       "user_id month                                                        \n",
       "1000    5                                               2253  ultra  \n",
       "        6                                              23233  ultra  \n",
       "        7                                              14003  ultra  \n",
       "        8                                              14055  ultra  \n",
       "        9                                              14568  ultra  \n",
       "...                                                      ...    ...  \n",
       "1498    10                                             20579  smart  \n",
       "1499    9                                               1845  smart  \n",
       "        10                                             17788  smart  \n",
       "        11                                             17963  smart  \n",
       "        12                                             13055  smart  \n",
       "\n",
       "[3214 rows x 5 columns]"
      ]
     },
     "execution_count": 26,
     "metadata": {},
     "output_type": "execute_result"
    }
   ],
   "source": [
    "data_all"
   ]
  },
  {
   "cell_type": "code",
   "execution_count": 27,
   "metadata": {},
   "outputs": [
    {
     "data": {
      "text/html": [
       "<div>\n",
       "<style scoped>\n",
       "    .dataframe tbody tr th:only-of-type {\n",
       "        vertical-align: middle;\n",
       "    }\n",
       "\n",
       "    .dataframe tbody tr th {\n",
       "        vertical-align: top;\n",
       "    }\n",
       "\n",
       "    .dataframe thead th {\n",
       "        text-align: right;\n",
       "    }\n",
       "</style>\n",
       "<table border=\"1\" class=\"dataframe\">\n",
       "  <thead>\n",
       "    <tr style=\"text-align: right;\">\n",
       "      <th></th>\n",
       "      <th>messages_included</th>\n",
       "      <th>mb_per_month_included</th>\n",
       "      <th>minutes_included</th>\n",
       "      <th>rub_monthly_fee</th>\n",
       "      <th>rub_per_gb</th>\n",
       "      <th>rub_per_message</th>\n",
       "      <th>rub_per_minute</th>\n",
       "      <th>tariff_name</th>\n",
       "    </tr>\n",
       "  </thead>\n",
       "  <tbody>\n",
       "    <tr>\n",
       "      <th>0</th>\n",
       "      <td>50</td>\n",
       "      <td>15360</td>\n",
       "      <td>500</td>\n",
       "      <td>550</td>\n",
       "      <td>200</td>\n",
       "      <td>3</td>\n",
       "      <td>3</td>\n",
       "      <td>smart</td>\n",
       "    </tr>\n",
       "    <tr>\n",
       "      <th>1</th>\n",
       "      <td>1000</td>\n",
       "      <td>30720</td>\n",
       "      <td>3000</td>\n",
       "      <td>1950</td>\n",
       "      <td>150</td>\n",
       "      <td>1</td>\n",
       "      <td>1</td>\n",
       "      <td>ultra</td>\n",
       "    </tr>\n",
       "  </tbody>\n",
       "</table>\n",
       "</div>"
      ],
      "text/plain": [
       "   messages_included  mb_per_month_included  minutes_included  \\\n",
       "0                 50                  15360               500   \n",
       "1               1000                  30720              3000   \n",
       "\n",
       "   rub_monthly_fee  rub_per_gb  rub_per_message  rub_per_minute tariff_name  \n",
       "0              550         200                3               3       smart  \n",
       "1             1950         150                1               1       ultra  "
      ]
     },
     "execution_count": 27,
     "metadata": {},
     "output_type": "execute_result"
    }
   ],
   "source": [
    "tarif"
   ]
  },
  {
   "cell_type": "code",
   "execution_count": 28,
   "metadata": {},
   "outputs": [],
   "source": [
    "def raschet(row):\n",
    "    calls = row[\"Количетсво звонков\"]\n",
    "    duration = row[\"Длительность\"]\n",
    "    message = row[\"Количетсво сообщений\"]\n",
    "    internet = row[\"Объём потраченного за сессию интернет-трафика\"]\n",
    "    tariff = row['Тариф']    \n",
    "    \n",
    "    \n",
    "    if tariff == \"smart\":\n",
    "        # Если зачение переменной меньше 0 или равняется 0, то пакет опицй еще не полностью был использован\n",
    "        sverx_calls = duration - tarif.loc[0,\"minutes_included\"]\n",
    "        if sverx_calls < 0:\n",
    "            sverx_calls = 0\n",
    "        sverx_message = message - tarif.loc[0,\"messages_included\"]\n",
    "        if sverx_message < 0:\n",
    "            sverx_message = 0\n",
    "        extra_internet = internet - tarif.loc[0,\"mb_per_month_included\"]\n",
    "        if extra_internet < 0:\n",
    "            extra_internet = 0\n",
    "        \n",
    "        viruchka = (tarif.loc[0,\"rub_monthly_fee\"]\n",
    "                    + tarif.loc[0,\"rub_per_message\"]*sverx_message\n",
    "                    + tarif.loc[0,\"rub_per_minute\"]*sverx_calls\n",
    "                    + np.ceil((tarif.loc[0,\"rub_per_gb\"] / 1024)*extra_internet))\n",
    "        return viruchka\n",
    "    \n",
    "    else:\n",
    "        sverx_calls = duration - tarif.loc[1,\"minutes_included\"]\n",
    "        if sverx_calls < 0:\n",
    "            sverx_calls = 0\n",
    "        sverx_message = message - tarif.loc[1,\"messages_included\"]\n",
    "        if sverx_message < 0:\n",
    "            sverx_message = 0\n",
    "        extra_internet = internet - tarif.loc[1,\"mb_per_month_included\"]\n",
    "        if extra_internet < 0:\n",
    "            extra_internet = 0\n",
    "         \n",
    "\n",
    "        viruchka = (tarif.loc[1,\"rub_monthly_fee\"]\n",
    "                    + tarif.loc[1,\"rub_per_message\"]*sverx_message\n",
    "                    + tarif.loc[1,\"rub_per_minute\"]*sverx_calls\n",
    "                    + np.ceil((tarif.loc[1,\"rub_per_gb\"] / 1024)*extra_internet))\n",
    "        return viruchka\n",
    "    "
   ]
  },
  {
   "cell_type": "code",
   "execution_count": 29,
   "metadata": {},
   "outputs": [
    {
     "name": "stdout",
     "output_type": "stream",
     "text": [
      "<class 'pandas.core.frame.DataFrame'>\n",
      "MultiIndex: 3214 entries, (1000, 5) to (1499, 12)\n",
      "Data columns (total 6 columns):\n",
      " #   Column                                         Non-Null Count  Dtype  \n",
      "---  ------                                         --------------  -----  \n",
      " 0   Количетсво звонков                             3214 non-null   int64  \n",
      " 1   Длительность                                   3214 non-null   int64  \n",
      " 2   Количетсво сообщений                           3214 non-null   int64  \n",
      " 3   Объём потраченного за сессию интернет-трафика  3214 non-null   int64  \n",
      " 4   Тариф                                          3214 non-null   object \n",
      " 5   Прибыль                                        3214 non-null   float64\n",
      "dtypes: float64(1), int64(4), object(1)\n",
      "memory usage: 309.7+ KB\n"
     ]
    }
   ],
   "source": [
    "data_all[\"Прибыль\"] = data_all.apply(raschet, axis = 1)\n",
    "data_all.info()"
   ]
  },
  {
   "cell_type": "code",
   "execution_count": 30,
   "metadata": {},
   "outputs": [
    {
     "data": {
      "text/html": [
       "<div>\n",
       "<style scoped>\n",
       "    .dataframe tbody tr th:only-of-type {\n",
       "        vertical-align: middle;\n",
       "    }\n",
       "\n",
       "    .dataframe tbody tr th {\n",
       "        vertical-align: top;\n",
       "    }\n",
       "\n",
       "    .dataframe thead th {\n",
       "        text-align: right;\n",
       "    }\n",
       "</style>\n",
       "<table border=\"1\" class=\"dataframe\">\n",
       "  <thead>\n",
       "    <tr style=\"text-align: right;\">\n",
       "      <th></th>\n",
       "      <th></th>\n",
       "      <th>Количетсво звонков</th>\n",
       "      <th>Длительность</th>\n",
       "      <th>Количетсво сообщений</th>\n",
       "      <th>Объём потраченного за сессию интернет-трафика</th>\n",
       "      <th>Тариф</th>\n",
       "      <th>Прибыль</th>\n",
       "    </tr>\n",
       "    <tr>\n",
       "      <th>user_id</th>\n",
       "      <th>month</th>\n",
       "      <th></th>\n",
       "      <th></th>\n",
       "      <th></th>\n",
       "      <th></th>\n",
       "      <th></th>\n",
       "      <th></th>\n",
       "    </tr>\n",
       "  </thead>\n",
       "  <tbody>\n",
       "    <tr>\n",
       "      <th rowspan=\"8\" valign=\"top\">1000</th>\n",
       "      <th>5</th>\n",
       "      <td>22</td>\n",
       "      <td>159</td>\n",
       "      <td>22</td>\n",
       "      <td>2253</td>\n",
       "      <td>ultra</td>\n",
       "      <td>1950.0</td>\n",
       "    </tr>\n",
       "    <tr>\n",
       "      <th>6</th>\n",
       "      <td>43</td>\n",
       "      <td>172</td>\n",
       "      <td>60</td>\n",
       "      <td>23233</td>\n",
       "      <td>ultra</td>\n",
       "      <td>1950.0</td>\n",
       "    </tr>\n",
       "    <tr>\n",
       "      <th>7</th>\n",
       "      <td>47</td>\n",
       "      <td>340</td>\n",
       "      <td>75</td>\n",
       "      <td>14003</td>\n",
       "      <td>ultra</td>\n",
       "      <td>1950.0</td>\n",
       "    </tr>\n",
       "    <tr>\n",
       "      <th>8</th>\n",
       "      <td>52</td>\n",
       "      <td>408</td>\n",
       "      <td>81</td>\n",
       "      <td>14055</td>\n",
       "      <td>ultra</td>\n",
       "      <td>1950.0</td>\n",
       "    </tr>\n",
       "    <tr>\n",
       "      <th>9</th>\n",
       "      <td>58</td>\n",
       "      <td>466</td>\n",
       "      <td>57</td>\n",
       "      <td>14568</td>\n",
       "      <td>ultra</td>\n",
       "      <td>1950.0</td>\n",
       "    </tr>\n",
       "    <tr>\n",
       "      <th>10</th>\n",
       "      <td>57</td>\n",
       "      <td>350</td>\n",
       "      <td>73</td>\n",
       "      <td>14702</td>\n",
       "      <td>ultra</td>\n",
       "      <td>1950.0</td>\n",
       "    </tr>\n",
       "    <tr>\n",
       "      <th>11</th>\n",
       "      <td>43</td>\n",
       "      <td>338</td>\n",
       "      <td>58</td>\n",
       "      <td>14756</td>\n",
       "      <td>ultra</td>\n",
       "      <td>1950.0</td>\n",
       "    </tr>\n",
       "    <tr>\n",
       "      <th>12</th>\n",
       "      <td>46</td>\n",
       "      <td>333</td>\n",
       "      <td>70</td>\n",
       "      <td>9817</td>\n",
       "      <td>ultra</td>\n",
       "      <td>1950.0</td>\n",
       "    </tr>\n",
       "    <tr>\n",
       "      <th rowspan=\"2\" valign=\"top\">1001</th>\n",
       "      <th>11</th>\n",
       "      <td>59</td>\n",
       "      <td>430</td>\n",
       "      <td>0</td>\n",
       "      <td>18429</td>\n",
       "      <td>smart</td>\n",
       "      <td>1150.0</td>\n",
       "    </tr>\n",
       "    <tr>\n",
       "      <th>12</th>\n",
       "      <td>63</td>\n",
       "      <td>414</td>\n",
       "      <td>0</td>\n",
       "      <td>14036</td>\n",
       "      <td>smart</td>\n",
       "      <td>550.0</td>\n",
       "    </tr>\n",
       "    <tr>\n",
       "      <th rowspan=\"7\" valign=\"top\">1002</th>\n",
       "      <th>6</th>\n",
       "      <td>15</td>\n",
       "      <td>117</td>\n",
       "      <td>4</td>\n",
       "      <td>10856</td>\n",
       "      <td>smart</td>\n",
       "      <td>550.0</td>\n",
       "    </tr>\n",
       "    <tr>\n",
       "      <th>7</th>\n",
       "      <td>26</td>\n",
       "      <td>214</td>\n",
       "      <td>11</td>\n",
       "      <td>17580</td>\n",
       "      <td>smart</td>\n",
       "      <td>984.0</td>\n",
       "    </tr>\n",
       "    <tr>\n",
       "      <th>8</th>\n",
       "      <td>42</td>\n",
       "      <td>289</td>\n",
       "      <td>13</td>\n",
       "      <td>20319</td>\n",
       "      <td>smart</td>\n",
       "      <td>1519.0</td>\n",
       "    </tr>\n",
       "    <tr>\n",
       "      <th>9</th>\n",
       "      <td>36</td>\n",
       "      <td>206</td>\n",
       "      <td>4</td>\n",
       "      <td>16691</td>\n",
       "      <td>smart</td>\n",
       "      <td>810.0</td>\n",
       "    </tr>\n",
       "    <tr>\n",
       "      <th>10</th>\n",
       "      <td>33</td>\n",
       "      <td>212</td>\n",
       "      <td>10</td>\n",
       "      <td>13888</td>\n",
       "      <td>smart</td>\n",
       "      <td>550.0</td>\n",
       "    </tr>\n",
       "    <tr>\n",
       "      <th>11</th>\n",
       "      <td>32</td>\n",
       "      <td>243</td>\n",
       "      <td>16</td>\n",
       "      <td>18587</td>\n",
       "      <td>smart</td>\n",
       "      <td>1181.0</td>\n",
       "    </tr>\n",
       "    <tr>\n",
       "      <th>12</th>\n",
       "      <td>33</td>\n",
       "      <td>236</td>\n",
       "      <td>12</td>\n",
       "      <td>18113</td>\n",
       "      <td>smart</td>\n",
       "      <td>1088.0</td>\n",
       "    </tr>\n",
       "    <tr>\n",
       "      <th rowspan=\"3\" valign=\"top\">1003</th>\n",
       "      <th>8</th>\n",
       "      <td>55</td>\n",
       "      <td>380</td>\n",
       "      <td>37</td>\n",
       "      <td>8565</td>\n",
       "      <td>ultra</td>\n",
       "      <td>1950.0</td>\n",
       "    </tr>\n",
       "    <tr>\n",
       "      <th>9</th>\n",
       "      <td>134</td>\n",
       "      <td>961</td>\n",
       "      <td>91</td>\n",
       "      <td>12468</td>\n",
       "      <td>ultra</td>\n",
       "      <td>1950.0</td>\n",
       "    </tr>\n",
       "    <tr>\n",
       "      <th>10</th>\n",
       "      <td>108</td>\n",
       "      <td>855</td>\n",
       "      <td>83</td>\n",
       "      <td>14768</td>\n",
       "      <td>ultra</td>\n",
       "      <td>1950.0</td>\n",
       "    </tr>\n",
       "  </tbody>\n",
       "</table>\n",
       "</div>"
      ],
      "text/plain": [
       "               Количетсво звонков  Длительность  Количетсво сообщений  \\\n",
       "user_id month                                                           \n",
       "1000    5                      22           159                    22   \n",
       "        6                      43           172                    60   \n",
       "        7                      47           340                    75   \n",
       "        8                      52           408                    81   \n",
       "        9                      58           466                    57   \n",
       "        10                     57           350                    73   \n",
       "        11                     43           338                    58   \n",
       "        12                     46           333                    70   \n",
       "1001    11                     59           430                     0   \n",
       "        12                     63           414                     0   \n",
       "1002    6                      15           117                     4   \n",
       "        7                      26           214                    11   \n",
       "        8                      42           289                    13   \n",
       "        9                      36           206                     4   \n",
       "        10                     33           212                    10   \n",
       "        11                     32           243                    16   \n",
       "        12                     33           236                    12   \n",
       "1003    8                      55           380                    37   \n",
       "        9                     134           961                    91   \n",
       "        10                    108           855                    83   \n",
       "\n",
       "               Объём потраченного за сессию интернет-трафика  Тариф  Прибыль  \n",
       "user_id month                                                                 \n",
       "1000    5                                               2253  ultra   1950.0  \n",
       "        6                                              23233  ultra   1950.0  \n",
       "        7                                              14003  ultra   1950.0  \n",
       "        8                                              14055  ultra   1950.0  \n",
       "        9                                              14568  ultra   1950.0  \n",
       "        10                                             14702  ultra   1950.0  \n",
       "        11                                             14756  ultra   1950.0  \n",
       "        12                                              9817  ultra   1950.0  \n",
       "1001    11                                             18429  smart   1150.0  \n",
       "        12                                             14036  smart    550.0  \n",
       "1002    6                                              10856  smart    550.0  \n",
       "        7                                              17580  smart    984.0  \n",
       "        8                                              20319  smart   1519.0  \n",
       "        9                                              16691  smart    810.0  \n",
       "        10                                             13888  smart    550.0  \n",
       "        11                                             18587  smart   1181.0  \n",
       "        12                                             18113  smart   1088.0  \n",
       "1003    8                                               8565  ultra   1950.0  \n",
       "        9                                              12468  ultra   1950.0  \n",
       "        10                                             14768  ultra   1950.0  "
      ]
     },
     "execution_count": 30,
     "metadata": {},
     "output_type": "execute_result"
    }
   ],
   "source": [
    "data_all.head(20)"
   ]
  },
  {
   "cell_type": "code",
   "execution_count": 31,
   "metadata": {},
   "outputs": [
    {
     "data": {
      "text/html": [
       "<div>\n",
       "<style scoped>\n",
       "    .dataframe tbody tr th:only-of-type {\n",
       "        vertical-align: middle;\n",
       "    }\n",
       "\n",
       "    .dataframe tbody tr th {\n",
       "        vertical-align: top;\n",
       "    }\n",
       "\n",
       "    .dataframe thead th {\n",
       "        text-align: right;\n",
       "    }\n",
       "</style>\n",
       "<table border=\"1\" class=\"dataframe\">\n",
       "  <thead>\n",
       "    <tr style=\"text-align: right;\">\n",
       "      <th></th>\n",
       "      <th>Длительность</th>\n",
       "      <th>Количетсво сообщений</th>\n",
       "      <th>Объём потраченного за сессию интернет-трафика</th>\n",
       "      <th>Прибыль</th>\n",
       "      <th>Тариф</th>\n",
       "    </tr>\n",
       "    <tr>\n",
       "      <th>user_id</th>\n",
       "      <th></th>\n",
       "      <th></th>\n",
       "      <th></th>\n",
       "      <th></th>\n",
       "      <th></th>\n",
       "    </tr>\n",
       "  </thead>\n",
       "  <tbody>\n",
       "    <tr>\n",
       "      <th>1000</th>\n",
       "      <td>339.0</td>\n",
       "      <td>65.0</td>\n",
       "      <td>14311.5</td>\n",
       "      <td>1950.0</td>\n",
       "      <td>ultra</td>\n",
       "    </tr>\n",
       "    <tr>\n",
       "      <th>1001</th>\n",
       "      <td>422.0</td>\n",
       "      <td>0.0</td>\n",
       "      <td>16232.5</td>\n",
       "      <td>850.0</td>\n",
       "      <td>smart</td>\n",
       "    </tr>\n",
       "    <tr>\n",
       "      <th>1002</th>\n",
       "      <td>214.0</td>\n",
       "      <td>11.0</td>\n",
       "      <td>17580.0</td>\n",
       "      <td>984.0</td>\n",
       "      <td>smart</td>\n",
       "    </tr>\n",
       "    <tr>\n",
       "      <th>1003</th>\n",
       "      <td>824.0</td>\n",
       "      <td>83.0</td>\n",
       "      <td>11356.0</td>\n",
       "      <td>1950.0</td>\n",
       "      <td>ultra</td>\n",
       "    </tr>\n",
       "    <tr>\n",
       "      <th>1004</th>\n",
       "      <td>132.5</td>\n",
       "      <td>154.5</td>\n",
       "      <td>17810.5</td>\n",
       "      <td>1950.0</td>\n",
       "      <td>ultra</td>\n",
       "    </tr>\n",
       "  </tbody>\n",
       "</table>\n",
       "</div>"
      ],
      "text/plain": [
       "         Длительность  Количетсво сообщений  \\\n",
       "user_id                                       \n",
       "1000            339.0                  65.0   \n",
       "1001            422.0                   0.0   \n",
       "1002            214.0                  11.0   \n",
       "1003            824.0                  83.0   \n",
       "1004            132.5                 154.5   \n",
       "\n",
       "         Объём потраченного за сессию интернет-трафика  Прибыль  Тариф  \n",
       "user_id                                                                 \n",
       "1000                                           14311.5   1950.0  ultra  \n",
       "1001                                           16232.5    850.0  smart  \n",
       "1002                                           17580.0    984.0  smart  \n",
       "1003                                           11356.0   1950.0  ultra  \n",
       "1004                                           17810.5   1950.0  ultra  "
      ]
     },
     "execution_count": 31,
     "metadata": {},
     "output_type": "execute_result"
    }
   ],
   "source": [
    "data_all_mediana = data_all.pivot_table(index='user_id', values=['Длительность', 'Количетсво сообщений', 'Объём потраченного за сессию интернет-трафика', 'Прибыль'], aggfunc='median')\n",
    "for user_id in users['user_id']:\n",
    "    data_all_mediana.loc[user_id, 'Тариф'] = users.loc[user_id-1000, 'tariff']\n",
    "data_all_mediana.head()"
   ]
  },
  {
   "cell_type": "markdown",
   "metadata": {},
   "source": [
    "### Расчет среднего количества, дисперсии и стандартного отклонения"
   ]
  },
  {
   "cell_type": "code",
   "execution_count": 32,
   "metadata": {},
   "outputs": [],
   "source": [
    "stat_data_median = (data_all_mediana\n",
    "             .pivot_table\n",
    "             (index=['Тариф'], \n",
    "              values=['Длительность', 'Объём потраченного за сессию интернет-трафика', 'Количетсво сообщений'], \n",
    "              aggfunc={'Длительность': [np.median, np.var, np.std], \n",
    "                       'Объём потраченного за сессию интернет-трафика': [np.median, np.var, np.std], \n",
    "                       'Количетсво сообщений': [np.median, np.var, np.std]}\n",
    "             )\n",
    "            )"
   ]
  },
  {
   "cell_type": "code",
   "execution_count": 33,
   "metadata": {
    "scrolled": true
   },
   "outputs": [
    {
     "data": {
      "text/html": [
       "<div>\n",
       "<style scoped>\n",
       "    .dataframe tbody tr th:only-of-type {\n",
       "        vertical-align: middle;\n",
       "    }\n",
       "\n",
       "    .dataframe tbody tr th {\n",
       "        vertical-align: top;\n",
       "    }\n",
       "\n",
       "    .dataframe thead tr th {\n",
       "        text-align: left;\n",
       "    }\n",
       "\n",
       "    .dataframe thead tr:last-of-type th {\n",
       "        text-align: right;\n",
       "    }\n",
       "</style>\n",
       "<table border=\"1\" class=\"dataframe\">\n",
       "  <thead>\n",
       "    <tr>\n",
       "      <th></th>\n",
       "      <th colspan=\"3\" halign=\"left\">Длительность</th>\n",
       "      <th colspan=\"3\" halign=\"left\">Количетсво сообщений</th>\n",
       "      <th colspan=\"3\" halign=\"left\">Объём потраченного за сессию интернет-трафика</th>\n",
       "    </tr>\n",
       "    <tr>\n",
       "      <th></th>\n",
       "      <th>median</th>\n",
       "      <th>std</th>\n",
       "      <th>var</th>\n",
       "      <th>median</th>\n",
       "      <th>std</th>\n",
       "      <th>var</th>\n",
       "      <th>median</th>\n",
       "      <th>std</th>\n",
       "      <th>var</th>\n",
       "    </tr>\n",
       "    <tr>\n",
       "      <th>Тариф</th>\n",
       "      <th></th>\n",
       "      <th></th>\n",
       "      <th></th>\n",
       "      <th></th>\n",
       "      <th></th>\n",
       "      <th></th>\n",
       "      <th></th>\n",
       "      <th></th>\n",
       "      <th></th>\n",
       "    </tr>\n",
       "  </thead>\n",
       "  <tbody>\n",
       "    <tr>\n",
       "      <th>smart</th>\n",
       "      <td>439.75</td>\n",
       "      <td>160.266622</td>\n",
       "      <td>25685.390127</td>\n",
       "      <td>28.5</td>\n",
       "      <td>28.010653</td>\n",
       "      <td>784.596662</td>\n",
       "      <td>16924.75</td>\n",
       "      <td>4174.206306</td>\n",
       "      <td>1.742400e+07</td>\n",
       "    </tr>\n",
       "    <tr>\n",
       "      <th>ultra</th>\n",
       "      <td>535.25</td>\n",
       "      <td>303.793641</td>\n",
       "      <td>92290.576519</td>\n",
       "      <td>47.5</td>\n",
       "      <td>49.236809</td>\n",
       "      <td>2424.263318</td>\n",
       "      <td>19732.75</td>\n",
       "      <td>8893.008111</td>\n",
       "      <td>7.908559e+07</td>\n",
       "    </tr>\n",
       "  </tbody>\n",
       "</table>\n",
       "</div>"
      ],
      "text/plain": [
       "      Длительность                           Количетсво сообщений             \\\n",
       "            median         std           var               median        std   \n",
       "Тариф                                                                          \n",
       "smart       439.75  160.266622  25685.390127                 28.5  28.010653   \n",
       "ultra       535.25  303.793641  92290.576519                 47.5  49.236809   \n",
       "\n",
       "                   Объём потраченного за сессию интернет-трафика               \\\n",
       "               var                                        median          std   \n",
       "Тариф                                                                           \n",
       "smart   784.596662                                      16924.75  4174.206306   \n",
       "ultra  2424.263318                                      19732.75  8893.008111   \n",
       "\n",
       "                     \n",
       "                var  \n",
       "Тариф                \n",
       "smart  1.742400e+07  \n",
       "ultra  7.908559e+07  "
      ]
     },
     "execution_count": 33,
     "metadata": {},
     "output_type": "execute_result"
    }
   ],
   "source": [
    "stat_data_median"
   ]
  },
  {
   "cell_type": "code",
   "execution_count": 34,
   "metadata": {},
   "outputs": [],
   "source": [
    "stat_data = (data_all\n",
    "             .pivot_table\n",
    "             (index=['Тариф'], \n",
    "              values=['Длительность', 'Объём потраченного за сессию интернет-трафика', 'Количетсво сообщений'], \n",
    "              aggfunc={'Длительность': [np.median, np.var, np.std], \n",
    "                       'Объём потраченного за сессию интернет-трафика': [np.median, np.var, np.std], \n",
    "                       'Количетсво сообщений': [np.median, np.var, np.std]}\n",
    "             )\n",
    "            )"
   ]
  },
  {
   "cell_type": "code",
   "execution_count": 35,
   "metadata": {},
   "outputs": [
    {
     "data": {
      "text/html": [
       "<div>\n",
       "<style scoped>\n",
       "    .dataframe tbody tr th:only-of-type {\n",
       "        vertical-align: middle;\n",
       "    }\n",
       "\n",
       "    .dataframe tbody tr th {\n",
       "        vertical-align: top;\n",
       "    }\n",
       "\n",
       "    .dataframe thead tr th {\n",
       "        text-align: left;\n",
       "    }\n",
       "\n",
       "    .dataframe thead tr:last-of-type th {\n",
       "        text-align: right;\n",
       "    }\n",
       "</style>\n",
       "<table border=\"1\" class=\"dataframe\">\n",
       "  <thead>\n",
       "    <tr>\n",
       "      <th></th>\n",
       "      <th colspan=\"3\" halign=\"left\">Длительность</th>\n",
       "      <th colspan=\"3\" halign=\"left\">Количетсво сообщений</th>\n",
       "      <th colspan=\"3\" halign=\"left\">Объём потраченного за сессию интернет-трафика</th>\n",
       "    </tr>\n",
       "    <tr>\n",
       "      <th></th>\n",
       "      <th>median</th>\n",
       "      <th>std</th>\n",
       "      <th>var</th>\n",
       "      <th>median</th>\n",
       "      <th>std</th>\n",
       "      <th>var</th>\n",
       "      <th>median</th>\n",
       "      <th>std</th>\n",
       "      <th>var</th>\n",
       "    </tr>\n",
       "    <tr>\n",
       "      <th>Тариф</th>\n",
       "      <th></th>\n",
       "      <th></th>\n",
       "      <th></th>\n",
       "      <th></th>\n",
       "      <th></th>\n",
       "      <th></th>\n",
       "      <th></th>\n",
       "      <th></th>\n",
       "      <th></th>\n",
       "    </tr>\n",
       "  </thead>\n",
       "  <tbody>\n",
       "    <tr>\n",
       "      <th>smart</th>\n",
       "      <td>422.0</td>\n",
       "      <td>190.313730</td>\n",
       "      <td>36219.315784</td>\n",
       "      <td>28.0</td>\n",
       "      <td>28.227876</td>\n",
       "      <td>796.812958</td>\n",
       "      <td>16506.0</td>\n",
       "      <td>5870.480175</td>\n",
       "      <td>3.446254e+07</td>\n",
       "    </tr>\n",
       "    <tr>\n",
       "      <th>ultra</th>\n",
       "      <td>518.0</td>\n",
       "      <td>317.606098</td>\n",
       "      <td>100873.633397</td>\n",
       "      <td>38.0</td>\n",
       "      <td>47.804457</td>\n",
       "      <td>2285.266143</td>\n",
       "      <td>19308.0</td>\n",
       "      <td>10087.173788</td>\n",
       "      <td>1.017511e+08</td>\n",
       "    </tr>\n",
       "  </tbody>\n",
       "</table>\n",
       "</div>"
      ],
      "text/plain": [
       "      Длительность                            Количетсво сообщений             \\\n",
       "            median         std            var               median        std   \n",
       "Тариф                                                                           \n",
       "smart        422.0  190.313730   36219.315784                 28.0  28.227876   \n",
       "ultra        518.0  317.606098  100873.633397                 38.0  47.804457   \n",
       "\n",
       "                   Объём потраченного за сессию интернет-трафика  \\\n",
       "               var                                        median   \n",
       "Тариф                                                              \n",
       "smart   796.812958                                       16506.0   \n",
       "ultra  2285.266143                                       19308.0   \n",
       "\n",
       "                                   \n",
       "                std           var  \n",
       "Тариф                              \n",
       "smart   5870.480175  3.446254e+07  \n",
       "ultra  10087.173788  1.017511e+08  "
      ]
     },
     "execution_count": 35,
     "metadata": {},
     "output_type": "execute_result"
    }
   ],
   "source": [
    "stat_data"
   ]
  },
  {
   "cell_type": "markdown",
   "metadata": {},
   "source": [
    "## Анализ данных"
   ]
  },
  {
   "cell_type": "markdown",
   "metadata": {},
   "source": [
    "### Анализ данных - boxplot"
   ]
  },
  {
   "cell_type": "code",
   "execution_count": 36,
   "metadata": {},
   "outputs": [
    {
     "name": "stdout",
     "output_type": "stream",
     "text": [
      "Общая длительность звонков в тарифе Ультра не доходит до своего лимита\n",
      "Количество сообщений в тарифе Ультра не доходит до своего лимита\n"
     ]
    },
    {
     "data": {
      "image/png": "[encoded data removed]",
      "text/plain": [
       "<Figure size 360x360 with 1 Axes>"
      ]
     },
     "metadata": {
      "needs_background": "light"
     },
     "output_type": "display_data"
    },
    {
     "data": {
      "image/png": "[encoded data removed]",
      "text/plain": [
       "<Figure size 360x360 with 1 Axes>"
      ]
     },
     "metadata": {
      "needs_background": "light"
     },
     "output_type": "display_data"
    },
    {
     "data": {
      "image/png": "[encoded data removed]",
      "text/plain": [
       "<Figure size 360x360 with 1 Axes>"
      ]
     },
     "metadata": {
      "needs_background": "light"
     },
     "output_type": "display_data"
    }
   ],
   "source": [
    "for column in ['Длительность', 'Количетсво сообщений', 'Объём потраченного за сессию интернет-трафика']:    \n",
    "    sns.catplot(x=\"Тариф\", y=column, kind=\"box\", data=data_all, orient='v')\n",
    "    if column == 'Длительность':\n",
    "        plt.axhline(y=500, color=\"green\", linestyle=\"--\",linewidth=5, label=\"Лимит тарифа Smart\")\n",
    "        #plt.axhline(y=3000, color=\"yellow\", linestyle=\"--\",linewidth=5, label=\"Лимит тарифа Ultra\")\n",
    "        print(\"Общая длительность звонков в тарифе Ультра не доходит до своего лимита\")\n",
    "    if column == 'Количетсво сообщений':\n",
    "        plt.axhline(y=50, color=\"green\", linestyle=\"--\",linewidth=5, label=\"Лимит тарифа Smart\")\n",
    "        #plt.axhline(y=1000, color=\"yellow\", linestyle=\"--\",linewidth=5, label=\"Лимит тарифа Ultra\")\n",
    "        print(\"Количество сообщений в тарифе Ультра не доходит до своего лимита\")\n",
    "    if column == 'Объём потраченного за сессию интернет-трафика':\n",
    "        plt.axhline(y=15630, color=\"green\", linestyle=\"--\",linewidth=5, label=\"Лимит тарифа Smart\")\n",
    "        plt.axhline(y=30720, color=\"yellow\", linestyle=\"--\",linewidth=5, label=\"Лимит тарифа Ultra\")\n",
    "    plt.legend(loc=\"upper right\",shadow=True,fontsize=\"large\")"
   ]
  },
  {
   "cell_type": "markdown",
   "metadata": {},
   "source": [
    "### Анализ данных - histplot"
   ]
  },
  {
   "cell_type": "code",
   "execution_count": 37,
   "metadata": {},
   "outputs": [
    {
     "data": {
      "image/png": "[encoded data removed]",
      "text/plain": [
       "<Figure size 432x288 with 1 Axes>"
      ]
     },
     "metadata": {
      "needs_background": "light"
     },
     "output_type": "display_data"
    }
   ],
   "source": [
    "for tariff in ['ultra', 'smart']:\n",
    "    sns.histplot(data_all.query('Тариф == @tariff')['Длительность'])\n",
    "    plt.legend(['ultra', 'smart'])"
   ]
  },
  {
   "cell_type": "code",
   "execution_count": 39,
   "metadata": {},
   "outputs": [
    {
     "data": {
      "image/png": "[encoded data removed]",
      "text/plain": [
       "<Figure size 432x288 with 1 Axes>"
      ]
     },
     "metadata": {
      "needs_background": "light"
     },
     "output_type": "display_data"
    }
   ],
   "source": [
    "for tariff in ['ultra', 'smart']:\n",
    "    sns.histplot(data_all.query('Тариф == @tariff')['Количетсво сообщений'])\n",
    "    plt.legend(['ultra', 'smart'])"
   ]
  },
  {
   "cell_type": "code",
   "execution_count": 45,
   "metadata": {},
   "outputs": [
    {
     "data": {
      "image/png": "[encoded data removed]",
      "text/plain": [
       "<Figure size 432x288 with 1 Axes>"
      ]
     },
     "metadata": {
      "needs_background": "light"
     },
     "output_type": "display_data"
    }
   ],
   "source": [
    "for tariff in ['ultra', 'smart']:\n",
    "    sns.histplot(data_all.query('Тариф == @tariff')['Объём потраченного за сессию интернет-трафика'])\n",
    "    plt.legend(['ultra', 'smart'])"
   ]
  },
  {
   "cell_type": "markdown",
   "metadata": {},
   "source": [
    "### Вывод"
   ]
  },
  {
   "cell_type": "markdown",
   "metadata": {},
   "source": [
    " - Длительность звонков:\n",
    "* Для тарифа ультра пользователи не доходят до своего лимита тарифа, при этом среднее значение звонков пользователей в месяц состовляет около 580 минут.\n",
    "* Что касаеься пользователей тарифа смарт, то в среднем часть пользователей используют около 500 минут, при этом 30% пользователей выходят за пределы трафика по звонкам.\n",
    "\n",
    " - Сообщения:\n",
    "* Для тарифа ультра пользователи в среднем используют 90 сообщений в меясц. До предела лимита сообщений остается еще огромный запас. При этом больше 40 пользователей не используют сообщения вовсе.\n",
    "* Для тарифа смарт есть пользователели, котоыре используют весь полученный пакет сообщений. Небольшая часть выходят за пределы и доплачивают за каждое сообщение. Также наблюдаются выбросы по сообщениям пользователей смарт. В тарифе смарт также большое количество пользователей не отправляют сообщения (Около 90).\n",
    "\n",
    " - Интернет:\n",
    "* Для тарифа ультра в среднем используют 20 ГБ, что до лимита остается еще 10Гб. Однако часть пользователей все равно выходит за пределы. Таких пользователей порядка 7%.\n",
    "* Для тарифа смарт ситуация отличается. В срднем пользователи используют от 14 до 20ГБ в месяц. При этом медиана равна 17ГБ, что превышает лимит тарифа и используют дополнительные Гб за доп. плату."
   ]
  },
  {
   "cell_type": "code",
   "execution_count": 41,
   "metadata": {},
   "outputs": [
    {
     "data": {
      "text/plain": [
       "<AxesSubplot:xlabel='Объём потраченного за сессию интернет-трафика', ylabel='Count'>"
      ]
     },
     "execution_count": 41,
     "metadata": {},
     "output_type": "execute_result"
    },
    {
     "data": {
      "image/png": "[encoded data removed]",
      "text/plain": [
       "<Figure size 432x288 with 1 Axes>"
      ]
     },
     "metadata": {
      "needs_background": "light"
     },
     "output_type": "display_data"
    }
   ],
   "source": [
    "sns.histplot(data = data_all, x = 'Объём потраченного за сессию интернет-трафика', hue='Тариф')"
   ]
  },
  {
   "cell_type": "markdown",
   "metadata": {},
   "source": [
    "## Проверка гипотез"
   ]
  },
  {
   "cell_type": "markdown",
   "metadata": {},
   "source": [
    "Гипотезы:\n",
    "\n",
    "* средняя выручка пользователей тарифов «Ультра» и «Смарт» различаются;\n",
    "* средняя выручка пользователей из Москвы отличается от выручки пользователей из других регионов."
   ]
  },
  {
   "cell_type": "markdown",
   "metadata": {},
   "source": [
    "### Гипотеза №1"
   ]
  },
  {
   "cell_type": "markdown",
   "metadata": {},
   "source": [
    "В качестве 0 предположим, что средняя выручка двух тарифов не отличается, тогда :\n",
    "- H0  — средняя выручка пользователей тарифа «Ультра» равна средней выручке пользователей тарифа «Смарт»\n",
    "- H1  — средняя выручка пользователей тарифа «Ультра» отличается от  средней выручке пользователей тарифа «Смарт»"
   ]
  },
  {
   "cell_type": "markdown",
   "metadata": {},
   "source": [
    "* Используем метод scipy.stats.ttest_ind (array1, array2, equal_var = False). False, так как дисперсии выборок отличаются.\n",
    "* Критический уровень значимости зададим 0.05."
   ]
  },
  {
   "cell_type": "code",
   "execution_count": null,
   "metadata": {},
   "outputs": [],
   "source": [
    "ultra = data_all.query('Тариф == \"ultra\"')[\"Прибыль\"]\n",
    "smart = data_all.query('Тариф == \"smart\"')[\"Прибыль\"]\n",
    "alpha = .05\n",
    "\n",
    "results = st.ttest_ind(\n",
    "    ultra, \n",
    "    smart, \n",
    "    equal_var=False)\n",
    "\n",
    "print('p-значение:', results.pvalue)\n",
    "\n",
    "if (results.pvalue < alpha):\n",
    "    print(\"Отвергаем нулевую гипотезу\")\n",
    "else:\n",
    "    print(\"Не получилось отвергнуть нулевую гипотезу\")"
   ]
  },
  {
   "cell_type": "code",
   "execution_count": 42,
   "metadata": {},
   "outputs": [
    {
     "data": {
      "text/html": [
       "<div>\n",
       "<style scoped>\n",
       "    .dataframe tbody tr th:only-of-type {\n",
       "        vertical-align: middle;\n",
       "    }\n",
       "\n",
       "    .dataframe tbody tr th {\n",
       "        vertical-align: top;\n",
       "    }\n",
       "\n",
       "    .dataframe thead th {\n",
       "        text-align: right;\n",
       "    }\n",
       "</style>\n",
       "<table border=\"1\" class=\"dataframe\">\n",
       "  <thead>\n",
       "    <tr style=\"text-align: right;\">\n",
       "      <th></th>\n",
       "      <th>Прибыль</th>\n",
       "    </tr>\n",
       "    <tr>\n",
       "      <th>Тариф</th>\n",
       "      <th></th>\n",
       "    </tr>\n",
       "  </thead>\n",
       "  <tbody>\n",
       "    <tr>\n",
       "      <th>smart</th>\n",
       "      <td>958.0</td>\n",
       "    </tr>\n",
       "    <tr>\n",
       "      <th>ultra</th>\n",
       "      <td>1950.0</td>\n",
       "    </tr>\n",
       "  </tbody>\n",
       "</table>\n",
       "</div>"
      ],
      "text/plain": [
       "       Прибыль\n",
       "Тариф         \n",
       "smart    958.0\n",
       "ultra   1950.0"
      ]
     },
     "execution_count": 42,
     "metadata": {},
     "output_type": "execute_result"
    }
   ],
   "source": [
    "data_all.pivot_table(index='Тариф', values='Прибыль', aggfunc='median')"
   ]
  },
  {
   "cell_type": "code",
   "execution_count": 43,
   "metadata": {},
   "outputs": [
    {
     "data": {
      "text/plain": [
       "(0.0, 4000.0)"
      ]
     },
     "execution_count": 43,
     "metadata": {},
     "output_type": "execute_result"
    },
    {
     "data": {
      "image/png": "[encoded data removed]",
      "text/plain": [
       "<Figure size 432x288 with 1 Axes>"
      ]
     },
     "metadata": {
      "needs_background": "light"
     },
     "output_type": "display_data"
    }
   ],
   "source": [
    "sns.boxplot(x=\"Тариф\", y='Прибыль', data=data_all, orient='v')\n",
    "plt.ylim(0,4000)"
   ]
  },
  {
   "cell_type": "markdown",
   "metadata": {},
   "source": [
    "#### Вывод:\n",
    "Исходя из полученных данных, можно сказать что компания получает больше прибыли от тарифы `Ультра`, чем от тарифа `Смарт`. Ведь разница между абонентсками платами составляет в 3.5 раза. Хоть и пользователи тарифы `Смарт` очень часто выходят за рамки лимитов и покупают дополнительны звонки и интернет (в среднем тратя 400 рублей сверх тарифа), но все равно не достигают прибыли тарифы `Ультра`. "
   ]
  },
  {
   "cell_type": "markdown",
   "metadata": {},
   "source": [
    "### Гипотеза №2"
   ]
  },
  {
   "cell_type": "markdown",
   "metadata": {},
   "source": [
    "#### Добавим в таблицу города."
   ]
  },
  {
   "cell_type": "code",
   "execution_count": null,
   "metadata": {},
   "outputs": [],
   "source": [
    "for user in data_all.index:\n",
    "    data_all.loc[user, 'Город'] = users.loc[user[0]-1000, 'city']"
   ]
  },
  {
   "cell_type": "markdown",
   "metadata": {},
   "source": [
    "#### Проверка гипотезы"
   ]
  },
  {
   "cell_type": "markdown",
   "metadata": {},
   "source": [
    "В качестве 0 предположим, что средняя выручка двух тарифов от города  не отличаются, тогда :\n",
    "- H0  — средняя выручка пользователей в Москве равна средней выручке пользователей из другого города;\n",
    "- H1  — средняя выручка пользователей в Москве отличается от средней выручке пользователей из другого города;"
   ]
  },
  {
   "cell_type": "markdown",
   "metadata": {},
   "source": [
    "* Используем метод scipy.stats.ttest_ind (array1, array2, equal_var = False). False, так как дисперсии выборок отличаются.\n",
    "* Критический уровень значимости зададим 0.05."
   ]
  },
  {
   "cell_type": "code",
   "execution_count": null,
   "metadata": {},
   "outputs": [],
   "source": [
    "moscow = data_all.query('Город == \"Москва\"')[\"Прибыль\"]\n",
    "region = data_all.query('Город != \"Москва\"')[\"Прибыль\"]\n",
    "alpha = .05\n",
    "\n",
    "results = st.ttest_ind(\n",
    "    moscow, \n",
    "    region, \n",
    "    equal_var=False)\n",
    "\n",
    "print('p-значение:', results.pvalue)\n",
    "\n",
    "if (results.pvalue < alpha):\n",
    "    print(\"Отвергаем нулевую гипотезу\")\n",
    "else:\n",
    "    print(\"Не получилось отвергнуть нулевую гипотезу\")"
   ]
  },
  {
   "cell_type": "code",
   "execution_count": null,
   "metadata": {},
   "outputs": [],
   "source": [
    "def region(row):\n",
    "    if row == \"Москва\":\n",
    "        return \"Москва\"\n",
    "    else:\n",
    "        return \"Другой город\""
   ]
  },
  {
   "cell_type": "code",
   "execution_count": null,
   "metadata": {},
   "outputs": [],
   "source": [
    "data_all[\"region_pribil\"] = data_all['Город'].apply(region)\n",
    "data_all"
   ]
  },
  {
   "cell_type": "code",
   "execution_count": null,
   "metadata": {},
   "outputs": [],
   "source": [
    "data_all.pivot_table(index='region_pribil', values='Прибыль', aggfunc='median')"
   ]
  },
  {
   "cell_type": "code",
   "execution_count": null,
   "metadata": {},
   "outputs": [],
   "source": [
    "sns.boxplot(x=\"region_pribil\", y='Прибыль', data=data_all, orient='v')\n",
    "plt.ylim(0,11000)"
   ]
  },
  {
   "cell_type": "markdown",
   "metadata": {},
   "source": [
    "#### Вывод:\n",
    "Исходя из полученных данных, можно сказать, что прибыль в зависимости от города сильно не отличаются. В Москве есть небольшое преобладание, но всего в 200 рублей"
   ]
  },
  {
   "cell_type": "markdown",
   "metadata": {},
   "source": [
    "## Общий вывод"
   ]
  },
  {
   "cell_type": "markdown",
   "metadata": {},
   "source": [
    "1. Были получены данные по таким составляющим, как информация о звонках, интернет сессиях, сообщениях, тарифах и самих пользователей. \n",
    "2. При исследовании данных было выявлено, что в каждой таблице у дат используется не тот формат. Поэтому для начало все даты были приведены в нужный формат.\n",
    "3. После этого было создана одна общая таблица со всеми нужными параметрами для каждого пользователя по месяцу.\n",
    "4. При анализе полученных данных, было выявлено что пользователи `Cмарт` часто превышают лимит тарифа по таким показателям, как звонки и интернет, в то время как пользователи `Ультра` часто не доходят до своих лимитов.\n",
    "5. При проверке гипотез было выявлено, что наибольшую прибыль приносит тариф `Ультра`, чем тариф `Смарт`, хоть пользаватели часто берут дополнительные услуги. В среднем пользователи `Смарт` переплачивают 400 рублей.\n",
    "6. При рассмотрении прибыли по городам, было выявлено, что между Москвой и другими городами разницы не наблюдается.\n",
    "\n",
    "В качестве рекомендаций, можно посоветовать компании разработать новый тариф на основе `Смарт` - увеличив число минут и интернет трафика. Так как пользователи `Смарт` часто доплачивают, а пользователи `Ультра` не доходят до своих лимитов, и у них остаются минуты и Гб, которые не переносятся на следующий месяц"
   ]
  }
 ],
 "metadata": {
  "ExecuteTimeLog": [
   {
    "duration": 154,
    "start_time": "2022-03-25T07:14:21.165Z"
   },
   {
    "duration": 1334,
    "start_time": "2022-03-25T07:15:30.746Z"
   },
   {
    "duration": 205,
    "start_time": "2022-03-25T07:15:37.031Z"
   },
   {
    "duration": 16,
    "start_time": "2022-03-25T07:15:56.428Z"
   },
   {
    "duration": 319,
    "start_time": "2022-03-25T07:16:58.293Z"
   },
   {
    "duration": 401,
    "start_time": "2022-03-25T07:17:07.488Z"
   },
   {
    "duration": 40,
    "start_time": "2022-03-25T07:17:21.365Z"
   },
   {
    "duration": 34,
    "start_time": "2022-03-25T07:17:37.491Z"
   },
   {
    "duration": 27,
    "start_time": "2022-03-25T07:17:51.770Z"
   },
   {
    "duration": 3,
    "start_time": "2022-03-25T07:17:59.115Z"
   },
   {
    "duration": 16,
    "start_time": "2022-03-25T07:18:09.012Z"
   },
   {
    "duration": 24,
    "start_time": "2022-03-25T07:18:23.719Z"
   },
   {
    "duration": 72,
    "start_time": "2022-03-25T07:20:47.494Z"
   },
   {
    "duration": 53,
    "start_time": "2022-03-25T07:21:02.138Z"
   },
   {
    "duration": 81,
    "start_time": "2022-03-25T07:21:28.828Z"
   },
   {
    "duration": 65,
    "start_time": "2022-03-25T08:07:16.818Z"
   },
   {
    "duration": 25,
    "start_time": "2022-03-25T08:07:22.930Z"
   },
   {
    "duration": 18,
    "start_time": "2022-03-25T08:09:20.627Z"
   },
   {
    "duration": 9,
    "start_time": "2022-03-25T08:09:25.095Z"
   },
   {
    "duration": 11,
    "start_time": "2022-03-25T08:09:34.963Z"
   },
   {
    "duration": 159,
    "start_time": "2022-03-25T08:09:44.786Z"
   },
   {
    "duration": 154,
    "start_time": "2022-03-25T08:09:47.506Z"
   },
   {
    "duration": 23,
    "start_time": "2022-03-25T08:09:50.717Z"
   },
   {
    "duration": 9,
    "start_time": "2022-03-25T08:11:51.331Z"
   },
   {
    "duration": 1302,
    "start_time": "2022-03-25T08:12:28.886Z"
   },
   {
    "duration": 414,
    "start_time": "2022-03-25T08:12:30.190Z"
   },
   {
    "duration": 39,
    "start_time": "2022-03-25T08:12:30.605Z"
   },
   {
    "duration": 39,
    "start_time": "2022-03-25T08:12:30.647Z"
   },
   {
    "duration": 41,
    "start_time": "2022-03-25T08:12:30.687Z"
   },
   {
    "duration": 17,
    "start_time": "2022-03-25T08:12:30.730Z"
   },
   {
    "duration": 42,
    "start_time": "2022-03-25T08:12:30.749Z"
   },
   {
    "duration": 102,
    "start_time": "2022-03-25T08:12:30.793Z"
   },
   {
    "duration": 55,
    "start_time": "2022-03-25T08:12:30.897Z"
   },
   {
    "duration": 98,
    "start_time": "2022-03-25T08:12:30.955Z"
   },
   {
    "duration": 71,
    "start_time": "2022-03-25T08:12:31.055Z"
   },
   {
    "duration": 25,
    "start_time": "2022-03-25T08:12:31.128Z"
   },
   {
    "duration": 1267,
    "start_time": "2022-03-25T08:14:24.607Z"
   },
   {
    "duration": 410,
    "start_time": "2022-03-25T08:14:25.876Z"
   },
   {
    "duration": 40,
    "start_time": "2022-03-25T08:14:26.288Z"
   },
   {
    "duration": 31,
    "start_time": "2022-03-25T08:14:26.330Z"
   },
   {
    "duration": 53,
    "start_time": "2022-03-25T08:14:26.362Z"
   },
   {
    "duration": 16,
    "start_time": "2022-03-25T08:14:26.416Z"
   },
   {
    "duration": 22,
    "start_time": "2022-03-25T08:14:26.434Z"
   },
   {
    "duration": 109,
    "start_time": "2022-03-25T08:14:26.458Z"
   },
   {
    "duration": 64,
    "start_time": "2022-03-25T08:14:26.569Z"
   },
   {
    "duration": 98,
    "start_time": "2022-03-25T08:14:26.636Z"
   },
   {
    "duration": 66,
    "start_time": "2022-03-25T08:14:26.735Z"
   },
   {
    "duration": 26,
    "start_time": "2022-03-25T08:14:26.803Z"
   },
   {
    "duration": 139,
    "start_time": "2022-03-25T08:14:26.831Z"
   },
   {
    "duration": 17,
    "start_time": "2022-03-25T08:16:53.888Z"
   },
   {
    "duration": 75,
    "start_time": "2022-03-25T08:17:20.717Z"
   },
   {
    "duration": 10,
    "start_time": "2022-03-25T08:17:55.760Z"
   },
   {
    "duration": 35,
    "start_time": "2022-03-25T08:18:03.096Z"
   },
   {
    "duration": 20,
    "start_time": "2022-03-25T08:18:08.340Z"
   },
   {
    "duration": 14,
    "start_time": "2022-03-25T08:20:50.039Z"
   },
   {
    "duration": 14,
    "start_time": "2022-03-25T08:20:58.759Z"
   },
   {
    "duration": 13,
    "start_time": "2022-03-25T08:21:03.216Z"
   },
   {
    "duration": 14,
    "start_time": "2022-03-25T08:21:07.291Z"
   },
   {
    "duration": 146,
    "start_time": "2022-03-25T08:26:21.298Z"
   },
   {
    "duration": 12,
    "start_time": "2022-03-25T08:26:27.468Z"
   },
   {
    "duration": 8,
    "start_time": "2022-03-25T08:26:38.134Z"
   },
   {
    "duration": 49,
    "start_time": "2022-03-25T08:28:13.512Z"
   },
   {
    "duration": 23,
    "start_time": "2022-03-25T08:28:18.639Z"
   },
   {
    "duration": 10,
    "start_time": "2022-03-25T08:30:19.495Z"
   },
   {
    "duration": 62,
    "start_time": "2022-03-25T08:30:44.890Z"
   },
   {
    "duration": 35,
    "start_time": "2022-03-25T08:31:25.864Z"
   },
   {
    "duration": 24,
    "start_time": "2022-03-25T08:31:29.454Z"
   },
   {
    "duration": 8,
    "start_time": "2022-03-25T08:31:36.402Z"
   },
   {
    "duration": 57,
    "start_time": "2022-03-25T08:37:08.538Z"
   },
   {
    "duration": 63,
    "start_time": "2022-03-25T08:37:18.899Z"
   },
   {
    "duration": 72,
    "start_time": "2022-03-25T08:39:44.385Z"
   },
   {
    "duration": 30,
    "start_time": "2022-03-25T08:39:56.657Z"
   },
   {
    "duration": 58,
    "start_time": "2022-03-25T08:40:03.357Z"
   },
   {
    "duration": 81,
    "start_time": "2022-03-25T08:40:03.717Z"
   },
   {
    "duration": 58,
    "start_time": "2022-03-25T08:40:41.426Z"
   },
   {
    "duration": 77,
    "start_time": "2022-03-25T08:40:42.305Z"
   },
   {
    "duration": 55,
    "start_time": "2022-03-25T08:42:43.722Z"
   },
   {
    "duration": 65,
    "start_time": "2022-03-25T08:42:44.087Z"
   },
   {
    "duration": 11,
    "start_time": "2022-03-25T08:43:36.516Z"
   },
   {
    "duration": 38,
    "start_time": "2022-03-25T08:44:00.770Z"
   },
   {
    "duration": 40,
    "start_time": "2022-03-25T08:48:41.947Z"
   },
   {
    "duration": 10,
    "start_time": "2022-03-25T08:48:42.562Z"
   },
   {
    "duration": 57,
    "start_time": "2022-03-25T08:48:48.601Z"
   },
   {
    "duration": 139,
    "start_time": "2022-03-25T08:50:08.432Z"
   },
   {
    "duration": 41,
    "start_time": "2022-03-25T08:50:10.390Z"
   },
   {
    "duration": 49,
    "start_time": "2022-03-25T08:50:10.631Z"
   },
   {
    "duration": 85,
    "start_time": "2022-03-25T08:50:25.789Z"
   },
   {
    "duration": 49,
    "start_time": "2022-03-25T08:50:35.187Z"
   },
   {
    "duration": 48,
    "start_time": "2022-03-25T08:50:36.731Z"
   },
   {
    "duration": 2,
    "start_time": "2022-03-25T08:51:07.022Z"
   },
   {
    "duration": 11,
    "start_time": "2022-03-25T09:03:24.709Z"
   },
   {
    "duration": 221,
    "start_time": "2022-03-25T09:03:30.599Z"
   },
   {
    "duration": 299,
    "start_time": "2022-03-25T09:03:33.870Z"
   },
   {
    "duration": 28,
    "start_time": "2022-03-25T09:03:44.486Z"
   },
   {
    "duration": 47,
    "start_time": "2022-03-25T09:04:36.521Z"
   },
   {
    "duration": 58,
    "start_time": "2022-03-25T09:04:37.138Z"
   },
   {
    "duration": 24,
    "start_time": "2022-03-25T09:04:41.868Z"
   },
   {
    "duration": 11,
    "start_time": "2022-03-25T09:04:42.362Z"
   },
   {
    "duration": 174,
    "start_time": "2022-03-25T09:04:49.104Z"
   },
   {
    "duration": 13,
    "start_time": "2022-03-25T09:04:51.357Z"
   },
   {
    "duration": 20,
    "start_time": "2022-03-25T09:04:56.031Z"
   },
   {
    "duration": 7,
    "start_time": "2022-03-25T09:05:13.899Z"
   },
   {
    "duration": 34,
    "start_time": "2022-03-25T09:05:51.542Z"
   },
   {
    "duration": 33,
    "start_time": "2022-03-25T09:05:55.672Z"
   },
   {
    "duration": 35,
    "start_time": "2022-03-25T09:05:57.834Z"
   },
   {
    "duration": 34,
    "start_time": "2022-03-25T09:06:01.055Z"
   },
   {
    "duration": 31,
    "start_time": "2022-03-25T09:06:11.590Z"
   },
   {
    "duration": 141,
    "start_time": "2022-03-25T10:06:35.287Z"
   },
   {
    "duration": 3,
    "start_time": "2022-03-25T10:06:39.962Z"
   },
   {
    "duration": 3172,
    "start_time": "2022-03-25T10:08:26.338Z"
   },
   {
    "duration": 12,
    "start_time": "2022-03-25T10:09:11.243Z"
   },
   {
    "duration": 18,
    "start_time": "2022-03-25T10:10:32.743Z"
   },
   {
    "duration": 4,
    "start_time": "2022-03-25T10:10:49.125Z"
   },
   {
    "duration": 4,
    "start_time": "2022-03-25T10:11:04.597Z"
   },
   {
    "duration": 4,
    "start_time": "2022-03-25T10:11:23.313Z"
   },
   {
    "duration": 5,
    "start_time": "2022-03-25T10:11:30.846Z"
   },
   {
    "duration": 15,
    "start_time": "2022-03-25T10:11:51.935Z"
   },
   {
    "duration": 4,
    "start_time": "2022-03-25T10:12:16.554Z"
   },
   {
    "duration": 5,
    "start_time": "2022-03-25T10:12:19.180Z"
   },
   {
    "duration": 5,
    "start_time": "2022-03-25T10:12:40.330Z"
   },
   {
    "duration": 6,
    "start_time": "2022-03-25T10:13:02.937Z"
   },
   {
    "duration": 16,
    "start_time": "2022-03-25T10:13:11.470Z"
   },
   {
    "duration": 10,
    "start_time": "2022-03-25T10:13:28.510Z"
   },
   {
    "duration": 7,
    "start_time": "2022-03-25T10:13:44.029Z"
   },
   {
    "duration": 10,
    "start_time": "2022-03-25T10:18:47.743Z"
   },
   {
    "duration": 1265,
    "start_time": "2022-03-25T10:26:23.909Z"
   },
   {
    "duration": 18,
    "start_time": "2022-03-25T10:26:45.994Z"
   },
   {
    "duration": 1218,
    "start_time": "2022-03-25T10:27:06.803Z"
   },
   {
    "duration": 17,
    "start_time": "2022-03-25T10:27:08.023Z"
   },
   {
    "duration": 18,
    "start_time": "2022-03-25T10:28:04.211Z"
   },
   {
    "duration": 1308,
    "start_time": "2022-03-25T10:28:22.069Z"
   },
   {
    "duration": 17,
    "start_time": "2022-03-25T10:28:26.500Z"
   },
   {
    "duration": 1454,
    "start_time": "2022-03-25T10:28:29.060Z"
   },
   {
    "duration": 1215,
    "start_time": "2022-03-25T10:28:55.955Z"
   },
   {
    "duration": 417,
    "start_time": "2022-03-25T10:28:57.172Z"
   },
   {
    "duration": 41,
    "start_time": "2022-03-25T10:28:57.591Z"
   },
   {
    "duration": 32,
    "start_time": "2022-03-25T10:28:57.634Z"
   },
   {
    "duration": 50,
    "start_time": "2022-03-25T10:28:57.670Z"
   },
   {
    "duration": 18,
    "start_time": "2022-03-25T10:28:57.722Z"
   },
   {
    "duration": 20,
    "start_time": "2022-03-25T10:28:57.742Z"
   },
   {
    "duration": 118,
    "start_time": "2022-03-25T10:28:57.764Z"
   },
   {
    "duration": 63,
    "start_time": "2022-03-25T10:28:57.883Z"
   },
   {
    "duration": 156,
    "start_time": "2022-03-25T10:28:57.948Z"
   },
   {
    "duration": 65,
    "start_time": "2022-03-25T10:28:58.106Z"
   },
   {
    "duration": 99,
    "start_time": "2022-03-25T10:28:58.173Z"
   },
   {
    "duration": 32,
    "start_time": "2022-03-25T10:28:58.274Z"
   },
   {
    "duration": 54,
    "start_time": "2022-03-25T10:28:58.309Z"
   },
   {
    "duration": 51,
    "start_time": "2022-03-25T10:28:58.365Z"
   },
   {
    "duration": 47,
    "start_time": "2022-03-25T10:28:58.417Z"
   },
   {
    "duration": 39,
    "start_time": "2022-03-25T10:28:58.465Z"
   },
   {
    "duration": 16,
    "start_time": "2022-03-25T10:28:58.506Z"
   },
   {
    "duration": 8,
    "start_time": "2022-03-25T10:28:58.524Z"
   },
   {
    "duration": 8,
    "start_time": "2022-03-25T10:28:58.534Z"
   },
   {
    "duration": 7,
    "start_time": "2022-03-25T10:28:58.544Z"
   },
   {
    "duration": 6,
    "start_time": "2022-03-25T10:28:58.553Z"
   },
   {
    "duration": 9,
    "start_time": "2022-03-25T10:28:58.561Z"
   },
   {
    "duration": 31,
    "start_time": "2022-03-25T10:28:58.573Z"
   },
   {
    "duration": 10,
    "start_time": "2022-03-25T10:28:58.606Z"
   },
   {
    "duration": 1073,
    "start_time": "2022-03-25T10:28:58.618Z"
   },
   {
    "duration": 22,
    "start_time": "2022-03-25T10:28:59.693Z"
   },
   {
    "duration": 99,
    "start_time": "2022-03-25T10:37:32.982Z"
   },
   {
    "duration": 9,
    "start_time": "2022-03-25T10:37:35.348Z"
   },
   {
    "duration": 9,
    "start_time": "2022-03-25T10:37:37.181Z"
   },
   {
    "duration": 8,
    "start_time": "2022-03-25T11:04:18.345Z"
   },
   {
    "duration": 2503,
    "start_time": "2022-03-25T11:05:07.650Z"
   },
   {
    "duration": 2790,
    "start_time": "2022-03-25T11:05:48.770Z"
   },
   {
    "duration": 2396,
    "start_time": "2022-03-25T11:07:11.223Z"
   },
   {
    "duration": 1219,
    "start_time": "2022-03-25T11:09:24.455Z"
   },
   {
    "duration": 424,
    "start_time": "2022-03-25T11:09:25.677Z"
   },
   {
    "duration": 41,
    "start_time": "2022-03-25T11:09:26.104Z"
   },
   {
    "duration": 30,
    "start_time": "2022-03-25T11:09:26.148Z"
   },
   {
    "duration": 27,
    "start_time": "2022-03-25T11:09:26.200Z"
   },
   {
    "duration": 17,
    "start_time": "2022-03-25T11:09:26.229Z"
   },
   {
    "duration": 22,
    "start_time": "2022-03-25T11:09:26.247Z"
   },
   {
    "duration": 107,
    "start_time": "2022-03-25T11:09:26.271Z"
   },
   {
    "duration": 70,
    "start_time": "2022-03-25T11:09:26.380Z"
   },
   {
    "duration": 164,
    "start_time": "2022-03-25T11:09:26.453Z"
   },
   {
    "duration": 70,
    "start_time": "2022-03-25T11:09:26.619Z"
   },
   {
    "duration": 98,
    "start_time": "2022-03-25T11:09:26.691Z"
   },
   {
    "duration": 40,
    "start_time": "2022-03-25T11:09:26.790Z"
   },
   {
    "duration": 70,
    "start_time": "2022-03-25T11:09:26.832Z"
   },
   {
    "duration": 37,
    "start_time": "2022-03-25T11:09:26.904Z"
   },
   {
    "duration": 63,
    "start_time": "2022-03-25T11:09:26.943Z"
   },
   {
    "duration": 107,
    "start_time": "2022-03-25T11:09:27.008Z"
   },
   {
    "duration": 0,
    "start_time": "2022-03-25T11:09:27.117Z"
   },
   {
    "duration": 0,
    "start_time": "2022-03-25T11:09:27.118Z"
   },
   {
    "duration": 0,
    "start_time": "2022-03-25T11:09:27.119Z"
   },
   {
    "duration": 0,
    "start_time": "2022-03-25T11:09:27.120Z"
   },
   {
    "duration": 0,
    "start_time": "2022-03-25T11:09:27.121Z"
   },
   {
    "duration": 0,
    "start_time": "2022-03-25T11:09:27.122Z"
   },
   {
    "duration": 0,
    "start_time": "2022-03-25T11:09:27.123Z"
   },
   {
    "duration": 0,
    "start_time": "2022-03-25T11:09:27.124Z"
   },
   {
    "duration": 0,
    "start_time": "2022-03-25T11:09:27.125Z"
   },
   {
    "duration": 0,
    "start_time": "2022-03-25T11:09:27.127Z"
   },
   {
    "duration": 0,
    "start_time": "2022-03-25T11:09:27.127Z"
   },
   {
    "duration": 0,
    "start_time": "2022-03-25T11:09:27.128Z"
   },
   {
    "duration": 0,
    "start_time": "2022-03-25T11:09:27.129Z"
   },
   {
    "duration": 1278,
    "start_time": "2022-03-25T11:10:20.107Z"
   },
   {
    "duration": 428,
    "start_time": "2022-03-25T11:10:21.387Z"
   },
   {
    "duration": 39,
    "start_time": "2022-03-25T11:10:21.818Z"
   },
   {
    "duration": 50,
    "start_time": "2022-03-25T11:10:21.859Z"
   },
   {
    "duration": 26,
    "start_time": "2022-03-25T11:10:21.911Z"
   },
   {
    "duration": 33,
    "start_time": "2022-03-25T11:10:21.939Z"
   },
   {
    "duration": 32,
    "start_time": "2022-03-25T11:10:21.974Z"
   },
   {
    "duration": 100,
    "start_time": "2022-03-25T11:10:22.008Z"
   },
   {
    "duration": 56,
    "start_time": "2022-03-25T11:10:22.110Z"
   },
   {
    "duration": 177,
    "start_time": "2022-03-25T11:10:22.168Z"
   },
   {
    "duration": 80,
    "start_time": "2022-03-25T11:10:22.347Z"
   },
   {
    "duration": 101,
    "start_time": "2022-03-25T11:10:22.429Z"
   },
   {
    "duration": 30,
    "start_time": "2022-03-25T11:10:22.532Z"
   },
   {
    "duration": 72,
    "start_time": "2022-03-25T11:10:22.565Z"
   },
   {
    "duration": 41,
    "start_time": "2022-03-25T11:10:22.639Z"
   },
   {
    "duration": 72,
    "start_time": "2022-03-25T11:10:22.682Z"
   },
   {
    "duration": 22,
    "start_time": "2022-03-25T11:10:22.755Z"
   },
   {
    "duration": 23,
    "start_time": "2022-03-25T11:10:22.779Z"
   },
   {
    "duration": 30,
    "start_time": "2022-03-25T11:10:22.804Z"
   },
   {
    "duration": 38,
    "start_time": "2022-03-25T11:10:22.836Z"
   },
   {
    "duration": 11,
    "start_time": "2022-03-25T11:10:22.876Z"
   },
   {
    "duration": 12,
    "start_time": "2022-03-25T11:10:22.889Z"
   },
   {
    "duration": 13,
    "start_time": "2022-03-25T11:10:22.903Z"
   },
   {
    "duration": 19,
    "start_time": "2022-03-25T11:10:22.918Z"
   },
   {
    "duration": 31,
    "start_time": "2022-03-25T11:10:22.939Z"
   },
   {
    "duration": 17,
    "start_time": "2022-03-25T11:10:22.972Z"
   },
   {
    "duration": 1679,
    "start_time": "2022-03-25T11:10:22.991Z"
   },
   {
    "duration": 29,
    "start_time": "2022-03-25T11:10:24.673Z"
   },
   {
    "duration": 11,
    "start_time": "2022-03-25T11:10:24.705Z"
   },
   {
    "duration": 2333,
    "start_time": "2022-03-25T11:10:24.718Z"
   },
   {
    "duration": 9,
    "start_time": "2022-03-25T11:10:56.659Z"
   },
   {
    "duration": 1205,
    "start_time": "2022-03-25T11:12:46.780Z"
   },
   {
    "duration": 419,
    "start_time": "2022-03-25T11:12:47.988Z"
   },
   {
    "duration": 41,
    "start_time": "2022-03-25T11:12:48.408Z"
   },
   {
    "duration": 31,
    "start_time": "2022-03-25T11:12:48.451Z"
   },
   {
    "duration": 26,
    "start_time": "2022-03-25T11:12:48.501Z"
   },
   {
    "duration": 18,
    "start_time": "2022-03-25T11:12:48.529Z"
   },
   {
    "duration": 30,
    "start_time": "2022-03-25T11:12:48.549Z"
   },
   {
    "duration": 86,
    "start_time": "2022-03-25T11:12:48.602Z"
   },
   {
    "duration": 58,
    "start_time": "2022-03-25T11:12:48.702Z"
   },
   {
    "duration": 167,
    "start_time": "2022-03-25T11:12:48.762Z"
   },
   {
    "duration": 79,
    "start_time": "2022-03-25T11:12:48.932Z"
   },
   {
    "duration": 91,
    "start_time": "2022-03-25T11:12:49.013Z"
   },
   {
    "duration": 33,
    "start_time": "2022-03-25T11:12:49.106Z"
   },
   {
    "duration": 79,
    "start_time": "2022-03-25T11:12:49.144Z"
   },
   {
    "duration": 39,
    "start_time": "2022-03-25T11:12:49.225Z"
   },
   {
    "duration": 74,
    "start_time": "2022-03-25T11:12:49.266Z"
   },
   {
    "duration": 3,
    "start_time": "2022-03-25T11:12:49.343Z"
   },
   {
    "duration": 31,
    "start_time": "2022-03-25T11:12:49.348Z"
   },
   {
    "duration": 24,
    "start_time": "2022-03-25T11:12:49.382Z"
   },
   {
    "duration": 11,
    "start_time": "2022-03-25T11:12:49.409Z"
   },
   {
    "duration": 7,
    "start_time": "2022-03-25T11:12:49.422Z"
   },
   {
    "duration": 10,
    "start_time": "2022-03-25T11:12:49.431Z"
   },
   {
    "duration": 16,
    "start_time": "2022-03-25T11:12:49.443Z"
   },
   {
    "duration": 15,
    "start_time": "2022-03-25T11:12:49.461Z"
   },
   {
    "duration": 11,
    "start_time": "2022-03-25T11:12:49.478Z"
   },
   {
    "duration": 10,
    "start_time": "2022-03-25T11:12:49.502Z"
   },
   {
    "duration": 1129,
    "start_time": "2022-03-25T11:12:49.514Z"
   },
   {
    "duration": 17,
    "start_time": "2022-03-25T11:12:50.645Z"
   },
   {
    "duration": 16,
    "start_time": "2022-03-25T11:12:50.664Z"
   },
   {
    "duration": 2450,
    "start_time": "2022-03-25T11:12:50.682Z"
   },
   {
    "duration": 7,
    "start_time": "2022-03-25T11:13:44.956Z"
   },
   {
    "duration": 19,
    "start_time": "2022-03-25T11:16:07.801Z"
   },
   {
    "duration": 2599,
    "start_time": "2022-03-25T11:16:14.858Z"
   },
   {
    "duration": 2512,
    "start_time": "2022-03-25T11:16:50.594Z"
   },
   {
    "duration": 7,
    "start_time": "2022-03-25T11:17:03.799Z"
   },
   {
    "duration": 2476,
    "start_time": "2022-03-25T11:17:04.799Z"
   },
   {
    "duration": 21,
    "start_time": "2022-03-25T11:17:34.142Z"
   },
   {
    "duration": 8,
    "start_time": "2022-03-25T11:17:54.637Z"
   },
   {
    "duration": 18,
    "start_time": "2022-03-25T11:17:56.117Z"
   },
   {
    "duration": 8,
    "start_time": "2022-03-25T11:18:42.232Z"
   },
   {
    "duration": 17,
    "start_time": "2022-03-25T11:18:42.626Z"
   },
   {
    "duration": 7,
    "start_time": "2022-03-25T11:18:57.958Z"
   },
   {
    "duration": 17,
    "start_time": "2022-03-25T11:18:58.544Z"
   },
   {
    "duration": 7,
    "start_time": "2022-03-25T11:19:46.214Z"
   },
   {
    "duration": 19,
    "start_time": "2022-03-25T11:19:46.652Z"
   },
   {
    "duration": 7,
    "start_time": "2022-03-25T11:20:05.459Z"
   },
   {
    "duration": 17,
    "start_time": "2022-03-25T11:20:05.773Z"
   },
   {
    "duration": 6,
    "start_time": "2022-03-25T11:22:06.703Z"
   },
   {
    "duration": 777,
    "start_time": "2022-03-25T11:22:07.257Z"
   },
   {
    "duration": 159,
    "start_time": "2022-03-25T11:23:04.000Z"
   },
   {
    "duration": 9,
    "start_time": "2022-03-25T11:23:51.955Z"
   },
   {
    "duration": 763,
    "start_time": "2022-03-25T11:23:52.366Z"
   },
   {
    "duration": 7,
    "start_time": "2022-03-25T11:26:44.578Z"
   },
   {
    "duration": 918,
    "start_time": "2022-03-25T11:26:51.266Z"
   },
   {
    "duration": 21,
    "start_time": "2022-03-25T11:27:19.598Z"
   },
   {
    "duration": 7,
    "start_time": "2022-03-25T11:28:26.030Z"
   },
   {
    "duration": 2414,
    "start_time": "2022-03-25T11:28:28.461Z"
   },
   {
    "duration": 8,
    "start_time": "2022-03-25T11:29:48.563Z"
   },
   {
    "duration": 2398,
    "start_time": "2022-03-25T11:29:50.905Z"
   },
   {
    "duration": 9,
    "start_time": "2022-03-25T11:31:59.935Z"
   },
   {
    "duration": 7,
    "start_time": "2022-03-25T11:35:10.823Z"
   },
   {
    "duration": 2485,
    "start_time": "2022-03-25T11:35:13.770Z"
   },
   {
    "duration": 20461,
    "start_time": "2022-03-25T11:35:30.425Z"
   },
   {
    "duration": 8,
    "start_time": "2022-03-25T11:37:58.998Z"
   },
   {
    "duration": 9,
    "start_time": "2022-03-25T11:37:59.049Z"
   },
   {
    "duration": 770,
    "start_time": "2022-03-25T11:38:01.964Z"
   },
   {
    "duration": 9,
    "start_time": "2022-03-25T11:40:02.815Z"
   },
   {
    "duration": 177,
    "start_time": "2022-03-25T11:40:33.233Z"
   },
   {
    "duration": 7,
    "start_time": "2022-03-25T11:45:04.146Z"
   },
   {
    "duration": 230,
    "start_time": "2022-03-25T11:45:04.679Z"
   },
   {
    "duration": 15,
    "start_time": "2022-03-25T11:45:08.348Z"
   },
   {
    "duration": 137,
    "start_time": "2022-03-25T11:50:39.102Z"
   },
   {
    "duration": 14,
    "start_time": "2022-03-25T11:53:25.331Z"
   },
   {
    "duration": 1254,
    "start_time": "2022-03-25T12:00:21.005Z"
   },
   {
    "duration": 444,
    "start_time": "2022-03-25T12:00:22.261Z"
   },
   {
    "duration": 41,
    "start_time": "2022-03-25T12:00:22.707Z"
   },
   {
    "duration": 52,
    "start_time": "2022-03-25T12:00:22.749Z"
   },
   {
    "duration": 27,
    "start_time": "2022-03-25T12:00:22.804Z"
   },
   {
    "duration": 18,
    "start_time": "2022-03-25T12:00:22.833Z"
   },
   {
    "duration": 50,
    "start_time": "2022-03-25T12:00:22.852Z"
   },
   {
    "duration": 81,
    "start_time": "2022-03-25T12:00:46.565Z"
   },
   {
    "duration": 63,
    "start_time": "2022-03-25T12:00:46.649Z"
   },
   {
    "duration": 158,
    "start_time": "2022-03-25T12:00:46.714Z"
   },
   {
    "duration": 72,
    "start_time": "2022-03-25T12:00:46.874Z"
   },
   {
    "duration": 97,
    "start_time": "2022-03-25T12:00:46.949Z"
   },
   {
    "duration": 32,
    "start_time": "2022-03-25T12:00:47.048Z"
   },
   {
    "duration": 68,
    "start_time": "2022-03-25T12:00:47.082Z"
   },
   {
    "duration": 52,
    "start_time": "2022-03-25T12:00:47.152Z"
   },
   {
    "duration": 51,
    "start_time": "2022-03-25T12:00:47.206Z"
   },
   {
    "duration": 24,
    "start_time": "2022-03-25T12:00:47.258Z"
   },
   {
    "duration": 43,
    "start_time": "2022-03-25T12:00:47.302Z"
   },
   {
    "duration": 48,
    "start_time": "2022-03-25T12:00:47.347Z"
   },
   {
    "duration": 29,
    "start_time": "2022-03-25T12:00:47.396Z"
   },
   {
    "duration": 14,
    "start_time": "2022-03-25T12:00:47.428Z"
   },
   {
    "duration": 29,
    "start_time": "2022-03-25T12:00:47.444Z"
   },
   {
    "duration": 23,
    "start_time": "2022-03-25T12:00:47.475Z"
   },
   {
    "duration": 24,
    "start_time": "2022-03-25T12:00:47.500Z"
   },
   {
    "duration": 1065,
    "start_time": "2022-03-25T12:00:47.526Z"
   },
   {
    "duration": 22,
    "start_time": "2022-03-25T12:00:48.593Z"
   },
   {
    "duration": 25,
    "start_time": "2022-03-25T12:00:48.617Z"
   },
   {
    "duration": 12,
    "start_time": "2022-03-25T12:00:48.644Z"
   },
   {
    "duration": 234,
    "start_time": "2022-03-25T12:00:48.658Z"
   },
   {
    "duration": 13,
    "start_time": "2022-03-25T12:00:48.894Z"
   },
   {
    "duration": 155,
    "start_time": "2022-03-25T12:00:48.908Z"
   },
   {
    "duration": 1213,
    "start_time": "2022-03-25T12:01:13.057Z"
   },
   {
    "duration": 421,
    "start_time": "2022-03-25T12:01:14.273Z"
   },
   {
    "duration": 39,
    "start_time": "2022-03-25T12:01:14.696Z"
   },
   {
    "duration": 38,
    "start_time": "2022-03-25T12:01:14.737Z"
   },
   {
    "duration": 37,
    "start_time": "2022-03-25T12:01:14.777Z"
   },
   {
    "duration": 18,
    "start_time": "2022-03-25T12:01:14.815Z"
   },
   {
    "duration": 62,
    "start_time": "2022-03-25T12:01:14.835Z"
   },
   {
    "duration": 87,
    "start_time": "2022-03-25T12:01:14.899Z"
   },
   {
    "duration": 67,
    "start_time": "2022-03-25T12:01:14.988Z"
   },
   {
    "duration": 169,
    "start_time": "2022-03-25T12:01:15.057Z"
   },
   {
    "duration": 73,
    "start_time": "2022-03-25T12:01:15.228Z"
   },
   {
    "duration": 88,
    "start_time": "2022-03-25T12:01:15.303Z"
   },
   {
    "duration": 37,
    "start_time": "2022-03-25T12:01:15.393Z"
   },
   {
    "duration": 74,
    "start_time": "2022-03-25T12:01:15.433Z"
   },
   {
    "duration": 36,
    "start_time": "2022-03-25T12:01:15.509Z"
   },
   {
    "duration": 69,
    "start_time": "2022-03-25T12:01:15.547Z"
   },
   {
    "duration": 24,
    "start_time": "2022-03-25T12:01:15.618Z"
   },
   {
    "duration": 35,
    "start_time": "2022-03-25T12:01:15.644Z"
   },
   {
    "duration": 26,
    "start_time": "2022-03-25T12:01:15.682Z"
   },
   {
    "duration": 25,
    "start_time": "2022-03-25T12:01:15.711Z"
   },
   {
    "duration": 15,
    "start_time": "2022-03-25T12:01:15.738Z"
   },
   {
    "duration": 13,
    "start_time": "2022-03-25T12:01:15.755Z"
   },
   {
    "duration": 13,
    "start_time": "2022-03-25T12:01:15.770Z"
   },
   {
    "duration": 25,
    "start_time": "2022-03-25T12:01:15.785Z"
   },
   {
    "duration": 1107,
    "start_time": "2022-03-25T12:01:15.811Z"
   },
   {
    "duration": 15,
    "start_time": "2022-03-25T12:01:16.920Z"
   },
   {
    "duration": 14,
    "start_time": "2022-03-25T12:01:16.937Z"
   },
   {
    "duration": 32,
    "start_time": "2022-03-25T12:01:16.953Z"
   },
   {
    "duration": 263,
    "start_time": "2022-03-25T12:01:16.987Z"
   },
   {
    "duration": 13,
    "start_time": "2022-03-25T12:01:17.252Z"
   },
   {
    "duration": 153,
    "start_time": "2022-03-25T12:01:17.267Z"
   },
   {
    "duration": 19,
    "start_time": "2022-03-25T12:31:51.995Z"
   },
   {
    "duration": 14,
    "start_time": "2022-03-25T12:31:55.563Z"
   },
   {
    "duration": 60,
    "start_time": "2022-03-26T09:59:16.928Z"
   },
   {
    "duration": 1498,
    "start_time": "2022-03-26T09:59:28.324Z"
   },
   {
    "duration": 497,
    "start_time": "2022-03-26T09:59:29.824Z"
   },
   {
    "duration": 44,
    "start_time": "2022-03-26T09:59:30.326Z"
   },
   {
    "duration": 38,
    "start_time": "2022-03-26T09:59:30.372Z"
   },
   {
    "duration": 38,
    "start_time": "2022-03-26T09:59:30.412Z"
   },
   {
    "duration": 24,
    "start_time": "2022-03-26T09:59:30.452Z"
   },
   {
    "duration": 38,
    "start_time": "2022-03-26T09:59:30.478Z"
   },
   {
    "duration": 100,
    "start_time": "2022-03-26T09:59:30.517Z"
   },
   {
    "duration": 58,
    "start_time": "2022-03-26T09:59:30.621Z"
   },
   {
    "duration": 174,
    "start_time": "2022-03-26T09:59:30.682Z"
   },
   {
    "duration": 74,
    "start_time": "2022-03-26T09:59:30.858Z"
   },
   {
    "duration": 99,
    "start_time": "2022-03-26T09:59:30.934Z"
   },
   {
    "duration": 34,
    "start_time": "2022-03-26T09:59:31.034Z"
   },
   {
    "duration": 79,
    "start_time": "2022-03-26T09:59:31.070Z"
   },
   {
    "duration": 38,
    "start_time": "2022-03-26T09:59:31.152Z"
   },
   {
    "duration": 79,
    "start_time": "2022-03-26T09:59:31.192Z"
   },
   {
    "duration": 22,
    "start_time": "2022-03-26T09:59:31.273Z"
   },
   {
    "duration": 15,
    "start_time": "2022-03-26T09:59:31.296Z"
   },
   {
    "duration": 24,
    "start_time": "2022-03-26T09:59:31.313Z"
   },
   {
    "duration": 19,
    "start_time": "2022-03-26T09:59:31.339Z"
   },
   {
    "duration": 28,
    "start_time": "2022-03-26T09:59:31.360Z"
   },
   {
    "duration": 20,
    "start_time": "2022-03-26T09:59:31.390Z"
   },
   {
    "duration": 37,
    "start_time": "2022-03-26T09:59:31.411Z"
   },
   {
    "duration": 41,
    "start_time": "2022-03-26T09:59:31.451Z"
   },
   {
    "duration": 1223,
    "start_time": "2022-03-26T09:59:31.494Z"
   },
   {
    "duration": 16,
    "start_time": "2022-03-26T09:59:32.718Z"
   },
   {
    "duration": 13,
    "start_time": "2022-03-26T09:59:32.739Z"
   },
   {
    "duration": 19,
    "start_time": "2022-03-26T09:59:32.754Z"
   },
   {
    "duration": 276,
    "start_time": "2022-03-26T09:59:32.775Z"
   },
   {
    "duration": 15,
    "start_time": "2022-03-26T09:59:33.053Z"
   },
   {
    "duration": 156,
    "start_time": "2022-03-26T09:59:33.070Z"
   },
   {
    "duration": 24,
    "start_time": "2022-03-26T09:59:33.231Z"
   },
   {
    "duration": 18,
    "start_time": "2022-03-26T09:59:33.257Z"
   },
   {
    "duration": 158,
    "start_time": "2022-03-26T10:08:54.673Z"
   },
   {
    "duration": 103,
    "start_time": "2022-03-26T10:08:59.923Z"
   },
   {
    "duration": 60,
    "start_time": "2022-03-26T10:09:52.098Z"
   },
   {
    "duration": 14,
    "start_time": "2022-03-26T10:09:59.008Z"
   },
   {
    "duration": 15,
    "start_time": "2022-03-26T10:12:17.309Z"
   },
   {
    "duration": 14,
    "start_time": "2022-03-26T10:12:25.728Z"
   },
   {
    "duration": 15,
    "start_time": "2022-03-26T10:12:41.526Z"
   },
   {
    "duration": 12,
    "start_time": "2022-03-26T10:13:58.974Z"
   },
   {
    "duration": 123,
    "start_time": "2022-03-26T10:14:18.466Z"
   },
   {
    "duration": 929,
    "start_time": "2022-03-26T10:14:26.470Z"
   },
   {
    "duration": 10,
    "start_time": "2022-03-26T10:15:37.893Z"
   },
   {
    "duration": 184,
    "start_time": "2022-03-26T10:16:00.578Z"
   },
   {
    "duration": 998,
    "start_time": "2022-03-26T10:16:21.288Z"
   },
   {
    "duration": 13,
    "start_time": "2022-03-26T10:20:50.459Z"
   },
   {
    "duration": 13,
    "start_time": "2022-03-26T10:21:04.678Z"
   },
   {
    "duration": 1141,
    "start_time": "2022-03-26T10:22:38.798Z"
   },
   {
    "duration": 205,
    "start_time": "2022-03-26T10:25:48.662Z"
   },
   {
    "duration": 160,
    "start_time": "2022-03-26T10:25:56.525Z"
   },
   {
    "duration": 1250,
    "start_time": "2022-03-26T10:26:00.514Z"
   },
   {
    "duration": 1264,
    "start_time": "2022-03-26T10:27:27.443Z"
   },
   {
    "duration": 799,
    "start_time": "2022-03-26T10:28:11.992Z"
   },
   {
    "duration": 886,
    "start_time": "2022-03-26T10:28:27.690Z"
   },
   {
    "duration": 1541,
    "start_time": "2022-03-26T10:29:23.821Z"
   },
   {
    "duration": 1469,
    "start_time": "2022-03-26T10:29:59.393Z"
   },
   {
    "duration": 1408,
    "start_time": "2022-03-26T10:30:15.534Z"
   },
   {
    "duration": 1305,
    "start_time": "2022-03-26T10:30:20.845Z"
   },
   {
    "duration": 1437,
    "start_time": "2022-03-26T10:30:55.829Z"
   },
   {
    "duration": 1031,
    "start_time": "2022-03-26T10:31:20.667Z"
   },
   {
    "duration": 1394,
    "start_time": "2022-03-26T10:31:45.719Z"
   },
   {
    "duration": 1405,
    "start_time": "2022-03-26T10:35:00.759Z"
   },
   {
    "duration": 1355,
    "start_time": "2022-03-26T10:35:09.080Z"
   },
   {
    "duration": 1383,
    "start_time": "2022-03-26T10:35:47.530Z"
   },
   {
    "duration": 1387,
    "start_time": "2022-03-26T10:36:29.538Z"
   },
   {
    "duration": 1234,
    "start_time": "2022-03-26T11:07:46.053Z"
   },
   {
    "duration": 396,
    "start_time": "2022-03-26T11:07:47.289Z"
   },
   {
    "duration": 35,
    "start_time": "2022-03-26T11:07:47.687Z"
   },
   {
    "duration": 28,
    "start_time": "2022-03-26T11:07:47.724Z"
   },
   {
    "duration": 47,
    "start_time": "2022-03-26T11:07:47.755Z"
   },
   {
    "duration": 16,
    "start_time": "2022-03-26T11:07:47.804Z"
   },
   {
    "duration": 18,
    "start_time": "2022-03-26T11:07:47.822Z"
   },
   {
    "duration": 99,
    "start_time": "2022-03-26T11:07:47.842Z"
   },
   {
    "duration": 48,
    "start_time": "2022-03-26T11:07:47.943Z"
   },
   {
    "duration": 145,
    "start_time": "2022-03-26T11:07:47.993Z"
   },
   {
    "duration": 61,
    "start_time": "2022-03-26T11:07:48.140Z"
   },
   {
    "duration": 77,
    "start_time": "2022-03-26T11:07:48.203Z"
   },
   {
    "duration": 38,
    "start_time": "2022-03-26T11:07:48.282Z"
   },
   {
    "duration": 48,
    "start_time": "2022-03-26T11:07:48.324Z"
   },
   {
    "duration": 53,
    "start_time": "2022-03-26T11:07:48.374Z"
   },
   {
    "duration": 44,
    "start_time": "2022-03-26T11:07:48.428Z"
   },
   {
    "duration": 38,
    "start_time": "2022-03-26T11:07:48.474Z"
   },
   {
    "duration": 6,
    "start_time": "2022-03-26T11:07:48.513Z"
   },
   {
    "duration": 4,
    "start_time": "2022-03-26T11:07:48.521Z"
   },
   {
    "duration": 6,
    "start_time": "2022-03-26T11:07:48.527Z"
   },
   {
    "duration": 7,
    "start_time": "2022-03-26T11:07:48.535Z"
   },
   {
    "duration": 4,
    "start_time": "2022-03-26T11:07:48.544Z"
   },
   {
    "duration": 7,
    "start_time": "2022-03-26T11:07:48.549Z"
   },
   {
    "duration": 13,
    "start_time": "2022-03-26T11:07:48.558Z"
   },
   {
    "duration": 993,
    "start_time": "2022-03-26T11:07:48.572Z"
   },
   {
    "duration": 15,
    "start_time": "2022-03-26T11:07:49.566Z"
   },
   {
    "duration": 31,
    "start_time": "2022-03-26T11:07:49.582Z"
   },
   {
    "duration": 12,
    "start_time": "2022-03-26T11:07:49.615Z"
   },
   {
    "duration": 230,
    "start_time": "2022-03-26T11:07:49.629Z"
   },
   {
    "duration": 12,
    "start_time": "2022-03-26T11:07:49.860Z"
   },
   {
    "duration": 118,
    "start_time": "2022-03-26T11:07:49.873Z"
   },
   {
    "duration": 19,
    "start_time": "2022-03-26T11:07:49.993Z"
   },
   {
    "duration": 14,
    "start_time": "2022-03-26T11:07:50.014Z"
   },
   {
    "duration": 1197,
    "start_time": "2022-03-26T11:07:50.030Z"
   },
   {
    "duration": 7785,
    "start_time": "2022-03-26T11:08:13.909Z"
   },
   {
    "duration": 98,
    "start_time": "2022-03-26T11:10:41.443Z"
   },
   {
    "duration": 33,
    "start_time": "2022-03-26T11:11:04.673Z"
   },
   {
    "duration": 156,
    "start_time": "2022-03-26T11:11:11.369Z"
   },
   {
    "duration": 570,
    "start_time": "2022-03-26T11:11:31.507Z"
   },
   {
    "duration": 264,
    "start_time": "2022-03-26T11:11:40.506Z"
   },
   {
    "duration": 300,
    "start_time": "2022-03-26T11:11:46.603Z"
   },
   {
    "duration": 173,
    "start_time": "2022-03-26T11:13:56.768Z"
   },
   {
    "duration": 156,
    "start_time": "2022-03-26T11:16:55.676Z"
   },
   {
    "duration": 16,
    "start_time": "2022-03-26T11:17:17.674Z"
   },
   {
    "duration": 157,
    "start_time": "2022-03-26T11:17:25.506Z"
   },
   {
    "duration": 183,
    "start_time": "2022-03-26T11:17:42.145Z"
   },
   {
    "duration": 222,
    "start_time": "2022-03-26T11:17:54.425Z"
   },
   {
    "duration": 99,
    "start_time": "2022-03-26T11:17:57.182Z"
   },
   {
    "duration": 173,
    "start_time": "2022-03-26T11:18:04.856Z"
   },
   {
    "duration": 11,
    "start_time": "2022-03-26T11:18:28.300Z"
   },
   {
    "duration": 185,
    "start_time": "2022-03-26T11:18:55.277Z"
   },
   {
    "duration": 208,
    "start_time": "2022-03-26T11:20:16.416Z"
   },
   {
    "duration": 196,
    "start_time": "2022-03-26T11:20:29.386Z"
   },
   {
    "duration": 582,
    "start_time": "2022-03-26T11:21:29.794Z"
   },
   {
    "duration": 970,
    "start_time": "2022-03-26T11:21:57.891Z"
   },
   {
    "duration": 504,
    "start_time": "2022-03-26T11:22:02.255Z"
   },
   {
    "duration": 539,
    "start_time": "2022-03-26T11:22:06.429Z"
   },
   {
    "duration": 497,
    "start_time": "2022-03-26T11:22:10.826Z"
   },
   {
    "duration": 532,
    "start_time": "2022-03-26T11:22:20.523Z"
   },
   {
    "duration": 245,
    "start_time": "2022-03-26T11:22:27.667Z"
   },
   {
    "duration": 38,
    "start_time": "2022-03-26T11:23:07.384Z"
   },
   {
    "duration": 223,
    "start_time": "2022-03-26T11:23:23.522Z"
   },
   {
    "duration": 168,
    "start_time": "2022-03-26T11:23:38.935Z"
   },
   {
    "duration": 161,
    "start_time": "2022-03-26T11:23:46.717Z"
   },
   {
    "duration": 215,
    "start_time": "2022-03-26T11:23:53.555Z"
   },
   {
    "duration": 194,
    "start_time": "2022-03-26T11:24:01.009Z"
   },
   {
    "duration": 318,
    "start_time": "2022-03-26T11:24:09.140Z"
   },
   {
    "duration": 156,
    "start_time": "2022-03-26T11:24:23.073Z"
   },
   {
    "duration": 220,
    "start_time": "2022-03-26T11:24:28.094Z"
   },
   {
    "duration": 243,
    "start_time": "2022-03-26T11:24:43.404Z"
   },
   {
    "duration": 277,
    "start_time": "2022-03-26T11:24:54.953Z"
   },
   {
    "duration": 257,
    "start_time": "2022-03-26T11:25:07.279Z"
   },
   {
    "duration": 250,
    "start_time": "2022-03-26T11:25:09.873Z"
   },
   {
    "duration": 283,
    "start_time": "2022-03-26T11:25:12.353Z"
   },
   {
    "duration": 341,
    "start_time": "2022-03-26T12:30:08.314Z"
   },
   {
    "duration": 144,
    "start_time": "2022-03-26T12:30:11.994Z"
   },
   {
    "duration": 142,
    "start_time": "2022-03-26T12:30:21.408Z"
   },
   {
    "duration": 340,
    "start_time": "2022-03-26T12:30:26.248Z"
   },
   {
    "duration": 197,
    "start_time": "2022-03-26T12:30:31.837Z"
   },
   {
    "duration": 8,
    "start_time": "2022-03-26T12:34:43.424Z"
   },
   {
    "duration": 7,
    "start_time": "2022-03-26T12:59:13.636Z"
   },
   {
    "duration": 9,
    "start_time": "2022-03-26T12:59:25.320Z"
   },
   {
    "duration": 10,
    "start_time": "2022-03-26T12:59:52.062Z"
   },
   {
    "duration": 11,
    "start_time": "2022-03-26T12:59:59.783Z"
   },
   {
    "duration": 8,
    "start_time": "2022-03-26T13:00:22.291Z"
   },
   {
    "duration": 11,
    "start_time": "2022-03-26T13:01:16.686Z"
   },
   {
    "duration": 4,
    "start_time": "2022-03-26T13:01:27.474Z"
   },
   {
    "duration": 11,
    "start_time": "2022-03-26T13:01:35.763Z"
   },
   {
    "duration": 11,
    "start_time": "2022-03-26T13:01:39.108Z"
   },
   {
    "duration": 12,
    "start_time": "2022-03-26T13:01:44.240Z"
   },
   {
    "duration": 13,
    "start_time": "2022-03-26T13:08:04.032Z"
   },
   {
    "duration": 10,
    "start_time": "2022-03-26T13:08:07.761Z"
   },
   {
    "duration": 12,
    "start_time": "2022-03-26T13:08:25.077Z"
   },
   {
    "duration": 12,
    "start_time": "2022-03-26T13:10:46.132Z"
   },
   {
    "duration": 10,
    "start_time": "2022-03-26T13:12:45.936Z"
   },
   {
    "duration": 11,
    "start_time": "2022-03-26T13:12:53.039Z"
   },
   {
    "duration": 12,
    "start_time": "2022-03-26T13:12:59.589Z"
   },
   {
    "duration": 13,
    "start_time": "2022-03-26T13:13:03.484Z"
   },
   {
    "duration": 104,
    "start_time": "2022-03-26T13:13:39.236Z"
   },
   {
    "duration": 117,
    "start_time": "2022-03-26T13:13:46.002Z"
   },
   {
    "duration": 302,
    "start_time": "2022-03-26T13:14:09.972Z"
   },
   {
    "duration": 1124,
    "start_time": "2022-03-26T15:33:49.854Z"
   },
   {
    "duration": 419,
    "start_time": "2022-03-26T15:33:50.980Z"
   },
   {
    "duration": 34,
    "start_time": "2022-03-26T15:33:51.401Z"
   },
   {
    "duration": 26,
    "start_time": "2022-03-26T15:33:51.437Z"
   },
   {
    "duration": 38,
    "start_time": "2022-03-26T15:33:51.464Z"
   },
   {
    "duration": 13,
    "start_time": "2022-03-26T15:33:51.503Z"
   },
   {
    "duration": 15,
    "start_time": "2022-03-26T15:33:51.518Z"
   },
   {
    "duration": 94,
    "start_time": "2022-03-26T15:33:51.534Z"
   },
   {
    "duration": 46,
    "start_time": "2022-03-26T15:33:51.630Z"
   },
   {
    "duration": 145,
    "start_time": "2022-03-26T15:33:51.678Z"
   },
   {
    "duration": 55,
    "start_time": "2022-03-26T15:33:51.825Z"
   },
   {
    "duration": 83,
    "start_time": "2022-03-26T15:33:51.882Z"
   },
   {
    "duration": 24,
    "start_time": "2022-03-26T15:33:51.967Z"
   },
   {
    "duration": 48,
    "start_time": "2022-03-26T15:33:52.001Z"
   },
   {
    "duration": 30,
    "start_time": "2022-03-26T15:33:52.051Z"
   },
   {
    "duration": 59,
    "start_time": "2022-03-26T15:33:52.082Z"
   },
   {
    "duration": 20,
    "start_time": "2022-03-26T15:33:52.143Z"
   },
   {
    "duration": 5,
    "start_time": "2022-03-26T15:33:52.164Z"
   },
   {
    "duration": 4,
    "start_time": "2022-03-26T15:33:52.171Z"
   },
   {
    "duration": 24,
    "start_time": "2022-03-26T15:33:52.177Z"
   },
   {
    "duration": 3,
    "start_time": "2022-03-26T15:33:52.203Z"
   },
   {
    "duration": 4,
    "start_time": "2022-03-26T15:33:52.208Z"
   },
   {
    "duration": 7,
    "start_time": "2022-03-26T15:33:52.214Z"
   },
   {
    "duration": 12,
    "start_time": "2022-03-26T15:33:52.222Z"
   },
   {
    "duration": 1016,
    "start_time": "2022-03-26T15:33:52.235Z"
   },
   {
    "duration": 12,
    "start_time": "2022-03-26T15:33:53.253Z"
   },
   {
    "duration": 6,
    "start_time": "2022-03-26T15:33:53.267Z"
   },
   {
    "duration": 25,
    "start_time": "2022-03-26T15:33:53.276Z"
   },
   {
    "duration": 217,
    "start_time": "2022-03-26T15:33:53.303Z"
   },
   {
    "duration": 10,
    "start_time": "2022-03-26T15:33:53.522Z"
   },
   {
    "duration": 115,
    "start_time": "2022-03-26T15:33:53.534Z"
   },
   {
    "duration": 17,
    "start_time": "2022-03-26T15:33:53.651Z"
   },
   {
    "duration": 12,
    "start_time": "2022-03-26T15:33:53.670Z"
   },
   {
    "duration": 1329,
    "start_time": "2022-03-26T15:33:53.700Z"
   },
   {
    "duration": 194,
    "start_time": "2022-03-26T15:33:55.031Z"
   },
   {
    "duration": 275,
    "start_time": "2022-03-26T15:33:55.227Z"
   },
   {
    "duration": 322,
    "start_time": "2022-03-26T15:33:55.504Z"
   },
   {
    "duration": 11,
    "start_time": "2022-03-26T15:33:55.828Z"
   },
   {
    "duration": 4,
    "start_time": "2022-03-26T15:33:55.841Z"
   },
   {
    "duration": 16,
    "start_time": "2022-03-26T15:33:55.847Z"
   },
   {
    "duration": 174,
    "start_time": "2022-03-26T15:33:55.865Z"
   },
   {
    "duration": 1180,
    "start_time": "2022-03-26T15:44:59.624Z"
   },
   {
    "duration": 424,
    "start_time": "2022-03-26T15:45:00.806Z"
   },
   {
    "duration": 36,
    "start_time": "2022-03-26T15:45:01.231Z"
   },
   {
    "duration": 29,
    "start_time": "2022-03-26T15:45:01.269Z"
   },
   {
    "duration": 24,
    "start_time": "2022-03-26T15:45:01.299Z"
   },
   {
    "duration": 20,
    "start_time": "2022-03-26T15:45:01.325Z"
   },
   {
    "duration": 27,
    "start_time": "2022-03-26T15:45:01.346Z"
   },
   {
    "duration": 79,
    "start_time": "2022-03-26T15:45:01.375Z"
   },
   {
    "duration": 52,
    "start_time": "2022-03-26T15:45:01.455Z"
   },
   {
    "duration": 146,
    "start_time": "2022-03-26T15:45:01.510Z"
   },
   {
    "duration": 67,
    "start_time": "2022-03-26T15:45:01.658Z"
   },
   {
    "duration": 97,
    "start_time": "2022-03-26T15:45:01.727Z"
   },
   {
    "duration": 34,
    "start_time": "2022-03-26T15:45:01.826Z"
   },
   {
    "duration": 77,
    "start_time": "2022-03-26T15:45:01.862Z"
   },
   {
    "duration": 39,
    "start_time": "2022-03-26T15:45:01.941Z"
   },
   {
    "duration": 54,
    "start_time": "2022-03-26T15:45:01.982Z"
   },
   {
    "duration": 18,
    "start_time": "2022-03-26T15:45:02.037Z"
   },
   {
    "duration": 5,
    "start_time": "2022-03-26T15:45:02.056Z"
   },
   {
    "duration": 5,
    "start_time": "2022-03-26T15:45:02.063Z"
   },
   {
    "duration": 6,
    "start_time": "2022-03-26T15:45:02.069Z"
   },
   {
    "duration": 25,
    "start_time": "2022-03-26T15:45:02.077Z"
   },
   {
    "duration": 4,
    "start_time": "2022-03-26T15:45:02.103Z"
   },
   {
    "duration": 12,
    "start_time": "2022-03-26T15:45:02.108Z"
   },
   {
    "duration": 9,
    "start_time": "2022-03-26T15:45:02.122Z"
   },
   {
    "duration": 938,
    "start_time": "2022-03-26T15:45:02.133Z"
   },
   {
    "duration": 15,
    "start_time": "2022-03-26T15:45:03.073Z"
   },
   {
    "duration": 17,
    "start_time": "2022-03-26T15:45:03.089Z"
   },
   {
    "duration": 6,
    "start_time": "2022-03-26T15:45:03.108Z"
   },
   {
    "duration": 220,
    "start_time": "2022-03-26T15:45:03.115Z"
   },
   {
    "duration": 10,
    "start_time": "2022-03-26T15:45:03.336Z"
   },
   {
    "duration": 127,
    "start_time": "2022-03-26T15:45:03.348Z"
   },
   {
    "duration": 26,
    "start_time": "2022-03-26T15:45:03.476Z"
   },
   {
    "duration": 11,
    "start_time": "2022-03-26T15:45:03.503Z"
   },
   {
    "duration": 1316,
    "start_time": "2022-03-26T15:45:03.515Z"
   },
   {
    "duration": 185,
    "start_time": "2022-03-26T15:45:04.832Z"
   },
   {
    "duration": 190,
    "start_time": "2022-03-26T15:45:05.018Z"
   },
   {
    "duration": 281,
    "start_time": "2022-03-26T15:45:05.210Z"
   },
   {
    "duration": 15,
    "start_time": "2022-03-26T15:45:05.492Z"
   },
   {
    "duration": 22,
    "start_time": "2022-03-26T15:45:05.508Z"
   },
   {
    "duration": 38,
    "start_time": "2022-03-26T15:45:05.531Z"
   },
   {
    "duration": 112,
    "start_time": "2022-03-26T15:45:05.570Z"
   },
   {
    "duration": 48,
    "start_time": "2022-03-26T16:01:59.570Z"
   },
   {
    "duration": 1514,
    "start_time": "2022-03-26T16:02:08.341Z"
   },
   {
    "duration": 375,
    "start_time": "2022-03-26T16:02:09.857Z"
   },
   {
    "duration": 35,
    "start_time": "2022-03-26T16:02:10.236Z"
   },
   {
    "duration": 26,
    "start_time": "2022-03-26T16:02:10.273Z"
   },
   {
    "duration": 22,
    "start_time": "2022-03-26T16:02:10.301Z"
   },
   {
    "duration": 14,
    "start_time": "2022-03-26T16:02:10.325Z"
   },
   {
    "duration": 17,
    "start_time": "2022-03-26T16:02:10.363Z"
   },
   {
    "duration": 86,
    "start_time": "2022-03-26T16:02:10.382Z"
   },
   {
    "duration": 49,
    "start_time": "2022-03-26T16:02:10.470Z"
   },
   {
    "duration": 153,
    "start_time": "2022-03-26T16:02:10.520Z"
   },
   {
    "duration": 58,
    "start_time": "2022-03-26T16:02:10.675Z"
   },
   {
    "duration": 113,
    "start_time": "2022-03-26T16:02:10.735Z"
   },
   {
    "duration": 31,
    "start_time": "2022-03-26T16:02:10.849Z"
   },
   {
    "duration": 47,
    "start_time": "2022-03-26T16:02:10.882Z"
   },
   {
    "duration": 47,
    "start_time": "2022-03-26T16:02:10.931Z"
   },
   {
    "duration": 47,
    "start_time": "2022-03-26T16:02:10.979Z"
   },
   {
    "duration": 39,
    "start_time": "2022-03-26T16:02:11.028Z"
   },
   {
    "duration": 6,
    "start_time": "2022-03-26T16:02:11.068Z"
   },
   {
    "duration": 10,
    "start_time": "2022-03-26T16:02:11.075Z"
   },
   {
    "duration": 7,
    "start_time": "2022-03-26T16:02:11.087Z"
   },
   {
    "duration": 7,
    "start_time": "2022-03-26T16:02:11.095Z"
   },
   {
    "duration": 8,
    "start_time": "2022-03-26T16:02:11.104Z"
   },
   {
    "duration": 8,
    "start_time": "2022-03-26T16:02:11.114Z"
   },
   {
    "duration": 9,
    "start_time": "2022-03-26T16:02:11.124Z"
   },
   {
    "duration": 936,
    "start_time": "2022-03-26T16:02:11.135Z"
   },
   {
    "duration": 14,
    "start_time": "2022-03-26T16:02:12.073Z"
   },
   {
    "duration": 7,
    "start_time": "2022-03-26T16:02:12.091Z"
   },
   {
    "duration": 9,
    "start_time": "2022-03-26T16:02:12.100Z"
   },
   {
    "duration": 231,
    "start_time": "2022-03-26T16:02:12.111Z"
   },
   {
    "duration": 20,
    "start_time": "2022-03-26T16:02:12.344Z"
   },
   {
    "duration": 135,
    "start_time": "2022-03-26T16:02:12.365Z"
   },
   {
    "duration": 16,
    "start_time": "2022-03-26T16:02:12.502Z"
   },
   {
    "duration": 17,
    "start_time": "2022-03-26T16:02:12.519Z"
   },
   {
    "duration": 1113,
    "start_time": "2022-03-26T16:02:12.538Z"
   },
   {
    "duration": 177,
    "start_time": "2022-03-26T16:02:13.653Z"
   },
   {
    "duration": 281,
    "start_time": "2022-03-26T16:02:13.832Z"
   },
   {
    "duration": 277,
    "start_time": "2022-03-26T16:02:14.115Z"
   },
   {
    "duration": 10,
    "start_time": "2022-03-26T16:02:14.394Z"
   },
   {
    "duration": 6,
    "start_time": "2022-03-26T16:02:14.406Z"
   },
   {
    "duration": 16,
    "start_time": "2022-03-26T16:02:14.413Z"
   },
   {
    "duration": 132,
    "start_time": "2022-03-26T16:02:14.431Z"
   },
   {
    "duration": 1086,
    "start_time": "2022-03-26T16:02:14.564Z"
   },
   {
    "duration": 1278,
    "start_time": "2022-03-26T16:04:18.803Z"
   },
   {
    "duration": 373,
    "start_time": "2022-03-26T16:04:20.082Z"
   },
   {
    "duration": 34,
    "start_time": "2022-03-26T16:04:20.457Z"
   },
   {
    "duration": 26,
    "start_time": "2022-03-26T16:04:20.492Z"
   },
   {
    "duration": 23,
    "start_time": "2022-03-26T16:04:20.520Z"
   },
   {
    "duration": 31,
    "start_time": "2022-03-26T16:04:20.544Z"
   },
   {
    "duration": 26,
    "start_time": "2022-03-26T16:04:20.577Z"
   },
   {
    "duration": 84,
    "start_time": "2022-03-26T16:04:20.604Z"
   },
   {
    "duration": 48,
    "start_time": "2022-03-26T16:04:20.690Z"
   },
   {
    "duration": 148,
    "start_time": "2022-03-26T16:04:20.740Z"
   },
   {
    "duration": 61,
    "start_time": "2022-03-26T16:04:20.890Z"
   },
   {
    "duration": 89,
    "start_time": "2022-03-26T16:04:20.953Z"
   },
   {
    "duration": 40,
    "start_time": "2022-03-26T16:04:21.043Z"
   },
   {
    "duration": 46,
    "start_time": "2022-03-26T16:04:21.086Z"
   },
   {
    "duration": 46,
    "start_time": "2022-03-26T16:04:21.133Z"
   },
   {
    "duration": 47,
    "start_time": "2022-03-26T16:04:21.181Z"
   },
   {
    "duration": 36,
    "start_time": "2022-03-26T16:04:21.229Z"
   },
   {
    "duration": 6,
    "start_time": "2022-03-26T16:04:21.267Z"
   },
   {
    "duration": 7,
    "start_time": "2022-03-26T16:04:21.274Z"
   },
   {
    "duration": 23,
    "start_time": "2022-03-26T16:04:21.282Z"
   },
   {
    "duration": 11,
    "start_time": "2022-03-26T16:04:21.307Z"
   },
   {
    "duration": 9,
    "start_time": "2022-03-26T16:04:21.320Z"
   },
   {
    "duration": 11,
    "start_time": "2022-03-26T16:04:21.331Z"
   },
   {
    "duration": 12,
    "start_time": "2022-03-26T16:04:21.343Z"
   },
   {
    "duration": 975,
    "start_time": "2022-03-26T16:04:21.356Z"
   },
   {
    "duration": 14,
    "start_time": "2022-03-26T16:04:22.333Z"
   },
   {
    "duration": 20,
    "start_time": "2022-03-26T16:04:22.349Z"
   },
   {
    "duration": 10,
    "start_time": "2022-03-26T16:04:22.370Z"
   },
   {
    "duration": 219,
    "start_time": "2022-03-26T16:04:22.382Z"
   },
   {
    "duration": 11,
    "start_time": "2022-03-26T16:04:22.604Z"
   },
   {
    "duration": 115,
    "start_time": "2022-03-26T16:04:22.618Z"
   },
   {
    "duration": 29,
    "start_time": "2022-03-26T16:04:22.735Z"
   },
   {
    "duration": 12,
    "start_time": "2022-03-26T16:04:22.766Z"
   },
   {
    "duration": 1309,
    "start_time": "2022-03-26T16:04:22.779Z"
   },
   {
    "duration": 177,
    "start_time": "2022-03-26T16:04:24.090Z"
   },
   {
    "duration": 197,
    "start_time": "2022-03-26T16:04:24.269Z"
   },
   {
    "duration": 305,
    "start_time": "2022-03-26T16:04:24.468Z"
   },
   {
    "duration": 10,
    "start_time": "2022-03-26T16:04:24.774Z"
   },
   {
    "duration": 4,
    "start_time": "2022-03-26T16:04:24.785Z"
   },
   {
    "duration": 13,
    "start_time": "2022-03-26T16:04:24.791Z"
   },
   {
    "duration": 137,
    "start_time": "2022-03-26T16:04:24.807Z"
   },
   {
    "duration": 975,
    "start_time": "2022-03-26T16:04:24.946Z"
   },
   {
    "duration": 11,
    "start_time": "2022-03-26T16:04:25.923Z"
   },
   {
    "duration": 11,
    "start_time": "2022-03-26T16:06:48.423Z"
   },
   {
    "duration": 11,
    "start_time": "2022-03-26T16:07:15.080Z"
   },
   {
    "duration": 138,
    "start_time": "2022-03-26T16:09:11.872Z"
   },
   {
    "duration": 15,
    "start_time": "2022-03-26T16:09:51.006Z"
   },
   {
    "duration": 3,
    "start_time": "2022-03-26T16:11:27.031Z"
   },
   {
    "duration": 100,
    "start_time": "2022-03-26T16:11:57.120Z"
   },
   {
    "duration": 3,
    "start_time": "2022-03-26T16:12:05.631Z"
   },
   {
    "duration": 17,
    "start_time": "2022-03-26T16:12:07.522Z"
   },
   {
    "duration": 129,
    "start_time": "2022-03-26T16:12:17.955Z"
   },
   {
    "duration": 2686,
    "start_time": "2022-03-26T16:12:24.687Z"
   },
   {
    "duration": 2,
    "start_time": "2022-03-26T16:12:55.551Z"
   },
   {
    "duration": 19,
    "start_time": "2022-03-26T16:12:57.300Z"
   },
   {
    "duration": 19,
    "start_time": "2022-03-26T16:13:20.263Z"
   },
   {
    "duration": 12,
    "start_time": "2022-03-26T16:13:28.676Z"
   },
   {
    "duration": 106,
    "start_time": "2022-03-26T16:13:42.743Z"
   },
   {
    "duration": 1153,
    "start_time": "2022-03-26T16:32:25.995Z"
   },
   {
    "duration": 407,
    "start_time": "2022-03-26T16:32:27.150Z"
   },
   {
    "duration": 53,
    "start_time": "2022-03-26T16:32:27.559Z"
   },
   {
    "duration": 28,
    "start_time": "2022-03-26T16:32:27.614Z"
   },
   {
    "duration": 24,
    "start_time": "2022-03-26T16:32:27.664Z"
   },
   {
    "duration": 15,
    "start_time": "2022-03-26T16:32:27.689Z"
   },
   {
    "duration": 27,
    "start_time": "2022-03-26T16:32:27.705Z"
   },
   {
    "duration": 154,
    "start_time": "2022-03-26T16:32:27.734Z"
   },
   {
    "duration": 63,
    "start_time": "2022-03-26T16:32:27.890Z"
   },
   {
    "duration": 266,
    "start_time": "2022-03-26T16:32:27.955Z"
   },
   {
    "duration": 85,
    "start_time": "2022-03-26T16:32:28.223Z"
   },
   {
    "duration": 105,
    "start_time": "2022-03-26T16:32:28.310Z"
   },
   {
    "duration": 33,
    "start_time": "2022-03-26T16:32:28.417Z"
   },
   {
    "duration": 52,
    "start_time": "2022-03-26T16:32:28.462Z"
   },
   {
    "duration": 51,
    "start_time": "2022-03-26T16:32:28.515Z"
   },
   {
    "duration": 46,
    "start_time": "2022-03-26T16:32:28.568Z"
   },
   {
    "duration": 23,
    "start_time": "2022-03-26T16:32:28.616Z"
   },
   {
    "duration": 24,
    "start_time": "2022-03-26T16:32:28.640Z"
   },
   {
    "duration": 9,
    "start_time": "2022-03-26T16:32:28.665Z"
   },
   {
    "duration": 8,
    "start_time": "2022-03-26T16:32:28.676Z"
   },
   {
    "duration": 8,
    "start_time": "2022-03-26T16:32:28.686Z"
   },
   {
    "duration": 7,
    "start_time": "2022-03-26T16:32:28.696Z"
   },
   {
    "duration": 13,
    "start_time": "2022-03-26T16:32:28.704Z"
   },
   {
    "duration": 10,
    "start_time": "2022-03-26T16:32:28.719Z"
   },
   {
    "duration": 1383,
    "start_time": "2022-03-26T16:32:28.730Z"
   },
   {
    "duration": 18,
    "start_time": "2022-03-26T16:32:30.116Z"
   },
   {
    "duration": 26,
    "start_time": "2022-03-26T16:32:30.136Z"
   },
   {
    "duration": 10,
    "start_time": "2022-03-26T16:32:30.164Z"
   },
   {
    "duration": 371,
    "start_time": "2022-03-26T16:32:30.176Z"
   },
   {
    "duration": 19,
    "start_time": "2022-03-26T16:32:30.549Z"
   },
   {
    "duration": 120,
    "start_time": "2022-03-26T16:32:30.575Z"
   },
   {
    "duration": 16,
    "start_time": "2022-03-26T16:32:30.697Z"
   },
   {
    "duration": 13,
    "start_time": "2022-03-26T16:32:30.717Z"
   },
   {
    "duration": 1357,
    "start_time": "2022-03-26T16:32:30.733Z"
   },
   {
    "duration": 184,
    "start_time": "2022-03-26T16:32:32.092Z"
   },
   {
    "duration": 187,
    "start_time": "2022-03-26T16:32:32.278Z"
   },
   {
    "duration": 278,
    "start_time": "2022-03-26T16:32:32.467Z"
   },
   {
    "duration": 20,
    "start_time": "2022-03-26T16:32:32.747Z"
   },
   {
    "duration": 13,
    "start_time": "2022-03-26T16:32:32.769Z"
   },
   {
    "duration": 126,
    "start_time": "2022-03-26T16:32:32.784Z"
   },
   {
    "duration": 1026,
    "start_time": "2022-03-26T16:32:32.913Z"
   },
   {
    "duration": 24,
    "start_time": "2022-03-26T16:32:33.940Z"
   },
   {
    "duration": 3,
    "start_time": "2022-03-26T16:32:33.966Z"
   },
   {
    "duration": 19,
    "start_time": "2022-03-26T16:32:33.971Z"
   },
   {
    "duration": 12,
    "start_time": "2022-03-26T16:32:33.992Z"
   },
   {
    "duration": 171,
    "start_time": "2022-03-26T16:32:34.006Z"
   },
   {
    "duration": 421,
    "start_time": "2022-03-26T16:36:40.294Z"
   },
   {
    "duration": 1479,
    "start_time": "2022-03-26T16:36:48.400Z"
   },
   {
    "duration": 627,
    "start_time": "2022-03-26T16:36:49.882Z"
   },
   {
    "duration": 34,
    "start_time": "2022-03-26T16:36:50.511Z"
   },
   {
    "duration": 25,
    "start_time": "2022-03-26T16:36:50.547Z"
   },
   {
    "duration": 17,
    "start_time": "2022-03-26T16:36:50.573Z"
   },
   {
    "duration": 13,
    "start_time": "2022-03-26T16:36:50.591Z"
   },
   {
    "duration": 19,
    "start_time": "2022-03-26T16:36:50.606Z"
   },
   {
    "duration": 81,
    "start_time": "2022-03-26T16:36:50.627Z"
   },
   {
    "duration": 58,
    "start_time": "2022-03-26T16:36:50.710Z"
   },
   {
    "duration": 125,
    "start_time": "2022-03-26T16:36:50.770Z"
   },
   {
    "duration": 56,
    "start_time": "2022-03-26T16:36:50.896Z"
   },
   {
    "duration": 85,
    "start_time": "2022-03-26T16:36:50.954Z"
   },
   {
    "duration": 42,
    "start_time": "2022-03-26T16:36:51.041Z"
   },
   {
    "duration": 149,
    "start_time": "2022-03-26T16:36:51.085Z"
   },
   {
    "duration": 0,
    "start_time": "2022-03-26T16:36:51.237Z"
   },
   {
    "duration": 0,
    "start_time": "2022-03-26T16:36:51.239Z"
   },
   {
    "duration": 0,
    "start_time": "2022-03-26T16:36:51.240Z"
   },
   {
    "duration": 0,
    "start_time": "2022-03-26T16:36:51.241Z"
   },
   {
    "duration": 0,
    "start_time": "2022-03-26T16:36:51.243Z"
   },
   {
    "duration": 0,
    "start_time": "2022-03-26T16:36:51.244Z"
   },
   {
    "duration": 0,
    "start_time": "2022-03-26T16:36:51.245Z"
   },
   {
    "duration": 0,
    "start_time": "2022-03-26T16:36:51.262Z"
   },
   {
    "duration": 0,
    "start_time": "2022-03-26T16:36:51.263Z"
   },
   {
    "duration": 0,
    "start_time": "2022-03-26T16:36:51.265Z"
   },
   {
    "duration": 0,
    "start_time": "2022-03-26T16:36:51.265Z"
   },
   {
    "duration": 0,
    "start_time": "2022-03-26T16:36:51.267Z"
   },
   {
    "duration": 0,
    "start_time": "2022-03-26T16:36:51.268Z"
   },
   {
    "duration": 0,
    "start_time": "2022-03-26T16:36:51.269Z"
   },
   {
    "duration": 0,
    "start_time": "2022-03-26T16:36:51.270Z"
   },
   {
    "duration": 0,
    "start_time": "2022-03-26T16:36:51.272Z"
   },
   {
    "duration": 0,
    "start_time": "2022-03-26T16:36:51.273Z"
   },
   {
    "duration": 0,
    "start_time": "2022-03-26T16:36:51.274Z"
   },
   {
    "duration": 0,
    "start_time": "2022-03-26T16:36:51.275Z"
   },
   {
    "duration": 0,
    "start_time": "2022-03-26T16:36:51.276Z"
   },
   {
    "duration": 0,
    "start_time": "2022-03-26T16:36:51.277Z"
   },
   {
    "duration": 0,
    "start_time": "2022-03-26T16:36:51.279Z"
   },
   {
    "duration": 0,
    "start_time": "2022-03-26T16:36:51.280Z"
   },
   {
    "duration": 0,
    "start_time": "2022-03-26T16:36:51.281Z"
   },
   {
    "duration": 0,
    "start_time": "2022-03-26T16:36:51.282Z"
   },
   {
    "duration": 0,
    "start_time": "2022-03-26T16:36:51.283Z"
   },
   {
    "duration": 0,
    "start_time": "2022-03-26T16:36:51.285Z"
   },
   {
    "duration": 0,
    "start_time": "2022-03-26T16:36:51.285Z"
   },
   {
    "duration": 0,
    "start_time": "2022-03-26T16:36:51.287Z"
   },
   {
    "duration": 0,
    "start_time": "2022-03-26T16:36:51.287Z"
   },
   {
    "duration": 0,
    "start_time": "2022-03-26T16:36:51.289Z"
   },
   {
    "duration": 0,
    "start_time": "2022-03-26T16:36:51.290Z"
   },
   {
    "duration": 1213,
    "start_time": "2022-03-26T16:37:35.375Z"
   },
   {
    "duration": 365,
    "start_time": "2022-03-26T16:37:36.590Z"
   },
   {
    "duration": 38,
    "start_time": "2022-03-26T16:37:36.957Z"
   },
   {
    "duration": 27,
    "start_time": "2022-03-26T16:37:36.997Z"
   },
   {
    "duration": 42,
    "start_time": "2022-03-26T16:37:37.026Z"
   },
   {
    "duration": 15,
    "start_time": "2022-03-26T16:37:37.070Z"
   },
   {
    "duration": 20,
    "start_time": "2022-03-26T16:37:37.087Z"
   },
   {
    "duration": 97,
    "start_time": "2022-03-26T16:37:37.108Z"
   },
   {
    "duration": 56,
    "start_time": "2022-03-26T16:37:37.207Z"
   },
   {
    "duration": 142,
    "start_time": "2022-03-26T16:37:37.265Z"
   },
   {
    "duration": 70,
    "start_time": "2022-03-26T16:37:37.409Z"
   },
   {
    "duration": 84,
    "start_time": "2022-03-26T16:37:37.480Z"
   },
   {
    "duration": 26,
    "start_time": "2022-03-26T16:37:37.566Z"
   },
   {
    "duration": 49,
    "start_time": "2022-03-26T16:37:37.594Z"
   },
   {
    "duration": 49,
    "start_time": "2022-03-26T16:37:37.644Z"
   },
   {
    "duration": 44,
    "start_time": "2022-03-26T16:37:37.695Z"
   },
   {
    "duration": 35,
    "start_time": "2022-03-26T16:37:37.741Z"
   },
   {
    "duration": 6,
    "start_time": "2022-03-26T16:37:37.777Z"
   },
   {
    "duration": 6,
    "start_time": "2022-03-26T16:37:37.785Z"
   },
   {
    "duration": 6,
    "start_time": "2022-03-26T16:37:37.792Z"
   },
   {
    "duration": 6,
    "start_time": "2022-03-26T16:37:37.800Z"
   },
   {
    "duration": 8,
    "start_time": "2022-03-26T16:37:37.807Z"
   },
   {
    "duration": 7,
    "start_time": "2022-03-26T16:37:37.816Z"
   },
   {
    "duration": 11,
    "start_time": "2022-03-26T16:37:37.824Z"
   },
   {
    "duration": 974,
    "start_time": "2022-03-26T16:37:37.836Z"
   },
   {
    "duration": 18,
    "start_time": "2022-03-26T16:37:38.812Z"
   },
   {
    "duration": 9,
    "start_time": "2022-03-26T16:37:38.831Z"
   },
   {
    "duration": 23,
    "start_time": "2022-03-26T16:37:38.844Z"
   },
   {
    "duration": 214,
    "start_time": "2022-03-26T16:37:38.868Z"
   },
   {
    "duration": 10,
    "start_time": "2022-03-26T16:37:39.084Z"
   },
   {
    "duration": 121,
    "start_time": "2022-03-26T16:37:39.095Z"
   },
   {
    "duration": 14,
    "start_time": "2022-03-26T16:37:39.218Z"
   },
   {
    "duration": 11,
    "start_time": "2022-03-26T16:37:39.234Z"
   },
   {
    "duration": 1242,
    "start_time": "2022-03-26T16:37:39.263Z"
   },
   {
    "duration": 187,
    "start_time": "2022-03-26T16:37:40.506Z"
   },
   {
    "duration": 174,
    "start_time": "2022-03-26T16:37:40.695Z"
   },
   {
    "duration": 384,
    "start_time": "2022-03-26T16:37:40.871Z"
   },
   {
    "duration": 12,
    "start_time": "2022-03-26T16:37:41.263Z"
   },
   {
    "duration": 12,
    "start_time": "2022-03-26T16:37:41.277Z"
   },
   {
    "duration": 119,
    "start_time": "2022-03-26T16:37:41.290Z"
   },
   {
    "duration": 1139,
    "start_time": "2022-03-26T16:37:41.411Z"
   },
   {
    "duration": 18,
    "start_time": "2022-03-26T16:37:42.552Z"
   },
   {
    "duration": 3,
    "start_time": "2022-03-26T16:37:42.572Z"
   },
   {
    "duration": 21,
    "start_time": "2022-03-26T16:37:42.577Z"
   },
   {
    "duration": 15,
    "start_time": "2022-03-26T16:37:42.600Z"
   },
   {
    "duration": 129,
    "start_time": "2022-03-26T16:37:42.617Z"
   },
   {
    "duration": 1510,
    "start_time": "2022-03-26T16:38:00.972Z"
   },
   {
    "duration": 387,
    "start_time": "2022-03-26T16:38:02.485Z"
   },
   {
    "duration": 36,
    "start_time": "2022-03-26T16:38:02.873Z"
   },
   {
    "duration": 26,
    "start_time": "2022-03-26T16:38:02.910Z"
   },
   {
    "duration": 37,
    "start_time": "2022-03-26T16:38:02.938Z"
   },
   {
    "duration": 14,
    "start_time": "2022-03-26T16:38:02.977Z"
   },
   {
    "duration": 36,
    "start_time": "2022-03-26T16:38:02.993Z"
   },
   {
    "duration": 86,
    "start_time": "2022-03-26T16:38:03.031Z"
   },
   {
    "duration": 55,
    "start_time": "2022-03-26T16:38:03.118Z"
   },
   {
    "duration": 142,
    "start_time": "2022-03-26T16:38:03.175Z"
   },
   {
    "duration": 62,
    "start_time": "2022-03-26T16:38:03.319Z"
   },
   {
    "duration": 83,
    "start_time": "2022-03-26T16:38:03.383Z"
   },
   {
    "duration": 25,
    "start_time": "2022-03-26T16:38:03.468Z"
   },
   {
    "duration": 67,
    "start_time": "2022-03-26T16:38:03.497Z"
   },
   {
    "duration": 32,
    "start_time": "2022-03-26T16:38:03.566Z"
   },
   {
    "duration": 64,
    "start_time": "2022-03-26T16:38:03.600Z"
   },
   {
    "duration": 21,
    "start_time": "2022-03-26T16:38:03.666Z"
   },
   {
    "duration": 6,
    "start_time": "2022-03-26T16:38:03.688Z"
   },
   {
    "duration": 28,
    "start_time": "2022-03-26T16:38:03.695Z"
   },
   {
    "duration": 20,
    "start_time": "2022-03-26T16:38:03.725Z"
   },
   {
    "duration": 17,
    "start_time": "2022-03-26T16:38:03.746Z"
   },
   {
    "duration": 16,
    "start_time": "2022-03-26T16:38:03.764Z"
   },
   {
    "duration": 22,
    "start_time": "2022-03-26T16:38:03.782Z"
   },
   {
    "duration": 19,
    "start_time": "2022-03-26T16:38:03.805Z"
   },
   {
    "duration": 980,
    "start_time": "2022-03-26T16:38:03.825Z"
   },
   {
    "duration": 13,
    "start_time": "2022-03-26T16:38:04.807Z"
   },
   {
    "duration": 18,
    "start_time": "2022-03-26T16:38:04.822Z"
   },
   {
    "duration": 7,
    "start_time": "2022-03-26T16:38:04.841Z"
   },
   {
    "duration": 244,
    "start_time": "2022-03-26T16:38:04.850Z"
   },
   {
    "duration": 10,
    "start_time": "2022-03-26T16:38:05.096Z"
   },
   {
    "duration": 124,
    "start_time": "2022-03-26T16:38:05.108Z"
   },
   {
    "duration": 16,
    "start_time": "2022-03-26T16:38:05.234Z"
   },
   {
    "duration": 20,
    "start_time": "2022-03-26T16:38:05.251Z"
   },
   {
    "duration": 1085,
    "start_time": "2022-03-26T16:38:05.272Z"
   },
   {
    "duration": 181,
    "start_time": "2022-03-26T16:38:06.363Z"
   },
   {
    "duration": 190,
    "start_time": "2022-03-26T16:38:06.546Z"
   },
   {
    "duration": 271,
    "start_time": "2022-03-26T16:38:06.737Z"
   },
   {
    "duration": 11,
    "start_time": "2022-03-26T16:38:07.009Z"
   },
   {
    "duration": 13,
    "start_time": "2022-03-26T16:38:07.021Z"
   },
   {
    "duration": 128,
    "start_time": "2022-03-26T16:38:07.035Z"
   },
   {
    "duration": 1323,
    "start_time": "2022-03-26T16:38:07.166Z"
   },
   {
    "duration": 31,
    "start_time": "2022-03-26T16:38:08.491Z"
   },
   {
    "duration": 6,
    "start_time": "2022-03-26T16:38:08.524Z"
   },
   {
    "duration": 20,
    "start_time": "2022-03-26T16:38:08.532Z"
   },
   {
    "duration": 16,
    "start_time": "2022-03-26T16:38:08.554Z"
   },
   {
    "duration": 115,
    "start_time": "2022-03-26T16:38:08.571Z"
   },
   {
    "duration": 1285,
    "start_time": "2022-04-06T06:32:37.846Z"
   },
   {
    "duration": 387,
    "start_time": "2022-04-06T06:32:39.133Z"
   },
   {
    "duration": 39,
    "start_time": "2022-04-06T06:32:39.521Z"
   },
   {
    "duration": 31,
    "start_time": "2022-04-06T06:32:39.562Z"
   },
   {
    "duration": 25,
    "start_time": "2022-04-06T06:32:39.610Z"
   },
   {
    "duration": 15,
    "start_time": "2022-04-06T06:32:39.637Z"
   },
   {
    "duration": 19,
    "start_time": "2022-04-06T06:32:39.653Z"
   },
   {
    "duration": 108,
    "start_time": "2022-04-06T06:32:39.674Z"
   },
   {
    "duration": 65,
    "start_time": "2022-04-06T06:32:39.784Z"
   },
   {
    "duration": 157,
    "start_time": "2022-04-06T06:32:39.851Z"
   },
   {
    "duration": 58,
    "start_time": "2022-04-06T06:32:40.010Z"
   },
   {
    "duration": 93,
    "start_time": "2022-04-06T06:32:40.070Z"
   },
   {
    "duration": 26,
    "start_time": "2022-04-06T06:32:40.164Z"
   },
   {
    "duration": 62,
    "start_time": "2022-04-06T06:32:40.194Z"
   },
   {
    "duration": 31,
    "start_time": "2022-04-06T06:32:40.258Z"
   },
   {
    "duration": 66,
    "start_time": "2022-04-06T06:32:40.291Z"
   },
   {
    "duration": 20,
    "start_time": "2022-04-06T06:32:40.359Z"
   },
   {
    "duration": 29,
    "start_time": "2022-04-06T06:32:40.380Z"
   },
   {
    "duration": 7,
    "start_time": "2022-04-06T06:32:40.411Z"
   },
   {
    "duration": 5,
    "start_time": "2022-04-06T06:32:40.419Z"
   },
   {
    "duration": 10,
    "start_time": "2022-04-06T06:32:40.426Z"
   },
   {
    "duration": 7,
    "start_time": "2022-04-06T06:32:40.438Z"
   },
   {
    "duration": 7,
    "start_time": "2022-04-06T06:32:40.446Z"
   },
   {
    "duration": 9,
    "start_time": "2022-04-06T06:32:40.454Z"
   },
   {
    "duration": 1042,
    "start_time": "2022-04-06T06:32:40.465Z"
   },
   {
    "duration": 15,
    "start_time": "2022-04-06T06:32:41.508Z"
   },
   {
    "duration": 7,
    "start_time": "2022-04-06T06:32:41.525Z"
   },
   {
    "duration": 6,
    "start_time": "2022-04-06T06:32:41.534Z"
   },
   {
    "duration": 259,
    "start_time": "2022-04-06T06:32:41.541Z"
   },
   {
    "duration": 16,
    "start_time": "2022-04-06T06:32:41.802Z"
   },
   {
    "duration": 125,
    "start_time": "2022-04-06T06:32:41.820Z"
   },
   {
    "duration": 16,
    "start_time": "2022-04-06T06:32:41.947Z"
   },
   {
    "duration": 14,
    "start_time": "2022-04-06T06:32:41.964Z"
   },
   {
    "duration": 1195,
    "start_time": "2022-04-06T06:32:41.979Z"
   },
   {
    "duration": 204,
    "start_time": "2022-04-06T06:32:43.175Z"
   },
   {
    "duration": 211,
    "start_time": "2022-04-06T06:32:43.381Z"
   },
   {
    "duration": 310,
    "start_time": "2022-04-06T06:32:43.593Z"
   },
   {
    "duration": 12,
    "start_time": "2022-04-06T06:32:43.905Z"
   },
   {
    "duration": 14,
    "start_time": "2022-04-06T06:32:43.919Z"
   },
   {
    "duration": 143,
    "start_time": "2022-04-06T06:32:43.935Z"
   },
   {
    "duration": 1227,
    "start_time": "2022-04-06T06:32:44.081Z"
   },
   {
    "duration": 11,
    "start_time": "2022-04-06T06:32:45.309Z"
   },
   {
    "duration": 5,
    "start_time": "2022-04-06T06:32:45.321Z"
   },
   {
    "duration": 27,
    "start_time": "2022-04-06T06:32:45.328Z"
   },
   {
    "duration": 12,
    "start_time": "2022-04-06T06:32:45.356Z"
   },
   {
    "duration": 148,
    "start_time": "2022-04-06T06:32:45.369Z"
   },
   {
    "duration": 17,
    "start_time": "2022-04-06T06:38:03.496Z"
   },
   {
    "duration": 1163,
    "start_time": "2022-04-06T06:47:05.459Z"
   },
   {
    "duration": 405,
    "start_time": "2022-04-06T06:47:06.624Z"
   },
   {
    "duration": 36,
    "start_time": "2022-04-06T06:47:07.031Z"
   },
   {
    "duration": 30,
    "start_time": "2022-04-06T06:47:07.069Z"
   },
   {
    "duration": 29,
    "start_time": "2022-04-06T06:47:07.101Z"
   },
   {
    "duration": 15,
    "start_time": "2022-04-06T06:47:07.132Z"
   },
   {
    "duration": 20,
    "start_time": "2022-04-06T06:47:07.149Z"
   },
   {
    "duration": 103,
    "start_time": "2022-04-06T06:47:07.171Z"
   },
   {
    "duration": 65,
    "start_time": "2022-04-06T06:47:07.276Z"
   },
   {
    "duration": 157,
    "start_time": "2022-04-06T06:47:07.343Z"
   },
   {
    "duration": 64,
    "start_time": "2022-04-06T06:47:07.502Z"
   },
   {
    "duration": 92,
    "start_time": "2022-04-06T06:47:07.567Z"
   },
   {
    "duration": 27,
    "start_time": "2022-04-06T06:47:07.661Z"
   },
   {
    "duration": 67,
    "start_time": "2022-04-06T06:47:07.691Z"
   },
   {
    "duration": 35,
    "start_time": "2022-04-06T06:47:07.760Z"
   },
   {
    "duration": 54,
    "start_time": "2022-04-06T06:47:07.809Z"
   },
   {
    "duration": 22,
    "start_time": "2022-04-06T06:47:07.865Z"
   },
   {
    "duration": 22,
    "start_time": "2022-04-06T06:47:07.888Z"
   },
   {
    "duration": 33,
    "start_time": "2022-04-06T06:47:07.911Z"
   },
   {
    "duration": 5,
    "start_time": "2022-04-06T06:47:07.946Z"
   },
   {
    "duration": 13,
    "start_time": "2022-04-06T06:47:07.953Z"
   },
   {
    "duration": 9,
    "start_time": "2022-04-06T06:47:07.968Z"
   },
   {
    "duration": 24,
    "start_time": "2022-04-06T06:47:07.979Z"
   },
   {
    "duration": 16,
    "start_time": "2022-04-06T06:47:08.005Z"
   },
   {
    "duration": 1119,
    "start_time": "2022-04-06T06:47:08.022Z"
   },
   {
    "duration": 14,
    "start_time": "2022-04-06T06:47:09.143Z"
   },
   {
    "duration": 8,
    "start_time": "2022-04-06T06:47:09.158Z"
   },
   {
    "duration": 6,
    "start_time": "2022-04-06T06:47:09.168Z"
   },
   {
    "duration": 258,
    "start_time": "2022-04-06T06:47:09.176Z"
   },
   {
    "duration": 12,
    "start_time": "2022-04-06T06:47:09.435Z"
   },
   {
    "duration": 140,
    "start_time": "2022-04-06T06:47:09.449Z"
   },
   {
    "duration": 26,
    "start_time": "2022-04-06T06:47:09.590Z"
   },
   {
    "duration": 14,
    "start_time": "2022-04-06T06:47:09.618Z"
   },
   {
    "duration": 1218,
    "start_time": "2022-04-06T06:47:09.634Z"
   },
   {
    "duration": 209,
    "start_time": "2022-04-06T06:47:10.854Z"
   },
   {
    "duration": 208,
    "start_time": "2022-04-06T06:47:11.065Z"
   },
   {
    "duration": 311,
    "start_time": "2022-04-06T06:47:11.274Z"
   },
   {
    "duration": 11,
    "start_time": "2022-04-06T06:47:11.586Z"
   },
   {
    "duration": 13,
    "start_time": "2022-04-06T06:47:11.608Z"
   },
   {
    "duration": 135,
    "start_time": "2022-04-06T06:47:11.622Z"
   },
   {
    "duration": 1162,
    "start_time": "2022-04-06T06:47:11.761Z"
   },
   {
    "duration": 12,
    "start_time": "2022-04-06T06:47:12.925Z"
   },
   {
    "duration": 7,
    "start_time": "2022-04-06T06:47:12.938Z"
   },
   {
    "duration": 46,
    "start_time": "2022-04-06T06:47:12.947Z"
   },
   {
    "duration": 13,
    "start_time": "2022-04-06T06:47:12.995Z"
   },
   {
    "duration": 130,
    "start_time": "2022-04-06T06:47:13.009Z"
   },
   {
    "duration": 1377,
    "start_time": "2022-04-06T16:47:18.591Z"
   },
   {
    "duration": 407,
    "start_time": "2022-04-06T16:47:19.971Z"
   },
   {
    "duration": 37,
    "start_time": "2022-04-06T16:47:20.379Z"
   },
   {
    "duration": 27,
    "start_time": "2022-04-06T16:47:20.418Z"
   },
   {
    "duration": 32,
    "start_time": "2022-04-06T16:47:20.448Z"
   },
   {
    "duration": 19,
    "start_time": "2022-04-06T16:47:20.482Z"
   },
   {
    "duration": 37,
    "start_time": "2022-04-06T16:47:20.502Z"
   },
   {
    "duration": 86,
    "start_time": "2022-04-06T16:47:20.541Z"
   },
   {
    "duration": 51,
    "start_time": "2022-04-06T16:47:20.628Z"
   },
   {
    "duration": 146,
    "start_time": "2022-04-06T16:47:20.681Z"
   },
   {
    "duration": 76,
    "start_time": "2022-04-06T16:47:20.829Z"
   },
   {
    "duration": 93,
    "start_time": "2022-04-06T16:47:20.907Z"
   },
   {
    "duration": 28,
    "start_time": "2022-04-06T16:47:21.002Z"
   },
   {
    "duration": 68,
    "start_time": "2022-04-06T16:47:21.035Z"
   },
   {
    "duration": 33,
    "start_time": "2022-04-06T16:47:21.106Z"
   },
   {
    "duration": 65,
    "start_time": "2022-04-06T16:47:21.141Z"
   },
   {
    "duration": 20,
    "start_time": "2022-04-06T16:47:21.208Z"
   },
   {
    "duration": 12,
    "start_time": "2022-04-06T16:47:21.230Z"
   },
   {
    "duration": 30,
    "start_time": "2022-04-06T16:47:21.243Z"
   },
   {
    "duration": 16,
    "start_time": "2022-04-06T16:47:21.275Z"
   },
   {
    "duration": 23,
    "start_time": "2022-04-06T16:47:21.292Z"
   },
   {
    "duration": 22,
    "start_time": "2022-04-06T16:47:21.317Z"
   },
   {
    "duration": 28,
    "start_time": "2022-04-06T16:47:21.340Z"
   },
   {
    "duration": 16,
    "start_time": "2022-04-06T16:47:21.369Z"
   },
   {
    "duration": 934,
    "start_time": "2022-04-06T16:47:21.387Z"
   },
   {
    "duration": 14,
    "start_time": "2022-04-06T16:47:22.322Z"
   },
   {
    "duration": 18,
    "start_time": "2022-04-06T16:47:22.338Z"
   },
   {
    "duration": 23,
    "start_time": "2022-04-06T16:47:22.357Z"
   },
   {
    "duration": 267,
    "start_time": "2022-04-06T16:47:22.381Z"
   },
   {
    "duration": 13,
    "start_time": "2022-04-06T16:47:22.650Z"
   },
   {
    "duration": 131,
    "start_time": "2022-04-06T16:47:22.664Z"
   },
   {
    "duration": 15,
    "start_time": "2022-04-06T16:47:22.796Z"
   },
   {
    "duration": 20,
    "start_time": "2022-04-06T16:47:22.813Z"
   },
   {
    "duration": 1107,
    "start_time": "2022-04-06T16:47:22.835Z"
   },
   {
    "duration": 234,
    "start_time": "2022-04-06T16:47:23.944Z"
   },
   {
    "duration": 300,
    "start_time": "2022-04-06T16:47:24.180Z"
   },
   {
    "duration": 220,
    "start_time": "2022-04-06T16:47:24.482Z"
   },
   {
    "duration": 11,
    "start_time": "2022-04-06T16:47:24.703Z"
   },
   {
    "duration": 17,
    "start_time": "2022-04-06T16:47:24.716Z"
   },
   {
    "duration": 115,
    "start_time": "2022-04-06T16:47:24.734Z"
   },
   {
    "duration": 1729,
    "start_time": "2022-04-06T16:47:24.853Z"
   },
   {
    "duration": 13,
    "start_time": "2022-04-06T16:47:26.584Z"
   },
   {
    "duration": 4,
    "start_time": "2022-04-06T16:47:26.599Z"
   },
   {
    "duration": 21,
    "start_time": "2022-04-06T16:47:26.604Z"
   },
   {
    "duration": 12,
    "start_time": "2022-04-06T16:47:26.627Z"
   },
   {
    "duration": 116,
    "start_time": "2022-04-06T16:47:26.663Z"
   },
   {
    "duration": 7,
    "start_time": "2022-04-06T16:54:41.696Z"
   },
   {
    "duration": 1180,
    "start_time": "2022-04-06T16:54:47.983Z"
   },
   {
    "duration": 388,
    "start_time": "2022-04-06T16:54:49.165Z"
   },
   {
    "duration": 33,
    "start_time": "2022-04-06T16:54:49.555Z"
   },
   {
    "duration": 25,
    "start_time": "2022-04-06T16:54:49.590Z"
   },
   {
    "duration": 21,
    "start_time": "2022-04-06T16:54:49.616Z"
   },
   {
    "duration": 34,
    "start_time": "2022-04-06T16:54:49.638Z"
   },
   {
    "duration": 16,
    "start_time": "2022-04-06T16:54:49.674Z"
   },
   {
    "duration": 88,
    "start_time": "2022-04-06T16:54:49.691Z"
   },
   {
    "duration": 48,
    "start_time": "2022-04-06T16:54:49.781Z"
   },
   {
    "duration": 91,
    "start_time": "2022-04-06T16:54:49.831Z"
   },
   {
    "duration": 71,
    "start_time": "2022-04-06T16:54:49.924Z"
   },
   {
    "duration": 93,
    "start_time": "2022-04-06T16:54:49.996Z"
   },
   {
    "duration": 29,
    "start_time": "2022-04-06T16:54:50.091Z"
   },
   {
    "duration": 70,
    "start_time": "2022-04-06T16:54:50.122Z"
   },
   {
    "duration": 34,
    "start_time": "2022-04-06T16:54:50.193Z"
   },
   {
    "duration": 67,
    "start_time": "2022-04-06T16:54:50.228Z"
   },
   {
    "duration": 20,
    "start_time": "2022-04-06T16:54:50.297Z"
   },
   {
    "duration": 6,
    "start_time": "2022-04-06T16:54:50.319Z"
   },
   {
    "duration": 7,
    "start_time": "2022-04-06T16:54:50.326Z"
   },
   {
    "duration": 28,
    "start_time": "2022-04-06T16:54:50.335Z"
   },
   {
    "duration": 8,
    "start_time": "2022-04-06T16:54:50.364Z"
   },
   {
    "duration": 9,
    "start_time": "2022-04-06T16:54:50.374Z"
   },
   {
    "duration": 8,
    "start_time": "2022-04-06T16:54:50.384Z"
   },
   {
    "duration": 13,
    "start_time": "2022-04-06T16:54:50.393Z"
   },
   {
    "duration": 933,
    "start_time": "2022-04-06T16:54:50.408Z"
   },
   {
    "duration": 22,
    "start_time": "2022-04-06T16:54:51.342Z"
   },
   {
    "duration": 8,
    "start_time": "2022-04-06T16:54:51.366Z"
   },
   {
    "duration": 7,
    "start_time": "2022-04-06T16:54:51.377Z"
   },
   {
    "duration": 225,
    "start_time": "2022-04-06T16:54:51.385Z"
   },
   {
    "duration": 11,
    "start_time": "2022-04-06T16:54:51.611Z"
   },
   {
    "duration": 117,
    "start_time": "2022-04-06T16:54:51.623Z"
   },
   {
    "duration": 21,
    "start_time": "2022-04-06T16:54:51.742Z"
   },
   {
    "duration": 12,
    "start_time": "2022-04-06T16:54:51.764Z"
   },
   {
    "duration": 1071,
    "start_time": "2022-04-06T16:54:51.777Z"
   },
   {
    "duration": 265,
    "start_time": "2022-04-06T16:54:52.849Z"
   },
   {
    "duration": 337,
    "start_time": "2022-04-06T16:54:53.116Z"
   },
   {
    "duration": 240,
    "start_time": "2022-04-06T16:54:53.462Z"
   },
   {
    "duration": 12,
    "start_time": "2022-04-06T16:54:53.704Z"
   },
   {
    "duration": 17,
    "start_time": "2022-04-06T16:54:53.718Z"
   },
   {
    "duration": 116,
    "start_time": "2022-04-06T16:54:53.737Z"
   },
   {
    "duration": 1201,
    "start_time": "2022-04-06T16:54:53.863Z"
   },
   {
    "duration": 12,
    "start_time": "2022-04-06T16:54:55.066Z"
   },
   {
    "duration": 5,
    "start_time": "2022-04-06T16:54:55.080Z"
   },
   {
    "duration": 21,
    "start_time": "2022-04-06T16:54:55.087Z"
   },
   {
    "duration": 13,
    "start_time": "2022-04-06T16:54:55.110Z"
   },
   {
    "duration": 131,
    "start_time": "2022-04-06T16:54:55.125Z"
   },
   {
    "duration": 1185,
    "start_time": "2022-04-06T17:00:55.169Z"
   },
   {
    "duration": 390,
    "start_time": "2022-04-06T17:00:56.357Z"
   },
   {
    "duration": 36,
    "start_time": "2022-04-06T17:00:56.748Z"
   },
   {
    "duration": 27,
    "start_time": "2022-04-06T17:00:56.785Z"
   },
   {
    "duration": 22,
    "start_time": "2022-04-06T17:00:56.814Z"
   },
   {
    "duration": 38,
    "start_time": "2022-04-06T17:00:56.838Z"
   },
   {
    "duration": 21,
    "start_time": "2022-04-06T17:00:56.877Z"
   },
   {
    "duration": 100,
    "start_time": "2022-04-06T17:00:56.899Z"
   },
   {
    "duration": 64,
    "start_time": "2022-04-06T17:00:57.001Z"
   },
   {
    "duration": 82,
    "start_time": "2022-04-06T17:00:57.066Z"
   },
   {
    "duration": 73,
    "start_time": "2022-04-06T17:00:57.150Z"
   },
   {
    "duration": 98,
    "start_time": "2022-04-06T17:00:57.224Z"
   },
   {
    "duration": 27,
    "start_time": "2022-04-06T17:00:57.324Z"
   },
   {
    "duration": 60,
    "start_time": "2022-04-06T17:00:57.354Z"
   },
   {
    "duration": 33,
    "start_time": "2022-04-06T17:00:57.415Z"
   },
   {
    "duration": 64,
    "start_time": "2022-04-06T17:00:57.450Z"
   },
   {
    "duration": 22,
    "start_time": "2022-04-06T17:00:57.515Z"
   },
   {
    "duration": 28,
    "start_time": "2022-04-06T17:00:57.539Z"
   },
   {
    "duration": 12,
    "start_time": "2022-04-06T17:00:57.569Z"
   },
   {
    "duration": 6,
    "start_time": "2022-04-06T17:00:57.583Z"
   },
   {
    "duration": 6,
    "start_time": "2022-04-06T17:00:57.590Z"
   },
   {
    "duration": 8,
    "start_time": "2022-04-06T17:00:57.597Z"
   },
   {
    "duration": 7,
    "start_time": "2022-04-06T17:00:57.607Z"
   },
   {
    "duration": 9,
    "start_time": "2022-04-06T17:00:57.615Z"
   },
   {
    "duration": 971,
    "start_time": "2022-04-06T17:00:57.626Z"
   },
   {
    "duration": 13,
    "start_time": "2022-04-06T17:00:58.599Z"
   },
   {
    "duration": 6,
    "start_time": "2022-04-06T17:00:58.614Z"
   },
   {
    "duration": 6,
    "start_time": "2022-04-06T17:00:58.622Z"
   },
   {
    "duration": 227,
    "start_time": "2022-04-06T17:00:58.630Z"
   },
   {
    "duration": 11,
    "start_time": "2022-04-06T17:00:58.858Z"
   },
   {
    "duration": 130,
    "start_time": "2022-04-06T17:00:58.871Z"
   },
   {
    "duration": 15,
    "start_time": "2022-04-06T17:00:59.003Z"
   },
   {
    "duration": 12,
    "start_time": "2022-04-06T17:00:59.019Z"
   },
   {
    "duration": 47,
    "start_time": "2022-04-06T17:00:59.032Z"
   },
   {
    "duration": 12,
    "start_time": "2022-04-06T17:00:59.081Z"
   },
   {
    "duration": 980,
    "start_time": "2022-04-06T17:00:59.096Z"
   },
   {
    "duration": 239,
    "start_time": "2022-04-06T17:01:00.079Z"
   },
   {
    "duration": 272,
    "start_time": "2022-04-06T17:01:00.320Z"
   },
   {
    "duration": 225,
    "start_time": "2022-04-06T17:01:00.594Z"
   },
   {
    "duration": 10,
    "start_time": "2022-04-06T17:01:00.821Z"
   },
   {
    "duration": 16,
    "start_time": "2022-04-06T17:01:00.834Z"
   },
   {
    "duration": 118,
    "start_time": "2022-04-06T17:01:00.852Z"
   },
   {
    "duration": 1236,
    "start_time": "2022-04-06T17:01:00.971Z"
   },
   {
    "duration": 11,
    "start_time": "2022-04-06T17:01:02.209Z"
   },
   {
    "duration": 17,
    "start_time": "2022-04-06T17:01:02.222Z"
   },
   {
    "duration": 31,
    "start_time": "2022-04-06T17:01:02.241Z"
   },
   {
    "duration": 14,
    "start_time": "2022-04-06T17:01:02.273Z"
   },
   {
    "duration": 110,
    "start_time": "2022-04-06T17:01:02.289Z"
   },
   {
    "duration": 112,
    "start_time": "2022-04-06T17:02:16.066Z"
   },
   {
    "duration": 97,
    "start_time": "2022-04-06T17:02:40.727Z"
   },
   {
    "duration": 13,
    "start_time": "2022-04-06T17:09:24.430Z"
   },
   {
    "duration": 12,
    "start_time": "2022-04-06T17:09:34.953Z"
   },
   {
    "duration": 11,
    "start_time": "2022-04-06T17:09:40.243Z"
   },
   {
    "duration": 12,
    "start_time": "2022-04-06T17:09:51.463Z"
   },
   {
    "duration": 12,
    "start_time": "2022-04-06T17:09:57.139Z"
   },
   {
    "duration": 14,
    "start_time": "2022-04-06T17:13:15.557Z"
   },
   {
    "duration": 1336,
    "start_time": "2022-04-06T17:18:01.157Z"
   },
   {
    "duration": 473,
    "start_time": "2022-04-06T17:18:02.495Z"
   },
   {
    "duration": 38,
    "start_time": "2022-04-06T17:18:02.970Z"
   },
   {
    "duration": 27,
    "start_time": "2022-04-06T17:18:03.010Z"
   },
   {
    "duration": 54,
    "start_time": "2022-04-06T17:18:03.039Z"
   },
   {
    "duration": 14,
    "start_time": "2022-04-06T17:18:03.095Z"
   },
   {
    "duration": 18,
    "start_time": "2022-04-06T17:18:03.111Z"
   },
   {
    "duration": 100,
    "start_time": "2022-04-06T17:18:03.130Z"
   },
   {
    "duration": 61,
    "start_time": "2022-04-06T17:18:03.232Z"
   },
   {
    "duration": 98,
    "start_time": "2022-04-06T17:18:03.297Z"
   },
   {
    "duration": 69,
    "start_time": "2022-04-06T17:18:03.397Z"
   },
   {
    "duration": 81,
    "start_time": "2022-04-06T17:18:03.468Z"
   },
   {
    "duration": 36,
    "start_time": "2022-04-06T17:18:03.550Z"
   },
   {
    "duration": 58,
    "start_time": "2022-04-06T17:18:03.588Z"
   },
   {
    "duration": 43,
    "start_time": "2022-04-06T17:18:03.648Z"
   },
   {
    "duration": 52,
    "start_time": "2022-04-06T17:18:03.693Z"
   },
   {
    "duration": 34,
    "start_time": "2022-04-06T17:18:03.747Z"
   },
   {
    "duration": 6,
    "start_time": "2022-04-06T17:18:03.783Z"
   },
   {
    "duration": 15,
    "start_time": "2022-04-06T17:18:03.791Z"
   },
   {
    "duration": 13,
    "start_time": "2022-04-06T17:18:03.808Z"
   },
   {
    "duration": 35,
    "start_time": "2022-04-06T17:18:03.822Z"
   },
   {
    "duration": 11,
    "start_time": "2022-04-06T17:18:03.858Z"
   },
   {
    "duration": 12,
    "start_time": "2022-04-06T17:18:03.870Z"
   },
   {
    "duration": 14,
    "start_time": "2022-04-06T17:18:03.883Z"
   },
   {
    "duration": 1050,
    "start_time": "2022-04-06T17:18:03.899Z"
   },
   {
    "duration": 21,
    "start_time": "2022-04-06T17:18:04.951Z"
   },
   {
    "duration": 8,
    "start_time": "2022-04-06T17:18:04.974Z"
   },
   {
    "duration": 9,
    "start_time": "2022-04-06T17:18:04.986Z"
   },
   {
    "duration": 242,
    "start_time": "2022-04-06T17:18:04.997Z"
   },
   {
    "duration": 11,
    "start_time": "2022-04-06T17:18:05.240Z"
   },
   {
    "duration": 137,
    "start_time": "2022-04-06T17:18:05.253Z"
   },
   {
    "duration": 16,
    "start_time": "2022-04-06T17:18:05.391Z"
   },
   {
    "duration": 13,
    "start_time": "2022-04-06T17:18:05.408Z"
   },
   {
    "duration": 55,
    "start_time": "2022-04-06T17:18:05.422Z"
   },
   {
    "duration": 16,
    "start_time": "2022-04-06T17:18:05.479Z"
   },
   {
    "duration": 1367,
    "start_time": "2022-04-06T17:18:05.497Z"
   },
   {
    "duration": 256,
    "start_time": "2022-04-06T17:18:06.866Z"
   },
   {
    "duration": 276,
    "start_time": "2022-04-06T17:18:07.124Z"
   },
   {
    "duration": 223,
    "start_time": "2022-04-06T17:18:07.402Z"
   },
   {
    "duration": 11,
    "start_time": "2022-04-06T17:18:07.627Z"
   },
   {
    "duration": 25,
    "start_time": "2022-04-06T17:18:07.639Z"
   },
   {
    "duration": 121,
    "start_time": "2022-04-06T17:18:07.666Z"
   },
   {
    "duration": 1016,
    "start_time": "2022-04-06T17:18:07.789Z"
   },
   {
    "duration": 11,
    "start_time": "2022-04-06T17:18:08.807Z"
   },
   {
    "duration": 5,
    "start_time": "2022-04-06T17:18:08.820Z"
   },
   {
    "duration": 20,
    "start_time": "2022-04-06T17:18:08.827Z"
   },
   {
    "duration": 14,
    "start_time": "2022-04-06T17:18:08.863Z"
   },
   {
    "duration": 115,
    "start_time": "2022-04-06T17:18:08.878Z"
   },
   {
    "duration": 12,
    "start_time": "2022-04-06T17:18:36.698Z"
   },
   {
    "duration": 114,
    "start_time": "2022-04-06T17:18:54.357Z"
   },
   {
    "duration": 1306,
    "start_time": "2022-04-08T05:44:32.427Z"
   },
   {
    "duration": 369,
    "start_time": "2022-04-08T05:44:33.735Z"
   },
   {
    "duration": 35,
    "start_time": "2022-04-08T05:44:34.105Z"
   },
   {
    "duration": 26,
    "start_time": "2022-04-08T05:44:34.141Z"
   },
   {
    "duration": 22,
    "start_time": "2022-04-08T05:44:34.170Z"
   },
   {
    "duration": 40,
    "start_time": "2022-04-08T05:44:34.193Z"
   },
   {
    "duration": 17,
    "start_time": "2022-04-08T05:44:34.235Z"
   },
   {
    "duration": 88,
    "start_time": "2022-04-08T05:44:34.254Z"
   },
   {
    "duration": 47,
    "start_time": "2022-04-08T05:44:34.344Z"
   },
   {
    "duration": 86,
    "start_time": "2022-04-08T05:44:34.393Z"
   },
   {
    "duration": 69,
    "start_time": "2022-04-08T05:44:34.480Z"
   },
   {
    "duration": 87,
    "start_time": "2022-04-08T05:44:34.551Z"
   },
   {
    "duration": 26,
    "start_time": "2022-04-08T05:44:34.641Z"
   },
   {
    "duration": 67,
    "start_time": "2022-04-08T05:44:34.670Z"
   },
   {
    "duration": 32,
    "start_time": "2022-04-08T05:44:34.738Z"
   },
   {
    "duration": 63,
    "start_time": "2022-04-08T05:44:34.771Z"
   },
   {
    "duration": 21,
    "start_time": "2022-04-08T05:44:34.835Z"
   },
   {
    "duration": 6,
    "start_time": "2022-04-08T05:44:34.858Z"
   },
   {
    "duration": 5,
    "start_time": "2022-04-08T05:44:34.866Z"
   },
   {
    "duration": 8,
    "start_time": "2022-04-08T05:44:34.872Z"
   },
   {
    "duration": 7,
    "start_time": "2022-04-08T05:44:34.882Z"
   },
   {
    "duration": 6,
    "start_time": "2022-04-08T05:44:34.891Z"
   },
   {
    "duration": 36,
    "start_time": "2022-04-08T05:44:34.898Z"
   },
   {
    "duration": 10,
    "start_time": "2022-04-08T05:44:34.935Z"
   },
   {
    "duration": 979,
    "start_time": "2022-04-08T05:44:34.946Z"
   },
   {
    "duration": 15,
    "start_time": "2022-04-08T05:44:35.927Z"
   },
   {
    "duration": 7,
    "start_time": "2022-04-08T05:44:35.943Z"
   },
   {
    "duration": 6,
    "start_time": "2022-04-08T05:44:35.952Z"
   },
   {
    "duration": 230,
    "start_time": "2022-04-08T05:44:35.960Z"
   },
   {
    "duration": 12,
    "start_time": "2022-04-08T05:44:36.191Z"
   },
   {
    "duration": 113,
    "start_time": "2022-04-08T05:44:36.204Z"
   },
   {
    "duration": 25,
    "start_time": "2022-04-08T05:44:36.318Z"
   },
   {
    "duration": 11,
    "start_time": "2022-04-08T05:44:36.345Z"
   },
   {
    "duration": 27,
    "start_time": "2022-04-08T05:44:36.358Z"
   },
   {
    "duration": 12,
    "start_time": "2022-04-08T05:44:36.386Z"
   },
   {
    "duration": 1118,
    "start_time": "2022-04-08T05:44:36.400Z"
   },
   {
    "duration": 237,
    "start_time": "2022-04-08T05:44:37.520Z"
   },
   {
    "duration": 258,
    "start_time": "2022-04-08T05:44:37.759Z"
   },
   {
    "duration": 236,
    "start_time": "2022-04-08T05:44:38.019Z"
   },
   {
    "duration": 12,
    "start_time": "2022-04-08T05:44:38.257Z"
   },
   {
    "duration": 14,
    "start_time": "2022-04-08T05:44:38.273Z"
   },
   {
    "duration": 132,
    "start_time": "2022-04-08T05:44:38.288Z"
   },
   {
    "duration": 1057,
    "start_time": "2022-04-08T05:44:38.432Z"
   },
   {
    "duration": 12,
    "start_time": "2022-04-08T05:44:39.490Z"
   },
   {
    "duration": 3,
    "start_time": "2022-04-08T05:44:39.503Z"
   },
   {
    "duration": 38,
    "start_time": "2022-04-08T05:44:39.507Z"
   },
   {
    "duration": 13,
    "start_time": "2022-04-08T05:44:39.546Z"
   },
   {
    "duration": 113,
    "start_time": "2022-04-08T05:44:39.560Z"
   },
   {
    "duration": 98,
    "start_time": "2022-04-08T05:46:32.326Z"
   },
   {
    "duration": 12,
    "start_time": "2022-04-08T05:46:43.247Z"
   },
   {
    "duration": 13,
    "start_time": "2022-04-08T05:47:16.322Z"
   },
   {
    "duration": 264,
    "start_time": "2022-04-08T05:47:29.706Z"
   },
   {
    "duration": 1119,
    "start_time": "2022-04-08T05:48:14.510Z"
   },
   {
    "duration": 367,
    "start_time": "2022-04-08T05:48:15.632Z"
   },
   {
    "duration": 34,
    "start_time": "2022-04-08T05:48:16.001Z"
   },
   {
    "duration": 26,
    "start_time": "2022-04-08T05:48:16.037Z"
   },
   {
    "duration": 23,
    "start_time": "2022-04-08T05:48:16.065Z"
   },
   {
    "duration": 44,
    "start_time": "2022-04-08T05:48:16.090Z"
   },
   {
    "duration": 18,
    "start_time": "2022-04-08T05:48:16.136Z"
   },
   {
    "duration": 88,
    "start_time": "2022-04-08T05:48:16.155Z"
   },
   {
    "duration": 48,
    "start_time": "2022-04-08T05:48:16.244Z"
   },
   {
    "duration": 88,
    "start_time": "2022-04-08T05:48:16.295Z"
   },
   {
    "duration": 66,
    "start_time": "2022-04-08T05:48:16.385Z"
   },
   {
    "duration": 80,
    "start_time": "2022-04-08T05:48:16.453Z"
   },
   {
    "duration": 26,
    "start_time": "2022-04-08T05:48:16.535Z"
   },
   {
    "duration": 51,
    "start_time": "2022-04-08T05:48:16.563Z"
   },
   {
    "duration": 49,
    "start_time": "2022-04-08T05:48:16.615Z"
   },
   {
    "duration": 68,
    "start_time": "2022-04-08T05:48:16.666Z"
   },
   {
    "duration": 21,
    "start_time": "2022-04-08T05:48:16.735Z"
   },
   {
    "duration": 5,
    "start_time": "2022-04-08T05:48:16.758Z"
   },
   {
    "duration": 4,
    "start_time": "2022-04-08T05:48:16.765Z"
   },
   {
    "duration": 5,
    "start_time": "2022-04-08T05:48:16.770Z"
   },
   {
    "duration": 5,
    "start_time": "2022-04-08T05:48:16.777Z"
   },
   {
    "duration": 5,
    "start_time": "2022-04-08T05:48:16.784Z"
   },
   {
    "duration": 8,
    "start_time": "2022-04-08T05:48:16.790Z"
   },
   {
    "duration": 10,
    "start_time": "2022-04-08T05:48:16.833Z"
   },
   {
    "duration": 971,
    "start_time": "2022-04-08T05:48:16.845Z"
   },
   {
    "duration": 23,
    "start_time": "2022-04-08T05:48:17.817Z"
   },
   {
    "duration": 8,
    "start_time": "2022-04-08T05:48:17.842Z"
   },
   {
    "duration": 7,
    "start_time": "2022-04-08T05:48:17.853Z"
   },
   {
    "duration": 231,
    "start_time": "2022-04-08T05:48:17.861Z"
   },
   {
    "duration": 11,
    "start_time": "2022-04-08T05:48:18.094Z"
   },
   {
    "duration": 119,
    "start_time": "2022-04-08T05:48:18.107Z"
   },
   {
    "duration": 18,
    "start_time": "2022-04-08T05:48:18.227Z"
   },
   {
    "duration": 12,
    "start_time": "2022-04-08T05:48:18.247Z"
   },
   {
    "duration": 25,
    "start_time": "2022-04-08T05:48:18.260Z"
   },
   {
    "duration": 12,
    "start_time": "2022-04-08T05:48:18.287Z"
   },
   {
    "duration": 1033,
    "start_time": "2022-04-08T05:48:18.301Z"
   },
   {
    "duration": 235,
    "start_time": "2022-04-08T05:48:19.336Z"
   },
   {
    "duration": 262,
    "start_time": "2022-04-08T05:48:19.573Z"
   },
   {
    "duration": 226,
    "start_time": "2022-04-08T05:48:19.836Z"
   },
   {
    "duration": 281,
    "start_time": "2022-04-08T05:48:20.064Z"
   },
   {
    "duration": 11,
    "start_time": "2022-04-08T05:48:20.346Z"
   },
   {
    "duration": 17,
    "start_time": "2022-04-08T05:48:20.359Z"
   },
   {
    "duration": 129,
    "start_time": "2022-04-08T05:48:20.377Z"
   },
   {
    "duration": 1164,
    "start_time": "2022-04-08T05:48:20.507Z"
   },
   {
    "duration": 12,
    "start_time": "2022-04-08T05:48:21.672Z"
   },
   {
    "duration": 3,
    "start_time": "2022-04-08T05:48:21.686Z"
   },
   {
    "duration": 22,
    "start_time": "2022-04-08T05:48:21.690Z"
   },
   {
    "duration": 32,
    "start_time": "2022-04-08T05:48:21.714Z"
   },
   {
    "duration": 118,
    "start_time": "2022-04-08T05:48:21.748Z"
   },
   {
    "duration": 1259,
    "start_time": "2022-04-08T07:01:55.694Z"
   },
   {
    "duration": 396,
    "start_time": "2022-04-08T07:01:56.954Z"
   },
   {
    "duration": 33,
    "start_time": "2022-04-08T07:01:57.351Z"
   },
   {
    "duration": 23,
    "start_time": "2022-04-08T07:01:57.386Z"
   },
   {
    "duration": 20,
    "start_time": "2022-04-08T07:01:57.411Z"
   },
   {
    "duration": 12,
    "start_time": "2022-04-08T07:01:57.433Z"
   },
   {
    "duration": 39,
    "start_time": "2022-04-08T07:01:57.447Z"
   },
   {
    "duration": 66,
    "start_time": "2022-04-08T07:01:57.488Z"
   },
   {
    "duration": 53,
    "start_time": "2022-04-08T07:01:57.556Z"
   },
   {
    "duration": 79,
    "start_time": "2022-04-08T07:01:57.612Z"
   },
   {
    "duration": 55,
    "start_time": "2022-04-08T07:01:57.693Z"
   },
   {
    "duration": 79,
    "start_time": "2022-04-08T07:01:57.750Z"
   },
   {
    "duration": 26,
    "start_time": "2022-04-08T07:01:57.830Z"
   },
   {
    "duration": 60,
    "start_time": "2022-04-08T07:01:57.857Z"
   },
   {
    "duration": 29,
    "start_time": "2022-04-08T07:01:57.918Z"
   },
   {
    "duration": 62,
    "start_time": "2022-04-08T07:01:57.949Z"
   },
   {
    "duration": 18,
    "start_time": "2022-04-08T07:01:58.013Z"
   },
   {
    "duration": 5,
    "start_time": "2022-04-08T07:01:58.033Z"
   },
   {
    "duration": 6,
    "start_time": "2022-04-08T07:01:58.039Z"
   },
   {
    "duration": 7,
    "start_time": "2022-04-08T07:01:58.046Z"
   },
   {
    "duration": 5,
    "start_time": "2022-04-08T07:01:58.054Z"
   },
   {
    "duration": 22,
    "start_time": "2022-04-08T07:01:58.060Z"
   },
   {
    "duration": 5,
    "start_time": "2022-04-08T07:01:58.083Z"
   },
   {
    "duration": 10,
    "start_time": "2022-04-08T07:01:58.089Z"
   },
   {
    "duration": 939,
    "start_time": "2022-04-08T07:01:58.100Z"
   },
   {
    "duration": 13,
    "start_time": "2022-04-08T07:01:59.040Z"
   },
   {
    "duration": 6,
    "start_time": "2022-04-08T07:01:59.055Z"
   },
   {
    "duration": 18,
    "start_time": "2022-04-08T07:01:59.064Z"
   },
   {
    "duration": 221,
    "start_time": "2022-04-08T07:01:59.084Z"
   },
   {
    "duration": 10,
    "start_time": "2022-04-08T07:01:59.307Z"
   },
   {
    "duration": 114,
    "start_time": "2022-04-08T07:01:59.319Z"
   },
   {
    "duration": 15,
    "start_time": "2022-04-08T07:01:59.435Z"
   },
   {
    "duration": 11,
    "start_time": "2022-04-08T07:01:59.451Z"
   },
   {
    "duration": 38,
    "start_time": "2022-04-08T07:01:59.464Z"
   },
   {
    "duration": 12,
    "start_time": "2022-04-08T07:01:59.503Z"
   },
   {
    "duration": 1065,
    "start_time": "2022-04-08T07:01:59.516Z"
   },
   {
    "duration": 223,
    "start_time": "2022-04-08T07:02:00.582Z"
   },
   {
    "duration": 107,
    "start_time": "2022-04-08T07:02:00.807Z"
   },
   {
    "duration": 1,
    "start_time": "2022-04-08T07:02:00.915Z"
   },
   {
    "duration": 0,
    "start_time": "2022-04-08T07:02:00.917Z"
   },
   {
    "duration": 0,
    "start_time": "2022-04-08T07:02:00.918Z"
   },
   {
    "duration": 0,
    "start_time": "2022-04-08T07:02:00.919Z"
   },
   {
    "duration": 0,
    "start_time": "2022-04-08T07:02:00.920Z"
   },
   {
    "duration": 0,
    "start_time": "2022-04-08T07:02:00.920Z"
   },
   {
    "duration": 0,
    "start_time": "2022-04-08T07:02:00.922Z"
   },
   {
    "duration": 0,
    "start_time": "2022-04-08T07:02:00.922Z"
   },
   {
    "duration": 0,
    "start_time": "2022-04-08T07:02:00.923Z"
   },
   {
    "duration": 0,
    "start_time": "2022-04-08T07:02:00.924Z"
   },
   {
    "duration": 0,
    "start_time": "2022-04-08T07:02:00.925Z"
   },
   {
    "duration": 242,
    "start_time": "2022-04-08T07:02:51.673Z"
   },
   {
    "duration": 206,
    "start_time": "2022-04-08T07:02:55.652Z"
   },
   {
    "duration": 261,
    "start_time": "2022-04-08T07:03:02.045Z"
   },
   {
    "duration": 16,
    "start_time": "2022-04-08T11:07:08.167Z"
   },
   {
    "duration": 129,
    "start_time": "2022-04-08T11:07:09.217Z"
   },
   {
    "duration": 15,
    "start_time": "2022-04-08T12:53:25.132Z"
   },
   {
    "duration": 214,
    "start_time": "2022-04-08T12:53:34.044Z"
   }
  ],
  "kernelspec": {
   "display_name": "Python 3 (ipykernel)",
   "language": "python",
   "name": "python3"
  },
  "language_info": {
   "codemirror_mode": {
    "name": "ipython",
    "version": 3
   },
   "file_extension": ".py",
   "mimetype": "text/x-python",
   "name": "python",
   "nbconvert_exporter": "python",
   "pygments_lexer": "ipython3",
   "version": "3.9.5"
  },
  "toc": {
   "base_numbering": 1,
   "nav_menu": {
    "height": "12px",
    "width": "160px"
   },
   "number_sections": true,
   "sideBar": true,
   "skip_h1_title": true,
   "title_cell": "Table of Contents",
   "title_sidebar": "Contents",
   "toc_cell": false,
   "toc_position": {
    "height": "calc(100% - 180px)",
    "left": "10px",
    "top": "150px",
    "width": "270.391px"
   },
   "toc_section_display": true,
   "toc_window_display": true
  }
 },
 "nbformat": 4,
 "nbformat_minor": 2
}
