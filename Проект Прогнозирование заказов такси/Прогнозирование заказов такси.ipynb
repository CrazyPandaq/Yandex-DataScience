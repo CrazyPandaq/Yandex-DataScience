{
 "cells": [
  {
   "cell_type": "markdown",
   "metadata": {
    "toc": true
   },
   "source": [
    "<h1>Содержание<span class=\"tocSkip\"></span></h1>\n",
    "<div class=\"toc\"><ul class=\"toc-item\"><li><span><a href=\"#Подготовка\" data-toc-modified-id=\"Подготовка-1\"><span class=\"toc-item-num\">1&nbsp;&nbsp;</span>Подготовка</a></span></li><li><span><a href=\"#Анализ\" data-toc-modified-id=\"Анализ-2\"><span class=\"toc-item-num\">2&nbsp;&nbsp;</span>Анализ</a></span></li><li><span><a href=\"#Обучение\" data-toc-modified-id=\"Обучение-3\"><span class=\"toc-item-num\">3&nbsp;&nbsp;</span>Обучение</a></span><ul class=\"toc-item\"><li><span><a href=\"#Подготовка-данных\" data-toc-modified-id=\"Подготовка-данных-3.1\"><span class=\"toc-item-num\">3.1&nbsp;&nbsp;</span>Подготовка данных</a></span></li><li><span><a href=\"#LinearRegressor\" data-toc-modified-id=\"LinearRegressor-3.2\"><span class=\"toc-item-num\">3.2&nbsp;&nbsp;</span>LinearRegressor</a></span></li><li><span><a href=\"#CatBoost\" data-toc-modified-id=\"CatBoost-3.3\"><span class=\"toc-item-num\">3.3&nbsp;&nbsp;</span>CatBoost</a></span></li><li><span><a href=\"#LightGBM\" data-toc-modified-id=\"LightGBM-3.4\"><span class=\"toc-item-num\">3.4&nbsp;&nbsp;</span>LightGBM</a></span></li><li><span><a href=\"#Итог\" data-toc-modified-id=\"Итог-3.5\"><span class=\"toc-item-num\">3.5&nbsp;&nbsp;</span>Итог</a></span></li></ul></li><li><span><a href=\"#Тестирование\" data-toc-modified-id=\"Тестирование-4\"><span class=\"toc-item-num\">4&nbsp;&nbsp;</span>Тестирование</a></span></li><li><span><a href=\"#Вывод\" data-toc-modified-id=\"Вывод-5\"><span class=\"toc-item-num\">5&nbsp;&nbsp;</span>Вывод</a></span></li></ul></div>"
   ]
  },
  {
   "cell_type": "markdown",
   "metadata": {},
   "source": [
    "#  Прогнозирование заказов такси"
   ]
  },
  {
   "cell_type": "markdown",
   "metadata": {},
   "source": [
    "Компания «Чётенькое такси» собрала исторические данные о заказах такси в аэропортах. Чтобы привлекать больше водителей в период пиковой нагрузки, нужно спрогнозировать количество заказов такси на следующий час. Постройте модель для такого предсказания.\n",
    "\n",
    "Значение метрики *RMSE* на тестовой выборке должно быть не больше 48.\n",
    "\n",
    "Вам нужно:\n",
    "\n",
    "1. Загрузить данные и выполнить их ресемплирование по одному часу.\n",
    "2. Проанализировать данные.\n",
    "3. Обучить разные модели с различными гиперпараметрами. Сделать тестовую выборку размером 10% от исходных данных.\n",
    "4. Проверить данные на тестовой выборке и сделать выводы.\n",
    "\n",
    "\n",
    "Данные лежат в файле `taxi.csv`. Количество заказов находится в столбце `num_orders` (от англ. *number of orders*, «число заказов»)."
   ]
  },
  {
   "cell_type": "markdown",
   "metadata": {},
   "source": [
    "## Подготовка"
   ]
  },
  {
   "cell_type": "code",
   "execution_count": 23,
   "metadata": {},
   "outputs": [],
   "source": [
    "import pandas as pd\n",
    "import numpy as np\n",
    "import matplotlib.pyplot as plt\n",
    "import seaborn as sns\n",
    "import time\n",
    "\n",
    "from sklearn.metrics import mean_squared_error\n",
    "from sklearn.model_selection import train_test_split\n",
    "from sklearn.metrics import mean_squared_error\n",
    "\n",
    "from statsmodels.tsa.seasonal import seasonal_decompose\n",
    "\n",
    "import catboost as cb\n",
    "import xgboost as xgb\n",
    "import lightgbm as lgb\n",
    "\n",
    "from sklearn.linear_model import LinearRegression\n",
    "from catboost import CatBoostRegressor\n",
    "from lightgbm import LGBMRegressor\n",
    "\n",
    "import warnings\n",
    "warnings.filterwarnings('ignore')"
   ]
  },
  {
   "cell_type": "code",
   "execution_count": 24,
   "metadata": {},
   "outputs": [],
   "source": [
    "data = pd.read_csv(\"/datasets/taxi.csv\",index_col=[0], parse_dates=[0])"
   ]
  },
  {
   "cell_type": "code",
   "execution_count": 25,
   "metadata": {},
   "outputs": [
    {
     "name": "stdout",
     "output_type": "stream",
     "text": [
      "<class 'pandas.core.frame.DataFrame'>\n",
      "DatetimeIndex: 26496 entries, 2018-03-01 00:00:00 to 2018-08-31 23:50:00\n",
      "Data columns (total 1 columns):\n",
      " #   Column      Non-Null Count  Dtype\n",
      "---  ------      --------------  -----\n",
      " 0   num_orders  26496 non-null  int64\n",
      "dtypes: int64(1)\n",
      "memory usage: 414.0 KB\n"
     ]
    }
   ],
   "source": [
    "data.info()"
   ]
  },
  {
   "cell_type": "code",
   "execution_count": 26,
   "metadata": {},
   "outputs": [
    {
     "data": {
      "text/html": [
       "<div>\n",
       "<style scoped>\n",
       "    .dataframe tbody tr th:only-of-type {\n",
       "        vertical-align: middle;\n",
       "    }\n",
       "\n",
       "    .dataframe tbody tr th {\n",
       "        vertical-align: top;\n",
       "    }\n",
       "\n",
       "    .dataframe thead th {\n",
       "        text-align: right;\n",
       "    }\n",
       "</style>\n",
       "<table border=\"1\" class=\"dataframe\">\n",
       "  <thead>\n",
       "    <tr style=\"text-align: right;\">\n",
       "      <th></th>\n",
       "      <th>num_orders</th>\n",
       "    </tr>\n",
       "    <tr>\n",
       "      <th>datetime</th>\n",
       "      <th></th>\n",
       "    </tr>\n",
       "  </thead>\n",
       "  <tbody>\n",
       "    <tr>\n",
       "      <th>2018-03-01 00:00:00</th>\n",
       "      <td>9</td>\n",
       "    </tr>\n",
       "    <tr>\n",
       "      <th>2018-03-01 00:10:00</th>\n",
       "      <td>14</td>\n",
       "    </tr>\n",
       "    <tr>\n",
       "      <th>2018-03-01 00:20:00</th>\n",
       "      <td>28</td>\n",
       "    </tr>\n",
       "    <tr>\n",
       "      <th>2018-03-01 00:30:00</th>\n",
       "      <td>20</td>\n",
       "    </tr>\n",
       "    <tr>\n",
       "      <th>2018-03-01 00:40:00</th>\n",
       "      <td>32</td>\n",
       "    </tr>\n",
       "    <tr>\n",
       "      <th>2018-03-01 00:50:00</th>\n",
       "      <td>21</td>\n",
       "    </tr>\n",
       "    <tr>\n",
       "      <th>2018-03-01 01:00:00</th>\n",
       "      <td>7</td>\n",
       "    </tr>\n",
       "    <tr>\n",
       "      <th>2018-03-01 01:10:00</th>\n",
       "      <td>5</td>\n",
       "    </tr>\n",
       "    <tr>\n",
       "      <th>2018-03-01 01:20:00</th>\n",
       "      <td>17</td>\n",
       "    </tr>\n",
       "    <tr>\n",
       "      <th>2018-03-01 01:30:00</th>\n",
       "      <td>12</td>\n",
       "    </tr>\n",
       "  </tbody>\n",
       "</table>\n",
       "</div>"
      ],
      "text/plain": [
       "                     num_orders\n",
       "datetime                       \n",
       "2018-03-01 00:00:00           9\n",
       "2018-03-01 00:10:00          14\n",
       "2018-03-01 00:20:00          28\n",
       "2018-03-01 00:30:00          20\n",
       "2018-03-01 00:40:00          32\n",
       "2018-03-01 00:50:00          21\n",
       "2018-03-01 01:00:00           7\n",
       "2018-03-01 01:10:00           5\n",
       "2018-03-01 01:20:00          17\n",
       "2018-03-01 01:30:00          12"
      ]
     },
     "execution_count": 26,
     "metadata": {},
     "output_type": "execute_result"
    }
   ],
   "source": [
    "data.head(10)"
   ]
  },
  {
   "cell_type": "code",
   "execution_count": 27,
   "metadata": {},
   "outputs": [
    {
     "data": {
      "text/plain": [
       "True"
      ]
     },
     "execution_count": 27,
     "metadata": {},
     "output_type": "execute_result"
    }
   ],
   "source": [
    "data.sort_index(inplace=True)\n",
    "data_resample = data.resample('1H').sum()\n",
    "data_resample.index.is_monotonic"
   ]
  },
  {
   "cell_type": "code",
   "execution_count": 28,
   "metadata": {},
   "outputs": [
    {
     "data": {
      "text/html": [
       "<div>\n",
       "<style scoped>\n",
       "    .dataframe tbody tr th:only-of-type {\n",
       "        vertical-align: middle;\n",
       "    }\n",
       "\n",
       "    .dataframe tbody tr th {\n",
       "        vertical-align: top;\n",
       "    }\n",
       "\n",
       "    .dataframe thead th {\n",
       "        text-align: right;\n",
       "    }\n",
       "</style>\n",
       "<table border=\"1\" class=\"dataframe\">\n",
       "  <thead>\n",
       "    <tr style=\"text-align: right;\">\n",
       "      <th></th>\n",
       "      <th>num_orders</th>\n",
       "    </tr>\n",
       "    <tr>\n",
       "      <th>datetime</th>\n",
       "      <th></th>\n",
       "    </tr>\n",
       "  </thead>\n",
       "  <tbody>\n",
       "    <tr>\n",
       "      <th>2018-03-01 00:00:00</th>\n",
       "      <td>124</td>\n",
       "    </tr>\n",
       "    <tr>\n",
       "      <th>2018-03-01 01:00:00</th>\n",
       "      <td>85</td>\n",
       "    </tr>\n",
       "    <tr>\n",
       "      <th>2018-03-01 02:00:00</th>\n",
       "      <td>71</td>\n",
       "    </tr>\n",
       "    <tr>\n",
       "      <th>2018-03-01 03:00:00</th>\n",
       "      <td>66</td>\n",
       "    </tr>\n",
       "    <tr>\n",
       "      <th>2018-03-01 04:00:00</th>\n",
       "      <td>43</td>\n",
       "    </tr>\n",
       "  </tbody>\n",
       "</table>\n",
       "</div>"
      ],
      "text/plain": [
       "                     num_orders\n",
       "datetime                       \n",
       "2018-03-01 00:00:00         124\n",
       "2018-03-01 01:00:00          85\n",
       "2018-03-01 02:00:00          71\n",
       "2018-03-01 03:00:00          66\n",
       "2018-03-01 04:00:00          43"
      ]
     },
     "execution_count": 28,
     "metadata": {},
     "output_type": "execute_result"
    }
   ],
   "source": [
    "data_resample.head()"
   ]
  },
  {
   "cell_type": "markdown",
   "metadata": {},
   "source": [
    "Данные упорядочны"
   ]
  },
  {
   "cell_type": "code",
   "execution_count": 29,
   "metadata": {},
   "outputs": [
    {
     "name": "stdout",
     "output_type": "stream",
     "text": [
      "<class 'pandas.core.frame.DataFrame'>\n",
      "DatetimeIndex: 4416 entries, 2018-03-01 00:00:00 to 2018-08-31 23:00:00\n",
      "Freq: H\n",
      "Data columns (total 1 columns):\n",
      " #   Column      Non-Null Count  Dtype\n",
      "---  ------      --------------  -----\n",
      " 0   num_orders  4416 non-null   int64\n",
      "dtypes: int64(1)\n",
      "memory usage: 69.0 KB\n"
     ]
    }
   ],
   "source": [
    "data_resample.info()"
   ]
  },
  {
   "cell_type": "markdown",
   "metadata": {},
   "source": [
    "## Анализ"
   ]
  },
  {
   "cell_type": "markdown",
   "metadata": {},
   "source": [
    "Добавим скользящее среднее на график:"
   ]
  },
  {
   "cell_type": "code",
   "execution_count": 30,
   "metadata": {},
   "outputs": [],
   "source": [
    "data_rolling_mean = data.copy()"
   ]
  },
  {
   "cell_type": "code",
   "execution_count": 31,
   "metadata": {},
   "outputs": [],
   "source": [
    "data_rolling_mean['rolling_mean'] = data_rolling_mean.rolling(100).mean()"
   ]
  },
  {
   "cell_type": "code",
   "execution_count": 32,
   "metadata": {},
   "outputs": [],
   "source": [
    "data_resample_rolling_mean = data_resample.copy()"
   ]
  },
  {
   "cell_type": "code",
   "execution_count": 33,
   "metadata": {},
   "outputs": [],
   "source": [
    "data_resample_rolling_mean['rolling_mean'] = data_resample_rolling_mean.rolling(100).mean()"
   ]
  },
  {
   "cell_type": "markdown",
   "metadata": {},
   "source": [
    "Рассмотрим грфик с интревалом по 10 минут"
   ]
  },
  {
   "cell_type": "code",
   "execution_count": 34,
   "metadata": {},
   "outputs": [
    {
     "data": {
      "text/plain": [
       "<AxesSubplot:xlabel='datetime'>"
      ]
     },
     "execution_count": 34,
     "metadata": {},
     "output_type": "execute_result"
    },
    {
     "data": {
      "image/png": "[encoded data removed]",
      "text/plain": [
       "<Figure size 1080x720 with 1 Axes>"
      ]
     },
     "metadata": {
      "needs_background": "light"
     },
     "output_type": "display_data"
    }
   ],
   "source": [
    "data_rolling_mean.plot(figsize = (15,10), grid = True)"
   ]
  },
  {
   "cell_type": "markdown",
   "metadata": {},
   "source": [
    "Трудно сказать по графику какие-то выводы. Наблюдаются небольшие пики. Чем ближе к концу графика, тем больше виден спрос на такси.\n",
    "Скользящее среднее постоянно колеблится, но к концу видно рост"
   ]
  },
  {
   "cell_type": "markdown",
   "metadata": {},
   "source": [
    "Посмотрим на график с интервалом в 1 час"
   ]
  },
  {
   "cell_type": "code",
   "execution_count": 35,
   "metadata": {},
   "outputs": [
    {
     "data": {
      "text/plain": [
       "<AxesSubplot:xlabel='datetime'>"
      ]
     },
     "execution_count": 35,
     "metadata": {},
     "output_type": "execute_result"
    },
    {
     "data": {
      "image/png": "[encoded data removed]",
      "text/plain": [
       "<Figure size 1080x720 with 1 Axes>"
      ]
     },
     "metadata": {
      "needs_background": "light"
     },
     "output_type": "display_data"
    }
   ],
   "source": [
    "data_resample_rolling_mean.plot(figsize = (15,10), grid = True)"
   ]
  },
  {
   "cell_type": "markdown",
   "metadata": {},
   "source": [
    "Ситуация аналагична графику с 10 минутами. Но скользящая средняя более гладкая и увеличивается со временем.\n",
    "\n",
    "Рассмотрим данные более детально."
   ]
  },
  {
   "cell_type": "code",
   "execution_count": 36,
   "metadata": {},
   "outputs": [],
   "source": [
    "decomposed_data = seasonal_decompose(data_resample)"
   ]
  },
  {
   "cell_type": "code",
   "execution_count": 37,
   "metadata": {},
   "outputs": [
    {
     "data": {
      "text/plain": [
       "(<matplotlib.legend.Legend at 0x7fadff8e90a0>, None)"
      ]
     },
     "execution_count": 37,
     "metadata": {},
     "output_type": "execute_result"
    },
    {
     "data": {
      "image/png": "[encoded data removed]",
      "text/plain": [
       "<Figure size 1080x1440 with 3 Axes>"
      ]
     },
     "metadata": {
      "needs_background": "light"
     },
     "output_type": "display_data"
    }
   ],
   "source": [
    "fig , ax = plt.subplots(1,3, figsize=(15,20))\n",
    "\n",
    "#Trend\n",
    "plt.subplot(3,1,1)\n",
    "decomposed_data.trend.plot(ax=plt.gca())\n",
    "plt.title('Trend')\n",
    "plt.legend(), plt.grid()\n",
    "#Seasonality\n",
    "plt.subplot(3,1,2)\n",
    "decomposed_data.seasonal.plot(ax=plt.gca())\n",
    "plt.title('Seasonality')\n",
    "plt.legend(), plt.grid()\n",
    "#Residuals\n",
    "plt.subplot(3,1,3)\n",
    "decomposed_data.resid.plot(ax=plt.gca())\n",
    "plt.title('Residuals')\n",
    "plt.legend(), plt.grid()"
   ]
  },
  {
   "cell_type": "markdown",
   "metadata": {},
   "source": [
    "График тренда показывает возрастающую зависимость к августу.  Это обусловлено ростом отпусков у людей.\n",
    "\n",
    "График сезонности трудно читается. Рассмотрим его более детально (График по недели и день). \n",
    "\n",
    "График остатка декомпозиции особо ничего не показывает"
   ]
  },
  {
   "cell_type": "code",
   "execution_count": 38,
   "metadata": {},
   "outputs": [
    {
     "data": {
      "text/plain": [
       "<AxesSubplot:title={'center':'Сезонность заказов в течение 7 дней'}, xlabel='datetime'>"
      ]
     },
     "execution_count": 38,
     "metadata": {},
     "output_type": "execute_result"
    },
    {
     "data": {
      "image/png": "[encoded data removed]",
      "text/plain": [
       "<Figure size 1080x576 with 1 Axes>"
      ]
     },
     "metadata": {
      "needs_background": "light"
     },
     "output_type": "display_data"
    }
   ],
   "source": [
    "plt.figure(figsize=(15,8))\n",
    "plt.title(\"Сезонность заказов в течение 7 дней\")\n",
    "decomposed_data.seasonal['2018-03-01':'2018-03-07'].plot()"
   ]
  },
  {
   "cell_type": "code",
   "execution_count": 39,
   "metadata": {},
   "outputs": [
    {
     "data": {
      "text/plain": [
       "<AxesSubplot:title={'center':'Сезонность заказов в течение дня'}, xlabel='datetime'>"
      ]
     },
     "execution_count": 39,
     "metadata": {},
     "output_type": "execute_result"
    },
    {
     "data": {
      "image/png": "[encoded data removed]",
      "text/plain": [
       "<Figure size 1080x576 with 1 Axes>"
      ]
     },
     "metadata": {
      "needs_background": "light"
     },
     "output_type": "display_data"
    }
   ],
   "source": [
    "plt.figure(figsize=(15,8))\n",
    "plt.title(\"Сезонность заказов в течение дня\")\n",
    "decomposed_data.seasonal['2018-03-01':'2018-03-02'].plot()"
   ]
  },
  {
   "cell_type": "markdown",
   "metadata": {},
   "source": [
    "Из графиков видно, что наибольший пик приходится на вечер - ночь. Скорей всего это связано с тем, что люди возвращаются с работы/на работу. А ночью такси один из наиболее удобных транспортов, так как общественный транспорт не работает поздней ночью, либо имеет большой интервал."
   ]
  },
  {
   "cell_type": "markdown",
   "metadata": {},
   "source": [
    "## Обучение"
   ]
  },
  {
   "cell_type": "markdown",
   "metadata": {},
   "source": [
    "### Подготовка данных"
   ]
  },
  {
   "cell_type": "code",
   "execution_count": 2,
   "metadata": {},
   "outputs": [],
   "source": [
    "def make_features(data, max_lag, rolling_mean_size):\n",
    "    #data['year'] = data.index.year\n",
    "    data['month'] = data.index.month\n",
    "    #data['day'] = data.index.day\n",
    "    data['hour'] = data.index.hour\n",
    "    #data['weekday'] = data.index.weekday\n",
    "    \n",
    "    for lag in range(1, max_lag + 1):\n",
    "        data['lag_{}'.format(lag)] = data['num_orders'].shift(lag)\n",
    "\n",
    "    data['rolling_mean'] = data['num_orders'].shift().rolling(rolling_mean_size).mean()"
   ]
  },
  {
   "cell_type": "code",
   "execution_count": null,
   "metadata": {},
   "outputs": [],
   "source": [
    "make_features(data_resample, 20, 25)"
   ]
  },
  {
   "cell_type": "code",
   "execution_count": 42,
   "metadata": {},
   "outputs": [
    {
     "data": {
      "text/html": [
       "<div>\n",
       "<style scoped>\n",
       "    .dataframe tbody tr th:only-of-type {\n",
       "        vertical-align: middle;\n",
       "    }\n",
       "\n",
       "    .dataframe tbody tr th {\n",
       "        vertical-align: top;\n",
       "    }\n",
       "\n",
       "    .dataframe thead th {\n",
       "        text-align: right;\n",
       "    }\n",
       "</style>\n",
       "<table border=\"1\" class=\"dataframe\">\n",
       "  <thead>\n",
       "    <tr style=\"text-align: right;\">\n",
       "      <th></th>\n",
       "      <th>num_orders</th>\n",
       "      <th>month</th>\n",
       "      <th>hour</th>\n",
       "      <th>lag_1</th>\n",
       "      <th>lag_2</th>\n",
       "      <th>lag_3</th>\n",
       "      <th>lag_4</th>\n",
       "      <th>lag_5</th>\n",
       "      <th>lag_6</th>\n",
       "      <th>lag_7</th>\n",
       "      <th>...</th>\n",
       "      <th>lag_12</th>\n",
       "      <th>lag_13</th>\n",
       "      <th>lag_14</th>\n",
       "      <th>lag_15</th>\n",
       "      <th>lag_16</th>\n",
       "      <th>lag_17</th>\n",
       "      <th>lag_18</th>\n",
       "      <th>lag_19</th>\n",
       "      <th>lag_20</th>\n",
       "      <th>rolling_mean</th>\n",
       "    </tr>\n",
       "    <tr>\n",
       "      <th>datetime</th>\n",
       "      <th></th>\n",
       "      <th></th>\n",
       "      <th></th>\n",
       "      <th></th>\n",
       "      <th></th>\n",
       "      <th></th>\n",
       "      <th></th>\n",
       "      <th></th>\n",
       "      <th></th>\n",
       "      <th></th>\n",
       "      <th></th>\n",
       "      <th></th>\n",
       "      <th></th>\n",
       "      <th></th>\n",
       "      <th></th>\n",
       "      <th></th>\n",
       "      <th></th>\n",
       "      <th></th>\n",
       "      <th></th>\n",
       "      <th></th>\n",
       "      <th></th>\n",
       "    </tr>\n",
       "  </thead>\n",
       "  <tbody>\n",
       "    <tr>\n",
       "      <th>2018-03-01 00:00:00</th>\n",
       "      <td>124</td>\n",
       "      <td>3</td>\n",
       "      <td>0</td>\n",
       "      <td>NaN</td>\n",
       "      <td>NaN</td>\n",
       "      <td>NaN</td>\n",
       "      <td>NaN</td>\n",
       "      <td>NaN</td>\n",
       "      <td>NaN</td>\n",
       "      <td>NaN</td>\n",
       "      <td>...</td>\n",
       "      <td>NaN</td>\n",
       "      <td>NaN</td>\n",
       "      <td>NaN</td>\n",
       "      <td>NaN</td>\n",
       "      <td>NaN</td>\n",
       "      <td>NaN</td>\n",
       "      <td>NaN</td>\n",
       "      <td>NaN</td>\n",
       "      <td>NaN</td>\n",
       "      <td>NaN</td>\n",
       "    </tr>\n",
       "    <tr>\n",
       "      <th>2018-03-01 01:00:00</th>\n",
       "      <td>85</td>\n",
       "      <td>3</td>\n",
       "      <td>1</td>\n",
       "      <td>124.0</td>\n",
       "      <td>NaN</td>\n",
       "      <td>NaN</td>\n",
       "      <td>NaN</td>\n",
       "      <td>NaN</td>\n",
       "      <td>NaN</td>\n",
       "      <td>NaN</td>\n",
       "      <td>...</td>\n",
       "      <td>NaN</td>\n",
       "      <td>NaN</td>\n",
       "      <td>NaN</td>\n",
       "      <td>NaN</td>\n",
       "      <td>NaN</td>\n",
       "      <td>NaN</td>\n",
       "      <td>NaN</td>\n",
       "      <td>NaN</td>\n",
       "      <td>NaN</td>\n",
       "      <td>NaN</td>\n",
       "    </tr>\n",
       "    <tr>\n",
       "      <th>2018-03-01 02:00:00</th>\n",
       "      <td>71</td>\n",
       "      <td>3</td>\n",
       "      <td>2</td>\n",
       "      <td>85.0</td>\n",
       "      <td>124.0</td>\n",
       "      <td>NaN</td>\n",
       "      <td>NaN</td>\n",
       "      <td>NaN</td>\n",
       "      <td>NaN</td>\n",
       "      <td>NaN</td>\n",
       "      <td>...</td>\n",
       "      <td>NaN</td>\n",
       "      <td>NaN</td>\n",
       "      <td>NaN</td>\n",
       "      <td>NaN</td>\n",
       "      <td>NaN</td>\n",
       "      <td>NaN</td>\n",
       "      <td>NaN</td>\n",
       "      <td>NaN</td>\n",
       "      <td>NaN</td>\n",
       "      <td>NaN</td>\n",
       "    </tr>\n",
       "    <tr>\n",
       "      <th>2018-03-01 03:00:00</th>\n",
       "      <td>66</td>\n",
       "      <td>3</td>\n",
       "      <td>3</td>\n",
       "      <td>71.0</td>\n",
       "      <td>85.0</td>\n",
       "      <td>124.0</td>\n",
       "      <td>NaN</td>\n",
       "      <td>NaN</td>\n",
       "      <td>NaN</td>\n",
       "      <td>NaN</td>\n",
       "      <td>...</td>\n",
       "      <td>NaN</td>\n",
       "      <td>NaN</td>\n",
       "      <td>NaN</td>\n",
       "      <td>NaN</td>\n",
       "      <td>NaN</td>\n",
       "      <td>NaN</td>\n",
       "      <td>NaN</td>\n",
       "      <td>NaN</td>\n",
       "      <td>NaN</td>\n",
       "      <td>NaN</td>\n",
       "    </tr>\n",
       "    <tr>\n",
       "      <th>2018-03-01 04:00:00</th>\n",
       "      <td>43</td>\n",
       "      <td>3</td>\n",
       "      <td>4</td>\n",
       "      <td>66.0</td>\n",
       "      <td>71.0</td>\n",
       "      <td>85.0</td>\n",
       "      <td>124.0</td>\n",
       "      <td>NaN</td>\n",
       "      <td>NaN</td>\n",
       "      <td>NaN</td>\n",
       "      <td>...</td>\n",
       "      <td>NaN</td>\n",
       "      <td>NaN</td>\n",
       "      <td>NaN</td>\n",
       "      <td>NaN</td>\n",
       "      <td>NaN</td>\n",
       "      <td>NaN</td>\n",
       "      <td>NaN</td>\n",
       "      <td>NaN</td>\n",
       "      <td>NaN</td>\n",
       "      <td>NaN</td>\n",
       "    </tr>\n",
       "  </tbody>\n",
       "</table>\n",
       "<p>5 rows × 24 columns</p>\n",
       "</div>"
      ],
      "text/plain": [
       "                     num_orders  month  hour  lag_1  lag_2  lag_3  lag_4  \\\n",
       "datetime                                                                   \n",
       "2018-03-01 00:00:00         124      3     0    NaN    NaN    NaN    NaN   \n",
       "2018-03-01 01:00:00          85      3     1  124.0    NaN    NaN    NaN   \n",
       "2018-03-01 02:00:00          71      3     2   85.0  124.0    NaN    NaN   \n",
       "2018-03-01 03:00:00          66      3     3   71.0   85.0  124.0    NaN   \n",
       "2018-03-01 04:00:00          43      3     4   66.0   71.0   85.0  124.0   \n",
       "\n",
       "                     lag_5  lag_6  lag_7  ...  lag_12  lag_13  lag_14  lag_15  \\\n",
       "datetime                                  ...                                   \n",
       "2018-03-01 00:00:00    NaN    NaN    NaN  ...     NaN     NaN     NaN     NaN   \n",
       "2018-03-01 01:00:00    NaN    NaN    NaN  ...     NaN     NaN     NaN     NaN   \n",
       "2018-03-01 02:00:00    NaN    NaN    NaN  ...     NaN     NaN     NaN     NaN   \n",
       "2018-03-01 03:00:00    NaN    NaN    NaN  ...     NaN     NaN     NaN     NaN   \n",
       "2018-03-01 04:00:00    NaN    NaN    NaN  ...     NaN     NaN     NaN     NaN   \n",
       "\n",
       "                     lag_16  lag_17  lag_18  lag_19  lag_20  rolling_mean  \n",
       "datetime                                                                   \n",
       "2018-03-01 00:00:00     NaN     NaN     NaN     NaN     NaN           NaN  \n",
       "2018-03-01 01:00:00     NaN     NaN     NaN     NaN     NaN           NaN  \n",
       "2018-03-01 02:00:00     NaN     NaN     NaN     NaN     NaN           NaN  \n",
       "2018-03-01 03:00:00     NaN     NaN     NaN     NaN     NaN           NaN  \n",
       "2018-03-01 04:00:00     NaN     NaN     NaN     NaN     NaN           NaN  \n",
       "\n",
       "[5 rows x 24 columns]"
      ]
     },
     "execution_count": 42,
     "metadata": {},
     "output_type": "execute_result"
    }
   ],
   "source": [
    "data_resample.head()"
   ]
  },
  {
   "cell_type": "code",
   "execution_count": 71,
   "metadata": {},
   "outputs": [],
   "source": [
    "train, valid = train_test_split(data_resample, shuffle=False, test_size=0.1)\n",
    "valid, test = train_test_split(valid, shuffle=False, test_size=0.5)\n",
    "train = train.dropna()"
   ]
  },
  {
   "cell_type": "code",
   "execution_count": 77,
   "metadata": {},
   "outputs": [],
   "source": [
    "features_train = train.drop(columns=['num_orders'])\n",
    "target_train = train['num_orders']\n",
    "\n",
    "features_valid = valid.drop(columns=['num_orders'])\n",
    "target_valid = valid['num_orders']\n",
    "\n",
    "features_test = test.drop(columns=['num_orders'])\n",
    "target_test = test['num_orders']"
   ]
  },
  {
   "cell_type": "code",
   "execution_count": 78,
   "metadata": {},
   "outputs": [
    {
     "data": {
      "text/plain": [
       "(4416, 24)"
      ]
     },
     "execution_count": 78,
     "metadata": {},
     "output_type": "execute_result"
    }
   ],
   "source": [
    "data_resample.shape"
   ]
  },
  {
   "cell_type": "code",
   "execution_count": 79,
   "metadata": {},
   "outputs": [
    {
     "data": {
      "text/plain": [
       "(3949, 23)"
      ]
     },
     "execution_count": 79,
     "metadata": {},
     "output_type": "execute_result"
    }
   ],
   "source": [
    "features_train.shape"
   ]
  },
  {
   "cell_type": "code",
   "execution_count": 80,
   "metadata": {},
   "outputs": [
    {
     "data": {
      "text/plain": [
       "(442, 23)"
      ]
     },
     "execution_count": 80,
     "metadata": {},
     "output_type": "execute_result"
    }
   ],
   "source": [
    "features_valid.shape"
   ]
  },
  {
   "cell_type": "code",
   "execution_count": 81,
   "metadata": {},
   "outputs": [
    {
     "data": {
      "text/plain": [
       "(442, 23)"
      ]
     },
     "execution_count": 81,
     "metadata": {},
     "output_type": "execute_result"
    }
   ],
   "source": [
    "features_test.shape"
   ]
  },
  {
   "cell_type": "markdown",
   "metadata": {},
   "source": [
    "### LinearRegressor"
   ]
  },
  {
   "cell_type": "code",
   "execution_count": 82,
   "metadata": {},
   "outputs": [
    {
     "name": "stdout",
     "output_type": "stream",
     "text": [
      "RMSE LinearRegression: 46.49809523676478\n"
     ]
    }
   ],
   "source": [
    "model = LinearRegression()\n",
    "start_time = time.time()\n",
    "model.fit(features_train, target_train)\n",
    "time_lr_fit = time.time() - start_time\n",
    "\n",
    "predict_lr = model.predict(features_valid)\n",
    "rmse_lr = mean_squared_error(target_valid, predict_lr) ** 0.5\n",
    "time_lr = time.time() -  start_time\n",
    "\n",
    "print('RMSE LinearRegression:', rmse_lr)"
   ]
  },
  {
   "cell_type": "markdown",
   "metadata": {},
   "source": [
    "### CatBoost"
   ]
  },
  {
   "cell_type": "code",
   "execution_count": 83,
   "metadata": {},
   "outputs": [
    {
     "name": "stdout",
     "output_type": "stream",
     "text": [
      "Learning rate set to 0.089364\n",
      "0:\tlearn: 36.9993155\ttotal: 61.5ms\tremaining: 30.7s\n",
      "5:\tlearn: 31.3895114\ttotal: 85.7ms\tremaining: 7.06s\n",
      "10:\tlearn: 28.2076908\ttotal: 108ms\tremaining: 4.8s\n",
      "15:\tlearn: 26.2708545\ttotal: 139ms\tremaining: 4.21s\n",
      "20:\tlearn: 24.9236769\ttotal: 170ms\tremaining: 3.88s\n",
      "25:\tlearn: 24.0571156\ttotal: 201ms\tremaining: 3.66s\n",
      "30:\tlearn: 23.5960324\ttotal: 233ms\tremaining: 3.52s\n",
      "35:\tlearn: 23.2180922\ttotal: 254ms\tremaining: 3.28s\n",
      "40:\tlearn: 22.8465446\ttotal: 285ms\tremaining: 3.19s\n",
      "45:\tlearn: 22.5858241\ttotal: 313ms\tremaining: 3.09s\n",
      "50:\tlearn: 22.3298773\ttotal: 335ms\tremaining: 2.95s\n",
      "55:\tlearn: 22.0284583\ttotal: 360ms\tremaining: 2.85s\n",
      "60:\tlearn: 21.7884130\ttotal: 391ms\tremaining: 2.81s\n",
      "65:\tlearn: 21.5620601\ttotal: 415ms\tremaining: 2.73s\n",
      "70:\tlearn: 21.4476147\ttotal: 436ms\tremaining: 2.63s\n",
      "75:\tlearn: 21.2707656\ttotal: 464ms\tremaining: 2.59s\n",
      "80:\tlearn: 21.1027519\ttotal: 494ms\tremaining: 2.56s\n",
      "85:\tlearn: 20.8864998\ttotal: 518ms\tremaining: 2.49s\n",
      "90:\tlearn: 20.7220444\ttotal: 545ms\tremaining: 2.45s\n",
      "95:\tlearn: 20.5196471\ttotal: 575ms\tremaining: 2.42s\n",
      "100:\tlearn: 20.3398588\ttotal: 600ms\tremaining: 2.37s\n",
      "105:\tlearn: 20.1748296\ttotal: 621ms\tremaining: 2.31s\n",
      "110:\tlearn: 20.0472110\ttotal: 652ms\tremaining: 2.28s\n",
      "115:\tlearn: 19.9077103\ttotal: 680ms\tremaining: 2.25s\n",
      "120:\tlearn: 19.7610703\ttotal: 703ms\tremaining: 2.2s\n",
      "125:\tlearn: 19.5781493\ttotal: 733ms\tremaining: 2.17s\n",
      "130:\tlearn: 19.4494232\ttotal: 755ms\tremaining: 2.13s\n",
      "135:\tlearn: 19.2388145\ttotal: 785ms\tremaining: 2.1s\n",
      "140:\tlearn: 19.1110954\ttotal: 809ms\tremaining: 2.06s\n",
      "145:\tlearn: 18.9542798\ttotal: 831ms\tremaining: 2.02s\n",
      "150:\tlearn: 18.7620389\ttotal: 859ms\tremaining: 1.99s\n",
      "155:\tlearn: 18.6165160\ttotal: 881ms\tremaining: 1.94s\n",
      "160:\tlearn: 18.4280308\ttotal: 910ms\tremaining: 1.92s\n",
      "165:\tlearn: 18.2764136\ttotal: 937ms\tremaining: 1.89s\n",
      "170:\tlearn: 18.1666666\ttotal: 968ms\tremaining: 1.86s\n",
      "175:\tlearn: 18.0369695\ttotal: 999ms\tremaining: 1.84s\n",
      "180:\tlearn: 17.8764476\ttotal: 1.02s\tremaining: 1.8s\n",
      "185:\tlearn: 17.7727204\ttotal: 1.05s\tremaining: 1.77s\n",
      "190:\tlearn: 17.6668081\ttotal: 1.08s\tremaining: 1.75s\n",
      "195:\tlearn: 17.5732086\ttotal: 1.14s\tremaining: 1.77s\n",
      "200:\tlearn: 17.4682973\ttotal: 1.19s\tremaining: 1.77s\n",
      "205:\tlearn: 17.3780106\ttotal: 1.27s\tremaining: 1.81s\n",
      "210:\tlearn: 17.2285306\ttotal: 1.33s\tremaining: 1.82s\n",
      "215:\tlearn: 17.1233737\ttotal: 1.4s\tremaining: 1.84s\n",
      "220:\tlearn: 17.0151851\ttotal: 1.43s\tremaining: 1.81s\n",
      "225:\tlearn: 16.9162532\ttotal: 1.47s\tremaining: 1.78s\n",
      "230:\tlearn: 16.7727907\ttotal: 1.54s\tremaining: 1.8s\n",
      "235:\tlearn: 16.6596302\ttotal: 1.62s\tremaining: 1.81s\n",
      "240:\tlearn: 16.5353511\ttotal: 1.66s\tremaining: 1.79s\n",
      "245:\tlearn: 16.4144533\ttotal: 1.73s\tremaining: 1.79s\n",
      "250:\tlearn: 16.3382227\ttotal: 1.79s\tremaining: 1.78s\n",
      "255:\tlearn: 16.2270962\ttotal: 1.87s\tremaining: 1.79s\n",
      "260:\tlearn: 16.1397273\ttotal: 1.9s\tremaining: 1.74s\n",
      "265:\tlearn: 16.0181217\ttotal: 1.94s\tremaining: 1.71s\n",
      "270:\tlearn: 15.9443992\ttotal: 2.02s\tremaining: 1.71s\n",
      "275:\tlearn: 15.8490809\ttotal: 2.1s\tremaining: 1.71s\n",
      "280:\tlearn: 15.7384197\ttotal: 2.18s\tremaining: 1.7s\n",
      "285:\tlearn: 15.6459350\ttotal: 2.26s\tremaining: 1.69s\n",
      "290:\tlearn: 15.5654625\ttotal: 2.34s\tremaining: 1.68s\n",
      "295:\tlearn: 15.4755589\ttotal: 2.39s\tremaining: 1.65s\n",
      "300:\tlearn: 15.3698008\ttotal: 2.45s\tremaining: 1.62s\n",
      "305:\tlearn: 15.2948718\ttotal: 2.47s\tremaining: 1.57s\n",
      "310:\tlearn: 15.2388797\ttotal: 2.49s\tremaining: 1.52s\n",
      "315:\tlearn: 15.1736943\ttotal: 2.54s\tremaining: 1.48s\n",
      "320:\tlearn: 15.1034100\ttotal: 2.56s\tremaining: 1.43s\n",
      "325:\tlearn: 15.0084808\ttotal: 2.58s\tremaining: 1.38s\n",
      "330:\tlearn: 14.9250939\ttotal: 2.61s\tremaining: 1.33s\n",
      "335:\tlearn: 14.8680502\ttotal: 2.64s\tremaining: 1.29s\n",
      "340:\tlearn: 14.7943923\ttotal: 2.66s\tremaining: 1.24s\n",
      "345:\tlearn: 14.6911193\ttotal: 2.69s\tremaining: 1.2s\n",
      "350:\tlearn: 14.6063899\ttotal: 2.72s\tremaining: 1.15s\n",
      "355:\tlearn: 14.5281121\ttotal: 2.74s\tremaining: 1.11s\n",
      "360:\tlearn: 14.4603085\ttotal: 2.77s\tremaining: 1.07s\n",
      "365:\tlearn: 14.4014092\ttotal: 2.8s\tremaining: 1.02s\n",
      "370:\tlearn: 14.3107647\ttotal: 2.83s\tremaining: 985ms\n",
      "375:\tlearn: 14.2419392\ttotal: 2.86s\tremaining: 943ms\n",
      "380:\tlearn: 14.1516717\ttotal: 2.88s\tremaining: 901ms\n",
      "385:\tlearn: 14.0525954\ttotal: 2.91s\tremaining: 859ms\n",
      "390:\tlearn: 13.9797444\ttotal: 2.94s\tremaining: 819ms\n",
      "395:\tlearn: 13.9043966\ttotal: 2.96s\tremaining: 778ms\n",
      "400:\tlearn: 13.8594001\ttotal: 2.99s\tremaining: 737ms\n",
      "405:\tlearn: 13.8021475\ttotal: 3.02s\tremaining: 699ms\n",
      "410:\tlearn: 13.7233906\ttotal: 3.04s\tremaining: 660ms\n",
      "415:\tlearn: 13.6694568\ttotal: 3.08s\tremaining: 621ms\n",
      "420:\tlearn: 13.5851531\ttotal: 3.11s\tremaining: 583ms\n",
      "425:\tlearn: 13.5081173\ttotal: 3.13s\tremaining: 544ms\n",
      "430:\tlearn: 13.4350875\ttotal: 3.16s\tremaining: 506ms\n",
      "435:\tlearn: 13.3690161\ttotal: 3.19s\tremaining: 468ms\n",
      "440:\tlearn: 13.3160658\ttotal: 3.21s\tremaining: 430ms\n",
      "445:\tlearn: 13.2523552\ttotal: 3.25s\tremaining: 393ms\n",
      "450:\tlearn: 13.1940901\ttotal: 3.27s\tremaining: 356ms\n",
      "455:\tlearn: 13.1403465\ttotal: 3.3s\tremaining: 319ms\n",
      "460:\tlearn: 13.0620363\ttotal: 3.33s\tremaining: 282ms\n",
      "465:\tlearn: 13.0044492\ttotal: 3.35s\tremaining: 244ms\n",
      "470:\tlearn: 12.9265909\ttotal: 3.38s\tremaining: 208ms\n",
      "475:\tlearn: 12.8445505\ttotal: 3.41s\tremaining: 172ms\n",
      "480:\tlearn: 12.7801858\ttotal: 3.43s\tremaining: 136ms\n",
      "485:\tlearn: 12.7005265\ttotal: 3.45s\tremaining: 99.5ms\n",
      "490:\tlearn: 12.6516174\ttotal: 3.48s\tremaining: 63.8ms\n",
      "495:\tlearn: 12.5697274\ttotal: 3.5s\tremaining: 28.3ms\n",
      "499:\tlearn: 12.5042909\ttotal: 3.52s\tremaining: 0us\n",
      "RMSE CatBoostRegressor: 44.631734140820065\n",
      "Время обучения: 5.30083155632019\n",
      "Время выполнения: 5.30363392829895\n"
     ]
    }
   ],
   "source": [
    "cat_model = CatBoostRegressor(loss_function=\"RMSE\", iterations=500, random_state=12345)\n",
    "start_time = time.time()\n",
    "cat_model.fit(features_train, target_train, verbose=5)\n",
    "time_cat_fit = time.time() - start_time\n",
    "\n",
    "predict_cat = cat_model.predict(features_valid)\n",
    "score_cat = mean_squared_error(target_valid, predict_cat) ** 0.5\n",
    "time_cat = time.time() -  start_time\n",
    "\n",
    "print(\"RMSE CatBoostRegressor:\", score_cat)\n",
    "print(\"Время обучения:\",time_cat_fit)\n",
    "print(\"Время выполнения:\",time_cat)"
   ]
  },
  {
   "cell_type": "markdown",
   "metadata": {},
   "source": [
    "### LightGBM"
   ]
  },
  {
   "cell_type": "code",
   "execution_count": 84,
   "metadata": {},
   "outputs": [
    {
     "name": "stdout",
     "output_type": "stream",
     "text": [
      "RMSE LGBMRegressor: 43.94819997764709\n",
      "Время обучения: 764.1426601409912\n",
      "Время выполнения: 764.2326381206512\n"
     ]
    }
   ],
   "source": [
    "lgbm_model = LGBMRegressor(num_leaves=50, learning_rate=0.06, n_estimators=500, random_state=12345)\n",
    "start_time = time.time()\n",
    "lgbm_model.fit(features_train, target_train)\n",
    "time_lgbm_fit = time.time() - start_time\n",
    "predict_lgbm = lgbm_model.predict(features_valid)\n",
    "\n",
    "score_lgbm = mean_squared_error(target_valid, predict_lgbm) ** 0.5\n",
    "time_lgmb = time.time() -  start_time\n",
    "\n",
    "print(\"RMSE LGBMRegressor:\", score_lgbm)\n",
    "print(\"Время обучения:\",time_lgbm_fit)\n",
    "print(\"Время выполнения:\",time_lgmb)"
   ]
  },
  {
   "cell_type": "markdown",
   "metadata": {},
   "source": [
    "### Итог"
   ]
  },
  {
   "cell_type": "code",
   "execution_count": 85,
   "metadata": {},
   "outputs": [],
   "source": [
    "data_itog = pd.DataFrame({\"Model\":[\"LinearRegression\",\n",
    "                                   \"CatBoost\",\n",
    "                                  \"LightGBM\"],\n",
    "                          \"RMSE\":[rmse_lr,score_cat,score_lgbm],\n",
    "                          \"Fit_time\":[time_lr_fit,time_cat_fit,time_lgbm_fit],\n",
    "                          \"Predict_time\" :[time_lr,time_cat,time_lgmb]\n",
    "                         })"
   ]
  },
  {
   "cell_type": "code",
   "execution_count": 86,
   "metadata": {
    "scrolled": true
   },
   "outputs": [
    {
     "data": {
      "text/html": [
       "<div>\n",
       "<style scoped>\n",
       "    .dataframe tbody tr th:only-of-type {\n",
       "        vertical-align: middle;\n",
       "    }\n",
       "\n",
       "    .dataframe tbody tr th {\n",
       "        vertical-align: top;\n",
       "    }\n",
       "\n",
       "    .dataframe thead th {\n",
       "        text-align: right;\n",
       "    }\n",
       "</style>\n",
       "<table border=\"1\" class=\"dataframe\">\n",
       "  <thead>\n",
       "    <tr style=\"text-align: right;\">\n",
       "      <th></th>\n",
       "      <th>Model</th>\n",
       "      <th>RMSE</th>\n",
       "      <th>Fit_time</th>\n",
       "      <th>Predict_time</th>\n",
       "    </tr>\n",
       "  </thead>\n",
       "  <tbody>\n",
       "    <tr>\n",
       "      <th>2</th>\n",
       "      <td>LightGBM</td>\n",
       "      <td>43.948200</td>\n",
       "      <td>764.142660</td>\n",
       "      <td>764.232638</td>\n",
       "    </tr>\n",
       "    <tr>\n",
       "      <th>1</th>\n",
       "      <td>CatBoost</td>\n",
       "      <td>44.631734</td>\n",
       "      <td>5.300832</td>\n",
       "      <td>5.303634</td>\n",
       "    </tr>\n",
       "    <tr>\n",
       "      <th>0</th>\n",
       "      <td>LinearRegression</td>\n",
       "      <td>46.498095</td>\n",
       "      <td>0.005414</td>\n",
       "      <td>0.077446</td>\n",
       "    </tr>\n",
       "  </tbody>\n",
       "</table>\n",
       "</div>"
      ],
      "text/plain": [
       "              Model       RMSE    Fit_time  Predict_time\n",
       "2          LightGBM  43.948200  764.142660    764.232638\n",
       "1          CatBoost  44.631734    5.300832      5.303634\n",
       "0  LinearRegression  46.498095    0.005414      0.077446"
      ]
     },
     "execution_count": 86,
     "metadata": {},
     "output_type": "execute_result"
    }
   ],
   "source": [
    "data_itog.sort_values(by=\"RMSE\")"
   ]
  },
  {
   "cell_type": "markdown",
   "metadata": {},
   "source": [
    "Наилучший результат показала LightGBM модель с RMSE равной 43.948200, но долго всех обучалась.\n",
    "\n",
    "Наихудший результат у LinearRegression (RMSE = 46.498095)"
   ]
  },
  {
   "cell_type": "markdown",
   "metadata": {},
   "source": [
    "## Тестирование"
   ]
  },
  {
   "cell_type": "code",
   "execution_count": 94,
   "metadata": {},
   "outputs": [
    {
     "name": "stdout",
     "output_type": "stream",
     "text": [
      "RMSE LGBMRegressor: 43.94819997764709\n",
      "Время обучения: 0.028638839721679688\n",
      "Время выполнения: 0.029249191284179688\n"
     ]
    }
   ],
   "source": [
    "start_time = time.time()\n",
    "test_lgbm_predict = lgbm_model.predict(features_test)\n",
    "test_time_predict = time.time() - start_time\n",
    "score_lgbm_test = mean_squared_error(target_test, test_lgbm_predict) ** 0.5\n",
    "test_time_score = time.time() - start_time\n",
    "print(\"RMSE LGBMRegressor:\", score_lgbm_test)\n",
    "print(\"Время обучения:\",test_time_predict)\n",
    "print(\"Время выполнения:\",test_time_score)"
   ]
  },
  {
   "cell_type": "code",
   "execution_count": 95,
   "metadata": {},
   "outputs": [],
   "source": [
    "data_itog = pd.DataFrame({\"Model\":[\"LinearRegression\",\n",
    "                                   \"CatBoost\",\n",
    "                                  \"LightGBM\",\n",
    "                                  \"Test_LightGBM\"],\n",
    "                          \"RMSE\":[rmse_lr,score_cat,score_lgbm,score_lgbm_test],\n",
    "                          \"Fit_time\":[time_lr_fit,time_cat_fit,time_lgbm_fit,test_time_predict],\n",
    "                          \"Predict_time\" :[time_lr,time_cat,time_lgmb,test_time_score]\n",
    "                         })"
   ]
  },
  {
   "cell_type": "code",
   "execution_count": 96,
   "metadata": {},
   "outputs": [
    {
     "data": {
      "text/html": [
       "<div>\n",
       "<style scoped>\n",
       "    .dataframe tbody tr th:only-of-type {\n",
       "        vertical-align: middle;\n",
       "    }\n",
       "\n",
       "    .dataframe tbody tr th {\n",
       "        vertical-align: top;\n",
       "    }\n",
       "\n",
       "    .dataframe thead th {\n",
       "        text-align: right;\n",
       "    }\n",
       "</style>\n",
       "<table border=\"1\" class=\"dataframe\">\n",
       "  <thead>\n",
       "    <tr style=\"text-align: right;\">\n",
       "      <th></th>\n",
       "      <th>Model</th>\n",
       "      <th>RMSE</th>\n",
       "      <th>Fit_time</th>\n",
       "      <th>Predict_time</th>\n",
       "    </tr>\n",
       "  </thead>\n",
       "  <tbody>\n",
       "    <tr>\n",
       "      <th>0</th>\n",
       "      <td>LinearRegression</td>\n",
       "      <td>46.498095</td>\n",
       "      <td>0.005414</td>\n",
       "      <td>0.077446</td>\n",
       "    </tr>\n",
       "    <tr>\n",
       "      <th>1</th>\n",
       "      <td>CatBoost</td>\n",
       "      <td>44.631734</td>\n",
       "      <td>5.300832</td>\n",
       "      <td>5.303634</td>\n",
       "    </tr>\n",
       "    <tr>\n",
       "      <th>2</th>\n",
       "      <td>LightGBM</td>\n",
       "      <td>43.948200</td>\n",
       "      <td>764.142660</td>\n",
       "      <td>764.232638</td>\n",
       "    </tr>\n",
       "    <tr>\n",
       "      <th>3</th>\n",
       "      <td>Test_LightGBM</td>\n",
       "      <td>43.948200</td>\n",
       "      <td>0.028639</td>\n",
       "      <td>0.029249</td>\n",
       "    </tr>\n",
       "  </tbody>\n",
       "</table>\n",
       "</div>"
      ],
      "text/plain": [
       "              Model       RMSE    Fit_time  Predict_time\n",
       "0  LinearRegression  46.498095    0.005414      0.077446\n",
       "1          CatBoost  44.631734    5.300832      5.303634\n",
       "2          LightGBM  43.948200  764.142660    764.232638\n",
       "3     Test_LightGBM  43.948200    0.028639      0.029249"
      ]
     },
     "execution_count": 96,
     "metadata": {},
     "output_type": "execute_result"
    }
   ],
   "source": [
    "data_itog"
   ]
  },
  {
   "cell_type": "code",
   "execution_count": 97,
   "metadata": {},
   "outputs": [
    {
     "data": {
      "image/png": "[encoded data removed]",
      "text/plain": [
       "<Figure size 1440x720 with 1 Axes>"
      ]
     },
     "metadata": {
      "needs_background": "light"
     },
     "output_type": "display_data"
    }
   ],
   "source": [
    "plt.figure(figsize=(20, 10))\n",
    "#Нанести сначала значения таргета, а потом по его индексу значения предикта\n",
    "plt.plot(target_test, label='Test')\n",
    "plt.plot(target_test.index, test_lgbm_predict, label='Predict')\n",
    "\n",
    "plt.title('Test prediction')\n",
    "plt.legend()\n",
    "plt.grid(True)\n",
    "plt.show()"
   ]
  },
  {
   "cell_type": "markdown",
   "metadata": {},
   "source": [
    "RMSE получился ниже 48, как и требовалось в условии"
   ]
  },
  {
   "cell_type": "markdown",
   "metadata": {},
   "source": [
    "## Вывод"
   ]
  },
  {
   "cell_type": "markdown",
   "metadata": {},
   "source": [
    "1. Были загружены данные. В качестве индекса был выбран столбец с датой и отфильтрован по возрастанию. Данные были ресамплированы по часам;\n",
    "2. Полученные данные были проанализированы. График тренда показывает возрастающую зависимость к августу.  Это обусловлено ростом отпусков у людей летом. График сезонности показал, что наибольшая активность людей происходит под вечер-ночь.График остатка декомпозиции особо ничего не показывает\n",
    "3. В таблицу были добавлены новые признаки и обучены на 3х моделей : LightGBM, CatBoost, LinearRegression. Наилучший результат показала LightGBM = 3.2508264609076876, но наиболее долгое время обучения.\n",
    "4. Модель проверена на тестовой выборке. Результат получился  RMSE = 47.6, что входит в заданный предел проекта (<48)."
   ]
  }
 ],
 "metadata": {
  "ExecuteTimeLog": [
   {
    "duration": 1633,
    "start_time": "2022-07-06T13:00:46.915Z"
   },
   {
    "duration": 155,
    "start_time": "2022-07-06T13:01:33.258Z"
   },
   {
    "duration": 13,
    "start_time": "2022-07-06T13:01:37.000Z"
   },
   {
    "duration": 42,
    "start_time": "2022-07-06T13:02:16.614Z"
   },
   {
    "duration": 7,
    "start_time": "2022-07-06T13:02:17.054Z"
   },
   {
    "duration": 6,
    "start_time": "2022-07-06T13:02:29.965Z"
   },
   {
    "duration": 97,
    "start_time": "2022-07-06T13:03:59.528Z"
   },
   {
    "duration": 42,
    "start_time": "2022-07-06T13:04:00.926Z"
   },
   {
    "duration": 6,
    "start_time": "2022-07-06T13:04:01.263Z"
   },
   {
    "duration": 8,
    "start_time": "2022-07-06T13:04:02.214Z"
   },
   {
    "duration": 7,
    "start_time": "2022-07-06T13:04:10.097Z"
   },
   {
    "duration": 6,
    "start_time": "2022-07-06T13:05:09.066Z"
   },
   {
    "duration": 6,
    "start_time": "2022-07-06T13:05:09.774Z"
   },
   {
    "duration": 7,
    "start_time": "2022-07-06T13:05:25.381Z"
   },
   {
    "duration": 4,
    "start_time": "2022-07-06T13:05:37.075Z"
   },
   {
    "duration": 51,
    "start_time": "2022-07-06T13:05:37.418Z"
   },
   {
    "duration": 10,
    "start_time": "2022-07-06T13:05:38.662Z"
   },
   {
    "duration": 8,
    "start_time": "2022-07-06T13:05:47.069Z"
   },
   {
    "duration": 10,
    "start_time": "2022-07-06T13:05:47.562Z"
   },
   {
    "duration": 13,
    "start_time": "2022-07-06T13:07:42.066Z"
   },
   {
    "duration": 8,
    "start_time": "2022-07-06T13:12:53.129Z"
   },
   {
    "duration": 45,
    "start_time": "2022-07-07T11:28:01.883Z"
   },
   {
    "duration": 1604,
    "start_time": "2022-07-07T11:28:04.261Z"
   },
   {
    "duration": 152,
    "start_time": "2022-07-07T11:28:05.867Z"
   },
   {
    "duration": 11,
    "start_time": "2022-07-07T11:28:07.961Z"
   },
   {
    "duration": 78,
    "start_time": "2022-07-07T11:28:11.138Z"
   },
   {
    "duration": 10,
    "start_time": "2022-07-07T11:28:30.292Z"
   },
   {
    "duration": 7,
    "start_time": "2022-07-07T11:28:32.291Z"
   },
   {
    "duration": 11,
    "start_time": "2022-07-07T11:28:45.551Z"
   },
   {
    "duration": 1433,
    "start_time": "2022-07-07T11:30:51.036Z"
   },
   {
    "duration": 47,
    "start_time": "2022-07-07T11:30:52.471Z"
   },
   {
    "duration": 10,
    "start_time": "2022-07-07T11:30:52.520Z"
   },
   {
    "duration": 10,
    "start_time": "2022-07-07T11:30:52.531Z"
   },
   {
    "duration": 11,
    "start_time": "2022-07-07T11:30:52.543Z"
   },
   {
    "duration": 7,
    "start_time": "2022-07-07T11:30:52.555Z"
   },
   {
    "duration": 12,
    "start_time": "2022-07-07T11:30:52.563Z"
   },
   {
    "duration": 3,
    "start_time": "2022-07-07T11:31:23.035Z"
   },
   {
    "duration": 4,
    "start_time": "2022-07-07T11:31:51.154Z"
   },
   {
    "duration": 745,
    "start_time": "2022-07-07T11:34:20.582Z"
   },
   {
    "duration": 235,
    "start_time": "2022-07-07T11:34:35.187Z"
   },
   {
    "duration": 320,
    "start_time": "2022-07-07T11:43:36.001Z"
   },
   {
    "duration": 711,
    "start_time": "2022-07-07T11:43:43.830Z"
   },
   {
    "duration": 6,
    "start_time": "2022-07-07T11:48:12.338Z"
   },
   {
    "duration": 341,
    "start_time": "2022-07-07T11:48:23.665Z"
   },
   {
    "duration": 330,
    "start_time": "2022-07-07T11:48:39.284Z"
   },
   {
    "duration": 31,
    "start_time": "2022-07-07T11:49:59.980Z"
   },
   {
    "duration": 5,
    "start_time": "2022-07-07T11:50:36.979Z"
   },
   {
    "duration": 330,
    "start_time": "2022-07-07T11:50:37.472Z"
   },
   {
    "duration": 4,
    "start_time": "2022-07-07T11:50:49.266Z"
   },
   {
    "duration": 6,
    "start_time": "2022-07-07T11:52:42.187Z"
   },
   {
    "duration": 5,
    "start_time": "2022-07-07T11:52:42.496Z"
   },
   {
    "duration": 914,
    "start_time": "2022-07-07T11:52:48.036Z"
   },
   {
    "duration": 315,
    "start_time": "2022-07-07T11:52:51.538Z"
   },
   {
    "duration": 169,
    "start_time": "2022-07-07T11:54:50.154Z"
   },
   {
    "duration": 7,
    "start_time": "2022-07-07T11:55:12.500Z"
   },
   {
    "duration": 13,
    "start_time": "2022-07-07T11:55:24.036Z"
   },
   {
    "duration": 4,
    "start_time": "2022-07-07T11:55:47.887Z"
   },
   {
    "duration": 22,
    "start_time": "2022-07-07T11:55:49.781Z"
   },
   {
    "duration": 1600,
    "start_time": "2022-07-07T11:57:57.787Z"
   },
   {
    "duration": 67,
    "start_time": "2022-07-07T11:57:59.388Z"
   },
   {
    "duration": 13,
    "start_time": "2022-07-07T11:57:59.457Z"
   },
   {
    "duration": 7,
    "start_time": "2022-07-07T11:57:59.471Z"
   },
   {
    "duration": 12,
    "start_time": "2022-07-07T11:57:59.480Z"
   },
   {
    "duration": 19,
    "start_time": "2022-07-07T11:57:59.494Z"
   },
   {
    "duration": 12,
    "start_time": "2022-07-07T11:57:59.514Z"
   },
   {
    "duration": 12,
    "start_time": "2022-07-07T11:57:59.528Z"
   },
   {
    "duration": 8,
    "start_time": "2022-07-07T11:57:59.542Z"
   },
   {
    "duration": 5,
    "start_time": "2022-07-07T11:57:59.552Z"
   },
   {
    "duration": 1018,
    "start_time": "2022-07-07T11:57:59.559Z"
   },
   {
    "duration": 349,
    "start_time": "2022-07-07T11:58:00.579Z"
   },
   {
    "duration": 7,
    "start_time": "2022-07-07T11:58:00.930Z"
   },
   {
    "duration": 28,
    "start_time": "2022-07-07T11:58:00.940Z"
   },
   {
    "duration": 155,
    "start_time": "2022-07-07T11:58:00.971Z"
   },
   {
    "duration": 52,
    "start_time": "2022-07-07T11:59:07.660Z"
   },
   {
    "duration": 16,
    "start_time": "2022-07-07T11:59:18.001Z"
   },
   {
    "duration": 4,
    "start_time": "2022-07-07T11:59:57.516Z"
   },
   {
    "duration": 1624,
    "start_time": "2022-07-07T12:00:05.236Z"
   },
   {
    "duration": 47,
    "start_time": "2022-07-07T12:00:06.862Z"
   },
   {
    "duration": 15,
    "start_time": "2022-07-07T12:00:06.911Z"
   },
   {
    "duration": 6,
    "start_time": "2022-07-07T12:00:06.928Z"
   },
   {
    "duration": 9,
    "start_time": "2022-07-07T12:00:06.937Z"
   },
   {
    "duration": 11,
    "start_time": "2022-07-07T12:00:06.948Z"
   },
   {
    "duration": 7,
    "start_time": "2022-07-07T12:00:06.961Z"
   },
   {
    "duration": 11,
    "start_time": "2022-07-07T12:00:07.004Z"
   },
   {
    "duration": 10,
    "start_time": "2022-07-07T12:00:07.017Z"
   },
   {
    "duration": 7,
    "start_time": "2022-07-07T12:00:07.028Z"
   },
   {
    "duration": 968,
    "start_time": "2022-07-07T12:00:07.037Z"
   },
   {
    "duration": 332,
    "start_time": "2022-07-07T12:00:08.007Z"
   },
   {
    "duration": 6,
    "start_time": "2022-07-07T12:00:08.341Z"
   },
   {
    "duration": 9,
    "start_time": "2022-07-07T12:00:08.349Z"
   },
   {
    "duration": 140,
    "start_time": "2022-07-07T12:00:08.360Z"
   },
   {
    "duration": 0,
    "start_time": "2022-07-07T12:00:08.501Z"
   },
   {
    "duration": 0,
    "start_time": "2022-07-07T12:00:08.504Z"
   },
   {
    "duration": 50,
    "start_time": "2022-07-07T12:00:20.334Z"
   },
   {
    "duration": 15,
    "start_time": "2022-07-07T12:00:20.391Z"
   },
   {
    "duration": 9,
    "start_time": "2022-07-07T12:01:06.865Z"
   },
   {
    "duration": 12,
    "start_time": "2022-07-07T12:01:07.542Z"
   },
   {
    "duration": 11,
    "start_time": "2022-07-07T12:01:47.997Z"
   },
   {
    "duration": 9,
    "start_time": "2022-07-07T12:01:53.164Z"
   },
   {
    "duration": 11,
    "start_time": "2022-07-07T12:01:53.650Z"
   },
   {
    "duration": 20,
    "start_time": "2022-07-07T12:02:10.445Z"
   },
   {
    "duration": 12,
    "start_time": "2022-07-07T12:02:10.842Z"
   },
   {
    "duration": 15,
    "start_time": "2022-07-07T12:02:17.254Z"
   },
   {
    "duration": 11,
    "start_time": "2022-07-07T12:02:17.773Z"
   },
   {
    "duration": 14,
    "start_time": "2022-07-07T12:04:16.541Z"
   },
   {
    "duration": 10,
    "start_time": "2022-07-07T12:04:20.582Z"
   },
   {
    "duration": 3,
    "start_time": "2022-07-07T12:04:49.540Z"
   },
   {
    "duration": 3,
    "start_time": "2022-07-07T12:04:56.760Z"
   },
   {
    "duration": 6,
    "start_time": "2022-07-07T12:04:57.148Z"
   },
   {
    "duration": 4,
    "start_time": "2022-07-07T12:05:26.529Z"
   },
   {
    "duration": 3,
    "start_time": "2022-07-07T12:05:32.548Z"
   },
   {
    "duration": 5,
    "start_time": "2022-07-07T12:05:32.800Z"
   },
   {
    "duration": 871,
    "start_time": "2022-07-07T12:05:39.096Z"
   },
   {
    "duration": 310,
    "start_time": "2022-07-07T12:05:45.041Z"
   },
   {
    "duration": 32,
    "start_time": "2022-07-07T12:06:02.403Z"
   },
   {
    "duration": 1548,
    "start_time": "2022-07-07T12:06:09.073Z"
   },
   {
    "duration": 48,
    "start_time": "2022-07-07T12:06:10.623Z"
   },
   {
    "duration": 10,
    "start_time": "2022-07-07T12:06:10.672Z"
   },
   {
    "duration": 5,
    "start_time": "2022-07-07T12:06:10.684Z"
   },
   {
    "duration": 9,
    "start_time": "2022-07-07T12:06:10.691Z"
   },
   {
    "duration": 11,
    "start_time": "2022-07-07T12:06:10.702Z"
   },
   {
    "duration": 6,
    "start_time": "2022-07-07T12:06:10.715Z"
   },
   {
    "duration": 14,
    "start_time": "2022-07-07T12:06:10.723Z"
   },
   {
    "duration": 7,
    "start_time": "2022-07-07T12:06:10.739Z"
   },
   {
    "duration": 8,
    "start_time": "2022-07-07T12:06:10.748Z"
   },
   {
    "duration": 4,
    "start_time": "2022-07-07T12:06:10.757Z"
   },
   {
    "duration": 7,
    "start_time": "2022-07-07T12:06:10.762Z"
   },
   {
    "duration": 950,
    "start_time": "2022-07-07T12:06:10.771Z"
   },
   {
    "duration": 301,
    "start_time": "2022-07-07T12:06:11.723Z"
   },
   {
    "duration": 7,
    "start_time": "2022-07-07T12:06:12.026Z"
   },
   {
    "duration": 890,
    "start_time": "2022-07-07T12:12:11.276Z"
   },
   {
    "duration": 860,
    "start_time": "2022-07-07T12:12:18.883Z"
   },
   {
    "duration": 610,
    "start_time": "2022-07-07T12:12:24.242Z"
   },
   {
    "duration": 1069,
    "start_time": "2022-07-07T12:12:28.440Z"
   },
   {
    "duration": 331,
    "start_time": "2022-07-07T12:13:17.969Z"
   },
   {
    "duration": 750,
    "start_time": "2022-07-07T12:13:30.426Z"
   },
   {
    "duration": 906,
    "start_time": "2022-07-07T12:16:14.936Z"
   },
   {
    "duration": 869,
    "start_time": "2022-07-07T12:16:35.761Z"
   },
   {
    "duration": 78,
    "start_time": "2022-07-07T12:19:15.538Z"
   },
   {
    "duration": 305,
    "start_time": "2022-07-07T12:19:20.138Z"
   },
   {
    "duration": 257,
    "start_time": "2022-07-07T12:19:30.334Z"
   },
   {
    "duration": 271,
    "start_time": "2022-07-07T12:19:35.354Z"
   },
   {
    "duration": 201,
    "start_time": "2022-07-07T12:19:40.246Z"
   },
   {
    "duration": 217,
    "start_time": "2022-07-07T12:19:59.993Z"
   },
   {
    "duration": 206,
    "start_time": "2022-07-07T12:21:23.935Z"
   },
   {
    "duration": 178,
    "start_time": "2022-07-07T12:21:32.269Z"
   },
   {
    "duration": 198,
    "start_time": "2022-07-07T12:21:37.886Z"
   },
   {
    "duration": 194,
    "start_time": "2022-07-07T12:21:49.428Z"
   },
   {
    "duration": 199,
    "start_time": "2022-07-07T12:21:54.284Z"
   },
   {
    "duration": 5,
    "start_time": "2022-07-07T12:36:44.245Z"
   },
   {
    "duration": 10,
    "start_time": "2022-07-07T12:38:36.072Z"
   },
   {
    "duration": 14,
    "start_time": "2022-07-07T12:38:44.881Z"
   },
   {
    "duration": 8,
    "start_time": "2022-07-07T12:41:18.938Z"
   },
   {
    "duration": 6,
    "start_time": "2022-07-07T12:41:36.158Z"
   },
   {
    "duration": 90,
    "start_time": "2022-07-07T12:44:55.714Z"
   },
   {
    "duration": 11,
    "start_time": "2022-07-07T12:46:56.266Z"
   },
   {
    "duration": 1631,
    "start_time": "2022-07-07T12:48:13.024Z"
   },
   {
    "duration": 1706,
    "start_time": "2022-07-07T12:48:23.938Z"
   },
   {
    "duration": 2704,
    "start_time": "2022-07-07T12:51:57.197Z"
   },
   {
    "duration": 1606,
    "start_time": "2022-07-07T12:52:40.029Z"
   },
   {
    "duration": 20761,
    "start_time": "2022-07-07T12:52:50.780Z"
   },
   {
    "duration": 1585,
    "start_time": "2022-07-07T12:53:29.079Z"
   },
   {
    "duration": 5389,
    "start_time": "2022-07-07T12:58:25.830Z"
   },
   {
    "duration": 4529,
    "start_time": "2022-07-07T12:58:52.476Z"
   },
   {
    "duration": 13,
    "start_time": "2022-07-07T13:33:43.980Z"
   },
   {
    "duration": 28,
    "start_time": "2022-07-07T13:34:49.475Z"
   },
   {
    "duration": 6275,
    "start_time": "2022-07-07T13:35:14.846Z"
   },
   {
    "duration": 6155,
    "start_time": "2022-07-07T13:36:39.275Z"
   },
   {
    "duration": 8046,
    "start_time": "2022-07-07T13:36:52.070Z"
   },
   {
    "duration": 6251,
    "start_time": "2022-07-07T13:37:12.867Z"
   },
   {
    "duration": 4294,
    "start_time": "2022-07-07T13:37:53.730Z"
   },
   {
    "duration": 5495,
    "start_time": "2022-07-07T13:38:02.013Z"
   },
   {
    "duration": 15739,
    "start_time": "2022-07-07T13:38:14.269Z"
   },
   {
    "duration": 10958,
    "start_time": "2022-07-07T13:38:43.556Z"
   },
   {
    "duration": 6356,
    "start_time": "2022-07-07T13:38:59.361Z"
   },
   {
    "duration": 5904,
    "start_time": "2022-07-07T13:40:13.704Z"
   },
   {
    "duration": 2551,
    "start_time": "2022-07-07T13:40:37.548Z"
   },
   {
    "duration": 1673,
    "start_time": "2022-07-07T13:41:11.805Z"
   },
   {
    "duration": 49,
    "start_time": "2022-07-07T13:41:13.480Z"
   },
   {
    "duration": 13,
    "start_time": "2022-07-07T13:41:13.531Z"
   },
   {
    "duration": 5,
    "start_time": "2022-07-07T13:41:13.547Z"
   },
   {
    "duration": 12,
    "start_time": "2022-07-07T13:41:13.554Z"
   },
   {
    "duration": 10,
    "start_time": "2022-07-07T13:41:13.568Z"
   },
   {
    "duration": 29,
    "start_time": "2022-07-07T13:41:13.580Z"
   },
   {
    "duration": 13,
    "start_time": "2022-07-07T13:41:13.611Z"
   },
   {
    "duration": 5,
    "start_time": "2022-07-07T13:41:13.626Z"
   },
   {
    "duration": 18,
    "start_time": "2022-07-07T13:41:13.634Z"
   },
   {
    "duration": 5,
    "start_time": "2022-07-07T13:41:13.654Z"
   },
   {
    "duration": 7,
    "start_time": "2022-07-07T13:41:13.661Z"
   },
   {
    "duration": 1004,
    "start_time": "2022-07-07T13:41:13.669Z"
   },
   {
    "duration": 336,
    "start_time": "2022-07-07T13:41:14.675Z"
   },
   {
    "duration": 9,
    "start_time": "2022-07-07T13:41:15.013Z"
   },
   {
    "duration": 1043,
    "start_time": "2022-07-07T13:41:15.024Z"
   },
   {
    "duration": 257,
    "start_time": "2022-07-07T13:41:16.068Z"
   },
   {
    "duration": 221,
    "start_time": "2022-07-07T13:41:16.327Z"
   },
   {
    "duration": 5,
    "start_time": "2022-07-07T13:41:16.549Z"
   },
   {
    "duration": 18,
    "start_time": "2022-07-07T13:41:16.556Z"
   },
   {
    "duration": 35,
    "start_time": "2022-07-07T13:41:16.576Z"
   },
   {
    "duration": 25,
    "start_time": "2022-07-07T13:41:16.613Z"
   },
   {
    "duration": 9,
    "start_time": "2022-07-07T13:41:16.640Z"
   },
   {
    "duration": 54,
    "start_time": "2022-07-07T13:41:16.650Z"
   },
   {
    "duration": 1914,
    "start_time": "2022-07-07T13:41:16.707Z"
   },
   {
    "duration": 198843,
    "start_time": "2022-07-07T13:41:18.623Z"
   },
   {
    "duration": 0,
    "start_time": "2022-07-07T13:44:37.468Z"
   },
   {
    "duration": 0,
    "start_time": "2022-07-07T13:44:37.469Z"
   },
   {
    "duration": 6225,
    "start_time": "2022-07-07T13:46:59.895Z"
   },
   {
    "duration": 1682,
    "start_time": "2022-07-07T13:50:02.346Z"
   },
   {
    "duration": 50,
    "start_time": "2022-07-07T13:50:04.031Z"
   },
   {
    "duration": 11,
    "start_time": "2022-07-07T13:50:04.083Z"
   },
   {
    "duration": 5,
    "start_time": "2022-07-07T13:50:04.096Z"
   },
   {
    "duration": 12,
    "start_time": "2022-07-07T13:50:04.103Z"
   },
   {
    "duration": 12,
    "start_time": "2022-07-07T13:50:04.116Z"
   },
   {
    "duration": 7,
    "start_time": "2022-07-07T13:50:04.130Z"
   },
   {
    "duration": 21,
    "start_time": "2022-07-07T13:50:04.140Z"
   },
   {
    "duration": 10,
    "start_time": "2022-07-07T13:50:04.163Z"
   },
   {
    "duration": 9,
    "start_time": "2022-07-07T13:50:04.175Z"
   },
   {
    "duration": 3,
    "start_time": "2022-07-07T13:50:04.205Z"
   },
   {
    "duration": 8,
    "start_time": "2022-07-07T13:50:04.209Z"
   },
   {
    "duration": 990,
    "start_time": "2022-07-07T13:50:04.219Z"
   },
   {
    "duration": 348,
    "start_time": "2022-07-07T13:50:05.213Z"
   },
   {
    "duration": 8,
    "start_time": "2022-07-07T13:50:05.562Z"
   },
   {
    "duration": 972,
    "start_time": "2022-07-07T13:50:05.572Z"
   },
   {
    "duration": 260,
    "start_time": "2022-07-07T13:50:06.546Z"
   },
   {
    "duration": 210,
    "start_time": "2022-07-07T13:50:06.808Z"
   },
   {
    "duration": 4,
    "start_time": "2022-07-07T13:50:07.020Z"
   },
   {
    "duration": 15,
    "start_time": "2022-07-07T13:50:07.026Z"
   },
   {
    "duration": 14,
    "start_time": "2022-07-07T13:50:07.043Z"
   },
   {
    "duration": 11,
    "start_time": "2022-07-07T13:50:07.058Z"
   },
   {
    "duration": 4,
    "start_time": "2022-07-07T13:50:07.071Z"
   },
   {
    "duration": 127,
    "start_time": "2022-07-07T13:50:07.077Z"
   },
   {
    "duration": 1865,
    "start_time": "2022-07-07T13:50:07.207Z"
   },
   {
    "duration": 6850,
    "start_time": "2022-07-07T13:50:09.074Z"
   },
   {
    "duration": 92,
    "start_time": "2022-07-07T13:50:15.925Z"
   },
   {
    "duration": 6,
    "start_time": "2022-07-07T13:50:16.019Z"
   },
   {
    "duration": 1471,
    "start_time": "2022-07-07T13:50:39.426Z"
   },
   {
    "duration": 48,
    "start_time": "2022-07-07T13:50:40.899Z"
   },
   {
    "duration": 13,
    "start_time": "2022-07-07T13:50:40.948Z"
   },
   {
    "duration": 6,
    "start_time": "2022-07-07T13:50:40.963Z"
   },
   {
    "duration": 12,
    "start_time": "2022-07-07T13:50:40.970Z"
   },
   {
    "duration": 11,
    "start_time": "2022-07-07T13:50:40.984Z"
   },
   {
    "duration": 11,
    "start_time": "2022-07-07T13:50:40.997Z"
   },
   {
    "duration": 13,
    "start_time": "2022-07-07T13:50:41.009Z"
   },
   {
    "duration": 5,
    "start_time": "2022-07-07T13:50:41.024Z"
   },
   {
    "duration": 9,
    "start_time": "2022-07-07T13:50:41.031Z"
   },
   {
    "duration": 3,
    "start_time": "2022-07-07T13:50:41.041Z"
   },
   {
    "duration": 8,
    "start_time": "2022-07-07T13:50:41.046Z"
   },
   {
    "duration": 938,
    "start_time": "2022-07-07T13:50:41.055Z"
   },
   {
    "duration": 328,
    "start_time": "2022-07-07T13:50:41.997Z"
   },
   {
    "duration": 8,
    "start_time": "2022-07-07T13:50:42.328Z"
   },
   {
    "duration": 948,
    "start_time": "2022-07-07T13:50:42.337Z"
   },
   {
    "duration": 199,
    "start_time": "2022-07-07T13:50:43.287Z"
   },
   {
    "duration": 194,
    "start_time": "2022-07-07T13:50:43.488Z"
   },
   {
    "duration": 3,
    "start_time": "2022-07-07T13:50:43.684Z"
   },
   {
    "duration": 31,
    "start_time": "2022-07-07T13:50:43.689Z"
   },
   {
    "duration": 16,
    "start_time": "2022-07-07T13:50:43.722Z"
   },
   {
    "duration": 9,
    "start_time": "2022-07-07T13:50:43.739Z"
   },
   {
    "duration": 5,
    "start_time": "2022-07-07T13:50:43.749Z"
   },
   {
    "duration": 57,
    "start_time": "2022-07-07T13:50:43.756Z"
   },
   {
    "duration": 1941,
    "start_time": "2022-07-07T13:50:43.904Z"
   },
   {
    "duration": 26159,
    "start_time": "2022-07-07T13:50:45.847Z"
   },
   {
    "duration": 17,
    "start_time": "2022-07-07T13:51:12.008Z"
   },
   {
    "duration": 6,
    "start_time": "2022-07-07T13:51:12.105Z"
   },
   {
    "duration": 1584,
    "start_time": "2022-07-07T13:51:33.008Z"
   },
   {
    "duration": 60,
    "start_time": "2022-07-07T13:51:34.594Z"
   },
   {
    "duration": 10,
    "start_time": "2022-07-07T13:51:34.656Z"
   },
   {
    "duration": 6,
    "start_time": "2022-07-07T13:51:34.668Z"
   },
   {
    "duration": 9,
    "start_time": "2022-07-07T13:51:34.676Z"
   },
   {
    "duration": 11,
    "start_time": "2022-07-07T13:51:34.687Z"
   },
   {
    "duration": 6,
    "start_time": "2022-07-07T13:51:34.704Z"
   },
   {
    "duration": 11,
    "start_time": "2022-07-07T13:51:34.711Z"
   },
   {
    "duration": 6,
    "start_time": "2022-07-07T13:51:34.723Z"
   },
   {
    "duration": 8,
    "start_time": "2022-07-07T13:51:34.730Z"
   },
   {
    "duration": 3,
    "start_time": "2022-07-07T13:51:34.740Z"
   },
   {
    "duration": 12,
    "start_time": "2022-07-07T13:51:34.745Z"
   },
   {
    "duration": 1011,
    "start_time": "2022-07-07T13:51:34.758Z"
   },
   {
    "duration": 318,
    "start_time": "2022-07-07T13:51:35.772Z"
   },
   {
    "duration": 18,
    "start_time": "2022-07-07T13:51:36.092Z"
   },
   {
    "duration": 1141,
    "start_time": "2022-07-07T13:51:36.112Z"
   },
   {
    "duration": 232,
    "start_time": "2022-07-07T13:51:37.255Z"
   },
   {
    "duration": 228,
    "start_time": "2022-07-07T13:51:37.489Z"
   },
   {
    "duration": 5,
    "start_time": "2022-07-07T13:51:37.720Z"
   },
   {
    "duration": 47,
    "start_time": "2022-07-07T13:51:37.727Z"
   },
   {
    "duration": 25,
    "start_time": "2022-07-07T13:51:37.776Z"
   },
   {
    "duration": 21,
    "start_time": "2022-07-07T13:51:37.803Z"
   },
   {
    "duration": 17,
    "start_time": "2022-07-07T13:51:37.826Z"
   },
   {
    "duration": 159,
    "start_time": "2022-07-07T13:51:37.845Z"
   },
   {
    "duration": 2388,
    "start_time": "2022-07-07T13:51:38.006Z"
   },
   {
    "duration": 31324,
    "start_time": "2022-07-07T13:51:40.395Z"
   },
   {
    "duration": 87,
    "start_time": "2022-07-07T13:52:11.721Z"
   },
   {
    "duration": 14,
    "start_time": "2022-07-07T13:52:11.810Z"
   },
   {
    "duration": 3822,
    "start_time": "2022-07-07T13:52:29.513Z"
   },
   {
    "duration": 7,
    "start_time": "2022-07-07T13:52:44.221Z"
   },
   {
    "duration": 2452,
    "start_time": "2022-07-07T13:52:50.761Z"
   },
   {
    "duration": 5,
    "start_time": "2022-07-07T13:52:59.258Z"
   },
   {
    "duration": 7,
    "start_time": "2022-07-07T13:58:18.458Z"
   },
   {
    "duration": 1578,
    "start_time": "2022-07-07T13:58:36.702Z"
   },
   {
    "duration": 52,
    "start_time": "2022-07-07T13:58:38.281Z"
   },
   {
    "duration": 11,
    "start_time": "2022-07-07T13:58:38.335Z"
   },
   {
    "duration": 5,
    "start_time": "2022-07-07T13:58:38.348Z"
   },
   {
    "duration": 15,
    "start_time": "2022-07-07T13:58:38.354Z"
   },
   {
    "duration": 10,
    "start_time": "2022-07-07T13:58:38.370Z"
   },
   {
    "duration": 22,
    "start_time": "2022-07-07T13:58:38.382Z"
   },
   {
    "duration": 10,
    "start_time": "2022-07-07T13:58:38.406Z"
   },
   {
    "duration": 8,
    "start_time": "2022-07-07T13:58:38.417Z"
   },
   {
    "duration": 9,
    "start_time": "2022-07-07T13:58:38.428Z"
   },
   {
    "duration": 3,
    "start_time": "2022-07-07T13:58:38.439Z"
   },
   {
    "duration": 9,
    "start_time": "2022-07-07T13:58:38.443Z"
   },
   {
    "duration": 1035,
    "start_time": "2022-07-07T13:58:38.454Z"
   },
   {
    "duration": 309,
    "start_time": "2022-07-07T13:58:39.491Z"
   },
   {
    "duration": 8,
    "start_time": "2022-07-07T13:58:39.801Z"
   },
   {
    "duration": 945,
    "start_time": "2022-07-07T13:58:39.810Z"
   },
   {
    "duration": 190,
    "start_time": "2022-07-07T13:58:40.757Z"
   },
   {
    "duration": 196,
    "start_time": "2022-07-07T13:58:40.949Z"
   },
   {
    "duration": 4,
    "start_time": "2022-07-07T13:58:41.146Z"
   },
   {
    "duration": 26,
    "start_time": "2022-07-07T13:58:41.152Z"
   },
   {
    "duration": 29,
    "start_time": "2022-07-07T13:58:41.179Z"
   },
   {
    "duration": 8,
    "start_time": "2022-07-07T13:58:41.209Z"
   },
   {
    "duration": 4,
    "start_time": "2022-07-07T13:58:41.219Z"
   },
   {
    "duration": 83,
    "start_time": "2022-07-07T13:58:41.225Z"
   },
   {
    "duration": 3376,
    "start_time": "2022-07-07T13:58:41.311Z"
   },
   {
    "duration": 7917,
    "start_time": "2022-07-07T13:58:44.688Z"
   },
   {
    "duration": 12,
    "start_time": "2022-07-07T13:58:52.607Z"
   },
   {
    "duration": 8,
    "start_time": "2022-07-07T13:58:52.622Z"
   },
   {
    "duration": 76,
    "start_time": "2022-07-07T13:58:52.632Z"
   },
   {
    "duration": 1501,
    "start_time": "2022-07-07T13:59:32.771Z"
   },
   {
    "duration": 48,
    "start_time": "2022-07-07T13:59:34.274Z"
   },
   {
    "duration": 10,
    "start_time": "2022-07-07T13:59:34.324Z"
   },
   {
    "duration": 8,
    "start_time": "2022-07-07T13:59:34.336Z"
   },
   {
    "duration": 12,
    "start_time": "2022-07-07T13:59:34.346Z"
   },
   {
    "duration": 13,
    "start_time": "2022-07-07T13:59:34.359Z"
   },
   {
    "duration": 6,
    "start_time": "2022-07-07T13:59:34.374Z"
   },
   {
    "duration": 12,
    "start_time": "2022-07-07T13:59:34.404Z"
   },
   {
    "duration": 4,
    "start_time": "2022-07-07T13:59:34.417Z"
   },
   {
    "duration": 14,
    "start_time": "2022-07-07T13:59:34.423Z"
   },
   {
    "duration": 6,
    "start_time": "2022-07-07T13:59:34.439Z"
   },
   {
    "duration": 10,
    "start_time": "2022-07-07T13:59:34.447Z"
   },
   {
    "duration": 938,
    "start_time": "2022-07-07T13:59:34.459Z"
   },
   {
    "duration": 305,
    "start_time": "2022-07-07T13:59:35.401Z"
   },
   {
    "duration": 7,
    "start_time": "2022-07-07T13:59:35.708Z"
   },
   {
    "duration": 948,
    "start_time": "2022-07-07T13:59:35.716Z"
   },
   {
    "duration": 221,
    "start_time": "2022-07-07T13:59:36.666Z"
   },
   {
    "duration": 197,
    "start_time": "2022-07-07T13:59:36.889Z"
   },
   {
    "duration": 5,
    "start_time": "2022-07-07T13:59:37.088Z"
   },
   {
    "duration": 28,
    "start_time": "2022-07-07T13:59:37.094Z"
   },
   {
    "duration": 18,
    "start_time": "2022-07-07T13:59:37.124Z"
   },
   {
    "duration": 13,
    "start_time": "2022-07-07T13:59:37.144Z"
   },
   {
    "duration": 17,
    "start_time": "2022-07-07T13:59:37.158Z"
   },
   {
    "duration": 228,
    "start_time": "2022-07-07T13:59:37.176Z"
   },
   {
    "duration": 2291,
    "start_time": "2022-07-07T13:59:37.406Z"
   },
   {
    "duration": 6721,
    "start_time": "2022-07-07T13:59:39.698Z"
   },
   {
    "duration": 89,
    "start_time": "2022-07-07T13:59:46.420Z"
   },
   {
    "duration": 9,
    "start_time": "2022-07-07T13:59:46.510Z"
   },
   {
    "duration": 12,
    "start_time": "2022-07-07T13:59:46.521Z"
   },
   {
    "duration": 12,
    "start_time": "2022-07-07T13:59:58.966Z"
   },
   {
    "duration": 1539,
    "start_time": "2022-07-07T14:00:05.670Z"
   },
   {
    "duration": 51,
    "start_time": "2022-07-07T14:00:07.210Z"
   },
   {
    "duration": 10,
    "start_time": "2022-07-07T14:00:07.262Z"
   },
   {
    "duration": 4,
    "start_time": "2022-07-07T14:00:07.275Z"
   },
   {
    "duration": 11,
    "start_time": "2022-07-07T14:00:07.281Z"
   },
   {
    "duration": 11,
    "start_time": "2022-07-07T14:00:07.293Z"
   },
   {
    "duration": 7,
    "start_time": "2022-07-07T14:00:07.305Z"
   },
   {
    "duration": 23,
    "start_time": "2022-07-07T14:00:07.314Z"
   },
   {
    "duration": 7,
    "start_time": "2022-07-07T14:00:07.338Z"
   },
   {
    "duration": 18,
    "start_time": "2022-07-07T14:00:07.348Z"
   },
   {
    "duration": 6,
    "start_time": "2022-07-07T14:00:07.367Z"
   },
   {
    "duration": 7,
    "start_time": "2022-07-07T14:00:07.375Z"
   },
   {
    "duration": 965,
    "start_time": "2022-07-07T14:00:07.384Z"
   },
   {
    "duration": 318,
    "start_time": "2022-07-07T14:00:08.351Z"
   },
   {
    "duration": 9,
    "start_time": "2022-07-07T14:00:08.671Z"
   },
   {
    "duration": 975,
    "start_time": "2022-07-07T14:00:08.681Z"
   },
   {
    "duration": 208,
    "start_time": "2022-07-07T14:00:09.658Z"
   },
   {
    "duration": 199,
    "start_time": "2022-07-07T14:00:09.868Z"
   },
   {
    "duration": 4,
    "start_time": "2022-07-07T14:00:10.068Z"
   },
   {
    "duration": 30,
    "start_time": "2022-07-07T14:00:10.074Z"
   },
   {
    "duration": 25,
    "start_time": "2022-07-07T14:00:10.105Z"
   },
   {
    "duration": 9,
    "start_time": "2022-07-07T14:00:10.131Z"
   },
   {
    "duration": 8,
    "start_time": "2022-07-07T14:00:10.142Z"
   },
   {
    "duration": 154,
    "start_time": "2022-07-07T14:00:10.152Z"
   },
   {
    "duration": 3542,
    "start_time": "2022-07-07T14:00:10.308Z"
   },
   {
    "duration": 9069,
    "start_time": "2022-07-07T14:00:13.852Z"
   },
   {
    "duration": 95,
    "start_time": "2022-07-07T14:00:22.922Z"
   },
   {
    "duration": 9,
    "start_time": "2022-07-07T14:00:23.020Z"
   },
   {
    "duration": 73,
    "start_time": "2022-07-07T14:00:23.031Z"
   },
   {
    "duration": 13,
    "start_time": "2022-07-07T14:00:37.855Z"
   },
   {
    "duration": 1530,
    "start_time": "2022-07-07T14:00:47.285Z"
   },
   {
    "duration": 50,
    "start_time": "2022-07-07T14:00:48.817Z"
   },
   {
    "duration": 12,
    "start_time": "2022-07-07T14:00:48.869Z"
   },
   {
    "duration": 6,
    "start_time": "2022-07-07T14:00:48.883Z"
   },
   {
    "duration": 14,
    "start_time": "2022-07-07T14:00:48.892Z"
   },
   {
    "duration": 12,
    "start_time": "2022-07-07T14:00:48.908Z"
   },
   {
    "duration": 7,
    "start_time": "2022-07-07T14:00:48.922Z"
   },
   {
    "duration": 13,
    "start_time": "2022-07-07T14:00:48.931Z"
   },
   {
    "duration": 9,
    "start_time": "2022-07-07T14:00:48.946Z"
   },
   {
    "duration": 10,
    "start_time": "2022-07-07T14:00:48.956Z"
   },
   {
    "duration": 6,
    "start_time": "2022-07-07T14:00:48.968Z"
   },
   {
    "duration": 30,
    "start_time": "2022-07-07T14:00:48.976Z"
   },
   {
    "duration": 1081,
    "start_time": "2022-07-07T14:00:49.008Z"
   },
   {
    "duration": 365,
    "start_time": "2022-07-07T14:00:50.092Z"
   },
   {
    "duration": 7,
    "start_time": "2022-07-07T14:00:50.459Z"
   },
   {
    "duration": 1052,
    "start_time": "2022-07-07T14:00:50.467Z"
   },
   {
    "duration": 211,
    "start_time": "2022-07-07T14:00:51.521Z"
   },
   {
    "duration": 201,
    "start_time": "2022-07-07T14:00:51.734Z"
   },
   {
    "duration": 4,
    "start_time": "2022-07-07T14:00:51.937Z"
   },
   {
    "duration": 24,
    "start_time": "2022-07-07T14:00:51.943Z"
   },
   {
    "duration": 61,
    "start_time": "2022-07-07T14:00:51.969Z"
   },
   {
    "duration": 16,
    "start_time": "2022-07-07T14:00:52.032Z"
   },
   {
    "duration": 6,
    "start_time": "2022-07-07T14:00:52.050Z"
   },
   {
    "duration": 147,
    "start_time": "2022-07-07T14:00:52.058Z"
   },
   {
    "duration": 3500,
    "start_time": "2022-07-07T14:00:52.207Z"
   },
   {
    "duration": 8097,
    "start_time": "2022-07-07T14:00:55.709Z"
   },
   {
    "duration": 13,
    "start_time": "2022-07-07T14:01:03.807Z"
   },
   {
    "duration": 86,
    "start_time": "2022-07-07T14:01:03.822Z"
   },
   {
    "duration": 11,
    "start_time": "2022-07-07T14:01:03.910Z"
   },
   {
    "duration": 1473,
    "start_time": "2022-07-07T14:02:01.198Z"
   },
   {
    "duration": 49,
    "start_time": "2022-07-07T14:02:02.673Z"
   },
   {
    "duration": 10,
    "start_time": "2022-07-07T14:02:02.724Z"
   },
   {
    "duration": 6,
    "start_time": "2022-07-07T14:02:02.736Z"
   },
   {
    "duration": 9,
    "start_time": "2022-07-07T14:02:02.744Z"
   },
   {
    "duration": 10,
    "start_time": "2022-07-07T14:02:02.755Z"
   },
   {
    "duration": 6,
    "start_time": "2022-07-07T14:02:02.767Z"
   },
   {
    "duration": 35,
    "start_time": "2022-07-07T14:02:02.775Z"
   },
   {
    "duration": 2,
    "start_time": "2022-07-07T14:02:02.812Z"
   },
   {
    "duration": 10,
    "start_time": "2022-07-07T14:02:02.816Z"
   },
   {
    "duration": 3,
    "start_time": "2022-07-07T14:02:02.827Z"
   },
   {
    "duration": 6,
    "start_time": "2022-07-07T14:02:02.832Z"
   },
   {
    "duration": 925,
    "start_time": "2022-07-07T14:02:02.840Z"
   },
   {
    "duration": 310,
    "start_time": "2022-07-07T14:02:03.768Z"
   },
   {
    "duration": 8,
    "start_time": "2022-07-07T14:02:04.080Z"
   },
   {
    "duration": 941,
    "start_time": "2022-07-07T14:02:04.090Z"
   },
   {
    "duration": 205,
    "start_time": "2022-07-07T14:02:05.033Z"
   },
   {
    "duration": 221,
    "start_time": "2022-07-07T14:02:05.240Z"
   },
   {
    "duration": 4,
    "start_time": "2022-07-07T14:02:05.463Z"
   },
   {
    "duration": 41,
    "start_time": "2022-07-07T14:02:05.469Z"
   },
   {
    "duration": 28,
    "start_time": "2022-07-07T14:02:05.512Z"
   },
   {
    "duration": 10,
    "start_time": "2022-07-07T14:02:05.541Z"
   },
   {
    "duration": 27,
    "start_time": "2022-07-07T14:02:05.553Z"
   },
   {
    "duration": 41,
    "start_time": "2022-07-07T14:02:05.582Z"
   },
   {
    "duration": 3802,
    "start_time": "2022-07-07T14:02:05.625Z"
   },
   {
    "duration": 11191,
    "start_time": "2022-07-07T14:02:09.429Z"
   },
   {
    "duration": 89,
    "start_time": "2022-07-07T14:02:20.622Z"
   },
   {
    "duration": 6,
    "start_time": "2022-07-07T14:02:20.713Z"
   },
   {
    "duration": 86,
    "start_time": "2022-07-07T14:02:20.720Z"
   },
   {
    "duration": 1585,
    "start_time": "2022-07-07T14:03:02.104Z"
   },
   {
    "duration": 50,
    "start_time": "2022-07-07T14:03:03.691Z"
   },
   {
    "duration": 10,
    "start_time": "2022-07-07T14:03:03.743Z"
   },
   {
    "duration": 5,
    "start_time": "2022-07-07T14:03:03.755Z"
   },
   {
    "duration": 14,
    "start_time": "2022-07-07T14:03:03.762Z"
   },
   {
    "duration": 10,
    "start_time": "2022-07-07T14:03:03.777Z"
   },
   {
    "duration": 17,
    "start_time": "2022-07-07T14:03:03.788Z"
   },
   {
    "duration": 12,
    "start_time": "2022-07-07T14:03:03.806Z"
   },
   {
    "duration": 5,
    "start_time": "2022-07-07T14:03:03.819Z"
   },
   {
    "duration": 8,
    "start_time": "2022-07-07T14:03:03.827Z"
   },
   {
    "duration": 4,
    "start_time": "2022-07-07T14:03:03.837Z"
   },
   {
    "duration": 9,
    "start_time": "2022-07-07T14:03:03.843Z"
   },
   {
    "duration": 960,
    "start_time": "2022-07-07T14:03:03.853Z"
   },
   {
    "duration": 301,
    "start_time": "2022-07-07T14:03:04.815Z"
   },
   {
    "duration": 7,
    "start_time": "2022-07-07T14:03:05.118Z"
   },
   {
    "duration": 904,
    "start_time": "2022-07-07T14:03:05.126Z"
   },
   {
    "duration": 195,
    "start_time": "2022-07-07T14:03:06.032Z"
   },
   {
    "duration": 199,
    "start_time": "2022-07-07T14:03:06.229Z"
   },
   {
    "duration": 5,
    "start_time": "2022-07-07T14:03:06.430Z"
   },
   {
    "duration": 25,
    "start_time": "2022-07-07T14:03:06.436Z"
   },
   {
    "duration": 22,
    "start_time": "2022-07-07T14:03:06.462Z"
   },
   {
    "duration": 24,
    "start_time": "2022-07-07T14:03:06.485Z"
   },
   {
    "duration": 4,
    "start_time": "2022-07-07T14:03:06.511Z"
   },
   {
    "duration": 95,
    "start_time": "2022-07-07T14:03:06.517Z"
   },
   {
    "duration": 3436,
    "start_time": "2022-07-07T14:03:06.613Z"
   },
   {
    "duration": 9168,
    "start_time": "2022-07-07T14:03:10.051Z"
   },
   {
    "duration": 88,
    "start_time": "2022-07-07T14:03:19.221Z"
   },
   {
    "duration": 9,
    "start_time": "2022-07-07T14:03:19.312Z"
   },
   {
    "duration": 15,
    "start_time": "2022-07-07T14:03:19.322Z"
   },
   {
    "duration": 10,
    "start_time": "2022-07-07T14:03:59.700Z"
   },
   {
    "duration": 1532,
    "start_time": "2022-07-07T14:04:05.821Z"
   },
   {
    "duration": 49,
    "start_time": "2022-07-07T14:04:07.355Z"
   },
   {
    "duration": 10,
    "start_time": "2022-07-07T14:04:07.405Z"
   },
   {
    "duration": 5,
    "start_time": "2022-07-07T14:04:07.418Z"
   },
   {
    "duration": 10,
    "start_time": "2022-07-07T14:04:07.424Z"
   },
   {
    "duration": 10,
    "start_time": "2022-07-07T14:04:07.435Z"
   },
   {
    "duration": 6,
    "start_time": "2022-07-07T14:04:07.446Z"
   },
   {
    "duration": 10,
    "start_time": "2022-07-07T14:04:07.454Z"
   },
   {
    "duration": 38,
    "start_time": "2022-07-07T14:04:07.466Z"
   },
   {
    "duration": 7,
    "start_time": "2022-07-07T14:04:07.507Z"
   },
   {
    "duration": 3,
    "start_time": "2022-07-07T14:04:07.516Z"
   },
   {
    "duration": 23,
    "start_time": "2022-07-07T14:04:07.520Z"
   },
   {
    "duration": 975,
    "start_time": "2022-07-07T14:04:07.546Z"
   },
   {
    "duration": 326,
    "start_time": "2022-07-07T14:04:08.523Z"
   },
   {
    "duration": 8,
    "start_time": "2022-07-07T14:04:08.851Z"
   },
   {
    "duration": 927,
    "start_time": "2022-07-07T14:04:08.860Z"
   },
   {
    "duration": 189,
    "start_time": "2022-07-07T14:04:09.789Z"
   },
   {
    "duration": 224,
    "start_time": "2022-07-07T14:04:09.980Z"
   },
   {
    "duration": 4,
    "start_time": "2022-07-07T14:04:10.206Z"
   },
   {
    "duration": 30,
    "start_time": "2022-07-07T14:04:10.211Z"
   },
   {
    "duration": 23,
    "start_time": "2022-07-07T14:04:10.243Z"
   },
   {
    "duration": 7,
    "start_time": "2022-07-07T14:04:10.267Z"
   },
   {
    "duration": 7,
    "start_time": "2022-07-07T14:04:10.275Z"
   },
   {
    "duration": 201,
    "start_time": "2022-07-07T14:04:10.304Z"
   },
   {
    "duration": 3241,
    "start_time": "2022-07-07T14:04:10.506Z"
   },
   {
    "duration": 7973,
    "start_time": "2022-07-07T14:04:13.749Z"
   },
   {
    "duration": 88,
    "start_time": "2022-07-07T14:04:21.723Z"
   },
   {
    "duration": 9,
    "start_time": "2022-07-07T14:04:21.816Z"
   },
   {
    "duration": 81,
    "start_time": "2022-07-07T14:04:21.827Z"
   },
   {
    "duration": 1483,
    "start_time": "2022-07-07T14:04:44.762Z"
   },
   {
    "duration": 50,
    "start_time": "2022-07-07T14:04:46.247Z"
   },
   {
    "duration": 10,
    "start_time": "2022-07-07T14:04:46.299Z"
   },
   {
    "duration": 5,
    "start_time": "2022-07-07T14:04:46.310Z"
   },
   {
    "duration": 9,
    "start_time": "2022-07-07T14:04:46.317Z"
   },
   {
    "duration": 9,
    "start_time": "2022-07-07T14:04:46.328Z"
   },
   {
    "duration": 7,
    "start_time": "2022-07-07T14:04:46.338Z"
   },
   {
    "duration": 13,
    "start_time": "2022-07-07T14:04:46.346Z"
   },
   {
    "duration": 8,
    "start_time": "2022-07-07T14:04:46.360Z"
   },
   {
    "duration": 35,
    "start_time": "2022-07-07T14:04:46.369Z"
   },
   {
    "duration": 3,
    "start_time": "2022-07-07T14:04:46.405Z"
   },
   {
    "duration": 7,
    "start_time": "2022-07-07T14:04:46.409Z"
   },
   {
    "duration": 963,
    "start_time": "2022-07-07T14:04:46.418Z"
   },
   {
    "duration": 304,
    "start_time": "2022-07-07T14:04:47.384Z"
   },
   {
    "duration": 19,
    "start_time": "2022-07-07T14:04:47.690Z"
   },
   {
    "duration": 901,
    "start_time": "2022-07-07T14:04:47.711Z"
   },
   {
    "duration": 206,
    "start_time": "2022-07-07T14:04:48.613Z"
   },
   {
    "duration": 216,
    "start_time": "2022-07-07T14:04:48.821Z"
   },
   {
    "duration": 4,
    "start_time": "2022-07-07T14:04:49.038Z"
   },
   {
    "duration": 40,
    "start_time": "2022-07-07T14:04:49.044Z"
   },
   {
    "duration": 35,
    "start_time": "2022-07-07T14:04:49.086Z"
   },
   {
    "duration": 12,
    "start_time": "2022-07-07T14:04:49.123Z"
   },
   {
    "duration": 5,
    "start_time": "2022-07-07T14:04:49.136Z"
   },
   {
    "duration": 263,
    "start_time": "2022-07-07T14:04:49.142Z"
   },
   {
    "duration": 7042,
    "start_time": "2022-07-07T14:04:49.407Z"
   },
   {
    "duration": 14265,
    "start_time": "2022-07-07T14:04:56.450Z"
   },
   {
    "duration": 94,
    "start_time": "2022-07-07T14:05:10.716Z"
   },
   {
    "duration": 10,
    "start_time": "2022-07-07T14:05:10.811Z"
   },
   {
    "duration": 83,
    "start_time": "2022-07-07T14:05:10.822Z"
   },
   {
    "duration": 1476,
    "start_time": "2022-07-07T14:07:26.757Z"
   },
   {
    "duration": 48,
    "start_time": "2022-07-07T14:07:28.235Z"
   },
   {
    "duration": 11,
    "start_time": "2022-07-07T14:07:28.285Z"
   },
   {
    "duration": 5,
    "start_time": "2022-07-07T14:07:28.298Z"
   },
   {
    "duration": 13,
    "start_time": "2022-07-07T14:07:28.305Z"
   },
   {
    "duration": 9,
    "start_time": "2022-07-07T14:07:28.320Z"
   },
   {
    "duration": 6,
    "start_time": "2022-07-07T14:07:28.330Z"
   },
   {
    "duration": 12,
    "start_time": "2022-07-07T14:07:28.338Z"
   },
   {
    "duration": 6,
    "start_time": "2022-07-07T14:07:28.351Z"
   },
   {
    "duration": 8,
    "start_time": "2022-07-07T14:07:28.359Z"
   },
   {
    "duration": 3,
    "start_time": "2022-07-07T14:07:28.368Z"
   },
   {
    "duration": 11,
    "start_time": "2022-07-07T14:07:28.372Z"
   },
   {
    "duration": 965,
    "start_time": "2022-07-07T14:07:28.384Z"
   },
   {
    "duration": 320,
    "start_time": "2022-07-07T14:07:29.352Z"
   },
   {
    "duration": 7,
    "start_time": "2022-07-07T14:07:29.674Z"
   },
   {
    "duration": 948,
    "start_time": "2022-07-07T14:07:29.682Z"
   },
   {
    "duration": 204,
    "start_time": "2022-07-07T14:07:30.631Z"
   },
   {
    "duration": 205,
    "start_time": "2022-07-07T14:07:30.837Z"
   },
   {
    "duration": 4,
    "start_time": "2022-07-07T14:07:31.044Z"
   },
   {
    "duration": 88,
    "start_time": "2022-07-07T14:07:31.050Z"
   },
   {
    "duration": 23,
    "start_time": "2022-07-07T14:07:31.140Z"
   },
   {
    "duration": 19,
    "start_time": "2022-07-07T14:07:31.164Z"
   },
   {
    "duration": 21,
    "start_time": "2022-07-07T14:07:31.184Z"
   },
   {
    "duration": 201,
    "start_time": "2022-07-07T14:07:31.207Z"
   },
   {
    "duration": 12065,
    "start_time": "2022-07-07T14:07:31.410Z"
   },
   {
    "duration": 19031,
    "start_time": "2022-07-07T14:07:43.476Z"
   },
   {
    "duration": 11,
    "start_time": "2022-07-07T14:08:02.509Z"
   },
   {
    "duration": 16,
    "start_time": "2022-07-07T14:08:02.521Z"
   },
   {
    "duration": 72,
    "start_time": "2022-07-07T14:08:02.539Z"
   },
   {
    "duration": 1475,
    "start_time": "2022-07-07T14:08:21.896Z"
   },
   {
    "duration": 50,
    "start_time": "2022-07-07T14:08:23.373Z"
   },
   {
    "duration": 10,
    "start_time": "2022-07-07T14:08:23.424Z"
   },
   {
    "duration": 5,
    "start_time": "2022-07-07T14:08:23.436Z"
   },
   {
    "duration": 11,
    "start_time": "2022-07-07T14:08:23.443Z"
   },
   {
    "duration": 10,
    "start_time": "2022-07-07T14:08:23.456Z"
   },
   {
    "duration": 7,
    "start_time": "2022-07-07T14:08:23.468Z"
   },
   {
    "duration": 36,
    "start_time": "2022-07-07T14:08:23.476Z"
   },
   {
    "duration": 3,
    "start_time": "2022-07-07T14:08:23.513Z"
   },
   {
    "duration": 26,
    "start_time": "2022-07-07T14:08:23.517Z"
   },
   {
    "duration": 38,
    "start_time": "2022-07-07T14:08:23.545Z"
   },
   {
    "duration": 48,
    "start_time": "2022-07-07T14:08:23.585Z"
   },
   {
    "duration": 995,
    "start_time": "2022-07-07T14:08:23.634Z"
   },
   {
    "duration": 326,
    "start_time": "2022-07-07T14:08:24.632Z"
   },
   {
    "duration": 7,
    "start_time": "2022-07-07T14:08:24.959Z"
   },
   {
    "duration": 941,
    "start_time": "2022-07-07T14:08:24.968Z"
   },
   {
    "duration": 209,
    "start_time": "2022-07-07T14:08:25.911Z"
   },
   {
    "duration": 219,
    "start_time": "2022-07-07T14:08:26.121Z"
   },
   {
    "duration": 4,
    "start_time": "2022-07-07T14:08:26.342Z"
   },
   {
    "duration": 23,
    "start_time": "2022-07-07T14:08:26.348Z"
   },
   {
    "duration": 37,
    "start_time": "2022-07-07T14:08:26.373Z"
   },
   {
    "duration": 8,
    "start_time": "2022-07-07T14:08:26.411Z"
   },
   {
    "duration": 5,
    "start_time": "2022-07-07T14:08:26.421Z"
   },
   {
    "duration": 178,
    "start_time": "2022-07-07T14:08:26.427Z"
   },
   {
    "duration": 3895,
    "start_time": "2022-07-07T14:08:26.607Z"
   },
   {
    "duration": 11311,
    "start_time": "2022-07-07T14:08:30.504Z"
   },
   {
    "duration": 89,
    "start_time": "2022-07-07T14:08:41.816Z"
   },
   {
    "duration": 7,
    "start_time": "2022-07-07T14:08:41.906Z"
   },
   {
    "duration": 14,
    "start_time": "2022-07-07T14:08:41.914Z"
   },
   {
    "duration": 1485,
    "start_time": "2022-07-07T14:15:56.989Z"
   },
   {
    "duration": 47,
    "start_time": "2022-07-07T14:15:58.476Z"
   },
   {
    "duration": 11,
    "start_time": "2022-07-07T14:15:58.525Z"
   },
   {
    "duration": 6,
    "start_time": "2022-07-07T14:15:58.537Z"
   },
   {
    "duration": 8,
    "start_time": "2022-07-07T14:15:58.546Z"
   },
   {
    "duration": 10,
    "start_time": "2022-07-07T14:15:58.556Z"
   },
   {
    "duration": 38,
    "start_time": "2022-07-07T14:15:58.567Z"
   },
   {
    "duration": 10,
    "start_time": "2022-07-07T14:15:58.606Z"
   },
   {
    "duration": 3,
    "start_time": "2022-07-07T14:15:58.619Z"
   },
   {
    "duration": 9,
    "start_time": "2022-07-07T14:15:58.623Z"
   },
   {
    "duration": 2,
    "start_time": "2022-07-07T14:15:58.634Z"
   },
   {
    "duration": 7,
    "start_time": "2022-07-07T14:15:58.638Z"
   },
   {
    "duration": 938,
    "start_time": "2022-07-07T14:15:58.647Z"
   },
   {
    "duration": 308,
    "start_time": "2022-07-07T14:15:59.588Z"
   },
   {
    "duration": 7,
    "start_time": "2022-07-07T14:15:59.898Z"
   },
   {
    "duration": 912,
    "start_time": "2022-07-07T14:15:59.906Z"
   },
   {
    "duration": 202,
    "start_time": "2022-07-07T14:16:00.820Z"
   },
   {
    "duration": 207,
    "start_time": "2022-07-07T14:16:01.024Z"
   },
   {
    "duration": 4,
    "start_time": "2022-07-07T14:16:01.233Z"
   },
   {
    "duration": 28,
    "start_time": "2022-07-07T14:16:01.238Z"
   },
   {
    "duration": 23,
    "start_time": "2022-07-07T14:16:01.268Z"
   },
   {
    "duration": 7,
    "start_time": "2022-07-07T14:16:01.304Z"
   },
   {
    "duration": 7,
    "start_time": "2022-07-07T14:16:01.313Z"
   },
   {
    "duration": 274,
    "start_time": "2022-07-07T14:16:01.321Z"
   },
   {
    "duration": 0,
    "start_time": "2022-07-07T14:16:01.604Z"
   },
   {
    "duration": 0,
    "start_time": "2022-07-07T14:16:01.606Z"
   },
   {
    "duration": 0,
    "start_time": "2022-07-07T14:16:01.607Z"
   },
   {
    "duration": 0,
    "start_time": "2022-07-07T14:16:01.609Z"
   },
   {
    "duration": 18,
    "start_time": "2022-07-07T14:16:35.628Z"
   },
   {
    "duration": 14,
    "start_time": "2022-07-07T14:16:47.705Z"
   },
   {
    "duration": 23,
    "start_time": "2022-07-07T14:16:57.380Z"
   },
   {
    "duration": 10,
    "start_time": "2022-07-07T14:17:17.502Z"
   },
   {
    "duration": 1474,
    "start_time": "2022-07-07T14:17:23.384Z"
   },
   {
    "duration": 50,
    "start_time": "2022-07-07T14:17:24.860Z"
   },
   {
    "duration": 11,
    "start_time": "2022-07-07T14:17:24.912Z"
   },
   {
    "duration": 5,
    "start_time": "2022-07-07T14:17:24.925Z"
   },
   {
    "duration": 10,
    "start_time": "2022-07-07T14:17:24.932Z"
   },
   {
    "duration": 10,
    "start_time": "2022-07-07T14:17:24.944Z"
   },
   {
    "duration": 9,
    "start_time": "2022-07-07T14:17:24.955Z"
   },
   {
    "duration": 39,
    "start_time": "2022-07-07T14:17:24.966Z"
   },
   {
    "duration": 15,
    "start_time": "2022-07-07T14:17:25.008Z"
   },
   {
    "duration": 16,
    "start_time": "2022-07-07T14:17:25.025Z"
   },
   {
    "duration": 3,
    "start_time": "2022-07-07T14:17:25.042Z"
   },
   {
    "duration": 11,
    "start_time": "2022-07-07T14:17:25.047Z"
   },
   {
    "duration": 978,
    "start_time": "2022-07-07T14:17:25.059Z"
   },
   {
    "duration": 316,
    "start_time": "2022-07-07T14:17:26.040Z"
   },
   {
    "duration": 7,
    "start_time": "2022-07-07T14:17:26.358Z"
   },
   {
    "duration": 987,
    "start_time": "2022-07-07T14:17:26.367Z"
   },
   {
    "duration": 203,
    "start_time": "2022-07-07T14:17:27.356Z"
   },
   {
    "duration": 198,
    "start_time": "2022-07-07T14:17:27.561Z"
   },
   {
    "duration": 4,
    "start_time": "2022-07-07T14:17:27.761Z"
   },
   {
    "duration": 22,
    "start_time": "2022-07-07T14:17:27.766Z"
   },
   {
    "duration": 32,
    "start_time": "2022-07-07T14:17:27.790Z"
   },
   {
    "duration": 8,
    "start_time": "2022-07-07T14:17:27.823Z"
   },
   {
    "duration": 5,
    "start_time": "2022-07-07T14:17:27.833Z"
   },
   {
    "duration": 167,
    "start_time": "2022-07-07T14:17:27.839Z"
   },
   {
    "duration": 3554,
    "start_time": "2022-07-07T14:17:28.009Z"
   },
   {
    "duration": 20555,
    "start_time": "2022-07-07T14:17:31.564Z"
   },
   {
    "duration": 166,
    "start_time": "2022-07-07T14:17:52.121Z"
   },
   {
    "duration": 0,
    "start_time": "2022-07-07T14:17:52.289Z"
   },
   {
    "duration": 61,
    "start_time": "2022-07-07T14:18:13.451Z"
   },
   {
    "duration": 12,
    "start_time": "2022-07-07T14:18:24.333Z"
   },
   {
    "duration": 5,
    "start_time": "2022-07-07T14:18:42.791Z"
   },
   {
    "duration": 9,
    "start_time": "2022-07-07T14:18:46.424Z"
   },
   {
    "duration": 1442,
    "start_time": "2022-07-07T14:18:51.622Z"
   },
   {
    "duration": 48,
    "start_time": "2022-07-07T14:18:53.066Z"
   },
   {
    "duration": 10,
    "start_time": "2022-07-07T14:18:53.115Z"
   },
   {
    "duration": 5,
    "start_time": "2022-07-07T14:18:53.128Z"
   },
   {
    "duration": 10,
    "start_time": "2022-07-07T14:18:53.134Z"
   },
   {
    "duration": 11,
    "start_time": "2022-07-07T14:18:53.145Z"
   },
   {
    "duration": 6,
    "start_time": "2022-07-07T14:18:53.157Z"
   },
   {
    "duration": 16,
    "start_time": "2022-07-07T14:18:53.165Z"
   },
   {
    "duration": 3,
    "start_time": "2022-07-07T14:18:53.204Z"
   },
   {
    "duration": 9,
    "start_time": "2022-07-07T14:18:53.209Z"
   },
   {
    "duration": 7,
    "start_time": "2022-07-07T14:18:53.220Z"
   },
   {
    "duration": 7,
    "start_time": "2022-07-07T14:18:53.230Z"
   },
   {
    "duration": 978,
    "start_time": "2022-07-07T14:18:53.239Z"
   },
   {
    "duration": 319,
    "start_time": "2022-07-07T14:18:54.219Z"
   },
   {
    "duration": 7,
    "start_time": "2022-07-07T14:18:54.540Z"
   },
   {
    "duration": 934,
    "start_time": "2022-07-07T14:18:54.548Z"
   },
   {
    "duration": 208,
    "start_time": "2022-07-07T14:18:55.484Z"
   },
   {
    "duration": 199,
    "start_time": "2022-07-07T14:18:55.694Z"
   },
   {
    "duration": 4,
    "start_time": "2022-07-07T14:18:55.895Z"
   },
   {
    "duration": 20,
    "start_time": "2022-07-07T14:18:55.903Z"
   },
   {
    "duration": 21,
    "start_time": "2022-07-07T14:18:55.925Z"
   },
   {
    "duration": 8,
    "start_time": "2022-07-07T14:18:55.947Z"
   },
   {
    "duration": 6,
    "start_time": "2022-07-07T14:18:55.957Z"
   },
   {
    "duration": 142,
    "start_time": "2022-07-07T14:18:55.965Z"
   },
   {
    "duration": 3502,
    "start_time": "2022-07-07T14:18:56.109Z"
   },
   {
    "duration": 16508,
    "start_time": "2022-07-07T14:18:59.613Z"
   },
   {
    "duration": 4,
    "start_time": "2022-07-07T14:19:16.123Z"
   },
   {
    "duration": 18,
    "start_time": "2022-07-07T14:19:16.130Z"
   },
   {
    "duration": 65,
    "start_time": "2022-07-07T14:19:16.150Z"
   },
   {
    "duration": 9,
    "start_time": "2022-07-07T14:22:47.020Z"
   },
   {
    "duration": 4,
    "start_time": "2022-07-07T14:23:20.933Z"
   },
   {
    "duration": 10,
    "start_time": "2022-07-07T14:23:24.261Z"
   },
   {
    "duration": 4,
    "start_time": "2022-07-07T14:23:56.703Z"
   },
   {
    "duration": 12,
    "start_time": "2022-07-07T14:23:56.858Z"
   },
   {
    "duration": 2,
    "start_time": "2022-07-07T14:28:35.690Z"
   },
   {
    "duration": 1531,
    "start_time": "2022-07-07T14:41:45.796Z"
   },
   {
    "duration": 49,
    "start_time": "2022-07-07T14:41:47.329Z"
   },
   {
    "duration": 10,
    "start_time": "2022-07-07T14:41:47.383Z"
   },
   {
    "duration": 5,
    "start_time": "2022-07-07T14:41:47.394Z"
   },
   {
    "duration": 12,
    "start_time": "2022-07-07T14:41:47.401Z"
   },
   {
    "duration": 9,
    "start_time": "2022-07-07T14:41:47.415Z"
   },
   {
    "duration": 6,
    "start_time": "2022-07-07T14:41:47.425Z"
   },
   {
    "duration": 11,
    "start_time": "2022-07-07T14:41:47.433Z"
   },
   {
    "duration": 4,
    "start_time": "2022-07-07T14:41:47.447Z"
   },
   {
    "duration": 8,
    "start_time": "2022-07-07T14:41:47.453Z"
   },
   {
    "duration": 2,
    "start_time": "2022-07-07T14:41:47.462Z"
   },
   {
    "duration": 5,
    "start_time": "2022-07-07T14:41:47.466Z"
   },
   {
    "duration": 937,
    "start_time": "2022-07-07T14:41:47.472Z"
   },
   {
    "duration": 308,
    "start_time": "2022-07-07T14:41:48.410Z"
   },
   {
    "duration": 7,
    "start_time": "2022-07-07T14:41:48.719Z"
   },
   {
    "duration": 909,
    "start_time": "2022-07-07T14:41:48.728Z"
   },
   {
    "duration": 207,
    "start_time": "2022-07-07T14:41:49.638Z"
   },
   {
    "duration": 206,
    "start_time": "2022-07-07T14:41:49.848Z"
   },
   {
    "duration": 3,
    "start_time": "2022-07-07T14:41:50.056Z"
   },
   {
    "duration": 21,
    "start_time": "2022-07-07T14:41:50.061Z"
   },
   {
    "duration": 34,
    "start_time": "2022-07-07T14:41:50.083Z"
   },
   {
    "duration": 9,
    "start_time": "2022-07-07T14:41:50.118Z"
   },
   {
    "duration": 9,
    "start_time": "2022-07-07T14:41:50.129Z"
   },
   {
    "duration": 164,
    "start_time": "2022-07-07T14:41:50.140Z"
   },
   {
    "duration": 3552,
    "start_time": "2022-07-07T14:41:50.306Z"
   },
   {
    "duration": 7954,
    "start_time": "2022-07-07T14:41:53.859Z"
   },
   {
    "duration": 4,
    "start_time": "2022-07-07T14:42:01.817Z"
   },
   {
    "duration": 18,
    "start_time": "2022-07-07T14:42:01.823Z"
   },
   {
    "duration": 65,
    "start_time": "2022-07-07T14:42:01.842Z"
   },
   {
    "duration": 192,
    "start_time": "2022-07-07T14:45:13.389Z"
   },
   {
    "duration": 81,
    "start_time": "2022-07-08T10:15:12.758Z"
   },
   {
    "duration": 1699,
    "start_time": "2022-07-08T18:20:34.725Z"
   },
   {
    "duration": 140,
    "start_time": "2022-07-08T18:20:36.426Z"
   },
   {
    "duration": 16,
    "start_time": "2022-07-08T18:20:36.568Z"
   },
   {
    "duration": 18,
    "start_time": "2022-07-08T18:20:36.586Z"
   },
   {
    "duration": 10,
    "start_time": "2022-07-08T18:20:36.986Z"
   },
   {
    "duration": 8,
    "start_time": "2022-07-08T18:20:37.770Z"
   },
   {
    "duration": 13,
    "start_time": "2022-07-08T18:20:38.962Z"
   },
   {
    "duration": 3,
    "start_time": "2022-07-08T18:20:40.812Z"
   },
   {
    "duration": 6,
    "start_time": "2022-07-08T18:20:41.000Z"
   },
   {
    "duration": 5,
    "start_time": "2022-07-08T18:20:41.173Z"
   },
   {
    "duration": 10,
    "start_time": "2022-07-08T18:20:41.349Z"
   },
   {
    "duration": 1031,
    "start_time": "2022-07-08T18:20:42.306Z"
   },
   {
    "duration": 441,
    "start_time": "2022-07-08T18:20:44.508Z"
   },
   {
    "duration": 7,
    "start_time": "2022-07-08T18:20:45.581Z"
   },
   {
    "duration": 942,
    "start_time": "2022-07-08T18:20:46.333Z"
   },
   {
    "duration": 210,
    "start_time": "2022-07-08T18:20:47.277Z"
   },
   {
    "duration": 204,
    "start_time": "2022-07-08T18:20:47.489Z"
   },
   {
    "duration": 3,
    "start_time": "2022-07-08T18:20:47.695Z"
   },
   {
    "duration": 24,
    "start_time": "2022-07-08T18:20:47.699Z"
   },
   {
    "duration": 42,
    "start_time": "2022-07-08T18:20:47.725Z"
   },
   {
    "duration": 14,
    "start_time": "2022-07-08T18:20:47.769Z"
   },
   {
    "duration": 4,
    "start_time": "2022-07-08T18:20:47.785Z"
   },
   {
    "duration": 5,
    "start_time": "2022-07-08T18:21:06.571Z"
   },
   {
    "duration": 38,
    "start_time": "2022-07-08T18:21:06.965Z"
   },
   {
    "duration": 9,
    "start_time": "2022-07-08T18:21:07.303Z"
   },
   {
    "duration": 7,
    "start_time": "2022-07-08T18:21:08.095Z"
   },
   {
    "duration": 16,
    "start_time": "2022-07-08T18:21:08.370Z"
   },
   {
    "duration": 10,
    "start_time": "2022-07-08T18:21:09.076Z"
   },
   {
    "duration": 15,
    "start_time": "2022-07-08T18:21:09.164Z"
   },
   {
    "duration": 3,
    "start_time": "2022-07-08T18:21:09.260Z"
   },
   {
    "duration": 18,
    "start_time": "2022-07-08T18:21:09.276Z"
   },
   {
    "duration": 2,
    "start_time": "2022-07-08T18:21:09.308Z"
   },
   {
    "duration": 17,
    "start_time": "2022-07-08T18:21:09.338Z"
   },
   {
    "duration": 930,
    "start_time": "2022-07-08T18:21:09.999Z"
   },
   {
    "duration": 349,
    "start_time": "2022-07-08T18:21:10.931Z"
   },
   {
    "duration": 6,
    "start_time": "2022-07-08T18:21:12.435Z"
   },
   {
    "duration": 940,
    "start_time": "2022-07-08T18:21:14.064Z"
   },
   {
    "duration": 243,
    "start_time": "2022-07-08T18:21:15.006Z"
   },
   {
    "duration": 207,
    "start_time": "2022-07-08T18:21:15.251Z"
   },
   {
    "duration": 4,
    "start_time": "2022-07-08T18:21:19.324Z"
   },
   {
    "duration": 17,
    "start_time": "2022-07-08T18:24:18.081Z"
   },
   {
    "duration": 21,
    "start_time": "2022-07-08T18:24:18.604Z"
   },
   {
    "duration": 13,
    "start_time": "2022-07-08T18:24:34.537Z"
   },
   {
    "duration": 12,
    "start_time": "2022-07-08T18:24:53.266Z"
   },
   {
    "duration": 77,
    "start_time": "2022-07-08T18:28:06.808Z"
   },
   {
    "duration": 6,
    "start_time": "2022-07-08T18:28:42.369Z"
   },
   {
    "duration": 4,
    "start_time": "2022-07-08T18:28:48.980Z"
   },
   {
    "duration": 10,
    "start_time": "2022-07-08T18:29:03.722Z"
   },
   {
    "duration": 21,
    "start_time": "2022-07-08T18:29:04.061Z"
   },
   {
    "duration": 6,
    "start_time": "2022-07-08T18:29:04.664Z"
   },
   {
    "duration": 5,
    "start_time": "2022-07-08T18:29:05.501Z"
   },
   {
    "duration": 4,
    "start_time": "2022-07-08T18:29:14.819Z"
   },
   {
    "duration": 7,
    "start_time": "2022-07-08T18:29:32.980Z"
   },
   {
    "duration": 4,
    "start_time": "2022-07-08T18:29:33.270Z"
   },
   {
    "duration": 4,
    "start_time": "2022-07-08T18:29:33.618Z"
   },
   {
    "duration": 4,
    "start_time": "2022-07-08T18:29:34.012Z"
   },
   {
    "duration": 7,
    "start_time": "2022-07-08T18:30:00.979Z"
   },
   {
    "duration": 11,
    "start_time": "2022-07-08T18:30:14.877Z"
   },
   {
    "duration": 6,
    "start_time": "2022-07-08T18:30:15.129Z"
   },
   {
    "duration": 5,
    "start_time": "2022-07-08T18:30:15.405Z"
   },
   {
    "duration": 4,
    "start_time": "2022-07-08T18:30:15.629Z"
   },
   {
    "duration": 4,
    "start_time": "2022-07-08T18:30:15.921Z"
   },
   {
    "duration": 7,
    "start_time": "2022-07-08T18:30:16.667Z"
   },
   {
    "duration": 15,
    "start_time": "2022-07-08T18:30:25.071Z"
   },
   {
    "duration": 9,
    "start_time": "2022-07-08T18:30:32.278Z"
   },
   {
    "duration": 9,
    "start_time": "2022-07-08T18:30:32.562Z"
   },
   {
    "duration": 15,
    "start_time": "2022-07-08T18:30:32.862Z"
   },
   {
    "duration": 9,
    "start_time": "2022-07-08T18:30:33.066Z"
   },
   {
    "duration": 8,
    "start_time": "2022-07-08T18:30:33.258Z"
   },
   {
    "duration": 6,
    "start_time": "2022-07-08T18:30:33.767Z"
   },
   {
    "duration": 9,
    "start_time": "2022-07-08T18:31:41.601Z"
   },
   {
    "duration": 12,
    "start_time": "2022-07-08T18:31:41.964Z"
   },
   {
    "duration": 7,
    "start_time": "2022-07-08T18:31:42.261Z"
   },
   {
    "duration": 7,
    "start_time": "2022-07-08T18:31:42.963Z"
   },
   {
    "duration": 8,
    "start_time": "2022-07-08T18:31:43.551Z"
   },
   {
    "duration": 4,
    "start_time": "2022-07-08T18:31:43.985Z"
   },
   {
    "duration": 6,
    "start_time": "2022-07-08T18:31:59.791Z"
   },
   {
    "duration": 6,
    "start_time": "2022-07-08T18:32:00.016Z"
   },
   {
    "duration": 3,
    "start_time": "2022-07-08T18:32:00.212Z"
   },
   {
    "duration": 4,
    "start_time": "2022-07-08T18:32:00.390Z"
   },
   {
    "duration": 8,
    "start_time": "2022-07-08T18:32:00.576Z"
   },
   {
    "duration": 82,
    "start_time": "2022-07-08T18:33:37.007Z"
   },
   {
    "duration": 5317,
    "start_time": "2022-07-08T18:33:37.090Z"
   },
   {
    "duration": 764244,
    "start_time": "2022-07-08T18:33:42.409Z"
   },
   {
    "duration": 14,
    "start_time": "2022-07-08T18:46:26.659Z"
   },
   {
    "duration": 27,
    "start_time": "2022-07-08T18:46:26.677Z"
   },
   {
    "duration": 18,
    "start_time": "2022-07-08T18:46:26.705Z"
   },
   {
    "duration": 448,
    "start_time": "2022-07-08T18:47:15.463Z"
   },
   {
    "duration": 285,
    "start_time": "2022-07-08T18:47:26.108Z"
   },
   {
    "duration": 301,
    "start_time": "2022-07-08T18:51:41.069Z"
   },
   {
    "duration": 212,
    "start_time": "2022-07-08T18:52:09.975Z"
   },
   {
    "duration": 310,
    "start_time": "2022-07-08T18:52:49.837Z"
   },
   {
    "duration": 402,
    "start_time": "2022-07-08T19:02:18.088Z"
   },
   {
    "duration": 35,
    "start_time": "2022-07-08T19:07:12.939Z"
   },
   {
    "duration": 5,
    "start_time": "2022-07-08T19:07:14.774Z"
   },
   {
    "duration": 8,
    "start_time": "2022-07-08T19:07:20.128Z"
   },
   {
    "duration": 275,
    "start_time": "2022-07-08T19:10:38.302Z"
   },
   {
    "duration": 183,
    "start_time": "2022-07-09T08:12:15.219Z"
   },
   {
    "duration": 13,
    "start_time": "2022-07-09T08:13:10.000Z"
   },
   {
    "duration": 219,
    "start_time": "2022-07-09T08:13:16.409Z"
   },
   {
    "duration": 206,
    "start_time": "2022-07-09T08:16:20.300Z"
   }
  ],
  "kernelspec": {
   "display_name": "Python 3 (ipykernel)",
   "language": "python",
   "name": "python3"
  },
  "language_info": {
   "codemirror_mode": {
    "name": "ipython",
    "version": 3
   },
   "file_extension": ".py",
   "mimetype": "text/x-python",
   "name": "python",
   "nbconvert_exporter": "python",
   "pygments_lexer": "ipython3",
   "version": "3.9.5"
  },
  "toc": {
   "base_numbering": 1,
   "nav_menu": {},
   "number_sections": true,
   "sideBar": true,
   "skip_h1_title": true,
   "title_cell": "Содержание",
   "title_sidebar": "Contents",
   "toc_cell": true,
   "toc_position": {
    "height": "calc(100% - 180px)",
    "left": "10px",
    "top": "150px",
    "width": "312.391px"
   },
   "toc_section_display": true,
   "toc_window_display": true
  }
 },
 "nbformat": 4,
 "nbformat_minor": 2
}
