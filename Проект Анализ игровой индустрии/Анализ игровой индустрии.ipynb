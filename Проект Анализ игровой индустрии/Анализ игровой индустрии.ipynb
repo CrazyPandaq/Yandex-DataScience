{
 "cells": [
  {
   "cell_type": "markdown",
   "metadata": {},
   "source": [
    "# Анализ игровой индустрии"
   ]
  },
  {
   "cell_type": "markdown",
   "metadata": {},
   "source": [
    "## Информация проекта"
   ]
  },
  {
   "cell_type": "markdown",
   "metadata": {},
   "source": [
    "Вы работаете в интернет-магазине «Стримчик», который продаёт по всему миру компьютерные игры. Из открытых источников доступны исторические данные о продажах игр, оценки пользователей и экспертов, жанры и платформы (например, Xbox или PlayStation). Вам нужно выявить определяющие успешность игры закономерности. Это позволит сделать ставку на потенциально популярный продукт и спланировать рекламные кампании.\n",
    "\n",
    "Перед вами данные до 2016 года. Представим, что сейчас декабрь 2016 г., и вы планируете кампанию на 2017-й. Нужно отработать принцип работы с данными. Неважно, прогнозируете ли вы продажи на 2017 год по данным 2016-го или же 2027-й — по данным 2026 года.\n",
    "В наборе данных попадается аббревиатура ESRB (Entertainment Software Rating Board) — это ассоциация, определяющая возрастной рейтинг компьютерных игр. ESRB оценивает игровой контент и присваивает ему подходящую возрастную категорию, например, «Для взрослых», «Для детей младшего возраста» или «Для подростков»."
   ]
  },
  {
   "cell_type": "markdown",
   "metadata": {},
   "source": [
    "### Описание данных:"
   ]
  },
  {
   "cell_type": "markdown",
   "metadata": {},
   "source": [
    "* Name — название игры\n",
    "* Platform — платформа\n",
    "* Year_of_Release — год выпуска\n",
    "* Genre — жанр игры\n",
    "* NA_sales — продажи в Северной Америке (миллионы проданных копий)\n",
    "* EU_sales — продажи в Европе (миллионы проданных копий)\n",
    "* JP_sales — продажи в Японии (миллионы проданных копий)\n",
    "* Other_sales — продажи в других странах (миллионы проданных копий)\n",
    "* Critic_Score — оценка критиков (максимум 100)\n",
    "* User_Score — оценка пользователей (максимум 10)\n",
    "* Rating — рейтинг от организации ESRB (англ. Entertainment Software Rating Board). Эта ассоциация определяет рейтинг компьютерных игр и присваивает им подходящую возрастную категорию."
   ]
  },
  {
   "cell_type": "markdown",
   "metadata": {},
   "source": [
    "## Изучение данных из файла"
   ]
  },
  {
   "cell_type": "code",
   "execution_count": 1,
   "metadata": {},
   "outputs": [],
   "source": [
    "import pandas as pd\n",
    "import seaborn as sns\n",
    "import matplotlib.pyplot as plt\n",
    "import numpy as np\n",
    "from scipy import stats as st\n",
    "import math\n",
    "import warnings\n",
    "warnings.filterwarnings('ignore')"
   ]
  },
  {
   "cell_type": "code",
   "execution_count": 2,
   "metadata": {},
   "outputs": [],
   "source": [
    "data = pd.read_csv('/datasets/games.csv')"
   ]
  },
  {
   "cell_type": "code",
   "execution_count": 3,
   "metadata": {},
   "outputs": [
    {
     "data": {
      "text/html": [
       "<div>\n",
       "<style scoped>\n",
       "    .dataframe tbody tr th:only-of-type {\n",
       "        vertical-align: middle;\n",
       "    }\n",
       "\n",
       "    .dataframe tbody tr th {\n",
       "        vertical-align: top;\n",
       "    }\n",
       "\n",
       "    .dataframe thead th {\n",
       "        text-align: right;\n",
       "    }\n",
       "</style>\n",
       "<table border=\"1\" class=\"dataframe\">\n",
       "  <thead>\n",
       "    <tr style=\"text-align: right;\">\n",
       "      <th></th>\n",
       "      <th>Name</th>\n",
       "      <th>Platform</th>\n",
       "      <th>Year_of_Release</th>\n",
       "      <th>Genre</th>\n",
       "      <th>NA_sales</th>\n",
       "      <th>EU_sales</th>\n",
       "      <th>JP_sales</th>\n",
       "      <th>Other_sales</th>\n",
       "      <th>Critic_Score</th>\n",
       "      <th>User_Score</th>\n",
       "      <th>Rating</th>\n",
       "    </tr>\n",
       "  </thead>\n",
       "  <tbody>\n",
       "    <tr>\n",
       "      <th>0</th>\n",
       "      <td>Wii Sports</td>\n",
       "      <td>Wii</td>\n",
       "      <td>2006.0</td>\n",
       "      <td>Sports</td>\n",
       "      <td>41.36</td>\n",
       "      <td>28.96</td>\n",
       "      <td>3.77</td>\n",
       "      <td>8.45</td>\n",
       "      <td>76.0</td>\n",
       "      <td>8</td>\n",
       "      <td>E</td>\n",
       "    </tr>\n",
       "    <tr>\n",
       "      <th>1</th>\n",
       "      <td>Super Mario Bros.</td>\n",
       "      <td>NES</td>\n",
       "      <td>1985.0</td>\n",
       "      <td>Platform</td>\n",
       "      <td>29.08</td>\n",
       "      <td>3.58</td>\n",
       "      <td>6.81</td>\n",
       "      <td>0.77</td>\n",
       "      <td>NaN</td>\n",
       "      <td>NaN</td>\n",
       "      <td>NaN</td>\n",
       "    </tr>\n",
       "    <tr>\n",
       "      <th>2</th>\n",
       "      <td>Mario Kart Wii</td>\n",
       "      <td>Wii</td>\n",
       "      <td>2008.0</td>\n",
       "      <td>Racing</td>\n",
       "      <td>15.68</td>\n",
       "      <td>12.76</td>\n",
       "      <td>3.79</td>\n",
       "      <td>3.29</td>\n",
       "      <td>82.0</td>\n",
       "      <td>8.3</td>\n",
       "      <td>E</td>\n",
       "    </tr>\n",
       "    <tr>\n",
       "      <th>3</th>\n",
       "      <td>Wii Sports Resort</td>\n",
       "      <td>Wii</td>\n",
       "      <td>2009.0</td>\n",
       "      <td>Sports</td>\n",
       "      <td>15.61</td>\n",
       "      <td>10.93</td>\n",
       "      <td>3.28</td>\n",
       "      <td>2.95</td>\n",
       "      <td>80.0</td>\n",
       "      <td>8</td>\n",
       "      <td>E</td>\n",
       "    </tr>\n",
       "    <tr>\n",
       "      <th>4</th>\n",
       "      <td>Pokemon Red/Pokemon Blue</td>\n",
       "      <td>GB</td>\n",
       "      <td>1996.0</td>\n",
       "      <td>Role-Playing</td>\n",
       "      <td>11.27</td>\n",
       "      <td>8.89</td>\n",
       "      <td>10.22</td>\n",
       "      <td>1.00</td>\n",
       "      <td>NaN</td>\n",
       "      <td>NaN</td>\n",
       "      <td>NaN</td>\n",
       "    </tr>\n",
       "  </tbody>\n",
       "</table>\n",
       "</div>"
      ],
      "text/plain": [
       "                       Name Platform  Year_of_Release         Genre  NA_sales  \\\n",
       "0                Wii Sports      Wii           2006.0        Sports     41.36   \n",
       "1         Super Mario Bros.      NES           1985.0      Platform     29.08   \n",
       "2            Mario Kart Wii      Wii           2008.0        Racing     15.68   \n",
       "3         Wii Sports Resort      Wii           2009.0        Sports     15.61   \n",
       "4  Pokemon Red/Pokemon Blue       GB           1996.0  Role-Playing     11.27   \n",
       "\n",
       "   EU_sales  JP_sales  Other_sales  Critic_Score User_Score Rating  \n",
       "0     28.96      3.77         8.45          76.0          8      E  \n",
       "1      3.58      6.81         0.77           NaN        NaN    NaN  \n",
       "2     12.76      3.79         3.29          82.0        8.3      E  \n",
       "3     10.93      3.28         2.95          80.0          8      E  \n",
       "4      8.89     10.22         1.00           NaN        NaN    NaN  "
      ]
     },
     "execution_count": 3,
     "metadata": {},
     "output_type": "execute_result"
    }
   ],
   "source": [
    "data.head()"
   ]
  },
  {
   "cell_type": "code",
   "execution_count": 4,
   "metadata": {},
   "outputs": [
    {
     "name": "stdout",
     "output_type": "stream",
     "text": [
      "<class 'pandas.core.frame.DataFrame'>\n",
      "RangeIndex: 16715 entries, 0 to 16714\n",
      "Data columns (total 11 columns):\n",
      " #   Column           Non-Null Count  Dtype  \n",
      "---  ------           --------------  -----  \n",
      " 0   Name             16713 non-null  object \n",
      " 1   Platform         16715 non-null  object \n",
      " 2   Year_of_Release  16446 non-null  float64\n",
      " 3   Genre            16713 non-null  object \n",
      " 4   NA_sales         16715 non-null  float64\n",
      " 5   EU_sales         16715 non-null  float64\n",
      " 6   JP_sales         16715 non-null  float64\n",
      " 7   Other_sales      16715 non-null  float64\n",
      " 8   Critic_Score     8137 non-null   float64\n",
      " 9   User_Score       10014 non-null  object \n",
      " 10  Rating           9949 non-null   object \n",
      "dtypes: float64(6), object(5)\n",
      "memory usage: 1.4+ MB\n"
     ]
    }
   ],
   "source": [
    "data.info()"
   ]
  },
  {
   "cell_type": "markdown",
   "metadata": {},
   "source": [
    "### Вывод:\n",
    "* В столбце `name`  - пропуски;\n",
    "* В столбце `Year_of_Release` - пропуски и неправильный формат;\n",
    "* В столбце `Genre` - пропуски;\n",
    "* В столбце `Critic_Score` - пропуски;\n",
    "* В столбце `User_Score` - пропуски и неправильный формат;\n",
    "* В столбце `Rating` - пропуски;"
   ]
  },
  {
   "cell_type": "markdown",
   "metadata": {},
   "source": [
    "## Подготовка данных"
   ]
  },
  {
   "cell_type": "markdown",
   "metadata": {},
   "source": [
    "### Замена названия столбцов"
   ]
  },
  {
   "cell_type": "code",
   "execution_count": 5,
   "metadata": {},
   "outputs": [],
   "source": [
    "data.columns = [\n",
    "    \"name\",\n",
    "    \"platform\",\n",
    "    \"year_of_release\",\n",
    "    \"genre\",\n",
    "    \"na_sales\",\n",
    "    \"eu_sales\",\n",
    "    \"jp_sales\",\n",
    "    \"other_sales\",\n",
    "    \"critic_score\",\n",
    "    \"user_score\",\n",
    "    \"rating\"\n",
    "]"
   ]
  },
  {
   "cell_type": "markdown",
   "metadata": {},
   "source": [
    "### Проверка явных дубликатов"
   ]
  },
  {
   "cell_type": "code",
   "execution_count": 6,
   "metadata": {},
   "outputs": [
    {
     "data": {
      "text/plain": [
       "0"
      ]
     },
     "execution_count": 6,
     "metadata": {},
     "output_type": "execute_result"
    }
   ],
   "source": [
    "data.duplicated().sum()"
   ]
  },
  {
   "cell_type": "markdown",
   "metadata": {},
   "source": [
    "### Обработка пропусков"
   ]
  },
  {
   "cell_type": "markdown",
   "metadata": {},
   "source": [
    "#### Информация об пропусках"
   ]
  },
  {
   "cell_type": "code",
   "execution_count": 7,
   "metadata": {},
   "outputs": [
    {
     "name": "stdout",
     "output_type": "stream",
     "text": [
      "Количество пропусков в столбце Name: 2\n",
      "Процент пропусков в столбце Name: 0.011965300628178284\n"
     ]
    }
   ],
   "source": [
    "print('Количество пропусков в столбце Name:', data[\"name\"].isna().sum())\n",
    "print('Процент пропусков в столбце Name:', data[\"name\"].isna().sum()/len(data[\"platform\"])*100)"
   ]
  },
  {
   "cell_type": "code",
   "execution_count": 8,
   "metadata": {},
   "outputs": [
    {
     "name": "stdout",
     "output_type": "stream",
     "text": [
      "Количество пропусков в столбце Year_of_Release: 269\n",
      "Процент пропусков в столбце Year_of_Release: 1.609332934489979\n"
     ]
    }
   ],
   "source": [
    "print('Количество пропусков в столбце Year_of_Release:', data[\"year_of_release\"].isna().sum())\n",
    "print('Процент пропусков в столбце Year_of_Release:', data[\"year_of_release\"].isna().sum()/len(data[\"platform\"])*100)"
   ]
  },
  {
   "cell_type": "code",
   "execution_count": 9,
   "metadata": {},
   "outputs": [
    {
     "name": "stdout",
     "output_type": "stream",
     "text": [
      "Количество пропусков в столбце Genre: 2\n",
      "Процент пропусков в столбце Genre: 0.011965300628178284\n"
     ]
    }
   ],
   "source": [
    "print('Количество пропусков в столбце Genre:', data[\"genre\"].isna().sum())\n",
    "print('Процент пропусков в столбце Genre:', data[\"genre\"].isna().sum()/len(data[\"platform\"])*100)"
   ]
  },
  {
   "cell_type": "code",
   "execution_count": 10,
   "metadata": {},
   "outputs": [
    {
     "name": "stdout",
     "output_type": "stream",
     "text": [
      "Количество пропусков в столбце Critic_Score: 8578\n",
      "Процент пропусков в столбце Critic_Score: 51.31917439425665\n"
     ]
    }
   ],
   "source": [
    "print('Количество пропусков в столбце Critic_Score:', data[\"critic_score\"].isna().sum())\n",
    "print('Процент пропусков в столбце Critic_Score:', data[\"critic_score\"].isna().sum()/len(data[\"platform\"])*100)"
   ]
  },
  {
   "cell_type": "code",
   "execution_count": 11,
   "metadata": {},
   "outputs": [
    {
     "name": "stdout",
     "output_type": "stream",
     "text": [
      "Количество пропусков в столбце User_Score: 6701\n",
      "Процент пропусков в столбце User_Score: 40.08973975471134\n"
     ]
    }
   ],
   "source": [
    "print('Количество пропусков в столбце User_Score:', data[\"user_score\"].isna().sum())\n",
    "print('Процент пропусков в столбце User_Score:', data[\"user_score\"].isna().sum()/len(data[\"platform\"])*100)"
   ]
  },
  {
   "cell_type": "code",
   "execution_count": 12,
   "metadata": {},
   "outputs": [
    {
     "name": "stdout",
     "output_type": "stream",
     "text": [
      "Количество пропусков в столбце Rating: 6766\n",
      "Процент пропусков в столбце Rating: 40.478612025127134\n"
     ]
    }
   ],
   "source": [
    "print('Количество пропусков в столбце Rating:', data[\"rating\"].isna().sum())\n",
    "print('Процент пропусков в столбце Rating:', data[\"rating\"].isna().sum()/len(data[\"platform\"])*100)"
   ]
  },
  {
   "cell_type": "code",
   "execution_count": 13,
   "metadata": {},
   "outputs": [
    {
     "data": {
      "text/plain": [
       "name               0.000120\n",
       "platform           0.000000\n",
       "year_of_release    0.016093\n",
       "genre              0.000120\n",
       "na_sales           0.000000\n",
       "eu_sales           0.000000\n",
       "jp_sales           0.000000\n",
       "other_sales        0.000000\n",
       "critic_score       0.513192\n",
       "user_score         0.400897\n",
       "rating             0.404786\n",
       "dtype: float64"
      ]
     },
     "execution_count": 13,
     "metadata": {},
     "output_type": "execute_result"
    }
   ],
   "source": [
    "data.isna().mean()"
   ]
  },
  {
   "cell_type": "markdown",
   "metadata": {},
   "source": [
    "#### Обработка столбцов `name` и `genre`"
   ]
  },
  {
   "cell_type": "code",
   "execution_count": 14,
   "metadata": {},
   "outputs": [
    {
     "data": {
      "text/html": [
       "<div>\n",
       "<style scoped>\n",
       "    .dataframe tbody tr th:only-of-type {\n",
       "        vertical-align: middle;\n",
       "    }\n",
       "\n",
       "    .dataframe tbody tr th {\n",
       "        vertical-align: top;\n",
       "    }\n",
       "\n",
       "    .dataframe thead th {\n",
       "        text-align: right;\n",
       "    }\n",
       "</style>\n",
       "<table border=\"1\" class=\"dataframe\">\n",
       "  <thead>\n",
       "    <tr style=\"text-align: right;\">\n",
       "      <th></th>\n",
       "      <th>name</th>\n",
       "      <th>platform</th>\n",
       "      <th>year_of_release</th>\n",
       "      <th>genre</th>\n",
       "      <th>na_sales</th>\n",
       "      <th>eu_sales</th>\n",
       "      <th>jp_sales</th>\n",
       "      <th>other_sales</th>\n",
       "      <th>critic_score</th>\n",
       "      <th>user_score</th>\n",
       "      <th>rating</th>\n",
       "    </tr>\n",
       "  </thead>\n",
       "  <tbody>\n",
       "    <tr>\n",
       "      <th>659</th>\n",
       "      <td>NaN</td>\n",
       "      <td>GEN</td>\n",
       "      <td>1993.0</td>\n",
       "      <td>NaN</td>\n",
       "      <td>1.78</td>\n",
       "      <td>0.53</td>\n",
       "      <td>0.00</td>\n",
       "      <td>0.08</td>\n",
       "      <td>NaN</td>\n",
       "      <td>NaN</td>\n",
       "      <td>NaN</td>\n",
       "    </tr>\n",
       "    <tr>\n",
       "      <th>14244</th>\n",
       "      <td>NaN</td>\n",
       "      <td>GEN</td>\n",
       "      <td>1993.0</td>\n",
       "      <td>NaN</td>\n",
       "      <td>0.00</td>\n",
       "      <td>0.00</td>\n",
       "      <td>0.03</td>\n",
       "      <td>0.00</td>\n",
       "      <td>NaN</td>\n",
       "      <td>NaN</td>\n",
       "      <td>NaN</td>\n",
       "    </tr>\n",
       "  </tbody>\n",
       "</table>\n",
       "</div>"
      ],
      "text/plain": [
       "      name platform  year_of_release genre  na_sales  eu_sales  jp_sales  \\\n",
       "659    NaN      GEN           1993.0   NaN      1.78      0.53      0.00   \n",
       "14244  NaN      GEN           1993.0   NaN      0.00      0.00      0.03   \n",
       "\n",
       "       other_sales  critic_score user_score rating  \n",
       "659           0.08           NaN        NaN    NaN  \n",
       "14244         0.00           NaN        NaN    NaN  "
      ]
     },
     "execution_count": 14,
     "metadata": {},
     "output_type": "execute_result"
    }
   ],
   "source": [
    "data[data[\"name\"].isna()]"
   ]
  },
  {
   "cell_type": "markdown",
   "metadata": {},
   "source": [
    "Как видно из таблицы, то данные заполнить нет возможности, тем более в таких строках очень много пропусков. Можно удлать данные строки"
   ]
  },
  {
   "cell_type": "code",
   "execution_count": 15,
   "metadata": {},
   "outputs": [],
   "source": [
    "data.dropna(subset= [\"name\"], inplace = True)"
   ]
  },
  {
   "cell_type": "code",
   "execution_count": 16,
   "metadata": {},
   "outputs": [
    {
     "data": {
      "text/plain": [
       "0"
      ]
     },
     "execution_count": 16,
     "metadata": {},
     "output_type": "execute_result"
    }
   ],
   "source": [
    "data[\"name\"].isna().sum()"
   ]
  },
  {
   "cell_type": "markdown",
   "metadata": {},
   "source": [
    "#### Обработка столбца `Year_of_Release`"
   ]
  },
  {
   "cell_type": "code",
   "execution_count": 17,
   "metadata": {},
   "outputs": [
    {
     "data": {
      "text/html": [
       "<div>\n",
       "<style scoped>\n",
       "    .dataframe tbody tr th:only-of-type {\n",
       "        vertical-align: middle;\n",
       "    }\n",
       "\n",
       "    .dataframe tbody tr th {\n",
       "        vertical-align: top;\n",
       "    }\n",
       "\n",
       "    .dataframe thead th {\n",
       "        text-align: right;\n",
       "    }\n",
       "</style>\n",
       "<table border=\"1\" class=\"dataframe\">\n",
       "  <thead>\n",
       "    <tr style=\"text-align: right;\">\n",
       "      <th></th>\n",
       "      <th>name</th>\n",
       "      <th>platform</th>\n",
       "      <th>year_of_release</th>\n",
       "      <th>genre</th>\n",
       "      <th>na_sales</th>\n",
       "      <th>eu_sales</th>\n",
       "      <th>jp_sales</th>\n",
       "      <th>other_sales</th>\n",
       "      <th>critic_score</th>\n",
       "      <th>user_score</th>\n",
       "      <th>rating</th>\n",
       "    </tr>\n",
       "  </thead>\n",
       "  <tbody>\n",
       "    <tr>\n",
       "      <th>183</th>\n",
       "      <td>Madden NFL 2004</td>\n",
       "      <td>PS2</td>\n",
       "      <td>NaN</td>\n",
       "      <td>Sports</td>\n",
       "      <td>4.26</td>\n",
       "      <td>0.26</td>\n",
       "      <td>0.01</td>\n",
       "      <td>0.71</td>\n",
       "      <td>94.0</td>\n",
       "      <td>8.5</td>\n",
       "      <td>E</td>\n",
       "    </tr>\n",
       "    <tr>\n",
       "      <th>377</th>\n",
       "      <td>FIFA Soccer 2004</td>\n",
       "      <td>PS2</td>\n",
       "      <td>NaN</td>\n",
       "      <td>Sports</td>\n",
       "      <td>0.59</td>\n",
       "      <td>2.36</td>\n",
       "      <td>0.04</td>\n",
       "      <td>0.51</td>\n",
       "      <td>84.0</td>\n",
       "      <td>6.4</td>\n",
       "      <td>E</td>\n",
       "    </tr>\n",
       "    <tr>\n",
       "      <th>456</th>\n",
       "      <td>LEGO Batman: The Videogame</td>\n",
       "      <td>Wii</td>\n",
       "      <td>NaN</td>\n",
       "      <td>Action</td>\n",
       "      <td>1.80</td>\n",
       "      <td>0.97</td>\n",
       "      <td>0.00</td>\n",
       "      <td>0.29</td>\n",
       "      <td>74.0</td>\n",
       "      <td>7.9</td>\n",
       "      <td>E10+</td>\n",
       "    </tr>\n",
       "    <tr>\n",
       "      <th>475</th>\n",
       "      <td>wwe Smackdown vs. Raw 2006</td>\n",
       "      <td>PS2</td>\n",
       "      <td>NaN</td>\n",
       "      <td>Fighting</td>\n",
       "      <td>1.57</td>\n",
       "      <td>1.02</td>\n",
       "      <td>0.00</td>\n",
       "      <td>0.41</td>\n",
       "      <td>NaN</td>\n",
       "      <td>NaN</td>\n",
       "      <td>NaN</td>\n",
       "    </tr>\n",
       "    <tr>\n",
       "      <th>609</th>\n",
       "      <td>Space Invaders</td>\n",
       "      <td>2600</td>\n",
       "      <td>NaN</td>\n",
       "      <td>Shooter</td>\n",
       "      <td>2.36</td>\n",
       "      <td>0.14</td>\n",
       "      <td>0.00</td>\n",
       "      <td>0.03</td>\n",
       "      <td>NaN</td>\n",
       "      <td>NaN</td>\n",
       "      <td>NaN</td>\n",
       "    </tr>\n",
       "    <tr>\n",
       "      <th>...</th>\n",
       "      <td>...</td>\n",
       "      <td>...</td>\n",
       "      <td>...</td>\n",
       "      <td>...</td>\n",
       "      <td>...</td>\n",
       "      <td>...</td>\n",
       "      <td>...</td>\n",
       "      <td>...</td>\n",
       "      <td>...</td>\n",
       "      <td>...</td>\n",
       "      <td>...</td>\n",
       "    </tr>\n",
       "    <tr>\n",
       "      <th>16373</th>\n",
       "      <td>PDC World Championship Darts 2008</td>\n",
       "      <td>PSP</td>\n",
       "      <td>NaN</td>\n",
       "      <td>Sports</td>\n",
       "      <td>0.01</td>\n",
       "      <td>0.00</td>\n",
       "      <td>0.00</td>\n",
       "      <td>0.00</td>\n",
       "      <td>43.0</td>\n",
       "      <td>tbd</td>\n",
       "      <td>E10+</td>\n",
       "    </tr>\n",
       "    <tr>\n",
       "      <th>16405</th>\n",
       "      <td>Freaky Flyers</td>\n",
       "      <td>GC</td>\n",
       "      <td>NaN</td>\n",
       "      <td>Racing</td>\n",
       "      <td>0.01</td>\n",
       "      <td>0.00</td>\n",
       "      <td>0.00</td>\n",
       "      <td>0.00</td>\n",
       "      <td>69.0</td>\n",
       "      <td>6.5</td>\n",
       "      <td>T</td>\n",
       "    </tr>\n",
       "    <tr>\n",
       "      <th>16448</th>\n",
       "      <td>Inversion</td>\n",
       "      <td>PC</td>\n",
       "      <td>NaN</td>\n",
       "      <td>Shooter</td>\n",
       "      <td>0.01</td>\n",
       "      <td>0.00</td>\n",
       "      <td>0.00</td>\n",
       "      <td>0.00</td>\n",
       "      <td>59.0</td>\n",
       "      <td>6.7</td>\n",
       "      <td>M</td>\n",
       "    </tr>\n",
       "    <tr>\n",
       "      <th>16458</th>\n",
       "      <td>Hakuouki: Shinsengumi Kitan</td>\n",
       "      <td>PS3</td>\n",
       "      <td>NaN</td>\n",
       "      <td>Adventure</td>\n",
       "      <td>0.01</td>\n",
       "      <td>0.00</td>\n",
       "      <td>0.00</td>\n",
       "      <td>0.00</td>\n",
       "      <td>NaN</td>\n",
       "      <td>NaN</td>\n",
       "      <td>NaN</td>\n",
       "    </tr>\n",
       "    <tr>\n",
       "      <th>16522</th>\n",
       "      <td>Virtua Quest</td>\n",
       "      <td>GC</td>\n",
       "      <td>NaN</td>\n",
       "      <td>Role-Playing</td>\n",
       "      <td>0.01</td>\n",
       "      <td>0.00</td>\n",
       "      <td>0.00</td>\n",
       "      <td>0.00</td>\n",
       "      <td>55.0</td>\n",
       "      <td>5.5</td>\n",
       "      <td>T</td>\n",
       "    </tr>\n",
       "  </tbody>\n",
       "</table>\n",
       "<p>269 rows × 11 columns</p>\n",
       "</div>"
      ],
      "text/plain": [
       "                                    name platform  year_of_release  \\\n",
       "183                      Madden NFL 2004      PS2              NaN   \n",
       "377                     FIFA Soccer 2004      PS2              NaN   \n",
       "456           LEGO Batman: The Videogame      Wii              NaN   \n",
       "475           wwe Smackdown vs. Raw 2006      PS2              NaN   \n",
       "609                       Space Invaders     2600              NaN   \n",
       "...                                  ...      ...              ...   \n",
       "16373  PDC World Championship Darts 2008      PSP              NaN   \n",
       "16405                      Freaky Flyers       GC              NaN   \n",
       "16448                          Inversion       PC              NaN   \n",
       "16458        Hakuouki: Shinsengumi Kitan      PS3              NaN   \n",
       "16522                       Virtua Quest       GC              NaN   \n",
       "\n",
       "              genre  na_sales  eu_sales  jp_sales  other_sales  critic_score  \\\n",
       "183          Sports      4.26      0.26      0.01         0.71          94.0   \n",
       "377          Sports      0.59      2.36      0.04         0.51          84.0   \n",
       "456          Action      1.80      0.97      0.00         0.29          74.0   \n",
       "475        Fighting      1.57      1.02      0.00         0.41           NaN   \n",
       "609         Shooter      2.36      0.14      0.00         0.03           NaN   \n",
       "...             ...       ...       ...       ...          ...           ...   \n",
       "16373        Sports      0.01      0.00      0.00         0.00          43.0   \n",
       "16405        Racing      0.01      0.00      0.00         0.00          69.0   \n",
       "16448       Shooter      0.01      0.00      0.00         0.00          59.0   \n",
       "16458     Adventure      0.01      0.00      0.00         0.00           NaN   \n",
       "16522  Role-Playing      0.01      0.00      0.00         0.00          55.0   \n",
       "\n",
       "      user_score rating  \n",
       "183          8.5      E  \n",
       "377          6.4      E  \n",
       "456          7.9   E10+  \n",
       "475          NaN    NaN  \n",
       "609          NaN    NaN  \n",
       "...          ...    ...  \n",
       "16373        tbd   E10+  \n",
       "16405        6.5      T  \n",
       "16448        6.7      M  \n",
       "16458        NaN    NaN  \n",
       "16522        5.5      T  \n",
       "\n",
       "[269 rows x 11 columns]"
      ]
     },
     "execution_count": 17,
     "metadata": {},
     "output_type": "execute_result"
    }
   ],
   "source": [
    "data[data[\"year_of_release\"].isna()]"
   ]
  },
  {
   "cell_type": "markdown",
   "metadata": {},
   "source": [
    "Рассмотрим несколько игр для примера поближе"
   ]
  },
  {
   "cell_type": "code",
   "execution_count": 18,
   "metadata": {},
   "outputs": [
    {
     "data": {
      "text/html": [
       "<div>\n",
       "<style scoped>\n",
       "    .dataframe tbody tr th:only-of-type {\n",
       "        vertical-align: middle;\n",
       "    }\n",
       "\n",
       "    .dataframe tbody tr th {\n",
       "        vertical-align: top;\n",
       "    }\n",
       "\n",
       "    .dataframe thead th {\n",
       "        text-align: right;\n",
       "    }\n",
       "</style>\n",
       "<table border=\"1\" class=\"dataframe\">\n",
       "  <thead>\n",
       "    <tr style=\"text-align: right;\">\n",
       "      <th></th>\n",
       "      <th>name</th>\n",
       "      <th>platform</th>\n",
       "      <th>year_of_release</th>\n",
       "      <th>genre</th>\n",
       "      <th>na_sales</th>\n",
       "      <th>eu_sales</th>\n",
       "      <th>jp_sales</th>\n",
       "      <th>other_sales</th>\n",
       "      <th>critic_score</th>\n",
       "      <th>user_score</th>\n",
       "      <th>rating</th>\n",
       "    </tr>\n",
       "  </thead>\n",
       "  <tbody>\n",
       "    <tr>\n",
       "      <th>183</th>\n",
       "      <td>Madden NFL 2004</td>\n",
       "      <td>PS2</td>\n",
       "      <td>NaN</td>\n",
       "      <td>Sports</td>\n",
       "      <td>4.26</td>\n",
       "      <td>0.26</td>\n",
       "      <td>0.01</td>\n",
       "      <td>0.71</td>\n",
       "      <td>94.0</td>\n",
       "      <td>8.5</td>\n",
       "      <td>E</td>\n",
       "    </tr>\n",
       "    <tr>\n",
       "      <th>1881</th>\n",
       "      <td>Madden NFL 2004</td>\n",
       "      <td>XB</td>\n",
       "      <td>2003.0</td>\n",
       "      <td>Sports</td>\n",
       "      <td>1.02</td>\n",
       "      <td>0.02</td>\n",
       "      <td>0.00</td>\n",
       "      <td>0.05</td>\n",
       "      <td>92.0</td>\n",
       "      <td>8.3</td>\n",
       "      <td>E</td>\n",
       "    </tr>\n",
       "    <tr>\n",
       "      <th>3889</th>\n",
       "      <td>Madden NFL 2004</td>\n",
       "      <td>GC</td>\n",
       "      <td>2003.0</td>\n",
       "      <td>Sports</td>\n",
       "      <td>0.40</td>\n",
       "      <td>0.10</td>\n",
       "      <td>0.00</td>\n",
       "      <td>0.01</td>\n",
       "      <td>94.0</td>\n",
       "      <td>7.7</td>\n",
       "      <td>E</td>\n",
       "    </tr>\n",
       "    <tr>\n",
       "      <th>5708</th>\n",
       "      <td>Madden NFL 2004</td>\n",
       "      <td>GBA</td>\n",
       "      <td>2003.0</td>\n",
       "      <td>Sports</td>\n",
       "      <td>0.22</td>\n",
       "      <td>0.08</td>\n",
       "      <td>0.00</td>\n",
       "      <td>0.01</td>\n",
       "      <td>70.0</td>\n",
       "      <td>6.6</td>\n",
       "      <td>E</td>\n",
       "    </tr>\n",
       "  </tbody>\n",
       "</table>\n",
       "</div>"
      ],
      "text/plain": [
       "                 name platform  year_of_release   genre  na_sales  eu_sales  \\\n",
       "183   Madden NFL 2004      PS2              NaN  Sports      4.26      0.26   \n",
       "1881  Madden NFL 2004       XB           2003.0  Sports      1.02      0.02   \n",
       "3889  Madden NFL 2004       GC           2003.0  Sports      0.40      0.10   \n",
       "5708  Madden NFL 2004      GBA           2003.0  Sports      0.22      0.08   \n",
       "\n",
       "      jp_sales  other_sales  critic_score user_score rating  \n",
       "183       0.01         0.71          94.0        8.5      E  \n",
       "1881      0.00         0.05          92.0        8.3      E  \n",
       "3889      0.00         0.01          94.0        7.7      E  \n",
       "5708      0.00         0.01          70.0        6.6      E  "
      ]
     },
     "execution_count": 18,
     "metadata": {},
     "output_type": "execute_result"
    }
   ],
   "source": [
    "data[data['name'] == 'Madden NFL 2004']"
   ]
  },
  {
   "cell_type": "code",
   "execution_count": 19,
   "metadata": {},
   "outputs": [
    {
     "data": {
      "text/html": [
       "<div>\n",
       "<style scoped>\n",
       "    .dataframe tbody tr th:only-of-type {\n",
       "        vertical-align: middle;\n",
       "    }\n",
       "\n",
       "    .dataframe tbody tr th {\n",
       "        vertical-align: top;\n",
       "    }\n",
       "\n",
       "    .dataframe thead th {\n",
       "        text-align: right;\n",
       "    }\n",
       "</style>\n",
       "<table border=\"1\" class=\"dataframe\">\n",
       "  <thead>\n",
       "    <tr style=\"text-align: right;\">\n",
       "      <th></th>\n",
       "      <th>name</th>\n",
       "      <th>platform</th>\n",
       "      <th>year_of_release</th>\n",
       "      <th>genre</th>\n",
       "      <th>na_sales</th>\n",
       "      <th>eu_sales</th>\n",
       "      <th>jp_sales</th>\n",
       "      <th>other_sales</th>\n",
       "      <th>critic_score</th>\n",
       "      <th>user_score</th>\n",
       "      <th>rating</th>\n",
       "    </tr>\n",
       "  </thead>\n",
       "  <tbody>\n",
       "    <tr>\n",
       "      <th>397</th>\n",
       "      <td>LEGO Batman: The Videogame</td>\n",
       "      <td>X360</td>\n",
       "      <td>2008.0</td>\n",
       "      <td>Action</td>\n",
       "      <td>2.04</td>\n",
       "      <td>1.02</td>\n",
       "      <td>0.0</td>\n",
       "      <td>0.32</td>\n",
       "      <td>76.0</td>\n",
       "      <td>7.9</td>\n",
       "      <td>E10+</td>\n",
       "    </tr>\n",
       "    <tr>\n",
       "      <th>456</th>\n",
       "      <td>LEGO Batman: The Videogame</td>\n",
       "      <td>Wii</td>\n",
       "      <td>NaN</td>\n",
       "      <td>Action</td>\n",
       "      <td>1.80</td>\n",
       "      <td>0.97</td>\n",
       "      <td>0.0</td>\n",
       "      <td>0.29</td>\n",
       "      <td>74.0</td>\n",
       "      <td>7.9</td>\n",
       "      <td>E10+</td>\n",
       "    </tr>\n",
       "    <tr>\n",
       "      <th>460</th>\n",
       "      <td>LEGO Batman: The Videogame</td>\n",
       "      <td>DS</td>\n",
       "      <td>2008.0</td>\n",
       "      <td>Action</td>\n",
       "      <td>1.75</td>\n",
       "      <td>1.01</td>\n",
       "      <td>0.0</td>\n",
       "      <td>0.29</td>\n",
       "      <td>72.0</td>\n",
       "      <td>8</td>\n",
       "      <td>E10+</td>\n",
       "    </tr>\n",
       "    <tr>\n",
       "      <th>1519</th>\n",
       "      <td>LEGO Batman: The Videogame</td>\n",
       "      <td>PS3</td>\n",
       "      <td>2008.0</td>\n",
       "      <td>Action</td>\n",
       "      <td>0.72</td>\n",
       "      <td>0.39</td>\n",
       "      <td>0.0</td>\n",
       "      <td>0.19</td>\n",
       "      <td>75.0</td>\n",
       "      <td>7.7</td>\n",
       "      <td>E10+</td>\n",
       "    </tr>\n",
       "    <tr>\n",
       "      <th>1538</th>\n",
       "      <td>LEGO Batman: The Videogame</td>\n",
       "      <td>PSP</td>\n",
       "      <td>NaN</td>\n",
       "      <td>Action</td>\n",
       "      <td>0.57</td>\n",
       "      <td>0.44</td>\n",
       "      <td>0.0</td>\n",
       "      <td>0.27</td>\n",
       "      <td>73.0</td>\n",
       "      <td>7.4</td>\n",
       "      <td>E10+</td>\n",
       "    </tr>\n",
       "    <tr>\n",
       "      <th>1553</th>\n",
       "      <td>LEGO Batman: The Videogame</td>\n",
       "      <td>PS2</td>\n",
       "      <td>2008.0</td>\n",
       "      <td>Action</td>\n",
       "      <td>0.72</td>\n",
       "      <td>0.03</td>\n",
       "      <td>0.0</td>\n",
       "      <td>0.52</td>\n",
       "      <td>77.0</td>\n",
       "      <td>8.9</td>\n",
       "      <td>E10+</td>\n",
       "    </tr>\n",
       "    <tr>\n",
       "      <th>12465</th>\n",
       "      <td>LEGO Batman: The Videogame</td>\n",
       "      <td>PC</td>\n",
       "      <td>2008.0</td>\n",
       "      <td>Action</td>\n",
       "      <td>0.02</td>\n",
       "      <td>0.03</td>\n",
       "      <td>0.0</td>\n",
       "      <td>0.01</td>\n",
       "      <td>80.0</td>\n",
       "      <td>7.8</td>\n",
       "      <td>E10+</td>\n",
       "    </tr>\n",
       "  </tbody>\n",
       "</table>\n",
       "</div>"
      ],
      "text/plain": [
       "                             name platform  year_of_release   genre  na_sales  \\\n",
       "397    LEGO Batman: The Videogame     X360           2008.0  Action      2.04   \n",
       "456    LEGO Batman: The Videogame      Wii              NaN  Action      1.80   \n",
       "460    LEGO Batman: The Videogame       DS           2008.0  Action      1.75   \n",
       "1519   LEGO Batman: The Videogame      PS3           2008.0  Action      0.72   \n",
       "1538   LEGO Batman: The Videogame      PSP              NaN  Action      0.57   \n",
       "1553   LEGO Batman: The Videogame      PS2           2008.0  Action      0.72   \n",
       "12465  LEGO Batman: The Videogame       PC           2008.0  Action      0.02   \n",
       "\n",
       "       eu_sales  jp_sales  other_sales  critic_score user_score rating  \n",
       "397        1.02       0.0         0.32          76.0        7.9   E10+  \n",
       "456        0.97       0.0         0.29          74.0        7.9   E10+  \n",
       "460        1.01       0.0         0.29          72.0          8   E10+  \n",
       "1519       0.39       0.0         0.19          75.0        7.7   E10+  \n",
       "1538       0.44       0.0         0.27          73.0        7.4   E10+  \n",
       "1553       0.03       0.0         0.52          77.0        8.9   E10+  \n",
       "12465      0.03       0.0         0.01          80.0        7.8   E10+  "
      ]
     },
     "execution_count": 19,
     "metadata": {},
     "output_type": "execute_result"
    }
   ],
   "source": [
    "data[data['name'] == 'LEGO Batman: The Videogame']"
   ]
  },
  {
   "cell_type": "code",
   "execution_count": 20,
   "metadata": {},
   "outputs": [
    {
     "data": {
      "text/html": [
       "<div>\n",
       "<style scoped>\n",
       "    .dataframe tbody tr th:only-of-type {\n",
       "        vertical-align: middle;\n",
       "    }\n",
       "\n",
       "    .dataframe tbody tr th {\n",
       "        vertical-align: top;\n",
       "    }\n",
       "\n",
       "    .dataframe thead th {\n",
       "        text-align: right;\n",
       "    }\n",
       "</style>\n",
       "<table border=\"1\" class=\"dataframe\">\n",
       "  <thead>\n",
       "    <tr style=\"text-align: right;\">\n",
       "      <th></th>\n",
       "      <th>name</th>\n",
       "      <th>platform</th>\n",
       "      <th>year_of_release</th>\n",
       "      <th>genre</th>\n",
       "      <th>na_sales</th>\n",
       "      <th>eu_sales</th>\n",
       "      <th>jp_sales</th>\n",
       "      <th>other_sales</th>\n",
       "      <th>critic_score</th>\n",
       "      <th>user_score</th>\n",
       "      <th>rating</th>\n",
       "    </tr>\n",
       "  </thead>\n",
       "  <tbody>\n",
       "    <tr>\n",
       "      <th>377</th>\n",
       "      <td>FIFA Soccer 2004</td>\n",
       "      <td>PS2</td>\n",
       "      <td>NaN</td>\n",
       "      <td>Sports</td>\n",
       "      <td>0.59</td>\n",
       "      <td>2.36</td>\n",
       "      <td>0.04</td>\n",
       "      <td>0.51</td>\n",
       "      <td>84.0</td>\n",
       "      <td>6.4</td>\n",
       "      <td>E</td>\n",
       "    </tr>\n",
       "    <tr>\n",
       "      <th>2606</th>\n",
       "      <td>FIFA Soccer 2004</td>\n",
       "      <td>XB</td>\n",
       "      <td>2003.0</td>\n",
       "      <td>Sports</td>\n",
       "      <td>0.24</td>\n",
       "      <td>0.49</td>\n",
       "      <td>0.00</td>\n",
       "      <td>0.05</td>\n",
       "      <td>82.0</td>\n",
       "      <td>8.2</td>\n",
       "      <td>E</td>\n",
       "    </tr>\n",
       "    <tr>\n",
       "      <th>12029</th>\n",
       "      <td>FIFA Soccer 2004</td>\n",
       "      <td>GC</td>\n",
       "      <td>2003.0</td>\n",
       "      <td>Sports</td>\n",
       "      <td>0.05</td>\n",
       "      <td>0.01</td>\n",
       "      <td>0.00</td>\n",
       "      <td>0.00</td>\n",
       "      <td>83.0</td>\n",
       "      <td>6.2</td>\n",
       "      <td>E</td>\n",
       "    </tr>\n",
       "    <tr>\n",
       "      <th>13086</th>\n",
       "      <td>FIFA Soccer 2004</td>\n",
       "      <td>GBA</td>\n",
       "      <td>2003.0</td>\n",
       "      <td>Sports</td>\n",
       "      <td>0.04</td>\n",
       "      <td>0.01</td>\n",
       "      <td>0.00</td>\n",
       "      <td>0.00</td>\n",
       "      <td>82.0</td>\n",
       "      <td>7.9</td>\n",
       "      <td>E</td>\n",
       "    </tr>\n",
       "  </tbody>\n",
       "</table>\n",
       "</div>"
      ],
      "text/plain": [
       "                   name platform  year_of_release   genre  na_sales  eu_sales  \\\n",
       "377    FIFA Soccer 2004      PS2              NaN  Sports      0.59      2.36   \n",
       "2606   FIFA Soccer 2004       XB           2003.0  Sports      0.24      0.49   \n",
       "12029  FIFA Soccer 2004       GC           2003.0  Sports      0.05      0.01   \n",
       "13086  FIFA Soccer 2004      GBA           2003.0  Sports      0.04      0.01   \n",
       "\n",
       "       jp_sales  other_sales  critic_score user_score rating  \n",
       "377        0.04         0.51          84.0        6.4      E  \n",
       "2606       0.00         0.05          82.0        8.2      E  \n",
       "12029      0.00         0.00          83.0        6.2      E  \n",
       "13086      0.00         0.00          82.0        7.9      E  "
      ]
     },
     "execution_count": 20,
     "metadata": {},
     "output_type": "execute_result"
    }
   ],
   "source": [
    "data[data['name'] == 'FIFA Soccer 2004']"
   ]
  },
  {
   "cell_type": "code",
   "execution_count": 21,
   "metadata": {},
   "outputs": [
    {
     "data": {
      "text/html": [
       "<div>\n",
       "<style scoped>\n",
       "    .dataframe tbody tr th:only-of-type {\n",
       "        vertical-align: middle;\n",
       "    }\n",
       "\n",
       "    .dataframe tbody tr th {\n",
       "        vertical-align: top;\n",
       "    }\n",
       "\n",
       "    .dataframe thead th {\n",
       "        text-align: right;\n",
       "    }\n",
       "</style>\n",
       "<table border=\"1\" class=\"dataframe\">\n",
       "  <thead>\n",
       "    <tr style=\"text-align: right;\">\n",
       "      <th></th>\n",
       "      <th>name</th>\n",
       "      <th>platform</th>\n",
       "      <th>year_of_release</th>\n",
       "      <th>genre</th>\n",
       "      <th>na_sales</th>\n",
       "      <th>eu_sales</th>\n",
       "      <th>jp_sales</th>\n",
       "      <th>other_sales</th>\n",
       "      <th>critic_score</th>\n",
       "      <th>user_score</th>\n",
       "      <th>rating</th>\n",
       "    </tr>\n",
       "  </thead>\n",
       "  <tbody>\n",
       "    <tr>\n",
       "      <th>475</th>\n",
       "      <td>wwe Smackdown vs. Raw 2006</td>\n",
       "      <td>PS2</td>\n",
       "      <td>NaN</td>\n",
       "      <td>Fighting</td>\n",
       "      <td>1.57</td>\n",
       "      <td>1.02</td>\n",
       "      <td>0.0</td>\n",
       "      <td>0.41</td>\n",
       "      <td>NaN</td>\n",
       "      <td>NaN</td>\n",
       "      <td>NaN</td>\n",
       "    </tr>\n",
       "  </tbody>\n",
       "</table>\n",
       "</div>"
      ],
      "text/plain": [
       "                           name platform  year_of_release     genre  na_sales  \\\n",
       "475  wwe Smackdown vs. Raw 2006      PS2              NaN  Fighting      1.57   \n",
       "\n",
       "     eu_sales  jp_sales  other_sales  critic_score user_score rating  \n",
       "475      1.02       0.0         0.41           NaN        NaN    NaN  "
      ]
     },
     "execution_count": 21,
     "metadata": {},
     "output_type": "execute_result"
    }
   ],
   "source": [
    "data[data['name'] == 'wwe Smackdown vs. Raw 2006']"
   ]
  },
  {
   "cell_type": "markdown",
   "metadata": {},
   "source": [
    "Для некоторых игр дату можно заоплнить на основании даты выхода на другой платформе, но есть и игры, у которых релиз был только на одной платформе. Такие игры оставим с пропусками."
   ]
  },
  {
   "cell_type": "code",
   "execution_count": 22,
   "metadata": {},
   "outputs": [],
   "source": [
    "for i in data[data[\"year_of_release\"].isna()].index:\n",
    "    data['year_of_release'][i] = data.loc[data['name'] == data['name'][i], 'year_of_release'].max()"
   ]
  },
  {
   "cell_type": "code",
   "execution_count": 23,
   "metadata": {},
   "outputs": [],
   "source": [
    "data[\"year_of_release\"] = data[\"year_of_release\"].fillna(-1) #Заменим пустые значения на -1 для дальнейшего анализа\n",
    "data[\"year_of_release\"] = data[\"year_of_release\"].astype(\"int\")"
   ]
  },
  {
   "cell_type": "markdown",
   "metadata": {},
   "source": [
    "#### Обработка столбца `rating`"
   ]
  },
  {
   "cell_type": "markdown",
   "metadata": {},
   "source": [
    "Пропущенные данные невозможно заполнить, так как отсутствует связь. Данные пропуски отсутствуют в результате того, что скорей всего на тот момент не было организации (Появилась только в 1994 году) или не осуществялала оценку игр из определенных регионов"
   ]
  },
  {
   "cell_type": "code",
   "execution_count": 24,
   "metadata": {},
   "outputs": [
    {
     "data": {
      "text/html": [
       "<div>\n",
       "<style scoped>\n",
       "    .dataframe tbody tr th:only-of-type {\n",
       "        vertical-align: middle;\n",
       "    }\n",
       "\n",
       "    .dataframe tbody tr th {\n",
       "        vertical-align: top;\n",
       "    }\n",
       "\n",
       "    .dataframe thead th {\n",
       "        text-align: right;\n",
       "    }\n",
       "</style>\n",
       "<table border=\"1\" class=\"dataframe\">\n",
       "  <thead>\n",
       "    <tr style=\"text-align: right;\">\n",
       "      <th></th>\n",
       "      <th>name</th>\n",
       "      <th>platform</th>\n",
       "      <th>year_of_release</th>\n",
       "      <th>genre</th>\n",
       "      <th>na_sales</th>\n",
       "      <th>eu_sales</th>\n",
       "      <th>jp_sales</th>\n",
       "      <th>other_sales</th>\n",
       "      <th>critic_score</th>\n",
       "      <th>user_score</th>\n",
       "      <th>rating</th>\n",
       "    </tr>\n",
       "  </thead>\n",
       "  <tbody>\n",
       "    <tr>\n",
       "      <th>1</th>\n",
       "      <td>Super Mario Bros.</td>\n",
       "      <td>NES</td>\n",
       "      <td>1985</td>\n",
       "      <td>Platform</td>\n",
       "      <td>29.08</td>\n",
       "      <td>3.58</td>\n",
       "      <td>6.81</td>\n",
       "      <td>0.77</td>\n",
       "      <td>NaN</td>\n",
       "      <td>NaN</td>\n",
       "      <td>NaN</td>\n",
       "    </tr>\n",
       "    <tr>\n",
       "      <th>5</th>\n",
       "      <td>Tetris</td>\n",
       "      <td>GB</td>\n",
       "      <td>1989</td>\n",
       "      <td>Puzzle</td>\n",
       "      <td>23.20</td>\n",
       "      <td>2.26</td>\n",
       "      <td>4.22</td>\n",
       "      <td>0.58</td>\n",
       "      <td>NaN</td>\n",
       "      <td>NaN</td>\n",
       "      <td>NaN</td>\n",
       "    </tr>\n",
       "    <tr>\n",
       "      <th>9</th>\n",
       "      <td>Duck Hunt</td>\n",
       "      <td>NES</td>\n",
       "      <td>1984</td>\n",
       "      <td>Shooter</td>\n",
       "      <td>26.93</td>\n",
       "      <td>0.63</td>\n",
       "      <td>0.28</td>\n",
       "      <td>0.47</td>\n",
       "      <td>NaN</td>\n",
       "      <td>NaN</td>\n",
       "      <td>NaN</td>\n",
       "    </tr>\n",
       "    <tr>\n",
       "      <th>18</th>\n",
       "      <td>Super Mario World</td>\n",
       "      <td>SNES</td>\n",
       "      <td>1990</td>\n",
       "      <td>Platform</td>\n",
       "      <td>12.78</td>\n",
       "      <td>3.75</td>\n",
       "      <td>3.54</td>\n",
       "      <td>0.55</td>\n",
       "      <td>NaN</td>\n",
       "      <td>NaN</td>\n",
       "      <td>NaN</td>\n",
       "    </tr>\n",
       "    <tr>\n",
       "      <th>21</th>\n",
       "      <td>Super Mario Land</td>\n",
       "      <td>GB</td>\n",
       "      <td>1989</td>\n",
       "      <td>Platform</td>\n",
       "      <td>10.83</td>\n",
       "      <td>2.71</td>\n",
       "      <td>4.18</td>\n",
       "      <td>0.42</td>\n",
       "      <td>NaN</td>\n",
       "      <td>NaN</td>\n",
       "      <td>NaN</td>\n",
       "    </tr>\n",
       "    <tr>\n",
       "      <th>...</th>\n",
       "      <td>...</td>\n",
       "      <td>...</td>\n",
       "      <td>...</td>\n",
       "      <td>...</td>\n",
       "      <td>...</td>\n",
       "      <td>...</td>\n",
       "      <td>...</td>\n",
       "      <td>...</td>\n",
       "      <td>...</td>\n",
       "      <td>...</td>\n",
       "      <td>...</td>\n",
       "    </tr>\n",
       "    <tr>\n",
       "      <th>15998</th>\n",
       "      <td>Jet Impulse</td>\n",
       "      <td>DS</td>\n",
       "      <td>-1</td>\n",
       "      <td>Simulation</td>\n",
       "      <td>0.00</td>\n",
       "      <td>0.00</td>\n",
       "      <td>0.02</td>\n",
       "      <td>0.00</td>\n",
       "      <td>NaN</td>\n",
       "      <td>NaN</td>\n",
       "      <td>NaN</td>\n",
       "    </tr>\n",
       "    <tr>\n",
       "      <th>16079</th>\n",
       "      <td>Football Manager 2007</td>\n",
       "      <td>X360</td>\n",
       "      <td>-1</td>\n",
       "      <td>Sports</td>\n",
       "      <td>0.00</td>\n",
       "      <td>0.01</td>\n",
       "      <td>0.00</td>\n",
       "      <td>0.00</td>\n",
       "      <td>NaN</td>\n",
       "      <td>NaN</td>\n",
       "      <td>NaN</td>\n",
       "    </tr>\n",
       "    <tr>\n",
       "      <th>16207</th>\n",
       "      <td>Rock N' Roll Racing</td>\n",
       "      <td>SNES</td>\n",
       "      <td>1993</td>\n",
       "      <td>Racing</td>\n",
       "      <td>0.00</td>\n",
       "      <td>0.00</td>\n",
       "      <td>0.01</td>\n",
       "      <td>0.00</td>\n",
       "      <td>NaN</td>\n",
       "      <td>NaN</td>\n",
       "      <td>NaN</td>\n",
       "    </tr>\n",
       "    <tr>\n",
       "      <th>16348</th>\n",
       "      <td>Agarest Senki: Re-appearance</td>\n",
       "      <td>PS3</td>\n",
       "      <td>-1</td>\n",
       "      <td>Role-Playing</td>\n",
       "      <td>0.00</td>\n",
       "      <td>0.00</td>\n",
       "      <td>0.01</td>\n",
       "      <td>0.00</td>\n",
       "      <td>NaN</td>\n",
       "      <td>NaN</td>\n",
       "      <td>NaN</td>\n",
       "    </tr>\n",
       "    <tr>\n",
       "      <th>16458</th>\n",
       "      <td>Hakuouki: Shinsengumi Kitan</td>\n",
       "      <td>PS3</td>\n",
       "      <td>-1</td>\n",
       "      <td>Adventure</td>\n",
       "      <td>0.01</td>\n",
       "      <td>0.00</td>\n",
       "      <td>0.00</td>\n",
       "      <td>0.00</td>\n",
       "      <td>NaN</td>\n",
       "      <td>NaN</td>\n",
       "      <td>NaN</td>\n",
       "    </tr>\n",
       "  </tbody>\n",
       "</table>\n",
       "<p>546 rows × 11 columns</p>\n",
       "</div>"
      ],
      "text/plain": [
       "                               name platform  year_of_release         genre  \\\n",
       "1                 Super Mario Bros.      NES             1985      Platform   \n",
       "5                            Tetris       GB             1989        Puzzle   \n",
       "9                         Duck Hunt      NES             1984       Shooter   \n",
       "18                Super Mario World     SNES             1990      Platform   \n",
       "21                 Super Mario Land       GB             1989      Platform   \n",
       "...                             ...      ...              ...           ...   \n",
       "15998                   Jet Impulse       DS               -1    Simulation   \n",
       "16079         Football Manager 2007     X360               -1        Sports   \n",
       "16207           Rock N' Roll Racing     SNES             1993        Racing   \n",
       "16348  Agarest Senki: Re-appearance      PS3               -1  Role-Playing   \n",
       "16458   Hakuouki: Shinsengumi Kitan      PS3               -1     Adventure   \n",
       "\n",
       "       na_sales  eu_sales  jp_sales  other_sales  critic_score user_score  \\\n",
       "1         29.08      3.58      6.81         0.77           NaN        NaN   \n",
       "5         23.20      2.26      4.22         0.58           NaN        NaN   \n",
       "9         26.93      0.63      0.28         0.47           NaN        NaN   \n",
       "18        12.78      3.75      3.54         0.55           NaN        NaN   \n",
       "21        10.83      2.71      4.18         0.42           NaN        NaN   \n",
       "...         ...       ...       ...          ...           ...        ...   \n",
       "15998      0.00      0.00      0.02         0.00           NaN        NaN   \n",
       "16079      0.00      0.01      0.00         0.00           NaN        NaN   \n",
       "16207      0.00      0.00      0.01         0.00           NaN        NaN   \n",
       "16348      0.00      0.00      0.01         0.00           NaN        NaN   \n",
       "16458      0.01      0.00      0.00         0.00           NaN        NaN   \n",
       "\n",
       "      rating  \n",
       "1        NaN  \n",
       "5        NaN  \n",
       "9        NaN  \n",
       "18       NaN  \n",
       "21       NaN  \n",
       "...      ...  \n",
       "15998    NaN  \n",
       "16079    NaN  \n",
       "16207    NaN  \n",
       "16348    NaN  \n",
       "16458    NaN  \n",
       "\n",
       "[546 rows x 11 columns]"
      ]
     },
     "execution_count": 24,
     "metadata": {},
     "output_type": "execute_result"
    }
   ],
   "source": [
    "data[(data[\"rating\"].isna() == True) & (data[\"year_of_release\"] <= 1994)]"
   ]
  },
  {
   "cell_type": "markdown",
   "metadata": {},
   "source": [
    "546 строк и играми, которые были выпущены раньше 1994 года и не были оценены организацией."
   ]
  },
  {
   "cell_type": "code",
   "execution_count": 25,
   "metadata": {},
   "outputs": [
    {
     "data": {
      "text/html": [
       "<div>\n",
       "<style scoped>\n",
       "    .dataframe tbody tr th:only-of-type {\n",
       "        vertical-align: middle;\n",
       "    }\n",
       "\n",
       "    .dataframe tbody tr th {\n",
       "        vertical-align: top;\n",
       "    }\n",
       "\n",
       "    .dataframe thead th {\n",
       "        text-align: right;\n",
       "    }\n",
       "</style>\n",
       "<table border=\"1\" class=\"dataframe\">\n",
       "  <thead>\n",
       "    <tr style=\"text-align: right;\">\n",
       "      <th></th>\n",
       "      <th>name</th>\n",
       "      <th>platform</th>\n",
       "      <th>year_of_release</th>\n",
       "      <th>genre</th>\n",
       "      <th>na_sales</th>\n",
       "      <th>eu_sales</th>\n",
       "      <th>jp_sales</th>\n",
       "      <th>other_sales</th>\n",
       "      <th>critic_score</th>\n",
       "      <th>user_score</th>\n",
       "      <th>rating</th>\n",
       "    </tr>\n",
       "  </thead>\n",
       "  <tbody>\n",
       "    <tr>\n",
       "      <th>215</th>\n",
       "      <td>Monster Hunter Freedom 3</td>\n",
       "      <td>PSP</td>\n",
       "      <td>2010</td>\n",
       "      <td>Role-Playing</td>\n",
       "      <td>0.0</td>\n",
       "      <td>0.00</td>\n",
       "      <td>4.87</td>\n",
       "      <td>0.00</td>\n",
       "      <td>NaN</td>\n",
       "      <td>NaN</td>\n",
       "      <td>NaN</td>\n",
       "    </tr>\n",
       "    <tr>\n",
       "      <th>340</th>\n",
       "      <td>Friend Collection</td>\n",
       "      <td>DS</td>\n",
       "      <td>2009</td>\n",
       "      <td>Misc</td>\n",
       "      <td>0.0</td>\n",
       "      <td>0.00</td>\n",
       "      <td>3.67</td>\n",
       "      <td>0.00</td>\n",
       "      <td>NaN</td>\n",
       "      <td>NaN</td>\n",
       "      <td>NaN</td>\n",
       "    </tr>\n",
       "    <tr>\n",
       "      <th>385</th>\n",
       "      <td>Monster Hunter 4</td>\n",
       "      <td>3DS</td>\n",
       "      <td>2013</td>\n",
       "      <td>Role-Playing</td>\n",
       "      <td>0.0</td>\n",
       "      <td>0.00</td>\n",
       "      <td>3.44</td>\n",
       "      <td>0.00</td>\n",
       "      <td>NaN</td>\n",
       "      <td>NaN</td>\n",
       "      <td>NaN</td>\n",
       "    </tr>\n",
       "    <tr>\n",
       "      <th>403</th>\n",
       "      <td>English Training: Have Fun Improving Your Skills!</td>\n",
       "      <td>DS</td>\n",
       "      <td>2006</td>\n",
       "      <td>Misc</td>\n",
       "      <td>0.0</td>\n",
       "      <td>0.99</td>\n",
       "      <td>2.32</td>\n",
       "      <td>0.02</td>\n",
       "      <td>NaN</td>\n",
       "      <td>NaN</td>\n",
       "      <td>NaN</td>\n",
       "    </tr>\n",
       "    <tr>\n",
       "      <th>428</th>\n",
       "      <td>Dragon Quest VI: Maboroshi no Daichi</td>\n",
       "      <td>SNES</td>\n",
       "      <td>1995</td>\n",
       "      <td>Role-Playing</td>\n",
       "      <td>0.0</td>\n",
       "      <td>0.00</td>\n",
       "      <td>3.19</td>\n",
       "      <td>0.00</td>\n",
       "      <td>NaN</td>\n",
       "      <td>NaN</td>\n",
       "      <td>NaN</td>\n",
       "    </tr>\n",
       "    <tr>\n",
       "      <th>...</th>\n",
       "      <td>...</td>\n",
       "      <td>...</td>\n",
       "      <td>...</td>\n",
       "      <td>...</td>\n",
       "      <td>...</td>\n",
       "      <td>...</td>\n",
       "      <td>...</td>\n",
       "      <td>...</td>\n",
       "      <td>...</td>\n",
       "      <td>...</td>\n",
       "      <td>...</td>\n",
       "    </tr>\n",
       "    <tr>\n",
       "      <th>16709</th>\n",
       "      <td>SCORE International Baja 1000: The Official Game</td>\n",
       "      <td>PS2</td>\n",
       "      <td>2008</td>\n",
       "      <td>Racing</td>\n",
       "      <td>0.0</td>\n",
       "      <td>0.00</td>\n",
       "      <td>0.00</td>\n",
       "      <td>0.00</td>\n",
       "      <td>NaN</td>\n",
       "      <td>NaN</td>\n",
       "      <td>NaN</td>\n",
       "    </tr>\n",
       "    <tr>\n",
       "      <th>16710</th>\n",
       "      <td>Samurai Warriors: Sanada Maru</td>\n",
       "      <td>PS3</td>\n",
       "      <td>2016</td>\n",
       "      <td>Action</td>\n",
       "      <td>0.0</td>\n",
       "      <td>0.00</td>\n",
       "      <td>0.01</td>\n",
       "      <td>0.00</td>\n",
       "      <td>NaN</td>\n",
       "      <td>NaN</td>\n",
       "      <td>NaN</td>\n",
       "    </tr>\n",
       "    <tr>\n",
       "      <th>16711</th>\n",
       "      <td>LMA Manager 2007</td>\n",
       "      <td>X360</td>\n",
       "      <td>2006</td>\n",
       "      <td>Sports</td>\n",
       "      <td>0.0</td>\n",
       "      <td>0.01</td>\n",
       "      <td>0.00</td>\n",
       "      <td>0.00</td>\n",
       "      <td>NaN</td>\n",
       "      <td>NaN</td>\n",
       "      <td>NaN</td>\n",
       "    </tr>\n",
       "    <tr>\n",
       "      <th>16712</th>\n",
       "      <td>Haitaka no Psychedelica</td>\n",
       "      <td>PSV</td>\n",
       "      <td>2016</td>\n",
       "      <td>Adventure</td>\n",
       "      <td>0.0</td>\n",
       "      <td>0.00</td>\n",
       "      <td>0.01</td>\n",
       "      <td>0.00</td>\n",
       "      <td>NaN</td>\n",
       "      <td>NaN</td>\n",
       "      <td>NaN</td>\n",
       "    </tr>\n",
       "    <tr>\n",
       "      <th>16714</th>\n",
       "      <td>Winning Post 8 2016</td>\n",
       "      <td>PSV</td>\n",
       "      <td>2016</td>\n",
       "      <td>Simulation</td>\n",
       "      <td>0.0</td>\n",
       "      <td>0.00</td>\n",
       "      <td>0.01</td>\n",
       "      <td>0.00</td>\n",
       "      <td>NaN</td>\n",
       "      <td>NaN</td>\n",
       "      <td>NaN</td>\n",
       "    </tr>\n",
       "  </tbody>\n",
       "</table>\n",
       "<p>3731 rows × 11 columns</p>\n",
       "</div>"
      ],
      "text/plain": [
       "                                                    name platform  \\\n",
       "215                             Monster Hunter Freedom 3      PSP   \n",
       "340                                    Friend Collection       DS   \n",
       "385                                     Monster Hunter 4      3DS   \n",
       "403    English Training: Have Fun Improving Your Skills!       DS   \n",
       "428                 Dragon Quest VI: Maboroshi no Daichi     SNES   \n",
       "...                                                  ...      ...   \n",
       "16709   SCORE International Baja 1000: The Official Game      PS2   \n",
       "16710                      Samurai Warriors: Sanada Maru      PS3   \n",
       "16711                                   LMA Manager 2007     X360   \n",
       "16712                            Haitaka no Psychedelica      PSV   \n",
       "16714                                Winning Post 8 2016      PSV   \n",
       "\n",
       "       year_of_release         genre  na_sales  eu_sales  jp_sales  \\\n",
       "215               2010  Role-Playing       0.0      0.00      4.87   \n",
       "340               2009          Misc       0.0      0.00      3.67   \n",
       "385               2013  Role-Playing       0.0      0.00      3.44   \n",
       "403               2006          Misc       0.0      0.99      2.32   \n",
       "428               1995  Role-Playing       0.0      0.00      3.19   \n",
       "...                ...           ...       ...       ...       ...   \n",
       "16709             2008        Racing       0.0      0.00      0.00   \n",
       "16710             2016        Action       0.0      0.00      0.01   \n",
       "16711             2006        Sports       0.0      0.01      0.00   \n",
       "16712             2016     Adventure       0.0      0.00      0.01   \n",
       "16714             2016    Simulation       0.0      0.00      0.01   \n",
       "\n",
       "       other_sales  critic_score user_score rating  \n",
       "215           0.00           NaN        NaN    NaN  \n",
       "340           0.00           NaN        NaN    NaN  \n",
       "385           0.00           NaN        NaN    NaN  \n",
       "403           0.02           NaN        NaN    NaN  \n",
       "428           0.00           NaN        NaN    NaN  \n",
       "...            ...           ...        ...    ...  \n",
       "16709         0.00           NaN        NaN    NaN  \n",
       "16710         0.00           NaN        NaN    NaN  \n",
       "16711         0.00           NaN        NaN    NaN  \n",
       "16712         0.00           NaN        NaN    NaN  \n",
       "16714         0.00           NaN        NaN    NaN  \n",
       "\n",
       "[3731 rows x 11 columns]"
      ]
     },
     "execution_count": 25,
     "metadata": {},
     "output_type": "execute_result"
    }
   ],
   "source": [
    "data[(data[\"rating\"].isna() == True) & (data[\"na_sales\"] == 0)]"
   ]
  },
  {
   "cell_type": "markdown",
   "metadata": {},
   "source": [
    "Также очень много случаев, когда игра была выпущена только на Японком и Европейском рынке. В связи с тем, что ESRB оценивают игры только в Америке и Канаде, то такие игры не получили оценку."
   ]
  },
  {
   "cell_type": "code",
   "execution_count": 26,
   "metadata": {},
   "outputs": [
    {
     "data": {
      "text/plain": [
       "E       3990\n",
       "T       2961\n",
       "M       1563\n",
       "E10+    1420\n",
       "EC         8\n",
       "K-A        3\n",
       "RP         3\n",
       "AO         1\n",
       "Name: rating, dtype: int64"
      ]
     },
     "execution_count": 26,
     "metadata": {},
     "output_type": "execute_result"
    }
   ],
   "source": [
    "data[\"rating\"].value_counts()"
   ]
  },
  {
   "cell_type": "code",
   "execution_count": 27,
   "metadata": {},
   "outputs": [],
   "source": [
    "data[\"rating\"].fillna(\"Рейтинг не назначен\", inplace= True)"
   ]
  },
  {
   "cell_type": "code",
   "execution_count": 28,
   "metadata": {},
   "outputs": [
    {
     "data": {
      "text/plain": [
       "Рейтинг не назначен    6764\n",
       "E                      3990\n",
       "T                      2961\n",
       "M                      1563\n",
       "E10+                   1420\n",
       "EC                        8\n",
       "K-A                       3\n",
       "RP                        3\n",
       "AO                        1\n",
       "Name: rating, dtype: int64"
      ]
     },
     "execution_count": 28,
     "metadata": {},
     "output_type": "execute_result"
    }
   ],
   "source": [
    "data[\"rating\"].value_counts()"
   ]
  },
  {
   "cell_type": "markdown",
   "metadata": {},
   "source": [
    "#### Обработка столбца `User_Score` "
   ]
  },
  {
   "cell_type": "code",
   "execution_count": 29,
   "metadata": {},
   "outputs": [
    {
     "data": {
      "text/plain": [
       "tbd    2424\n",
       "7.8     324\n",
       "8       290\n",
       "8.2     282\n",
       "8.3     254\n",
       "       ... \n",
       "1         2\n",
       "0.3       2\n",
       "1.9       2\n",
       "9.7       1\n",
       "0         1\n",
       "Name: user_score, Length: 96, dtype: int64"
      ]
     },
     "execution_count": 29,
     "metadata": {},
     "output_type": "execute_result"
    }
   ],
   "source": [
    "data[\"user_score\"].value_counts()"
   ]
  },
  {
   "cell_type": "markdown",
   "metadata": {},
   "source": [
    "В таблице более 2000 случаев, когда указано - `tbd`. В связи с тем, что tbd означает - рейтинг будет скоро выставлен или когда мало оценок, то tbt приравнивается к NaN. Поэтому пропуски и tbd заменим на -1 для дальнейшего анализа."
   ]
  },
  {
   "cell_type": "code",
   "execution_count": 30,
   "metadata": {},
   "outputs": [],
   "source": [
    "data['user_score'] = data['user_score'].replace('tbd', np.NaN)\n",
    "data['user_score'].fillna(-1,inplace=True)\n",
    "data[\"user_score\"] = data[\"user_score\"].astype('float')"
   ]
  },
  {
   "cell_type": "markdown",
   "metadata": {},
   "source": [
    "#### Обработка столбца `Critic_Score`"
   ]
  },
  {
   "cell_type": "code",
   "execution_count": 31,
   "metadata": {},
   "outputs": [
    {
     "data": {
      "text/plain": [
       "70.0    256\n",
       "71.0    254\n",
       "75.0    245\n",
       "78.0    240\n",
       "73.0    238\n",
       "       ... \n",
       "29.0      3\n",
       "13.0      1\n",
       "22.0      1\n",
       "17.0      1\n",
       "21.0      1\n",
       "Name: critic_score, Length: 82, dtype: int64"
      ]
     },
     "execution_count": 31,
     "metadata": {},
     "output_type": "execute_result"
    }
   ],
   "source": [
    "data[\"critic_score\"].value_counts()"
   ]
  },
  {
   "cell_type": "code",
   "execution_count": 32,
   "metadata": {},
   "outputs": [],
   "source": [
    "data['critic_score'].fillna(-1,inplace=True)"
   ]
  },
  {
   "cell_type": "code",
   "execution_count": 33,
   "metadata": {},
   "outputs": [
    {
     "data": {
      "text/plain": [
       "-1.0     8576\n",
       " 70.0     256\n",
       " 71.0     254\n",
       " 75.0     245\n",
       " 78.0     240\n",
       "         ... \n",
       " 29.0       3\n",
       " 22.0       1\n",
       " 13.0       1\n",
       " 21.0       1\n",
       " 17.0       1\n",
       "Name: critic_score, Length: 83, dtype: int64"
      ]
     },
     "execution_count": 33,
     "metadata": {},
     "output_type": "execute_result"
    }
   ],
   "source": [
    "data[\"critic_score\"].value_counts()"
   ]
  },
  {
   "cell_type": "markdown",
   "metadata": {},
   "source": [
    "### Добавление суммарных продаж"
   ]
  },
  {
   "cell_type": "code",
   "execution_count": 34,
   "metadata": {},
   "outputs": [],
   "source": [
    "data[\"total_sales\"] = data[\"na_sales\"] + data[\"eu_sales\"] + data[\"jp_sales\"] + data[\"other_sales\"]"
   ]
  },
  {
   "cell_type": "markdown",
   "metadata": {},
   "source": [
    "## Анализ данных"
   ]
  },
  {
   "cell_type": "markdown",
   "metadata": {},
   "source": [
    "### Количество выпущенных игр по годам"
   ]
  },
  {
   "cell_type": "code",
   "execution_count": 35,
   "metadata": {},
   "outputs": [
    {
     "data": {
      "text/plain": [
       "<AxesSubplot:xlabel='year_of_release'>"
      ]
     },
     "execution_count": 35,
     "metadata": {},
     "output_type": "execute_result"
    },
    {
     "data": {
      "image/png": "[encoded data removed]",
      "text/plain": [
       "<Figure size 720x360 with 1 Axes>"
      ]
     },
     "metadata": {
      "needs_background": "light"
     },
     "output_type": "display_data"
    }
   ],
   "source": [
    "data_year = data.query('year_of_release != -1')\n",
    "year_pivot = data_year.pivot_table(index = \"year_of_release\", values = \"total_sales\", aggfunc = \"count\")\n",
    "year_pivot.columns = [\"count\"]\n",
    "year_pivot.plot(figsize = (10,5))"
   ]
  },
  {
   "cell_type": "markdown",
   "metadata": {},
   "source": [
    "Исходя из графика, можно сделать вывод что до 1994-1995 года количесвто выпущенных игр минимально. Это связано с тем, что на тот момент компьютеры и техника не были настолько мощно, как сейчас. Ну и игровая индустрия только начала свое зарождение. После 1994 года начался рост игр. Пик наблюдается в 2008-2009 году. Дальше начался спад. Такой спад можно объянсть тем, что скорей всего начался рост мобильных игр."
   ]
  },
  {
   "cell_type": "markdown",
   "metadata": {},
   "source": [
    "### Продажи по платформам"
   ]
  },
  {
   "cell_type": "code",
   "execution_count": 36,
   "metadata": {},
   "outputs": [
    {
     "data": {
      "text/html": [
       "<div>\n",
       "<style scoped>\n",
       "    .dataframe tbody tr th:only-of-type {\n",
       "        vertical-align: middle;\n",
       "    }\n",
       "\n",
       "    .dataframe tbody tr th {\n",
       "        vertical-align: top;\n",
       "    }\n",
       "\n",
       "    .dataframe thead th {\n",
       "        text-align: right;\n",
       "    }\n",
       "</style>\n",
       "<table border=\"1\" class=\"dataframe\">\n",
       "  <thead>\n",
       "    <tr style=\"text-align: right;\">\n",
       "      <th></th>\n",
       "      <th>sum</th>\n",
       "    </tr>\n",
       "    <tr>\n",
       "      <th>platform</th>\n",
       "      <th></th>\n",
       "    </tr>\n",
       "  </thead>\n",
       "  <tbody>\n",
       "    <tr>\n",
       "      <th>PS2</th>\n",
       "      <td>1255.77</td>\n",
       "    </tr>\n",
       "    <tr>\n",
       "      <th>X360</th>\n",
       "      <td>971.42</td>\n",
       "    </tr>\n",
       "    <tr>\n",
       "      <th>PS3</th>\n",
       "      <td>939.65</td>\n",
       "    </tr>\n",
       "    <tr>\n",
       "      <th>Wii</th>\n",
       "      <td>907.51</td>\n",
       "    </tr>\n",
       "    <tr>\n",
       "      <th>DS</th>\n",
       "      <td>806.12</td>\n",
       "    </tr>\n",
       "    <tr>\n",
       "      <th>PS</th>\n",
       "      <td>730.86</td>\n",
       "    </tr>\n",
       "    <tr>\n",
       "      <th>GBA</th>\n",
       "      <td>317.85</td>\n",
       "    </tr>\n",
       "    <tr>\n",
       "      <th>PS4</th>\n",
       "      <td>314.14</td>\n",
       "    </tr>\n",
       "    <tr>\n",
       "      <th>PSP</th>\n",
       "      <td>294.05</td>\n",
       "    </tr>\n",
       "    <tr>\n",
       "      <th>PC</th>\n",
       "      <td>259.52</td>\n",
       "    </tr>\n",
       "  </tbody>\n",
       "</table>\n",
       "</div>"
      ],
      "text/plain": [
       "              sum\n",
       "platform         \n",
       "PS2       1255.77\n",
       "X360       971.42\n",
       "PS3        939.65\n",
       "Wii        907.51\n",
       "DS         806.12\n",
       "PS         730.86\n",
       "GBA        317.85\n",
       "PS4        314.14\n",
       "PSP        294.05\n",
       "PC         259.52"
      ]
     },
     "execution_count": 36,
     "metadata": {},
     "output_type": "execute_result"
    }
   ],
   "source": [
    "platform_pivot = data.pivot_table(index = \"platform\", values = \"total_sales\", aggfunc = \"sum\").sort_values(by = \"total_sales\", ascending = False)\n",
    "platform_pivot.columns = [\"sum\"]\n",
    "platform_pivot.head(10)"
   ]
  },
  {
   "cell_type": "code",
   "execution_count": 37,
   "metadata": {},
   "outputs": [
    {
     "data": {
      "text/plain": [
       "<AxesSubplot:xlabel='platform', ylabel='sum'>"
      ]
     },
     "execution_count": 37,
     "metadata": {},
     "output_type": "execute_result"
    },
    {
     "data": {
      "image/png": "[encoded data removed]",
      "text/plain": [
       "<Figure size 1080x432 with 1 Axes>"
      ]
     },
     "metadata": {
      "needs_background": "light"
     },
     "output_type": "display_data"
    }
   ],
   "source": [
    "plt.figure(figsize=(15,6))\n",
    "sns.barplot(x = platform_pivot.index,y=\"sum\", data=platform_pivot)"
   ]
  },
  {
   "cell_type": "markdown",
   "metadata": {},
   "source": [
    "По графику можно выделать топ5 платформ:\n",
    "1. PS2\n",
    "2. X360\n",
    "3. Wii\n",
    "4. PS3\n",
    "5. DS"
   ]
  },
  {
   "cell_type": "markdown",
   "metadata": {},
   "source": [
    "### Продолжительность жизни платформы"
   ]
  },
  {
   "cell_type": "code",
   "execution_count": 38,
   "metadata": {},
   "outputs": [],
   "source": [
    "platforms_list = data['platform'].unique()"
   ]
  },
  {
   "cell_type": "code",
   "execution_count": 39,
   "metadata": {},
   "outputs": [
    {
     "data": {
      "image/png": "[encoded data removed]",
      "text/plain": [
       "<Figure size 720x360 with 1 Axes>"
      ]
     },
     "metadata": {
      "needs_background": "light"
     },
     "output_type": "display_data"
    },
    {
     "data": {
      "image/png": "[encoded data removed]",
      "text/plain": [
       "<Figure size 720x360 with 1 Axes>"
      ]
     },
     "metadata": {
      "needs_background": "light"
     },
     "output_type": "display_data"
    },
    {
     "data": {
      "image/png": "[encoded data removed]",
      "text/plain": [
       "<Figure size 720x360 with 1 Axes>"
      ]
     },
     "metadata": {
      "needs_background": "light"
     },
     "output_type": "display_data"
    },
    {
     "data": {
      "image/png": "[encoded data removed]",
      "text/plain": [
       "<Figure size 720x360 with 1 Axes>"
      ]
     },
     "metadata": {
      "needs_background": "light"
     },
     "output_type": "display_data"
    },
    {
     "data": {
      "image/png": "[encoded data removed]",
      "text/plain": [
       "<Figure size 720x360 with 1 Axes>"
      ]
     },
     "metadata": {
      "needs_background": "light"
     },
     "output_type": "display_data"
    },
    {
     "data": {
      "image/png": "[encoded data removed]",
      "text/plain": [
       "<Figure size 720x360 with 1 Axes>"
      ]
     },
     "metadata": {
      "needs_background": "light"
     },
     "output_type": "display_data"
    },
    {
     "data": {
      "image/png": "[encoded data removed]",
      "text/plain": [
       "<Figure size 720x360 with 1 Axes>"
      ]
     },
     "metadata": {
      "needs_background": "light"
     },
     "output_type": "display_data"
    },
    {
     "data": {
      "image/png": "[encoded data removed]",
      "text/plain": [
       "<Figure size 720x360 with 1 Axes>"
      ]
     },
     "metadata": {
      "needs_background": "light"
     },
     "output_type": "display_data"
    },
    {
     "data": {
      "image/png": "[encoded data removed]",
      "text/plain": [
       "<Figure size 720x360 with 1 Axes>"
      ]
     },
     "metadata": {
      "needs_background": "light"
     },
     "output_type": "display_data"
    },
    {
     "data": {
      "image/png": "[encoded data removed]",
      "text/plain": [
       "<Figure size 720x360 with 1 Axes>"
      ]
     },
     "metadata": {
      "needs_background": "light"
     },
     "output_type": "display_data"
    },
    {
     "data": {
      "image/png": "[encoded data removed]",
      "text/plain": [
       "<Figure size 720x360 with 1 Axes>"
      ]
     },
     "metadata": {
      "needs_background": "light"
     },
     "output_type": "display_data"
    },
    {
     "data": {
      "image/png": "[encoded data removed]",
      "text/plain": [
       "<Figure size 720x360 with 1 Axes>"
      ]
     },
     "metadata": {
      "needs_background": "light"
     },
     "output_type": "display_data"
    },
    {
     "data": {
      "image/png": "[encoded data removed]",
      "text/plain": [
       "<Figure size 720x360 with 1 Axes>"
      ]
     },
     "metadata": {
      "needs_background": "light"
     },
     "output_type": "display_data"
    },
    {
     "data": {
      "image/png": "[encoded data removed]",
      "text/plain": [
       "<Figure size 720x360 with 1 Axes>"
      ]
     },
     "metadata": {
      "needs_background": "light"
     },
     "output_type": "display_data"
    },
    {
     "data": {
      "image/png": "[encoded data removed]",
      "text/plain": [
       "<Figure size 720x360 with 1 Axes>"
      ]
     },
     "metadata": {
      "needs_background": "light"
     },
     "output_type": "display_data"
    },
    {
     "data": {
      "image/png": "[encoded data removed]",
      "text/plain": [
       "<Figure size 720x360 with 1 Axes>"
      ]
     },
     "metadata": {
      "needs_background": "light"
     },
     "output_type": "display_data"
    },
    {
     "data": {
      "image/png": "[encoded data removed]",
      "text/plain": [
       "<Figure size 720x360 with 1 Axes>"
      ]
     },
     "metadata": {
      "needs_background": "light"
     },
     "output_type": "display_data"
    },
    {
     "data": {
      "image/png": "[encoded data removed]",
      "text/plain": [
       "<Figure size 720x360 with 1 Axes>"
      ]
     },
     "metadata": {
      "needs_background": "light"
     },
     "output_type": "display_data"
    },
    {
     "data": {
      "image/png": "[encoded data removed]",
      "text/plain": [
       "<Figure size 720x360 with 1 Axes>"
      ]
     },
     "metadata": {
      "needs_background": "light"
     },
     "output_type": "display_data"
    },
    {
     "data": {
      "image/png": "[encoded data removed]",
      "text/plain": [
       "<Figure size 720x360 with 1 Axes>"
      ]
     },
     "metadata": {
      "needs_background": "light"
     },
     "output_type": "display_data"
    },
    {
     "data": {
      "image/png": "[encoded data removed]",
      "text/plain": [
       "<Figure size 720x360 with 1 Axes>"
      ]
     },
     "metadata": {
      "needs_background": "light"
     },
     "output_type": "display_data"
    },
    {
     "data": {
      "image/png": "[encoded data removed]",
      "text/plain": [
       "<Figure size 720x360 with 1 Axes>"
      ]
     },
     "metadata": {
      "needs_background": "light"
     },
     "output_type": "display_data"
    },
    {
     "data": {
      "image/png": "[encoded data removed]",
      "text/plain": [
       "<Figure size 720x360 with 1 Axes>"
      ]
     },
     "metadata": {
      "needs_background": "light"
     },
     "output_type": "display_data"
    },
    {
     "data": {
      "image/png": "[encoded data removed]",
      "text/plain": [
       "<Figure size 720x360 with 1 Axes>"
      ]
     },
     "metadata": {
      "needs_background": "light"
     },
     "output_type": "display_data"
    },
    {
     "data": {
      "image/png": "[encoded data removed]",
      "text/plain": [
       "<Figure size 720x360 with 1 Axes>"
      ]
     },
     "metadata": {
      "needs_background": "light"
     },
     "output_type": "display_data"
    },
    {
     "data": {
      "image/png": "[encoded data removed]",
      "text/plain": [
       "<Figure size 720x360 with 1 Axes>"
      ]
     },
     "metadata": {
      "needs_background": "light"
     },
     "output_type": "display_data"
    },
    {
     "data": {
      "image/png": "[encoded data removed]",
      "text/plain": [
       "<Figure size 720x360 with 1 Axes>"
      ]
     },
     "metadata": {
      "needs_background": "light"
     },
     "output_type": "display_data"
    },
    {
     "data": {
      "image/png": "[encoded data removed]",
      "text/plain": [
       "<Figure size 720x360 with 1 Axes>"
      ]
     },
     "metadata": {
      "needs_background": "light"
     },
     "output_type": "display_data"
    },
    {
     "data": {
      "image/png": "[encoded data removed]",
      "text/plain": [
       "<Figure size 720x360 with 1 Axes>"
      ]
     },
     "metadata": {
      "needs_background": "light"
     },
     "output_type": "display_data"
    },
    {
     "data": {
      "image/png": "[encoded data removed]",
      "text/plain": [
       "<Figure size 720x360 with 1 Axes>"
      ]
     },
     "metadata": {
      "needs_background": "light"
     },
     "output_type": "display_data"
    },
    {
     "data": {
      "image/png": "[encoded data removed]",
      "text/plain": [
       "<Figure size 720x360 with 1 Axes>"
      ]
     },
     "metadata": {
      "needs_background": "light"
     },
     "output_type": "display_data"
    }
   ],
   "source": [
    "for platform in platforms_list:\n",
    "    data[data['platform'] == platform].pivot_table(index='year_of_release', values='total_sales', aggfunc='sum').plot(\n",
    "        kind='bar', figsize=(10,5))\n",
    "    plt.title(platform)"
   ]
  },
  {
   "cell_type": "markdown",
   "metadata": {},
   "source": [
    "Исходя из графиков, то средняя продолжитльеность жизни платформы составляет около 8 лет. Исключением является PC, так как данная платформа будет всегда актулаьно в свзяи с достпуностью и легкой заменой комплектующих на более новые и различной стоимостью от самых дешевых до самых дорогих."
   ]
  },
  {
   "cell_type": "markdown",
   "metadata": {},
   "source": [
    "#### Вывод:\n",
    "* Для постройки прогноза необходимо брать наиболее актуальные данные, которые будут актульны для 2017 года. Поэтому в качестве временного интервала можно взять период с 2013 года. Именно в этом году вышли ноывые консоли, такие как PS4, XBOne, WiiU. Именно из-за этого продажи по прошлым поколениям консолей резко стали падать."
   ]
  },
  {
   "cell_type": "markdown",
   "metadata": {},
   "source": [
    "### Актуализация информации"
   ]
  },
  {
   "cell_type": "code",
   "execution_count": 40,
   "metadata": {},
   "outputs": [],
   "source": [
    "actual_data = data.query(\"year_of_release > 2012\")"
   ]
  },
  {
   "cell_type": "markdown",
   "metadata": {},
   "source": [
    "И выберем наиболее преспективыне платформы, которые смогут принести дальнейшую прибыль. В нашем случаи это платформы нового поколения."
   ]
  },
  {
   "cell_type": "code",
   "execution_count": 41,
   "metadata": {},
   "outputs": [],
   "source": [
    "actual_data = actual_data.query('platform in [\"PS4\",\"XOne\",\"PC\",\"WiiU\",\"3DS\", \"PSV\"]')"
   ]
  },
  {
   "cell_type": "code",
   "execution_count": 71,
   "metadata": {},
   "outputs": [
    {
     "data": {
      "image/png": "[encoded data removed]",
      "text/plain": [
       "<Figure size 1080x360 with 1 Axes>"
      ]
     },
     "metadata": {
      "needs_background": "light"
     },
     "output_type": "display_data"
    }
   ],
   "source": [
    "#Код ревьюера\n",
    "data.query(\"year_of_release >= 2013\").pivot_table(index = 'year_of_release', columns = 'platform', values = 'total_sales', aggfunc = 'sum')\\\n",
    "  .plot(figsize = (15, 5), title = 'Динамика продаж платформ по годам')\n",
    "plt.axvline(x = 2015.5 , color = 'r', linestyle = 'dashed')\n",
    "plt.show()"
   ]
  },
  {
   "cell_type": "code",
   "execution_count": 42,
   "metadata": {},
   "outputs": [
    {
     "data": {
      "text/html": [
       "<div>\n",
       "<style scoped>\n",
       "    .dataframe tbody tr th:only-of-type {\n",
       "        vertical-align: middle;\n",
       "    }\n",
       "\n",
       "    .dataframe tbody tr th {\n",
       "        vertical-align: top;\n",
       "    }\n",
       "\n",
       "    .dataframe thead th {\n",
       "        text-align: right;\n",
       "    }\n",
       "</style>\n",
       "<table border=\"1\" class=\"dataframe\">\n",
       "  <thead>\n",
       "    <tr style=\"text-align: right;\">\n",
       "      <th></th>\n",
       "      <th>count</th>\n",
       "      <th>mean</th>\n",
       "      <th>std</th>\n",
       "      <th>min</th>\n",
       "      <th>25%</th>\n",
       "      <th>50%</th>\n",
       "      <th>75%</th>\n",
       "      <th>max</th>\n",
       "    </tr>\n",
       "    <tr>\n",
       "      <th>platform</th>\n",
       "      <th></th>\n",
       "      <th></th>\n",
       "      <th></th>\n",
       "      <th></th>\n",
       "      <th></th>\n",
       "      <th></th>\n",
       "      <th></th>\n",
       "      <th></th>\n",
       "    </tr>\n",
       "  </thead>\n",
       "  <tbody>\n",
       "    <tr>\n",
       "      <th>3DS</th>\n",
       "      <td>303.0</td>\n",
       "      <td>0.472772</td>\n",
       "      <td>1.381347</td>\n",
       "      <td>0.01</td>\n",
       "      <td>0.04</td>\n",
       "      <td>0.09</td>\n",
       "      <td>0.280</td>\n",
       "      <td>14.60</td>\n",
       "    </tr>\n",
       "    <tr>\n",
       "      <th>PC</th>\n",
       "      <td>192.0</td>\n",
       "      <td>0.208646</td>\n",
       "      <td>0.349801</td>\n",
       "      <td>0.01</td>\n",
       "      <td>0.03</td>\n",
       "      <td>0.08</td>\n",
       "      <td>0.230</td>\n",
       "      <td>3.05</td>\n",
       "    </tr>\n",
       "    <tr>\n",
       "      <th>PS4</th>\n",
       "      <td>392.0</td>\n",
       "      <td>0.801378</td>\n",
       "      <td>1.609456</td>\n",
       "      <td>0.01</td>\n",
       "      <td>0.06</td>\n",
       "      <td>0.20</td>\n",
       "      <td>0.730</td>\n",
       "      <td>14.63</td>\n",
       "    </tr>\n",
       "    <tr>\n",
       "      <th>PSV</th>\n",
       "      <td>358.0</td>\n",
       "      <td>0.092151</td>\n",
       "      <td>0.153816</td>\n",
       "      <td>0.01</td>\n",
       "      <td>0.02</td>\n",
       "      <td>0.04</td>\n",
       "      <td>0.110</td>\n",
       "      <td>1.96</td>\n",
       "    </tr>\n",
       "    <tr>\n",
       "      <th>WiiU</th>\n",
       "      <td>115.0</td>\n",
       "      <td>0.562000</td>\n",
       "      <td>1.038778</td>\n",
       "      <td>0.01</td>\n",
       "      <td>0.06</td>\n",
       "      <td>0.20</td>\n",
       "      <td>0.595</td>\n",
       "      <td>7.09</td>\n",
       "    </tr>\n",
       "    <tr>\n",
       "      <th>XOne</th>\n",
       "      <td>247.0</td>\n",
       "      <td>0.645020</td>\n",
       "      <td>1.036139</td>\n",
       "      <td>0.01</td>\n",
       "      <td>0.06</td>\n",
       "      <td>0.22</td>\n",
       "      <td>0.685</td>\n",
       "      <td>7.39</td>\n",
       "    </tr>\n",
       "  </tbody>\n",
       "</table>\n",
       "</div>"
      ],
      "text/plain": [
       "          count      mean       std   min   25%   50%    75%    max\n",
       "platform                                                           \n",
       "3DS       303.0  0.472772  1.381347  0.01  0.04  0.09  0.280  14.60\n",
       "PC        192.0  0.208646  0.349801  0.01  0.03  0.08  0.230   3.05\n",
       "PS4       392.0  0.801378  1.609456  0.01  0.06  0.20  0.730  14.63\n",
       "PSV       358.0  0.092151  0.153816  0.01  0.02  0.04  0.110   1.96\n",
       "WiiU      115.0  0.562000  1.038778  0.01  0.06  0.20  0.595   7.09\n",
       "XOne      247.0  0.645020  1.036139  0.01  0.06  0.22  0.685   7.39"
      ]
     },
     "execution_count": 42,
     "metadata": {},
     "output_type": "execute_result"
    }
   ],
   "source": [
    "actual_data.groupby(\"platform\")[\"total_sales\"].describe()"
   ]
  },
  {
   "cell_type": "code",
   "execution_count": 43,
   "metadata": {},
   "outputs": [
    {
     "data": {
      "text/plain": [
       "(0.0, 2.0)"
      ]
     },
     "execution_count": 43,
     "metadata": {},
     "output_type": "execute_result"
    },
    {
     "data": {
      "image/png": "[encoded data removed]",
      "text/plain": [
       "<Figure size 1080x720 with 1 Axes>"
      ]
     },
     "metadata": {
      "needs_background": "light"
     },
     "output_type": "display_data"
    }
   ],
   "source": [
    "plt.figure(figsize=(15,10))\n",
    "sns.boxplot(data=actual_data, x='platform', y='total_sales')\n",
    "plt.xlabel('Платформа', fontsize=12)\n",
    "plt.ylabel('Глобальные продажи',fontsize=12)\n",
    "plt.ylim(0,2)"
   ]
  },
  {
   "cell_type": "markdown",
   "metadata": {},
   "source": [
    "- Лидерами среди продаж можнл выделить PS4. После этого на ровне идут Xone и WiiU. Небольшое отстование XOne от PS4 обусловлено тем, что X360 еще пользовался популярностью среди игроков и они не хотели переходить на новую платформу. \n",
    "- Хуже всего дела у PSV (Playstation vita). Данная платформа так и не получила широкое признание среди игроков в дальнейшем.\n",
    "- PC сильно уступил консолям и перешел на второй план."
   ]
  },
  {
   "cell_type": "markdown",
   "metadata": {},
   "source": [
    "### Влияние отзывов пользователей и критиков на продажи популярной платформы."
   ]
  },
  {
   "cell_type": "markdown",
   "metadata": {},
   "source": [
    "В прошлом пункте было выявлено, что наиболее популярной платформой является PS4."
   ]
  },
  {
   "cell_type": "code",
   "execution_count": 44,
   "metadata": {},
   "outputs": [],
   "source": [
    "ps4_data = actual_data.query('platform == \"PS4\"')"
   ]
  },
  {
   "cell_type": "markdown",
   "metadata": {},
   "source": [
    "Сразу отбросим пустые значения в оценкак критиков и пользователей, которые были заменены на -1"
   ]
  },
  {
   "cell_type": "code",
   "execution_count": 45,
   "metadata": {},
   "outputs": [],
   "source": [
    "ps4_data = ps4_data.query('(critic_score != -1) and (user_score != -1)')"
   ]
  },
  {
   "cell_type": "code",
   "execution_count": 46,
   "metadata": {},
   "outputs": [
    {
     "data": {
      "text/html": [
       "<div>\n",
       "<style scoped>\n",
       "    .dataframe tbody tr th:only-of-type {\n",
       "        vertical-align: middle;\n",
       "    }\n",
       "\n",
       "    .dataframe tbody tr th {\n",
       "        vertical-align: top;\n",
       "    }\n",
       "\n",
       "    .dataframe thead th {\n",
       "        text-align: right;\n",
       "    }\n",
       "</style>\n",
       "<table border=\"1\" class=\"dataframe\">\n",
       "  <thead>\n",
       "    <tr style=\"text-align: right;\">\n",
       "      <th></th>\n",
       "      <th>name</th>\n",
       "      <th>platform</th>\n",
       "      <th>year_of_release</th>\n",
       "      <th>genre</th>\n",
       "      <th>na_sales</th>\n",
       "      <th>eu_sales</th>\n",
       "      <th>jp_sales</th>\n",
       "      <th>other_sales</th>\n",
       "      <th>critic_score</th>\n",
       "      <th>user_score</th>\n",
       "      <th>rating</th>\n",
       "      <th>total_sales</th>\n",
       "    </tr>\n",
       "  </thead>\n",
       "  <tbody>\n",
       "    <tr>\n",
       "      <th>42</th>\n",
       "      <td>Grand Theft Auto V</td>\n",
       "      <td>PS4</td>\n",
       "      <td>2014</td>\n",
       "      <td>Action</td>\n",
       "      <td>3.96</td>\n",
       "      <td>6.31</td>\n",
       "      <td>0.38</td>\n",
       "      <td>1.97</td>\n",
       "      <td>97.0</td>\n",
       "      <td>8.3</td>\n",
       "      <td>M</td>\n",
       "      <td>12.62</td>\n",
       "    </tr>\n",
       "    <tr>\n",
       "      <th>77</th>\n",
       "      <td>FIFA 16</td>\n",
       "      <td>PS4</td>\n",
       "      <td>2015</td>\n",
       "      <td>Sports</td>\n",
       "      <td>1.12</td>\n",
       "      <td>6.12</td>\n",
       "      <td>0.06</td>\n",
       "      <td>1.28</td>\n",
       "      <td>82.0</td>\n",
       "      <td>4.3</td>\n",
       "      <td>E</td>\n",
       "      <td>8.58</td>\n",
       "    </tr>\n",
       "    <tr>\n",
       "      <th>92</th>\n",
       "      <td>Call of Duty: Advanced Warfare</td>\n",
       "      <td>PS4</td>\n",
       "      <td>2014</td>\n",
       "      <td>Shooter</td>\n",
       "      <td>2.81</td>\n",
       "      <td>3.48</td>\n",
       "      <td>0.14</td>\n",
       "      <td>1.23</td>\n",
       "      <td>83.0</td>\n",
       "      <td>5.7</td>\n",
       "      <td>M</td>\n",
       "      <td>7.66</td>\n",
       "    </tr>\n",
       "    <tr>\n",
       "      <th>94</th>\n",
       "      <td>FIFA 17</td>\n",
       "      <td>PS4</td>\n",
       "      <td>2016</td>\n",
       "      <td>Sports</td>\n",
       "      <td>0.66</td>\n",
       "      <td>5.75</td>\n",
       "      <td>0.08</td>\n",
       "      <td>1.11</td>\n",
       "      <td>85.0</td>\n",
       "      <td>5.0</td>\n",
       "      <td>E</td>\n",
       "      <td>7.60</td>\n",
       "    </tr>\n",
       "    <tr>\n",
       "      <th>105</th>\n",
       "      <td>Fallout 4</td>\n",
       "      <td>PS4</td>\n",
       "      <td>2015</td>\n",
       "      <td>Role-Playing</td>\n",
       "      <td>2.53</td>\n",
       "      <td>3.27</td>\n",
       "      <td>0.24</td>\n",
       "      <td>1.13</td>\n",
       "      <td>87.0</td>\n",
       "      <td>6.5</td>\n",
       "      <td>M</td>\n",
       "      <td>7.17</td>\n",
       "    </tr>\n",
       "  </tbody>\n",
       "</table>\n",
       "</div>"
      ],
      "text/plain": [
       "                               name platform  year_of_release         genre  \\\n",
       "42               Grand Theft Auto V      PS4             2014        Action   \n",
       "77                          FIFA 16      PS4             2015        Sports   \n",
       "92   Call of Duty: Advanced Warfare      PS4             2014       Shooter   \n",
       "94                          FIFA 17      PS4             2016        Sports   \n",
       "105                       Fallout 4      PS4             2015  Role-Playing   \n",
       "\n",
       "     na_sales  eu_sales  jp_sales  other_sales  critic_score  user_score  \\\n",
       "42       3.96      6.31      0.38         1.97          97.0         8.3   \n",
       "77       1.12      6.12      0.06         1.28          82.0         4.3   \n",
       "92       2.81      3.48      0.14         1.23          83.0         5.7   \n",
       "94       0.66      5.75      0.08         1.11          85.0         5.0   \n",
       "105      2.53      3.27      0.24         1.13          87.0         6.5   \n",
       "\n",
       "    rating  total_sales  \n",
       "42       M        12.62  \n",
       "77       E         8.58  \n",
       "92       M         7.66  \n",
       "94       E         7.60  \n",
       "105      M         7.17  "
      ]
     },
     "execution_count": 46,
     "metadata": {},
     "output_type": "execute_result"
    }
   ],
   "source": [
    "ps4_data.head()"
   ]
  },
  {
   "cell_type": "markdown",
   "metadata": {},
   "source": [
    "Посмотрим на корреляцию между оценкой критиков и продажами"
   ]
  },
  {
   "cell_type": "code",
   "execution_count": 47,
   "metadata": {},
   "outputs": [
    {
     "data": {
      "text/plain": [
       "0.40589480145836687"
      ]
     },
     "execution_count": 47,
     "metadata": {},
     "output_type": "execute_result"
    }
   ],
   "source": [
    "ps4_data[\"total_sales\"].corr(ps4_data[\"critic_score\"])"
   ]
  },
  {
   "cell_type": "code",
   "execution_count": 48,
   "metadata": {},
   "outputs": [
    {
     "data": {
      "text/plain": [
       "Text(0.5, 1.0, 'Оценка критиков')"
      ]
     },
     "execution_count": 48,
     "metadata": {},
     "output_type": "execute_result"
    },
    {
     "data": {
      "image/png": "[encoded data removed]",
      "text/plain": [
       "<Figure size 720x360 with 1 Axes>"
      ]
     },
     "metadata": {
      "needs_background": "light"
     },
     "output_type": "display_data"
    }
   ],
   "source": [
    "plt.figure(figsize=(10,5))\n",
    "sns.scatterplot(x='critic_score', y='total_sales', data=ps4_data)\n",
    "plt.title('Оценка критиков')"
   ]
  },
  {
   "cell_type": "markdown",
   "metadata": {},
   "source": [
    "Посмотрим на корреляцию между оценкой пользователями и продажами"
   ]
  },
  {
   "cell_type": "code",
   "execution_count": 49,
   "metadata": {},
   "outputs": [
    {
     "data": {
      "text/plain": [
       "-0.03362497596528878"
      ]
     },
     "execution_count": 49,
     "metadata": {},
     "output_type": "execute_result"
    }
   ],
   "source": [
    "ps4_data[\"total_sales\"].corr(ps4_data[\"user_score\"])"
   ]
  },
  {
   "cell_type": "code",
   "execution_count": 50,
   "metadata": {},
   "outputs": [
    {
     "data": {
      "text/plain": [
       "Text(0.5, 1.0, 'Оценка пользователей')"
      ]
     },
     "execution_count": 50,
     "metadata": {},
     "output_type": "execute_result"
    },
    {
     "data": {
      "image/png": "[encoded data removed]",
      "text/plain": [
       "<Figure size 720x360 with 1 Axes>"
      ]
     },
     "metadata": {
      "needs_background": "light"
     },
     "output_type": "display_data"
    }
   ],
   "source": [
    "plt.figure(figsize=(10,5))\n",
    "sns.scatterplot(x='user_score', y='total_sales', data=ps4_data)\n",
    "plt.title('Оценка пользователей')"
   ]
  },
  {
   "cell_type": "markdown",
   "metadata": {},
   "source": [
    "#### Вывод:\n",
    "- Корреляции между оценкой пользователей и продажами не наблюдается\n",
    "- Корреляция между оценкой критиков и продажми равняется 0,4. Среднняя зависимоть. И как наблюдается по графику - чем выше оценка критиков, тем больше продаж наблюдается"
   ]
  },
  {
   "cell_type": "markdown",
   "metadata": {},
   "source": [
    "### Влияние отзывов пользователей и критиков на продажи остальных платформ."
   ]
  },
  {
   "cell_type": "code",
   "execution_count": 51,
   "metadata": {},
   "outputs": [],
   "source": [
    "other_platforms = actual_data.query('(platform != \"PS4\") and (critic_score != -1) and (user_score != -1)')"
   ]
  },
  {
   "cell_type": "code",
   "execution_count": 52,
   "metadata": {},
   "outputs": [],
   "source": [
    "def cor(name):\n",
    "    platform_analyse = other_platforms.query('platform == @name')\n",
    "    x = platform_analyse[\"total_sales\"].corr(platform_analyse[\"user_score\"])\n",
    "    y = platform_analyse[\"total_sales\"].corr(platform_analyse[\"critic_score\"])\n",
    "    print(f\"Корреляция между продажами и оценкой пользователей для {name}:\",x)\n",
    "    print(f\"Корреляция между продажами и оценкой критиков для {name}:\",y)\n",
    "    fig, ax = plt.subplots(1 ,2, figsize=(15,5))\n",
    "    sns.scatterplot(x='user_score', y='total_sales', data=platform_analyse, ax=ax[0])\n",
    "    sns.scatterplot(x='critic_score', y='total_sales', data=platform_analyse, ax=ax[1])\n",
    "    fig.suptitle(name, fontsize=15)\n",
    "    ax[0].set(xlabel='Оценка пользователей')\n",
    "    ax[1].set(xlabel='Оценка критиков')\n",
    "    ax[0].set(ylabel='Количество продаж')\n",
    "    ax[1].set(ylabel='Количество продаж')\n",
    "    plt.show()"
   ]
  },
  {
   "cell_type": "code",
   "execution_count": 53,
   "metadata": {
    "scrolled": false
   },
   "outputs": [
    {
     "name": "stdout",
     "output_type": "stream",
     "text": [
      "Корреляция между продажами и оценкой пользователей для XOne: -0.09400318326920852\n",
      "Корреляция между продажами и оценкой критиков для XOne: 0.4104220356129637\n"
     ]
    },
    {
     "data": {
      "image/png": "[encoded data removed]",
      "text/plain": [
       "<Figure size 1080x360 with 2 Axes>"
      ]
     },
     "metadata": {
      "needs_background": "light"
     },
     "output_type": "display_data"
    },
    {
     "name": "stdout",
     "output_type": "stream",
     "text": [
      "Корреляция между продажами и оценкой пользователей для PC: -0.10522787365279426\n",
      "Корреляция между продажами и оценкой критиков для PC: 0.1977898633499024\n"
     ]
    },
    {
     "data": {
      "image/png": "[encoded data removed]",
      "text/plain": [
       "<Figure size 1080x360 with 2 Axes>"
      ]
     },
     "metadata": {
      "needs_background": "light"
     },
     "output_type": "display_data"
    },
    {
     "name": "stdout",
     "output_type": "stream",
     "text": [
      "Корреляция между продажами и оценкой пользователей для WiiU: 0.4086917438492647\n",
      "Корреляция между продажами и оценкой критиков для WiiU: 0.37950449899784144\n"
     ]
    },
    {
     "data": {
      "image/png": "[encoded data removed]",
      "text/plain": [
       "<Figure size 1080x360 with 2 Axes>"
      ]
     },
     "metadata": {
      "needs_background": "light"
     },
     "output_type": "display_data"
    },
    {
     "name": "stdout",
     "output_type": "stream",
     "text": [
      "Корреляция между продажами и оценкой пользователей для 3DS: 0.2729904366942444\n",
      "Корреляция между продажами и оценкой критиков для 3DS: 0.33923492878531464\n"
     ]
    },
    {
     "data": {
      "image/png": "[encoded data removed]",
      "text/plain": [
       "<Figure size 1080x360 with 2 Axes>"
      ]
     },
     "metadata": {
      "needs_background": "light"
     },
     "output_type": "display_data"
    },
    {
     "name": "stdout",
     "output_type": "stream",
     "text": [
      "Корреляция между продажами и оценкой пользователей для PSV: 0.2654782720509426\n",
      "Корреляция между продажами и оценкой критиков для PSV: 0.2540997021864078\n"
     ]
    },
    {
     "data": {
      "image/png": "[encoded data removed]",
      "text/plain": [
       "<Figure size 1080x360 with 2 Axes>"
      ]
     },
     "metadata": {
      "needs_background": "light"
     },
     "output_type": "display_data"
    }
   ],
   "source": [
    "for name in [\"XOne\",\"PC\",\"WiiU\",\"3DS\", \"PSV\"]:\n",
    "    cor(name)"
   ]
  },
  {
   "cell_type": "markdown",
   "metadata": {},
   "source": [
    "Вывод:\n",
    "- Из полученной информации, можно сказать, что для других платформ идет такой же принцип, как и для `PS4`. Чем выше оценка критиков, тем больше продаж. Оценки пользователей не влияют на продажи\n",
    "- Однако есть исключения. Игроки, пользующиеся консолями Nintendo (WiiU и 3DS) прислушиваются к оценкам пользователей на ровне с оценками критиков"
   ]
  },
  {
   "cell_type": "markdown",
   "metadata": {},
   "source": [
    "### Распределение игр по жанрам"
   ]
  },
  {
   "cell_type": "code",
   "execution_count": 54,
   "metadata": {},
   "outputs": [
    {
     "data": {
      "text/html": [
       "<div>\n",
       "<style scoped>\n",
       "    .dataframe tbody tr th:only-of-type {\n",
       "        vertical-align: middle;\n",
       "    }\n",
       "\n",
       "    .dataframe tbody tr th {\n",
       "        vertical-align: top;\n",
       "    }\n",
       "\n",
       "    .dataframe thead th {\n",
       "        text-align: right;\n",
       "    }\n",
       "</style>\n",
       "<table border=\"1\" class=\"dataframe\">\n",
       "  <thead>\n",
       "    <tr style=\"text-align: right;\">\n",
       "      <th></th>\n",
       "      <th>sum</th>\n",
       "    </tr>\n",
       "    <tr>\n",
       "      <th>genre</th>\n",
       "      <th></th>\n",
       "    </tr>\n",
       "  </thead>\n",
       "  <tbody>\n",
       "    <tr>\n",
       "      <th>Action</th>\n",
       "      <td>199.81</td>\n",
       "    </tr>\n",
       "    <tr>\n",
       "      <th>Shooter</th>\n",
       "      <td>165.71</td>\n",
       "    </tr>\n",
       "    <tr>\n",
       "      <th>Role-Playing</th>\n",
       "      <td>123.94</td>\n",
       "    </tr>\n",
       "    <tr>\n",
       "      <th>Sports</th>\n",
       "      <td>90.67</td>\n",
       "    </tr>\n",
       "    <tr>\n",
       "      <th>Misc</th>\n",
       "      <td>34.66</td>\n",
       "    </tr>\n",
       "    <tr>\n",
       "      <th>Platform</th>\n",
       "      <td>34.22</td>\n",
       "    </tr>\n",
       "    <tr>\n",
       "      <th>Racing</th>\n",
       "      <td>30.36</td>\n",
       "    </tr>\n",
       "    <tr>\n",
       "      <th>Fighting</th>\n",
       "      <td>26.69</td>\n",
       "    </tr>\n",
       "    <tr>\n",
       "      <th>Simulation</th>\n",
       "      <td>19.81</td>\n",
       "    </tr>\n",
       "    <tr>\n",
       "      <th>Adventure</th>\n",
       "      <td>16.48</td>\n",
       "    </tr>\n",
       "    <tr>\n",
       "      <th>Strategy</th>\n",
       "      <td>8.91</td>\n",
       "    </tr>\n",
       "    <tr>\n",
       "      <th>Puzzle</th>\n",
       "      <td>3.13</td>\n",
       "    </tr>\n",
       "  </tbody>\n",
       "</table>\n",
       "</div>"
      ],
      "text/plain": [
       "                 sum\n",
       "genre               \n",
       "Action        199.81\n",
       "Shooter       165.71\n",
       "Role-Playing  123.94\n",
       "Sports         90.67\n",
       "Misc           34.66\n",
       "Platform       34.22\n",
       "Racing         30.36\n",
       "Fighting       26.69\n",
       "Simulation     19.81\n",
       "Adventure      16.48\n",
       "Strategy        8.91\n",
       "Puzzle          3.13"
      ]
     },
     "execution_count": 54,
     "metadata": {},
     "output_type": "execute_result"
    }
   ],
   "source": [
    "genre_data_sum = actual_data.pivot_table(index =\"genre\", values = \"total_sales\", aggfunc = \"sum\").sort_values(by=\"total_sales\",ascending = False)\n",
    "genre_data_sum.columns = [\"sum\"]\n",
    "genre_data_sum"
   ]
  },
  {
   "cell_type": "code",
   "execution_count": 55,
   "metadata": {},
   "outputs": [
    {
     "data": {
      "text/plain": [
       "<AxesSubplot:xlabel='genre', ylabel='sum'>"
      ]
     },
     "execution_count": 55,
     "metadata": {},
     "output_type": "execute_result"
    },
    {
     "data": {
      "image/png": "[encoded data removed]",
      "text/plain": [
       "<Figure size 1080x432 with 1 Axes>"
      ]
     },
     "metadata": {
      "needs_background": "light"
     },
     "output_type": "display_data"
    }
   ],
   "source": [
    "plt.figure(figsize=(15,6))\n",
    "sns.barplot(x =genre_data_sum.index ,y=\"sum\", data=genre_data_sum)"
   ]
  },
  {
   "cell_type": "markdown",
   "metadata": {},
   "source": [
    "#### Вывод:\n",
    "- Наиболее популярным жанром является `Action`\n",
    "- Наименее популярным игры в жанре `Puzzle`. Пазлы особо никогда не пользовались популярностью среди игроков, что подтверилолсь графиком."
   ]
  },
  {
   "cell_type": "code",
   "execution_count": 56,
   "metadata": {},
   "outputs": [
    {
     "data": {
      "text/plain": [
       "<AxesSubplot:xlabel='genre', ylabel='median'>"
      ]
     },
     "execution_count": 56,
     "metadata": {},
     "output_type": "execute_result"
    },
    {
     "data": {
      "image/png": "[encoded data removed]",
      "text/plain": [
       "<Figure size 1080x432 with 1 Axes>"
      ]
     },
     "metadata": {
      "needs_background": "light"
     },
     "output_type": "display_data"
    }
   ],
   "source": [
    "genre_data_median = actual_data.pivot_table(index =\"genre\", values = \"total_sales\", aggfunc = \"median\").sort_values(by=\"total_sales\",ascending = False)\n",
    "genre_data_median.columns = [\"median\"]\n",
    "genre_data_median\n",
    "\n",
    "plt.figure(figsize=(15,6))\n",
    "sns.barplot(x =genre_data_median.index ,y=\"median\", data=genre_data_median)"
   ]
  },
  {
   "cell_type": "markdown",
   "metadata": {},
   "source": [
    "#### Вывод:\n",
    "- По медианным значениям картина сильно поменялась. Наиболее стабильно и больше всего приносит жанр - `Shooter`. А вот хуже всего `Adventure`. \n",
    "- По общим продажам хоть `Action` занимает первое место, но вот по стабильности приноса дохода чуть ли не на последних местах."
   ]
  },
  {
   "cell_type": "markdown",
   "metadata": {},
   "source": [
    "## Портрет пользователя каждого региона"
   ]
  },
  {
   "cell_type": "markdown",
   "metadata": {},
   "source": [
    "Расшифровка рейтинга:\n",
    "* E - от 6 лет\n",
    "* E10+ - от 10 лет\n",
    "* T - от 13 лет\n",
    "* M - от 17 лет"
   ]
  },
  {
   "cell_type": "code",
   "execution_count": 57,
   "metadata": {},
   "outputs": [],
   "source": [
    "jp_data_platform = actual_data.pivot_table(index = 'platform',values = 'jp_sales',aggfunc=\"sum\").sort_values(by='jp_sales',ascending = False)\n",
    "jp_data_platform.columns= ['sales']\n",
    "na_data_platform = actual_data.pivot_table(index = 'platform',values = 'na_sales',aggfunc=\"sum\").sort_values(by='na_sales',ascending = False)\n",
    "na_data_platform.columns= ['sales']\n",
    "eu_data_platform = actual_data.pivot_table(index = 'platform',values = 'eu_sales',aggfunc=\"sum\").sort_values(by='eu_sales',ascending = False)\n",
    "eu_data_platform.columns= ['sales']"
   ]
  },
  {
   "cell_type": "code",
   "execution_count": 58,
   "metadata": {},
   "outputs": [],
   "source": [
    "jp_data_genre = actual_data.pivot_table(index = 'genre',values = 'jp_sales',aggfunc=\"sum\").sort_values(by='jp_sales',ascending = False)\n",
    "jp_data_genre.columns= ['sales']\n",
    "na_data_genre = actual_data.pivot_table(index = 'genre',values = 'na_sales',aggfunc=\"sum\").sort_values(by='na_sales',ascending = False)\n",
    "na_data_genre.columns= ['sales']\n",
    "eu_data_genre = actual_data.pivot_table(index = 'genre',values = 'eu_sales',aggfunc=\"sum\").sort_values(by='eu_sales',ascending = False)\n",
    "eu_data_genre.columns= ['sales']"
   ]
  },
  {
   "cell_type": "code",
   "execution_count": 59,
   "metadata": {},
   "outputs": [],
   "source": [
    "jp_data_rating = actual_data.pivot_table(index = 'rating',values = 'jp_sales',aggfunc=\"sum\").sort_values(by='jp_sales',ascending = False)\n",
    "jp_data_rating.columns= ['sales']\n",
    "na_data_rating = actual_data.pivot_table(index = 'rating',values = 'na_sales',aggfunc=\"sum\").sort_values(by='na_sales',ascending = False)\n",
    "na_data_rating.columns= ['sales']\n",
    "eu_data_rating = actual_data.pivot_table(index = 'rating',values = 'eu_sales',aggfunc=\"sum\").sort_values(by='eu_sales',ascending = False)\n",
    "eu_data_rating.columns= ['sales']"
   ]
  },
  {
   "cell_type": "markdown",
   "metadata": {},
   "source": [
    "### Япония"
   ]
  },
  {
   "cell_type": "code",
   "execution_count": 60,
   "metadata": {},
   "outputs": [
    {
     "data": {
      "image/png": "[encoded data removed]",
      "text/plain": [
       "<Figure size 1080x1440 with 3 Axes>"
      ]
     },
     "metadata": {
      "needs_background": "light"
     },
     "output_type": "display_data"
    }
   ],
   "source": [
    "fig, ax = plt.subplots(3, figsize=(15,20))\n",
    "sns.barplot(x =jp_data_platform.index ,y=\"sales\", data=jp_data_platform, ax=ax[0])\n",
    "sns.barplot(x =jp_data_genre.index ,y=\"sales\", data=jp_data_genre, ax=ax[1])\n",
    "sns.barplot(x =jp_data_rating.index ,y=\"sales\", data=jp_data_rating, ax=ax[2])\n",
    "plt.show()"
   ]
  },
  {
   "cell_type": "markdown",
   "metadata": {},
   "source": [
    "### Северная Америка"
   ]
  },
  {
   "cell_type": "code",
   "execution_count": 61,
   "metadata": {},
   "outputs": [
    {
     "data": {
      "image/png": "[encoded data removed]",
      "text/plain": [
       "<Figure size 1080x1440 with 3 Axes>"
      ]
     },
     "metadata": {
      "needs_background": "light"
     },
     "output_type": "display_data"
    }
   ],
   "source": [
    "fig, ax = plt.subplots(3, figsize=(15,20))\n",
    "sns.barplot(x = na_data_platform.index ,y=\"sales\", data=na_data_platform, ax=ax[0])\n",
    "sns.barplot(x =na_data_genre.index ,y=\"sales\", data=na_data_genre, ax=ax[1])\n",
    "sns.barplot(x =na_data_rating.index ,y=\"sales\", data=na_data_rating, ax=ax[2])\n",
    "plt.show()"
   ]
  },
  {
   "cell_type": "markdown",
   "metadata": {},
   "source": [
    "### Европа"
   ]
  },
  {
   "cell_type": "code",
   "execution_count": 62,
   "metadata": {},
   "outputs": [
    {
     "data": {
      "image/png": "[encoded data removed]",
      "text/plain": [
       "<Figure size 1080x1440 with 3 Axes>"
      ]
     },
     "metadata": {
      "needs_background": "light"
     },
     "output_type": "display_data"
    }
   ],
   "source": [
    "fig, ax = plt.subplots(3, figsize=(15,20))\n",
    "sns.barplot(x =eu_data_platform.index ,y=\"sales\", data=eu_data_platform, ax=ax[0])\n",
    "sns.barplot(x =eu_data_genre.index ,y=\"sales\", data=eu_data_genre, ax=ax[1])\n",
    "sns.barplot(x =eu_data_rating.index ,y=\"sales\", data=eu_data_rating, ax=ax[2])\n",
    "plt.show()"
   ]
  },
  {
   "cell_type": "markdown",
   "metadata": {},
   "source": [
    "### Вывод:\n",
    "Япония:\n",
    "* ТОП-5 платформ для Японского рынка выглядит следующим образом: `3DS`, `PSV`, `PS4`, `WiiU`, `XOne`. Можно заметить, что японцы больше всего предпочитают платформы, котоыре были созданы в Японии. \n",
    "* По жанрам на Японском рынке лидирует `Role-Playing` игры. Далее следует `Action` с половиной отрыва от топ-1. Остальные позиции заняли `misc`, `fighting`, `platform`.\n",
    "* По рейтингу очень много позиций, где не было присвоен рейтинг игре. В итоге топ-4 в Японии выглядит следующим образом: `T`, `E`, `M`, `E10+`\n",
    "\n",
    "Северная Америка:\n",
    "Ситуация от Японского рынка сильно отличается.\n",
    "* ТОП-5 платформ для Американского рынка выглядит следующим образом: `PS4`,`XOne`, `3DS`, `WiiU`,  `PC`;\n",
    "* ТОП-5 жанров: `shooter`, `action`, `Role-Playing`, `sports`, `platform`\n",
    "* По рейтингу ТОП-5 следующий: `M`, `E`, `T`,`E10+`. На втром месте также много игр, у которых нет рейтинга.\n",
    "\n",
    "Европа:\n",
    "Для Европы ситуация схожа с Америкой.\n",
    "* ТОП-5 платформ для Американского рынка выглядит следующим образом: `PS4`,`XOne`, `3DS`, `PC`, `WiiU`;\n",
    "* ТОП-5 жанров: `action`, `shooter`, `sports`, `Role-Playing`, `racing`\n",
    "* По рейтингу ТОП-5 следующий: `M`, `E`, `T`,`E10+`. Ничем не отличается от Американского"
   ]
  },
  {
   "cell_type": "markdown",
   "metadata": {},
   "source": [
    "## Проверка гипотез"
   ]
  },
  {
   "cell_type": "markdown",
   "metadata": {},
   "source": [
    "### Гипотеза №1"
   ]
  },
  {
   "cell_type": "markdown",
   "metadata": {},
   "source": [
    "* H0 - Средние пользовательские рейтинги платформ Xbox One и PC одинаковые;\n",
    "* H1 - Средние пользовательские рейтинги платформ Xbox One и PC  различаются;"
   ]
  },
  {
   "cell_type": "code",
   "execution_count": 63,
   "metadata": {},
   "outputs": [
    {
     "name": "stdout",
     "output_type": "stream",
     "text": [
      "p-значение: 0.16174359801784308\n",
      "Не получилось отвергнуть нулевую гипотезу\n"
     ]
    }
   ],
   "source": [
    "xbox_test = actual_data.query('(platform == \"XOne\") and (user_score != -1)')[\"user_score\"]\n",
    "pc_test = actual_data.query('(platform == \"PC\") and (user_score != -1)')[\"user_score\"]\n",
    "alpha = .05\n",
    "\n",
    "results = st.ttest_ind(\n",
    "    xbox_test, \n",
    "    pc_test, \n",
    "    equal_var=False)\n",
    "\n",
    "print('p-значение:', results.pvalue)\n",
    "\n",
    "if (results.pvalue < alpha):\n",
    "    print(\"Отвергаем нулевую гипотезу\")\n",
    "else:\n",
    "    print(\"Не получилось отвергнуть нулевую гипотезу\")"
   ]
  },
  {
   "cell_type": "code",
   "execution_count": 64,
   "metadata": {},
   "outputs": [
    {
     "data": {
      "text/html": [
       "<div>\n",
       "<style scoped>\n",
       "    .dataframe tbody tr th:only-of-type {\n",
       "        vertical-align: middle;\n",
       "    }\n",
       "\n",
       "    .dataframe tbody tr th {\n",
       "        vertical-align: top;\n",
       "    }\n",
       "\n",
       "    .dataframe thead th {\n",
       "        text-align: right;\n",
       "    }\n",
       "</style>\n",
       "<table border=\"1\" class=\"dataframe\">\n",
       "  <thead>\n",
       "    <tr style=\"text-align: right;\">\n",
       "      <th></th>\n",
       "      <th>user_score</th>\n",
       "    </tr>\n",
       "    <tr>\n",
       "      <th>platform</th>\n",
       "      <th></th>\n",
       "    </tr>\n",
       "  </thead>\n",
       "  <tbody>\n",
       "    <tr>\n",
       "      <th>PC</th>\n",
       "      <td>6.280380</td>\n",
       "    </tr>\n",
       "    <tr>\n",
       "      <th>XOne</th>\n",
       "      <td>6.521429</td>\n",
       "    </tr>\n",
       "  </tbody>\n",
       "</table>\n",
       "</div>"
      ],
      "text/plain": [
       "          user_score\n",
       "platform            \n",
       "PC          6.280380\n",
       "XOne        6.521429"
      ]
     },
     "execution_count": 64,
     "metadata": {},
     "output_type": "execute_result"
    }
   ],
   "source": [
    "pivot_xone_pc = actual_data.query('(platform == \"XOne\" or platform == \"PC\") and (user_score != -1)')\n",
    "pivot_xone_pc.pivot_table(index = 'platform', values = 'user_score', aggfunc = \"mean\")"
   ]
  },
  {
   "cell_type": "code",
   "execution_count": 65,
   "metadata": {},
   "outputs": [
    {
     "data": {
      "text/plain": [
       "<AxesSubplot:xlabel='platform', ylabel='user_score'>"
      ]
     },
     "execution_count": 65,
     "metadata": {},
     "output_type": "execute_result"
    },
    {
     "data": {
      "image/png": "[encoded data removed]",
      "text/plain": [
       "<Figure size 432x288 with 1 Axes>"
      ]
     },
     "metadata": {
      "needs_background": "light"
     },
     "output_type": "display_data"
    }
   ],
   "source": [
    "sns.boxplot(x='platform',y='user_score',data=pivot_xone_pc, orient='v')"
   ]
  },
  {
   "cell_type": "markdown",
   "metadata": {},
   "source": [
    "#### Вывод:\n",
    " \n",
    "Исходя из Т-теста, было выявлено, что средние оценки пользователей у `PC` и `XOne` одинаковые."
   ]
  },
  {
   "cell_type": "markdown",
   "metadata": {},
   "source": [
    "### Гипотеза №2"
   ]
  },
  {
   "cell_type": "markdown",
   "metadata": {},
   "source": [
    "* H0 - Средние пользовательские рейтинги жанров Action (англ. «действие», экшен-игры) и Sports (англ. «спортивные соревнования») одинаковые;\n",
    "* H1 - Средние пользовательские рейтинги жанров Action (англ. «действие», экшен-игры) и Sports (англ. «спортивные соревнования») различаются;"
   ]
  },
  {
   "cell_type": "code",
   "execution_count": 66,
   "metadata": {},
   "outputs": [
    {
     "name": "stdout",
     "output_type": "stream",
     "text": [
      "p-значение: 1.2481210261397359e-11\n",
      "Отвергаем нулевую гипотезу\n"
     ]
    }
   ],
   "source": [
    "action_test = actual_data.query('(genre == \"Action\") and (user_score != -1)')[\"user_score\"]\n",
    "sport_test = actual_data.query('(genre == \"Sports\") and (user_score != -1)')[\"user_score\"]\n",
    "alpha = .05\n",
    "\n",
    "results = st.ttest_ind(\n",
    "    action_test, \n",
    "    sport_test, \n",
    "    equal_var=False)\n",
    "\n",
    "print('p-значение:', results.pvalue)\n",
    "\n",
    "if (results.pvalue < alpha):\n",
    "    print(\"Отвергаем нулевую гипотезу\")\n",
    "else:\n",
    "    print(\"Не получилось отвергнуть нулевую гипотезу\")"
   ]
  },
  {
   "cell_type": "code",
   "execution_count": 67,
   "metadata": {},
   "outputs": [
    {
     "data": {
      "text/html": [
       "<div>\n",
       "<style scoped>\n",
       "    .dataframe tbody tr th:only-of-type {\n",
       "        vertical-align: middle;\n",
       "    }\n",
       "\n",
       "    .dataframe tbody tr th {\n",
       "        vertical-align: top;\n",
       "    }\n",
       "\n",
       "    .dataframe thead th {\n",
       "        text-align: right;\n",
       "    }\n",
       "</style>\n",
       "<table border=\"1\" class=\"dataframe\">\n",
       "  <thead>\n",
       "    <tr style=\"text-align: right;\">\n",
       "      <th></th>\n",
       "      <th>user_score</th>\n",
       "    </tr>\n",
       "    <tr>\n",
       "      <th>genre</th>\n",
       "      <th></th>\n",
       "    </tr>\n",
       "  </thead>\n",
       "  <tbody>\n",
       "    <tr>\n",
       "      <th>Action</th>\n",
       "      <td>6.890278</td>\n",
       "    </tr>\n",
       "    <tr>\n",
       "      <th>Sports</th>\n",
       "      <td>5.565347</td>\n",
       "    </tr>\n",
       "  </tbody>\n",
       "</table>\n",
       "</div>"
      ],
      "text/plain": [
       "        user_score\n",
       "genre             \n",
       "Action    6.890278\n",
       "Sports    5.565347"
      ]
     },
     "execution_count": 67,
     "metadata": {},
     "output_type": "execute_result"
    }
   ],
   "source": [
    "pivot_action_sport = actual_data.query('(genre == \"Action\" or genre == \"Sports\") and (user_score != -1)')\n",
    "pivot_action_sport.pivot_table(index = 'genre', values = 'user_score', aggfunc = \"mean\")"
   ]
  },
  {
   "cell_type": "code",
   "execution_count": 68,
   "metadata": {},
   "outputs": [
    {
     "data": {
      "text/plain": [
       "<AxesSubplot:xlabel='genre', ylabel='user_score'>"
      ]
     },
     "execution_count": 68,
     "metadata": {},
     "output_type": "execute_result"
    },
    {
     "data": {
      "image/png": "[encoded data removed]",
      "text/plain": [
       "<Figure size 432x288 with 1 Axes>"
      ]
     },
     "metadata": {
      "needs_background": "light"
     },
     "output_type": "display_data"
    }
   ],
   "source": [
    "sns.boxplot(x='genre',y='user_score',data=pivot_action_sport, orient='v')"
   ]
  },
  {
   "cell_type": "markdown",
   "metadata": {},
   "source": [
    "#### Вывод:\n",
    "Средние пользовательские оценки почти в 1,2 раза больше у жанра экшена, чем у спорт. Скорей всего это связано с тем, что жанр спорт не так силильно популярен, чем экшен (из-за количества игроков)."
   ]
  },
  {
   "cell_type": "markdown",
   "metadata": {},
   "source": [
    "## Общий вывод"
   ]
  },
  {
   "cell_type": "markdown",
   "metadata": {},
   "source": [
    "* Был получен файл с данными и проанализирован на информацию в нем. В ходе анализа было выявлено, что в некоторых столбцах присутствуют пропуски и неправильный формат данных. А также неправильное название столбцов;\n",
    "* На этапе подготовки данных, были приняты следующие шаги: сделаны в нижнем регистре название столбцов, заполнены пропуски в столбцах и приведен нужный формат данных. Добавлен новый столбец с суммой по всем регионам.\n",
    "* На эиапе анализа данных, было выявлено следующее: историю игр можно разделить на несколько этапов. C 1980-1995 зарождение игр. С 1995-2007 рост популярности. 2008-2009 года пик популярности. С 2009 начался спад. При этом средняя продолжительность платформа составляет 8 лет, за исключением PC. Выявлены топ-5 платформ за все время 1. PS2 | 2. X360 | 3. Wii | 4. PS3 | 5. DS;\n",
    "* Для построения прогноза на 2017 год был выбран период с 2013 года, так как именно в этом году появились новые платформы, а старые доживали свои дни. \n",
    "* Лидерами среди продаж с 2013 года можно выделить PS4. После этого на ровне идут Xone и WiiU. Хуже всего дела у PSV (Playstation vita). Данная платформа так и не получила широкое признание среди игроков в дальнейшем. А PC сильно уступил консолям и перешел на второй план.\n",
    "* Далее проведен анализ на зависимость оценки пользователей и критиков на продажу игр. Данный анализ показал, что оценка критиков все же влияет на успешность продаж игр. Чем выше оценка, тем лучше продается. А вот оценки пользователей не влияют, за исключением WiiU и 3DS. Пользователи данных платформ на ровне прислушиваюся к другим пользователям и критикам.\n",
    "* Стоит отметить, что популярным жанром среди игроков является Shooter. А вот adventure не пользуется спросом.\n",
    "* При составлении портрета пользователя каждого региона было выявлено, что американский и европейский пользователь сильно не отличаются дргу от друга. В то время как у Японского пользователя все наооборот.\n",
    "* Были проверены 2 гипотезы. Гипотеза о том, что средние пользовательские рейтинги платформ Xbox One и PC одинаковые - подтвердилась. Вторая гипотеза о том, что средние пользовательские рейтинги жанров Action и Sports одинаковые - не подтвердилась. Оценка жанра Action превышает оценку Sport почти в 1,2 раза."
   ]
  },
  {
   "cell_type": "markdown",
   "metadata": {},
   "source": [
    "Рекомендации для магазинов:\n",
    "- Если рассматривать магазины Европы или Северной Америке, то в их случаи картина не сильно отличаются друг от друга. При выборе платформ, то стоит сделать большой упор на такие консоли как PS4 и XOne. Данные платформы принесут большего всего прибыли. Далее можно уже рассматривать 3DS, WiiU и PC. В качестве жанров игр - большего всего стоит продавать игры в жанре Action и Shooter. Игры в данном жанре пользуются большим спросом и принесут больше всего прибыли.\n",
    "- Что касается Японии, то лучшего всего продаются плафтормы, сделанные в самой Японии. При этом стоит отметить, что наиболее прибыльными будуи являтся платформы - 3DS и PSV. Видимо Японцы большего всего предпочитают играть в дороге. Далее уже следуют домашние консоли - PS4 и WiiU. Про XOne и PC стоит забыть. По жанру игр стоит сконцентрироваться на Role-playing играх. Данные игры принесут больше всего прибыли магазинам. Action игры тоже принесут хорошую прибыль, но не так как Role-playing\n"
   ]
  }
 ],
 "metadata": {
  "ExecuteTimeLog": [
   {
    "duration": 1034,
    "start_time": "2022-04-08T10:27:58.928Z"
   },
   {
    "duration": 1661,
    "start_time": "2022-04-08T10:28:24.173Z"
   },
   {
    "duration": 22,
    "start_time": "2022-04-08T10:28:37.096Z"
   },
   {
    "duration": 13,
    "start_time": "2022-04-08T10:28:44.633Z"
   },
   {
    "duration": 4,
    "start_time": "2022-04-08T10:30:17.749Z"
   },
   {
    "duration": 2,
    "start_time": "2022-04-08T10:31:09.813Z"
   },
   {
    "duration": 7,
    "start_time": "2022-04-08T10:31:27.702Z"
   },
   {
    "duration": 6,
    "start_time": "2022-04-08T10:31:34.030Z"
   },
   {
    "duration": 7,
    "start_time": "2022-04-08T10:31:46.217Z"
   },
   {
    "duration": 5,
    "start_time": "2022-04-08T10:31:52.200Z"
   },
   {
    "duration": 6,
    "start_time": "2022-04-08T10:31:58.804Z"
   },
   {
    "duration": 6,
    "start_time": "2022-04-08T10:32:07.605Z"
   },
   {
    "duration": 12,
    "start_time": "2022-04-08T10:32:22.146Z"
   },
   {
    "duration": 12,
    "start_time": "2022-04-08T10:32:38.917Z"
   },
   {
    "duration": 5,
    "start_time": "2022-04-08T10:32:43.947Z"
   },
   {
    "duration": 2,
    "start_time": "2022-04-08T10:32:51.949Z"
   },
   {
    "duration": 19,
    "start_time": "2022-04-08T10:33:01.031Z"
   },
   {
    "duration": 13,
    "start_time": "2022-04-08T10:33:14.958Z"
   },
   {
    "duration": 14,
    "start_time": "2022-04-08T10:33:19.972Z"
   },
   {
    "duration": 12,
    "start_time": "2022-04-08T10:33:29.246Z"
   },
   {
    "duration": 11,
    "start_time": "2022-04-08T10:33:34.348Z"
   },
   {
    "duration": 389,
    "start_time": "2022-04-08T10:33:50.636Z"
   },
   {
    "duration": 6,
    "start_time": "2022-04-08T10:34:06.939Z"
   },
   {
    "duration": 21,
    "start_time": "2022-04-08T10:34:34.162Z"
   },
   {
    "duration": 19,
    "start_time": "2022-04-08T10:34:57.815Z"
   },
   {
    "duration": 6,
    "start_time": "2022-04-08T10:35:17.822Z"
   },
   {
    "duration": 4,
    "start_time": "2022-04-08T10:35:23.319Z"
   },
   {
    "duration": 7,
    "start_time": "2022-04-08T10:35:29.870Z"
   },
   {
    "duration": 7,
    "start_time": "2022-04-08T10:35:47.416Z"
   },
   {
    "duration": 9,
    "start_time": "2022-04-08T10:36:01.289Z"
   },
   {
    "duration": 8,
    "start_time": "2022-04-08T10:36:18.464Z"
   },
   {
    "duration": 4,
    "start_time": "2022-04-08T10:36:26.314Z"
   },
   {
    "duration": 8,
    "start_time": "2022-04-08T10:36:31.051Z"
   },
   {
    "duration": 5,
    "start_time": "2022-04-08T10:36:45.278Z"
   },
   {
    "duration": 5,
    "start_time": "2022-04-08T10:37:45.939Z"
   },
   {
    "duration": 18,
    "start_time": "2022-04-08T10:38:28.890Z"
   },
   {
    "duration": 248,
    "start_time": "2022-04-08T10:38:35.837Z"
   },
   {
    "duration": 206,
    "start_time": "2022-04-08T10:38:43.836Z"
   },
   {
    "duration": 17,
    "start_time": "2022-04-08T10:39:00.014Z"
   },
   {
    "duration": 364,
    "start_time": "2022-04-08T10:39:17.500Z"
   },
   {
    "duration": 213,
    "start_time": "2022-04-08T10:39:24.889Z"
   },
   {
    "duration": 4,
    "start_time": "2022-04-08T10:39:42.941Z"
   },
   {
    "duration": 4368,
    "start_time": "2022-04-08T10:39:49.689Z"
   },
   {
    "duration": 476,
    "start_time": "2022-04-08T10:40:16.201Z"
   },
   {
    "duration": 6,
    "start_time": "2022-04-08T10:40:30.911Z"
   },
   {
    "duration": 6,
    "start_time": "2022-04-08T10:40:44.534Z"
   },
   {
    "duration": 32,
    "start_time": "2022-04-08T10:40:50.046Z"
   },
   {
    "duration": 398,
    "start_time": "2022-04-08T10:40:57.860Z"
   },
   {
    "duration": 5,
    "start_time": "2022-04-08T10:41:33.151Z"
   },
   {
    "duration": 7,
    "start_time": "2022-04-08T10:41:45.650Z"
   },
   {
    "duration": 12,
    "start_time": "2022-04-08T10:41:50.266Z"
   },
   {
    "duration": 238,
    "start_time": "2022-04-08T10:41:56.498Z"
   },
   {
    "duration": 6,
    "start_time": "2022-04-08T10:42:07.636Z"
   },
   {
    "duration": 162,
    "start_time": "2022-04-08T10:42:14.681Z"
   },
   {
    "duration": 205,
    "start_time": "2022-04-08T10:42:21.761Z"
   },
   {
    "duration": 4,
    "start_time": "2022-04-08T10:42:36.394Z"
   },
   {
    "duration": 138,
    "start_time": "2022-04-08T10:42:41.750Z"
   },
   {
    "duration": 183,
    "start_time": "2022-04-08T10:42:52.071Z"
   },
   {
    "duration": 6,
    "start_time": "2022-04-08T10:43:16.479Z"
   },
   {
    "duration": 7,
    "start_time": "2022-04-08T10:43:25.301Z"
   },
   {
    "duration": 1610,
    "start_time": "2022-04-08T10:43:30.087Z"
   },
   {
    "duration": 14,
    "start_time": "2022-04-08T10:44:12.562Z"
   },
   {
    "duration": 183,
    "start_time": "2022-04-08T10:44:21.528Z"
   },
   {
    "duration": 9,
    "start_time": "2022-04-08T10:45:22.675Z"
   },
   {
    "duration": 15,
    "start_time": "2022-04-08T10:45:28.378Z"
   },
   {
    "duration": 9,
    "start_time": "2022-04-08T10:45:54.815Z"
   },
   {
    "duration": 14,
    "start_time": "2022-04-08T10:46:00.877Z"
   },
   {
    "duration": 12,
    "start_time": "2022-04-08T11:08:54.101Z"
   },
   {
    "duration": 12,
    "start_time": "2022-04-08T11:09:08.749Z"
   },
   {
    "duration": 1391,
    "start_time": "2022-04-08T11:09:30.194Z"
   },
   {
    "duration": 39,
    "start_time": "2022-04-08T11:09:31.588Z"
   },
   {
    "duration": 18,
    "start_time": "2022-04-08T11:09:31.629Z"
   },
   {
    "duration": 15,
    "start_time": "2022-04-08T11:09:31.648Z"
   },
   {
    "duration": 16,
    "start_time": "2022-04-08T11:09:31.665Z"
   },
   {
    "duration": 26,
    "start_time": "2022-04-08T11:09:31.683Z"
   },
   {
    "duration": 14,
    "start_time": "2022-04-08T11:09:31.711Z"
   },
   {
    "duration": 10,
    "start_time": "2022-04-08T11:09:31.727Z"
   },
   {
    "duration": 7,
    "start_time": "2022-04-08T11:09:31.739Z"
   },
   {
    "duration": 8,
    "start_time": "2022-04-08T11:09:31.747Z"
   },
   {
    "duration": 12,
    "start_time": "2022-04-08T11:09:31.756Z"
   },
   {
    "duration": 20,
    "start_time": "2022-04-08T11:09:31.769Z"
   },
   {
    "duration": 8,
    "start_time": "2022-04-08T11:09:31.792Z"
   },
   {
    "duration": 7,
    "start_time": "2022-04-08T11:09:31.804Z"
   },
   {
    "duration": 29,
    "start_time": "2022-04-08T11:09:31.813Z"
   },
   {
    "duration": 14,
    "start_time": "2022-04-08T11:09:31.843Z"
   },
   {
    "duration": 34,
    "start_time": "2022-04-08T11:09:31.858Z"
   },
   {
    "duration": 19,
    "start_time": "2022-04-08T11:09:31.894Z"
   },
   {
    "duration": 15,
    "start_time": "2022-04-08T11:09:31.914Z"
   },
   {
    "duration": 407,
    "start_time": "2022-04-08T11:09:31.930Z"
   },
   {
    "duration": 5,
    "start_time": "2022-04-08T11:09:32.339Z"
   },
   {
    "duration": 20,
    "start_time": "2022-04-08T11:09:32.345Z"
   },
   {
    "duration": 20,
    "start_time": "2022-04-08T11:09:32.380Z"
   },
   {
    "duration": 6,
    "start_time": "2022-04-08T11:09:32.402Z"
   },
   {
    "duration": 5,
    "start_time": "2022-04-08T11:09:32.410Z"
   },
   {
    "duration": 11,
    "start_time": "2022-04-08T11:09:32.416Z"
   },
   {
    "duration": 13,
    "start_time": "2022-04-08T11:09:32.429Z"
   },
   {
    "duration": 37,
    "start_time": "2022-04-08T11:09:32.443Z"
   },
   {
    "duration": 6,
    "start_time": "2022-04-08T11:09:32.482Z"
   },
   {
    "duration": 4,
    "start_time": "2022-04-08T11:09:32.490Z"
   },
   {
    "duration": 11,
    "start_time": "2022-04-08T11:09:32.496Z"
   },
   {
    "duration": 8,
    "start_time": "2022-04-08T11:09:32.508Z"
   },
   {
    "duration": 184,
    "start_time": "2022-04-08T11:09:32.518Z"
   },
   {
    "duration": 15,
    "start_time": "2022-04-08T11:09:32.703Z"
   },
   {
    "duration": 300,
    "start_time": "2022-04-08T11:09:32.720Z"
   },
   {
    "duration": 4,
    "start_time": "2022-04-08T11:09:33.022Z"
   },
   {
    "duration": 4598,
    "start_time": "2022-04-08T11:09:33.027Z"
   },
   {
    "duration": 8,
    "start_time": "2022-04-08T11:09:37.627Z"
   },
   {
    "duration": 9,
    "start_time": "2022-04-08T11:09:37.636Z"
   },
   {
    "duration": 42,
    "start_time": "2022-04-08T11:09:37.646Z"
   },
   {
    "duration": 376,
    "start_time": "2022-04-08T11:09:37.691Z"
   },
   {
    "duration": 12,
    "start_time": "2022-04-08T11:09:38.069Z"
   },
   {
    "duration": 6,
    "start_time": "2022-04-08T11:09:38.083Z"
   },
   {
    "duration": 29,
    "start_time": "2022-04-08T11:09:38.091Z"
   },
   {
    "duration": 7,
    "start_time": "2022-04-08T11:09:38.122Z"
   },
   {
    "duration": 158,
    "start_time": "2022-04-08T11:09:38.130Z"
   },
   {
    "duration": 4,
    "start_time": "2022-04-08T11:09:38.290Z"
   },
   {
    "duration": 150,
    "start_time": "2022-04-08T11:09:38.296Z"
   },
   {
    "duration": 6,
    "start_time": "2022-04-08T11:09:38.447Z"
   },
   {
    "duration": 7,
    "start_time": "2022-04-08T11:09:38.455Z"
   },
   {
    "duration": 1819,
    "start_time": "2022-04-08T11:09:38.464Z"
   },
   {
    "duration": 20,
    "start_time": "2022-04-08T11:09:40.285Z"
   },
   {
    "duration": 310,
    "start_time": "2022-04-08T11:09:40.307Z"
   },
   {
    "duration": 12,
    "start_time": "2022-04-08T11:09:40.619Z"
   },
   {
    "duration": 22,
    "start_time": "2022-04-08T11:09:40.633Z"
   },
   {
    "duration": 28,
    "start_time": "2022-04-08T11:09:40.657Z"
   },
   {
    "duration": 19,
    "start_time": "2022-04-08T11:09:40.687Z"
   },
   {
    "duration": 168,
    "start_time": "2022-04-08T11:09:40.708Z"
   },
   {
    "duration": 11,
    "start_time": "2022-04-08T11:10:07.978Z"
   },
   {
    "duration": 11,
    "start_time": "2022-04-08T11:10:08.636Z"
   },
   {
    "duration": 17,
    "start_time": "2022-04-08T11:10:29.507Z"
   },
   {
    "duration": 15,
    "start_time": "2022-04-08T11:11:08.290Z"
   },
   {
    "duration": 117,
    "start_time": "2022-04-08T11:11:39.745Z"
   },
   {
    "duration": 19,
    "start_time": "2022-04-08T11:11:47.836Z"
   },
   {
    "duration": 114,
    "start_time": "2022-04-08T11:11:54.925Z"
   },
   {
    "duration": 11,
    "start_time": "2022-04-08T11:12:04.914Z"
   },
   {
    "duration": 12,
    "start_time": "2022-04-08T11:12:09.644Z"
   },
   {
    "duration": 11,
    "start_time": "2022-04-08T11:12:35.088Z"
   },
   {
    "duration": 12,
    "start_time": "2022-04-08T11:12:37.024Z"
   },
   {
    "duration": 15,
    "start_time": "2022-04-08T11:12:49.006Z"
   },
   {
    "duration": 15,
    "start_time": "2022-04-08T11:12:58.920Z"
   },
   {
    "duration": 277,
    "start_time": "2022-04-08T11:16:14.478Z"
   },
   {
    "duration": 100,
    "start_time": "2022-04-08T11:16:59.168Z"
   },
   {
    "duration": 29,
    "start_time": "2022-04-08T12:15:27.754Z"
   },
   {
    "duration": 20,
    "start_time": "2022-04-08T12:16:02.771Z"
   },
   {
    "duration": 19,
    "start_time": "2022-04-08T12:16:43.240Z"
   },
   {
    "duration": 20,
    "start_time": "2022-04-08T12:19:37.722Z"
   },
   {
    "duration": 19,
    "start_time": "2022-04-08T12:19:38.080Z"
   },
   {
    "duration": 21,
    "start_time": "2022-04-08T12:19:38.359Z"
   },
   {
    "duration": 112,
    "start_time": "2022-04-08T12:20:22.018Z"
   },
   {
    "duration": 13,
    "start_time": "2022-04-08T12:20:29.857Z"
   },
   {
    "duration": 3655,
    "start_time": "2022-04-08T12:20:46.920Z"
   },
   {
    "duration": 3329,
    "start_time": "2022-04-08T12:21:00.538Z"
   },
   {
    "duration": 3240,
    "start_time": "2022-04-08T12:21:49.178Z"
   },
   {
    "duration": 1808,
    "start_time": "2022-04-08T12:23:28.435Z"
   },
   {
    "duration": 43,
    "start_time": "2022-04-08T12:23:30.246Z"
   },
   {
    "duration": 18,
    "start_time": "2022-04-08T12:23:30.290Z"
   },
   {
    "duration": 23,
    "start_time": "2022-04-08T12:23:30.309Z"
   },
   {
    "duration": 8,
    "start_time": "2022-04-08T12:23:30.334Z"
   },
   {
    "duration": 16,
    "start_time": "2022-04-08T12:23:30.343Z"
   },
   {
    "duration": 11,
    "start_time": "2022-04-08T12:23:30.360Z"
   },
   {
    "duration": 29,
    "start_time": "2022-04-08T12:23:30.373Z"
   },
   {
    "duration": 19,
    "start_time": "2022-04-08T12:23:30.405Z"
   },
   {
    "duration": 30,
    "start_time": "2022-04-08T12:23:30.426Z"
   },
   {
    "duration": 26,
    "start_time": "2022-04-08T12:23:30.458Z"
   },
   {
    "duration": 47,
    "start_time": "2022-04-08T12:23:30.486Z"
   },
   {
    "duration": 20,
    "start_time": "2022-04-08T12:23:30.535Z"
   },
   {
    "duration": 6,
    "start_time": "2022-04-08T12:23:30.559Z"
   },
   {
    "duration": 33,
    "start_time": "2022-04-08T12:23:30.567Z"
   },
   {
    "duration": 23,
    "start_time": "2022-04-08T12:23:30.604Z"
   },
   {
    "duration": 18,
    "start_time": "2022-04-08T12:23:30.629Z"
   },
   {
    "duration": 27,
    "start_time": "2022-04-08T12:23:30.649Z"
   },
   {
    "duration": 48,
    "start_time": "2022-04-08T12:23:30.678Z"
   },
   {
    "duration": 457,
    "start_time": "2022-04-08T12:23:30.728Z"
   },
   {
    "duration": 8,
    "start_time": "2022-04-08T12:23:31.189Z"
   },
   {
    "duration": 41,
    "start_time": "2022-04-08T12:23:31.201Z"
   },
   {
    "duration": 58,
    "start_time": "2022-04-08T12:23:31.243Z"
   },
   {
    "duration": 25,
    "start_time": "2022-04-08T12:23:31.304Z"
   },
   {
    "duration": 17,
    "start_time": "2022-04-08T12:23:31.330Z"
   },
   {
    "duration": 20,
    "start_time": "2022-04-08T12:23:31.349Z"
   },
   {
    "duration": 19,
    "start_time": "2022-04-08T12:23:31.371Z"
   },
   {
    "duration": 35,
    "start_time": "2022-04-08T12:23:31.391Z"
   },
   {
    "duration": 18,
    "start_time": "2022-04-08T12:23:31.428Z"
   },
   {
    "duration": 13,
    "start_time": "2022-04-08T12:23:31.449Z"
   },
   {
    "duration": 15,
    "start_time": "2022-04-08T12:23:31.464Z"
   },
   {
    "duration": 16,
    "start_time": "2022-04-08T12:23:31.482Z"
   },
   {
    "duration": 204,
    "start_time": "2022-04-08T12:23:31.499Z"
   },
   {
    "duration": 26,
    "start_time": "2022-04-08T12:23:31.705Z"
   },
   {
    "duration": 334,
    "start_time": "2022-04-08T12:23:31.733Z"
   },
   {
    "duration": 12,
    "start_time": "2022-04-08T12:23:32.069Z"
   },
   {
    "duration": 5229,
    "start_time": "2022-04-08T12:23:32.083Z"
   },
   {
    "duration": 6,
    "start_time": "2022-04-08T12:23:37.314Z"
   },
   {
    "duration": 8,
    "start_time": "2022-04-08T12:23:37.321Z"
   },
   {
    "duration": 26,
    "start_time": "2022-04-08T12:23:37.331Z"
   },
   {
    "duration": 520,
    "start_time": "2022-04-08T12:23:37.362Z"
   },
   {
    "duration": 7,
    "start_time": "2022-04-08T12:23:37.884Z"
   },
   {
    "duration": 23,
    "start_time": "2022-04-08T12:23:37.895Z"
   },
   {
    "duration": 28,
    "start_time": "2022-04-08T12:23:37.921Z"
   },
   {
    "duration": 7,
    "start_time": "2022-04-08T12:23:37.951Z"
   },
   {
    "duration": 165,
    "start_time": "2022-04-08T12:23:37.960Z"
   },
   {
    "duration": 6,
    "start_time": "2022-04-08T12:23:38.127Z"
   },
   {
    "duration": 270,
    "start_time": "2022-04-08T12:23:38.135Z"
   },
   {
    "duration": 11,
    "start_time": "2022-04-08T12:23:38.410Z"
   },
   {
    "duration": 14,
    "start_time": "2022-04-08T12:23:38.423Z"
   },
   {
    "duration": 1236,
    "start_time": "2022-04-08T12:23:38.439Z"
   },
   {
    "duration": 20,
    "start_time": "2022-04-08T12:23:39.683Z"
   },
   {
    "duration": 192,
    "start_time": "2022-04-08T12:23:39.705Z"
   },
   {
    "duration": 113,
    "start_time": "2022-04-08T12:23:39.899Z"
   },
   {
    "duration": 0,
    "start_time": "2022-04-08T12:23:40.013Z"
   },
   {
    "duration": 0,
    "start_time": "2022-04-08T12:23:40.014Z"
   },
   {
    "duration": 0,
    "start_time": "2022-04-08T12:23:40.015Z"
   },
   {
    "duration": 0,
    "start_time": "2022-04-08T12:23:40.015Z"
   },
   {
    "duration": 0,
    "start_time": "2022-04-08T12:23:40.016Z"
   },
   {
    "duration": 0,
    "start_time": "2022-04-08T12:23:40.017Z"
   },
   {
    "duration": 0,
    "start_time": "2022-04-08T12:23:40.018Z"
   },
   {
    "duration": 0,
    "start_time": "2022-04-08T12:23:40.019Z"
   },
   {
    "duration": 0,
    "start_time": "2022-04-08T12:23:40.020Z"
   },
   {
    "duration": 28,
    "start_time": "2022-04-08T12:23:59.928Z"
   },
   {
    "duration": 1160,
    "start_time": "2022-04-08T12:24:58.610Z"
   },
   {
    "duration": 50,
    "start_time": "2022-04-08T12:24:59.772Z"
   },
   {
    "duration": 15,
    "start_time": "2022-04-08T12:24:59.824Z"
   },
   {
    "duration": 12,
    "start_time": "2022-04-08T12:24:59.840Z"
   },
   {
    "duration": 2,
    "start_time": "2022-04-08T12:24:59.855Z"
   },
   {
    "duration": 11,
    "start_time": "2022-04-08T12:24:59.858Z"
   },
   {
    "duration": 5,
    "start_time": "2022-04-08T12:24:59.870Z"
   },
   {
    "duration": 10,
    "start_time": "2022-04-08T12:24:59.881Z"
   },
   {
    "duration": 15,
    "start_time": "2022-04-08T12:24:59.892Z"
   },
   {
    "duration": 7,
    "start_time": "2022-04-08T12:24:59.908Z"
   },
   {
    "duration": 9,
    "start_time": "2022-04-08T12:24:59.918Z"
   },
   {
    "duration": 14,
    "start_time": "2022-04-08T12:24:59.928Z"
   },
   {
    "duration": 10,
    "start_time": "2022-04-08T12:24:59.943Z"
   },
   {
    "duration": 4,
    "start_time": "2022-04-08T12:24:59.957Z"
   },
   {
    "duration": 42,
    "start_time": "2022-04-08T12:24:59.963Z"
   },
   {
    "duration": 21,
    "start_time": "2022-04-08T12:25:00.007Z"
   },
   {
    "duration": 16,
    "start_time": "2022-04-08T12:25:00.030Z"
   },
   {
    "duration": 17,
    "start_time": "2022-04-08T12:25:00.047Z"
   },
   {
    "duration": 30,
    "start_time": "2022-04-08T12:25:00.065Z"
   },
   {
    "duration": 412,
    "start_time": "2022-04-08T12:25:00.097Z"
   },
   {
    "duration": 4,
    "start_time": "2022-04-08T12:25:00.511Z"
   },
   {
    "duration": 24,
    "start_time": "2022-04-08T12:25:00.517Z"
   },
   {
    "duration": 28,
    "start_time": "2022-04-08T12:25:00.542Z"
   },
   {
    "duration": 12,
    "start_time": "2022-04-08T12:25:00.572Z"
   },
   {
    "duration": 29,
    "start_time": "2022-04-08T12:25:00.585Z"
   },
   {
    "duration": 14,
    "start_time": "2022-04-08T12:25:00.616Z"
   },
   {
    "duration": 16,
    "start_time": "2022-04-08T12:25:00.632Z"
   },
   {
    "duration": 20,
    "start_time": "2022-04-08T12:25:00.650Z"
   },
   {
    "duration": 6,
    "start_time": "2022-04-08T12:25:00.672Z"
   },
   {
    "duration": 24,
    "start_time": "2022-04-08T12:25:00.679Z"
   },
   {
    "duration": 9,
    "start_time": "2022-04-08T12:25:00.704Z"
   },
   {
    "duration": 10,
    "start_time": "2022-04-08T12:25:00.714Z"
   },
   {
    "duration": 173,
    "start_time": "2022-04-08T12:25:00.726Z"
   },
   {
    "duration": 14,
    "start_time": "2022-04-08T12:25:00.901Z"
   },
   {
    "duration": 290,
    "start_time": "2022-04-08T12:25:00.917Z"
   },
   {
    "duration": 4,
    "start_time": "2022-04-08T12:25:01.209Z"
   },
   {
    "duration": 4631,
    "start_time": "2022-04-08T12:25:01.215Z"
   },
   {
    "duration": 5,
    "start_time": "2022-04-08T12:25:05.848Z"
   },
   {
    "duration": 9,
    "start_time": "2022-04-08T12:25:05.855Z"
   },
   {
    "duration": 38,
    "start_time": "2022-04-08T12:25:05.865Z"
   },
   {
    "duration": 333,
    "start_time": "2022-04-08T12:25:05.907Z"
   },
   {
    "duration": 4,
    "start_time": "2022-04-08T12:25:06.242Z"
   },
   {
    "duration": 10,
    "start_time": "2022-04-08T12:25:06.248Z"
   },
   {
    "duration": 23,
    "start_time": "2022-04-08T12:25:06.259Z"
   },
   {
    "duration": 6,
    "start_time": "2022-04-08T12:25:06.283Z"
   },
   {
    "duration": 228,
    "start_time": "2022-04-08T12:25:06.291Z"
   },
   {
    "duration": 6,
    "start_time": "2022-04-08T12:25:06.522Z"
   },
   {
    "duration": 161,
    "start_time": "2022-04-08T12:25:06.530Z"
   },
   {
    "duration": 7,
    "start_time": "2022-04-08T12:25:06.693Z"
   },
   {
    "duration": 22,
    "start_time": "2022-04-08T12:25:06.701Z"
   },
   {
    "duration": 1180,
    "start_time": "2022-04-08T12:25:06.724Z"
   },
   {
    "duration": 13,
    "start_time": "2022-04-08T12:25:07.905Z"
   },
   {
    "duration": 214,
    "start_time": "2022-04-08T12:25:07.919Z"
   },
   {
    "duration": 19,
    "start_time": "2022-04-08T12:25:08.135Z"
   },
   {
    "duration": 34,
    "start_time": "2022-04-08T12:25:08.155Z"
   },
   {
    "duration": 25,
    "start_time": "2022-04-08T12:25:08.191Z"
   },
   {
    "duration": 616,
    "start_time": "2022-04-08T12:25:08.217Z"
   },
   {
    "duration": 8,
    "start_time": "2022-04-08T12:25:08.835Z"
   },
   {
    "duration": 17,
    "start_time": "2022-04-08T12:25:08.845Z"
   },
   {
    "duration": 196,
    "start_time": "2022-04-08T12:25:08.863Z"
   },
   {
    "duration": 26,
    "start_time": "2022-04-08T12:25:09.060Z"
   },
   {
    "duration": 21,
    "start_time": "2022-04-08T12:25:09.088Z"
   },
   {
    "duration": 152,
    "start_time": "2022-04-08T12:25:09.110Z"
   },
   {
    "duration": 930,
    "start_time": "2022-04-08T12:25:39.035Z"
   },
   {
    "duration": 1004,
    "start_time": "2022-04-08T12:25:43.648Z"
   },
   {
    "duration": 766,
    "start_time": "2022-04-08T12:25:49.961Z"
   },
   {
    "duration": 973,
    "start_time": "2022-04-08T12:25:55.830Z"
   },
   {
    "duration": 1145,
    "start_time": "2022-04-08T12:26:07.028Z"
   },
   {
    "duration": 198,
    "start_time": "2022-04-08T12:26:59.169Z"
   },
   {
    "duration": 364,
    "start_time": "2022-04-08T12:27:18.020Z"
   },
   {
    "duration": 429,
    "start_time": "2022-04-08T12:27:39.245Z"
   },
   {
    "duration": 10,
    "start_time": "2022-04-08T12:31:06.005Z"
   },
   {
    "duration": 13,
    "start_time": "2022-04-08T12:32:19.528Z"
   },
   {
    "duration": 2,
    "start_time": "2022-04-08T12:32:49.379Z"
   },
   {
    "duration": 8,
    "start_time": "2022-04-08T12:33:19.122Z"
   },
   {
    "duration": 14,
    "start_time": "2022-04-08T12:33:24.381Z"
   },
   {
    "duration": 7,
    "start_time": "2022-04-08T12:33:35.906Z"
   },
   {
    "duration": 7,
    "start_time": "2022-04-08T12:33:46.430Z"
   },
   {
    "duration": 13,
    "start_time": "2022-04-08T12:34:54.255Z"
   },
   {
    "duration": 13,
    "start_time": "2022-04-08T12:35:36.618Z"
   },
   {
    "duration": 121,
    "start_time": "2022-04-08T12:35:42.494Z"
   },
   {
    "duration": 158,
    "start_time": "2022-04-08T12:36:21.194Z"
   },
   {
    "duration": 323,
    "start_time": "2022-04-08T12:38:07.219Z"
   },
   {
    "duration": 445,
    "start_time": "2022-04-08T12:38:58.132Z"
   },
   {
    "duration": 323,
    "start_time": "2022-04-08T12:39:05.161Z"
   },
   {
    "duration": 334,
    "start_time": "2022-04-08T12:39:08.434Z"
   },
   {
    "duration": 386,
    "start_time": "2022-04-08T12:39:18.421Z"
   },
   {
    "duration": 628,
    "start_time": "2022-04-08T12:39:23.026Z"
   },
   {
    "duration": 483,
    "start_time": "2022-04-08T12:39:31.564Z"
   },
   {
    "duration": 543,
    "start_time": "2022-04-08T12:39:41.479Z"
   },
   {
    "duration": 422,
    "start_time": "2022-04-08T12:39:51.013Z"
   },
   {
    "duration": 419,
    "start_time": "2022-04-08T12:39:55.666Z"
   },
   {
    "duration": 417,
    "start_time": "2022-04-08T12:40:00.504Z"
   },
   {
    "duration": 426,
    "start_time": "2022-04-08T12:41:15.022Z"
   },
   {
    "duration": 563,
    "start_time": "2022-04-08T12:42:13.063Z"
   },
   {
    "duration": 400,
    "start_time": "2022-04-08T12:56:41.749Z"
   },
   {
    "duration": 392,
    "start_time": "2022-04-08T12:56:48.594Z"
   },
   {
    "duration": 338,
    "start_time": "2022-04-08T12:56:54.782Z"
   },
   {
    "duration": 428,
    "start_time": "2022-04-08T12:56:59.962Z"
   },
   {
    "duration": 75,
    "start_time": "2022-04-08T15:31:46.064Z"
   },
   {
    "duration": 1749,
    "start_time": "2022-04-08T15:31:56.747Z"
   },
   {
    "duration": 47,
    "start_time": "2022-04-08T15:31:58.499Z"
   },
   {
    "duration": 26,
    "start_time": "2022-04-08T15:31:58.548Z"
   },
   {
    "duration": 22,
    "start_time": "2022-04-08T15:31:58.584Z"
   },
   {
    "duration": 4,
    "start_time": "2022-04-08T15:31:58.609Z"
   },
   {
    "duration": 25,
    "start_time": "2022-04-08T15:31:58.616Z"
   },
   {
    "duration": 46,
    "start_time": "2022-04-08T15:31:58.644Z"
   },
   {
    "duration": 11,
    "start_time": "2022-04-08T15:31:58.693Z"
   },
   {
    "duration": 10,
    "start_time": "2022-04-08T15:31:58.706Z"
   },
   {
    "duration": 8,
    "start_time": "2022-04-08T15:31:58.718Z"
   },
   {
    "duration": 55,
    "start_time": "2022-04-08T15:31:58.729Z"
   },
   {
    "duration": 8,
    "start_time": "2022-04-08T15:31:58.786Z"
   },
   {
    "duration": 27,
    "start_time": "2022-04-08T15:31:58.796Z"
   },
   {
    "duration": 12,
    "start_time": "2022-04-08T15:31:58.827Z"
   },
   {
    "duration": 7,
    "start_time": "2022-04-08T15:31:58.841Z"
   },
   {
    "duration": 56,
    "start_time": "2022-04-08T15:31:58.850Z"
   },
   {
    "duration": 23,
    "start_time": "2022-04-08T15:31:58.908Z"
   },
   {
    "duration": 53,
    "start_time": "2022-04-08T15:31:58.933Z"
   },
   {
    "duration": 24,
    "start_time": "2022-04-08T15:31:58.988Z"
   },
   {
    "duration": 28,
    "start_time": "2022-04-08T15:31:59.014Z"
   },
   {
    "duration": 648,
    "start_time": "2022-04-08T15:31:59.044Z"
   },
   {
    "duration": 6,
    "start_time": "2022-04-08T15:31:59.694Z"
   },
   {
    "duration": 34,
    "start_time": "2022-04-08T15:31:59.702Z"
   },
   {
    "duration": 51,
    "start_time": "2022-04-08T15:31:59.738Z"
   },
   {
    "duration": 9,
    "start_time": "2022-04-08T15:31:59.791Z"
   },
   {
    "duration": 9,
    "start_time": "2022-04-08T15:31:59.802Z"
   },
   {
    "duration": 10,
    "start_time": "2022-04-08T15:31:59.814Z"
   },
   {
    "duration": 11,
    "start_time": "2022-04-08T15:31:59.826Z"
   },
   {
    "duration": 49,
    "start_time": "2022-04-08T15:31:59.839Z"
   },
   {
    "duration": 8,
    "start_time": "2022-04-08T15:31:59.890Z"
   },
   {
    "duration": 6,
    "start_time": "2022-04-08T15:31:59.900Z"
   },
   {
    "duration": 11,
    "start_time": "2022-04-08T15:31:59.908Z"
   },
   {
    "duration": 5,
    "start_time": "2022-04-08T15:31:59.921Z"
   },
   {
    "duration": 316,
    "start_time": "2022-04-08T15:31:59.929Z"
   },
   {
    "duration": 22,
    "start_time": "2022-04-08T15:32:00.247Z"
   },
   {
    "duration": 626,
    "start_time": "2022-04-08T15:32:00.271Z"
   },
   {
    "duration": 5,
    "start_time": "2022-04-08T15:32:00.899Z"
   },
   {
    "duration": 8372,
    "start_time": "2022-04-08T15:32:00.906Z"
   },
   {
    "duration": 9,
    "start_time": "2022-04-08T15:32:09.284Z"
   },
   {
    "duration": 20,
    "start_time": "2022-04-08T15:32:09.295Z"
   },
   {
    "duration": 48,
    "start_time": "2022-04-08T15:32:09.322Z"
   },
   {
    "duration": 578,
    "start_time": "2022-04-08T15:32:09.384Z"
   },
   {
    "duration": 8,
    "start_time": "2022-04-08T15:32:09.965Z"
   },
   {
    "duration": 8,
    "start_time": "2022-04-08T15:32:09.985Z"
   },
   {
    "duration": 26,
    "start_time": "2022-04-08T15:32:09.995Z"
   },
   {
    "duration": 13,
    "start_time": "2022-04-08T15:32:10.024Z"
   },
   {
    "duration": 289,
    "start_time": "2022-04-08T15:32:10.039Z"
   },
   {
    "duration": 7,
    "start_time": "2022-04-08T15:32:10.330Z"
   },
   {
    "duration": 273,
    "start_time": "2022-04-08T15:32:10.339Z"
   },
   {
    "duration": 9,
    "start_time": "2022-04-08T15:32:10.614Z"
   },
   {
    "duration": 9,
    "start_time": "2022-04-08T15:32:10.625Z"
   },
   {
    "duration": 2190,
    "start_time": "2022-04-08T15:32:10.636Z"
   },
   {
    "duration": 22,
    "start_time": "2022-04-08T15:32:12.828Z"
   },
   {
    "duration": 372,
    "start_time": "2022-04-08T15:32:12.852Z"
   },
   {
    "duration": 31,
    "start_time": "2022-04-08T15:32:13.226Z"
   },
   {
    "duration": 55,
    "start_time": "2022-04-08T15:32:13.259Z"
   },
   {
    "duration": 33,
    "start_time": "2022-04-08T15:32:13.316Z"
   },
   {
    "duration": 813,
    "start_time": "2022-04-08T15:32:13.351Z"
   },
   {
    "duration": 900,
    "start_time": "2022-04-08T15:32:14.166Z"
   },
   {
    "duration": 806,
    "start_time": "2022-04-08T15:32:15.068Z"
   },
   {
    "duration": 15,
    "start_time": "2022-04-08T15:32:15.884Z"
   },
   {
    "duration": 28,
    "start_time": "2022-04-08T15:32:15.901Z"
   },
   {
    "duration": 192,
    "start_time": "2022-04-08T15:32:15.931Z"
   },
   {
    "duration": 15,
    "start_time": "2022-04-08T15:32:16.125Z"
   },
   {
    "duration": 45,
    "start_time": "2022-04-08T15:32:16.142Z"
   },
   {
    "duration": 184,
    "start_time": "2022-04-08T15:32:16.189Z"
   },
   {
    "duration": 749,
    "start_time": "2022-04-08T15:32:32.128Z"
   },
   {
    "duration": 786,
    "start_time": "2022-04-08T15:32:41.331Z"
   },
   {
    "duration": 929,
    "start_time": "2022-04-08T15:32:44.332Z"
   },
   {
    "duration": 1189,
    "start_time": "2022-04-08T15:32:52.810Z"
   },
   {
    "duration": 774,
    "start_time": "2022-04-08T15:32:59.055Z"
   },
   {
    "duration": 757,
    "start_time": "2022-04-08T15:33:07.123Z"
   },
   {
    "duration": 734,
    "start_time": "2022-04-08T15:33:19.313Z"
   },
   {
    "duration": 848,
    "start_time": "2022-04-08T15:33:38.129Z"
   },
   {
    "duration": 721,
    "start_time": "2022-04-08T15:33:48.451Z"
   },
   {
    "duration": 1516,
    "start_time": "2022-04-08T16:32:25.401Z"
   },
   {
    "duration": 47,
    "start_time": "2022-04-08T16:32:26.919Z"
   },
   {
    "duration": 31,
    "start_time": "2022-04-08T16:32:26.969Z"
   },
   {
    "duration": 22,
    "start_time": "2022-04-08T16:32:27.003Z"
   },
   {
    "duration": 4,
    "start_time": "2022-04-08T16:32:27.029Z"
   },
   {
    "duration": 55,
    "start_time": "2022-04-08T16:32:27.035Z"
   },
   {
    "duration": 9,
    "start_time": "2022-04-08T16:32:27.092Z"
   },
   {
    "duration": 14,
    "start_time": "2022-04-08T16:32:27.104Z"
   },
   {
    "duration": 10,
    "start_time": "2022-04-08T16:32:27.121Z"
   },
   {
    "duration": 9,
    "start_time": "2022-04-08T16:32:27.133Z"
   },
   {
    "duration": 8,
    "start_time": "2022-04-08T16:32:27.184Z"
   },
   {
    "duration": 12,
    "start_time": "2022-04-08T16:32:27.195Z"
   },
   {
    "duration": 28,
    "start_time": "2022-04-08T16:32:27.210Z"
   },
   {
    "duration": 14,
    "start_time": "2022-04-08T16:32:27.243Z"
   },
   {
    "duration": 30,
    "start_time": "2022-04-08T16:32:27.259Z"
   },
   {
    "duration": 34,
    "start_time": "2022-04-08T16:32:27.291Z"
   },
   {
    "duration": 24,
    "start_time": "2022-04-08T16:32:27.327Z"
   },
   {
    "duration": 52,
    "start_time": "2022-04-08T16:32:27.353Z"
   },
   {
    "duration": 25,
    "start_time": "2022-04-08T16:32:27.407Z"
   },
   {
    "duration": 22,
    "start_time": "2022-04-08T16:32:27.434Z"
   },
   {
    "duration": 703,
    "start_time": "2022-04-08T16:32:27.458Z"
   },
   {
    "duration": 5,
    "start_time": "2022-04-08T16:32:28.163Z"
   },
   {
    "duration": 43,
    "start_time": "2022-04-08T16:32:28.170Z"
   },
   {
    "duration": 30,
    "start_time": "2022-04-08T16:32:28.215Z"
   },
   {
    "duration": 9,
    "start_time": "2022-04-08T16:32:28.247Z"
   },
   {
    "duration": 6,
    "start_time": "2022-04-08T16:32:28.284Z"
   },
   {
    "duration": 11,
    "start_time": "2022-04-08T16:32:28.292Z"
   },
   {
    "duration": 13,
    "start_time": "2022-04-08T16:32:28.305Z"
   },
   {
    "duration": 14,
    "start_time": "2022-04-08T16:32:28.320Z"
   },
   {
    "duration": 16,
    "start_time": "2022-04-08T16:32:28.336Z"
   },
   {
    "duration": 34,
    "start_time": "2022-04-08T16:32:28.353Z"
   },
   {
    "duration": 11,
    "start_time": "2022-04-08T16:32:28.389Z"
   },
   {
    "duration": 5,
    "start_time": "2022-04-08T16:32:28.403Z"
   },
   {
    "duration": 410,
    "start_time": "2022-04-08T16:32:28.410Z"
   },
   {
    "duration": 20,
    "start_time": "2022-04-08T16:32:28.822Z"
   },
   {
    "duration": 519,
    "start_time": "2022-04-08T16:32:28.844Z"
   },
   {
    "duration": 5,
    "start_time": "2022-04-08T16:32:29.365Z"
   },
   {
    "duration": 8453,
    "start_time": "2022-04-08T16:32:29.384Z"
   },
   {
    "duration": 9,
    "start_time": "2022-04-08T16:32:37.840Z"
   },
   {
    "duration": 12,
    "start_time": "2022-04-08T16:32:37.851Z"
   },
   {
    "duration": 37,
    "start_time": "2022-04-08T16:32:37.886Z"
   },
   {
    "duration": 558,
    "start_time": "2022-04-08T16:32:37.925Z"
   },
   {
    "duration": 7,
    "start_time": "2022-04-08T16:32:38.486Z"
   },
   {
    "duration": 13,
    "start_time": "2022-04-08T16:32:38.495Z"
   },
   {
    "duration": 26,
    "start_time": "2022-04-08T16:32:38.510Z"
   },
   {
    "duration": 8,
    "start_time": "2022-04-08T16:32:38.539Z"
   },
   {
    "duration": 295,
    "start_time": "2022-04-08T16:32:38.550Z"
   },
   {
    "duration": 7,
    "start_time": "2022-04-08T16:32:38.847Z"
   },
   {
    "duration": 284,
    "start_time": "2022-04-08T16:32:38.856Z"
   },
   {
    "duration": 10,
    "start_time": "2022-04-08T16:32:39.142Z"
   },
   {
    "duration": 29,
    "start_time": "2022-04-08T16:32:39.154Z"
   },
   {
    "duration": 2179,
    "start_time": "2022-04-08T16:32:39.186Z"
   },
   {
    "duration": 26,
    "start_time": "2022-04-08T16:32:41.367Z"
   },
   {
    "duration": 361,
    "start_time": "2022-04-08T16:32:41.395Z"
   },
   {
    "duration": 43,
    "start_time": "2022-04-08T16:32:41.759Z"
   },
   {
    "duration": 64,
    "start_time": "2022-04-08T16:32:41.805Z"
   },
   {
    "duration": 51,
    "start_time": "2022-04-08T16:32:41.871Z"
   },
   {
    "duration": 745,
    "start_time": "2022-04-08T16:32:41.924Z"
   },
   {
    "duration": 861,
    "start_time": "2022-04-08T16:32:42.671Z"
   },
   {
    "duration": 755,
    "start_time": "2022-04-08T16:32:43.535Z"
   },
   {
    "duration": 14,
    "start_time": "2022-04-08T16:32:44.292Z"
   },
   {
    "duration": 26,
    "start_time": "2022-04-08T16:32:44.309Z"
   },
   {
    "duration": 195,
    "start_time": "2022-04-08T16:32:44.336Z"
   },
   {
    "duration": 14,
    "start_time": "2022-04-08T16:32:44.533Z"
   },
   {
    "duration": 43,
    "start_time": "2022-04-08T16:32:44.549Z"
   },
   {
    "duration": 176,
    "start_time": "2022-04-08T16:32:44.594Z"
   },
   {
    "duration": 16,
    "start_time": "2022-04-08T16:35:01.748Z"
   },
   {
    "duration": 16,
    "start_time": "2022-04-08T16:35:49.646Z"
   },
   {
    "duration": 20,
    "start_time": "2022-04-08T16:35:50.227Z"
   },
   {
    "duration": 164,
    "start_time": "2022-04-08T16:35:50.693Z"
   },
   {
    "duration": 21,
    "start_time": "2022-04-08T16:36:14.529Z"
   },
   {
    "duration": 163,
    "start_time": "2022-04-08T16:36:18.695Z"
   },
   {
    "duration": 23,
    "start_time": "2022-04-08T16:36:23.961Z"
   },
   {
    "duration": 14,
    "start_time": "2022-04-08T16:36:36.210Z"
   },
   {
    "duration": 21,
    "start_time": "2022-04-08T16:36:39.147Z"
   },
   {
    "duration": 174,
    "start_time": "2022-04-08T16:36:46.485Z"
   },
   {
    "duration": 16,
    "start_time": "2022-04-08T16:37:17.492Z"
   },
   {
    "duration": 31,
    "start_time": "2022-04-08T16:37:33.103Z"
   },
   {
    "duration": 276,
    "start_time": "2022-04-08T16:37:38.154Z"
   },
   {
    "duration": 16,
    "start_time": "2022-04-08T16:38:21.539Z"
   },
   {
    "duration": 24,
    "start_time": "2022-04-08T16:38:29.110Z"
   },
   {
    "duration": 187,
    "start_time": "2022-04-08T16:38:29.851Z"
   },
   {
    "duration": 1183,
    "start_time": "2022-04-18T16:07:08.063Z"
   },
   {
    "duration": 41,
    "start_time": "2022-04-18T16:07:09.247Z"
   },
   {
    "duration": 19,
    "start_time": "2022-04-18T16:07:09.290Z"
   },
   {
    "duration": 18,
    "start_time": "2022-04-18T16:07:09.321Z"
   },
   {
    "duration": 3,
    "start_time": "2022-04-18T16:07:09.341Z"
   },
   {
    "duration": 20,
    "start_time": "2022-04-18T16:07:09.346Z"
   },
   {
    "duration": 6,
    "start_time": "2022-04-18T16:07:09.368Z"
   },
   {
    "duration": 8,
    "start_time": "2022-04-18T16:07:09.375Z"
   },
   {
    "duration": 6,
    "start_time": "2022-04-18T16:07:09.423Z"
   },
   {
    "duration": 5,
    "start_time": "2022-04-18T16:07:09.432Z"
   },
   {
    "duration": 6,
    "start_time": "2022-04-18T16:07:09.438Z"
   },
   {
    "duration": 8,
    "start_time": "2022-04-18T16:07:09.446Z"
   },
   {
    "duration": 16,
    "start_time": "2022-04-18T16:07:09.455Z"
   },
   {
    "duration": 51,
    "start_time": "2022-04-18T16:07:09.473Z"
   },
   {
    "duration": 5,
    "start_time": "2022-04-18T16:07:09.526Z"
   },
   {
    "duration": 21,
    "start_time": "2022-04-18T16:07:09.533Z"
   },
   {
    "duration": 13,
    "start_time": "2022-04-18T16:07:09.556Z"
   },
   {
    "duration": 15,
    "start_time": "2022-04-18T16:07:09.571Z"
   },
   {
    "duration": 45,
    "start_time": "2022-04-18T16:07:09.588Z"
   },
   {
    "duration": 11,
    "start_time": "2022-04-18T16:07:09.635Z"
   },
   {
    "duration": 707,
    "start_time": "2022-04-18T16:07:09.648Z"
   },
   {
    "duration": 4,
    "start_time": "2022-04-18T16:07:10.357Z"
   },
   {
    "duration": 24,
    "start_time": "2022-04-18T16:07:10.363Z"
   },
   {
    "duration": 39,
    "start_time": "2022-04-18T16:07:10.389Z"
   },
   {
    "duration": 6,
    "start_time": "2022-04-18T16:07:10.429Z"
   },
   {
    "duration": 10,
    "start_time": "2022-04-18T16:07:10.437Z"
   },
   {
    "duration": 9,
    "start_time": "2022-04-18T16:07:10.449Z"
   },
   {
    "duration": 9,
    "start_time": "2022-04-18T16:07:10.465Z"
   },
   {
    "duration": 46,
    "start_time": "2022-04-18T16:07:10.476Z"
   },
   {
    "duration": 8,
    "start_time": "2022-04-18T16:07:10.525Z"
   },
   {
    "duration": 4,
    "start_time": "2022-04-18T16:07:10.535Z"
   },
   {
    "duration": 9,
    "start_time": "2022-04-18T16:07:10.541Z"
   },
   {
    "duration": 6,
    "start_time": "2022-04-18T16:07:10.551Z"
   },
   {
    "duration": 292,
    "start_time": "2022-04-18T16:07:10.559Z"
   },
   {
    "duration": 16,
    "start_time": "2022-04-18T16:07:10.854Z"
   },
   {
    "duration": 300,
    "start_time": "2022-04-18T16:07:10.872Z"
   },
   {
    "duration": 4,
    "start_time": "2022-04-18T16:07:11.174Z"
   },
   {
    "duration": 5589,
    "start_time": "2022-04-18T16:07:11.179Z"
   },
   {
    "duration": 8,
    "start_time": "2022-04-18T16:07:16.770Z"
   },
   {
    "duration": 9,
    "start_time": "2022-04-18T16:07:16.780Z"
   },
   {
    "duration": 65,
    "start_time": "2022-04-18T16:07:16.791Z"
   },
   {
    "duration": 631,
    "start_time": "2022-04-18T16:07:16.858Z"
   },
   {
    "duration": 8,
    "start_time": "2022-04-18T16:07:17.491Z"
   },
   {
    "duration": 27,
    "start_time": "2022-04-18T16:07:17.501Z"
   },
   {
    "duration": 33,
    "start_time": "2022-04-18T16:07:17.530Z"
   },
   {
    "duration": 18,
    "start_time": "2022-04-18T16:07:17.565Z"
   },
   {
    "duration": 156,
    "start_time": "2022-04-18T16:07:17.584Z"
   },
   {
    "duration": 5,
    "start_time": "2022-04-18T16:07:17.742Z"
   },
   {
    "duration": 163,
    "start_time": "2022-04-18T16:07:17.748Z"
   },
   {
    "duration": 9,
    "start_time": "2022-04-18T16:07:17.913Z"
   },
   {
    "duration": 5,
    "start_time": "2022-04-18T16:07:17.924Z"
   },
   {
    "duration": 1542,
    "start_time": "2022-04-18T16:07:17.931Z"
   },
   {
    "duration": 14,
    "start_time": "2022-04-18T16:07:19.475Z"
   },
   {
    "duration": 206,
    "start_time": "2022-04-18T16:07:19.491Z"
   },
   {
    "duration": 28,
    "start_time": "2022-04-18T16:07:19.699Z"
   },
   {
    "duration": 21,
    "start_time": "2022-04-18T16:07:19.729Z"
   },
   {
    "duration": 21,
    "start_time": "2022-04-18T16:07:19.751Z"
   },
   {
    "duration": 514,
    "start_time": "2022-04-18T16:07:19.774Z"
   },
   {
    "duration": 492,
    "start_time": "2022-04-18T16:07:20.290Z"
   },
   {
    "duration": 416,
    "start_time": "2022-04-18T16:07:20.784Z"
   },
   {
    "duration": 10,
    "start_time": "2022-04-18T16:07:21.202Z"
   },
   {
    "duration": 16,
    "start_time": "2022-04-18T16:07:21.222Z"
   },
   {
    "duration": 138,
    "start_time": "2022-04-18T16:07:21.240Z"
   },
   {
    "duration": 12,
    "start_time": "2022-04-18T16:07:21.380Z"
   },
   {
    "duration": 33,
    "start_time": "2022-04-18T16:07:21.394Z"
   },
   {
    "duration": 133,
    "start_time": "2022-04-18T16:07:21.429Z"
   },
   {
    "duration": 210,
    "start_time": "2022-04-18T16:10:37.916Z"
   },
   {
    "duration": 137,
    "start_time": "2022-04-18T16:25:36.536Z"
   },
   {
    "duration": 1419,
    "start_time": "2022-04-18T16:49:41.304Z"
   },
   {
    "duration": 39,
    "start_time": "2022-04-18T16:49:42.725Z"
   },
   {
    "duration": 18,
    "start_time": "2022-04-18T16:49:42.766Z"
   },
   {
    "duration": 15,
    "start_time": "2022-04-18T16:49:42.793Z"
   },
   {
    "duration": 4,
    "start_time": "2022-04-18T16:49:42.810Z"
   },
   {
    "duration": 19,
    "start_time": "2022-04-18T16:49:42.815Z"
   },
   {
    "duration": 6,
    "start_time": "2022-04-18T16:49:42.835Z"
   },
   {
    "duration": 8,
    "start_time": "2022-04-18T16:49:42.842Z"
   },
   {
    "duration": 6,
    "start_time": "2022-04-18T16:49:42.851Z"
   },
   {
    "duration": 37,
    "start_time": "2022-04-18T16:49:42.859Z"
   },
   {
    "duration": 7,
    "start_time": "2022-04-18T16:49:42.899Z"
   },
   {
    "duration": 8,
    "start_time": "2022-04-18T16:49:42.908Z"
   },
   {
    "duration": 15,
    "start_time": "2022-04-18T16:49:42.917Z"
   },
   {
    "duration": 7,
    "start_time": "2022-04-18T16:49:42.935Z"
   },
   {
    "duration": 5,
    "start_time": "2022-04-18T16:49:42.944Z"
   },
   {
    "duration": 63,
    "start_time": "2022-04-18T16:49:42.951Z"
   },
   {
    "duration": 18,
    "start_time": "2022-04-18T16:49:43.016Z"
   },
   {
    "duration": 17,
    "start_time": "2022-04-18T16:49:43.036Z"
   },
   {
    "duration": 45,
    "start_time": "2022-04-18T16:49:43.055Z"
   },
   {
    "duration": 14,
    "start_time": "2022-04-18T16:49:43.102Z"
   },
   {
    "duration": 452,
    "start_time": "2022-04-18T16:49:43.118Z"
   },
   {
    "duration": 5,
    "start_time": "2022-04-18T16:49:43.571Z"
   },
   {
    "duration": 30,
    "start_time": "2022-04-18T16:49:43.577Z"
   },
   {
    "duration": 20,
    "start_time": "2022-04-18T16:49:43.609Z"
   },
   {
    "duration": 7,
    "start_time": "2022-04-18T16:49:43.631Z"
   },
   {
    "duration": 7,
    "start_time": "2022-04-18T16:49:43.639Z"
   },
   {
    "duration": 11,
    "start_time": "2022-04-18T16:49:43.648Z"
   },
   {
    "duration": 33,
    "start_time": "2022-04-18T16:49:43.661Z"
   },
   {
    "duration": 9,
    "start_time": "2022-04-18T16:49:43.696Z"
   },
   {
    "duration": 6,
    "start_time": "2022-04-18T16:49:43.707Z"
   },
   {
    "duration": 3,
    "start_time": "2022-04-18T16:49:43.715Z"
   },
   {
    "duration": 9,
    "start_time": "2022-04-18T16:49:43.720Z"
   },
   {
    "duration": 7,
    "start_time": "2022-04-18T16:49:43.731Z"
   },
   {
    "duration": 217,
    "start_time": "2022-04-18T16:49:43.739Z"
   },
   {
    "duration": 16,
    "start_time": "2022-04-18T16:49:43.958Z"
   },
   {
    "duration": 346,
    "start_time": "2022-04-18T16:49:43.975Z"
   },
   {
    "duration": 4,
    "start_time": "2022-04-18T16:49:44.323Z"
   },
   {
    "duration": 5344,
    "start_time": "2022-04-18T16:49:44.329Z"
   },
   {
    "duration": 17,
    "start_time": "2022-04-18T16:49:49.676Z"
   },
   {
    "duration": 8,
    "start_time": "2022-04-18T16:49:49.694Z"
   },
   {
    "duration": 26,
    "start_time": "2022-04-18T16:49:49.707Z"
   },
   {
    "duration": 394,
    "start_time": "2022-04-18T16:49:49.735Z"
   },
   {
    "duration": 5,
    "start_time": "2022-04-18T16:49:50.132Z"
   },
   {
    "duration": 8,
    "start_time": "2022-04-18T16:49:50.138Z"
   },
   {
    "duration": 16,
    "start_time": "2022-04-18T16:49:50.147Z"
   },
   {
    "duration": 6,
    "start_time": "2022-04-18T16:49:50.165Z"
   },
   {
    "duration": 164,
    "start_time": "2022-04-18T16:49:50.192Z"
   },
   {
    "duration": 4,
    "start_time": "2022-04-18T16:49:50.358Z"
   },
   {
    "duration": 170,
    "start_time": "2022-04-18T16:49:50.364Z"
   },
   {
    "duration": 7,
    "start_time": "2022-04-18T16:49:50.536Z"
   },
   {
    "duration": 5,
    "start_time": "2022-04-18T16:49:50.545Z"
   },
   {
    "duration": 1359,
    "start_time": "2022-04-18T16:49:50.552Z"
   },
   {
    "duration": 15,
    "start_time": "2022-04-18T16:49:51.912Z"
   },
   {
    "duration": 222,
    "start_time": "2022-04-18T16:49:51.929Z"
   },
   {
    "duration": 217,
    "start_time": "2022-04-18T16:49:52.153Z"
   },
   {
    "duration": 33,
    "start_time": "2022-04-18T16:49:52.372Z"
   },
   {
    "duration": 21,
    "start_time": "2022-04-18T16:49:52.407Z"
   },
   {
    "duration": 21,
    "start_time": "2022-04-18T16:49:52.430Z"
   },
   {
    "duration": 548,
    "start_time": "2022-04-18T16:49:52.453Z"
   },
   {
    "duration": 454,
    "start_time": "2022-04-18T16:49:53.003Z"
   },
   {
    "duration": 454,
    "start_time": "2022-04-18T16:49:53.459Z"
   },
   {
    "duration": 12,
    "start_time": "2022-04-18T16:49:53.915Z"
   },
   {
    "duration": 16,
    "start_time": "2022-04-18T16:49:53.928Z"
   },
   {
    "duration": 148,
    "start_time": "2022-04-18T16:49:53.946Z"
   },
   {
    "duration": 11,
    "start_time": "2022-04-18T16:49:54.096Z"
   },
   {
    "duration": 20,
    "start_time": "2022-04-18T16:49:54.109Z"
   },
   {
    "duration": 137,
    "start_time": "2022-04-18T16:49:54.131Z"
   },
   {
    "duration": 207,
    "start_time": "2022-04-18T16:51:24.290Z"
   },
   {
    "duration": 202,
    "start_time": "2022-04-18T16:51:43.175Z"
   },
   {
    "duration": 209,
    "start_time": "2022-04-19T10:10:03.429Z"
   },
   {
    "duration": 1320,
    "start_time": "2022-04-19T10:12:02.614Z"
   },
   {
    "duration": 1277,
    "start_time": "2022-04-19T10:26:26.000Z"
   },
   {
    "duration": 44,
    "start_time": "2022-04-19T10:26:27.279Z"
   },
   {
    "duration": 27,
    "start_time": "2022-04-19T10:26:27.325Z"
   },
   {
    "duration": 22,
    "start_time": "2022-04-19T10:26:27.355Z"
   },
   {
    "duration": 4,
    "start_time": "2022-04-19T10:26:27.380Z"
   },
   {
    "duration": 48,
    "start_time": "2022-04-19T10:26:27.386Z"
   },
   {
    "duration": 7,
    "start_time": "2022-04-19T10:26:27.436Z"
   },
   {
    "duration": 7,
    "start_time": "2022-04-19T10:26:27.444Z"
   },
   {
    "duration": 6,
    "start_time": "2022-04-19T10:26:27.453Z"
   },
   {
    "duration": 14,
    "start_time": "2022-04-19T10:26:27.461Z"
   },
   {
    "duration": 7,
    "start_time": "2022-04-19T10:26:27.477Z"
   },
   {
    "duration": 38,
    "start_time": "2022-04-19T10:26:27.487Z"
   },
   {
    "duration": 17,
    "start_time": "2022-04-19T10:26:27.527Z"
   },
   {
    "duration": 8,
    "start_time": "2022-04-19T10:26:27.548Z"
   },
   {
    "duration": 6,
    "start_time": "2022-04-19T10:26:27.558Z"
   },
   {
    "duration": 30,
    "start_time": "2022-04-19T10:26:27.565Z"
   },
   {
    "duration": 46,
    "start_time": "2022-04-19T10:26:27.597Z"
   },
   {
    "duration": 16,
    "start_time": "2022-04-19T10:26:27.645Z"
   },
   {
    "duration": 16,
    "start_time": "2022-04-19T10:26:27.663Z"
   },
   {
    "duration": 26,
    "start_time": "2022-04-19T10:26:27.681Z"
   },
   {
    "duration": 437,
    "start_time": "2022-04-19T10:26:27.723Z"
   },
   {
    "duration": 5,
    "start_time": "2022-04-19T10:26:28.161Z"
   },
   {
    "duration": 21,
    "start_time": "2022-04-19T10:26:28.168Z"
   },
   {
    "duration": 40,
    "start_time": "2022-04-19T10:26:28.190Z"
   },
   {
    "duration": 6,
    "start_time": "2022-04-19T10:26:28.232Z"
   },
   {
    "duration": 6,
    "start_time": "2022-04-19T10:26:28.239Z"
   },
   {
    "duration": 11,
    "start_time": "2022-04-19T10:26:28.247Z"
   },
   {
    "duration": 11,
    "start_time": "2022-04-19T10:26:28.260Z"
   },
   {
    "duration": 11,
    "start_time": "2022-04-19T10:26:28.273Z"
   },
   {
    "duration": 39,
    "start_time": "2022-04-19T10:26:28.285Z"
   },
   {
    "duration": 4,
    "start_time": "2022-04-19T10:26:28.326Z"
   },
   {
    "duration": 9,
    "start_time": "2022-04-19T10:26:28.332Z"
   },
   {
    "duration": 5,
    "start_time": "2022-04-19T10:26:28.343Z"
   },
   {
    "duration": 270,
    "start_time": "2022-04-19T10:26:28.350Z"
   },
   {
    "duration": 15,
    "start_time": "2022-04-19T10:26:28.622Z"
   },
   {
    "duration": 329,
    "start_time": "2022-04-19T10:26:28.639Z"
   },
   {
    "duration": 4,
    "start_time": "2022-04-19T10:26:28.970Z"
   },
   {
    "duration": 5715,
    "start_time": "2022-04-19T10:26:28.976Z"
   },
   {
    "duration": 6,
    "start_time": "2022-04-19T10:26:34.693Z"
   },
   {
    "duration": 22,
    "start_time": "2022-04-19T10:26:34.700Z"
   },
   {
    "duration": 43,
    "start_time": "2022-04-19T10:26:34.727Z"
   },
   {
    "duration": 416,
    "start_time": "2022-04-19T10:26:34.772Z"
   },
   {
    "duration": 8,
    "start_time": "2022-04-19T10:26:35.190Z"
   },
   {
    "duration": 22,
    "start_time": "2022-04-19T10:26:35.200Z"
   },
   {
    "duration": 24,
    "start_time": "2022-04-19T10:26:35.224Z"
   },
   {
    "duration": 9,
    "start_time": "2022-04-19T10:26:35.251Z"
   },
   {
    "duration": 247,
    "start_time": "2022-04-19T10:26:35.262Z"
   },
   {
    "duration": 13,
    "start_time": "2022-04-19T10:26:35.511Z"
   },
   {
    "duration": 252,
    "start_time": "2022-04-19T10:26:35.526Z"
   },
   {
    "duration": 9,
    "start_time": "2022-04-19T10:26:35.781Z"
   },
   {
    "duration": 12,
    "start_time": "2022-04-19T10:26:35.792Z"
   },
   {
    "duration": 2026,
    "start_time": "2022-04-19T10:26:35.806Z"
   },
   {
    "duration": 20,
    "start_time": "2022-04-19T10:26:37.834Z"
   },
   {
    "duration": 336,
    "start_time": "2022-04-19T10:26:37.856Z"
   },
   {
    "duration": 122,
    "start_time": "2022-04-19T10:26:38.195Z"
   },
   {
    "duration": 0,
    "start_time": "2022-04-19T10:26:38.322Z"
   },
   {
    "duration": 0,
    "start_time": "2022-04-19T10:26:38.323Z"
   },
   {
    "duration": 0,
    "start_time": "2022-04-19T10:26:38.324Z"
   },
   {
    "duration": 0,
    "start_time": "2022-04-19T10:26:38.325Z"
   },
   {
    "duration": 0,
    "start_time": "2022-04-19T10:26:38.327Z"
   },
   {
    "duration": 0,
    "start_time": "2022-04-19T10:26:38.327Z"
   },
   {
    "duration": 0,
    "start_time": "2022-04-19T10:26:38.329Z"
   },
   {
    "duration": 0,
    "start_time": "2022-04-19T10:26:38.330Z"
   },
   {
    "duration": 0,
    "start_time": "2022-04-19T10:26:38.331Z"
   },
   {
    "duration": 0,
    "start_time": "2022-04-19T10:26:38.332Z"
   },
   {
    "duration": 0,
    "start_time": "2022-04-19T10:26:38.333Z"
   },
   {
    "duration": 0,
    "start_time": "2022-04-19T10:26:38.334Z"
   },
   {
    "duration": 231,
    "start_time": "2022-04-19T10:27:00.159Z"
   },
   {
    "duration": 23,
    "start_time": "2022-04-19T10:31:18.843Z"
   },
   {
    "duration": 21,
    "start_time": "2022-04-19T10:31:19.039Z"
   },
   {
    "duration": 108,
    "start_time": "2022-04-19T10:31:19.259Z"
   },
   {
    "duration": 406,
    "start_time": "2022-04-19T10:31:20.150Z"
   },
   {
    "duration": 409,
    "start_time": "2022-04-19T10:31:20.679Z"
   },
   {
    "duration": 413,
    "start_time": "2022-04-19T10:31:22.123Z"
   },
   {
    "duration": 10,
    "start_time": "2022-04-19T10:31:42.581Z"
   },
   {
    "duration": 15,
    "start_time": "2022-04-19T10:31:51.598Z"
   },
   {
    "duration": 112,
    "start_time": "2022-04-19T10:31:57.796Z"
   },
   {
    "duration": 11,
    "start_time": "2022-04-19T10:32:09.240Z"
   },
   {
    "duration": 16,
    "start_time": "2022-04-19T10:32:12.569Z"
   },
   {
    "duration": 115,
    "start_time": "2022-04-19T10:32:17.053Z"
   },
   {
    "duration": 173,
    "start_time": "2022-04-19T10:46:49.853Z"
   },
   {
    "duration": 5,
    "start_time": "2022-04-19T10:47:36.936Z"
   },
   {
    "duration": 4,
    "start_time": "2022-04-19T10:47:45.969Z"
   },
   {
    "duration": 22,
    "start_time": "2022-04-19T10:50:18.403Z"
   },
   {
    "duration": 31,
    "start_time": "2022-04-19T10:51:26.542Z"
   },
   {
    "duration": 34,
    "start_time": "2022-04-19T10:51:31.182Z"
   },
   {
    "duration": 1170,
    "start_time": "2022-04-19T10:55:40.663Z"
   },
   {
    "duration": 40,
    "start_time": "2022-04-19T10:55:41.835Z"
   },
   {
    "duration": 24,
    "start_time": "2022-04-19T10:55:41.878Z"
   },
   {
    "duration": 25,
    "start_time": "2022-04-19T10:55:41.904Z"
   },
   {
    "duration": 3,
    "start_time": "2022-04-19T10:55:41.932Z"
   },
   {
    "duration": 18,
    "start_time": "2022-04-19T10:55:41.937Z"
   },
   {
    "duration": 5,
    "start_time": "2022-04-19T10:55:41.957Z"
   },
   {
    "duration": 5,
    "start_time": "2022-04-19T10:55:41.964Z"
   },
   {
    "duration": 6,
    "start_time": "2022-04-19T10:55:41.971Z"
   },
   {
    "duration": 5,
    "start_time": "2022-04-19T10:55:41.979Z"
   },
   {
    "duration": 40,
    "start_time": "2022-04-19T10:55:41.986Z"
   },
   {
    "duration": 7,
    "start_time": "2022-04-19T10:55:42.028Z"
   },
   {
    "duration": 13,
    "start_time": "2022-04-19T10:55:42.036Z"
   },
   {
    "duration": 6,
    "start_time": "2022-04-19T10:55:42.053Z"
   },
   {
    "duration": 9,
    "start_time": "2022-04-19T10:55:42.060Z"
   },
   {
    "duration": 23,
    "start_time": "2022-04-19T10:55:42.070Z"
   },
   {
    "duration": 30,
    "start_time": "2022-04-19T10:55:42.095Z"
   },
   {
    "duration": 16,
    "start_time": "2022-04-19T10:55:42.127Z"
   },
   {
    "duration": 15,
    "start_time": "2022-04-19T10:55:42.144Z"
   },
   {
    "duration": 13,
    "start_time": "2022-04-19T10:55:42.160Z"
   },
   {
    "duration": 529,
    "start_time": "2022-04-19T10:55:42.175Z"
   },
   {
    "duration": 4,
    "start_time": "2022-04-19T10:55:42.706Z"
   },
   {
    "duration": 28,
    "start_time": "2022-04-19T10:55:42.712Z"
   },
   {
    "duration": 20,
    "start_time": "2022-04-19T10:55:42.742Z"
   },
   {
    "duration": 8,
    "start_time": "2022-04-19T10:55:42.764Z"
   },
   {
    "duration": 7,
    "start_time": "2022-04-19T10:55:42.774Z"
   },
   {
    "duration": 42,
    "start_time": "2022-04-19T10:55:42.782Z"
   },
   {
    "duration": 9,
    "start_time": "2022-04-19T10:55:42.826Z"
   },
   {
    "duration": 10,
    "start_time": "2022-04-19T10:55:42.837Z"
   },
   {
    "duration": 6,
    "start_time": "2022-04-19T10:55:42.849Z"
   },
   {
    "duration": 3,
    "start_time": "2022-04-19T10:55:42.857Z"
   },
   {
    "duration": 9,
    "start_time": "2022-04-19T10:55:42.862Z"
   },
   {
    "duration": 7,
    "start_time": "2022-04-19T10:55:42.872Z"
   },
   {
    "duration": 192,
    "start_time": "2022-04-19T10:55:42.880Z"
   },
   {
    "duration": 16,
    "start_time": "2022-04-19T10:55:43.073Z"
   },
   {
    "duration": 292,
    "start_time": "2022-04-19T10:55:43.090Z"
   },
   {
    "duration": 4,
    "start_time": "2022-04-19T10:55:43.383Z"
   },
   {
    "duration": 4481,
    "start_time": "2022-04-19T10:55:43.388Z"
   },
   {
    "duration": 7,
    "start_time": "2022-04-19T10:55:47.871Z"
   },
   {
    "duration": 6,
    "start_time": "2022-04-19T10:55:47.880Z"
   },
   {
    "duration": 48,
    "start_time": "2022-04-19T10:55:47.890Z"
   },
   {
    "duration": 337,
    "start_time": "2022-04-19T10:55:47.940Z"
   },
   {
    "duration": 6,
    "start_time": "2022-04-19T10:55:48.278Z"
   },
   {
    "duration": 7,
    "start_time": "2022-04-19T10:55:48.285Z"
   },
   {
    "duration": 29,
    "start_time": "2022-04-19T10:55:48.294Z"
   },
   {
    "duration": 5,
    "start_time": "2022-04-19T10:55:48.325Z"
   },
   {
    "duration": 157,
    "start_time": "2022-04-19T10:55:48.331Z"
   },
   {
    "duration": 5,
    "start_time": "2022-04-19T10:55:48.490Z"
   },
   {
    "duration": 161,
    "start_time": "2022-04-19T10:55:48.497Z"
   },
   {
    "duration": 6,
    "start_time": "2022-04-19T10:55:48.660Z"
   },
   {
    "duration": 6,
    "start_time": "2022-04-19T10:55:48.669Z"
   },
   {
    "duration": 1222,
    "start_time": "2022-04-19T10:55:48.677Z"
   },
   {
    "duration": 23,
    "start_time": "2022-04-19T10:55:49.901Z"
   },
   {
    "duration": 192,
    "start_time": "2022-04-19T10:55:49.926Z"
   },
   {
    "duration": 179,
    "start_time": "2022-04-19T10:55:50.122Z"
   },
   {
    "duration": 30,
    "start_time": "2022-04-19T10:55:50.303Z"
   },
   {
    "duration": 20,
    "start_time": "2022-04-19T10:55:50.335Z"
   },
   {
    "duration": 20,
    "start_time": "2022-04-19T10:55:50.357Z"
   },
   {
    "duration": 490,
    "start_time": "2022-04-19T10:55:50.379Z"
   },
   {
    "duration": 406,
    "start_time": "2022-04-19T10:55:50.871Z"
   },
   {
    "duration": 398,
    "start_time": "2022-04-19T10:55:51.279Z"
   },
   {
    "duration": 10,
    "start_time": "2022-04-19T10:55:51.679Z"
   },
   {
    "duration": 33,
    "start_time": "2022-04-19T10:55:51.691Z"
   },
   {
    "duration": 120,
    "start_time": "2022-04-19T10:55:51.725Z"
   },
   {
    "duration": 11,
    "start_time": "2022-04-19T10:55:51.846Z"
   },
   {
    "duration": 16,
    "start_time": "2022-04-19T10:55:51.858Z"
   },
   {
    "duration": 124,
    "start_time": "2022-04-19T10:55:51.875Z"
   },
   {
    "duration": 108,
    "start_time": "2022-04-19T10:57:47.774Z"
   },
   {
    "duration": 11,
    "start_time": "2022-04-19T10:57:57.784Z"
   },
   {
    "duration": 1229,
    "start_time": "2022-04-19T10:58:50.226Z"
   },
   {
    "duration": 43,
    "start_time": "2022-04-19T10:58:51.457Z"
   },
   {
    "duration": 18,
    "start_time": "2022-04-19T10:58:51.502Z"
   },
   {
    "duration": 22,
    "start_time": "2022-04-19T10:58:51.523Z"
   },
   {
    "duration": 4,
    "start_time": "2022-04-19T10:58:51.548Z"
   },
   {
    "duration": 32,
    "start_time": "2022-04-19T10:58:51.553Z"
   },
   {
    "duration": 10,
    "start_time": "2022-04-19T10:58:51.587Z"
   },
   {
    "duration": 17,
    "start_time": "2022-04-19T10:58:51.599Z"
   },
   {
    "duration": 15,
    "start_time": "2022-04-19T10:58:51.623Z"
   },
   {
    "duration": 28,
    "start_time": "2022-04-19T10:58:51.640Z"
   },
   {
    "duration": 15,
    "start_time": "2022-04-19T10:58:51.670Z"
   },
   {
    "duration": 21,
    "start_time": "2022-04-19T10:58:51.687Z"
   },
   {
    "duration": 29,
    "start_time": "2022-04-19T10:58:51.710Z"
   },
   {
    "duration": 34,
    "start_time": "2022-04-19T10:58:51.744Z"
   },
   {
    "duration": 25,
    "start_time": "2022-04-19T10:58:51.780Z"
   },
   {
    "duration": 11,
    "start_time": "2022-04-19T10:58:51.807Z"
   },
   {
    "duration": 30,
    "start_time": "2022-04-19T10:58:51.820Z"
   },
   {
    "duration": 31,
    "start_time": "2022-04-19T10:58:51.852Z"
   },
   {
    "duration": 24,
    "start_time": "2022-04-19T10:58:51.886Z"
   },
   {
    "duration": 33,
    "start_time": "2022-04-19T10:58:51.913Z"
   },
   {
    "duration": 19,
    "start_time": "2022-04-19T10:58:51.948Z"
   },
   {
    "duration": 437,
    "start_time": "2022-04-19T10:58:51.969Z"
   },
   {
    "duration": 6,
    "start_time": "2022-04-19T10:58:52.408Z"
   },
   {
    "duration": 28,
    "start_time": "2022-04-19T10:58:52.415Z"
   },
   {
    "duration": 22,
    "start_time": "2022-04-19T10:58:52.445Z"
   },
   {
    "duration": 7,
    "start_time": "2022-04-19T10:58:52.469Z"
   },
   {
    "duration": 33,
    "start_time": "2022-04-19T10:58:52.478Z"
   },
   {
    "duration": 27,
    "start_time": "2022-04-19T10:58:52.513Z"
   },
   {
    "duration": 15,
    "start_time": "2022-04-19T10:58:52.542Z"
   },
   {
    "duration": 27,
    "start_time": "2022-04-19T10:58:52.558Z"
   },
   {
    "duration": 11,
    "start_time": "2022-04-19T10:58:52.587Z"
   },
   {
    "duration": 14,
    "start_time": "2022-04-19T10:58:52.600Z"
   },
   {
    "duration": 11,
    "start_time": "2022-04-19T10:58:52.616Z"
   },
   {
    "duration": 13,
    "start_time": "2022-04-19T10:58:52.629Z"
   },
   {
    "duration": 181,
    "start_time": "2022-04-19T10:58:52.643Z"
   },
   {
    "duration": 15,
    "start_time": "2022-04-19T10:58:52.826Z"
   },
   {
    "duration": 337,
    "start_time": "2022-04-19T10:58:52.843Z"
   },
   {
    "duration": 4,
    "start_time": "2022-04-19T10:58:53.181Z"
   },
   {
    "duration": 6219,
    "start_time": "2022-04-19T10:58:53.186Z"
   },
   {
    "duration": 15,
    "start_time": "2022-04-19T10:58:59.407Z"
   },
   {
    "duration": 11,
    "start_time": "2022-04-19T10:58:59.430Z"
   },
   {
    "duration": 52,
    "start_time": "2022-04-19T10:58:59.444Z"
   },
   {
    "duration": 509,
    "start_time": "2022-04-19T10:58:59.498Z"
   },
   {
    "duration": 14,
    "start_time": "2022-04-19T10:59:00.009Z"
   },
   {
    "duration": 24,
    "start_time": "2022-04-19T10:59:00.025Z"
   },
   {
    "duration": 26,
    "start_time": "2022-04-19T10:59:00.050Z"
   },
   {
    "duration": 17,
    "start_time": "2022-04-19T10:59:00.078Z"
   },
   {
    "duration": 166,
    "start_time": "2022-04-19T10:59:00.097Z"
   },
   {
    "duration": 6,
    "start_time": "2022-04-19T10:59:00.264Z"
   },
   {
    "duration": 169,
    "start_time": "2022-04-19T10:59:00.272Z"
   },
   {
    "duration": 7,
    "start_time": "2022-04-19T10:59:00.443Z"
   },
   {
    "duration": 6,
    "start_time": "2022-04-19T10:59:00.452Z"
   },
   {
    "duration": 1252,
    "start_time": "2022-04-19T10:59:00.460Z"
   },
   {
    "duration": 20,
    "start_time": "2022-04-19T10:59:01.714Z"
   },
   {
    "duration": 197,
    "start_time": "2022-04-19T10:59:01.736Z"
   },
   {
    "duration": 196,
    "start_time": "2022-04-19T10:59:01.934Z"
   },
   {
    "duration": 22,
    "start_time": "2022-04-19T10:59:02.132Z"
   },
   {
    "duration": 39,
    "start_time": "2022-04-19T10:59:02.156Z"
   },
   {
    "duration": 42,
    "start_time": "2022-04-19T10:59:02.197Z"
   },
   {
    "duration": 706,
    "start_time": "2022-04-19T10:59:02.241Z"
   },
   {
    "duration": 592,
    "start_time": "2022-04-19T10:59:02.949Z"
   },
   {
    "duration": 611,
    "start_time": "2022-04-19T10:59:03.543Z"
   },
   {
    "duration": 13,
    "start_time": "2022-04-19T10:59:04.155Z"
   },
   {
    "duration": 15,
    "start_time": "2022-04-19T10:59:04.170Z"
   },
   {
    "duration": 144,
    "start_time": "2022-04-19T10:59:04.186Z"
   },
   {
    "duration": 10,
    "start_time": "2022-04-19T10:59:04.332Z"
   },
   {
    "duration": 15,
    "start_time": "2022-04-19T10:59:04.344Z"
   },
   {
    "duration": 187,
    "start_time": "2022-04-19T10:59:04.361Z"
   },
   {
    "duration": 1473,
    "start_time": "2022-04-19T19:24:00.958Z"
   },
   {
    "duration": 43,
    "start_time": "2022-04-19T19:24:02.433Z"
   },
   {
    "duration": 19,
    "start_time": "2022-04-19T19:24:02.478Z"
   },
   {
    "duration": 16,
    "start_time": "2022-04-19T19:24:02.499Z"
   },
   {
    "duration": 9,
    "start_time": "2022-04-19T19:24:02.517Z"
   },
   {
    "duration": 28,
    "start_time": "2022-04-19T19:24:02.528Z"
   },
   {
    "duration": 7,
    "start_time": "2022-04-19T19:24:02.573Z"
   },
   {
    "duration": 20,
    "start_time": "2022-04-19T19:24:02.581Z"
   },
   {
    "duration": 40,
    "start_time": "2022-04-19T19:24:02.603Z"
   },
   {
    "duration": 31,
    "start_time": "2022-04-19T19:24:02.646Z"
   },
   {
    "duration": 47,
    "start_time": "2022-04-19T19:24:02.678Z"
   },
   {
    "duration": 40,
    "start_time": "2022-04-19T19:24:02.727Z"
   },
   {
    "duration": 20,
    "start_time": "2022-04-19T19:24:02.769Z"
   },
   {
    "duration": 26,
    "start_time": "2022-04-19T19:24:02.791Z"
   },
   {
    "duration": 22,
    "start_time": "2022-04-19T19:24:02.818Z"
   },
   {
    "duration": 28,
    "start_time": "2022-04-19T19:24:02.842Z"
   },
   {
    "duration": 40,
    "start_time": "2022-04-19T19:24:02.872Z"
   },
   {
    "duration": 24,
    "start_time": "2022-04-19T19:24:02.914Z"
   },
   {
    "duration": 56,
    "start_time": "2022-04-19T19:24:02.940Z"
   },
   {
    "duration": 40,
    "start_time": "2022-04-19T19:24:02.998Z"
   },
   {
    "duration": 25,
    "start_time": "2022-04-19T19:24:03.039Z"
   },
   {
    "duration": 418,
    "start_time": "2022-04-19T19:24:03.066Z"
   },
   {
    "duration": 5,
    "start_time": "2022-04-19T19:24:03.486Z"
   },
   {
    "duration": 25,
    "start_time": "2022-04-19T19:24:03.493Z"
   },
   {
    "duration": 21,
    "start_time": "2022-04-19T19:24:03.520Z"
   },
   {
    "duration": 32,
    "start_time": "2022-04-19T19:24:03.543Z"
   },
   {
    "duration": 18,
    "start_time": "2022-04-19T19:24:03.577Z"
   },
   {
    "duration": 14,
    "start_time": "2022-04-19T19:24:03.600Z"
   },
   {
    "duration": 14,
    "start_time": "2022-04-19T19:24:03.616Z"
   },
   {
    "duration": 12,
    "start_time": "2022-04-19T19:24:03.632Z"
   },
   {
    "duration": 8,
    "start_time": "2022-04-19T19:24:03.646Z"
   },
   {
    "duration": 7,
    "start_time": "2022-04-19T19:24:03.655Z"
   },
   {
    "duration": 18,
    "start_time": "2022-04-19T19:24:03.664Z"
   },
   {
    "duration": 6,
    "start_time": "2022-04-19T19:24:03.684Z"
   },
   {
    "duration": 192,
    "start_time": "2022-04-19T19:24:03.692Z"
   },
   {
    "duration": 17,
    "start_time": "2022-04-19T19:24:03.886Z"
   },
   {
    "duration": 334,
    "start_time": "2022-04-19T19:24:03.905Z"
   },
   {
    "duration": 4,
    "start_time": "2022-04-19T19:24:04.241Z"
   },
   {
    "duration": 5126,
    "start_time": "2022-04-19T19:24:04.247Z"
   },
   {
    "duration": 6,
    "start_time": "2022-04-19T19:24:09.375Z"
   },
   {
    "duration": 9,
    "start_time": "2022-04-19T19:24:09.383Z"
   },
   {
    "duration": 30,
    "start_time": "2022-04-19T19:24:09.393Z"
   },
   {
    "duration": 418,
    "start_time": "2022-04-19T19:24:09.425Z"
   },
   {
    "duration": 6,
    "start_time": "2022-04-19T19:24:09.845Z"
   },
   {
    "duration": 21,
    "start_time": "2022-04-19T19:24:09.853Z"
   },
   {
    "duration": 17,
    "start_time": "2022-04-19T19:24:09.876Z"
   },
   {
    "duration": 8,
    "start_time": "2022-04-19T19:24:09.895Z"
   },
   {
    "duration": 176,
    "start_time": "2022-04-19T19:24:09.904Z"
   },
   {
    "duration": 5,
    "start_time": "2022-04-19T19:24:10.082Z"
   },
   {
    "duration": 170,
    "start_time": "2022-04-19T19:24:10.089Z"
   },
   {
    "duration": 14,
    "start_time": "2022-04-19T19:24:10.261Z"
   },
   {
    "duration": 6,
    "start_time": "2022-04-19T19:24:10.277Z"
   },
   {
    "duration": 1322,
    "start_time": "2022-04-19T19:24:10.285Z"
   },
   {
    "duration": 18,
    "start_time": "2022-04-19T19:24:11.609Z"
   },
   {
    "duration": 218,
    "start_time": "2022-04-19T19:24:11.629Z"
   },
   {
    "duration": 224,
    "start_time": "2022-04-19T19:24:11.849Z"
   },
   {
    "duration": 23,
    "start_time": "2022-04-19T19:24:12.075Z"
   },
   {
    "duration": 30,
    "start_time": "2022-04-19T19:24:12.100Z"
   },
   {
    "duration": 23,
    "start_time": "2022-04-19T19:24:12.131Z"
   },
   {
    "duration": 555,
    "start_time": "2022-04-19T19:24:12.174Z"
   },
   {
    "duration": 453,
    "start_time": "2022-04-19T19:24:12.731Z"
   },
   {
    "duration": 464,
    "start_time": "2022-04-19T19:24:13.185Z"
   },
   {
    "duration": 11,
    "start_time": "2022-04-19T19:24:13.651Z"
   },
   {
    "duration": 26,
    "start_time": "2022-04-19T19:24:13.663Z"
   },
   {
    "duration": 143,
    "start_time": "2022-04-19T19:24:13.691Z"
   },
   {
    "duration": 11,
    "start_time": "2022-04-19T19:24:13.836Z"
   },
   {
    "duration": 30,
    "start_time": "2022-04-19T19:24:13.849Z"
   },
   {
    "duration": 141,
    "start_time": "2022-04-19T19:24:13.881Z"
   },
   {
    "duration": 369,
    "start_time": "2022-04-19T19:27:36.166Z"
   },
   {
    "duration": 338,
    "start_time": "2022-04-19T19:28:18.086Z"
   },
   {
    "duration": 444,
    "start_time": "2022-04-19T19:29:04.218Z"
   }
  ],
  "kernelspec": {
   "display_name": "Python 3 (ipykernel)",
   "language": "python",
   "name": "python3"
  },
  "language_info": {
   "codemirror_mode": {
    "name": "ipython",
    "version": 3
   },
   "file_extension": ".py",
   "mimetype": "text/x-python",
   "name": "python",
   "nbconvert_exporter": "python",
   "pygments_lexer": "ipython3",
   "version": "3.9.5"
  },
  "toc": {
   "base_numbering": 1,
   "nav_menu": {},
   "number_sections": true,
   "sideBar": true,
   "skip_h1_title": true,
   "title_cell": "Table of Contents",
   "title_sidebar": "Contents",
   "toc_cell": false,
   "toc_position": {
    "height": "calc(100% - 180px)",
    "left": "10px",
    "top": "150px",
    "width": "351px"
   },
   "toc_section_display": true,
   "toc_window_display": true
  }
 },
 "nbformat": 4,
 "nbformat_minor": 2
}
