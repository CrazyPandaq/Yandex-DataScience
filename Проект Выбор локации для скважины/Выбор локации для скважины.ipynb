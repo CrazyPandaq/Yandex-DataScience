{
 "cells": [
  {
   "cell_type": "markdown",
   "metadata": {},
   "source": [
    "# Выбор локации для скважины"
   ]
  },
  {
   "cell_type": "markdown",
   "metadata": {},
   "source": [
    "Допустим, вы работаете в добывающей компании «ГлавРосГосНефть». Нужно решить, где бурить новую скважину.\n",
    "\n",
    "Вам предоставлены пробы нефти в трёх регионах: в каждом 10 000 месторождений, где измерили качество нефти и объём её запасов. Постройте модель машинного обучения, которая поможет определить регион, где добыча принесёт наибольшую прибыль. Проанализируйте возможную прибыль и риски техникой *Bootstrap.*\n",
    "\n",
    "Шаги для выбора локации:\n",
    "\n",
    "- В избранном регионе ищут месторождения, для каждого определяют значения признаков;\n",
    "- Строят модель и оценивают объём запасов;\n",
    "- Выбирают месторождения с самым высокими оценками значений. Количество месторождений зависит от бюджета компании и стоимости разработки одной скважины;\n",
    "- Прибыль равна суммарной прибыли отобранных месторождений."
   ]
  },
  {
   "cell_type": "markdown",
   "metadata": {},
   "source": [
    "Описание данных:\n",
    "\n",
    "* id — уникальный идентификатор скважины;\n",
    "* f0, f1, f2 — три признака точек (неважно, что они означают, но сами признаки значимы);\n",
    "* product — объём запасов в скважине (тыс. баррелей)."
   ]
  },
  {
   "cell_type": "markdown",
   "metadata": {},
   "source": [
    "## Загрузка и подготовка данных"
   ]
  },
  {
   "cell_type": "code",
   "execution_count": 1,
   "metadata": {},
   "outputs": [],
   "source": [
    "import pandas as pd\n",
    "from sklearn.model_selection import train_test_split\n",
    "from sklearn.linear_model import LinearRegression\n",
    "from sklearn.metrics import mean_squared_error\n",
    "from sklearn.preprocessing import StandardScaler\n",
    "import numpy as np\n",
    "\n",
    "import warnings\n",
    "warnings.filterwarnings('ignore')"
   ]
  },
  {
   "cell_type": "code",
   "execution_count": 2,
   "metadata": {},
   "outputs": [],
   "source": [
    "data_1 = pd.read_csv(\"/datasets/geo_data_0.csv\")\n",
    "data_2 = pd.read_csv(\"/datasets/geo_data_1.csv\")\n",
    "data_3 = pd.read_csv(\"/datasets/geo_data_2.csv\")"
   ]
  },
  {
   "cell_type": "code",
   "execution_count": 3,
   "metadata": {},
   "outputs": [
    {
     "data": {
      "text/html": [
       "<div>\n",
       "<style scoped>\n",
       "    .dataframe tbody tr th:only-of-type {\n",
       "        vertical-align: middle;\n",
       "    }\n",
       "\n",
       "    .dataframe tbody tr th {\n",
       "        vertical-align: top;\n",
       "    }\n",
       "\n",
       "    .dataframe thead th {\n",
       "        text-align: right;\n",
       "    }\n",
       "</style>\n",
       "<table border=\"1\" class=\"dataframe\">\n",
       "  <thead>\n",
       "    <tr style=\"text-align: right;\">\n",
       "      <th></th>\n",
       "      <th>id</th>\n",
       "      <th>f0</th>\n",
       "      <th>f1</th>\n",
       "      <th>f2</th>\n",
       "      <th>product</th>\n",
       "    </tr>\n",
       "  </thead>\n",
       "  <tbody>\n",
       "    <tr>\n",
       "      <th>0</th>\n",
       "      <td>txEyH</td>\n",
       "      <td>0.705745</td>\n",
       "      <td>-0.497823</td>\n",
       "      <td>1.221170</td>\n",
       "      <td>105.280062</td>\n",
       "    </tr>\n",
       "    <tr>\n",
       "      <th>1</th>\n",
       "      <td>2acmU</td>\n",
       "      <td>1.334711</td>\n",
       "      <td>-0.340164</td>\n",
       "      <td>4.365080</td>\n",
       "      <td>73.037750</td>\n",
       "    </tr>\n",
       "    <tr>\n",
       "      <th>2</th>\n",
       "      <td>409Wp</td>\n",
       "      <td>1.022732</td>\n",
       "      <td>0.151990</td>\n",
       "      <td>1.419926</td>\n",
       "      <td>85.265647</td>\n",
       "    </tr>\n",
       "    <tr>\n",
       "      <th>3</th>\n",
       "      <td>iJLyR</td>\n",
       "      <td>-0.032172</td>\n",
       "      <td>0.139033</td>\n",
       "      <td>2.978566</td>\n",
       "      <td>168.620776</td>\n",
       "    </tr>\n",
       "    <tr>\n",
       "      <th>4</th>\n",
       "      <td>Xdl7t</td>\n",
       "      <td>1.988431</td>\n",
       "      <td>0.155413</td>\n",
       "      <td>4.751769</td>\n",
       "      <td>154.036647</td>\n",
       "    </tr>\n",
       "  </tbody>\n",
       "</table>\n",
       "</div>"
      ],
      "text/plain": [
       "      id        f0        f1        f2     product\n",
       "0  txEyH  0.705745 -0.497823  1.221170  105.280062\n",
       "1  2acmU  1.334711 -0.340164  4.365080   73.037750\n",
       "2  409Wp  1.022732  0.151990  1.419926   85.265647\n",
       "3  iJLyR -0.032172  0.139033  2.978566  168.620776\n",
       "4  Xdl7t  1.988431  0.155413  4.751769  154.036647"
      ]
     },
     "execution_count": 3,
     "metadata": {},
     "output_type": "execute_result"
    }
   ],
   "source": [
    "data_1.head()"
   ]
  },
  {
   "cell_type": "code",
   "execution_count": 4,
   "metadata": {},
   "outputs": [
    {
     "name": "stdout",
     "output_type": "stream",
     "text": [
      "<class 'pandas.core.frame.DataFrame'>\n",
      "RangeIndex: 100000 entries, 0 to 99999\n",
      "Data columns (total 5 columns):\n",
      " #   Column   Non-Null Count   Dtype  \n",
      "---  ------   --------------   -----  \n",
      " 0   id       100000 non-null  object \n",
      " 1   f0       100000 non-null  float64\n",
      " 2   f1       100000 non-null  float64\n",
      " 3   f2       100000 non-null  float64\n",
      " 4   product  100000 non-null  float64\n",
      "dtypes: float64(4), object(1)\n",
      "memory usage: 3.8+ MB\n"
     ]
    }
   ],
   "source": [
    "data_1.info()"
   ]
  },
  {
   "cell_type": "code",
   "execution_count": 5,
   "metadata": {},
   "outputs": [
    {
     "data": {
      "text/html": [
       "<div>\n",
       "<style scoped>\n",
       "    .dataframe tbody tr th:only-of-type {\n",
       "        vertical-align: middle;\n",
       "    }\n",
       "\n",
       "    .dataframe tbody tr th {\n",
       "        vertical-align: top;\n",
       "    }\n",
       "\n",
       "    .dataframe thead th {\n",
       "        text-align: right;\n",
       "    }\n",
       "</style>\n",
       "<table border=\"1\" class=\"dataframe\">\n",
       "  <thead>\n",
       "    <tr style=\"text-align: right;\">\n",
       "      <th></th>\n",
       "      <th>id</th>\n",
       "      <th>f0</th>\n",
       "      <th>f1</th>\n",
       "      <th>f2</th>\n",
       "      <th>product</th>\n",
       "    </tr>\n",
       "  </thead>\n",
       "  <tbody>\n",
       "    <tr>\n",
       "      <th>0</th>\n",
       "      <td>kBEdx</td>\n",
       "      <td>-15.001348</td>\n",
       "      <td>-8.276000</td>\n",
       "      <td>-0.005876</td>\n",
       "      <td>3.179103</td>\n",
       "    </tr>\n",
       "    <tr>\n",
       "      <th>1</th>\n",
       "      <td>62mP7</td>\n",
       "      <td>14.272088</td>\n",
       "      <td>-3.475083</td>\n",
       "      <td>0.999183</td>\n",
       "      <td>26.953261</td>\n",
       "    </tr>\n",
       "    <tr>\n",
       "      <th>2</th>\n",
       "      <td>vyE1P</td>\n",
       "      <td>6.263187</td>\n",
       "      <td>-5.948386</td>\n",
       "      <td>5.001160</td>\n",
       "      <td>134.766305</td>\n",
       "    </tr>\n",
       "    <tr>\n",
       "      <th>3</th>\n",
       "      <td>KcrkZ</td>\n",
       "      <td>-13.081196</td>\n",
       "      <td>-11.506057</td>\n",
       "      <td>4.999415</td>\n",
       "      <td>137.945408</td>\n",
       "    </tr>\n",
       "    <tr>\n",
       "      <th>4</th>\n",
       "      <td>AHL4O</td>\n",
       "      <td>12.702195</td>\n",
       "      <td>-8.147433</td>\n",
       "      <td>5.004363</td>\n",
       "      <td>134.766305</td>\n",
       "    </tr>\n",
       "  </tbody>\n",
       "</table>\n",
       "</div>"
      ],
      "text/plain": [
       "      id         f0         f1        f2     product\n",
       "0  kBEdx -15.001348  -8.276000 -0.005876    3.179103\n",
       "1  62mP7  14.272088  -3.475083  0.999183   26.953261\n",
       "2  vyE1P   6.263187  -5.948386  5.001160  134.766305\n",
       "3  KcrkZ -13.081196 -11.506057  4.999415  137.945408\n",
       "4  AHL4O  12.702195  -8.147433  5.004363  134.766305"
      ]
     },
     "execution_count": 5,
     "metadata": {},
     "output_type": "execute_result"
    }
   ],
   "source": [
    "data_2.head()"
   ]
  },
  {
   "cell_type": "code",
   "execution_count": 6,
   "metadata": {},
   "outputs": [
    {
     "name": "stdout",
     "output_type": "stream",
     "text": [
      "<class 'pandas.core.frame.DataFrame'>\n",
      "RangeIndex: 100000 entries, 0 to 99999\n",
      "Data columns (total 5 columns):\n",
      " #   Column   Non-Null Count   Dtype  \n",
      "---  ------   --------------   -----  \n",
      " 0   id       100000 non-null  object \n",
      " 1   f0       100000 non-null  float64\n",
      " 2   f1       100000 non-null  float64\n",
      " 3   f2       100000 non-null  float64\n",
      " 4   product  100000 non-null  float64\n",
      "dtypes: float64(4), object(1)\n",
      "memory usage: 3.8+ MB\n"
     ]
    }
   ],
   "source": [
    "data_2.info()"
   ]
  },
  {
   "cell_type": "code",
   "execution_count": 7,
   "metadata": {},
   "outputs": [
    {
     "data": {
      "text/html": [
       "<div>\n",
       "<style scoped>\n",
       "    .dataframe tbody tr th:only-of-type {\n",
       "        vertical-align: middle;\n",
       "    }\n",
       "\n",
       "    .dataframe tbody tr th {\n",
       "        vertical-align: top;\n",
       "    }\n",
       "\n",
       "    .dataframe thead th {\n",
       "        text-align: right;\n",
       "    }\n",
       "</style>\n",
       "<table border=\"1\" class=\"dataframe\">\n",
       "  <thead>\n",
       "    <tr style=\"text-align: right;\">\n",
       "      <th></th>\n",
       "      <th>id</th>\n",
       "      <th>f0</th>\n",
       "      <th>f1</th>\n",
       "      <th>f2</th>\n",
       "      <th>product</th>\n",
       "    </tr>\n",
       "  </thead>\n",
       "  <tbody>\n",
       "    <tr>\n",
       "      <th>0</th>\n",
       "      <td>fwXo0</td>\n",
       "      <td>-1.146987</td>\n",
       "      <td>0.963328</td>\n",
       "      <td>-0.828965</td>\n",
       "      <td>27.758673</td>\n",
       "    </tr>\n",
       "    <tr>\n",
       "      <th>1</th>\n",
       "      <td>WJtFt</td>\n",
       "      <td>0.262778</td>\n",
       "      <td>0.269839</td>\n",
       "      <td>-2.530187</td>\n",
       "      <td>56.069697</td>\n",
       "    </tr>\n",
       "    <tr>\n",
       "      <th>2</th>\n",
       "      <td>ovLUW</td>\n",
       "      <td>0.194587</td>\n",
       "      <td>0.289035</td>\n",
       "      <td>-5.586433</td>\n",
       "      <td>62.871910</td>\n",
       "    </tr>\n",
       "    <tr>\n",
       "      <th>3</th>\n",
       "      <td>q6cA6</td>\n",
       "      <td>2.236060</td>\n",
       "      <td>-0.553760</td>\n",
       "      <td>0.930038</td>\n",
       "      <td>114.572842</td>\n",
       "    </tr>\n",
       "    <tr>\n",
       "      <th>4</th>\n",
       "      <td>WPMUX</td>\n",
       "      <td>-0.515993</td>\n",
       "      <td>1.716266</td>\n",
       "      <td>5.899011</td>\n",
       "      <td>149.600746</td>\n",
       "    </tr>\n",
       "  </tbody>\n",
       "</table>\n",
       "</div>"
      ],
      "text/plain": [
       "      id        f0        f1        f2     product\n",
       "0  fwXo0 -1.146987  0.963328 -0.828965   27.758673\n",
       "1  WJtFt  0.262778  0.269839 -2.530187   56.069697\n",
       "2  ovLUW  0.194587  0.289035 -5.586433   62.871910\n",
       "3  q6cA6  2.236060 -0.553760  0.930038  114.572842\n",
       "4  WPMUX -0.515993  1.716266  5.899011  149.600746"
      ]
     },
     "execution_count": 7,
     "metadata": {},
     "output_type": "execute_result"
    }
   ],
   "source": [
    "data_3.head()"
   ]
  },
  {
   "cell_type": "code",
   "execution_count": 8,
   "metadata": {},
   "outputs": [
    {
     "name": "stdout",
     "output_type": "stream",
     "text": [
      "<class 'pandas.core.frame.DataFrame'>\n",
      "RangeIndex: 100000 entries, 0 to 99999\n",
      "Data columns (total 5 columns):\n",
      " #   Column   Non-Null Count   Dtype  \n",
      "---  ------   --------------   -----  \n",
      " 0   id       100000 non-null  object \n",
      " 1   f0       100000 non-null  float64\n",
      " 2   f1       100000 non-null  float64\n",
      " 3   f2       100000 non-null  float64\n",
      " 4   product  100000 non-null  float64\n",
      "dtypes: float64(4), object(1)\n",
      "memory usage: 3.8+ MB\n"
     ]
    }
   ],
   "source": [
    "data_3.info()"
   ]
  },
  {
   "cell_type": "markdown",
   "metadata": {},
   "source": [
    "Дубликаты"
   ]
  },
  {
   "cell_type": "code",
   "execution_count": 9,
   "metadata": {},
   "outputs": [
    {
     "name": "stdout",
     "output_type": "stream",
     "text": [
      "Количество дубликатов в data_1: 0\n",
      "Количество дубликатов в data_2: 0\n",
      "Количество дубликатов в data_3: 0\n"
     ]
    }
   ],
   "source": [
    "print(\"Количество дубликатов в data_1:\",data_1.duplicated().sum())\n",
    "print(\"Количество дубликатов в data_2:\",data_2.duplicated().sum())\n",
    "print(\"Количество дубликатов в data_3:\",data_3.duplicated().sum())"
   ]
  },
  {
   "cell_type": "code",
   "execution_count": 10,
   "metadata": {},
   "outputs": [
    {
     "data": {
      "text/plain": [
       "1"
      ]
     },
     "execution_count": 10,
     "metadata": {},
     "output_type": "execute_result"
    }
   ],
   "source": [
    "data_1[data_1[\"product\"] == 0]['product'].count()"
   ]
  },
  {
   "cell_type": "code",
   "execution_count": 11,
   "metadata": {},
   "outputs": [
    {
     "data": {
      "text/plain": [
       "8235"
      ]
     },
     "execution_count": 11,
     "metadata": {},
     "output_type": "execute_result"
    }
   ],
   "source": [
    "data_2[data_2[\"product\"] == 0]['product'].count()"
   ]
  },
  {
   "cell_type": "code",
   "execution_count": 12,
   "metadata": {},
   "outputs": [
    {
     "data": {
      "text/plain": [
       "1"
      ]
     },
     "execution_count": 12,
     "metadata": {},
     "output_type": "execute_result"
    }
   ],
   "source": [
    "data_3[data_3[\"product\"] == 0]['product'].count()"
   ]
  },
  {
   "cell_type": "markdown",
   "metadata": {},
   "source": [
    "Признак `id` не нужен в дальнейшем анализе. Поэтому можно удлать данный признак."
   ]
  },
  {
   "cell_type": "code",
   "execution_count": 13,
   "metadata": {},
   "outputs": [],
   "source": [
    "data_1.drop([\"id\"], axis=1, inplace=True)"
   ]
  },
  {
   "cell_type": "code",
   "execution_count": 14,
   "metadata": {},
   "outputs": [],
   "source": [
    "data_2.drop([\"id\"], axis=1, inplace=True)"
   ]
  },
  {
   "cell_type": "code",
   "execution_count": 15,
   "metadata": {},
   "outputs": [],
   "source": [
    "data_3.drop([\"id\"], axis=1, inplace=True)"
   ]
  },
  {
   "cell_type": "code",
   "execution_count": 16,
   "metadata": {},
   "outputs": [
    {
     "data": {
      "text/html": [
       "<div>\n",
       "<style scoped>\n",
       "    .dataframe tbody tr th:only-of-type {\n",
       "        vertical-align: middle;\n",
       "    }\n",
       "\n",
       "    .dataframe tbody tr th {\n",
       "        vertical-align: top;\n",
       "    }\n",
       "\n",
       "    .dataframe thead th {\n",
       "        text-align: right;\n",
       "    }\n",
       "</style>\n",
       "<table border=\"1\" class=\"dataframe\">\n",
       "  <thead>\n",
       "    <tr style=\"text-align: right;\">\n",
       "      <th></th>\n",
       "      <th>f0</th>\n",
       "      <th>f1</th>\n",
       "      <th>f2</th>\n",
       "      <th>product</th>\n",
       "    </tr>\n",
       "  </thead>\n",
       "  <tbody>\n",
       "    <tr>\n",
       "      <th>0</th>\n",
       "      <td>0.705745</td>\n",
       "      <td>-0.497823</td>\n",
       "      <td>1.221170</td>\n",
       "      <td>105.280062</td>\n",
       "    </tr>\n",
       "    <tr>\n",
       "      <th>1</th>\n",
       "      <td>1.334711</td>\n",
       "      <td>-0.340164</td>\n",
       "      <td>4.365080</td>\n",
       "      <td>73.037750</td>\n",
       "    </tr>\n",
       "    <tr>\n",
       "      <th>2</th>\n",
       "      <td>1.022732</td>\n",
       "      <td>0.151990</td>\n",
       "      <td>1.419926</td>\n",
       "      <td>85.265647</td>\n",
       "    </tr>\n",
       "    <tr>\n",
       "      <th>3</th>\n",
       "      <td>-0.032172</td>\n",
       "      <td>0.139033</td>\n",
       "      <td>2.978566</td>\n",
       "      <td>168.620776</td>\n",
       "    </tr>\n",
       "    <tr>\n",
       "      <th>4</th>\n",
       "      <td>1.988431</td>\n",
       "      <td>0.155413</td>\n",
       "      <td>4.751769</td>\n",
       "      <td>154.036647</td>\n",
       "    </tr>\n",
       "  </tbody>\n",
       "</table>\n",
       "</div>"
      ],
      "text/plain": [
       "         f0        f1        f2     product\n",
       "0  0.705745 -0.497823  1.221170  105.280062\n",
       "1  1.334711 -0.340164  4.365080   73.037750\n",
       "2  1.022732  0.151990  1.419926   85.265647\n",
       "3 -0.032172  0.139033  2.978566  168.620776\n",
       "4  1.988431  0.155413  4.751769  154.036647"
      ]
     },
     "execution_count": 16,
     "metadata": {},
     "output_type": "execute_result"
    }
   ],
   "source": [
    "data_1.head()"
   ]
  },
  {
   "cell_type": "markdown",
   "metadata": {},
   "source": [
    "## Обучение и проверка модели"
   ]
  },
  {
   "cell_type": "markdown",
   "metadata": {},
   "source": [
    "### Разделение на выборки"
   ]
  },
  {
   "cell_type": "code",
   "execution_count": 18,
   "metadata": {},
   "outputs": [],
   "source": [
    "def split_data(data_split):\n",
    "    features = data_split.drop(\"product\",axis=1)\n",
    "    target = data_split[\"product\"]\n",
    "    \n",
    "    features_train, features_valid, target_train, target_valid = train_test_split(features, target, \n",
    "                                                                                  test_size=0.25, random_state=12345)\n",
    "    numeric = ['f0', 'f1', 'f2']\n",
    "    scaler = StandardScaler()\n",
    "    scaler.fit(features_train[numeric])\n",
    "\n",
    "    features_train[numeric] = scaler.transform(features_train[numeric])\n",
    "    features_valid[numeric] = scaler.transform(features_valid[numeric])\n",
    "    \n",
    "    return features_train, features_valid, target_train, target_valid"
   ]
  },
  {
   "cell_type": "code",
   "execution_count": 19,
   "metadata": {},
   "outputs": [],
   "source": [
    "features_train_1, features_valid_1, target_train_1, target_valid_1 = split_data(data_1)"
   ]
  },
  {
   "cell_type": "code",
   "execution_count": 20,
   "metadata": {},
   "outputs": [
    {
     "name": "stdout",
     "output_type": "stream",
     "text": [
      "Размер исходного датафрейма: (100000, 4)\n",
      "Размер признака обучающей выборке: (75000, 3)\n",
      "Размер целевого признака обучающей выборке: 75000\n",
      "Размер признака валидационной выборки: (25000, 3)\n",
      "Размер целевого признака валидационной выборки: 25000\n"
     ]
    }
   ],
   "source": [
    "print(f'Размер исходного датафрейма: {data_1.shape}')\n",
    "print(f'Размер признака обучающей выборке: {features_train_1.shape}')\n",
    "print(f'Размер целевого признака обучающей выборке: {target_train_1.shape[0]}')\n",
    "print(f'Размер признака валидационной выборки: {features_valid_1.shape}')\n",
    "print(f'Размер целевого признака валидационной выборки: {target_valid_1.shape[0]}')"
   ]
  },
  {
   "cell_type": "code",
   "execution_count": 21,
   "metadata": {},
   "outputs": [],
   "source": [
    "features_train_2, features_valid_2, target_train_2, target_valid_2 = split_data(data_2)"
   ]
  },
  {
   "cell_type": "code",
   "execution_count": 22,
   "metadata": {},
   "outputs": [
    {
     "name": "stdout",
     "output_type": "stream",
     "text": [
      "Размер исходного датафрейма: (100000, 4)\n",
      "Размер признака обучающей выборке: (75000, 3)\n",
      "Размер целевого признака обучающей выборке: 75000\n",
      "Размер признака валидационной выборки: (25000, 3)\n",
      "Размер целевого признака валидационной выборки: 25000\n"
     ]
    }
   ],
   "source": [
    "print(f'Размер исходного датафрейма: {data_2.shape}')\n",
    "print(f'Размер признака обучающей выборке: {features_train_2.shape}')\n",
    "print(f'Размер целевого признака обучающей выборке: {target_train_2.shape[0]}')\n",
    "print(f'Размер признака валидационной выборки: {features_valid_2.shape}')\n",
    "print(f'Размер целевого признака валидационной выборки: {target_valid_2.shape[0]}')"
   ]
  },
  {
   "cell_type": "code",
   "execution_count": 23,
   "metadata": {},
   "outputs": [],
   "source": [
    "features_train_3, features_valid_3, target_train_3, target_valid_3 = split_data(data_3)"
   ]
  },
  {
   "cell_type": "code",
   "execution_count": 24,
   "metadata": {},
   "outputs": [
    {
     "name": "stdout",
     "output_type": "stream",
     "text": [
      "Размер исходного датафрейма: (100000, 4)\n",
      "Размер признака обучающей выборке: (75000, 3)\n",
      "Размер целевого признака обучающей выборке: 75000\n",
      "Размер признака валидационной выборки: (25000, 3)\n",
      "Размер целевого признака валидационной выборки: 25000\n"
     ]
    }
   ],
   "source": [
    "print(f'Размер исходного датафрейма: {data_3.shape}')\n",
    "print(f'Размер признака обучающей выборке: {features_train_3.shape}')\n",
    "print(f'Размер целевого признака обучающей выборке: {target_train_3.shape[0]}')\n",
    "print(f'Размер признака валидационной выборки: {features_valid_3.shape}')\n",
    "print(f'Размер целевого признака валидационной выборки: {target_valid_3.shape[0]}')"
   ]
  },
  {
   "cell_type": "markdown",
   "metadata": {},
   "source": [
    "### Обучение модели"
   ]
  },
  {
   "cell_type": "code",
   "execution_count": 25,
   "metadata": {},
   "outputs": [],
   "source": [
    "def model_predict(features_train, features_valid, target_train, target_valid):\n",
    "    model = LinearRegression()\n",
    "    model.fit(features_train,target_train)\n",
    "    predictions_valid = pd.Series(model.predict(features_valid))\n",
    "    rmse = mean_squared_error(target_valid, predictions_valid)**0.5\n",
    "    srednee = predictions_valid.mean()\n",
    "    \n",
    "    return predictions_valid, rmse, srednee"
   ]
  },
  {
   "cell_type": "markdown",
   "metadata": {},
   "source": [
    "### Регион 1"
   ]
  },
  {
   "cell_type": "code",
   "execution_count": 26,
   "metadata": {},
   "outputs": [],
   "source": [
    "predictions_valid_1, rmse_1, srednee_1 = model_predict(features_train_1, \n",
    "                                                       features_valid_1, \n",
    "                                                       target_train_1, \n",
    "                                                       target_valid_1\n",
    "                                                      )"
   ]
  },
  {
   "cell_type": "code",
   "execution_count": 27,
   "metadata": {},
   "outputs": [
    {
     "name": "stdout",
     "output_type": "stream",
     "text": [
      "RMSE модели: 37.5794217150813\n",
      "Средний запас сырья в регионе: 92.59256778438035\n"
     ]
    }
   ],
   "source": [
    "print(\"RMSE модели:\",rmse_1)\n",
    "print(\"Средний запас сырья в регионе:\",srednee_1)"
   ]
  },
  {
   "cell_type": "markdown",
   "metadata": {},
   "source": [
    "### Регион 2"
   ]
  },
  {
   "cell_type": "code",
   "execution_count": 28,
   "metadata": {},
   "outputs": [],
   "source": [
    "predictions_valid_2, rmse_2, srednee_2 = model_predict(features_train_2, \n",
    "                                                       features_valid_2, \n",
    "                                                       target_train_2, \n",
    "                                                       target_valid_2\n",
    "                                                      )"
   ]
  },
  {
   "cell_type": "code",
   "execution_count": 29,
   "metadata": {},
   "outputs": [
    {
     "name": "stdout",
     "output_type": "stream",
     "text": [
      "RMSE модели: 0.893099286775617\n",
      "Средний запас сырья в регионе: 68.728546895446\n"
     ]
    }
   ],
   "source": [
    "print(\"RMSE модели:\",rmse_2)\n",
    "print(\"Средний запас сырья в регионе:\",srednee_2)"
   ]
  },
  {
   "cell_type": "markdown",
   "metadata": {},
   "source": [
    "### Регион 3"
   ]
  },
  {
   "cell_type": "code",
   "execution_count": 30,
   "metadata": {},
   "outputs": [],
   "source": [
    "predictions_valid_3, rmse_3, srednee_3 = model_predict(features_train_3, \n",
    "                                                       features_valid_3, \n",
    "                                                       target_train_3, \n",
    "                                                       target_valid_3\n",
    "                                                      )"
   ]
  },
  {
   "cell_type": "code",
   "execution_count": 31,
   "metadata": {},
   "outputs": [
    {
     "name": "stdout",
     "output_type": "stream",
     "text": [
      "RMSE модели: 40.02970873393434\n",
      "Средний запас сырья в регионе: 94.96504596800489\n"
     ]
    }
   ],
   "source": [
    "print(\"RMSE модели:\",rmse_3)\n",
    "print(\"Средний запас сырья в регионе:\",srednee_3)"
   ]
  },
  {
   "cell_type": "markdown",
   "metadata": {},
   "source": [
    "### Вывод:\n",
    "Исходя из прогноза модели, то средний запас у 1 и 3 региона намного больше, чем у второго. Оданко, у данных регионов RMSE модели тоже значительно выше, чем у второго региона. Это говорит о том, что во втором регионе наибольшая точность предсказания сырья"
   ]
  },
  {
   "cell_type": "markdown",
   "metadata": {},
   "source": [
    "## Подготовка к расчёту прибыли"
   ]
  },
  {
   "cell_type": "markdown",
   "metadata": {},
   "source": [
    "### Константы"
   ]
  },
  {
   "cell_type": "code",
   "execution_count": 32,
   "metadata": {},
   "outputs": [],
   "source": [
    "explore = 500\n",
    "mining = 200 \n",
    "budget = 10000000000\n",
    "revenue_per_barrel = 450000\n",
    "loss_probability = 0.025\n",
    "bootstrap_number = 1000"
   ]
  },
  {
   "cell_type": "markdown",
   "metadata": {},
   "source": [
    "### Расчет минимального объема сырья"
   ]
  },
  {
   "cell_type": "code",
   "execution_count": 33,
   "metadata": {},
   "outputs": [
    {
     "name": "stdout",
     "output_type": "stream",
     "text": [
      "Объем сырья для безубыточной разработки 1 скважины: 111.11111111111111\n"
     ]
    }
   ],
   "source": [
    "print(\"Объем сырья для безубыточной разработки 1 скважины:\", budget / mining / revenue_per_barrel)"
   ]
  },
  {
   "cell_type": "code",
   "execution_count": 34,
   "metadata": {},
   "outputs": [
    {
     "name": "stdout",
     "output_type": "stream",
     "text": [
      "Средний запас сырья в регионе 1: 92.59256778438035\n",
      "Средний запас сырья в регионе 2: 68.728546895446\n",
      "Средний запас сырья в регионе 3: 94.96504596800489\n"
     ]
    }
   ],
   "source": [
    "print(\"Средний запас сырья в регионе 1:\",srednee_1)\n",
    "print(\"Средний запас сырья в регионе 2:\",srednee_2)\n",
    "print(\"Средний запас сырья в регионе 3:\",srednee_3)"
   ]
  },
  {
   "cell_type": "markdown",
   "metadata": {},
   "source": [
    "#### Вывод:\n",
    "Таким образом, для безубыточной работы необходимо порядка 111 тыч. баррелей. А средние значения регионов ниже данного порога, что говорит о возможности понести убытки при добыче"
   ]
  },
  {
   "cell_type": "markdown",
   "metadata": {},
   "source": [
    "### Функция расчета прибыли"
   ]
  },
  {
   "cell_type": "code",
   "execution_count": 35,
   "metadata": {},
   "outputs": [],
   "source": [
    "def pribil(target_valid,predictions_valid,count):\n",
    "    top_mining = predictions_valid.sort_values(ascending=False)\n",
    "    target_choice = target_valid[top_mining.index][:count]\n",
    "    income = (target_choice.sum() * revenue_per_barrel) - budget\n",
    "    return income"
   ]
  },
  {
   "cell_type": "markdown",
   "metadata": {},
   "source": [
    "## Расчёт прибыли и рисков "
   ]
  },
  {
   "cell_type": "code",
   "execution_count": 36,
   "metadata": {},
   "outputs": [],
   "source": [
    "def income_risks (target_valid, predictions_valid,  bootstrap_samples, explore):\n",
    "    state = np.random.RandomState(12345)\n",
    "    values = []\n",
    "    \n",
    "    for i in range(bootstrap_samples):\n",
    "        target_subsample = target_valid.reset_index(drop=True).sample(explore, replace=True, random_state=state)\n",
    "        probs_subsample = predictions_valid[target_subsample.index]\n",
    "        rev = pribil(target_subsample, probs_subsample,mining)\n",
    "        values.append(rev)\n",
    "\n",
    "    values = pd.Series(values)\n",
    "\n",
    "    lower = values.quantile(0.05) \n",
    "    upper = values.quantile(0.95) \n",
    "    mean = values.mean()\n",
    "    risks = len(values[values < 0])/len(values)*100\n",
    "    \n",
    "    print(\"Средняя выручка:\", mean)\n",
    "    print(\"95%-квантиль по выручке:\", upper)\n",
    "    print(\"5%-квантиль по выручке:\", lower)\n",
    "    print(\"Вероятность убытков:\",risks,\"%\")\n",
    "    \n",
    "    #values.hist()\n",
    "    "
   ]
  },
  {
   "cell_type": "code",
   "execution_count": 37,
   "metadata": {},
   "outputs": [
    {
     "name": "stdout",
     "output_type": "stream",
     "text": [
      "Для первого региона при случайном выборе 500 скважин получаются следующие показатели:\n",
      "Средняя выручка: 425938526.91059244\n",
      "95%-квантиль по выручке: 881341454.3602811\n",
      "5%-квантиль по выручке: -31803114.346116535\n",
      "Вероятность убытков: 6.0 %\n"
     ]
    }
   ],
   "source": [
    "print('Для первого региона при случайном выборе 500 скважин получаются следующие показатели:')\n",
    "income_risks(target_valid_1, predictions_valid_1,  bootstrap_number, explore)"
   ]
  },
  {
   "cell_type": "code",
   "execution_count": 38,
   "metadata": {},
   "outputs": [
    {
     "name": "stdout",
     "output_type": "stream",
     "text": [
      "Для второго региона при случайном выборе 500 скважин получаются следующие показатели:\n",
      "Средняя выручка: 515222773.4432899\n",
      "95%-квантиль по выручке: 861521464.1012802\n",
      "5%-квантиль по выручке: 150785740.64118025\n",
      "Вероятность убытков: 1.0 %\n"
     ]
    }
   ],
   "source": [
    "print('Для второго региона при случайном выборе 500 скважин получаются следующие показатели:')\n",
    "income_risks(target_valid_2, predictions_valid_2,  bootstrap_number, explore)"
   ]
  },
  {
   "cell_type": "code",
   "execution_count": 39,
   "metadata": {},
   "outputs": [
    {
     "name": "stdout",
     "output_type": "stream",
     "text": [
      "Для третьего региона при случайном выборе 500 скважин получаются следующие показатели:\n",
      "Средняя выручка: 435008362.7827556\n",
      "95%-квантиль по выручке: 897954688.9016576\n",
      "5%-квантиль по выручке: -43448491.32250163\n",
      "Вероятность убытков: 6.4 %\n"
     ]
    }
   ],
   "source": [
    "print('Для третьего региона при случайном выборе 500 скважин получаются следующие показатели:')\n",
    "income_risks(target_valid_3, predictions_valid_3,  bootstrap_number, explore)"
   ]
  },
  {
   "cell_type": "markdown",
   "metadata": {},
   "source": [
    "### Вывод:\n",
    "Наиболее лучшим регионом по добыче является - второй. При этом только в данном регионе вероятность убытков лежит в допустимом значении - 1% (Максимальное - 2.5%). Максимальная прибыль меньше, но не сильно отличается от 2х дргуих регионов. А вот средняя выручка больше, чем у первого и третьего региона."
   ]
  },
  {
   "cell_type": "markdown",
   "metadata": {},
   "source": [
    "## Вывод"
   ]
  },
  {
   "cell_type": "markdown",
   "metadata": {},
   "source": [
    "1. Был изучен полученный файл. Пропусков и дубликатов не обнаружено;\n",
    "2. Удален столбец `id` так как в дальнейшем анализе не участвует;\n",
    "3. Данные были разбиты на 2 выборки:  обучающая и валидационная в соотношении 75:25;\n",
    "4. Осуществленно масштабирование признаков;\n",
    "5. Обучены модели для каждого региона. Наилучшая модель получилась у второго региона с наибольшой точностью предсказания;\n",
    "6. Определен минимальный объем сырья для безубыточной работы. Данный объем превышает средние значения сырья в регионах, что говорит о возможных убытках\n",
    "7. С помощью Bootstrap посчитаны прибиль и риски. Наилучшем регионом оказался второй. Вероятность убытков составила всего 1%, а максимальная выручка не сильно отличается от других регионов, при этом средняя вырчка выше чем у первого и третьего региона."
   ]
  }
 ],
 "metadata": {
  "ExecuteTimeLog": [
   {
    "duration": 3,
    "start_time": "2022-05-17T11:06:00.243Z"
   },
   {
    "duration": 384,
    "start_time": "2022-05-17T11:06:01.612Z"
   },
   {
    "duration": 15,
    "start_time": "2022-05-17T11:11:55.212Z"
   },
   {
    "duration": 67,
    "start_time": "2022-05-17T11:12:03.604Z"
   },
   {
    "duration": 17,
    "start_time": "2022-05-17T11:12:11.335Z"
   },
   {
    "duration": 9,
    "start_time": "2022-05-17T11:12:19.725Z"
   },
   {
    "duration": 16,
    "start_time": "2022-05-17T11:12:28.441Z"
   },
   {
    "duration": 10,
    "start_time": "2022-05-17T11:12:37.549Z"
   },
   {
    "duration": 16,
    "start_time": "2022-05-17T11:12:44.514Z"
   },
   {
    "duration": 51,
    "start_time": "2022-05-17T11:13:14.906Z"
   },
   {
    "duration": 132,
    "start_time": "2022-05-17T11:13:24.607Z"
   },
   {
    "duration": 138,
    "start_time": "2022-05-17T11:14:07.062Z"
   },
   {
    "duration": 127,
    "start_time": "2022-05-17T11:14:25.766Z"
   },
   {
    "duration": 9,
    "start_time": "2022-05-17T11:25:33.616Z"
   },
   {
    "duration": 8,
    "start_time": "2022-05-17T11:25:42.615Z"
   },
   {
    "duration": 10,
    "start_time": "2022-05-17T11:25:47.015Z"
   },
   {
    "duration": 6,
    "start_time": "2022-05-17T11:26:00.790Z"
   },
   {
    "duration": 6,
    "start_time": "2022-05-17T11:26:10.860Z"
   },
   {
    "duration": 5,
    "start_time": "2022-05-17T11:26:20.326Z"
   },
   {
    "duration": 986,
    "start_time": "2022-05-17T13:40:30.281Z"
   },
   {
    "duration": 25,
    "start_time": "2022-05-17T13:43:19.844Z"
   },
   {
    "duration": 6,
    "start_time": "2022-05-17T13:46:44.625Z"
   },
   {
    "duration": 5,
    "start_time": "2022-05-17T13:46:51.166Z"
   },
   {
    "duration": 6,
    "start_time": "2022-05-17T13:46:54.065Z"
   },
   {
    "duration": 923,
    "start_time": "2022-05-19T07:20:23.216Z"
   },
   {
    "duration": 1442,
    "start_time": "2022-05-19T07:20:24.141Z"
   },
   {
    "duration": 63,
    "start_time": "2022-05-19T07:20:25.585Z"
   },
   {
    "duration": 15,
    "start_time": "2022-05-19T07:20:25.650Z"
   },
   {
    "duration": 8,
    "start_time": "2022-05-19T07:20:25.668Z"
   },
   {
    "duration": 15,
    "start_time": "2022-05-19T07:20:25.678Z"
   },
   {
    "duration": 25,
    "start_time": "2022-05-19T07:20:25.694Z"
   },
   {
    "duration": 23,
    "start_time": "2022-05-19T07:20:25.720Z"
   },
   {
    "duration": 137,
    "start_time": "2022-05-19T07:20:25.744Z"
   },
   {
    "duration": 7,
    "start_time": "2022-05-19T07:20:25.882Z"
   },
   {
    "duration": 8,
    "start_time": "2022-05-19T07:20:25.890Z"
   },
   {
    "duration": 5,
    "start_time": "2022-05-19T07:20:25.912Z"
   },
   {
    "duration": 7,
    "start_time": "2022-05-19T07:20:25.918Z"
   },
   {
    "duration": 7,
    "start_time": "2022-05-19T07:20:25.927Z"
   },
   {
    "duration": 14,
    "start_time": "2022-05-19T07:20:25.935Z"
   },
   {
    "duration": 19,
    "start_time": "2022-05-19T07:20:25.950Z"
   },
   {
    "duration": 10,
    "start_time": "2022-05-19T09:33:41.744Z"
   },
   {
    "duration": 894,
    "start_time": "2022-05-19T09:34:55.222Z"
   },
   {
    "duration": 741,
    "start_time": "2022-05-19T09:34:56.118Z"
   },
   {
    "duration": 74,
    "start_time": "2022-05-19T09:34:56.861Z"
   },
   {
    "duration": 31,
    "start_time": "2022-05-19T09:34:56.936Z"
   },
   {
    "duration": 17,
    "start_time": "2022-05-19T09:34:56.970Z"
   },
   {
    "duration": 39,
    "start_time": "2022-05-19T09:34:56.989Z"
   },
   {
    "duration": 9,
    "start_time": "2022-05-19T09:34:57.030Z"
   },
   {
    "duration": 37,
    "start_time": "2022-05-19T09:34:57.042Z"
   },
   {
    "duration": 142,
    "start_time": "2022-05-19T09:34:57.081Z"
   },
   {
    "duration": 7,
    "start_time": "2022-05-19T09:34:57.225Z"
   },
   {
    "duration": 21,
    "start_time": "2022-05-19T09:34:57.234Z"
   },
   {
    "duration": 7,
    "start_time": "2022-05-19T09:34:57.265Z"
   },
   {
    "duration": 21,
    "start_time": "2022-05-19T09:34:57.274Z"
   },
   {
    "duration": 11,
    "start_time": "2022-05-19T09:34:57.299Z"
   },
   {
    "duration": 26,
    "start_time": "2022-05-19T09:34:57.313Z"
   },
   {
    "duration": 23,
    "start_time": "2022-05-19T09:34:57.342Z"
   },
   {
    "duration": 13,
    "start_time": "2022-05-19T09:34:57.367Z"
   },
   {
    "duration": 51,
    "start_time": "2022-05-19T09:34:57.382Z"
   },
   {
    "duration": 20,
    "start_time": "2022-05-19T09:34:57.436Z"
   },
   {
    "duration": 31,
    "start_time": "2022-05-19T09:34:57.459Z"
   },
   {
    "duration": 4,
    "start_time": "2022-05-19T09:37:47.779Z"
   },
   {
    "duration": 5,
    "start_time": "2022-05-19T09:38:18.326Z"
   },
   {
    "duration": 5,
    "start_time": "2022-05-19T09:39:46.045Z"
   },
   {
    "duration": 8,
    "start_time": "2022-05-20T07:05:46.269Z"
   },
   {
    "duration": 1361,
    "start_time": "2022-05-20T07:06:10.573Z"
   },
   {
    "duration": 825,
    "start_time": "2022-05-20T07:12:53.153Z"
   },
   {
    "duration": 1550,
    "start_time": "2022-05-20T07:12:53.980Z"
   },
   {
    "duration": 68,
    "start_time": "2022-05-20T07:12:55.532Z"
   },
   {
    "duration": 17,
    "start_time": "2022-05-20T07:12:55.602Z"
   },
   {
    "duration": 9,
    "start_time": "2022-05-20T07:12:55.622Z"
   },
   {
    "duration": 18,
    "start_time": "2022-05-20T07:12:55.632Z"
   },
   {
    "duration": 10,
    "start_time": "2022-05-20T07:12:55.651Z"
   },
   {
    "duration": 46,
    "start_time": "2022-05-20T07:12:55.663Z"
   },
   {
    "duration": 146,
    "start_time": "2022-05-20T07:12:55.712Z"
   },
   {
    "duration": 6,
    "start_time": "2022-05-20T07:12:55.860Z"
   },
   {
    "duration": 7,
    "start_time": "2022-05-20T07:12:55.867Z"
   },
   {
    "duration": 28,
    "start_time": "2022-05-20T07:12:55.875Z"
   },
   {
    "duration": 6,
    "start_time": "2022-05-20T07:12:55.905Z"
   },
   {
    "duration": 7,
    "start_time": "2022-05-20T07:12:55.915Z"
   },
   {
    "duration": 8,
    "start_time": "2022-05-20T07:12:55.924Z"
   },
   {
    "duration": 13,
    "start_time": "2022-05-20T07:12:55.933Z"
   },
   {
    "duration": 7,
    "start_time": "2022-05-20T07:12:55.947Z"
   },
   {
    "duration": 55,
    "start_time": "2022-05-20T07:12:55.955Z"
   },
   {
    "duration": 4,
    "start_time": "2022-05-20T07:12:56.011Z"
   },
   {
    "duration": 29,
    "start_time": "2022-05-20T07:12:56.017Z"
   },
   {
    "duration": 4,
    "start_time": "2022-05-20T07:12:56.048Z"
   },
   {
    "duration": 51,
    "start_time": "2022-05-20T07:12:56.053Z"
   },
   {
    "duration": 4,
    "start_time": "2022-05-20T07:12:56.106Z"
   },
   {
    "duration": 14,
    "start_time": "2022-05-20T07:12:56.111Z"
   },
   {
    "duration": 77,
    "start_time": "2022-05-20T07:12:56.126Z"
   },
   {
    "duration": 6,
    "start_time": "2022-05-20T07:12:56.205Z"
   },
   {
    "duration": 104,
    "start_time": "2022-05-20T07:12:56.213Z"
   },
   {
    "duration": 86,
    "start_time": "2022-05-20T07:12:56.319Z"
   },
   {
    "duration": 105,
    "start_time": "2022-05-20T07:12:56.407Z"
   },
   {
    "duration": 4,
    "start_time": "2022-05-20T07:12:56.514Z"
   },
   {
    "duration": 3,
    "start_time": "2022-05-20T07:13:33.932Z"
   },
   {
    "duration": 3,
    "start_time": "2022-05-20T07:13:35.968Z"
   },
   {
    "duration": 3,
    "start_time": "2022-05-20T07:31:38.164Z"
   },
   {
    "duration": 111,
    "start_time": "2022-05-20T07:40:10.345Z"
   },
   {
    "duration": 3,
    "start_time": "2022-05-20T07:40:14.034Z"
   },
   {
    "duration": 3,
    "start_time": "2022-05-20T07:40:14.799Z"
   },
   {
    "duration": 3,
    "start_time": "2022-05-20T07:44:07.874Z"
   },
   {
    "duration": 893,
    "start_time": "2022-05-20T07:46:46.243Z"
   },
   {
    "duration": 367,
    "start_time": "2022-05-20T07:46:47.139Z"
   },
   {
    "duration": 65,
    "start_time": "2022-05-20T07:46:47.508Z"
   },
   {
    "duration": 29,
    "start_time": "2022-05-20T07:46:47.575Z"
   },
   {
    "duration": 8,
    "start_time": "2022-05-20T07:46:47.606Z"
   },
   {
    "duration": 15,
    "start_time": "2022-05-20T07:46:47.616Z"
   },
   {
    "duration": 8,
    "start_time": "2022-05-20T07:46:47.632Z"
   },
   {
    "duration": 16,
    "start_time": "2022-05-20T07:46:47.642Z"
   },
   {
    "duration": 152,
    "start_time": "2022-05-20T07:46:47.660Z"
   },
   {
    "duration": 8,
    "start_time": "2022-05-20T07:46:47.814Z"
   },
   {
    "duration": 7,
    "start_time": "2022-05-20T07:46:47.824Z"
   },
   {
    "duration": 9,
    "start_time": "2022-05-20T07:46:47.832Z"
   },
   {
    "duration": 5,
    "start_time": "2022-05-20T07:46:47.843Z"
   },
   {
    "duration": 7,
    "start_time": "2022-05-20T07:46:47.851Z"
   },
   {
    "duration": 6,
    "start_time": "2022-05-20T07:46:47.860Z"
   },
   {
    "duration": 40,
    "start_time": "2022-05-20T07:46:47.868Z"
   },
   {
    "duration": 5,
    "start_time": "2022-05-20T07:46:47.910Z"
   },
   {
    "duration": 34,
    "start_time": "2022-05-20T07:46:47.916Z"
   },
   {
    "duration": 4,
    "start_time": "2022-05-20T07:46:47.952Z"
   },
   {
    "duration": 51,
    "start_time": "2022-05-20T07:46:47.957Z"
   },
   {
    "duration": 5,
    "start_time": "2022-05-20T07:46:48.009Z"
   },
   {
    "duration": 32,
    "start_time": "2022-05-20T07:46:48.016Z"
   },
   {
    "duration": 4,
    "start_time": "2022-05-20T07:46:48.049Z"
   },
   {
    "duration": 6,
    "start_time": "2022-05-20T07:46:48.055Z"
   },
   {
    "duration": 40,
    "start_time": "2022-05-20T07:46:48.062Z"
   },
   {
    "duration": 99,
    "start_time": "2022-05-20T07:46:48.104Z"
   },
   {
    "duration": 14,
    "start_time": "2022-05-20T07:46:48.204Z"
   },
   {
    "duration": 84,
    "start_time": "2022-05-20T07:46:48.220Z"
   },
   {
    "duration": 107,
    "start_time": "2022-05-20T07:46:48.309Z"
   },
   {
    "duration": 86,
    "start_time": "2022-05-20T07:46:48.419Z"
   },
   {
    "duration": 104,
    "start_time": "2022-05-20T07:46:48.507Z"
   },
   {
    "duration": 9,
    "start_time": "2022-05-20T07:46:48.613Z"
   },
   {
    "duration": 3,
    "start_time": "2022-05-20T07:58:24.539Z"
   },
   {
    "duration": 939,
    "start_time": "2022-05-22T11:56:00.999Z"
   },
   {
    "duration": 763,
    "start_time": "2022-05-22T11:56:01.940Z"
   },
   {
    "duration": 68,
    "start_time": "2022-05-22T11:56:02.707Z"
   },
   {
    "duration": 16,
    "start_time": "2022-05-22T11:56:02.778Z"
   },
   {
    "duration": 9,
    "start_time": "2022-05-22T11:56:02.796Z"
   },
   {
    "duration": 16,
    "start_time": "2022-05-22T11:56:02.807Z"
   },
   {
    "duration": 41,
    "start_time": "2022-05-22T11:56:02.824Z"
   },
   {
    "duration": 20,
    "start_time": "2022-05-22T11:56:02.867Z"
   },
   {
    "duration": 145,
    "start_time": "2022-05-22T11:56:02.889Z"
   },
   {
    "duration": 9,
    "start_time": "2022-05-22T11:56:03.036Z"
   },
   {
    "duration": 11,
    "start_time": "2022-05-22T11:56:03.064Z"
   },
   {
    "duration": 15,
    "start_time": "2022-05-22T11:56:03.077Z"
   },
   {
    "duration": 9,
    "start_time": "2022-05-22T11:56:03.095Z"
   },
   {
    "duration": 11,
    "start_time": "2022-05-22T11:56:03.106Z"
   },
   {
    "duration": 15,
    "start_time": "2022-05-22T11:56:03.119Z"
   },
   {
    "duration": 14,
    "start_time": "2022-05-22T11:56:03.136Z"
   },
   {
    "duration": 15,
    "start_time": "2022-05-22T11:56:03.152Z"
   },
   {
    "duration": 37,
    "start_time": "2022-05-22T11:56:03.169Z"
   },
   {
    "duration": 5,
    "start_time": "2022-05-22T11:56:03.208Z"
   },
   {
    "duration": 34,
    "start_time": "2022-05-22T11:56:03.215Z"
   },
   {
    "duration": 16,
    "start_time": "2022-05-22T11:56:03.251Z"
   },
   {
    "duration": 32,
    "start_time": "2022-05-22T11:56:03.269Z"
   },
   {
    "duration": 5,
    "start_time": "2022-05-22T11:56:03.303Z"
   },
   {
    "duration": 5,
    "start_time": "2022-05-22T11:56:03.310Z"
   },
   {
    "duration": 56,
    "start_time": "2022-05-22T11:56:03.317Z"
   },
   {
    "duration": 90,
    "start_time": "2022-05-22T11:56:03.375Z"
   },
   {
    "duration": 19,
    "start_time": "2022-05-22T11:56:03.467Z"
   },
   {
    "duration": 176,
    "start_time": "2022-05-22T11:56:03.488Z"
   },
   {
    "duration": 20,
    "start_time": "2022-05-22T11:56:03.666Z"
   },
   {
    "duration": 84,
    "start_time": "2022-05-22T11:56:03.689Z"
   },
   {
    "duration": 91,
    "start_time": "2022-05-22T11:56:03.775Z"
   },
   {
    "duration": 8,
    "start_time": "2022-05-22T11:56:03.868Z"
   },
   {
    "duration": 8,
    "start_time": "2022-05-22T11:56:03.877Z"
   },
   {
    "duration": 120,
    "start_time": "2022-05-22T11:56:03.887Z"
   },
   {
    "duration": 0,
    "start_time": "2022-05-22T11:56:04.008Z"
   },
   {
    "duration": 13,
    "start_time": "2022-05-22T11:56:58.553Z"
   },
   {
    "duration": 3,
    "start_time": "2022-05-22T11:57:50.064Z"
   },
   {
    "duration": 13,
    "start_time": "2022-05-22T11:57:50.386Z"
   },
   {
    "duration": 3,
    "start_time": "2022-05-22T11:59:36.291Z"
   },
   {
    "duration": 16,
    "start_time": "2022-05-22T11:59:36.827Z"
   },
   {
    "duration": 4,
    "start_time": "2022-05-22T11:59:51.771Z"
   },
   {
    "duration": 16,
    "start_time": "2022-05-22T11:59:52.094Z"
   },
   {
    "duration": 3,
    "start_time": "2022-05-22T11:59:55.611Z"
   },
   {
    "duration": 17,
    "start_time": "2022-05-22T11:59:56.114Z"
   },
   {
    "duration": 3,
    "start_time": "2022-05-22T12:04:21.679Z"
   },
   {
    "duration": 16,
    "start_time": "2022-05-22T12:04:22.523Z"
   },
   {
    "duration": 3,
    "start_time": "2022-05-22T12:04:42.169Z"
   },
   {
    "duration": 3,
    "start_time": "2022-05-22T12:05:04.490Z"
   },
   {
    "duration": 17,
    "start_time": "2022-05-22T12:05:04.956Z"
   },
   {
    "duration": 3,
    "start_time": "2022-05-22T12:10:28.282Z"
   },
   {
    "duration": 15,
    "start_time": "2022-05-22T12:10:28.610Z"
   },
   {
    "duration": 4,
    "start_time": "2022-05-22T12:11:18.096Z"
   },
   {
    "duration": 896,
    "start_time": "2022-05-22T12:11:23.430Z"
   },
   {
    "duration": 370,
    "start_time": "2022-05-22T12:11:24.328Z"
   },
   {
    "duration": 76,
    "start_time": "2022-05-22T12:11:24.699Z"
   },
   {
    "duration": 15,
    "start_time": "2022-05-22T12:11:24.777Z"
   },
   {
    "duration": 10,
    "start_time": "2022-05-22T12:11:24.794Z"
   },
   {
    "duration": 16,
    "start_time": "2022-05-22T12:11:24.806Z"
   },
   {
    "duration": 9,
    "start_time": "2022-05-22T12:11:24.823Z"
   },
   {
    "duration": 42,
    "start_time": "2022-05-22T12:11:24.834Z"
   },
   {
    "duration": 145,
    "start_time": "2022-05-22T12:11:24.878Z"
   },
   {
    "duration": 7,
    "start_time": "2022-05-22T12:11:25.024Z"
   },
   {
    "duration": 9,
    "start_time": "2022-05-22T12:11:25.033Z"
   },
   {
    "duration": 22,
    "start_time": "2022-05-22T12:11:25.044Z"
   },
   {
    "duration": 18,
    "start_time": "2022-05-22T12:11:25.068Z"
   },
   {
    "duration": 12,
    "start_time": "2022-05-22T12:11:25.089Z"
   },
   {
    "duration": 11,
    "start_time": "2022-05-22T12:11:25.102Z"
   },
   {
    "duration": 16,
    "start_time": "2022-05-22T12:11:25.115Z"
   },
   {
    "duration": 9,
    "start_time": "2022-05-22T12:11:25.133Z"
   },
   {
    "duration": 46,
    "start_time": "2022-05-22T12:11:25.143Z"
   },
   {
    "duration": 4,
    "start_time": "2022-05-22T12:11:25.191Z"
   },
   {
    "duration": 33,
    "start_time": "2022-05-22T12:11:25.197Z"
   },
   {
    "duration": 5,
    "start_time": "2022-05-22T12:11:25.232Z"
   },
   {
    "duration": 52,
    "start_time": "2022-05-22T12:11:25.239Z"
   },
   {
    "duration": 6,
    "start_time": "2022-05-22T12:11:25.293Z"
   },
   {
    "duration": 5,
    "start_time": "2022-05-22T12:11:25.301Z"
   },
   {
    "duration": 59,
    "start_time": "2022-05-22T12:11:25.308Z"
   },
   {
    "duration": 96,
    "start_time": "2022-05-22T12:11:25.368Z"
   },
   {
    "duration": 14,
    "start_time": "2022-05-22T12:11:25.466Z"
   },
   {
    "duration": 185,
    "start_time": "2022-05-22T12:11:25.482Z"
   },
   {
    "duration": 22,
    "start_time": "2022-05-22T12:11:25.669Z"
   },
   {
    "duration": 74,
    "start_time": "2022-05-22T12:11:25.694Z"
   },
   {
    "duration": 97,
    "start_time": "2022-05-22T12:11:25.771Z"
   },
   {
    "duration": 5,
    "start_time": "2022-05-22T12:11:25.870Z"
   },
   {
    "duration": 5,
    "start_time": "2022-05-22T12:11:25.876Z"
   },
   {
    "duration": 113,
    "start_time": "2022-05-22T12:11:25.882Z"
   },
   {
    "duration": 0,
    "start_time": "2022-05-22T12:11:25.997Z"
   },
   {
    "duration": 4,
    "start_time": "2022-05-22T12:11:31.468Z"
   },
   {
    "duration": 14,
    "start_time": "2022-05-22T12:11:31.769Z"
   },
   {
    "duration": 4,
    "start_time": "2022-05-22T12:11:32.522Z"
   },
   {
    "duration": 3,
    "start_time": "2022-05-22T12:13:11.255Z"
   },
   {
    "duration": 13,
    "start_time": "2022-05-22T12:13:11.526Z"
   },
   {
    "duration": 4,
    "start_time": "2022-05-22T12:13:11.865Z"
   },
   {
    "duration": 4,
    "start_time": "2022-05-22T12:17:50.573Z"
   },
   {
    "duration": 10,
    "start_time": "2022-05-22T12:20:35.973Z"
   },
   {
    "duration": 4,
    "start_time": "2022-05-22T12:20:38.077Z"
   },
   {
    "duration": 18,
    "start_time": "2022-05-22T12:20:38.367Z"
   },
   {
    "duration": 4,
    "start_time": "2022-05-22T12:20:39.310Z"
   },
   {
    "duration": 4,
    "start_time": "2022-05-22T12:21:04.209Z"
   },
   {
    "duration": 17,
    "start_time": "2022-05-22T12:21:04.406Z"
   },
   {
    "duration": 5,
    "start_time": "2022-05-22T12:21:04.607Z"
   },
   {
    "duration": 6,
    "start_time": "2022-05-22T12:27:36.857Z"
   },
   {
    "duration": 11,
    "start_time": "2022-05-22T12:28:00.400Z"
   },
   {
    "duration": 9,
    "start_time": "2022-05-22T12:28:09.578Z"
   },
   {
    "duration": 15,
    "start_time": "2022-05-22T12:28:21.562Z"
   },
   {
    "duration": 6,
    "start_time": "2022-05-22T12:28:32.359Z"
   },
   {
    "duration": 30,
    "start_time": "2022-05-22T12:28:32.902Z"
   },
   {
    "duration": 17,
    "start_time": "2022-05-22T12:29:04.294Z"
   },
   {
    "duration": 3,
    "start_time": "2022-05-22T12:29:04.557Z"
   },
   {
    "duration": 6,
    "start_time": "2022-05-22T12:36:03.213Z"
   },
   {
    "duration": 25,
    "start_time": "2022-05-22T12:36:05.761Z"
   },
   {
    "duration": 5,
    "start_time": "2022-05-22T12:38:04.858Z"
   },
   {
    "duration": 25,
    "start_time": "2022-05-22T12:38:05.550Z"
   },
   {
    "duration": 3,
    "start_time": "2022-05-22T12:39:06.325Z"
   },
   {
    "duration": 23,
    "start_time": "2022-05-22T12:39:06.685Z"
   },
   {
    "duration": 27,
    "start_time": "2022-05-22T12:39:16.890Z"
   },
   {
    "duration": 18,
    "start_time": "2022-05-22T12:39:33.782Z"
   },
   {
    "duration": 4,
    "start_time": "2022-05-22T12:39:34.078Z"
   },
   {
    "duration": 4,
    "start_time": "2022-05-22T12:39:46.488Z"
   },
   {
    "duration": 24,
    "start_time": "2022-05-22T12:39:46.888Z"
   },
   {
    "duration": 10,
    "start_time": "2022-05-22T12:50:24.170Z"
   },
   {
    "duration": 24,
    "start_time": "2022-05-22T12:50:24.801Z"
   },
   {
    "duration": 6,
    "start_time": "2022-05-22T12:55:23.331Z"
   },
   {
    "duration": 24,
    "start_time": "2022-05-22T12:55:23.965Z"
   },
   {
    "duration": 5,
    "start_time": "2022-05-22T12:55:33.153Z"
   },
   {
    "duration": 23,
    "start_time": "2022-05-22T12:55:33.392Z"
   },
   {
    "duration": 6,
    "start_time": "2022-05-22T12:57:07.169Z"
   },
   {
    "duration": 24,
    "start_time": "2022-05-22T12:57:07.458Z"
   },
   {
    "duration": 7,
    "start_time": "2022-05-22T12:57:25.066Z"
   },
   {
    "duration": 27,
    "start_time": "2022-05-22T12:57:25.420Z"
   },
   {
    "duration": 5,
    "start_time": "2022-05-22T13:06:16.997Z"
   },
   {
    "duration": 30,
    "start_time": "2022-05-22T13:06:17.257Z"
   },
   {
    "duration": 6,
    "start_time": "2022-05-22T13:07:55.172Z"
   },
   {
    "duration": 6,
    "start_time": "2022-05-22T13:07:58.351Z"
   },
   {
    "duration": 25,
    "start_time": "2022-05-22T13:07:58.510Z"
   },
   {
    "duration": 3,
    "start_time": "2022-05-22T13:08:03.382Z"
   },
   {
    "duration": 6,
    "start_time": "2022-05-22T13:08:44.156Z"
   },
   {
    "duration": 24,
    "start_time": "2022-05-22T13:08:44.486Z"
   },
   {
    "duration": 5,
    "start_time": "2022-05-22T13:12:48.691Z"
   },
   {
    "duration": 32,
    "start_time": "2022-05-22T13:12:49.018Z"
   },
   {
    "duration": 5,
    "start_time": "2022-05-22T13:12:49.450Z"
   },
   {
    "duration": 11,
    "start_time": "2022-05-22T13:15:37.474Z"
   },
   {
    "duration": 1028,
    "start_time": "2022-05-22T13:15:44.491Z"
   },
   {
    "duration": 553,
    "start_time": "2022-05-22T13:15:45.521Z"
   },
   {
    "duration": 114,
    "start_time": "2022-05-22T13:15:46.076Z"
   },
   {
    "duration": 23,
    "start_time": "2022-05-22T13:15:46.200Z"
   },
   {
    "duration": 11,
    "start_time": "2022-05-22T13:15:46.227Z"
   },
   {
    "duration": 32,
    "start_time": "2022-05-22T13:15:46.241Z"
   },
   {
    "duration": 55,
    "start_time": "2022-05-22T13:15:46.278Z"
   },
   {
    "duration": 24,
    "start_time": "2022-05-22T13:15:46.335Z"
   },
   {
    "duration": 231,
    "start_time": "2022-05-22T13:15:46.362Z"
   },
   {
    "duration": 10,
    "start_time": "2022-05-22T13:15:46.599Z"
   },
   {
    "duration": 33,
    "start_time": "2022-05-22T13:15:46.612Z"
   },
   {
    "duration": 16,
    "start_time": "2022-05-22T13:15:46.647Z"
   },
   {
    "duration": 29,
    "start_time": "2022-05-22T13:15:46.670Z"
   },
   {
    "duration": 10,
    "start_time": "2022-05-22T13:15:46.705Z"
   },
   {
    "duration": 9,
    "start_time": "2022-05-22T13:15:46.717Z"
   },
   {
    "duration": 15,
    "start_time": "2022-05-22T13:15:46.729Z"
   },
   {
    "duration": 7,
    "start_time": "2022-05-22T13:15:46.746Z"
   },
   {
    "duration": 56,
    "start_time": "2022-05-22T13:15:46.755Z"
   },
   {
    "duration": 6,
    "start_time": "2022-05-22T13:15:46.813Z"
   },
   {
    "duration": 32,
    "start_time": "2022-05-22T13:15:46.821Z"
   },
   {
    "duration": 10,
    "start_time": "2022-05-22T13:15:46.855Z"
   },
   {
    "duration": 55,
    "start_time": "2022-05-22T13:15:46.869Z"
   },
   {
    "duration": 6,
    "start_time": "2022-05-22T13:15:46.926Z"
   },
   {
    "duration": 9,
    "start_time": "2022-05-22T13:15:46.934Z"
   },
   {
    "duration": 120,
    "start_time": "2022-05-22T13:15:46.945Z"
   },
   {
    "duration": 4,
    "start_time": "2022-05-22T13:15:47.067Z"
   },
   {
    "duration": 112,
    "start_time": "2022-05-22T13:15:47.073Z"
   },
   {
    "duration": 118,
    "start_time": "2022-05-22T13:15:47.191Z"
   },
   {
    "duration": 58,
    "start_time": "2022-05-22T13:15:47.311Z"
   },
   {
    "duration": 95,
    "start_time": "2022-05-22T13:15:47.372Z"
   },
   {
    "duration": 41,
    "start_time": "2022-05-22T13:15:47.469Z"
   },
   {
    "duration": 9,
    "start_time": "2022-05-22T13:15:47.513Z"
   },
   {
    "duration": 8,
    "start_time": "2022-05-22T13:15:47.524Z"
   },
   {
    "duration": 9,
    "start_time": "2022-05-22T13:15:47.534Z"
   },
   {
    "duration": 139,
    "start_time": "2022-05-22T13:15:47.545Z"
   },
   {
    "duration": 0,
    "start_time": "2022-05-22T13:15:47.686Z"
   },
   {
    "duration": 0,
    "start_time": "2022-05-22T13:15:47.687Z"
   },
   {
    "duration": 0,
    "start_time": "2022-05-22T13:15:47.688Z"
   },
   {
    "duration": 1013,
    "start_time": "2022-05-22T13:16:21.222Z"
   },
   {
    "duration": 478,
    "start_time": "2022-05-22T13:16:22.238Z"
   },
   {
    "duration": 107,
    "start_time": "2022-05-22T13:16:22.719Z"
   },
   {
    "duration": 22,
    "start_time": "2022-05-22T13:16:22.829Z"
   },
   {
    "duration": 22,
    "start_time": "2022-05-22T13:16:22.855Z"
   },
   {
    "duration": 51,
    "start_time": "2022-05-22T13:16:22.879Z"
   },
   {
    "duration": 15,
    "start_time": "2022-05-22T13:16:22.932Z"
   },
   {
    "duration": 26,
    "start_time": "2022-05-22T13:16:22.949Z"
   },
   {
    "duration": 219,
    "start_time": "2022-05-22T13:16:22.976Z"
   },
   {
    "duration": 12,
    "start_time": "2022-05-22T13:16:23.197Z"
   },
   {
    "duration": 17,
    "start_time": "2022-05-22T13:16:23.212Z"
   },
   {
    "duration": 12,
    "start_time": "2022-05-22T13:16:23.231Z"
   },
   {
    "duration": 14,
    "start_time": "2022-05-22T13:16:23.245Z"
   },
   {
    "duration": 46,
    "start_time": "2022-05-22T13:16:23.270Z"
   },
   {
    "duration": 10,
    "start_time": "2022-05-22T13:16:23.318Z"
   },
   {
    "duration": 12,
    "start_time": "2022-05-22T13:16:23.330Z"
   },
   {
    "duration": 9,
    "start_time": "2022-05-22T13:16:23.344Z"
   },
   {
    "duration": 50,
    "start_time": "2022-05-22T13:16:23.356Z"
   },
   {
    "duration": 17,
    "start_time": "2022-05-22T13:16:23.408Z"
   },
   {
    "duration": 50,
    "start_time": "2022-05-22T13:16:23.427Z"
   },
   {
    "duration": 7,
    "start_time": "2022-05-22T13:16:23.479Z"
   },
   {
    "duration": 57,
    "start_time": "2022-05-22T13:16:23.488Z"
   },
   {
    "duration": 5,
    "start_time": "2022-05-22T13:16:23.547Z"
   },
   {
    "duration": 6,
    "start_time": "2022-05-22T13:16:23.555Z"
   },
   {
    "duration": 135,
    "start_time": "2022-05-22T13:16:23.563Z"
   },
   {
    "duration": 62,
    "start_time": "2022-05-22T13:16:23.711Z"
   },
   {
    "duration": 38,
    "start_time": "2022-05-22T13:16:23.797Z"
   },
   {
    "duration": 103,
    "start_time": "2022-05-22T13:16:23.866Z"
   },
   {
    "duration": 48,
    "start_time": "2022-05-22T13:16:23.971Z"
   },
   {
    "duration": 5,
    "start_time": "2022-05-22T13:16:24.021Z"
   },
   {
    "duration": 172,
    "start_time": "2022-05-22T13:16:24.028Z"
   },
   {
    "duration": 8,
    "start_time": "2022-05-22T13:16:24.203Z"
   },
   {
    "duration": 18,
    "start_time": "2022-05-22T13:16:24.213Z"
   },
   {
    "duration": 8,
    "start_time": "2022-05-22T13:16:24.234Z"
   },
   {
    "duration": 193,
    "start_time": "2022-05-22T13:16:24.244Z"
   },
   {
    "duration": 0,
    "start_time": "2022-05-22T13:16:24.439Z"
   },
   {
    "duration": 0,
    "start_time": "2022-05-22T13:16:24.440Z"
   },
   {
    "duration": 0,
    "start_time": "2022-05-22T13:16:24.441Z"
   },
   {
    "duration": 4,
    "start_time": "2022-05-22T13:17:50.058Z"
   },
   {
    "duration": 30,
    "start_time": "2022-05-22T13:17:50.263Z"
   },
   {
    "duration": 5,
    "start_time": "2022-05-22T13:17:51.048Z"
   },
   {
    "duration": 9,
    "start_time": "2022-05-22T13:17:56.579Z"
   },
   {
    "duration": 34,
    "start_time": "2022-05-22T13:17:56.895Z"
   },
   {
    "duration": 7,
    "start_time": "2022-05-22T13:18:09.965Z"
   },
   {
    "duration": 12,
    "start_time": "2022-05-22T13:20:54.464Z"
   },
   {
    "duration": 35,
    "start_time": "2022-05-22T13:20:54.955Z"
   },
   {
    "duration": 6,
    "start_time": "2022-05-22T13:21:02.929Z"
   },
   {
    "duration": 4,
    "start_time": "2022-05-22T13:21:09.897Z"
   },
   {
    "duration": 7,
    "start_time": "2022-05-22T13:21:11.759Z"
   },
   {
    "duration": 1767,
    "start_time": "2022-05-22T13:21:12.268Z"
   },
   {
    "duration": 4,
    "start_time": "2022-05-22T13:21:24.143Z"
   },
   {
    "duration": 7,
    "start_time": "2022-05-22T13:21:24.952Z"
   },
   {
    "duration": 1793,
    "start_time": "2022-05-22T13:21:25.709Z"
   },
   {
    "duration": 9,
    "start_time": "2022-05-22T13:22:09.057Z"
   },
   {
    "duration": 2861,
    "start_time": "2022-05-22T13:22:09.345Z"
   },
   {
    "duration": 1938,
    "start_time": "2022-05-22T13:23:11.457Z"
   },
   {
    "duration": 2164,
    "start_time": "2022-05-22T13:23:32.120Z"
   },
   {
    "duration": 5,
    "start_time": "2022-05-22T13:52:28.286Z"
   },
   {
    "duration": 1791,
    "start_time": "2022-05-22T13:52:28.635Z"
   },
   {
    "duration": 1733,
    "start_time": "2022-05-22T13:52:30.429Z"
   },
   {
    "duration": 1719,
    "start_time": "2022-05-22T13:52:32.167Z"
   },
   {
    "duration": 2,
    "start_time": "2022-05-22T14:15:38.329Z"
   },
   {
    "duration": 53,
    "start_time": "2022-05-23T11:54:47.592Z"
   },
   {
    "duration": 835,
    "start_time": "2022-05-23T11:54:56.046Z"
   },
   {
    "duration": 693,
    "start_time": "2022-05-23T11:54:56.883Z"
   },
   {
    "duration": 68,
    "start_time": "2022-05-23T11:54:57.578Z"
   },
   {
    "duration": 13,
    "start_time": "2022-05-23T11:54:57.648Z"
   },
   {
    "duration": 9,
    "start_time": "2022-05-23T11:54:57.663Z"
   },
   {
    "duration": 19,
    "start_time": "2022-05-23T11:54:57.674Z"
   },
   {
    "duration": 8,
    "start_time": "2022-05-23T11:54:57.695Z"
   },
   {
    "duration": 17,
    "start_time": "2022-05-23T11:54:57.704Z"
   },
   {
    "duration": 149,
    "start_time": "2022-05-23T11:54:57.723Z"
   },
   {
    "duration": 7,
    "start_time": "2022-05-23T11:54:57.874Z"
   },
   {
    "duration": 10,
    "start_time": "2022-05-23T11:54:57.882Z"
   },
   {
    "duration": 8,
    "start_time": "2022-05-23T11:54:57.894Z"
   },
   {
    "duration": 13,
    "start_time": "2022-05-23T11:54:57.903Z"
   },
   {
    "duration": 11,
    "start_time": "2022-05-23T11:54:57.920Z"
   },
   {
    "duration": 13,
    "start_time": "2022-05-23T11:54:57.933Z"
   },
   {
    "duration": 8,
    "start_time": "2022-05-23T11:54:57.958Z"
   },
   {
    "duration": 36,
    "start_time": "2022-05-23T11:54:57.968Z"
   },
   {
    "duration": 4,
    "start_time": "2022-05-23T11:54:58.006Z"
   },
   {
    "duration": 27,
    "start_time": "2022-05-23T11:54:58.012Z"
   },
   {
    "duration": 5,
    "start_time": "2022-05-23T11:54:58.059Z"
   },
   {
    "duration": 29,
    "start_time": "2022-05-23T11:54:58.065Z"
   },
   {
    "duration": 5,
    "start_time": "2022-05-23T11:54:58.095Z"
   },
   {
    "duration": 28,
    "start_time": "2022-05-23T11:54:58.102Z"
   },
   {
    "duration": 5,
    "start_time": "2022-05-23T11:54:58.132Z"
   },
   {
    "duration": 24,
    "start_time": "2022-05-23T11:54:58.138Z"
   },
   {
    "duration": 21,
    "start_time": "2022-05-23T11:54:58.163Z"
   },
   {
    "duration": 72,
    "start_time": "2022-05-23T11:54:58.186Z"
   },
   {
    "duration": 106,
    "start_time": "2022-05-23T11:54:58.261Z"
   },
   {
    "duration": 4,
    "start_time": "2022-05-23T11:54:58.369Z"
   },
   {
    "duration": 192,
    "start_time": "2022-05-23T11:54:58.375Z"
   },
   {
    "duration": 191,
    "start_time": "2022-05-23T11:54:58.570Z"
   },
   {
    "duration": 6,
    "start_time": "2022-05-23T11:54:58.762Z"
   },
   {
    "duration": 6,
    "start_time": "2022-05-23T11:54:58.770Z"
   },
   {
    "duration": 10,
    "start_time": "2022-05-23T11:54:58.777Z"
   },
   {
    "duration": 5,
    "start_time": "2022-05-23T11:54:58.788Z"
   },
   {
    "duration": 6,
    "start_time": "2022-05-23T11:54:58.795Z"
   },
   {
    "duration": 1389,
    "start_time": "2022-05-23T11:54:58.802Z"
   },
   {
    "duration": 1488,
    "start_time": "2022-05-23T11:55:00.192Z"
   },
   {
    "duration": 1530,
    "start_time": "2022-05-23T11:55:01.682Z"
   }
  ],
  "kernelspec": {
   "display_name": "Python 3 (ipykernel)",
   "language": "python",
   "name": "python3"
  },
  "language_info": {
   "codemirror_mode": {
    "name": "ipython",
    "version": 3
   },
   "file_extension": ".py",
   "mimetype": "text/x-python",
   "name": "python",
   "nbconvert_exporter": "python",
   "pygments_lexer": "ipython3",
   "version": "3.9.5"
  },
  "toc": {
   "base_numbering": 1,
   "nav_menu": {},
   "number_sections": true,
   "sideBar": true,
   "skip_h1_title": true,
   "title_cell": "Table of Contents",
   "title_sidebar": "Contents",
   "toc_cell": false,
   "toc_position": {},
   "toc_section_display": true,
   "toc_window_display": false
  }
 },
 "nbformat": 4,
 "nbformat_minor": 2
}
