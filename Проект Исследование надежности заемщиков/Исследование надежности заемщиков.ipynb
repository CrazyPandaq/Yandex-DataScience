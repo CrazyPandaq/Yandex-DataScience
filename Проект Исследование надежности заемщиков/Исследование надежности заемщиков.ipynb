{
 "cells": [
  {
   "cell_type": "markdown",
   "id": "90a80b5a",
   "metadata": {},
   "source": [
    "# Исследование надежности заемщиков."
   ]
  },
  {
   "cell_type": "markdown",
   "id": "31ff125d",
   "metadata": {},
   "source": [
    "### Введение\n",
    "Заказчиком данного проекта являтеся кредитный отдел банка. Необходимо понять, влияет ли семейное положение, количество детей клиента, уровень дохода и цель кредита на факт погашения кредита в срок.\n",
    "Полученный результаты исследования будут учтены при построении модели кредитного скоринга — специальной системы, которая оценивает способность потенциального заёмщика вернуть кредит банку.\n",
    "Расшифровка столбцов представлена ниже:\n",
    "* children — количество детей в семье\n",
    "* days_employed — общий трудовой стаж в днях\n",
    "* dob_years — возраст клиента в годах\n",
    "* education — уровень образования клиента\n",
    "* education_id — идентификатор уровня образования\n",
    "* family_status — семейное положение\n",
    "* family_status_id — идентификатор семейного положения\n",
    "* gender — пол клиента\n",
    "* income_type — тип занятости\n",
    "* debt — имел ли задолженность по возврату кредитов\n",
    "* total_income — ежемесячный доход\n",
    "* purpose — цель получения кредита"
   ]
  },
  {
   "cell_type": "markdown",
   "id": "06b1c238",
   "metadata": {},
   "source": [
    "### Шаг 1. Обзор данных"
   ]
  },
  {
   "cell_type": "code",
   "execution_count": 1,
   "id": "5862b122",
   "metadata": {},
   "outputs": [],
   "source": [
    "import pandas as pd\n",
    "import warnings\n",
    "warnings.filterwarnings('ignore')"
   ]
  },
  {
   "cell_type": "code",
   "execution_count": 2,
   "id": "af216c8d",
   "metadata": {},
   "outputs": [],
   "source": [
    "df = pd.read_csv(\"/datasets/data.csv\")"
   ]
  },
  {
   "cell_type": "code",
   "execution_count": 3,
   "id": "6e113fdb",
   "metadata": {},
   "outputs": [
    {
     "name": "stdout",
     "output_type": "stream",
     "text": [
      "<class 'pandas.core.frame.DataFrame'>\n",
      "RangeIndex: 21525 entries, 0 to 21524\n",
      "Data columns (total 12 columns):\n",
      "children            21525 non-null int64\n",
      "days_employed       19351 non-null float64\n",
      "dob_years           21525 non-null int64\n",
      "education           21525 non-null object\n",
      "education_id        21525 non-null int64\n",
      "family_status       21525 non-null object\n",
      "family_status_id    21525 non-null int64\n",
      "gender              21525 non-null object\n",
      "income_type         21525 non-null object\n",
      "debt                21525 non-null int64\n",
      "total_income        19351 non-null float64\n",
      "purpose             21525 non-null object\n",
      "dtypes: float64(2), int64(5), object(5)\n",
      "memory usage: 2.0+ MB\n"
     ]
    }
   ],
   "source": [
    "df.info()"
   ]
  },
  {
   "cell_type": "markdown",
   "id": "17bb4170",
   "metadata": {},
   "source": [
    "#### Вывод по данным:\n",
    "\n",
    "В 2х столбцах пропущены данные, а именно:\n",
    "* `days_emploed` — общий трудовой стаж в днях;\n",
    "* `total_income` — ежемесячный доход;  \n",
    "Пропущенные данные можно заменить медианой, а не среднем значением. Так как в столбцах могут присутствовать выбросы и при расчете среднего арифмитического может привести к искожению данных. В то время как медиана возьмет ровно среднее значение. "
   ]
  },
  {
   "cell_type": "markdown",
   "id": "da9a9993",
   "metadata": {},
   "source": [
    "### Шаг 2.1 Заполнение пропусков"
   ]
  },
  {
   "cell_type": "code",
   "execution_count": 4,
   "id": "54ce3598",
   "metadata": {},
   "outputs": [
    {
     "data": {
      "text/plain": [
       "children               0\n",
       "days_employed       2174\n",
       "dob_years              0\n",
       "education              0\n",
       "education_id           0\n",
       "family_status          0\n",
       "family_status_id       0\n",
       "gender                 0\n",
       "income_type            0\n",
       "debt                   0\n",
       "total_income        2174\n",
       "purpose                0\n",
       "dtype: int64"
      ]
     },
     "execution_count": 4,
     "metadata": {},
     "output_type": "execute_result"
    }
   ],
   "source": [
    "df.isna().sum()"
   ]
  },
  {
   "cell_type": "markdown",
   "id": "13cb7388",
   "metadata": {},
   "source": [
    "#### Артефакты (аномалии):\n",
    "В столбце `days_emploed` — общий трудовой стаж в днях наблюдаются отрицательные значения. А также пиковые значения, которые ,скорей всего, в количесвте часов. Отрицательные значения могли быть вызваны неправильной формулой расчета. А пиковые значения занесены/выгружены не в формате \"дней\". Поэтому для заполнения значений в столбце `days_emploed` необходимо сначала убрать минус и перевести значения из часов в дни."
   ]
  },
  {
   "cell_type": "code",
   "execution_count": 5,
   "id": "d27d7bfe",
   "metadata": {},
   "outputs": [],
   "source": [
    "df[\"days_employed\"] = df[\"days_employed\"].abs()"
   ]
  },
  {
   "cell_type": "code",
   "execution_count": 6,
   "id": "ac98b936",
   "metadata": {},
   "outputs": [
    {
     "data": {
      "text/plain": [
       "3445"
      ]
     },
     "execution_count": 6,
     "metadata": {},
     "output_type": "execute_result"
    }
   ],
   "source": [
    "df[df['days_employed'] > 20000][\"children\"].count()"
   ]
  },
  {
   "cell_type": "code",
   "execution_count": 7,
   "id": "b7e21632",
   "metadata": {},
   "outputs": [],
   "source": [
    "# цикл для перевода значений в столбце `days_employed`, который в часах, в дни\n",
    "for i in range(len(df[\"days_employed\"])):\n",
    "    try:\n",
    "        if df[\"days_employed\"][i] > 20000:\n",
    "            df[\"days_employed\"][i] = df[\"days_employed\"][i] / 24\n",
    "    except:\n",
    "        continue"
   ]
  },
  {
   "cell_type": "code",
   "execution_count": 8,
   "id": "bac43f37",
   "metadata": {},
   "outputs": [
    {
     "data": {
      "text/plain": [
       "0"
      ]
     },
     "execution_count": 8,
     "metadata": {},
     "output_type": "execute_result"
    }
   ],
   "source": [
    "df[df['days_employed'] > 20000][\"children\"].count()"
   ]
  },
  {
   "cell_type": "code",
   "execution_count": 9,
   "id": "3f6e4c45",
   "metadata": {},
   "outputs": [],
   "source": [
    "#Код ревьюера\n",
    "#df[df['days_employed'] > 20000][любой_столбец_без_пропусков].count()"
   ]
  },
  {
   "cell_type": "code",
   "execution_count": 10,
   "id": "2e7b152d",
   "metadata": {},
   "outputs": [
    {
     "data": {
      "text/plain": [
       "2194.220566878695"
      ]
     },
     "execution_count": 10,
     "metadata": {},
     "output_type": "execute_result"
    }
   ],
   "source": [
    "days_employed_median = df[\"days_employed\"].median()\n",
    "days_employed_median"
   ]
  },
  {
   "cell_type": "code",
   "execution_count": 11,
   "id": "dc2b997c",
   "metadata": {},
   "outputs": [],
   "source": [
    "df[\"days_employed\"] = df[\"days_employed\"].fillna(days_employed_median)"
   ]
  },
  {
   "cell_type": "code",
   "execution_count": 12,
   "id": "2a44caca",
   "metadata": {},
   "outputs": [
    {
     "data": {
      "text/plain": [
       "145017.93753253992"
      ]
     },
     "execution_count": 12,
     "metadata": {},
     "output_type": "execute_result"
    }
   ],
   "source": [
    "total_income_median = df['total_income'].median()\n",
    "total_income_median"
   ]
  },
  {
   "cell_type": "code",
   "execution_count": 13,
   "id": "440e4473",
   "metadata": {},
   "outputs": [],
   "source": [
    "df[\"total_income\"] = df[\"total_income\"].fillna(total_income_median)"
   ]
  },
  {
   "cell_type": "code",
   "execution_count": 14,
   "id": "8c9a1222",
   "metadata": {},
   "outputs": [
    {
     "data": {
      "text/plain": [
       "children            0\n",
       "days_employed       0\n",
       "dob_years           0\n",
       "education           0\n",
       "education_id        0\n",
       "family_status       0\n",
       "family_status_id    0\n",
       "gender              0\n",
       "income_type         0\n",
       "debt                0\n",
       "total_income        0\n",
       "purpose             0\n",
       "dtype: int64"
      ]
     },
     "execution_count": 14,
     "metadata": {},
     "output_type": "execute_result"
    }
   ],
   "source": [
    "df.isna().sum()"
   ]
  },
  {
   "cell_type": "code",
   "execution_count": 15,
   "id": "9c912fba",
   "metadata": {},
   "outputs": [
    {
     "data": {
      "text/html": [
       "<div>\n",
       "<style scoped>\n",
       "    .dataframe tbody tr th:only-of-type {\n",
       "        vertical-align: middle;\n",
       "    }\n",
       "\n",
       "    .dataframe tbody tr th {\n",
       "        vertical-align: top;\n",
       "    }\n",
       "\n",
       "    .dataframe thead th {\n",
       "        text-align: right;\n",
       "    }\n",
       "</style>\n",
       "<table border=\"1\" class=\"dataframe\">\n",
       "  <thead>\n",
       "    <tr style=\"text-align: right;\">\n",
       "      <th></th>\n",
       "      <th>children</th>\n",
       "      <th>days_employed</th>\n",
       "      <th>dob_years</th>\n",
       "      <th>education</th>\n",
       "      <th>education_id</th>\n",
       "      <th>family_status</th>\n",
       "      <th>family_status_id</th>\n",
       "      <th>gender</th>\n",
       "      <th>income_type</th>\n",
       "      <th>debt</th>\n",
       "      <th>total_income</th>\n",
       "      <th>purpose</th>\n",
       "    </tr>\n",
       "  </thead>\n",
       "  <tbody>\n",
       "    <tr>\n",
       "      <td>0</td>\n",
       "      <td>1</td>\n",
       "      <td>8437.673028</td>\n",
       "      <td>42</td>\n",
       "      <td>высшее</td>\n",
       "      <td>0</td>\n",
       "      <td>женат / замужем</td>\n",
       "      <td>0</td>\n",
       "      <td>F</td>\n",
       "      <td>сотрудник</td>\n",
       "      <td>0</td>\n",
       "      <td>253875.639453</td>\n",
       "      <td>покупка жилья</td>\n",
       "    </tr>\n",
       "    <tr>\n",
       "      <td>1</td>\n",
       "      <td>1</td>\n",
       "      <td>4024.803754</td>\n",
       "      <td>36</td>\n",
       "      <td>среднее</td>\n",
       "      <td>1</td>\n",
       "      <td>женат / замужем</td>\n",
       "      <td>0</td>\n",
       "      <td>F</td>\n",
       "      <td>сотрудник</td>\n",
       "      <td>0</td>\n",
       "      <td>112080.014102</td>\n",
       "      <td>приобретение автомобиля</td>\n",
       "    </tr>\n",
       "    <tr>\n",
       "      <td>2</td>\n",
       "      <td>0</td>\n",
       "      <td>5623.422610</td>\n",
       "      <td>33</td>\n",
       "      <td>Среднее</td>\n",
       "      <td>1</td>\n",
       "      <td>женат / замужем</td>\n",
       "      <td>0</td>\n",
       "      <td>M</td>\n",
       "      <td>сотрудник</td>\n",
       "      <td>0</td>\n",
       "      <td>145885.952297</td>\n",
       "      <td>покупка жилья</td>\n",
       "    </tr>\n",
       "    <tr>\n",
       "      <td>3</td>\n",
       "      <td>3</td>\n",
       "      <td>4124.747207</td>\n",
       "      <td>32</td>\n",
       "      <td>среднее</td>\n",
       "      <td>1</td>\n",
       "      <td>женат / замужем</td>\n",
       "      <td>0</td>\n",
       "      <td>M</td>\n",
       "      <td>сотрудник</td>\n",
       "      <td>0</td>\n",
       "      <td>267628.550329</td>\n",
       "      <td>дополнительное образование</td>\n",
       "    </tr>\n",
       "    <tr>\n",
       "      <td>4</td>\n",
       "      <td>0</td>\n",
       "      <td>14177.753002</td>\n",
       "      <td>53</td>\n",
       "      <td>среднее</td>\n",
       "      <td>1</td>\n",
       "      <td>гражданский брак</td>\n",
       "      <td>1</td>\n",
       "      <td>F</td>\n",
       "      <td>пенсионер</td>\n",
       "      <td>0</td>\n",
       "      <td>158616.077870</td>\n",
       "      <td>сыграть свадьбу</td>\n",
       "    </tr>\n",
       "  </tbody>\n",
       "</table>\n",
       "</div>"
      ],
      "text/plain": [
       "   children  days_employed  dob_years education  education_id  \\\n",
       "0         1    8437.673028         42    высшее             0   \n",
       "1         1    4024.803754         36   среднее             1   \n",
       "2         0    5623.422610         33   Среднее             1   \n",
       "3         3    4124.747207         32   среднее             1   \n",
       "4         0   14177.753002         53   среднее             1   \n",
       "\n",
       "      family_status  family_status_id gender income_type  debt   total_income  \\\n",
       "0   женат / замужем                 0      F   сотрудник     0  253875.639453   \n",
       "1   женат / замужем                 0      F   сотрудник     0  112080.014102   \n",
       "2   женат / замужем                 0      M   сотрудник     0  145885.952297   \n",
       "3   женат / замужем                 0      M   сотрудник     0  267628.550329   \n",
       "4  гражданский брак                 1      F   пенсионер     0  158616.077870   \n",
       "\n",
       "                      purpose  \n",
       "0               покупка жилья  \n",
       "1     приобретение автомобиля  \n",
       "2               покупка жилья  \n",
       "3  дополнительное образование  \n",
       "4             сыграть свадьбу  "
      ]
     },
     "execution_count": 15,
     "metadata": {},
     "output_type": "execute_result"
    }
   ],
   "source": [
    "df.head()"
   ]
  },
  {
   "cell_type": "markdown",
   "id": "d8aea94b",
   "metadata": {},
   "source": [
    "### Шаг 2.2 Проверка данных на аномалии и исправления."
   ]
  },
  {
   "cell_type": "markdown",
   "id": "f5bc9c4b",
   "metadata": {},
   "source": [
    "#### Артефакты (аномалии):\n",
    "* В столбце `days_emploed` — общий трудовой стаж в днях наблюдаются отрицательные значения. А также пиковые значения, которые ,скорей всего, в количесвте часов.\n",
    "Отрицательные значения могли быть вызваны неправильной формулой расчета. А пиковые значения занесены/выгружены не в формате \"дней\". \n",
    "* В столбце `children` - дети: указано отрицательное значение детей (-1) в 47 случаях. Данная ошибка могла быть вызвана при заполнении в ручную. А также максимальное значение детей достигает 20 в 76 случаях. \n",
    "* В столбце `dob_years` присутствуют значения - `0` в 100 строк;"
   ]
  },
  {
   "cell_type": "code",
   "execution_count": 16,
   "id": "df24ff62",
   "metadata": {
    "scrolled": true
   },
   "outputs": [
    {
     "data": {
      "text/plain": [
       " 0     14149\n",
       " 1      4818\n",
       " 2      2055\n",
       " 3       330\n",
       " 20       76\n",
       "-1        47\n",
       " 4        41\n",
       " 5         9\n",
       "Name: children, dtype: int64"
      ]
     },
     "execution_count": 16,
     "metadata": {},
     "output_type": "execute_result"
    }
   ],
   "source": [
    "# Убрать артефакты в столбце children.\n",
    "df[\"children\"].value_counts()"
   ]
  },
  {
   "cell_type": "code",
   "execution_count": 17,
   "id": "dc6689d4",
   "metadata": {},
   "outputs": [],
   "source": [
    "df[df[\"children\"] == 20] = 2"
   ]
  },
  {
   "cell_type": "code",
   "execution_count": 18,
   "id": "dd5dedd4",
   "metadata": {},
   "outputs": [],
   "source": [
    "df[df[\"children\"] == -1] = 1"
   ]
  },
  {
   "cell_type": "code",
   "execution_count": 19,
   "id": "9a0fc828",
   "metadata": {},
   "outputs": [
    {
     "data": {
      "text/plain": [
       "0    14149\n",
       "1     4865\n",
       "2     2131\n",
       "3      330\n",
       "4       41\n",
       "5        9\n",
       "Name: children, dtype: int64"
      ]
     },
     "execution_count": 19,
     "metadata": {},
     "output_type": "execute_result"
    }
   ],
   "source": [
    "df[\"children\"].value_counts()"
   ]
  },
  {
   "cell_type": "markdown",
   "id": "ff7444f6",
   "metadata": {},
   "source": [
    "### Шаг 2.3. Изменение типов данных."
   ]
  },
  {
   "cell_type": "code",
   "execution_count": 20,
   "id": "376543e2",
   "metadata": {},
   "outputs": [],
   "source": [
    "df[\"total_income\"] = df[\"total_income\"].astype(\"int\")"
   ]
  },
  {
   "cell_type": "code",
   "execution_count": 21,
   "id": "2abc614d",
   "metadata": {},
   "outputs": [],
   "source": [
    "df[\"days_employed\"] = df[\"days_employed\"].astype(\"int\")"
   ]
  },
  {
   "cell_type": "code",
   "execution_count": 22,
   "id": "0c46965a",
   "metadata": {},
   "outputs": [
    {
     "name": "stdout",
     "output_type": "stream",
     "text": [
      "<class 'pandas.core.frame.DataFrame'>\n",
      "RangeIndex: 21525 entries, 0 to 21524\n",
      "Data columns (total 12 columns):\n",
      "children            21525 non-null int64\n",
      "days_employed       21525 non-null int64\n",
      "dob_years           21525 non-null int64\n",
      "education           21525 non-null object\n",
      "education_id        21525 non-null int64\n",
      "family_status       21525 non-null object\n",
      "family_status_id    21525 non-null int64\n",
      "gender              21525 non-null object\n",
      "income_type         21525 non-null object\n",
      "debt                21525 non-null int64\n",
      "total_income        21525 non-null int64\n",
      "purpose             21525 non-null object\n",
      "dtypes: int64(7), object(5)\n",
      "memory usage: 2.0+ MB\n"
     ]
    }
   ],
   "source": [
    "df.info()"
   ]
  },
  {
   "cell_type": "markdown",
   "id": "f0eda183",
   "metadata": {},
   "source": [
    "### Шаг 2.4. Удаление дубликатов."
   ]
  },
  {
   "cell_type": "code",
   "execution_count": 23,
   "id": "5d687311",
   "metadata": {},
   "outputs": [
    {
     "data": {
      "text/plain": [
       "среднее                13667\n",
       "высшее                  4698\n",
       "СРЕДНЕЕ                  766\n",
       "Среднее                  703\n",
       "неоконченное высшее      665\n",
       "ВЫСШЕЕ                   271\n",
       "Высшее                   268\n",
       "начальное                250\n",
       "2                         76\n",
       "Неоконченное высшее       47\n",
       "1                         47\n",
       "НЕОКОНЧЕННОЕ ВЫСШЕЕ       29\n",
       "НАЧАЛЬНОЕ                 17\n",
       "Начальное                 15\n",
       "ученая степень             4\n",
       "УЧЕНАЯ СТЕПЕНЬ             1\n",
       "Ученая степень             1\n",
       "Name: education, dtype: int64"
      ]
     },
     "execution_count": 23,
     "metadata": {},
     "output_type": "execute_result"
    }
   ],
   "source": [
    "df[\"education\"].value_counts()"
   ]
  },
  {
   "cell_type": "code",
   "execution_count": 24,
   "id": "0de9fe42",
   "metadata": {},
   "outputs": [],
   "source": [
    "# Перевод всех значений в нижний регистр\n",
    "df[\"education\"] = df[\"education\"].str.lower()"
   ]
  },
  {
   "cell_type": "code",
   "execution_count": 25,
   "id": "35513686",
   "metadata": {},
   "outputs": [
    {
     "data": {
      "text/plain": [
       "среднее                15136\n",
       "высшее                  5237\n",
       "неоконченное высшее      741\n",
       "начальное                282\n",
       "ученая степень             6\n",
       "Name: education, dtype: int64"
      ]
     },
     "execution_count": 25,
     "metadata": {},
     "output_type": "execute_result"
    }
   ],
   "source": [
    "df[\"education\"].value_counts()"
   ]
  },
  {
   "cell_type": "code",
   "execution_count": 26,
   "id": "1179ea6d",
   "metadata": {},
   "outputs": [
    {
     "data": {
      "text/plain": [
       "192"
      ]
     },
     "execution_count": 26,
     "metadata": {},
     "output_type": "execute_result"
    }
   ],
   "source": [
    "df.duplicated().sum()"
   ]
  },
  {
   "cell_type": "code",
   "execution_count": 27,
   "id": "eed59f5f",
   "metadata": {},
   "outputs": [],
   "source": [
    "df = df.drop_duplicates().reset_index(drop = True)"
   ]
  },
  {
   "cell_type": "code",
   "execution_count": 28,
   "id": "7e8dc58c",
   "metadata": {},
   "outputs": [
    {
     "data": {
      "text/plain": [
       "0"
      ]
     },
     "execution_count": 28,
     "metadata": {},
     "output_type": "execute_result"
    }
   ],
   "source": [
    "df.duplicated().sum()"
   ]
  },
  {
   "cell_type": "code",
   "execution_count": 29,
   "id": "5bb43091",
   "metadata": {},
   "outputs": [
    {
     "data": {
      "text/plain": [
       "children            0\n",
       "days_employed       0\n",
       "dob_years           0\n",
       "education           2\n",
       "education_id        0\n",
       "family_status       0\n",
       "family_status_id    0\n",
       "gender              0\n",
       "income_type         0\n",
       "debt                0\n",
       "total_income        0\n",
       "purpose             0\n",
       "dtype: int64"
      ]
     },
     "execution_count": 29,
     "metadata": {},
     "output_type": "execute_result"
    }
   ],
   "source": [
    "df.isna().sum()"
   ]
  },
  {
   "cell_type": "code",
   "execution_count": 30,
   "id": "0c452b90",
   "metadata": {},
   "outputs": [],
   "source": [
    "# Значения в education 1 и 2 перешли в пустые строки. Необходимо их удалить\n",
    "df = df.dropna(subset = [\"education\"]).reset_index(drop = True)"
   ]
  },
  {
   "cell_type": "code",
   "execution_count": 31,
   "id": "9b5f01cd",
   "metadata": {},
   "outputs": [
    {
     "data": {
      "text/plain": [
       "children            0\n",
       "days_employed       0\n",
       "dob_years           0\n",
       "education           0\n",
       "education_id        0\n",
       "family_status       0\n",
       "family_status_id    0\n",
       "gender              0\n",
       "income_type         0\n",
       "debt                0\n",
       "total_income        0\n",
       "purpose             0\n",
       "dtype: int64"
      ]
     },
     "execution_count": 31,
     "metadata": {},
     "output_type": "execute_result"
    }
   ],
   "source": [
    "df.isna().sum()"
   ]
  },
  {
   "cell_type": "code",
   "execution_count": 32,
   "id": "5f644f15",
   "metadata": {},
   "outputs": [
    {
     "data": {
      "text/plain": [
       "F      14092\n",
       "M       7238\n",
       "XNA        1\n",
       "Name: gender, dtype: int64"
      ]
     },
     "execution_count": 32,
     "metadata": {},
     "output_type": "execute_result"
    }
   ],
   "source": [
    "# проверка на значений столбца gender\n",
    "df[\"gender\"].value_counts()"
   ]
  },
  {
   "cell_type": "code",
   "execution_count": 33,
   "id": "fa70f133",
   "metadata": {},
   "outputs": [
    {
     "data": {
      "text/plain": [
       "женат / замужем          12261\n",
       "гражданский брак          4134\n",
       "Не женат / не замужем     2796\n",
       "в разводе                 1189\n",
       "вдовец / вдова             951\n",
       "Name: family_status, dtype: int64"
      ]
     },
     "execution_count": 33,
     "metadata": {},
     "output_type": "execute_result"
    }
   ],
   "source": [
    "# проверка на значений столбца family_status\n",
    "df[\"family_status\"].value_counts()"
   ]
  },
  {
   "cell_type": "code",
   "execution_count": 34,
   "id": "e8a04fbc",
   "metadata": {},
   "outputs": [
    {
     "data": {
      "text/plain": [
       "сотрудник          11015\n",
       "компаньон           5047\n",
       "пенсионер           3812\n",
       "госслужащий         1451\n",
       "предприниматель        2\n",
       "безработный            2\n",
       "в декрете              1\n",
       "студент                1\n",
       "Name: income_type, dtype: int64"
      ]
     },
     "execution_count": 34,
     "metadata": {},
     "output_type": "execute_result"
    }
   ],
   "source": [
    "# проверка на значений столбца income_type\n",
    "df[\"income_type\"].value_counts()"
   ]
  },
  {
   "cell_type": "code",
   "execution_count": 35,
   "id": "290713d6",
   "metadata": {},
   "outputs": [
    {
     "data": {
      "text/plain": [
       "array(['автомобили', 'автомобиль', 'высшее образование',\n",
       "       'дополнительное образование', 'жилье',\n",
       "       'заняться высшим образованием', 'заняться образованием',\n",
       "       'на покупку автомобиля', 'на покупку подержанного автомобиля',\n",
       "       'на покупку своего автомобиля', 'на проведение свадьбы',\n",
       "       'недвижимость', 'образование', 'операции с жильем',\n",
       "       'операции с коммерческой недвижимостью',\n",
       "       'операции с недвижимостью', 'операции со своей недвижимостью',\n",
       "       'покупка жилой недвижимости', 'покупка жилья',\n",
       "       'покупка жилья для сдачи', 'покупка жилья для семьи',\n",
       "       'покупка коммерческой недвижимости', 'покупка недвижимости',\n",
       "       'покупка своего жилья', 'получение высшего образования',\n",
       "       'получение дополнительного образования', 'получение образования',\n",
       "       'приобретение автомобиля', 'профильное образование',\n",
       "       'ремонт жилью', 'свадьба', 'свой автомобиль',\n",
       "       'сделка с автомобилем', 'сделка с подержанным автомобилем',\n",
       "       'строительство жилой недвижимости', 'строительство недвижимости',\n",
       "       'строительство собственной недвижимости', 'сыграть свадьбу'],\n",
       "      dtype=object)"
      ]
     },
     "execution_count": 35,
     "metadata": {},
     "output_type": "execute_result"
    }
   ],
   "source": [
    "# проверка на значений столбца purpose на неявные дубликаты\n",
    "df[\"purpose\"].sort_values().unique()"
   ]
  },
  {
   "cell_type": "markdown",
   "id": "8011353f",
   "metadata": {},
   "source": [
    "### Шаг 2.5. Формирование дополнительных датафреймов словарей, декомпозиция исходного датафрейма."
   ]
  },
  {
   "cell_type": "code",
   "execution_count": 36,
   "id": "0826c207",
   "metadata": {},
   "outputs": [],
   "source": [
    "education_dic = df[[\"education_id\",'education']].drop_duplicates().reset_index(drop = True)\n",
    "family_dic = df[['family_status_id','family_status']].drop_duplicates().reset_index(drop = True)"
   ]
  },
  {
   "cell_type": "code",
   "execution_count": 37,
   "id": "c7e145cb",
   "metadata": {},
   "outputs": [
    {
     "data": {
      "text/html": [
       "<div>\n",
       "<style scoped>\n",
       "    .dataframe tbody tr th:only-of-type {\n",
       "        vertical-align: middle;\n",
       "    }\n",
       "\n",
       "    .dataframe tbody tr th {\n",
       "        vertical-align: top;\n",
       "    }\n",
       "\n",
       "    .dataframe thead th {\n",
       "        text-align: right;\n",
       "    }\n",
       "</style>\n",
       "<table border=\"1\" class=\"dataframe\">\n",
       "  <thead>\n",
       "    <tr style=\"text-align: right;\">\n",
       "      <th></th>\n",
       "      <th>education_id</th>\n",
       "      <th>education</th>\n",
       "    </tr>\n",
       "  </thead>\n",
       "  <tbody>\n",
       "    <tr>\n",
       "      <td>0</td>\n",
       "      <td>0</td>\n",
       "      <td>высшее</td>\n",
       "    </tr>\n",
       "    <tr>\n",
       "      <td>1</td>\n",
       "      <td>1</td>\n",
       "      <td>среднее</td>\n",
       "    </tr>\n",
       "    <tr>\n",
       "      <td>2</td>\n",
       "      <td>2</td>\n",
       "      <td>неоконченное высшее</td>\n",
       "    </tr>\n",
       "    <tr>\n",
       "      <td>3</td>\n",
       "      <td>3</td>\n",
       "      <td>начальное</td>\n",
       "    </tr>\n",
       "    <tr>\n",
       "      <td>4</td>\n",
       "      <td>4</td>\n",
       "      <td>ученая степень</td>\n",
       "    </tr>\n",
       "  </tbody>\n",
       "</table>\n",
       "</div>"
      ],
      "text/plain": [
       "   education_id            education\n",
       "0             0               высшее\n",
       "1             1              среднее\n",
       "2             2  неоконченное высшее\n",
       "3             3            начальное\n",
       "4             4       ученая степень"
      ]
     },
     "execution_count": 37,
     "metadata": {},
     "output_type": "execute_result"
    }
   ],
   "source": [
    "education_dic"
   ]
  },
  {
   "cell_type": "code",
   "execution_count": 38,
   "id": "4c087356",
   "metadata": {},
   "outputs": [
    {
     "data": {
      "text/html": [
       "<div>\n",
       "<style scoped>\n",
       "    .dataframe tbody tr th:only-of-type {\n",
       "        vertical-align: middle;\n",
       "    }\n",
       "\n",
       "    .dataframe tbody tr th {\n",
       "        vertical-align: top;\n",
       "    }\n",
       "\n",
       "    .dataframe thead th {\n",
       "        text-align: right;\n",
       "    }\n",
       "</style>\n",
       "<table border=\"1\" class=\"dataframe\">\n",
       "  <thead>\n",
       "    <tr style=\"text-align: right;\">\n",
       "      <th></th>\n",
       "      <th>family_status_id</th>\n",
       "      <th>family_status</th>\n",
       "    </tr>\n",
       "  </thead>\n",
       "  <tbody>\n",
       "    <tr>\n",
       "      <td>0</td>\n",
       "      <td>0</td>\n",
       "      <td>женат / замужем</td>\n",
       "    </tr>\n",
       "    <tr>\n",
       "      <td>1</td>\n",
       "      <td>1</td>\n",
       "      <td>гражданский брак</td>\n",
       "    </tr>\n",
       "    <tr>\n",
       "      <td>2</td>\n",
       "      <td>2</td>\n",
       "      <td>вдовец / вдова</td>\n",
       "    </tr>\n",
       "    <tr>\n",
       "      <td>3</td>\n",
       "      <td>3</td>\n",
       "      <td>в разводе</td>\n",
       "    </tr>\n",
       "    <tr>\n",
       "      <td>4</td>\n",
       "      <td>4</td>\n",
       "      <td>Не женат / не замужем</td>\n",
       "    </tr>\n",
       "  </tbody>\n",
       "</table>\n",
       "</div>"
      ],
      "text/plain": [
       "   family_status_id          family_status\n",
       "0                 0        женат / замужем\n",
       "1                 1       гражданский брак\n",
       "2                 2         вдовец / вдова\n",
       "3                 3              в разводе\n",
       "4                 4  Не женат / не замужем"
      ]
     },
     "execution_count": 38,
     "metadata": {},
     "output_type": "execute_result"
    }
   ],
   "source": [
    "family_dic"
   ]
  },
  {
   "cell_type": "code",
   "execution_count": 39,
   "id": "6e240f1c",
   "metadata": {},
   "outputs": [],
   "source": [
    "# Удаление столбцов в исходном DataFrame\n",
    "df = df.drop(columns = ['education','family_status'],axis = 1)"
   ]
  },
  {
   "cell_type": "markdown",
   "id": "e2751b4f",
   "metadata": {},
   "source": [
    "### Шаг 2.6. Категоризация дохода."
   ]
  },
  {
   "cell_type": "code",
   "execution_count": 40,
   "id": "9b9c9af6",
   "metadata": {},
   "outputs": [],
   "source": [
    "def total_income_category(row):\n",
    "    if 0 <= row <= 30000:\n",
    "        return \"E\"\n",
    "    elif 30001 <= row <= 50000:\n",
    "        return \"D\"\n",
    "    elif 50001 <= row <= 200000:\n",
    "        return \"C\"\n",
    "    elif 200001 <= row <= 1000000:\n",
    "        return \"B\"\n",
    "    else:\n",
    "        return \"A\""
   ]
  },
  {
   "cell_type": "code",
   "execution_count": 41,
   "id": "192459ef",
   "metadata": {},
   "outputs": [],
   "source": [
    "df[\"total_income_category\"] = df[\"total_income\"].apply(total_income_category)"
   ]
  },
  {
   "cell_type": "code",
   "execution_count": 42,
   "id": "8311b7a9",
   "metadata": {},
   "outputs": [
    {
     "data": {
      "text/plain": [
       "C    15922\n",
       "B     5013\n",
       "D      349\n",
       "A       25\n",
       "E       22\n",
       "Name: total_income_category, dtype: int64"
      ]
     },
     "execution_count": 42,
     "metadata": {},
     "output_type": "execute_result"
    }
   ],
   "source": [
    "df[\"total_income_category\"].value_counts()"
   ]
  },
  {
   "cell_type": "markdown",
   "id": "89339604",
   "metadata": {},
   "source": [
    "### Шаг 2.7. Категоризация целей кредита."
   ]
  },
  {
   "cell_type": "code",
   "execution_count": 43,
   "id": "c08372c5",
   "metadata": {},
   "outputs": [],
   "source": [
    "def purpose_category(row):\n",
    "    if \"автомобил\" in row:\n",
    "        return 'операции с автомобилем'\n",
    "    elif \"жиль\" in row or \"недвиж\" in row:\n",
    "        return \"операции с недвижимостью\"\n",
    "    elif \"свадьб\" in row:\n",
    "        return 'проведение свадьбы'\n",
    "    elif \"образов\" in row:\n",
    "        return 'получение образования'\n",
    "    else:\n",
    "        return row"
   ]
  },
  {
   "cell_type": "code",
   "execution_count": 44,
   "id": "738ae40d",
   "metadata": {},
   "outputs": [],
   "source": [
    "df['purpose_category'] = df[\"purpose\"].apply(purpose_category)"
   ]
  },
  {
   "cell_type": "code",
   "execution_count": 45,
   "id": "f6cd73eb",
   "metadata": {},
   "outputs": [
    {
     "data": {
      "text/plain": [
       "операции с недвижимостью    10751\n",
       "операции с автомобилем       4279\n",
       "получение образования        3988\n",
       "проведение свадьбы           2313\n",
       "Name: purpose_category, dtype: int64"
      ]
     },
     "execution_count": 45,
     "metadata": {},
     "output_type": "execute_result"
    }
   ],
   "source": [
    "df[\"purpose_category\"].value_counts()"
   ]
  },
  {
   "cell_type": "markdown",
   "id": "121953c1",
   "metadata": {},
   "source": [
    "### Ответы на вопросы."
   ]
  },
  {
   "cell_type": "markdown",
   "id": "df727b5f",
   "metadata": {},
   "source": [
    "##### Вопрос 1:"
   ]
  },
  {
   "cell_type": "code",
   "execution_count": 46,
   "id": "8aab6218",
   "metadata": {},
   "outputs": [
    {
     "data": {
      "text/html": [
       "<div>\n",
       "<style scoped>\n",
       "    .dataframe tbody tr th:only-of-type {\n",
       "        vertical-align: middle;\n",
       "    }\n",
       "\n",
       "    .dataframe tbody tr th {\n",
       "        vertical-align: top;\n",
       "    }\n",
       "\n",
       "    .dataframe thead th {\n",
       "        text-align: right;\n",
       "    }\n",
       "</style>\n",
       "<table border=\"1\" class=\"dataframe\">\n",
       "  <thead>\n",
       "    <tr style=\"text-align: right;\">\n",
       "      <th></th>\n",
       "      <th>count</th>\n",
       "      <th>sum</th>\n",
       "      <th>mean</th>\n",
       "      <th>procent_vozvrata</th>\n",
       "    </tr>\n",
       "    <tr>\n",
       "      <th>children</th>\n",
       "      <th></th>\n",
       "      <th></th>\n",
       "      <th></th>\n",
       "      <th></th>\n",
       "    </tr>\n",
       "  </thead>\n",
       "  <tbody>\n",
       "    <tr>\n",
       "      <td>0</td>\n",
       "      <td>14091</td>\n",
       "      <td>1063</td>\n",
       "      <td>0.075438</td>\n",
       "      <td>92.456178</td>\n",
       "    </tr>\n",
       "    <tr>\n",
       "      <td>1</td>\n",
       "      <td>4808</td>\n",
       "      <td>444</td>\n",
       "      <td>0.092346</td>\n",
       "      <td>90.765391</td>\n",
       "    </tr>\n",
       "    <tr>\n",
       "      <td>2</td>\n",
       "      <td>2052</td>\n",
       "      <td>194</td>\n",
       "      <td>0.094542</td>\n",
       "      <td>90.545809</td>\n",
       "    </tr>\n",
       "    <tr>\n",
       "      <td>3</td>\n",
       "      <td>330</td>\n",
       "      <td>27</td>\n",
       "      <td>0.081818</td>\n",
       "      <td>91.818182</td>\n",
       "    </tr>\n",
       "    <tr>\n",
       "      <td>4</td>\n",
       "      <td>41</td>\n",
       "      <td>4</td>\n",
       "      <td>0.097561</td>\n",
       "      <td>90.243902</td>\n",
       "    </tr>\n",
       "    <tr>\n",
       "      <td>5</td>\n",
       "      <td>9</td>\n",
       "      <td>0</td>\n",
       "      <td>0.000000</td>\n",
       "      <td>100.000000</td>\n",
       "    </tr>\n",
       "  </tbody>\n",
       "</table>\n",
       "</div>"
      ],
      "text/plain": [
       "          count   sum      mean  procent_vozvrata\n",
       "children                                         \n",
       "0         14091  1063  0.075438         92.456178\n",
       "1          4808   444  0.092346         90.765391\n",
       "2          2052   194  0.094542         90.545809\n",
       "3           330    27  0.081818         91.818182\n",
       "4            41     4  0.097561         90.243902\n",
       "5             9     0  0.000000        100.000000"
      ]
     },
     "execution_count": 46,
     "metadata": {},
     "output_type": "execute_result"
    }
   ],
   "source": [
    "children_pivot = df.pivot_table(index=\"children\", values =\"debt\" , aggfunc = [\"count\",\"sum\",\"mean\"])\n",
    "children_pivot.columns = [\"count\",\"sum\",\"mean\"]\n",
    "children_pivot[\"procent_vozvrata\"] = (1 - children_pivot['mean'])*100\n",
    "children_pivot"
   ]
  },
  {
   "cell_type": "markdown",
   "id": "82058de2",
   "metadata": {},
   "source": [
    "###### Вывод:\n",
    "Исходя из сводной таблицы, можно сделать вывод, что:\n",
    "* Клиенты, у которых количесвто детей равняется `5` - имеют 100% возврат кредита вовремя, однако количесвто таких случаев составляет очень  маленький процент по сравнению с общим. Поэтому данный варинат не подходит для анализа;\n",
    "* Наиболший процент возврата кредита у клиентов, которых `нет детей` - 92.4%. Скоерй всего, это связано с тем, что у таких клиентов нет дополнительных трат, а все идет на погашение кредита;\n",
    "* Наихуже всего возвращают кредит клиенты, у которых `4` ребенка в семье, однако количетсво таких случает тоже невилико по сравнению с общим процентом. Поэтому из таблицы можно сделать вывод, что наименьший процент возврата кредита в срок у клиентов, число детей которых равняется `2`. Это связано с тем, что у клиентов идут дополнительные расходы на детей и не всегда удается найти средства для своевременного погашения кредита."
   ]
  },
  {
   "cell_type": "markdown",
   "id": "20a67deb",
   "metadata": {},
   "source": [
    "##### Вопрос 2:"
   ]
  },
  {
   "cell_type": "code",
   "execution_count": 47,
   "id": "467a5386",
   "metadata": {},
   "outputs": [],
   "source": [
    "new_table_family = df.merge(family_dic, on = \"family_status_id\", how = 'left' )"
   ]
  },
  {
   "cell_type": "code",
   "execution_count": 48,
   "id": "c84d8451",
   "metadata": {},
   "outputs": [
    {
     "data": {
      "text/html": [
       "<div>\n",
       "<style scoped>\n",
       "    .dataframe tbody tr th:only-of-type {\n",
       "        vertical-align: middle;\n",
       "    }\n",
       "\n",
       "    .dataframe tbody tr th {\n",
       "        vertical-align: top;\n",
       "    }\n",
       "\n",
       "    .dataframe thead th {\n",
       "        text-align: right;\n",
       "    }\n",
       "</style>\n",
       "<table border=\"1\" class=\"dataframe\">\n",
       "  <thead>\n",
       "    <tr style=\"text-align: right;\">\n",
       "      <th></th>\n",
       "      <th>children</th>\n",
       "      <th>days_employed</th>\n",
       "      <th>dob_years</th>\n",
       "      <th>education_id</th>\n",
       "      <th>family_status_id</th>\n",
       "      <th>gender</th>\n",
       "      <th>income_type</th>\n",
       "      <th>debt</th>\n",
       "      <th>total_income</th>\n",
       "      <th>purpose</th>\n",
       "      <th>total_income_category</th>\n",
       "      <th>purpose_category</th>\n",
       "      <th>family_status</th>\n",
       "    </tr>\n",
       "  </thead>\n",
       "  <tbody>\n",
       "    <tr>\n",
       "      <td>0</td>\n",
       "      <td>1</td>\n",
       "      <td>8437</td>\n",
       "      <td>42</td>\n",
       "      <td>0</td>\n",
       "      <td>0</td>\n",
       "      <td>F</td>\n",
       "      <td>сотрудник</td>\n",
       "      <td>0</td>\n",
       "      <td>253875</td>\n",
       "      <td>покупка жилья</td>\n",
       "      <td>B</td>\n",
       "      <td>операции с недвижимостью</td>\n",
       "      <td>женат / замужем</td>\n",
       "    </tr>\n",
       "    <tr>\n",
       "      <td>1</td>\n",
       "      <td>1</td>\n",
       "      <td>4024</td>\n",
       "      <td>36</td>\n",
       "      <td>1</td>\n",
       "      <td>0</td>\n",
       "      <td>F</td>\n",
       "      <td>сотрудник</td>\n",
       "      <td>0</td>\n",
       "      <td>112080</td>\n",
       "      <td>приобретение автомобиля</td>\n",
       "      <td>C</td>\n",
       "      <td>операции с автомобилем</td>\n",
       "      <td>женат / замужем</td>\n",
       "    </tr>\n",
       "    <tr>\n",
       "      <td>2</td>\n",
       "      <td>0</td>\n",
       "      <td>5623</td>\n",
       "      <td>33</td>\n",
       "      <td>1</td>\n",
       "      <td>0</td>\n",
       "      <td>M</td>\n",
       "      <td>сотрудник</td>\n",
       "      <td>0</td>\n",
       "      <td>145885</td>\n",
       "      <td>покупка жилья</td>\n",
       "      <td>C</td>\n",
       "      <td>операции с недвижимостью</td>\n",
       "      <td>женат / замужем</td>\n",
       "    </tr>\n",
       "    <tr>\n",
       "      <td>3</td>\n",
       "      <td>3</td>\n",
       "      <td>4124</td>\n",
       "      <td>32</td>\n",
       "      <td>1</td>\n",
       "      <td>0</td>\n",
       "      <td>M</td>\n",
       "      <td>сотрудник</td>\n",
       "      <td>0</td>\n",
       "      <td>267628</td>\n",
       "      <td>дополнительное образование</td>\n",
       "      <td>B</td>\n",
       "      <td>получение образования</td>\n",
       "      <td>женат / замужем</td>\n",
       "    </tr>\n",
       "    <tr>\n",
       "      <td>4</td>\n",
       "      <td>0</td>\n",
       "      <td>14177</td>\n",
       "      <td>53</td>\n",
       "      <td>1</td>\n",
       "      <td>1</td>\n",
       "      <td>F</td>\n",
       "      <td>пенсионер</td>\n",
       "      <td>0</td>\n",
       "      <td>158616</td>\n",
       "      <td>сыграть свадьбу</td>\n",
       "      <td>C</td>\n",
       "      <td>проведение свадьбы</td>\n",
       "      <td>гражданский брак</td>\n",
       "    </tr>\n",
       "  </tbody>\n",
       "</table>\n",
       "</div>"
      ],
      "text/plain": [
       "   children  days_employed  dob_years  education_id  family_status_id gender  \\\n",
       "0         1           8437         42             0                 0      F   \n",
       "1         1           4024         36             1                 0      F   \n",
       "2         0           5623         33             1                 0      M   \n",
       "3         3           4124         32             1                 0      M   \n",
       "4         0          14177         53             1                 1      F   \n",
       "\n",
       "  income_type  debt  total_income                     purpose  \\\n",
       "0   сотрудник     0        253875               покупка жилья   \n",
       "1   сотрудник     0        112080     приобретение автомобиля   \n",
       "2   сотрудник     0        145885               покупка жилья   \n",
       "3   сотрудник     0        267628  дополнительное образование   \n",
       "4   пенсионер     0        158616             сыграть свадьбу   \n",
       "\n",
       "  total_income_category          purpose_category     family_status  \n",
       "0                     B  операции с недвижимостью   женат / замужем  \n",
       "1                     C    операции с автомобилем   женат / замужем  \n",
       "2                     C  операции с недвижимостью   женат / замужем  \n",
       "3                     B     получение образования   женат / замужем  \n",
       "4                     C        проведение свадьбы  гражданский брак  "
      ]
     },
     "execution_count": 48,
     "metadata": {},
     "output_type": "execute_result"
    }
   ],
   "source": [
    "new_table_family.head()"
   ]
  },
  {
   "cell_type": "code",
   "execution_count": 49,
   "id": "61a6a852",
   "metadata": {},
   "outputs": [],
   "source": [
    "semya_pivot = new_table_family.pivot_table(index=\"family_status\", values =\"debt\" , aggfunc = [\"count\",\"sum\",\"mean\"])\n",
    "semya_pivot.columns = [\"count\",\"sum\",\"mean\"]\n",
    "semya_pivot[\"procent_vozvrata\"] = (1 - semya_pivot['mean'])*100"
   ]
  },
  {
   "cell_type": "code",
   "execution_count": 50,
   "id": "380d81f2",
   "metadata": {},
   "outputs": [
    {
     "data": {
      "text/html": [
       "<div>\n",
       "<style scoped>\n",
       "    .dataframe tbody tr th:only-of-type {\n",
       "        vertical-align: middle;\n",
       "    }\n",
       "\n",
       "    .dataframe tbody tr th {\n",
       "        vertical-align: top;\n",
       "    }\n",
       "\n",
       "    .dataframe thead th {\n",
       "        text-align: right;\n",
       "    }\n",
       "</style>\n",
       "<table border=\"1\" class=\"dataframe\">\n",
       "  <thead>\n",
       "    <tr style=\"text-align: right;\">\n",
       "      <th></th>\n",
       "      <th>count</th>\n",
       "      <th>sum</th>\n",
       "      <th>mean</th>\n",
       "      <th>procent_vozvrata</th>\n",
       "    </tr>\n",
       "    <tr>\n",
       "      <th>family_status</th>\n",
       "      <th></th>\n",
       "      <th></th>\n",
       "      <th></th>\n",
       "      <th></th>\n",
       "    </tr>\n",
       "  </thead>\n",
       "  <tbody>\n",
       "    <tr>\n",
       "      <td>Не женат / не замужем</td>\n",
       "      <td>2796</td>\n",
       "      <td>273</td>\n",
       "      <td>0.097639</td>\n",
       "      <td>90.236052</td>\n",
       "    </tr>\n",
       "    <tr>\n",
       "      <td>в разводе</td>\n",
       "      <td>1189</td>\n",
       "      <td>84</td>\n",
       "      <td>0.070648</td>\n",
       "      <td>92.935240</td>\n",
       "    </tr>\n",
       "    <tr>\n",
       "      <td>вдовец / вдова</td>\n",
       "      <td>951</td>\n",
       "      <td>63</td>\n",
       "      <td>0.066246</td>\n",
       "      <td>93.375394</td>\n",
       "    </tr>\n",
       "    <tr>\n",
       "      <td>гражданский брак</td>\n",
       "      <td>4134</td>\n",
       "      <td>385</td>\n",
       "      <td>0.093130</td>\n",
       "      <td>90.686986</td>\n",
       "    </tr>\n",
       "    <tr>\n",
       "      <td>женат / замужем</td>\n",
       "      <td>12261</td>\n",
       "      <td>927</td>\n",
       "      <td>0.075606</td>\n",
       "      <td>92.439442</td>\n",
       "    </tr>\n",
       "  </tbody>\n",
       "</table>\n",
       "</div>"
      ],
      "text/plain": [
       "                       count  sum      mean  procent_vozvrata\n",
       "family_status                                                \n",
       "Не женат / не замужем   2796  273  0.097639         90.236052\n",
       "в разводе               1189   84  0.070648         92.935240\n",
       "вдовец / вдова           951   63  0.066246         93.375394\n",
       "гражданский брак        4134  385  0.093130         90.686986\n",
       "женат / замужем        12261  927  0.075606         92.439442"
      ]
     },
     "execution_count": 50,
     "metadata": {},
     "output_type": "execute_result"
    }
   ],
   "source": [
    "semya_pivot"
   ]
  },
  {
   "cell_type": "markdown",
   "id": "2a8a72bc",
   "metadata": {},
   "source": [
    "###### Вывод:\n",
    "Исходя из сводной таблицы, можно сделать вывод, что:\n",
    "* Клиенты c семейным статусом `вдовец / вдова` имеют наибольший процент по возвращению кредита;\n",
    "* Наихуже всего возвращают кредит клиенты, у которых семейным статус `Не женат / не замужем`;"
   ]
  },
  {
   "cell_type": "markdown",
   "id": "97fb67e4",
   "metadata": {},
   "source": [
    "##### Вопрос 3:"
   ]
  },
  {
   "cell_type": "markdown",
   "id": "139df55c",
   "metadata": {},
   "source": [
    "###### Пометка для дохода\n",
    "* 0–30000 — 'E';\n",
    "* 30001–50000 — 'D';\n",
    "* 50001–200000 — 'C';\n",
    "* 200001–1000000 — 'B';\n",
    "* 1000001 и выше — 'A'."
   ]
  },
  {
   "cell_type": "code",
   "execution_count": 51,
   "id": "a867cfda",
   "metadata": {},
   "outputs": [],
   "source": [
    "income_pivot = df.pivot_table(index=\"total_income_category\", values =\"debt\" , aggfunc = [\"count\",\"sum\",\"mean\"])\n",
    "income_pivot.columns = [\"count\",\"sum\",\"mean\"]\n",
    "income_pivot[\"procent_vozvrata\"] = (1 - income_pivot['mean'])*100"
   ]
  },
  {
   "cell_type": "code",
   "execution_count": 52,
   "id": "4eb227cf",
   "metadata": {},
   "outputs": [
    {
     "data": {
      "text/html": [
       "<div>\n",
       "<style scoped>\n",
       "    .dataframe tbody tr th:only-of-type {\n",
       "        vertical-align: middle;\n",
       "    }\n",
       "\n",
       "    .dataframe tbody tr th {\n",
       "        vertical-align: top;\n",
       "    }\n",
       "\n",
       "    .dataframe thead th {\n",
       "        text-align: right;\n",
       "    }\n",
       "</style>\n",
       "<table border=\"1\" class=\"dataframe\">\n",
       "  <thead>\n",
       "    <tr style=\"text-align: right;\">\n",
       "      <th></th>\n",
       "      <th>count</th>\n",
       "      <th>sum</th>\n",
       "      <th>mean</th>\n",
       "      <th>procent_vozvrata</th>\n",
       "    </tr>\n",
       "    <tr>\n",
       "      <th>total_income_category</th>\n",
       "      <th></th>\n",
       "      <th></th>\n",
       "      <th></th>\n",
       "      <th></th>\n",
       "    </tr>\n",
       "  </thead>\n",
       "  <tbody>\n",
       "    <tr>\n",
       "      <td>A</td>\n",
       "      <td>25</td>\n",
       "      <td>2</td>\n",
       "      <td>0.080000</td>\n",
       "      <td>92.000000</td>\n",
       "    </tr>\n",
       "    <tr>\n",
       "      <td>B</td>\n",
       "      <td>5013</td>\n",
       "      <td>354</td>\n",
       "      <td>0.070616</td>\n",
       "      <td>92.938360</td>\n",
       "    </tr>\n",
       "    <tr>\n",
       "      <td>C</td>\n",
       "      <td>15922</td>\n",
       "      <td>1353</td>\n",
       "      <td>0.084977</td>\n",
       "      <td>91.502324</td>\n",
       "    </tr>\n",
       "    <tr>\n",
       "      <td>D</td>\n",
       "      <td>349</td>\n",
       "      <td>21</td>\n",
       "      <td>0.060172</td>\n",
       "      <td>93.982808</td>\n",
       "    </tr>\n",
       "    <tr>\n",
       "      <td>E</td>\n",
       "      <td>22</td>\n",
       "      <td>2</td>\n",
       "      <td>0.090909</td>\n",
       "      <td>90.909091</td>\n",
       "    </tr>\n",
       "  </tbody>\n",
       "</table>\n",
       "</div>"
      ],
      "text/plain": [
       "                       count   sum      mean  procent_vozvrata\n",
       "total_income_category                                         \n",
       "A                         25     2  0.080000         92.000000\n",
       "B                       5013   354  0.070616         92.938360\n",
       "C                      15922  1353  0.084977         91.502324\n",
       "D                        349    21  0.060172         93.982808\n",
       "E                         22     2  0.090909         90.909091"
      ]
     },
     "execution_count": 52,
     "metadata": {},
     "output_type": "execute_result"
    }
   ],
   "source": [
    "income_pivot"
   ]
  },
  {
   "cell_type": "markdown",
   "id": "f21e722f",
   "metadata": {},
   "source": [
    "###### Вывод:\n",
    "Исходя из сводной таблицы, можно сделать вывод, что:\n",
    "* Наибольштй процент возврата кредита у клиентов, чей доход относится к категории `D`;\n",
    "* Наименьший процент возврата кредита у клиентов, чей доход относится к категории `E`;\n",
    "* Несмотря на то, что количество в категориях `D`,`E`, `A` мало, по сравнению с категориями `B` и `E`, я считаю что такие данные нельзя исключать из анализа в связи с тем, что люди бывают из разных областей с разным уровнем зароботной платы."
   ]
  },
  {
   "cell_type": "markdown",
   "id": "ac25a5ea",
   "metadata": {},
   "source": [
    "##### Вопрос 4:"
   ]
  },
  {
   "cell_type": "code",
   "execution_count": 53,
   "id": "b78ba635",
   "metadata": {},
   "outputs": [],
   "source": [
    "purpose_pivot = df.pivot_table(index=\"purpose_category\", values =\"debt\" , aggfunc =[\"count\",\"sum\",\"mean\"])\n",
    "purpose_pivot.columns = [\"count\",\"sum\",\"mean\"]\n",
    "purpose_pivot[\"procent_vozvrata\"] = (1 - purpose_pivot['mean'])*100"
   ]
  },
  {
   "cell_type": "code",
   "execution_count": 54,
   "id": "254c92e5",
   "metadata": {},
   "outputs": [
    {
     "data": {
      "text/html": [
       "<div>\n",
       "<style scoped>\n",
       "    .dataframe tbody tr th:only-of-type {\n",
       "        vertical-align: middle;\n",
       "    }\n",
       "\n",
       "    .dataframe tbody tr th {\n",
       "        vertical-align: top;\n",
       "    }\n",
       "\n",
       "    .dataframe thead th {\n",
       "        text-align: right;\n",
       "    }\n",
       "</style>\n",
       "<table border=\"1\" class=\"dataframe\">\n",
       "  <thead>\n",
       "    <tr style=\"text-align: right;\">\n",
       "      <th></th>\n",
       "      <th>count</th>\n",
       "      <th>sum</th>\n",
       "      <th>mean</th>\n",
       "      <th>procent_vozvrata</th>\n",
       "    </tr>\n",
       "    <tr>\n",
       "      <th>purpose_category</th>\n",
       "      <th></th>\n",
       "      <th></th>\n",
       "      <th></th>\n",
       "      <th></th>\n",
       "    </tr>\n",
       "  </thead>\n",
       "  <tbody>\n",
       "    <tr>\n",
       "      <td>операции с автомобилем</td>\n",
       "      <td>4279</td>\n",
       "      <td>400</td>\n",
       "      <td>0.093480</td>\n",
       "      <td>90.652022</td>\n",
       "    </tr>\n",
       "    <tr>\n",
       "      <td>операции с недвижимостью</td>\n",
       "      <td>10751</td>\n",
       "      <td>780</td>\n",
       "      <td>0.072551</td>\n",
       "      <td>92.744861</td>\n",
       "    </tr>\n",
       "    <tr>\n",
       "      <td>получение образования</td>\n",
       "      <td>3988</td>\n",
       "      <td>369</td>\n",
       "      <td>0.092528</td>\n",
       "      <td>90.747242</td>\n",
       "    </tr>\n",
       "    <tr>\n",
       "      <td>проведение свадьбы</td>\n",
       "      <td>2313</td>\n",
       "      <td>183</td>\n",
       "      <td>0.079118</td>\n",
       "      <td>92.088197</td>\n",
       "    </tr>\n",
       "  </tbody>\n",
       "</table>\n",
       "</div>"
      ],
      "text/plain": [
       "                          count  sum      mean  procent_vozvrata\n",
       "purpose_category                                                \n",
       "операции с автомобилем     4279  400  0.093480         90.652022\n",
       "операции с недвижимостью  10751  780  0.072551         92.744861\n",
       "получение образования      3988  369  0.092528         90.747242\n",
       "проведение свадьбы         2313  183  0.079118         92.088197"
      ]
     },
     "execution_count": 54,
     "metadata": {},
     "output_type": "execute_result"
    }
   ],
   "source": [
    "purpose_pivot"
   ]
  },
  {
   "cell_type": "markdown",
   "id": "9b6ec6ce",
   "metadata": {},
   "source": [
    "###### Вывод:\n",
    "Исходя из сводной таблицы, можно сделать вывод, что:\n",
    "* `операции с недвижимостью` обладают наибольшем процентом по возвращению кредита в срок;\n",
    "* `операции с автомобилем` занимают последнюю строчку в таблице по возврату кредита;"
   ]
  },
  {
   "cell_type": "markdown",
   "id": "c92d730c",
   "metadata": {},
   "source": [
    "## Общий вывод:"
   ]
  },
  {
   "cell_type": "markdown",
   "id": "35bcc4be",
   "metadata": {},
   "source": [
    "* На первом этапе проекта были рассмотерны данные и их информация, выявлены пропуски в 2 столбцах и выбросы.\n",
    "* На втором этапе были убраны выбросы, а пропуски заполнены медианным значением, так как среднне арифмитечское может привести к искожению данных. Далее было обнаружено, что в столбце `education` присутствуют значения в разных регистрах. Такие данные влияют на анализ и поиск дубликатов. Поэтому сначла значения были приведены к одному регистру, а дальше удалены дубликаты. \n",
    "* Проверны остальные столбцы на неявные дубликаты. Анализ показал, что неявные дубликаты отсутствуют.\n",
    "* Для рагрузки общей таблицы и простого восприятия, из главной таблицы убраны столбцы `education` и `family_status` и сделаны отдельные словари для дальнейшего обращения. \n",
    "* Для категаризации дохода и целей кредита были написаны функции и применены к основной таблице, для создания новых столбцов.\n",
    "* Для рассмотрения влияния семейного положения, количество детей клиента, уровень дохода и цели кредита на факт погашения кредита в срок были созданы сводные таблицы.\n",
    "* Подводя итог, можно сказать, что клиенты у которых нет детей с доходом от 30000 до 50000, бравшие кредит на операции с недвижимостью, имеют наибольший процент возврата кредита в срок. В то время как многодетные клиенты, с доходом до 30000 тыс, бравшие кредит на операции с автомобилем, имеют наименьший процент возврата кредита в срок."
   ]
  },
  {
   "cell_type": "code",
   "execution_count": null,
   "id": "8610409c",
   "metadata": {},
   "outputs": [],
   "source": []
  }
 ],
 "metadata": {
  "ExecuteTimeLog": [
   {
    "duration": 360,
    "start_time": "2022-02-20T10:22:02.642Z"
   },
   {
    "duration": 807,
    "start_time": "2022-02-20T10:22:08.789Z"
   },
   {
    "duration": 61,
    "start_time": "2022-02-20T10:22:10.000Z"
   },
   {
    "duration": 15,
    "start_time": "2022-02-20T10:22:23.169Z"
   },
   {
    "duration": 29,
    "start_time": "2022-02-20T10:36:54.668Z"
   },
   {
    "duration": 506,
    "start_time": "2022-02-20T10:41:41.818Z"
   },
   {
    "duration": 19,
    "start_time": "2022-02-20T10:42:35.303Z"
   },
   {
    "duration": 9656,
    "start_time": "2022-02-20T10:46:30.126Z"
   },
   {
    "duration": 602,
    "start_time": "2022-02-20T10:46:48.493Z"
   },
   {
    "duration": 8160,
    "start_time": "2022-02-20T10:46:54.284Z"
   },
   {
    "duration": 7425,
    "start_time": "2022-02-20T10:47:22.324Z"
   },
   {
    "duration": 4,
    "start_time": "2022-02-20T10:48:32.656Z"
   },
   {
    "duration": 364,
    "start_time": "2022-02-20T10:48:45.134Z"
   },
   {
    "duration": 5,
    "start_time": "2022-02-20T10:48:52.948Z"
   },
   {
    "duration": 5,
    "start_time": "2022-02-20T10:48:55.050Z"
   },
   {
    "duration": 5,
    "start_time": "2022-02-20T10:49:04.437Z"
   },
   {
    "duration": 5,
    "start_time": "2022-02-20T10:49:05.327Z"
   },
   {
    "duration": 7,
    "start_time": "2022-02-20T10:50:13.025Z"
   },
   {
    "duration": 5,
    "start_time": "2022-02-20T10:50:16.777Z"
   },
   {
    "duration": 5,
    "start_time": "2022-02-20T10:51:22.170Z"
   },
   {
    "duration": 17,
    "start_time": "2022-02-20T10:51:36.613Z"
   },
   {
    "duration": 6,
    "start_time": "2022-02-20T10:52:24.764Z"
   },
   {
    "duration": 5,
    "start_time": "2022-02-20T10:53:01.587Z"
   },
   {
    "duration": 14,
    "start_time": "2022-02-20T10:53:11.817Z"
   },
   {
    "duration": 6,
    "start_time": "2022-02-20T10:53:24.716Z"
   },
   {
    "duration": 14,
    "start_time": "2022-02-20T10:53:26.073Z"
   },
   {
    "duration": 755,
    "start_time": "2022-02-20T10:53:36.010Z"
   },
   {
    "duration": 58,
    "start_time": "2022-02-20T10:53:36.768Z"
   },
   {
    "duration": 33,
    "start_time": "2022-02-20T10:53:36.829Z"
   },
   {
    "duration": 23,
    "start_time": "2022-02-20T10:53:36.865Z"
   },
   {
    "duration": 5,
    "start_time": "2022-02-20T10:53:36.891Z"
   },
   {
    "duration": 4,
    "start_time": "2022-02-20T10:53:36.899Z"
   },
   {
    "duration": 5,
    "start_time": "2022-02-20T10:53:36.906Z"
   },
   {
    "duration": 51,
    "start_time": "2022-02-20T10:53:36.914Z"
   },
   {
    "duration": 6,
    "start_time": "2022-02-20T10:53:36.968Z"
   },
   {
    "duration": 19,
    "start_time": "2022-02-20T10:53:36.977Z"
   },
   {
    "duration": 6,
    "start_time": "2022-02-20T10:53:53.957Z"
   },
   {
    "duration": 27,
    "start_time": "2022-02-20T10:56:19.043Z"
   },
   {
    "duration": 38,
    "start_time": "2022-02-20T11:13:53.817Z"
   },
   {
    "duration": 28,
    "start_time": "2022-02-20T11:23:40.024Z"
   },
   {
    "duration": 38,
    "start_time": "2022-02-20T11:34:07.560Z"
   },
   {
    "duration": 20,
    "start_time": "2022-02-20T11:55:40.059Z"
   },
   {
    "duration": 21,
    "start_time": "2022-02-20T11:55:55.536Z"
   },
   {
    "duration": 6,
    "start_time": "2022-02-20T11:57:09.301Z"
   },
   {
    "duration": 7,
    "start_time": "2022-02-20T11:57:19.597Z"
   },
   {
    "duration": 370,
    "start_time": "2022-02-20T11:58:17.979Z"
   },
   {
    "duration": 7,
    "start_time": "2022-02-20T11:58:23.639Z"
   },
   {
    "duration": 11,
    "start_time": "2022-02-20T11:58:50.036Z"
   },
   {
    "duration": 8,
    "start_time": "2022-02-20T11:59:02.548Z"
   },
   {
    "duration": 10,
    "start_time": "2022-02-20T11:59:59.655Z"
   },
   {
    "duration": 21,
    "start_time": "2022-02-20T12:37:13.321Z"
   },
   {
    "duration": 8,
    "start_time": "2022-02-20T12:51:46.658Z"
   },
   {
    "duration": 23,
    "start_time": "2022-02-20T12:55:34.491Z"
   },
   {
    "duration": 97,
    "start_time": "2022-02-20T13:14:57.679Z"
   },
   {
    "duration": 383,
    "start_time": "2022-02-20T13:15:15.439Z"
   },
   {
    "duration": 389,
    "start_time": "2022-02-20T13:15:59.876Z"
   },
   {
    "duration": 8,
    "start_time": "2022-02-20T13:16:45.541Z"
   },
   {
    "duration": 11,
    "start_time": "2022-02-20T13:16:50.055Z"
   },
   {
    "duration": 7,
    "start_time": "2022-02-20T13:16:57.824Z"
   },
   {
    "duration": 561,
    "start_time": "2022-02-21T09:40:53.965Z"
   },
   {
    "duration": 703,
    "start_time": "2022-02-21T09:42:07.922Z"
   },
   {
    "duration": 52,
    "start_time": "2022-02-21T09:42:09.036Z"
   },
   {
    "duration": 13,
    "start_time": "2022-02-21T09:42:09.528Z"
   },
   {
    "duration": 15,
    "start_time": "2022-02-21T09:42:11.389Z"
   },
   {
    "duration": 4,
    "start_time": "2022-02-21T09:42:12.063Z"
   },
   {
    "duration": 7,
    "start_time": "2022-02-21T09:42:12.732Z"
   },
   {
    "duration": 5,
    "start_time": "2022-02-21T09:42:13.183Z"
   },
   {
    "duration": 5,
    "start_time": "2022-02-21T09:42:13.582Z"
   },
   {
    "duration": 4,
    "start_time": "2022-02-21T09:42:13.974Z"
   },
   {
    "duration": 4,
    "start_time": "2022-02-21T09:42:14.452Z"
   },
   {
    "duration": 9,
    "start_time": "2022-02-21T09:42:14.957Z"
   },
   {
    "duration": 16,
    "start_time": "2022-02-21T09:42:17.376Z"
   },
   {
    "duration": 6,
    "start_time": "2022-02-21T09:42:19.146Z"
   },
   {
    "duration": 4,
    "start_time": "2022-02-21T12:04:07.534Z"
   },
   {
    "duration": 14,
    "start_time": "2022-02-21T12:04:16.223Z"
   },
   {
    "duration": 6,
    "start_time": "2022-02-21T12:07:53.798Z"
   },
   {
    "duration": 8,
    "start_time": "2022-02-21T12:08:00.788Z"
   },
   {
    "duration": 9,
    "start_time": "2022-02-21T12:08:29.232Z"
   },
   {
    "duration": 9,
    "start_time": "2022-02-21T12:12:03.325Z"
   },
   {
    "duration": 9,
    "start_time": "2022-02-21T12:12:09.122Z"
   },
   {
    "duration": 6,
    "start_time": "2022-02-21T12:12:22.818Z"
   },
   {
    "duration": 7,
    "start_time": "2022-02-21T12:13:13.940Z"
   },
   {
    "duration": 7,
    "start_time": "2022-02-21T12:42:07.842Z"
   },
   {
    "duration": 6,
    "start_time": "2022-02-21T12:43:17.029Z"
   },
   {
    "duration": 7,
    "start_time": "2022-02-21T12:43:22.060Z"
   },
   {
    "duration": 6,
    "start_time": "2022-02-21T12:43:33.597Z"
   },
   {
    "duration": 6,
    "start_time": "2022-02-21T12:43:34.298Z"
   },
   {
    "duration": 7,
    "start_time": "2022-02-21T12:43:36.360Z"
   },
   {
    "duration": 6,
    "start_time": "2022-02-21T12:43:36.811Z"
   },
   {
    "duration": 7,
    "start_time": "2022-02-21T12:43:37.160Z"
   },
   {
    "duration": 6,
    "start_time": "2022-02-21T12:47:25.078Z"
   },
   {
    "duration": 128,
    "start_time": "2022-02-21T12:47:25.427Z"
   },
   {
    "duration": 851,
    "start_time": "2022-02-21T12:49:03.859Z"
   },
   {
    "duration": 1738,
    "start_time": "2022-02-21T12:59:09.932Z"
   },
   {
    "duration": 184,
    "start_time": "2022-02-21T12:59:18.422Z"
   },
   {
    "duration": 187,
    "start_time": "2022-02-21T13:01:32.490Z"
   },
   {
    "duration": 188,
    "start_time": "2022-02-21T13:01:43.693Z"
   },
   {
    "duration": 6,
    "start_time": "2022-02-21T13:01:44.994Z"
   },
   {
    "duration": 7,
    "start_time": "2022-02-21T13:01:47.333Z"
   },
   {
    "duration": 199,
    "start_time": "2022-02-21T13:01:47.922Z"
   },
   {
    "duration": 6,
    "start_time": "2022-02-21T13:01:48.300Z"
   },
   {
    "duration": 15,
    "start_time": "2022-02-21T13:02:02.642Z"
   },
   {
    "duration": 3,
    "start_time": "2022-02-21T13:03:19.554Z"
   },
   {
    "duration": 48,
    "start_time": "2022-02-21T13:03:20.043Z"
   },
   {
    "duration": 16,
    "start_time": "2022-02-21T13:03:20.539Z"
   },
   {
    "duration": 11,
    "start_time": "2022-02-21T13:03:24.440Z"
   },
   {
    "duration": 4,
    "start_time": "2022-02-21T13:03:25.045Z"
   },
   {
    "duration": 4,
    "start_time": "2022-02-21T13:03:25.403Z"
   },
   {
    "duration": 4,
    "start_time": "2022-02-21T13:03:25.799Z"
   },
   {
    "duration": 4,
    "start_time": "2022-02-21T13:03:26.092Z"
   },
   {
    "duration": 3,
    "start_time": "2022-02-21T13:03:26.281Z"
   },
   {
    "duration": 3,
    "start_time": "2022-02-21T13:03:26.711Z"
   },
   {
    "duration": 10,
    "start_time": "2022-02-21T13:03:27.196Z"
   },
   {
    "duration": 13,
    "start_time": "2022-02-21T13:03:29.856Z"
   },
   {
    "duration": 5,
    "start_time": "2022-02-21T13:03:31.739Z"
   },
   {
    "duration": 4,
    "start_time": "2022-02-21T13:03:34.485Z"
   },
   {
    "duration": 17,
    "start_time": "2022-02-21T13:03:36.948Z"
   },
   {
    "duration": 6,
    "start_time": "2022-02-21T13:03:44.566Z"
   },
   {
    "duration": 735,
    "start_time": "2022-02-21T13:03:57.558Z"
   },
   {
    "duration": 455,
    "start_time": "2022-02-21T13:05:53.699Z"
   },
   {
    "duration": 196,
    "start_time": "2022-02-21T13:06:52.672Z"
   },
   {
    "duration": 6,
    "start_time": "2022-02-21T13:07:03.035Z"
   },
   {
    "duration": 14,
    "start_time": "2022-02-21T13:07:11.237Z"
   },
   {
    "duration": 198,
    "start_time": "2022-02-21T14:39:07.357Z"
   },
   {
    "duration": 13,
    "start_time": "2022-02-21T14:39:21.661Z"
   },
   {
    "duration": 8,
    "start_time": "2022-02-21T14:39:32.618Z"
   },
   {
    "duration": 11,
    "start_time": "2022-02-21T14:39:39.362Z"
   },
   {
    "duration": 9,
    "start_time": "2022-02-21T14:39:40.441Z"
   },
   {
    "duration": 12,
    "start_time": "2022-02-21T14:40:00.128Z"
   },
   {
    "duration": 7,
    "start_time": "2022-02-21T14:40:02.591Z"
   },
   {
    "duration": 5,
    "start_time": "2022-02-21T14:42:47.939Z"
   },
   {
    "duration": 13,
    "start_time": "2022-02-21T14:42:55.848Z"
   },
   {
    "duration": 13,
    "start_time": "2022-02-21T14:43:21.004Z"
   },
   {
    "duration": 4,
    "start_time": "2022-02-21T14:55:16.337Z"
   },
   {
    "duration": 4,
    "start_time": "2022-02-21T15:00:43.845Z"
   },
   {
    "duration": 4,
    "start_time": "2022-02-21T15:01:19.708Z"
   },
   {
    "duration": 983,
    "start_time": "2022-02-22T11:52:30.198Z"
   },
   {
    "duration": 91,
    "start_time": "2022-02-22T11:52:31.184Z"
   },
   {
    "duration": 16,
    "start_time": "2022-02-22T11:52:31.551Z"
   },
   {
    "duration": 23,
    "start_time": "2022-02-22T11:52:47.362Z"
   },
   {
    "duration": 6,
    "start_time": "2022-02-22T11:58:10.549Z"
   },
   {
    "duration": 12,
    "start_time": "2022-02-22T11:58:11.532Z"
   },
   {
    "duration": 996,
    "start_time": "2022-02-22T11:58:12.643Z"
   },
   {
    "duration": 454,
    "start_time": "2022-02-22T11:58:37.389Z"
   },
   {
    "duration": 11,
    "start_time": "2022-02-22T11:58:43.587Z"
   },
   {
    "duration": 7,
    "start_time": "2022-02-22T11:58:45.761Z"
   },
   {
    "duration": 6,
    "start_time": "2022-02-22T11:58:55.248Z"
   },
   {
    "duration": 8,
    "start_time": "2022-02-22T11:58:57.668Z"
   },
   {
    "duration": 5,
    "start_time": "2022-02-22T11:58:59.256Z"
   },
   {
    "duration": 15,
    "start_time": "2022-02-22T11:59:01.805Z"
   },
   {
    "duration": 13,
    "start_time": "2022-02-22T12:00:13.939Z"
   },
   {
    "duration": 32,
    "start_time": "2022-02-22T12:00:21.242Z"
   },
   {
    "duration": 84,
    "start_time": "2022-02-22T12:00:31.652Z"
   },
   {
    "duration": 76,
    "start_time": "2022-02-22T12:00:59.723Z"
   },
   {
    "duration": 10,
    "start_time": "2022-02-22T12:01:13.755Z"
   },
   {
    "duration": 21,
    "start_time": "2022-02-22T12:01:48.898Z"
   },
   {
    "duration": 22,
    "start_time": "2022-02-22T12:01:49.297Z"
   },
   {
    "duration": 9,
    "start_time": "2022-02-22T12:01:49.826Z"
   },
   {
    "duration": 29,
    "start_time": "2022-02-22T12:01:53.475Z"
   },
   {
    "duration": 6,
    "start_time": "2022-02-22T12:02:43.153Z"
   },
   {
    "duration": 26,
    "start_time": "2022-02-22T12:02:44.005Z"
   },
   {
    "duration": 11,
    "start_time": "2022-02-22T12:03:05.639Z"
   },
   {
    "duration": 831,
    "start_time": "2022-02-22T12:03:23.880Z"
   },
   {
    "duration": 66,
    "start_time": "2022-02-22T12:03:24.714Z"
   },
   {
    "duration": 24,
    "start_time": "2022-02-22T12:03:24.784Z"
   },
   {
    "duration": 20,
    "start_time": "2022-02-22T12:03:24.811Z"
   },
   {
    "duration": 5,
    "start_time": "2022-02-22T12:03:24.833Z"
   },
   {
    "duration": 14,
    "start_time": "2022-02-22T12:03:24.840Z"
   },
   {
    "duration": 1046,
    "start_time": "2022-02-22T12:03:24.893Z"
   },
   {
    "duration": 9,
    "start_time": "2022-02-22T12:03:25.942Z"
   },
   {
    "duration": 9,
    "start_time": "2022-02-22T12:03:25.955Z"
   },
   {
    "duration": 29,
    "start_time": "2022-02-22T12:03:25.967Z"
   },
   {
    "duration": 10,
    "start_time": "2022-02-22T12:03:25.999Z"
   },
   {
    "duration": 4,
    "start_time": "2022-02-22T12:03:26.012Z"
   },
   {
    "duration": 14,
    "start_time": "2022-02-22T12:03:26.019Z"
   },
   {
    "duration": 70,
    "start_time": "2022-02-22T12:03:26.036Z"
   },
   {
    "duration": 8,
    "start_time": "2022-02-22T12:03:26.109Z"
   },
   {
    "duration": 26,
    "start_time": "2022-02-22T12:03:26.120Z"
   },
   {
    "duration": 60,
    "start_time": "2022-02-22T12:03:26.150Z"
   },
   {
    "duration": 9,
    "start_time": "2022-02-22T12:03:26.213Z"
   },
   {
    "duration": 32,
    "start_time": "2022-02-22T12:03:26.225Z"
   },
   {
    "duration": 9,
    "start_time": "2022-02-22T12:03:26.260Z"
   },
   {
    "duration": 33,
    "start_time": "2022-02-22T12:03:26.271Z"
   },
   {
    "duration": 5,
    "start_time": "2022-02-22T12:03:26.307Z"
   },
   {
    "duration": 9,
    "start_time": "2022-02-22T12:03:26.315Z"
   },
   {
    "duration": 382,
    "start_time": "2022-02-22T12:03:43.682Z"
   },
   {
    "duration": 16,
    "start_time": "2022-02-22T12:03:45.317Z"
   },
   {
    "duration": 7,
    "start_time": "2022-02-22T12:03:51.715Z"
   },
   {
    "duration": 10,
    "start_time": "2022-02-22T12:43:30.560Z"
   },
   {
    "duration": 10,
    "start_time": "2022-02-22T12:43:40.129Z"
   },
   {
    "duration": 12,
    "start_time": "2022-02-22T12:54:52.351Z"
   },
   {
    "duration": 7,
    "start_time": "2022-02-22T12:56:20.393Z"
   },
   {
    "duration": 25,
    "start_time": "2022-02-22T13:01:40.683Z"
   },
   {
    "duration": 14,
    "start_time": "2022-02-22T13:01:54.449Z"
   },
   {
    "duration": 26,
    "start_time": "2022-02-22T13:02:06.835Z"
   },
   {
    "duration": 12,
    "start_time": "2022-02-22T13:02:08.695Z"
   },
   {
    "duration": 10,
    "start_time": "2022-02-22T13:06:01.185Z"
   },
   {
    "duration": 57,
    "start_time": "2022-02-22T13:11:08.376Z"
   },
   {
    "duration": 56,
    "start_time": "2022-02-22T13:11:17.930Z"
   },
   {
    "duration": 35,
    "start_time": "2022-02-22T13:11:23.035Z"
   },
   {
    "duration": 27,
    "start_time": "2022-02-22T13:11:27.627Z"
   },
   {
    "duration": 375,
    "start_time": "2022-02-22T13:15:17.584Z"
   },
   {
    "duration": 8,
    "start_time": "2022-02-22T13:17:16.623Z"
   },
   {
    "duration": 265,
    "start_time": "2022-02-22T13:18:08.425Z"
   },
   {
    "duration": 8,
    "start_time": "2022-02-22T13:18:18.822Z"
   },
   {
    "duration": 17,
    "start_time": "2022-02-22T13:18:23.919Z"
   },
   {
    "duration": 14,
    "start_time": "2022-02-22T13:18:27.606Z"
   },
   {
    "duration": 17,
    "start_time": "2022-02-22T13:24:18.607Z"
   },
   {
    "duration": 9,
    "start_time": "2022-02-22T13:24:18.862Z"
   },
   {
    "duration": 13,
    "start_time": "2022-02-22T13:24:21.371Z"
   },
   {
    "duration": 11,
    "start_time": "2022-02-22T13:25:40.494Z"
   },
   {
    "duration": 292,
    "start_time": "2022-02-22T13:26:06.840Z"
   },
   {
    "duration": 24,
    "start_time": "2022-02-22T13:26:16.058Z"
   },
   {
    "duration": 1121,
    "start_time": "2022-02-22T13:27:09.098Z"
   },
   {
    "duration": 88,
    "start_time": "2022-02-22T13:27:10.223Z"
   },
   {
    "duration": 22,
    "start_time": "2022-02-22T13:27:10.316Z"
   },
   {
    "duration": 23,
    "start_time": "2022-02-22T13:27:10.342Z"
   },
   {
    "duration": 5,
    "start_time": "2022-02-22T13:27:10.394Z"
   },
   {
    "duration": 23,
    "start_time": "2022-02-22T13:27:10.401Z"
   },
   {
    "duration": 1310,
    "start_time": "2022-02-22T13:27:10.427Z"
   },
   {
    "duration": 16,
    "start_time": "2022-02-22T13:27:11.740Z"
   },
   {
    "duration": 34,
    "start_time": "2022-02-22T13:27:11.762Z"
   },
   {
    "duration": 7,
    "start_time": "2022-02-22T13:27:11.799Z"
   },
   {
    "duration": 16,
    "start_time": "2022-02-22T13:27:11.809Z"
   },
   {
    "duration": 27,
    "start_time": "2022-02-22T13:27:11.828Z"
   },
   {
    "duration": 36,
    "start_time": "2022-02-22T13:27:11.859Z"
   },
   {
    "duration": 37,
    "start_time": "2022-02-22T13:27:11.899Z"
   },
   {
    "duration": 27,
    "start_time": "2022-02-22T13:27:11.940Z"
   },
   {
    "duration": 24,
    "start_time": "2022-02-22T13:27:11.970Z"
   },
   {
    "duration": 63,
    "start_time": "2022-02-22T13:27:11.997Z"
   },
   {
    "duration": 17,
    "start_time": "2022-02-22T13:27:12.063Z"
   },
   {
    "duration": 61,
    "start_time": "2022-02-22T13:27:12.083Z"
   },
   {
    "duration": 27,
    "start_time": "2022-02-22T13:27:12.147Z"
   },
   {
    "duration": 32,
    "start_time": "2022-02-22T13:27:12.176Z"
   },
   {
    "duration": 34,
    "start_time": "2022-02-22T13:27:12.211Z"
   },
   {
    "duration": 14,
    "start_time": "2022-02-22T13:27:12.248Z"
   },
   {
    "duration": 45,
    "start_time": "2022-02-22T13:27:12.265Z"
   },
   {
    "duration": 32,
    "start_time": "2022-02-22T13:27:12.313Z"
   },
   {
    "duration": 40,
    "start_time": "2022-02-22T13:27:12.348Z"
   },
   {
    "duration": 33,
    "start_time": "2022-02-22T13:27:12.394Z"
   },
   {
    "duration": 18,
    "start_time": "2022-02-22T13:27:12.430Z"
   },
   {
    "duration": 16,
    "start_time": "2022-02-22T13:27:12.450Z"
   },
   {
    "duration": 13,
    "start_time": "2022-02-22T13:27:12.495Z"
   },
   {
    "duration": 25,
    "start_time": "2022-02-22T13:27:12.511Z"
   },
   {
    "duration": 22,
    "start_time": "2022-02-22T13:27:12.539Z"
   },
   {
    "duration": 380,
    "start_time": "2022-02-22T13:27:14.681Z"
   },
   {
    "duration": 22,
    "start_time": "2022-02-22T13:27:39.675Z"
   },
   {
    "duration": 4,
    "start_time": "2022-02-22T14:12:45.289Z"
   },
   {
    "duration": 65,
    "start_time": "2022-02-22T14:12:47.365Z"
   },
   {
    "duration": 15,
    "start_time": "2022-02-22T14:12:48.244Z"
   },
   {
    "duration": 13,
    "start_time": "2022-02-22T14:12:52.651Z"
   },
   {
    "duration": 4,
    "start_time": "2022-02-22T14:12:53.929Z"
   },
   {
    "duration": 19,
    "start_time": "2022-02-22T14:12:54.597Z"
   },
   {
    "duration": 1075,
    "start_time": "2022-02-22T14:12:55.514Z"
   },
   {
    "duration": 16,
    "start_time": "2022-02-22T14:12:56.592Z"
   },
   {
    "duration": 388,
    "start_time": "2022-02-22T14:12:58.659Z"
   },
   {
    "duration": 8,
    "start_time": "2022-02-22T14:13:01.542Z"
   },
   {
    "duration": 5,
    "start_time": "2022-02-22T14:13:02.392Z"
   },
   {
    "duration": 17,
    "start_time": "2022-02-22T14:13:03.707Z"
   },
   {
    "duration": 5,
    "start_time": "2022-02-22T14:13:21.688Z"
   },
   {
    "duration": 17,
    "start_time": "2022-02-22T14:13:22.889Z"
   },
   {
    "duration": 20,
    "start_time": "2022-02-22T14:13:26.372Z"
   },
   {
    "duration": 10,
    "start_time": "2022-02-22T14:13:43.490Z"
   },
   {
    "duration": 17,
    "start_time": "2022-02-22T14:13:44.474Z"
   },
   {
    "duration": 18,
    "start_time": "2022-02-22T14:13:44.844Z"
   },
   {
    "duration": 10,
    "start_time": "2022-02-22T14:13:46.948Z"
   },
   {
    "duration": 21,
    "start_time": "2022-02-22T14:13:47.530Z"
   },
   {
    "duration": 5,
    "start_time": "2022-02-22T14:13:57.731Z"
   },
   {
    "duration": 15,
    "start_time": "2022-02-22T14:13:58.412Z"
   },
   {
    "duration": 21,
    "start_time": "2022-02-22T14:14:09.657Z"
   },
   {
    "duration": 630,
    "start_time": "2022-02-22T14:14:49.972Z"
   },
   {
    "duration": 24,
    "start_time": "2022-02-22T14:14:56.073Z"
   },
   {
    "duration": 37,
    "start_time": "2022-02-22T14:15:01.262Z"
   },
   {
    "duration": 27,
    "start_time": "2022-02-22T14:15:06.756Z"
   },
   {
    "duration": 14,
    "start_time": "2022-02-22T14:16:28.719Z"
   },
   {
    "duration": 7,
    "start_time": "2022-02-22T14:18:54.650Z"
   },
   {
    "duration": 256,
    "start_time": "2022-02-22T14:19:32.340Z"
   },
   {
    "duration": 279,
    "start_time": "2022-02-22T14:19:47.648Z"
   },
   {
    "duration": 12,
    "start_time": "2022-02-22T14:19:59.736Z"
   },
   {
    "duration": 18,
    "start_time": "2022-02-22T14:28:22.371Z"
   },
   {
    "duration": 14,
    "start_time": "2022-02-22T14:28:33.725Z"
   },
   {
    "duration": 39,
    "start_time": "2022-02-22T14:30:18.922Z"
   },
   {
    "duration": 15,
    "start_time": "2022-02-22T14:30:37.185Z"
   },
   {
    "duration": 12,
    "start_time": "2022-02-22T14:30:48.762Z"
   },
   {
    "duration": 17,
    "start_time": "2022-02-22T14:30:50.304Z"
   },
   {
    "duration": 23,
    "start_time": "2022-02-22T14:32:03.884Z"
   },
   {
    "duration": 15,
    "start_time": "2022-02-22T14:32:05.815Z"
   },
   {
    "duration": 14,
    "start_time": "2022-02-22T14:32:48.803Z"
   },
   {
    "duration": 11,
    "start_time": "2022-02-22T14:33:11.507Z"
   },
   {
    "duration": 12,
    "start_time": "2022-02-22T14:33:37.443Z"
   },
   {
    "duration": 11,
    "start_time": "2022-02-22T14:34:18.857Z"
   },
   {
    "duration": 19,
    "start_time": "2022-02-22T14:36:53.133Z"
   },
   {
    "duration": 10,
    "start_time": "2022-02-22T14:36:54.148Z"
   },
   {
    "duration": 12,
    "start_time": "2022-02-22T14:36:56.233Z"
   },
   {
    "duration": 8,
    "start_time": "2022-02-22T14:44:10.307Z"
   },
   {
    "duration": 14,
    "start_time": "2022-02-22T14:44:10.681Z"
   },
   {
    "duration": 15,
    "start_time": "2022-02-22T14:44:19.215Z"
   },
   {
    "duration": 17,
    "start_time": "2022-02-22T14:44:28.721Z"
   },
   {
    "duration": 11,
    "start_time": "2022-02-22T14:44:29.177Z"
   },
   {
    "duration": 10,
    "start_time": "2022-02-22T14:44:29.852Z"
   },
   {
    "duration": 7,
    "start_time": "2022-02-22T14:45:03.507Z"
   },
   {
    "duration": 5,
    "start_time": "2022-02-22T14:45:14.766Z"
   },
   {
    "duration": 8,
    "start_time": "2022-02-22T14:45:36.799Z"
   },
   {
    "duration": 7,
    "start_time": "2022-02-22T14:48:05.426Z"
   },
   {
    "duration": 27,
    "start_time": "2022-02-22T14:48:11.862Z"
   },
   {
    "duration": 16,
    "start_time": "2022-02-22T14:52:50.092Z"
   },
   {
    "duration": 8,
    "start_time": "2022-02-22T14:53:01.870Z"
   },
   {
    "duration": 11,
    "start_time": "2022-02-22T14:53:25.643Z"
   },
   {
    "duration": 13,
    "start_time": "2022-02-22T14:54:24.213Z"
   },
   {
    "duration": 10,
    "start_time": "2022-02-22T14:54:32.983Z"
   },
   {
    "duration": 11,
    "start_time": "2022-02-22T14:54:37.616Z"
   },
   {
    "duration": 771,
    "start_time": "2022-02-22T15:40:55.628Z"
   },
   {
    "duration": 68,
    "start_time": "2022-02-22T15:40:56.402Z"
   },
   {
    "duration": 22,
    "start_time": "2022-02-22T15:40:56.474Z"
   },
   {
    "duration": 27,
    "start_time": "2022-02-22T15:40:56.500Z"
   },
   {
    "duration": 5,
    "start_time": "2022-02-22T15:40:56.529Z"
   },
   {
    "duration": 15,
    "start_time": "2022-02-22T15:40:56.537Z"
   },
   {
    "duration": 937,
    "start_time": "2022-02-22T15:40:56.593Z"
   },
   {
    "duration": 10,
    "start_time": "2022-02-22T15:40:57.533Z"
   },
   {
    "duration": 9,
    "start_time": "2022-02-22T15:40:57.547Z"
   },
   {
    "duration": 34,
    "start_time": "2022-02-22T15:40:57.560Z"
   },
   {
    "duration": 7,
    "start_time": "2022-02-22T15:40:57.597Z"
   },
   {
    "duration": 17,
    "start_time": "2022-02-22T15:40:57.608Z"
   },
   {
    "duration": 25,
    "start_time": "2022-02-22T15:40:57.627Z"
   },
   {
    "duration": 42,
    "start_time": "2022-02-22T15:40:57.655Z"
   },
   {
    "duration": 16,
    "start_time": "2022-02-22T15:40:57.700Z"
   },
   {
    "duration": 26,
    "start_time": "2022-02-22T15:40:57.719Z"
   },
   {
    "duration": 16,
    "start_time": "2022-02-22T15:40:57.748Z"
   },
   {
    "duration": 35,
    "start_time": "2022-02-22T15:40:57.768Z"
   },
   {
    "duration": 42,
    "start_time": "2022-02-22T15:40:57.807Z"
   },
   {
    "duration": 10,
    "start_time": "2022-02-22T15:40:57.852Z"
   },
   {
    "duration": 40,
    "start_time": "2022-02-22T15:40:57.865Z"
   },
   {
    "duration": 23,
    "start_time": "2022-02-22T15:40:57.908Z"
   },
   {
    "duration": 26,
    "start_time": "2022-02-22T15:40:57.934Z"
   },
   {
    "duration": 49,
    "start_time": "2022-02-22T15:40:57.963Z"
   },
   {
    "duration": 11,
    "start_time": "2022-02-22T15:40:58.015Z"
   },
   {
    "duration": 31,
    "start_time": "2022-02-22T15:40:58.029Z"
   },
   {
    "duration": 20,
    "start_time": "2022-02-22T15:40:58.098Z"
   },
   {
    "duration": 22,
    "start_time": "2022-02-22T15:40:58.122Z"
   },
   {
    "duration": 13,
    "start_time": "2022-02-22T15:40:58.147Z"
   },
   {
    "duration": 40,
    "start_time": "2022-02-22T15:40:58.163Z"
   },
   {
    "duration": 18,
    "start_time": "2022-02-22T15:40:58.206Z"
   },
   {
    "duration": 27,
    "start_time": "2022-02-22T15:40:58.227Z"
   },
   {
    "duration": 46,
    "start_time": "2022-02-22T15:40:58.257Z"
   },
   {
    "duration": 22,
    "start_time": "2022-02-22T15:40:58.306Z"
   },
   {
    "duration": 9,
    "start_time": "2022-02-22T15:40:58.331Z"
   },
   {
    "duration": 13,
    "start_time": "2022-02-22T15:40:58.343Z"
   },
   {
    "duration": 8,
    "start_time": "2022-02-22T15:40:58.395Z"
   },
   {
    "duration": 9,
    "start_time": "2022-02-22T15:40:58.406Z"
   },
   {
    "duration": 29,
    "start_time": "2022-02-22T15:40:58.419Z"
   },
   {
    "duration": 42,
    "start_time": "2022-02-22T15:40:58.451Z"
   },
   {
    "duration": 5,
    "start_time": "2022-02-22T15:40:58.496Z"
   },
   {
    "duration": 22,
    "start_time": "2022-02-22T15:40:58.504Z"
   },
   {
    "duration": 15,
    "start_time": "2022-02-22T15:40:58.529Z"
   },
   {
    "duration": 345,
    "start_time": "2022-02-22T15:41:33.218Z"
   },
   {
    "duration": 5,
    "start_time": "2022-02-22T15:43:27.185Z"
   },
   {
    "duration": 18,
    "start_time": "2022-02-22T15:43:28.728Z"
   },
   {
    "duration": 16,
    "start_time": "2022-02-22T15:43:53.756Z"
   },
   {
    "duration": 10,
    "start_time": "2022-02-22T15:45:14.609Z"
   },
   {
    "duration": 89,
    "start_time": "2022-02-22T15:45:28.033Z"
   },
   {
    "duration": 27,
    "start_time": "2022-02-22T15:45:31.741Z"
   },
   {
    "duration": 11,
    "start_time": "2022-02-22T15:52:53.376Z"
   },
   {
    "duration": 330,
    "start_time": "2022-02-22T15:53:37.203Z"
   },
   {
    "duration": 829,
    "start_time": "2022-02-22T15:53:43.459Z"
   },
   {
    "duration": 65,
    "start_time": "2022-02-22T15:53:44.293Z"
   },
   {
    "duration": 17,
    "start_time": "2022-02-22T15:53:44.361Z"
   },
   {
    "duration": 24,
    "start_time": "2022-02-22T15:53:44.393Z"
   },
   {
    "duration": 6,
    "start_time": "2022-02-22T15:53:44.420Z"
   },
   {
    "duration": 21,
    "start_time": "2022-02-22T15:53:44.429Z"
   },
   {
    "duration": 937,
    "start_time": "2022-02-22T15:53:44.452Z"
   },
   {
    "duration": 11,
    "start_time": "2022-02-22T15:53:45.395Z"
   },
   {
    "duration": 14,
    "start_time": "2022-02-22T15:53:45.410Z"
   },
   {
    "duration": 6,
    "start_time": "2022-02-22T15:53:45.427Z"
   },
   {
    "duration": 15,
    "start_time": "2022-02-22T15:53:45.435Z"
   },
   {
    "duration": 8,
    "start_time": "2022-02-22T15:53:45.452Z"
   },
   {
    "duration": 46,
    "start_time": "2022-02-22T15:53:45.462Z"
   },
   {
    "duration": 31,
    "start_time": "2022-02-22T15:53:45.511Z"
   },
   {
    "duration": 15,
    "start_time": "2022-02-22T15:53:45.544Z"
   },
   {
    "duration": 51,
    "start_time": "2022-02-22T15:53:45.562Z"
   },
   {
    "duration": 26,
    "start_time": "2022-02-22T15:53:45.617Z"
   },
   {
    "duration": 8,
    "start_time": "2022-02-22T15:53:45.647Z"
   },
   {
    "duration": 43,
    "start_time": "2022-02-22T15:53:45.657Z"
   },
   {
    "duration": 9,
    "start_time": "2022-02-22T15:53:45.703Z"
   },
   {
    "duration": 19,
    "start_time": "2022-02-22T15:53:45.715Z"
   },
   {
    "duration": 20,
    "start_time": "2022-02-22T15:53:45.737Z"
   },
   {
    "duration": 24,
    "start_time": "2022-02-22T15:53:45.795Z"
   },
   {
    "duration": 22,
    "start_time": "2022-02-22T15:53:45.822Z"
   },
   {
    "duration": 10,
    "start_time": "2022-02-22T15:53:45.847Z"
   },
   {
    "duration": 53,
    "start_time": "2022-02-22T15:53:45.860Z"
   },
   {
    "duration": 21,
    "start_time": "2022-02-22T15:53:45.916Z"
   },
   {
    "duration": 16,
    "start_time": "2022-02-22T15:53:45.940Z"
   },
   {
    "duration": 44,
    "start_time": "2022-02-22T15:53:45.959Z"
   },
   {
    "duration": 10,
    "start_time": "2022-02-22T15:53:46.006Z"
   },
   {
    "duration": 13,
    "start_time": "2022-02-22T15:53:46.020Z"
   },
   {
    "duration": 17,
    "start_time": "2022-02-22T15:53:46.036Z"
   },
   {
    "duration": 25,
    "start_time": "2022-02-22T15:53:46.095Z"
   },
   {
    "duration": 17,
    "start_time": "2022-02-22T15:53:46.122Z"
   },
   {
    "duration": 54,
    "start_time": "2022-02-22T15:53:46.142Z"
   },
   {
    "duration": 10,
    "start_time": "2022-02-22T15:53:46.199Z"
   },
   {
    "duration": 13,
    "start_time": "2022-02-22T15:53:46.211Z"
   },
   {
    "duration": 12,
    "start_time": "2022-02-22T15:53:46.227Z"
   },
   {
    "duration": 12,
    "start_time": "2022-02-22T15:53:46.241Z"
   },
   {
    "duration": 51,
    "start_time": "2022-02-22T15:53:46.256Z"
   },
   {
    "duration": 23,
    "start_time": "2022-02-22T15:53:46.311Z"
   },
   {
    "duration": 16,
    "start_time": "2022-02-22T15:53:46.336Z"
   },
   {
    "duration": 24,
    "start_time": "2022-02-22T15:53:46.355Z"
   },
   {
    "duration": 17,
    "start_time": "2022-02-22T15:53:46.382Z"
   },
   {
    "duration": 360,
    "start_time": "2022-02-22T16:21:55.350Z"
   },
   {
    "duration": 17,
    "start_time": "2022-02-22T16:33:23.423Z"
   },
   {
    "duration": 16,
    "start_time": "2022-02-22T16:33:28.482Z"
   },
   {
    "duration": 276,
    "start_time": "2022-02-22T16:33:54.778Z"
   },
   {
    "duration": 503,
    "start_time": "2022-02-22T16:34:02.204Z"
   },
   {
    "duration": 10,
    "start_time": "2022-02-22T16:34:23.110Z"
   },
   {
    "duration": 426,
    "start_time": "2022-02-22T16:38:32.822Z"
   },
   {
    "duration": 321,
    "start_time": "2022-02-22T16:38:52.720Z"
   },
   {
    "duration": 304,
    "start_time": "2022-02-23T11:50:31.774Z"
   },
   {
    "duration": 1162,
    "start_time": "2022-02-23T11:50:35.687Z"
   },
   {
    "duration": 79,
    "start_time": "2022-02-23T11:50:36.852Z"
   },
   {
    "duration": 776,
    "start_time": "2022-02-23T11:50:46.211Z"
   },
   {
    "duration": 66,
    "start_time": "2022-02-23T11:50:46.989Z"
   },
   {
    "duration": 16,
    "start_time": "2022-02-23T11:50:47.058Z"
   },
   {
    "duration": 44,
    "start_time": "2022-02-23T11:50:47.077Z"
   },
   {
    "duration": 5,
    "start_time": "2022-02-23T11:50:47.124Z"
   },
   {
    "duration": 17,
    "start_time": "2022-02-23T11:50:47.132Z"
   },
   {
    "duration": 995,
    "start_time": "2022-02-23T11:50:47.152Z"
   },
   {
    "duration": 10,
    "start_time": "2022-02-23T11:50:48.150Z"
   },
   {
    "duration": 8,
    "start_time": "2022-02-23T11:50:48.165Z"
   },
   {
    "duration": 7,
    "start_time": "2022-02-23T11:50:48.195Z"
   },
   {
    "duration": 9,
    "start_time": "2022-02-23T11:50:48.205Z"
   },
   {
    "duration": 6,
    "start_time": "2022-02-23T11:50:48.217Z"
   },
   {
    "duration": 14,
    "start_time": "2022-02-23T11:50:48.225Z"
   },
   {
    "duration": 57,
    "start_time": "2022-02-23T11:50:48.242Z"
   },
   {
    "duration": 12,
    "start_time": "2022-02-23T11:50:48.303Z"
   },
   {
    "duration": 26,
    "start_time": "2022-02-23T11:50:48.318Z"
   },
   {
    "duration": 17,
    "start_time": "2022-02-23T11:50:48.347Z"
   },
   {
    "duration": 33,
    "start_time": "2022-02-23T11:50:48.367Z"
   },
   {
    "duration": 7,
    "start_time": "2022-02-23T11:50:48.404Z"
   },
   {
    "duration": 6,
    "start_time": "2022-02-23T11:50:48.414Z"
   },
   {
    "duration": 20,
    "start_time": "2022-02-23T11:50:48.423Z"
   },
   {
    "duration": 74,
    "start_time": "2022-02-23T11:50:48.446Z"
   },
   {
    "duration": 23,
    "start_time": "2022-02-23T11:50:48.523Z"
   },
   {
    "duration": 46,
    "start_time": "2022-02-23T11:50:48.549Z"
   },
   {
    "duration": 11,
    "start_time": "2022-02-23T11:50:48.598Z"
   },
   {
    "duration": 26,
    "start_time": "2022-02-23T11:50:48.612Z"
   },
   {
    "duration": 13,
    "start_time": "2022-02-23T11:50:48.643Z"
   },
   {
    "duration": 40,
    "start_time": "2022-02-23T11:50:48.660Z"
   },
   {
    "duration": 13,
    "start_time": "2022-02-23T11:50:48.703Z"
   },
   {
    "duration": 13,
    "start_time": "2022-02-23T11:50:48.718Z"
   },
   {
    "duration": 13,
    "start_time": "2022-02-23T11:50:48.733Z"
   },
   {
    "duration": 49,
    "start_time": "2022-02-23T11:50:48.749Z"
   },
   {
    "duration": 26,
    "start_time": "2022-02-23T11:50:48.807Z"
   },
   {
    "duration": 15,
    "start_time": "2022-02-23T11:50:48.835Z"
   },
   {
    "duration": 54,
    "start_time": "2022-02-23T11:50:48.852Z"
   },
   {
    "duration": 11,
    "start_time": "2022-02-23T11:50:48.908Z"
   },
   {
    "duration": 12,
    "start_time": "2022-02-23T11:50:48.921Z"
   },
   {
    "duration": 11,
    "start_time": "2022-02-23T11:50:48.936Z"
   },
   {
    "duration": 43,
    "start_time": "2022-02-23T11:50:48.950Z"
   },
   {
    "duration": 18,
    "start_time": "2022-02-23T11:50:48.996Z"
   },
   {
    "duration": 14,
    "start_time": "2022-02-23T11:50:49.017Z"
   },
   {
    "duration": 8,
    "start_time": "2022-02-23T11:50:49.034Z"
   },
   {
    "duration": 25,
    "start_time": "2022-02-23T11:50:49.044Z"
   },
   {
    "duration": 31,
    "start_time": "2022-02-23T11:50:49.072Z"
   },
   {
    "duration": 19,
    "start_time": "2022-02-23T11:50:49.106Z"
   },
   {
    "duration": 12,
    "start_time": "2022-02-23T11:50:49.128Z"
   },
   {
    "duration": 358,
    "start_time": "2022-02-23T11:50:49.143Z"
   },
   {
    "duration": 265,
    "start_time": "2022-02-23T11:51:10.283Z"
   },
   {
    "duration": 242,
    "start_time": "2022-02-23T11:51:50.668Z"
   },
   {
    "duration": 16,
    "start_time": "2022-02-23T11:52:00.007Z"
   },
   {
    "duration": 30,
    "start_time": "2022-02-23T11:52:08.105Z"
   },
   {
    "duration": 314,
    "start_time": "2022-02-23T11:54:13.411Z"
   },
   {
    "duration": 20,
    "start_time": "2022-02-23T11:54:24.370Z"
   },
   {
    "duration": 32,
    "start_time": "2022-02-23T11:55:22.348Z"
   },
   {
    "duration": 6,
    "start_time": "2022-02-23T11:58:37.268Z"
   },
   {
    "duration": 9,
    "start_time": "2022-02-23T11:58:55.259Z"
   },
   {
    "duration": 314,
    "start_time": "2022-02-23T11:59:09.044Z"
   },
   {
    "duration": 243,
    "start_time": "2022-02-23T12:06:45.975Z"
   },
   {
    "duration": 22,
    "start_time": "2022-02-23T12:06:56.783Z"
   },
   {
    "duration": 76,
    "start_time": "2022-02-23T12:11:04.144Z"
   },
   {
    "duration": 101,
    "start_time": "2022-02-23T12:11:29.238Z"
   },
   {
    "duration": 32,
    "start_time": "2022-02-23T12:11:38.948Z"
   },
   {
    "duration": 22,
    "start_time": "2022-02-23T12:13:47.774Z"
   },
   {
    "duration": 20,
    "start_time": "2022-02-23T12:14:28.927Z"
   },
   {
    "duration": 10,
    "start_time": "2022-02-23T12:14:33.561Z"
   },
   {
    "duration": 17,
    "start_time": "2022-02-23T12:14:53.791Z"
   },
   {
    "duration": 10,
    "start_time": "2022-02-23T12:14:55.380Z"
   },
   {
    "duration": 20,
    "start_time": "2022-02-23T12:17:16.732Z"
   },
   {
    "duration": 11,
    "start_time": "2022-02-23T12:17:17.241Z"
   },
   {
    "duration": 4,
    "start_time": "2022-02-23T12:22:00.367Z"
   },
   {
    "duration": 5,
    "start_time": "2022-02-23T12:22:04.806Z"
   },
   {
    "duration": 6,
    "start_time": "2022-02-23T12:22:10.372Z"
   },
   {
    "duration": 7,
    "start_time": "2022-02-23T12:22:11.612Z"
   },
   {
    "duration": 15,
    "start_time": "2022-02-23T12:23:14.807Z"
   },
   {
    "duration": 16,
    "start_time": "2022-02-23T12:23:15.159Z"
   },
   {
    "duration": 12,
    "start_time": "2022-02-23T12:25:03.194Z"
   },
   {
    "duration": 16,
    "start_time": "2022-02-23T12:25:03.582Z"
   },
   {
    "duration": 14,
    "start_time": "2022-02-23T12:25:11.530Z"
   },
   {
    "duration": 13,
    "start_time": "2022-02-23T12:25:11.832Z"
   },
   {
    "duration": 14,
    "start_time": "2022-02-23T12:25:31.445Z"
   },
   {
    "duration": 12,
    "start_time": "2022-02-23T12:25:32.888Z"
   },
   {
    "duration": 12,
    "start_time": "2022-02-23T12:25:48.257Z"
   },
   {
    "duration": 15,
    "start_time": "2022-02-23T12:25:48.435Z"
   },
   {
    "duration": 6,
    "start_time": "2022-02-23T12:27:37.218Z"
   },
   {
    "duration": 19,
    "start_time": "2022-02-23T12:27:41.434Z"
   },
   {
    "duration": 17,
    "start_time": "2022-02-23T12:30:10.778Z"
   },
   {
    "duration": 12,
    "start_time": "2022-02-23T12:30:11.120Z"
   },
   {
    "duration": 19,
    "start_time": "2022-02-23T12:30:20.215Z"
   },
   {
    "duration": 14,
    "start_time": "2022-02-23T12:30:23.546Z"
   },
   {
    "duration": 14,
    "start_time": "2022-02-23T12:34:59.242Z"
   },
   {
    "duration": 6065,
    "start_time": "2022-02-23T12:36:20.252Z"
   },
   {
    "duration": 12,
    "start_time": "2022-02-23T12:36:26.896Z"
   },
   {
    "duration": 13,
    "start_time": "2022-02-23T12:36:39.547Z"
   },
   {
    "duration": 9,
    "start_time": "2022-02-23T12:36:40.231Z"
   },
   {
    "duration": 286,
    "start_time": "2022-02-23T12:36:58.022Z"
   },
   {
    "duration": 12,
    "start_time": "2022-02-23T12:36:58.412Z"
   },
   {
    "duration": 16,
    "start_time": "2022-02-23T12:37:22.406Z"
   },
   {
    "duration": 374,
    "start_time": "2022-02-23T12:42:39.251Z"
   },
   {
    "duration": 19,
    "start_time": "2022-02-23T12:42:47.505Z"
   },
   {
    "duration": 32,
    "start_time": "2022-02-23T12:42:52.761Z"
   },
   {
    "duration": 24,
    "start_time": "2022-02-23T12:43:26.503Z"
   },
   {
    "duration": 37,
    "start_time": "2022-02-23T12:43:26.930Z"
   },
   {
    "duration": 18,
    "start_time": "2022-02-23T12:44:08.820Z"
   },
   {
    "duration": 31,
    "start_time": "2022-02-23T12:44:09.243Z"
   },
   {
    "duration": 27,
    "start_time": "2022-02-23T12:44:22.066Z"
   },
   {
    "duration": 232,
    "start_time": "2022-02-23T12:45:26.380Z"
   },
   {
    "duration": 20,
    "start_time": "2022-02-23T12:45:41.162Z"
   },
   {
    "duration": 9,
    "start_time": "2022-02-23T12:45:49.979Z"
   },
   {
    "duration": 19,
    "start_time": "2022-02-23T12:46:30.576Z"
   },
   {
    "duration": 10,
    "start_time": "2022-02-23T12:46:30.950Z"
   },
   {
    "duration": 22,
    "start_time": "2022-02-23T12:55:57.972Z"
   },
   {
    "duration": 30,
    "start_time": "2022-02-23T12:55:58.366Z"
   },
   {
    "duration": 30,
    "start_time": "2022-02-23T12:55:59.026Z"
   },
   {
    "duration": 12,
    "start_time": "2022-02-23T12:55:59.721Z"
   },
   {
    "duration": 16,
    "start_time": "2022-02-23T12:58:38.883Z"
   },
   {
    "duration": 10,
    "start_time": "2022-02-23T12:58:45.292Z"
   },
   {
    "duration": 100,
    "start_time": "2022-02-23T13:13:22.214Z"
   },
   {
    "duration": 20,
    "start_time": "2022-02-23T13:13:43.823Z"
   },
   {
    "duration": 3,
    "start_time": "2022-02-23T13:15:25.801Z"
   },
   {
    "duration": 26,
    "start_time": "2022-02-23T13:17:22.690Z"
   },
   {
    "duration": 10,
    "start_time": "2022-02-23T13:17:27.293Z"
   },
   {
    "duration": 428,
    "start_time": "2022-02-23T13:41:18.181Z"
   },
   {
    "duration": 9,
    "start_time": "2022-02-23T13:44:54.680Z"
   },
   {
    "duration": 8,
    "start_time": "2022-02-23T13:45:02.936Z"
   },
   {
    "duration": 275,
    "start_time": "2022-02-23T13:47:39.704Z"
   },
   {
    "duration": 771,
    "start_time": "2022-02-23T13:48:00.608Z"
   },
   {
    "duration": 64,
    "start_time": "2022-02-23T13:48:01.382Z"
   },
   {
    "duration": 16,
    "start_time": "2022-02-23T13:48:01.450Z"
   },
   {
    "duration": 46,
    "start_time": "2022-02-23T13:48:01.470Z"
   },
   {
    "duration": 9,
    "start_time": "2022-02-23T13:48:01.518Z"
   },
   {
    "duration": 30,
    "start_time": "2022-02-23T13:48:01.530Z"
   },
   {
    "duration": 986,
    "start_time": "2022-02-23T13:48:01.562Z"
   },
   {
    "duration": 10,
    "start_time": "2022-02-23T13:48:02.551Z"
   },
   {
    "duration": 29,
    "start_time": "2022-02-23T13:48:02.565Z"
   },
   {
    "duration": 10,
    "start_time": "2022-02-23T13:48:02.598Z"
   },
   {
    "duration": 49,
    "start_time": "2022-02-23T13:48:02.610Z"
   },
   {
    "duration": 7,
    "start_time": "2022-02-23T13:48:02.662Z"
   },
   {
    "duration": 28,
    "start_time": "2022-02-23T13:48:02.672Z"
   },
   {
    "duration": 25,
    "start_time": "2022-02-23T13:48:02.702Z"
   },
   {
    "duration": 8,
    "start_time": "2022-02-23T13:48:02.729Z"
   },
   {
    "duration": 18,
    "start_time": "2022-02-23T13:48:02.739Z"
   },
   {
    "duration": 41,
    "start_time": "2022-02-23T13:48:02.759Z"
   },
   {
    "duration": 7,
    "start_time": "2022-02-23T13:48:02.802Z"
   },
   {
    "duration": 8,
    "start_time": "2022-02-23T13:48:02.812Z"
   },
   {
    "duration": 18,
    "start_time": "2022-02-23T13:48:02.822Z"
   },
   {
    "duration": 20,
    "start_time": "2022-02-23T13:48:02.843Z"
   },
   {
    "duration": 38,
    "start_time": "2022-02-23T13:48:02.865Z"
   },
   {
    "duration": 19,
    "start_time": "2022-02-23T13:48:02.905Z"
   },
   {
    "duration": 18,
    "start_time": "2022-02-23T13:48:02.927Z"
   },
   {
    "duration": 9,
    "start_time": "2022-02-23T13:48:02.947Z"
   },
   {
    "duration": 18,
    "start_time": "2022-02-23T13:48:02.994Z"
   },
   {
    "duration": 20,
    "start_time": "2022-02-23T13:48:03.018Z"
   },
   {
    "duration": 13,
    "start_time": "2022-02-23T13:48:03.041Z"
   },
   {
    "duration": 38,
    "start_time": "2022-02-23T13:48:03.057Z"
   },
   {
    "duration": 10,
    "start_time": "2022-02-23T13:48:03.097Z"
   },
   {
    "duration": 38,
    "start_time": "2022-02-23T13:48:03.109Z"
   },
   {
    "duration": 28,
    "start_time": "2022-02-23T13:48:03.150Z"
   },
   {
    "duration": 27,
    "start_time": "2022-02-23T13:48:03.181Z"
   },
   {
    "duration": 14,
    "start_time": "2022-02-23T13:48:03.211Z"
   },
   {
    "duration": 24,
    "start_time": "2022-02-23T13:48:03.228Z"
   },
   {
    "duration": 8,
    "start_time": "2022-02-23T13:48:03.254Z"
   },
   {
    "duration": 30,
    "start_time": "2022-02-23T13:48:03.265Z"
   },
   {
    "duration": 9,
    "start_time": "2022-02-23T13:48:03.298Z"
   },
   {
    "duration": 22,
    "start_time": "2022-02-23T13:48:03.310Z"
   },
   {
    "duration": 22,
    "start_time": "2022-02-23T13:48:03.335Z"
   },
   {
    "duration": 10,
    "start_time": "2022-02-23T13:48:03.360Z"
   },
   {
    "duration": 25,
    "start_time": "2022-02-23T13:48:03.372Z"
   },
   {
    "duration": 21,
    "start_time": "2022-02-23T13:48:03.400Z"
   },
   {
    "duration": 9,
    "start_time": "2022-02-23T13:48:03.424Z"
   },
   {
    "duration": 24,
    "start_time": "2022-02-23T13:48:03.435Z"
   },
   {
    "duration": 33,
    "start_time": "2022-02-23T13:48:03.462Z"
   },
   {
    "duration": 29,
    "start_time": "2022-02-23T13:48:03.498Z"
   },
   {
    "duration": 87,
    "start_time": "2022-02-23T13:48:03.530Z"
   },
   {
    "duration": 90,
    "start_time": "2022-02-23T13:48:03.620Z"
   },
   {
    "duration": 19,
    "start_time": "2022-02-23T13:48:03.712Z"
   },
   {
    "duration": 31,
    "start_time": "2022-02-23T13:48:03.734Z"
   },
   {
    "duration": 29,
    "start_time": "2022-02-23T13:48:03.767Z"
   },
   {
    "duration": 23,
    "start_time": "2022-02-23T13:48:03.798Z"
   },
   {
    "duration": 9,
    "start_time": "2022-02-23T13:48:03.823Z"
   },
   {
    "duration": 21,
    "start_time": "2022-02-23T13:48:03.834Z"
   },
   {
    "duration": 35,
    "start_time": "2022-02-23T13:48:03.858Z"
   },
   {
    "duration": 359,
    "start_time": "2022-02-23T13:48:07.017Z"
   },
   {
    "duration": 17,
    "start_time": "2022-02-23T14:13:02.096Z"
   },
   {
    "duration": 760,
    "start_time": "2022-02-23T14:17:48.398Z"
   },
   {
    "duration": 71,
    "start_time": "2022-02-23T14:17:49.161Z"
   },
   {
    "duration": 15,
    "start_time": "2022-02-23T14:17:49.235Z"
   },
   {
    "duration": 23,
    "start_time": "2022-02-23T14:17:49.253Z"
   },
   {
    "duration": 5,
    "start_time": "2022-02-23T14:17:49.295Z"
   },
   {
    "duration": 18,
    "start_time": "2022-02-23T14:17:49.302Z"
   },
   {
    "duration": 952,
    "start_time": "2022-02-23T14:17:49.322Z"
   },
   {
    "duration": 16,
    "start_time": "2022-02-23T14:17:50.278Z"
   },
   {
    "duration": 10,
    "start_time": "2022-02-23T14:17:50.297Z"
   },
   {
    "duration": 6,
    "start_time": "2022-02-23T14:17:50.309Z"
   },
   {
    "duration": 16,
    "start_time": "2022-02-23T14:17:50.318Z"
   },
   {
    "duration": 14,
    "start_time": "2022-02-23T14:17:50.336Z"
   },
   {
    "duration": 16,
    "start_time": "2022-02-23T14:17:50.352Z"
   },
   {
    "duration": 41,
    "start_time": "2022-02-23T14:17:50.370Z"
   },
   {
    "duration": 8,
    "start_time": "2022-02-23T14:17:50.413Z"
   },
   {
    "duration": 22,
    "start_time": "2022-02-23T14:17:50.424Z"
   },
   {
    "duration": 46,
    "start_time": "2022-02-23T14:17:50.449Z"
   },
   {
    "duration": 11,
    "start_time": "2022-02-23T14:17:50.497Z"
   },
   {
    "duration": 11,
    "start_time": "2022-02-23T14:17:50.510Z"
   },
   {
    "duration": 11,
    "start_time": "2022-02-23T14:17:50.523Z"
   },
   {
    "duration": 22,
    "start_time": "2022-02-23T14:17:50.537Z"
   },
   {
    "duration": 49,
    "start_time": "2022-02-23T14:17:50.562Z"
   },
   {
    "duration": 22,
    "start_time": "2022-02-23T14:17:50.617Z"
   },
   {
    "duration": 19,
    "start_time": "2022-02-23T14:17:50.642Z"
   },
   {
    "duration": 39,
    "start_time": "2022-02-23T14:17:50.664Z"
   },
   {
    "duration": 23,
    "start_time": "2022-02-23T14:17:50.706Z"
   },
   {
    "duration": 17,
    "start_time": "2022-02-23T14:17:50.732Z"
   },
   {
    "duration": 42,
    "start_time": "2022-02-23T14:17:50.752Z"
   },
   {
    "duration": 12,
    "start_time": "2022-02-23T14:17:50.797Z"
   },
   {
    "duration": 10,
    "start_time": "2022-02-23T14:17:50.812Z"
   },
   {
    "duration": 23,
    "start_time": "2022-02-23T14:17:50.825Z"
   },
   {
    "duration": 25,
    "start_time": "2022-02-23T14:17:50.850Z"
   },
   {
    "duration": 41,
    "start_time": "2022-02-23T14:17:50.877Z"
   },
   {
    "duration": 20,
    "start_time": "2022-02-23T14:17:50.920Z"
   },
   {
    "duration": 10,
    "start_time": "2022-02-23T14:17:50.943Z"
   },
   {
    "duration": 40,
    "start_time": "2022-02-23T14:17:50.955Z"
   },
   {
    "duration": 12,
    "start_time": "2022-02-23T14:17:50.998Z"
   },
   {
    "duration": 17,
    "start_time": "2022-02-23T14:17:51.012Z"
   },
   {
    "duration": 21,
    "start_time": "2022-02-23T14:17:51.031Z"
   },
   {
    "duration": 16,
    "start_time": "2022-02-23T14:17:51.055Z"
   },
   {
    "duration": 21,
    "start_time": "2022-02-23T14:17:51.073Z"
   },
   {
    "duration": 18,
    "start_time": "2022-02-23T14:17:51.096Z"
   },
   {
    "duration": 11,
    "start_time": "2022-02-23T14:17:51.116Z"
   },
   {
    "duration": 25,
    "start_time": "2022-02-23T14:17:51.129Z"
   },
   {
    "duration": 9,
    "start_time": "2022-02-23T14:17:51.157Z"
   },
   {
    "duration": 20,
    "start_time": "2022-02-23T14:17:51.193Z"
   },
   {
    "duration": 12,
    "start_time": "2022-02-23T14:17:51.215Z"
   },
   {
    "duration": 20,
    "start_time": "2022-02-23T14:17:51.229Z"
   },
   {
    "duration": 51,
    "start_time": "2022-02-23T14:17:51.252Z"
   },
   {
    "duration": 27,
    "start_time": "2022-02-23T14:17:51.305Z"
   },
   {
    "duration": 9,
    "start_time": "2022-02-23T14:17:51.335Z"
   },
   {
    "duration": 47,
    "start_time": "2022-02-23T14:17:51.347Z"
   },
   {
    "duration": 12,
    "start_time": "2022-02-23T14:17:51.396Z"
   },
   {
    "duration": 20,
    "start_time": "2022-02-23T14:17:51.410Z"
   },
   {
    "duration": 9,
    "start_time": "2022-02-23T14:17:51.432Z"
   },
   {
    "duration": 452,
    "start_time": "2022-02-23T14:17:56.872Z"
   },
   {
    "duration": 615,
    "start_time": "2022-03-06T07:04:00.534Z"
   },
   {
    "duration": 54,
    "start_time": "2022-03-06T07:04:01.151Z"
   },
   {
    "duration": 12,
    "start_time": "2022-03-06T07:04:01.207Z"
   },
   {
    "duration": 16,
    "start_time": "2022-03-06T07:04:01.221Z"
   },
   {
    "duration": 20,
    "start_time": "2022-03-06T07:04:01.239Z"
   },
   {
    "duration": 7,
    "start_time": "2022-03-06T07:04:01.261Z"
   },
   {
    "duration": 502,
    "start_time": "2022-03-06T07:04:01.270Z"
   },
   {
    "duration": 6,
    "start_time": "2022-03-06T07:04:01.774Z"
   },
   {
    "duration": 15,
    "start_time": "2022-03-06T07:04:01.782Z"
   },
   {
    "duration": 5,
    "start_time": "2022-03-06T07:04:01.799Z"
   },
   {
    "duration": 8,
    "start_time": "2022-03-06T07:04:01.806Z"
   },
   {
    "duration": 24,
    "start_time": "2022-03-06T07:04:01.816Z"
   },
   {
    "duration": 31,
    "start_time": "2022-03-06T07:04:01.842Z"
   },
   {
    "duration": 22,
    "start_time": "2022-03-06T07:04:01.875Z"
   },
   {
    "duration": 13,
    "start_time": "2022-03-06T07:04:01.898Z"
   },
   {
    "duration": 16,
    "start_time": "2022-03-06T07:04:01.913Z"
   },
   {
    "duration": 14,
    "start_time": "2022-03-06T07:04:01.931Z"
   },
   {
    "duration": 5,
    "start_time": "2022-03-06T07:04:01.947Z"
   },
   {
    "duration": 6,
    "start_time": "2022-03-06T07:04:01.953Z"
   },
   {
    "duration": 6,
    "start_time": "2022-03-06T07:04:01.961Z"
   },
   {
    "duration": 14,
    "start_time": "2022-03-06T07:04:01.968Z"
   },
   {
    "duration": 13,
    "start_time": "2022-03-06T07:04:01.983Z"
   },
   {
    "duration": 16,
    "start_time": "2022-03-06T07:04:01.999Z"
   },
   {
    "duration": 13,
    "start_time": "2022-03-06T07:04:02.017Z"
   },
   {
    "duration": 33,
    "start_time": "2022-03-06T07:04:02.031Z"
   },
   {
    "duration": 14,
    "start_time": "2022-03-06T07:04:02.066Z"
   },
   {
    "duration": 11,
    "start_time": "2022-03-06T07:04:02.081Z"
   },
   {
    "duration": 10,
    "start_time": "2022-03-06T07:04:02.094Z"
   },
   {
    "duration": 9,
    "start_time": "2022-03-06T07:04:02.106Z"
   },
   {
    "duration": 7,
    "start_time": "2022-03-06T07:04:02.116Z"
   },
   {
    "duration": 36,
    "start_time": "2022-03-06T07:04:02.124Z"
   },
   {
    "duration": 10,
    "start_time": "2022-03-06T07:04:02.162Z"
   },
   {
    "duration": 24,
    "start_time": "2022-03-06T07:04:02.174Z"
   },
   {
    "duration": 14,
    "start_time": "2022-03-06T07:04:02.199Z"
   },
   {
    "duration": 6,
    "start_time": "2022-03-06T07:04:02.214Z"
   },
   {
    "duration": 7,
    "start_time": "2022-03-06T07:04:02.221Z"
   },
   {
    "duration": 6,
    "start_time": "2022-03-06T07:04:02.260Z"
   },
   {
    "duration": 7,
    "start_time": "2022-03-06T07:04:02.267Z"
   },
   {
    "duration": 15,
    "start_time": "2022-03-06T07:04:02.275Z"
   },
   {
    "duration": 7,
    "start_time": "2022-03-06T07:04:02.291Z"
   },
   {
    "duration": 4,
    "start_time": "2022-03-06T07:04:02.300Z"
   },
   {
    "duration": 12,
    "start_time": "2022-03-06T07:04:02.305Z"
   },
   {
    "duration": 8,
    "start_time": "2022-03-06T07:04:02.318Z"
   },
   {
    "duration": 39,
    "start_time": "2022-03-06T07:04:02.328Z"
   },
   {
    "duration": 7,
    "start_time": "2022-03-06T07:04:02.368Z"
   },
   {
    "duration": 15,
    "start_time": "2022-03-06T07:04:02.377Z"
   },
   {
    "duration": 9,
    "start_time": "2022-03-06T07:04:02.393Z"
   },
   {
    "duration": 13,
    "start_time": "2022-03-06T07:04:02.403Z"
   },
   {
    "duration": 14,
    "start_time": "2022-03-06T07:04:02.418Z"
   },
   {
    "duration": 16,
    "start_time": "2022-03-06T07:04:02.459Z"
   },
   {
    "duration": 7,
    "start_time": "2022-03-06T07:04:02.476Z"
   },
   {
    "duration": 15,
    "start_time": "2022-03-06T07:04:02.485Z"
   },
   {
    "duration": 7,
    "start_time": "2022-03-06T07:04:02.501Z"
   },
   {
    "duration": 12,
    "start_time": "2022-03-06T07:04:02.509Z"
   },
   {
    "duration": 40,
    "start_time": "2022-03-06T07:04:02.523Z"
   },
   {
    "duration": 605,
    "start_time": "2022-03-06T07:04:19.847Z"
   },
   {
    "duration": 48,
    "start_time": "2022-03-06T07:04:20.454Z"
   },
   {
    "duration": 11,
    "start_time": "2022-03-06T07:04:20.504Z"
   },
   {
    "duration": 15,
    "start_time": "2022-03-06T07:04:20.517Z"
   },
   {
    "duration": 3,
    "start_time": "2022-03-06T07:04:20.533Z"
   },
   {
    "duration": 26,
    "start_time": "2022-03-06T07:04:20.538Z"
   },
   {
    "duration": 508,
    "start_time": "2022-03-06T07:04:20.566Z"
   },
   {
    "duration": 7,
    "start_time": "2022-03-06T07:04:21.076Z"
   },
   {
    "duration": 5,
    "start_time": "2022-03-06T07:04:21.085Z"
   },
   {
    "duration": 3,
    "start_time": "2022-03-06T07:04:21.093Z"
   },
   {
    "duration": 7,
    "start_time": "2022-03-06T07:04:21.098Z"
   },
   {
    "duration": 4,
    "start_time": "2022-03-06T07:04:21.106Z"
   },
   {
    "duration": 10,
    "start_time": "2022-03-06T07:04:21.111Z"
   },
   {
    "duration": 48,
    "start_time": "2022-03-06T07:04:21.123Z"
   },
   {
    "duration": 6,
    "start_time": "2022-03-06T07:04:21.172Z"
   },
   {
    "duration": 14,
    "start_time": "2022-03-06T07:04:21.179Z"
   },
   {
    "duration": 12,
    "start_time": "2022-03-06T07:04:21.195Z"
   },
   {
    "duration": 6,
    "start_time": "2022-03-06T07:04:21.208Z"
   },
   {
    "duration": 5,
    "start_time": "2022-03-06T07:04:21.216Z"
   },
   {
    "duration": 39,
    "start_time": "2022-03-06T07:04:21.222Z"
   },
   {
    "duration": 15,
    "start_time": "2022-03-06T07:04:21.263Z"
   },
   {
    "duration": 13,
    "start_time": "2022-03-06T07:04:21.279Z"
   },
   {
    "duration": 15,
    "start_time": "2022-03-06T07:04:21.293Z"
   },
   {
    "duration": 13,
    "start_time": "2022-03-06T07:04:21.310Z"
   },
   {
    "duration": 38,
    "start_time": "2022-03-06T07:04:21.325Z"
   },
   {
    "duration": 15,
    "start_time": "2022-03-06T07:04:21.365Z"
   },
   {
    "duration": 9,
    "start_time": "2022-03-06T07:04:21.384Z"
   },
   {
    "duration": 10,
    "start_time": "2022-03-06T07:04:21.396Z"
   },
   {
    "duration": 10,
    "start_time": "2022-03-06T07:04:21.408Z"
   },
   {
    "duration": 43,
    "start_time": "2022-03-06T07:04:21.419Z"
   },
   {
    "duration": 10,
    "start_time": "2022-03-06T07:04:21.464Z"
   },
   {
    "duration": 9,
    "start_time": "2022-03-06T07:04:21.476Z"
   },
   {
    "duration": 20,
    "start_time": "2022-03-06T07:04:21.486Z"
   },
   {
    "duration": 14,
    "start_time": "2022-03-06T07:04:21.508Z"
   },
   {
    "duration": 37,
    "start_time": "2022-03-06T07:04:21.524Z"
   },
   {
    "duration": 7,
    "start_time": "2022-03-06T07:04:21.563Z"
   },
   {
    "duration": 6,
    "start_time": "2022-03-06T07:04:21.572Z"
   },
   {
    "duration": 5,
    "start_time": "2022-03-06T07:04:21.579Z"
   },
   {
    "duration": 12,
    "start_time": "2022-03-06T07:04:21.586Z"
   },
   {
    "duration": 10,
    "start_time": "2022-03-06T07:04:21.600Z"
   },
   {
    "duration": 13,
    "start_time": "2022-03-06T07:04:21.612Z"
   },
   {
    "duration": 37,
    "start_time": "2022-03-06T07:04:21.626Z"
   },
   {
    "duration": 9,
    "start_time": "2022-03-06T07:04:21.665Z"
   },
   {
    "duration": 14,
    "start_time": "2022-03-06T07:04:21.676Z"
   },
   {
    "duration": 7,
    "start_time": "2022-03-06T07:04:21.692Z"
   },
   {
    "duration": 15,
    "start_time": "2022-03-06T07:04:21.701Z"
   },
   {
    "duration": 42,
    "start_time": "2022-03-06T07:04:21.718Z"
   },
   {
    "duration": 15,
    "start_time": "2022-03-06T07:04:21.762Z"
   },
   {
    "duration": 13,
    "start_time": "2022-03-06T07:04:21.778Z"
   },
   {
    "duration": 17,
    "start_time": "2022-03-06T07:04:21.794Z"
   },
   {
    "duration": 8,
    "start_time": "2022-03-06T07:04:21.812Z"
   },
   {
    "duration": 49,
    "start_time": "2022-03-06T07:04:21.822Z"
   },
   {
    "duration": 8,
    "start_time": "2022-03-06T07:04:21.873Z"
   },
   {
    "duration": 14,
    "start_time": "2022-03-06T07:04:21.883Z"
   },
   {
    "duration": 9,
    "start_time": "2022-03-06T07:04:21.898Z"
   },
   {
    "duration": 2,
    "start_time": "2022-03-06T07:10:26.986Z"
   },
   {
    "duration": 16,
    "start_time": "2022-03-06T07:18:40.999Z"
   },
   {
    "duration": 594,
    "start_time": "2022-03-06T07:18:48.555Z"
   },
   {
    "duration": 46,
    "start_time": "2022-03-06T07:18:49.151Z"
   },
   {
    "duration": 12,
    "start_time": "2022-03-06T07:18:49.199Z"
   },
   {
    "duration": 14,
    "start_time": "2022-03-06T07:18:49.213Z"
   },
   {
    "duration": 3,
    "start_time": "2022-03-06T07:18:49.229Z"
   },
   {
    "duration": 27,
    "start_time": "2022-03-06T07:18:49.233Z"
   },
   {
    "duration": 466,
    "start_time": "2022-03-06T07:18:49.261Z"
   },
   {
    "duration": 6,
    "start_time": "2022-03-06T07:18:49.729Z"
   },
   {
    "duration": 5,
    "start_time": "2022-03-06T07:18:49.738Z"
   },
   {
    "duration": 16,
    "start_time": "2022-03-06T07:18:49.744Z"
   },
   {
    "duration": 5,
    "start_time": "2022-03-06T07:18:49.761Z"
   },
   {
    "duration": 5,
    "start_time": "2022-03-06T07:18:49.767Z"
   },
   {
    "duration": 3,
    "start_time": "2022-03-06T07:18:49.774Z"
   },
   {
    "duration": 12,
    "start_time": "2022-03-06T07:18:49.778Z"
   },
   {
    "duration": 13,
    "start_time": "2022-03-06T07:18:49.791Z"
   },
   {
    "duration": 7,
    "start_time": "2022-03-06T07:18:49.806Z"
   },
   {
    "duration": 49,
    "start_time": "2022-03-06T07:18:49.815Z"
   },
   {
    "duration": 11,
    "start_time": "2022-03-06T07:18:49.866Z"
   },
   {
    "duration": 5,
    "start_time": "2022-03-06T07:18:49.878Z"
   },
   {
    "duration": 4,
    "start_time": "2022-03-06T07:18:49.885Z"
   },
   {
    "duration": 20,
    "start_time": "2022-03-06T07:18:49.890Z"
   },
   {
    "duration": 18,
    "start_time": "2022-03-06T07:18:49.911Z"
   },
   {
    "duration": 11,
    "start_time": "2022-03-06T07:18:49.932Z"
   },
   {
    "duration": 24,
    "start_time": "2022-03-06T07:18:49.945Z"
   },
   {
    "duration": 14,
    "start_time": "2022-03-06T07:18:49.970Z"
   },
   {
    "duration": 12,
    "start_time": "2022-03-06T07:18:49.985Z"
   },
   {
    "duration": 7,
    "start_time": "2022-03-06T07:18:49.998Z"
   },
   {
    "duration": 18,
    "start_time": "2022-03-06T07:18:50.006Z"
   },
   {
    "duration": 38,
    "start_time": "2022-03-06T07:18:50.026Z"
   },
   {
    "duration": 11,
    "start_time": "2022-03-06T07:18:50.065Z"
   },
   {
    "duration": 9,
    "start_time": "2022-03-06T07:18:50.077Z"
   },
   {
    "duration": 6,
    "start_time": "2022-03-06T07:18:50.088Z"
   },
   {
    "duration": 7,
    "start_time": "2022-03-06T07:18:50.096Z"
   },
   {
    "duration": 8,
    "start_time": "2022-03-06T07:18:50.105Z"
   },
   {
    "duration": 50,
    "start_time": "2022-03-06T07:18:50.115Z"
   },
   {
    "duration": 13,
    "start_time": "2022-03-06T07:18:50.166Z"
   },
   {
    "duration": 6,
    "start_time": "2022-03-06T07:18:50.181Z"
   },
   {
    "duration": 7,
    "start_time": "2022-03-06T07:18:50.188Z"
   },
   {
    "duration": 7,
    "start_time": "2022-03-06T07:18:50.196Z"
   },
   {
    "duration": 4,
    "start_time": "2022-03-06T07:18:50.204Z"
   },
   {
    "duration": 11,
    "start_time": "2022-03-06T07:18:50.210Z"
   },
   {
    "duration": 38,
    "start_time": "2022-03-06T07:18:50.223Z"
   },
   {
    "duration": 3,
    "start_time": "2022-03-06T07:18:50.263Z"
   },
   {
    "duration": 10,
    "start_time": "2022-03-06T07:18:50.267Z"
   },
   {
    "duration": 8,
    "start_time": "2022-03-06T07:18:50.279Z"
   },
   {
    "duration": 15,
    "start_time": "2022-03-06T07:18:50.288Z"
   },
   {
    "duration": 6,
    "start_time": "2022-03-06T07:18:50.304Z"
   },
   {
    "duration": 18,
    "start_time": "2022-03-06T07:18:50.311Z"
   },
   {
    "duration": 33,
    "start_time": "2022-03-06T07:18:50.330Z"
   },
   {
    "duration": 13,
    "start_time": "2022-03-06T07:18:50.365Z"
   },
   {
    "duration": 11,
    "start_time": "2022-03-06T07:18:50.379Z"
   },
   {
    "duration": 15,
    "start_time": "2022-03-06T07:18:50.391Z"
   },
   {
    "duration": 6,
    "start_time": "2022-03-06T07:18:50.407Z"
   },
   {
    "duration": 13,
    "start_time": "2022-03-06T07:18:50.414Z"
   },
   {
    "duration": 36,
    "start_time": "2022-03-06T07:18:50.428Z"
   },
   {
    "duration": 12,
    "start_time": "2022-03-06T07:18:50.465Z"
   },
   {
    "duration": 6,
    "start_time": "2022-03-06T07:18:50.479Z"
   },
   {
    "duration": 260,
    "start_time": "2022-03-06T07:20:29.805Z"
   },
   {
    "duration": 545,
    "start_time": "2022-03-06T07:21:02.403Z"
   },
   {
    "duration": 45,
    "start_time": "2022-03-06T07:21:02.950Z"
   },
   {
    "duration": 11,
    "start_time": "2022-03-06T07:21:02.997Z"
   },
   {
    "duration": 269,
    "start_time": "2022-03-06T07:21:03.010Z"
   },
   {
    "duration": -139,
    "start_time": "2022-03-06T07:21:03.422Z"
   },
   {
    "duration": -219,
    "start_time": "2022-03-06T07:21:03.503Z"
   },
   {
    "duration": -230,
    "start_time": "2022-03-06T07:21:03.515Z"
   },
   {
    "duration": -234,
    "start_time": "2022-03-06T07:21:03.520Z"
   },
   {
    "duration": -247,
    "start_time": "2022-03-06T07:21:03.533Z"
   },
   {
    "duration": -249,
    "start_time": "2022-03-06T07:21:03.536Z"
   },
   {
    "duration": -264,
    "start_time": "2022-03-06T07:21:03.552Z"
   },
   {
    "duration": -267,
    "start_time": "2022-03-06T07:21:03.556Z"
   },
   {
    "duration": -270,
    "start_time": "2022-03-06T07:21:03.560Z"
   },
   {
    "duration": -271,
    "start_time": "2022-03-06T07:21:03.562Z"
   },
   {
    "duration": -273,
    "start_time": "2022-03-06T07:21:03.565Z"
   },
   {
    "duration": -274,
    "start_time": "2022-03-06T07:21:03.567Z"
   },
   {
    "duration": -276,
    "start_time": "2022-03-06T07:21:03.570Z"
   },
   {
    "duration": -278,
    "start_time": "2022-03-06T07:21:03.572Z"
   },
   {
    "duration": -289,
    "start_time": "2022-03-06T07:21:03.584Z"
   },
   {
    "duration": -291,
    "start_time": "2022-03-06T07:21:03.587Z"
   },
   {
    "duration": -293,
    "start_time": "2022-03-06T07:21:03.590Z"
   },
   {
    "duration": -296,
    "start_time": "2022-03-06T07:21:03.594Z"
   },
   {
    "duration": -298,
    "start_time": "2022-03-06T07:21:03.597Z"
   },
   {
    "duration": -302,
    "start_time": "2022-03-06T07:21:03.602Z"
   },
   {
    "duration": -304,
    "start_time": "2022-03-06T07:21:03.605Z"
   },
   {
    "duration": -309,
    "start_time": "2022-03-06T07:21:03.611Z"
   },
   {
    "duration": -311,
    "start_time": "2022-03-06T07:21:03.614Z"
   },
   {
    "duration": -325,
    "start_time": "2022-03-06T07:21:03.628Z"
   },
   {
    "duration": -327,
    "start_time": "2022-03-06T07:21:03.631Z"
   },
   {
    "duration": -329,
    "start_time": "2022-03-06T07:21:03.634Z"
   },
   {
    "duration": -330,
    "start_time": "2022-03-06T07:21:03.636Z"
   },
   {
    "duration": -333,
    "start_time": "2022-03-06T07:21:03.640Z"
   },
   {
    "duration": -336,
    "start_time": "2022-03-06T07:21:03.644Z"
   },
   {
    "duration": -338,
    "start_time": "2022-03-06T07:21:03.647Z"
   },
   {
    "duration": -341,
    "start_time": "2022-03-06T07:21:03.650Z"
   },
   {
    "duration": -343,
    "start_time": "2022-03-06T07:21:03.653Z"
   },
   {
    "duration": -345,
    "start_time": "2022-03-06T07:21:03.656Z"
   },
   {
    "duration": -348,
    "start_time": "2022-03-06T07:21:03.660Z"
   },
   {
    "duration": -350,
    "start_time": "2022-03-06T07:21:03.663Z"
   },
   {
    "duration": -367,
    "start_time": "2022-03-06T07:21:03.681Z"
   },
   {
    "duration": -369,
    "start_time": "2022-03-06T07:21:03.684Z"
   },
   {
    "duration": -372,
    "start_time": "2022-03-06T07:21:03.688Z"
   },
   {
    "duration": -375,
    "start_time": "2022-03-06T07:21:03.692Z"
   },
   {
    "duration": -337,
    "start_time": "2022-03-06T07:21:03.696Z"
   },
   {
    "duration": -345,
    "start_time": "2022-03-06T07:21:03.705Z"
   },
   {
    "duration": -354,
    "start_time": "2022-03-06T07:21:03.715Z"
   },
   {
    "duration": -356,
    "start_time": "2022-03-06T07:21:03.718Z"
   },
   {
    "duration": -360,
    "start_time": "2022-03-06T07:21:03.722Z"
   },
   {
    "duration": -363,
    "start_time": "2022-03-06T07:21:03.726Z"
   },
   {
    "duration": -366,
    "start_time": "2022-03-06T07:21:03.730Z"
   },
   {
    "duration": -368,
    "start_time": "2022-03-06T07:21:03.733Z"
   },
   {
    "duration": -370,
    "start_time": "2022-03-06T07:21:03.736Z"
   },
   {
    "duration": -372,
    "start_time": "2022-03-06T07:21:03.739Z"
   },
   {
    "duration": -381,
    "start_time": "2022-03-06T07:21:03.749Z"
   },
   {
    "duration": -386,
    "start_time": "2022-03-06T07:21:03.755Z"
   },
   {
    "duration": -389,
    "start_time": "2022-03-06T07:21:03.759Z"
   },
   {
    "duration": -392,
    "start_time": "2022-03-06T07:21:03.763Z"
   },
   {
    "duration": -402,
    "start_time": "2022-03-06T07:21:03.774Z"
   },
   {
    "duration": -407,
    "start_time": "2022-03-06T07:21:03.779Z"
   },
   {
    "duration": -409,
    "start_time": "2022-03-06T07:21:03.782Z"
   },
   {
    "duration": -411,
    "start_time": "2022-03-06T07:21:03.785Z"
   },
   {
    "duration": 21,
    "start_time": "2022-03-06T07:21:10.660Z"
   },
   {
    "duration": 52,
    "start_time": "2022-03-06T07:21:11.644Z"
   },
   {
    "duration": 8,
    "start_time": "2022-03-06T07:21:14.611Z"
   },
   {
    "duration": 11,
    "start_time": "2022-03-06T07:21:17.128Z"
   },
   {
    "duration": 18,
    "start_time": "2022-03-06T07:21:17.368Z"
   },
   {
    "duration": 11,
    "start_time": "2022-03-06T07:21:29.426Z"
   },
   {
    "duration": 552,
    "start_time": "2022-03-06T07:21:44.985Z"
   },
   {
    "duration": 47,
    "start_time": "2022-03-06T07:21:45.539Z"
   },
   {
    "duration": 11,
    "start_time": "2022-03-06T07:21:45.938Z"
   },
   {
    "duration": 21,
    "start_time": "2022-03-06T07:21:46.424Z"
   },
   {
    "duration": 10,
    "start_time": "2022-03-06T07:21:47.884Z"
   },
   {
    "duration": 4,
    "start_time": "2022-03-06T07:21:52.535Z"
   },
   {
    "duration": 6,
    "start_time": "2022-03-06T07:21:54.797Z"
   },
   {
    "duration": 462,
    "start_time": "2022-03-06T07:21:55.483Z"
   },
   {
    "duration": 6,
    "start_time": "2022-03-06T07:21:57.303Z"
   },
   {
    "duration": 2,
    "start_time": "2022-03-06T07:21:58.137Z"
   },
   {
    "duration": 15,
    "start_time": "2022-03-06T07:22:02.270Z"
   },
   {
    "duration": 5,
    "start_time": "2022-03-06T07:22:05.068Z"
   },
   {
    "duration": 4,
    "start_time": "2022-03-06T07:22:05.733Z"
   },
   {
    "duration": 5,
    "start_time": "2022-03-06T07:22:06.981Z"
   },
   {
    "duration": 4,
    "start_time": "2022-03-06T07:22:07.916Z"
   },
   {
    "duration": 10,
    "start_time": "2022-03-06T07:22:08.467Z"
   },
   {
    "duration": 13,
    "start_time": "2022-03-06T07:22:10.062Z"
   },
   {
    "duration": 17,
    "start_time": "2022-03-06T07:22:13.690Z"
   },
   {
    "duration": 6,
    "start_time": "2022-03-06T07:22:18.661Z"
   },
   {
    "duration": 13,
    "start_time": "2022-03-06T07:22:19.541Z"
   },
   {
    "duration": 12,
    "start_time": "2022-03-06T07:22:20.565Z"
   },
   {
    "duration": 6,
    "start_time": "2022-03-06T07:22:20.712Z"
   },
   {
    "duration": 13,
    "start_time": "2022-03-06T07:22:24.218Z"
   },
   {
    "duration": 12,
    "start_time": "2022-03-06T07:22:29.526Z"
   },
   {
    "duration": 558,
    "start_time": "2022-03-06T07:22:37.969Z"
   },
   {
    "duration": 47,
    "start_time": "2022-03-06T07:22:38.529Z"
   },
   {
    "duration": 11,
    "start_time": "2022-03-06T07:22:38.578Z"
   },
   {
    "duration": 20,
    "start_time": "2022-03-06T07:22:38.591Z"
   },
   {
    "duration": 10,
    "start_time": "2022-03-06T07:22:39.168Z"
   },
   {
    "duration": 4,
    "start_time": "2022-03-06T07:22:39.470Z"
   },
   {
    "duration": 6,
    "start_time": "2022-03-06T07:22:39.825Z"
   },
   {
    "duration": 498,
    "start_time": "2022-03-06T07:22:40.064Z"
   },
   {
    "duration": 7,
    "start_time": "2022-03-06T07:22:40.706Z"
   },
   {
    "duration": 2,
    "start_time": "2022-03-06T07:22:41.888Z"
   },
   {
    "duration": 6,
    "start_time": "2022-03-06T07:22:42.303Z"
   },
   {
    "duration": 4,
    "start_time": "2022-03-06T07:22:42.659Z"
   },
   {
    "duration": 6,
    "start_time": "2022-03-06T07:22:43.384Z"
   },
   {
    "duration": 4,
    "start_time": "2022-03-06T07:22:43.610Z"
   },
   {
    "duration": 10,
    "start_time": "2022-03-06T07:22:43.915Z"
   },
   {
    "duration": 14,
    "start_time": "2022-03-06T07:22:44.364Z"
   },
   {
    "duration": 17,
    "start_time": "2022-03-06T07:22:46.390Z"
   },
   {
    "duration": 7,
    "start_time": "2022-03-06T07:22:47.331Z"
   },
   {
    "duration": 6,
    "start_time": "2022-03-06T07:22:59.627Z"
   },
   {
    "duration": 11,
    "start_time": "2022-03-06T07:23:01.859Z"
   },
   {
    "duration": 13,
    "start_time": "2022-03-06T07:23:02.270Z"
   },
   {
    "duration": 11,
    "start_time": "2022-03-06T07:23:03.274Z"
   },
   {
    "duration": 6,
    "start_time": "2022-03-06T07:23:04.323Z"
   },
   {
    "duration": 13,
    "start_time": "2022-03-06T07:23:05.405Z"
   },
   {
    "duration": 566,
    "start_time": "2022-03-06T07:23:12.030Z"
   },
   {
    "duration": 48,
    "start_time": "2022-03-06T07:23:12.598Z"
   },
   {
    "duration": 18,
    "start_time": "2022-03-06T07:23:12.648Z"
   },
   {
    "duration": 21,
    "start_time": "2022-03-06T07:23:12.668Z"
   },
   {
    "duration": 11,
    "start_time": "2022-03-06T07:23:13.102Z"
   },
   {
    "duration": 4,
    "start_time": "2022-03-06T07:23:13.543Z"
   },
   {
    "duration": 7,
    "start_time": "2022-03-06T07:23:13.697Z"
   },
   {
    "duration": 452,
    "start_time": "2022-03-06T07:23:13.853Z"
   },
   {
    "duration": 7,
    "start_time": "2022-03-06T07:23:14.307Z"
   },
   {
    "duration": 3,
    "start_time": "2022-03-06T07:23:14.489Z"
   },
   {
    "duration": 5,
    "start_time": "2022-03-06T07:23:14.783Z"
   },
   {
    "duration": 4,
    "start_time": "2022-03-06T07:23:15.080Z"
   },
   {
    "duration": 6,
    "start_time": "2022-03-06T07:23:15.375Z"
   },
   {
    "duration": 4,
    "start_time": "2022-03-06T07:23:15.547Z"
   },
   {
    "duration": 10,
    "start_time": "2022-03-06T07:23:15.713Z"
   },
   {
    "duration": 14,
    "start_time": "2022-03-06T07:23:15.943Z"
   },
   {
    "duration": 18,
    "start_time": "2022-03-06T07:23:17.186Z"
   },
   {
    "duration": 6,
    "start_time": "2022-03-06T07:23:17.571Z"
   },
   {
    "duration": 12,
    "start_time": "2022-03-06T07:23:18.002Z"
   },
   {
    "duration": 15,
    "start_time": "2022-03-06T07:23:18.686Z"
   },
   {
    "duration": 12,
    "start_time": "2022-03-06T07:23:19.082Z"
   },
   {
    "duration": 6,
    "start_time": "2022-03-06T07:23:19.331Z"
   },
   {
    "duration": 14,
    "start_time": "2022-03-06T07:23:20.226Z"
   },
   {
    "duration": 576,
    "start_time": "2022-03-06T07:24:48.377Z"
   },
   {
    "duration": 46,
    "start_time": "2022-03-06T07:24:48.955Z"
   },
   {
    "duration": 10,
    "start_time": "2022-03-06T07:24:49.003Z"
   },
   {
    "duration": 14,
    "start_time": "2022-03-06T07:24:49.015Z"
   },
   {
    "duration": 3,
    "start_time": "2022-03-06T07:24:49.031Z"
   },
   {
    "duration": 27,
    "start_time": "2022-03-06T07:24:49.035Z"
   },
   {
    "duration": 501,
    "start_time": "2022-03-06T07:24:49.063Z"
   },
   {
    "duration": 6,
    "start_time": "2022-03-06T07:24:49.566Z"
   },
   {
    "duration": 7,
    "start_time": "2022-03-06T07:24:49.573Z"
   },
   {
    "duration": 6,
    "start_time": "2022-03-06T07:24:49.581Z"
   },
   {
    "duration": 3,
    "start_time": "2022-03-06T07:24:49.588Z"
   },
   {
    "duration": 5,
    "start_time": "2022-03-06T07:24:49.593Z"
   },
   {
    "duration": 3,
    "start_time": "2022-03-06T07:24:49.599Z"
   },
   {
    "duration": 10,
    "start_time": "2022-03-06T07:24:49.604Z"
   },
   {
    "duration": 45,
    "start_time": "2022-03-06T07:24:49.615Z"
   },
   {
    "duration": 6,
    "start_time": "2022-03-06T07:24:49.662Z"
   },
   {
    "duration": 11,
    "start_time": "2022-03-06T07:24:49.670Z"
   },
   {
    "duration": 11,
    "start_time": "2022-03-06T07:24:49.683Z"
   },
   {
    "duration": 5,
    "start_time": "2022-03-06T07:24:49.696Z"
   },
   {
    "duration": 4,
    "start_time": "2022-03-06T07:24:49.703Z"
   },
   {
    "duration": 4,
    "start_time": "2022-03-06T07:24:49.708Z"
   },
   {
    "duration": 53,
    "start_time": "2022-03-06T07:24:49.714Z"
   },
   {
    "duration": 12,
    "start_time": "2022-03-06T07:24:49.771Z"
   },
   {
    "duration": 14,
    "start_time": "2022-03-06T07:24:49.785Z"
   },
   {
    "duration": 12,
    "start_time": "2022-03-06T07:24:49.801Z"
   },
   {
    "duration": 7,
    "start_time": "2022-03-06T07:24:49.814Z"
   },
   {
    "duration": 42,
    "start_time": "2022-03-06T07:24:49.822Z"
   },
   {
    "duration": 10,
    "start_time": "2022-03-06T07:24:49.866Z"
   },
   {
    "duration": 10,
    "start_time": "2022-03-06T07:24:49.877Z"
   },
   {
    "duration": 8,
    "start_time": "2022-03-06T07:24:49.889Z"
   },
   {
    "duration": 6,
    "start_time": "2022-03-06T07:24:49.899Z"
   },
   {
    "duration": 7,
    "start_time": "2022-03-06T07:24:49.907Z"
   },
   {
    "duration": 9,
    "start_time": "2022-03-06T07:24:49.915Z"
   },
   {
    "duration": 50,
    "start_time": "2022-03-06T07:24:49.926Z"
   },
   {
    "duration": 14,
    "start_time": "2022-03-06T07:24:49.978Z"
   },
   {
    "duration": 6,
    "start_time": "2022-03-06T07:24:49.994Z"
   },
   {
    "duration": 8,
    "start_time": "2022-03-06T07:24:50.002Z"
   },
   {
    "duration": 7,
    "start_time": "2022-03-06T07:24:50.012Z"
   },
   {
    "duration": 6,
    "start_time": "2022-03-06T07:24:50.020Z"
   },
   {
    "duration": 40,
    "start_time": "2022-03-06T07:24:50.027Z"
   },
   {
    "duration": 9,
    "start_time": "2022-03-06T07:24:50.068Z"
   },
   {
    "duration": 4,
    "start_time": "2022-03-06T07:24:50.078Z"
   },
   {
    "duration": 10,
    "start_time": "2022-03-06T07:24:50.083Z"
   },
   {
    "duration": 8,
    "start_time": "2022-03-06T07:24:50.095Z"
   },
   {
    "duration": 15,
    "start_time": "2022-03-06T07:24:50.105Z"
   },
   {
    "duration": 7,
    "start_time": "2022-03-06T07:24:50.121Z"
   },
   {
    "duration": 44,
    "start_time": "2022-03-06T07:24:50.129Z"
   },
   {
    "duration": 9,
    "start_time": "2022-03-06T07:24:50.174Z"
   },
   {
    "duration": 16,
    "start_time": "2022-03-06T07:24:50.184Z"
   },
   {
    "duration": 12,
    "start_time": "2022-03-06T07:24:50.201Z"
   },
   {
    "duration": 48,
    "start_time": "2022-03-06T07:24:50.215Z"
   },
   {
    "duration": 7,
    "start_time": "2022-03-06T07:24:50.264Z"
   },
   {
    "duration": 12,
    "start_time": "2022-03-06T07:24:50.273Z"
   },
   {
    "duration": 6,
    "start_time": "2022-03-06T07:24:50.287Z"
   },
   {
    "duration": 13,
    "start_time": "2022-03-06T07:24:50.294Z"
   },
   {
    "duration": 6,
    "start_time": "2022-03-06T07:24:50.308Z"
   },
   {
    "duration": 592,
    "start_time": "2022-03-06T07:38:41.358Z"
   },
   {
    "duration": 48,
    "start_time": "2022-03-06T07:38:41.952Z"
   },
   {
    "duration": 11,
    "start_time": "2022-03-06T07:38:42.002Z"
   },
   {
    "duration": 14,
    "start_time": "2022-03-06T07:38:42.015Z"
   },
   {
    "duration": 3,
    "start_time": "2022-03-06T07:38:42.031Z"
   },
   {
    "duration": 6,
    "start_time": "2022-03-06T07:38:42.060Z"
   },
   {
    "duration": 495,
    "start_time": "2022-03-06T07:38:42.068Z"
   },
   {
    "duration": 6,
    "start_time": "2022-03-06T07:38:42.565Z"
   },
   {
    "duration": 3,
    "start_time": "2022-03-06T07:38:42.573Z"
   },
   {
    "duration": 6,
    "start_time": "2022-03-06T07:38:42.578Z"
   },
   {
    "duration": 4,
    "start_time": "2022-03-06T07:38:42.586Z"
   },
   {
    "duration": 8,
    "start_time": "2022-03-06T07:38:42.591Z"
   },
   {
    "duration": 3,
    "start_time": "2022-03-06T07:38:42.601Z"
   },
   {
    "duration": 10,
    "start_time": "2022-03-06T07:38:42.605Z"
   },
   {
    "duration": 43,
    "start_time": "2022-03-06T07:38:42.617Z"
   },
   {
    "duration": 6,
    "start_time": "2022-03-06T07:38:42.662Z"
   },
   {
    "duration": 14,
    "start_time": "2022-03-06T07:38:42.670Z"
   },
   {
    "duration": 13,
    "start_time": "2022-03-06T07:38:42.686Z"
   },
   {
    "duration": 6,
    "start_time": "2022-03-06T07:38:42.700Z"
   },
   {
    "duration": 5,
    "start_time": "2022-03-06T07:38:42.707Z"
   },
   {
    "duration": 6,
    "start_time": "2022-03-06T07:38:42.714Z"
   },
   {
    "duration": 43,
    "start_time": "2022-03-06T07:38:42.722Z"
   },
   {
    "duration": 14,
    "start_time": "2022-03-06T07:38:42.768Z"
   },
   {
    "duration": 14,
    "start_time": "2022-03-06T07:38:42.784Z"
   },
   {
    "duration": 12,
    "start_time": "2022-03-06T07:38:42.800Z"
   },
   {
    "duration": 7,
    "start_time": "2022-03-06T07:38:42.813Z"
   },
   {
    "duration": 46,
    "start_time": "2022-03-06T07:38:42.822Z"
   },
   {
    "duration": 10,
    "start_time": "2022-03-06T07:38:42.870Z"
   },
   {
    "duration": 10,
    "start_time": "2022-03-06T07:38:42.882Z"
   },
   {
    "duration": 9,
    "start_time": "2022-03-06T07:38:42.894Z"
   },
   {
    "duration": 7,
    "start_time": "2022-03-06T07:38:42.904Z"
   },
   {
    "duration": 7,
    "start_time": "2022-03-06T07:38:42.913Z"
   },
   {
    "duration": 43,
    "start_time": "2022-03-06T07:38:42.922Z"
   },
   {
    "duration": 19,
    "start_time": "2022-03-06T07:38:42.967Z"
   },
   {
    "duration": 14,
    "start_time": "2022-03-06T07:38:42.988Z"
   },
   {
    "duration": 6,
    "start_time": "2022-03-06T07:38:43.003Z"
   },
   {
    "duration": 10,
    "start_time": "2022-03-06T07:38:43.011Z"
   },
   {
    "duration": 13,
    "start_time": "2022-03-06T07:38:43.023Z"
   },
   {
    "duration": 3,
    "start_time": "2022-03-06T07:38:43.059Z"
   },
   {
    "duration": 12,
    "start_time": "2022-03-06T07:38:43.064Z"
   },
   {
    "duration": 8,
    "start_time": "2022-03-06T07:38:43.078Z"
   },
   {
    "duration": 5,
    "start_time": "2022-03-06T07:38:43.088Z"
   },
   {
    "duration": 10,
    "start_time": "2022-03-06T07:38:43.095Z"
   },
   {
    "duration": 8,
    "start_time": "2022-03-06T07:38:43.106Z"
   },
   {
    "duration": 14,
    "start_time": "2022-03-06T07:38:43.116Z"
   },
   {
    "duration": 28,
    "start_time": "2022-03-06T07:38:43.132Z"
   },
   {
    "duration": 15,
    "start_time": "2022-03-06T07:38:43.162Z"
   },
   {
    "duration": 9,
    "start_time": "2022-03-06T07:38:43.178Z"
   },
   {
    "duration": 14,
    "start_time": "2022-03-06T07:38:43.189Z"
   },
   {
    "duration": 11,
    "start_time": "2022-03-06T07:38:43.204Z"
   },
   {
    "duration": 49,
    "start_time": "2022-03-06T07:38:43.216Z"
   },
   {
    "duration": 6,
    "start_time": "2022-03-06T07:38:43.266Z"
   },
   {
    "duration": 11,
    "start_time": "2022-03-06T07:38:43.274Z"
   },
   {
    "duration": 7,
    "start_time": "2022-03-06T07:38:43.287Z"
   },
   {
    "duration": 12,
    "start_time": "2022-03-06T07:38:43.295Z"
   },
   {
    "duration": 6,
    "start_time": "2022-03-06T07:38:43.309Z"
   },
   {
    "duration": 533,
    "start_time": "2022-03-07T11:49:29.133Z"
   },
   {
    "duration": 47,
    "start_time": "2022-03-07T11:49:30.145Z"
   },
   {
    "duration": 10,
    "start_time": "2022-03-07T11:49:30.644Z"
   },
   {
    "duration": 13,
    "start_time": "2022-03-07T11:49:35.556Z"
   },
   {
    "duration": 4,
    "start_time": "2022-03-07T11:49:38.932Z"
   },
   {
    "duration": 10,
    "start_time": "2022-03-07T11:49:39.343Z"
   },
   {
    "duration": 3,
    "start_time": "2022-03-07T11:50:16.489Z"
   },
   {
    "duration": 44,
    "start_time": "2022-03-07T11:50:17.182Z"
   },
   {
    "duration": 9,
    "start_time": "2022-03-07T11:50:18.150Z"
   },
   {
    "duration": 9,
    "start_time": "2022-03-07T11:50:22.078Z"
   },
   {
    "duration": 3,
    "start_time": "2022-03-07T11:50:23.912Z"
   },
   {
    "duration": 6,
    "start_time": "2022-03-07T11:50:24.626Z"
   },
   {
    "duration": 409,
    "start_time": "2022-03-07T11:50:25.554Z"
   },
   {
    "duration": -373,
    "start_time": "2022-03-07T11:52:11.808Z"
   },
   {
    "duration": 2,
    "start_time": "2022-03-07T11:52:26.145Z"
   },
   {
    "duration": 56,
    "start_time": "2022-03-07T11:52:27.086Z"
   },
   {
    "duration": 10,
    "start_time": "2022-03-07T11:52:27.663Z"
   },
   {
    "duration": 9,
    "start_time": "2022-03-07T11:52:32.376Z"
   },
   {
    "duration": 4,
    "start_time": "2022-03-07T11:52:35.325Z"
   },
   {
    "duration": 7073,
    "start_time": "2022-03-07T11:52:36.148Z"
   },
   {
    "duration": 6,
    "start_time": "2022-03-07T11:52:54.983Z"
   },
   {
    "duration": 382,
    "start_time": "2022-03-07T11:52:57.387Z"
   },
   {
    "duration": -373,
    "start_time": "2022-03-07T11:53:07.210Z"
   },
   {
    "duration": 5,
    "start_time": "2022-03-07T11:53:08.692Z"
   },
   {
    "duration": 2,
    "start_time": "2022-03-07T11:53:16.648Z"
   },
   {
    "duration": 4,
    "start_time": "2022-03-07T11:53:20.948Z"
   },
   {
    "duration": 3,
    "start_time": "2022-03-07T11:53:21.544Z"
   },
   {
    "duration": 5,
    "start_time": "2022-03-07T11:53:21.906Z"
   },
   {
    "duration": 4,
    "start_time": "2022-03-07T11:53:22.615Z"
   },
   {
    "duration": 8,
    "start_time": "2022-03-07T11:53:24.148Z"
   },
   {
    "duration": 11,
    "start_time": "2022-03-07T11:53:24.983Z"
   },
   {
    "duration": 4,
    "start_time": "2022-03-07T11:53:34.498Z"
   },
   {
    "duration": 10,
    "start_time": "2022-03-07T11:53:35.066Z"
   },
   {
    "duration": 10,
    "start_time": "2022-03-07T11:53:35.459Z"
   },
   {
    "duration": 5,
    "start_time": "2022-03-07T11:53:35.876Z"
   },
   {
    "duration": 3,
    "start_time": "2022-03-07T11:53:40.865Z"
   },
   {
    "duration": 5,
    "start_time": "2022-03-07T11:53:40.870Z"
   },
   {
    "duration": 9,
    "start_time": "2022-03-07T11:53:41.689Z"
   },
   {
    "duration": 11,
    "start_time": "2022-03-07T11:53:47.398Z"
   },
   {
    "duration": 16,
    "start_time": "2022-03-07T11:53:48.127Z"
   },
   {
    "duration": 11,
    "start_time": "2022-03-07T11:53:48.718Z"
   },
   {
    "duration": 7,
    "start_time": "2022-03-07T11:58:03.684Z"
   },
   {
    "duration": 7,
    "start_time": "2022-03-07T11:58:09.279Z"
   },
   {
    "duration": 7,
    "start_time": "2022-03-07T11:58:19.386Z"
   },
   {
    "duration": 11,
    "start_time": "2022-03-07T11:58:25.294Z"
   },
   {
    "duration": 7,
    "start_time": "2022-03-07T11:58:26.916Z"
   },
   {
    "duration": 12,
    "start_time": "2022-03-07T11:58:31.586Z"
   },
   {
    "duration": 17,
    "start_time": "2022-03-07T11:58:40.563Z"
   },
   {
    "duration": 13,
    "start_time": "2022-03-07T11:58:42.395Z"
   },
   {
    "duration": 13,
    "start_time": "2022-03-07T11:58:43.004Z"
   },
   {
    "duration": 9,
    "start_time": "2022-03-07T11:58:45.417Z"
   },
   {
    "duration": 10,
    "start_time": "2022-03-07T11:58:47.825Z"
   },
   {
    "duration": 8,
    "start_time": "2022-03-07T11:58:48.247Z"
   },
   {
    "duration": 7,
    "start_time": "2022-03-07T11:59:27.221Z"
   },
   {
    "duration": 15,
    "start_time": "2022-03-07T11:59:28.687Z"
   },
   {
    "duration": 16,
    "start_time": "2022-03-07T11:59:29.561Z"
   },
   {
    "duration": 15,
    "start_time": "2022-03-07T11:59:29.937Z"
   },
   {
    "duration": 9,
    "start_time": "2022-03-07T11:59:30.517Z"
   },
   {
    "duration": 10,
    "start_time": "2022-03-07T11:59:32.458Z"
   },
   {
    "duration": 10,
    "start_time": "2022-03-07T11:59:32.871Z"
   },
   {
    "duration": 10,
    "start_time": "2022-03-07T12:01:57.368Z"
   },
   {
    "duration": 9,
    "start_time": "2022-03-07T12:01:57.835Z"
   },
   {
    "duration": 6,
    "start_time": "2022-03-07T12:01:59.335Z"
   },
   {
    "duration": 6,
    "start_time": "2022-03-07T12:06:29.153Z"
   },
   {
    "duration": 6,
    "start_time": "2022-03-07T12:06:30.709Z"
   },
   {
    "duration": 16,
    "start_time": "2022-03-07T12:06:35.716Z"
   },
   {
    "duration": 10,
    "start_time": "2022-03-07T12:06:41.559Z"
   },
   {
    "duration": 5,
    "start_time": "2022-03-07T12:06:41.965Z"
   },
   {
    "duration": 5,
    "start_time": "2022-03-07T12:06:43.285Z"
   },
   {
    "duration": 4,
    "start_time": "2022-03-07T12:06:43.798Z"
   },
   {
    "duration": 3,
    "start_time": "2022-03-07T12:06:45.849Z"
   },
   {
    "duration": 10,
    "start_time": "2022-03-07T12:06:46.215Z"
   },
   {
    "duration": 6,
    "start_time": "2022-03-07T12:06:46.669Z"
   },
   {
    "duration": 3,
    "start_time": "2022-03-07T12:06:49.670Z"
   },
   {
    "duration": 8,
    "start_time": "2022-03-07T12:06:50.009Z"
   },
   {
    "duration": 7,
    "start_time": "2022-03-07T12:06:50.309Z"
   },
   {
    "duration": 16,
    "start_time": "2022-03-07T12:06:52.680Z"
   },
   {
    "duration": 6,
    "start_time": "2022-03-07T12:06:53.045Z"
   },
   {
    "duration": 12,
    "start_time": "2022-03-07T12:06:58.771Z"
   },
   {
    "duration": 7,
    "start_time": "2022-03-07T12:06:59.338Z"
   },
   {
    "duration": 7165,
    "start_time": "2022-03-07T12:09:19.124Z"
   },
   {
    "duration": -343,
    "start_time": "2022-03-07T12:09:26.634Z"
   },
   {
    "duration": 7217,
    "start_time": "2022-03-07T12:12:12.066Z"
   },
   {
    "duration": 11,
    "start_time": "2022-03-07T12:12:26.172Z"
   },
   {
    "duration": 5,
    "start_time": "2022-03-07T12:12:29.867Z"
   },
   {
    "duration": 23,
    "start_time": "2022-03-07T12:13:45.620Z"
   },
   {
    "duration": 7223,
    "start_time": "2022-03-07T12:14:40.607Z"
   },
   {
    "duration": 301,
    "start_time": "2022-03-07T12:15:02.450Z"
   },
   {
    "duration": 24,
    "start_time": "2022-03-07T12:15:25.748Z"
   },
   {
    "duration": 25,
    "start_time": "2022-03-07T12:15:35.364Z"
   },
   {
    "duration": 23,
    "start_time": "2022-03-07T12:17:59.145Z"
   },
   {
    "duration": 555,
    "start_time": "2022-03-07T12:23:08.339Z"
   },
   {
    "duration": 49,
    "start_time": "2022-03-07T12:23:08.896Z"
   },
   {
    "duration": 11,
    "start_time": "2022-03-07T12:23:08.946Z"
   },
   {
    "duration": 14,
    "start_time": "2022-03-07T12:23:08.959Z"
   },
   {
    "duration": 3,
    "start_time": "2022-03-07T12:23:08.975Z"
   },
   {
    "duration": 27,
    "start_time": "2022-03-07T12:23:08.980Z"
   },
   {
    "duration": 423,
    "start_time": "2022-03-07T12:23:09.008Z"
   },
   {
    "duration": 6,
    "start_time": "2022-03-07T12:23:09.433Z"
   },
   {
    "duration": 2,
    "start_time": "2022-03-07T12:23:09.442Z"
   },
   {
    "duration": 6,
    "start_time": "2022-03-07T12:23:09.446Z"
   },
   {
    "duration": 4,
    "start_time": "2022-03-07T12:23:09.453Z"
   },
   {
    "duration": 7,
    "start_time": "2022-03-07T12:23:09.458Z"
   },
   {
    "duration": 4,
    "start_time": "2022-03-07T12:23:09.466Z"
   },
   {
    "duration": 36,
    "start_time": "2022-03-07T12:23:09.472Z"
   },
   {
    "duration": 11,
    "start_time": "2022-03-07T12:23:09.509Z"
   },
   {
    "duration": 5,
    "start_time": "2022-03-07T12:23:09.522Z"
   },
   {
    "duration": 10,
    "start_time": "2022-03-07T12:23:09.529Z"
   },
   {
    "duration": 10,
    "start_time": "2022-03-07T12:23:09.540Z"
   },
   {
    "duration": 5,
    "start_time": "2022-03-07T12:23:09.551Z"
   },
   {
    "duration": 7,
    "start_time": "2022-03-07T12:23:09.557Z"
   },
   {
    "duration": 9,
    "start_time": "2022-03-07T12:23:09.565Z"
   },
   {
    "duration": 37,
    "start_time": "2022-03-07T12:23:09.575Z"
   },
   {
    "duration": 6,
    "start_time": "2022-03-07T12:23:09.614Z"
   },
   {
    "duration": 12,
    "start_time": "2022-03-07T12:23:09.622Z"
   },
   {
    "duration": 9,
    "start_time": "2022-03-07T12:23:09.636Z"
   },
   {
    "duration": 15,
    "start_time": "2022-03-07T12:23:09.646Z"
   },
   {
    "duration": 14,
    "start_time": "2022-03-07T12:23:09.664Z"
   },
   {
    "duration": 37,
    "start_time": "2022-03-07T12:23:09.679Z"
   },
   {
    "duration": 7,
    "start_time": "2022-03-07T12:23:09.717Z"
   },
   {
    "duration": 8,
    "start_time": "2022-03-07T12:23:09.725Z"
   },
   {
    "duration": 7,
    "start_time": "2022-03-07T12:23:09.734Z"
   },
   {
    "duration": 5,
    "start_time": "2022-03-07T12:23:09.743Z"
   },
   {
    "duration": 6,
    "start_time": "2022-03-07T12:23:09.750Z"
   },
   {
    "duration": 8,
    "start_time": "2022-03-07T12:23:09.758Z"
   },
   {
    "duration": 47,
    "start_time": "2022-03-07T12:23:09.768Z"
   },
   {
    "duration": 11,
    "start_time": "2022-03-07T12:23:09.816Z"
   },
   {
    "duration": 4,
    "start_time": "2022-03-07T12:23:09.828Z"
   },
   {
    "duration": 7,
    "start_time": "2022-03-07T12:23:09.834Z"
   },
   {
    "duration": 5,
    "start_time": "2022-03-07T12:23:09.842Z"
   },
   {
    "duration": 5,
    "start_time": "2022-03-07T12:23:09.848Z"
   },
   {
    "duration": 9,
    "start_time": "2022-03-07T12:23:09.855Z"
   },
   {
    "duration": 8,
    "start_time": "2022-03-07T12:23:09.865Z"
   },
   {
    "duration": 3,
    "start_time": "2022-03-07T12:23:09.874Z"
   },
   {
    "duration": 28,
    "start_time": "2022-03-07T12:23:09.879Z"
   },
   {
    "duration": 7,
    "start_time": "2022-03-07T12:23:09.908Z"
   },
   {
    "duration": 28,
    "start_time": "2022-03-07T12:23:09.917Z"
   },
   {
    "duration": 9,
    "start_time": "2022-03-07T12:23:09.946Z"
   },
   {
    "duration": 10,
    "start_time": "2022-03-07T12:23:09.957Z"
   },
   {
    "duration": 42,
    "start_time": "2022-03-07T12:23:09.968Z"
   },
   {
    "duration": 6,
    "start_time": "2022-03-07T12:23:10.011Z"
   },
   {
    "duration": 11,
    "start_time": "2022-03-07T12:23:10.019Z"
   },
   {
    "duration": 7,
    "start_time": "2022-03-07T12:23:10.031Z"
   },
   {
    "duration": 11,
    "start_time": "2022-03-07T12:23:10.039Z"
   },
   {
    "duration": 6,
    "start_time": "2022-03-07T12:23:10.051Z"
   },
   {
    "duration": 7650,
    "start_time": "2022-03-07T12:32:24.007Z"
   },
   {
    "duration": -277,
    "start_time": "2022-03-07T12:32:31.936Z"
   },
   {
    "duration": 23,
    "start_time": "2022-03-07T12:32:41.182Z"
   },
   {
    "duration": 7,
    "start_time": "2022-03-07T12:32:42.570Z"
   },
   {
    "duration": 23,
    "start_time": "2022-03-07T12:32:52.494Z"
   },
   {
    "duration": 7,
    "start_time": "2022-03-07T12:32:53.788Z"
   },
   {
    "duration": 23,
    "start_time": "2022-03-07T12:33:21.868Z"
   },
   {
    "duration": 7,
    "start_time": "2022-03-07T12:33:22.207Z"
   },
   {
    "duration": 23,
    "start_time": "2022-03-07T12:33:43.806Z"
   },
   {
    "duration": 7,
    "start_time": "2022-03-07T12:33:44.124Z"
   },
   {
    "duration": 543,
    "start_time": "2022-03-09T06:38:11.498Z"
   },
   {
    "duration": 45,
    "start_time": "2022-03-09T06:38:12.043Z"
   },
   {
    "duration": 11,
    "start_time": "2022-03-09T06:38:12.090Z"
   },
   {
    "duration": 16,
    "start_time": "2022-03-09T06:38:12.103Z"
   },
   {
    "duration": 4,
    "start_time": "2022-03-09T06:38:12.120Z"
   },
   {
    "duration": 8,
    "start_time": "2022-03-09T06:38:12.126Z"
   },
   {
    "duration": 493,
    "start_time": "2022-03-09T06:38:12.136Z"
   },
   {
    "duration": 6,
    "start_time": "2022-03-09T06:38:12.632Z"
   },
   {
    "duration": 4,
    "start_time": "2022-03-09T06:38:12.640Z"
   },
   {
    "duration": 6,
    "start_time": "2022-03-09T06:38:12.659Z"
   },
   {
    "duration": 4,
    "start_time": "2022-03-09T06:38:12.667Z"
   },
   {
    "duration": 6,
    "start_time": "2022-03-09T06:38:12.673Z"
   },
   {
    "duration": 4,
    "start_time": "2022-03-09T06:38:12.680Z"
   },
   {
    "duration": 10,
    "start_time": "2022-03-09T06:38:12.686Z"
   },
   {
    "duration": 13,
    "start_time": "2022-03-09T06:38:12.698Z"
   },
   {
    "duration": 49,
    "start_time": "2022-03-09T06:38:12.712Z"
   },
   {
    "duration": 11,
    "start_time": "2022-03-09T06:38:12.763Z"
   },
   {
    "duration": 12,
    "start_time": "2022-03-09T06:38:12.775Z"
   },
   {
    "duration": 5,
    "start_time": "2022-03-09T06:38:12.788Z"
   },
   {
    "duration": 4,
    "start_time": "2022-03-09T06:38:12.795Z"
   },
   {
    "duration": 5,
    "start_time": "2022-03-09T06:38:12.800Z"
   },
   {
    "duration": 14,
    "start_time": "2022-03-09T06:38:12.807Z"
   },
   {
    "duration": 38,
    "start_time": "2022-03-09T06:38:12.824Z"
   },
   {
    "duration": 13,
    "start_time": "2022-03-09T06:38:12.865Z"
   },
   {
    "duration": 8,
    "start_time": "2022-03-09T06:38:12.880Z"
   },
   {
    "duration": 15,
    "start_time": "2022-03-09T06:38:12.890Z"
   },
   {
    "duration": 14,
    "start_time": "2022-03-09T06:38:12.906Z"
   },
   {
    "duration": 38,
    "start_time": "2022-03-09T06:38:12.922Z"
   },
   {
    "duration": 11,
    "start_time": "2022-03-09T06:38:12.962Z"
   },
   {
    "duration": 11,
    "start_time": "2022-03-09T06:38:12.975Z"
   },
   {
    "duration": 11,
    "start_time": "2022-03-09T06:38:12.987Z"
   },
   {
    "duration": 8,
    "start_time": "2022-03-09T06:38:12.999Z"
   },
   {
    "duration": 9,
    "start_time": "2022-03-09T06:38:13.008Z"
   },
   {
    "duration": 43,
    "start_time": "2022-03-09T06:38:13.019Z"
   },
   {
    "duration": 19,
    "start_time": "2022-03-09T06:38:13.064Z"
   },
   {
    "duration": 14,
    "start_time": "2022-03-09T06:38:13.085Z"
   },
   {
    "duration": 7,
    "start_time": "2022-03-09T06:38:13.101Z"
   },
   {
    "duration": 9,
    "start_time": "2022-03-09T06:38:13.110Z"
   },
   {
    "duration": 43,
    "start_time": "2022-03-09T06:38:13.121Z"
   },
   {
    "duration": 4,
    "start_time": "2022-03-09T06:38:13.166Z"
   },
   {
    "duration": 11,
    "start_time": "2022-03-09T06:38:13.172Z"
   },
   {
    "duration": 7,
    "start_time": "2022-03-09T06:38:13.185Z"
   },
   {
    "duration": 4,
    "start_time": "2022-03-09T06:38:13.193Z"
   },
   {
    "duration": 10,
    "start_time": "2022-03-09T06:38:13.199Z"
   },
   {
    "duration": 10,
    "start_time": "2022-03-09T06:38:13.210Z"
   },
   {
    "duration": 63,
    "start_time": "2022-03-09T06:38:13.222Z"
   },
   {
    "duration": 11,
    "start_time": "2022-03-09T06:38:13.286Z"
   },
   {
    "duration": 12,
    "start_time": "2022-03-09T06:38:13.299Z"
   },
   {
    "duration": 53,
    "start_time": "2022-03-09T06:38:13.312Z"
   },
   {
    "duration": 7,
    "start_time": "2022-03-09T06:38:13.366Z"
   },
   {
    "duration": 26,
    "start_time": "2022-03-09T06:38:13.374Z"
   },
   {
    "duration": 7,
    "start_time": "2022-03-09T06:38:13.401Z"
   },
   {
    "duration": 27,
    "start_time": "2022-03-09T06:38:13.410Z"
   },
   {
    "duration": 24,
    "start_time": "2022-03-09T06:38:13.438Z"
   }
  ],
  "kernelspec": {
   "display_name": "Python 3 (ipykernel)",
   "language": "python",
   "name": "python3"
  },
  "language_info": {
   "codemirror_mode": {
    "name": "ipython",
    "version": 3
   },
   "file_extension": ".py",
   "mimetype": "text/x-python",
   "name": "python",
   "nbconvert_exporter": "python",
   "pygments_lexer": "ipython3",
   "version": "3.9.5"
  },
  "toc": {
   "base_numbering": 1,
   "nav_menu": {},
   "number_sections": true,
   "sideBar": true,
   "skip_h1_title": true,
   "title_cell": "Table of Contents",
   "title_sidebar": "Contents",
   "toc_cell": false,
   "toc_position": {
    "height": "calc(100% - 180px)",
    "left": "10px",
    "top": "150px",
    "width": "383px"
   },
   "toc_section_display": true,
   "toc_window_display": true
  }
 },
 "nbformat": 4,
 "nbformat_minor": 5
}
