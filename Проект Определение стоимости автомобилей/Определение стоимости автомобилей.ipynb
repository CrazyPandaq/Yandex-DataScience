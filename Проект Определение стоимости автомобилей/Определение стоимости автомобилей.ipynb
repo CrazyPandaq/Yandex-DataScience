{
 "cells": [
  {
   "cell_type": "markdown",
   "metadata": {},
   "source": [
    "# Определение стоимости автомобилей"
   ]
  },
  {
   "cell_type": "markdown",
   "metadata": {},
   "source": [
    "Сервис по продаже автомобилей с пробегом «Не бит, не крашен» разрабатывает приложение для привлечения новых клиентов. В нём можно быстро узнать рыночную стоимость своего автомобиля. В вашем распоряжении исторические данные: технические характеристики, комплектации и цены автомобилей. Вам нужно построить модель для определения стоимости. \n",
    "\n",
    "Заказчику важны:\n",
    "\n",
    "- качество предсказания;\n",
    "- скорость предсказания;\n",
    "- время обучения."
   ]
  },
  {
   "cell_type": "markdown",
   "metadata": {},
   "source": [
    "## Подготовка данных"
   ]
  },
  {
   "cell_type": "markdown",
   "metadata": {},
   "source": [
    "### Обзор данных"
   ]
  },
  {
   "cell_type": "code",
   "execution_count": 1,
   "metadata": {},
   "outputs": [],
   "source": [
    "import pandas as pd\n",
    "import numpy as np\n",
    "import matplotlib.pyplot as plt\n",
    "import seaborn as sns\n",
    "import time\n",
    "\n",
    "from sklearn.preprocessing import StandardScaler\n",
    "from sklearn.metrics import mean_squared_error\n",
    "from sklearn.model_selection import train_test_split\n",
    "from sklearn.preprocessing import OrdinalEncoder\n",
    "from sklearn.model_selection import cross_val_score\n",
    "from sklearn.metrics import make_scorer\n",
    "from sklearn.metrics import mean_squared_error\n",
    "from sklearn.model_selection import GridSearchCV\n",
    "\n",
    "import catboost as cb\n",
    "import xgboost as xgb\n",
    "import lightgbm as lgb\n",
    "\n",
    "from sklearn.linear_model import LinearRegression\n",
    "from catboost import CatBoostClassifier\n",
    "from catboost import CatBoostRegressor\n",
    "from lightgbm import LGBMRegressor\n",
    "\n",
    "import warnings\n",
    "warnings.filterwarnings('ignore')"
   ]
  },
  {
   "cell_type": "code",
   "execution_count": 2,
   "metadata": {},
   "outputs": [],
   "source": [
    "try:\n",
    "    data = pd.read_csv(\"/datasets/autos.csv\")\n",
    "except:\n",
    "    data = pd.read_csv(\"datasets/autos.csv\")"
   ]
  },
  {
   "cell_type": "code",
   "execution_count": 3,
   "metadata": {},
   "outputs": [
    {
     "name": "stdout",
     "output_type": "stream",
     "text": [
      "<class 'pandas.core.frame.DataFrame'>\n",
      "RangeIndex: 354369 entries, 0 to 354368\n",
      "Data columns (total 16 columns):\n",
      " #   Column             Non-Null Count   Dtype \n",
      "---  ------             --------------   ----- \n",
      " 0   DateCrawled        354369 non-null  object\n",
      " 1   Price              354369 non-null  int64 \n",
      " 2   VehicleType        316879 non-null  object\n",
      " 3   RegistrationYear   354369 non-null  int64 \n",
      " 4   Gearbox            334536 non-null  object\n",
      " 5   Power              354369 non-null  int64 \n",
      " 6   Model              334664 non-null  object\n",
      " 7   Kilometer          354369 non-null  int64 \n",
      " 8   RegistrationMonth  354369 non-null  int64 \n",
      " 9   FuelType           321474 non-null  object\n",
      " 10  Brand              354369 non-null  object\n",
      " 11  NotRepaired        283215 non-null  object\n",
      " 12  DateCreated        354369 non-null  object\n",
      " 13  NumberOfPictures   354369 non-null  int64 \n",
      " 14  PostalCode         354369 non-null  int64 \n",
      " 15  LastSeen           354369 non-null  object\n",
      "dtypes: int64(7), object(9)\n",
      "memory usage: 43.3+ MB\n"
     ]
    }
   ],
   "source": [
    "data.info()"
   ]
  },
  {
   "cell_type": "code",
   "execution_count": 4,
   "metadata": {},
   "outputs": [
    {
     "data": {
      "text/html": [
       "<div>\n",
       "<style scoped>\n",
       "    .dataframe tbody tr th:only-of-type {\n",
       "        vertical-align: middle;\n",
       "    }\n",
       "\n",
       "    .dataframe tbody tr th {\n",
       "        vertical-align: top;\n",
       "    }\n",
       "\n",
       "    .dataframe thead th {\n",
       "        text-align: right;\n",
       "    }\n",
       "</style>\n",
       "<table border=\"1\" class=\"dataframe\">\n",
       "  <thead>\n",
       "    <tr style=\"text-align: right;\">\n",
       "      <th></th>\n",
       "      <th>Price</th>\n",
       "      <th>RegistrationYear</th>\n",
       "      <th>Power</th>\n",
       "      <th>Kilometer</th>\n",
       "      <th>RegistrationMonth</th>\n",
       "      <th>NumberOfPictures</th>\n",
       "      <th>PostalCode</th>\n",
       "    </tr>\n",
       "  </thead>\n",
       "  <tbody>\n",
       "    <tr>\n",
       "      <th>count</th>\n",
       "      <td>354369.000000</td>\n",
       "      <td>354369.000000</td>\n",
       "      <td>354369.000000</td>\n",
       "      <td>354369.000000</td>\n",
       "      <td>354369.000000</td>\n",
       "      <td>354369.0</td>\n",
       "      <td>354369.000000</td>\n",
       "    </tr>\n",
       "    <tr>\n",
       "      <th>mean</th>\n",
       "      <td>4416.656776</td>\n",
       "      <td>2004.234448</td>\n",
       "      <td>110.094337</td>\n",
       "      <td>128211.172535</td>\n",
       "      <td>5.714645</td>\n",
       "      <td>0.0</td>\n",
       "      <td>50508.689087</td>\n",
       "    </tr>\n",
       "    <tr>\n",
       "      <th>std</th>\n",
       "      <td>4514.158514</td>\n",
       "      <td>90.227958</td>\n",
       "      <td>189.850405</td>\n",
       "      <td>37905.341530</td>\n",
       "      <td>3.726421</td>\n",
       "      <td>0.0</td>\n",
       "      <td>25783.096248</td>\n",
       "    </tr>\n",
       "    <tr>\n",
       "      <th>min</th>\n",
       "      <td>0.000000</td>\n",
       "      <td>1000.000000</td>\n",
       "      <td>0.000000</td>\n",
       "      <td>5000.000000</td>\n",
       "      <td>0.000000</td>\n",
       "      <td>0.0</td>\n",
       "      <td>1067.000000</td>\n",
       "    </tr>\n",
       "    <tr>\n",
       "      <th>25%</th>\n",
       "      <td>1050.000000</td>\n",
       "      <td>1999.000000</td>\n",
       "      <td>69.000000</td>\n",
       "      <td>125000.000000</td>\n",
       "      <td>3.000000</td>\n",
       "      <td>0.0</td>\n",
       "      <td>30165.000000</td>\n",
       "    </tr>\n",
       "    <tr>\n",
       "      <th>50%</th>\n",
       "      <td>2700.000000</td>\n",
       "      <td>2003.000000</td>\n",
       "      <td>105.000000</td>\n",
       "      <td>150000.000000</td>\n",
       "      <td>6.000000</td>\n",
       "      <td>0.0</td>\n",
       "      <td>49413.000000</td>\n",
       "    </tr>\n",
       "    <tr>\n",
       "      <th>75%</th>\n",
       "      <td>6400.000000</td>\n",
       "      <td>2008.000000</td>\n",
       "      <td>143.000000</td>\n",
       "      <td>150000.000000</td>\n",
       "      <td>9.000000</td>\n",
       "      <td>0.0</td>\n",
       "      <td>71083.000000</td>\n",
       "    </tr>\n",
       "    <tr>\n",
       "      <th>max</th>\n",
       "      <td>20000.000000</td>\n",
       "      <td>9999.000000</td>\n",
       "      <td>20000.000000</td>\n",
       "      <td>150000.000000</td>\n",
       "      <td>12.000000</td>\n",
       "      <td>0.0</td>\n",
       "      <td>99998.000000</td>\n",
       "    </tr>\n",
       "  </tbody>\n",
       "</table>\n",
       "</div>"
      ],
      "text/plain": [
       "               Price  RegistrationYear          Power      Kilometer  \\\n",
       "count  354369.000000     354369.000000  354369.000000  354369.000000   \n",
       "mean     4416.656776       2004.234448     110.094337  128211.172535   \n",
       "std      4514.158514         90.227958     189.850405   37905.341530   \n",
       "min         0.000000       1000.000000       0.000000    5000.000000   \n",
       "25%      1050.000000       1999.000000      69.000000  125000.000000   \n",
       "50%      2700.000000       2003.000000     105.000000  150000.000000   \n",
       "75%      6400.000000       2008.000000     143.000000  150000.000000   \n",
       "max     20000.000000       9999.000000   20000.000000  150000.000000   \n",
       "\n",
       "       RegistrationMonth  NumberOfPictures     PostalCode  \n",
       "count      354369.000000          354369.0  354369.000000  \n",
       "mean            5.714645               0.0   50508.689087  \n",
       "std             3.726421               0.0   25783.096248  \n",
       "min             0.000000               0.0    1067.000000  \n",
       "25%             3.000000               0.0   30165.000000  \n",
       "50%             6.000000               0.0   49413.000000  \n",
       "75%             9.000000               0.0   71083.000000  \n",
       "max            12.000000               0.0   99998.000000  "
      ]
     },
     "execution_count": 4,
     "metadata": {},
     "output_type": "execute_result"
    }
   ],
   "source": [
    "data.describe()"
   ]
  },
  {
   "cell_type": "code",
   "execution_count": 5,
   "metadata": {},
   "outputs": [
    {
     "data": {
      "text/plain": [
       "DateCrawled          0.000000\n",
       "Price                0.000000\n",
       "VehicleType          0.105794\n",
       "RegistrationYear     0.000000\n",
       "Gearbox              0.055967\n",
       "Power                0.000000\n",
       "Model                0.055606\n",
       "Kilometer            0.000000\n",
       "RegistrationMonth    0.000000\n",
       "FuelType             0.092827\n",
       "Brand                0.000000\n",
       "NotRepaired          0.200791\n",
       "DateCreated          0.000000\n",
       "NumberOfPictures     0.000000\n",
       "PostalCode           0.000000\n",
       "LastSeen             0.000000\n",
       "dtype: float64"
      ]
     },
     "execution_count": 5,
     "metadata": {},
     "output_type": "execute_result"
    }
   ],
   "source": [
    "data.isna().mean()"
   ]
  },
  {
   "cell_type": "markdown",
   "metadata": {},
   "source": [
    "В признаках обнаружены пропуски. Больше всего пропусков наблюдается в `NotRepaired`\n",
    "\n",
    "Кроме того, у некоторых признаков не тот формат данных (`DateCrawled`,`DateCreated`,`LastSeen`)."
   ]
  },
  {
   "cell_type": "code",
   "execution_count": 6,
   "metadata": {},
   "outputs": [
    {
     "data": {
      "text/html": [
       "<div>\n",
       "<style scoped>\n",
       "    .dataframe tbody tr th:only-of-type {\n",
       "        vertical-align: middle;\n",
       "    }\n",
       "\n",
       "    .dataframe tbody tr th {\n",
       "        vertical-align: top;\n",
       "    }\n",
       "\n",
       "    .dataframe thead th {\n",
       "        text-align: right;\n",
       "    }\n",
       "</style>\n",
       "<table border=\"1\" class=\"dataframe\">\n",
       "  <thead>\n",
       "    <tr style=\"text-align: right;\">\n",
       "      <th></th>\n",
       "      <th>DateCrawled</th>\n",
       "      <th>Price</th>\n",
       "      <th>VehicleType</th>\n",
       "      <th>RegistrationYear</th>\n",
       "      <th>Gearbox</th>\n",
       "      <th>Power</th>\n",
       "      <th>Model</th>\n",
       "      <th>Kilometer</th>\n",
       "      <th>RegistrationMonth</th>\n",
       "      <th>FuelType</th>\n",
       "      <th>Brand</th>\n",
       "      <th>NotRepaired</th>\n",
       "      <th>DateCreated</th>\n",
       "      <th>NumberOfPictures</th>\n",
       "      <th>PostalCode</th>\n",
       "      <th>LastSeen</th>\n",
       "    </tr>\n",
       "  </thead>\n",
       "  <tbody>\n",
       "    <tr>\n",
       "      <th>0</th>\n",
       "      <td>2016-03-24 11:52:17</td>\n",
       "      <td>480</td>\n",
       "      <td>NaN</td>\n",
       "      <td>1993</td>\n",
       "      <td>manual</td>\n",
       "      <td>0</td>\n",
       "      <td>golf</td>\n",
       "      <td>150000</td>\n",
       "      <td>0</td>\n",
       "      <td>petrol</td>\n",
       "      <td>volkswagen</td>\n",
       "      <td>NaN</td>\n",
       "      <td>2016-03-24 00:00:00</td>\n",
       "      <td>0</td>\n",
       "      <td>70435</td>\n",
       "      <td>2016-04-07 03:16:57</td>\n",
       "    </tr>\n",
       "    <tr>\n",
       "      <th>1</th>\n",
       "      <td>2016-03-24 10:58:45</td>\n",
       "      <td>18300</td>\n",
       "      <td>coupe</td>\n",
       "      <td>2011</td>\n",
       "      <td>manual</td>\n",
       "      <td>190</td>\n",
       "      <td>NaN</td>\n",
       "      <td>125000</td>\n",
       "      <td>5</td>\n",
       "      <td>gasoline</td>\n",
       "      <td>audi</td>\n",
       "      <td>yes</td>\n",
       "      <td>2016-03-24 00:00:00</td>\n",
       "      <td>0</td>\n",
       "      <td>66954</td>\n",
       "      <td>2016-04-07 01:46:50</td>\n",
       "    </tr>\n",
       "    <tr>\n",
       "      <th>2</th>\n",
       "      <td>2016-03-14 12:52:21</td>\n",
       "      <td>9800</td>\n",
       "      <td>suv</td>\n",
       "      <td>2004</td>\n",
       "      <td>auto</td>\n",
       "      <td>163</td>\n",
       "      <td>grand</td>\n",
       "      <td>125000</td>\n",
       "      <td>8</td>\n",
       "      <td>gasoline</td>\n",
       "      <td>jeep</td>\n",
       "      <td>NaN</td>\n",
       "      <td>2016-03-14 00:00:00</td>\n",
       "      <td>0</td>\n",
       "      <td>90480</td>\n",
       "      <td>2016-04-05 12:47:46</td>\n",
       "    </tr>\n",
       "    <tr>\n",
       "      <th>3</th>\n",
       "      <td>2016-03-17 16:54:04</td>\n",
       "      <td>1500</td>\n",
       "      <td>small</td>\n",
       "      <td>2001</td>\n",
       "      <td>manual</td>\n",
       "      <td>75</td>\n",
       "      <td>golf</td>\n",
       "      <td>150000</td>\n",
       "      <td>6</td>\n",
       "      <td>petrol</td>\n",
       "      <td>volkswagen</td>\n",
       "      <td>no</td>\n",
       "      <td>2016-03-17 00:00:00</td>\n",
       "      <td>0</td>\n",
       "      <td>91074</td>\n",
       "      <td>2016-03-17 17:40:17</td>\n",
       "    </tr>\n",
       "    <tr>\n",
       "      <th>4</th>\n",
       "      <td>2016-03-31 17:25:20</td>\n",
       "      <td>3600</td>\n",
       "      <td>small</td>\n",
       "      <td>2008</td>\n",
       "      <td>manual</td>\n",
       "      <td>69</td>\n",
       "      <td>fabia</td>\n",
       "      <td>90000</td>\n",
       "      <td>7</td>\n",
       "      <td>gasoline</td>\n",
       "      <td>skoda</td>\n",
       "      <td>no</td>\n",
       "      <td>2016-03-31 00:00:00</td>\n",
       "      <td>0</td>\n",
       "      <td>60437</td>\n",
       "      <td>2016-04-06 10:17:21</td>\n",
       "    </tr>\n",
       "  </tbody>\n",
       "</table>\n",
       "</div>"
      ],
      "text/plain": [
       "           DateCrawled  Price VehicleType  RegistrationYear Gearbox  Power  \\\n",
       "0  2016-03-24 11:52:17    480         NaN              1993  manual      0   \n",
       "1  2016-03-24 10:58:45  18300       coupe              2011  manual    190   \n",
       "2  2016-03-14 12:52:21   9800         suv              2004    auto    163   \n",
       "3  2016-03-17 16:54:04   1500       small              2001  manual     75   \n",
       "4  2016-03-31 17:25:20   3600       small              2008  manual     69   \n",
       "\n",
       "   Model  Kilometer  RegistrationMonth  FuelType       Brand NotRepaired  \\\n",
       "0   golf     150000                  0    petrol  volkswagen         NaN   \n",
       "1    NaN     125000                  5  gasoline        audi         yes   \n",
       "2  grand     125000                  8  gasoline        jeep         NaN   \n",
       "3   golf     150000                  6    petrol  volkswagen          no   \n",
       "4  fabia      90000                  7  gasoline       skoda          no   \n",
       "\n",
       "           DateCreated  NumberOfPictures  PostalCode             LastSeen  \n",
       "0  2016-03-24 00:00:00                 0       70435  2016-04-07 03:16:57  \n",
       "1  2016-03-24 00:00:00                 0       66954  2016-04-07 01:46:50  \n",
       "2  2016-03-14 00:00:00                 0       90480  2016-04-05 12:47:46  \n",
       "3  2016-03-17 00:00:00                 0       91074  2016-03-17 17:40:17  \n",
       "4  2016-03-31 00:00:00                 0       60437  2016-04-06 10:17:21  "
      ]
     },
     "execution_count": 6,
     "metadata": {},
     "output_type": "execute_result"
    }
   ],
   "source": [
    "data.head(5)"
   ]
  },
  {
   "cell_type": "code",
   "execution_count": 7,
   "metadata": {},
   "outputs": [
    {
     "data": {
      "text/plain": [
       "array(['2014-03-10 00:00:00', '2015-03-20 00:00:00',\n",
       "       '2015-06-18 00:00:00', '2015-08-07 00:00:00',\n",
       "       '2015-08-10 00:00:00', '2015-09-04 00:00:00',\n",
       "       '2015-09-09 00:00:00', '2015-11-02 00:00:00',\n",
       "       '2015-11-08 00:00:00', '2015-11-10 00:00:00',\n",
       "       '2015-11-12 00:00:00', '2015-11-17 00:00:00',\n",
       "       '2015-11-23 00:00:00', '2015-11-24 00:00:00',\n",
       "       '2015-12-05 00:00:00', '2015-12-06 00:00:00',\n",
       "       '2015-12-17 00:00:00', '2015-12-27 00:00:00',\n",
       "       '2015-12-30 00:00:00', '2016-01-02 00:00:00',\n",
       "       '2016-01-03 00:00:00', '2016-01-06 00:00:00',\n",
       "       '2016-01-07 00:00:00', '2016-01-08 00:00:00',\n",
       "       '2016-01-10 00:00:00', '2016-01-13 00:00:00',\n",
       "       '2016-01-15 00:00:00', '2016-01-16 00:00:00',\n",
       "       '2016-01-17 00:00:00', '2016-01-18 00:00:00',\n",
       "       '2016-01-19 00:00:00', '2016-01-20 00:00:00',\n",
       "       '2016-01-22 00:00:00', '2016-01-23 00:00:00',\n",
       "       '2016-01-24 00:00:00', '2016-01-25 00:00:00',\n",
       "       '2016-01-26 00:00:00', '2016-01-27 00:00:00',\n",
       "       '2016-01-28 00:00:00', '2016-01-29 00:00:00',\n",
       "       '2016-01-30 00:00:00', '2016-01-31 00:00:00',\n",
       "       '2016-02-01 00:00:00', '2016-02-02 00:00:00',\n",
       "       '2016-02-03 00:00:00', '2016-02-04 00:00:00',\n",
       "       '2016-02-05 00:00:00', '2016-02-06 00:00:00',\n",
       "       '2016-02-07 00:00:00', '2016-02-08 00:00:00',\n",
       "       '2016-02-09 00:00:00', '2016-02-10 00:00:00',\n",
       "       '2016-02-11 00:00:00', '2016-02-12 00:00:00',\n",
       "       '2016-02-13 00:00:00', '2016-02-14 00:00:00',\n",
       "       '2016-02-15 00:00:00', '2016-02-16 00:00:00',\n",
       "       '2016-02-17 00:00:00', '2016-02-18 00:00:00',\n",
       "       '2016-02-19 00:00:00', '2016-02-20 00:00:00',\n",
       "       '2016-02-21 00:00:00', '2016-02-22 00:00:00',\n",
       "       '2016-02-23 00:00:00', '2016-02-24 00:00:00',\n",
       "       '2016-02-25 00:00:00', '2016-02-26 00:00:00',\n",
       "       '2016-02-27 00:00:00', '2016-02-28 00:00:00',\n",
       "       '2016-02-29 00:00:00', '2016-03-01 00:00:00',\n",
       "       '2016-03-02 00:00:00', '2016-03-03 00:00:00',\n",
       "       '2016-03-04 00:00:00', '2016-03-05 00:00:00',\n",
       "       '2016-03-06 00:00:00', '2016-03-07 00:00:00',\n",
       "       '2016-03-08 00:00:00', '2016-03-09 00:00:00',\n",
       "       '2016-03-10 00:00:00', '2016-03-11 00:00:00',\n",
       "       '2016-03-12 00:00:00', '2016-03-13 00:00:00',\n",
       "       '2016-03-14 00:00:00', '2016-03-15 00:00:00',\n",
       "       '2016-03-16 00:00:00', '2016-03-17 00:00:00',\n",
       "       '2016-03-18 00:00:00', '2016-03-19 00:00:00',\n",
       "       '2016-03-20 00:00:00', '2016-03-21 00:00:00',\n",
       "       '2016-03-22 00:00:00', '2016-03-23 00:00:00',\n",
       "       '2016-03-24 00:00:00', '2016-03-25 00:00:00',\n",
       "       '2016-03-26 00:00:00', '2016-03-27 00:00:00',\n",
       "       '2016-03-28 00:00:00', '2016-03-29 00:00:00',\n",
       "       '2016-03-30 00:00:00', '2016-03-31 00:00:00',\n",
       "       '2016-04-01 00:00:00', '2016-04-02 00:00:00',\n",
       "       '2016-04-03 00:00:00', '2016-04-04 00:00:00',\n",
       "       '2016-04-05 00:00:00', '2016-04-06 00:00:00',\n",
       "       '2016-04-07 00:00:00'], dtype=object)"
      ]
     },
     "execution_count": 7,
     "metadata": {},
     "output_type": "execute_result"
    }
   ],
   "source": [
    "data[\"DateCreated\"].sort_values(ascending = True).unique()"
   ]
  },
  {
   "cell_type": "markdown",
   "metadata": {},
   "source": [
    "Диапазон дат варьируется от 2014 до 2016 года"
   ]
  },
  {
   "cell_type": "code",
   "execution_count": 8,
   "metadata": {},
   "outputs": [],
   "source": [
    "columns_numeric = ['Price', 'RegistrationYear', 'Power', 'Kilometer']\n",
    "\n",
    "def numeric(data, columns_numeric):\n",
    "    fig, axes = plt.subplots(2, 2, figsize=(12, 12))\n",
    "    for column, ax in zip(columns_numeric,axes.ravel()):\n",
    "        ax.set_title(column)\n",
    "        sns.distplot(data[column], ax=ax)\n",
    "    \n",
    "    fig, axes = plt.subplots(2, 2, figsize=(12, 12))\n",
    "    for column, ax in zip(columns_numeric, axes.ravel()):\n",
    "        ax.set_title(column)\n",
    "        sns.boxplot(data[column], ax=ax)"
   ]
  },
  {
   "cell_type": "code",
   "execution_count": 9,
   "metadata": {},
   "outputs": [
    {
     "data": {
      "image/png": "[encoded data removed]",
      "text/plain": [
       "<Figure size 864x864 with 4 Axes>"
      ]
     },
     "metadata": {
      "needs_background": "light"
     },
     "output_type": "display_data"
    },
    {
     "data": {
      "image/png": "[encoded data removed]",
      "text/plain": [
       "<Figure size 864x864 with 4 Axes>"
      ]
     },
     "metadata": {
      "needs_background": "light"
     },
     "output_type": "display_data"
    }
   ],
   "source": [
    "numeric(data, columns_numeric)"
   ]
  },
  {
   "cell_type": "code",
   "execution_count": 10,
   "metadata": {},
   "outputs": [],
   "source": [
    "columns_to_drop = ['DateCrawled', 'LastSeen', 'DateCreated', 'NumberOfPictures', 'PostalCode',\"RegistrationMonth\"]\n",
    "data = data.drop(columns=columns_to_drop)"
   ]
  },
  {
   "cell_type": "code",
   "execution_count": 11,
   "metadata": {},
   "outputs": [
    {
     "data": {
      "text/html": [
       "<div>\n",
       "<style scoped>\n",
       "    .dataframe tbody tr th:only-of-type {\n",
       "        vertical-align: middle;\n",
       "    }\n",
       "\n",
       "    .dataframe tbody tr th {\n",
       "        vertical-align: top;\n",
       "    }\n",
       "\n",
       "    .dataframe thead th {\n",
       "        text-align: right;\n",
       "    }\n",
       "</style>\n",
       "<table border=\"1\" class=\"dataframe\">\n",
       "  <thead>\n",
       "    <tr style=\"text-align: right;\">\n",
       "      <th></th>\n",
       "      <th>Price</th>\n",
       "      <th>VehicleType</th>\n",
       "      <th>RegistrationYear</th>\n",
       "      <th>Gearbox</th>\n",
       "      <th>Power</th>\n",
       "      <th>Model</th>\n",
       "      <th>Kilometer</th>\n",
       "      <th>FuelType</th>\n",
       "      <th>Brand</th>\n",
       "      <th>NotRepaired</th>\n",
       "    </tr>\n",
       "  </thead>\n",
       "  <tbody>\n",
       "    <tr>\n",
       "      <th>0</th>\n",
       "      <td>480</td>\n",
       "      <td>NaN</td>\n",
       "      <td>1993</td>\n",
       "      <td>manual</td>\n",
       "      <td>0</td>\n",
       "      <td>golf</td>\n",
       "      <td>150000</td>\n",
       "      <td>petrol</td>\n",
       "      <td>volkswagen</td>\n",
       "      <td>NaN</td>\n",
       "    </tr>\n",
       "    <tr>\n",
       "      <th>1</th>\n",
       "      <td>18300</td>\n",
       "      <td>coupe</td>\n",
       "      <td>2011</td>\n",
       "      <td>manual</td>\n",
       "      <td>190</td>\n",
       "      <td>NaN</td>\n",
       "      <td>125000</td>\n",
       "      <td>gasoline</td>\n",
       "      <td>audi</td>\n",
       "      <td>yes</td>\n",
       "    </tr>\n",
       "    <tr>\n",
       "      <th>2</th>\n",
       "      <td>9800</td>\n",
       "      <td>suv</td>\n",
       "      <td>2004</td>\n",
       "      <td>auto</td>\n",
       "      <td>163</td>\n",
       "      <td>grand</td>\n",
       "      <td>125000</td>\n",
       "      <td>gasoline</td>\n",
       "      <td>jeep</td>\n",
       "      <td>NaN</td>\n",
       "    </tr>\n",
       "    <tr>\n",
       "      <th>3</th>\n",
       "      <td>1500</td>\n",
       "      <td>small</td>\n",
       "      <td>2001</td>\n",
       "      <td>manual</td>\n",
       "      <td>75</td>\n",
       "      <td>golf</td>\n",
       "      <td>150000</td>\n",
       "      <td>petrol</td>\n",
       "      <td>volkswagen</td>\n",
       "      <td>no</td>\n",
       "    </tr>\n",
       "    <tr>\n",
       "      <th>4</th>\n",
       "      <td>3600</td>\n",
       "      <td>small</td>\n",
       "      <td>2008</td>\n",
       "      <td>manual</td>\n",
       "      <td>69</td>\n",
       "      <td>fabia</td>\n",
       "      <td>90000</td>\n",
       "      <td>gasoline</td>\n",
       "      <td>skoda</td>\n",
       "      <td>no</td>\n",
       "    </tr>\n",
       "  </tbody>\n",
       "</table>\n",
       "</div>"
      ],
      "text/plain": [
       "   Price VehicleType  RegistrationYear Gearbox  Power  Model  Kilometer  \\\n",
       "0    480         NaN              1993  manual      0   golf     150000   \n",
       "1  18300       coupe              2011  manual    190    NaN     125000   \n",
       "2   9800         suv              2004    auto    163  grand     125000   \n",
       "3   1500       small              2001  manual     75   golf     150000   \n",
       "4   3600       small              2008  manual     69  fabia      90000   \n",
       "\n",
       "   FuelType       Brand NotRepaired  \n",
       "0    petrol  volkswagen         NaN  \n",
       "1  gasoline        audi         yes  \n",
       "2  gasoline        jeep         NaN  \n",
       "3    petrol  volkswagen          no  \n",
       "4  gasoline       skoda          no  "
      ]
     },
     "execution_count": 11,
     "metadata": {},
     "output_type": "execute_result"
    }
   ],
   "source": [
    "data.head()"
   ]
  },
  {
   "cell_type": "markdown",
   "metadata": {},
   "source": [
    "#### Вывод:\n",
    "1. Обнаружены пропуски `VehicleType` , `Gearbox` , `Model` , `FuelType` , `NotRepaired` ;\n",
    "2. Обнаружены аномалии. Такие как в стоблце `price` минимальная стоимость равняется 0; В `RegistrationYear` минимальный год - 1000, а максимальный 9999; В столбце `Power` минимальная мощность равняется 0, что тоже не может быть (Если это только не полностью сломанная машина); В `RegistrationMonth` минимальный месяц - 0. Скорей всего при заполнении анкеты - данная строка была пропущена.\n",
    "3. Удалены признаки, не несущие важности при обучении моделей."
   ]
  },
  {
   "cell_type": "markdown",
   "metadata": {},
   "source": [
    "### Обработка пропусков"
   ]
  },
  {
   "cell_type": "markdown",
   "metadata": {},
   "source": [
    "####  Обработка `VehicleType`"
   ]
  },
  {
   "cell_type": "code",
   "execution_count": 12,
   "metadata": {},
   "outputs": [
    {
     "data": {
      "text/plain": [
       "Brand       Model   VehicleType\n",
       "alfa_romeo  145     coupe             2\n",
       "                    other             1\n",
       "                    sedan            13\n",
       "                    small            19\n",
       "            147     coupe            27\n",
       "                    other             7\n",
       "                    sedan           358\n",
       "                    small            97\n",
       "                    suv               1\n",
       "                    wagon             2\n",
       "            156     coupe             3\n",
       "                    other             1\n",
       "                    sedan           287\n",
       "                    small             2\n",
       "                    wagon           288\n",
       "            159     sedan            55\n",
       "                    wagon           145\n",
       "            other   convertible       1\n",
       "                    coupe           180\n",
       "                    other             5\n",
       "                    sedan           190\n",
       "                    small           114\n",
       "                    wagon             6\n",
       "            spider  convertible     179\n",
       "                    coupe             1\n",
       "                    sedan             1\n",
       "audi        100     convertible       1\n",
       "                    coupe             2\n",
       "                    sedan           278\n",
       "                    wagon           109\n",
       "            200     convertible       1\n",
       "                    sedan            15\n",
       "                    wagon             1\n",
       "            80      convertible     158\n",
       "                    coupe            55\n",
       "                    other             8\n",
       "                    sedan          1007\n",
       "                    small             5\n",
       "                    wagon           211\n",
       "            90      convertible       1\n",
       "                    coupe             7\n",
       "                    sedan            75\n",
       "                    wagon             1\n",
       "            a1      coupe             1\n",
       "                    sedan            47\n",
       "                    small           527\n",
       "            a2      bus               6\n",
       "                    other             6\n",
       "                    sedan            43\n",
       "                    small           289\n",
       "                    wagon             1\n",
       "            a3      convertible     150\n",
       "                    coupe           243\n",
       "                    other            67\n",
       "                    sedan          2852\n",
       "Name: VehicleType, dtype: int64"
      ]
     },
     "execution_count": 12,
     "metadata": {},
     "output_type": "execute_result"
    }
   ],
   "source": [
    "data.groupby(['Brand',\"Model\",'VehicleType'])['VehicleType'].count().head(55)"
   ]
  },
  {
   "cell_type": "markdown",
   "metadata": {},
   "source": [
    "В каждой модели присутствует категория - `other`. Логичнее всего заполнить пропуски данной категории, так как у одной модели может сразу быть несколько типов."
   ]
  },
  {
   "cell_type": "code",
   "execution_count": 13,
   "metadata": {},
   "outputs": [],
   "source": [
    "data[\"VehicleType\"] = data[\"VehicleType\"].fillna(\"other\")"
   ]
  },
  {
   "cell_type": "markdown",
   "metadata": {},
   "source": [
    "#### Обработка`Gearbox`"
   ]
  },
  {
   "cell_type": "code",
   "execution_count": 14,
   "metadata": {},
   "outputs": [
    {
     "data": {
      "text/plain": [
       "Brand          Gearbox\n",
       "alfa_romeo     auto         143\n",
       "               manual      2039\n",
       "audi           auto        8531\n",
       "               manual     19616\n",
       "bmw            auto       11020\n",
       "               manual     24431\n",
       "chevrolet      auto         579\n",
       "               manual      1079\n",
       "chrysler       auto         744\n",
       "               manual       633\n",
       "citroen        auto         594\n",
       "               manual      4284\n",
       "dacia          auto           1\n",
       "               manual       877\n",
       "daewoo         auto          33\n",
       "               manual       475\n",
       "daihatsu       auto          85\n",
       "               manual       667\n",
       "fiat           auto         218\n",
       "               manual      8769\n",
       "ford           auto        1788\n",
       "               manual     21982\n",
       "honda          auto         317\n",
       "               manual      2376\n",
       "hyundai        auto         382\n",
       "               manual      3072\n",
       "jaguar         auto         383\n",
       "               manual       104\n",
       "jeep           auto         431\n",
       "               manual       213\n",
       "kia            auto         479\n",
       "               manual      1897\n",
       "lada           auto           1\n",
       "               manual       201\n",
       "lancia         auto          50\n",
       "               manual       395\n",
       "land_rover     auto         211\n",
       "               manual       308\n",
       "mazda          auto         268\n",
       "               manual      5074\n",
       "mercedes_benz  auto       16438\n",
       "               manual     14284\n",
       "mini           auto         187\n",
       "               manual      2940\n",
       "mitsubishi     auto         426\n",
       "               manual      2454\n",
       "nissan         auto         539\n",
       "               manual      4170\n",
       "opel           auto        3892\n",
       "               manual     33756\n",
       "peugeot        auto         627\n",
       "               manual      9877\n",
       "porsche        auto         291\n",
       "               manual       386\n",
       "renault        auto        1242\n",
       "Name: Gearbox, dtype: int64"
      ]
     },
     "execution_count": 14,
     "metadata": {},
     "output_type": "execute_result"
    }
   ],
   "source": [
    "data.groupby(['Brand','Gearbox'])['Gearbox'].count().head(55)"
   ]
  },
  {
   "cell_type": "markdown",
   "metadata": {},
   "source": [
    "Коробка передач в машине можеть быть на механике или автомате, в зависимости от комплектации. В основном доминирует значение `manual` - то заполним пропуски значением `manual`"
   ]
  },
  {
   "cell_type": "code",
   "execution_count": 15,
   "metadata": {},
   "outputs": [],
   "source": [
    "data[\"Gearbox\"] = data[\"Gearbox\"].fillna(\"manual\")"
   ]
  },
  {
   "cell_type": "markdown",
   "metadata": {},
   "source": [
    "#### Обоаботка `FuelType`"
   ]
  },
  {
   "cell_type": "code",
   "execution_count": 16,
   "metadata": {},
   "outputs": [
    {
     "data": {
      "text/plain": [
       "petrol      216352\n",
       "gasoline     98720\n",
       "NaN          32895\n",
       "lpg           5310\n",
       "cng            565\n",
       "hybrid         233\n",
       "other          204\n",
       "electric        90\n",
       "Name: FuelType, dtype: int64"
      ]
     },
     "execution_count": 16,
     "metadata": {},
     "output_type": "execute_result"
    }
   ],
   "source": [
    "data['FuelType'].value_counts(dropna=False)"
   ]
  },
  {
   "cell_type": "code",
   "execution_count": 17,
   "metadata": {},
   "outputs": [
    {
     "data": {
      "text/plain": [
       "Brand       FuelType\n",
       "alfa_romeo  gasoline      611\n",
       "            lpg            37\n",
       "            petrol       1444\n",
       "audi        cng             2\n",
       "            electric        2\n",
       "            gasoline    12423\n",
       "            hybrid          2\n",
       "            lpg           469\n",
       "            other           5\n",
       "            petrol      14305\n",
       "bmw         cng            10\n",
       "            electric        3\n",
       "            gasoline    12118\n",
       "            lpg           783\n",
       "            other           8\n",
       "            petrol      21056\n",
       "chevrolet   cng             4\n",
       "            gasoline      243\n",
       "            hybrid          1\n",
       "            lpg           180\n",
       "            other           1\n",
       "            petrol       1172\n",
       "chrysler    gasoline      393\n",
       "            lpg            95\n",
       "            petrol        828\n",
       "citroen     cng             8\n",
       "            electric        2\n",
       "            gasoline     1618\n",
       "            lpg            72\n",
       "            other           3\n",
       "            petrol       3025\n",
       "dacia       cng             2\n",
       "            gasoline      209\n",
       "            lpg            53\n",
       "            petrol        577\n",
       "daewoo      gasoline        1\n",
       "            lpg            24\n",
       "            other           1\n",
       "            petrol        447\n",
       "daihatsu    electric        1\n",
       "            gasoline        6\n",
       "            lpg             6\n",
       "            other           1\n",
       "            petrol        696\n",
       "fiat        cng            69\n",
       "            electric        4\n",
       "            gasoline     1518\n",
       "            hybrid          3\n",
       "            lpg            68\n",
       "            other           4\n",
       "            petrol       6938\n",
       "ford        cng            10\n",
       "            gasoline     6545\n",
       "            hybrid          1\n",
       "            lpg           295\n",
       "Name: FuelType, dtype: int64"
      ]
     },
     "execution_count": 17,
     "metadata": {},
     "output_type": "execute_result"
    }
   ],
   "source": [
    "data.groupby(['Brand','FuelType'])['FuelType'].count().head(55)"
   ]
  },
  {
   "cell_type": "code",
   "execution_count": 18,
   "metadata": {},
   "outputs": [
    {
     "data": {
      "text/html": [
       "<div>\n",
       "<style scoped>\n",
       "    .dataframe tbody tr th:only-of-type {\n",
       "        vertical-align: middle;\n",
       "    }\n",
       "\n",
       "    .dataframe tbody tr th {\n",
       "        vertical-align: top;\n",
       "    }\n",
       "\n",
       "    .dataframe thead th {\n",
       "        text-align: right;\n",
       "    }\n",
       "</style>\n",
       "<table border=\"1\" class=\"dataframe\">\n",
       "  <thead>\n",
       "    <tr style=\"text-align: right;\">\n",
       "      <th></th>\n",
       "      <th>Price</th>\n",
       "      <th>VehicleType</th>\n",
       "      <th>RegistrationYear</th>\n",
       "      <th>Gearbox</th>\n",
       "      <th>Power</th>\n",
       "      <th>Model</th>\n",
       "      <th>Kilometer</th>\n",
       "      <th>FuelType</th>\n",
       "      <th>Brand</th>\n",
       "      <th>NotRepaired</th>\n",
       "    </tr>\n",
       "  </thead>\n",
       "  <tbody>\n",
       "    <tr>\n",
       "      <th>9</th>\n",
       "      <td>999</td>\n",
       "      <td>small</td>\n",
       "      <td>1998</td>\n",
       "      <td>manual</td>\n",
       "      <td>101</td>\n",
       "      <td>golf</td>\n",
       "      <td>150000</td>\n",
       "      <td>NaN</td>\n",
       "      <td>volkswagen</td>\n",
       "      <td>NaN</td>\n",
       "    </tr>\n",
       "    <tr>\n",
       "      <th>13</th>\n",
       "      <td>2500</td>\n",
       "      <td>wagon</td>\n",
       "      <td>2004</td>\n",
       "      <td>manual</td>\n",
       "      <td>131</td>\n",
       "      <td>passat</td>\n",
       "      <td>150000</td>\n",
       "      <td>NaN</td>\n",
       "      <td>volkswagen</td>\n",
       "      <td>no</td>\n",
       "    </tr>\n",
       "    <tr>\n",
       "      <th>26</th>\n",
       "      <td>5555</td>\n",
       "      <td>other</td>\n",
       "      <td>2017</td>\n",
       "      <td>manual</td>\n",
       "      <td>125</td>\n",
       "      <td>c4</td>\n",
       "      <td>125000</td>\n",
       "      <td>NaN</td>\n",
       "      <td>citroen</td>\n",
       "      <td>no</td>\n",
       "    </tr>\n",
       "    <tr>\n",
       "      <th>36</th>\n",
       "      <td>1600</td>\n",
       "      <td>other</td>\n",
       "      <td>1991</td>\n",
       "      <td>manual</td>\n",
       "      <td>75</td>\n",
       "      <td>kadett</td>\n",
       "      <td>70000</td>\n",
       "      <td>NaN</td>\n",
       "      <td>opel</td>\n",
       "      <td>NaN</td>\n",
       "    </tr>\n",
       "    <tr>\n",
       "      <th>41</th>\n",
       "      <td>7500</td>\n",
       "      <td>sedan</td>\n",
       "      <td>2002</td>\n",
       "      <td>auto</td>\n",
       "      <td>306</td>\n",
       "      <td>e_klasse</td>\n",
       "      <td>150000</td>\n",
       "      <td>NaN</td>\n",
       "      <td>mercedes_benz</td>\n",
       "      <td>NaN</td>\n",
       "    </tr>\n",
       "    <tr>\n",
       "      <th>52</th>\n",
       "      <td>1400</td>\n",
       "      <td>other</td>\n",
       "      <td>2016</td>\n",
       "      <td>manual</td>\n",
       "      <td>55</td>\n",
       "      <td>other</td>\n",
       "      <td>5000</td>\n",
       "      <td>NaN</td>\n",
       "      <td>hyundai</td>\n",
       "      <td>NaN</td>\n",
       "    </tr>\n",
       "    <tr>\n",
       "      <th>54</th>\n",
       "      <td>4700</td>\n",
       "      <td>wagon</td>\n",
       "      <td>2005</td>\n",
       "      <td>manual</td>\n",
       "      <td>0</td>\n",
       "      <td>signum</td>\n",
       "      <td>150000</td>\n",
       "      <td>NaN</td>\n",
       "      <td>opel</td>\n",
       "      <td>no</td>\n",
       "    </tr>\n",
       "    <tr>\n",
       "      <th>57</th>\n",
       "      <td>2399</td>\n",
       "      <td>other</td>\n",
       "      <td>2018</td>\n",
       "      <td>manual</td>\n",
       "      <td>64</td>\n",
       "      <td>other</td>\n",
       "      <td>125000</td>\n",
       "      <td>NaN</td>\n",
       "      <td>seat</td>\n",
       "      <td>no</td>\n",
       "    </tr>\n",
       "    <tr>\n",
       "      <th>59</th>\n",
       "      <td>1</td>\n",
       "      <td>suv</td>\n",
       "      <td>1994</td>\n",
       "      <td>manual</td>\n",
       "      <td>286</td>\n",
       "      <td>NaN</td>\n",
       "      <td>150000</td>\n",
       "      <td>NaN</td>\n",
       "      <td>sonstige_autos</td>\n",
       "      <td>NaN</td>\n",
       "    </tr>\n",
       "    <tr>\n",
       "      <th>65</th>\n",
       "      <td>10900</td>\n",
       "      <td>other</td>\n",
       "      <td>2017</td>\n",
       "      <td>manual</td>\n",
       "      <td>101</td>\n",
       "      <td>astra</td>\n",
       "      <td>50000</td>\n",
       "      <td>NaN</td>\n",
       "      <td>opel</td>\n",
       "      <td>no</td>\n",
       "    </tr>\n",
       "    <tr>\n",
       "      <th>69</th>\n",
       "      <td>1200</td>\n",
       "      <td>coupe</td>\n",
       "      <td>2001</td>\n",
       "      <td>manual</td>\n",
       "      <td>0</td>\n",
       "      <td>astra</td>\n",
       "      <td>150000</td>\n",
       "      <td>NaN</td>\n",
       "      <td>opel</td>\n",
       "      <td>NaN</td>\n",
       "    </tr>\n",
       "    <tr>\n",
       "      <th>71</th>\n",
       "      <td>2300</td>\n",
       "      <td>other</td>\n",
       "      <td>1997</td>\n",
       "      <td>manual</td>\n",
       "      <td>150</td>\n",
       "      <td>5er</td>\n",
       "      <td>150000</td>\n",
       "      <td>NaN</td>\n",
       "      <td>bmw</td>\n",
       "      <td>no</td>\n",
       "    </tr>\n",
       "    <tr>\n",
       "      <th>81</th>\n",
       "      <td>350</td>\n",
       "      <td>small</td>\n",
       "      <td>1997</td>\n",
       "      <td>manual</td>\n",
       "      <td>54</td>\n",
       "      <td>NaN</td>\n",
       "      <td>150000</td>\n",
       "      <td>NaN</td>\n",
       "      <td>fiat</td>\n",
       "      <td>yes</td>\n",
       "    </tr>\n",
       "    <tr>\n",
       "      <th>92</th>\n",
       "      <td>250</td>\n",
       "      <td>other</td>\n",
       "      <td>2000</td>\n",
       "      <td>manual</td>\n",
       "      <td>60</td>\n",
       "      <td>ka</td>\n",
       "      <td>150000</td>\n",
       "      <td>NaN</td>\n",
       "      <td>ford</td>\n",
       "      <td>NaN</td>\n",
       "    </tr>\n",
       "    <tr>\n",
       "      <th>94</th>\n",
       "      <td>8390</td>\n",
       "      <td>other</td>\n",
       "      <td>2009</td>\n",
       "      <td>manual</td>\n",
       "      <td>0</td>\n",
       "      <td>insignia</td>\n",
       "      <td>150000</td>\n",
       "      <td>NaN</td>\n",
       "      <td>opel</td>\n",
       "      <td>NaN</td>\n",
       "    </tr>\n",
       "    <tr>\n",
       "      <th>96</th>\n",
       "      <td>6450</td>\n",
       "      <td>bus</td>\n",
       "      <td>2008</td>\n",
       "      <td>manual</td>\n",
       "      <td>84</td>\n",
       "      <td>transporter</td>\n",
       "      <td>150000</td>\n",
       "      <td>NaN</td>\n",
       "      <td>volkswagen</td>\n",
       "      <td>no</td>\n",
       "    </tr>\n",
       "    <tr>\n",
       "      <th>104</th>\n",
       "      <td>300</td>\n",
       "      <td>convertible</td>\n",
       "      <td>1992</td>\n",
       "      <td>manual</td>\n",
       "      <td>105</td>\n",
       "      <td>escort</td>\n",
       "      <td>150000</td>\n",
       "      <td>NaN</td>\n",
       "      <td>ford</td>\n",
       "      <td>yes</td>\n",
       "    </tr>\n",
       "    <tr>\n",
       "      <th>119</th>\n",
       "      <td>400</td>\n",
       "      <td>sedan</td>\n",
       "      <td>2000</td>\n",
       "      <td>manual</td>\n",
       "      <td>144</td>\n",
       "      <td>omega</td>\n",
       "      <td>150000</td>\n",
       "      <td>NaN</td>\n",
       "      <td>opel</td>\n",
       "      <td>yes</td>\n",
       "    </tr>\n",
       "    <tr>\n",
       "      <th>130</th>\n",
       "      <td>3390</td>\n",
       "      <td>other</td>\n",
       "      <td>2000</td>\n",
       "      <td>manual</td>\n",
       "      <td>0</td>\n",
       "      <td>3er</td>\n",
       "      <td>150000</td>\n",
       "      <td>NaN</td>\n",
       "      <td>bmw</td>\n",
       "      <td>NaN</td>\n",
       "    </tr>\n",
       "    <tr>\n",
       "      <th>135</th>\n",
       "      <td>1450</td>\n",
       "      <td>sedan</td>\n",
       "      <td>1992</td>\n",
       "      <td>manual</td>\n",
       "      <td>136</td>\n",
       "      <td>NaN</td>\n",
       "      <td>150000</td>\n",
       "      <td>NaN</td>\n",
       "      <td>audi</td>\n",
       "      <td>no</td>\n",
       "    </tr>\n",
       "  </tbody>\n",
       "</table>\n",
       "</div>"
      ],
      "text/plain": [
       "     Price  VehicleType  RegistrationYear Gearbox  Power        Model  \\\n",
       "9      999        small              1998  manual    101         golf   \n",
       "13    2500        wagon              2004  manual    131       passat   \n",
       "26    5555        other              2017  manual    125           c4   \n",
       "36    1600        other              1991  manual     75       kadett   \n",
       "41    7500        sedan              2002    auto    306     e_klasse   \n",
       "52    1400        other              2016  manual     55        other   \n",
       "54    4700        wagon              2005  manual      0       signum   \n",
       "57    2399        other              2018  manual     64        other   \n",
       "59       1          suv              1994  manual    286          NaN   \n",
       "65   10900        other              2017  manual    101        astra   \n",
       "69    1200        coupe              2001  manual      0        astra   \n",
       "71    2300        other              1997  manual    150          5er   \n",
       "81     350        small              1997  manual     54          NaN   \n",
       "92     250        other              2000  manual     60           ka   \n",
       "94    8390        other              2009  manual      0     insignia   \n",
       "96    6450          bus              2008  manual     84  transporter   \n",
       "104    300  convertible              1992  manual    105       escort   \n",
       "119    400        sedan              2000  manual    144        omega   \n",
       "130   3390        other              2000  manual      0          3er   \n",
       "135   1450        sedan              1992  manual    136          NaN   \n",
       "\n",
       "     Kilometer FuelType           Brand NotRepaired  \n",
       "9       150000      NaN      volkswagen         NaN  \n",
       "13      150000      NaN      volkswagen          no  \n",
       "26      125000      NaN         citroen          no  \n",
       "36       70000      NaN            opel         NaN  \n",
       "41      150000      NaN   mercedes_benz         NaN  \n",
       "52        5000      NaN         hyundai         NaN  \n",
       "54      150000      NaN            opel          no  \n",
       "57      125000      NaN            seat          no  \n",
       "59      150000      NaN  sonstige_autos         NaN  \n",
       "65       50000      NaN            opel          no  \n",
       "69      150000      NaN            opel         NaN  \n",
       "71      150000      NaN             bmw          no  \n",
       "81      150000      NaN            fiat         yes  \n",
       "92      150000      NaN            ford         NaN  \n",
       "94      150000      NaN            opel         NaN  \n",
       "96      150000      NaN      volkswagen          no  \n",
       "104     150000      NaN            ford         yes  \n",
       "119     150000      NaN            opel         yes  \n",
       "130     150000      NaN             bmw         NaN  \n",
       "135     150000      NaN            audi          no  "
      ]
     },
     "execution_count": 18,
     "metadata": {},
     "output_type": "execute_result"
    }
   ],
   "source": [
    "data[data[\"FuelType\"].isna()].head(20)"
   ]
  },
  {
   "cell_type": "code",
   "execution_count": 19,
   "metadata": {},
   "outputs": [],
   "source": [
    "data_audi = data.query('Brand == \"audi\" and FuelType == \"electric\"')"
   ]
  },
  {
   "cell_type": "code",
   "execution_count": 20,
   "metadata": {},
   "outputs": [
    {
     "data": {
      "text/html": [
       "<div>\n",
       "<style scoped>\n",
       "    .dataframe tbody tr th:only-of-type {\n",
       "        vertical-align: middle;\n",
       "    }\n",
       "\n",
       "    .dataframe tbody tr th {\n",
       "        vertical-align: top;\n",
       "    }\n",
       "\n",
       "    .dataframe thead th {\n",
       "        text-align: right;\n",
       "    }\n",
       "</style>\n",
       "<table border=\"1\" class=\"dataframe\">\n",
       "  <thead>\n",
       "    <tr style=\"text-align: right;\">\n",
       "      <th></th>\n",
       "      <th>Price</th>\n",
       "      <th>VehicleType</th>\n",
       "      <th>RegistrationYear</th>\n",
       "      <th>Gearbox</th>\n",
       "      <th>Power</th>\n",
       "      <th>Model</th>\n",
       "      <th>Kilometer</th>\n",
       "      <th>FuelType</th>\n",
       "      <th>Brand</th>\n",
       "      <th>NotRepaired</th>\n",
       "    </tr>\n",
       "  </thead>\n",
       "  <tbody>\n",
       "    <tr>\n",
       "      <th>30569</th>\n",
       "      <td>8300</td>\n",
       "      <td>wagon</td>\n",
       "      <td>2008</td>\n",
       "      <td>auto</td>\n",
       "      <td>140</td>\n",
       "      <td>a4</td>\n",
       "      <td>150000</td>\n",
       "      <td>electric</td>\n",
       "      <td>audi</td>\n",
       "      <td>no</td>\n",
       "    </tr>\n",
       "    <tr>\n",
       "      <th>71224</th>\n",
       "      <td>800</td>\n",
       "      <td>sedan</td>\n",
       "      <td>1997</td>\n",
       "      <td>manual</td>\n",
       "      <td>102</td>\n",
       "      <td>a4</td>\n",
       "      <td>150000</td>\n",
       "      <td>electric</td>\n",
       "      <td>audi</td>\n",
       "      <td>no</td>\n",
       "    </tr>\n",
       "  </tbody>\n",
       "</table>\n",
       "</div>"
      ],
      "text/plain": [
       "       Price VehicleType  RegistrationYear Gearbox  Power Model  Kilometer  \\\n",
       "30569   8300       wagon              2008    auto    140    a4     150000   \n",
       "71224    800       sedan              1997  manual    102    a4     150000   \n",
       "\n",
       "       FuelType Brand NotRepaired  \n",
       "30569  electric  audi          no  \n",
       "71224  electric  audi          no  "
      ]
     },
     "execution_count": 20,
     "metadata": {},
     "output_type": "execute_result"
    }
   ],
   "source": [
    "data_audi"
   ]
  },
  {
   "cell_type": "markdown",
   "metadata": {},
   "source": [
    "В огромном количестве преобладают машины на бензине. Поэтому пропуски можно заполнить  `petrol`. Еще возникают вопросы по поводу корректности данных, так как например у ауди есть 2 электрические машины 2008 и 1997 года модели а4. На тот момент таких авто еще не существовало."
   ]
  },
  {
   "cell_type": "code",
   "execution_count": 21,
   "metadata": {},
   "outputs": [],
   "source": [
    "data['FuelType'] = data['FuelType'].fillna(\"petrol\")"
   ]
  },
  {
   "cell_type": "markdown",
   "metadata": {},
   "source": [
    "#### Обоаботка `NotRepaired`"
   ]
  },
  {
   "cell_type": "code",
   "execution_count": 22,
   "metadata": {},
   "outputs": [
    {
     "data": {
      "text/plain": [
       "no     247161\n",
       "NaN     71154\n",
       "yes     36054\n",
       "Name: NotRepaired, dtype: int64"
      ]
     },
     "execution_count": 22,
     "metadata": {},
     "output_type": "execute_result"
    }
   ],
   "source": [
    "data[\"NotRepaired\"].value_counts(dropna=False)"
   ]
  },
  {
   "cell_type": "markdown",
   "metadata": {},
   "source": [
    "Данные пропуски могли возникнуть в результате того, что машина не чинилась - и когда клиент заполнял форму, то пропускал данное поле. Поэтому пропуски можно заполнить `no`"
   ]
  },
  {
   "cell_type": "code",
   "execution_count": 23,
   "metadata": {},
   "outputs": [],
   "source": [
    "data['NotRepaired'] = data['NotRepaired'].fillna(\"unknown\")"
   ]
  },
  {
   "cell_type": "markdown",
   "metadata": {},
   "source": [
    "#### Обоаботка `Model`"
   ]
  },
  {
   "cell_type": "code",
   "execution_count": 24,
   "metadata": {},
   "outputs": [
    {
     "data": {
      "text/plain": [
       "golf                  29232\n",
       "other                 24421\n",
       "3er                   19761\n",
       "polo                  13066\n",
       "corsa                 12570\n",
       "                      ...  \n",
       "i3                        8\n",
       "rangerover                4\n",
       "serie_3                   4\n",
       "serie_1                   2\n",
       "range_rover_evoque        2\n",
       "Name: Model, Length: 250, dtype: int64"
      ]
     },
     "execution_count": 24,
     "metadata": {},
     "output_type": "execute_result"
    }
   ],
   "source": [
    "data[\"Model\"].value_counts()"
   ]
  },
  {
   "cell_type": "code",
   "execution_count": 25,
   "metadata": {},
   "outputs": [
    {
     "data": {
      "text/plain": [
       "Brand       Model    \n",
       "alfa_romeo  145             49\n",
       "            147            572\n",
       "            156            629\n",
       "            159            212\n",
       "            other          521\n",
       "            spider         194\n",
       "audi        100            417\n",
       "            200             18\n",
       "            80            1604\n",
       "            90             103\n",
       "            a1             595\n",
       "            a2             373\n",
       "            a3            6122\n",
       "            a4            9900\n",
       "            a5             545\n",
       "            a6            5541\n",
       "            a8             529\n",
       "            other         1033\n",
       "            q3              15\n",
       "            q5              97\n",
       "            q7             205\n",
       "            tt            1076\n",
       "bmw         1er           3514\n",
       "            3er          19761\n",
       "            5er           7868\n",
       "            6er            156\n",
       "            7er           1017\n",
       "            i3               8\n",
       "            m_reihe        132\n",
       "            other          217\n",
       "            x_reihe       1589\n",
       "            z_reihe        717\n",
       "chevrolet   aveo           117\n",
       "            captiva        168\n",
       "            matiz          284\n",
       "            other          950\n",
       "            spark          125\n",
       "chrysler    300c           145\n",
       "            crossfire       64\n",
       "            grand          110\n",
       "            other          381\n",
       "            ptcruiser      308\n",
       "            voyager        342\n",
       "citroen     berlingo       824\n",
       "            c1             391\n",
       "            c2             395\n",
       "            c3             506\n",
       "            c4             444\n",
       "            c5             490\n",
       "            other         1849\n",
       "dacia       duster         204\n",
       "            lodgy           35\n",
       "            logan          322\n",
       "            other           22\n",
       "            sandero        295\n",
       "Name: Model, dtype: int64"
      ]
     },
     "execution_count": 25,
     "metadata": {},
     "output_type": "execute_result"
    }
   ],
   "source": [
    "data.groupby(['Brand','Model'])['Model'].count().head(55)"
   ]
  },
  {
   "cell_type": "code",
   "execution_count": 26,
   "metadata": {},
   "outputs": [
    {
     "data": {
      "text/html": [
       "<div>\n",
       "<style scoped>\n",
       "    .dataframe tbody tr th:only-of-type {\n",
       "        vertical-align: middle;\n",
       "    }\n",
       "\n",
       "    .dataframe tbody tr th {\n",
       "        vertical-align: top;\n",
       "    }\n",
       "\n",
       "    .dataframe thead th {\n",
       "        text-align: right;\n",
       "    }\n",
       "</style>\n",
       "<table border=\"1\" class=\"dataframe\">\n",
       "  <thead>\n",
       "    <tr style=\"text-align: right;\">\n",
       "      <th></th>\n",
       "      <th>Price</th>\n",
       "      <th>VehicleType</th>\n",
       "      <th>RegistrationYear</th>\n",
       "      <th>Gearbox</th>\n",
       "      <th>Power</th>\n",
       "      <th>Model</th>\n",
       "      <th>Kilometer</th>\n",
       "      <th>FuelType</th>\n",
       "      <th>Brand</th>\n",
       "      <th>NotRepaired</th>\n",
       "    </tr>\n",
       "  </thead>\n",
       "  <tbody>\n",
       "    <tr>\n",
       "      <th>1</th>\n",
       "      <td>18300</td>\n",
       "      <td>coupe</td>\n",
       "      <td>2011</td>\n",
       "      <td>manual</td>\n",
       "      <td>190</td>\n",
       "      <td>NaN</td>\n",
       "      <td>125000</td>\n",
       "      <td>gasoline</td>\n",
       "      <td>audi</td>\n",
       "      <td>yes</td>\n",
       "    </tr>\n",
       "    <tr>\n",
       "      <th>59</th>\n",
       "      <td>1</td>\n",
       "      <td>suv</td>\n",
       "      <td>1994</td>\n",
       "      <td>manual</td>\n",
       "      <td>286</td>\n",
       "      <td>NaN</td>\n",
       "      <td>150000</td>\n",
       "      <td>petrol</td>\n",
       "      <td>sonstige_autos</td>\n",
       "      <td>unknown</td>\n",
       "    </tr>\n",
       "    <tr>\n",
       "      <th>81</th>\n",
       "      <td>350</td>\n",
       "      <td>small</td>\n",
       "      <td>1997</td>\n",
       "      <td>manual</td>\n",
       "      <td>54</td>\n",
       "      <td>NaN</td>\n",
       "      <td>150000</td>\n",
       "      <td>petrol</td>\n",
       "      <td>fiat</td>\n",
       "      <td>yes</td>\n",
       "    </tr>\n",
       "    <tr>\n",
       "      <th>115</th>\n",
       "      <td>0</td>\n",
       "      <td>small</td>\n",
       "      <td>1999</td>\n",
       "      <td>manual</td>\n",
       "      <td>0</td>\n",
       "      <td>NaN</td>\n",
       "      <td>5000</td>\n",
       "      <td>petrol</td>\n",
       "      <td>volkswagen</td>\n",
       "      <td>unknown</td>\n",
       "    </tr>\n",
       "    <tr>\n",
       "      <th>135</th>\n",
       "      <td>1450</td>\n",
       "      <td>sedan</td>\n",
       "      <td>1992</td>\n",
       "      <td>manual</td>\n",
       "      <td>136</td>\n",
       "      <td>NaN</td>\n",
       "      <td>150000</td>\n",
       "      <td>petrol</td>\n",
       "      <td>audi</td>\n",
       "      <td>no</td>\n",
       "    </tr>\n",
       "    <tr>\n",
       "      <th>...</th>\n",
       "      <td>...</td>\n",
       "      <td>...</td>\n",
       "      <td>...</td>\n",
       "      <td>...</td>\n",
       "      <td>...</td>\n",
       "      <td>...</td>\n",
       "      <td>...</td>\n",
       "      <td>...</td>\n",
       "      <td>...</td>\n",
       "      <td>...</td>\n",
       "    </tr>\n",
       "    <tr>\n",
       "      <th>354245</th>\n",
       "      <td>560</td>\n",
       "      <td>small</td>\n",
       "      <td>2001</td>\n",
       "      <td>auto</td>\n",
       "      <td>170</td>\n",
       "      <td>NaN</td>\n",
       "      <td>90000</td>\n",
       "      <td>petrol</td>\n",
       "      <td>fiat</td>\n",
       "      <td>yes</td>\n",
       "    </tr>\n",
       "    <tr>\n",
       "      <th>354321</th>\n",
       "      <td>9400</td>\n",
       "      <td>wagon</td>\n",
       "      <td>2007</td>\n",
       "      <td>manual</td>\n",
       "      <td>200</td>\n",
       "      <td>NaN</td>\n",
       "      <td>150000</td>\n",
       "      <td>gasoline</td>\n",
       "      <td>sonstige_autos</td>\n",
       "      <td>yes</td>\n",
       "    </tr>\n",
       "    <tr>\n",
       "      <th>354338</th>\n",
       "      <td>180</td>\n",
       "      <td>other</td>\n",
       "      <td>1995</td>\n",
       "      <td>manual</td>\n",
       "      <td>0</td>\n",
       "      <td>NaN</td>\n",
       "      <td>125000</td>\n",
       "      <td>petrol</td>\n",
       "      <td>opel</td>\n",
       "      <td>unknown</td>\n",
       "    </tr>\n",
       "    <tr>\n",
       "      <th>354351</th>\n",
       "      <td>1900</td>\n",
       "      <td>other</td>\n",
       "      <td>2000</td>\n",
       "      <td>manual</td>\n",
       "      <td>110</td>\n",
       "      <td>NaN</td>\n",
       "      <td>150000</td>\n",
       "      <td>petrol</td>\n",
       "      <td>volkswagen</td>\n",
       "      <td>no</td>\n",
       "    </tr>\n",
       "    <tr>\n",
       "      <th>354365</th>\n",
       "      <td>2200</td>\n",
       "      <td>other</td>\n",
       "      <td>2005</td>\n",
       "      <td>manual</td>\n",
       "      <td>0</td>\n",
       "      <td>NaN</td>\n",
       "      <td>20000</td>\n",
       "      <td>petrol</td>\n",
       "      <td>sonstige_autos</td>\n",
       "      <td>unknown</td>\n",
       "    </tr>\n",
       "  </tbody>\n",
       "</table>\n",
       "<p>19705 rows × 10 columns</p>\n",
       "</div>"
      ],
      "text/plain": [
       "        Price VehicleType  RegistrationYear Gearbox  Power Model  Kilometer  \\\n",
       "1       18300       coupe              2011  manual    190   NaN     125000   \n",
       "59          1         suv              1994  manual    286   NaN     150000   \n",
       "81        350       small              1997  manual     54   NaN     150000   \n",
       "115         0       small              1999  manual      0   NaN       5000   \n",
       "135      1450       sedan              1992  manual    136   NaN     150000   \n",
       "...       ...         ...               ...     ...    ...   ...        ...   \n",
       "354245    560       small              2001    auto    170   NaN      90000   \n",
       "354321   9400       wagon              2007  manual    200   NaN     150000   \n",
       "354338    180       other              1995  manual      0   NaN     125000   \n",
       "354351   1900       other              2000  manual    110   NaN     150000   \n",
       "354365   2200       other              2005  manual      0   NaN      20000   \n",
       "\n",
       "        FuelType           Brand NotRepaired  \n",
       "1       gasoline            audi         yes  \n",
       "59        petrol  sonstige_autos     unknown  \n",
       "81        petrol            fiat         yes  \n",
       "115       petrol      volkswagen     unknown  \n",
       "135       petrol            audi          no  \n",
       "...          ...             ...         ...  \n",
       "354245    petrol            fiat         yes  \n",
       "354321  gasoline  sonstige_autos         yes  \n",
       "354338    petrol            opel     unknown  \n",
       "354351    petrol      volkswagen          no  \n",
       "354365    petrol  sonstige_autos     unknown  \n",
       "\n",
       "[19705 rows x 10 columns]"
      ]
     },
     "execution_count": 26,
     "metadata": {},
     "output_type": "execute_result"
    }
   ],
   "source": [
    "data[data[\"Model\"].isna()]"
   ]
  },
  {
   "cell_type": "markdown",
   "metadata": {},
   "source": [
    "Заполнить модель по тиму кузова и бренду будет некорректно, так как у одной модели может быть разный тип кузова. Наиболее лучшим решением\n",
    "будет заполнить пропуски как `other`. Так как данная категория присутствует у всех брендов."
   ]
  },
  {
   "cell_type": "code",
   "execution_count": 27,
   "metadata": {},
   "outputs": [],
   "source": [
    "data['Model'] = data['Model'].fillna(\"other\")"
   ]
  },
  {
   "cell_type": "code",
   "execution_count": 28,
   "metadata": {},
   "outputs": [
    {
     "data": {
      "text/plain": [
       "Price               0.0\n",
       "VehicleType         0.0\n",
       "RegistrationYear    0.0\n",
       "Gearbox             0.0\n",
       "Power               0.0\n",
       "Model               0.0\n",
       "Kilometer           0.0\n",
       "FuelType            0.0\n",
       "Brand               0.0\n",
       "NotRepaired         0.0\n",
       "dtype: float64"
      ]
     },
     "execution_count": 28,
     "metadata": {},
     "output_type": "execute_result"
    }
   ],
   "source": [
    "data.isna().mean()"
   ]
  },
  {
   "cell_type": "markdown",
   "metadata": {},
   "source": [
    "#### Вывод:\n",
    "Пропуски в признаках заполнены"
   ]
  },
  {
   "cell_type": "markdown",
   "metadata": {},
   "source": [
    "### Обработка аномалий"
   ]
  },
  {
   "cell_type": "markdown",
   "metadata": {},
   "source": [
    "#### Обработка дубликатов"
   ]
  },
  {
   "cell_type": "code",
   "execution_count": 29,
   "metadata": {},
   "outputs": [
    {
     "data": {
      "text/plain": [
       "48636"
      ]
     },
     "execution_count": 29,
     "metadata": {},
     "output_type": "execute_result"
    }
   ],
   "source": [
    "data.duplicated().sum()"
   ]
  },
  {
   "cell_type": "markdown",
   "metadata": {},
   "source": [
    "Есть предположение, что в основном это похожие анкеты на продаже, поэтому они отображаются как дубликаты. От данных строк избавимся, чтобы не переобучивать модель"
   ]
  },
  {
   "cell_type": "code",
   "execution_count": 30,
   "metadata": {},
   "outputs": [],
   "source": [
    "data = data.drop_duplicates().reset_index(drop=True)"
   ]
  },
  {
   "cell_type": "code",
   "execution_count": 31,
   "metadata": {},
   "outputs": [
    {
     "name": "stdout",
     "output_type": "stream",
     "text": [
      "<class 'pandas.core.frame.DataFrame'>\n",
      "RangeIndex: 305733 entries, 0 to 305732\n",
      "Data columns (total 10 columns):\n",
      " #   Column            Non-Null Count   Dtype \n",
      "---  ------            --------------   ----- \n",
      " 0   Price             305733 non-null  int64 \n",
      " 1   VehicleType       305733 non-null  object\n",
      " 2   RegistrationYear  305733 non-null  int64 \n",
      " 3   Gearbox           305733 non-null  object\n",
      " 4   Power             305733 non-null  int64 \n",
      " 5   Model             305733 non-null  object\n",
      " 6   Kilometer         305733 non-null  int64 \n",
      " 7   FuelType          305733 non-null  object\n",
      " 8   Brand             305733 non-null  object\n",
      " 9   NotRepaired       305733 non-null  object\n",
      "dtypes: int64(4), object(6)\n",
      "memory usage: 23.3+ MB\n"
     ]
    }
   ],
   "source": [
    "data.info()"
   ]
  },
  {
   "cell_type": "code",
   "execution_count": 32,
   "metadata": {},
   "outputs": [
    {
     "data": {
      "text/plain": [
       "0"
      ]
     },
     "execution_count": 32,
     "metadata": {},
     "output_type": "execute_result"
    }
   ],
   "source": [
    "data.duplicated().sum()"
   ]
  },
  {
   "cell_type": "markdown",
   "metadata": {},
   "source": [
    "#### Обработка цены"
   ]
  },
  {
   "cell_type": "code",
   "execution_count": 33,
   "metadata": {},
   "outputs": [
    {
     "data": {
      "text/plain": [
       "count    305733.000000\n",
       "mean       4520.110328\n",
       "std        4573.250346\n",
       "min           0.000000\n",
       "25%        1100.000000\n",
       "50%        2800.000000\n",
       "75%        6500.000000\n",
       "max       20000.000000\n",
       "Name: Price, dtype: float64"
      ]
     },
     "execution_count": 33,
     "metadata": {},
     "output_type": "execute_result"
    }
   ],
   "source": [
    "data[\"Price\"].describe()"
   ]
  },
  {
   "cell_type": "code",
   "execution_count": 34,
   "metadata": {},
   "outputs": [
    {
     "data": {
      "text/plain": [
       "8456"
      ]
     },
     "execution_count": 34,
     "metadata": {},
     "output_type": "execute_result"
    }
   ],
   "source": [
    "data[data[\"Price\"]==0][\"Price\"].count()"
   ]
  },
  {
   "cell_type": "markdown",
   "metadata": {},
   "source": [
    "8973 объявлений, где цена за авто равняется 0 евро. Данные строки являются аномалиями - удалим их. Кроме того, много объявлений, где цена вальрируется от 1 до 500. Возьмем минимальный диапазон от 500 евро. "
   ]
  },
  {
   "cell_type": "code",
   "execution_count": 35,
   "metadata": {},
   "outputs": [],
   "source": [
    "data = data[data[\"Price\"] > 500]"
   ]
  },
  {
   "cell_type": "code",
   "execution_count": 36,
   "metadata": {},
   "outputs": [
    {
     "data": {
      "text/plain": [
       "<AxesSubplot:xlabel='Price', ylabel='Density'>"
      ]
     },
     "execution_count": 36,
     "metadata": {},
     "output_type": "execute_result"
    },
    {
     "data": {
      "image/png": "[encoded data removed]",
      "text/plain": [
       "<Figure size 432x288 with 1 Axes>"
      ]
     },
     "metadata": {
      "needs_background": "light"
     },
     "output_type": "display_data"
    }
   ],
   "source": [
    "sns.distplot(data[\"Price\"])"
   ]
  },
  {
   "cell_type": "code",
   "execution_count": 37,
   "metadata": {},
   "outputs": [
    {
     "data": {
      "text/plain": [
       "<AxesSubplot:xlabel='Price'>"
      ]
     },
     "execution_count": 37,
     "metadata": {},
     "output_type": "execute_result"
    },
    {
     "data": {
      "image/png": "[encoded data removed]",
      "text/plain": [
       "<Figure size 432x288 with 1 Axes>"
      ]
     },
     "metadata": {
      "needs_background": "light"
     },
     "output_type": "display_data"
    }
   ],
   "source": [
    "sns.boxplot(data[\"Price\"])"
   ]
  },
  {
   "cell_type": "markdown",
   "metadata": {},
   "source": [
    "По boxplot есть еще аномалии в цене после 15000 евро. Взглянем поближе на них"
   ]
  },
  {
   "cell_type": "code",
   "execution_count": 38,
   "metadata": {},
   "outputs": [
    {
     "data": {
      "text/plain": [
       "volkswagen       2805\n",
       "bmw              2484\n",
       "audi             2248\n",
       "mercedes_benz    2184\n",
       "ford              574\n",
       "Name: Brand, dtype: int64"
      ]
     },
     "execution_count": 38,
     "metadata": {},
     "output_type": "execute_result"
    }
   ],
   "source": [
    "data[data[\"Price\"] > 15000]['Brand'].value_counts().head()"
   ]
  },
  {
   "cell_type": "markdown",
   "metadata": {},
   "source": [
    "В основном это дорогие марки, поэтому данные не трогаем"
   ]
  },
  {
   "cell_type": "markdown",
   "metadata": {},
   "source": [
    "#### Обработка `Power`"
   ]
  },
  {
   "cell_type": "code",
   "execution_count": 39,
   "metadata": {},
   "outputs": [
    {
     "data": {
      "text/plain": [
       "24492"
      ]
     },
     "execution_count": 39,
     "metadata": {},
     "output_type": "execute_result"
    }
   ],
   "source": [
    "data[data[\"Power\"]<=0][\"Power\"].count()"
   ]
  },
  {
   "cell_type": "code",
   "execution_count": 40,
   "metadata": {},
   "outputs": [
    {
     "data": {
      "text/plain": [
       "count    270358.000000\n",
       "mean        116.843056\n",
       "std         200.795656\n",
       "min           0.000000\n",
       "25%          75.000000\n",
       "50%         109.000000\n",
       "75%         150.000000\n",
       "max       20000.000000\n",
       "Name: Power, dtype: float64"
      ]
     },
     "execution_count": 40,
     "metadata": {},
     "output_type": "execute_result"
    }
   ],
   "source": [
    "data[\"Power\"].describe()"
   ]
  },
  {
   "cell_type": "markdown",
   "metadata": {},
   "source": [
    "В мощности минимальное значение 0, а максимальное 20000. Необходимо задать диапозон"
   ]
  },
  {
   "cell_type": "code",
   "execution_count": 41,
   "metadata": {},
   "outputs": [
    {
     "data": {
      "text/plain": [
       "<AxesSubplot:xlabel='Power'>"
      ]
     },
     "execution_count": 41,
     "metadata": {},
     "output_type": "execute_result"
    },
    {
     "data": {
      "image/png": "[encoded data removed]",
      "text/plain": [
       "<Figure size 432x288 with 1 Axes>"
      ]
     },
     "metadata": {
      "needs_background": "light"
     },
     "output_type": "display_data"
    }
   ],
   "source": [
    "sns.boxplot(data[\"Power\"])"
   ]
  },
  {
   "cell_type": "markdown",
   "metadata": {},
   "source": [
    "В качестве минимального значения возьмем 50 л.с. , а максимальное 500 л.с. Так как уже почти с 500 л.с. принадлежат супер карам."
   ]
  },
  {
   "cell_type": "code",
   "execution_count": 42,
   "metadata": {},
   "outputs": [
    {
     "data": {
      "text/plain": [
       "24492"
      ]
     },
     "execution_count": 42,
     "metadata": {},
     "output_type": "execute_result"
    }
   ],
   "source": [
    "data[data['Power'] == 0][\"Power\"].count()"
   ]
  },
  {
   "cell_type": "code",
   "execution_count": 43,
   "metadata": {},
   "outputs": [
    {
     "data": {
      "text/plain": [
       "27942"
      ]
     },
     "execution_count": 43,
     "metadata": {},
     "output_type": "execute_result"
    }
   ],
   "source": [
    "data[data['Power']<50][\"Power\"].count()"
   ]
  },
  {
   "cell_type": "code",
   "execution_count": 44,
   "metadata": {},
   "outputs": [
    {
     "data": {
      "text/plain": [
       "10.335185198884442"
      ]
     },
     "execution_count": 44,
     "metadata": {},
     "output_type": "execute_result"
    }
   ],
   "source": [
    "data[data['Power']<50][\"Power\"].count() / len(data[\"Power\"]) * 100"
   ]
  },
  {
   "cell_type": "code",
   "execution_count": 45,
   "metadata": {},
   "outputs": [
    {
     "data": {
      "text/plain": [
       "359"
      ]
     },
     "execution_count": 45,
     "metadata": {},
     "output_type": "execute_result"
    }
   ],
   "source": [
    "data[data['Power']>500][\"Power\"].count()"
   ]
  },
  {
   "cell_type": "code",
   "execution_count": 46,
   "metadata": {},
   "outputs": [
    {
     "data": {
      "text/plain": [
       "0.1327868973731127"
      ]
     },
     "execution_count": 46,
     "metadata": {},
     "output_type": "execute_result"
    }
   ],
   "source": [
    "data[data['Power']>500][\"Power\"].count() / len(data[\"Power\"]) * 100"
   ]
  },
  {
   "cell_type": "code",
   "execution_count": 47,
   "metadata": {},
   "outputs": [
    {
     "data": {
      "text/plain": [
       "Brand       Model  Power\n",
       "alfa_romeo  145    0          2\n",
       "                   90         1\n",
       "                   103       11\n",
       "                   120        6\n",
       "                   129        1\n",
       "                   140        1\n",
       "                   150        1\n",
       "                   227        1\n",
       "            147    0         31\n",
       "                   77         5\n",
       "                   86         1\n",
       "                   101        4\n",
       "                   102        2\n",
       "                   104        1\n",
       "                   105      142\n",
       "                   110        4\n",
       "                   115        9\n",
       "                   116       35\n",
       "                   118        1\n",
       "                   120      145\n",
       "                   122        1\n",
       "                   140       16\n",
       "                   144        1\n",
       "                   150       78\n",
       "                   170        1\n",
       "                   175        2\n",
       "                   200        1\n",
       "                   208        1\n",
       "                   250        2\n",
       "                   15020      1\n",
       "            156    0         31\n",
       "                   90         2\n",
       "                   105        3\n",
       "                   110        3\n",
       "                   115        8\n",
       "                   116       20\n",
       "                   120       29\n",
       "                   122        1\n",
       "                   130        2\n",
       "                   136        8\n",
       "                   139        1\n",
       "                   140       79\n",
       "                   141        1\n",
       "                   142        1\n",
       "                   144       20\n",
       "                   145        1\n",
       "                   146        1\n",
       "                   149        1\n",
       "                   150       46\n",
       "                   155       67\n",
       "                   156        4\n",
       "                   160        3\n",
       "                   165        7\n",
       "                   166       56\n",
       "                   168        1\n",
       "Name: Power, dtype: int64"
      ]
     },
     "execution_count": 47,
     "metadata": {},
     "output_type": "execute_result"
    }
   ],
   "source": [
    "data.groupby(['Brand','Model',\"Power\"])['Power'].count().head(55)"
   ]
  },
  {
   "cell_type": "markdown",
   "metadata": {},
   "source": [
    "Таким образом, около 10% данных находятся в диапазоне до 50 л.с. При этом 89% строк с мощностью равняются 0.\n",
    "\n",
    "На мой взгляд, лучше удалить данные строки. Так как у одной модели бывают разные мощности и восстанавливать по средней в бренд-модель является не совсем корректным. \n"
   ]
  },
  {
   "cell_type": "code",
   "execution_count": 48,
   "metadata": {},
   "outputs": [],
   "source": [
    "data = data.query('50 < Power < 500')"
   ]
  },
  {
   "cell_type": "code",
   "execution_count": 49,
   "metadata": {},
   "outputs": [
    {
     "data": {
      "text/plain": [
       "<AxesSubplot:xlabel='Power'>"
      ]
     },
     "execution_count": 49,
     "metadata": {},
     "output_type": "execute_result"
    },
    {
     "data": {
      "image/png": "[encoded data removed]",
      "text/plain": [
       "<Figure size 432x288 with 1 Axes>"
      ]
     },
     "metadata": {
      "needs_background": "light"
     },
     "output_type": "display_data"
    }
   ],
   "source": [
    "sns.boxplot(data[\"Power\"])"
   ]
  },
  {
   "cell_type": "code",
   "execution_count": 50,
   "metadata": {},
   "outputs": [
    {
     "data": {
      "text/plain": [
       "count    239407.000000\n",
       "mean        126.092942\n",
       "std          52.729009\n",
       "min          51.000000\n",
       "25%          90.000000\n",
       "50%         116.000000\n",
       "75%         150.000000\n",
       "max         490.000000\n",
       "Name: Power, dtype: float64"
      ]
     },
     "execution_count": 50,
     "metadata": {},
     "output_type": "execute_result"
    }
   ],
   "source": [
    "data[\"Power\"].describe()"
   ]
  },
  {
   "cell_type": "markdown",
   "metadata": {},
   "source": [
    "#### Обработка `RegistrationYear`"
   ]
  },
  {
   "cell_type": "code",
   "execution_count": 51,
   "metadata": {},
   "outputs": [
    {
     "data": {
      "text/plain": [
       "count    239407.000000\n",
       "mean       2004.081706\n",
       "std          27.780983\n",
       "min        1000.000000\n",
       "25%        2000.000000\n",
       "50%        2004.000000\n",
       "75%        2008.000000\n",
       "max        9999.000000\n",
       "Name: RegistrationYear, dtype: float64"
      ]
     },
     "execution_count": 51,
     "metadata": {},
     "output_type": "execute_result"
    }
   ],
   "source": [
    "data[\"RegistrationYear\"].describe()"
   ]
  },
  {
   "cell_type": "markdown",
   "metadata": {},
   "source": [
    "Также как и с мощностью, зададим новый диапазон. Так как щас минимальный год - 1000. а максимальный 9999."
   ]
  },
  {
   "cell_type": "code",
   "execution_count": 52,
   "metadata": {},
   "outputs": [
    {
     "data": {
      "text/plain": [
       "array([1000, 1500, 1800, 1910, 1937, 1941, 1942, 1943, 1947, 1948, 1949,\n",
       "       1950, 1951, 1952, 1953, 1954, 1955, 1956, 1957, 1958, 1959, 1960,\n",
       "       1961, 1962, 1963, 1964, 1965, 1966, 1967, 1968, 1969, 1970, 1971,\n",
       "       1972, 1973, 1974, 1975, 1976, 1977, 1978, 1979, 1980, 1981, 1982,\n",
       "       1983, 1984, 1985, 1986, 1987, 1988, 1989, 1990, 1991, 1992, 1993,\n",
       "       1994, 1995, 1996, 1997, 1998, 1999, 2000, 2001, 2002, 2003, 2004,\n",
       "       2005, 2006, 2007, 2008, 2009, 2010, 2011, 2012, 2013, 2014, 2015,\n",
       "       2016, 2017, 2018, 2019, 2800, 2900, 4500, 5000, 5911, 6000, 9999])"
      ]
     },
     "execution_count": 52,
     "metadata": {},
     "output_type": "execute_result"
    }
   ],
   "source": [
    "data[\"RegistrationYear\"].sort_values(ascending = True).unique()"
   ]
  },
  {
   "cell_type": "markdown",
   "metadata": {},
   "source": [
    "После 2019 года идут аномальные значения. Но также стоит отметить, что данные выгружены на 2016 год. \n",
    "То тогда можно учитывать, что все даты после 2016 годя являются аномалиями. Посмотрим на количество объявлений между 2016 и 2019 годом"
   ]
  },
  {
   "cell_type": "code",
   "execution_count": 53,
   "metadata": {},
   "outputs": [
    {
     "data": {
      "text/plain": [
       "2511"
      ]
     },
     "execution_count": 53,
     "metadata": {},
     "output_type": "execute_result"
    }
   ],
   "source": [
    "data[(data[\"RegistrationYear\"] > 2017) & (data[\"RegistrationYear\"] < 2020)][\"RegistrationYear\"].count()"
   ]
  },
  {
   "cell_type": "code",
   "execution_count": 54,
   "metadata": {},
   "outputs": [
    {
     "data": {
      "text/plain": [
       "1.0488415125706432"
      ]
     },
     "execution_count": 54,
     "metadata": {},
     "output_type": "execute_result"
    }
   ],
   "source": [
    "data[(data[\"RegistrationYear\"] > 2017) & (data[\"RegistrationYear\"] < 2020)][\"RegistrationYear\"].count() / len(data[\"RegistrationYear\"]) * 100"
   ]
  },
  {
   "cell_type": "markdown",
   "metadata": {},
   "source": [
    "Всего 1.1% между 2016 и 2019 годом. Возьмем верхний предел до 2017 года"
   ]
  },
  {
   "cell_type": "code",
   "execution_count": 55,
   "metadata": {},
   "outputs": [],
   "source": [
    "data = data[data[\"RegistrationYear\"] < 2017]"
   ]
  },
  {
   "cell_type": "code",
   "execution_count": 56,
   "metadata": {},
   "outputs": [
    {
     "data": {
      "text/plain": [
       "1800       1\n",
       "1941       1\n",
       "1500       1\n",
       "1947       1\n",
       "1948       1\n",
       "1949       1\n",
       "1000       1\n",
       "1937       2\n",
       "1942       2\n",
       "1952       2\n",
       "1910       3\n",
       "1943       3\n",
       "1953       4\n",
       "1954       4\n",
       "1955       4\n",
       "1950       4\n",
       "1957       4\n",
       "1958       5\n",
       "1951       6\n",
       "1959       6\n",
       "1956       7\n",
       "1961      12\n",
       "1962      13\n",
       "1960      23\n",
       "1963      25\n",
       "1964      26\n",
       "1965      33\n",
       "1967      42\n",
       "1968      52\n",
       "1966      62\n",
       "1969      63\n",
       "1971      64\n",
       "1975      73\n",
       "1970      74\n",
       "1973      85\n",
       "1976      85\n",
       "1974      90\n",
       "1977     103\n",
       "1972     119\n",
       "1978     169\n",
       "1981     172\n",
       "1979     182\n",
       "1980     196\n",
       "1982     208\n",
       "1984     252\n",
       "1983     264\n",
       "1986     297\n",
       "1985     343\n",
       "1987     423\n",
       "1988     621\n",
       "1989     819\n",
       "2015     923\n",
       "1990    1391\n",
       "1991    1668\n",
       "1992    1801\n",
       "Name: RegistrationYear, dtype: int64"
      ]
     },
     "execution_count": 56,
     "metadata": {},
     "output_type": "execute_result"
    }
   ],
   "source": [
    "data[\"RegistrationYear\"].value_counts(ascending = True).head(55)"
   ]
  },
  {
   "cell_type": "markdown",
   "metadata": {},
   "source": [
    "В качестве манимального года возьмем 1960 год. Так как количество автомобилей старше не так много и , скорей всего, уже не ликвидны."
   ]
  },
  {
   "cell_type": "code",
   "execution_count": 57,
   "metadata": {},
   "outputs": [],
   "source": [
    "data = data[data[\"RegistrationYear\"] > 1959]"
   ]
  },
  {
   "cell_type": "code",
   "execution_count": 58,
   "metadata": {},
   "outputs": [
    {
     "data": {
      "text/plain": [
       "count    230750.000000\n",
       "mean       2003.429512\n",
       "std           6.263131\n",
       "min        1960.000000\n",
       "25%        2000.000000\n",
       "50%        2004.000000\n",
       "75%        2008.000000\n",
       "max        2016.000000\n",
       "Name: RegistrationYear, dtype: float64"
      ]
     },
     "execution_count": 58,
     "metadata": {},
     "output_type": "execute_result"
    }
   ],
   "source": [
    "data[\"RegistrationYear\"].describe()"
   ]
  },
  {
   "cell_type": "code",
   "execution_count": 59,
   "metadata": {},
   "outputs": [
    {
     "name": "stdout",
     "output_type": "stream",
     "text": [
      "<class 'pandas.core.frame.DataFrame'>\n",
      "Int64Index: 230750 entries, 1 to 305732\n",
      "Data columns (total 10 columns):\n",
      " #   Column            Non-Null Count   Dtype \n",
      "---  ------            --------------   ----- \n",
      " 0   Price             230750 non-null  int64 \n",
      " 1   VehicleType       230750 non-null  object\n",
      " 2   RegistrationYear  230750 non-null  int64 \n",
      " 3   Gearbox           230750 non-null  object\n",
      " 4   Power             230750 non-null  int64 \n",
      " 5   Model             230750 non-null  object\n",
      " 6   Kilometer         230750 non-null  int64 \n",
      " 7   FuelType          230750 non-null  object\n",
      " 8   Brand             230750 non-null  object\n",
      " 9   NotRepaired       230750 non-null  object\n",
      "dtypes: int64(4), object(6)\n",
      "memory usage: 19.4+ MB\n"
     ]
    }
   ],
   "source": [
    "data.info()"
   ]
  },
  {
   "cell_type": "markdown",
   "metadata": {},
   "source": [
    "#### Вывод:\n",
    "Аномалии были отработаны"
   ]
  },
  {
   "cell_type": "code",
   "execution_count": 60,
   "metadata": {},
   "outputs": [
    {
     "data": {
      "text/plain": [
       "<AxesSubplot:>"
      ]
     },
     "execution_count": 60,
     "metadata": {},
     "output_type": "execute_result"
    },
    {
     "data": {
      "image/png": "[encoded data removed]",
      "text/plain": [
       "<Figure size 432x288 with 2 Axes>"
      ]
     },
     "metadata": {
      "needs_background": "light"
     },
     "output_type": "display_data"
    }
   ],
   "source": [
    "sns.heatmap(data.corr(), annot=True, linewidths=3, linecolor='white')"
   ]
  },
  {
   "cell_type": "markdown",
   "metadata": {},
   "source": [
    "По таблиице видно, что наблюадется средняя корреляция между мощностью от цены и датой регистрации авто от цены. Также наблюдается обратная корреляция цены от пробега автомобился.\n",
    "\n",
    "Обратная корреляция также наблюдается между пробегом и годом регистрации авто. \n",
    "\n",
    "Что в целом логично, чем больше мощность авто - тем больше цена. \n",
    "И также с пробегом: чем больше пробег - тем цена должна уменьшаться"
   ]
  },
  {
   "cell_type": "markdown",
   "metadata": {},
   "source": [
    "### Подготовка данных для обучения"
   ]
  },
  {
   "cell_type": "markdown",
   "metadata": {},
   "source": [
    "Проверим модели на 2 разных датасетов с различными способами кодировки:\n",
    "\n",
    "1. Ordinal Encoding\n",
    "2. One-Hot Enconding"
   ]
  },
  {
   "cell_type": "code",
   "execution_count": 61,
   "metadata": {},
   "outputs": [
    {
     "data": {
      "text/html": [
       "<div>\n",
       "<style scoped>\n",
       "    .dataframe tbody tr th:only-of-type {\n",
       "        vertical-align: middle;\n",
       "    }\n",
       "\n",
       "    .dataframe tbody tr th {\n",
       "        vertical-align: top;\n",
       "    }\n",
       "\n",
       "    .dataframe thead th {\n",
       "        text-align: right;\n",
       "    }\n",
       "</style>\n",
       "<table border=\"1\" class=\"dataframe\">\n",
       "  <thead>\n",
       "    <tr style=\"text-align: right;\">\n",
       "      <th></th>\n",
       "      <th>Price</th>\n",
       "      <th>VehicleType</th>\n",
       "      <th>RegistrationYear</th>\n",
       "      <th>Gearbox</th>\n",
       "      <th>Power</th>\n",
       "      <th>Model</th>\n",
       "      <th>Kilometer</th>\n",
       "      <th>FuelType</th>\n",
       "      <th>Brand</th>\n",
       "      <th>NotRepaired</th>\n",
       "    </tr>\n",
       "  </thead>\n",
       "  <tbody>\n",
       "    <tr>\n",
       "      <th>1</th>\n",
       "      <td>18300</td>\n",
       "      <td>coupe</td>\n",
       "      <td>2011</td>\n",
       "      <td>manual</td>\n",
       "      <td>190</td>\n",
       "      <td>other</td>\n",
       "      <td>125000</td>\n",
       "      <td>gasoline</td>\n",
       "      <td>audi</td>\n",
       "      <td>yes</td>\n",
       "    </tr>\n",
       "    <tr>\n",
       "      <th>2</th>\n",
       "      <td>9800</td>\n",
       "      <td>suv</td>\n",
       "      <td>2004</td>\n",
       "      <td>auto</td>\n",
       "      <td>163</td>\n",
       "      <td>grand</td>\n",
       "      <td>125000</td>\n",
       "      <td>gasoline</td>\n",
       "      <td>jeep</td>\n",
       "      <td>unknown</td>\n",
       "    </tr>\n",
       "    <tr>\n",
       "      <th>3</th>\n",
       "      <td>1500</td>\n",
       "      <td>small</td>\n",
       "      <td>2001</td>\n",
       "      <td>manual</td>\n",
       "      <td>75</td>\n",
       "      <td>golf</td>\n",
       "      <td>150000</td>\n",
       "      <td>petrol</td>\n",
       "      <td>volkswagen</td>\n",
       "      <td>no</td>\n",
       "    </tr>\n",
       "    <tr>\n",
       "      <th>4</th>\n",
       "      <td>3600</td>\n",
       "      <td>small</td>\n",
       "      <td>2008</td>\n",
       "      <td>manual</td>\n",
       "      <td>69</td>\n",
       "      <td>fabia</td>\n",
       "      <td>90000</td>\n",
       "      <td>gasoline</td>\n",
       "      <td>skoda</td>\n",
       "      <td>no</td>\n",
       "    </tr>\n",
       "    <tr>\n",
       "      <th>5</th>\n",
       "      <td>650</td>\n",
       "      <td>sedan</td>\n",
       "      <td>1995</td>\n",
       "      <td>manual</td>\n",
       "      <td>102</td>\n",
       "      <td>3er</td>\n",
       "      <td>150000</td>\n",
       "      <td>petrol</td>\n",
       "      <td>bmw</td>\n",
       "      <td>yes</td>\n",
       "    </tr>\n",
       "  </tbody>\n",
       "</table>\n",
       "</div>"
      ],
      "text/plain": [
       "   Price VehicleType  RegistrationYear Gearbox  Power  Model  Kilometer  \\\n",
       "1  18300       coupe              2011  manual    190  other     125000   \n",
       "2   9800         suv              2004    auto    163  grand     125000   \n",
       "3   1500       small              2001  manual     75   golf     150000   \n",
       "4   3600       small              2008  manual     69  fabia      90000   \n",
       "5    650       sedan              1995  manual    102    3er     150000   \n",
       "\n",
       "   FuelType       Brand NotRepaired  \n",
       "1  gasoline        audi         yes  \n",
       "2  gasoline        jeep     unknown  \n",
       "3    petrol  volkswagen          no  \n",
       "4  gasoline       skoda          no  \n",
       "5    petrol         bmw         yes  "
      ]
     },
     "execution_count": 61,
     "metadata": {},
     "output_type": "execute_result"
    }
   ],
   "source": [
    "data.head()"
   ]
  },
  {
   "cell_type": "code",
   "execution_count": 62,
   "metadata": {},
   "outputs": [],
   "source": [
    "columns_cod = [\"VehicleType\", \"Gearbox\", \"Model\", \"FuelType\", \"Brand\", \"NotRepaired\"]"
   ]
  },
  {
   "cell_type": "code",
   "execution_count": 63,
   "metadata": {},
   "outputs": [],
   "source": [
    "#One-Hot Enconding\n",
    "data_ohe = pd.get_dummies(data, drop_first = True)"
   ]
  },
  {
   "cell_type": "code",
   "execution_count": 64,
   "metadata": {},
   "outputs": [
    {
     "data": {
      "text/html": [
       "<div>\n",
       "<style scoped>\n",
       "    .dataframe tbody tr th:only-of-type {\n",
       "        vertical-align: middle;\n",
       "    }\n",
       "\n",
       "    .dataframe tbody tr th {\n",
       "        vertical-align: top;\n",
       "    }\n",
       "\n",
       "    .dataframe thead th {\n",
       "        text-align: right;\n",
       "    }\n",
       "</style>\n",
       "<table border=\"1\" class=\"dataframe\">\n",
       "  <thead>\n",
       "    <tr style=\"text-align: right;\">\n",
       "      <th></th>\n",
       "      <th>Price</th>\n",
       "      <th>RegistrationYear</th>\n",
       "      <th>Power</th>\n",
       "      <th>Kilometer</th>\n",
       "      <th>VehicleType_convertible</th>\n",
       "      <th>VehicleType_coupe</th>\n",
       "      <th>VehicleType_other</th>\n",
       "      <th>VehicleType_sedan</th>\n",
       "      <th>VehicleType_small</th>\n",
       "      <th>VehicleType_suv</th>\n",
       "      <th>...</th>\n",
       "      <th>Brand_smart</th>\n",
       "      <th>Brand_sonstige_autos</th>\n",
       "      <th>Brand_subaru</th>\n",
       "      <th>Brand_suzuki</th>\n",
       "      <th>Brand_toyota</th>\n",
       "      <th>Brand_trabant</th>\n",
       "      <th>Brand_volkswagen</th>\n",
       "      <th>Brand_volvo</th>\n",
       "      <th>NotRepaired_unknown</th>\n",
       "      <th>NotRepaired_yes</th>\n",
       "    </tr>\n",
       "  </thead>\n",
       "  <tbody>\n",
       "    <tr>\n",
       "      <th>1</th>\n",
       "      <td>18300</td>\n",
       "      <td>2011</td>\n",
       "      <td>190</td>\n",
       "      <td>125000</td>\n",
       "      <td>0</td>\n",
       "      <td>1</td>\n",
       "      <td>0</td>\n",
       "      <td>0</td>\n",
       "      <td>0</td>\n",
       "      <td>0</td>\n",
       "      <td>...</td>\n",
       "      <td>0</td>\n",
       "      <td>0</td>\n",
       "      <td>0</td>\n",
       "      <td>0</td>\n",
       "      <td>0</td>\n",
       "      <td>0</td>\n",
       "      <td>0</td>\n",
       "      <td>0</td>\n",
       "      <td>0</td>\n",
       "      <td>1</td>\n",
       "    </tr>\n",
       "    <tr>\n",
       "      <th>2</th>\n",
       "      <td>9800</td>\n",
       "      <td>2004</td>\n",
       "      <td>163</td>\n",
       "      <td>125000</td>\n",
       "      <td>0</td>\n",
       "      <td>0</td>\n",
       "      <td>0</td>\n",
       "      <td>0</td>\n",
       "      <td>0</td>\n",
       "      <td>1</td>\n",
       "      <td>...</td>\n",
       "      <td>0</td>\n",
       "      <td>0</td>\n",
       "      <td>0</td>\n",
       "      <td>0</td>\n",
       "      <td>0</td>\n",
       "      <td>0</td>\n",
       "      <td>0</td>\n",
       "      <td>0</td>\n",
       "      <td>1</td>\n",
       "      <td>0</td>\n",
       "    </tr>\n",
       "    <tr>\n",
       "      <th>3</th>\n",
       "      <td>1500</td>\n",
       "      <td>2001</td>\n",
       "      <td>75</td>\n",
       "      <td>150000</td>\n",
       "      <td>0</td>\n",
       "      <td>0</td>\n",
       "      <td>0</td>\n",
       "      <td>0</td>\n",
       "      <td>1</td>\n",
       "      <td>0</td>\n",
       "      <td>...</td>\n",
       "      <td>0</td>\n",
       "      <td>0</td>\n",
       "      <td>0</td>\n",
       "      <td>0</td>\n",
       "      <td>0</td>\n",
       "      <td>0</td>\n",
       "      <td>1</td>\n",
       "      <td>0</td>\n",
       "      <td>0</td>\n",
       "      <td>0</td>\n",
       "    </tr>\n",
       "    <tr>\n",
       "      <th>4</th>\n",
       "      <td>3600</td>\n",
       "      <td>2008</td>\n",
       "      <td>69</td>\n",
       "      <td>90000</td>\n",
       "      <td>0</td>\n",
       "      <td>0</td>\n",
       "      <td>0</td>\n",
       "      <td>0</td>\n",
       "      <td>1</td>\n",
       "      <td>0</td>\n",
       "      <td>...</td>\n",
       "      <td>0</td>\n",
       "      <td>0</td>\n",
       "      <td>0</td>\n",
       "      <td>0</td>\n",
       "      <td>0</td>\n",
       "      <td>0</td>\n",
       "      <td>0</td>\n",
       "      <td>0</td>\n",
       "      <td>0</td>\n",
       "      <td>0</td>\n",
       "    </tr>\n",
       "    <tr>\n",
       "      <th>5</th>\n",
       "      <td>650</td>\n",
       "      <td>1995</td>\n",
       "      <td>102</td>\n",
       "      <td>150000</td>\n",
       "      <td>0</td>\n",
       "      <td>0</td>\n",
       "      <td>0</td>\n",
       "      <td>1</td>\n",
       "      <td>0</td>\n",
       "      <td>0</td>\n",
       "      <td>...</td>\n",
       "      <td>0</td>\n",
       "      <td>0</td>\n",
       "      <td>0</td>\n",
       "      <td>0</td>\n",
       "      <td>0</td>\n",
       "      <td>0</td>\n",
       "      <td>0</td>\n",
       "      <td>0</td>\n",
       "      <td>0</td>\n",
       "      <td>1</td>\n",
       "    </tr>\n",
       "  </tbody>\n",
       "</table>\n",
       "<p>5 rows × 306 columns</p>\n",
       "</div>"
      ],
      "text/plain": [
       "   Price  RegistrationYear  Power  Kilometer  VehicleType_convertible  \\\n",
       "1  18300              2011    190     125000                        0   \n",
       "2   9800              2004    163     125000                        0   \n",
       "3   1500              2001     75     150000                        0   \n",
       "4   3600              2008     69      90000                        0   \n",
       "5    650              1995    102     150000                        0   \n",
       "\n",
       "   VehicleType_coupe  VehicleType_other  VehicleType_sedan  VehicleType_small  \\\n",
       "1                  1                  0                  0                  0   \n",
       "2                  0                  0                  0                  0   \n",
       "3                  0                  0                  0                  1   \n",
       "4                  0                  0                  0                  1   \n",
       "5                  0                  0                  1                  0   \n",
       "\n",
       "   VehicleType_suv  ...  Brand_smart  Brand_sonstige_autos  Brand_subaru  \\\n",
       "1                0  ...            0                     0             0   \n",
       "2                1  ...            0                     0             0   \n",
       "3                0  ...            0                     0             0   \n",
       "4                0  ...            0                     0             0   \n",
       "5                0  ...            0                     0             0   \n",
       "\n",
       "   Brand_suzuki  Brand_toyota  Brand_trabant  Brand_volkswagen  Brand_volvo  \\\n",
       "1             0             0              0                 0            0   \n",
       "2             0             0              0                 0            0   \n",
       "3             0             0              0                 1            0   \n",
       "4             0             0              0                 0            0   \n",
       "5             0             0              0                 0            0   \n",
       "\n",
       "   NotRepaired_unknown  NotRepaired_yes  \n",
       "1                    0                1  \n",
       "2                    1                0  \n",
       "3                    0                0  \n",
       "4                    0                0  \n",
       "5                    0                1  \n",
       "\n",
       "[5 rows x 306 columns]"
      ]
     },
     "execution_count": 64,
     "metadata": {},
     "output_type": "execute_result"
    }
   ],
   "source": [
    "data_ohe.head()"
   ]
  },
  {
   "cell_type": "code",
   "execution_count": 65,
   "metadata": {},
   "outputs": [],
   "source": [
    "#Ordinal Encoding\n",
    "encoder = OrdinalEncoder()\n",
    "data_oe = data.copy()\n",
    "data_oe[columns_cod] = encoder.fit_transform(data[columns_cod])"
   ]
  },
  {
   "cell_type": "code",
   "execution_count": 66,
   "metadata": {},
   "outputs": [
    {
     "data": {
      "text/html": [
       "<div>\n",
       "<style scoped>\n",
       "    .dataframe tbody tr th:only-of-type {\n",
       "        vertical-align: middle;\n",
       "    }\n",
       "\n",
       "    .dataframe tbody tr th {\n",
       "        vertical-align: top;\n",
       "    }\n",
       "\n",
       "    .dataframe thead th {\n",
       "        text-align: right;\n",
       "    }\n",
       "</style>\n",
       "<table border=\"1\" class=\"dataframe\">\n",
       "  <thead>\n",
       "    <tr style=\"text-align: right;\">\n",
       "      <th></th>\n",
       "      <th>Price</th>\n",
       "      <th>VehicleType</th>\n",
       "      <th>RegistrationYear</th>\n",
       "      <th>Gearbox</th>\n",
       "      <th>Power</th>\n",
       "      <th>Model</th>\n",
       "      <th>Kilometer</th>\n",
       "      <th>FuelType</th>\n",
       "      <th>Brand</th>\n",
       "      <th>NotRepaired</th>\n",
       "    </tr>\n",
       "  </thead>\n",
       "  <tbody>\n",
       "    <tr>\n",
       "      <th>1</th>\n",
       "      <td>18300</td>\n",
       "      <td>2.0</td>\n",
       "      <td>2011</td>\n",
       "      <td>1.0</td>\n",
       "      <td>190</td>\n",
       "      <td>165.0</td>\n",
       "      <td>125000</td>\n",
       "      <td>2.0</td>\n",
       "      <td>1.0</td>\n",
       "      <td>2.0</td>\n",
       "    </tr>\n",
       "    <tr>\n",
       "      <th>2</th>\n",
       "      <td>9800</td>\n",
       "      <td>6.0</td>\n",
       "      <td>2004</td>\n",
       "      <td>0.0</td>\n",
       "      <td>163</td>\n",
       "      <td>116.0</td>\n",
       "      <td>125000</td>\n",
       "      <td>2.0</td>\n",
       "      <td>14.0</td>\n",
       "      <td>1.0</td>\n",
       "    </tr>\n",
       "    <tr>\n",
       "      <th>3</th>\n",
       "      <td>1500</td>\n",
       "      <td>5.0</td>\n",
       "      <td>2001</td>\n",
       "      <td>1.0</td>\n",
       "      <td>75</td>\n",
       "      <td>115.0</td>\n",
       "      <td>150000</td>\n",
       "      <td>6.0</td>\n",
       "      <td>38.0</td>\n",
       "      <td>0.0</td>\n",
       "    </tr>\n",
       "    <tr>\n",
       "      <th>4</th>\n",
       "      <td>3600</td>\n",
       "      <td>5.0</td>\n",
       "      <td>2008</td>\n",
       "      <td>1.0</td>\n",
       "      <td>69</td>\n",
       "      <td>100.0</td>\n",
       "      <td>90000</td>\n",
       "      <td>2.0</td>\n",
       "      <td>31.0</td>\n",
       "      <td>0.0</td>\n",
       "    </tr>\n",
       "    <tr>\n",
       "      <th>5</th>\n",
       "      <td>650</td>\n",
       "      <td>4.0</td>\n",
       "      <td>1995</td>\n",
       "      <td>1.0</td>\n",
       "      <td>102</td>\n",
       "      <td>11.0</td>\n",
       "      <td>150000</td>\n",
       "      <td>6.0</td>\n",
       "      <td>2.0</td>\n",
       "      <td>2.0</td>\n",
       "    </tr>\n",
       "  </tbody>\n",
       "</table>\n",
       "</div>"
      ],
      "text/plain": [
       "   Price  VehicleType  RegistrationYear  Gearbox  Power  Model  Kilometer  \\\n",
       "1  18300          2.0              2011      1.0    190  165.0     125000   \n",
       "2   9800          6.0              2004      0.0    163  116.0     125000   \n",
       "3   1500          5.0              2001      1.0     75  115.0     150000   \n",
       "4   3600          5.0              2008      1.0     69  100.0      90000   \n",
       "5    650          4.0              1995      1.0    102   11.0     150000   \n",
       "\n",
       "   FuelType  Brand  NotRepaired  \n",
       "1       2.0    1.0          2.0  \n",
       "2       2.0   14.0          1.0  \n",
       "3       6.0   38.0          0.0  \n",
       "4       2.0   31.0          0.0  \n",
       "5       6.0    2.0          2.0  "
      ]
     },
     "execution_count": 66,
     "metadata": {},
     "output_type": "execute_result"
    }
   ],
   "source": [
    "data_oe.head()"
   ]
  },
  {
   "cell_type": "markdown",
   "metadata": {},
   "source": [
    "Разобьем исходный датасет на выборки"
   ]
  },
  {
   "cell_type": "markdown",
   "metadata": {},
   "source": [
    "#### One-Hot Enconding"
   ]
  },
  {
   "cell_type": "code",
   "execution_count": 67,
   "metadata": {},
   "outputs": [],
   "source": [
    "data_train_ohe, data_valid_ohe = train_test_split(data_ohe, test_size=0.2, random_state=12345)\n",
    "data_valid_ohe, data_test_ohe = train_test_split(data_valid_ohe , test_size=0.2, random_state=12345)"
   ]
  },
  {
   "cell_type": "code",
   "execution_count": 68,
   "metadata": {},
   "outputs": [],
   "source": [
    "features_train_ohe = data_train_ohe.drop(columns=['Price'])\n",
    "target_train_ohe = data_train_ohe['Price']\n",
    "\n",
    "features_valid_ohe = data_valid_ohe.drop(columns=['Price'])\n",
    "target_valid_ohe = data_valid_ohe['Price']\n",
    "\n",
    "features_test_ohe = data_test_ohe.drop(columns=['Price'])\n",
    "target_test_ohe = data_test_ohe['Price']"
   ]
  },
  {
   "cell_type": "markdown",
   "metadata": {},
   "source": [
    "#### Ordinal Encoding"
   ]
  },
  {
   "cell_type": "code",
   "execution_count": 69,
   "metadata": {},
   "outputs": [],
   "source": [
    "data_train_oe, data_valid_oe = train_test_split(data_oe, test_size=0.2, random_state=12345)\n",
    "data_valid_oe, data_test_oe = train_test_split(data_valid_oe , test_size=0.2, random_state=12345)"
   ]
  },
  {
   "cell_type": "code",
   "execution_count": 70,
   "metadata": {},
   "outputs": [],
   "source": [
    "features_train_oe = data_train_oe.drop(columns=['Price'])\n",
    "target_train_oe = data_train_oe['Price']\n",
    "\n",
    "features_valid_oe = data_valid_oe.drop(columns=['Price'])\n",
    "target_valid_oe = data_valid_oe['Price']\n",
    "\n",
    "features_test_oe = data_test_oe.drop(columns=['Price'])\n",
    "target_test_oe = data_test_oe['Price']"
   ]
  },
  {
   "cell_type": "markdown",
   "metadata": {},
   "source": [
    "## Обучение моделей"
   ]
  },
  {
   "cell_type": "markdown",
   "metadata": {},
   "source": [
    "### Линейная регрессия"
   ]
  },
  {
   "cell_type": "code",
   "execution_count": 71,
   "metadata": {},
   "outputs": [
    {
     "name": "stdout",
     "output_type": "stream",
     "text": [
      "RMSE LinearRegression: 2612.749226020545\n",
      "Время обучения: 19.1530601978302\n",
      "Время выполнения: 19.44792628288269\n",
      "CPU times: user 10.7 s, sys: 8.79 s, total: 19.5 s\n",
      "Wall time: 19.5 s\n"
     ]
    }
   ],
   "source": [
    "%%time\n",
    "\n",
    "model = LinearRegression()\n",
    "start_time = time.time()\n",
    "model.fit(features_train_ohe, target_train_ohe)\n",
    "time_lr_ohe_fit = time.time() - start_time\n",
    "\n",
    "\n",
    "predict_lr = pd.DataFrame(model.predict(features_valid_ohe))\n",
    "score_lr_ohe = mean_squared_error(target_valid_ohe, predict_lr) ** 0.5\n",
    "time_lr_ohe = time.time() -  start_time \n",
    "\n",
    "print(\"RMSE LinearRegression:\", score_lr_ohe)\n",
    "print(\"Время обучения:\",time_lr_ohe_fit)\n",
    "print(\"Время выполнения:\",time_lr_ohe)"
   ]
  },
  {
   "cell_type": "code",
   "execution_count": 72,
   "metadata": {},
   "outputs": [
    {
     "name": "stdout",
     "output_type": "stream",
     "text": [
      "RMSE LinearRegression: 2978.004099920741\n",
      "Время обучения: 0.047013044357299805\n",
      "Время выполнения: 0.19569778442382812\n",
      "CPU times: user 87.4 ms, sys: 108 ms, total: 195 ms\n",
      "Wall time: 196 ms\n"
     ]
    }
   ],
   "source": [
    "%%time\n",
    "\n",
    "model = LinearRegression()\n",
    "start_time = time.time()\n",
    "model.fit(features_train_oe, target_train_oe)\n",
    "time_lr_oe_fit = time.time() - start_time\n",
    "\n",
    "predict_lr = pd.DataFrame(model.predict(features_valid_oe))\n",
    "score_lr_oe = mean_squared_error(target_valid_oe, predict_lr) ** 0.5\n",
    "time_lr_oe = time.time() -  start_time\n",
    "\n",
    "print(\"RMSE LinearRegression:\", score_lr_oe)\n",
    "print(\"Время обучения:\",time_lr_oe_fit)\n",
    "print(\"Время выполнения:\",time_lr_oe)"
   ]
  },
  {
   "cell_type": "markdown",
   "metadata": {},
   "source": [
    "### LightGBM"
   ]
  },
  {
   "cell_type": "markdown",
   "metadata": {},
   "source": [
    "Параметры были подобраны с помощью GreadSearch ниже. Для ускорения процесса работы - лучшие параметры использовалиь в модели, а ячейки с GreadSearch закомментированы."
   ]
  },
  {
   "cell_type": "code",
   "execution_count": 73,
   "metadata": {},
   "outputs": [
    {
     "name": "stdout",
     "output_type": "stream",
     "text": [
      "RMSE LGBMRegressor: 1630.6786062416286\n",
      "Время обучения: 2108.59840631485\n",
      "Время выполнения: 2110.390785217285\n",
      "CPU times: user 34min 43s, sys: 9.69 s, total: 34min 53s\n",
      "Wall time: 35min 10s\n"
     ]
    }
   ],
   "source": [
    "%%time\n",
    "\n",
    "lgbm_model = LGBMRegressor(num_leaves=41, learning_rate=0.06, n_estimators=500, random_state=12345)\n",
    "start_time = time.time()\n",
    "lgbm_model.fit(features_train_ohe, target_train_ohe)\n",
    "time_lgbm_ohe_fit = time.time() - start_time\n",
    "predict_lgbm = pd.DataFrame(lgbm_model.predict(features_valid_ohe))\n",
    "\n",
    "score_lgbm_ohe = mean_squared_error(target_valid_ohe, predict_lgbm) ** 0.5\n",
    "time_lgmb_ohe = time.time() -  start_time\n",
    "\n",
    "print(\"RMSE LGBMRegressor:\", score_lgbm_ohe)\n",
    "print(\"Время обучения:\",time_lgbm_ohe_fit)\n",
    "print(\"Время выполнения:\",time_lgmb_ohe)"
   ]
  },
  {
   "cell_type": "code",
   "execution_count": 74,
   "metadata": {},
   "outputs": [
    {
     "name": "stdout",
     "output_type": "stream",
     "text": [
      "RMSE LGBMRegressor: 1632.5675069434822\n",
      "Время обучения: 2551.2028057575226\n",
      "Время выполнения: 2552.513604402542\n",
      "CPU times: user 42min, sys: 11.4 s, total: 42min 12s\n",
      "Wall time: 42min 32s\n"
     ]
    }
   ],
   "source": [
    "%%time\n",
    "\n",
    "lgbm_model = LGBMRegressor(num_leaves=41, learning_rate=0.06, n_estimators=500, random_state=12345)\n",
    "start_time = time.time()\n",
    "lgbm_model.fit(features_train_oe, target_train_oe)\n",
    "time_lgbm_oe_fit = time.time() - start_time\n",
    "\n",
    "predict_lgbm = pd.DataFrame(lgbm_model.predict(features_valid_oe))\n",
    "\n",
    "score_lgbm_oe = mean_squared_error(target_valid_oe, predict_lgbm) ** 0.5\n",
    "time_lgmb_oe = time.time() -  start_time\n",
    "\n",
    "print(\"RMSE LGBMRegressor:\", score_lgbm_oe)\n",
    "print(\"Время обучения:\",time_lgbm_oe_fit)\n",
    "print(\"Время выполнения:\",time_lgmb_oe)"
   ]
  },
  {
   "cell_type": "code",
   "execution_count": 75,
   "metadata": {},
   "outputs": [],
   "source": [
    "def rmse_score (target, predictions):\n",
    "    rmse = mean_squared_error(target, predictions)**0.5\n",
    "    return rmse\n",
    "scorer = make_scorer(rmse_score, greater_is_better=False)"
   ]
  },
  {
   "cell_type": "code",
   "execution_count": 76,
   "metadata": {},
   "outputs": [
    {
     "data": {
      "text/plain": [
       "'\\nlgbm_model_test = LGBMRegressor(random_state=12345)\\nlgbm_model_test_params = {\\'n_estimators\\': [50, 100, 500],\\n              \\'num_leaves\\': [21, 31, 41], \\n              \\'learning_rate\\':[0.01, .04, 0.06]}\\n\\ng_grid = GridSearchCV(lgbm_model_test, lgbm_model_test_params,\\n                         cv=5, verbose=5, scoring=scorer)\\n\\ng_grid.fit(features_train_oe, target_train_oe)\\n\\n\\nprint(\"RMSE LGBMRegressor:\", g_grid.best_score_*-1)\\nprint(\\'Наилучшие подобранные параметры для LGBM\\')\\nprint(g_grid.best_params_)\\n'"
      ]
     },
     "execution_count": 76,
     "metadata": {},
     "output_type": "execute_result"
    }
   ],
   "source": [
    "\"\"\"\n",
    "lgbm_model_test = LGBMRegressor(random_state=12345)\n",
    "lgbm_model_test_params = {'n_estimators': [50, 100, 500],\n",
    "              'num_leaves': [21, 31, 41], \n",
    "              'learning_rate':[0.01, .04, 0.06]}\n",
    "\n",
    "g_grid = GridSearchCV(lgbm_model_test, lgbm_model_test_params,\n",
    "                         cv=5, verbose=5, scoring=scorer)\n",
    "\n",
    "g_grid.fit(features_train_oe, target_train_oe)\n",
    "\n",
    "\n",
    "print(\"RMSE LGBMRegressor:\", g_grid.best_score_*-1)\n",
    "print('Наилучшие подобранные параметры для LGBM')\n",
    "print(g_grid.best_params_)\n",
    "\"\"\""
   ]
  },
  {
   "cell_type": "markdown",
   "metadata": {},
   "source": [
    "Ordinal Enconding RMSE получился 1724.8876081968356 при параметрах 'learning_rate': 0.06, 'n_estimators': 500, 'num_leaves': 41"
   ]
  },
  {
   "cell_type": "code",
   "execution_count": 77,
   "metadata": {},
   "outputs": [
    {
     "data": {
      "text/plain": [
       "'\\nlgbm_model_test = LGBMRegressor(random_state=12345)\\nlgbm_model_test_params = {\\'n_estimators\\': [50, 100, 500],\\n              \\'num_leaves\\': [21, 31, 41], \\n              \\'learning_rate\\':[0.01, .04, 0.06]}\\n\\ng_grid = GridSearchCV(lgbm_model_test, lgbm_model_test_params,\\n                         cv=5, verbose=5, scoring=scorer)\\n\\ng_grid.fit(features_train_ohe, target_train_ohe)\\n\\n\\nprint(\"RMSE LGBMRegressor:\", g_grid.best_score_*-1)\\nprint(\\'Наилучшие подобранные параметры для LGBM\\')\\nprint(g_grid.best_params_)\\n'"
      ]
     },
     "execution_count": 77,
     "metadata": {},
     "output_type": "execute_result"
    }
   ],
   "source": [
    "\"\"\"\n",
    "lgbm_model_test = LGBMRegressor(random_state=12345)\n",
    "lgbm_model_test_params = {'n_estimators': [50, 100, 500],\n",
    "              'num_leaves': [21, 31, 41], \n",
    "              'learning_rate':[0.01, .04, 0.06]}\n",
    "\n",
    "g_grid = GridSearchCV(lgbm_model_test, lgbm_model_test_params,\n",
    "                         cv=5, verbose=5, scoring=scorer)\n",
    "\n",
    "g_grid.fit(features_train_ohe, target_train_ohe)\n",
    "\n",
    "\n",
    "print(\"RMSE LGBMRegressor:\", g_grid.best_score_*-1)\n",
    "print('Наилучшие подобранные параметры для LGBM')\n",
    "print(g_grid.best_params_)\n",
    "\"\"\""
   ]
  },
  {
   "cell_type": "markdown",
   "metadata": {},
   "source": [
    "Для One-Hot Enconding RMSE LGBMRegressor = 1722.1694066585. \n",
    "\n",
    "Наилучшие подобранные параметры: learning_rate': 0.06, 'n_estimators': 500, 'num_leaves': 41"
   ]
  },
  {
   "cell_type": "markdown",
   "metadata": {},
   "source": [
    "### CatBoost"
   ]
  },
  {
   "cell_type": "code",
   "execution_count": 78,
   "metadata": {
    "scrolled": true
   },
   "outputs": [
    {
     "name": "stdout",
     "output_type": "stream",
     "text": [
      "Learning rate set to 0.164052\n",
      "0:\tlearn: 4173.5744054\ttotal: 76.7ms\tremaining: 38.3s\n",
      "10:\tlearn: 2361.8457561\ttotal: 312ms\tremaining: 13.9s\n",
      "20:\tlearn: 2044.7235113\ttotal: 532ms\tremaining: 12.1s\n",
      "30:\tlearn: 1929.9515201\ttotal: 758ms\tremaining: 11.5s\n",
      "40:\tlearn: 1873.7767741\ttotal: 968ms\tremaining: 10.8s\n",
      "50:\tlearn: 1832.4604661\ttotal: 1.18s\tremaining: 10.4s\n",
      "60:\tlearn: 1806.8699517\ttotal: 1.39s\tremaining: 9.98s\n",
      "70:\tlearn: 1783.6595218\ttotal: 1.6s\tremaining: 9.68s\n",
      "80:\tlearn: 1761.9824475\ttotal: 1.81s\tremaining: 9.39s\n",
      "90:\tlearn: 1745.6802245\ttotal: 2.04s\tremaining: 9.15s\n",
      "100:\tlearn: 1732.7637229\ttotal: 2.25s\tremaining: 8.88s\n",
      "110:\tlearn: 1721.6779783\ttotal: 2.45s\tremaining: 8.59s\n",
      "120:\tlearn: 1708.7514105\ttotal: 2.67s\tremaining: 8.35s\n",
      "130:\tlearn: 1700.4502362\ttotal: 2.87s\tremaining: 8.08s\n",
      "140:\tlearn: 1690.5435299\ttotal: 3.08s\tremaining: 7.84s\n",
      "150:\tlearn: 1683.1911046\ttotal: 3.29s\tremaining: 7.61s\n",
      "160:\tlearn: 1676.4763331\ttotal: 3.5s\tremaining: 7.37s\n",
      "170:\tlearn: 1669.3337304\ttotal: 3.71s\tremaining: 7.13s\n",
      "180:\tlearn: 1663.0492128\ttotal: 3.91s\tremaining: 6.89s\n",
      "190:\tlearn: 1657.0588772\ttotal: 4.13s\tremaining: 6.67s\n",
      "200:\tlearn: 1651.6102207\ttotal: 4.34s\tremaining: 6.46s\n",
      "210:\tlearn: 1646.5308858\ttotal: 4.56s\tremaining: 6.24s\n",
      "220:\tlearn: 1641.7327091\ttotal: 4.76s\tremaining: 6.01s\n",
      "230:\tlearn: 1637.8351432\ttotal: 4.97s\tremaining: 5.79s\n",
      "240:\tlearn: 1632.8464956\ttotal: 5.2s\tremaining: 5.58s\n",
      "250:\tlearn: 1628.9961400\ttotal: 5.43s\tremaining: 5.38s\n",
      "260:\tlearn: 1624.9615290\ttotal: 5.64s\tremaining: 5.17s\n",
      "270:\tlearn: 1621.8148093\ttotal: 5.86s\tremaining: 4.95s\n",
      "280:\tlearn: 1618.0673003\ttotal: 6.07s\tremaining: 4.73s\n",
      "290:\tlearn: 1615.0804145\ttotal: 6.28s\tremaining: 4.51s\n",
      "300:\tlearn: 1611.4113045\ttotal: 6.51s\tremaining: 4.3s\n",
      "310:\tlearn: 1608.3600865\ttotal: 6.73s\tremaining: 4.09s\n",
      "320:\tlearn: 1605.0366550\ttotal: 6.94s\tremaining: 3.87s\n",
      "330:\tlearn: 1601.9560639\ttotal: 7.15s\tremaining: 3.65s\n",
      "340:\tlearn: 1598.9945581\ttotal: 7.37s\tremaining: 3.44s\n",
      "350:\tlearn: 1596.1950451\ttotal: 7.58s\tremaining: 3.22s\n",
      "360:\tlearn: 1594.1161708\ttotal: 7.79s\tremaining: 3s\n",
      "370:\tlearn: 1591.2281785\ttotal: 8s\tremaining: 2.78s\n",
      "380:\tlearn: 1588.8811511\ttotal: 8.21s\tremaining: 2.56s\n",
      "390:\tlearn: 1586.6474510\ttotal: 8.42s\tremaining: 2.35s\n",
      "400:\tlearn: 1584.1565291\ttotal: 8.63s\tremaining: 2.13s\n",
      "410:\tlearn: 1581.6402159\ttotal: 8.84s\tremaining: 1.91s\n",
      "420:\tlearn: 1579.3845076\ttotal: 9.04s\tremaining: 1.7s\n",
      "430:\tlearn: 1577.4099842\ttotal: 9.25s\tremaining: 1.48s\n",
      "440:\tlearn: 1574.9176339\ttotal: 9.46s\tremaining: 1.27s\n",
      "450:\tlearn: 1573.0499897\ttotal: 9.69s\tremaining: 1.05s\n",
      "460:\tlearn: 1571.0596146\ttotal: 9.89s\tremaining: 837ms\n",
      "470:\tlearn: 1569.0101142\ttotal: 10.1s\tremaining: 622ms\n",
      "480:\tlearn: 1567.0724053\ttotal: 10.3s\tremaining: 407ms\n",
      "490:\tlearn: 1564.8649633\ttotal: 10.5s\tremaining: 193ms\n",
      "499:\tlearn: 1563.0820274\ttotal: 10.7s\tremaining: 0us\n",
      "RMSE CatBoostRegressor: 1643.5013842100338\n",
      "Время обучения: 12.48608946800232\n",
      "Время выполнения: 12.540420532226562\n",
      "CPU times: user 11.7 s, sys: 56.4 ms, total: 11.8 s\n",
      "Wall time: 12.5 s\n"
     ]
    }
   ],
   "source": [
    "%%time\n",
    "\n",
    "cat_model = CatBoostRegressor(loss_function=\"RMSE\", iterations=500, random_state=12345)\n",
    "start_time = time.time()\n",
    "cat_model.fit(features_train_ohe, target_train_ohe, verbose=10)\n",
    "time_cat_ohe_fit = time.time() - start_time\n",
    "\n",
    "predict_cat = cat_model.predict(features_valid_ohe)\n",
    "score_cat_ohe = mean_squared_error(target_valid_ohe, predict_cat) ** 0.5\n",
    "time_cat_ohe = time.time() -  start_time\n",
    "\n",
    "print(\"RMSE CatBoostRegressor:\", score_cat_ohe)\n",
    "print(\"Время обучения:\",time_cat_ohe_fit)\n",
    "print(\"Время выполнения:\",time_cat_ohe)"
   ]
  },
  {
   "cell_type": "code",
   "execution_count": 79,
   "metadata": {
    "scrolled": true
   },
   "outputs": [
    {
     "name": "stdout",
     "output_type": "stream",
     "text": [
      "Learning rate set to 0.164052\n",
      "0:\tlearn: 4187.9870844\ttotal: 23.4ms\tremaining: 11.7s\n",
      "10:\tlearn: 2356.4586892\ttotal: 254ms\tremaining: 11.3s\n",
      "20:\tlearn: 2046.0012136\ttotal: 480ms\tremaining: 11s\n",
      "30:\tlearn: 1925.4087946\ttotal: 708ms\tremaining: 10.7s\n",
      "40:\tlearn: 1866.5963178\ttotal: 929ms\tremaining: 10.4s\n",
      "50:\tlearn: 1824.4011626\ttotal: 1.17s\tremaining: 10.3s\n",
      "60:\tlearn: 1798.3638565\ttotal: 1.4s\tremaining: 10s\n",
      "70:\tlearn: 1777.1973309\ttotal: 1.61s\tremaining: 9.73s\n",
      "80:\tlearn: 1759.4533419\ttotal: 1.84s\tremaining: 9.53s\n",
      "90:\tlearn: 1742.0600299\ttotal: 2.07s\tremaining: 9.31s\n",
      "100:\tlearn: 1728.5376669\ttotal: 2.31s\tremaining: 9.14s\n",
      "110:\tlearn: 1716.1059941\ttotal: 2.54s\tremaining: 8.91s\n",
      "120:\tlearn: 1706.5476892\ttotal: 2.76s\tremaining: 8.66s\n",
      "130:\tlearn: 1696.0819298\ttotal: 2.99s\tremaining: 8.42s\n",
      "140:\tlearn: 1688.5186671\ttotal: 3.21s\tremaining: 8.18s\n",
      "150:\tlearn: 1680.4131314\ttotal: 3.44s\tremaining: 7.94s\n",
      "160:\tlearn: 1673.2333381\ttotal: 3.67s\tremaining: 7.72s\n",
      "170:\tlearn: 1666.2983040\ttotal: 3.91s\tremaining: 7.52s\n",
      "180:\tlearn: 1660.6572976\ttotal: 4.14s\tremaining: 7.29s\n",
      "190:\tlearn: 1654.6627272\ttotal: 4.36s\tremaining: 7.06s\n",
      "200:\tlearn: 1648.9795903\ttotal: 4.59s\tremaining: 6.83s\n",
      "210:\tlearn: 1643.7007389\ttotal: 4.82s\tremaining: 6.6s\n",
      "220:\tlearn: 1638.6374829\ttotal: 5.06s\tremaining: 6.38s\n",
      "230:\tlearn: 1634.2822027\ttotal: 5.29s\tremaining: 6.16s\n",
      "240:\tlearn: 1629.9228010\ttotal: 5.53s\tremaining: 5.95s\n",
      "250:\tlearn: 1625.7015188\ttotal: 5.78s\tremaining: 5.73s\n",
      "260:\tlearn: 1621.3097914\ttotal: 6s\tremaining: 5.5s\n",
      "270:\tlearn: 1617.9479772\ttotal: 6.22s\tremaining: 5.26s\n",
      "280:\tlearn: 1614.0010126\ttotal: 6.44s\tremaining: 5.02s\n",
      "290:\tlearn: 1610.2572892\ttotal: 6.67s\tremaining: 4.79s\n",
      "300:\tlearn: 1607.0395947\ttotal: 6.89s\tremaining: 4.56s\n",
      "310:\tlearn: 1603.1013154\ttotal: 7.13s\tremaining: 4.33s\n",
      "320:\tlearn: 1600.0995493\ttotal: 7.35s\tremaining: 4.1s\n",
      "330:\tlearn: 1596.9275116\ttotal: 7.58s\tremaining: 3.87s\n",
      "340:\tlearn: 1593.6727909\ttotal: 7.8s\tremaining: 3.64s\n",
      "350:\tlearn: 1591.2180270\ttotal: 8.07s\tremaining: 3.43s\n",
      "360:\tlearn: 1588.5813342\ttotal: 8.3s\tremaining: 3.19s\n",
      "370:\tlearn: 1586.4883554\ttotal: 8.52s\tremaining: 2.96s\n",
      "380:\tlearn: 1583.5157432\ttotal: 8.73s\tremaining: 2.73s\n",
      "390:\tlearn: 1581.2130386\ttotal: 8.96s\tremaining: 2.5s\n",
      "400:\tlearn: 1578.7346528\ttotal: 9.18s\tremaining: 2.27s\n",
      "410:\tlearn: 1576.4042472\ttotal: 9.4s\tremaining: 2.04s\n",
      "420:\tlearn: 1573.7405658\ttotal: 9.63s\tremaining: 1.81s\n",
      "430:\tlearn: 1571.2092369\ttotal: 9.85s\tremaining: 1.58s\n",
      "440:\tlearn: 1569.0924401\ttotal: 10.1s\tremaining: 1.35s\n",
      "450:\tlearn: 1567.1005701\ttotal: 10.3s\tremaining: 1.12s\n",
      "460:\tlearn: 1565.2794429\ttotal: 10.5s\tremaining: 889ms\n",
      "470:\tlearn: 1563.2522236\ttotal: 10.7s\tremaining: 661ms\n",
      "480:\tlearn: 1561.2699487\ttotal: 11s\tremaining: 433ms\n",
      "490:\tlearn: 1559.1714746\ttotal: 11.2s\tremaining: 205ms\n",
      "499:\tlearn: 1557.1272920\ttotal: 11.4s\tremaining: 0us\n",
      "RMSE CatBoostRegressor: 1654.2738357411672\n",
      "Время обучения: 12.077138900756836\n",
      "Время выполнения: 12.10905408859253\n",
      "CPU times: user 11.5 s, sys: 76.3 ms, total: 11.6 s\n",
      "Wall time: 12.1 s\n"
     ]
    }
   ],
   "source": [
    "%%time\n",
    "\n",
    "cat_model = CatBoostRegressor(loss_function=\"RMSE\", iterations=500, random_state=12345)\n",
    "start_time = time.time()\n",
    "cat_model.fit(features_train_oe, target_train_oe, verbose=10)\n",
    "time_cat_oe_fit = time.time() - start_time\n",
    "\n",
    "predict_cat = cat_model.predict(features_valid_oe)\n",
    "score_cat_oe = mean_squared_error(target_valid_oe, predict_cat) ** 0.5\n",
    "time_cat_oe = time.time() -  start_time\n",
    "\n",
    "print(\"RMSE CatBoostRegressor:\", score_cat_oe)\n",
    "print(\"Время обучения:\",time_cat_oe_fit)\n",
    "print(\"Время выполнения:\",time_cat_oe)"
   ]
  },
  {
   "cell_type": "markdown",
   "metadata": {},
   "source": [
    "## Анализ моделей"
   ]
  },
  {
   "cell_type": "code",
   "execution_count": 80,
   "metadata": {},
   "outputs": [],
   "source": [
    "data_itog = pd.DataFrame({\"Model\":[\"LinearRegression One-Hot Encoding\",\"LinearRegression Ordinal Encoding\",\n",
    "                                   \"LightGBM One-Hot Encoding\",\"LightGBM Ordinal Encoding\",\n",
    "                                  \"CatBoost One-Hot Encoding\",\"CatBoost Ordinal Encoding\"],\n",
    "                          \"RMSE\":[score_lr_ohe,score_lr_oe,score_lgbm_ohe,score_lgbm_oe,score_cat_ohe,score_cat_oe],\n",
    "                          \"Fit_time\":[time_lr_ohe,time_lr_oe,time_lgmb_ohe,time_lgmb_oe,time_cat_ohe,time_cat_oe],\n",
    "                          \"Predict_time\" :[time_lr_ohe_fit,time_lr_oe_fit,time_lgbm_ohe_fit,time_lgbm_oe_fit,time_cat_ohe_fit,time_cat_oe_fit]\n",
    "                         })"
   ]
  },
  {
   "cell_type": "code",
   "execution_count": 81,
   "metadata": {},
   "outputs": [
    {
     "data": {
      "text/html": [
       "<div>\n",
       "<style scoped>\n",
       "    .dataframe tbody tr th:only-of-type {\n",
       "        vertical-align: middle;\n",
       "    }\n",
       "\n",
       "    .dataframe tbody tr th {\n",
       "        vertical-align: top;\n",
       "    }\n",
       "\n",
       "    .dataframe thead th {\n",
       "        text-align: right;\n",
       "    }\n",
       "</style>\n",
       "<table border=\"1\" class=\"dataframe\">\n",
       "  <thead>\n",
       "    <tr style=\"text-align: right;\">\n",
       "      <th></th>\n",
       "      <th>Model</th>\n",
       "      <th>RMSE</th>\n",
       "      <th>Fit_time</th>\n",
       "      <th>Predict_time</th>\n",
       "    </tr>\n",
       "  </thead>\n",
       "  <tbody>\n",
       "    <tr>\n",
       "      <th>2</th>\n",
       "      <td>LightGBM One-Hot Encoding</td>\n",
       "      <td>1630.678606</td>\n",
       "      <td>2110.390785</td>\n",
       "      <td>2108.598406</td>\n",
       "    </tr>\n",
       "    <tr>\n",
       "      <th>3</th>\n",
       "      <td>LightGBM Ordinal Encoding</td>\n",
       "      <td>1632.567507</td>\n",
       "      <td>2552.513604</td>\n",
       "      <td>2551.202806</td>\n",
       "    </tr>\n",
       "    <tr>\n",
       "      <th>4</th>\n",
       "      <td>CatBoost One-Hot Encoding</td>\n",
       "      <td>1643.501384</td>\n",
       "      <td>12.540421</td>\n",
       "      <td>12.486089</td>\n",
       "    </tr>\n",
       "    <tr>\n",
       "      <th>5</th>\n",
       "      <td>CatBoost Ordinal Encoding</td>\n",
       "      <td>1654.273836</td>\n",
       "      <td>12.109054</td>\n",
       "      <td>12.077139</td>\n",
       "    </tr>\n",
       "    <tr>\n",
       "      <th>0</th>\n",
       "      <td>LinearRegression One-Hot Encoding</td>\n",
       "      <td>2612.749226</td>\n",
       "      <td>19.447926</td>\n",
       "      <td>19.153060</td>\n",
       "    </tr>\n",
       "    <tr>\n",
       "      <th>1</th>\n",
       "      <td>LinearRegression Ordinal Encoding</td>\n",
       "      <td>2978.004100</td>\n",
       "      <td>0.195698</td>\n",
       "      <td>0.047013</td>\n",
       "    </tr>\n",
       "  </tbody>\n",
       "</table>\n",
       "</div>"
      ],
      "text/plain": [
       "                               Model         RMSE     Fit_time  Predict_time\n",
       "2          LightGBM One-Hot Encoding  1630.678606  2110.390785   2108.598406\n",
       "3          LightGBM Ordinal Encoding  1632.567507  2552.513604   2551.202806\n",
       "4          CatBoost One-Hot Encoding  1643.501384    12.540421     12.486089\n",
       "5          CatBoost Ordinal Encoding  1654.273836    12.109054     12.077139\n",
       "0  LinearRegression One-Hot Encoding  2612.749226    19.447926     19.153060\n",
       "1  LinearRegression Ordinal Encoding  2978.004100     0.195698      0.047013"
      ]
     },
     "execution_count": 81,
     "metadata": {},
     "output_type": "execute_result"
    }
   ],
   "source": [
    "data_itog.sort_values(by=\"RMSE\")"
   ]
  },
  {
   "cell_type": "markdown",
   "metadata": {},
   "source": [
    "В итоге лучший результат получился у `LightGBM` с кодировкой данных - `One-Hot Encoding`. `RMSE` получился равным 1630.678606, но занимает больше всех времени при выполнении ячейки.\n",
    "\n",
    "Самое быстрое время получается у LinearRegression Ordinal Encoding, но при этом RMSE получается самым большим"
   ]
  },
  {
   "cell_type": "markdown",
   "metadata": {},
   "source": [
    "Примечание: Время каждый раз меняется при новом прогоне. Поэтому в выводах может быть указано другое время, чем получилось сейчас)"
   ]
  },
  {
   "cell_type": "code",
   "execution_count": 82,
   "metadata": {},
   "outputs": [
    {
     "name": "stdout",
     "output_type": "stream",
     "text": [
      "RMSE LGBMRegressor: 1667.2324537903153\n",
      "Время обучения: 2040.0195951461792\n",
      "Время выполнения: 2040.3436031341553\n",
      "CPU times: user 33min 36s, sys: 7.24 s, total: 33min 43s\n",
      "Wall time: 34min\n"
     ]
    }
   ],
   "source": [
    "%%time\n",
    "\n",
    "lgbm_model = LGBMRegressor(num_leaves=41, learning_rate=0.06, n_estimators=500, random_state=12345)\n",
    "start_time = time.time()\n",
    "lgbm_model.fit(features_train_oe, target_train_oe)\n",
    "fit_time_test = time.time() - start_time\n",
    "predict_lgbm = pd.DataFrame(lgbm_model.predict(features_test_oe))\n",
    "predict_time_test = time.time() - start_time\n",
    "score_lgbm_oe_test = mean_squared_error(target_test_oe, predict_lgbm) ** 0.5\n",
    "\n",
    "print(\"RMSE LGBMRegressor:\", score_lgbm_oe_test)\n",
    "print(\"Время обучения:\",fit_time_test)\n",
    "print(\"Время выполнения:\",predict_time_test)"
   ]
  },
  {
   "cell_type": "code",
   "execution_count": 83,
   "metadata": {},
   "outputs": [
    {
     "name": "stdout",
     "output_type": "stream",
     "text": [
      "RMSE LGBMRegressor: 1658.804580113724\n",
      "Время обучения: 2044.2086622714996\n",
      "Время выполнения: 2044.7198643684387\n"
     ]
    }
   ],
   "source": [
    "lgbm_model = LGBMRegressor(num_leaves=41, learning_rate=0.06, n_estimators=500, random_state=12345)\n",
    "start_time = time.time()\n",
    "lgbm_model.fit(features_train_ohe, target_train_ohe)\n",
    "fit_time_test = time.time() - start_time\n",
    "predict_lgbm = pd.DataFrame(lgbm_model.predict(features_test_ohe))\n",
    "predict_time_test = time.time() - start_time\n",
    "score_lgbm_ohe_test = mean_squared_error(target_test_ohe, predict_lgbm) ** 0.5\n",
    "\n",
    "print(\"RMSE LGBMRegressor:\", score_lgbm_ohe_test)\n",
    "print(\"Время обучения:\",fit_time_test)\n",
    "print(\"Время выполнения:\",predict_time_test)"
   ]
  },
  {
   "cell_type": "markdown",
   "metadata": {},
   "source": [
    "На тестовой выборке результат получился еще лучше RMSE = 1647.8164974937856, а время работы составило всего 14.6 секунд."
   ]
  },
  {
   "cell_type": "markdown",
   "metadata": {},
   "source": [
    "## Вывод: "
   ]
  },
  {
   "cell_type": "markdown",
   "metadata": {},
   "source": [
    "1. Были загружены данные и проанализированы. В результате были выявлены пропуски в VehicleType , Gearbox , Model , FuelType , NotRepaired и обнаружены аномалии;\n",
    "2. В ходе обработки данных были заполены пропуски, обработаны аномалии и удалены признаки, не несущие важности при обучении моделей.\n",
    "3. Данные были подготовлены для обучения. Разделены на обучающую, валидационную и тестовую выборку. Закодированы двумя методами: Ordinal Encoding и One-Hot Encoding;\n",
    "4. В качестве моделей были выбраны: LinearRegression, CatBoost, LightGBM.\n",
    "5. Наилучший результат показала LightGBM с кодировкой данных - `One-Hot Encoding`. `RMSE` получился равным 1630.678606.\n",
    "6. На тестовой выборке RMSE получился еще лучше RMSE = 1690.3892907277032, а время составило всего 14.6 секунд."
   ]
  }
 ],
 "metadata": {
  "ExecuteTimeLog": [
   {
    "duration": 376,
    "start_time": "2022-06-22T09:10:44.743Z"
   },
   {
    "duration": 2781,
    "start_time": "2022-06-22T09:33:56.944Z"
   },
   {
    "duration": 17,
    "start_time": "2022-06-22T09:34:31.884Z"
   },
   {
    "duration": 107,
    "start_time": "2022-06-22T09:34:35.239Z"
   },
   {
    "duration": 14,
    "start_time": "2022-06-22T09:35:05.430Z"
   },
   {
    "duration": 15,
    "start_time": "2022-06-22T09:35:30.070Z"
   },
   {
    "duration": 60,
    "start_time": "2022-06-22T09:37:17.552Z"
   },
   {
    "duration": 316,
    "start_time": "2022-06-22T09:37:24.605Z"
   },
   {
    "duration": 45,
    "start_time": "2022-06-22T09:37:42.947Z"
   },
   {
    "duration": 25,
    "start_time": "2022-06-22T09:37:49.006Z"
   },
   {
    "duration": 17,
    "start_time": "2022-06-22T11:39:43.026Z"
   },
   {
    "duration": 7,
    "start_time": "2022-06-22T12:08:04.468Z"
   },
   {
    "duration": 1078,
    "start_time": "2022-06-22T12:08:37.127Z"
   },
   {
    "duration": 649,
    "start_time": "2022-06-22T12:09:13.210Z"
   },
   {
    "duration": 576,
    "start_time": "2022-06-22T12:14:59.128Z"
   },
   {
    "duration": 587,
    "start_time": "2022-06-22T12:15:10.031Z"
   },
   {
    "duration": 626,
    "start_time": "2022-06-22T12:15:14.473Z"
   },
   {
    "duration": 586,
    "start_time": "2022-06-22T12:15:20.031Z"
   },
   {
    "duration": 549,
    "start_time": "2022-06-22T12:15:25.276Z"
   },
   {
    "duration": 532,
    "start_time": "2022-06-22T12:15:34.715Z"
   },
   {
    "duration": 528,
    "start_time": "2022-06-22T12:15:44.293Z"
   },
   {
    "duration": 559,
    "start_time": "2022-06-22T12:15:50.107Z"
   },
   {
    "duration": 579,
    "start_time": "2022-06-22T12:15:56.297Z"
   },
   {
    "duration": 559,
    "start_time": "2022-06-22T12:16:00.075Z"
   },
   {
    "duration": 1336,
    "start_time": "2022-06-23T07:40:06.825Z"
   },
   {
    "duration": 38760,
    "start_time": "2022-06-27T07:06:16.108Z"
   },
   {
    "duration": 2357,
    "start_time": "2022-06-27T07:07:19.032Z"
   },
   {
    "duration": 2527,
    "start_time": "2022-06-27T07:09:50.490Z"
   },
   {
    "duration": 2684,
    "start_time": "2022-06-27T07:10:17.084Z"
   },
   {
    "duration": 538,
    "start_time": "2022-06-27T07:13:07.633Z"
   },
   {
    "duration": 829,
    "start_time": "2022-06-27T07:14:29.348Z"
   },
   {
    "duration": 1815,
    "start_time": "2022-06-27T07:39:36.172Z"
   },
   {
    "duration": 1330,
    "start_time": "2022-06-27T07:39:37.989Z"
   },
   {
    "duration": 188,
    "start_time": "2022-06-27T07:39:39.321Z"
   },
   {
    "duration": 29,
    "start_time": "2022-06-27T07:39:39.512Z"
   },
   {
    "duration": 69,
    "start_time": "2022-06-27T07:39:39.543Z"
   },
   {
    "duration": 33,
    "start_time": "2022-06-27T07:39:39.614Z"
   },
   {
    "duration": 695,
    "start_time": "2022-06-27T07:39:39.649Z"
   },
   {
    "duration": 14,
    "start_time": "2022-06-27T08:06:15.282Z"
   },
   {
    "duration": 96,
    "start_time": "2022-06-27T08:06:24.296Z"
   },
   {
    "duration": 14,
    "start_time": "2022-06-27T08:08:13.975Z"
   },
   {
    "duration": 126,
    "start_time": "2022-06-27T08:08:27.812Z"
   },
   {
    "duration": 10,
    "start_time": "2022-06-27T08:08:37.365Z"
   },
   {
    "duration": 1111,
    "start_time": "2022-06-27T08:10:05.840Z"
   },
   {
    "duration": 3260,
    "start_time": "2022-06-27T08:10:12.819Z"
   },
   {
    "duration": 740,
    "start_time": "2022-06-27T08:10:41.270Z"
   },
   {
    "duration": 434,
    "start_time": "2022-06-27T08:10:52.194Z"
   },
   {
    "duration": 727,
    "start_time": "2022-06-27T08:10:58.552Z"
   },
   {
    "duration": 172,
    "start_time": "2022-06-27T08:11:16.331Z"
   },
   {
    "duration": 10,
    "start_time": "2022-06-27T08:14:00.615Z"
   },
   {
    "duration": 4,
    "start_time": "2022-06-27T08:14:02.084Z"
   },
   {
    "duration": 6700,
    "start_time": "2022-06-27T08:14:02.421Z"
   },
   {
    "duration": 5,
    "start_time": "2022-06-27T08:18:54.073Z"
   },
   {
    "duration": 463,
    "start_time": "2022-06-27T08:18:56.474Z"
   },
   {
    "duration": 4,
    "start_time": "2022-06-27T08:19:08.151Z"
   },
   {
    "duration": 7127,
    "start_time": "2022-06-27T08:19:10.250Z"
   },
   {
    "duration": 4,
    "start_time": "2022-06-27T08:22:08.899Z"
   },
   {
    "duration": 3697,
    "start_time": "2022-06-27T08:22:10.620Z"
   },
   {
    "duration": 6,
    "start_time": "2022-06-27T08:22:22.746Z"
   },
   {
    "duration": 6704,
    "start_time": "2022-06-27T08:22:30.349Z"
   },
   {
    "duration": 8,
    "start_time": "2022-06-27T08:22:46.994Z"
   },
   {
    "duration": 5202,
    "start_time": "2022-06-27T08:22:47.272Z"
   },
   {
    "duration": 5,
    "start_time": "2022-06-27T08:22:58.750Z"
   },
   {
    "duration": 5105,
    "start_time": "2022-06-27T08:23:07.017Z"
   },
   {
    "duration": 4,
    "start_time": "2022-06-27T08:23:22.382Z"
   },
   {
    "duration": 6983,
    "start_time": "2022-06-27T08:23:23.766Z"
   },
   {
    "duration": 6,
    "start_time": "2022-06-27T08:24:22.688Z"
   },
   {
    "duration": 6256,
    "start_time": "2022-06-27T08:24:23.158Z"
   },
   {
    "duration": 4,
    "start_time": "2022-06-27T08:24:42.081Z"
   },
   {
    "duration": 6762,
    "start_time": "2022-06-27T08:24:42.346Z"
   },
   {
    "duration": 131,
    "start_time": "2022-06-27T08:29:46.678Z"
   },
   {
    "duration": 22,
    "start_time": "2022-06-27T08:40:15.209Z"
   },
   {
    "duration": 12,
    "start_time": "2022-06-27T08:40:20.860Z"
   },
   {
    "duration": 15,
    "start_time": "2022-06-27T08:44:42.851Z"
   },
   {
    "duration": 23,
    "start_time": "2022-06-27T08:45:02.958Z"
   },
   {
    "duration": 91,
    "start_time": "2022-06-27T08:48:39.988Z"
   },
   {
    "duration": 70,
    "start_time": "2022-06-27T08:48:53.451Z"
   },
   {
    "duration": 95,
    "start_time": "2022-06-27T08:49:07.224Z"
   },
   {
    "duration": 84,
    "start_time": "2022-06-27T08:49:30.462Z"
   },
   {
    "duration": 31,
    "start_time": "2022-06-27T08:57:53.648Z"
   },
   {
    "duration": 89,
    "start_time": "2022-06-27T08:59:24.171Z"
   },
   {
    "duration": 85,
    "start_time": "2022-06-27T08:59:36.098Z"
   },
   {
    "duration": 120,
    "start_time": "2022-06-27T09:01:55.518Z"
   },
   {
    "duration": 20,
    "start_time": "2022-06-27T09:03:21.497Z"
   },
   {
    "duration": 87,
    "start_time": "2022-06-27T09:04:52.194Z"
   },
   {
    "duration": 34,
    "start_time": "2022-06-27T09:05:34.148Z"
   },
   {
    "duration": 36,
    "start_time": "2022-06-27T09:05:42.466Z"
   },
   {
    "duration": 32,
    "start_time": "2022-06-27T09:05:46.955Z"
   },
   {
    "duration": 39,
    "start_time": "2022-06-27T09:13:12.988Z"
   },
   {
    "duration": 24,
    "start_time": "2022-06-27T09:15:23.718Z"
   },
   {
    "duration": 12,
    "start_time": "2022-06-27T09:15:29.236Z"
   },
   {
    "duration": 41,
    "start_time": "2022-06-27T10:19:07.815Z"
   },
   {
    "duration": 52,
    "start_time": "2022-06-27T10:19:58.908Z"
   },
   {
    "duration": 11,
    "start_time": "2022-06-27T10:20:10.489Z"
   },
   {
    "duration": 39,
    "start_time": "2022-06-27T10:20:20.281Z"
   },
   {
    "duration": 34,
    "start_time": "2022-06-27T10:21:37.321Z"
   },
   {
    "duration": 15,
    "start_time": "2022-06-27T10:33:22.971Z"
   },
   {
    "duration": 55,
    "start_time": "2022-06-27T10:33:28.660Z"
   },
   {
    "duration": 94,
    "start_time": "2022-06-27T10:34:05.822Z"
   },
   {
    "duration": 50,
    "start_time": "2022-06-27T10:35:00.318Z"
   },
   {
    "duration": 23,
    "start_time": "2022-06-27T10:39:43.405Z"
   },
   {
    "duration": 97,
    "start_time": "2022-06-27T10:39:55.100Z"
   },
   {
    "duration": 9,
    "start_time": "2022-06-27T10:42:21.304Z"
   },
   {
    "duration": 180,
    "start_time": "2022-06-27T10:42:54.840Z"
   },
   {
    "duration": 200,
    "start_time": "2022-06-27T10:42:58.150Z"
   },
   {
    "duration": 194,
    "start_time": "2022-06-27T10:43:03.465Z"
   },
   {
    "duration": 240,
    "start_time": "2022-06-27T10:45:33.327Z"
   },
   {
    "duration": 92,
    "start_time": "2022-06-27T10:45:47.263Z"
   },
   {
    "duration": 172,
    "start_time": "2022-06-27T10:46:04.616Z"
   },
   {
    "duration": 14,
    "start_time": "2022-06-27T10:52:13.146Z"
   },
   {
    "duration": 12,
    "start_time": "2022-06-27T10:52:23.364Z"
   },
   {
    "duration": 24,
    "start_time": "2022-06-27T10:54:14.790Z"
   },
   {
    "duration": 78,
    "start_time": "2022-06-27T10:54:21.505Z"
   },
   {
    "duration": 9,
    "start_time": "2022-06-27T10:55:59.665Z"
   },
   {
    "duration": 22,
    "start_time": "2022-06-27T10:56:04.543Z"
   },
   {
    "duration": 12,
    "start_time": "2022-06-27T10:56:39.487Z"
   },
   {
    "duration": 14,
    "start_time": "2022-06-27T10:56:56.368Z"
   },
   {
    "duration": 2,
    "start_time": "2022-06-27T10:57:46.606Z"
   },
   {
    "duration": 12,
    "start_time": "2022-06-27T10:58:54.099Z"
   },
   {
    "duration": 17,
    "start_time": "2022-06-27T11:02:20.405Z"
   },
   {
    "duration": 11,
    "start_time": "2022-06-27T11:02:31.814Z"
   },
   {
    "duration": 164,
    "start_time": "2022-06-27T11:02:58.540Z"
   },
   {
    "duration": 287,
    "start_time": "2022-06-27T11:03:04.820Z"
   },
   {
    "duration": 316,
    "start_time": "2022-06-27T11:03:08.577Z"
   },
   {
    "duration": 137,
    "start_time": "2022-06-27T11:04:22.055Z"
   },
   {
    "duration": 22,
    "start_time": "2022-06-27T11:08:27.836Z"
   },
   {
    "duration": 1247,
    "start_time": "2022-06-27T11:08:44.057Z"
   },
   {
    "duration": 26,
    "start_time": "2022-06-27T11:08:57.780Z"
   },
   {
    "duration": 134,
    "start_time": "2022-06-27T11:10:04.364Z"
   },
   {
    "duration": 17,
    "start_time": "2022-06-27T11:10:16.333Z"
   },
   {
    "duration": 11,
    "start_time": "2022-06-27T11:11:04.225Z"
   },
   {
    "duration": 1073,
    "start_time": "2022-06-27T11:11:22.109Z"
   },
   {
    "duration": 30,
    "start_time": "2022-06-27T11:12:20.065Z"
   },
   {
    "duration": 17,
    "start_time": "2022-06-27T11:12:21.528Z"
   },
   {
    "duration": 16,
    "start_time": "2022-06-27T11:12:25.728Z"
   },
   {
    "duration": 33,
    "start_time": "2022-06-27T11:12:30.556Z"
   },
   {
    "duration": 22,
    "start_time": "2022-06-27T11:12:30.670Z"
   },
   {
    "duration": 18,
    "start_time": "2022-06-27T11:12:30.833Z"
   },
   {
    "duration": 30,
    "start_time": "2022-06-27T11:14:43.288Z"
   },
   {
    "duration": 21,
    "start_time": "2022-06-27T11:14:43.743Z"
   },
   {
    "duration": 19,
    "start_time": "2022-06-27T11:14:44.200Z"
   },
   {
    "duration": 17,
    "start_time": "2022-06-27T11:17:03.218Z"
   },
   {
    "duration": 157,
    "start_time": "2022-06-27T11:17:45.930Z"
   },
   {
    "duration": 35,
    "start_time": "2022-06-27T11:17:46.685Z"
   },
   {
    "duration": 20,
    "start_time": "2022-06-27T11:17:47.849Z"
   },
   {
    "duration": 16,
    "start_time": "2022-06-27T11:17:48.668Z"
   },
   {
    "duration": 16,
    "start_time": "2022-06-27T11:17:55.354Z"
   },
   {
    "duration": 132,
    "start_time": "2022-06-27T11:18:19.991Z"
   },
   {
    "duration": 129,
    "start_time": "2022-06-27T11:18:26.417Z"
   },
   {
    "duration": 1500,
    "start_time": "2022-06-27T11:18:29.425Z"
   },
   {
    "duration": 239,
    "start_time": "2022-06-27T11:18:33.472Z"
   },
   {
    "duration": 302,
    "start_time": "2022-06-27T11:18:38.607Z"
   },
   {
    "duration": 17,
    "start_time": "2022-06-27T11:21:15.893Z"
   },
   {
    "duration": 97,
    "start_time": "2022-06-27T11:21:22.585Z"
   },
   {
    "duration": 470,
    "start_time": "2022-06-27T11:21:29.550Z"
   },
   {
    "duration": 193,
    "start_time": "2022-06-27T11:21:42.175Z"
   },
   {
    "duration": 12,
    "start_time": "2022-06-27T11:21:54.875Z"
   },
   {
    "duration": 9,
    "start_time": "2022-06-27T11:22:08.430Z"
   },
   {
    "duration": 12,
    "start_time": "2022-06-27T11:22:13.340Z"
   },
   {
    "duration": 33,
    "start_time": "2022-06-27T11:24:29.885Z"
   },
   {
    "duration": 18,
    "start_time": "2022-06-27T11:24:42.711Z"
   },
   {
    "duration": 93,
    "start_time": "2022-06-27T11:24:52.531Z"
   },
   {
    "duration": 28,
    "start_time": "2022-06-27T11:25:43.284Z"
   },
   {
    "duration": 796,
    "start_time": "2022-06-27T11:26:04.823Z"
   },
   {
    "duration": 12,
    "start_time": "2022-06-27T11:27:12.419Z"
   },
   {
    "duration": 7,
    "start_time": "2022-06-27T11:27:30.240Z"
   },
   {
    "duration": 12,
    "start_time": "2022-06-27T11:27:39.843Z"
   },
   {
    "duration": 13,
    "start_time": "2022-06-27T11:27:42.580Z"
   },
   {
    "duration": 13,
    "start_time": "2022-06-27T11:27:50.164Z"
   },
   {
    "duration": 8,
    "start_time": "2022-06-27T11:27:54.926Z"
   },
   {
    "duration": 15,
    "start_time": "2022-06-27T11:28:19.799Z"
   },
   {
    "duration": 1325,
    "start_time": "2022-06-27T11:30:10.934Z"
   },
   {
    "duration": 23,
    "start_time": "2022-06-27T11:31:47.948Z"
   },
   {
    "duration": 1039,
    "start_time": "2022-06-27T11:31:48.657Z"
   },
   {
    "duration": 130,
    "start_time": "2022-06-27T11:32:10.226Z"
   },
   {
    "duration": 1625,
    "start_time": "2022-06-27T11:32:42.989Z"
   },
   {
    "duration": 834,
    "start_time": "2022-06-27T11:32:44.617Z"
   },
   {
    "duration": 147,
    "start_time": "2022-06-27T11:32:45.453Z"
   },
   {
    "duration": 147,
    "start_time": "2022-06-27T11:32:45.603Z"
   },
   {
    "duration": 127,
    "start_time": "2022-06-27T11:32:45.752Z"
   },
   {
    "duration": 13,
    "start_time": "2022-06-27T11:32:45.881Z"
   },
   {
    "duration": 5,
    "start_time": "2022-06-27T11:32:45.896Z"
   },
   {
    "duration": 6750,
    "start_time": "2022-06-27T11:32:45.924Z"
   },
   {
    "duration": 36,
    "start_time": "2022-06-27T11:32:52.677Z"
   },
   {
    "duration": 37,
    "start_time": "2022-06-27T11:32:52.726Z"
   },
   {
    "duration": 152,
    "start_time": "2022-06-27T11:32:52.765Z"
   },
   {
    "duration": 21,
    "start_time": "2022-06-27T11:32:52.923Z"
   },
   {
    "duration": 91,
    "start_time": "2022-06-27T11:32:52.946Z"
   },
   {
    "duration": 22,
    "start_time": "2022-06-27T11:32:53.038Z"
   },
   {
    "duration": 44,
    "start_time": "2022-06-27T11:32:53.062Z"
   },
   {
    "duration": 94,
    "start_time": "2022-06-27T11:32:53.108Z"
   },
   {
    "duration": 62,
    "start_time": "2022-06-27T11:32:53.204Z"
   },
   {
    "duration": 28,
    "start_time": "2022-06-27T11:32:53.268Z"
   },
   {
    "duration": 27,
    "start_time": "2022-06-27T11:32:53.298Z"
   },
   {
    "duration": 26,
    "start_time": "2022-06-27T11:32:53.327Z"
   },
   {
    "duration": 33,
    "start_time": "2022-06-27T11:32:53.355Z"
   },
   {
    "duration": 46,
    "start_time": "2022-06-27T11:32:53.389Z"
   },
   {
    "duration": 35,
    "start_time": "2022-06-27T11:32:53.437Z"
   },
   {
    "duration": 104,
    "start_time": "2022-06-27T11:32:53.474Z"
   },
   {
    "duration": 65,
    "start_time": "2022-06-27T11:32:53.580Z"
   },
   {
    "duration": 37,
    "start_time": "2022-06-27T11:32:53.647Z"
   },
   {
    "duration": 99,
    "start_time": "2022-06-27T11:32:53.686Z"
   },
   {
    "duration": 208,
    "start_time": "2022-06-27T11:32:53.789Z"
   },
   {
    "duration": 253,
    "start_time": "2022-06-27T11:32:53.999Z"
   },
   {
    "duration": 92,
    "start_time": "2022-06-27T11:32:54.255Z"
   },
   {
    "duration": 175,
    "start_time": "2022-06-27T11:32:54.349Z"
   },
   {
    "duration": 17,
    "start_time": "2022-06-27T11:32:54.526Z"
   },
   {
    "duration": 9,
    "start_time": "2022-06-27T11:32:54.545Z"
   },
   {
    "duration": 32,
    "start_time": "2022-06-27T11:32:54.556Z"
   },
   {
    "duration": 1171,
    "start_time": "2022-06-27T11:32:54.590Z"
   },
   {
    "duration": 142,
    "start_time": "2022-06-27T11:32:55.763Z"
   },
   {
    "duration": 21,
    "start_time": "2022-06-27T11:32:55.907Z"
   },
   {
    "duration": 12,
    "start_time": "2022-06-27T11:32:55.930Z"
   },
   {
    "duration": 18,
    "start_time": "2022-06-27T11:32:55.944Z"
   },
   {
    "duration": 1241,
    "start_time": "2022-06-27T11:32:55.964Z"
   },
   {
    "duration": 0,
    "start_time": "2022-06-27T11:32:57.208Z"
   },
   {
    "duration": 0,
    "start_time": "2022-06-27T11:32:57.209Z"
   },
   {
    "duration": 0,
    "start_time": "2022-06-27T11:32:57.210Z"
   },
   {
    "duration": 0,
    "start_time": "2022-06-27T11:32:57.212Z"
   },
   {
    "duration": 0,
    "start_time": "2022-06-27T11:32:57.213Z"
   },
   {
    "duration": 0,
    "start_time": "2022-06-27T11:32:57.214Z"
   },
   {
    "duration": 0,
    "start_time": "2022-06-27T11:32:57.215Z"
   },
   {
    "duration": 0,
    "start_time": "2022-06-27T11:32:57.216Z"
   },
   {
    "duration": 0,
    "start_time": "2022-06-27T11:32:57.218Z"
   },
   {
    "duration": 127,
    "start_time": "2022-06-27T11:33:10.720Z"
   },
   {
    "duration": 1502,
    "start_time": "2022-06-27T11:33:31.373Z"
   },
   {
    "duration": 825,
    "start_time": "2022-06-27T11:33:32.878Z"
   },
   {
    "duration": 136,
    "start_time": "2022-06-27T11:33:33.705Z"
   },
   {
    "duration": 103,
    "start_time": "2022-06-27T11:33:33.843Z"
   },
   {
    "duration": 126,
    "start_time": "2022-06-27T11:33:33.948Z"
   },
   {
    "duration": 13,
    "start_time": "2022-06-27T11:33:34.076Z"
   },
   {
    "duration": 5,
    "start_time": "2022-06-27T11:33:34.091Z"
   },
   {
    "duration": 6458,
    "start_time": "2022-06-27T11:33:34.097Z"
   },
   {
    "duration": 21,
    "start_time": "2022-06-27T11:33:40.556Z"
   },
   {
    "duration": 11,
    "start_time": "2022-06-27T11:33:40.579Z"
   },
   {
    "duration": 126,
    "start_time": "2022-06-27T11:33:40.592Z"
   },
   {
    "duration": 21,
    "start_time": "2022-06-27T11:33:40.722Z"
   },
   {
    "duration": 84,
    "start_time": "2022-06-27T11:33:40.745Z"
   },
   {
    "duration": 19,
    "start_time": "2022-06-27T11:33:40.833Z"
   },
   {
    "duration": 33,
    "start_time": "2022-06-27T11:33:40.854Z"
   },
   {
    "duration": 90,
    "start_time": "2022-06-27T11:33:40.888Z"
   },
   {
    "duration": 31,
    "start_time": "2022-06-27T11:33:40.980Z"
   },
   {
    "duration": 29,
    "start_time": "2022-06-27T11:33:41.012Z"
   },
   {
    "duration": 11,
    "start_time": "2022-06-27T11:33:41.043Z"
   },
   {
    "duration": 24,
    "start_time": "2022-06-27T11:33:41.055Z"
   },
   {
    "duration": 50,
    "start_time": "2022-06-27T11:33:41.081Z"
   },
   {
    "duration": 21,
    "start_time": "2022-06-27T11:33:41.133Z"
   },
   {
    "duration": 35,
    "start_time": "2022-06-27T11:33:41.156Z"
   },
   {
    "duration": 96,
    "start_time": "2022-06-27T11:33:41.193Z"
   },
   {
    "duration": 43,
    "start_time": "2022-06-27T11:33:41.291Z"
   },
   {
    "duration": 20,
    "start_time": "2022-06-27T11:33:41.335Z"
   },
   {
    "duration": 100,
    "start_time": "2022-06-27T11:33:41.357Z"
   },
   {
    "duration": 183,
    "start_time": "2022-06-27T11:33:41.459Z"
   },
   {
    "duration": 242,
    "start_time": "2022-06-27T11:33:41.644Z"
   },
   {
    "duration": 94,
    "start_time": "2022-06-27T11:33:41.888Z"
   },
   {
    "duration": 155,
    "start_time": "2022-06-27T11:33:41.984Z"
   },
   {
    "duration": 17,
    "start_time": "2022-06-27T11:33:42.141Z"
   },
   {
    "duration": 10,
    "start_time": "2022-06-27T11:33:42.160Z"
   },
   {
    "duration": 21,
    "start_time": "2022-06-27T11:33:42.172Z"
   },
   {
    "duration": 1227,
    "start_time": "2022-06-27T11:33:42.223Z"
   },
   {
    "duration": 130,
    "start_time": "2022-06-27T11:33:43.452Z"
   },
   {
    "duration": 12,
    "start_time": "2022-06-27T11:33:43.583Z"
   },
   {
    "duration": 8,
    "start_time": "2022-06-27T11:33:43.596Z"
   },
   {
    "duration": 32,
    "start_time": "2022-06-27T11:33:43.605Z"
   },
   {
    "duration": 127,
    "start_time": "2022-06-27T11:33:43.638Z"
   },
   {
    "duration": 21,
    "start_time": "2022-06-27T11:33:43.768Z"
   },
   {
    "duration": 110,
    "start_time": "2022-06-27T11:33:43.790Z"
   },
   {
    "duration": 23,
    "start_time": "2022-06-27T11:33:43.901Z"
   },
   {
    "duration": 13,
    "start_time": "2022-06-27T11:33:43.925Z"
   },
   {
    "duration": 17,
    "start_time": "2022-06-27T11:33:43.940Z"
   },
   {
    "duration": 10,
    "start_time": "2022-06-27T11:33:43.958Z"
   },
   {
    "duration": 22,
    "start_time": "2022-06-27T11:33:43.970Z"
   },
   {
    "duration": 42,
    "start_time": "2022-06-27T11:33:43.993Z"
   },
   {
    "duration": 56,
    "start_time": "2022-06-27T11:33:44.036Z"
   },
   {
    "duration": 428,
    "start_time": "2022-06-27T11:42:44.672Z"
   },
   {
    "duration": 412,
    "start_time": "2022-06-27T12:06:11.492Z"
   },
   {
    "duration": 11,
    "start_time": "2022-06-27T12:06:21.828Z"
   },
   {
    "duration": 3,
    "start_time": "2022-06-27T12:07:22.802Z"
   },
   {
    "duration": 477,
    "start_time": "2022-06-27T12:34:12.239Z"
   },
   {
    "duration": 16,
    "start_time": "2022-06-27T12:34:17.069Z"
   },
   {
    "duration": 115,
    "start_time": "2022-06-27T13:52:42.344Z"
   },
   {
    "duration": 10,
    "start_time": "2022-06-27T13:52:49.028Z"
   },
   {
    "duration": 528,
    "start_time": "2022-06-27T13:52:54.554Z"
   },
   {
    "duration": 16,
    "start_time": "2022-06-27T13:52:59.874Z"
   },
   {
    "duration": 401,
    "start_time": "2022-06-27T14:00:43.692Z"
   },
   {
    "duration": 18,
    "start_time": "2022-06-27T14:00:45.352Z"
   },
   {
    "duration": 1664,
    "start_time": "2022-06-27T14:01:15.942Z"
   },
   {
    "duration": 955,
    "start_time": "2022-06-27T14:01:17.608Z"
   },
   {
    "duration": 171,
    "start_time": "2022-06-27T14:01:18.564Z"
   },
   {
    "duration": 129,
    "start_time": "2022-06-27T14:01:18.739Z"
   },
   {
    "duration": 178,
    "start_time": "2022-06-27T14:01:18.870Z"
   },
   {
    "duration": 59,
    "start_time": "2022-06-27T14:01:19.051Z"
   },
   {
    "duration": 44,
    "start_time": "2022-06-27T14:01:19.112Z"
   },
   {
    "duration": 7422,
    "start_time": "2022-06-27T14:01:19.158Z"
   },
   {
    "duration": 21,
    "start_time": "2022-06-27T14:01:26.582Z"
   },
   {
    "duration": 34,
    "start_time": "2022-06-27T14:01:26.605Z"
   },
   {
    "duration": 118,
    "start_time": "2022-06-27T14:01:26.641Z"
   },
   {
    "duration": 21,
    "start_time": "2022-06-27T14:01:26.760Z"
   },
   {
    "duration": 96,
    "start_time": "2022-06-27T14:01:26.783Z"
   },
   {
    "duration": 20,
    "start_time": "2022-06-27T14:01:26.882Z"
   },
   {
    "duration": 53,
    "start_time": "2022-06-27T14:01:26.904Z"
   },
   {
    "duration": 90,
    "start_time": "2022-06-27T14:01:26.959Z"
   },
   {
    "duration": 32,
    "start_time": "2022-06-27T14:01:27.051Z"
   },
   {
    "duration": 49,
    "start_time": "2022-06-27T14:01:27.084Z"
   },
   {
    "duration": 14,
    "start_time": "2022-06-27T14:01:27.135Z"
   },
   {
    "duration": 29,
    "start_time": "2022-06-27T14:01:27.151Z"
   },
   {
    "duration": 51,
    "start_time": "2022-06-27T14:01:27.182Z"
   },
   {
    "duration": 35,
    "start_time": "2022-06-27T14:01:27.234Z"
   },
   {
    "duration": 65,
    "start_time": "2022-06-27T14:01:27.271Z"
   },
   {
    "duration": 91,
    "start_time": "2022-06-27T14:01:27.337Z"
   },
   {
    "duration": 47,
    "start_time": "2022-06-27T14:01:27.434Z"
   },
   {
    "duration": 20,
    "start_time": "2022-06-27T14:01:27.483Z"
   },
   {
    "duration": 137,
    "start_time": "2022-06-27T14:01:27.505Z"
   },
   {
    "duration": 193,
    "start_time": "2022-06-27T14:01:27.644Z"
   },
   {
    "duration": 257,
    "start_time": "2022-06-27T14:01:27.839Z"
   },
   {
    "duration": 97,
    "start_time": "2022-06-27T14:01:28.098Z"
   },
   {
    "duration": 177,
    "start_time": "2022-06-27T14:01:28.197Z"
   },
   {
    "duration": 17,
    "start_time": "2022-06-27T14:01:28.375Z"
   },
   {
    "duration": 9,
    "start_time": "2022-06-27T14:01:28.394Z"
   },
   {
    "duration": 25,
    "start_time": "2022-06-27T14:01:28.426Z"
   },
   {
    "duration": 1315,
    "start_time": "2022-06-27T14:01:28.453Z"
   },
   {
    "duration": 170,
    "start_time": "2022-06-27T14:01:29.770Z"
   },
   {
    "duration": 13,
    "start_time": "2022-06-27T14:01:29.942Z"
   },
   {
    "duration": 10,
    "start_time": "2022-06-27T14:01:29.958Z"
   },
   {
    "duration": 21,
    "start_time": "2022-06-27T14:01:29.970Z"
   },
   {
    "duration": 163,
    "start_time": "2022-06-27T14:01:29.993Z"
   },
   {
    "duration": 22,
    "start_time": "2022-06-27T14:01:30.160Z"
   },
   {
    "duration": 118,
    "start_time": "2022-06-27T14:01:30.184Z"
   },
   {
    "duration": 35,
    "start_time": "2022-06-27T14:01:30.304Z"
   },
   {
    "duration": 22,
    "start_time": "2022-06-27T14:01:30.341Z"
   },
   {
    "duration": 18,
    "start_time": "2022-06-27T14:01:30.364Z"
   },
   {
    "duration": 7,
    "start_time": "2022-06-27T14:01:30.384Z"
   },
   {
    "duration": 38,
    "start_time": "2022-06-27T14:01:30.394Z"
   },
   {
    "duration": 14,
    "start_time": "2022-06-27T14:01:30.437Z"
   },
   {
    "duration": 56,
    "start_time": "2022-06-27T14:01:30.453Z"
   },
   {
    "duration": 401,
    "start_time": "2022-06-27T14:01:30.511Z"
   },
   {
    "duration": 19,
    "start_time": "2022-06-27T14:01:30.913Z"
   },
   {
    "duration": 18,
    "start_time": "2022-06-27T14:01:30.934Z"
   },
   {
    "duration": 461,
    "start_time": "2022-06-27T14:01:30.954Z"
   },
   {
    "duration": 25,
    "start_time": "2022-06-27T14:01:31.417Z"
   },
   {
    "duration": 468,
    "start_time": "2022-06-27T14:01:31.444Z"
   },
   {
    "duration": 0,
    "start_time": "2022-06-27T14:01:31.913Z"
   },
   {
    "duration": 789,
    "start_time": "2022-06-27T14:02:05.620Z"
   },
   {
    "duration": 16,
    "start_time": "2022-06-27T14:02:07.559Z"
   },
   {
    "duration": 1818,
    "start_time": "2022-06-28T07:48:09.198Z"
   },
   {
    "duration": 1261,
    "start_time": "2022-06-28T07:48:11.018Z"
   },
   {
    "duration": 198,
    "start_time": "2022-06-28T07:48:12.281Z"
   },
   {
    "duration": 116,
    "start_time": "2022-06-28T07:48:12.481Z"
   },
   {
    "duration": 151,
    "start_time": "2022-06-28T07:48:12.599Z"
   },
   {
    "duration": 24,
    "start_time": "2022-06-28T07:48:12.752Z"
   },
   {
    "duration": 19,
    "start_time": "2022-06-28T07:48:12.778Z"
   },
   {
    "duration": 6917,
    "start_time": "2022-06-28T07:48:12.799Z"
   },
   {
    "duration": 37,
    "start_time": "2022-06-28T07:48:19.717Z"
   },
   {
    "duration": 26,
    "start_time": "2022-06-28T07:48:19.756Z"
   },
   {
    "duration": 140,
    "start_time": "2022-06-28T07:48:19.784Z"
   },
   {
    "duration": 27,
    "start_time": "2022-06-28T07:48:19.930Z"
   },
   {
    "duration": 90,
    "start_time": "2022-06-28T07:48:19.959Z"
   },
   {
    "duration": 20,
    "start_time": "2022-06-28T07:48:20.053Z"
   },
   {
    "duration": 38,
    "start_time": "2022-06-28T07:48:20.075Z"
   },
   {
    "duration": 126,
    "start_time": "2022-06-28T07:48:20.127Z"
   },
   {
    "duration": 33,
    "start_time": "2022-06-28T07:48:20.255Z"
   },
   {
    "duration": 53,
    "start_time": "2022-06-28T07:48:20.290Z"
   },
   {
    "duration": 11,
    "start_time": "2022-06-28T07:48:20.344Z"
   },
   {
    "duration": 54,
    "start_time": "2022-06-28T07:48:20.356Z"
   },
   {
    "duration": 56,
    "start_time": "2022-06-28T07:48:20.412Z"
   },
   {
    "duration": 24,
    "start_time": "2022-06-28T07:48:20.469Z"
   },
   {
    "duration": 55,
    "start_time": "2022-06-28T07:48:20.495Z"
   },
   {
    "duration": 91,
    "start_time": "2022-06-28T07:48:20.551Z"
   },
   {
    "duration": 33,
    "start_time": "2022-06-28T07:48:20.644Z"
   },
   {
    "duration": 19,
    "start_time": "2022-06-28T07:48:20.679Z"
   },
   {
    "duration": 106,
    "start_time": "2022-06-28T07:48:20.700Z"
   },
   {
    "duration": 200,
    "start_time": "2022-06-28T07:48:20.808Z"
   },
   {
    "duration": 272,
    "start_time": "2022-06-28T07:48:21.009Z"
   },
   {
    "duration": 95,
    "start_time": "2022-06-28T07:48:21.283Z"
   },
   {
    "duration": 170,
    "start_time": "2022-06-28T07:48:21.380Z"
   },
   {
    "duration": 19,
    "start_time": "2022-06-28T07:48:21.554Z"
   },
   {
    "duration": 14,
    "start_time": "2022-06-28T07:48:21.575Z"
   },
   {
    "duration": 50,
    "start_time": "2022-06-28T07:48:21.591Z"
   },
   {
    "duration": 1146,
    "start_time": "2022-06-28T07:48:21.643Z"
   },
   {
    "duration": 130,
    "start_time": "2022-06-28T07:48:22.790Z"
   },
   {
    "duration": 25,
    "start_time": "2022-06-28T07:48:22.921Z"
   },
   {
    "duration": 13,
    "start_time": "2022-06-28T07:48:22.948Z"
   },
   {
    "duration": 31,
    "start_time": "2022-06-28T07:48:22.963Z"
   },
   {
    "duration": 119,
    "start_time": "2022-06-28T07:48:22.996Z"
   },
   {
    "duration": 28,
    "start_time": "2022-06-28T07:48:23.119Z"
   },
   {
    "duration": 112,
    "start_time": "2022-06-28T07:48:23.148Z"
   },
   {
    "duration": 13,
    "start_time": "2022-06-28T07:48:23.262Z"
   },
   {
    "duration": 18,
    "start_time": "2022-06-28T07:48:23.276Z"
   },
   {
    "duration": 36,
    "start_time": "2022-06-28T07:48:23.296Z"
   },
   {
    "duration": 16,
    "start_time": "2022-06-28T07:48:23.333Z"
   },
   {
    "duration": 28,
    "start_time": "2022-06-28T07:48:23.351Z"
   },
   {
    "duration": 16,
    "start_time": "2022-06-28T07:48:23.381Z"
   },
   {
    "duration": 64,
    "start_time": "2022-06-28T07:48:23.398Z"
   },
   {
    "duration": 440,
    "start_time": "2022-06-28T07:48:23.463Z"
   },
   {
    "duration": 27,
    "start_time": "2022-06-28T07:48:23.905Z"
   },
   {
    "duration": 13,
    "start_time": "2022-06-28T07:48:23.937Z"
   },
   {
    "duration": 426,
    "start_time": "2022-06-28T07:48:23.951Z"
   },
   {
    "duration": 17,
    "start_time": "2022-06-28T07:48:24.379Z"
   },
   {
    "duration": 775,
    "start_time": "2022-06-28T07:48:24.397Z"
   },
   {
    "duration": 13,
    "start_time": "2022-06-28T07:48:25.173Z"
   },
   {
    "duration": 4,
    "start_time": "2022-06-28T08:06:19.370Z"
   },
   {
    "duration": 358,
    "start_time": "2022-06-28T08:08:36.957Z"
   },
   {
    "duration": 56,
    "start_time": "2022-06-28T08:08:37.352Z"
   },
   {
    "duration": 85,
    "start_time": "2022-06-28T08:08:37.410Z"
   },
   {
    "duration": 3,
    "start_time": "2022-06-28T08:17:58.411Z"
   },
   {
    "duration": 144,
    "start_time": "2022-06-28T08:18:59.170Z"
   },
   {
    "duration": 162,
    "start_time": "2022-06-28T08:18:59.316Z"
   },
   {
    "duration": 144,
    "start_time": "2022-06-28T08:18:59.481Z"
   },
   {
    "duration": 52,
    "start_time": "2022-06-28T08:19:15.341Z"
   },
   {
    "duration": 1764,
    "start_time": "2022-06-28T08:23:26.169Z"
   },
   {
    "duration": 1033,
    "start_time": "2022-06-28T08:23:27.936Z"
   },
   {
    "duration": 164,
    "start_time": "2022-06-28T08:23:28.971Z"
   },
   {
    "duration": 168,
    "start_time": "2022-06-28T08:23:29.137Z"
   },
   {
    "duration": 173,
    "start_time": "2022-06-28T08:23:29.306Z"
   },
   {
    "duration": 15,
    "start_time": "2022-06-28T08:23:29.480Z"
   },
   {
    "duration": 9,
    "start_time": "2022-06-28T08:23:29.496Z"
   },
   {
    "duration": 7906,
    "start_time": "2022-06-28T08:23:29.507Z"
   },
   {
    "duration": 42,
    "start_time": "2022-06-28T08:23:37.414Z"
   },
   {
    "duration": 31,
    "start_time": "2022-06-28T08:23:37.459Z"
   },
   {
    "duration": 169,
    "start_time": "2022-06-28T08:23:37.492Z"
   },
   {
    "duration": 25,
    "start_time": "2022-06-28T08:23:37.663Z"
   },
   {
    "duration": 131,
    "start_time": "2022-06-28T08:23:37.690Z"
   },
   {
    "duration": 36,
    "start_time": "2022-06-28T08:23:37.826Z"
   },
   {
    "duration": 50,
    "start_time": "2022-06-28T08:23:37.865Z"
   },
   {
    "duration": 151,
    "start_time": "2022-06-28T08:23:37.917Z"
   },
   {
    "duration": 36,
    "start_time": "2022-06-28T08:23:38.069Z"
   },
   {
    "duration": 52,
    "start_time": "2022-06-28T08:23:38.107Z"
   },
   {
    "duration": 13,
    "start_time": "2022-06-28T08:23:38.163Z"
   },
   {
    "duration": 32,
    "start_time": "2022-06-28T08:23:38.178Z"
   },
   {
    "duration": 62,
    "start_time": "2022-06-28T08:23:38.212Z"
   },
   {
    "duration": 35,
    "start_time": "2022-06-28T08:23:38.276Z"
   },
   {
    "duration": 70,
    "start_time": "2022-06-28T08:23:38.313Z"
   },
   {
    "duration": 123,
    "start_time": "2022-06-28T08:23:38.385Z"
   },
   {
    "duration": 58,
    "start_time": "2022-06-28T08:23:38.510Z"
   },
   {
    "duration": 31,
    "start_time": "2022-06-28T08:23:38.571Z"
   },
   {
    "duration": 115,
    "start_time": "2022-06-28T08:23:38.605Z"
   },
   {
    "duration": 248,
    "start_time": "2022-06-28T08:23:38.730Z"
   },
   {
    "duration": 309,
    "start_time": "2022-06-28T08:23:38.980Z"
   },
   {
    "duration": 112,
    "start_time": "2022-06-28T08:23:39.291Z"
   },
   {
    "duration": 203,
    "start_time": "2022-06-28T08:23:39.405Z"
   },
   {
    "duration": 28,
    "start_time": "2022-06-28T08:23:39.610Z"
   },
   {
    "duration": 24,
    "start_time": "2022-06-28T08:23:39.645Z"
   },
   {
    "duration": 37,
    "start_time": "2022-06-28T08:23:39.672Z"
   },
   {
    "duration": 1261,
    "start_time": "2022-06-28T08:23:39.711Z"
   },
   {
    "duration": 178,
    "start_time": "2022-06-28T08:23:40.974Z"
   },
   {
    "duration": 13,
    "start_time": "2022-06-28T08:23:41.159Z"
   },
   {
    "duration": 9,
    "start_time": "2022-06-28T08:23:41.174Z"
   },
   {
    "duration": 25,
    "start_time": "2022-06-28T08:23:41.185Z"
   },
   {
    "duration": 162,
    "start_time": "2022-06-28T08:23:41.212Z"
   },
   {
    "duration": 21,
    "start_time": "2022-06-28T08:23:41.375Z"
   },
   {
    "duration": 134,
    "start_time": "2022-06-28T08:23:41.398Z"
   },
   {
    "duration": 23,
    "start_time": "2022-06-28T08:23:41.534Z"
   },
   {
    "duration": 28,
    "start_time": "2022-06-28T08:23:41.560Z"
   },
   {
    "duration": 20,
    "start_time": "2022-06-28T08:23:41.590Z"
   },
   {
    "duration": 26,
    "start_time": "2022-06-28T08:23:41.613Z"
   },
   {
    "duration": 24,
    "start_time": "2022-06-28T08:23:41.641Z"
   },
   {
    "duration": 15,
    "start_time": "2022-06-28T08:23:41.666Z"
   },
   {
    "duration": 80,
    "start_time": "2022-06-28T08:23:41.683Z"
   },
   {
    "duration": 404,
    "start_time": "2022-06-28T08:23:41.765Z"
   },
   {
    "duration": 14,
    "start_time": "2022-06-28T08:23:42.171Z"
   },
   {
    "duration": 9,
    "start_time": "2022-06-28T08:23:42.187Z"
   },
   {
    "duration": 451,
    "start_time": "2022-06-28T08:23:42.197Z"
   },
   {
    "duration": 21,
    "start_time": "2022-06-28T08:23:42.652Z"
   },
   {
    "duration": 804,
    "start_time": "2022-06-28T08:23:42.675Z"
   },
   {
    "duration": 13,
    "start_time": "2022-06-28T08:23:43.481Z"
   },
   {
    "duration": 16,
    "start_time": "2022-06-28T08:23:43.496Z"
   },
   {
    "duration": 371,
    "start_time": "2022-06-28T08:23:43.514Z"
   },
   {
    "duration": 66,
    "start_time": "2022-06-28T08:23:43.887Z"
   },
   {
    "duration": 61,
    "start_time": "2022-06-28T08:23:43.956Z"
   },
   {
    "duration": 16,
    "start_time": "2022-06-28T08:23:44.026Z"
   },
   {
    "duration": 155,
    "start_time": "2022-06-28T08:23:44.045Z"
   },
   {
    "duration": 147,
    "start_time": "2022-06-28T08:23:44.203Z"
   },
   {
    "duration": 149,
    "start_time": "2022-06-28T08:23:44.353Z"
   },
   {
    "duration": 209,
    "start_time": "2022-06-28T08:27:49.938Z"
   },
   {
    "duration": 24,
    "start_time": "2022-06-28T08:28:23.454Z"
   },
   {
    "duration": 13,
    "start_time": "2022-06-28T08:28:33.554Z"
   },
   {
    "duration": 295044,
    "start_time": "2022-06-28T08:30:20.494Z"
   },
   {
    "duration": 843,
    "start_time": "2022-06-28T08:35:31.621Z"
   },
   {
    "duration": 271,
    "start_time": "2022-06-28T08:35:33.625Z"
   },
   {
    "duration": 248,
    "start_time": "2022-06-28T08:39:21.356Z"
   },
   {
    "duration": 1883,
    "start_time": "2022-06-28T08:43:09.524Z"
   },
   {
    "duration": 1059,
    "start_time": "2022-06-28T08:43:11.409Z"
   },
   {
    "duration": 190,
    "start_time": "2022-06-28T08:43:12.475Z"
   },
   {
    "duration": 129,
    "start_time": "2022-06-28T08:43:12.671Z"
   },
   {
    "duration": 189,
    "start_time": "2022-06-28T08:43:12.802Z"
   },
   {
    "duration": 18,
    "start_time": "2022-06-28T08:43:12.992Z"
   },
   {
    "duration": 8,
    "start_time": "2022-06-28T08:43:13.012Z"
   },
   {
    "duration": 8583,
    "start_time": "2022-06-28T08:43:13.032Z"
   },
   {
    "duration": 45,
    "start_time": "2022-06-28T08:43:21.618Z"
   },
   {
    "duration": 31,
    "start_time": "2022-06-28T08:43:21.669Z"
   },
   {
    "duration": 146,
    "start_time": "2022-06-28T08:43:21.702Z"
   },
   {
    "duration": 33,
    "start_time": "2022-06-28T08:43:21.854Z"
   },
   {
    "duration": 110,
    "start_time": "2022-06-28T08:43:21.889Z"
   },
   {
    "duration": 22,
    "start_time": "2022-06-28T08:43:22.003Z"
   },
   {
    "duration": 78,
    "start_time": "2022-06-28T08:43:22.041Z"
   },
   {
    "duration": 155,
    "start_time": "2022-06-28T08:43:22.120Z"
   },
   {
    "duration": 37,
    "start_time": "2022-06-28T08:43:22.280Z"
   },
   {
    "duration": 39,
    "start_time": "2022-06-28T08:43:22.319Z"
   },
   {
    "duration": 26,
    "start_time": "2022-06-28T08:43:22.360Z"
   },
   {
    "duration": 37,
    "start_time": "2022-06-28T08:43:22.388Z"
   },
   {
    "duration": 76,
    "start_time": "2022-06-28T08:43:22.432Z"
   },
   {
    "duration": 59,
    "start_time": "2022-06-28T08:43:22.510Z"
   },
   {
    "duration": 93,
    "start_time": "2022-06-28T08:43:22.571Z"
   },
   {
    "duration": 147,
    "start_time": "2022-06-28T08:43:22.666Z"
   },
   {
    "duration": 52,
    "start_time": "2022-06-28T08:43:22.814Z"
   },
   {
    "duration": 38,
    "start_time": "2022-06-28T08:43:22.868Z"
   },
   {
    "duration": 112,
    "start_time": "2022-06-28T08:43:22.909Z"
   },
   {
    "duration": 223,
    "start_time": "2022-06-28T08:43:23.022Z"
   },
   {
    "duration": 237,
    "start_time": "2022-06-28T08:43:23.247Z"
   },
   {
    "duration": 108,
    "start_time": "2022-06-28T08:43:23.486Z"
   },
   {
    "duration": 183,
    "start_time": "2022-06-28T08:43:23.595Z"
   },
   {
    "duration": 21,
    "start_time": "2022-06-28T08:43:23.780Z"
   },
   {
    "duration": 32,
    "start_time": "2022-06-28T08:43:23.803Z"
   },
   {
    "duration": 25,
    "start_time": "2022-06-28T08:43:23.853Z"
   },
   {
    "duration": 1386,
    "start_time": "2022-06-28T08:43:23.880Z"
   },
   {
    "duration": 206,
    "start_time": "2022-06-28T08:43:25.271Z"
   },
   {
    "duration": 14,
    "start_time": "2022-06-28T08:43:25.480Z"
   },
   {
    "duration": 11,
    "start_time": "2022-06-28T08:43:25.496Z"
   },
   {
    "duration": 59,
    "start_time": "2022-06-28T08:43:25.509Z"
   },
   {
    "duration": 179,
    "start_time": "2022-06-28T08:43:25.572Z"
   },
   {
    "duration": 24,
    "start_time": "2022-06-28T08:43:25.756Z"
   },
   {
    "duration": 125,
    "start_time": "2022-06-28T08:43:25.782Z"
   },
   {
    "duration": 41,
    "start_time": "2022-06-28T08:43:25.909Z"
   },
   {
    "duration": 19,
    "start_time": "2022-06-28T08:43:25.965Z"
   },
   {
    "duration": 22,
    "start_time": "2022-06-28T08:43:25.988Z"
   },
   {
    "duration": 29,
    "start_time": "2022-06-28T08:43:26.013Z"
   },
   {
    "duration": 25,
    "start_time": "2022-06-28T08:43:26.050Z"
   },
   {
    "duration": 38,
    "start_time": "2022-06-28T08:43:26.077Z"
   },
   {
    "duration": 97,
    "start_time": "2022-06-28T08:43:26.117Z"
   },
   {
    "duration": 428,
    "start_time": "2022-06-28T08:43:26.217Z"
   },
   {
    "duration": 19,
    "start_time": "2022-06-28T08:43:26.652Z"
   },
   {
    "duration": 17,
    "start_time": "2022-06-28T08:43:26.674Z"
   },
   {
    "duration": 521,
    "start_time": "2022-06-28T08:43:26.694Z"
   },
   {
    "duration": 53,
    "start_time": "2022-06-28T08:43:27.217Z"
   },
   {
    "duration": 1006,
    "start_time": "2022-06-28T08:43:27.271Z"
   },
   {
    "duration": 20,
    "start_time": "2022-06-28T08:43:28.279Z"
   },
   {
    "duration": 12,
    "start_time": "2022-06-28T08:43:28.301Z"
   },
   {
    "duration": 480,
    "start_time": "2022-06-28T08:43:28.315Z"
   },
   {
    "duration": 72,
    "start_time": "2022-06-28T08:43:28.800Z"
   },
   {
    "duration": 6,
    "start_time": "2022-06-28T08:43:28.879Z"
   },
   {
    "duration": 137,
    "start_time": "2022-06-28T08:43:28.888Z"
   },
   {
    "duration": 176,
    "start_time": "2022-06-28T08:43:29.036Z"
   },
   {
    "duration": 271122,
    "start_time": "2022-06-28T08:43:29.214Z"
   },
   {
    "duration": 274,
    "start_time": "2022-06-28T08:48:00.346Z"
   },
   {
    "duration": 914,
    "start_time": "2022-06-28T08:48:00.623Z"
   },
   {
    "duration": 172,
    "start_time": "2022-06-28T08:48:01.539Z"
   },
   {
    "duration": 6,
    "start_time": "2022-06-28T08:49:27.477Z"
   },
   {
    "duration": 1100,
    "start_time": "2022-06-28T08:49:27.485Z"
   },
   {
    "duration": 190,
    "start_time": "2022-06-28T08:49:28.589Z"
   },
   {
    "duration": 111,
    "start_time": "2022-06-28T08:49:28.781Z"
   },
   {
    "duration": 173,
    "start_time": "2022-06-28T08:49:28.894Z"
   },
   {
    "duration": 16,
    "start_time": "2022-06-28T08:49:29.074Z"
   },
   {
    "duration": 8,
    "start_time": "2022-06-28T08:49:29.092Z"
   },
   {
    "duration": 7215,
    "start_time": "2022-06-28T08:49:29.102Z"
   },
   {
    "duration": 0,
    "start_time": "2022-06-28T08:49:36.320Z"
   },
   {
    "duration": 0,
    "start_time": "2022-06-28T08:49:36.322Z"
   },
   {
    "duration": 0,
    "start_time": "2022-06-28T08:49:36.323Z"
   },
   {
    "duration": 0,
    "start_time": "2022-06-28T08:49:36.324Z"
   },
   {
    "duration": 0,
    "start_time": "2022-06-28T08:49:36.325Z"
   },
   {
    "duration": 0,
    "start_time": "2022-06-28T08:49:36.326Z"
   },
   {
    "duration": 0,
    "start_time": "2022-06-28T08:49:36.328Z"
   },
   {
    "duration": 0,
    "start_time": "2022-06-28T08:49:36.329Z"
   },
   {
    "duration": 0,
    "start_time": "2022-06-28T08:49:36.329Z"
   },
   {
    "duration": 0,
    "start_time": "2022-06-28T08:49:36.330Z"
   },
   {
    "duration": 0,
    "start_time": "2022-06-28T08:49:36.330Z"
   },
   {
    "duration": 0,
    "start_time": "2022-06-28T08:49:36.331Z"
   },
   {
    "duration": 0,
    "start_time": "2022-06-28T08:49:36.331Z"
   },
   {
    "duration": 0,
    "start_time": "2022-06-28T08:49:36.333Z"
   },
   {
    "duration": 0,
    "start_time": "2022-06-28T08:49:36.334Z"
   },
   {
    "duration": 0,
    "start_time": "2022-06-28T08:49:36.336Z"
   },
   {
    "duration": 0,
    "start_time": "2022-06-28T08:49:36.337Z"
   },
   {
    "duration": 0,
    "start_time": "2022-06-28T08:49:36.338Z"
   },
   {
    "duration": 0,
    "start_time": "2022-06-28T08:49:36.339Z"
   },
   {
    "duration": 0,
    "start_time": "2022-06-28T08:49:36.341Z"
   },
   {
    "duration": 0,
    "start_time": "2022-06-28T08:49:36.342Z"
   },
   {
    "duration": 0,
    "start_time": "2022-06-28T08:49:36.342Z"
   },
   {
    "duration": 0,
    "start_time": "2022-06-28T08:49:36.343Z"
   },
   {
    "duration": 0,
    "start_time": "2022-06-28T08:49:36.345Z"
   },
   {
    "duration": 0,
    "start_time": "2022-06-28T08:49:36.346Z"
   },
   {
    "duration": 0,
    "start_time": "2022-06-28T08:49:36.347Z"
   },
   {
    "duration": 0,
    "start_time": "2022-06-28T08:49:36.347Z"
   },
   {
    "duration": 0,
    "start_time": "2022-06-28T08:49:36.348Z"
   },
   {
    "duration": 0,
    "start_time": "2022-06-28T08:49:36.349Z"
   },
   {
    "duration": 0,
    "start_time": "2022-06-28T08:49:36.353Z"
   },
   {
    "duration": 0,
    "start_time": "2022-06-28T08:49:36.354Z"
   },
   {
    "duration": 0,
    "start_time": "2022-06-28T08:49:36.356Z"
   },
   {
    "duration": 0,
    "start_time": "2022-06-28T08:49:36.357Z"
   },
   {
    "duration": 0,
    "start_time": "2022-06-28T08:49:36.358Z"
   },
   {
    "duration": 0,
    "start_time": "2022-06-28T08:49:36.360Z"
   },
   {
    "duration": 0,
    "start_time": "2022-06-28T08:49:36.361Z"
   },
   {
    "duration": 0,
    "start_time": "2022-06-28T08:49:36.362Z"
   },
   {
    "duration": 0,
    "start_time": "2022-06-28T08:49:36.363Z"
   },
   {
    "duration": 0,
    "start_time": "2022-06-28T08:49:36.363Z"
   },
   {
    "duration": 0,
    "start_time": "2022-06-28T08:49:36.364Z"
   },
   {
    "duration": 0,
    "start_time": "2022-06-28T08:49:36.365Z"
   },
   {
    "duration": 0,
    "start_time": "2022-06-28T08:49:36.365Z"
   },
   {
    "duration": 0,
    "start_time": "2022-06-28T08:49:36.366Z"
   },
   {
    "duration": 0,
    "start_time": "2022-06-28T08:49:36.366Z"
   },
   {
    "duration": 0,
    "start_time": "2022-06-28T08:49:36.367Z"
   },
   {
    "duration": 0,
    "start_time": "2022-06-28T08:49:36.368Z"
   },
   {
    "duration": 0,
    "start_time": "2022-06-28T08:49:36.369Z"
   },
   {
    "duration": 0,
    "start_time": "2022-06-28T08:49:36.370Z"
   },
   {
    "duration": 0,
    "start_time": "2022-06-28T08:49:36.372Z"
   },
   {
    "duration": 0,
    "start_time": "2022-06-28T08:49:36.426Z"
   },
   {
    "duration": 0,
    "start_time": "2022-06-28T08:49:36.427Z"
   },
   {
    "duration": 0,
    "start_time": "2022-06-28T08:49:36.432Z"
   },
   {
    "duration": 0,
    "start_time": "2022-06-28T08:49:36.433Z"
   },
   {
    "duration": 0,
    "start_time": "2022-06-28T08:49:36.434Z"
   },
   {
    "duration": 0,
    "start_time": "2022-06-28T08:49:36.434Z"
   },
   {
    "duration": 1879,
    "start_time": "2022-06-28T08:49:44.200Z"
   },
   {
    "duration": 1107,
    "start_time": "2022-06-28T08:49:46.081Z"
   },
   {
    "duration": 215,
    "start_time": "2022-06-28T08:49:47.192Z"
   },
   {
    "duration": 127,
    "start_time": "2022-06-28T08:49:47.409Z"
   },
   {
    "duration": 202,
    "start_time": "2022-06-28T08:49:47.539Z"
   },
   {
    "duration": 52,
    "start_time": "2022-06-28T08:49:47.743Z"
   },
   {
    "duration": 7,
    "start_time": "2022-06-28T08:49:47.797Z"
   },
   {
    "duration": 9109,
    "start_time": "2022-06-28T08:49:47.806Z"
   },
   {
    "duration": 29,
    "start_time": "2022-06-28T08:49:56.917Z"
   },
   {
    "duration": 36,
    "start_time": "2022-06-28T08:49:56.953Z"
   },
   {
    "duration": 153,
    "start_time": "2022-06-28T08:49:56.991Z"
   },
   {
    "duration": 42,
    "start_time": "2022-06-28T08:49:57.146Z"
   },
   {
    "duration": 105,
    "start_time": "2022-06-28T08:49:57.190Z"
   },
   {
    "duration": 22,
    "start_time": "2022-06-28T08:49:57.298Z"
   },
   {
    "duration": 67,
    "start_time": "2022-06-28T08:49:57.326Z"
   },
   {
    "duration": 106,
    "start_time": "2022-06-28T08:49:57.395Z"
   },
   {
    "duration": 46,
    "start_time": "2022-06-28T08:49:57.503Z"
   },
   {
    "duration": 25,
    "start_time": "2022-06-28T08:49:57.550Z"
   },
   {
    "duration": 14,
    "start_time": "2022-06-28T08:49:57.578Z"
   },
   {
    "duration": 37,
    "start_time": "2022-06-28T08:49:57.593Z"
   },
   {
    "duration": 55,
    "start_time": "2022-06-28T08:49:57.633Z"
   },
   {
    "duration": 31,
    "start_time": "2022-06-28T08:49:57.690Z"
   },
   {
    "duration": 63,
    "start_time": "2022-06-28T08:49:57.729Z"
   },
   {
    "duration": 119,
    "start_time": "2022-06-28T08:49:57.794Z"
   },
   {
    "duration": 51,
    "start_time": "2022-06-28T08:49:57.915Z"
   },
   {
    "duration": 31,
    "start_time": "2022-06-28T08:49:57.968Z"
   },
   {
    "duration": 130,
    "start_time": "2022-06-28T08:49:58.001Z"
   },
   {
    "duration": 242,
    "start_time": "2022-06-28T08:49:58.138Z"
   },
   {
    "duration": 303,
    "start_time": "2022-06-28T08:49:58.382Z"
   },
   {
    "duration": 109,
    "start_time": "2022-06-28T08:49:58.687Z"
   },
   {
    "duration": 205,
    "start_time": "2022-06-28T08:49:58.798Z"
   },
   {
    "duration": 16,
    "start_time": "2022-06-28T08:49:59.004Z"
   },
   {
    "duration": 42,
    "start_time": "2022-06-28T08:49:59.026Z"
   },
   {
    "duration": 40,
    "start_time": "2022-06-28T08:49:59.070Z"
   },
   {
    "duration": 1257,
    "start_time": "2022-06-28T08:49:59.112Z"
   },
   {
    "duration": 151,
    "start_time": "2022-06-28T08:50:00.371Z"
   },
   {
    "duration": 35,
    "start_time": "2022-06-28T08:50:00.523Z"
   },
   {
    "duration": 28,
    "start_time": "2022-06-28T08:50:00.560Z"
   },
   {
    "duration": 23,
    "start_time": "2022-06-28T08:50:00.590Z"
   },
   {
    "duration": 148,
    "start_time": "2022-06-28T08:50:00.615Z"
   },
   {
    "duration": 21,
    "start_time": "2022-06-28T08:50:00.768Z"
   },
   {
    "duration": 120,
    "start_time": "2022-06-28T08:50:00.791Z"
   },
   {
    "duration": 25,
    "start_time": "2022-06-28T08:50:00.913Z"
   },
   {
    "duration": 25,
    "start_time": "2022-06-28T08:50:00.941Z"
   },
   {
    "duration": 27,
    "start_time": "2022-06-28T08:50:00.968Z"
   },
   {
    "duration": 11,
    "start_time": "2022-06-28T08:50:00.998Z"
   },
   {
    "duration": 50,
    "start_time": "2022-06-28T08:50:01.011Z"
   },
   {
    "duration": 33,
    "start_time": "2022-06-28T08:50:01.063Z"
   },
   {
    "duration": 93,
    "start_time": "2022-06-28T08:50:01.098Z"
   },
   {
    "duration": 499,
    "start_time": "2022-06-28T08:50:01.194Z"
   },
   {
    "duration": 12,
    "start_time": "2022-06-28T08:50:01.695Z"
   },
   {
    "duration": 64,
    "start_time": "2022-06-28T08:50:01.709Z"
   },
   {
    "duration": 495,
    "start_time": "2022-06-28T08:50:01.774Z"
   },
   {
    "duration": 21,
    "start_time": "2022-06-28T08:50:02.271Z"
   },
   {
    "duration": 869,
    "start_time": "2022-06-28T08:50:02.294Z"
   },
   {
    "duration": 16,
    "start_time": "2022-06-28T08:50:03.165Z"
   },
   {
    "duration": 9,
    "start_time": "2022-06-28T08:50:03.182Z"
   },
   {
    "duration": 363,
    "start_time": "2022-06-28T08:50:03.193Z"
   },
   {
    "duration": 53,
    "start_time": "2022-06-28T08:50:03.562Z"
   },
   {
    "duration": 9,
    "start_time": "2022-06-28T08:50:03.617Z"
   },
   {
    "duration": 187,
    "start_time": "2022-06-28T08:50:03.634Z"
   },
   {
    "duration": 140,
    "start_time": "2022-06-28T08:50:03.822Z"
   },
   {
    "duration": 1880,
    "start_time": "2022-06-28T09:04:02.959Z"
   },
   {
    "duration": 1125,
    "start_time": "2022-06-28T09:04:04.847Z"
   },
   {
    "duration": 172,
    "start_time": "2022-06-28T09:04:05.974Z"
   },
   {
    "duration": 192,
    "start_time": "2022-06-28T09:04:06.148Z"
   },
   {
    "duration": 190,
    "start_time": "2022-06-28T09:04:06.346Z"
   },
   {
    "duration": 29,
    "start_time": "2022-06-28T09:04:06.539Z"
   },
   {
    "duration": 12,
    "start_time": "2022-06-28T09:04:06.570Z"
   },
   {
    "duration": 8254,
    "start_time": "2022-06-28T09:04:06.584Z"
   },
   {
    "duration": 34,
    "start_time": "2022-06-28T09:04:14.840Z"
   },
   {
    "duration": 22,
    "start_time": "2022-06-28T09:04:14.877Z"
   },
   {
    "duration": 164,
    "start_time": "2022-06-28T09:04:14.902Z"
   },
   {
    "duration": 23,
    "start_time": "2022-06-28T09:04:15.068Z"
   },
   {
    "duration": 106,
    "start_time": "2022-06-28T09:04:15.093Z"
   },
   {
    "duration": 41,
    "start_time": "2022-06-28T09:04:15.202Z"
   },
   {
    "duration": 51,
    "start_time": "2022-06-28T09:04:15.245Z"
   },
   {
    "duration": 102,
    "start_time": "2022-06-28T09:04:15.298Z"
   },
   {
    "duration": 57,
    "start_time": "2022-06-28T09:04:15.403Z"
   },
   {
    "duration": 18,
    "start_time": "2022-06-28T09:04:15.462Z"
   },
   {
    "duration": 11,
    "start_time": "2022-06-28T09:04:15.481Z"
   },
   {
    "duration": 48,
    "start_time": "2022-06-28T09:04:15.494Z"
   },
   {
    "duration": 49,
    "start_time": "2022-06-28T09:04:15.545Z"
   },
   {
    "duration": 28,
    "start_time": "2022-06-28T09:04:15.596Z"
   },
   {
    "duration": 51,
    "start_time": "2022-06-28T09:04:15.634Z"
   },
   {
    "duration": 109,
    "start_time": "2022-06-28T09:04:15.687Z"
   },
   {
    "duration": 52,
    "start_time": "2022-06-28T09:04:15.798Z"
   },
   {
    "duration": 35,
    "start_time": "2022-06-28T09:04:15.853Z"
   },
   {
    "duration": 113,
    "start_time": "2022-06-28T09:04:15.890Z"
   },
   {
    "duration": 243,
    "start_time": "2022-06-28T09:04:16.004Z"
   },
   {
    "duration": 276,
    "start_time": "2022-06-28T09:04:16.253Z"
   },
   {
    "duration": 122,
    "start_time": "2022-06-28T09:04:16.532Z"
   },
   {
    "duration": 171,
    "start_time": "2022-06-28T09:04:16.661Z"
   },
   {
    "duration": 33,
    "start_time": "2022-06-28T09:04:16.834Z"
   },
   {
    "duration": 35,
    "start_time": "2022-06-28T09:04:16.869Z"
   },
   {
    "duration": 33,
    "start_time": "2022-06-28T09:04:16.906Z"
   },
   {
    "duration": 1270,
    "start_time": "2022-06-28T09:04:16.942Z"
   },
   {
    "duration": 157,
    "start_time": "2022-06-28T09:04:18.214Z"
   },
   {
    "duration": 12,
    "start_time": "2022-06-28T09:04:18.373Z"
   },
   {
    "duration": 11,
    "start_time": "2022-06-28T09:04:18.386Z"
   },
   {
    "duration": 58,
    "start_time": "2022-06-28T09:04:18.399Z"
   },
   {
    "duration": 152,
    "start_time": "2022-06-28T09:04:18.460Z"
   },
   {
    "duration": 34,
    "start_time": "2022-06-28T09:04:18.617Z"
   },
   {
    "duration": 125,
    "start_time": "2022-06-28T09:04:18.658Z"
   },
   {
    "duration": 14,
    "start_time": "2022-06-28T09:04:18.785Z"
   },
   {
    "duration": 13,
    "start_time": "2022-06-28T09:04:18.800Z"
   },
   {
    "duration": 27,
    "start_time": "2022-06-28T09:04:18.836Z"
   },
   {
    "duration": 15,
    "start_time": "2022-06-28T09:04:18.865Z"
   },
   {
    "duration": 19,
    "start_time": "2022-06-28T09:04:18.882Z"
   },
   {
    "duration": 26,
    "start_time": "2022-06-28T09:04:18.903Z"
   },
   {
    "duration": 84,
    "start_time": "2022-06-28T09:04:18.930Z"
   },
   {
    "duration": 344,
    "start_time": "2022-06-28T09:04:19.025Z"
   },
   {
    "duration": 13,
    "start_time": "2022-06-28T09:04:19.371Z"
   },
   {
    "duration": 16,
    "start_time": "2022-06-28T09:04:19.385Z"
   },
   {
    "duration": 462,
    "start_time": "2022-06-28T09:04:19.403Z"
   },
   {
    "duration": 15,
    "start_time": "2022-06-28T09:04:19.867Z"
   },
   {
    "duration": 835,
    "start_time": "2022-06-28T09:04:19.884Z"
   },
   {
    "duration": 29,
    "start_time": "2022-06-28T09:04:20.720Z"
   },
   {
    "duration": 28,
    "start_time": "2022-06-28T09:04:20.751Z"
   },
   {
    "duration": 327,
    "start_time": "2022-06-28T09:04:20.781Z"
   },
   {
    "duration": 58,
    "start_time": "2022-06-28T09:04:21.110Z"
   },
   {
    "duration": 4,
    "start_time": "2022-06-28T09:04:21.170Z"
   },
   {
    "duration": 137,
    "start_time": "2022-06-28T09:04:21.176Z"
   },
   {
    "duration": 138,
    "start_time": "2022-06-28T09:04:21.314Z"
   },
   {
    "duration": 200091,
    "start_time": "2022-06-28T09:04:21.453Z"
   },
   {
    "duration": 163896,
    "start_time": "2022-06-28T09:07:41.545Z"
   },
   {
    "duration": 851,
    "start_time": "2022-06-28T09:10:25.528Z"
   },
   {
    "duration": 936,
    "start_time": "2022-06-28T09:10:26.432Z"
   },
   {
    "duration": 1630,
    "start_time": "2022-06-28T09:50:40.693Z"
   },
   {
    "duration": 1061,
    "start_time": "2022-06-28T09:50:42.328Z"
   },
   {
    "duration": 206,
    "start_time": "2022-06-28T09:50:43.391Z"
   },
   {
    "duration": 133,
    "start_time": "2022-06-28T09:50:43.599Z"
   },
   {
    "duration": 159,
    "start_time": "2022-06-28T09:50:43.735Z"
   },
   {
    "duration": 18,
    "start_time": "2022-06-28T09:50:43.896Z"
   },
   {
    "duration": 10,
    "start_time": "2022-06-28T09:50:43.926Z"
   },
   {
    "duration": 7762,
    "start_time": "2022-06-28T09:50:43.937Z"
   },
   {
    "duration": 26,
    "start_time": "2022-06-28T09:50:51.701Z"
   },
   {
    "duration": 40,
    "start_time": "2022-06-28T09:50:51.734Z"
   },
   {
    "duration": 138,
    "start_time": "2022-06-28T09:50:51.776Z"
   },
   {
    "duration": 41,
    "start_time": "2022-06-28T09:50:51.916Z"
   },
   {
    "duration": 95,
    "start_time": "2022-06-28T09:50:51.959Z"
   },
   {
    "duration": 21,
    "start_time": "2022-06-28T09:50:52.059Z"
   },
   {
    "duration": 34,
    "start_time": "2022-06-28T09:50:52.082Z"
   },
   {
    "duration": 108,
    "start_time": "2022-06-28T09:50:52.117Z"
   },
   {
    "duration": 46,
    "start_time": "2022-06-28T09:50:52.235Z"
   },
   {
    "duration": 26,
    "start_time": "2022-06-28T09:50:52.283Z"
   },
   {
    "duration": 25,
    "start_time": "2022-06-28T09:50:52.311Z"
   },
   {
    "duration": 51,
    "start_time": "2022-06-28T09:50:52.338Z"
   },
   {
    "duration": 70,
    "start_time": "2022-06-28T09:50:52.391Z"
   },
   {
    "duration": 33,
    "start_time": "2022-06-28T09:50:52.463Z"
   },
   {
    "duration": 69,
    "start_time": "2022-06-28T09:50:52.498Z"
   },
   {
    "duration": 103,
    "start_time": "2022-06-28T09:50:52.569Z"
   },
   {
    "duration": 36,
    "start_time": "2022-06-28T09:50:52.674Z"
   },
   {
    "duration": 43,
    "start_time": "2022-06-28T09:50:52.712Z"
   },
   {
    "duration": 117,
    "start_time": "2022-06-28T09:50:52.756Z"
   },
   {
    "duration": 205,
    "start_time": "2022-06-28T09:50:52.875Z"
   },
   {
    "duration": 278,
    "start_time": "2022-06-28T09:50:53.083Z"
   },
   {
    "duration": 98,
    "start_time": "2022-06-28T09:50:53.363Z"
   },
   {
    "duration": 154,
    "start_time": "2022-06-28T09:50:53.463Z"
   },
   {
    "duration": 19,
    "start_time": "2022-06-28T09:50:53.618Z"
   },
   {
    "duration": 31,
    "start_time": "2022-06-28T09:50:53.639Z"
   },
   {
    "duration": 24,
    "start_time": "2022-06-28T09:50:53.672Z"
   },
   {
    "duration": 1314,
    "start_time": "2022-06-28T09:50:53.697Z"
   },
   {
    "duration": 151,
    "start_time": "2022-06-28T09:50:55.013Z"
   },
   {
    "duration": 12,
    "start_time": "2022-06-28T09:50:55.165Z"
   },
   {
    "duration": 9,
    "start_time": "2022-06-28T09:50:55.179Z"
   },
   {
    "duration": 60,
    "start_time": "2022-06-28T09:50:55.190Z"
   },
   {
    "duration": 136,
    "start_time": "2022-06-28T09:50:55.254Z"
   },
   {
    "duration": 20,
    "start_time": "2022-06-28T09:50:55.395Z"
   },
   {
    "duration": 131,
    "start_time": "2022-06-28T09:50:55.417Z"
   },
   {
    "duration": 17,
    "start_time": "2022-06-28T09:50:55.550Z"
   },
   {
    "duration": 40,
    "start_time": "2022-06-28T09:50:55.569Z"
   },
   {
    "duration": 59,
    "start_time": "2022-06-28T09:50:55.610Z"
   },
   {
    "duration": 17,
    "start_time": "2022-06-28T09:50:55.671Z"
   },
   {
    "duration": 29,
    "start_time": "2022-06-28T09:50:55.690Z"
   },
   {
    "duration": 52,
    "start_time": "2022-06-28T09:50:55.721Z"
   },
   {
    "duration": 57,
    "start_time": "2022-06-28T09:50:55.774Z"
   },
   {
    "duration": 380,
    "start_time": "2022-06-28T09:50:55.840Z"
   },
   {
    "duration": 36,
    "start_time": "2022-06-28T09:50:56.221Z"
   },
   {
    "duration": 19,
    "start_time": "2022-06-28T09:50:56.260Z"
   },
   {
    "duration": 496,
    "start_time": "2022-06-28T09:50:56.281Z"
   },
   {
    "duration": 15,
    "start_time": "2022-06-28T09:50:56.779Z"
   },
   {
    "duration": 776,
    "start_time": "2022-06-28T09:50:56.796Z"
   },
   {
    "duration": 13,
    "start_time": "2022-06-28T09:50:57.574Z"
   },
   {
    "duration": 5,
    "start_time": "2022-06-28T09:50:57.589Z"
   },
   {
    "duration": 378,
    "start_time": "2022-06-28T09:50:57.596Z"
   },
   {
    "duration": 67,
    "start_time": "2022-06-28T09:50:57.976Z"
   },
   {
    "duration": 4,
    "start_time": "2022-06-28T09:50:58.054Z"
   },
   {
    "duration": 125,
    "start_time": "2022-06-28T09:50:58.060Z"
   },
   {
    "duration": 127,
    "start_time": "2022-06-28T09:50:58.187Z"
   },
   {
    "duration": 199,
    "start_time": "2022-06-28T09:50:58.316Z"
   },
   {
    "duration": 203216,
    "start_time": "2022-06-28T09:50:58.517Z"
   },
   {
    "duration": 942,
    "start_time": "2022-06-28T09:54:21.737Z"
   },
   {
    "duration": 957,
    "start_time": "2022-06-28T09:54:22.680Z"
   },
   {
    "duration": 281501,
    "start_time": "2022-06-28T09:55:21.337Z"
   },
   {
    "duration": 805,
    "start_time": "2022-06-28T10:01:10.464Z"
   },
   {
    "duration": 912,
    "start_time": "2022-06-28T10:01:12.024Z"
   },
   {
    "duration": 846,
    "start_time": "2022-06-28T10:01:20.106Z"
   },
   {
    "duration": 1596,
    "start_time": "2022-06-28T10:26:19.675Z"
   },
   {
    "duration": 915,
    "start_time": "2022-06-28T10:26:21.274Z"
   },
   {
    "duration": 170,
    "start_time": "2022-06-28T10:26:22.191Z"
   },
   {
    "duration": 112,
    "start_time": "2022-06-28T10:26:22.363Z"
   },
   {
    "duration": 161,
    "start_time": "2022-06-28T10:26:22.477Z"
   },
   {
    "duration": 14,
    "start_time": "2022-06-28T10:26:22.640Z"
   },
   {
    "duration": 14,
    "start_time": "2022-06-28T10:26:22.656Z"
   },
   {
    "duration": 7004,
    "start_time": "2022-06-28T10:26:22.671Z"
   },
   {
    "duration": 20,
    "start_time": "2022-06-28T10:26:29.676Z"
   },
   {
    "duration": 11,
    "start_time": "2022-06-28T10:26:29.700Z"
   },
   {
    "duration": 149,
    "start_time": "2022-06-28T10:26:29.712Z"
   },
   {
    "duration": 24,
    "start_time": "2022-06-28T10:26:29.863Z"
   },
   {
    "duration": 93,
    "start_time": "2022-06-28T10:26:29.890Z"
   },
   {
    "duration": 22,
    "start_time": "2022-06-28T10:26:29.984Z"
   },
   {
    "duration": 57,
    "start_time": "2022-06-28T10:26:30.008Z"
   },
   {
    "duration": 97,
    "start_time": "2022-06-28T10:26:30.067Z"
   },
   {
    "duration": 34,
    "start_time": "2022-06-28T10:26:30.166Z"
   },
   {
    "duration": 47,
    "start_time": "2022-06-28T10:26:30.201Z"
   },
   {
    "duration": 11,
    "start_time": "2022-06-28T10:26:30.250Z"
   },
   {
    "duration": 29,
    "start_time": "2022-06-28T10:26:30.263Z"
   },
   {
    "duration": 62,
    "start_time": "2022-06-28T10:26:30.294Z"
   },
   {
    "duration": 24,
    "start_time": "2022-06-28T10:26:30.358Z"
   },
   {
    "duration": 54,
    "start_time": "2022-06-28T10:26:30.384Z"
   },
   {
    "duration": 100,
    "start_time": "2022-06-28T10:26:30.443Z"
   },
   {
    "duration": 37,
    "start_time": "2022-06-28T10:26:30.549Z"
   },
   {
    "duration": 20,
    "start_time": "2022-06-28T10:26:30.588Z"
   },
   {
    "duration": 108,
    "start_time": "2022-06-28T10:26:30.610Z"
   },
   {
    "duration": 185,
    "start_time": "2022-06-28T10:26:30.721Z"
   },
   {
    "duration": 264,
    "start_time": "2022-06-28T10:26:30.908Z"
   },
   {
    "duration": 97,
    "start_time": "2022-06-28T10:26:31.174Z"
   },
   {
    "duration": 190,
    "start_time": "2022-06-28T10:26:31.273Z"
   },
   {
    "duration": 17,
    "start_time": "2022-06-28T10:26:31.465Z"
   },
   {
    "duration": 10,
    "start_time": "2022-06-28T10:26:31.484Z"
   },
   {
    "duration": 61,
    "start_time": "2022-06-28T10:26:31.496Z"
   },
   {
    "duration": 1213,
    "start_time": "2022-06-28T10:26:31.559Z"
   },
   {
    "duration": 126,
    "start_time": "2022-06-28T10:26:32.774Z"
   },
   {
    "duration": 34,
    "start_time": "2022-06-28T10:26:32.902Z"
   },
   {
    "duration": 10,
    "start_time": "2022-06-28T10:26:32.941Z"
   },
   {
    "duration": 16,
    "start_time": "2022-06-28T10:26:32.953Z"
   },
   {
    "duration": 141,
    "start_time": "2022-06-28T10:26:32.971Z"
   },
   {
    "duration": 30,
    "start_time": "2022-06-28T10:26:33.113Z"
   },
   {
    "duration": 122,
    "start_time": "2022-06-28T10:26:33.144Z"
   },
   {
    "duration": 14,
    "start_time": "2022-06-28T10:26:33.268Z"
   },
   {
    "duration": 15,
    "start_time": "2022-06-28T10:26:33.283Z"
   },
   {
    "duration": 42,
    "start_time": "2022-06-28T10:26:33.299Z"
   },
   {
    "duration": 8,
    "start_time": "2022-06-28T10:26:33.343Z"
   },
   {
    "duration": 21,
    "start_time": "2022-06-28T10:26:33.353Z"
   },
   {
    "duration": 15,
    "start_time": "2022-06-28T10:26:33.376Z"
   },
   {
    "duration": 81,
    "start_time": "2022-06-28T10:26:33.392Z"
   },
   {
    "duration": 386,
    "start_time": "2022-06-28T10:26:33.475Z"
   },
   {
    "duration": 11,
    "start_time": "2022-06-28T10:26:33.863Z"
   },
   {
    "duration": 21,
    "start_time": "2022-06-28T10:26:33.876Z"
   },
   {
    "duration": 422,
    "start_time": "2022-06-28T10:26:33.899Z"
   },
   {
    "duration": 34,
    "start_time": "2022-06-28T10:26:34.323Z"
   },
   {
    "duration": 840,
    "start_time": "2022-06-28T10:26:34.359Z"
   },
   {
    "duration": 13,
    "start_time": "2022-06-28T10:26:35.201Z"
   },
   {
    "duration": 37,
    "start_time": "2022-06-28T10:26:35.225Z"
   },
   {
    "duration": 344,
    "start_time": "2022-06-28T10:26:35.264Z"
   },
   {
    "duration": 55,
    "start_time": "2022-06-28T10:26:35.610Z"
   },
   {
    "duration": 4,
    "start_time": "2022-06-28T10:26:35.667Z"
   },
   {
    "duration": 143,
    "start_time": "2022-06-28T10:26:35.673Z"
   },
   {
    "duration": 128,
    "start_time": "2022-06-28T10:26:35.818Z"
   },
   {
    "duration": 144894,
    "start_time": "2022-06-28T10:26:35.948Z"
   },
   {
    "duration": 135291,
    "start_time": "2022-06-28T10:29:00.845Z"
   },
   {
    "duration": 991,
    "start_time": "2022-06-28T10:31:16.138Z"
   },
   {
    "duration": 923,
    "start_time": "2022-06-28T10:31:17.131Z"
   },
   {
    "duration": 171,
    "start_time": "2022-06-28T11:47:54.401Z"
   },
   {
    "duration": 6,
    "start_time": "2022-06-28T11:48:34.105Z"
   },
   {
    "duration": 4,
    "start_time": "2022-06-28T11:48:40.124Z"
   },
   {
    "duration": 60,
    "start_time": "2022-06-28T11:49:28.359Z"
   },
   {
    "duration": 5,
    "start_time": "2022-06-28T11:49:44.611Z"
   },
   {
    "duration": 16,
    "start_time": "2022-06-28T11:50:29.305Z"
   },
   {
    "duration": 5,
    "start_time": "2022-06-28T11:50:49.759Z"
   },
   {
    "duration": 822070,
    "start_time": "2022-06-28T11:50:56.176Z"
   },
   {
    "duration": 123,
    "start_time": "2022-06-28T12:05:33.063Z"
   },
   {
    "duration": 37,
    "start_time": "2022-06-28T12:05:39.522Z"
   },
   {
    "duration": 42,
    "start_time": "2022-06-28T12:05:51.016Z"
   },
   {
    "duration": 27,
    "start_time": "2022-06-28T12:05:54.043Z"
   },
   {
    "duration": 808,
    "start_time": "2022-06-28T12:06:26.549Z"
   },
   {
    "duration": 1650,
    "start_time": "2022-06-28T12:08:47.813Z"
   },
   {
    "duration": 909,
    "start_time": "2022-06-28T12:08:49.465Z"
   },
   {
    "duration": 185,
    "start_time": "2022-06-28T12:08:50.376Z"
   },
   {
    "duration": 123,
    "start_time": "2022-06-28T12:08:50.563Z"
   },
   {
    "duration": 140,
    "start_time": "2022-06-28T12:08:50.687Z"
   },
   {
    "duration": 21,
    "start_time": "2022-06-28T12:08:50.829Z"
   },
   {
    "duration": 12,
    "start_time": "2022-06-28T12:08:50.851Z"
   },
   {
    "duration": 6652,
    "start_time": "2022-06-28T12:08:50.865Z"
   },
   {
    "duration": 22,
    "start_time": "2022-06-28T12:08:57.520Z"
   },
   {
    "duration": 12,
    "start_time": "2022-06-28T12:08:57.546Z"
   },
   {
    "duration": 138,
    "start_time": "2022-06-28T12:08:57.560Z"
   },
   {
    "duration": 32,
    "start_time": "2022-06-28T12:08:57.700Z"
   },
   {
    "duration": 74,
    "start_time": "2022-06-28T12:08:57.734Z"
   },
   {
    "duration": 33,
    "start_time": "2022-06-28T12:08:57.810Z"
   },
   {
    "duration": 39,
    "start_time": "2022-06-28T12:08:57.845Z"
   },
   {
    "duration": 95,
    "start_time": "2022-06-28T12:08:57.886Z"
   },
   {
    "duration": 51,
    "start_time": "2022-06-28T12:08:57.982Z"
   },
   {
    "duration": 21,
    "start_time": "2022-06-28T12:08:58.034Z"
   },
   {
    "duration": 12,
    "start_time": "2022-06-28T12:08:58.057Z"
   },
   {
    "duration": 58,
    "start_time": "2022-06-28T12:08:58.071Z"
   },
   {
    "duration": 55,
    "start_time": "2022-06-28T12:08:58.132Z"
   },
   {
    "duration": 39,
    "start_time": "2022-06-28T12:08:58.189Z"
   },
   {
    "duration": 37,
    "start_time": "2022-06-28T12:08:58.230Z"
   },
   {
    "duration": 134,
    "start_time": "2022-06-28T12:08:58.269Z"
   },
   {
    "duration": 61,
    "start_time": "2022-06-28T12:08:58.405Z"
   },
   {
    "duration": 36,
    "start_time": "2022-06-28T12:08:58.468Z"
   },
   {
    "duration": 165,
    "start_time": "2022-06-28T12:08:58.507Z"
   },
   {
    "duration": 194,
    "start_time": "2022-06-28T12:08:58.677Z"
   },
   {
    "duration": 238,
    "start_time": "2022-06-28T12:08:58.873Z"
   },
   {
    "duration": 80,
    "start_time": "2022-06-28T12:08:59.113Z"
   },
   {
    "duration": 214,
    "start_time": "2022-06-28T12:08:59.195Z"
   },
   {
    "duration": 29,
    "start_time": "2022-06-28T12:08:59.413Z"
   },
   {
    "duration": 12,
    "start_time": "2022-06-28T12:08:59.444Z"
   },
   {
    "duration": 27,
    "start_time": "2022-06-28T12:08:59.458Z"
   },
   {
    "duration": 1241,
    "start_time": "2022-06-28T12:08:59.487Z"
   },
   {
    "duration": 134,
    "start_time": "2022-06-28T12:09:00.730Z"
   },
   {
    "duration": 16,
    "start_time": "2022-06-28T12:09:00.867Z"
   },
   {
    "duration": 27,
    "start_time": "2022-06-28T12:09:00.885Z"
   },
   {
    "duration": 42,
    "start_time": "2022-06-28T12:09:00.914Z"
   },
   {
    "duration": 124,
    "start_time": "2022-06-28T12:09:00.958Z"
   },
   {
    "duration": 31,
    "start_time": "2022-06-28T12:09:01.085Z"
   },
   {
    "duration": 150,
    "start_time": "2022-06-28T12:09:01.117Z"
   },
   {
    "duration": 20,
    "start_time": "2022-06-28T12:09:01.269Z"
   },
   {
    "duration": 17,
    "start_time": "2022-06-28T12:09:01.291Z"
   },
   {
    "duration": 18,
    "start_time": "2022-06-28T12:09:01.326Z"
   },
   {
    "duration": 20,
    "start_time": "2022-06-28T12:09:01.346Z"
   },
   {
    "duration": 64,
    "start_time": "2022-06-28T12:09:01.370Z"
   },
   {
    "duration": 61,
    "start_time": "2022-06-28T12:09:01.437Z"
   },
   {
    "duration": 126,
    "start_time": "2022-06-28T12:09:01.501Z"
   },
   {
    "duration": 441,
    "start_time": "2022-06-28T12:09:01.630Z"
   },
   {
    "duration": 14,
    "start_time": "2022-06-28T12:09:02.073Z"
   },
   {
    "duration": 62,
    "start_time": "2022-06-28T12:09:02.089Z"
   },
   {
    "duration": 475,
    "start_time": "2022-06-28T12:09:02.153Z"
   },
   {
    "duration": 16,
    "start_time": "2022-06-28T12:09:02.630Z"
   },
   {
    "duration": 729,
    "start_time": "2022-06-28T12:09:02.648Z"
   },
   {
    "duration": 14,
    "start_time": "2022-06-28T12:09:03.379Z"
   },
   {
    "duration": 8,
    "start_time": "2022-06-28T12:09:03.395Z"
   },
   {
    "duration": 345,
    "start_time": "2022-06-28T12:09:03.404Z"
   },
   {
    "duration": 47,
    "start_time": "2022-06-28T12:09:03.752Z"
   },
   {
    "duration": 4,
    "start_time": "2022-06-28T12:09:03.803Z"
   },
   {
    "duration": 127,
    "start_time": "2022-06-28T12:09:03.809Z"
   },
   {
    "duration": 138,
    "start_time": "2022-06-28T12:09:03.938Z"
   },
   {
    "duration": 5,
    "start_time": "2022-06-28T12:09:04.078Z"
   },
   {
    "duration": 110554,
    "start_time": "2022-06-28T12:09:04.085Z"
   },
   {
    "duration": 125889,
    "start_time": "2022-06-28T12:10:54.641Z"
   },
   {
    "duration": 913,
    "start_time": "2022-06-28T12:13:00.532Z"
   },
   {
    "duration": 997,
    "start_time": "2022-06-28T12:13:01.452Z"
   },
   {
    "duration": 790,
    "start_time": "2022-06-28T12:14:13.461Z"
   },
   {
    "duration": 894,
    "start_time": "2022-06-28T12:14:32.036Z"
   },
   {
    "duration": 55,
    "start_time": "2022-06-28T12:22:42.986Z"
   },
   {
    "duration": 38,
    "start_time": "2022-06-28T12:27:41.282Z"
   },
   {
    "duration": 2807,
    "start_time": "2022-06-28T12:27:45.904Z"
   },
   {
    "duration": 2529,
    "start_time": "2022-06-28T12:28:10.343Z"
   },
   {
    "duration": 68,
    "start_time": "2022-06-28T12:28:57.543Z"
   },
   {
    "duration": 72,
    "start_time": "2022-06-28T12:29:09.800Z"
   },
   {
    "duration": 76,
    "start_time": "2022-06-28T12:29:21.678Z"
   },
   {
    "duration": 905,
    "start_time": "2022-06-28T12:29:27.971Z"
   },
   {
    "duration": 4,
    "start_time": "2022-06-28T12:30:14.355Z"
   },
   {
    "duration": 106,
    "start_time": "2022-06-28T12:30:30.843Z"
   },
   {
    "duration": 27,
    "start_time": "2022-06-28T12:31:07.823Z"
   },
   {
    "duration": 36,
    "start_time": "2022-06-28T12:31:22.881Z"
   },
   {
    "duration": 31,
    "start_time": "2022-06-28T12:31:28.505Z"
   },
   {
    "duration": 2171892,
    "start_time": "2022-06-28T12:31:32.558Z"
   },
   {
    "duration": 91447,
    "start_time": "2022-06-28T13:09:04.383Z"
   },
   {
    "duration": 698055,
    "start_time": "2022-06-28T13:10:41.880Z"
   },
   {
    "duration": 295297,
    "start_time": "2022-06-28T13:23:23.544Z"
   },
   {
    "duration": 30,
    "start_time": "2022-06-28T13:28:44.953Z"
   },
   {
    "duration": 800340,
    "start_time": "2022-06-28T13:28:50.623Z"
   },
   {
    "duration": 73,
    "start_time": "2022-06-28T13:42:21.250Z"
   },
   {
    "duration": 1516,
    "start_time": "2022-06-28T13:42:41.163Z"
   },
   {
    "duration": 904,
    "start_time": "2022-06-28T13:42:42.681Z"
   },
   {
    "duration": 147,
    "start_time": "2022-06-28T13:42:43.586Z"
   },
   {
    "duration": 116,
    "start_time": "2022-06-28T13:42:43.735Z"
   },
   {
    "duration": 136,
    "start_time": "2022-06-28T13:42:43.853Z"
   },
   {
    "duration": 19,
    "start_time": "2022-06-28T13:42:43.990Z"
   },
   {
    "duration": 18,
    "start_time": "2022-06-28T13:42:44.010Z"
   },
   {
    "duration": 7220,
    "start_time": "2022-06-28T13:42:44.030Z"
   },
   {
    "duration": 20,
    "start_time": "2022-06-28T13:42:51.251Z"
   },
   {
    "duration": 26,
    "start_time": "2022-06-28T13:42:51.275Z"
   },
   {
    "duration": 127,
    "start_time": "2022-06-28T13:42:51.303Z"
   },
   {
    "duration": 21,
    "start_time": "2022-06-28T13:42:51.431Z"
   },
   {
    "duration": 100,
    "start_time": "2022-06-28T13:42:51.453Z"
   },
   {
    "duration": 22,
    "start_time": "2022-06-28T13:42:51.555Z"
   },
   {
    "duration": 75,
    "start_time": "2022-06-28T13:42:51.579Z"
   },
   {
    "duration": 77,
    "start_time": "2022-06-28T13:42:51.656Z"
   },
   {
    "duration": 35,
    "start_time": "2022-06-28T13:42:51.735Z"
   },
   {
    "duration": 25,
    "start_time": "2022-06-28T13:42:51.773Z"
   },
   {
    "duration": 38,
    "start_time": "2022-06-28T13:42:51.801Z"
   },
   {
    "duration": 39,
    "start_time": "2022-06-28T13:42:51.842Z"
   },
   {
    "duration": 73,
    "start_time": "2022-06-28T13:42:51.883Z"
   },
   {
    "duration": 24,
    "start_time": "2022-06-28T13:42:51.958Z"
   },
   {
    "duration": 52,
    "start_time": "2022-06-28T13:42:51.984Z"
   },
   {
    "duration": 79,
    "start_time": "2022-06-28T13:42:52.038Z"
   },
   {
    "duration": 42,
    "start_time": "2022-06-28T13:42:52.119Z"
   },
   {
    "duration": 19,
    "start_time": "2022-06-28T13:42:52.163Z"
   },
   {
    "duration": 113,
    "start_time": "2022-06-28T13:42:52.184Z"
   },
   {
    "duration": 190,
    "start_time": "2022-06-28T13:42:52.302Z"
   },
   {
    "duration": 244,
    "start_time": "2022-06-28T13:42:52.493Z"
   },
   {
    "duration": 88,
    "start_time": "2022-06-28T13:42:52.739Z"
   },
   {
    "duration": 154,
    "start_time": "2022-06-28T13:42:52.829Z"
   },
   {
    "duration": 21,
    "start_time": "2022-06-28T13:42:52.986Z"
   },
   {
    "duration": 27,
    "start_time": "2022-06-28T13:42:53.009Z"
   },
   {
    "duration": 35,
    "start_time": "2022-06-28T13:42:53.038Z"
   },
   {
    "duration": 1133,
    "start_time": "2022-06-28T13:42:53.075Z"
   },
   {
    "duration": 154,
    "start_time": "2022-06-28T13:42:54.210Z"
   },
   {
    "duration": 13,
    "start_time": "2022-06-28T13:42:54.367Z"
   },
   {
    "duration": 13,
    "start_time": "2022-06-28T13:42:54.382Z"
   },
   {
    "duration": 40,
    "start_time": "2022-06-28T13:42:54.397Z"
   },
   {
    "duration": 163,
    "start_time": "2022-06-28T13:42:54.440Z"
   },
   {
    "duration": 38,
    "start_time": "2022-06-28T13:42:54.606Z"
   },
   {
    "duration": 150,
    "start_time": "2022-06-28T13:42:54.647Z"
   },
   {
    "duration": 15,
    "start_time": "2022-06-28T13:42:54.799Z"
   },
   {
    "duration": 15,
    "start_time": "2022-06-28T13:42:54.825Z"
   },
   {
    "duration": 17,
    "start_time": "2022-06-28T13:42:54.841Z"
   },
   {
    "duration": 16,
    "start_time": "2022-06-28T13:42:54.860Z"
   },
   {
    "duration": 51,
    "start_time": "2022-06-28T13:42:54.878Z"
   },
   {
    "duration": 18,
    "start_time": "2022-06-28T13:42:54.931Z"
   },
   {
    "duration": 75,
    "start_time": "2022-06-28T13:42:54.951Z"
   },
   {
    "duration": 340,
    "start_time": "2022-06-28T13:42:55.028Z"
   },
   {
    "duration": 13,
    "start_time": "2022-06-28T13:42:55.370Z"
   },
   {
    "duration": 12,
    "start_time": "2022-06-28T13:42:55.386Z"
   },
   {
    "duration": 473,
    "start_time": "2022-06-28T13:42:55.401Z"
   },
   {
    "duration": 16,
    "start_time": "2022-06-28T13:42:55.876Z"
   },
   {
    "duration": 714,
    "start_time": "2022-06-28T13:42:55.895Z"
   },
   {
    "duration": 16,
    "start_time": "2022-06-28T13:42:56.611Z"
   },
   {
    "duration": 23,
    "start_time": "2022-06-28T13:42:56.630Z"
   },
   {
    "duration": 338,
    "start_time": "2022-06-28T13:42:56.656Z"
   },
   {
    "duration": 52,
    "start_time": "2022-06-28T13:42:56.996Z"
   },
   {
    "duration": 76,
    "start_time": "2022-06-28T13:42:57.050Z"
   },
   {
    "duration": 5,
    "start_time": "2022-06-28T13:42:57.128Z"
   },
   {
    "duration": 128,
    "start_time": "2022-06-28T13:42:57.135Z"
   },
   {
    "duration": 114,
    "start_time": "2022-06-28T13:42:57.265Z"
   },
   {
    "duration": 3,
    "start_time": "2022-06-28T13:42:57.381Z"
   },
   {
    "duration": 1638,
    "start_time": "2022-06-28T13:43:20.396Z"
   },
   {
    "duration": 899,
    "start_time": "2022-06-28T13:43:22.036Z"
   },
   {
    "duration": 162,
    "start_time": "2022-06-28T13:43:22.937Z"
   },
   {
    "duration": 114,
    "start_time": "2022-06-28T13:43:23.101Z"
   },
   {
    "duration": 139,
    "start_time": "2022-06-28T13:43:23.226Z"
   },
   {
    "duration": 13,
    "start_time": "2022-06-28T13:43:23.367Z"
   },
   {
    "duration": 6,
    "start_time": "2022-06-28T13:43:23.382Z"
   },
   {
    "duration": 6712,
    "start_time": "2022-06-28T13:43:23.389Z"
   },
   {
    "duration": 38,
    "start_time": "2022-06-28T13:43:30.104Z"
   },
   {
    "duration": 18,
    "start_time": "2022-06-28T13:43:30.145Z"
   },
   {
    "duration": 142,
    "start_time": "2022-06-28T13:43:30.166Z"
   },
   {
    "duration": 37,
    "start_time": "2022-06-28T13:43:30.310Z"
   },
   {
    "duration": 97,
    "start_time": "2022-06-28T13:43:30.349Z"
   },
   {
    "duration": 20,
    "start_time": "2022-06-28T13:43:30.450Z"
   },
   {
    "duration": 55,
    "start_time": "2022-06-28T13:43:30.473Z"
   },
   {
    "duration": 111,
    "start_time": "2022-06-28T13:43:30.530Z"
   },
   {
    "duration": 36,
    "start_time": "2022-06-28T13:43:30.643Z"
   },
   {
    "duration": 26,
    "start_time": "2022-06-28T13:43:30.682Z"
   },
   {
    "duration": 27,
    "start_time": "2022-06-28T13:43:30.710Z"
   },
   {
    "duration": 29,
    "start_time": "2022-06-28T13:43:30.740Z"
   },
   {
    "duration": 70,
    "start_time": "2022-06-28T13:43:30.771Z"
   },
   {
    "duration": 43,
    "start_time": "2022-06-28T13:43:30.843Z"
   },
   {
    "duration": 68,
    "start_time": "2022-06-28T13:43:30.888Z"
   },
   {
    "duration": 108,
    "start_time": "2022-06-28T13:43:30.958Z"
   },
   {
    "duration": 37,
    "start_time": "2022-06-28T13:43:31.068Z"
   },
   {
    "duration": 38,
    "start_time": "2022-06-28T13:43:31.107Z"
   },
   {
    "duration": 125,
    "start_time": "2022-06-28T13:43:31.147Z"
   },
   {
    "duration": 206,
    "start_time": "2022-06-28T13:43:31.274Z"
   },
   {
    "duration": 270,
    "start_time": "2022-06-28T13:43:31.482Z"
   },
   {
    "duration": 83,
    "start_time": "2022-06-28T13:43:31.754Z"
   },
   {
    "duration": 147,
    "start_time": "2022-06-28T13:43:31.839Z"
   },
   {
    "duration": 18,
    "start_time": "2022-06-28T13:43:31.989Z"
   },
   {
    "duration": 25,
    "start_time": "2022-06-28T13:43:32.009Z"
   },
   {
    "duration": 26,
    "start_time": "2022-06-28T13:43:32.035Z"
   },
   {
    "duration": 1137,
    "start_time": "2022-06-28T13:43:32.063Z"
   },
   {
    "duration": 142,
    "start_time": "2022-06-28T13:43:33.201Z"
   },
   {
    "duration": 13,
    "start_time": "2022-06-28T13:43:33.345Z"
   },
   {
    "duration": 10,
    "start_time": "2022-06-28T13:43:33.360Z"
   },
   {
    "duration": 19,
    "start_time": "2022-06-28T13:43:33.372Z"
   },
   {
    "duration": 171,
    "start_time": "2022-06-28T13:43:33.393Z"
   },
   {
    "duration": 22,
    "start_time": "2022-06-28T13:43:33.569Z"
   },
   {
    "duration": 125,
    "start_time": "2022-06-28T13:43:33.594Z"
   },
   {
    "duration": 15,
    "start_time": "2022-06-28T13:43:33.727Z"
   },
   {
    "duration": 15,
    "start_time": "2022-06-28T13:43:33.744Z"
   },
   {
    "duration": 18,
    "start_time": "2022-06-28T13:43:33.761Z"
   },
   {
    "duration": 8,
    "start_time": "2022-06-28T13:43:33.781Z"
   },
   {
    "duration": 19,
    "start_time": "2022-06-28T13:43:33.827Z"
   },
   {
    "duration": 19,
    "start_time": "2022-06-28T13:43:33.848Z"
   },
   {
    "duration": 72,
    "start_time": "2022-06-28T13:43:33.869Z"
   },
   {
    "duration": 344,
    "start_time": "2022-06-28T13:43:33.943Z"
   },
   {
    "duration": 16,
    "start_time": "2022-06-28T13:43:34.289Z"
   },
   {
    "duration": 14,
    "start_time": "2022-06-28T13:43:34.306Z"
   },
   {
    "duration": 510,
    "start_time": "2022-06-28T13:43:34.323Z"
   },
   {
    "duration": 15,
    "start_time": "2022-06-28T13:43:34.835Z"
   },
   {
    "duration": 703,
    "start_time": "2022-06-28T13:43:34.852Z"
   },
   {
    "duration": 19,
    "start_time": "2022-06-28T13:43:35.558Z"
   },
   {
    "duration": 7,
    "start_time": "2022-06-28T13:43:35.579Z"
   },
   {
    "duration": 350,
    "start_time": "2022-06-28T13:43:35.588Z"
   },
   {
    "duration": 45,
    "start_time": "2022-06-28T13:43:35.940Z"
   },
   {
    "duration": 77,
    "start_time": "2022-06-28T13:43:35.987Z"
   },
   {
    "duration": 4,
    "start_time": "2022-06-28T13:43:36.065Z"
   },
   {
    "duration": 120,
    "start_time": "2022-06-28T13:43:36.071Z"
   },
   {
    "duration": 119,
    "start_time": "2022-06-28T13:43:36.193Z"
   },
   {
    "duration": 11,
    "start_time": "2022-06-28T13:43:36.314Z"
   },
   {
    "duration": 89708,
    "start_time": "2022-06-28T13:43:36.329Z"
   },
   {
    "duration": 87487,
    "start_time": "2022-06-28T13:45:06.040Z"
   },
   {
    "duration": 919,
    "start_time": "2022-06-28T13:46:33.530Z"
   },
   {
    "duration": 1078,
    "start_time": "2022-06-28T13:46:34.451Z"
   },
   {
    "duration": 7,
    "start_time": "2022-06-28T13:46:35.532Z"
   },
   {
    "duration": 107,
    "start_time": "2022-06-28T13:46:35.626Z"
   },
   {
    "duration": 45,
    "start_time": "2022-06-28T13:46:35.735Z"
   },
   {
    "duration": 289763,
    "start_time": "2022-06-28T13:46:35.782Z"
   },
   {
    "duration": 585538,
    "start_time": "2022-06-28T13:51:35.921Z"
   },
   {
    "duration": 104,
    "start_time": "2022-06-28T14:01:26.888Z"
   },
   {
    "duration": 5,
    "start_time": "2022-06-28T14:01:46.317Z"
   },
   {
    "duration": 4674,
    "start_time": "2022-06-28T14:01:57.387Z"
   },
   {
    "duration": 123,
    "start_time": "2022-06-28T14:02:05.188Z"
   },
   {
    "duration": 4971,
    "start_time": "2022-06-28T14:02:13.019Z"
   },
   {
    "duration": 1831,
    "start_time": "2022-06-28T14:05:33.741Z"
   },
   {
    "duration": 71532,
    "start_time": "2022-06-28T14:06:47.108Z"
   },
   {
    "duration": 0,
    "start_time": "2022-06-28T14:10:23.842Z"
   },
   {
    "duration": 72577,
    "start_time": "2022-06-28T14:10:36.459Z"
   },
   {
    "duration": 75971,
    "start_time": "2022-06-28T14:12:06.154Z"
   },
   {
    "duration": 18,
    "start_time": "2022-06-28T14:17:57.926Z"
   },
   {
    "duration": 208,
    "start_time": "2022-06-28T14:18:11.420Z"
   },
   {
    "duration": 2095,
    "start_time": "2022-06-28T14:28:52.754Z"
   },
   {
    "duration": 1208,
    "start_time": "2022-06-28T14:28:54.855Z"
   },
   {
    "duration": 196,
    "start_time": "2022-06-28T14:28:56.070Z"
   },
   {
    "duration": 128,
    "start_time": "2022-06-28T14:28:56.269Z"
   },
   {
    "duration": 184,
    "start_time": "2022-06-28T14:28:56.400Z"
   },
   {
    "duration": 15,
    "start_time": "2022-06-28T14:28:56.586Z"
   },
   {
    "duration": 10,
    "start_time": "2022-06-28T14:28:56.603Z"
   },
   {
    "duration": 9284,
    "start_time": "2022-06-28T14:28:56.630Z"
   },
   {
    "duration": 24,
    "start_time": "2022-06-28T14:29:05.917Z"
   },
   {
    "duration": 33,
    "start_time": "2022-06-28T14:29:05.943Z"
   },
   {
    "duration": 200,
    "start_time": "2022-06-28T14:29:05.978Z"
   },
   {
    "duration": 24,
    "start_time": "2022-06-28T14:29:06.180Z"
   },
   {
    "duration": 149,
    "start_time": "2022-06-28T14:29:06.207Z"
   },
   {
    "duration": 30,
    "start_time": "2022-06-28T14:29:06.364Z"
   },
   {
    "duration": 77,
    "start_time": "2022-06-28T14:29:06.397Z"
   },
   {
    "duration": 122,
    "start_time": "2022-06-28T14:29:06.477Z"
   },
   {
    "duration": 37,
    "start_time": "2022-06-28T14:29:06.601Z"
   },
   {
    "duration": 45,
    "start_time": "2022-06-28T14:29:06.640Z"
   },
   {
    "duration": 11,
    "start_time": "2022-06-28T14:29:06.687Z"
   },
   {
    "duration": 30,
    "start_time": "2022-06-28T14:29:06.699Z"
   },
   {
    "duration": 100,
    "start_time": "2022-06-28T14:29:06.731Z"
   },
   {
    "duration": 76,
    "start_time": "2022-06-28T14:29:06.833Z"
   },
   {
    "duration": 74,
    "start_time": "2022-06-28T14:29:06.911Z"
   },
   {
    "duration": 168,
    "start_time": "2022-06-28T14:29:06.988Z"
   },
   {
    "duration": 72,
    "start_time": "2022-06-28T14:29:07.164Z"
   },
   {
    "duration": 36,
    "start_time": "2022-06-28T14:29:07.238Z"
   },
   {
    "duration": 146,
    "start_time": "2022-06-28T14:29:07.277Z"
   },
   {
    "duration": 325,
    "start_time": "2022-06-28T14:29:07.425Z"
   },
   {
    "duration": 371,
    "start_time": "2022-06-28T14:29:07.753Z"
   },
   {
    "duration": 134,
    "start_time": "2022-06-28T14:29:08.141Z"
   },
   {
    "duration": 229,
    "start_time": "2022-06-28T14:29:08.278Z"
   },
   {
    "duration": 33,
    "start_time": "2022-06-28T14:29:08.509Z"
   },
   {
    "duration": 21,
    "start_time": "2022-06-28T14:29:08.545Z"
   },
   {
    "duration": 26,
    "start_time": "2022-06-28T14:29:08.568Z"
   },
   {
    "duration": 1306,
    "start_time": "2022-06-28T14:29:08.595Z"
   },
   {
    "duration": 159,
    "start_time": "2022-06-28T14:29:09.903Z"
   },
   {
    "duration": 15,
    "start_time": "2022-06-28T14:29:10.064Z"
   },
   {
    "duration": 31,
    "start_time": "2022-06-28T14:29:10.081Z"
   },
   {
    "duration": 28,
    "start_time": "2022-06-28T14:29:10.114Z"
   },
   {
    "duration": 207,
    "start_time": "2022-06-28T14:29:10.145Z"
   },
   {
    "duration": 27,
    "start_time": "2022-06-28T14:29:10.362Z"
   },
   {
    "duration": 158,
    "start_time": "2022-06-28T14:29:10.392Z"
   },
   {
    "duration": 15,
    "start_time": "2022-06-28T14:29:10.552Z"
   },
   {
    "duration": 17,
    "start_time": "2022-06-28T14:29:10.570Z"
   },
   {
    "duration": 20,
    "start_time": "2022-06-28T14:29:10.589Z"
   },
   {
    "duration": 11,
    "start_time": "2022-06-28T14:29:10.630Z"
   },
   {
    "duration": 31,
    "start_time": "2022-06-28T14:29:10.643Z"
   },
   {
    "duration": 19,
    "start_time": "2022-06-28T14:29:10.676Z"
   },
   {
    "duration": 77,
    "start_time": "2022-06-28T14:29:10.698Z"
   },
   {
    "duration": 393,
    "start_time": "2022-06-28T14:29:10.777Z"
   },
   {
    "duration": 11,
    "start_time": "2022-06-28T14:29:11.173Z"
   },
   {
    "duration": 15,
    "start_time": "2022-06-28T14:29:11.186Z"
   },
   {
    "duration": 512,
    "start_time": "2022-06-28T14:29:11.203Z"
   },
   {
    "duration": 24,
    "start_time": "2022-06-28T14:29:11.717Z"
   },
   {
    "duration": 767,
    "start_time": "2022-06-28T14:29:11.747Z"
   },
   {
    "duration": 30,
    "start_time": "2022-06-28T14:29:12.516Z"
   },
   {
    "duration": 10,
    "start_time": "2022-06-28T14:29:12.553Z"
   },
   {
    "duration": 477,
    "start_time": "2022-06-28T14:29:12.566Z"
   },
   {
    "duration": 60,
    "start_time": "2022-06-28T14:29:13.045Z"
   },
   {
    "duration": 92,
    "start_time": "2022-06-28T14:29:13.107Z"
   },
   {
    "duration": 8,
    "start_time": "2022-06-28T14:29:13.202Z"
   },
   {
    "duration": 152,
    "start_time": "2022-06-28T14:29:13.212Z"
   },
   {
    "duration": 128,
    "start_time": "2022-06-28T14:29:13.367Z"
   },
   {
    "duration": 4,
    "start_time": "2022-06-28T14:29:13.497Z"
   },
   {
    "duration": 163042,
    "start_time": "2022-06-28T14:29:13.503Z"
   },
   {
    "duration": 115086,
    "start_time": "2022-06-28T14:31:56.549Z"
   },
   {
    "duration": 1018,
    "start_time": "2022-06-28T14:33:51.638Z"
   },
   {
    "duration": 1074,
    "start_time": "2022-06-28T14:33:52.658Z"
   },
   {
    "duration": 91,
    "start_time": "2022-06-28T14:33:53.735Z"
   },
   {
    "duration": 13,
    "start_time": "2022-06-28T14:33:53.829Z"
   },
   {
    "duration": 7,
    "start_time": "2022-06-28T14:33:53.844Z"
   },
   {
    "duration": 291,
    "start_time": "2022-06-28T14:33:53.853Z"
   },
   {
    "duration": 996,
    "start_time": "2022-06-28T14:33:54.145Z"
   },
   {
    "duration": 7830,
    "start_time": "2022-06-28T14:33:55.143Z"
   },
   {
    "duration": 2674,
    "start_time": "2022-06-28T14:34:02.975Z"
   },
   {
    "duration": 23,
    "start_time": "2022-06-28T14:34:05.651Z"
   },
   {
    "duration": 0,
    "start_time": "2022-06-28T14:34:05.676Z"
   },
   {
    "duration": 957,
    "start_time": "2022-06-28T14:34:07.480Z"
   },
   {
    "duration": 3189,
    "start_time": "2022-06-28T14:34:33.791Z"
   },
   {
    "duration": 1649,
    "start_time": "2022-06-29T07:49:16.628Z"
   },
   {
    "duration": 1061,
    "start_time": "2022-06-29T07:49:18.279Z"
   },
   {
    "duration": 132,
    "start_time": "2022-06-29T07:49:19.342Z"
   },
   {
    "duration": 127,
    "start_time": "2022-06-29T07:49:19.476Z"
   },
   {
    "duration": 127,
    "start_time": "2022-06-29T07:49:19.605Z"
   },
   {
    "duration": 13,
    "start_time": "2022-06-29T07:49:19.733Z"
   },
   {
    "duration": 4,
    "start_time": "2022-06-29T07:49:19.748Z"
   },
   {
    "duration": 6289,
    "start_time": "2022-06-29T07:49:19.753Z"
   },
   {
    "duration": 27,
    "start_time": "2022-06-29T07:49:26.044Z"
   },
   {
    "duration": 14,
    "start_time": "2022-06-29T07:49:26.073Z"
   },
   {
    "duration": 130,
    "start_time": "2022-06-29T07:49:26.089Z"
   },
   {
    "duration": 24,
    "start_time": "2022-06-29T07:49:26.222Z"
   },
   {
    "duration": 95,
    "start_time": "2022-06-29T07:49:26.247Z"
   },
   {
    "duration": 32,
    "start_time": "2022-06-29T07:49:26.345Z"
   },
   {
    "duration": 47,
    "start_time": "2022-06-29T07:49:26.380Z"
   },
   {
    "duration": 84,
    "start_time": "2022-06-29T07:49:26.429Z"
   },
   {
    "duration": 36,
    "start_time": "2022-06-29T07:49:26.523Z"
   },
   {
    "duration": 25,
    "start_time": "2022-06-29T07:49:26.561Z"
   },
   {
    "duration": 11,
    "start_time": "2022-06-29T07:49:26.588Z"
   },
   {
    "duration": 52,
    "start_time": "2022-06-29T07:49:26.600Z"
   },
   {
    "duration": 36,
    "start_time": "2022-06-29T07:49:26.654Z"
   },
   {
    "duration": 43,
    "start_time": "2022-06-29T07:49:26.692Z"
   },
   {
    "duration": 35,
    "start_time": "2022-06-29T07:49:26.737Z"
   },
   {
    "duration": 101,
    "start_time": "2022-06-29T07:49:26.775Z"
   },
   {
    "duration": 47,
    "start_time": "2022-06-29T07:49:26.878Z"
   },
   {
    "duration": 27,
    "start_time": "2022-06-29T07:49:26.928Z"
   },
   {
    "duration": 94,
    "start_time": "2022-06-29T07:49:26.957Z"
   },
   {
    "duration": 186,
    "start_time": "2022-06-29T07:49:27.052Z"
   },
   {
    "duration": 234,
    "start_time": "2022-06-29T07:49:27.239Z"
   },
   {
    "duration": 81,
    "start_time": "2022-06-29T07:49:27.474Z"
   },
   {
    "duration": 158,
    "start_time": "2022-06-29T07:49:27.556Z"
   },
   {
    "duration": 21,
    "start_time": "2022-06-29T07:49:27.716Z"
   },
   {
    "duration": 9,
    "start_time": "2022-06-29T07:49:27.738Z"
   },
   {
    "duration": 26,
    "start_time": "2022-06-29T07:49:27.748Z"
   },
   {
    "duration": 1096,
    "start_time": "2022-06-29T07:49:27.776Z"
   },
   {
    "duration": 136,
    "start_time": "2022-06-29T07:49:28.874Z"
   },
   {
    "duration": 18,
    "start_time": "2022-06-29T07:49:29.013Z"
   },
   {
    "duration": 8,
    "start_time": "2022-06-29T07:49:29.032Z"
   },
   {
    "duration": 13,
    "start_time": "2022-06-29T07:49:29.042Z"
   },
   {
    "duration": 131,
    "start_time": "2022-06-29T07:49:29.057Z"
   },
   {
    "duration": 31,
    "start_time": "2022-06-29T07:49:29.192Z"
   },
   {
    "duration": 117,
    "start_time": "2022-06-29T07:49:29.225Z"
   },
   {
    "duration": 13,
    "start_time": "2022-06-29T07:49:29.343Z"
   },
   {
    "duration": 11,
    "start_time": "2022-06-29T07:49:29.358Z"
   },
   {
    "duration": 14,
    "start_time": "2022-06-29T07:49:29.371Z"
   },
   {
    "duration": 7,
    "start_time": "2022-06-29T07:49:29.386Z"
   },
   {
    "duration": 16,
    "start_time": "2022-06-29T07:49:29.422Z"
   },
   {
    "duration": 17,
    "start_time": "2022-06-29T07:49:29.439Z"
   },
   {
    "duration": 80,
    "start_time": "2022-06-29T07:49:29.458Z"
   },
   {
    "duration": 315,
    "start_time": "2022-06-29T07:49:29.539Z"
   },
   {
    "duration": 12,
    "start_time": "2022-06-29T07:49:29.856Z"
   },
   {
    "duration": 6,
    "start_time": "2022-06-29T07:49:29.869Z"
   },
   {
    "duration": 6,
    "start_time": "2022-06-29T07:49:29.877Z"
   },
   {
    "duration": 8,
    "start_time": "2022-06-29T07:49:29.885Z"
   },
   {
    "duration": 50,
    "start_time": "2022-06-29T07:49:29.895Z"
   },
   {
    "duration": 0,
    "start_time": "2022-06-29T07:49:29.946Z"
   },
   {
    "duration": 0,
    "start_time": "2022-06-29T07:49:29.947Z"
   },
   {
    "duration": 0,
    "start_time": "2022-06-29T07:49:29.949Z"
   },
   {
    "duration": 0,
    "start_time": "2022-06-29T07:49:29.949Z"
   },
   {
    "duration": 0,
    "start_time": "2022-06-29T07:49:29.951Z"
   },
   {
    "duration": 0,
    "start_time": "2022-06-29T07:49:29.951Z"
   },
   {
    "duration": 0,
    "start_time": "2022-06-29T07:49:29.952Z"
   },
   {
    "duration": 0,
    "start_time": "2022-06-29T07:49:29.953Z"
   },
   {
    "duration": 0,
    "start_time": "2022-06-29T07:49:29.955Z"
   },
   {
    "duration": 0,
    "start_time": "2022-06-29T07:49:29.956Z"
   },
   {
    "duration": 0,
    "start_time": "2022-06-29T07:49:29.958Z"
   },
   {
    "duration": 0,
    "start_time": "2022-06-29T07:49:29.959Z"
   },
   {
    "duration": 0,
    "start_time": "2022-06-29T07:49:29.960Z"
   },
   {
    "duration": 6,
    "start_time": "2022-06-29T07:50:08.085Z"
   },
   {
    "duration": 1618,
    "start_time": "2022-06-29T07:50:32.613Z"
   },
   {
    "duration": 841,
    "start_time": "2022-06-29T07:50:34.233Z"
   },
   {
    "duration": 133,
    "start_time": "2022-06-29T07:50:35.076Z"
   },
   {
    "duration": 105,
    "start_time": "2022-06-29T07:50:35.224Z"
   },
   {
    "duration": 128,
    "start_time": "2022-06-29T07:50:35.331Z"
   },
   {
    "duration": 15,
    "start_time": "2022-06-29T07:50:35.461Z"
   },
   {
    "duration": 12,
    "start_time": "2022-06-29T07:50:35.478Z"
   },
   {
    "duration": 6630,
    "start_time": "2022-06-29T07:50:35.492Z"
   },
   {
    "duration": 17,
    "start_time": "2022-06-29T07:50:42.124Z"
   },
   {
    "duration": 10,
    "start_time": "2022-06-29T07:50:42.143Z"
   },
   {
    "duration": 131,
    "start_time": "2022-06-29T07:50:42.155Z"
   },
   {
    "duration": 19,
    "start_time": "2022-06-29T07:50:42.288Z"
   },
   {
    "duration": 83,
    "start_time": "2022-06-29T07:50:42.309Z"
   },
   {
    "duration": 21,
    "start_time": "2022-06-29T07:50:42.395Z"
   },
   {
    "duration": 35,
    "start_time": "2022-06-29T07:50:42.422Z"
   },
   {
    "duration": 94,
    "start_time": "2022-06-29T07:50:42.458Z"
   },
   {
    "duration": 42,
    "start_time": "2022-06-29T07:50:42.554Z"
   },
   {
    "duration": 44,
    "start_time": "2022-06-29T07:50:42.598Z"
   },
   {
    "duration": 12,
    "start_time": "2022-06-29T07:50:42.645Z"
   },
   {
    "duration": 44,
    "start_time": "2022-06-29T07:50:42.659Z"
   },
   {
    "duration": 46,
    "start_time": "2022-06-29T07:50:42.705Z"
   },
   {
    "duration": 31,
    "start_time": "2022-06-29T07:50:42.752Z"
   },
   {
    "duration": 48,
    "start_time": "2022-06-29T07:50:42.785Z"
   },
   {
    "duration": 72,
    "start_time": "2022-06-29T07:50:42.835Z"
   },
   {
    "duration": 42,
    "start_time": "2022-06-29T07:50:42.909Z"
   },
   {
    "duration": 19,
    "start_time": "2022-06-29T07:50:42.953Z"
   },
   {
    "duration": 99,
    "start_time": "2022-06-29T07:50:42.973Z"
   },
   {
    "duration": 169,
    "start_time": "2022-06-29T07:50:43.073Z"
   },
   {
    "duration": 224,
    "start_time": "2022-06-29T07:50:43.244Z"
   },
   {
    "duration": 76,
    "start_time": "2022-06-29T07:50:43.470Z"
   },
   {
    "duration": 134,
    "start_time": "2022-06-29T07:50:43.548Z"
   },
   {
    "duration": 16,
    "start_time": "2022-06-29T07:50:43.684Z"
   },
   {
    "duration": 25,
    "start_time": "2022-06-29T07:50:43.702Z"
   },
   {
    "duration": 19,
    "start_time": "2022-06-29T07:50:43.729Z"
   },
   {
    "duration": 1115,
    "start_time": "2022-06-29T07:50:43.750Z"
   },
   {
    "duration": 128,
    "start_time": "2022-06-29T07:50:44.867Z"
   },
   {
    "duration": 13,
    "start_time": "2022-06-29T07:50:44.997Z"
   },
   {
    "duration": 28,
    "start_time": "2022-06-29T07:50:45.011Z"
   },
   {
    "duration": 18,
    "start_time": "2022-06-29T07:50:45.041Z"
   },
   {
    "duration": 119,
    "start_time": "2022-06-29T07:50:45.060Z"
   },
   {
    "duration": 19,
    "start_time": "2022-06-29T07:50:45.183Z"
   },
   {
    "duration": 109,
    "start_time": "2022-06-29T07:50:45.204Z"
   },
   {
    "duration": 20,
    "start_time": "2022-06-29T07:50:45.314Z"
   },
   {
    "duration": 11,
    "start_time": "2022-06-29T07:50:45.336Z"
   },
   {
    "duration": 14,
    "start_time": "2022-06-29T07:50:45.349Z"
   },
   {
    "duration": 8,
    "start_time": "2022-06-29T07:50:45.365Z"
   },
   {
    "duration": 18,
    "start_time": "2022-06-29T07:50:45.374Z"
   },
   {
    "duration": 41,
    "start_time": "2022-06-29T07:50:45.394Z"
   },
   {
    "duration": 55,
    "start_time": "2022-06-29T07:50:45.437Z"
   },
   {
    "duration": 346,
    "start_time": "2022-06-29T07:50:45.494Z"
   },
   {
    "duration": 11,
    "start_time": "2022-06-29T07:50:45.842Z"
   },
   {
    "duration": 8,
    "start_time": "2022-06-29T07:50:45.854Z"
   },
   {
    "duration": 8,
    "start_time": "2022-06-29T07:50:45.863Z"
   },
   {
    "duration": 5,
    "start_time": "2022-06-29T07:50:45.873Z"
   },
   {
    "duration": 8,
    "start_time": "2022-06-29T07:50:45.880Z"
   },
   {
    "duration": 122,
    "start_time": "2022-06-29T07:50:45.890Z"
   },
   {
    "duration": 0,
    "start_time": "2022-06-29T07:50:46.014Z"
   },
   {
    "duration": 0,
    "start_time": "2022-06-29T07:50:46.015Z"
   },
   {
    "duration": 0,
    "start_time": "2022-06-29T07:50:46.017Z"
   },
   {
    "duration": 0,
    "start_time": "2022-06-29T07:50:46.023Z"
   },
   {
    "duration": 0,
    "start_time": "2022-06-29T07:50:46.025Z"
   },
   {
    "duration": 0,
    "start_time": "2022-06-29T07:50:46.027Z"
   },
   {
    "duration": 0,
    "start_time": "2022-06-29T07:50:46.028Z"
   },
   {
    "duration": 0,
    "start_time": "2022-06-29T07:50:46.030Z"
   },
   {
    "duration": 0,
    "start_time": "2022-06-29T07:50:46.031Z"
   },
   {
    "duration": 0,
    "start_time": "2022-06-29T07:50:46.033Z"
   },
   {
    "duration": 0,
    "start_time": "2022-06-29T07:50:46.035Z"
   },
   {
    "duration": 0,
    "start_time": "2022-06-29T07:50:46.036Z"
   },
   {
    "duration": 2,
    "start_time": "2022-06-29T07:51:01.477Z"
   },
   {
    "duration": 4,
    "start_time": "2022-06-29T07:51:02.792Z"
   },
   {
    "duration": 3,
    "start_time": "2022-06-29T07:51:04.076Z"
   },
   {
    "duration": 3,
    "start_time": "2022-06-29T07:51:05.075Z"
   },
   {
    "duration": 3,
    "start_time": "2022-06-29T07:51:05.268Z"
   },
   {
    "duration": 4,
    "start_time": "2022-06-29T07:51:05.645Z"
   },
   {
    "duration": 3,
    "start_time": "2022-06-29T07:51:06.033Z"
   },
   {
    "duration": 3,
    "start_time": "2022-06-29T07:51:06.701Z"
   },
   {
    "duration": 3,
    "start_time": "2022-06-29T07:51:07.083Z"
   },
   {
    "duration": 4,
    "start_time": "2022-06-29T07:51:07.745Z"
   },
   {
    "duration": 4,
    "start_time": "2022-06-29T07:51:07.979Z"
   },
   {
    "duration": 5,
    "start_time": "2022-06-29T07:51:08.221Z"
   },
   {
    "duration": 4,
    "start_time": "2022-06-29T07:51:08.451Z"
   },
   {
    "duration": 534,
    "start_time": "2022-06-29T07:52:03.056Z"
   },
   {
    "duration": 9,
    "start_time": "2022-06-29T07:52:04.399Z"
   },
   {
    "duration": 215,
    "start_time": "2022-06-29T07:52:12.756Z"
   },
   {
    "duration": 82,
    "start_time": "2022-06-29T07:52:19.120Z"
   },
   {
    "duration": 4,
    "start_time": "2022-06-29T07:52:25.352Z"
   },
   {
    "duration": 27540,
    "start_time": "2022-06-29T07:52:31.291Z"
   },
   {
    "duration": 12,
    "start_time": "2022-06-29T07:53:08.048Z"
   },
   {
    "duration": 16248,
    "start_time": "2022-06-29T07:53:13.588Z"
   },
   {
    "duration": 10,
    "start_time": "2022-06-29T07:53:42.265Z"
   },
   {
    "duration": 17592,
    "start_time": "2022-06-29T07:53:46.747Z"
   },
   {
    "duration": 29,
    "start_time": "2022-06-29T07:55:12.076Z"
   },
   {
    "duration": 12,
    "start_time": "2022-06-29T07:55:42.469Z"
   },
   {
    "duration": 34,
    "start_time": "2022-06-29T07:56:50.638Z"
   },
   {
    "duration": 40083,
    "start_time": "2022-06-29T07:57:03.340Z"
   },
   {
    "duration": 1516,
    "start_time": "2022-06-29T08:12:29.725Z"
   },
   {
    "duration": 821,
    "start_time": "2022-06-29T08:12:31.243Z"
   },
   {
    "duration": 164,
    "start_time": "2022-06-29T08:12:32.066Z"
   },
   {
    "duration": 105,
    "start_time": "2022-06-29T08:12:32.231Z"
   },
   {
    "duration": 131,
    "start_time": "2022-06-29T08:12:32.338Z"
   },
   {
    "duration": 13,
    "start_time": "2022-06-29T08:12:32.471Z"
   },
   {
    "duration": 9,
    "start_time": "2022-06-29T08:12:32.485Z"
   },
   {
    "duration": 6416,
    "start_time": "2022-06-29T08:12:32.495Z"
   },
   {
    "duration": 18,
    "start_time": "2022-06-29T08:12:38.912Z"
   },
   {
    "duration": 15,
    "start_time": "2022-06-29T08:12:38.933Z"
   },
   {
    "duration": 130,
    "start_time": "2022-06-29T08:12:38.949Z"
   },
   {
    "duration": 20,
    "start_time": "2022-06-29T08:12:39.081Z"
   },
   {
    "duration": 83,
    "start_time": "2022-06-29T08:12:39.102Z"
   },
   {
    "duration": 38,
    "start_time": "2022-06-29T08:12:39.189Z"
   },
   {
    "duration": 39,
    "start_time": "2022-06-29T08:12:39.229Z"
   },
   {
    "duration": 87,
    "start_time": "2022-06-29T08:12:39.270Z"
   },
   {
    "duration": 32,
    "start_time": "2022-06-29T08:12:39.359Z"
   },
   {
    "duration": 34,
    "start_time": "2022-06-29T08:12:39.393Z"
   },
   {
    "duration": 9,
    "start_time": "2022-06-29T08:12:39.429Z"
   },
   {
    "duration": 31,
    "start_time": "2022-06-29T08:12:39.440Z"
   },
   {
    "duration": 35,
    "start_time": "2022-06-29T08:12:39.472Z"
   },
   {
    "duration": 30,
    "start_time": "2022-06-29T08:12:39.509Z"
   },
   {
    "duration": 35,
    "start_time": "2022-06-29T08:12:39.541Z"
   },
   {
    "duration": 93,
    "start_time": "2022-06-29T08:12:39.577Z"
   },
   {
    "duration": 33,
    "start_time": "2022-06-29T08:12:39.672Z"
   },
   {
    "duration": 29,
    "start_time": "2022-06-29T08:12:39.707Z"
   },
   {
    "duration": 88,
    "start_time": "2022-06-29T08:12:39.738Z"
   },
   {
    "duration": 180,
    "start_time": "2022-06-29T08:12:39.828Z"
   },
   {
    "duration": 226,
    "start_time": "2022-06-29T08:12:40.009Z"
   },
   {
    "duration": 76,
    "start_time": "2022-06-29T08:12:40.237Z"
   },
   {
    "duration": 143,
    "start_time": "2022-06-29T08:12:40.314Z"
   },
   {
    "duration": 15,
    "start_time": "2022-06-29T08:12:40.459Z"
   },
   {
    "duration": 8,
    "start_time": "2022-06-29T08:12:40.476Z"
   },
   {
    "duration": 37,
    "start_time": "2022-06-29T08:12:40.486Z"
   },
   {
    "duration": 1062,
    "start_time": "2022-06-29T08:12:40.525Z"
   },
   {
    "duration": 123,
    "start_time": "2022-06-29T08:12:41.589Z"
   },
   {
    "duration": 18,
    "start_time": "2022-06-29T08:12:41.714Z"
   },
   {
    "duration": 9,
    "start_time": "2022-06-29T08:12:41.733Z"
   },
   {
    "duration": 14,
    "start_time": "2022-06-29T08:12:41.744Z"
   },
   {
    "duration": 139,
    "start_time": "2022-06-29T08:12:41.759Z"
   },
   {
    "duration": 29,
    "start_time": "2022-06-29T08:12:41.902Z"
   },
   {
    "duration": 118,
    "start_time": "2022-06-29T08:12:41.934Z"
   },
   {
    "duration": 12,
    "start_time": "2022-06-29T08:12:42.054Z"
   },
   {
    "duration": 12,
    "start_time": "2022-06-29T08:12:42.068Z"
   },
   {
    "duration": 15,
    "start_time": "2022-06-29T08:12:42.081Z"
   },
   {
    "duration": 28,
    "start_time": "2022-06-29T08:12:42.098Z"
   },
   {
    "duration": 16,
    "start_time": "2022-06-29T08:12:42.128Z"
   },
   {
    "duration": 13,
    "start_time": "2022-06-29T08:12:42.146Z"
   },
   {
    "duration": 75,
    "start_time": "2022-06-29T08:12:42.161Z"
   },
   {
    "duration": 324,
    "start_time": "2022-06-29T08:12:42.239Z"
   },
   {
    "duration": 14,
    "start_time": "2022-06-29T08:12:42.565Z"
   },
   {
    "duration": 8,
    "start_time": "2022-06-29T08:12:42.581Z"
   },
   {
    "duration": 440,
    "start_time": "2022-06-29T08:12:42.591Z"
   },
   {
    "duration": 14,
    "start_time": "2022-06-29T08:12:43.033Z"
   },
   {
    "duration": 620,
    "start_time": "2022-06-29T08:12:43.049Z"
   },
   {
    "duration": 12,
    "start_time": "2022-06-29T08:12:43.671Z"
   },
   {
    "duration": 267,
    "start_time": "2022-06-29T08:12:43.685Z"
   },
   {
    "duration": 178,
    "start_time": "2022-06-29T08:12:43.954Z"
   },
   {
    "duration": 0,
    "start_time": "2022-06-29T08:12:44.134Z"
   },
   {
    "duration": 0,
    "start_time": "2022-06-29T08:12:44.135Z"
   },
   {
    "duration": 0,
    "start_time": "2022-06-29T08:12:44.136Z"
   },
   {
    "duration": 0,
    "start_time": "2022-06-29T08:12:44.137Z"
   },
   {
    "duration": 0,
    "start_time": "2022-06-29T08:12:44.139Z"
   },
   {
    "duration": 0,
    "start_time": "2022-06-29T08:12:44.139Z"
   },
   {
    "duration": 0,
    "start_time": "2022-06-29T08:12:44.141Z"
   },
   {
    "duration": 0,
    "start_time": "2022-06-29T08:12:44.141Z"
   },
   {
    "duration": 0,
    "start_time": "2022-06-29T08:12:44.142Z"
   },
   {
    "duration": 0,
    "start_time": "2022-06-29T08:12:44.143Z"
   },
   {
    "duration": 1465,
    "start_time": "2022-06-29T08:13:30.986Z"
   },
   {
    "duration": 875,
    "start_time": "2022-06-29T08:13:32.453Z"
   },
   {
    "duration": 143,
    "start_time": "2022-06-29T08:13:33.329Z"
   },
   {
    "duration": 103,
    "start_time": "2022-06-29T08:13:33.474Z"
   },
   {
    "duration": 128,
    "start_time": "2022-06-29T08:13:33.579Z"
   },
   {
    "duration": 22,
    "start_time": "2022-06-29T08:13:33.709Z"
   },
   {
    "duration": 8,
    "start_time": "2022-06-29T08:13:33.733Z"
   },
   {
    "duration": 6442,
    "start_time": "2022-06-29T08:13:33.742Z"
   },
   {
    "duration": 20,
    "start_time": "2022-06-29T08:13:40.186Z"
   },
   {
    "duration": 29,
    "start_time": "2022-06-29T08:13:40.208Z"
   },
   {
    "duration": 117,
    "start_time": "2022-06-29T08:13:40.239Z"
   },
   {
    "duration": 21,
    "start_time": "2022-06-29T08:13:40.357Z"
   },
   {
    "duration": 92,
    "start_time": "2022-06-29T08:13:40.379Z"
   },
   {
    "duration": 19,
    "start_time": "2022-06-29T08:13:40.474Z"
   },
   {
    "duration": 42,
    "start_time": "2022-06-29T08:13:40.495Z"
   },
   {
    "duration": 85,
    "start_time": "2022-06-29T08:13:40.539Z"
   },
   {
    "duration": 31,
    "start_time": "2022-06-29T08:13:40.626Z"
   },
   {
    "duration": 24,
    "start_time": "2022-06-29T08:13:40.659Z"
   },
   {
    "duration": 10,
    "start_time": "2022-06-29T08:13:40.685Z"
   },
   {
    "duration": 44,
    "start_time": "2022-06-29T08:13:40.697Z"
   },
   {
    "duration": 36,
    "start_time": "2022-06-29T08:13:40.743Z"
   },
   {
    "duration": 22,
    "start_time": "2022-06-29T08:13:40.780Z"
   },
   {
    "duration": 50,
    "start_time": "2022-06-29T08:13:40.803Z"
   },
   {
    "duration": 92,
    "start_time": "2022-06-29T08:13:40.855Z"
   },
   {
    "duration": 35,
    "start_time": "2022-06-29T08:13:40.949Z"
   },
   {
    "duration": 21,
    "start_time": "2022-06-29T08:13:40.985Z"
   },
   {
    "duration": 94,
    "start_time": "2022-06-29T08:13:41.008Z"
   },
   {
    "duration": 221,
    "start_time": "2022-06-29T08:13:41.104Z"
   },
   {
    "duration": 262,
    "start_time": "2022-06-29T08:13:41.326Z"
   },
   {
    "duration": 77,
    "start_time": "2022-06-29T08:13:41.590Z"
   },
   {
    "duration": 145,
    "start_time": "2022-06-29T08:13:41.669Z"
   },
   {
    "duration": 17,
    "start_time": "2022-06-29T08:13:41.816Z"
   },
   {
    "duration": 9,
    "start_time": "2022-06-29T08:13:41.835Z"
   },
   {
    "duration": 23,
    "start_time": "2022-06-29T08:13:41.845Z"
   },
   {
    "duration": 1186,
    "start_time": "2022-06-29T08:13:41.870Z"
   },
   {
    "duration": 131,
    "start_time": "2022-06-29T08:13:43.058Z"
   },
   {
    "duration": 12,
    "start_time": "2022-06-29T08:13:43.191Z"
   },
   {
    "duration": 20,
    "start_time": "2022-06-29T08:13:43.205Z"
   },
   {
    "duration": 14,
    "start_time": "2022-06-29T08:13:43.227Z"
   },
   {
    "duration": 135,
    "start_time": "2022-06-29T08:13:43.243Z"
   },
   {
    "duration": 19,
    "start_time": "2022-06-29T08:13:43.382Z"
   },
   {
    "duration": 109,
    "start_time": "2022-06-29T08:13:43.403Z"
   },
   {
    "duration": 14,
    "start_time": "2022-06-29T08:13:43.522Z"
   },
   {
    "duration": 13,
    "start_time": "2022-06-29T08:13:43.537Z"
   },
   {
    "duration": 17,
    "start_time": "2022-06-29T08:13:43.552Z"
   },
   {
    "duration": 9,
    "start_time": "2022-06-29T08:13:43.572Z"
   },
   {
    "duration": 44,
    "start_time": "2022-06-29T08:13:43.583Z"
   },
   {
    "duration": 13,
    "start_time": "2022-06-29T08:13:43.629Z"
   },
   {
    "duration": 52,
    "start_time": "2022-06-29T08:13:43.643Z"
   },
   {
    "duration": 353,
    "start_time": "2022-06-29T08:13:43.696Z"
   },
   {
    "duration": 11,
    "start_time": "2022-06-29T08:13:44.050Z"
   },
   {
    "duration": 6,
    "start_time": "2022-06-29T08:13:44.062Z"
   },
   {
    "duration": 401,
    "start_time": "2022-06-29T08:13:44.069Z"
   },
   {
    "duration": 18,
    "start_time": "2022-06-29T08:13:44.472Z"
   },
   {
    "duration": 664,
    "start_time": "2022-06-29T08:13:44.492Z"
   },
   {
    "duration": 12,
    "start_time": "2022-06-29T08:13:45.158Z"
   },
   {
    "duration": 262,
    "start_time": "2022-06-29T08:13:45.171Z"
   },
   {
    "duration": 74,
    "start_time": "2022-06-29T08:13:45.435Z"
   },
   {
    "duration": 47,
    "start_time": "2022-06-29T08:13:45.511Z"
   },
   {
    "duration": 14,
    "start_time": "2022-06-29T08:13:45.560Z"
   },
   {
    "duration": 19,
    "start_time": "2022-06-29T08:13:45.575Z"
   },
   {
    "duration": 5,
    "start_time": "2022-06-29T08:13:45.596Z"
   },
   {
    "duration": 28027,
    "start_time": "2022-06-29T08:13:45.602Z"
   },
   {
    "duration": 300,
    "start_time": "2022-06-29T08:14:13.631Z"
   },
   {
    "duration": 293,
    "start_time": "2022-06-29T08:14:13.933Z"
   },
   {
    "duration": 0,
    "start_time": "2022-06-29T08:14:14.228Z"
   },
   {
    "duration": 0,
    "start_time": "2022-06-29T08:14:14.229Z"
   },
   {
    "duration": 0,
    "start_time": "2022-06-29T08:14:14.230Z"
   },
   {
    "duration": 16789,
    "start_time": "2022-06-29T08:14:39.149Z"
   },
   {
    "duration": 1392,
    "start_time": "2022-06-29T08:14:55.940Z"
   },
   {
    "duration": 16615,
    "start_time": "2022-06-29T08:14:57.334Z"
   },
   {
    "duration": 1775,
    "start_time": "2022-06-29T08:15:13.951Z"
   },
   {
    "duration": 1772,
    "start_time": "2022-06-29T08:16:52.350Z"
   },
   {
    "duration": 1608,
    "start_time": "2022-06-29T08:17:04.519Z"
   },
   {
    "duration": 2734,
    "start_time": "2022-06-29T08:17:14.591Z"
   },
   {
    "duration": 11255,
    "start_time": "2022-06-29T08:17:23.471Z"
   },
   {
    "duration": 26371,
    "start_time": "2022-06-29T08:17:44.895Z"
   },
   {
    "duration": 13814,
    "start_time": "2022-06-29T08:21:44.109Z"
   },
   {
    "duration": 199,
    "start_time": "2022-06-29T08:21:57.926Z"
   },
   {
    "duration": 43,
    "start_time": "2022-06-29T08:22:05.200Z"
   },
   {
    "duration": 12,
    "start_time": "2022-06-29T08:33:02.315Z"
   },
   {
    "duration": 33455,
    "start_time": "2022-06-29T08:33:22.176Z"
   },
   {
    "duration": 455432,
    "start_time": "2022-06-29T08:34:45.019Z"
   },
   {
    "duration": 3,
    "start_time": "2022-06-29T08:42:29.585Z"
   },
   {
    "duration": 1016296,
    "start_time": "2022-06-29T08:43:26.931Z"
   },
   {
    "duration": 5071,
    "start_time": "2022-06-29T09:05:16.113Z"
   },
   {
    "duration": 1274449,
    "start_time": "2022-06-29T09:05:25.283Z"
   },
   {
    "duration": 4840,
    "start_time": "2022-06-29T09:40:12.007Z"
   },
   {
    "duration": 51,
    "start_time": "2022-06-29T09:40:29.882Z"
   },
   {
    "duration": 4,
    "start_time": "2022-06-29T09:40:34.055Z"
   },
   {
    "duration": 4,
    "start_time": "2022-06-29T09:40:44.883Z"
   },
   {
    "duration": 20561,
    "start_time": "2022-06-29T09:41:31.785Z"
   },
   {
    "duration": 0,
    "start_time": "2022-06-29T09:41:52.347Z"
   },
   {
    "duration": 19855,
    "start_time": "2022-06-29T09:42:03.880Z"
   },
   {
    "duration": 27094,
    "start_time": "2022-06-29T09:42:23.737Z"
   },
   {
    "duration": 1532,
    "start_time": "2022-06-29T09:48:14.622Z"
   },
   {
    "duration": 835,
    "start_time": "2022-06-29T09:48:16.155Z"
   },
   {
    "duration": 155,
    "start_time": "2022-06-29T09:48:16.992Z"
   },
   {
    "duration": 107,
    "start_time": "2022-06-29T09:48:17.149Z"
   },
   {
    "duration": 136,
    "start_time": "2022-06-29T09:48:17.258Z"
   },
   {
    "duration": 29,
    "start_time": "2022-06-29T09:48:17.396Z"
   },
   {
    "duration": 6,
    "start_time": "2022-06-29T09:48:17.427Z"
   },
   {
    "duration": 6578,
    "start_time": "2022-06-29T09:48:17.435Z"
   },
   {
    "duration": 21,
    "start_time": "2022-06-29T09:48:24.015Z"
   },
   {
    "duration": 10,
    "start_time": "2022-06-29T09:48:24.038Z"
   },
   {
    "duration": 117,
    "start_time": "2022-06-29T09:48:24.050Z"
   },
   {
    "duration": 20,
    "start_time": "2022-06-29T09:48:24.168Z"
   },
   {
    "duration": 88,
    "start_time": "2022-06-29T09:48:24.189Z"
   },
   {
    "duration": 20,
    "start_time": "2022-06-29T09:48:24.280Z"
   },
   {
    "duration": 45,
    "start_time": "2022-06-29T09:48:24.302Z"
   },
   {
    "duration": 85,
    "start_time": "2022-06-29T09:48:24.348Z"
   },
   {
    "duration": 32,
    "start_time": "2022-06-29T09:48:24.435Z"
   },
   {
    "duration": 20,
    "start_time": "2022-06-29T09:48:24.468Z"
   },
   {
    "duration": 10,
    "start_time": "2022-06-29T09:48:24.490Z"
   },
   {
    "duration": 41,
    "start_time": "2022-06-29T09:48:24.501Z"
   },
   {
    "duration": 35,
    "start_time": "2022-06-29T09:48:24.543Z"
   },
   {
    "duration": 44,
    "start_time": "2022-06-29T09:48:24.579Z"
   },
   {
    "duration": 34,
    "start_time": "2022-06-29T09:48:24.625Z"
   },
   {
    "duration": 82,
    "start_time": "2022-06-29T09:48:24.661Z"
   },
   {
    "duration": 34,
    "start_time": "2022-06-29T09:48:24.745Z"
   },
   {
    "duration": 20,
    "start_time": "2022-06-29T09:48:24.780Z"
   },
   {
    "duration": 94,
    "start_time": "2022-06-29T09:48:24.801Z"
   },
   {
    "duration": 177,
    "start_time": "2022-06-29T09:48:24.896Z"
   },
   {
    "duration": 225,
    "start_time": "2022-06-29T09:48:25.075Z"
   },
   {
    "duration": 77,
    "start_time": "2022-06-29T09:48:25.302Z"
   },
   {
    "duration": 137,
    "start_time": "2022-06-29T09:48:25.380Z"
   },
   {
    "duration": 17,
    "start_time": "2022-06-29T09:48:25.519Z"
   },
   {
    "duration": 8,
    "start_time": "2022-06-29T09:48:25.538Z"
   },
   {
    "duration": 20,
    "start_time": "2022-06-29T09:48:25.547Z"
   },
   {
    "duration": 1103,
    "start_time": "2022-06-29T09:48:25.569Z"
   },
   {
    "duration": 119,
    "start_time": "2022-06-29T09:48:26.674Z"
   },
   {
    "duration": 10,
    "start_time": "2022-06-29T09:48:26.795Z"
   },
   {
    "duration": 21,
    "start_time": "2022-06-29T09:48:26.807Z"
   },
   {
    "duration": 13,
    "start_time": "2022-06-29T09:48:26.829Z"
   },
   {
    "duration": 126,
    "start_time": "2022-06-29T09:48:26.843Z"
   },
   {
    "duration": 19,
    "start_time": "2022-06-29T09:48:26.973Z"
   },
   {
    "duration": 112,
    "start_time": "2022-06-29T09:48:26.994Z"
   },
   {
    "duration": 21,
    "start_time": "2022-06-29T09:48:27.107Z"
   },
   {
    "duration": 11,
    "start_time": "2022-06-29T09:48:27.129Z"
   },
   {
    "duration": 15,
    "start_time": "2022-06-29T09:48:27.142Z"
   },
   {
    "duration": 7,
    "start_time": "2022-06-29T09:48:27.158Z"
   },
   {
    "duration": 16,
    "start_time": "2022-06-29T09:48:27.166Z"
   },
   {
    "duration": 47,
    "start_time": "2022-06-29T09:48:27.183Z"
   },
   {
    "duration": 55,
    "start_time": "2022-06-29T09:48:27.232Z"
   },
   {
    "duration": 350,
    "start_time": "2022-06-29T09:48:27.289Z"
   },
   {
    "duration": 10,
    "start_time": "2022-06-29T09:48:27.641Z"
   },
   {
    "duration": 8,
    "start_time": "2022-06-29T09:48:27.653Z"
   },
   {
    "duration": 374,
    "start_time": "2022-06-29T09:48:27.662Z"
   },
   {
    "duration": 17,
    "start_time": "2022-06-29T09:48:28.038Z"
   },
   {
    "duration": 618,
    "start_time": "2022-06-29T09:48:28.056Z"
   },
   {
    "duration": 13,
    "start_time": "2022-06-29T09:48:28.675Z"
   },
   {
    "duration": 271,
    "start_time": "2022-06-29T09:48:28.690Z"
   },
   {
    "duration": 76,
    "start_time": "2022-06-29T09:48:28.963Z"
   },
   {
    "duration": 40,
    "start_time": "2022-06-29T09:48:29.041Z"
   },
   {
    "duration": 15,
    "start_time": "2022-06-29T09:48:29.083Z"
   },
   {
    "duration": 14128,
    "start_time": "2022-06-29T09:48:29.100Z"
   },
   {
    "duration": 194,
    "start_time": "2022-06-29T09:48:43.230Z"
   },
   {
    "duration": 19327,
    "start_time": "2022-06-29T09:48:43.426Z"
   },
   {
    "duration": 33280,
    "start_time": "2022-06-29T09:49:02.755Z"
   },
   {
    "duration": 3,
    "start_time": "2022-06-29T09:49:36.037Z"
   },
   {
    "duration": 21,
    "start_time": "2022-06-29T09:49:36.042Z"
   },
   {
    "duration": 6,
    "start_time": "2022-06-29T09:49:36.065Z"
   },
   {
    "duration": 11840,
    "start_time": "2022-06-29T09:49:36.073Z"
   },
   {
    "duration": 10988,
    "start_time": "2022-06-29T09:49:47.915Z"
   },
   {
    "duration": 12471,
    "start_time": "2022-06-29T10:20:27.930Z"
   },
   {
    "duration": 11718,
    "start_time": "2022-06-29T10:20:44.712Z"
   },
   {
    "duration": 4,
    "start_time": "2022-06-29T10:24:04.773Z"
   },
   {
    "duration": 9,
    "start_time": "2022-06-29T10:24:10.706Z"
   },
   {
    "duration": 9,
    "start_time": "2022-06-29T10:24:37.710Z"
   },
   {
    "duration": 25287,
    "start_time": "2022-06-29T10:33:50.597Z"
   },
   {
    "duration": 423965,
    "start_time": "2022-06-29T10:34:17.751Z"
   },
   {
    "duration": 1476,
    "start_time": "2022-06-29T10:41:32.984Z"
   },
   {
    "duration": 817,
    "start_time": "2022-06-29T10:41:34.462Z"
   },
   {
    "duration": 143,
    "start_time": "2022-06-29T10:41:35.280Z"
   },
   {
    "duration": 114,
    "start_time": "2022-06-29T10:41:35.425Z"
   },
   {
    "duration": 133,
    "start_time": "2022-06-29T10:41:35.541Z"
   },
   {
    "duration": 19,
    "start_time": "2022-06-29T10:41:35.675Z"
   },
   {
    "duration": 9,
    "start_time": "2022-06-29T10:41:35.696Z"
   },
   {
    "duration": 6725,
    "start_time": "2022-06-29T10:41:35.706Z"
   },
   {
    "duration": 20,
    "start_time": "2022-06-29T10:41:42.433Z"
   },
   {
    "duration": 11,
    "start_time": "2022-06-29T10:41:42.457Z"
   },
   {
    "duration": 156,
    "start_time": "2022-06-29T10:41:42.469Z"
   },
   {
    "duration": 30,
    "start_time": "2022-06-29T10:41:42.628Z"
   },
   {
    "duration": 128,
    "start_time": "2022-06-29T10:41:42.663Z"
   },
   {
    "duration": 41,
    "start_time": "2022-06-29T10:41:42.793Z"
   },
   {
    "duration": 47,
    "start_time": "2022-06-29T10:41:42.836Z"
   },
   {
    "duration": 79,
    "start_time": "2022-06-29T10:41:42.885Z"
   },
   {
    "duration": 35,
    "start_time": "2022-06-29T10:41:42.966Z"
   },
   {
    "duration": 34,
    "start_time": "2022-06-29T10:41:43.003Z"
   },
   {
    "duration": 10,
    "start_time": "2022-06-29T10:41:43.039Z"
   },
   {
    "duration": 27,
    "start_time": "2022-06-29T10:41:43.051Z"
   },
   {
    "duration": 47,
    "start_time": "2022-06-29T10:41:43.080Z"
   },
   {
    "duration": 22,
    "start_time": "2022-06-29T10:41:43.129Z"
   },
   {
    "duration": 35,
    "start_time": "2022-06-29T10:41:43.153Z"
   },
   {
    "duration": 104,
    "start_time": "2022-06-29T10:41:43.190Z"
   },
   {
    "duration": 43,
    "start_time": "2022-06-29T10:41:43.296Z"
   },
   {
    "duration": 19,
    "start_time": "2022-06-29T10:41:43.341Z"
   },
   {
    "duration": 95,
    "start_time": "2022-06-29T10:41:43.362Z"
   },
   {
    "duration": 182,
    "start_time": "2022-06-29T10:41:43.461Z"
   },
   {
    "duration": 242,
    "start_time": "2022-06-29T10:41:43.644Z"
   },
   {
    "duration": 99,
    "start_time": "2022-06-29T10:41:43.887Z"
   },
   {
    "duration": 158,
    "start_time": "2022-06-29T10:41:43.988Z"
   },
   {
    "duration": 17,
    "start_time": "2022-06-29T10:41:44.150Z"
   },
   {
    "duration": 20,
    "start_time": "2022-06-29T10:41:44.168Z"
   },
   {
    "duration": 29,
    "start_time": "2022-06-29T10:41:44.189Z"
   },
   {
    "duration": 1158,
    "start_time": "2022-06-29T10:41:44.224Z"
   },
   {
    "duration": 129,
    "start_time": "2022-06-29T10:41:45.383Z"
   },
   {
    "duration": 18,
    "start_time": "2022-06-29T10:41:45.514Z"
   },
   {
    "duration": 9,
    "start_time": "2022-06-29T10:41:45.533Z"
   },
   {
    "duration": 16,
    "start_time": "2022-06-29T10:41:45.544Z"
   },
   {
    "duration": 149,
    "start_time": "2022-06-29T10:41:45.563Z"
   },
   {
    "duration": 20,
    "start_time": "2022-06-29T10:41:45.722Z"
   },
   {
    "duration": 121,
    "start_time": "2022-06-29T10:41:45.744Z"
   },
   {
    "duration": 14,
    "start_time": "2022-06-29T10:41:45.867Z"
   },
   {
    "duration": 15,
    "start_time": "2022-06-29T10:41:45.883Z"
   },
   {
    "duration": 33,
    "start_time": "2022-06-29T10:41:45.899Z"
   },
   {
    "duration": 8,
    "start_time": "2022-06-29T10:41:45.934Z"
   },
   {
    "duration": 21,
    "start_time": "2022-06-29T10:41:45.944Z"
   },
   {
    "duration": 18,
    "start_time": "2022-06-29T10:41:45.967Z"
   },
   {
    "duration": 79,
    "start_time": "2022-06-29T10:41:45.987Z"
   },
   {
    "duration": 415,
    "start_time": "2022-06-29T10:41:46.068Z"
   },
   {
    "duration": 11,
    "start_time": "2022-06-29T10:41:46.485Z"
   },
   {
    "duration": 9,
    "start_time": "2022-06-29T10:41:46.498Z"
   },
   {
    "duration": 448,
    "start_time": "2022-06-29T10:41:46.508Z"
   },
   {
    "duration": 17,
    "start_time": "2022-06-29T10:41:46.959Z"
   },
   {
    "duration": 692,
    "start_time": "2022-06-29T10:41:46.979Z"
   },
   {
    "duration": 13,
    "start_time": "2022-06-29T10:41:47.673Z"
   },
   {
    "duration": 283,
    "start_time": "2022-06-29T10:41:47.688Z"
   },
   {
    "duration": 78,
    "start_time": "2022-06-29T10:41:47.973Z"
   },
   {
    "duration": 40,
    "start_time": "2022-06-29T10:41:48.053Z"
   },
   {
    "duration": 31,
    "start_time": "2022-06-29T10:41:48.095Z"
   },
   {
    "duration": 27698,
    "start_time": "2022-06-29T10:41:48.128Z"
   },
   {
    "duration": 51,
    "start_time": "2022-06-29T10:42:15.922Z"
   },
   {
    "duration": 376126,
    "start_time": "2022-06-29T10:42:16.024Z"
   },
   {
    "duration": 30175,
    "start_time": "2022-06-29T10:48:32.152Z"
   },
   {
    "duration": 3,
    "start_time": "2022-06-29T10:49:02.329Z"
   },
   {
    "duration": 20,
    "start_time": "2022-06-29T10:49:02.333Z"
   },
   {
    "duration": 31,
    "start_time": "2022-06-29T10:49:02.354Z"
   },
   {
    "duration": 11753,
    "start_time": "2022-06-29T10:49:02.388Z"
   },
   {
    "duration": 10880,
    "start_time": "2022-06-29T10:49:14.142Z"
   },
   {
    "duration": 5,
    "start_time": "2022-06-29T10:49:25.024Z"
   },
   {
    "duration": 20,
    "start_time": "2022-06-29T10:49:25.030Z"
   },
   {
    "duration": 14887,
    "start_time": "2022-06-29T10:49:25.051Z"
   },
   {
    "duration": 134,
    "start_time": "2022-06-29T11:12:05.728Z"
   },
   {
    "duration": 23,
    "start_time": "2022-06-29T11:12:22.620Z"
   },
   {
    "duration": 181,
    "start_time": "2022-06-29T11:12:28.989Z"
   },
   {
    "duration": 311,
    "start_time": "2022-06-29T11:13:03.631Z"
   },
   {
    "duration": 14406,
    "start_time": "2022-06-29T11:28:19.623Z"
   },
   {
    "duration": 1544,
    "start_time": "2022-06-29T11:32:14.985Z"
   },
   {
    "duration": 849,
    "start_time": "2022-06-29T11:32:16.532Z"
   },
   {
    "duration": 142,
    "start_time": "2022-06-29T11:32:17.382Z"
   },
   {
    "duration": 145,
    "start_time": "2022-06-29T11:32:17.527Z"
   },
   {
    "duration": 135,
    "start_time": "2022-06-29T11:32:17.674Z"
   },
   {
    "duration": 23,
    "start_time": "2022-06-29T11:32:17.811Z"
   },
   {
    "duration": 5,
    "start_time": "2022-06-29T11:32:17.836Z"
   },
   {
    "duration": 6659,
    "start_time": "2022-06-29T11:32:17.843Z"
   },
   {
    "duration": 32,
    "start_time": "2022-06-29T11:32:24.504Z"
   },
   {
    "duration": 19,
    "start_time": "2022-06-29T11:32:24.539Z"
   },
   {
    "duration": 118,
    "start_time": "2022-06-29T11:32:24.561Z"
   },
   {
    "duration": 19,
    "start_time": "2022-06-29T11:32:24.681Z"
   },
   {
    "duration": 97,
    "start_time": "2022-06-29T11:32:24.702Z"
   },
   {
    "duration": 26,
    "start_time": "2022-06-29T11:32:24.801Z"
   },
   {
    "duration": 37,
    "start_time": "2022-06-29T11:32:24.828Z"
   },
   {
    "duration": 94,
    "start_time": "2022-06-29T11:32:24.866Z"
   },
   {
    "duration": 33,
    "start_time": "2022-06-29T11:32:24.962Z"
   },
   {
    "duration": 42,
    "start_time": "2022-06-29T11:32:24.997Z"
   },
   {
    "duration": 11,
    "start_time": "2022-06-29T11:32:25.041Z"
   },
   {
    "duration": 47,
    "start_time": "2022-06-29T11:32:25.054Z"
   },
   {
    "duration": 41,
    "start_time": "2022-06-29T11:32:25.103Z"
   },
   {
    "duration": 36,
    "start_time": "2022-06-29T11:32:25.146Z"
   },
   {
    "duration": 34,
    "start_time": "2022-06-29T11:32:25.184Z"
   },
   {
    "duration": 86,
    "start_time": "2022-06-29T11:32:25.223Z"
   },
   {
    "duration": 40,
    "start_time": "2022-06-29T11:32:25.310Z"
   },
   {
    "duration": 24,
    "start_time": "2022-06-29T11:32:25.351Z"
   },
   {
    "duration": 99,
    "start_time": "2022-06-29T11:32:25.377Z"
   },
   {
    "duration": 190,
    "start_time": "2022-06-29T11:32:25.481Z"
   },
   {
    "duration": 245,
    "start_time": "2022-06-29T11:32:25.673Z"
   },
   {
    "duration": 83,
    "start_time": "2022-06-29T11:32:25.920Z"
   },
   {
    "duration": 165,
    "start_time": "2022-06-29T11:32:26.005Z"
   },
   {
    "duration": 17,
    "start_time": "2022-06-29T11:32:26.172Z"
   },
   {
    "duration": 18,
    "start_time": "2022-06-29T11:32:26.190Z"
   },
   {
    "duration": 38,
    "start_time": "2022-06-29T11:32:26.209Z"
   },
   {
    "duration": 1062,
    "start_time": "2022-06-29T11:32:26.249Z"
   },
   {
    "duration": 135,
    "start_time": "2022-06-29T11:32:27.313Z"
   },
   {
    "duration": 12,
    "start_time": "2022-06-29T11:32:27.450Z"
   },
   {
    "duration": 9,
    "start_time": "2022-06-29T11:32:27.464Z"
   },
   {
    "duration": 15,
    "start_time": "2022-06-29T11:32:27.474Z"
   },
   {
    "duration": 154,
    "start_time": "2022-06-29T11:32:27.491Z"
   },
   {
    "duration": 21,
    "start_time": "2022-06-29T11:32:27.647Z"
   },
   {
    "duration": 113,
    "start_time": "2022-06-29T11:32:27.670Z"
   },
   {
    "duration": 13,
    "start_time": "2022-06-29T11:32:27.785Z"
   },
   {
    "duration": 32,
    "start_time": "2022-06-29T11:32:27.800Z"
   },
   {
    "duration": 16,
    "start_time": "2022-06-29T11:32:27.834Z"
   },
   {
    "duration": 7,
    "start_time": "2022-06-29T11:32:27.852Z"
   },
   {
    "duration": 16,
    "start_time": "2022-06-29T11:32:27.860Z"
   },
   {
    "duration": 14,
    "start_time": "2022-06-29T11:32:27.878Z"
   },
   {
    "duration": 87,
    "start_time": "2022-06-29T11:32:27.923Z"
   },
   {
    "duration": 342,
    "start_time": "2022-06-29T11:32:28.022Z"
   },
   {
    "duration": 11,
    "start_time": "2022-06-29T11:32:28.366Z"
   },
   {
    "duration": 5,
    "start_time": "2022-06-29T11:32:28.379Z"
   },
   {
    "duration": 406,
    "start_time": "2022-06-29T11:32:28.386Z"
   },
   {
    "duration": 16,
    "start_time": "2022-06-29T11:32:28.794Z"
   },
   {
    "duration": 668,
    "start_time": "2022-06-29T11:32:28.824Z"
   },
   {
    "duration": 13,
    "start_time": "2022-06-29T11:32:29.494Z"
   },
   {
    "duration": 268,
    "start_time": "2022-06-29T11:32:29.508Z"
   },
   {
    "duration": 76,
    "start_time": "2022-06-29T11:32:29.778Z"
   },
   {
    "duration": 39,
    "start_time": "2022-06-29T11:32:29.855Z"
   },
   {
    "duration": 15,
    "start_time": "2022-06-29T11:32:29.895Z"
   },
   {
    "duration": 14703,
    "start_time": "2022-06-29T11:32:29.924Z"
   },
   {
    "duration": 193,
    "start_time": "2022-06-29T11:32:44.632Z"
   },
   {
    "duration": 19212,
    "start_time": "2022-06-29T11:32:44.828Z"
   },
   {
    "duration": 16486,
    "start_time": "2022-06-29T11:33:04.042Z"
   },
   {
    "duration": 4,
    "start_time": "2022-06-29T11:33:20.530Z"
   },
   {
    "duration": 9,
    "start_time": "2022-06-29T11:33:20.535Z"
   },
   {
    "duration": 7,
    "start_time": "2022-06-29T11:33:20.546Z"
   },
   {
    "duration": 12124,
    "start_time": "2022-06-29T11:33:20.555Z"
   },
   {
    "duration": 11407,
    "start_time": "2022-06-29T11:33:32.681Z"
   },
   {
    "duration": 11,
    "start_time": "2022-06-29T11:33:44.089Z"
   },
   {
    "duration": 0,
    "start_time": "2022-06-29T11:33:44.101Z"
   },
   {
    "duration": 0,
    "start_time": "2022-06-29T11:33:44.103Z"
   },
   {
    "duration": 11195,
    "start_time": "2022-06-29T11:35:28.578Z"
   },
   {
    "duration": 10,
    "start_time": "2022-06-29T11:35:39.774Z"
   },
   {
    "duration": 0,
    "start_time": "2022-06-29T11:35:39.785Z"
   },
   {
    "duration": 0,
    "start_time": "2022-06-29T11:35:39.787Z"
   },
   {
    "duration": 5,
    "start_time": "2022-06-29T11:36:18.027Z"
   },
   {
    "duration": 22,
    "start_time": "2022-06-29T11:36:18.034Z"
   },
   {
    "duration": 15181,
    "start_time": "2022-06-29T11:36:18.058Z"
   },
   {
    "duration": 1525,
    "start_time": "2022-06-29T11:53:09.816Z"
   },
   {
    "duration": 817,
    "start_time": "2022-06-29T11:53:11.343Z"
   },
   {
    "duration": 131,
    "start_time": "2022-06-29T11:53:12.162Z"
   },
   {
    "duration": 166,
    "start_time": "2022-06-29T11:53:12.295Z"
   },
   {
    "duration": 161,
    "start_time": "2022-06-29T11:53:12.463Z"
   },
   {
    "duration": 19,
    "start_time": "2022-06-29T11:53:12.626Z"
   },
   {
    "duration": 14,
    "start_time": "2022-06-29T11:53:12.647Z"
   },
   {
    "duration": 6506,
    "start_time": "2022-06-29T11:53:12.663Z"
   },
   {
    "duration": 28,
    "start_time": "2022-06-29T11:53:19.170Z"
   },
   {
    "duration": 23,
    "start_time": "2022-06-29T11:53:19.200Z"
   },
   {
    "duration": 129,
    "start_time": "2022-06-29T11:53:19.225Z"
   },
   {
    "duration": 22,
    "start_time": "2022-06-29T11:53:19.356Z"
   },
   {
    "duration": 86,
    "start_time": "2022-06-29T11:53:19.380Z"
   },
   {
    "duration": 21,
    "start_time": "2022-06-29T11:53:19.468Z"
   },
   {
    "duration": 42,
    "start_time": "2022-06-29T11:53:19.490Z"
   },
   {
    "duration": 91,
    "start_time": "2022-06-29T11:53:19.533Z"
   },
   {
    "duration": 31,
    "start_time": "2022-06-29T11:53:19.625Z"
   },
   {
    "duration": 23,
    "start_time": "2022-06-29T11:53:19.657Z"
   },
   {
    "duration": 10,
    "start_time": "2022-06-29T11:53:19.681Z"
   },
   {
    "duration": 47,
    "start_time": "2022-06-29T11:53:19.692Z"
   },
   {
    "duration": 32,
    "start_time": "2022-06-29T11:53:19.741Z"
   },
   {
    "duration": 24,
    "start_time": "2022-06-29T11:53:19.774Z"
   },
   {
    "duration": 47,
    "start_time": "2022-06-29T11:53:19.799Z"
   },
   {
    "duration": 98,
    "start_time": "2022-06-29T11:53:19.848Z"
   },
   {
    "duration": 44,
    "start_time": "2022-06-29T11:53:19.948Z"
   },
   {
    "duration": 41,
    "start_time": "2022-06-29T11:53:19.993Z"
   },
   {
    "duration": 96,
    "start_time": "2022-06-29T11:53:20.036Z"
   },
   {
    "duration": 188,
    "start_time": "2022-06-29T11:53:20.138Z"
   },
   {
    "duration": 229,
    "start_time": "2022-06-29T11:53:20.328Z"
   },
   {
    "duration": 77,
    "start_time": "2022-06-29T11:53:20.558Z"
   },
   {
    "duration": 150,
    "start_time": "2022-06-29T11:53:20.636Z"
   },
   {
    "duration": 16,
    "start_time": "2022-06-29T11:53:20.788Z"
   },
   {
    "duration": 24,
    "start_time": "2022-06-29T11:53:20.806Z"
   },
   {
    "duration": 26,
    "start_time": "2022-06-29T11:53:20.832Z"
   },
   {
    "duration": 1145,
    "start_time": "2022-06-29T11:53:20.859Z"
   },
   {
    "duration": 133,
    "start_time": "2022-06-29T11:53:22.006Z"
   },
   {
    "duration": 14,
    "start_time": "2022-06-29T11:53:22.141Z"
   },
   {
    "duration": 9,
    "start_time": "2022-06-29T11:53:22.157Z"
   },
   {
    "duration": 13,
    "start_time": "2022-06-29T11:53:22.167Z"
   },
   {
    "duration": 142,
    "start_time": "2022-06-29T11:53:22.181Z"
   },
   {
    "duration": 19,
    "start_time": "2022-06-29T11:53:22.325Z"
   },
   {
    "duration": 112,
    "start_time": "2022-06-29T11:53:22.345Z"
   },
   {
    "duration": 13,
    "start_time": "2022-06-29T11:53:22.459Z"
   },
   {
    "duration": 13,
    "start_time": "2022-06-29T11:53:22.473Z"
   },
   {
    "duration": 15,
    "start_time": "2022-06-29T11:53:22.487Z"
   },
   {
    "duration": 8,
    "start_time": "2022-06-29T11:53:22.522Z"
   },
   {
    "duration": 16,
    "start_time": "2022-06-29T11:53:22.531Z"
   },
   {
    "duration": 14,
    "start_time": "2022-06-29T11:53:22.549Z"
   },
   {
    "duration": 88,
    "start_time": "2022-06-29T11:53:22.565Z"
   },
   {
    "duration": 409,
    "start_time": "2022-06-29T11:53:22.656Z"
   },
   {
    "duration": 10,
    "start_time": "2022-06-29T11:53:23.067Z"
   },
   {
    "duration": 5,
    "start_time": "2022-06-29T11:53:23.079Z"
   },
   {
    "duration": 393,
    "start_time": "2022-06-29T11:53:23.086Z"
   },
   {
    "duration": 14,
    "start_time": "2022-06-29T11:53:23.481Z"
   },
   {
    "duration": 625,
    "start_time": "2022-06-29T11:53:23.497Z"
   },
   {
    "duration": 13,
    "start_time": "2022-06-29T11:53:24.123Z"
   },
   {
    "duration": 270,
    "start_time": "2022-06-29T11:53:24.138Z"
   },
   {
    "duration": 77,
    "start_time": "2022-06-29T11:53:24.409Z"
   },
   {
    "duration": 49,
    "start_time": "2022-06-29T11:53:24.488Z"
   },
   {
    "duration": 15,
    "start_time": "2022-06-29T11:53:24.539Z"
   },
   {
    "duration": 14571,
    "start_time": "2022-06-29T11:53:24.555Z"
   },
   {
    "duration": 201,
    "start_time": "2022-06-29T11:53:39.128Z"
   },
   {
    "duration": 21110,
    "start_time": "2022-06-29T11:53:39.331Z"
   },
   {
    "duration": 25092,
    "start_time": "2022-06-29T11:54:00.443Z"
   },
   {
    "duration": 3,
    "start_time": "2022-06-29T11:54:25.537Z"
   },
   {
    "duration": 11,
    "start_time": "2022-06-29T11:54:25.542Z"
   },
   {
    "duration": 9,
    "start_time": "2022-06-29T11:54:25.554Z"
   },
   {
    "duration": 12230,
    "start_time": "2022-06-29T11:54:25.565Z"
   },
   {
    "duration": 11241,
    "start_time": "2022-06-29T11:54:37.797Z"
   },
   {
    "duration": 4,
    "start_time": "2022-06-29T11:54:49.040Z"
   },
   {
    "duration": 15,
    "start_time": "2022-06-29T11:54:49.046Z"
   },
   {
    "duration": 15672,
    "start_time": "2022-06-29T11:54:49.062Z"
   },
   {
    "duration": 1656,
    "start_time": "2022-06-30T09:25:56.139Z"
   },
   {
    "duration": 1075,
    "start_time": "2022-06-30T09:25:57.797Z"
   },
   {
    "duration": 113,
    "start_time": "2022-06-30T09:25:58.874Z"
   },
   {
    "duration": 139,
    "start_time": "2022-06-30T09:25:58.989Z"
   },
   {
    "duration": 123,
    "start_time": "2022-06-30T09:25:59.131Z"
   },
   {
    "duration": 14,
    "start_time": "2022-06-30T09:25:59.256Z"
   },
   {
    "duration": 5,
    "start_time": "2022-06-30T09:25:59.272Z"
   },
   {
    "duration": 6592,
    "start_time": "2022-06-30T09:25:59.278Z"
   },
   {
    "duration": 26,
    "start_time": "2022-06-30T09:26:05.872Z"
   },
   {
    "duration": 16,
    "start_time": "2022-06-30T09:26:05.900Z"
   },
   {
    "duration": 109,
    "start_time": "2022-06-30T09:26:05.918Z"
   },
   {
    "duration": 17,
    "start_time": "2022-06-30T09:26:06.029Z"
   },
   {
    "duration": 71,
    "start_time": "2022-06-30T09:26:06.052Z"
   },
   {
    "duration": 33,
    "start_time": "2022-06-30T09:26:06.127Z"
   },
   {
    "duration": 36,
    "start_time": "2022-06-30T09:26:06.161Z"
   },
   {
    "duration": 91,
    "start_time": "2022-06-30T09:26:06.199Z"
   },
   {
    "duration": 29,
    "start_time": "2022-06-30T09:26:06.291Z"
   },
   {
    "duration": 34,
    "start_time": "2022-06-30T09:26:06.321Z"
   },
   {
    "duration": 9,
    "start_time": "2022-06-30T09:26:06.357Z"
   },
   {
    "duration": 23,
    "start_time": "2022-06-30T09:26:06.368Z"
   },
   {
    "duration": 27,
    "start_time": "2022-06-30T09:26:06.392Z"
   },
   {
    "duration": 42,
    "start_time": "2022-06-30T09:26:06.420Z"
   },
   {
    "duration": 30,
    "start_time": "2022-06-30T09:26:06.464Z"
   },
   {
    "duration": 87,
    "start_time": "2022-06-30T09:26:06.496Z"
   },
   {
    "duration": 29,
    "start_time": "2022-06-30T09:26:06.585Z"
   },
   {
    "duration": 40,
    "start_time": "2022-06-30T09:26:06.616Z"
   },
   {
    "duration": 64,
    "start_time": "2022-06-30T09:26:06.657Z"
   },
   {
    "duration": 176,
    "start_time": "2022-06-30T09:26:06.722Z"
   },
   {
    "duration": 215,
    "start_time": "2022-06-30T09:26:06.899Z"
   },
   {
    "duration": 61,
    "start_time": "2022-06-30T09:26:07.115Z"
   },
   {
    "duration": 145,
    "start_time": "2022-06-30T09:26:07.178Z"
   },
   {
    "duration": 28,
    "start_time": "2022-06-30T09:26:07.325Z"
   },
   {
    "duration": 9,
    "start_time": "2022-06-30T09:26:07.354Z"
   },
   {
    "duration": 23,
    "start_time": "2022-06-30T09:26:07.365Z"
   },
   {
    "duration": 1030,
    "start_time": "2022-06-30T09:26:07.389Z"
   },
   {
    "duration": 140,
    "start_time": "2022-06-30T09:26:08.421Z"
   },
   {
    "duration": 10,
    "start_time": "2022-06-30T09:26:08.562Z"
   },
   {
    "duration": 8,
    "start_time": "2022-06-30T09:26:08.573Z"
   },
   {
    "duration": 18,
    "start_time": "2022-06-30T09:26:08.583Z"
   },
   {
    "duration": 134,
    "start_time": "2022-06-30T09:26:08.602Z"
   },
   {
    "duration": 23,
    "start_time": "2022-06-30T09:26:08.740Z"
   },
   {
    "duration": 118,
    "start_time": "2022-06-30T09:26:08.765Z"
   },
   {
    "duration": 12,
    "start_time": "2022-06-30T09:26:08.885Z"
   },
   {
    "duration": 12,
    "start_time": "2022-06-30T09:26:08.899Z"
   },
   {
    "duration": 14,
    "start_time": "2022-06-30T09:26:08.912Z"
   },
   {
    "duration": 30,
    "start_time": "2022-06-30T09:26:08.928Z"
   },
   {
    "duration": 19,
    "start_time": "2022-06-30T09:26:08.959Z"
   },
   {
    "duration": 14,
    "start_time": "2022-06-30T09:26:08.980Z"
   },
   {
    "duration": 65,
    "start_time": "2022-06-30T09:26:08.996Z"
   },
   {
    "duration": 322,
    "start_time": "2022-06-30T09:26:09.063Z"
   },
   {
    "duration": 12,
    "start_time": "2022-06-30T09:26:09.387Z"
   },
   {
    "duration": 5,
    "start_time": "2022-06-30T09:26:09.401Z"
   },
   {
    "duration": 390,
    "start_time": "2022-06-30T09:26:09.408Z"
   },
   {
    "duration": 14,
    "start_time": "2022-06-30T09:26:09.800Z"
   },
   {
    "duration": 571,
    "start_time": "2022-06-30T09:26:09.817Z"
   },
   {
    "duration": 13,
    "start_time": "2022-06-30T09:26:10.390Z"
   },
   {
    "duration": 253,
    "start_time": "2022-06-30T09:26:10.404Z"
   },
   {
    "duration": 66,
    "start_time": "2022-06-30T09:26:10.659Z"
   },
   {
    "duration": 44,
    "start_time": "2022-06-30T09:26:10.727Z"
   },
   {
    "duration": 13,
    "start_time": "2022-06-30T09:26:10.772Z"
   },
   {
    "duration": 19292,
    "start_time": "2022-06-30T09:26:10.786Z"
   },
   {
    "duration": 205,
    "start_time": "2022-06-30T09:26:30.081Z"
   },
   {
    "duration": 191309,
    "start_time": "2022-06-30T09:26:30.353Z"
   },
   {
    "duration": 17294,
    "start_time": "2022-06-30T09:29:41.664Z"
   },
   {
    "duration": 4,
    "start_time": "2022-06-30T09:29:58.959Z"
   },
   {
    "duration": 25,
    "start_time": "2022-06-30T09:29:58.965Z"
   },
   {
    "duration": 29,
    "start_time": "2022-06-30T09:29:58.992Z"
   },
   {
    "duration": 12153,
    "start_time": "2022-06-30T09:29:59.023Z"
   },
   {
    "duration": 11270,
    "start_time": "2022-06-30T09:30:11.178Z"
   },
   {
    "duration": 5,
    "start_time": "2022-06-30T09:30:22.451Z"
   },
   {
    "duration": 23,
    "start_time": "2022-06-30T09:30:22.457Z"
   },
   {
    "duration": 15275,
    "start_time": "2022-06-30T09:30:22.482Z"
   },
   {
    "duration": 12878,
    "start_time": "2022-06-30T09:32:31.576Z"
   },
   {
    "duration": 14220,
    "start_time": "2022-06-30T09:32:59.756Z"
   },
   {
    "duration": 108,
    "start_time": "2022-06-30T09:34:17.353Z"
   },
   {
    "duration": 1472,
    "start_time": "2022-06-30T09:42:01.120Z"
   },
   {
    "duration": 958,
    "start_time": "2022-06-30T09:42:02.595Z"
   },
   {
    "duration": 136,
    "start_time": "2022-06-30T09:42:03.555Z"
   },
   {
    "duration": 144,
    "start_time": "2022-06-30T09:42:03.692Z"
   },
   {
    "duration": 102,
    "start_time": "2022-06-30T09:42:03.838Z"
   },
   {
    "duration": 23,
    "start_time": "2022-06-30T09:42:03.941Z"
   },
   {
    "duration": 33,
    "start_time": "2022-06-30T09:42:03.965Z"
   },
   {
    "duration": 6269,
    "start_time": "2022-06-30T09:42:04.000Z"
   },
   {
    "duration": 24,
    "start_time": "2022-06-30T09:42:10.271Z"
   },
   {
    "duration": 40,
    "start_time": "2022-06-30T09:42:10.296Z"
   },
   {
    "duration": 104,
    "start_time": "2022-06-30T09:42:10.337Z"
   },
   {
    "duration": 21,
    "start_time": "2022-06-30T09:42:10.443Z"
   },
   {
    "duration": 74,
    "start_time": "2022-06-30T09:42:10.466Z"
   },
   {
    "duration": 18,
    "start_time": "2022-06-30T09:42:10.543Z"
   },
   {
    "duration": 44,
    "start_time": "2022-06-30T09:42:10.562Z"
   },
   {
    "duration": 91,
    "start_time": "2022-06-30T09:42:10.608Z"
   },
   {
    "duration": 29,
    "start_time": "2022-06-30T09:42:10.701Z"
   },
   {
    "duration": 33,
    "start_time": "2022-06-30T09:42:10.732Z"
   },
   {
    "duration": 16,
    "start_time": "2022-06-30T09:42:10.767Z"
   },
   {
    "duration": 39,
    "start_time": "2022-06-30T09:42:10.785Z"
   },
   {
    "duration": 28,
    "start_time": "2022-06-30T09:42:10.825Z"
   },
   {
    "duration": 36,
    "start_time": "2022-06-30T09:42:10.854Z"
   },
   {
    "duration": 41,
    "start_time": "2022-06-30T09:42:10.892Z"
   },
   {
    "duration": 83,
    "start_time": "2022-06-30T09:42:10.934Z"
   },
   {
    "duration": 40,
    "start_time": "2022-06-30T09:42:11.019Z"
   },
   {
    "duration": 20,
    "start_time": "2022-06-30T09:42:11.060Z"
   },
   {
    "duration": 74,
    "start_time": "2022-06-30T09:42:11.082Z"
   },
   {
    "duration": 167,
    "start_time": "2022-06-30T09:42:11.157Z"
   },
   {
    "duration": 204,
    "start_time": "2022-06-30T09:42:11.325Z"
   },
   {
    "duration": 63,
    "start_time": "2022-06-30T09:42:11.531Z"
   },
   {
    "duration": 143,
    "start_time": "2022-06-30T09:42:11.595Z"
   },
   {
    "duration": 19,
    "start_time": "2022-06-30T09:42:11.740Z"
   },
   {
    "duration": 9,
    "start_time": "2022-06-30T09:42:11.761Z"
   },
   {
    "duration": 48,
    "start_time": "2022-06-30T09:42:11.772Z"
   },
   {
    "duration": 1222,
    "start_time": "2022-06-30T09:42:11.822Z"
   },
   {
    "duration": 119,
    "start_time": "2022-06-30T09:42:13.046Z"
   },
   {
    "duration": 10,
    "start_time": "2022-06-30T09:42:13.167Z"
   },
   {
    "duration": 9,
    "start_time": "2022-06-30T09:42:13.179Z"
   },
   {
    "duration": 13,
    "start_time": "2022-06-30T09:42:13.189Z"
   },
   {
    "duration": 149,
    "start_time": "2022-06-30T09:42:13.204Z"
   },
   {
    "duration": 19,
    "start_time": "2022-06-30T09:42:13.357Z"
   },
   {
    "duration": 107,
    "start_time": "2022-06-30T09:42:13.378Z"
   },
   {
    "duration": 11,
    "start_time": "2022-06-30T09:42:13.487Z"
   },
   {
    "duration": 12,
    "start_time": "2022-06-30T09:42:13.500Z"
   },
   {
    "duration": 14,
    "start_time": "2022-06-30T09:42:13.513Z"
   },
   {
    "duration": 29,
    "start_time": "2022-06-30T09:42:13.528Z"
   },
   {
    "duration": 18,
    "start_time": "2022-06-30T09:42:13.558Z"
   },
   {
    "duration": 14,
    "start_time": "2022-06-30T09:42:13.577Z"
   },
   {
    "duration": 60,
    "start_time": "2022-06-30T09:42:13.593Z"
   },
   {
    "duration": 325,
    "start_time": "2022-06-30T09:42:13.655Z"
   },
   {
    "duration": 10,
    "start_time": "2022-06-30T09:42:13.982Z"
   },
   {
    "duration": 6,
    "start_time": "2022-06-30T09:42:13.994Z"
   },
   {
    "duration": 374,
    "start_time": "2022-06-30T09:42:14.001Z"
   },
   {
    "duration": 14,
    "start_time": "2022-06-30T09:42:14.376Z"
   },
   {
    "duration": 569,
    "start_time": "2022-06-30T09:42:14.392Z"
   },
   {
    "duration": 15,
    "start_time": "2022-06-30T09:42:14.963Z"
   },
   {
    "duration": 285,
    "start_time": "2022-06-30T09:42:14.980Z"
   },
   {
    "duration": 68,
    "start_time": "2022-06-30T09:42:15.267Z"
   },
   {
    "duration": 41,
    "start_time": "2022-06-30T09:42:15.337Z"
   },
   {
    "duration": 13,
    "start_time": "2022-06-30T09:42:15.380Z"
   },
   {
    "duration": 12957,
    "start_time": "2022-06-30T09:42:15.395Z"
   },
   {
    "duration": 197,
    "start_time": "2022-06-30T09:42:28.355Z"
   },
   {
    "duration": 22818,
    "start_time": "2022-06-30T09:42:28.554Z"
   },
   {
    "duration": 16596,
    "start_time": "2022-06-30T09:42:51.373Z"
   },
   {
    "duration": 3,
    "start_time": "2022-06-30T09:43:07.971Z"
   },
   {
    "duration": 16,
    "start_time": "2022-06-30T09:43:07.975Z"
   },
   {
    "duration": 12,
    "start_time": "2022-06-30T09:43:07.992Z"
   },
   {
    "duration": 11247,
    "start_time": "2022-06-30T09:43:08.006Z"
   },
   {
    "duration": 10574,
    "start_time": "2022-06-30T09:43:19.255Z"
   },
   {
    "duration": 104,
    "start_time": "2022-06-30T09:43:29.831Z"
   },
   {
    "duration": 0,
    "start_time": "2022-06-30T09:43:29.936Z"
   },
   {
    "duration": 0,
    "start_time": "2022-06-30T09:43:29.938Z"
   },
   {
    "duration": 1447,
    "start_time": "2022-06-30T09:45:04.034Z"
   },
   {
    "duration": 743,
    "start_time": "2022-06-30T09:45:05.483Z"
   },
   {
    "duration": 103,
    "start_time": "2022-06-30T09:45:06.227Z"
   },
   {
    "duration": 125,
    "start_time": "2022-06-30T09:45:06.332Z"
   },
   {
    "duration": 104,
    "start_time": "2022-06-30T09:45:06.458Z"
   },
   {
    "duration": 15,
    "start_time": "2022-06-30T09:45:06.564Z"
   },
   {
    "duration": 9,
    "start_time": "2022-06-30T09:45:06.580Z"
   },
   {
    "duration": 6069,
    "start_time": "2022-06-30T09:45:06.591Z"
   },
   {
    "duration": 24,
    "start_time": "2022-06-30T09:45:12.661Z"
   },
   {
    "duration": 28,
    "start_time": "2022-06-30T09:45:12.688Z"
   },
   {
    "duration": 126,
    "start_time": "2022-06-30T09:45:12.718Z"
   },
   {
    "duration": 22,
    "start_time": "2022-06-30T09:45:12.845Z"
   },
   {
    "duration": 69,
    "start_time": "2022-06-30T09:45:12.868Z"
   },
   {
    "duration": 22,
    "start_time": "2022-06-30T09:45:12.939Z"
   },
   {
    "duration": 29,
    "start_time": "2022-06-30T09:45:12.963Z"
   },
   {
    "duration": 81,
    "start_time": "2022-06-30T09:45:12.994Z"
   },
   {
    "duration": 27,
    "start_time": "2022-06-30T09:45:13.077Z"
   },
   {
    "duration": 20,
    "start_time": "2022-06-30T09:45:13.105Z"
   },
   {
    "duration": 26,
    "start_time": "2022-06-30T09:45:13.127Z"
   },
   {
    "duration": 20,
    "start_time": "2022-06-30T09:45:13.155Z"
   },
   {
    "duration": 28,
    "start_time": "2022-06-30T09:45:13.176Z"
   },
   {
    "duration": 48,
    "start_time": "2022-06-30T09:45:13.206Z"
   },
   {
    "duration": 30,
    "start_time": "2022-06-30T09:45:13.256Z"
   },
   {
    "duration": 85,
    "start_time": "2022-06-30T09:45:13.287Z"
   },
   {
    "duration": 29,
    "start_time": "2022-06-30T09:45:13.374Z"
   },
   {
    "duration": 20,
    "start_time": "2022-06-30T09:45:13.404Z"
   },
   {
    "duration": 78,
    "start_time": "2022-06-30T09:45:13.426Z"
   },
   {
    "duration": 175,
    "start_time": "2022-06-30T09:45:13.508Z"
   },
   {
    "duration": 211,
    "start_time": "2022-06-30T09:45:13.685Z"
   },
   {
    "duration": 65,
    "start_time": "2022-06-30T09:45:13.897Z"
   },
   {
    "duration": 141,
    "start_time": "2022-06-30T09:45:13.964Z"
   },
   {
    "duration": 16,
    "start_time": "2022-06-30T09:45:14.107Z"
   },
   {
    "duration": 9,
    "start_time": "2022-06-30T09:45:14.125Z"
   },
   {
    "duration": 25,
    "start_time": "2022-06-30T09:45:14.152Z"
   },
   {
    "duration": 1133,
    "start_time": "2022-06-30T09:45:14.179Z"
   },
   {
    "duration": 121,
    "start_time": "2022-06-30T09:45:15.314Z"
   },
   {
    "duration": 20,
    "start_time": "2022-06-30T09:45:15.437Z"
   },
   {
    "duration": 11,
    "start_time": "2022-06-30T09:45:15.458Z"
   },
   {
    "duration": 25,
    "start_time": "2022-06-30T09:45:15.470Z"
   },
   {
    "duration": 121,
    "start_time": "2022-06-30T09:45:15.497Z"
   },
   {
    "duration": 19,
    "start_time": "2022-06-30T09:45:15.620Z"
   },
   {
    "duration": 141,
    "start_time": "2022-06-30T09:45:15.641Z"
   },
   {
    "duration": 15,
    "start_time": "2022-06-30T09:45:15.785Z"
   },
   {
    "duration": 14,
    "start_time": "2022-06-30T09:45:15.802Z"
   },
   {
    "duration": 41,
    "start_time": "2022-06-30T09:45:15.819Z"
   },
   {
    "duration": 8,
    "start_time": "2022-06-30T09:45:15.862Z"
   },
   {
    "duration": 33,
    "start_time": "2022-06-30T09:45:15.874Z"
   },
   {
    "duration": 33,
    "start_time": "2022-06-30T09:45:15.909Z"
   },
   {
    "duration": 50,
    "start_time": "2022-06-30T09:45:15.944Z"
   },
   {
    "duration": 361,
    "start_time": "2022-06-30T09:45:15.995Z"
   },
   {
    "duration": 11,
    "start_time": "2022-06-30T09:45:16.358Z"
   },
   {
    "duration": 21,
    "start_time": "2022-06-30T09:45:16.371Z"
   },
   {
    "duration": 365,
    "start_time": "2022-06-30T09:45:16.394Z"
   },
   {
    "duration": 13,
    "start_time": "2022-06-30T09:45:16.761Z"
   },
   {
    "duration": 566,
    "start_time": "2022-06-30T09:45:16.776Z"
   },
   {
    "duration": 13,
    "start_time": "2022-06-30T09:45:17.344Z"
   },
   {
    "duration": 260,
    "start_time": "2022-06-30T09:45:17.358Z"
   },
   {
    "duration": 73,
    "start_time": "2022-06-30T09:45:17.620Z"
   },
   {
    "duration": 36,
    "start_time": "2022-06-30T09:45:17.695Z"
   },
   {
    "duration": 23,
    "start_time": "2022-06-30T09:45:17.732Z"
   },
   {
    "duration": 15320,
    "start_time": "2022-06-30T09:45:17.757Z"
   },
   {
    "duration": 205,
    "start_time": "2022-06-30T09:45:33.079Z"
   },
   {
    "duration": 231428,
    "start_time": "2022-06-30T09:45:33.353Z"
   },
   {
    "duration": 16085,
    "start_time": "2022-06-30T09:49:24.783Z"
   },
   {
    "duration": 3,
    "start_time": "2022-06-30T09:49:40.870Z"
   },
   {
    "duration": 25,
    "start_time": "2022-06-30T09:49:40.875Z"
   },
   {
    "duration": 18,
    "start_time": "2022-06-30T09:49:40.902Z"
   },
   {
    "duration": 11293,
    "start_time": "2022-06-30T09:49:40.922Z"
   },
   {
    "duration": 11092,
    "start_time": "2022-06-30T09:49:52.216Z"
   },
   {
    "duration": 104,
    "start_time": "2022-06-30T09:50:03.310Z"
   },
   {
    "duration": 0,
    "start_time": "2022-06-30T09:50:03.416Z"
   },
   {
    "duration": 0,
    "start_time": "2022-06-30T09:50:03.417Z"
   },
   {
    "duration": 5,
    "start_time": "2022-06-30T09:50:44.161Z"
   },
   {
    "duration": 10,
    "start_time": "2022-06-30T09:50:47.963Z"
   },
   {
    "duration": 4,
    "start_time": "2022-06-30T10:17:05.047Z"
   },
   {
    "duration": 818,
    "start_time": "2022-06-30T10:17:05.148Z"
   },
   {
    "duration": 131,
    "start_time": "2022-06-30T10:17:06.514Z"
   },
   {
    "duration": 90,
    "start_time": "2022-06-30T10:17:07.538Z"
   },
   {
    "duration": 97,
    "start_time": "2022-06-30T10:17:08.192Z"
   },
   {
    "duration": 13,
    "start_time": "2022-06-30T10:17:08.377Z"
   },
   {
    "duration": 4,
    "start_time": "2022-06-30T10:17:08.850Z"
   },
   {
    "duration": 6139,
    "start_time": "2022-06-30T10:17:09.256Z"
   },
   {
    "duration": 24,
    "start_time": "2022-06-30T10:17:15.397Z"
   },
   {
    "duration": 17,
    "start_time": "2022-06-30T10:17:15.423Z"
   },
   {
    "duration": 107,
    "start_time": "2022-06-30T10:17:15.443Z"
   },
   {
    "duration": 17,
    "start_time": "2022-06-30T10:17:15.551Z"
   },
   {
    "duration": 69,
    "start_time": "2022-06-30T10:17:15.569Z"
   },
   {
    "duration": 22,
    "start_time": "2022-06-30T10:17:15.640Z"
   },
   {
    "duration": 30,
    "start_time": "2022-06-30T10:17:15.664Z"
   },
   {
    "duration": 63,
    "start_time": "2022-06-30T10:17:16.234Z"
   },
   {
    "duration": 28,
    "start_time": "2022-06-30T10:17:17.100Z"
   },
   {
    "duration": 19,
    "start_time": "2022-06-30T10:17:18.278Z"
   },
   {
    "duration": 10,
    "start_time": "2022-06-30T10:17:19.120Z"
   },
   {
    "duration": 19,
    "start_time": "2022-06-30T10:17:23.180Z"
   },
   {
    "duration": 28,
    "start_time": "2022-06-30T10:17:44.337Z"
   },
   {
    "duration": 18,
    "start_time": "2022-06-30T10:17:45.943Z"
   },
   {
    "duration": 30,
    "start_time": "2022-06-30T10:17:48.860Z"
   },
   {
    "duration": 75,
    "start_time": "2022-06-30T10:17:49.643Z"
   },
   {
    "duration": 35,
    "start_time": "2022-06-30T10:17:51.683Z"
   },
   {
    "duration": 18,
    "start_time": "2022-06-30T10:17:55.017Z"
   },
   {
    "duration": 65,
    "start_time": "2022-06-30T10:17:55.384Z"
   },
   {
    "duration": 162,
    "start_time": "2022-06-30T10:17:58.624Z"
   },
   {
    "duration": 187,
    "start_time": "2022-06-30T10:18:00.787Z"
   },
   {
    "duration": 64,
    "start_time": "2022-06-30T10:18:01.015Z"
   },
   {
    "duration": 123,
    "start_time": "2022-06-30T10:18:02.707Z"
   },
   {
    "duration": 15,
    "start_time": "2022-06-30T10:18:03.492Z"
   },
   {
    "duration": 9,
    "start_time": "2022-06-30T10:18:07.965Z"
   },
   {
    "duration": 19,
    "start_time": "2022-06-30T10:18:08.553Z"
   },
   {
    "duration": 1021,
    "start_time": "2022-06-30T10:18:10.321Z"
   },
   {
    "duration": 124,
    "start_time": "2022-06-30T10:18:11.344Z"
   },
   {
    "duration": 12,
    "start_time": "2022-06-30T10:18:14.957Z"
   },
   {
    "duration": 9,
    "start_time": "2022-06-30T10:19:19.274Z"
   },
   {
    "duration": 14,
    "start_time": "2022-06-30T10:19:19.853Z"
   },
   {
    "duration": 15,
    "start_time": "2022-06-30T10:19:45.485Z"
   },
   {
    "duration": 10,
    "start_time": "2022-06-30T10:20:03.557Z"
   },
   {
    "duration": 6,
    "start_time": "2022-06-30T10:20:17.134Z"
   },
   {
    "duration": 10,
    "start_time": "2022-06-30T10:21:23.159Z"
   },
   {
    "duration": 9,
    "start_time": "2022-06-30T10:21:28.546Z"
   },
   {
    "duration": 9,
    "start_time": "2022-06-30T10:21:47.117Z"
   },
   {
    "duration": 6,
    "start_time": "2022-06-30T10:22:00.751Z"
   },
   {
    "duration": 1677,
    "start_time": "2022-06-30T15:32:52.938Z"
   },
   {
    "duration": 1055,
    "start_time": "2022-06-30T15:32:54.618Z"
   },
   {
    "duration": 134,
    "start_time": "2022-06-30T15:32:55.675Z"
   },
   {
    "duration": 99,
    "start_time": "2022-06-30T15:32:55.811Z"
   },
   {
    "duration": 135,
    "start_time": "2022-06-30T15:32:55.912Z"
   },
   {
    "duration": 13,
    "start_time": "2022-06-30T15:32:56.048Z"
   },
   {
    "duration": 22,
    "start_time": "2022-06-30T15:32:56.062Z"
   },
   {
    "duration": 6572,
    "start_time": "2022-06-30T15:32:56.086Z"
   },
   {
    "duration": 20,
    "start_time": "2022-06-30T15:33:02.660Z"
   },
   {
    "duration": 11,
    "start_time": "2022-06-30T15:33:02.682Z"
   },
   {
    "duration": 128,
    "start_time": "2022-06-30T15:33:02.695Z"
   },
   {
    "duration": 20,
    "start_time": "2022-06-30T15:33:02.826Z"
   },
   {
    "duration": 79,
    "start_time": "2022-06-30T15:33:02.848Z"
   },
   {
    "duration": 22,
    "start_time": "2022-06-30T15:33:02.930Z"
   },
   {
    "duration": 39,
    "start_time": "2022-06-30T15:33:02.954Z"
   },
   {
    "duration": 83,
    "start_time": "2022-06-30T15:33:02.995Z"
   },
   {
    "duration": 30,
    "start_time": "2022-06-30T15:33:03.080Z"
   },
   {
    "duration": 28,
    "start_time": "2022-06-30T15:33:03.111Z"
   },
   {
    "duration": 17,
    "start_time": "2022-06-30T15:33:03.141Z"
   },
   {
    "duration": 32,
    "start_time": "2022-06-30T15:33:03.159Z"
   },
   {
    "duration": 34,
    "start_time": "2022-06-30T15:33:03.193Z"
   },
   {
    "duration": 31,
    "start_time": "2022-06-30T15:33:03.228Z"
   },
   {
    "duration": 35,
    "start_time": "2022-06-30T15:33:03.263Z"
   },
   {
    "duration": 82,
    "start_time": "2022-06-30T15:33:03.299Z"
   },
   {
    "duration": 32,
    "start_time": "2022-06-30T15:33:03.383Z"
   },
   {
    "duration": 24,
    "start_time": "2022-06-30T15:33:03.417Z"
   },
   {
    "duration": 94,
    "start_time": "2022-06-30T15:33:03.443Z"
   },
   {
    "duration": 170,
    "start_time": "2022-06-30T15:33:03.539Z"
   },
   {
    "duration": 226,
    "start_time": "2022-06-30T15:33:03.711Z"
   },
   {
    "duration": 78,
    "start_time": "2022-06-30T15:33:03.939Z"
   },
   {
    "duration": 138,
    "start_time": "2022-06-30T15:33:04.026Z"
   },
   {
    "duration": 17,
    "start_time": "2022-06-30T15:33:04.166Z"
   },
   {
    "duration": 9,
    "start_time": "2022-06-30T15:33:04.185Z"
   },
   {
    "duration": 44,
    "start_time": "2022-06-30T15:33:04.195Z"
   },
   {
    "duration": 1091,
    "start_time": "2022-06-30T15:33:04.241Z"
   },
   {
    "duration": 127,
    "start_time": "2022-06-30T15:33:05.334Z"
   },
   {
    "duration": 11,
    "start_time": "2022-06-30T15:33:05.463Z"
   },
   {
    "duration": 16,
    "start_time": "2022-06-30T15:33:05.476Z"
   },
   {
    "duration": 14,
    "start_time": "2022-06-30T15:33:05.494Z"
   },
   {
    "duration": 133,
    "start_time": "2022-06-30T15:33:05.509Z"
   },
   {
    "duration": 10,
    "start_time": "2022-06-30T15:33:05.646Z"
   },
   {
    "duration": 60,
    "start_time": "2022-06-30T15:33:05.657Z"
   },
   {
    "duration": 49,
    "start_time": "2022-06-30T15:33:05.719Z"
   },
   {
    "duration": 13,
    "start_time": "2022-06-30T15:33:05.770Z"
   },
   {
    "duration": 31,
    "start_time": "2022-06-30T15:33:05.785Z"
   },
   {
    "duration": 103,
    "start_time": "2022-06-30T15:33:05.818Z"
   },
   {
    "duration": 14,
    "start_time": "2022-06-30T15:33:05.923Z"
   },
   {
    "duration": 19,
    "start_time": "2022-06-30T15:33:05.939Z"
   },
   {
    "duration": 16,
    "start_time": "2022-06-30T15:33:05.960Z"
   },
   {
    "duration": 16,
    "start_time": "2022-06-30T15:33:05.978Z"
   },
   {
    "duration": 30,
    "start_time": "2022-06-30T15:33:05.996Z"
   },
   {
    "duration": 14,
    "start_time": "2022-06-30T15:33:06.028Z"
   },
   {
    "duration": 55,
    "start_time": "2022-06-30T15:33:06.043Z"
   },
   {
    "duration": 375,
    "start_time": "2022-06-30T15:33:06.099Z"
   },
   {
    "duration": 11,
    "start_time": "2022-06-30T15:33:06.476Z"
   },
   {
    "duration": 5,
    "start_time": "2022-06-30T15:33:06.489Z"
   },
   {
    "duration": 427,
    "start_time": "2022-06-30T15:33:06.496Z"
   },
   {
    "duration": 17,
    "start_time": "2022-06-30T15:33:06.925Z"
   },
   {
    "duration": 715,
    "start_time": "2022-06-30T15:33:06.943Z"
   },
   {
    "duration": 15,
    "start_time": "2022-06-30T15:33:07.660Z"
   },
   {
    "duration": 287,
    "start_time": "2022-06-30T15:33:07.677Z"
   },
   {
    "duration": 81,
    "start_time": "2022-06-30T15:33:07.966Z"
   },
   {
    "duration": 43,
    "start_time": "2022-06-30T15:33:08.049Z"
   },
   {
    "duration": 14,
    "start_time": "2022-06-30T15:33:08.094Z"
   },
   {
    "duration": 15718,
    "start_time": "2022-06-30T15:33:08.110Z"
   },
   {
    "duration": 199,
    "start_time": "2022-06-30T15:33:23.830Z"
   },
   {
    "duration": 21698,
    "start_time": "2022-06-30T15:33:24.031Z"
   },
   {
    "duration": 17796,
    "start_time": "2022-06-30T15:33:45.731Z"
   },
   {
    "duration": 4,
    "start_time": "2022-06-30T15:34:03.529Z"
   },
   {
    "duration": 12,
    "start_time": "2022-06-30T15:34:03.534Z"
   },
   {
    "duration": 11,
    "start_time": "2022-06-30T15:34:03.548Z"
   },
   {
    "duration": 13142,
    "start_time": "2022-06-30T15:34:03.561Z"
   },
   {
    "duration": 12265,
    "start_time": "2022-06-30T15:34:16.705Z"
   },
   {
    "duration": 5,
    "start_time": "2022-06-30T15:34:28.972Z"
   },
   {
    "duration": 13,
    "start_time": "2022-06-30T15:34:28.978Z"
   },
   {
    "duration": 16456,
    "start_time": "2022-06-30T15:34:28.993Z"
   },
   {
    "duration": 24193,
    "start_time": "2022-06-30T15:41:05.888Z"
   },
   {
    "duration": 24902,
    "start_time": "2022-06-30T15:41:44.738Z"
   },
   {
    "duration": 44,
    "start_time": "2022-07-01T12:47:13.743Z"
   },
   {
    "duration": 1606,
    "start_time": "2022-07-01T12:47:18.939Z"
   },
   {
    "duration": 996,
    "start_time": "2022-07-01T12:47:20.547Z"
   },
   {
    "duration": 100,
    "start_time": "2022-07-01T12:47:21.544Z"
   },
   {
    "duration": 122,
    "start_time": "2022-07-01T12:47:21.646Z"
   },
   {
    "duration": 100,
    "start_time": "2022-07-01T12:47:21.771Z"
   },
   {
    "duration": 12,
    "start_time": "2022-07-01T12:47:21.872Z"
   },
   {
    "duration": 5,
    "start_time": "2022-07-01T12:47:21.886Z"
   },
   {
    "duration": 6015,
    "start_time": "2022-07-01T12:47:21.893Z"
   },
   {
    "duration": 24,
    "start_time": "2022-07-01T12:47:27.910Z"
   },
   {
    "duration": 20,
    "start_time": "2022-07-01T12:47:27.935Z"
   },
   {
    "duration": 105,
    "start_time": "2022-07-01T12:47:27.956Z"
   },
   {
    "duration": 19,
    "start_time": "2022-07-01T12:47:28.062Z"
   },
   {
    "duration": 89,
    "start_time": "2022-07-01T12:47:28.083Z"
   },
   {
    "duration": 18,
    "start_time": "2022-07-01T12:47:28.175Z"
   },
   {
    "duration": 34,
    "start_time": "2022-07-01T12:47:28.195Z"
   },
   {
    "duration": 90,
    "start_time": "2022-07-01T12:47:28.231Z"
   },
   {
    "duration": 42,
    "start_time": "2022-07-01T12:47:28.323Z"
   },
   {
    "duration": 19,
    "start_time": "2022-07-01T12:47:28.367Z"
   },
   {
    "duration": 9,
    "start_time": "2022-07-01T12:47:28.388Z"
   },
   {
    "duration": 22,
    "start_time": "2022-07-01T12:47:28.399Z"
   },
   {
    "duration": 46,
    "start_time": "2022-07-01T12:47:28.422Z"
   },
   {
    "duration": 24,
    "start_time": "2022-07-01T12:47:28.470Z"
   },
   {
    "duration": 31,
    "start_time": "2022-07-01T12:47:28.496Z"
   },
   {
    "duration": 105,
    "start_time": "2022-07-01T12:47:28.529Z"
   },
   {
    "duration": 37,
    "start_time": "2022-07-01T12:47:28.635Z"
   },
   {
    "duration": 20,
    "start_time": "2022-07-01T12:47:28.674Z"
   },
   {
    "duration": 88,
    "start_time": "2022-07-01T12:47:28.696Z"
   },
   {
    "duration": 177,
    "start_time": "2022-07-01T12:47:28.785Z"
   },
   {
    "duration": 216,
    "start_time": "2022-07-01T12:47:28.964Z"
   },
   {
    "duration": 70,
    "start_time": "2022-07-01T12:47:29.181Z"
   },
   {
    "duration": 142,
    "start_time": "2022-07-01T12:47:29.254Z"
   },
   {
    "duration": 16,
    "start_time": "2022-07-01T12:47:29.397Z"
   },
   {
    "duration": 8,
    "start_time": "2022-07-01T12:47:29.414Z"
   },
   {
    "duration": 52,
    "start_time": "2022-07-01T12:47:29.424Z"
   },
   {
    "duration": 1015,
    "start_time": "2022-07-01T12:47:29.479Z"
   },
   {
    "duration": 116,
    "start_time": "2022-07-01T12:47:30.496Z"
   },
   {
    "duration": 11,
    "start_time": "2022-07-01T12:47:30.614Z"
   },
   {
    "duration": 24,
    "start_time": "2022-07-01T12:47:30.627Z"
   },
   {
    "duration": 15,
    "start_time": "2022-07-01T12:47:30.652Z"
   },
   {
    "duration": 122,
    "start_time": "2022-07-01T12:47:30.669Z"
   },
   {
    "duration": 11,
    "start_time": "2022-07-01T12:47:30.795Z"
   },
   {
    "duration": 33,
    "start_time": "2022-07-01T12:47:30.807Z"
   },
   {
    "duration": 8,
    "start_time": "2022-07-01T12:47:30.842Z"
   },
   {
    "duration": 15,
    "start_time": "2022-07-01T12:47:30.852Z"
   },
   {
    "duration": 28,
    "start_time": "2022-07-01T12:47:30.869Z"
   },
   {
    "duration": 106,
    "start_time": "2022-07-01T12:47:30.899Z"
   },
   {
    "duration": 13,
    "start_time": "2022-07-01T12:47:31.007Z"
   },
   {
    "duration": 19,
    "start_time": "2022-07-01T12:47:31.022Z"
   },
   {
    "duration": 16,
    "start_time": "2022-07-01T12:47:31.050Z"
   },
   {
    "duration": 7,
    "start_time": "2022-07-01T12:47:31.068Z"
   },
   {
    "duration": 20,
    "start_time": "2022-07-01T12:47:31.077Z"
   },
   {
    "duration": 15,
    "start_time": "2022-07-01T12:47:31.099Z"
   },
   {
    "duration": 64,
    "start_time": "2022-07-01T12:47:31.116Z"
   },
   {
    "duration": 320,
    "start_time": "2022-07-01T12:47:31.182Z"
   },
   {
    "duration": 10,
    "start_time": "2022-07-01T12:47:31.504Z"
   },
   {
    "duration": 13,
    "start_time": "2022-07-01T12:47:31.516Z"
   },
   {
    "duration": 352,
    "start_time": "2022-07-01T12:47:31.531Z"
   },
   {
    "duration": 13,
    "start_time": "2022-07-01T12:47:31.884Z"
   },
   {
    "duration": 571,
    "start_time": "2022-07-01T12:47:31.899Z"
   },
   {
    "duration": 12,
    "start_time": "2022-07-01T12:47:32.471Z"
   },
   {
    "duration": 256,
    "start_time": "2022-07-01T12:47:32.484Z"
   },
   {
    "duration": 71,
    "start_time": "2022-07-01T12:47:32.741Z"
   },
   {
    "duration": 59,
    "start_time": "2022-07-01T12:47:32.814Z"
   },
   {
    "duration": 15,
    "start_time": "2022-07-01T12:47:32.875Z"
   },
   {
    "duration": 20081,
    "start_time": "2022-07-01T12:47:32.891Z"
   },
   {
    "duration": 199,
    "start_time": "2022-07-01T12:47:52.974Z"
   },
   {
    "duration": 145806,
    "start_time": "2022-07-01T12:47:53.174Z"
   },
   {
    "duration": 604273,
    "start_time": "2022-07-01T12:50:18.982Z"
   },
   {
    "duration": 5,
    "start_time": "2022-07-01T13:00:23.257Z"
   },
   {
    "duration": 9,
    "start_time": "2022-07-01T13:00:23.264Z"
   },
   {
    "duration": 7,
    "start_time": "2022-07-01T13:00:23.274Z"
   },
   {
    "duration": 12220,
    "start_time": "2022-07-01T13:00:23.282Z"
   },
   {
    "duration": 11529,
    "start_time": "2022-07-01T13:00:35.504Z"
   },
   {
    "duration": 4,
    "start_time": "2022-07-01T13:00:47.035Z"
   },
   {
    "duration": 12,
    "start_time": "2022-07-01T13:00:47.040Z"
   },
   {
    "duration": 664622,
    "start_time": "2022-07-01T13:00:47.054Z"
   },
   {
    "duration": 636295,
    "start_time": "2022-07-01T13:11:51.678Z"
   },
   {
    "duration": 932,
    "start_time": "2022-07-01T13:29:56.653Z"
   },
   {
    "duration": 5,
    "start_time": "2022-07-01T13:30:07.775Z"
   },
   {
    "duration": 679,
    "start_time": "2022-07-01T13:30:07.965Z"
   },
   {
    "duration": 117,
    "start_time": "2022-07-01T13:30:08.645Z"
   },
   {
    "duration": 80,
    "start_time": "2022-07-01T13:30:09.350Z"
   },
   {
    "duration": 112,
    "start_time": "2022-07-01T13:30:09.958Z"
   },
   {
    "duration": 12,
    "start_time": "2022-07-01T13:30:12.876Z"
   },
   {
    "duration": 11,
    "start_time": "2022-07-01T13:30:13.423Z"
   },
   {
    "duration": 29,
    "start_time": "2022-07-01T13:30:29.296Z"
   },
   {
    "duration": 249,
    "start_time": "2022-07-01T13:30:39.160Z"
   },
   {
    "duration": 664,
    "start_time": "2022-07-01T13:31:06.419Z"
   },
   {
    "duration": 249,
    "start_time": "2022-07-01T13:31:16.382Z"
   },
   {
    "duration": 805,
    "start_time": "2022-07-01T13:31:45.489Z"
   },
   {
    "duration": 802,
    "start_time": "2022-07-01T13:31:55.124Z"
   },
   {
    "duration": 671,
    "start_time": "2022-07-01T13:32:05.969Z"
   },
   {
    "duration": 262,
    "start_time": "2022-07-01T13:32:19.226Z"
   },
   {
    "duration": 27,
    "start_time": "2022-07-01T13:33:44.599Z"
   },
   {
    "duration": 27,
    "start_time": "2022-07-01T13:34:14.289Z"
   },
   {
    "duration": 4,
    "start_time": "2022-07-01T13:36:13.613Z"
   },
   {
    "duration": 701,
    "start_time": "2022-07-01T13:36:13.789Z"
   },
   {
    "duration": 132,
    "start_time": "2022-07-01T13:36:14.492Z"
   },
   {
    "duration": 90,
    "start_time": "2022-07-01T13:36:14.626Z"
   },
   {
    "duration": 102,
    "start_time": "2022-07-01T13:36:14.718Z"
   },
   {
    "duration": 12,
    "start_time": "2022-07-01T13:36:14.822Z"
   },
   {
    "duration": 252,
    "start_time": "2022-07-01T13:36:14.970Z"
   },
   {
    "duration": 8,
    "start_time": "2022-07-01T13:36:16.318Z"
   },
   {
    "duration": 5907,
    "start_time": "2022-07-01T13:36:17.006Z"
   },
   {
    "duration": 15,
    "start_time": "2022-07-01T13:36:22.915Z"
   },
   {
    "duration": 31,
    "start_time": "2022-07-01T13:36:22.932Z"
   },
   {
    "duration": 80,
    "start_time": "2022-07-01T13:36:22.965Z"
   },
   {
    "duration": 24,
    "start_time": "2022-07-01T13:36:23.047Z"
   },
   {
    "duration": 58,
    "start_time": "2022-07-01T13:36:23.072Z"
   },
   {
    "duration": 38,
    "start_time": "2022-07-01T13:36:23.132Z"
   },
   {
    "duration": 26,
    "start_time": "2022-07-01T13:36:23.172Z"
   },
   {
    "duration": 71,
    "start_time": "2022-07-01T13:36:23.199Z"
   },
   {
    "duration": 26,
    "start_time": "2022-07-01T13:36:23.272Z"
   },
   {
    "duration": 14,
    "start_time": "2022-07-01T13:36:23.300Z"
   },
   {
    "duration": 8,
    "start_time": "2022-07-01T13:36:23.316Z"
   },
   {
    "duration": 40,
    "start_time": "2022-07-01T13:36:23.325Z"
   },
   {
    "duration": 36,
    "start_time": "2022-07-01T13:36:23.929Z"
   },
   {
    "duration": 18,
    "start_time": "2022-07-01T13:36:26.227Z"
   },
   {
    "duration": 34,
    "start_time": "2022-07-01T13:36:26.857Z"
   },
   {
    "duration": 66,
    "start_time": "2022-07-01T13:36:27.063Z"
   },
   {
    "duration": 34,
    "start_time": "2022-07-01T13:36:27.497Z"
   },
   {
    "duration": 17,
    "start_time": "2022-07-01T13:36:28.422Z"
   },
   {
    "duration": 70,
    "start_time": "2022-07-01T13:36:28.665Z"
   },
   {
    "duration": 147,
    "start_time": "2022-07-01T13:36:30.350Z"
   },
   {
    "duration": 191,
    "start_time": "2022-07-01T13:36:30.858Z"
   },
   {
    "duration": 58,
    "start_time": "2022-07-01T13:36:31.061Z"
   },
   {
    "duration": 120,
    "start_time": "2022-07-01T13:36:31.483Z"
   },
   {
    "duration": 26,
    "start_time": "2022-07-01T13:36:32.136Z"
   },
   {
    "duration": 9,
    "start_time": "2022-07-01T13:36:32.468Z"
   },
   {
    "duration": 17,
    "start_time": "2022-07-01T13:36:33.064Z"
   },
   {
    "duration": 1025,
    "start_time": "2022-07-01T13:36:34.763Z"
   },
   {
    "duration": 120,
    "start_time": "2022-07-01T13:36:35.789Z"
   },
   {
    "duration": 11,
    "start_time": "2022-07-01T13:36:36.160Z"
   },
   {
    "duration": 9,
    "start_time": "2022-07-01T13:36:37.713Z"
   },
   {
    "duration": 16,
    "start_time": "2022-07-01T13:36:37.962Z"
   },
   {
    "duration": 105,
    "start_time": "2022-07-01T13:36:38.506Z"
   },
   {
    "duration": 10,
    "start_time": "2022-07-01T13:36:39.162Z"
   },
   {
    "duration": 8,
    "start_time": "2022-07-01T13:36:39.317Z"
   },
   {
    "duration": 6,
    "start_time": "2022-07-01T13:36:39.487Z"
   },
   {
    "duration": 6,
    "start_time": "2022-07-01T13:36:39.683Z"
   },
   {
    "duration": 20,
    "start_time": "2022-07-01T13:36:40.147Z"
   },
   {
    "duration": 93,
    "start_time": "2022-07-01T13:36:40.664Z"
   },
   {
    "duration": 13,
    "start_time": "2022-07-01T13:36:41.107Z"
   },
   {
    "duration": 13,
    "start_time": "2022-07-01T13:36:42.924Z"
   },
   {
    "duration": 18,
    "start_time": "2022-07-01T13:36:48.379Z"
   },
   {
    "duration": 17,
    "start_time": "2022-07-01T13:38:08.061Z"
   },
   {
    "duration": 101,
    "start_time": "2022-07-01T13:38:08.622Z"
   },
   {
    "duration": 12,
    "start_time": "2022-07-01T13:38:08.724Z"
   },
   {
    "duration": 25,
    "start_time": "2022-07-01T13:38:08.737Z"
   },
   {
    "duration": 16,
    "start_time": "2022-07-01T13:38:08.775Z"
   },
   {
    "duration": 16,
    "start_time": "2022-07-01T13:38:08.862Z"
   },
   {
    "duration": 7,
    "start_time": "2022-07-01T13:38:09.415Z"
   },
   {
    "duration": 15,
    "start_time": "2022-07-01T13:38:10.112Z"
   },
   {
    "duration": 14,
    "start_time": "2022-07-01T13:38:10.365Z"
   },
   {
    "duration": 43,
    "start_time": "2022-07-01T13:38:10.564Z"
   },
   {
    "duration": 425,
    "start_time": "2022-07-01T13:38:10.988Z"
   },
   {
    "duration": 4,
    "start_time": "2022-07-01T13:38:17.262Z"
   },
   {
    "duration": 717,
    "start_time": "2022-07-01T13:38:17.402Z"
   },
   {
    "duration": 105,
    "start_time": "2022-07-01T13:38:18.121Z"
   },
   {
    "duration": 90,
    "start_time": "2022-07-01T13:38:18.228Z"
   },
   {
    "duration": 101,
    "start_time": "2022-07-01T13:38:18.319Z"
   },
   {
    "duration": 11,
    "start_time": "2022-07-01T13:38:18.422Z"
   },
   {
    "duration": 260,
    "start_time": "2022-07-01T13:38:18.513Z"
   },
   {
    "duration": 4,
    "start_time": "2022-07-01T13:38:19.174Z"
   },
   {
    "duration": 5941,
    "start_time": "2022-07-01T13:38:19.550Z"
   },
   {
    "duration": 22,
    "start_time": "2022-07-01T13:38:25.493Z"
   },
   {
    "duration": 11,
    "start_time": "2022-07-01T13:38:25.517Z"
   },
   {
    "duration": 99,
    "start_time": "2022-07-01T13:38:25.529Z"
   },
   {
    "duration": 31,
    "start_time": "2022-07-01T13:38:25.630Z"
   },
   {
    "duration": 58,
    "start_time": "2022-07-01T13:38:25.662Z"
   },
   {
    "duration": 16,
    "start_time": "2022-07-01T13:38:25.721Z"
   },
   {
    "duration": 40,
    "start_time": "2022-07-01T13:38:25.738Z"
   },
   {
    "duration": 58,
    "start_time": "2022-07-01T13:38:25.779Z"
   },
   {
    "duration": 46,
    "start_time": "2022-07-01T13:38:25.839Z"
   },
   {
    "duration": 14,
    "start_time": "2022-07-01T13:38:25.887Z"
   },
   {
    "duration": 9,
    "start_time": "2022-07-01T13:38:25.903Z"
   },
   {
    "duration": 18,
    "start_time": "2022-07-01T13:38:25.913Z"
   },
   {
    "duration": 49,
    "start_time": "2022-07-01T13:38:25.933Z"
   },
   {
    "duration": 18,
    "start_time": "2022-07-01T13:38:25.984Z"
   },
   {
    "duration": 28,
    "start_time": "2022-07-01T13:38:26.004Z"
   },
   {
    "duration": 62,
    "start_time": "2022-07-01T13:38:26.057Z"
   },
   {
    "duration": 45,
    "start_time": "2022-07-01T13:38:26.121Z"
   },
   {
    "duration": 16,
    "start_time": "2022-07-01T13:38:26.380Z"
   },
   {
    "duration": 77,
    "start_time": "2022-07-01T13:38:26.514Z"
   },
   {
    "duration": 150,
    "start_time": "2022-07-01T13:38:27.886Z"
   },
   {
    "duration": 183,
    "start_time": "2022-07-01T13:38:28.368Z"
   },
   {
    "duration": 69,
    "start_time": "2022-07-01T13:38:28.895Z"
   },
   {
    "duration": 140,
    "start_time": "2022-07-01T13:38:29.545Z"
   },
   {
    "duration": 15,
    "start_time": "2022-07-01T13:38:30.311Z"
   },
   {
    "duration": 11,
    "start_time": "2022-07-01T13:38:30.550Z"
   },
   {
    "duration": 18,
    "start_time": "2022-07-01T13:38:31.294Z"
   },
   {
    "duration": 1008,
    "start_time": "2022-07-01T13:38:32.972Z"
   },
   {
    "duration": 121,
    "start_time": "2022-07-01T13:38:33.982Z"
   },
   {
    "duration": 11,
    "start_time": "2022-07-01T13:38:34.306Z"
   },
   {
    "duration": 10,
    "start_time": "2022-07-01T13:38:36.865Z"
   },
   {
    "duration": 14,
    "start_time": "2022-07-01T13:38:38.261Z"
   },
   {
    "duration": 123,
    "start_time": "2022-07-01T13:38:42.056Z"
   },
   {
    "duration": 11,
    "start_time": "2022-07-01T13:38:44.500Z"
   },
   {
    "duration": 14,
    "start_time": "2022-07-01T13:38:49.746Z"
   },
   {
    "duration": 10,
    "start_time": "2022-07-01T13:38:54.869Z"
   },
   {
    "duration": 6,
    "start_time": "2022-07-01T13:38:56.336Z"
   },
   {
    "duration": 7,
    "start_time": "2022-07-01T13:38:57.563Z"
   },
   {
    "duration": 39,
    "start_time": "2022-07-01T13:42:27.360Z"
   },
   {
    "duration": 14,
    "start_time": "2022-07-01T13:42:51.857Z"
   },
   {
    "duration": 26,
    "start_time": "2022-07-01T13:42:56.797Z"
   },
   {
    "duration": 41,
    "start_time": "2022-07-01T13:43:06.922Z"
   },
   {
    "duration": 14,
    "start_time": "2022-07-01T13:43:14.177Z"
   },
   {
    "duration": 9,
    "start_time": "2022-07-01T13:43:33.073Z"
   },
   {
    "duration": 9,
    "start_time": "2022-07-01T13:43:37.774Z"
   },
   {
    "duration": 9,
    "start_time": "2022-07-01T13:43:41.709Z"
   },
   {
    "duration": 5,
    "start_time": "2022-07-01T13:43:45.424Z"
   },
   {
    "duration": 10,
    "start_time": "2022-07-01T13:43:48.063Z"
   },
   {
    "duration": 9,
    "start_time": "2022-07-01T13:44:06.397Z"
   },
   {
    "duration": 9,
    "start_time": "2022-07-01T13:44:12.678Z"
   },
   {
    "duration": 39,
    "start_time": "2022-07-01T13:48:20.480Z"
   },
   {
    "duration": 18,
    "start_time": "2022-07-01T13:57:17.007Z"
   },
   {
    "duration": 20,
    "start_time": "2022-07-01T14:02:29.159Z"
   },
   {
    "duration": 10,
    "start_time": "2022-07-01T14:02:32.910Z"
   },
   {
    "duration": 9,
    "start_time": "2022-07-01T14:03:08.292Z"
   },
   {
    "duration": 8,
    "start_time": "2022-07-01T14:03:21.183Z"
   },
   {
    "duration": 51,
    "start_time": "2022-07-01T14:03:26.416Z"
   },
   {
    "duration": 9,
    "start_time": "2022-07-01T14:03:30.762Z"
   },
   {
    "duration": 1485,
    "start_time": "2022-07-01T14:10:36.397Z"
   },
   {
    "duration": 790,
    "start_time": "2022-07-01T14:10:37.883Z"
   },
   {
    "duration": 105,
    "start_time": "2022-07-01T14:10:38.675Z"
   },
   {
    "duration": 115,
    "start_time": "2022-07-01T14:10:38.782Z"
   },
   {
    "duration": 96,
    "start_time": "2022-07-01T14:10:38.900Z"
   },
   {
    "duration": 13,
    "start_time": "2022-07-01T14:10:38.998Z"
   },
   {
    "duration": 278,
    "start_time": "2022-07-01T14:10:39.012Z"
   },
   {
    "duration": 4,
    "start_time": "2022-07-01T14:10:39.292Z"
   },
   {
    "duration": 5968,
    "start_time": "2022-07-01T14:10:39.297Z"
   },
   {
    "duration": 18,
    "start_time": "2022-07-01T14:10:45.267Z"
   },
   {
    "duration": 12,
    "start_time": "2022-07-01T14:10:45.287Z"
   },
   {
    "duration": 134,
    "start_time": "2022-07-01T14:10:45.302Z"
   },
   {
    "duration": 26,
    "start_time": "2022-07-01T14:10:45.438Z"
   },
   {
    "duration": 84,
    "start_time": "2022-07-01T14:10:45.469Z"
   },
   {
    "duration": 17,
    "start_time": "2022-07-01T14:10:45.555Z"
   },
   {
    "duration": 34,
    "start_time": "2022-07-01T14:10:45.574Z"
   },
   {
    "duration": 84,
    "start_time": "2022-07-01T14:10:45.610Z"
   },
   {
    "duration": 29,
    "start_time": "2022-07-01T14:10:45.696Z"
   },
   {
    "duration": 33,
    "start_time": "2022-07-01T14:10:45.726Z"
   },
   {
    "duration": 20,
    "start_time": "2022-07-01T14:10:45.761Z"
   },
   {
    "duration": 25,
    "start_time": "2022-07-01T14:10:45.783Z"
   },
   {
    "duration": 43,
    "start_time": "2022-07-01T14:10:45.810Z"
   },
   {
    "duration": 17,
    "start_time": "2022-07-01T14:10:45.855Z"
   },
   {
    "duration": 31,
    "start_time": "2022-07-01T14:10:45.874Z"
   },
   {
    "duration": 95,
    "start_time": "2022-07-01T14:10:45.907Z"
   },
   {
    "duration": 31,
    "start_time": "2022-07-01T14:10:46.003Z"
   },
   {
    "duration": 26,
    "start_time": "2022-07-01T14:10:46.036Z"
   },
   {
    "duration": 66,
    "start_time": "2022-07-01T14:10:46.064Z"
   },
   {
    "duration": 183,
    "start_time": "2022-07-01T14:10:46.131Z"
   },
   {
    "duration": 225,
    "start_time": "2022-07-01T14:10:46.315Z"
   },
   {
    "duration": 62,
    "start_time": "2022-07-01T14:10:46.542Z"
   },
   {
    "duration": 139,
    "start_time": "2022-07-01T14:10:46.606Z"
   },
   {
    "duration": 18,
    "start_time": "2022-07-01T14:10:46.747Z"
   },
   {
    "duration": 10,
    "start_time": "2022-07-01T14:10:46.767Z"
   },
   {
    "duration": 19,
    "start_time": "2022-07-01T14:10:46.779Z"
   },
   {
    "duration": 1200,
    "start_time": "2022-07-01T14:10:46.800Z"
   },
   {
    "duration": 130,
    "start_time": "2022-07-01T14:10:48.001Z"
   },
   {
    "duration": 22,
    "start_time": "2022-07-01T14:10:48.133Z"
   },
   {
    "duration": 10,
    "start_time": "2022-07-01T14:10:48.157Z"
   },
   {
    "duration": 13,
    "start_time": "2022-07-01T14:10:48.168Z"
   },
   {
    "duration": 131,
    "start_time": "2022-07-01T14:10:48.185Z"
   },
   {
    "duration": 10,
    "start_time": "2022-07-01T14:10:48.317Z"
   },
   {
    "duration": 24,
    "start_time": "2022-07-01T14:10:48.328Z"
   },
   {
    "duration": 9,
    "start_time": "2022-07-01T14:10:48.353Z"
   },
   {
    "duration": 5,
    "start_time": "2022-07-01T14:10:48.364Z"
   },
   {
    "duration": 7,
    "start_time": "2022-07-01T14:10:48.370Z"
   },
   {
    "duration": 73,
    "start_time": "2022-07-01T14:10:48.379Z"
   },
   {
    "duration": 20,
    "start_time": "2022-07-01T14:10:48.453Z"
   },
   {
    "duration": 112,
    "start_time": "2022-07-01T14:10:48.474Z"
   },
   {
    "duration": 17,
    "start_time": "2022-07-01T14:10:48.588Z"
   },
   {
    "duration": 17,
    "start_time": "2022-07-01T14:10:48.608Z"
   },
   {
    "duration": 50,
    "start_time": "2022-07-01T14:10:48.627Z"
   },
   {
    "duration": 8,
    "start_time": "2022-07-01T14:10:48.679Z"
   },
   {
    "duration": 8,
    "start_time": "2022-07-01T14:10:48.689Z"
   },
   {
    "duration": 21,
    "start_time": "2022-07-01T14:10:48.699Z"
   },
   {
    "duration": 30,
    "start_time": "2022-07-01T14:10:48.722Z"
   },
   {
    "duration": 16,
    "start_time": "2022-07-01T14:10:48.753Z"
   },
   {
    "duration": 13,
    "start_time": "2022-07-01T14:10:48.771Z"
   },
   {
    "duration": 66,
    "start_time": "2022-07-01T14:10:48.785Z"
   },
   {
    "duration": 321,
    "start_time": "2022-07-01T14:10:48.853Z"
   },
   {
    "duration": 11,
    "start_time": "2022-07-01T14:10:49.176Z"
   },
   {
    "duration": 6,
    "start_time": "2022-07-01T14:10:49.188Z"
   },
   {
    "duration": 427,
    "start_time": "2022-07-01T14:10:49.195Z"
   },
   {
    "duration": 14,
    "start_time": "2022-07-01T14:10:49.624Z"
   },
   {
    "duration": 707,
    "start_time": "2022-07-01T14:10:49.639Z"
   },
   {
    "duration": 15,
    "start_time": "2022-07-01T14:10:50.348Z"
   },
   {
    "duration": 299,
    "start_time": "2022-07-01T14:10:50.365Z"
   },
   {
    "duration": 75,
    "start_time": "2022-07-01T14:10:50.666Z"
   },
   {
    "duration": 48,
    "start_time": "2022-07-01T14:10:50.743Z"
   },
   {
    "duration": 14,
    "start_time": "2022-07-01T14:10:50.792Z"
   },
   {
    "duration": 19546,
    "start_time": "2022-07-01T14:10:50.807Z"
   },
   {
    "duration": 201,
    "start_time": "2022-07-01T14:11:10.355Z"
   },
   {
    "duration": 2110399,
    "start_time": "2022-07-01T14:11:10.558Z"
   },
   {
    "duration": 2552521,
    "start_time": "2022-07-01T14:46:20.961Z"
   },
   {
    "duration": 3,
    "start_time": "2022-07-01T15:28:53.484Z"
   },
   {
    "duration": 11,
    "start_time": "2022-07-01T15:28:53.489Z"
   },
   {
    "duration": 11,
    "start_time": "2022-07-01T15:28:53.502Z"
   },
   {
    "duration": 12578,
    "start_time": "2022-07-01T15:28:53.516Z"
   },
   {
    "duration": 12113,
    "start_time": "2022-07-01T15:29:06.096Z"
   },
   {
    "duration": 4,
    "start_time": "2022-07-01T15:29:18.211Z"
   },
   {
    "duration": 14,
    "start_time": "2022-07-01T15:29:18.216Z"
   },
   {
    "duration": 2040361,
    "start_time": "2022-07-01T15:29:18.232Z"
   },
   {
    "duration": 2044783,
    "start_time": "2022-07-01T16:03:18.595Z"
   }
  ],
  "kernelspec": {
   "display_name": "Python 3 (ipykernel)",
   "language": "python",
   "name": "python3"
  },
  "language_info": {
   "codemirror_mode": {
    "name": "ipython",
    "version": 3
   },
   "file_extension": ".py",
   "mimetype": "text/x-python",
   "name": "python",
   "nbconvert_exporter": "python",
   "pygments_lexer": "ipython3",
   "version": "3.9.5"
  },
  "toc": {
   "base_numbering": 1,
   "nav_menu": {},
   "number_sections": true,
   "sideBar": true,
   "skip_h1_title": true,
   "title_cell": "Table of Contents",
   "title_sidebar": "Contents",
   "toc_cell": false,
   "toc_position": {
    "height": "calc(100% - 180px)",
    "left": "10px",
    "top": "150px",
    "width": "270.188px"
   },
   "toc_section_display": true,
   "toc_window_display": true
  }
 },
 "nbformat": 4,
 "nbformat_minor": 2
}
