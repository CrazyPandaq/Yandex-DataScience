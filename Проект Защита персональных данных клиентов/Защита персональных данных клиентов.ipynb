{
 "cells": [
  {
   "cell_type": "markdown",
   "metadata": {
    "toc": true
   },
   "source": [
    "<h1>Содержание<span class=\"tocSkip\"></span></h1>\n",
    "<div class=\"toc\"><ul class=\"toc-item\"><li><span><a href=\"#Загрузка-данных\" data-toc-modified-id=\"Загрузка-данных-1\"><span class=\"toc-item-num\">1&nbsp;&nbsp;</span>Загрузка данных</a></span><ul class=\"toc-item\"><li><span><a href=\"#Вывод:\" data-toc-modified-id=\"Вывод:-1.1\"><span class=\"toc-item-num\">1.1&nbsp;&nbsp;</span>Вывод:</a></span></li></ul></li><li><span><a href=\"#Умножение-матриц\" data-toc-modified-id=\"Умножение-матриц-2\"><span class=\"toc-item-num\">2&nbsp;&nbsp;</span>Умножение матриц</a></span></li><li><span><a href=\"#Алгоритм-преобразования\" data-toc-modified-id=\"Алгоритм-преобразования-3\"><span class=\"toc-item-num\">3&nbsp;&nbsp;</span>Алгоритм преобразования</a></span></li><li><span><a href=\"#Проверка-алгоритма\" data-toc-modified-id=\"Проверка-алгоритма-4\"><span class=\"toc-item-num\">4&nbsp;&nbsp;</span>Проверка алгоритма</a></span><ul class=\"toc-item\"><li><span><a href=\"#Вывод:\" data-toc-modified-id=\"Вывод:-4.1\"><span class=\"toc-item-num\">4.1&nbsp;&nbsp;</span>Вывод:</a></span></li></ul></li><li><span><a href=\"#Вывод:\" data-toc-modified-id=\"Вывод:-5\"><span class=\"toc-item-num\">5&nbsp;&nbsp;</span>Вывод:</a></span></li><li><span><a href=\"#Чек-лист-проверки\" data-toc-modified-id=\"Чек-лист-проверки-6\"><span class=\"toc-item-num\">6&nbsp;&nbsp;</span>Чек-лист проверки</a></span></li></ul></div>"
   ]
  },
  {
   "cell_type": "markdown",
   "metadata": {},
   "source": [
    "# Защита персональных данных клиентов"
   ]
  },
  {
   "cell_type": "markdown",
   "metadata": {},
   "source": [
    "Вам нужно защитить данные клиентов страховой компании «Хоть потоп». Разработайте такой метод преобразования данных, чтобы по ним было сложно восстановить персональную информацию. Обоснуйте корректность его работы.\n",
    "\n",
    "Нужно защитить данные, чтобы при преобразовании качество моделей машинного обучения не ухудшилось. Подбирать наилучшую модель не требуется."
   ]
  },
  {
   "cell_type": "markdown",
   "metadata": {},
   "source": [
    "## Загрузка данных"
   ]
  },
  {
   "cell_type": "code",
   "execution_count": 1,
   "metadata": {},
   "outputs": [],
   "source": [
    "import pandas as pd\n",
    "import numpy as np\n",
    "\n",
    "from sklearn.linear_model import LinearRegression\n",
    "from sklearn.metrics import r2_score\n"
   ]
  },
  {
   "cell_type": "code",
   "execution_count": 2,
   "metadata": {},
   "outputs": [],
   "source": [
    "try:\n",
    "    data = pd.read_csv(\"/datasets/insurance.csv\")\n",
    "except:\n",
    "    data = pd.read_csv(\"datasets/insurance.csv\")"
   ]
  },
  {
   "cell_type": "code",
   "execution_count": 3,
   "metadata": {},
   "outputs": [
    {
     "name": "stdout",
     "output_type": "stream",
     "text": [
      "<class 'pandas.core.frame.DataFrame'>\n",
      "RangeIndex: 5000 entries, 0 to 4999\n",
      "Data columns (total 5 columns):\n",
      " #   Column             Non-Null Count  Dtype  \n",
      "---  ------             --------------  -----  \n",
      " 0   Пол                5000 non-null   int64  \n",
      " 1   Возраст            5000 non-null   float64\n",
      " 2   Зарплата           5000 non-null   float64\n",
      " 3   Члены семьи        5000 non-null   int64  \n",
      " 4   Страховые выплаты  5000 non-null   int64  \n",
      "dtypes: float64(2), int64(3)\n",
      "memory usage: 195.4 KB\n"
     ]
    }
   ],
   "source": [
    "data.info()"
   ]
  },
  {
   "cell_type": "code",
   "execution_count": 4,
   "metadata": {},
   "outputs": [
    {
     "data": {
      "text/html": [
       "<div>\n",
       "<style scoped>\n",
       "    .dataframe tbody tr th:only-of-type {\n",
       "        vertical-align: middle;\n",
       "    }\n",
       "\n",
       "    .dataframe tbody tr th {\n",
       "        vertical-align: top;\n",
       "    }\n",
       "\n",
       "    .dataframe thead th {\n",
       "        text-align: right;\n",
       "    }\n",
       "</style>\n",
       "<table border=\"1\" class=\"dataframe\">\n",
       "  <thead>\n",
       "    <tr style=\"text-align: right;\">\n",
       "      <th></th>\n",
       "      <th>Пол</th>\n",
       "      <th>Возраст</th>\n",
       "      <th>Зарплата</th>\n",
       "      <th>Члены семьи</th>\n",
       "      <th>Страховые выплаты</th>\n",
       "    </tr>\n",
       "  </thead>\n",
       "  <tbody>\n",
       "    <tr>\n",
       "      <th>0</th>\n",
       "      <td>1</td>\n",
       "      <td>41.0</td>\n",
       "      <td>49600.0</td>\n",
       "      <td>1</td>\n",
       "      <td>0</td>\n",
       "    </tr>\n",
       "    <tr>\n",
       "      <th>1</th>\n",
       "      <td>0</td>\n",
       "      <td>46.0</td>\n",
       "      <td>38000.0</td>\n",
       "      <td>1</td>\n",
       "      <td>1</td>\n",
       "    </tr>\n",
       "    <tr>\n",
       "      <th>2</th>\n",
       "      <td>0</td>\n",
       "      <td>29.0</td>\n",
       "      <td>21000.0</td>\n",
       "      <td>0</td>\n",
       "      <td>0</td>\n",
       "    </tr>\n",
       "    <tr>\n",
       "      <th>3</th>\n",
       "      <td>0</td>\n",
       "      <td>21.0</td>\n",
       "      <td>41700.0</td>\n",
       "      <td>2</td>\n",
       "      <td>0</td>\n",
       "    </tr>\n",
       "    <tr>\n",
       "      <th>4</th>\n",
       "      <td>1</td>\n",
       "      <td>28.0</td>\n",
       "      <td>26100.0</td>\n",
       "      <td>0</td>\n",
       "      <td>0</td>\n",
       "    </tr>\n",
       "  </tbody>\n",
       "</table>\n",
       "</div>"
      ],
      "text/plain": [
       "   Пол  Возраст  Зарплата  Члены семьи  Страховые выплаты\n",
       "0    1     41.0   49600.0            1                  0\n",
       "1    0     46.0   38000.0            1                  1\n",
       "2    0     29.0   21000.0            0                  0\n",
       "3    0     21.0   41700.0            2                  0\n",
       "4    1     28.0   26100.0            0                  0"
      ]
     },
     "execution_count": 4,
     "metadata": {},
     "output_type": "execute_result"
    }
   ],
   "source": [
    "data.head()"
   ]
  },
  {
   "cell_type": "code",
   "execution_count": 5,
   "metadata": {},
   "outputs": [
    {
     "data": {
      "text/plain": [
       "153"
      ]
     },
     "execution_count": 5,
     "metadata": {},
     "output_type": "execute_result"
    }
   ],
   "source": [
    "data.duplicated().sum()"
   ]
  },
  {
   "cell_type": "code",
   "execution_count": 6,
   "metadata": {},
   "outputs": [
    {
     "data": {
      "text/html": [
       "<div>\n",
       "<style scoped>\n",
       "    .dataframe tbody tr th:only-of-type {\n",
       "        vertical-align: middle;\n",
       "    }\n",
       "\n",
       "    .dataframe tbody tr th {\n",
       "        vertical-align: top;\n",
       "    }\n",
       "\n",
       "    .dataframe thead th {\n",
       "        text-align: right;\n",
       "    }\n",
       "</style>\n",
       "<table border=\"1\" class=\"dataframe\">\n",
       "  <thead>\n",
       "    <tr style=\"text-align: right;\">\n",
       "      <th></th>\n",
       "      <th>Пол</th>\n",
       "      <th>Возраст</th>\n",
       "      <th>Зарплата</th>\n",
       "      <th>Члены семьи</th>\n",
       "      <th>Страховые выплаты</th>\n",
       "    </tr>\n",
       "  </thead>\n",
       "  <tbody>\n",
       "    <tr>\n",
       "      <th>281</th>\n",
       "      <td>1</td>\n",
       "      <td>39.0</td>\n",
       "      <td>48100.0</td>\n",
       "      <td>1</td>\n",
       "      <td>0</td>\n",
       "    </tr>\n",
       "    <tr>\n",
       "      <th>488</th>\n",
       "      <td>1</td>\n",
       "      <td>24.0</td>\n",
       "      <td>32900.0</td>\n",
       "      <td>1</td>\n",
       "      <td>0</td>\n",
       "    </tr>\n",
       "    <tr>\n",
       "      <th>513</th>\n",
       "      <td>0</td>\n",
       "      <td>31.0</td>\n",
       "      <td>37400.0</td>\n",
       "      <td>2</td>\n",
       "      <td>0</td>\n",
       "    </tr>\n",
       "    <tr>\n",
       "      <th>718</th>\n",
       "      <td>1</td>\n",
       "      <td>22.0</td>\n",
       "      <td>32600.0</td>\n",
       "      <td>1</td>\n",
       "      <td>0</td>\n",
       "    </tr>\n",
       "    <tr>\n",
       "      <th>785</th>\n",
       "      <td>0</td>\n",
       "      <td>20.0</td>\n",
       "      <td>35800.0</td>\n",
       "      <td>0</td>\n",
       "      <td>0</td>\n",
       "    </tr>\n",
       "  </tbody>\n",
       "</table>\n",
       "</div>"
      ],
      "text/plain": [
       "     Пол  Возраст  Зарплата  Члены семьи  Страховые выплаты\n",
       "281    1     39.0   48100.0            1                  0\n",
       "488    1     24.0   32900.0            1                  0\n",
       "513    0     31.0   37400.0            2                  0\n",
       "718    1     22.0   32600.0            1                  0\n",
       "785    0     20.0   35800.0            0                  0"
      ]
     },
     "execution_count": 6,
     "metadata": {},
     "output_type": "execute_result"
    }
   ],
   "source": [
    "data[data.duplicated()].head()"
   ]
  },
  {
   "cell_type": "code",
   "execution_count": 7,
   "metadata": {},
   "outputs": [
    {
     "data": {
      "text/plain": [
       "Пол                  0\n",
       "Возраст              0\n",
       "Зарплата             0\n",
       "Члены семьи          0\n",
       "Страховые выплаты    0\n",
       "dtype: int64"
      ]
     },
     "execution_count": 7,
     "metadata": {},
     "output_type": "execute_result"
    }
   ],
   "source": [
    "data.isnull().sum()"
   ]
  },
  {
   "cell_type": "code",
   "execution_count": 8,
   "metadata": {},
   "outputs": [],
   "source": [
    "data.drop_duplicates(inplace=True)"
   ]
  },
  {
   "cell_type": "code",
   "execution_count": 9,
   "metadata": {},
   "outputs": [
    {
     "data": {
      "text/plain": [
       "0"
      ]
     },
     "execution_count": 9,
     "metadata": {},
     "output_type": "execute_result"
    }
   ],
   "source": [
    "data.duplicated().sum()"
   ]
  },
  {
   "cell_type": "code",
   "execution_count": 10,
   "metadata": {},
   "outputs": [],
   "source": [
    "data[\"Возраст\"] = data[\"Возраст\"].astype(\"int\")"
   ]
  },
  {
   "cell_type": "code",
   "execution_count": 11,
   "metadata": {},
   "outputs": [
    {
     "name": "stdout",
     "output_type": "stream",
     "text": [
      "<class 'pandas.core.frame.DataFrame'>\n",
      "Int64Index: 4847 entries, 0 to 4999\n",
      "Data columns (total 5 columns):\n",
      " #   Column             Non-Null Count  Dtype  \n",
      "---  ------             --------------  -----  \n",
      " 0   Пол                4847 non-null   int64  \n",
      " 1   Возраст            4847 non-null   int64  \n",
      " 2   Зарплата           4847 non-null   float64\n",
      " 3   Члены семьи        4847 non-null   int64  \n",
      " 4   Страховые выплаты  4847 non-null   int64  \n",
      "dtypes: float64(1), int64(4)\n",
      "memory usage: 227.2 KB\n"
     ]
    }
   ],
   "source": [
    "data.info()"
   ]
  },
  {
   "cell_type": "markdown",
   "metadata": {},
   "source": [
    "### Вывод:"
   ]
  },
  {
   "cell_type": "markdown",
   "metadata": {},
   "source": [
    "* Все данные в датасете полностью заполнены. Пропусков нет.\n",
    "* Выявлены и удалены 153 дубликата.\n",
    "* Типы данных в столбце `Возраст` изменен на `int`."
   ]
  },
  {
   "cell_type": "markdown",
   "metadata": {},
   "source": [
    "## Умножение матриц"
   ]
  },
  {
   "cell_type": "markdown",
   "metadata": {},
   "source": [
    "В этом задании вы можете записывать формулы в *Jupyter Notebook.*\n",
    "\n",
    "Чтобы записать формулу внутри текста, окружите её символами доллара \\\\$; если снаружи —  двойными символами \\\\$\\\\$. Эти формулы записываются на языке вёрстки *LaTeX.* \n",
    "\n",
    "Для примера мы записали формулы линейной регрессии. Можете их скопировать и отредактировать, чтобы решить задачу.\n",
    "\n",
    "Работать в *LaTeX* необязательно."
   ]
  },
  {
   "cell_type": "markdown",
   "metadata": {},
   "source": [
    "Обозначения:\n",
    "\n",
    "- $X$ — матрица признаков (нулевой столбец состоит из единиц)\n",
    "\n",
    "- $y$ — вектор целевого признака\n",
    "\n",
    "- $P$ — матрица, на которую умножаются признаки\n",
    "\n",
    "- $w$ — вектор весов линейной регрессии (нулевой элемент равен сдвигу)"
   ]
  },
  {
   "cell_type": "markdown",
   "metadata": {},
   "source": [
    "Предсказания:\n",
    "\n",
    "$$\n",
    "a = Xw\n",
    "$$\n",
    "\n",
    "Задача обучения:\n",
    "\n",
    "$$\n",
    "w = \\arg\\min_w MSE(Xw, y)\n",
    "$$\n",
    "\n",
    "Формула обучения:\n",
    "\n",
    "$$\n",
    "w = (X^T X)^{-1} X^T y\n",
    "$$"
   ]
  },
  {
   "cell_type": "markdown",
   "metadata": {},
   "source": [
    "**Ответ:** При умножение признаки на обратимую матрицу - качество линейной регресии не изменится.\n",
    "\n",
    "**Обоснование:** \n",
    "\n",
    "Примем: \n",
    "$$\n",
    "a' = X'w\n",
    "$$\n",
    "\n",
    "$$\n",
    "X' = XZ\n",
    "$$\n",
    "\n",
    "где, Z - Обратная матрица\n",
    "\n",
    "\n",
    "Свойства, которые будут использоваться:\n",
    "\n",
    "$$\n",
    "AA^{-1} = A^{-1}A = E\n",
    "$$\n",
    "\n",
    "$$\n",
    "AE = EA = A\n",
    "$$\n",
    "\n",
    "$$\n",
    "(AB)^{-1} =B^{-1} A^{-1}\n",
    "$$\n",
    "\n",
    "$$\n",
    "(AB)^{T} = B^{T} A^{T}\n",
    "$$\n",
    "\n",
    "Подставим в a' формулу обучения:\n",
    "\n",
    "$$\n",
    "a' = X'(X'^{T}X)^{-1}X'^{T}y\n",
    "$$\n",
    "\n",
    "Подставим X':\n",
    "\n",
    "$$\n",
    "a' = XZ((XZ)^{T}XZ)^{-1}Z^{T}X^{T}y\n",
    "$$\n",
    "\n",
    "Раскроем скобки с помощью свойств матриц:\n",
    "\n",
    "$$\n",
    "a' = XZ(Z^{T}X^{T}XZ)^{-1}Z^{T}X^{T}y = XZZ^{-1}(Z^{T}X^{T}X)^{-1}Z^{T}X^{T}y\n",
    "$$\n",
    "\n",
    "$$\n",
    "ZZ^{-1} = E \n",
    "$$\n",
    "$$\n",
    "(Z^{T})^{-1}Z^{T} = E\n",
    "$$\n",
    "\n",
    "В итоге получается:\n",
    "\n",
    "$$\n",
    "a' = XE(Z^{T}X^{T}X)^{-1}Z^{T}X^{T}y = X(X^{T}X)^{-1}EX^{T}y = X(X^{T}X)^{-1}X^{T}y = Xw\n",
    "$$\n",
    "\n",
    "$$\n",
    "a = a'\n",
    "$$\n",
    "\n",
    "Таким образом, получается формулa, что и была в начале. Можно сделать вывод, что домножение признаков на обратимую матрицу не влияет на предсказание модели."
   ]
  },
  {
   "cell_type": "markdown",
   "metadata": {},
   "source": [
    "## Алгоритм преобразования"
   ]
  },
  {
   "cell_type": "markdown",
   "metadata": {},
   "source": [
    "**Алгоритм**\n",
    "\n",
    "1. Обучить модель без умножения на обратную матрицу.\n",
    "2. Получить значение R2\n",
    "3. Создать рандомную обратную матрицу и умножить ее на матрицу признаков\n",
    "4. Обучить модель\n",
    "5. Получить значение R2\n",
    "6. Сравнить R2. Они должны быть одинаковы. Если нет, то где-то ошибка"
   ]
  },
  {
   "cell_type": "markdown",
   "metadata": {},
   "source": [
    "**Обоснование**\n",
    "\n",
    "В прошлому пункте было доказано, что a = a'"
   ]
  },
  {
   "cell_type": "markdown",
   "metadata": {},
   "source": [
    "## Проверка алгоритма"
   ]
  },
  {
   "cell_type": "code",
   "execution_count": 12,
   "metadata": {},
   "outputs": [],
   "source": [
    "features = data.drop(['Страховые выплаты'], axis = 1)\n",
    "target = data['Страховые выплаты']"
   ]
  },
  {
   "cell_type": "code",
   "execution_count": 13,
   "metadata": {},
   "outputs": [
    {
     "data": {
      "text/plain": [
       "0.430201004"
      ]
     },
     "execution_count": 13,
     "metadata": {},
     "output_type": "execute_result"
    }
   ],
   "source": [
    "model =  LinearRegression()\n",
    "model.fit(features,target)\n",
    "prediction = model.predict(features)\n",
    "r2_first = r2_score(target,prediction).round(9)\n",
    "\n",
    "r2_first"
   ]
  },
  {
   "cell_type": "markdown",
   "metadata": {},
   "source": [
    "Для существования обратной матрицы необходимо и достаточно, чтобы матрица  была невырожденной, то есть, чтобы ее определитель не был равен нулю. Поэтому зададим определитель равный 0 и используем while. Как только определитель перестанет быть равным 0 - выход из цикла."
   ]
  },
  {
   "cell_type": "code",
   "execution_count": 14,
   "metadata": {},
   "outputs": [],
   "source": [
    "def matrica(i,j):\n",
    "    opr = 0 \n",
    "    matrica = 0\n",
    "    while opr == 0:\n",
    "        matrica = np.random.normal(size=(i, j))\n",
    "        opr = np.linalg.det(matrica)\n",
    "    return matrica"
   ]
  },
  {
   "cell_type": "code",
   "execution_count": 15,
   "metadata": {},
   "outputs": [
    {
     "data": {
      "text/plain": [
       "array([[ 0.64687708,  0.96179071,  0.72234788, -0.83917259],\n",
       "       [-0.34895054, -0.53073765,  1.07992796,  0.52360981],\n",
       "       [-1.94787615,  0.95348648,  0.36564884, -0.25092136],\n",
       "       [ 0.85828368,  0.2487998 , -0.80559439,  0.03153046]])"
      ]
     },
     "execution_count": 15,
     "metadata": {},
     "output_type": "execute_result"
    }
   ],
   "source": [
    "M = matrica(4,4)\n",
    "M"
   ]
  },
  {
   "cell_type": "code",
   "execution_count": 16,
   "metadata": {},
   "outputs": [],
   "source": [
    "features_new = features @ M"
   ]
  },
  {
   "cell_type": "code",
   "execution_count": 17,
   "metadata": {},
   "outputs": [
    {
     "data": {
      "text/plain": [
       "0.430201004"
      ]
     },
     "execution_count": 17,
     "metadata": {},
     "output_type": "execute_result"
    }
   ],
   "source": [
    "model =  LinearRegression()\n",
    "model.fit(features_new,target)\n",
    "prediction = model.predict(features_new)\n",
    "r2_second = r2_score(target,prediction).round(9)\n",
    "\n",
    "r2_second"
   ]
  },
  {
   "cell_type": "code",
   "execution_count": 18,
   "metadata": {
    "scrolled": true
   },
   "outputs": [
    {
     "name": "stdout",
     "output_type": "stream",
     "text": [
      "Метрики R2 обеих моделей одиннаковые\n"
     ]
    }
   ],
   "source": [
    "if r2_first == r2_second:\n",
    "    print(\"Метрики R2 обеих моделей одиннаковые\")\n",
    "else:\n",
    "    print(\"Ошибка\")"
   ]
  },
  {
   "cell_type": "code",
   "execution_count": 19,
   "metadata": {},
   "outputs": [
    {
     "data": {
      "text/html": [
       "<div>\n",
       "<style scoped>\n",
       "    .dataframe tbody tr th:only-of-type {\n",
       "        vertical-align: middle;\n",
       "    }\n",
       "\n",
       "    .dataframe tbody tr th {\n",
       "        vertical-align: top;\n",
       "    }\n",
       "\n",
       "    .dataframe thead th {\n",
       "        text-align: right;\n",
       "    }\n",
       "</style>\n",
       "<table border=\"1\" class=\"dataframe\">\n",
       "  <thead>\n",
       "    <tr style=\"text-align: right;\">\n",
       "      <th></th>\n",
       "      <th>R2</th>\n",
       "    </tr>\n",
       "  </thead>\n",
       "  <tbody>\n",
       "    <tr>\n",
       "      <th>Линейная регрессия</th>\n",
       "      <td>0.430201</td>\n",
       "    </tr>\n",
       "    <tr>\n",
       "      <th>Линейная регрессия на преобразованных признаках</th>\n",
       "      <td>0.430201</td>\n",
       "    </tr>\n",
       "  </tbody>\n",
       "</table>\n",
       "</div>"
      ],
      "text/plain": [
       "                                                       R2\n",
       "Линейная регрессия                               0.430201\n",
       "Линейная регрессия на преобразованных признаках  0.430201"
      ]
     },
     "execution_count": 19,
     "metadata": {},
     "output_type": "execute_result"
    }
   ],
   "source": [
    "result = pd.DataFrame(data= [r2_first,r2_second], \n",
    "                     columns=['R2'], \n",
    "                     index=['Линейная регрессия',\n",
    "                            'Линейная регрессия на преобразованных признаках'])\n",
    "\n",
    "result"
   ]
  },
  {
   "cell_type": "markdown",
   "metadata": {},
   "source": [
    "### Вывод:"
   ]
  },
  {
   "cell_type": "markdown",
   "metadata": {},
   "source": [
    "Метрики R2 обеих моделей одиннаковые, следовательно, умножение исходных данных на случайную обратимую матрицу может быть применено для их шифрования."
   ]
  },
  {
   "cell_type": "markdown",
   "metadata": {},
   "source": [
    "## Вывод:"
   ]
  },
  {
   "cell_type": "markdown",
   "metadata": {},
   "source": [
    "1. Были изучены полученные данные. В результате выявлены дубликаты. Пропусков не обнаружено;\n",
    "2. Удалены дубликаты и изменен тип данных в столбце `Возраст` на `int`;\n",
    "3. Составлен алгоритм преобразования и доказано, что домножение признаков на обратимую матрицу не влияет на предсказание модели;\n",
    "4. Проверен алгоритм. В итоге метрики R2 до и после преобразовния получились одинаковые. Следовательно, умножение исходных данных на случайную обратимую матрицу может быть применено для шифрования."
   ]
  }
 ],
 "metadata": {
  "ExecuteTimeLog": [
   {
    "duration": 379,
    "start_time": "2022-06-14T16:44:41.150Z"
   },
   {
    "duration": 74,
    "start_time": "2022-06-14T16:44:48.480Z"
   },
   {
    "duration": 14,
    "start_time": "2022-06-14T16:44:55.306Z"
   },
   {
    "duration": 17,
    "start_time": "2022-06-14T16:45:05.924Z"
   },
   {
    "duration": 7,
    "start_time": "2022-06-14T16:45:54.409Z"
   },
   {
    "duration": 7,
    "start_time": "2022-06-14T16:46:04.221Z"
   },
   {
    "duration": 5,
    "start_time": "2022-06-14T16:49:44.367Z"
   },
   {
    "duration": 6,
    "start_time": "2022-06-14T16:49:49.453Z"
   },
   {
    "duration": 65,
    "start_time": "2022-06-14T16:49:57.176Z"
   },
   {
    "duration": 7,
    "start_time": "2022-06-14T16:50:03.103Z"
   },
   {
    "duration": 8,
    "start_time": "2022-06-14T16:50:19.077Z"
   },
   {
    "duration": 375,
    "start_time": "2022-06-14T16:50:23.167Z"
   },
   {
    "duration": 28,
    "start_time": "2022-06-14T16:50:23.544Z"
   },
   {
    "duration": 12,
    "start_time": "2022-06-14T16:50:23.573Z"
   },
   {
    "duration": 18,
    "start_time": "2022-06-14T16:50:23.586Z"
   },
   {
    "duration": 10,
    "start_time": "2022-06-14T16:50:23.606Z"
   },
   {
    "duration": 19,
    "start_time": "2022-06-14T16:50:23.618Z"
   },
   {
    "duration": 6,
    "start_time": "2022-06-14T16:50:23.639Z"
   },
   {
    "duration": 7,
    "start_time": "2022-06-14T16:50:23.647Z"
   },
   {
    "duration": 10,
    "start_time": "2022-06-14T16:50:23.656Z"
   },
   {
    "duration": 9,
    "start_time": "2022-06-14T16:50:40.162Z"
   },
   {
    "duration": 425,
    "start_time": "2022-06-14T16:50:47.027Z"
   },
   {
    "duration": 28,
    "start_time": "2022-06-14T16:50:47.454Z"
   },
   {
    "duration": 12,
    "start_time": "2022-06-14T16:50:47.483Z"
   },
   {
    "duration": 22,
    "start_time": "2022-06-14T16:50:47.497Z"
   },
   {
    "duration": 20,
    "start_time": "2022-06-14T16:50:47.521Z"
   },
   {
    "duration": 29,
    "start_time": "2022-06-14T16:50:47.543Z"
   },
   {
    "duration": 7,
    "start_time": "2022-06-14T16:50:47.574Z"
   },
   {
    "duration": 17,
    "start_time": "2022-06-14T16:50:47.583Z"
   },
   {
    "duration": 16,
    "start_time": "2022-06-14T16:50:47.602Z"
   },
   {
    "duration": 7,
    "start_time": "2022-06-14T16:57:30.999Z"
   },
   {
    "duration": 7,
    "start_time": "2022-06-14T16:58:34.550Z"
   },
   {
    "duration": 59,
    "start_time": "2022-06-14T16:58:52.565Z"
   },
   {
    "duration": 571,
    "start_time": "2022-06-14T16:59:07.108Z"
   },
   {
    "duration": 514,
    "start_time": "2022-06-14T16:59:26.423Z"
   },
   {
    "duration": 54,
    "start_time": "2022-06-14T16:59:39.006Z"
   },
   {
    "duration": 4,
    "start_time": "2022-06-14T17:00:51.123Z"
   },
   {
    "duration": 12,
    "start_time": "2022-06-14T17:01:02.645Z"
   },
   {
    "duration": 64,
    "start_time": "2022-06-14T17:01:11.515Z"
   },
   {
    "duration": 4,
    "start_time": "2022-06-14T17:01:18.494Z"
   },
   {
    "duration": 425,
    "start_time": "2022-06-14T17:01:46.222Z"
   },
   {
    "duration": 28,
    "start_time": "2022-06-14T17:01:46.649Z"
   },
   {
    "duration": 11,
    "start_time": "2022-06-14T17:01:46.681Z"
   },
   {
    "duration": 22,
    "start_time": "2022-06-14T17:01:46.694Z"
   },
   {
    "duration": 12,
    "start_time": "2022-06-14T17:01:46.718Z"
   },
   {
    "duration": 29,
    "start_time": "2022-06-14T17:01:46.731Z"
   },
   {
    "duration": 16,
    "start_time": "2022-06-14T17:01:46.762Z"
   },
   {
    "duration": 11,
    "start_time": "2022-06-14T17:01:46.780Z"
   },
   {
    "duration": 14,
    "start_time": "2022-06-14T17:01:46.792Z"
   },
   {
    "duration": 6,
    "start_time": "2022-06-14T17:01:46.807Z"
   },
   {
    "duration": 12,
    "start_time": "2022-06-14T17:01:46.815Z"
   },
   {
    "duration": 60,
    "start_time": "2022-06-15T17:02:50.367Z"
   },
   {
    "duration": 1248,
    "start_time": "2022-06-15T17:02:55.308Z"
   },
   {
    "duration": 0,
    "start_time": "2022-06-15T17:02:56.560Z"
   },
   {
    "duration": 0,
    "start_time": "2022-06-15T17:02:56.562Z"
   },
   {
    "duration": 0,
    "start_time": "2022-06-15T17:02:56.563Z"
   },
   {
    "duration": 0,
    "start_time": "2022-06-15T17:02:56.564Z"
   },
   {
    "duration": 0,
    "start_time": "2022-06-15T17:02:56.565Z"
   },
   {
    "duration": 0,
    "start_time": "2022-06-15T17:02:56.566Z"
   },
   {
    "duration": 0,
    "start_time": "2022-06-15T17:02:56.567Z"
   },
   {
    "duration": 0,
    "start_time": "2022-06-15T17:02:56.568Z"
   },
   {
    "duration": 0,
    "start_time": "2022-06-15T17:02:56.569Z"
   },
   {
    "duration": 0,
    "start_time": "2022-06-15T17:02:56.570Z"
   },
   {
    "duration": 0,
    "start_time": "2022-06-15T17:02:56.571Z"
   },
   {
    "duration": 1163,
    "start_time": "2022-06-15T17:03:14.224Z"
   },
   {
    "duration": 81,
    "start_time": "2022-06-15T17:03:15.390Z"
   },
   {
    "duration": 13,
    "start_time": "2022-06-15T17:03:15.474Z"
   },
   {
    "duration": 30,
    "start_time": "2022-06-15T17:03:15.489Z"
   },
   {
    "duration": 7,
    "start_time": "2022-06-15T17:03:15.521Z"
   },
   {
    "duration": 21,
    "start_time": "2022-06-15T17:03:15.530Z"
   },
   {
    "duration": 12,
    "start_time": "2022-06-15T17:03:15.552Z"
   },
   {
    "duration": 23,
    "start_time": "2022-06-15T17:03:15.566Z"
   },
   {
    "duration": 8,
    "start_time": "2022-06-15T17:03:15.591Z"
   },
   {
    "duration": 7,
    "start_time": "2022-06-15T17:03:15.602Z"
   },
   {
    "duration": 13,
    "start_time": "2022-06-15T17:03:15.611Z"
   },
   {
    "duration": 116,
    "start_time": "2022-06-15T17:03:15.626Z"
   },
   {
    "duration": 5,
    "start_time": "2022-06-15T17:03:22.684Z"
   },
   {
    "duration": 127,
    "start_time": "2022-06-15T17:03:45.341Z"
   },
   {
    "duration": 16,
    "start_time": "2022-06-15T17:04:01.892Z"
   },
   {
    "duration": 13,
    "start_time": "2022-06-15T17:04:05.695Z"
   },
   {
    "duration": 13,
    "start_time": "2022-06-15T17:04:13.214Z"
   },
   {
    "duration": 5,
    "start_time": "2022-06-15T17:21:36.211Z"
   },
   {
    "duration": 4,
    "start_time": "2022-06-15T17:23:34.331Z"
   },
   {
    "duration": 6,
    "start_time": "2022-06-15T17:23:53.495Z"
   },
   {
    "duration": 5,
    "start_time": "2022-06-15T17:23:55.690Z"
   },
   {
    "duration": 5,
    "start_time": "2022-06-15T17:23:55.900Z"
   },
   {
    "duration": 6,
    "start_time": "2022-06-15T17:23:57.924Z"
   },
   {
    "duration": 1312,
    "start_time": "2022-06-15T17:25:01.194Z"
   },
   {
    "duration": 36,
    "start_time": "2022-06-15T17:25:02.509Z"
   },
   {
    "duration": 41,
    "start_time": "2022-06-15T17:25:02.547Z"
   },
   {
    "duration": 49,
    "start_time": "2022-06-15T17:25:02.602Z"
   },
   {
    "duration": 48,
    "start_time": "2022-06-15T17:25:02.654Z"
   },
   {
    "duration": 51,
    "start_time": "2022-06-15T17:25:02.704Z"
   },
   {
    "duration": 63,
    "start_time": "2022-06-15T17:25:02.758Z"
   },
   {
    "duration": 25,
    "start_time": "2022-06-15T17:25:02.825Z"
   },
   {
    "duration": 59,
    "start_time": "2022-06-15T17:25:02.855Z"
   },
   {
    "duration": 6,
    "start_time": "2022-06-15T17:25:02.916Z"
   },
   {
    "duration": 16,
    "start_time": "2022-06-15T17:25:02.924Z"
   },
   {
    "duration": 6,
    "start_time": "2022-06-15T17:25:02.942Z"
   },
   {
    "duration": 65,
    "start_time": "2022-06-15T17:25:02.950Z"
   },
   {
    "duration": 19,
    "start_time": "2022-06-15T17:25:03.072Z"
   },
   {
    "duration": 95,
    "start_time": "2022-06-15T17:25:03.093Z"
   },
   {
    "duration": 33,
    "start_time": "2022-06-15T17:25:03.191Z"
   },
   {
    "duration": 98,
    "start_time": "2022-06-15T17:25:03.227Z"
   },
   {
    "duration": 1130,
    "start_time": "2022-06-15T17:26:32.295Z"
   },
   {
    "duration": 28,
    "start_time": "2022-06-15T17:26:33.427Z"
   },
   {
    "duration": 24,
    "start_time": "2022-06-15T17:26:33.457Z"
   },
   {
    "duration": 28,
    "start_time": "2022-06-15T17:26:33.484Z"
   },
   {
    "duration": 6,
    "start_time": "2022-06-15T17:26:33.516Z"
   },
   {
    "duration": 35,
    "start_time": "2022-06-15T17:26:33.525Z"
   },
   {
    "duration": 15,
    "start_time": "2022-06-15T17:26:33.562Z"
   },
   {
    "duration": 18,
    "start_time": "2022-06-15T17:26:33.579Z"
   },
   {
    "duration": 7,
    "start_time": "2022-06-15T17:26:33.599Z"
   },
   {
    "duration": 4,
    "start_time": "2022-06-15T17:26:33.608Z"
   },
   {
    "duration": 13,
    "start_time": "2022-06-15T17:26:33.614Z"
   },
   {
    "duration": 35,
    "start_time": "2022-06-15T17:26:33.629Z"
   },
   {
    "duration": 90,
    "start_time": "2022-06-15T17:26:33.673Z"
   },
   {
    "duration": 104,
    "start_time": "2022-06-15T17:26:33.766Z"
   },
   {
    "duration": 21,
    "start_time": "2022-06-15T17:26:33.873Z"
   },
   {
    "duration": 5,
    "start_time": "2022-06-15T17:26:33.896Z"
   },
   {
    "duration": 13,
    "start_time": "2022-06-15T17:26:33.903Z"
   },
   {
    "duration": 154,
    "start_time": "2022-06-15T17:26:33.918Z"
   },
   {
    "duration": 1194,
    "start_time": "2022-06-15T17:28:21.784Z"
   },
   {
    "duration": 28,
    "start_time": "2022-06-15T17:28:22.982Z"
   },
   {
    "duration": 13,
    "start_time": "2022-06-15T17:28:23.012Z"
   },
   {
    "duration": 20,
    "start_time": "2022-06-15T17:28:23.027Z"
   },
   {
    "duration": 10,
    "start_time": "2022-06-15T17:28:23.050Z"
   },
   {
    "duration": 19,
    "start_time": "2022-06-15T17:28:23.065Z"
   },
   {
    "duration": 7,
    "start_time": "2022-06-15T17:28:23.087Z"
   },
   {
    "duration": 7,
    "start_time": "2022-06-15T17:28:23.096Z"
   },
   {
    "duration": 8,
    "start_time": "2022-06-15T17:28:23.106Z"
   },
   {
    "duration": 6,
    "start_time": "2022-06-15T17:28:23.116Z"
   },
   {
    "duration": 59,
    "start_time": "2022-06-15T17:28:23.124Z"
   },
   {
    "duration": 5,
    "start_time": "2022-06-15T17:28:23.187Z"
   },
   {
    "duration": 80,
    "start_time": "2022-06-15T17:28:23.194Z"
   },
   {
    "duration": 68,
    "start_time": "2022-06-15T17:28:23.293Z"
   },
   {
    "duration": 35,
    "start_time": "2022-06-15T17:28:23.363Z"
   },
   {
    "duration": 9,
    "start_time": "2022-06-15T17:28:23.400Z"
   },
   {
    "duration": 72,
    "start_time": "2022-06-15T17:28:23.412Z"
   },
   {
    "duration": 20,
    "start_time": "2022-06-15T17:28:23.560Z"
   },
   {
    "duration": 1157,
    "start_time": "2022-06-15T17:28:29.736Z"
   },
   {
    "duration": 26,
    "start_time": "2022-06-15T17:28:30.895Z"
   },
   {
    "duration": 26,
    "start_time": "2022-06-15T17:28:30.923Z"
   },
   {
    "duration": 51,
    "start_time": "2022-06-15T17:28:30.951Z"
   },
   {
    "duration": 18,
    "start_time": "2022-06-15T17:28:31.005Z"
   },
   {
    "duration": 70,
    "start_time": "2022-06-15T17:28:31.025Z"
   },
   {
    "duration": 19,
    "start_time": "2022-06-15T17:28:31.098Z"
   },
   {
    "duration": 27,
    "start_time": "2022-06-15T17:28:31.119Z"
   },
   {
    "duration": 22,
    "start_time": "2022-06-15T17:28:31.147Z"
   },
   {
    "duration": 24,
    "start_time": "2022-06-15T17:28:31.171Z"
   },
   {
    "duration": 40,
    "start_time": "2022-06-15T17:28:31.197Z"
   },
   {
    "duration": 37,
    "start_time": "2022-06-15T17:28:31.239Z"
   },
   {
    "duration": 98,
    "start_time": "2022-06-15T17:28:31.278Z"
   },
   {
    "duration": 81,
    "start_time": "2022-06-15T17:28:31.385Z"
   },
   {
    "duration": 54,
    "start_time": "2022-06-15T17:28:31.468Z"
   },
   {
    "duration": 28,
    "start_time": "2022-06-15T17:28:31.523Z"
   },
   {
    "duration": 35,
    "start_time": "2022-06-15T17:28:31.553Z"
   },
   {
    "duration": 171,
    "start_time": "2022-06-15T17:28:31.590Z"
   },
   {
    "duration": 4,
    "start_time": "2022-06-15T17:29:15.262Z"
   },
   {
    "duration": 1473,
    "start_time": "2022-06-15T17:35:04.705Z"
   },
   {
    "duration": 33,
    "start_time": "2022-06-15T17:35:06.186Z"
   },
   {
    "duration": 20,
    "start_time": "2022-06-15T17:35:06.221Z"
   },
   {
    "duration": 37,
    "start_time": "2022-06-15T17:35:06.250Z"
   },
   {
    "duration": 53,
    "start_time": "2022-06-15T17:35:06.290Z"
   },
   {
    "duration": 27,
    "start_time": "2022-06-15T17:35:06.346Z"
   },
   {
    "duration": 36,
    "start_time": "2022-06-15T17:35:06.376Z"
   },
   {
    "duration": 7,
    "start_time": "2022-06-15T17:35:06.415Z"
   },
   {
    "duration": 16,
    "start_time": "2022-06-15T17:35:06.424Z"
   },
   {
    "duration": 10,
    "start_time": "2022-06-15T17:35:06.442Z"
   },
   {
    "duration": 60,
    "start_time": "2022-06-15T17:35:06.455Z"
   },
   {
    "duration": 6,
    "start_time": "2022-06-15T17:35:06.517Z"
   },
   {
    "duration": 161,
    "start_time": "2022-06-15T17:35:06.526Z"
   },
   {
    "duration": 14,
    "start_time": "2022-06-15T17:35:06.690Z"
   },
   {
    "duration": 20,
    "start_time": "2022-06-15T17:35:06.707Z"
   },
   {
    "duration": 13,
    "start_time": "2022-06-15T17:35:06.729Z"
   },
   {
    "duration": 164,
    "start_time": "2022-06-15T17:35:06.746Z"
   },
   {
    "duration": 81,
    "start_time": "2022-06-15T17:35:06.913Z"
   },
   {
    "duration": 1208,
    "start_time": "2022-06-15T17:35:45.016Z"
   },
   {
    "duration": 30,
    "start_time": "2022-06-15T17:35:46.227Z"
   },
   {
    "duration": 34,
    "start_time": "2022-06-15T17:35:46.260Z"
   },
   {
    "duration": 30,
    "start_time": "2022-06-15T17:35:46.297Z"
   },
   {
    "duration": 12,
    "start_time": "2022-06-15T17:35:46.330Z"
   },
   {
    "duration": 26,
    "start_time": "2022-06-15T17:35:46.345Z"
   },
   {
    "duration": 26,
    "start_time": "2022-06-15T17:35:46.375Z"
   },
   {
    "duration": 8,
    "start_time": "2022-06-15T17:35:46.403Z"
   },
   {
    "duration": 9,
    "start_time": "2022-06-15T17:35:46.413Z"
   },
   {
    "duration": 5,
    "start_time": "2022-06-15T17:35:46.426Z"
   },
   {
    "duration": 28,
    "start_time": "2022-06-15T17:35:46.434Z"
   },
   {
    "duration": 10,
    "start_time": "2022-06-15T17:35:46.464Z"
   },
   {
    "duration": 82,
    "start_time": "2022-06-15T17:35:46.480Z"
   },
   {
    "duration": 79,
    "start_time": "2022-06-15T17:35:46.581Z"
   },
   {
    "duration": 18,
    "start_time": "2022-06-15T17:35:46.662Z"
   },
   {
    "duration": 171,
    "start_time": "2022-06-15T17:35:46.685Z"
   },
   {
    "duration": 0,
    "start_time": "2022-06-15T17:35:46.878Z"
   },
   {
    "duration": 0,
    "start_time": "2022-06-15T17:35:46.880Z"
   },
   {
    "duration": 1211,
    "start_time": "2022-06-15T17:35:57.773Z"
   },
   {
    "duration": 43,
    "start_time": "2022-06-15T17:35:58.986Z"
   },
   {
    "duration": 15,
    "start_time": "2022-06-15T17:35:59.031Z"
   },
   {
    "duration": 36,
    "start_time": "2022-06-15T17:35:59.048Z"
   },
   {
    "duration": 11,
    "start_time": "2022-06-15T17:35:59.087Z"
   },
   {
    "duration": 16,
    "start_time": "2022-06-15T17:35:59.100Z"
   },
   {
    "duration": 6,
    "start_time": "2022-06-15T17:35:59.118Z"
   },
   {
    "duration": 8,
    "start_time": "2022-06-15T17:35:59.126Z"
   },
   {
    "duration": 31,
    "start_time": "2022-06-15T17:35:59.135Z"
   },
   {
    "duration": 7,
    "start_time": "2022-06-15T17:35:59.169Z"
   },
   {
    "duration": 20,
    "start_time": "2022-06-15T17:35:59.183Z"
   },
   {
    "duration": 7,
    "start_time": "2022-06-15T17:35:59.205Z"
   },
   {
    "duration": 146,
    "start_time": "2022-06-15T17:35:59.214Z"
   },
   {
    "duration": 5,
    "start_time": "2022-06-15T17:35:59.362Z"
   },
   {
    "duration": 36,
    "start_time": "2022-06-15T17:35:59.369Z"
   },
   {
    "duration": 8,
    "start_time": "2022-06-15T17:35:59.407Z"
   },
   {
    "duration": 71,
    "start_time": "2022-06-15T17:35:59.417Z"
   },
   {
    "duration": 105,
    "start_time": "2022-06-15T17:35:59.493Z"
   },
   {
    "duration": 944,
    "start_time": "2022-06-16T02:04:43.816Z"
   },
   {
    "duration": 28,
    "start_time": "2022-06-16T02:04:44.762Z"
   },
   {
    "duration": 11,
    "start_time": "2022-06-16T02:04:44.792Z"
   },
   {
    "duration": 15,
    "start_time": "2022-06-16T02:04:44.805Z"
   },
   {
    "duration": 4,
    "start_time": "2022-06-16T02:04:44.822Z"
   },
   {
    "duration": 10,
    "start_time": "2022-06-16T02:04:44.828Z"
   },
   {
    "duration": 6,
    "start_time": "2022-06-16T02:04:44.840Z"
   },
   {
    "duration": 7,
    "start_time": "2022-06-16T02:04:44.847Z"
   },
   {
    "duration": 13,
    "start_time": "2022-06-16T02:04:44.855Z"
   },
   {
    "duration": 3,
    "start_time": "2022-06-16T02:04:44.870Z"
   },
   {
    "duration": 12,
    "start_time": "2022-06-16T02:04:44.875Z"
   },
   {
    "duration": 4,
    "start_time": "2022-06-16T02:04:44.888Z"
   },
   {
    "duration": 37,
    "start_time": "2022-06-16T02:04:44.893Z"
   },
   {
    "duration": 4,
    "start_time": "2022-06-16T02:04:44.932Z"
   },
   {
    "duration": 93,
    "start_time": "2022-06-16T02:04:44.938Z"
   },
   {
    "duration": 18,
    "start_time": "2022-06-16T02:04:45.032Z"
   },
   {
    "duration": 74,
    "start_time": "2022-06-16T02:04:45.052Z"
   },
   {
    "duration": 104,
    "start_time": "2022-06-16T02:04:45.128Z"
   },
   {
    "duration": 1046,
    "start_time": "2022-06-16T07:51:56.324Z"
   },
   {
    "duration": 77,
    "start_time": "2022-06-16T07:51:57.372Z"
   },
   {
    "duration": 13,
    "start_time": "2022-06-16T07:51:57.450Z"
   },
   {
    "duration": 24,
    "start_time": "2022-06-16T07:51:57.465Z"
   },
   {
    "duration": 5,
    "start_time": "2022-06-16T07:51:57.491Z"
   },
   {
    "duration": 13,
    "start_time": "2022-06-16T07:51:57.498Z"
   },
   {
    "duration": 9,
    "start_time": "2022-06-16T07:51:57.513Z"
   },
   {
    "duration": 9,
    "start_time": "2022-06-16T07:51:57.525Z"
   },
   {
    "duration": 11,
    "start_time": "2022-06-16T07:51:57.536Z"
   },
   {
    "duration": 11,
    "start_time": "2022-06-16T07:51:57.549Z"
   },
   {
    "duration": 15,
    "start_time": "2022-06-16T07:51:57.562Z"
   },
   {
    "duration": 4,
    "start_time": "2022-06-16T07:51:57.579Z"
   },
   {
    "duration": 43,
    "start_time": "2022-06-16T07:51:57.585Z"
   },
   {
    "duration": 4,
    "start_time": "2022-06-16T07:51:57.630Z"
   },
   {
    "duration": 117,
    "start_time": "2022-06-16T07:51:57.636Z"
   },
   {
    "duration": 7,
    "start_time": "2022-06-16T07:51:57.754Z"
   },
   {
    "duration": 64,
    "start_time": "2022-06-16T07:51:57.762Z"
   },
   {
    "duration": 111,
    "start_time": "2022-06-16T07:51:57.829Z"
   },
   {
    "duration": 1079,
    "start_time": "2022-06-16T07:52:09.905Z"
   },
   {
    "duration": 30,
    "start_time": "2022-06-16T07:52:10.987Z"
   },
   {
    "duration": 11,
    "start_time": "2022-06-16T07:52:11.018Z"
   },
   {
    "duration": 14,
    "start_time": "2022-06-16T07:52:11.032Z"
   },
   {
    "duration": 6,
    "start_time": "2022-06-16T07:52:11.048Z"
   },
   {
    "duration": 16,
    "start_time": "2022-06-16T07:52:11.055Z"
   },
   {
    "duration": 6,
    "start_time": "2022-06-16T07:52:11.073Z"
   },
   {
    "duration": 7,
    "start_time": "2022-06-16T07:52:11.080Z"
   },
   {
    "duration": 33,
    "start_time": "2022-06-16T07:52:11.089Z"
   },
   {
    "duration": 17,
    "start_time": "2022-06-16T07:52:11.126Z"
   },
   {
    "duration": 16,
    "start_time": "2022-06-16T07:52:11.145Z"
   },
   {
    "duration": 6,
    "start_time": "2022-06-16T07:52:11.163Z"
   },
   {
    "duration": 156,
    "start_time": "2022-06-16T07:52:11.171Z"
   },
   {
    "duration": 4,
    "start_time": "2022-06-16T07:52:11.329Z"
   },
   {
    "duration": 13,
    "start_time": "2022-06-16T07:52:11.335Z"
   },
   {
    "duration": 10,
    "start_time": "2022-06-16T07:52:11.350Z"
   },
   {
    "duration": 67,
    "start_time": "2022-06-16T07:52:11.362Z"
   },
   {
    "duration": 97,
    "start_time": "2022-06-16T07:52:11.431Z"
   },
   {
    "duration": 8,
    "start_time": "2022-06-16T07:53:44.267Z"
   },
   {
    "duration": 1032,
    "start_time": "2022-06-16T07:54:12.847Z"
   },
   {
    "duration": 28,
    "start_time": "2022-06-16T07:54:13.882Z"
   },
   {
    "duration": 11,
    "start_time": "2022-06-16T07:54:13.912Z"
   },
   {
    "duration": 14,
    "start_time": "2022-06-16T07:54:13.926Z"
   },
   {
    "duration": 16,
    "start_time": "2022-06-16T07:54:13.941Z"
   },
   {
    "duration": 16,
    "start_time": "2022-06-16T07:54:13.959Z"
   },
   {
    "duration": 25,
    "start_time": "2022-06-16T07:54:13.977Z"
   },
   {
    "duration": 11,
    "start_time": "2022-06-16T07:54:14.004Z"
   },
   {
    "duration": 12,
    "start_time": "2022-06-16T07:54:14.017Z"
   },
   {
    "duration": 5,
    "start_time": "2022-06-16T07:54:14.032Z"
   },
   {
    "duration": 15,
    "start_time": "2022-06-16T07:54:14.039Z"
   },
   {
    "duration": 4,
    "start_time": "2022-06-16T07:54:14.056Z"
   },
   {
    "duration": 69,
    "start_time": "2022-06-16T07:54:14.061Z"
   },
   {
    "duration": 99,
    "start_time": "2022-06-16T07:54:14.132Z"
   },
   {
    "duration": 9,
    "start_time": "2022-06-16T07:54:14.233Z"
   },
   {
    "duration": 8,
    "start_time": "2022-06-16T07:54:14.243Z"
   },
   {
    "duration": 79,
    "start_time": "2022-06-16T07:54:14.252Z"
   },
   {
    "duration": 107,
    "start_time": "2022-06-16T07:54:14.333Z"
   },
   {
    "duration": 28,
    "start_time": "2022-06-16T07:54:14.442Z"
   },
   {
    "duration": 1078,
    "start_time": "2022-06-16T07:57:06.300Z"
   },
   {
    "duration": 29,
    "start_time": "2022-06-16T07:57:07.380Z"
   },
   {
    "duration": 12,
    "start_time": "2022-06-16T07:57:07.411Z"
   },
   {
    "duration": 21,
    "start_time": "2022-06-16T07:57:07.424Z"
   },
   {
    "duration": 6,
    "start_time": "2022-06-16T07:57:07.447Z"
   },
   {
    "duration": 11,
    "start_time": "2022-06-16T07:57:07.455Z"
   },
   {
    "duration": 6,
    "start_time": "2022-06-16T07:57:07.468Z"
   },
   {
    "duration": 8,
    "start_time": "2022-06-16T07:57:07.475Z"
   },
   {
    "duration": 7,
    "start_time": "2022-06-16T07:57:07.485Z"
   },
   {
    "duration": 31,
    "start_time": "2022-06-16T07:57:07.495Z"
   },
   {
    "duration": 18,
    "start_time": "2022-06-16T07:57:07.528Z"
   },
   {
    "duration": 5,
    "start_time": "2022-06-16T07:57:07.548Z"
   },
   {
    "duration": 74,
    "start_time": "2022-06-16T07:57:07.554Z"
   },
   {
    "duration": 97,
    "start_time": "2022-06-16T07:57:07.630Z"
   },
   {
    "duration": 8,
    "start_time": "2022-06-16T07:57:07.730Z"
   },
   {
    "duration": 15,
    "start_time": "2022-06-16T07:57:07.740Z"
   },
   {
    "duration": 13,
    "start_time": "2022-06-16T07:57:07.757Z"
   },
   {
    "duration": 156,
    "start_time": "2022-06-16T07:57:07.772Z"
   },
   {
    "duration": 13,
    "start_time": "2022-06-16T07:57:07.930Z"
   },
   {
    "duration": 3,
    "start_time": "2022-06-16T07:57:29.419Z"
   },
   {
    "duration": 8,
    "start_time": "2022-06-16T07:57:29.960Z"
   },
   {
    "duration": 1168,
    "start_time": "2022-06-16T07:57:35.386Z"
   },
   {
    "duration": 37,
    "start_time": "2022-06-16T07:57:36.556Z"
   },
   {
    "duration": 16,
    "start_time": "2022-06-16T07:57:36.595Z"
   },
   {
    "duration": 15,
    "start_time": "2022-06-16T07:57:36.614Z"
   },
   {
    "duration": 12,
    "start_time": "2022-06-16T07:57:36.631Z"
   },
   {
    "duration": 16,
    "start_time": "2022-06-16T07:57:36.645Z"
   },
   {
    "duration": 8,
    "start_time": "2022-06-16T07:57:36.663Z"
   },
   {
    "duration": 17,
    "start_time": "2022-06-16T07:57:36.673Z"
   },
   {
    "duration": 13,
    "start_time": "2022-06-16T07:57:36.692Z"
   },
   {
    "duration": 11,
    "start_time": "2022-06-16T07:57:36.707Z"
   },
   {
    "duration": 15,
    "start_time": "2022-06-16T07:57:36.720Z"
   },
   {
    "duration": 18,
    "start_time": "2022-06-16T07:57:36.736Z"
   },
   {
    "duration": 72,
    "start_time": "2022-06-16T07:57:36.755Z"
   },
   {
    "duration": 4,
    "start_time": "2022-06-16T07:57:36.830Z"
   },
   {
    "duration": 103,
    "start_time": "2022-06-16T07:57:36.836Z"
   },
   {
    "duration": 9,
    "start_time": "2022-06-16T07:57:36.941Z"
   },
   {
    "duration": 38,
    "start_time": "2022-06-16T07:57:36.952Z"
   },
   {
    "duration": 101,
    "start_time": "2022-06-16T07:57:37.028Z"
   },
   {
    "duration": 25,
    "start_time": "2022-06-16T07:57:37.132Z"
   },
   {
    "duration": 13,
    "start_time": "2022-06-16T07:57:55.514Z"
   },
   {
    "duration": 7,
    "start_time": "2022-06-16T07:57:55.727Z"
   },
   {
    "duration": 8,
    "start_time": "2022-06-16T07:57:56.322Z"
   },
   {
    "duration": 1038,
    "start_time": "2022-06-16T07:58:19.302Z"
   },
   {
    "duration": 30,
    "start_time": "2022-06-16T07:58:20.342Z"
   },
   {
    "duration": 13,
    "start_time": "2022-06-16T07:58:20.373Z"
   },
   {
    "duration": 18,
    "start_time": "2022-06-16T07:58:20.388Z"
   },
   {
    "duration": 15,
    "start_time": "2022-06-16T07:58:20.408Z"
   },
   {
    "duration": 24,
    "start_time": "2022-06-16T07:58:20.425Z"
   },
   {
    "duration": 14,
    "start_time": "2022-06-16T07:58:20.450Z"
   },
   {
    "duration": 8,
    "start_time": "2022-06-16T07:58:20.465Z"
   },
   {
    "duration": 10,
    "start_time": "2022-06-16T07:58:20.475Z"
   },
   {
    "duration": 6,
    "start_time": "2022-06-16T07:58:20.488Z"
   },
   {
    "duration": 14,
    "start_time": "2022-06-16T07:58:20.496Z"
   },
   {
    "duration": 4,
    "start_time": "2022-06-16T07:58:20.512Z"
   },
   {
    "duration": 14,
    "start_time": "2022-06-16T07:58:20.525Z"
   },
   {
    "duration": 189,
    "start_time": "2022-06-16T07:58:20.544Z"
   },
   {
    "duration": 13,
    "start_time": "2022-06-16T07:58:20.735Z"
   },
   {
    "duration": 7,
    "start_time": "2022-06-16T07:58:20.749Z"
   },
   {
    "duration": 15,
    "start_time": "2022-06-16T07:58:20.757Z"
   },
   {
    "duration": 7,
    "start_time": "2022-06-16T07:58:20.828Z"
   },
   {
    "duration": 101,
    "start_time": "2022-06-16T07:58:20.838Z"
   },
   {
    "duration": 1025,
    "start_time": "2022-06-16T07:58:50.965Z"
   },
   {
    "duration": 30,
    "start_time": "2022-06-16T07:58:51.995Z"
   },
   {
    "duration": 13,
    "start_time": "2022-06-16T07:58:52.027Z"
   },
   {
    "duration": 27,
    "start_time": "2022-06-16T07:58:52.042Z"
   },
   {
    "duration": 8,
    "start_time": "2022-06-16T07:58:52.071Z"
   },
   {
    "duration": 29,
    "start_time": "2022-06-16T07:58:52.081Z"
   },
   {
    "duration": 18,
    "start_time": "2022-06-16T07:58:52.112Z"
   },
   {
    "duration": 33,
    "start_time": "2022-06-16T07:58:52.132Z"
   },
   {
    "duration": 14,
    "start_time": "2022-06-16T07:58:52.168Z"
   },
   {
    "duration": 23,
    "start_time": "2022-06-16T07:58:52.184Z"
   },
   {
    "duration": 16,
    "start_time": "2022-06-16T07:58:52.209Z"
   },
   {
    "duration": 13,
    "start_time": "2022-06-16T07:58:52.226Z"
   },
   {
    "duration": 89,
    "start_time": "2022-06-16T07:58:52.240Z"
   },
   {
    "duration": 120,
    "start_time": "2022-06-16T07:58:52.331Z"
   },
   {
    "duration": 20,
    "start_time": "2022-06-16T07:58:52.453Z"
   },
   {
    "duration": 10,
    "start_time": "2022-06-16T07:58:52.475Z"
   },
   {
    "duration": 30,
    "start_time": "2022-06-16T07:58:52.487Z"
   },
   {
    "duration": 125,
    "start_time": "2022-06-16T07:58:52.528Z"
   },
   {
    "duration": 73,
    "start_time": "2022-06-16T07:58:52.655Z"
   },
   {
    "duration": 980,
    "start_time": "2022-06-19T11:26:45.371Z"
   },
   {
    "duration": 77,
    "start_time": "2022-06-19T11:26:46.353Z"
   },
   {
    "duration": 11,
    "start_time": "2022-06-19T11:26:46.432Z"
   },
   {
    "duration": 17,
    "start_time": "2022-06-19T11:26:46.445Z"
   },
   {
    "duration": 5,
    "start_time": "2022-06-19T11:26:46.464Z"
   },
   {
    "duration": 9,
    "start_time": "2022-06-19T11:26:46.470Z"
   },
   {
    "duration": 4,
    "start_time": "2022-06-19T11:26:46.481Z"
   },
   {
    "duration": 8,
    "start_time": "2022-06-19T11:26:46.487Z"
   },
   {
    "duration": 8,
    "start_time": "2022-06-19T11:26:46.496Z"
   },
   {
    "duration": 20,
    "start_time": "2022-06-19T11:26:46.505Z"
   },
   {
    "duration": 12,
    "start_time": "2022-06-19T11:26:46.526Z"
   },
   {
    "duration": 4,
    "start_time": "2022-06-19T11:26:46.539Z"
   },
   {
    "duration": 15,
    "start_time": "2022-06-19T11:26:46.545Z"
   },
   {
    "duration": 6,
    "start_time": "2022-06-19T11:26:46.625Z"
   },
   {
    "duration": 6,
    "start_time": "2022-06-19T11:26:46.723Z"
   },
   {
    "duration": 5,
    "start_time": "2022-06-19T11:26:46.730Z"
   },
   {
    "duration": 13,
    "start_time": "2022-06-19T11:26:46.737Z"
   },
   {
    "duration": 176,
    "start_time": "2022-06-19T11:26:46.752Z"
   },
   {
    "duration": 13,
    "start_time": "2022-06-19T11:26:46.930Z"
   }
  ],
  "kernelspec": {
   "display_name": "Python 3 (ipykernel)",
   "language": "python",
   "name": "python3"
  },
  "language_info": {
   "codemirror_mode": {
    "name": "ipython",
    "version": 3
   },
   "file_extension": ".py",
   "mimetype": "text/x-python",
   "name": "python",
   "nbconvert_exporter": "python",
   "pygments_lexer": "ipython3",
   "version": "3.9.5"
  },
  "toc": {
   "base_numbering": 1,
   "nav_menu": {},
   "number_sections": true,
   "sideBar": true,
   "skip_h1_title": true,
   "title_cell": "Содержание",
   "title_sidebar": "Contents",
   "toc_cell": true,
   "toc_position": {
    "height": "calc(100% - 180px)",
    "left": "10px",
    "top": "150px",
    "width": "175px"
   },
   "toc_section_display": true,
   "toc_window_display": true
  }
 },
 "nbformat": 4,
 "nbformat_minor": 2
}
