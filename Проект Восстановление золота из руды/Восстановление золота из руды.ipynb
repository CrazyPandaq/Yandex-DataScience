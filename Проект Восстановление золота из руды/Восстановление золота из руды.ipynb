{
 "cells": [
  {
   "cell_type": "markdown",
   "metadata": {
    "toc": true
   },
   "source": [
    "<h1>Содержание<span class=\"tocSkip\"></span></h1>\n",
    "<div class=\"toc\"><ul class=\"toc-item\"><li><span><a href=\"#Подготовка-данных\" data-toc-modified-id=\"Подготовка-данных-1\"><span class=\"toc-item-num\">1&nbsp;&nbsp;</span>Подготовка данных</a></span><ul class=\"toc-item\"><li><span><a href=\"#Загрузка-данных\" data-toc-modified-id=\"Загрузка-данных-1.1\"><span class=\"toc-item-num\">1.1&nbsp;&nbsp;</span>Загрузка данных</a></span><ul class=\"toc-item\"><li><span><a href=\"#Вывод:\" data-toc-modified-id=\"Вывод:-1.1.1\"><span class=\"toc-item-num\">1.1.1&nbsp;&nbsp;</span>Вывод:</a></span></li></ul></li><li><span><a href=\"#Проверка-эффективности-обогащения-и-расчет-MAE\" data-toc-modified-id=\"Проверка-эффективности-обогащения-и-расчет-MAE-1.2\"><span class=\"toc-item-num\">1.2&nbsp;&nbsp;</span>Проверка эффективности обогащения и расчет MAE</a></span><ul class=\"toc-item\"><li><span><a href=\"#Выделим-в-отдельную-таблицу-для-удобного-расчета\" data-toc-modified-id=\"Выделим-в-отдельную-таблицу-для-удобного-расчета-1.2.1\"><span class=\"toc-item-num\">1.2.1&nbsp;&nbsp;</span>Выделим в отдельную таблицу для удобного расчета</a></span></li><li><span><a href=\"#Вывод:\" data-toc-modified-id=\"Вывод:-1.2.2\"><span class=\"toc-item-num\">1.2.2&nbsp;&nbsp;</span>Вывод:</a></span></li></ul></li><li><span><a href=\"#Анализ-признаков,-недоступных-в-тестовой-выборке\" data-toc-modified-id=\"Анализ-признаков,-недоступных-в-тестовой-выборке-1.3\"><span class=\"toc-item-num\">1.3&nbsp;&nbsp;</span>Анализ признаков, недоступных в тестовой выборке</a></span><ul class=\"toc-item\"><li><span><a href=\"#Вывод:\" data-toc-modified-id=\"Вывод:-1.3.1\"><span class=\"toc-item-num\">1.3.1&nbsp;&nbsp;</span>Вывод:</a></span></li></ul></li><li><span><a href=\"#Предобработка-данных\" data-toc-modified-id=\"Предобработка-данных-1.4\"><span class=\"toc-item-num\">1.4&nbsp;&nbsp;</span>Предобработка данных</a></span><ul class=\"toc-item\"><li><span><a href=\"#Удаления-пропусков-в-целевых-признаках\" data-toc-modified-id=\"Удаления-пропусков-в-целевых-признаках-1.4.1\"><span class=\"toc-item-num\">1.4.1&nbsp;&nbsp;</span>Удаления пропусков в целевых признаках</a></span></li><li><span><a href=\"#Заполнение-пропусков\" data-toc-modified-id=\"Заполнение-пропусков-1.4.2\"><span class=\"toc-item-num\">1.4.2&nbsp;&nbsp;</span>Заполнение пропусков</a></span></li></ul></li><li><span><a href=\"#Вывод:\" data-toc-modified-id=\"Вывод:-1.5\"><span class=\"toc-item-num\">1.5&nbsp;&nbsp;</span>Вывод:</a></span></li></ul></li><li><span><a href=\"#Анализ-данных\" data-toc-modified-id=\"Анализ-данных-2\"><span class=\"toc-item-num\">2&nbsp;&nbsp;</span>Анализ данных</a></span><ul class=\"toc-item\"><li><span><a href=\"#Изменении-концентрации-металлов-(Au,-Ag,-Pb)-на-различных-этапах-очистки\" data-toc-modified-id=\"Изменении-концентрации-металлов-(Au,-Ag,-Pb)-на-различных-этапах-очистки-2.1\"><span class=\"toc-item-num\">2.1&nbsp;&nbsp;</span>Изменении концентрации металлов (Au, Ag, Pb) на различных этапах очистки</a></span><ul class=\"toc-item\"><li><span><a href=\"#Изменении-концентрации-Au-на-различных-этапах-очистки\" data-toc-modified-id=\"Изменении-концентрации-Au-на-различных-этапах-очистки-2.1.1\"><span class=\"toc-item-num\">2.1.1&nbsp;&nbsp;</span>Изменении концентрации Au на различных этапах очистки</a></span></li><li><span><a href=\"#Изменении-концентрации-Ag-на-различных-этапах-очистки\" data-toc-modified-id=\"Изменении-концентрации-Ag-на-различных-этапах-очистки-2.1.2\"><span class=\"toc-item-num\">2.1.2&nbsp;&nbsp;</span>Изменении концентрации Ag на различных этапах очистки</a></span></li><li><span><a href=\"#Изменении-концентрации-Pb-на-различных-этапах-очистки\" data-toc-modified-id=\"Изменении-концентрации-Pb-на-различных-этапах-очистки-2.1.3\"><span class=\"toc-item-num\">2.1.3&nbsp;&nbsp;</span>Изменении концентрации Pb на различных этапах очистки</a></span></li><li><span><a href=\"#Вывод:\" data-toc-modified-id=\"Вывод:-2.1.4\"><span class=\"toc-item-num\">2.1.4&nbsp;&nbsp;</span>Вывод:</a></span></li></ul></li><li><span><a href=\"#Распределение-размеров-гранул-сырья-на-обучающей-и-тестовой-выборке\" data-toc-modified-id=\"Распределение-размеров-гранул-сырья-на-обучающей-и-тестовой-выборке-2.2\"><span class=\"toc-item-num\">2.2&nbsp;&nbsp;</span>Распределение размеров гранул сырья на обучающей и тестовой выборке</a></span><ul class=\"toc-item\"><li><span><a href=\"#Вывод:\" data-toc-modified-id=\"Вывод:-2.2.1\"><span class=\"toc-item-num\">2.2.1&nbsp;&nbsp;</span>Вывод:</a></span></li></ul></li><li><span><a href=\"#Суммарная-концентрация-всех-веществ-на-разных-стадиях\" data-toc-modified-id=\"Суммарная-концентрация-всех-веществ-на-разных-стадиях-2.3\"><span class=\"toc-item-num\">2.3&nbsp;&nbsp;</span>Суммарная концентрация всех веществ на разных стадиях</a></span><ul class=\"toc-item\"><li><span><a href=\"#Вывод:\" data-toc-modified-id=\"Вывод:-2.3.1\"><span class=\"toc-item-num\">2.3.1&nbsp;&nbsp;</span>Вывод:</a></span></li></ul></li></ul></li><li><span><a href=\"#Модель\" data-toc-modified-id=\"Модель-3\"><span class=\"toc-item-num\">3&nbsp;&nbsp;</span>Модель</a></span><ul class=\"toc-item\"><li><span><a href=\"#Функцию-для-вычисления-итоговой-sMAPE\" data-toc-modified-id=\"Функцию-для-вычисления-итоговой-sMAPE-3.1\"><span class=\"toc-item-num\">3.1&nbsp;&nbsp;</span>Функцию для вычисления итоговой sMAPE</a></span></li><li><span><a href=\"#Обучение-моделей\" data-toc-modified-id=\"Обучение-моделей-3.2\"><span class=\"toc-item-num\">3.2&nbsp;&nbsp;</span>Обучение моделей</a></span><ul class=\"toc-item\"><li><span><a href=\"#Подготовка-файлов\" data-toc-modified-id=\"Подготовка-файлов-3.2.1\"><span class=\"toc-item-num\">3.2.1&nbsp;&nbsp;</span>Подготовка файлов</a></span></li><li><span><a href=\"#Подготовка-признаков\" data-toc-modified-id=\"Подготовка-признаков-3.2.2\"><span class=\"toc-item-num\">3.2.2&nbsp;&nbsp;</span>Подготовка признаков</a></span></li><li><span><a href=\"#Дерево-решений\" data-toc-modified-id=\"Дерево-решений-3.2.3\"><span class=\"toc-item-num\">3.2.3&nbsp;&nbsp;</span>Дерево решений</a></span><ul class=\"toc-item\"><li><span><a href=\"#Вывод:\" data-toc-modified-id=\"Вывод:-3.2.3.1\"><span class=\"toc-item-num\">3.2.3.1&nbsp;&nbsp;</span>Вывод:</a></span></li></ul></li><li><span><a href=\"#Случайный-лес\" data-toc-modified-id=\"Случайный-лес-3.2.4\"><span class=\"toc-item-num\">3.2.4&nbsp;&nbsp;</span>Случайный лес</a></span><ul class=\"toc-item\"><li><span><a href=\"#Вывод:\" data-toc-modified-id=\"Вывод:-3.2.4.1\"><span class=\"toc-item-num\">3.2.4.1&nbsp;&nbsp;</span>Вывод:</a></span></li></ul></li><li><span><a href=\"#Линейная-регрессия\" data-toc-modified-id=\"Линейная-регрессия-3.2.5\"><span class=\"toc-item-num\">3.2.5&nbsp;&nbsp;</span>Линейная регрессия</a></span><ul class=\"toc-item\"><li><span><a href=\"#Вывод:\" data-toc-modified-id=\"Вывод:-3.2.5.1\"><span class=\"toc-item-num\">3.2.5.1&nbsp;&nbsp;</span>Вывод:</a></span></li></ul></li></ul></li><li><span><a href=\"#Проверка-модели-на-тестовой-выборке\" data-toc-modified-id=\"Проверка-модели-на-тестовой-выборке-3.3\"><span class=\"toc-item-num\">3.3&nbsp;&nbsp;</span>Проверка модели на тестовой выборке</a></span><ul class=\"toc-item\"><li><span><a href=\"#Вывод:\" data-toc-modified-id=\"Вывод:-3.3.1\"><span class=\"toc-item-num\">3.3.1&nbsp;&nbsp;</span>Вывод:</a></span></li></ul></li><li><span><a href=\"#Проверка-модели-на-адекватность\" data-toc-modified-id=\"Проверка-модели-на-адекватность-3.4\"><span class=\"toc-item-num\">3.4&nbsp;&nbsp;</span>Проверка модели на адекватность</a></span><ul class=\"toc-item\"><li><span><a href=\"#Вывод:\" data-toc-modified-id=\"Вывод:-3.4.1\"><span class=\"toc-item-num\">3.4.1&nbsp;&nbsp;</span>Вывод:</a></span></li></ul></li></ul></li><li><span><a href=\"#Вывод\" data-toc-modified-id=\"Вывод-4\"><span class=\"toc-item-num\">4&nbsp;&nbsp;</span>Вывод</a></span></li></ul></div>"
   ]
  },
  {
   "cell_type": "markdown",
   "metadata": {},
   "source": [
    "# Восстановление золота из руды"
   ]
  },
  {
   "cell_type": "markdown",
   "metadata": {},
   "source": [
    "Подготовьте прототип модели машинного обучения для «Цифры». Компания разрабатывает решения для эффективной работы промышленных предприятий.\n",
    "\n",
    "Модель должна предсказать коэффициент восстановления золота из золотосодержащей руды. Используйте данные с параметрами добычи и очистки. \n",
    "\n",
    "Модель поможет оптимизировать производство, чтобы не запускать предприятие с убыточными характеристиками.\n",
    "\n",
    "Вам нужно:\n",
    "\n",
    "1. Подготовить данные;\n",
    "2. Провести исследовательский анализ данных;\n",
    "3. Построить и обучить модель.\n",
    "\n",
    "Чтобы выполнить проект, обращайтесь к библиотекам *pandas*, *matplotlib* и *sklearn.* Вам поможет их документация."
   ]
  },
  {
   "cell_type": "markdown",
   "metadata": {},
   "source": [
    "## Подготовка данных"
   ]
  },
  {
   "cell_type": "markdown",
   "metadata": {},
   "source": [
    "### Загрузка данных"
   ]
  },
  {
   "cell_type": "code",
   "execution_count": 1,
   "metadata": {},
   "outputs": [],
   "source": [
    "import pandas as pd\n",
    "import numpy as np\n",
    "import matplotlib.pyplot as plt\n",
    "import seaborn as sns\n",
    "\n",
    "from tqdm import tqdm\n",
    "from collections import defaultdict\n",
    "\n",
    "from sklearn.metrics import mean_absolute_error as MAE\n",
    "from sklearn.metrics import mean_squared_error as MSE\n",
    "from sklearn.model_selection import train_test_split\n",
    "from sklearn.preprocessing import StandardScaler\n",
    "from sklearn.model_selection import cross_val_score\n",
    "from sklearn.linear_model import LinearRegression\n",
    "from sklearn.ensemble import RandomForestRegressor\n",
    "from sklearn.tree import DecisionTreeRegressor\n",
    "from sklearn.dummy import DummyRegressor\n",
    "from sklearn.metrics import make_scorer\n",
    "\n",
    "\n",
    "\n",
    "import warnings\n",
    "warnings.filterwarnings('ignore')\n",
    "\n",
    "random_state = 12345"
   ]
  },
  {
   "cell_type": "code",
   "execution_count": 2,
   "metadata": {},
   "outputs": [],
   "source": [
    "try:\n",
    "    data_train = pd.read_csv(\"/datasets/gold_recovery_train_new.csv\")\n",
    "    data_test = pd.read_csv(\"/datasets/gold_recovery_test_new.csv\")\n",
    "    data_full = pd.read_csv(\"/datasets/gold_recovery_full_new.csv\")\n",
    "except:\n",
    "    data_train = pd.read_csv(\"gold_recovery_train_new.csv\")\n",
    "    data_test = pd.read_csv(\"gold_recovery_test_new.csv\")\n",
    "    data_full = pd.read_csv(\"gold_recovery_full_new.csv\")"
   ]
  },
  {
   "cell_type": "code",
   "execution_count": 3,
   "metadata": {},
   "outputs": [
    {
     "name": "stdout",
     "output_type": "stream",
     "text": [
      "Информация о data_train:\n",
      "\n",
      "<class 'pandas.core.frame.DataFrame'>\n",
      "RangeIndex: 14149 entries, 0 to 14148\n",
      "Data columns (total 87 columns):\n",
      " #   Column                                              Non-Null Count  Dtype  \n",
      "---  ------                                              --------------  -----  \n",
      " 0   date                                                14149 non-null  object \n",
      " 1   final.output.concentrate_ag                         14148 non-null  float64\n",
      " 2   final.output.concentrate_pb                         14148 non-null  float64\n",
      " 3   final.output.concentrate_sol                        13938 non-null  float64\n",
      " 4   final.output.concentrate_au                         14149 non-null  float64\n",
      " 5   final.output.recovery                               14149 non-null  float64\n",
      " 6   final.output.tail_ag                                14149 non-null  float64\n",
      " 7   final.output.tail_pb                                14049 non-null  float64\n",
      " 8   final.output.tail_sol                               14144 non-null  float64\n",
      " 9   final.output.tail_au                                14149 non-null  float64\n",
      " 10  primary_cleaner.input.sulfate                       14129 non-null  float64\n",
      " 11  primary_cleaner.input.depressant                    14117 non-null  float64\n",
      " 12  primary_cleaner.input.feed_size                     14149 non-null  float64\n",
      " 13  primary_cleaner.input.xanthate                      14049 non-null  float64\n",
      " 14  primary_cleaner.output.concentrate_ag               14149 non-null  float64\n",
      " 15  primary_cleaner.output.concentrate_pb               14063 non-null  float64\n",
      " 16  primary_cleaner.output.concentrate_sol              13863 non-null  float64\n",
      " 17  primary_cleaner.output.concentrate_au               14149 non-null  float64\n",
      " 18  primary_cleaner.output.tail_ag                      14148 non-null  float64\n",
      " 19  primary_cleaner.output.tail_pb                      14134 non-null  float64\n",
      " 20  primary_cleaner.output.tail_sol                     14103 non-null  float64\n",
      " 21  primary_cleaner.output.tail_au                      14149 non-null  float64\n",
      " 22  primary_cleaner.state.floatbank8_a_air              14145 non-null  float64\n",
      " 23  primary_cleaner.state.floatbank8_a_level            14148 non-null  float64\n",
      " 24  primary_cleaner.state.floatbank8_b_air              14145 non-null  float64\n",
      " 25  primary_cleaner.state.floatbank8_b_level            14148 non-null  float64\n",
      " 26  primary_cleaner.state.floatbank8_c_air              14147 non-null  float64\n",
      " 27  primary_cleaner.state.floatbank8_c_level            14148 non-null  float64\n",
      " 28  primary_cleaner.state.floatbank8_d_air              14146 non-null  float64\n",
      " 29  primary_cleaner.state.floatbank8_d_level            14148 non-null  float64\n",
      " 30  rougher.calculation.sulfate_to_au_concentrate       14148 non-null  float64\n",
      " 31  rougher.calculation.floatbank10_sulfate_to_au_feed  14148 non-null  float64\n",
      " 32  rougher.calculation.floatbank11_sulfate_to_au_feed  14148 non-null  float64\n",
      " 33  rougher.calculation.au_pb_ratio                     14149 non-null  float64\n",
      " 34  rougher.input.feed_ag                               14149 non-null  float64\n",
      " 35  rougher.input.feed_pb                               14049 non-null  float64\n",
      " 36  rougher.input.feed_rate                             14141 non-null  float64\n",
      " 37  rougher.input.feed_size                             14005 non-null  float64\n",
      " 38  rougher.input.feed_sol                              14071 non-null  float64\n",
      " 39  rougher.input.feed_au                               14149 non-null  float64\n",
      " 40  rougher.input.floatbank10_sulfate                   14120 non-null  float64\n",
      " 41  rougher.input.floatbank10_xanthate                  14141 non-null  float64\n",
      " 42  rougher.input.floatbank11_sulfate                   14113 non-null  float64\n",
      " 43  rougher.input.floatbank11_xanthate                  13721 non-null  float64\n",
      " 44  rougher.output.concentrate_ag                       14149 non-null  float64\n",
      " 45  rougher.output.concentrate_pb                       14149 non-null  float64\n",
      " 46  rougher.output.concentrate_sol                      14127 non-null  float64\n",
      " 47  rougher.output.concentrate_au                       14149 non-null  float64\n",
      " 48  rougher.output.recovery                             14149 non-null  float64\n",
      " 49  rougher.output.tail_ag                              14148 non-null  float64\n",
      " 50  rougher.output.tail_pb                              14149 non-null  float64\n",
      " 51  rougher.output.tail_sol                             14149 non-null  float64\n",
      " 52  rougher.output.tail_au                              14149 non-null  float64\n",
      " 53  rougher.state.floatbank10_a_air                     14148 non-null  float64\n",
      " 54  rougher.state.floatbank10_a_level                   14148 non-null  float64\n",
      " 55  rougher.state.floatbank10_b_air                     14148 non-null  float64\n",
      " 56  rougher.state.floatbank10_b_level                   14148 non-null  float64\n",
      " 57  rougher.state.floatbank10_c_air                     14148 non-null  float64\n",
      " 58  rougher.state.floatbank10_c_level                   14148 non-null  float64\n",
      " 59  rougher.state.floatbank10_d_air                     14149 non-null  float64\n",
      " 60  rougher.state.floatbank10_d_level                   14149 non-null  float64\n",
      " 61  rougher.state.floatbank10_e_air                     13713 non-null  float64\n",
      " 62  rougher.state.floatbank10_e_level                   14149 non-null  float64\n",
      " 63  rougher.state.floatbank10_f_air                     14149 non-null  float64\n",
      " 64  rougher.state.floatbank10_f_level                   14149 non-null  float64\n",
      " 65  secondary_cleaner.output.tail_ag                    14147 non-null  float64\n",
      " 66  secondary_cleaner.output.tail_pb                    14139 non-null  float64\n",
      " 67  secondary_cleaner.output.tail_sol                   12544 non-null  float64\n",
      " 68  secondary_cleaner.output.tail_au                    14149 non-null  float64\n",
      " 69  secondary_cleaner.state.floatbank2_a_air            13932 non-null  float64\n",
      " 70  secondary_cleaner.state.floatbank2_a_level          14148 non-null  float64\n",
      " 71  secondary_cleaner.state.floatbank2_b_air            14128 non-null  float64\n",
      " 72  secondary_cleaner.state.floatbank2_b_level          14148 non-null  float64\n",
      " 73  secondary_cleaner.state.floatbank3_a_air            14145 non-null  float64\n",
      " 74  secondary_cleaner.state.floatbank3_a_level          14148 non-null  float64\n",
      " 75  secondary_cleaner.state.floatbank3_b_air            14148 non-null  float64\n",
      " 76  secondary_cleaner.state.floatbank3_b_level          14148 non-null  float64\n",
      " 77  secondary_cleaner.state.floatbank4_a_air            14143 non-null  float64\n",
      " 78  secondary_cleaner.state.floatbank4_a_level          14148 non-null  float64\n",
      " 79  secondary_cleaner.state.floatbank4_b_air            14148 non-null  float64\n",
      " 80  secondary_cleaner.state.floatbank4_b_level          14148 non-null  float64\n",
      " 81  secondary_cleaner.state.floatbank5_a_air            14148 non-null  float64\n",
      " 82  secondary_cleaner.state.floatbank5_a_level          14148 non-null  float64\n",
      " 83  secondary_cleaner.state.floatbank5_b_air            14148 non-null  float64\n",
      " 84  secondary_cleaner.state.floatbank5_b_level          14148 non-null  float64\n",
      " 85  secondary_cleaner.state.floatbank6_a_air            14147 non-null  float64\n",
      " 86  secondary_cleaner.state.floatbank6_a_level          14148 non-null  float64\n",
      "dtypes: float64(86), object(1)\n",
      "memory usage: 9.4+ MB\n"
     ]
    }
   ],
   "source": [
    "print(\"Информация о data_train:\")\n",
    "print()\n",
    "data_train.info()"
   ]
  },
  {
   "cell_type": "code",
   "execution_count": 4,
   "metadata": {},
   "outputs": [
    {
     "data": {
      "text/html": [
       "<div>\n",
       "<style scoped>\n",
       "    .dataframe tbody tr th:only-of-type {\n",
       "        vertical-align: middle;\n",
       "    }\n",
       "\n",
       "    .dataframe tbody tr th {\n",
       "        vertical-align: top;\n",
       "    }\n",
       "\n",
       "    .dataframe thead th {\n",
       "        text-align: right;\n",
       "    }\n",
       "</style>\n",
       "<table border=\"1\" class=\"dataframe\">\n",
       "  <thead>\n",
       "    <tr style=\"text-align: right;\">\n",
       "      <th></th>\n",
       "      <th>date</th>\n",
       "      <th>final.output.concentrate_ag</th>\n",
       "      <th>final.output.concentrate_pb</th>\n",
       "      <th>final.output.concentrate_sol</th>\n",
       "      <th>final.output.concentrate_au</th>\n",
       "      <th>final.output.recovery</th>\n",
       "      <th>final.output.tail_ag</th>\n",
       "      <th>final.output.tail_pb</th>\n",
       "      <th>final.output.tail_sol</th>\n",
       "      <th>final.output.tail_au</th>\n",
       "      <th>...</th>\n",
       "      <th>secondary_cleaner.state.floatbank4_a_air</th>\n",
       "      <th>secondary_cleaner.state.floatbank4_a_level</th>\n",
       "      <th>secondary_cleaner.state.floatbank4_b_air</th>\n",
       "      <th>secondary_cleaner.state.floatbank4_b_level</th>\n",
       "      <th>secondary_cleaner.state.floatbank5_a_air</th>\n",
       "      <th>secondary_cleaner.state.floatbank5_a_level</th>\n",
       "      <th>secondary_cleaner.state.floatbank5_b_air</th>\n",
       "      <th>secondary_cleaner.state.floatbank5_b_level</th>\n",
       "      <th>secondary_cleaner.state.floatbank6_a_air</th>\n",
       "      <th>secondary_cleaner.state.floatbank6_a_level</th>\n",
       "    </tr>\n",
       "  </thead>\n",
       "  <tbody>\n",
       "    <tr>\n",
       "      <th>0</th>\n",
       "      <td>2016-01-15 00:00:00</td>\n",
       "      <td>6.055403</td>\n",
       "      <td>9.889648</td>\n",
       "      <td>5.507324</td>\n",
       "      <td>42.192020</td>\n",
       "      <td>70.541216</td>\n",
       "      <td>10.411962</td>\n",
       "      <td>0.895447</td>\n",
       "      <td>16.904297</td>\n",
       "      <td>2.143149</td>\n",
       "      <td>...</td>\n",
       "      <td>14.016835</td>\n",
       "      <td>-502.488007</td>\n",
       "      <td>12.099931</td>\n",
       "      <td>-504.715942</td>\n",
       "      <td>9.925633</td>\n",
       "      <td>-498.310211</td>\n",
       "      <td>8.079666</td>\n",
       "      <td>-500.470978</td>\n",
       "      <td>14.151341</td>\n",
       "      <td>-605.841980</td>\n",
       "    </tr>\n",
       "    <tr>\n",
       "      <th>1</th>\n",
       "      <td>2016-01-15 01:00:00</td>\n",
       "      <td>6.029369</td>\n",
       "      <td>9.968944</td>\n",
       "      <td>5.257781</td>\n",
       "      <td>42.701629</td>\n",
       "      <td>69.266198</td>\n",
       "      <td>10.462676</td>\n",
       "      <td>0.927452</td>\n",
       "      <td>16.634514</td>\n",
       "      <td>2.224930</td>\n",
       "      <td>...</td>\n",
       "      <td>13.992281</td>\n",
       "      <td>-505.503262</td>\n",
       "      <td>11.950531</td>\n",
       "      <td>-501.331529</td>\n",
       "      <td>10.039245</td>\n",
       "      <td>-500.169983</td>\n",
       "      <td>7.984757</td>\n",
       "      <td>-500.582168</td>\n",
       "      <td>13.998353</td>\n",
       "      <td>-599.787184</td>\n",
       "    </tr>\n",
       "    <tr>\n",
       "      <th>2</th>\n",
       "      <td>2016-01-15 02:00:00</td>\n",
       "      <td>6.055926</td>\n",
       "      <td>10.213995</td>\n",
       "      <td>5.383759</td>\n",
       "      <td>42.657501</td>\n",
       "      <td>68.116445</td>\n",
       "      <td>10.507046</td>\n",
       "      <td>0.953716</td>\n",
       "      <td>16.208849</td>\n",
       "      <td>2.257889</td>\n",
       "      <td>...</td>\n",
       "      <td>14.015015</td>\n",
       "      <td>-502.520901</td>\n",
       "      <td>11.912783</td>\n",
       "      <td>-501.133383</td>\n",
       "      <td>10.070913</td>\n",
       "      <td>-500.129135</td>\n",
       "      <td>8.013877</td>\n",
       "      <td>-500.517572</td>\n",
       "      <td>14.028663</td>\n",
       "      <td>-601.427363</td>\n",
       "    </tr>\n",
       "    <tr>\n",
       "      <th>3</th>\n",
       "      <td>2016-01-15 03:00:00</td>\n",
       "      <td>6.047977</td>\n",
       "      <td>9.977019</td>\n",
       "      <td>4.858634</td>\n",
       "      <td>42.689819</td>\n",
       "      <td>68.347543</td>\n",
       "      <td>10.422762</td>\n",
       "      <td>0.883763</td>\n",
       "      <td>16.532835</td>\n",
       "      <td>2.146849</td>\n",
       "      <td>...</td>\n",
       "      <td>14.036510</td>\n",
       "      <td>-500.857308</td>\n",
       "      <td>11.999550</td>\n",
       "      <td>-501.193686</td>\n",
       "      <td>9.970366</td>\n",
       "      <td>-499.201640</td>\n",
       "      <td>7.977324</td>\n",
       "      <td>-500.255908</td>\n",
       "      <td>14.005551</td>\n",
       "      <td>-599.996129</td>\n",
       "    </tr>\n",
       "    <tr>\n",
       "      <th>4</th>\n",
       "      <td>2016-01-15 04:00:00</td>\n",
       "      <td>6.148599</td>\n",
       "      <td>10.142511</td>\n",
       "      <td>4.939416</td>\n",
       "      <td>42.774141</td>\n",
       "      <td>66.927016</td>\n",
       "      <td>10.360302</td>\n",
       "      <td>0.792826</td>\n",
       "      <td>16.525686</td>\n",
       "      <td>2.055292</td>\n",
       "      <td>...</td>\n",
       "      <td>14.027298</td>\n",
       "      <td>-499.838632</td>\n",
       "      <td>11.953070</td>\n",
       "      <td>-501.053894</td>\n",
       "      <td>9.925709</td>\n",
       "      <td>-501.686727</td>\n",
       "      <td>7.894242</td>\n",
       "      <td>-500.356035</td>\n",
       "      <td>13.996647</td>\n",
       "      <td>-601.496691</td>\n",
       "    </tr>\n",
       "  </tbody>\n",
       "</table>\n",
       "<p>5 rows × 87 columns</p>\n",
       "</div>"
      ],
      "text/plain": [
       "                  date  final.output.concentrate_ag  \\\n",
       "0  2016-01-15 00:00:00                     6.055403   \n",
       "1  2016-01-15 01:00:00                     6.029369   \n",
       "2  2016-01-15 02:00:00                     6.055926   \n",
       "3  2016-01-15 03:00:00                     6.047977   \n",
       "4  2016-01-15 04:00:00                     6.148599   \n",
       "\n",
       "   final.output.concentrate_pb  final.output.concentrate_sol  \\\n",
       "0                     9.889648                      5.507324   \n",
       "1                     9.968944                      5.257781   \n",
       "2                    10.213995                      5.383759   \n",
       "3                     9.977019                      4.858634   \n",
       "4                    10.142511                      4.939416   \n",
       "\n",
       "   final.output.concentrate_au  final.output.recovery  final.output.tail_ag  \\\n",
       "0                    42.192020              70.541216             10.411962   \n",
       "1                    42.701629              69.266198             10.462676   \n",
       "2                    42.657501              68.116445             10.507046   \n",
       "3                    42.689819              68.347543             10.422762   \n",
       "4                    42.774141              66.927016             10.360302   \n",
       "\n",
       "   final.output.tail_pb  final.output.tail_sol  final.output.tail_au  ...  \\\n",
       "0              0.895447              16.904297              2.143149  ...   \n",
       "1              0.927452              16.634514              2.224930  ...   \n",
       "2              0.953716              16.208849              2.257889  ...   \n",
       "3              0.883763              16.532835              2.146849  ...   \n",
       "4              0.792826              16.525686              2.055292  ...   \n",
       "\n",
       "   secondary_cleaner.state.floatbank4_a_air  \\\n",
       "0                                 14.016835   \n",
       "1                                 13.992281   \n",
       "2                                 14.015015   \n",
       "3                                 14.036510   \n",
       "4                                 14.027298   \n",
       "\n",
       "   secondary_cleaner.state.floatbank4_a_level  \\\n",
       "0                                 -502.488007   \n",
       "1                                 -505.503262   \n",
       "2                                 -502.520901   \n",
       "3                                 -500.857308   \n",
       "4                                 -499.838632   \n",
       "\n",
       "   secondary_cleaner.state.floatbank4_b_air  \\\n",
       "0                                 12.099931   \n",
       "1                                 11.950531   \n",
       "2                                 11.912783   \n",
       "3                                 11.999550   \n",
       "4                                 11.953070   \n",
       "\n",
       "   secondary_cleaner.state.floatbank4_b_level  \\\n",
       "0                                 -504.715942   \n",
       "1                                 -501.331529   \n",
       "2                                 -501.133383   \n",
       "3                                 -501.193686   \n",
       "4                                 -501.053894   \n",
       "\n",
       "   secondary_cleaner.state.floatbank5_a_air  \\\n",
       "0                                  9.925633   \n",
       "1                                 10.039245   \n",
       "2                                 10.070913   \n",
       "3                                  9.970366   \n",
       "4                                  9.925709   \n",
       "\n",
       "   secondary_cleaner.state.floatbank5_a_level  \\\n",
       "0                                 -498.310211   \n",
       "1                                 -500.169983   \n",
       "2                                 -500.129135   \n",
       "3                                 -499.201640   \n",
       "4                                 -501.686727   \n",
       "\n",
       "   secondary_cleaner.state.floatbank5_b_air  \\\n",
       "0                                  8.079666   \n",
       "1                                  7.984757   \n",
       "2                                  8.013877   \n",
       "3                                  7.977324   \n",
       "4                                  7.894242   \n",
       "\n",
       "   secondary_cleaner.state.floatbank5_b_level  \\\n",
       "0                                 -500.470978   \n",
       "1                                 -500.582168   \n",
       "2                                 -500.517572   \n",
       "3                                 -500.255908   \n",
       "4                                 -500.356035   \n",
       "\n",
       "   secondary_cleaner.state.floatbank6_a_air  \\\n",
       "0                                 14.151341   \n",
       "1                                 13.998353   \n",
       "2                                 14.028663   \n",
       "3                                 14.005551   \n",
       "4                                 13.996647   \n",
       "\n",
       "   secondary_cleaner.state.floatbank6_a_level  \n",
       "0                                 -605.841980  \n",
       "1                                 -599.787184  \n",
       "2                                 -601.427363  \n",
       "3                                 -599.996129  \n",
       "4                                 -601.496691  \n",
       "\n",
       "[5 rows x 87 columns]"
      ]
     },
     "execution_count": 4,
     "metadata": {},
     "output_type": "execute_result"
    }
   ],
   "source": [
    "data_train.head()"
   ]
  },
  {
   "cell_type": "code",
   "execution_count": 5,
   "metadata": {},
   "outputs": [
    {
     "name": "stdout",
     "output_type": "stream",
     "text": [
      "Информация о data_test:\n",
      "\n",
      "<class 'pandas.core.frame.DataFrame'>\n",
      "RangeIndex: 5290 entries, 0 to 5289\n",
      "Data columns (total 53 columns):\n",
      " #   Column                                      Non-Null Count  Dtype  \n",
      "---  ------                                      --------------  -----  \n",
      " 0   date                                        5290 non-null   object \n",
      " 1   primary_cleaner.input.sulfate               5286 non-null   float64\n",
      " 2   primary_cleaner.input.depressant            5285 non-null   float64\n",
      " 3   primary_cleaner.input.feed_size             5290 non-null   float64\n",
      " 4   primary_cleaner.input.xanthate              5286 non-null   float64\n",
      " 5   primary_cleaner.state.floatbank8_a_air      5290 non-null   float64\n",
      " 6   primary_cleaner.state.floatbank8_a_level    5290 non-null   float64\n",
      " 7   primary_cleaner.state.floatbank8_b_air      5290 non-null   float64\n",
      " 8   primary_cleaner.state.floatbank8_b_level    5290 non-null   float64\n",
      " 9   primary_cleaner.state.floatbank8_c_air      5290 non-null   float64\n",
      " 10  primary_cleaner.state.floatbank8_c_level    5290 non-null   float64\n",
      " 11  primary_cleaner.state.floatbank8_d_air      5290 non-null   float64\n",
      " 12  primary_cleaner.state.floatbank8_d_level    5290 non-null   float64\n",
      " 13  rougher.input.feed_ag                       5290 non-null   float64\n",
      " 14  rougher.input.feed_pb                       5290 non-null   float64\n",
      " 15  rougher.input.feed_rate                     5287 non-null   float64\n",
      " 16  rougher.input.feed_size                     5289 non-null   float64\n",
      " 17  rougher.input.feed_sol                      5269 non-null   float64\n",
      " 18  rougher.input.feed_au                       5290 non-null   float64\n",
      " 19  rougher.input.floatbank10_sulfate           5285 non-null   float64\n",
      " 20  rougher.input.floatbank10_xanthate          5290 non-null   float64\n",
      " 21  rougher.input.floatbank11_sulfate           5282 non-null   float64\n",
      " 22  rougher.input.floatbank11_xanthate          5265 non-null   float64\n",
      " 23  rougher.state.floatbank10_a_air             5290 non-null   float64\n",
      " 24  rougher.state.floatbank10_a_level           5290 non-null   float64\n",
      " 25  rougher.state.floatbank10_b_air             5290 non-null   float64\n",
      " 26  rougher.state.floatbank10_b_level           5290 non-null   float64\n",
      " 27  rougher.state.floatbank10_c_air             5290 non-null   float64\n",
      " 28  rougher.state.floatbank10_c_level           5290 non-null   float64\n",
      " 29  rougher.state.floatbank10_d_air             5290 non-null   float64\n",
      " 30  rougher.state.floatbank10_d_level           5290 non-null   float64\n",
      " 31  rougher.state.floatbank10_e_air             5290 non-null   float64\n",
      " 32  rougher.state.floatbank10_e_level           5290 non-null   float64\n",
      " 33  rougher.state.floatbank10_f_air             5290 non-null   float64\n",
      " 34  rougher.state.floatbank10_f_level           5290 non-null   float64\n",
      " 35  secondary_cleaner.state.floatbank2_a_air    5287 non-null   float64\n",
      " 36  secondary_cleaner.state.floatbank2_a_level  5290 non-null   float64\n",
      " 37  secondary_cleaner.state.floatbank2_b_air    5288 non-null   float64\n",
      " 38  secondary_cleaner.state.floatbank2_b_level  5290 non-null   float64\n",
      " 39  secondary_cleaner.state.floatbank3_a_air    5281 non-null   float64\n",
      " 40  secondary_cleaner.state.floatbank3_a_level  5290 non-null   float64\n",
      " 41  secondary_cleaner.state.floatbank3_b_air    5290 non-null   float64\n",
      " 42  secondary_cleaner.state.floatbank3_b_level  5290 non-null   float64\n",
      " 43  secondary_cleaner.state.floatbank4_a_air    5290 non-null   float64\n",
      " 44  secondary_cleaner.state.floatbank4_a_level  5290 non-null   float64\n",
      " 45  secondary_cleaner.state.floatbank4_b_air    5290 non-null   float64\n",
      " 46  secondary_cleaner.state.floatbank4_b_level  5290 non-null   float64\n",
      " 47  secondary_cleaner.state.floatbank5_a_air    5290 non-null   float64\n",
      " 48  secondary_cleaner.state.floatbank5_a_level  5290 non-null   float64\n",
      " 49  secondary_cleaner.state.floatbank5_b_air    5290 non-null   float64\n",
      " 50  secondary_cleaner.state.floatbank5_b_level  5290 non-null   float64\n",
      " 51  secondary_cleaner.state.floatbank6_a_air    5290 non-null   float64\n",
      " 52  secondary_cleaner.state.floatbank6_a_level  5290 non-null   float64\n",
      "dtypes: float64(52), object(1)\n",
      "memory usage: 2.1+ MB\n"
     ]
    }
   ],
   "source": [
    "print(\"Информация о data_test:\")\n",
    "print()\n",
    "data_test.info()"
   ]
  },
  {
   "cell_type": "code",
   "execution_count": 6,
   "metadata": {
    "scrolled": true
   },
   "outputs": [
    {
     "data": {
      "text/html": [
       "<div>\n",
       "<style scoped>\n",
       "    .dataframe tbody tr th:only-of-type {\n",
       "        vertical-align: middle;\n",
       "    }\n",
       "\n",
       "    .dataframe tbody tr th {\n",
       "        vertical-align: top;\n",
       "    }\n",
       "\n",
       "    .dataframe thead th {\n",
       "        text-align: right;\n",
       "    }\n",
       "</style>\n",
       "<table border=\"1\" class=\"dataframe\">\n",
       "  <thead>\n",
       "    <tr style=\"text-align: right;\">\n",
       "      <th></th>\n",
       "      <th>date</th>\n",
       "      <th>primary_cleaner.input.sulfate</th>\n",
       "      <th>primary_cleaner.input.depressant</th>\n",
       "      <th>primary_cleaner.input.feed_size</th>\n",
       "      <th>primary_cleaner.input.xanthate</th>\n",
       "      <th>primary_cleaner.state.floatbank8_a_air</th>\n",
       "      <th>primary_cleaner.state.floatbank8_a_level</th>\n",
       "      <th>primary_cleaner.state.floatbank8_b_air</th>\n",
       "      <th>primary_cleaner.state.floatbank8_b_level</th>\n",
       "      <th>primary_cleaner.state.floatbank8_c_air</th>\n",
       "      <th>...</th>\n",
       "      <th>secondary_cleaner.state.floatbank4_a_air</th>\n",
       "      <th>secondary_cleaner.state.floatbank4_a_level</th>\n",
       "      <th>secondary_cleaner.state.floatbank4_b_air</th>\n",
       "      <th>secondary_cleaner.state.floatbank4_b_level</th>\n",
       "      <th>secondary_cleaner.state.floatbank5_a_air</th>\n",
       "      <th>secondary_cleaner.state.floatbank5_a_level</th>\n",
       "      <th>secondary_cleaner.state.floatbank5_b_air</th>\n",
       "      <th>secondary_cleaner.state.floatbank5_b_level</th>\n",
       "      <th>secondary_cleaner.state.floatbank6_a_air</th>\n",
       "      <th>secondary_cleaner.state.floatbank6_a_level</th>\n",
       "    </tr>\n",
       "  </thead>\n",
       "  <tbody>\n",
       "    <tr>\n",
       "      <th>0</th>\n",
       "      <td>2016-09-01 00:59:59</td>\n",
       "      <td>210.800909</td>\n",
       "      <td>14.993118</td>\n",
       "      <td>8.080000</td>\n",
       "      <td>1.005021</td>\n",
       "      <td>1398.981301</td>\n",
       "      <td>-500.225577</td>\n",
       "      <td>1399.144926</td>\n",
       "      <td>-499.919735</td>\n",
       "      <td>1400.102998</td>\n",
       "      <td>...</td>\n",
       "      <td>12.023554</td>\n",
       "      <td>-497.795834</td>\n",
       "      <td>8.016656</td>\n",
       "      <td>-501.289139</td>\n",
       "      <td>7.946562</td>\n",
       "      <td>-432.317850</td>\n",
       "      <td>4.872511</td>\n",
       "      <td>-500.037437</td>\n",
       "      <td>26.705889</td>\n",
       "      <td>-499.709414</td>\n",
       "    </tr>\n",
       "    <tr>\n",
       "      <th>1</th>\n",
       "      <td>2016-09-01 01:59:59</td>\n",
       "      <td>215.392455</td>\n",
       "      <td>14.987471</td>\n",
       "      <td>8.080000</td>\n",
       "      <td>0.990469</td>\n",
       "      <td>1398.777912</td>\n",
       "      <td>-500.057435</td>\n",
       "      <td>1398.055362</td>\n",
       "      <td>-499.778182</td>\n",
       "      <td>1396.151033</td>\n",
       "      <td>...</td>\n",
       "      <td>12.058140</td>\n",
       "      <td>-498.695773</td>\n",
       "      <td>8.130979</td>\n",
       "      <td>-499.634209</td>\n",
       "      <td>7.958270</td>\n",
       "      <td>-525.839648</td>\n",
       "      <td>4.878850</td>\n",
       "      <td>-500.162375</td>\n",
       "      <td>25.019940</td>\n",
       "      <td>-499.819438</td>\n",
       "    </tr>\n",
       "    <tr>\n",
       "      <th>2</th>\n",
       "      <td>2016-09-01 02:59:59</td>\n",
       "      <td>215.259946</td>\n",
       "      <td>12.884934</td>\n",
       "      <td>7.786667</td>\n",
       "      <td>0.996043</td>\n",
       "      <td>1398.493666</td>\n",
       "      <td>-500.868360</td>\n",
       "      <td>1398.860436</td>\n",
       "      <td>-499.764529</td>\n",
       "      <td>1398.075709</td>\n",
       "      <td>...</td>\n",
       "      <td>11.962366</td>\n",
       "      <td>-498.767484</td>\n",
       "      <td>8.096893</td>\n",
       "      <td>-500.827423</td>\n",
       "      <td>8.071056</td>\n",
       "      <td>-500.801673</td>\n",
       "      <td>4.905125</td>\n",
       "      <td>-499.828510</td>\n",
       "      <td>24.994862</td>\n",
       "      <td>-500.622559</td>\n",
       "    </tr>\n",
       "    <tr>\n",
       "      <th>3</th>\n",
       "      <td>2016-09-01 03:59:59</td>\n",
       "      <td>215.336236</td>\n",
       "      <td>12.006805</td>\n",
       "      <td>7.640000</td>\n",
       "      <td>0.863514</td>\n",
       "      <td>1399.618111</td>\n",
       "      <td>-498.863574</td>\n",
       "      <td>1397.440120</td>\n",
       "      <td>-499.211024</td>\n",
       "      <td>1400.129303</td>\n",
       "      <td>...</td>\n",
       "      <td>12.033091</td>\n",
       "      <td>-498.350935</td>\n",
       "      <td>8.074946</td>\n",
       "      <td>-499.474407</td>\n",
       "      <td>7.897085</td>\n",
       "      <td>-500.868509</td>\n",
       "      <td>4.931400</td>\n",
       "      <td>-499.963623</td>\n",
       "      <td>24.948919</td>\n",
       "      <td>-498.709987</td>\n",
       "    </tr>\n",
       "    <tr>\n",
       "      <th>4</th>\n",
       "      <td>2016-09-01 04:59:59</td>\n",
       "      <td>199.099327</td>\n",
       "      <td>10.682530</td>\n",
       "      <td>7.530000</td>\n",
       "      <td>0.805575</td>\n",
       "      <td>1401.268123</td>\n",
       "      <td>-500.808305</td>\n",
       "      <td>1398.128818</td>\n",
       "      <td>-499.504543</td>\n",
       "      <td>1402.172226</td>\n",
       "      <td>...</td>\n",
       "      <td>12.025367</td>\n",
       "      <td>-500.786497</td>\n",
       "      <td>8.054678</td>\n",
       "      <td>-500.397500</td>\n",
       "      <td>8.107890</td>\n",
       "      <td>-509.526725</td>\n",
       "      <td>4.957674</td>\n",
       "      <td>-500.360026</td>\n",
       "      <td>25.003331</td>\n",
       "      <td>-500.856333</td>\n",
       "    </tr>\n",
       "  </tbody>\n",
       "</table>\n",
       "<p>5 rows × 53 columns</p>\n",
       "</div>"
      ],
      "text/plain": [
       "                  date  primary_cleaner.input.sulfate  \\\n",
       "0  2016-09-01 00:59:59                     210.800909   \n",
       "1  2016-09-01 01:59:59                     215.392455   \n",
       "2  2016-09-01 02:59:59                     215.259946   \n",
       "3  2016-09-01 03:59:59                     215.336236   \n",
       "4  2016-09-01 04:59:59                     199.099327   \n",
       "\n",
       "   primary_cleaner.input.depressant  primary_cleaner.input.feed_size  \\\n",
       "0                         14.993118                         8.080000   \n",
       "1                         14.987471                         8.080000   \n",
       "2                         12.884934                         7.786667   \n",
       "3                         12.006805                         7.640000   \n",
       "4                         10.682530                         7.530000   \n",
       "\n",
       "   primary_cleaner.input.xanthate  primary_cleaner.state.floatbank8_a_air  \\\n",
       "0                        1.005021                             1398.981301   \n",
       "1                        0.990469                             1398.777912   \n",
       "2                        0.996043                             1398.493666   \n",
       "3                        0.863514                             1399.618111   \n",
       "4                        0.805575                             1401.268123   \n",
       "\n",
       "   primary_cleaner.state.floatbank8_a_level  \\\n",
       "0                               -500.225577   \n",
       "1                               -500.057435   \n",
       "2                               -500.868360   \n",
       "3                               -498.863574   \n",
       "4                               -500.808305   \n",
       "\n",
       "   primary_cleaner.state.floatbank8_b_air  \\\n",
       "0                             1399.144926   \n",
       "1                             1398.055362   \n",
       "2                             1398.860436   \n",
       "3                             1397.440120   \n",
       "4                             1398.128818   \n",
       "\n",
       "   primary_cleaner.state.floatbank8_b_level  \\\n",
       "0                               -499.919735   \n",
       "1                               -499.778182   \n",
       "2                               -499.764529   \n",
       "3                               -499.211024   \n",
       "4                               -499.504543   \n",
       "\n",
       "   primary_cleaner.state.floatbank8_c_air  ...  \\\n",
       "0                             1400.102998  ...   \n",
       "1                             1396.151033  ...   \n",
       "2                             1398.075709  ...   \n",
       "3                             1400.129303  ...   \n",
       "4                             1402.172226  ...   \n",
       "\n",
       "   secondary_cleaner.state.floatbank4_a_air  \\\n",
       "0                                 12.023554   \n",
       "1                                 12.058140   \n",
       "2                                 11.962366   \n",
       "3                                 12.033091   \n",
       "4                                 12.025367   \n",
       "\n",
       "   secondary_cleaner.state.floatbank4_a_level  \\\n",
       "0                                 -497.795834   \n",
       "1                                 -498.695773   \n",
       "2                                 -498.767484   \n",
       "3                                 -498.350935   \n",
       "4                                 -500.786497   \n",
       "\n",
       "   secondary_cleaner.state.floatbank4_b_air  \\\n",
       "0                                  8.016656   \n",
       "1                                  8.130979   \n",
       "2                                  8.096893   \n",
       "3                                  8.074946   \n",
       "4                                  8.054678   \n",
       "\n",
       "   secondary_cleaner.state.floatbank4_b_level  \\\n",
       "0                                 -501.289139   \n",
       "1                                 -499.634209   \n",
       "2                                 -500.827423   \n",
       "3                                 -499.474407   \n",
       "4                                 -500.397500   \n",
       "\n",
       "   secondary_cleaner.state.floatbank5_a_air  \\\n",
       "0                                  7.946562   \n",
       "1                                  7.958270   \n",
       "2                                  8.071056   \n",
       "3                                  7.897085   \n",
       "4                                  8.107890   \n",
       "\n",
       "   secondary_cleaner.state.floatbank5_a_level  \\\n",
       "0                                 -432.317850   \n",
       "1                                 -525.839648   \n",
       "2                                 -500.801673   \n",
       "3                                 -500.868509   \n",
       "4                                 -509.526725   \n",
       "\n",
       "   secondary_cleaner.state.floatbank5_b_air  \\\n",
       "0                                  4.872511   \n",
       "1                                  4.878850   \n",
       "2                                  4.905125   \n",
       "3                                  4.931400   \n",
       "4                                  4.957674   \n",
       "\n",
       "   secondary_cleaner.state.floatbank5_b_level  \\\n",
       "0                                 -500.037437   \n",
       "1                                 -500.162375   \n",
       "2                                 -499.828510   \n",
       "3                                 -499.963623   \n",
       "4                                 -500.360026   \n",
       "\n",
       "   secondary_cleaner.state.floatbank6_a_air  \\\n",
       "0                                 26.705889   \n",
       "1                                 25.019940   \n",
       "2                                 24.994862   \n",
       "3                                 24.948919   \n",
       "4                                 25.003331   \n",
       "\n",
       "   secondary_cleaner.state.floatbank6_a_level  \n",
       "0                                 -499.709414  \n",
       "1                                 -499.819438  \n",
       "2                                 -500.622559  \n",
       "3                                 -498.709987  \n",
       "4                                 -500.856333  \n",
       "\n",
       "[5 rows x 53 columns]"
      ]
     },
     "execution_count": 6,
     "metadata": {},
     "output_type": "execute_result"
    }
   ],
   "source": [
    "data_test.head()"
   ]
  },
  {
   "cell_type": "code",
   "execution_count": 7,
   "metadata": {},
   "outputs": [
    {
     "name": "stdout",
     "output_type": "stream",
     "text": [
      "Информация о data_full:\n",
      "\n",
      "<class 'pandas.core.frame.DataFrame'>\n",
      "RangeIndex: 19439 entries, 0 to 19438\n",
      "Data columns (total 87 columns):\n",
      " #   Column                                              Non-Null Count  Dtype  \n",
      "---  ------                                              --------------  -----  \n",
      " 0   date                                                19439 non-null  object \n",
      " 1   final.output.concentrate_ag                         19438 non-null  float64\n",
      " 2   final.output.concentrate_pb                         19438 non-null  float64\n",
      " 3   final.output.concentrate_sol                        19228 non-null  float64\n",
      " 4   final.output.concentrate_au                         19439 non-null  float64\n",
      " 5   final.output.recovery                               19439 non-null  float64\n",
      " 6   final.output.tail_ag                                19438 non-null  float64\n",
      " 7   final.output.tail_pb                                19338 non-null  float64\n",
      " 8   final.output.tail_sol                               19433 non-null  float64\n",
      " 9   final.output.tail_au                                19439 non-null  float64\n",
      " 10  primary_cleaner.input.sulfate                       19415 non-null  float64\n",
      " 11  primary_cleaner.input.depressant                    19402 non-null  float64\n",
      " 12  primary_cleaner.input.feed_size                     19439 non-null  float64\n",
      " 13  primary_cleaner.input.xanthate                      19335 non-null  float64\n",
      " 14  primary_cleaner.output.concentrate_ag               19439 non-null  float64\n",
      " 15  primary_cleaner.output.concentrate_pb               19323 non-null  float64\n",
      " 16  primary_cleaner.output.concentrate_sol              19069 non-null  float64\n",
      " 17  primary_cleaner.output.concentrate_au               19439 non-null  float64\n",
      " 18  primary_cleaner.output.tail_ag                      19435 non-null  float64\n",
      " 19  primary_cleaner.output.tail_pb                      19418 non-null  float64\n",
      " 20  primary_cleaner.output.tail_sol                     19377 non-null  float64\n",
      " 21  primary_cleaner.output.tail_au                      19439 non-null  float64\n",
      " 22  primary_cleaner.state.floatbank8_a_air              19435 non-null  float64\n",
      " 23  primary_cleaner.state.floatbank8_a_level            19438 non-null  float64\n",
      " 24  primary_cleaner.state.floatbank8_b_air              19435 non-null  float64\n",
      " 25  primary_cleaner.state.floatbank8_b_level            19438 non-null  float64\n",
      " 26  primary_cleaner.state.floatbank8_c_air              19437 non-null  float64\n",
      " 27  primary_cleaner.state.floatbank8_c_level            19438 non-null  float64\n",
      " 28  primary_cleaner.state.floatbank8_d_air              19436 non-null  float64\n",
      " 29  primary_cleaner.state.floatbank8_d_level            19438 non-null  float64\n",
      " 30  rougher.calculation.sulfate_to_au_concentrate       19437 non-null  float64\n",
      " 31  rougher.calculation.floatbank10_sulfate_to_au_feed  19437 non-null  float64\n",
      " 32  rougher.calculation.floatbank11_sulfate_to_au_feed  19437 non-null  float64\n",
      " 33  rougher.calculation.au_pb_ratio                     19439 non-null  float64\n",
      " 34  rougher.input.feed_ag                               19439 non-null  float64\n",
      " 35  rougher.input.feed_pb                               19339 non-null  float64\n",
      " 36  rougher.input.feed_rate                             19428 non-null  float64\n",
      " 37  rougher.input.feed_size                             19294 non-null  float64\n",
      " 38  rougher.input.feed_sol                              19340 non-null  float64\n",
      " 39  rougher.input.feed_au                               19439 non-null  float64\n",
      " 40  rougher.input.floatbank10_sulfate                   19405 non-null  float64\n",
      " 41  rougher.input.floatbank10_xanthate                  19431 non-null  float64\n",
      " 42  rougher.input.floatbank11_sulfate                   19395 non-null  float64\n",
      " 43  rougher.input.floatbank11_xanthate                  18986 non-null  float64\n",
      " 44  rougher.output.concentrate_ag                       19439 non-null  float64\n",
      " 45  rougher.output.concentrate_pb                       19439 non-null  float64\n",
      " 46  rougher.output.concentrate_sol                      19416 non-null  float64\n",
      " 47  rougher.output.concentrate_au                       19439 non-null  float64\n",
      " 48  rougher.output.recovery                             19439 non-null  float64\n",
      " 49  rougher.output.tail_ag                              19438 non-null  float64\n",
      " 50  rougher.output.tail_pb                              19439 non-null  float64\n",
      " 51  rougher.output.tail_sol                             19439 non-null  float64\n",
      " 52  rougher.output.tail_au                              19439 non-null  float64\n",
      " 53  rougher.state.floatbank10_a_air                     19438 non-null  float64\n",
      " 54  rougher.state.floatbank10_a_level                   19438 non-null  float64\n",
      " 55  rougher.state.floatbank10_b_air                     19438 non-null  float64\n",
      " 56  rougher.state.floatbank10_b_level                   19438 non-null  float64\n",
      " 57  rougher.state.floatbank10_c_air                     19438 non-null  float64\n",
      " 58  rougher.state.floatbank10_c_level                   19438 non-null  float64\n",
      " 59  rougher.state.floatbank10_d_air                     19439 non-null  float64\n",
      " 60  rougher.state.floatbank10_d_level                   19439 non-null  float64\n",
      " 61  rougher.state.floatbank10_e_air                     19003 non-null  float64\n",
      " 62  rougher.state.floatbank10_e_level                   19439 non-null  float64\n",
      " 63  rougher.state.floatbank10_f_air                     19439 non-null  float64\n",
      " 64  rougher.state.floatbank10_f_level                   19439 non-null  float64\n",
      " 65  secondary_cleaner.output.tail_ag                    19437 non-null  float64\n",
      " 66  secondary_cleaner.output.tail_pb                    19427 non-null  float64\n",
      " 67  secondary_cleaner.output.tail_sol                   17691 non-null  float64\n",
      " 68  secondary_cleaner.output.tail_au                    19439 non-null  float64\n",
      " 69  secondary_cleaner.state.floatbank2_a_air            19219 non-null  float64\n",
      " 70  secondary_cleaner.state.floatbank2_a_level          19438 non-null  float64\n",
      " 71  secondary_cleaner.state.floatbank2_b_air            19416 non-null  float64\n",
      " 72  secondary_cleaner.state.floatbank2_b_level          19438 non-null  float64\n",
      " 73  secondary_cleaner.state.floatbank3_a_air            19426 non-null  float64\n",
      " 74  secondary_cleaner.state.floatbank3_a_level          19438 non-null  float64\n",
      " 75  secondary_cleaner.state.floatbank3_b_air            19438 non-null  float64\n",
      " 76  secondary_cleaner.state.floatbank3_b_level          19438 non-null  float64\n",
      " 77  secondary_cleaner.state.floatbank4_a_air            19433 non-null  float64\n",
      " 78  secondary_cleaner.state.floatbank4_a_level          19438 non-null  float64\n",
      " 79  secondary_cleaner.state.floatbank4_b_air            19438 non-null  float64\n",
      " 80  secondary_cleaner.state.floatbank4_b_level          19438 non-null  float64\n",
      " 81  secondary_cleaner.state.floatbank5_a_air            19438 non-null  float64\n",
      " 82  secondary_cleaner.state.floatbank5_a_level          19438 non-null  float64\n",
      " 83  secondary_cleaner.state.floatbank5_b_air            19438 non-null  float64\n",
      " 84  secondary_cleaner.state.floatbank5_b_level          19438 non-null  float64\n",
      " 85  secondary_cleaner.state.floatbank6_a_air            19437 non-null  float64\n",
      " 86  secondary_cleaner.state.floatbank6_a_level          19438 non-null  float64\n",
      "dtypes: float64(86), object(1)\n",
      "memory usage: 12.9+ MB\n"
     ]
    }
   ],
   "source": [
    "print(\"Информация о data_full:\")\n",
    "print()\n",
    "data_full.info()"
   ]
  },
  {
   "cell_type": "code",
   "execution_count": 8,
   "metadata": {},
   "outputs": [
    {
     "data": {
      "text/html": [
       "<div>\n",
       "<style scoped>\n",
       "    .dataframe tbody tr th:only-of-type {\n",
       "        vertical-align: middle;\n",
       "    }\n",
       "\n",
       "    .dataframe tbody tr th {\n",
       "        vertical-align: top;\n",
       "    }\n",
       "\n",
       "    .dataframe thead th {\n",
       "        text-align: right;\n",
       "    }\n",
       "</style>\n",
       "<table border=\"1\" class=\"dataframe\">\n",
       "  <thead>\n",
       "    <tr style=\"text-align: right;\">\n",
       "      <th></th>\n",
       "      <th>date</th>\n",
       "      <th>final.output.concentrate_ag</th>\n",
       "      <th>final.output.concentrate_pb</th>\n",
       "      <th>final.output.concentrate_sol</th>\n",
       "      <th>final.output.concentrate_au</th>\n",
       "      <th>final.output.recovery</th>\n",
       "      <th>final.output.tail_ag</th>\n",
       "      <th>final.output.tail_pb</th>\n",
       "      <th>final.output.tail_sol</th>\n",
       "      <th>final.output.tail_au</th>\n",
       "      <th>...</th>\n",
       "      <th>secondary_cleaner.state.floatbank4_a_air</th>\n",
       "      <th>secondary_cleaner.state.floatbank4_a_level</th>\n",
       "      <th>secondary_cleaner.state.floatbank4_b_air</th>\n",
       "      <th>secondary_cleaner.state.floatbank4_b_level</th>\n",
       "      <th>secondary_cleaner.state.floatbank5_a_air</th>\n",
       "      <th>secondary_cleaner.state.floatbank5_a_level</th>\n",
       "      <th>secondary_cleaner.state.floatbank5_b_air</th>\n",
       "      <th>secondary_cleaner.state.floatbank5_b_level</th>\n",
       "      <th>secondary_cleaner.state.floatbank6_a_air</th>\n",
       "      <th>secondary_cleaner.state.floatbank6_a_level</th>\n",
       "    </tr>\n",
       "  </thead>\n",
       "  <tbody>\n",
       "    <tr>\n",
       "      <th>0</th>\n",
       "      <td>2016-01-15 00:00:00</td>\n",
       "      <td>6.055403</td>\n",
       "      <td>9.889648</td>\n",
       "      <td>5.507324</td>\n",
       "      <td>42.192020</td>\n",
       "      <td>70.541216</td>\n",
       "      <td>10.411962</td>\n",
       "      <td>0.895447</td>\n",
       "      <td>16.904297</td>\n",
       "      <td>2.143149</td>\n",
       "      <td>...</td>\n",
       "      <td>14.016835</td>\n",
       "      <td>-502.488007</td>\n",
       "      <td>12.099931</td>\n",
       "      <td>-504.715942</td>\n",
       "      <td>9.925633</td>\n",
       "      <td>-498.310211</td>\n",
       "      <td>8.079666</td>\n",
       "      <td>-500.470978</td>\n",
       "      <td>14.151341</td>\n",
       "      <td>-605.841980</td>\n",
       "    </tr>\n",
       "    <tr>\n",
       "      <th>1</th>\n",
       "      <td>2016-01-15 01:00:00</td>\n",
       "      <td>6.029369</td>\n",
       "      <td>9.968944</td>\n",
       "      <td>5.257781</td>\n",
       "      <td>42.701629</td>\n",
       "      <td>69.266198</td>\n",
       "      <td>10.462676</td>\n",
       "      <td>0.927452</td>\n",
       "      <td>16.634514</td>\n",
       "      <td>2.224930</td>\n",
       "      <td>...</td>\n",
       "      <td>13.992281</td>\n",
       "      <td>-505.503262</td>\n",
       "      <td>11.950531</td>\n",
       "      <td>-501.331529</td>\n",
       "      <td>10.039245</td>\n",
       "      <td>-500.169983</td>\n",
       "      <td>7.984757</td>\n",
       "      <td>-500.582168</td>\n",
       "      <td>13.998353</td>\n",
       "      <td>-599.787184</td>\n",
       "    </tr>\n",
       "    <tr>\n",
       "      <th>2</th>\n",
       "      <td>2016-01-15 02:00:00</td>\n",
       "      <td>6.055926</td>\n",
       "      <td>10.213995</td>\n",
       "      <td>5.383759</td>\n",
       "      <td>42.657501</td>\n",
       "      <td>68.116445</td>\n",
       "      <td>10.507046</td>\n",
       "      <td>0.953716</td>\n",
       "      <td>16.208849</td>\n",
       "      <td>2.257889</td>\n",
       "      <td>...</td>\n",
       "      <td>14.015015</td>\n",
       "      <td>-502.520901</td>\n",
       "      <td>11.912783</td>\n",
       "      <td>-501.133383</td>\n",
       "      <td>10.070913</td>\n",
       "      <td>-500.129135</td>\n",
       "      <td>8.013877</td>\n",
       "      <td>-500.517572</td>\n",
       "      <td>14.028663</td>\n",
       "      <td>-601.427363</td>\n",
       "    </tr>\n",
       "    <tr>\n",
       "      <th>3</th>\n",
       "      <td>2016-01-15 03:00:00</td>\n",
       "      <td>6.047977</td>\n",
       "      <td>9.977019</td>\n",
       "      <td>4.858634</td>\n",
       "      <td>42.689819</td>\n",
       "      <td>68.347543</td>\n",
       "      <td>10.422762</td>\n",
       "      <td>0.883763</td>\n",
       "      <td>16.532835</td>\n",
       "      <td>2.146849</td>\n",
       "      <td>...</td>\n",
       "      <td>14.036510</td>\n",
       "      <td>-500.857308</td>\n",
       "      <td>11.999550</td>\n",
       "      <td>-501.193686</td>\n",
       "      <td>9.970366</td>\n",
       "      <td>-499.201640</td>\n",
       "      <td>7.977324</td>\n",
       "      <td>-500.255908</td>\n",
       "      <td>14.005551</td>\n",
       "      <td>-599.996129</td>\n",
       "    </tr>\n",
       "    <tr>\n",
       "      <th>4</th>\n",
       "      <td>2016-01-15 04:00:00</td>\n",
       "      <td>6.148599</td>\n",
       "      <td>10.142511</td>\n",
       "      <td>4.939416</td>\n",
       "      <td>42.774141</td>\n",
       "      <td>66.927016</td>\n",
       "      <td>10.360302</td>\n",
       "      <td>0.792826</td>\n",
       "      <td>16.525686</td>\n",
       "      <td>2.055292</td>\n",
       "      <td>...</td>\n",
       "      <td>14.027298</td>\n",
       "      <td>-499.838632</td>\n",
       "      <td>11.953070</td>\n",
       "      <td>-501.053894</td>\n",
       "      <td>9.925709</td>\n",
       "      <td>-501.686727</td>\n",
       "      <td>7.894242</td>\n",
       "      <td>-500.356035</td>\n",
       "      <td>13.996647</td>\n",
       "      <td>-601.496691</td>\n",
       "    </tr>\n",
       "  </tbody>\n",
       "</table>\n",
       "<p>5 rows × 87 columns</p>\n",
       "</div>"
      ],
      "text/plain": [
       "                  date  final.output.concentrate_ag  \\\n",
       "0  2016-01-15 00:00:00                     6.055403   \n",
       "1  2016-01-15 01:00:00                     6.029369   \n",
       "2  2016-01-15 02:00:00                     6.055926   \n",
       "3  2016-01-15 03:00:00                     6.047977   \n",
       "4  2016-01-15 04:00:00                     6.148599   \n",
       "\n",
       "   final.output.concentrate_pb  final.output.concentrate_sol  \\\n",
       "0                     9.889648                      5.507324   \n",
       "1                     9.968944                      5.257781   \n",
       "2                    10.213995                      5.383759   \n",
       "3                     9.977019                      4.858634   \n",
       "4                    10.142511                      4.939416   \n",
       "\n",
       "   final.output.concentrate_au  final.output.recovery  final.output.tail_ag  \\\n",
       "0                    42.192020              70.541216             10.411962   \n",
       "1                    42.701629              69.266198             10.462676   \n",
       "2                    42.657501              68.116445             10.507046   \n",
       "3                    42.689819              68.347543             10.422762   \n",
       "4                    42.774141              66.927016             10.360302   \n",
       "\n",
       "   final.output.tail_pb  final.output.tail_sol  final.output.tail_au  ...  \\\n",
       "0              0.895447              16.904297              2.143149  ...   \n",
       "1              0.927452              16.634514              2.224930  ...   \n",
       "2              0.953716              16.208849              2.257889  ...   \n",
       "3              0.883763              16.532835              2.146849  ...   \n",
       "4              0.792826              16.525686              2.055292  ...   \n",
       "\n",
       "   secondary_cleaner.state.floatbank4_a_air  \\\n",
       "0                                 14.016835   \n",
       "1                                 13.992281   \n",
       "2                                 14.015015   \n",
       "3                                 14.036510   \n",
       "4                                 14.027298   \n",
       "\n",
       "   secondary_cleaner.state.floatbank4_a_level  \\\n",
       "0                                 -502.488007   \n",
       "1                                 -505.503262   \n",
       "2                                 -502.520901   \n",
       "3                                 -500.857308   \n",
       "4                                 -499.838632   \n",
       "\n",
       "   secondary_cleaner.state.floatbank4_b_air  \\\n",
       "0                                 12.099931   \n",
       "1                                 11.950531   \n",
       "2                                 11.912783   \n",
       "3                                 11.999550   \n",
       "4                                 11.953070   \n",
       "\n",
       "   secondary_cleaner.state.floatbank4_b_level  \\\n",
       "0                                 -504.715942   \n",
       "1                                 -501.331529   \n",
       "2                                 -501.133383   \n",
       "3                                 -501.193686   \n",
       "4                                 -501.053894   \n",
       "\n",
       "   secondary_cleaner.state.floatbank5_a_air  \\\n",
       "0                                  9.925633   \n",
       "1                                 10.039245   \n",
       "2                                 10.070913   \n",
       "3                                  9.970366   \n",
       "4                                  9.925709   \n",
       "\n",
       "   secondary_cleaner.state.floatbank5_a_level  \\\n",
       "0                                 -498.310211   \n",
       "1                                 -500.169983   \n",
       "2                                 -500.129135   \n",
       "3                                 -499.201640   \n",
       "4                                 -501.686727   \n",
       "\n",
       "   secondary_cleaner.state.floatbank5_b_air  \\\n",
       "0                                  8.079666   \n",
       "1                                  7.984757   \n",
       "2                                  8.013877   \n",
       "3                                  7.977324   \n",
       "4                                  7.894242   \n",
       "\n",
       "   secondary_cleaner.state.floatbank5_b_level  \\\n",
       "0                                 -500.470978   \n",
       "1                                 -500.582168   \n",
       "2                                 -500.517572   \n",
       "3                                 -500.255908   \n",
       "4                                 -500.356035   \n",
       "\n",
       "   secondary_cleaner.state.floatbank6_a_air  \\\n",
       "0                                 14.151341   \n",
       "1                                 13.998353   \n",
       "2                                 14.028663   \n",
       "3                                 14.005551   \n",
       "4                                 13.996647   \n",
       "\n",
       "   secondary_cleaner.state.floatbank6_a_level  \n",
       "0                                 -605.841980  \n",
       "1                                 -599.787184  \n",
       "2                                 -601.427363  \n",
       "3                                 -599.996129  \n",
       "4                                 -601.496691  \n",
       "\n",
       "[5 rows x 87 columns]"
      ]
     },
     "execution_count": 8,
     "metadata": {},
     "output_type": "execute_result"
    }
   ],
   "source": [
    "data_full.head()"
   ]
  },
  {
   "cell_type": "markdown",
   "metadata": {},
   "source": [
    "#### Вывод:\n",
    "В каждой таблице наблюдаются пропуски"
   ]
  },
  {
   "cell_type": "markdown",
   "metadata": {},
   "source": [
    "### Проверка эффективности обогащения и расчет MAE"
   ]
  },
  {
   "cell_type": "markdown",
   "metadata": {},
   "source": [
    "Формула: \n",
    "    \n",
    "    Recovery = (C*(F-T)) / (F*(C-T)) * 100\n",
    "\n",
    "* C — доля золота в концентрате после флотации/очистки;\n",
    "* F — доля золота в сырье/концентрате до флотации/очистки;\n",
    "* T — доля золота в отвальных хвостах после флотации/очистки.\n",
    "\n"
   ]
  },
  {
   "cell_type": "markdown",
   "metadata": {},
   "source": [
    "#### Выделим в отдельную таблицу для удобного расчета"
   ]
  },
  {
   "cell_type": "code",
   "execution_count": 9,
   "metadata": {},
   "outputs": [],
   "source": [
    "mae_columns = ['rougher.output.recovery','rougher.output.concentrate_au',\n",
    "               'rougher.input.feed_au', 'rougher.output.tail_au']"
   ]
  },
  {
   "cell_type": "code",
   "execution_count": 10,
   "metadata": {},
   "outputs": [
    {
     "name": "stdout",
     "output_type": "stream",
     "text": [
      "<class 'pandas.core.frame.DataFrame'>\n",
      "RangeIndex: 14149 entries, 0 to 14148\n",
      "Data columns (total 4 columns):\n",
      " #   Column                         Non-Null Count  Dtype  \n",
      "---  ------                         --------------  -----  \n",
      " 0   rougher.output.recovery        14149 non-null  float64\n",
      " 1   rougher.output.concentrate_au  14149 non-null  float64\n",
      " 2   rougher.input.feed_au          14149 non-null  float64\n",
      " 3   rougher.output.tail_au         14149 non-null  float64\n",
      "dtypes: float64(4)\n",
      "memory usage: 442.3 KB\n"
     ]
    }
   ],
   "source": [
    "mae_data = data_train[mae_columns]\n",
    "mae_data.info()"
   ]
  },
  {
   "cell_type": "code",
   "execution_count": 11,
   "metadata": {},
   "outputs": [
    {
     "name": "stdout",
     "output_type": "stream",
     "text": [
      "<class 'pandas.core.frame.DataFrame'>\n",
      "Int64Index: 14149 entries, 0 to 14148\n",
      "Data columns (total 4 columns):\n",
      " #   Column                         Non-Null Count  Dtype  \n",
      "---  ------                         --------------  -----  \n",
      " 0   rougher.output.recovery        14149 non-null  float64\n",
      " 1   rougher.output.concentrate_au  14149 non-null  float64\n",
      " 2   rougher.input.feed_au          14149 non-null  float64\n",
      " 3   rougher.output.tail_au         14149 non-null  float64\n",
      "dtypes: float64(4)\n",
      "memory usage: 552.7 KB\n"
     ]
    }
   ],
   "source": [
    "mae_data.dropna(inplace=True)\n",
    "mae_data.info()"
   ]
  },
  {
   "cell_type": "code",
   "execution_count": 12,
   "metadata": {},
   "outputs": [],
   "source": [
    "C = mae_data['rougher.output.concentrate_au']\n",
    "F = mae_data['rougher.input.feed_au']\n",
    "T = mae_data['rougher.output.tail_au']"
   ]
  },
  {
   "cell_type": "code",
   "execution_count": 13,
   "metadata": {},
   "outputs": [],
   "source": [
    "mae_data['recovery_calc'] = ((C * (F - T)) / (F * (C - T))) * 100"
   ]
  },
  {
   "cell_type": "code",
   "execution_count": 14,
   "metadata": {},
   "outputs": [
    {
     "name": "stdout",
     "output_type": "stream",
     "text": [
      "MAE составило 9.73512347450521e-15\n"
     ]
    }
   ],
   "source": [
    "print('MAE составило', MAE(mae_data['rougher.output.recovery'], mae_data['recovery_calc']))"
   ]
  },
  {
   "cell_type": "markdown",
   "metadata": {},
   "source": [
    "#### Вывод:\n",
    "MAE получился очень маленьким (почти 0). Это означает, что параметр recovery в train рассчитан верно"
   ]
  },
  {
   "cell_type": "markdown",
   "metadata": {},
   "source": [
    "### Анализ признаков, недоступных в тестовой выборке"
   ]
  },
  {
   "cell_type": "code",
   "execution_count": 15,
   "metadata": {
    "scrolled": true
   },
   "outputs": [
    {
     "data": {
      "text/plain": [
       "['final.output.concentrate_ag',\n",
       " 'final.output.concentrate_au',\n",
       " 'final.output.concentrate_pb',\n",
       " 'final.output.concentrate_sol',\n",
       " 'final.output.recovery',\n",
       " 'final.output.tail_ag',\n",
       " 'final.output.tail_au',\n",
       " 'final.output.tail_pb',\n",
       " 'final.output.tail_sol',\n",
       " 'primary_cleaner.output.concentrate_ag',\n",
       " 'primary_cleaner.output.concentrate_au',\n",
       " 'primary_cleaner.output.concentrate_pb',\n",
       " 'primary_cleaner.output.concentrate_sol',\n",
       " 'primary_cleaner.output.tail_ag',\n",
       " 'primary_cleaner.output.tail_au',\n",
       " 'primary_cleaner.output.tail_pb',\n",
       " 'primary_cleaner.output.tail_sol',\n",
       " 'rougher.calculation.au_pb_ratio',\n",
       " 'rougher.calculation.floatbank10_sulfate_to_au_feed',\n",
       " 'rougher.calculation.floatbank11_sulfate_to_au_feed',\n",
       " 'rougher.calculation.sulfate_to_au_concentrate',\n",
       " 'rougher.output.concentrate_ag',\n",
       " 'rougher.output.concentrate_au',\n",
       " 'rougher.output.concentrate_pb',\n",
       " 'rougher.output.concentrate_sol',\n",
       " 'rougher.output.recovery',\n",
       " 'rougher.output.tail_ag',\n",
       " 'rougher.output.tail_au',\n",
       " 'rougher.output.tail_pb',\n",
       " 'rougher.output.tail_sol',\n",
       " 'secondary_cleaner.output.tail_ag',\n",
       " 'secondary_cleaner.output.tail_au',\n",
       " 'secondary_cleaner.output.tail_pb',\n",
       " 'secondary_cleaner.output.tail_sol']"
      ]
     },
     "execution_count": 15,
     "metadata": {},
     "output_type": "execute_result"
    }
   ],
   "source": [
    "different_columns = list(data_train.columns.difference(data_test.columns))\n",
    "different_columns"
   ]
  },
  {
   "cell_type": "markdown",
   "metadata": {},
   "source": [
    "#### Вывод:\n",
    "Все признаки принадлежат `output`, то есть целевые признаки, которые не могут быть получены во вермя технологического процесса."
   ]
  },
  {
   "cell_type": "markdown",
   "metadata": {},
   "source": [
    "### Предобработка данных"
   ]
  },
  {
   "cell_type": "code",
   "execution_count": 16,
   "metadata": {},
   "outputs": [],
   "source": [
    "data_train['date'] = pd.to_datetime(data_train['date'], format='%Y-%m-%dT%H:%M:%S')\n",
    "data_test['date'] = pd.to_datetime(data_test['date'], format='%Y-%m-%dT%H:%M:%S')\n",
    "data_full['date'] = pd.to_datetime(data_full['date'], format='%Y-%m-%dT%H:%M:%S')"
   ]
  },
  {
   "cell_type": "code",
   "execution_count": 17,
   "metadata": {},
   "outputs": [
    {
     "data": {
      "text/plain": [
       "(5290, 53)"
      ]
     },
     "execution_count": 17,
     "metadata": {},
     "output_type": "execute_result"
    }
   ],
   "source": [
    "data_test.shape"
   ]
  },
  {
   "cell_type": "code",
   "execution_count": 18,
   "metadata": {},
   "outputs": [],
   "source": [
    "data_test = data_full[data_full['date'].isin(data_test['date'])]"
   ]
  },
  {
   "cell_type": "code",
   "execution_count": 19,
   "metadata": {},
   "outputs": [
    {
     "data": {
      "text/plain": [
       "(5290, 87)"
      ]
     },
     "execution_count": 19,
     "metadata": {},
     "output_type": "execute_result"
    }
   ],
   "source": [
    "data_test.shape"
   ]
  },
  {
   "cell_type": "markdown",
   "metadata": {},
   "source": [
    "#### Удаления пропусков в целевых признаках"
   ]
  },
  {
   "cell_type": "code",
   "execution_count": 20,
   "metadata": {},
   "outputs": [],
   "source": [
    "data_train.dropna(subset=['rougher.output.recovery','final.output.recovery'], inplace=True)\n",
    "data_test.dropna(subset=['rougher.output.recovery','final.output.recovery'], inplace=True)\n",
    "data_full.dropna(subset=['rougher.output.recovery','final.output.recovery'], inplace=True)"
   ]
  },
  {
   "cell_type": "markdown",
   "metadata": {},
   "source": [
    "#### Заполнение пропусков"
   ]
  },
  {
   "cell_type": "code",
   "execution_count": 21,
   "metadata": {},
   "outputs": [
    {
     "name": "stdout",
     "output_type": "stream",
     "text": [
      "4100\n",
      "381\n",
      "4481\n"
     ]
    }
   ],
   "source": [
    "for data in (data_train, data_test, data_full):\n",
    "    print(data.isna().sum().sum())"
   ]
  },
  {
   "cell_type": "code",
   "execution_count": 22,
   "metadata": {},
   "outputs": [],
   "source": [
    "for data in (data_train, data_test, data_full):\n",
    "    data.fillna(method='ffill', inplace=True)"
   ]
  },
  {
   "cell_type": "code",
   "execution_count": 23,
   "metadata": {},
   "outputs": [
    {
     "name": "stdout",
     "output_type": "stream",
     "text": [
      "0\n",
      "0\n",
      "0\n"
     ]
    }
   ],
   "source": [
    "for data in (data_train, data_test, data_full):\n",
    "    print(data.isna().sum().sum())"
   ]
  },
  {
   "cell_type": "markdown",
   "metadata": {},
   "source": [
    "### Вывод:\n",
    "* Изучены полученные данные;\n",
    "* Проверена эффективность обогащения и расчитана MAE. Результат показал, что `MAE` приблизительна равна `0`. Это говорит о том, что параметр `recovery` в `train` рассчитан верно;\n",
    "* Выделены признаки, которых нет в тестовой выборке. Эти признаки относятся уже к данным, полученных на выходе технологического процесса;\n",
    "* В тестовую выборку добавлены недостающие признаки и по всем таблицам заполнены пропуски."
   ]
  },
  {
   "cell_type": "markdown",
   "metadata": {},
   "source": [
    "## Анализ данных"
   ]
  },
  {
   "cell_type": "markdown",
   "metadata": {},
   "source": [
    "### Изменении концентрации металлов (Au, Ag, Pb) на различных этапах очистки"
   ]
  },
  {
   "cell_type": "code",
   "execution_count": 24,
   "metadata": {},
   "outputs": [],
   "source": [
    "concentrate = {'au':['rougher.input.feed_au','rougher.output.concentrate_au', 'primary_cleaner.output.concentrate_au', 'final.output.concentrate_au' ],\n",
    "               'ag':['rougher.input.feed_ag','rougher.output.concentrate_ag', 'primary_cleaner.output.concentrate_ag', 'final.output.concentrate_ag' ],\n",
    "               'pb':['rougher.input.feed_pb','rougher.output.concentrate_pb', 'primary_cleaner.output.concentrate_pb', 'final.output.concentrate_pb' ],\n",
    "                }"
   ]
  },
  {
   "cell_type": "markdown",
   "metadata": {},
   "source": [
    "#### Изменении концентрации Au на различных этапах очистки"
   ]
  },
  {
   "cell_type": "code",
   "execution_count": 25,
   "metadata": {
    "scrolled": false
   },
   "outputs": [
    {
     "data": {
      "image/png": "[encoded data removed]",
      "text/plain": [
       "<Figure size 936x432 with 1 Axes>"
      ]
     },
     "metadata": {
      "needs_background": "light"
     },
     "output_type": "display_data"
    }
   ],
   "source": [
    "plt.figure(figsize=(13,6))\n",
    "plt.ylim(0,55)\n",
    "sns.boxplot(data = data_train[concentrate[\"au\"]])\n",
    "plt.title(f'Распределение значений доли материала Au в концентрате на разных этапах ')\n",
    "plt.show()"
   ]
  },
  {
   "cell_type": "code",
   "execution_count": 26,
   "metadata": {},
   "outputs": [
    {
     "name": "stdout",
     "output_type": "stream",
     "text": [
      "Концентрация до флотации: 7.87\n",
      "Концентрация после флотации: 19.44\n",
      "Концентрация после первичной очистки: 32.39\n",
      "Финальная концентрация: 44.00\n"
     ]
    }
   ],
   "source": [
    "print(\"Концентрация до флотации:{: 0.2f}\".format(data_train[\"rougher.input.feed_au\"].mean()))\n",
    "print(\"Концентрация после флотации:{: 0.2f}\".format(data_train[\"rougher.output.concentrate_au\"].mean()))\n",
    "print(\"Концентрация после первичной очистки:{: 0.2f}\".format(data_train[\"primary_cleaner.output.concentrate_au\"].mean()))\n",
    "print(\"Финальная концентрация:{: 0.2f}\".format(data_train[\"final.output.concentrate_au\"].mean()))"
   ]
  },
  {
   "cell_type": "markdown",
   "metadata": {},
   "source": [
    "#### Изменении концентрации Ag на различных этапах очистки"
   ]
  },
  {
   "cell_type": "code",
   "execution_count": 27,
   "metadata": {},
   "outputs": [
    {
     "data": {
      "image/png": "[encoded data removed]",
      "text/plain": [
       "<Figure size 936x432 with 1 Axes>"
      ]
     },
     "metadata": {
      "needs_background": "light"
     },
     "output_type": "display_data"
    }
   ],
   "source": [
    "plt.figure(figsize=(13,6))\n",
    "plt.ylim(0,20)\n",
    "sns.boxplot(data = data_train[concentrate[\"ag\"]])\n",
    "plt.title(f'Распределение значений доли материала Ag в концентрате на разных этапах ')\n",
    "plt.show()"
   ]
  },
  {
   "cell_type": "code",
   "execution_count": 28,
   "metadata": {},
   "outputs": [
    {
     "name": "stdout",
     "output_type": "stream",
     "text": [
      "Концентрация до флотации: 8.58\n",
      "Концентрация после флотации: 11.78\n",
      "Концентрация после первичной очистки: 8.20\n",
      "Финальная концентрация: 5.14\n"
     ]
    }
   ],
   "source": [
    "print(\"Концентрация до флотации:{: 0.2f}\".format(data_train[\"rougher.input.feed_ag\"].mean()))\n",
    "print(\"Концентрация после флотации:{: 0.2f}\".format(data_train[\"rougher.output.concentrate_ag\"].mean()))\n",
    "print(\"Концентрация после первичной очистки:{: 0.2f}\".format(data_train[\"primary_cleaner.output.concentrate_ag\"].mean()))\n",
    "print(\"Финальная концентрация:{: 0.2f}\".format(data_train[\"final.output.concentrate_ag\"].mean()))"
   ]
  },
  {
   "cell_type": "markdown",
   "metadata": {},
   "source": [
    "#### Изменении концентрации Pb на различных этапах очистки"
   ]
  },
  {
   "cell_type": "code",
   "execution_count": 29,
   "metadata": {},
   "outputs": [
    {
     "data": {
      "image/png": "[encoded data removed]",
      "text/plain": [
       "<Figure size 936x432 with 1 Axes>"
      ]
     },
     "metadata": {
      "needs_background": "light"
     },
     "output_type": "display_data"
    }
   ],
   "source": [
    "plt.figure(figsize=(13,6))\n",
    "plt.ylim(0,20)\n",
    "sns.boxplot(data = data_train[concentrate[\"pb\"]])\n",
    "plt.title(f'Распределение значений доли материала Pb в концентрате на разных этапах ')\n",
    "plt.show()"
   ]
  },
  {
   "cell_type": "code",
   "execution_count": 30,
   "metadata": {},
   "outputs": [
    {
     "name": "stdout",
     "output_type": "stream",
     "text": [
      "Концентрация до флотации: 3.51\n",
      "Концентрация после флотации: 7.66\n",
      "Концентрация после первичной очистки: 9.57\n",
      "Финальная концентрация: 10.13\n"
     ]
    }
   ],
   "source": [
    "print(\"Концентрация до флотации:{: 0.2f}\".format(data_train[\"rougher.input.feed_pb\"].mean()))\n",
    "print(\"Концентрация после флотации:{: 0.2f}\".format(data_train[\"rougher.output.concentrate_pb\"].mean()))\n",
    "print(\"Концентрация после первичной очистки:{: 0.2f}\".format(data_train[\"primary_cleaner.output.concentrate_pb\"].mean()))\n",
    "print(\"Финальная концентрация:{: 0.2f}\".format(data_train[\"final.output.concentrate_pb\"].mean()))"
   ]
  },
  {
   "cell_type": "markdown",
   "metadata": {},
   "source": [
    "#### Вывод:"
   ]
  },
  {
   "cell_type": "markdown",
   "metadata": {},
   "source": [
    "В ходе технологического этапа - концентрации золота и свинца возрастают от этапа к этапу. А вот концентрация серебра уменьшается."
   ]
  },
  {
   "cell_type": "markdown",
   "metadata": {},
   "source": [
    "### Распределение размеров гранул сырья на обучающей и тестовой выборке"
   ]
  },
  {
   "cell_type": "code",
   "execution_count": 31,
   "metadata": {},
   "outputs": [
    {
     "data": {
      "image/png": "[encoded data removed]",
      "text/plain": [
       "<Figure size 720x432 with 1 Axes>"
      ]
     },
     "metadata": {
      "needs_background": "light"
     },
     "output_type": "display_data"
    }
   ],
   "source": [
    "fig = plt.figure(figsize=(10,6))\n",
    "sns.distplot(data_test['rougher.input.feed_size'])\n",
    "sns.distplot(data_train['rougher.input.feed_size'])\n",
    "plt.title('Распределение размера гранул на стадии флотации')\n",
    "plt.xlabel('Размер гранул')\n",
    "plt.legend(labels=['Размер гранул в тестовой выборке','Размер гранул в обучающей выборке'])\n",
    "plt.show()"
   ]
  },
  {
   "cell_type": "markdown",
   "metadata": {},
   "source": [
    "#### Вывод:"
   ]
  },
  {
   "cell_type": "markdown",
   "metadata": {},
   "source": [
    "Распределение размеров гранул сырья на обучающей и тестовой выборках близко похожи."
   ]
  },
  {
   "cell_type": "markdown",
   "metadata": {},
   "source": [
    "### Суммарная концентрация всех веществ на разных стадиях"
   ]
  },
  {
   "cell_type": "code",
   "execution_count": 32,
   "metadata": {},
   "outputs": [],
   "source": [
    "data_train['concentrate_start_sum'] = data_train[\"rougher.input.feed_pb\"] + data_train[\"rougher.input.feed_au\"] + data_train[\"rougher.input.feed_ag\"] + data_train[\"rougher.input.feed_sol\"]\n",
    "data_train['concentrate_after_flot_sum'] = data_train[\"rougher.output.concentrate_pb\"] + data_train[\"rougher.output.concentrate_au\"] + data_train[\"rougher.output.concentrate_ag\"] + data_train[\"rougher.output.concentrate_sol\"]\n",
    "data_train['concentrate_after_first_clean_sum'] =data_train[\"primary_cleaner.output.concentrate_pb\"] + data_train[\"primary_cleaner.output.concentrate_au\"] + data_train[\"primary_cleaner.output.concentrate_ag\"] + data_train[\"primary_cleaner.output.concentrate_sol\"]\n",
    "data_train['final_concentrate_sum'] = data_train[\"final.output.concentrate_pb\"] + data_train[\"final.output.concentrate_au\"] + data_train[\"final.output.concentrate_ag\"] + data_train[\"final.output.concentrate_sol\"]"
   ]
  },
  {
   "cell_type": "code",
   "execution_count": 33,
   "metadata": {},
   "outputs": [],
   "source": [
    "data_test['concentrate_start_sum'] = data_test[\"rougher.input.feed_pb\"] + data_test[\"rougher.input.feed_au\"] + data_test[\"rougher.input.feed_ag\"] + data_test[\"rougher.input.feed_sol\"]\n",
    "data_test['concentrate_after_flot_sum'] = data_test[\"rougher.output.concentrate_pb\"] + data_test[\"rougher.output.concentrate_au\"] + data_test[\"rougher.output.concentrate_ag\"] + data_test[\"rougher.output.concentrate_sol\"]\n",
    "data_test['concentrate_after_first_clean_sum'] =data_test[\"primary_cleaner.output.concentrate_pb\"] + data_test[\"primary_cleaner.output.concentrate_au\"] + data_test[\"primary_cleaner.output.concentrate_ag\"] + data_test[\"primary_cleaner.output.concentrate_sol\"]\n",
    "data_test['final_concentrate_sum'] = data_test[\"final.output.concentrate_pb\"] + data_test[\"final.output.concentrate_au\"] + data_test[\"final.output.concentrate_ag\"] + data_test[\"final.output.concentrate_sol\"]"
   ]
  },
  {
   "cell_type": "code",
   "execution_count": 34,
   "metadata": {},
   "outputs": [
    {
     "data": {
      "image/png": "[encoded data removed]",
      "text/plain": [
       "<Figure size 864x504 with 4 Axes>"
      ]
     },
     "metadata": {
      "needs_background": "light"
     },
     "output_type": "display_data"
    },
    {
     "data": {
      "image/png": "[encoded data removed]",
      "text/plain": [
       "<Figure size 864x504 with 4 Axes>"
      ]
     },
     "metadata": {
      "needs_background": "light"
     },
     "output_type": "display_data"
    }
   ],
   "source": [
    "for data in data_train,data_test:\n",
    "    f, axes = plt.subplots(2, 2, figsize=(12, 7))\n",
    "    sns.distplot(data['concentrate_start_sum'], color=\"green\", ax=axes[0, 0])\n",
    "    sns.distplot(data['concentrate_after_flot_sum'], color=\"blue\", ax=axes[0, 1])\n",
    "    sns.distplot(data['concentrate_after_first_clean_sum'], color=\"pink\", ax=axes[1, 0]);\n",
    "    sns.distplot(data['final_concentrate_sum'], color=\"red\", ax=axes[1, 1]);"
   ]
  },
  {
   "cell_type": "markdown",
   "metadata": {},
   "source": [
    "#### Вывод:"
   ]
  },
  {
   "cell_type": "markdown",
   "metadata": {},
   "source": [
    "Распределение графиокв нормальное. С течением времени концентрация увеличиваеися, так как происходит технологический процесс. Однако есть аномальные значения в районе нулевых значений. От них следует избавиться"
   ]
  },
  {
   "cell_type": "code",
   "execution_count": 35,
   "metadata": {},
   "outputs": [],
   "source": [
    "data_test = data_test[(data_test[\"concentrate_start_sum\"] > 1) \n",
    "                      & (data_test[\"concentrate_after_flot_sum\"] > 1)\n",
    "                      & (data_test[\"concentrate_after_first_clean_sum\"] > 1) \n",
    "                      & (data_test[\"final_concentrate_sum\"] > 1)]"
   ]
  },
  {
   "cell_type": "code",
   "execution_count": 36,
   "metadata": {},
   "outputs": [],
   "source": [
    "data_train = data_train[(data_train[\"concentrate_start_sum\"] > 1) \n",
    "                      & (data_train[\"concentrate_after_flot_sum\"] > 1)\n",
    "                      & (data_train[\"concentrate_after_first_clean_sum\"] > 1) \n",
    "                      & (data_train[\"final_concentrate_sum\"] > 1)]"
   ]
  },
  {
   "cell_type": "code",
   "execution_count": 37,
   "metadata": {},
   "outputs": [
    {
     "data": {
      "image/png": "[encoded data removed]",
      "text/plain": [
       "<Figure size 864x504 with 4 Axes>"
      ]
     },
     "metadata": {
      "needs_background": "light"
     },
     "output_type": "display_data"
    },
    {
     "data": {
      "image/png": "[encoded data removed]",
      "text/plain": [
       "<Figure size 864x504 with 4 Axes>"
      ]
     },
     "metadata": {
      "needs_background": "light"
     },
     "output_type": "display_data"
    }
   ],
   "source": [
    "for data in data_train,data_test:\n",
    "    f, axes = plt.subplots(2, 2, figsize=(12, 7))\n",
    "    sns.distplot(data['concentrate_start_sum'], color=\"green\", ax=axes[0, 0])\n",
    "    sns.distplot(data['concentrate_after_flot_sum'], color=\"blue\", ax=axes[0, 1])\n",
    "    sns.distplot(data['concentrate_after_first_clean_sum'], color=\"pink\", ax=axes[1, 0]);\n",
    "    sns.distplot(data['final_concentrate_sum'], color=\"red\", ax=axes[1, 1]);"
   ]
  },
  {
   "cell_type": "markdown",
   "metadata": {},
   "source": [
    "## Модель"
   ]
  },
  {
   "cell_type": "markdown",
   "metadata": {},
   "source": [
    "### Функцию для вычисления итоговой sMAPE"
   ]
  },
  {
   "cell_type": "code",
   "execution_count": 38,
   "metadata": {},
   "outputs": [],
   "source": [
    "def smape(y, y_pred):\n",
    "    return (((abs(y - y_pred) * 2 * 100) /\n",
    "              (abs(y) + abs(y_pred))).sum()) / len(y)\n",
    "\n",
    "def end_smape(rougher_smape, final_smape):\n",
    "    return 0.25 * rougher_smape+ 0.75 * final_smape"
   ]
  },
  {
   "cell_type": "markdown",
   "metadata": {},
   "source": [
    "### Обучение моделей"
   ]
  },
  {
   "cell_type": "markdown",
   "metadata": {},
   "source": [
    "#### Подготовка файлов"
   ]
  },
  {
   "cell_type": "code",
   "execution_count": 39,
   "metadata": {},
   "outputs": [],
   "source": [
    "data_train.drop('concentrate_start_sum', axis=1, inplace=True)\n",
    "data_train.drop('concentrate_after_flot_sum', axis=1, inplace=True)\n",
    "data_train.drop('concentrate_after_first_clean_sum', axis=1, inplace=True)\n",
    "data_train.drop('final_concentrate_sum', axis=1, inplace=True)\n",
    "data_test.drop('concentrate_start_sum', axis=1, inplace=True)\n",
    "data_test.drop('concentrate_after_flot_sum', axis=1, inplace=True)\n",
    "data_test.drop('concentrate_after_first_clean_sum', axis=1, inplace=True)\n",
    "data_test.drop('final_concentrate_sum', axis=1, inplace=True)"
   ]
  },
  {
   "cell_type": "code",
   "execution_count": 40,
   "metadata": {},
   "outputs": [],
   "source": [
    "list_to_del = []\n",
    "for column in data_test.columns:\n",
    "    if \"final.output.recovery\" in column or \"rougher.output.recovery\" in column:\n",
    "        list_to_del.append(column)\n",
    "    if \".output.\" not in column:\n",
    "        list_to_del.append(column)"
   ]
  },
  {
   "cell_type": "code",
   "execution_count": 41,
   "metadata": {},
   "outputs": [],
   "source": [
    "remove_list = [\"date\",\"rougher.calculation.sulfate_to_au_concentrate\",\n",
    "               \"rougher.calculation.floatbank10_sulfate_to_au_feed\",\n",
    "               \"rougher.calculation.floatbank11_sulfate_to_au_feed\",\n",
    "               \"rougher.calculation.au_pb_ratio\"]"
   ]
  },
  {
   "cell_type": "code",
   "execution_count": 42,
   "metadata": {},
   "outputs": [],
   "source": [
    "# Когда первый раз срабатывает, то выдает ошибку о выходе за пределы range.\n",
    "#При повторном срабатывании все хорошо. Не могу понять почему так. Даже если вычитать единицу из range\n",
    "try:\n",
    "    for i in range(len(list_to_del)):\n",
    "        for j in range(len(remove_list)):\n",
    "            if remove_list[j] == list_to_del[i]:\n",
    "                list_to_del.remove(remove_list[j])\n",
    "except:\n",
    "    for i in range(len(list_to_del)):\n",
    "        for j in range(len(remove_list)):\n",
    "            if remove_list[j] == list_to_del[i]:\n",
    "                list_to_del.remove(remove_list[j])"
   ]
  },
  {
   "cell_type": "code",
   "execution_count": 43,
   "metadata": {},
   "outputs": [],
   "source": [
    "data_train_1 = data_train[list_to_del]"
   ]
  },
  {
   "cell_type": "code",
   "execution_count": 44,
   "metadata": {},
   "outputs": [
    {
     "data": {
      "text/plain": [
       "(13599, 54)"
      ]
     },
     "execution_count": 44,
     "metadata": {},
     "output_type": "execute_result"
    }
   ],
   "source": [
    "data_train_1.shape"
   ]
  },
  {
   "cell_type": "code",
   "execution_count": 45,
   "metadata": {},
   "outputs": [
    {
     "data": {
      "text/html": [
       "<div>\n",
       "<style scoped>\n",
       "    .dataframe tbody tr th:only-of-type {\n",
       "        vertical-align: middle;\n",
       "    }\n",
       "\n",
       "    .dataframe tbody tr th {\n",
       "        vertical-align: top;\n",
       "    }\n",
       "\n",
       "    .dataframe thead th {\n",
       "        text-align: right;\n",
       "    }\n",
       "</style>\n",
       "<table border=\"1\" class=\"dataframe\">\n",
       "  <thead>\n",
       "    <tr style=\"text-align: right;\">\n",
       "      <th></th>\n",
       "      <th>final.output.recovery</th>\n",
       "      <th>primary_cleaner.input.sulfate</th>\n",
       "      <th>primary_cleaner.input.depressant</th>\n",
       "      <th>primary_cleaner.input.feed_size</th>\n",
       "      <th>primary_cleaner.input.xanthate</th>\n",
       "      <th>primary_cleaner.state.floatbank8_a_air</th>\n",
       "      <th>primary_cleaner.state.floatbank8_a_level</th>\n",
       "      <th>primary_cleaner.state.floatbank8_b_air</th>\n",
       "      <th>primary_cleaner.state.floatbank8_b_level</th>\n",
       "      <th>primary_cleaner.state.floatbank8_c_air</th>\n",
       "      <th>...</th>\n",
       "      <th>secondary_cleaner.state.floatbank4_a_air</th>\n",
       "      <th>secondary_cleaner.state.floatbank4_a_level</th>\n",
       "      <th>secondary_cleaner.state.floatbank4_b_air</th>\n",
       "      <th>secondary_cleaner.state.floatbank4_b_level</th>\n",
       "      <th>secondary_cleaner.state.floatbank5_a_air</th>\n",
       "      <th>secondary_cleaner.state.floatbank5_a_level</th>\n",
       "      <th>secondary_cleaner.state.floatbank5_b_air</th>\n",
       "      <th>secondary_cleaner.state.floatbank5_b_level</th>\n",
       "      <th>secondary_cleaner.state.floatbank6_a_air</th>\n",
       "      <th>secondary_cleaner.state.floatbank6_a_level</th>\n",
       "    </tr>\n",
       "  </thead>\n",
       "  <tbody>\n",
       "    <tr>\n",
       "      <th>0</th>\n",
       "      <td>70.541216</td>\n",
       "      <td>127.092003</td>\n",
       "      <td>10.128295</td>\n",
       "      <td>7.25</td>\n",
       "      <td>0.988759</td>\n",
       "      <td>1549.775757</td>\n",
       "      <td>-498.912140</td>\n",
       "      <td>1551.434204</td>\n",
       "      <td>-516.403442</td>\n",
       "      <td>1549.873901</td>\n",
       "      <td>...</td>\n",
       "      <td>14.016835</td>\n",
       "      <td>-502.488007</td>\n",
       "      <td>12.099931</td>\n",
       "      <td>-504.715942</td>\n",
       "      <td>9.925633</td>\n",
       "      <td>-498.310211</td>\n",
       "      <td>8.079666</td>\n",
       "      <td>-500.470978</td>\n",
       "      <td>14.151341</td>\n",
       "      <td>-605.841980</td>\n",
       "    </tr>\n",
       "    <tr>\n",
       "      <th>1</th>\n",
       "      <td>69.266198</td>\n",
       "      <td>125.629232</td>\n",
       "      <td>10.296251</td>\n",
       "      <td>7.25</td>\n",
       "      <td>1.002663</td>\n",
       "      <td>1576.166671</td>\n",
       "      <td>-500.904965</td>\n",
       "      <td>1575.950626</td>\n",
       "      <td>-499.865889</td>\n",
       "      <td>1575.994189</td>\n",
       "      <td>...</td>\n",
       "      <td>13.992281</td>\n",
       "      <td>-505.503262</td>\n",
       "      <td>11.950531</td>\n",
       "      <td>-501.331529</td>\n",
       "      <td>10.039245</td>\n",
       "      <td>-500.169983</td>\n",
       "      <td>7.984757</td>\n",
       "      <td>-500.582168</td>\n",
       "      <td>13.998353</td>\n",
       "      <td>-599.787184</td>\n",
       "    </tr>\n",
       "    <tr>\n",
       "      <th>2</th>\n",
       "      <td>68.116445</td>\n",
       "      <td>123.819808</td>\n",
       "      <td>11.316280</td>\n",
       "      <td>7.25</td>\n",
       "      <td>0.991265</td>\n",
       "      <td>1601.556163</td>\n",
       "      <td>-499.997791</td>\n",
       "      <td>1600.386685</td>\n",
       "      <td>-500.607762</td>\n",
       "      <td>1602.003542</td>\n",
       "      <td>...</td>\n",
       "      <td>14.015015</td>\n",
       "      <td>-502.520901</td>\n",
       "      <td>11.912783</td>\n",
       "      <td>-501.133383</td>\n",
       "      <td>10.070913</td>\n",
       "      <td>-500.129135</td>\n",
       "      <td>8.013877</td>\n",
       "      <td>-500.517572</td>\n",
       "      <td>14.028663</td>\n",
       "      <td>-601.427363</td>\n",
       "    </tr>\n",
       "    <tr>\n",
       "      <th>3</th>\n",
       "      <td>68.347543</td>\n",
       "      <td>122.270188</td>\n",
       "      <td>11.322140</td>\n",
       "      <td>7.25</td>\n",
       "      <td>0.996739</td>\n",
       "      <td>1599.968720</td>\n",
       "      <td>-500.951778</td>\n",
       "      <td>1600.659236</td>\n",
       "      <td>-499.677094</td>\n",
       "      <td>1600.304144</td>\n",
       "      <td>...</td>\n",
       "      <td>14.036510</td>\n",
       "      <td>-500.857308</td>\n",
       "      <td>11.999550</td>\n",
       "      <td>-501.193686</td>\n",
       "      <td>9.970366</td>\n",
       "      <td>-499.201640</td>\n",
       "      <td>7.977324</td>\n",
       "      <td>-500.255908</td>\n",
       "      <td>14.005551</td>\n",
       "      <td>-599.996129</td>\n",
       "    </tr>\n",
       "    <tr>\n",
       "      <th>4</th>\n",
       "      <td>66.927016</td>\n",
       "      <td>117.988169</td>\n",
       "      <td>11.913613</td>\n",
       "      <td>7.25</td>\n",
       "      <td>1.009869</td>\n",
       "      <td>1601.339707</td>\n",
       "      <td>-498.975456</td>\n",
       "      <td>1601.437854</td>\n",
       "      <td>-500.323246</td>\n",
       "      <td>1599.581894</td>\n",
       "      <td>...</td>\n",
       "      <td>14.027298</td>\n",
       "      <td>-499.838632</td>\n",
       "      <td>11.953070</td>\n",
       "      <td>-501.053894</td>\n",
       "      <td>9.925709</td>\n",
       "      <td>-501.686727</td>\n",
       "      <td>7.894242</td>\n",
       "      <td>-500.356035</td>\n",
       "      <td>13.996647</td>\n",
       "      <td>-601.496691</td>\n",
       "    </tr>\n",
       "  </tbody>\n",
       "</table>\n",
       "<p>5 rows × 54 columns</p>\n",
       "</div>"
      ],
      "text/plain": [
       "   final.output.recovery  primary_cleaner.input.sulfate  \\\n",
       "0              70.541216                     127.092003   \n",
       "1              69.266198                     125.629232   \n",
       "2              68.116445                     123.819808   \n",
       "3              68.347543                     122.270188   \n",
       "4              66.927016                     117.988169   \n",
       "\n",
       "   primary_cleaner.input.depressant  primary_cleaner.input.feed_size  \\\n",
       "0                         10.128295                             7.25   \n",
       "1                         10.296251                             7.25   \n",
       "2                         11.316280                             7.25   \n",
       "3                         11.322140                             7.25   \n",
       "4                         11.913613                             7.25   \n",
       "\n",
       "   primary_cleaner.input.xanthate  primary_cleaner.state.floatbank8_a_air  \\\n",
       "0                        0.988759                             1549.775757   \n",
       "1                        1.002663                             1576.166671   \n",
       "2                        0.991265                             1601.556163   \n",
       "3                        0.996739                             1599.968720   \n",
       "4                        1.009869                             1601.339707   \n",
       "\n",
       "   primary_cleaner.state.floatbank8_a_level  \\\n",
       "0                               -498.912140   \n",
       "1                               -500.904965   \n",
       "2                               -499.997791   \n",
       "3                               -500.951778   \n",
       "4                               -498.975456   \n",
       "\n",
       "   primary_cleaner.state.floatbank8_b_air  \\\n",
       "0                             1551.434204   \n",
       "1                             1575.950626   \n",
       "2                             1600.386685   \n",
       "3                             1600.659236   \n",
       "4                             1601.437854   \n",
       "\n",
       "   primary_cleaner.state.floatbank8_b_level  \\\n",
       "0                               -516.403442   \n",
       "1                               -499.865889   \n",
       "2                               -500.607762   \n",
       "3                               -499.677094   \n",
       "4                               -500.323246   \n",
       "\n",
       "   primary_cleaner.state.floatbank8_c_air  ...  \\\n",
       "0                             1549.873901  ...   \n",
       "1                             1575.994189  ...   \n",
       "2                             1602.003542  ...   \n",
       "3                             1600.304144  ...   \n",
       "4                             1599.581894  ...   \n",
       "\n",
       "   secondary_cleaner.state.floatbank4_a_air  \\\n",
       "0                                 14.016835   \n",
       "1                                 13.992281   \n",
       "2                                 14.015015   \n",
       "3                                 14.036510   \n",
       "4                                 14.027298   \n",
       "\n",
       "   secondary_cleaner.state.floatbank4_a_level  \\\n",
       "0                                 -502.488007   \n",
       "1                                 -505.503262   \n",
       "2                                 -502.520901   \n",
       "3                                 -500.857308   \n",
       "4                                 -499.838632   \n",
       "\n",
       "   secondary_cleaner.state.floatbank4_b_air  \\\n",
       "0                                 12.099931   \n",
       "1                                 11.950531   \n",
       "2                                 11.912783   \n",
       "3                                 11.999550   \n",
       "4                                 11.953070   \n",
       "\n",
       "   secondary_cleaner.state.floatbank4_b_level  \\\n",
       "0                                 -504.715942   \n",
       "1                                 -501.331529   \n",
       "2                                 -501.133383   \n",
       "3                                 -501.193686   \n",
       "4                                 -501.053894   \n",
       "\n",
       "   secondary_cleaner.state.floatbank5_a_air  \\\n",
       "0                                  9.925633   \n",
       "1                                 10.039245   \n",
       "2                                 10.070913   \n",
       "3                                  9.970366   \n",
       "4                                  9.925709   \n",
       "\n",
       "   secondary_cleaner.state.floatbank5_a_level  \\\n",
       "0                                 -498.310211   \n",
       "1                                 -500.169983   \n",
       "2                                 -500.129135   \n",
       "3                                 -499.201640   \n",
       "4                                 -501.686727   \n",
       "\n",
       "   secondary_cleaner.state.floatbank5_b_air  \\\n",
       "0                                  8.079666   \n",
       "1                                  7.984757   \n",
       "2                                  8.013877   \n",
       "3                                  7.977324   \n",
       "4                                  7.894242   \n",
       "\n",
       "   secondary_cleaner.state.floatbank5_b_level  \\\n",
       "0                                 -500.470978   \n",
       "1                                 -500.582168   \n",
       "2                                 -500.517572   \n",
       "3                                 -500.255908   \n",
       "4                                 -500.356035   \n",
       "\n",
       "   secondary_cleaner.state.floatbank6_a_air  \\\n",
       "0                                 14.151341   \n",
       "1                                 13.998353   \n",
       "2                                 14.028663   \n",
       "3                                 14.005551   \n",
       "4                                 13.996647   \n",
       "\n",
       "   secondary_cleaner.state.floatbank6_a_level  \n",
       "0                                 -605.841980  \n",
       "1                                 -599.787184  \n",
       "2                                 -601.427363  \n",
       "3                                 -599.996129  \n",
       "4                                 -601.496691  \n",
       "\n",
       "[5 rows x 54 columns]"
      ]
     },
     "execution_count": 45,
     "metadata": {},
     "output_type": "execute_result"
    }
   ],
   "source": [
    "data_train_1.head()"
   ]
  },
  {
   "cell_type": "markdown",
   "metadata": {},
   "source": [
    "#### Подготовка признаков"
   ]
  },
  {
   "cell_type": "code",
   "execution_count": 46,
   "metadata": {},
   "outputs": [],
   "source": [
    "def feature_target_rougher(data):\n",
    "    data_cols = pd.Series(data.columns)\n",
    "    features_1_col = list(data_cols[data_cols.str.contains('rougher.input|rougher.state')])\n",
    "    features_1 = data[features_1_col]\n",
    "    \n",
    "    scaler_1 = StandardScaler()\n",
    "    features_1 = scaler_1.fit_transform(features_1)\n",
    "    target_1 = data['rougher.output.recovery']\n",
    "    \n",
    "    return features_1, target_1, scaler_1"
   ]
  },
  {
   "cell_type": "code",
   "execution_count": 47,
   "metadata": {},
   "outputs": [],
   "source": [
    "def feature_target_final(data):\n",
    "    features_2 = data.drop(['final.output.recovery', 'rougher.output.recovery'], axis=1)\n",
    "    \n",
    "    scaler_2 = StandardScaler()\n",
    "    features_2 = scaler_2.fit_transform(features_2)\n",
    "    target_2 = data['final.output.recovery']\n",
    "    \n",
    "    return features_2, target_2, scaler_2"
   ]
  },
  {
   "cell_type": "code",
   "execution_count": 48,
   "metadata": {},
   "outputs": [],
   "source": [
    "features_1, target_1, scaler_1 = feature_target_rougher(data_train_1)\n",
    "features_2, target_2, scaler_2 = feature_target_final(data_train_1)"
   ]
  },
  {
   "cell_type": "code",
   "execution_count": 49,
   "metadata": {},
   "outputs": [],
   "source": [
    "def get_cv_scores(model, target, features):\n",
    "    my_scorer = make_scorer(smape,greater_is_better=False)\n",
    "    \n",
    "    scores = cross_val_score(model,\n",
    "                             features,\n",
    "                             target,\n",
    "                             cv=5,\n",
    "                             scoring=my_scorer)\n",
    "    \n",
    "    return scores.mean()"
   ]
  },
  {
   "cell_type": "markdown",
   "metadata": {},
   "source": [
    "#### Дерево решений"
   ]
  },
  {
   "cell_type": "code",
   "execution_count": 50,
   "metadata": {},
   "outputs": [
    {
     "name": "stderr",
     "output_type": "stream",
     "text": [
      "100%|███████████████████████████████████████████| 19/19 [00:54<00:00,  2.89s/it]\n"
     ]
    },
    {
     "data": {
      "text/html": [
       "<div>\n",
       "<style scoped>\n",
       "    .dataframe tbody tr th:only-of-type {\n",
       "        vertical-align: middle;\n",
       "    }\n",
       "\n",
       "    .dataframe tbody tr th {\n",
       "        vertical-align: top;\n",
       "    }\n",
       "\n",
       "    .dataframe thead th {\n",
       "        text-align: right;\n",
       "    }\n",
       "</style>\n",
       "<table border=\"1\" class=\"dataframe\">\n",
       "  <thead>\n",
       "    <tr style=\"text-align: right;\">\n",
       "      <th></th>\n",
       "      <th>rougher_smape</th>\n",
       "      <th>final_smape</th>\n",
       "      <th>end_smape</th>\n",
       "      <th>depth</th>\n",
       "    </tr>\n",
       "  </thead>\n",
       "  <tbody>\n",
       "    <tr>\n",
       "      <th>2</th>\n",
       "      <td>7.230297</td>\n",
       "      <td>9.239172</td>\n",
       "      <td>8.736954</td>\n",
       "      <td>3</td>\n",
       "    </tr>\n",
       "    <tr>\n",
       "      <th>1</th>\n",
       "      <td>7.483970</td>\n",
       "      <td>9.272534</td>\n",
       "      <td>8.825393</td>\n",
       "      <td>2</td>\n",
       "    </tr>\n",
       "    <tr>\n",
       "      <th>3</th>\n",
       "      <td>7.210932</td>\n",
       "      <td>9.703752</td>\n",
       "      <td>9.080547</td>\n",
       "      <td>4</td>\n",
       "    </tr>\n",
       "    <tr>\n",
       "      <th>0</th>\n",
       "      <td>7.929832</td>\n",
       "      <td>9.667323</td>\n",
       "      <td>9.232950</td>\n",
       "      <td>1</td>\n",
       "    </tr>\n",
       "    <tr>\n",
       "      <th>4</th>\n",
       "      <td>6.939845</td>\n",
       "      <td>10.422003</td>\n",
       "      <td>9.551464</td>\n",
       "      <td>5</td>\n",
       "    </tr>\n",
       "    <tr>\n",
       "      <th>5</th>\n",
       "      <td>7.095591</td>\n",
       "      <td>10.569294</td>\n",
       "      <td>9.700868</td>\n",
       "      <td>6</td>\n",
       "    </tr>\n",
       "    <tr>\n",
       "      <th>6</th>\n",
       "      <td>7.421838</td>\n",
       "      <td>11.538159</td>\n",
       "      <td>10.509079</td>\n",
       "      <td>7</td>\n",
       "    </tr>\n",
       "    <tr>\n",
       "      <th>7</th>\n",
       "      <td>7.931061</td>\n",
       "      <td>12.940644</td>\n",
       "      <td>11.688248</td>\n",
       "      <td>8</td>\n",
       "    </tr>\n",
       "    <tr>\n",
       "      <th>8</th>\n",
       "      <td>7.965730</td>\n",
       "      <td>13.521797</td>\n",
       "      <td>12.132781</td>\n",
       "      <td>9</td>\n",
       "    </tr>\n",
       "    <tr>\n",
       "      <th>9</th>\n",
       "      <td>8.260523</td>\n",
       "      <td>15.021870</td>\n",
       "      <td>13.331533</td>\n",
       "      <td>10</td>\n",
       "    </tr>\n",
       "    <tr>\n",
       "      <th>12</th>\n",
       "      <td>8.384882</td>\n",
       "      <td>15.529998</td>\n",
       "      <td>13.743719</td>\n",
       "      <td>13</td>\n",
       "    </tr>\n",
       "    <tr>\n",
       "      <th>10</th>\n",
       "      <td>8.166894</td>\n",
       "      <td>15.605244</td>\n",
       "      <td>13.745656</td>\n",
       "      <td>11</td>\n",
       "    </tr>\n",
       "    <tr>\n",
       "      <th>11</th>\n",
       "      <td>8.317545</td>\n",
       "      <td>15.563149</td>\n",
       "      <td>13.751748</td>\n",
       "      <td>12</td>\n",
       "    </tr>\n",
       "    <tr>\n",
       "      <th>13</th>\n",
       "      <td>8.532903</td>\n",
       "      <td>16.075408</td>\n",
       "      <td>14.189782</td>\n",
       "      <td>14</td>\n",
       "    </tr>\n",
       "    <tr>\n",
       "      <th>18</th>\n",
       "      <td>8.718525</td>\n",
       "      <td>16.128111</td>\n",
       "      <td>14.275715</td>\n",
       "      <td>19</td>\n",
       "    </tr>\n",
       "    <tr>\n",
       "      <th>14</th>\n",
       "      <td>8.558186</td>\n",
       "      <td>16.368342</td>\n",
       "      <td>14.415803</td>\n",
       "      <td>15</td>\n",
       "    </tr>\n",
       "    <tr>\n",
       "      <th>15</th>\n",
       "      <td>8.703761</td>\n",
       "      <td>16.333275</td>\n",
       "      <td>14.425896</td>\n",
       "      <td>16</td>\n",
       "    </tr>\n",
       "    <tr>\n",
       "      <th>16</th>\n",
       "      <td>8.885842</td>\n",
       "      <td>16.349688</td>\n",
       "      <td>14.483726</td>\n",
       "      <td>17</td>\n",
       "    </tr>\n",
       "    <tr>\n",
       "      <th>17</th>\n",
       "      <td>8.810566</td>\n",
       "      <td>16.503065</td>\n",
       "      <td>14.579940</td>\n",
       "      <td>18</td>\n",
       "    </tr>\n",
       "  </tbody>\n",
       "</table>\n",
       "</div>"
      ],
      "text/plain": [
       "    rougher_smape  final_smape  end_smape  depth\n",
       "2        7.230297     9.239172   8.736954      3\n",
       "1        7.483970     9.272534   8.825393      2\n",
       "3        7.210932     9.703752   9.080547      4\n",
       "0        7.929832     9.667323   9.232950      1\n",
       "4        6.939845    10.422003   9.551464      5\n",
       "5        7.095591    10.569294   9.700868      6\n",
       "6        7.421838    11.538159  10.509079      7\n",
       "7        7.931061    12.940644  11.688248      8\n",
       "8        7.965730    13.521797  12.132781      9\n",
       "9        8.260523    15.021870  13.331533     10\n",
       "12       8.384882    15.529998  13.743719     13\n",
       "10       8.166894    15.605244  13.745656     11\n",
       "11       8.317545    15.563149  13.751748     12\n",
       "13       8.532903    16.075408  14.189782     14\n",
       "18       8.718525    16.128111  14.275715     19\n",
       "14       8.558186    16.368342  14.415803     15\n",
       "15       8.703761    16.333275  14.425896     16\n",
       "16       8.885842    16.349688  14.483726     17\n",
       "17       8.810566    16.503065  14.579940     18"
      ]
     },
     "execution_count": 50,
     "metadata": {},
     "output_type": "execute_result"
    }
   ],
   "source": [
    "tree = defaultdict(list)\n",
    "\n",
    "for depth in tqdm(range(1, 20)):\n",
    "    \n",
    "    model_1 = DecisionTreeRegressor(max_depth=depth, random_state=random_state)\n",
    "    model_2 = DecisionTreeRegressor(max_depth=depth, random_state=random_state)\n",
    "\n",
    "\n",
    "    rougher_smape = get_cv_scores(model_1, target_1, features_1)\n",
    "    final_smape = get_cv_scores(model_2, target_2, features_2)\n",
    "    tree['rougher_smape'].append(rougher_smape *(-1))\n",
    "    tree['final_smape'].append(final_smape*(-1))\n",
    "    tree['end_smape'].append(end_smape(rougher_smape, final_smape)*(-1))\n",
    "    tree['depth'].append(depth)\n",
    "\n",
    "pd.DataFrame(tree).sort_values(by='end_smape')"
   ]
  },
  {
   "cell_type": "markdown",
   "metadata": {},
   "source": [
    "##### Вывод:"
   ]
  },
  {
   "cell_type": "markdown",
   "metadata": {},
   "source": [
    "При глубине `3` наблюдается самое лучшее значение метрики качества (end_sampe)."
   ]
  },
  {
   "cell_type": "markdown",
   "metadata": {},
   "source": [
    "#### Случайный лес"
   ]
  },
  {
   "cell_type": "markdown",
   "metadata": {},
   "source": [
    "Если добавить еще один цикл с перебором глубины, то время обучения очень сильно увеличивается (~15 минут, если брать от 1 до 6). Поэтому я один раз прогнал и получилось наилучшая глубина - `5`"
   ]
  },
  {
   "cell_type": "code",
   "execution_count": 52,
   "metadata": {},
   "outputs": [
    {
     "name": "stderr",
     "output_type": "stream",
     "text": [
      "100%|███████████████████████████████████████████| 10/10 [04:01<00:00, 24.14s/it]\n"
     ]
    },
    {
     "data": {
      "text/html": [
       "<div>\n",
       "<style scoped>\n",
       "    .dataframe tbody tr th:only-of-type {\n",
       "        vertical-align: middle;\n",
       "    }\n",
       "\n",
       "    .dataframe tbody tr th {\n",
       "        vertical-align: top;\n",
       "    }\n",
       "\n",
       "    .dataframe thead th {\n",
       "        text-align: right;\n",
       "    }\n",
       "</style>\n",
       "<table border=\"1\" class=\"dataframe\">\n",
       "  <thead>\n",
       "    <tr style=\"text-align: right;\">\n",
       "      <th></th>\n",
       "      <th>rougher_smape</th>\n",
       "      <th>final_smape</th>\n",
       "      <th>end_smape</th>\n",
       "      <th>estim</th>\n",
       "    </tr>\n",
       "  </thead>\n",
       "  <tbody>\n",
       "    <tr>\n",
       "      <th>9</th>\n",
       "      <td>6.500289</td>\n",
       "      <td>8.978473</td>\n",
       "      <td>8.358927</td>\n",
       "      <td>46</td>\n",
       "    </tr>\n",
       "    <tr>\n",
       "      <th>7</th>\n",
       "      <td>6.497829</td>\n",
       "      <td>9.012123</td>\n",
       "      <td>8.383549</td>\n",
       "      <td>36</td>\n",
       "    </tr>\n",
       "    <tr>\n",
       "      <th>5</th>\n",
       "      <td>6.469041</td>\n",
       "      <td>9.024385</td>\n",
       "      <td>8.385549</td>\n",
       "      <td>26</td>\n",
       "    </tr>\n",
       "    <tr>\n",
       "      <th>8</th>\n",
       "      <td>6.524079</td>\n",
       "      <td>9.006698</td>\n",
       "      <td>8.386043</td>\n",
       "      <td>41</td>\n",
       "    </tr>\n",
       "    <tr>\n",
       "      <th>6</th>\n",
       "      <td>6.471341</td>\n",
       "      <td>9.057894</td>\n",
       "      <td>8.411255</td>\n",
       "      <td>31</td>\n",
       "    </tr>\n",
       "    <tr>\n",
       "      <th>4</th>\n",
       "      <td>6.432247</td>\n",
       "      <td>9.103283</td>\n",
       "      <td>8.435524</td>\n",
       "      <td>21</td>\n",
       "    </tr>\n",
       "    <tr>\n",
       "      <th>3</th>\n",
       "      <td>6.414876</td>\n",
       "      <td>9.248236</td>\n",
       "      <td>8.539896</td>\n",
       "      <td>16</td>\n",
       "    </tr>\n",
       "    <tr>\n",
       "      <th>2</th>\n",
       "      <td>6.376349</td>\n",
       "      <td>9.461183</td>\n",
       "      <td>8.689974</td>\n",
       "      <td>11</td>\n",
       "    </tr>\n",
       "    <tr>\n",
       "      <th>1</th>\n",
       "      <td>6.418958</td>\n",
       "      <td>9.451078</td>\n",
       "      <td>8.693048</td>\n",
       "      <td>6</td>\n",
       "    </tr>\n",
       "    <tr>\n",
       "      <th>0</th>\n",
       "      <td>7.900184</td>\n",
       "      <td>10.647020</td>\n",
       "      <td>9.960311</td>\n",
       "      <td>1</td>\n",
       "    </tr>\n",
       "  </tbody>\n",
       "</table>\n",
       "</div>"
      ],
      "text/plain": [
       "   rougher_smape  final_smape  end_smape  estim\n",
       "9       6.500289     8.978473   8.358927     46\n",
       "7       6.497829     9.012123   8.383549     36\n",
       "5       6.469041     9.024385   8.385549     26\n",
       "8       6.524079     9.006698   8.386043     41\n",
       "6       6.471341     9.057894   8.411255     31\n",
       "4       6.432247     9.103283   8.435524     21\n",
       "3       6.414876     9.248236   8.539896     16\n",
       "2       6.376349     9.461183   8.689974     11\n",
       "1       6.418958     9.451078   8.693048      6\n",
       "0       7.900184    10.647020   9.960311      1"
      ]
     },
     "execution_count": 52,
     "metadata": {},
     "output_type": "execute_result"
    }
   ],
   "source": [
    "random_forest = defaultdict(list)\n",
    "best_end_sampe = -9999\n",
    "best_model_forest_1 = None\n",
    "best_model_forest_2 = None\n",
    "for estim in tqdm(range(1, 51,5)):\n",
    "    \n",
    "    model_1 = RandomForestRegressor(max_depth=5, n_estimators=estim, random_state=random_state)\n",
    "    model_2 = RandomForestRegressor(max_depth=5, n_estimators=estim, random_state=random_state)\n",
    "    \n",
    "    rougher_smape = get_cv_scores(model_1, target_1, features_1)\n",
    "    final_smape = get_cv_scores(model_2, target_2, features_2)\n",
    "    sampe_end = end_smape(rougher_smape, final_smape)\n",
    "    \n",
    "    random_forest['rougher_smape'].append(rougher_smape*(-1))\n",
    "    random_forest['final_smape'].append(final_smape*(-1))\n",
    "    random_forest['end_smape'].append(sampe_end*(-1))\n",
    "    random_forest['estim'].append(estim)\n",
    "    \n",
    "    if sampe_end > best_end_sampe:\n",
    "        best_end_sampe = sampe_end\n",
    "        best_model_forest_1 = model_1\n",
    "        best_model_forest_2 = model_2\n",
    "    \n",
    "\n",
    "pd.DataFrame(random_forest).sort_values(by='end_smape')"
   ]
  },
  {
   "cell_type": "markdown",
   "metadata": {},
   "source": [
    "##### Вывод:"
   ]
  },
  {
   "cell_type": "markdown",
   "metadata": {},
   "source": [
    "Самая лучшая модель получилась с параметрами: глубина дерева - 5 и количеством деревьев - 46"
   ]
  },
  {
   "cell_type": "markdown",
   "metadata": {},
   "source": [
    "#### Линейная регрессия"
   ]
  },
  {
   "cell_type": "code",
   "execution_count": 62,
   "metadata": {},
   "outputs": [
    {
     "data": {
      "text/plain": [
       "rougher_smape     6.672711\n",
       "final_smape      11.027381\n",
       "end_smape         9.938714\n",
       "dtype: float64"
      ]
     },
     "execution_count": 62,
     "metadata": {},
     "output_type": "execute_result"
    }
   ],
   "source": [
    "model_1 = LinearRegression()\n",
    "model_2 = LinearRegression()\n",
    "\n",
    "rougher_smape = get_cv_scores(model_1, target_1, features_1)\n",
    "final_smape = get_cv_scores(model_2, target_2, features_2)\n",
    "smape_end = end_smape(rougher_smape, final_smape)\n",
    "\n",
    "linear_regression_smape = pd.Series({'rougher_smape': rougher_smape*(-1),\n",
    "                           'final_smape': final_smape*(-1),\n",
    "                           'end_smape': smape_end*(-1)}) \n",
    "linear_regression_smape"
   ]
  },
  {
   "cell_type": "markdown",
   "metadata": {},
   "source": [
    "##### Вывод:"
   ]
  },
  {
   "cell_type": "markdown",
   "metadata": {},
   "source": [
    "В линейной регресии получилось самое большое значение. Поэтому данная модель не подходит"
   ]
  },
  {
   "cell_type": "markdown",
   "metadata": {},
   "source": [
    "### Проверка модели на тестовой выборке"
   ]
  },
  {
   "cell_type": "code",
   "execution_count": 54,
   "metadata": {},
   "outputs": [],
   "source": [
    "data_test_1 = data_test[list_to_del]"
   ]
  },
  {
   "cell_type": "code",
   "execution_count": 55,
   "metadata": {},
   "outputs": [],
   "source": [
    "def test_feature_target_rougher(data,scaler):\n",
    "    data_cols = pd.Series(data.columns)\n",
    "    features_1_col = list(data_cols[data_cols.str.contains('rougher.input|rougher.state')])\n",
    "    features_1 = data[features_1_col]\n",
    "    \n",
    "    \n",
    "    test_features_1 = scaler.transform(features_1)\n",
    "    test_target_1 = data['rougher.output.recovery']\n",
    "    \n",
    "    return test_features_1, test_target_1"
   ]
  },
  {
   "cell_type": "code",
   "execution_count": 56,
   "metadata": {},
   "outputs": [],
   "source": [
    "def test_feature_target_final(data,scaler):\n",
    "    features_2 = data.drop(['final.output.recovery', 'rougher.output.recovery'], axis=1)\n",
    "    \n",
    "    test_features_2 = scaler.transform(features_2)\n",
    "    test_target_2 = data['final.output.recovery']\n",
    "    \n",
    "    return test_features_2, test_target_2"
   ]
  },
  {
   "cell_type": "code",
   "execution_count": 57,
   "metadata": {},
   "outputs": [],
   "source": [
    "test_features_1, test_target_1 = test_feature_target_rougher(data_test_1, scaler_1)\n",
    "test_features_2, test_target_2 = test_feature_target_final(data_test_1, scaler_2)"
   ]
  },
  {
   "cell_type": "markdown",
   "metadata": {},
   "source": [
    "По итогу самая лучшая модель получилась: Случайный лес с глубиной - `5` и количеством деревьев равным `46`"
   ]
  },
  {
   "cell_type": "code",
   "execution_count": 58,
   "metadata": {},
   "outputs": [
    {
     "data": {
      "text/plain": [
       "RandomForestRegressor(max_depth=5, n_estimators=46, random_state=12345)"
      ]
     },
     "execution_count": 58,
     "metadata": {},
     "output_type": "execute_result"
    }
   ],
   "source": [
    "best_model_forest_1"
   ]
  },
  {
   "cell_type": "code",
   "execution_count": 59,
   "metadata": {},
   "outputs": [
    {
     "data": {
      "text/plain": [
       "RandomForestRegressor(max_depth=5, n_estimators=46, random_state=12345)"
      ]
     },
     "execution_count": 59,
     "metadata": {},
     "output_type": "execute_result"
    }
   ],
   "source": [
    "best_model_forest_2"
   ]
  },
  {
   "cell_type": "code",
   "execution_count": 60,
   "metadata": {},
   "outputs": [
    {
     "data": {
      "text/plain": [
       "rougher_smape    4.130023\n",
       "final_smape      8.054915\n",
       "end_smape        7.073692\n",
       "dtype: float64"
      ]
     },
     "execution_count": 60,
     "metadata": {},
     "output_type": "execute_result"
    }
   ],
   "source": [
    "rougher_smape = get_cv_scores(best_model_forest_1, test_target_1, test_features_1)\n",
    "final_smape = get_cv_scores(best_model_forest_2, test_target_2, test_features_2)\n",
    "smape_end = end_smape(rougher_smape, final_smape)\n",
    "\n",
    "forest_regression_smape = pd.Series({'rougher_smape': rougher_smape*(-1),\n",
    "                           'final_smape': final_smape*(-1),\n",
    "                           'end_smape': smape_end*(-1)})\n",
    "forest_regression_smape"
   ]
  },
  {
   "cell_type": "markdown",
   "metadata": {},
   "source": [
    "#### Вывод:"
   ]
  },
  {
   "cell_type": "markdown",
   "metadata": {},
   "source": [
    "Метрика качества получилась лучше, чем при обучении. Модель работает хорошо"
   ]
  },
  {
   "cell_type": "markdown",
   "metadata": {},
   "source": [
    "### Проверка модели на адекватность"
   ]
  },
  {
   "cell_type": "markdown",
   "metadata": {},
   "source": [
    "Проверить модель на адекватность можно с помощью:\n",
    "1. Dummy\n",
    "2. Константная модель\n",
    "\n",
    "В качестве проверки выберем Dummy"
   ]
  },
  {
   "cell_type": "code",
   "execution_count": 61,
   "metadata": {},
   "outputs": [
    {
     "data": {
      "text/plain": [
       "rougher_smape     7.760607\n",
       "final_smape      10.271975\n",
       "end_smape         9.644133\n",
       "dtype: float64"
      ]
     },
     "execution_count": 61,
     "metadata": {},
     "output_type": "execute_result"
    }
   ],
   "source": [
    "model_1 = DummyRegressor(strategy=\"mean\")\n",
    "model_2 = DummyRegressor(strategy=\"mean\")\n",
    "\n",
    "rougher_smape = get_cv_scores(model_1, target_1, features_1)\n",
    "final_smape = get_cv_scores(model_2, target_2, features_2)\n",
    "smape_end = end_smape(rougher_smape, final_smape)\n",
    "\n",
    "dummy_table = pd.Series({'rougher_smape': rougher_smape*(-1),\n",
    "                           'final_smape': final_smape*(-1),\n",
    "                           'end_smape': smape_end*(-1)}) \n",
    "dummy_table"
   ]
  },
  {
   "cell_type": "markdown",
   "metadata": {},
   "source": [
    "#### Вывод:"
   ]
  },
  {
   "cell_type": "markdown",
   "metadata": {},
   "source": [
    "В итоге метрика качества Dummy модели получилась выше, чем у выбранной модели. Это говорит о том, что выбранную модель можно использовать."
   ]
  },
  {
   "cell_type": "markdown",
   "metadata": {},
   "source": [
    "## Вывод"
   ]
  },
  {
   "cell_type": "markdown",
   "metadata": {},
   "source": [
    "* На первом этапе файлы были загружены и проанализированы с помощью `info`. Данный анализ показал, что в каждой таблице присутствуют пропуски;\n",
    "* На обучающей выборке для признака была проверена эффективнасть обогащения. В итоге MAE получилась близкой к нулю. Это означается, что параметр recovery в train рассчитан верно;\n",
    "* Проанализированы признаки, которые отсутствуют в тестовой выборке. Все признаки принадлежат `output`, то есть целевые признаки, которые не могут быть получены во вермя технологического процесса;\n",
    "* На этапе предобработки данных были удалены пропуски в целевых признаках и заполнены пропуски в таблицах, основываясь по дате;\n",
    "* Рассмотрены изменения концентраций металлов на разных этапах технологического процесса. Было выявлено, что в ходе технологического этапа - концентрации золота и свинца возрастают от этапа к этапу. А вот концентрация серебра уменьшается;\n",
    "* Проверены распределения гранул сырья в тестовой и обучающей выборке. Сильных отличий не выявлено;\n",
    "* Распределение графиокв суммарных концентраций нормальное. С течением времени концентрация увеличивается, так как происходит технологический процесс. Однако были аномальные значения в районе нулевых значений, поэтому очистили данные от них;\n",
    "* Написана функция для расчета итоговой sMAPE;\n",
    "* Подготовлены данные и признаки для обучения моделей;\n",
    "* Для обучения были выбраны три модели: дерево решений, случайный лес и линейная регрессия. Наилучшие результаты показала модель `случайный лес` с итоговой sAMPE равной `8.358927` и гиперпараметрами: глубина деревьев - `5` и количеством деревьев - `46`;\n",
    "* Данная модель проверена на тестовой выборке и показала результат лучше чем у обучающей;\n",
    "* Лучшая модель проверена на адекватность с помощью Dummy. В итоге метрика качества Dummy модели получилась выше, чем у выбранной модели. Это говорит о том, что выбранную модель можно использовать."
   ]
  }
 ],
 "metadata": {
  "ExecuteTimeLog": [
   {
    "duration": 459,
    "start_time": "2022-05-28T12:17:31.426Z"
   },
   {
    "duration": 867,
    "start_time": "2022-05-28T12:18:08.601Z"
   },
   {
    "duration": 2449,
    "start_time": "2022-05-28T12:18:51.831Z"
   },
   {
    "duration": 19,
    "start_time": "2022-05-28T12:19:16.949Z"
   },
   {
    "duration": 27,
    "start_time": "2022-05-28T12:19:22.697Z"
   },
   {
    "duration": 4,
    "start_time": "2022-05-28T12:19:34.665Z"
   },
   {
    "duration": 5,
    "start_time": "2022-05-28T12:19:37.248Z"
   },
   {
    "duration": 15,
    "start_time": "2022-05-28T12:19:39.617Z"
   },
   {
    "duration": 21,
    "start_time": "2022-05-28T12:19:49.340Z"
   },
   {
    "duration": 37,
    "start_time": "2022-05-28T12:20:06.258Z"
   },
   {
    "duration": 21,
    "start_time": "2022-05-28T12:21:03.389Z"
   },
   {
    "duration": 483,
    "start_time": "2022-05-28T12:21:07.091Z"
   },
   {
    "duration": 745,
    "start_time": "2022-05-28T12:21:07.576Z"
   },
   {
    "duration": 27,
    "start_time": "2022-05-28T12:21:08.323Z"
   },
   {
    "duration": 49,
    "start_time": "2022-05-28T12:21:08.353Z"
   },
   {
    "duration": 23,
    "start_time": "2022-05-28T12:21:08.405Z"
   },
   {
    "duration": 23,
    "start_time": "2022-05-28T12:21:08.429Z"
   },
   {
    "duration": 25,
    "start_time": "2022-05-28T12:21:08.453Z"
   },
   {
    "duration": 21,
    "start_time": "2022-05-28T12:21:08.480Z"
   },
   {
    "duration": 3,
    "start_time": "2022-05-28T12:36:58.653Z"
   },
   {
    "duration": 4,
    "start_time": "2022-05-28T12:40:20.612Z"
   },
   {
    "duration": 32,
    "start_time": "2022-05-28T12:52:00.627Z"
   },
   {
    "duration": 3,
    "start_time": "2022-05-28T12:54:19.387Z"
   },
   {
    "duration": 78,
    "start_time": "2022-05-28T12:54:19.719Z"
   },
   {
    "duration": 410,
    "start_time": "2022-05-28T12:54:31.168Z"
   },
   {
    "duration": 8,
    "start_time": "2022-05-28T12:54:32.122Z"
   },
   {
    "duration": 6,
    "start_time": "2022-05-28T12:55:08.365Z"
   },
   {
    "duration": 7,
    "start_time": "2022-05-28T12:55:08.864Z"
   },
   {
    "duration": 440,
    "start_time": "2022-05-28T12:55:16.168Z"
   },
   {
    "duration": 753,
    "start_time": "2022-05-28T12:55:16.610Z"
   },
   {
    "duration": 20,
    "start_time": "2022-05-28T12:55:17.365Z"
   },
   {
    "duration": 52,
    "start_time": "2022-05-28T12:55:17.386Z"
   },
   {
    "duration": 17,
    "start_time": "2022-05-28T12:55:17.441Z"
   },
   {
    "duration": 35,
    "start_time": "2022-05-28T12:55:17.459Z"
   },
   {
    "duration": 55,
    "start_time": "2022-05-28T12:55:17.496Z"
   },
   {
    "duration": 41,
    "start_time": "2022-05-28T12:55:17.553Z"
   },
   {
    "duration": 45,
    "start_time": "2022-05-28T12:55:17.596Z"
   },
   {
    "duration": 29,
    "start_time": "2022-05-28T12:55:17.643Z"
   },
   {
    "duration": 21,
    "start_time": "2022-05-28T12:55:17.674Z"
   },
   {
    "duration": 450,
    "start_time": "2022-05-28T12:56:45.940Z"
   },
   {
    "duration": 822,
    "start_time": "2022-05-28T12:56:46.393Z"
   },
   {
    "duration": 24,
    "start_time": "2022-05-28T12:56:47.217Z"
   },
   {
    "duration": 29,
    "start_time": "2022-05-28T12:56:47.242Z"
   },
   {
    "duration": 14,
    "start_time": "2022-05-28T12:56:47.273Z"
   },
   {
    "duration": 49,
    "start_time": "2022-05-28T12:56:47.289Z"
   },
   {
    "duration": 23,
    "start_time": "2022-05-28T12:56:47.340Z"
   },
   {
    "duration": 23,
    "start_time": "2022-05-28T12:56:47.364Z"
   },
   {
    "duration": 8,
    "start_time": "2022-05-28T12:56:47.389Z"
   },
   {
    "duration": 32,
    "start_time": "2022-05-28T12:56:47.399Z"
   },
   {
    "duration": 7,
    "start_time": "2022-05-28T12:56:47.432Z"
   },
   {
    "duration": 422,
    "start_time": "2022-05-28T13:01:13.085Z"
   },
   {
    "duration": 734,
    "start_time": "2022-05-28T13:01:13.508Z"
   },
   {
    "duration": 19,
    "start_time": "2022-05-28T13:01:14.243Z"
   },
   {
    "duration": 27,
    "start_time": "2022-05-28T13:01:14.263Z"
   },
   {
    "duration": 13,
    "start_time": "2022-05-28T13:01:14.292Z"
   },
   {
    "duration": 39,
    "start_time": "2022-05-28T13:01:14.328Z"
   },
   {
    "duration": 22,
    "start_time": "2022-05-28T13:01:14.369Z"
   },
   {
    "duration": 22,
    "start_time": "2022-05-28T13:01:14.393Z"
   },
   {
    "duration": 18,
    "start_time": "2022-05-28T13:01:14.417Z"
   },
   {
    "duration": 82,
    "start_time": "2022-05-28T13:01:14.436Z"
   },
   {
    "duration": 0,
    "start_time": "2022-05-28T13:01:14.520Z"
   },
   {
    "duration": 239,
    "start_time": "2022-05-28T13:01:31.469Z"
   },
   {
    "duration": 9,
    "start_time": "2022-05-28T13:01:36.897Z"
   },
   {
    "duration": 427,
    "start_time": "2022-05-28T13:01:57.357Z"
   },
   {
    "duration": 18,
    "start_time": "2022-05-28T13:02:01.645Z"
   },
   {
    "duration": 9,
    "start_time": "2022-05-28T13:04:19.601Z"
   },
   {
    "duration": 4,
    "start_time": "2022-05-28T13:04:27.649Z"
   },
   {
    "duration": 6,
    "start_time": "2022-05-28T13:04:27.973Z"
   },
   {
    "duration": 14,
    "start_time": "2022-05-28T13:04:49.371Z"
   },
   {
    "duration": 7,
    "start_time": "2022-05-28T13:06:01.922Z"
   },
   {
    "duration": 6,
    "start_time": "2022-05-28T13:06:05.034Z"
   },
   {
    "duration": 7,
    "start_time": "2022-05-28T13:06:05.739Z"
   },
   {
    "duration": 7,
    "start_time": "2022-05-28T13:06:06.227Z"
   },
   {
    "duration": 406,
    "start_time": "2022-05-28T13:06:13.354Z"
   },
   {
    "duration": 102,
    "start_time": "2022-05-28T13:07:00.283Z"
   },
   {
    "duration": 3,
    "start_time": "2022-05-28T13:09:41.380Z"
   },
   {
    "duration": 4,
    "start_time": "2022-05-28T13:10:04.572Z"
   },
   {
    "duration": 13,
    "start_time": "2022-05-28T13:10:11.515Z"
   },
   {
    "duration": 3,
    "start_time": "2022-05-28T13:10:38.770Z"
   },
   {
    "duration": 13,
    "start_time": "2022-05-28T13:11:24.253Z"
   },
   {
    "duration": 881,
    "start_time": "2022-05-28T13:11:46.650Z"
   },
   {
    "duration": 765,
    "start_time": "2022-05-28T13:11:47.533Z"
   },
   {
    "duration": 33,
    "start_time": "2022-05-28T13:11:48.303Z"
   },
   {
    "duration": 31,
    "start_time": "2022-05-28T13:11:48.338Z"
   },
   {
    "duration": 14,
    "start_time": "2022-05-28T13:11:48.370Z"
   },
   {
    "duration": 45,
    "start_time": "2022-05-28T13:11:48.386Z"
   },
   {
    "duration": 24,
    "start_time": "2022-05-28T13:11:48.432Z"
   },
   {
    "duration": 27,
    "start_time": "2022-05-28T13:11:48.458Z"
   },
   {
    "duration": 6,
    "start_time": "2022-05-28T13:11:48.488Z"
   },
   {
    "duration": 33,
    "start_time": "2022-05-28T13:11:48.495Z"
   },
   {
    "duration": 18,
    "start_time": "2022-05-28T13:11:48.530Z"
   },
   {
    "duration": 17,
    "start_time": "2022-05-28T13:11:51.427Z"
   },
   {
    "duration": 3,
    "start_time": "2022-05-28T13:12:28.861Z"
   },
   {
    "duration": 870,
    "start_time": "2022-05-28T13:12:39.282Z"
   },
   {
    "duration": 722,
    "start_time": "2022-05-28T13:12:40.154Z"
   },
   {
    "duration": 18,
    "start_time": "2022-05-28T13:12:40.878Z"
   },
   {
    "duration": 45,
    "start_time": "2022-05-28T13:12:40.898Z"
   },
   {
    "duration": 14,
    "start_time": "2022-05-28T13:12:40.945Z"
   },
   {
    "duration": 21,
    "start_time": "2022-05-28T13:12:40.961Z"
   },
   {
    "duration": 47,
    "start_time": "2022-05-28T13:12:40.984Z"
   },
   {
    "duration": 31,
    "start_time": "2022-05-28T13:12:41.033Z"
   },
   {
    "duration": 2,
    "start_time": "2022-05-28T13:12:41.066Z"
   },
   {
    "duration": 20,
    "start_time": "2022-05-28T13:12:41.071Z"
   },
   {
    "duration": 38,
    "start_time": "2022-05-28T13:12:41.094Z"
   },
   {
    "duration": 3,
    "start_time": "2022-05-28T13:14:39.868Z"
   },
   {
    "duration": 6,
    "start_time": "2022-05-28T13:14:54.233Z"
   },
   {
    "duration": 583,
    "start_time": "2022-05-28T13:15:29.528Z"
   },
   {
    "duration": 6,
    "start_time": "2022-05-28T13:15:57.574Z"
   },
   {
    "duration": 5,
    "start_time": "2022-05-28T13:16:00.461Z"
   },
   {
    "duration": 4,
    "start_time": "2022-05-28T13:16:18.148Z"
   },
   {
    "duration": 14,
    "start_time": "2022-05-28T13:16:18.440Z"
   },
   {
    "duration": 13,
    "start_time": "2022-05-28T13:16:18.801Z"
   },
   {
    "duration": 3,
    "start_time": "2022-05-28T13:16:19.181Z"
   },
   {
    "duration": 5,
    "start_time": "2022-05-28T13:16:19.537Z"
   },
   {
    "duration": 5,
    "start_time": "2022-05-28T13:16:19.840Z"
   },
   {
    "duration": 47,
    "start_time": "2022-05-28T13:20:11.972Z"
   },
   {
    "duration": 868,
    "start_time": "2022-05-28T13:21:17.832Z"
   },
   {
    "duration": 714,
    "start_time": "2022-05-28T13:21:18.702Z"
   },
   {
    "duration": 22,
    "start_time": "2022-05-28T13:21:19.418Z"
   },
   {
    "duration": 29,
    "start_time": "2022-05-28T13:21:19.442Z"
   },
   {
    "duration": 22,
    "start_time": "2022-05-28T13:21:19.473Z"
   },
   {
    "duration": 65,
    "start_time": "2022-05-28T13:21:19.497Z"
   },
   {
    "duration": 31,
    "start_time": "2022-05-28T13:21:19.564Z"
   },
   {
    "duration": 29,
    "start_time": "2022-05-28T13:21:19.596Z"
   },
   {
    "duration": 14,
    "start_time": "2022-05-28T13:21:19.627Z"
   },
   {
    "duration": 25,
    "start_time": "2022-05-28T13:21:19.643Z"
   },
   {
    "duration": 45,
    "start_time": "2022-05-28T13:21:19.670Z"
   },
   {
    "duration": 12,
    "start_time": "2022-05-28T13:21:19.717Z"
   },
   {
    "duration": 26,
    "start_time": "2022-05-28T13:21:19.731Z"
   },
   {
    "duration": 37,
    "start_time": "2022-05-28T13:21:19.758Z"
   },
   {
    "duration": 13,
    "start_time": "2022-05-28T13:21:19.797Z"
   },
   {
    "duration": 100,
    "start_time": "2022-05-28T13:22:27.333Z"
   },
   {
    "duration": 3,
    "start_time": "2022-05-28T13:22:30.353Z"
   },
   {
    "duration": 6,
    "start_time": "2022-05-28T13:22:30.687Z"
   },
   {
    "duration": 803,
    "start_time": "2022-05-28T13:22:38.260Z"
   },
   {
    "duration": 731,
    "start_time": "2022-05-28T13:22:39.065Z"
   },
   {
    "duration": 19,
    "start_time": "2022-05-28T13:22:39.797Z"
   },
   {
    "duration": 43,
    "start_time": "2022-05-28T13:22:39.827Z"
   },
   {
    "duration": 13,
    "start_time": "2022-05-28T13:22:39.872Z"
   },
   {
    "duration": 42,
    "start_time": "2022-05-28T13:22:39.886Z"
   },
   {
    "duration": 18,
    "start_time": "2022-05-28T13:22:39.929Z"
   },
   {
    "duration": 20,
    "start_time": "2022-05-28T13:22:39.949Z"
   },
   {
    "duration": 11,
    "start_time": "2022-05-28T13:22:39.971Z"
   },
   {
    "duration": 14,
    "start_time": "2022-05-28T13:22:39.983Z"
   },
   {
    "duration": 37,
    "start_time": "2022-05-28T13:22:39.998Z"
   },
   {
    "duration": 2,
    "start_time": "2022-05-28T13:22:40.037Z"
   },
   {
    "duration": 10,
    "start_time": "2022-05-28T13:22:40.041Z"
   },
   {
    "duration": 12,
    "start_time": "2022-05-28T13:22:40.053Z"
   },
   {
    "duration": 5,
    "start_time": "2022-05-28T13:33:23.432Z"
   },
   {
    "duration": 3,
    "start_time": "2022-05-28T13:37:48.444Z"
   },
   {
    "duration": 122,
    "start_time": "2022-05-28T14:06:37.804Z"
   },
   {
    "duration": 53,
    "start_time": "2022-05-28T14:08:45.494Z"
   },
   {
    "duration": 14,
    "start_time": "2022-05-28T14:08:53.944Z"
   },
   {
    "duration": 20,
    "start_time": "2022-05-28T14:10:34.836Z"
   },
   {
    "duration": 11,
    "start_time": "2022-05-28T14:13:17.324Z"
   },
   {
    "duration": 148,
    "start_time": "2022-05-28T14:13:24.919Z"
   },
   {
    "duration": 29,
    "start_time": "2022-05-28T14:20:48.023Z"
   },
   {
    "duration": 3,
    "start_time": "2022-05-28T14:21:25.375Z"
   },
   {
    "duration": 870,
    "start_time": "2022-05-28T14:21:38.324Z"
   },
   {
    "duration": 667,
    "start_time": "2022-05-28T14:21:39.196Z"
   },
   {
    "duration": 3,
    "start_time": "2022-05-28T14:21:39.864Z"
   },
   {
    "duration": 22,
    "start_time": "2022-05-28T14:21:39.869Z"
   },
   {
    "duration": 37,
    "start_time": "2022-05-28T14:21:39.894Z"
   },
   {
    "duration": 13,
    "start_time": "2022-05-28T14:21:39.933Z"
   },
   {
    "duration": 22,
    "start_time": "2022-05-28T14:21:39.947Z"
   },
   {
    "duration": 20,
    "start_time": "2022-05-28T14:21:39.970Z"
   },
   {
    "duration": 47,
    "start_time": "2022-05-28T14:21:39.992Z"
   },
   {
    "duration": 2,
    "start_time": "2022-05-28T14:21:40.041Z"
   },
   {
    "duration": 16,
    "start_time": "2022-05-28T14:21:40.045Z"
   },
   {
    "duration": 18,
    "start_time": "2022-05-28T14:21:40.063Z"
   },
   {
    "duration": 8,
    "start_time": "2022-05-28T14:21:40.083Z"
   },
   {
    "duration": 10,
    "start_time": "2022-05-28T14:21:40.093Z"
   },
   {
    "duration": 26,
    "start_time": "2022-05-28T14:21:40.104Z"
   },
   {
    "duration": 9,
    "start_time": "2022-05-28T14:21:40.131Z"
   },
   {
    "duration": 28,
    "start_time": "2022-05-28T14:21:40.142Z"
   },
   {
    "duration": 103,
    "start_time": "2022-05-28T14:22:29.794Z"
   },
   {
    "duration": 221,
    "start_time": "2022-05-28T14:22:35.390Z"
   },
   {
    "duration": 13,
    "start_time": "2022-05-28T14:26:46.128Z"
   },
   {
    "duration": 20,
    "start_time": "2022-05-28T14:26:49.706Z"
   },
   {
    "duration": 12,
    "start_time": "2022-05-28T14:31:22.764Z"
   },
   {
    "duration": 7,
    "start_time": "2022-05-28T14:31:39.805Z"
   },
   {
    "duration": 937,
    "start_time": "2022-05-28T14:31:45.091Z"
   },
   {
    "duration": 794,
    "start_time": "2022-05-28T14:31:46.030Z"
   },
   {
    "duration": 2,
    "start_time": "2022-05-28T14:31:46.828Z"
   },
   {
    "duration": 45,
    "start_time": "2022-05-28T14:31:46.832Z"
   },
   {
    "duration": 32,
    "start_time": "2022-05-28T14:31:46.879Z"
   },
   {
    "duration": 27,
    "start_time": "2022-05-28T14:31:46.913Z"
   },
   {
    "duration": 22,
    "start_time": "2022-05-28T14:31:46.942Z"
   },
   {
    "duration": 34,
    "start_time": "2022-05-28T14:31:46.966Z"
   },
   {
    "duration": 28,
    "start_time": "2022-05-28T14:31:47.003Z"
   },
   {
    "duration": 24,
    "start_time": "2022-05-28T14:31:47.033Z"
   },
   {
    "duration": 34,
    "start_time": "2022-05-28T14:31:47.059Z"
   },
   {
    "duration": 18,
    "start_time": "2022-05-28T14:31:47.095Z"
   },
   {
    "duration": 24,
    "start_time": "2022-05-28T14:31:47.114Z"
   },
   {
    "duration": 30,
    "start_time": "2022-05-28T14:31:47.140Z"
   },
   {
    "duration": 26,
    "start_time": "2022-05-28T14:31:47.172Z"
   },
   {
    "duration": 9,
    "start_time": "2022-05-28T14:31:47.200Z"
   },
   {
    "duration": 34,
    "start_time": "2022-05-28T14:31:47.211Z"
   },
   {
    "duration": 260,
    "start_time": "2022-05-28T14:31:47.246Z"
   },
   {
    "duration": 316,
    "start_time": "2022-05-28T14:31:47.509Z"
   },
   {
    "duration": 3,
    "start_time": "2022-05-28T14:59:55.155Z"
   },
   {
    "duration": 870,
    "start_time": "2022-05-28T15:00:14.372Z"
   },
   {
    "duration": 704,
    "start_time": "2022-05-28T15:00:15.252Z"
   },
   {
    "duration": 3,
    "start_time": "2022-05-28T15:00:15.959Z"
   },
   {
    "duration": 33,
    "start_time": "2022-05-28T15:00:15.963Z"
   },
   {
    "duration": 47,
    "start_time": "2022-05-28T15:00:15.999Z"
   },
   {
    "duration": 14,
    "start_time": "2022-05-28T15:00:16.048Z"
   },
   {
    "duration": 34,
    "start_time": "2022-05-28T15:00:16.064Z"
   },
   {
    "duration": 48,
    "start_time": "2022-05-28T15:00:16.100Z"
   },
   {
    "duration": 23,
    "start_time": "2022-05-28T15:00:16.150Z"
   },
   {
    "duration": 5,
    "start_time": "2022-05-28T15:00:16.175Z"
   },
   {
    "duration": 38,
    "start_time": "2022-05-28T15:00:16.195Z"
   },
   {
    "duration": 35,
    "start_time": "2022-05-28T15:00:16.235Z"
   },
   {
    "duration": 9,
    "start_time": "2022-05-28T15:00:16.272Z"
   },
   {
    "duration": 11,
    "start_time": "2022-05-28T15:00:16.284Z"
   },
   {
    "duration": 5,
    "start_time": "2022-05-28T15:00:16.298Z"
   },
   {
    "duration": 7,
    "start_time": "2022-05-28T15:00:16.305Z"
   },
   {
    "duration": 61,
    "start_time": "2022-05-28T15:00:16.314Z"
   },
   {
    "duration": 296,
    "start_time": "2022-05-28T15:00:16.377Z"
   },
   {
    "duration": 144,
    "start_time": "2022-05-28T15:00:16.676Z"
   },
   {
    "duration": 18,
    "start_time": "2022-05-28T15:03:57.864Z"
   },
   {
    "duration": 332,
    "start_time": "2022-05-28T15:03:58.266Z"
   },
   {
    "duration": 20,
    "start_time": "2022-05-28T15:35:13.549Z"
   },
   {
    "duration": 8,
    "start_time": "2022-05-28T15:35:13.907Z"
   },
   {
    "duration": 21,
    "start_time": "2022-05-28T15:35:33.966Z"
   },
   {
    "duration": 22,
    "start_time": "2022-05-28T15:35:50.653Z"
   },
   {
    "duration": 33,
    "start_time": "2022-05-28T15:37:13.671Z"
   },
   {
    "duration": 22,
    "start_time": "2022-05-28T15:37:43.166Z"
   },
   {
    "duration": 14,
    "start_time": "2022-05-28T15:37:50.679Z"
   },
   {
    "duration": 29,
    "start_time": "2022-05-28T15:37:54.810Z"
   },
   {
    "duration": 20,
    "start_time": "2022-05-28T15:37:56.458Z"
   },
   {
    "duration": 957,
    "start_time": "2022-05-28T15:38:04.016Z"
   },
   {
    "duration": 780,
    "start_time": "2022-05-28T15:38:04.976Z"
   },
   {
    "duration": 5,
    "start_time": "2022-05-28T15:38:05.759Z"
   },
   {
    "duration": 42,
    "start_time": "2022-05-28T15:38:05.766Z"
   },
   {
    "duration": 40,
    "start_time": "2022-05-28T15:38:05.810Z"
   },
   {
    "duration": 31,
    "start_time": "2022-05-28T15:38:05.856Z"
   },
   {
    "duration": 32,
    "start_time": "2022-05-28T15:38:05.889Z"
   },
   {
    "duration": 42,
    "start_time": "2022-05-28T15:38:05.923Z"
   },
   {
    "duration": 33,
    "start_time": "2022-05-28T15:38:05.967Z"
   },
   {
    "duration": 15,
    "start_time": "2022-05-28T15:38:06.003Z"
   },
   {
    "duration": 50,
    "start_time": "2022-05-28T15:38:06.020Z"
   },
   {
    "duration": 17,
    "start_time": "2022-05-28T15:38:06.072Z"
   },
   {
    "duration": 3,
    "start_time": "2022-05-28T15:38:06.091Z"
   },
   {
    "duration": 10,
    "start_time": "2022-05-28T15:38:06.097Z"
   },
   {
    "duration": 10,
    "start_time": "2022-05-28T15:38:06.109Z"
   },
   {
    "duration": 46,
    "start_time": "2022-05-28T15:38:06.121Z"
   },
   {
    "duration": 34,
    "start_time": "2022-05-28T15:38:06.169Z"
   },
   {
    "duration": 24,
    "start_time": "2022-05-28T15:38:06.206Z"
   },
   {
    "duration": 76,
    "start_time": "2022-05-28T15:38:06.232Z"
   },
   {
    "duration": 190,
    "start_time": "2022-05-28T15:38:06.310Z"
   },
   {
    "duration": 49,
    "start_time": "2022-05-28T15:38:06.502Z"
   },
   {
    "duration": 42,
    "start_time": "2022-05-28T15:38:06.553Z"
   },
   {
    "duration": 12,
    "start_time": "2022-05-28T15:38:24.666Z"
   },
   {
    "duration": 22,
    "start_time": "2022-05-28T15:38:25.312Z"
   },
   {
    "duration": 855,
    "start_time": "2022-05-28T15:38:29.599Z"
   },
   {
    "duration": 795,
    "start_time": "2022-05-28T15:38:30.457Z"
   },
   {
    "duration": 5,
    "start_time": "2022-05-28T15:38:31.257Z"
   },
   {
    "duration": 21,
    "start_time": "2022-05-28T15:38:31.264Z"
   },
   {
    "duration": 55,
    "start_time": "2022-05-28T15:38:31.287Z"
   },
   {
    "duration": 22,
    "start_time": "2022-05-28T15:38:31.345Z"
   },
   {
    "duration": 20,
    "start_time": "2022-05-28T15:38:31.369Z"
   },
   {
    "duration": 36,
    "start_time": "2022-05-28T15:38:31.391Z"
   },
   {
    "duration": 32,
    "start_time": "2022-05-28T15:38:31.435Z"
   },
   {
    "duration": 3,
    "start_time": "2022-05-28T15:38:31.470Z"
   },
   {
    "duration": 15,
    "start_time": "2022-05-28T15:38:31.475Z"
   },
   {
    "duration": 13,
    "start_time": "2022-05-28T15:38:31.492Z"
   },
   {
    "duration": 22,
    "start_time": "2022-05-28T15:38:31.507Z"
   },
   {
    "duration": 47,
    "start_time": "2022-05-28T15:38:31.532Z"
   },
   {
    "duration": 20,
    "start_time": "2022-05-28T15:38:31.581Z"
   },
   {
    "duration": 7,
    "start_time": "2022-05-28T15:38:31.603Z"
   },
   {
    "duration": 22,
    "start_time": "2022-05-28T15:38:31.612Z"
   },
   {
    "duration": 34,
    "start_time": "2022-05-28T15:38:31.637Z"
   },
   {
    "duration": 34,
    "start_time": "2022-05-28T15:38:31.673Z"
   },
   {
    "duration": 14,
    "start_time": "2022-05-28T15:38:31.709Z"
   },
   {
    "duration": 15,
    "start_time": "2022-05-28T15:38:31.725Z"
   },
   {
    "duration": 58,
    "start_time": "2022-05-28T15:38:31.742Z"
   },
   {
    "duration": 123,
    "start_time": "2022-05-28T15:41:19.081Z"
   },
   {
    "duration": 9,
    "start_time": "2022-05-28T15:41:23.382Z"
   },
   {
    "duration": 4,
    "start_time": "2022-05-28T15:41:28.659Z"
   },
   {
    "duration": 5,
    "start_time": "2022-05-28T15:41:34.012Z"
   },
   {
    "duration": 958,
    "start_time": "2022-05-28T15:41:39.311Z"
   },
   {
    "duration": 781,
    "start_time": "2022-05-28T15:41:40.271Z"
   },
   {
    "duration": 4,
    "start_time": "2022-05-28T15:41:41.054Z"
   },
   {
    "duration": 28,
    "start_time": "2022-05-28T15:41:41.059Z"
   },
   {
    "duration": 43,
    "start_time": "2022-05-28T15:41:41.090Z"
   },
   {
    "duration": 18,
    "start_time": "2022-05-28T15:41:41.134Z"
   },
   {
    "duration": 22,
    "start_time": "2022-05-28T15:41:41.155Z"
   },
   {
    "duration": 27,
    "start_time": "2022-05-28T15:41:41.179Z"
   },
   {
    "duration": 46,
    "start_time": "2022-05-28T15:41:41.208Z"
   },
   {
    "duration": 9,
    "start_time": "2022-05-28T15:41:41.256Z"
   },
   {
    "duration": 27,
    "start_time": "2022-05-28T15:41:41.267Z"
   },
   {
    "duration": 22,
    "start_time": "2022-05-28T15:41:41.295Z"
   },
   {
    "duration": 8,
    "start_time": "2022-05-28T15:41:41.319Z"
   },
   {
    "duration": 28,
    "start_time": "2022-05-28T15:41:41.330Z"
   },
   {
    "duration": 7,
    "start_time": "2022-05-28T15:41:41.360Z"
   },
   {
    "duration": 11,
    "start_time": "2022-05-28T15:41:41.369Z"
   },
   {
    "duration": 16,
    "start_time": "2022-05-28T15:41:41.382Z"
   },
   {
    "duration": 9,
    "start_time": "2022-05-28T15:41:41.400Z"
   },
   {
    "duration": 12,
    "start_time": "2022-05-28T15:41:41.411Z"
   },
   {
    "duration": 28,
    "start_time": "2022-05-28T15:41:41.428Z"
   },
   {
    "duration": 34,
    "start_time": "2022-05-28T15:41:41.458Z"
   },
   {
    "duration": 13,
    "start_time": "2022-05-28T15:41:41.493Z"
   },
   {
    "duration": 10,
    "start_time": "2022-05-28T15:41:41.507Z"
   },
   {
    "duration": 26,
    "start_time": "2022-05-28T15:41:41.519Z"
   },
   {
    "duration": 3,
    "start_time": "2022-05-28T15:44:50.262Z"
   },
   {
    "duration": 4,
    "start_time": "2022-05-28T15:52:15.667Z"
   },
   {
    "duration": 929,
    "start_time": "2022-05-28T15:55:42.878Z"
   },
   {
    "duration": 193,
    "start_time": "2022-05-28T15:56:18.122Z"
   },
   {
    "duration": 919,
    "start_time": "2022-05-28T16:05:23.243Z"
   },
   {
    "duration": 590,
    "start_time": "2022-05-28T16:08:08.688Z"
   },
   {
    "duration": 639,
    "start_time": "2022-05-28T16:08:40.794Z"
   },
   {
    "duration": 32,
    "start_time": "2022-05-28T16:09:19.554Z"
   },
   {
    "duration": 161,
    "start_time": "2022-05-28T16:09:27.937Z"
   },
   {
    "duration": 161,
    "start_time": "2022-05-28T16:09:42.717Z"
   },
   {
    "duration": 136,
    "start_time": "2022-05-28T16:10:07.257Z"
   },
   {
    "duration": 186,
    "start_time": "2022-05-28T16:10:14.109Z"
   },
   {
    "duration": 191,
    "start_time": "2022-05-28T16:10:25.669Z"
   },
   {
    "duration": 189,
    "start_time": "2022-05-28T16:10:40.207Z"
   },
   {
    "duration": 190,
    "start_time": "2022-05-28T16:10:46.699Z"
   },
   {
    "duration": 170,
    "start_time": "2022-05-28T16:10:50.495Z"
   },
   {
    "duration": 194,
    "start_time": "2022-05-28T16:12:30.116Z"
   },
   {
    "duration": 225,
    "start_time": "2022-05-28T16:12:32.208Z"
   },
   {
    "duration": 286,
    "start_time": "2022-05-28T16:12:45.593Z"
   },
   {
    "duration": 181,
    "start_time": "2022-05-28T16:12:58.504Z"
   },
   {
    "duration": 195,
    "start_time": "2022-05-28T16:13:05.644Z"
   },
   {
    "duration": 14,
    "start_time": "2022-05-28T16:14:15.387Z"
   },
   {
    "duration": 5,
    "start_time": "2022-05-28T16:16:43.557Z"
   },
   {
    "duration": 200,
    "start_time": "2022-05-28T16:16:44.566Z"
   },
   {
    "duration": 198,
    "start_time": "2022-05-28T16:16:50.456Z"
   },
   {
    "duration": 226,
    "start_time": "2022-05-28T16:16:53.919Z"
   },
   {
    "duration": 219,
    "start_time": "2022-05-28T16:17:07.918Z"
   },
   {
    "duration": 5,
    "start_time": "2022-05-28T16:20:41.969Z"
   },
   {
    "duration": 15,
    "start_time": "2022-05-28T16:21:09.874Z"
   },
   {
    "duration": 28,
    "start_time": "2022-05-28T16:21:40.048Z"
   },
   {
    "duration": 4,
    "start_time": "2022-05-28T16:21:46.708Z"
   },
   {
    "duration": 9,
    "start_time": "2022-05-28T16:23:07.420Z"
   },
   {
    "duration": 12,
    "start_time": "2022-05-28T16:23:17.081Z"
   },
   {
    "duration": 9,
    "start_time": "2022-05-28T16:23:29.500Z"
   },
   {
    "duration": 7,
    "start_time": "2022-05-28T16:23:37.450Z"
   },
   {
    "duration": 7,
    "start_time": "2022-05-28T16:23:55.878Z"
   },
   {
    "duration": 9,
    "start_time": "2022-05-28T16:24:21.937Z"
   },
   {
    "duration": 4,
    "start_time": "2022-05-28T16:24:51.417Z"
   },
   {
    "duration": 3,
    "start_time": "2022-05-28T16:33:40.197Z"
   },
   {
    "duration": 17,
    "start_time": "2022-05-28T16:35:16.834Z"
   },
   {
    "duration": 667,
    "start_time": "2022-05-28T16:35:28.164Z"
   },
   {
    "duration": 714,
    "start_time": "2022-05-28T16:39:49.186Z"
   },
   {
    "duration": 3,
    "start_time": "2022-05-28T16:41:35.700Z"
   },
   {
    "duration": 10,
    "start_time": "2022-05-29T13:02:09.325Z"
   },
   {
    "duration": 52,
    "start_time": "2022-05-29T13:03:23.844Z"
   },
   {
    "duration": 1322,
    "start_time": "2022-05-29T13:04:08.260Z"
   },
   {
    "duration": 2914,
    "start_time": "2022-05-29T13:04:09.584Z"
   },
   {
    "duration": 23,
    "start_time": "2022-05-29T13:04:12.499Z"
   },
   {
    "duration": 118,
    "start_time": "2022-05-29T13:04:12.524Z"
   },
   {
    "duration": 20,
    "start_time": "2022-05-29T13:04:12.644Z"
   },
   {
    "duration": 28,
    "start_time": "2022-05-29T13:04:12.666Z"
   },
   {
    "duration": 42,
    "start_time": "2022-05-29T13:04:12.697Z"
   },
   {
    "duration": 29,
    "start_time": "2022-05-29T13:04:12.740Z"
   },
   {
    "duration": 9,
    "start_time": "2022-05-29T13:04:12.771Z"
   },
   {
    "duration": 21,
    "start_time": "2022-05-29T13:04:12.784Z"
   },
   {
    "duration": 16,
    "start_time": "2022-05-29T13:04:12.824Z"
   },
   {
    "duration": 2,
    "start_time": "2022-05-29T13:04:12.842Z"
   },
   {
    "duration": 9,
    "start_time": "2022-05-29T13:04:12.846Z"
   },
   {
    "duration": 8,
    "start_time": "2022-05-29T13:04:12.857Z"
   },
   {
    "duration": 9,
    "start_time": "2022-05-29T13:04:12.867Z"
   },
   {
    "duration": 19,
    "start_time": "2022-05-29T13:04:12.878Z"
   },
   {
    "duration": 25,
    "start_time": "2022-05-29T13:04:12.898Z"
   },
   {
    "duration": 5,
    "start_time": "2022-05-29T13:04:12.924Z"
   },
   {
    "duration": 5,
    "start_time": "2022-05-29T13:04:12.931Z"
   },
   {
    "duration": 23,
    "start_time": "2022-05-29T13:04:12.937Z"
   },
   {
    "duration": 11,
    "start_time": "2022-05-29T13:04:12.962Z"
   },
   {
    "duration": 11,
    "start_time": "2022-05-29T13:04:12.975Z"
   },
   {
    "duration": 46,
    "start_time": "2022-05-29T13:04:12.987Z"
   },
   {
    "duration": 3,
    "start_time": "2022-05-29T13:04:13.035Z"
   },
   {
    "duration": 179,
    "start_time": "2022-05-29T13:04:13.039Z"
   },
   {
    "duration": 7,
    "start_time": "2022-05-29T13:04:13.223Z"
   },
   {
    "duration": 180,
    "start_time": "2022-05-29T13:04:13.232Z"
   },
   {
    "duration": 12,
    "start_time": "2022-05-29T13:04:13.414Z"
   },
   {
    "duration": 171,
    "start_time": "2022-05-29T13:04:13.427Z"
   },
   {
    "duration": 5,
    "start_time": "2022-05-29T13:04:13.600Z"
   },
   {
    "duration": 572,
    "start_time": "2022-05-29T13:04:13.607Z"
   },
   {
    "duration": 3,
    "start_time": "2022-05-29T13:04:14.181Z"
   },
   {
    "duration": 15,
    "start_time": "2022-05-29T13:04:14.185Z"
   },
   {
    "duration": 130,
    "start_time": "2022-05-29T13:07:57.600Z"
   },
   {
    "duration": 13,
    "start_time": "2022-05-29T13:08:32.078Z"
   },
   {
    "duration": 40,
    "start_time": "2022-05-29T13:09:02.150Z"
   },
   {
    "duration": 23,
    "start_time": "2022-05-29T13:09:23.099Z"
   },
   {
    "duration": 5,
    "start_time": "2022-05-29T13:11:04.357Z"
   },
   {
    "duration": 10,
    "start_time": "2022-05-29T13:14:30.246Z"
   },
   {
    "duration": 11,
    "start_time": "2022-05-29T13:15:45.543Z"
   },
   {
    "duration": 9,
    "start_time": "2022-05-29T13:16:07.416Z"
   },
   {
    "duration": 38,
    "start_time": "2022-05-29T13:16:48.509Z"
   },
   {
    "duration": 4,
    "start_time": "2022-05-29T13:17:10.601Z"
   },
   {
    "duration": 12,
    "start_time": "2022-05-29T13:17:18.299Z"
   },
   {
    "duration": 13,
    "start_time": "2022-05-29T13:17:47.254Z"
   },
   {
    "duration": 11,
    "start_time": "2022-05-29T13:18:22.677Z"
   },
   {
    "duration": 10,
    "start_time": "2022-05-29T13:18:24.457Z"
   },
   {
    "duration": 1091,
    "start_time": "2022-05-29T13:18:44.023Z"
   },
   {
    "duration": 1402,
    "start_time": "2022-05-29T13:19:29.142Z"
   },
   {
    "duration": 2287,
    "start_time": "2022-05-29T13:19:55.664Z"
   },
   {
    "duration": 2447,
    "start_time": "2022-05-29T13:20:37.022Z"
   },
   {
    "duration": 18,
    "start_time": "2022-05-29T13:21:37.104Z"
   },
   {
    "duration": 12,
    "start_time": "2022-05-29T13:25:05.138Z"
   },
   {
    "duration": 11,
    "start_time": "2022-05-29T13:25:05.901Z"
   },
   {
    "duration": 815,
    "start_time": "2022-05-29T13:25:07.349Z"
   },
   {
    "duration": 784,
    "start_time": "2022-05-29T13:26:59.922Z"
   },
   {
    "duration": 834,
    "start_time": "2022-05-29T13:27:07.073Z"
   },
   {
    "duration": 13,
    "start_time": "2022-05-29T13:27:17.158Z"
   },
   {
    "duration": 12,
    "start_time": "2022-05-29T13:27:17.676Z"
   },
   {
    "duration": 9,
    "start_time": "2022-05-29T13:27:18.379Z"
   },
   {
    "duration": 10,
    "start_time": "2022-05-29T13:27:18.793Z"
   },
   {
    "duration": 2352,
    "start_time": "2022-05-29T13:27:19.810Z"
   },
   {
    "duration": 1770,
    "start_time": "2022-05-29T13:35:29.816Z"
   },
   {
    "duration": 2366,
    "start_time": "2022-05-29T13:35:51.148Z"
   },
   {
    "duration": 449,
    "start_time": "2022-05-29T13:37:09.286Z"
   },
   {
    "duration": 2413,
    "start_time": "2022-05-29T13:38:17.448Z"
   },
   {
    "duration": 2503,
    "start_time": "2022-05-29T13:38:27.244Z"
   },
   {
    "duration": 2482,
    "start_time": "2022-05-29T13:38:34.649Z"
   },
   {
    "duration": 2425,
    "start_time": "2022-05-29T13:43:28.252Z"
   },
   {
    "duration": 10,
    "start_time": "2022-05-29T14:02:48.423Z"
   },
   {
    "duration": 10,
    "start_time": "2022-05-29T14:02:48.749Z"
   },
   {
    "duration": 1305,
    "start_time": "2022-05-29T14:05:17.437Z"
   },
   {
    "duration": 3024,
    "start_time": "2022-05-29T14:05:18.745Z"
   },
   {
    "duration": 19,
    "start_time": "2022-05-29T14:05:21.771Z"
   },
   {
    "duration": 109,
    "start_time": "2022-05-29T14:05:21.793Z"
   },
   {
    "duration": 23,
    "start_time": "2022-05-29T14:05:21.903Z"
   },
   {
    "duration": 34,
    "start_time": "2022-05-29T14:05:21.928Z"
   },
   {
    "duration": 23,
    "start_time": "2022-05-29T14:05:21.963Z"
   },
   {
    "duration": 45,
    "start_time": "2022-05-29T14:05:21.990Z"
   },
   {
    "duration": 6,
    "start_time": "2022-05-29T14:05:22.038Z"
   },
   {
    "duration": 17,
    "start_time": "2022-05-29T14:05:22.048Z"
   },
   {
    "duration": 18,
    "start_time": "2022-05-29T14:05:22.067Z"
   },
   {
    "duration": 3,
    "start_time": "2022-05-29T14:05:22.087Z"
   },
   {
    "duration": 35,
    "start_time": "2022-05-29T14:05:22.092Z"
   },
   {
    "duration": 5,
    "start_time": "2022-05-29T14:05:22.130Z"
   },
   {
    "duration": 9,
    "start_time": "2022-05-29T14:05:22.137Z"
   },
   {
    "duration": 21,
    "start_time": "2022-05-29T14:05:22.148Z"
   },
   {
    "duration": 9,
    "start_time": "2022-05-29T14:05:22.171Z"
   },
   {
    "duration": 10,
    "start_time": "2022-05-29T14:05:22.182Z"
   },
   {
    "duration": 5,
    "start_time": "2022-05-29T14:05:22.222Z"
   },
   {
    "duration": 29,
    "start_time": "2022-05-29T14:05:22.229Z"
   },
   {
    "duration": 14,
    "start_time": "2022-05-29T14:05:22.260Z"
   },
   {
    "duration": 13,
    "start_time": "2022-05-29T14:05:22.276Z"
   },
   {
    "duration": 40,
    "start_time": "2022-05-29T14:05:22.290Z"
   },
   {
    "duration": 3,
    "start_time": "2022-05-29T14:05:22.332Z"
   },
   {
    "duration": 199,
    "start_time": "2022-05-29T14:05:22.337Z"
   },
   {
    "duration": 9,
    "start_time": "2022-05-29T14:05:22.539Z"
   },
   {
    "duration": 249,
    "start_time": "2022-05-29T14:05:22.550Z"
   },
   {
    "duration": 19,
    "start_time": "2022-05-29T14:05:22.803Z"
   },
   {
    "duration": 211,
    "start_time": "2022-05-29T14:05:22.824Z"
   },
   {
    "duration": 6,
    "start_time": "2022-05-29T14:05:23.036Z"
   },
   {
    "duration": 556,
    "start_time": "2022-05-29T14:05:23.044Z"
   },
   {
    "duration": 9,
    "start_time": "2022-05-29T14:05:23.601Z"
   },
   {
    "duration": 18,
    "start_time": "2022-05-29T14:05:23.612Z"
   },
   {
    "duration": 2679,
    "start_time": "2022-05-29T14:05:23.631Z"
   },
   {
    "duration": 120,
    "start_time": "2022-05-29T14:05:26.311Z"
   },
   {
    "duration": 0,
    "start_time": "2022-05-29T14:05:26.433Z"
   },
   {
    "duration": 0,
    "start_time": "2022-05-29T14:05:26.434Z"
   },
   {
    "duration": 0,
    "start_time": "2022-05-29T14:05:26.435Z"
   },
   {
    "duration": 16,
    "start_time": "2022-05-29T14:05:45.607Z"
   },
   {
    "duration": 21,
    "start_time": "2022-05-29T14:05:46.411Z"
   },
   {
    "duration": 24,
    "start_time": "2022-05-29T14:05:47.260Z"
   },
   {
    "duration": 2411,
    "start_time": "2022-05-29T14:05:59.756Z"
   },
   {
    "duration": 1215,
    "start_time": "2022-05-29T14:10:31.745Z"
   },
   {
    "duration": 723,
    "start_time": "2022-05-29T14:10:32.962Z"
   },
   {
    "duration": 19,
    "start_time": "2022-05-29T14:10:33.687Z"
   },
   {
    "duration": 116,
    "start_time": "2022-05-29T14:10:33.707Z"
   },
   {
    "duration": 13,
    "start_time": "2022-05-29T14:10:33.826Z"
   },
   {
    "duration": 21,
    "start_time": "2022-05-29T14:10:33.841Z"
   },
   {
    "duration": 22,
    "start_time": "2022-05-29T14:10:33.863Z"
   },
   {
    "duration": 46,
    "start_time": "2022-05-29T14:10:33.887Z"
   },
   {
    "duration": 9,
    "start_time": "2022-05-29T14:10:33.935Z"
   },
   {
    "duration": 18,
    "start_time": "2022-05-29T14:10:33.946Z"
   },
   {
    "duration": 17,
    "start_time": "2022-05-29T14:10:33.966Z"
   },
   {
    "duration": 7,
    "start_time": "2022-05-29T14:10:33.985Z"
   },
   {
    "duration": 8,
    "start_time": "2022-05-29T14:10:33.994Z"
   },
   {
    "duration": 5,
    "start_time": "2022-05-29T14:10:34.024Z"
   },
   {
    "duration": 7,
    "start_time": "2022-05-29T14:10:34.030Z"
   },
   {
    "duration": 17,
    "start_time": "2022-05-29T14:10:34.038Z"
   },
   {
    "duration": 8,
    "start_time": "2022-05-29T14:10:34.057Z"
   },
   {
    "duration": 16,
    "start_time": "2022-05-29T14:10:34.067Z"
   },
   {
    "duration": 8,
    "start_time": "2022-05-29T14:10:34.085Z"
   },
   {
    "duration": 45,
    "start_time": "2022-05-29T14:10:34.095Z"
   },
   {
    "duration": 14,
    "start_time": "2022-05-29T14:10:34.142Z"
   },
   {
    "duration": 12,
    "start_time": "2022-05-29T14:10:34.158Z"
   },
   {
    "duration": 15,
    "start_time": "2022-05-29T14:10:34.171Z"
   },
   {
    "duration": 3,
    "start_time": "2022-05-29T14:10:34.188Z"
   },
   {
    "duration": 219,
    "start_time": "2022-05-29T14:10:34.193Z"
   },
   {
    "duration": 13,
    "start_time": "2022-05-29T14:10:34.413Z"
   },
   {
    "duration": 186,
    "start_time": "2022-05-29T14:10:34.428Z"
   },
   {
    "duration": 12,
    "start_time": "2022-05-29T14:10:34.615Z"
   },
   {
    "duration": 194,
    "start_time": "2022-05-29T14:10:34.629Z"
   },
   {
    "duration": 7,
    "start_time": "2022-05-29T14:10:34.824Z"
   },
   {
    "duration": 732,
    "start_time": "2022-05-29T14:10:34.832Z"
   },
   {
    "duration": 12,
    "start_time": "2022-05-29T14:10:35.566Z"
   },
   {
    "duration": 11,
    "start_time": "2022-05-29T14:10:35.579Z"
   },
   {
    "duration": 2623,
    "start_time": "2022-05-29T14:10:35.592Z"
   },
   {
    "duration": 21,
    "start_time": "2022-05-29T14:10:38.217Z"
   },
   {
    "duration": 19,
    "start_time": "2022-05-29T14:10:38.240Z"
   },
   {
    "duration": 2258,
    "start_time": "2022-05-29T14:10:38.262Z"
   },
   {
    "duration": 1276,
    "start_time": "2022-05-29T14:12:12.323Z"
   },
   {
    "duration": 711,
    "start_time": "2022-05-29T14:12:13.601Z"
   },
   {
    "duration": 25,
    "start_time": "2022-05-29T14:12:14.314Z"
   },
   {
    "duration": 99,
    "start_time": "2022-05-29T14:12:14.341Z"
   },
   {
    "duration": 13,
    "start_time": "2022-05-29T14:12:14.441Z"
   },
   {
    "duration": 20,
    "start_time": "2022-05-29T14:12:14.455Z"
   },
   {
    "duration": 16,
    "start_time": "2022-05-29T14:12:14.476Z"
   },
   {
    "duration": 53,
    "start_time": "2022-05-29T14:12:14.494Z"
   },
   {
    "duration": 3,
    "start_time": "2022-05-29T14:12:14.548Z"
   },
   {
    "duration": 13,
    "start_time": "2022-05-29T14:12:14.554Z"
   },
   {
    "duration": 13,
    "start_time": "2022-05-29T14:12:14.569Z"
   },
   {
    "duration": 2,
    "start_time": "2022-05-29T14:12:14.584Z"
   },
   {
    "duration": 7,
    "start_time": "2022-05-29T14:12:14.588Z"
   },
   {
    "duration": 37,
    "start_time": "2022-05-29T14:12:14.599Z"
   },
   {
    "duration": 9,
    "start_time": "2022-05-29T14:12:14.644Z"
   },
   {
    "duration": 16,
    "start_time": "2022-05-29T14:12:14.654Z"
   },
   {
    "duration": 17,
    "start_time": "2022-05-29T14:12:14.672Z"
   },
   {
    "duration": 9,
    "start_time": "2022-05-29T14:12:14.691Z"
   },
   {
    "duration": 4,
    "start_time": "2022-05-29T14:12:14.702Z"
   },
   {
    "duration": 33,
    "start_time": "2022-05-29T14:12:14.707Z"
   },
   {
    "duration": 13,
    "start_time": "2022-05-29T14:12:14.742Z"
   },
   {
    "duration": 10,
    "start_time": "2022-05-29T14:12:14.757Z"
   },
   {
    "duration": 13,
    "start_time": "2022-05-29T14:12:14.768Z"
   },
   {
    "duration": 3,
    "start_time": "2022-05-29T14:12:14.783Z"
   },
   {
    "duration": 206,
    "start_time": "2022-05-29T14:12:14.787Z"
   },
   {
    "duration": 8,
    "start_time": "2022-05-29T14:12:14.995Z"
   },
   {
    "duration": 212,
    "start_time": "2022-05-29T14:12:15.004Z"
   },
   {
    "duration": 12,
    "start_time": "2022-05-29T14:12:15.219Z"
   },
   {
    "duration": 182,
    "start_time": "2022-05-29T14:12:15.239Z"
   },
   {
    "duration": 11,
    "start_time": "2022-05-29T14:12:15.423Z"
   },
   {
    "duration": 686,
    "start_time": "2022-05-29T14:12:15.437Z"
   },
   {
    "duration": 14,
    "start_time": "2022-05-29T14:12:16.124Z"
   },
   {
    "duration": 11,
    "start_time": "2022-05-29T14:12:16.141Z"
   },
   {
    "duration": 2531,
    "start_time": "2022-05-29T14:12:16.153Z"
   },
   {
    "duration": 14,
    "start_time": "2022-05-29T14:12:18.686Z"
   },
   {
    "duration": 34,
    "start_time": "2022-05-29T14:12:18.701Z"
   },
   {
    "duration": 2397,
    "start_time": "2022-05-29T14:12:18.737Z"
   },
   {
    "duration": 1211,
    "start_time": "2022-05-29T14:12:40.001Z"
   },
   {
    "duration": 720,
    "start_time": "2022-05-29T14:12:41.214Z"
   },
   {
    "duration": 24,
    "start_time": "2022-05-29T14:12:41.938Z"
   },
   {
    "duration": 104,
    "start_time": "2022-05-29T14:12:41.964Z"
   },
   {
    "duration": 12,
    "start_time": "2022-05-29T14:12:42.070Z"
   },
   {
    "duration": 20,
    "start_time": "2022-05-29T14:12:42.083Z"
   },
   {
    "duration": 36,
    "start_time": "2022-05-29T14:12:42.104Z"
   },
   {
    "duration": 19,
    "start_time": "2022-05-29T14:12:42.142Z"
   },
   {
    "duration": 5,
    "start_time": "2022-05-29T14:12:42.162Z"
   },
   {
    "duration": 10,
    "start_time": "2022-05-29T14:12:42.169Z"
   },
   {
    "duration": 12,
    "start_time": "2022-05-29T14:12:42.180Z"
   },
   {
    "duration": 41,
    "start_time": "2022-05-29T14:12:42.193Z"
   },
   {
    "duration": 8,
    "start_time": "2022-05-29T14:12:42.236Z"
   },
   {
    "duration": 5,
    "start_time": "2022-05-29T14:12:42.246Z"
   },
   {
    "duration": 5,
    "start_time": "2022-05-29T14:12:42.253Z"
   },
   {
    "duration": 19,
    "start_time": "2022-05-29T14:12:42.260Z"
   },
   {
    "duration": 16,
    "start_time": "2022-05-29T14:12:42.281Z"
   },
   {
    "duration": 8,
    "start_time": "2022-05-29T14:12:42.298Z"
   },
   {
    "duration": 4,
    "start_time": "2022-05-29T14:12:42.308Z"
   },
   {
    "duration": 37,
    "start_time": "2022-05-29T14:12:42.313Z"
   },
   {
    "duration": 12,
    "start_time": "2022-05-29T14:12:42.352Z"
   },
   {
    "duration": 11,
    "start_time": "2022-05-29T14:12:42.366Z"
   },
   {
    "duration": 12,
    "start_time": "2022-05-29T14:12:42.379Z"
   },
   {
    "duration": 41,
    "start_time": "2022-05-29T14:12:42.393Z"
   },
   {
    "duration": 193,
    "start_time": "2022-05-29T14:12:42.436Z"
   },
   {
    "duration": 8,
    "start_time": "2022-05-29T14:12:42.639Z"
   },
   {
    "duration": 205,
    "start_time": "2022-05-29T14:12:42.649Z"
   },
   {
    "duration": 10,
    "start_time": "2022-05-29T14:12:42.859Z"
   },
   {
    "duration": 188,
    "start_time": "2022-05-29T14:12:42.871Z"
   },
   {
    "duration": 6,
    "start_time": "2022-05-29T14:12:43.061Z"
   },
   {
    "duration": 633,
    "start_time": "2022-05-29T14:12:43.068Z"
   },
   {
    "duration": 10,
    "start_time": "2022-05-29T14:12:43.703Z"
   },
   {
    "duration": 11,
    "start_time": "2022-05-29T14:12:43.730Z"
   },
   {
    "duration": 2475,
    "start_time": "2022-05-29T14:12:43.742Z"
   },
   {
    "duration": 15,
    "start_time": "2022-05-29T14:12:46.223Z"
   },
   {
    "duration": 22,
    "start_time": "2022-05-29T14:12:46.240Z"
   },
   {
    "duration": 2395,
    "start_time": "2022-05-29T14:12:46.264Z"
   },
   {
    "duration": 1195,
    "start_time": "2022-05-29T14:13:13.213Z"
   },
   {
    "duration": 704,
    "start_time": "2022-05-29T14:13:14.410Z"
   },
   {
    "duration": 22,
    "start_time": "2022-05-29T14:13:15.116Z"
   },
   {
    "duration": 115,
    "start_time": "2022-05-29T14:13:15.140Z"
   },
   {
    "duration": 13,
    "start_time": "2022-05-29T14:13:15.257Z"
   },
   {
    "duration": 19,
    "start_time": "2022-05-29T14:13:15.271Z"
   },
   {
    "duration": 46,
    "start_time": "2022-05-29T14:13:15.292Z"
   },
   {
    "duration": 23,
    "start_time": "2022-05-29T14:13:15.340Z"
   },
   {
    "duration": 8,
    "start_time": "2022-05-29T14:13:15.364Z"
   },
   {
    "duration": 14,
    "start_time": "2022-05-29T14:13:15.373Z"
   },
   {
    "duration": 11,
    "start_time": "2022-05-29T14:13:15.389Z"
   },
   {
    "duration": 28,
    "start_time": "2022-05-29T14:13:15.402Z"
   },
   {
    "duration": 6,
    "start_time": "2022-05-29T14:13:15.439Z"
   },
   {
    "duration": 7,
    "start_time": "2022-05-29T14:13:15.448Z"
   },
   {
    "duration": 8,
    "start_time": "2022-05-29T14:13:15.456Z"
   },
   {
    "duration": 15,
    "start_time": "2022-05-29T14:13:15.465Z"
   },
   {
    "duration": 11,
    "start_time": "2022-05-29T14:13:15.482Z"
   },
   {
    "duration": 7,
    "start_time": "2022-05-29T14:13:15.494Z"
   },
   {
    "duration": 4,
    "start_time": "2022-05-29T14:13:15.502Z"
   },
   {
    "duration": 45,
    "start_time": "2022-05-29T14:13:15.509Z"
   },
   {
    "duration": 14,
    "start_time": "2022-05-29T14:13:15.555Z"
   },
   {
    "duration": 10,
    "start_time": "2022-05-29T14:13:15.570Z"
   },
   {
    "duration": 43,
    "start_time": "2022-05-29T14:13:15.582Z"
   },
   {
    "duration": 4,
    "start_time": "2022-05-29T14:13:15.630Z"
   },
   {
    "duration": 198,
    "start_time": "2022-05-29T14:13:15.636Z"
   },
   {
    "duration": 7,
    "start_time": "2022-05-29T14:13:15.837Z"
   },
   {
    "duration": 205,
    "start_time": "2022-05-29T14:13:15.846Z"
   },
   {
    "duration": 7,
    "start_time": "2022-05-29T14:13:16.053Z"
   },
   {
    "duration": 195,
    "start_time": "2022-05-29T14:13:16.062Z"
   },
   {
    "duration": 7,
    "start_time": "2022-05-29T14:13:16.259Z"
   },
   {
    "duration": 646,
    "start_time": "2022-05-29T14:13:16.268Z"
   },
   {
    "duration": 21,
    "start_time": "2022-05-29T14:13:16.916Z"
   },
   {
    "duration": 9,
    "start_time": "2022-05-29T14:13:16.939Z"
   },
   {
    "duration": 2586,
    "start_time": "2022-05-29T14:13:16.949Z"
   },
   {
    "duration": 15,
    "start_time": "2022-05-29T14:13:19.537Z"
   },
   {
    "duration": 22,
    "start_time": "2022-05-29T14:13:19.553Z"
   },
   {
    "duration": 2492,
    "start_time": "2022-05-29T14:13:19.577Z"
   },
   {
    "duration": 3,
    "start_time": "2022-05-29T14:35:55.071Z"
   },
   {
    "duration": 4,
    "start_time": "2022-05-29T14:36:32.748Z"
   },
   {
    "duration": 4,
    "start_time": "2022-05-29T14:55:16.880Z"
   },
   {
    "duration": 120,
    "start_time": "2022-05-29T14:55:58.079Z"
   },
   {
    "duration": 6,
    "start_time": "2022-05-29T14:56:06.464Z"
   },
   {
    "duration": 11,
    "start_time": "2022-05-29T15:54:10.885Z"
   },
   {
    "duration": 181,
    "start_time": "2022-05-29T15:54:18.833Z"
   },
   {
    "duration": 15,
    "start_time": "2022-05-29T15:54:23.417Z"
   },
   {
    "duration": 3,
    "start_time": "2022-05-29T15:59:37.752Z"
   },
   {
    "duration": 4,
    "start_time": "2022-05-29T15:59:42.398Z"
   },
   {
    "duration": 10,
    "start_time": "2022-05-29T16:07:40.445Z"
   },
   {
    "duration": 9,
    "start_time": "2022-05-29T16:07:44.692Z"
   },
   {
    "duration": 9,
    "start_time": "2022-05-29T16:07:48.633Z"
   },
   {
    "duration": 9,
    "start_time": "2022-05-29T16:07:51.214Z"
   },
   {
    "duration": 9,
    "start_time": "2022-05-29T16:07:55.182Z"
   },
   {
    "duration": 10,
    "start_time": "2022-05-29T16:07:57.193Z"
   },
   {
    "duration": 4,
    "start_time": "2022-05-29T16:08:02.105Z"
   },
   {
    "duration": 3,
    "start_time": "2022-05-29T16:09:02.120Z"
   },
   {
    "duration": 9,
    "start_time": "2022-05-29T16:09:02.415Z"
   },
   {
    "duration": 3,
    "start_time": "2022-05-29T16:09:19.233Z"
   },
   {
    "duration": 4,
    "start_time": "2022-05-29T16:09:19.477Z"
   },
   {
    "duration": 20,
    "start_time": "2022-05-29T16:09:26.932Z"
   },
   {
    "duration": 6,
    "start_time": "2022-05-29T16:09:42.712Z"
   },
   {
    "duration": 4,
    "start_time": "2022-05-29T16:11:16.296Z"
   },
   {
    "duration": 13,
    "start_time": "2022-05-29T16:34:19.345Z"
   },
   {
    "duration": 12,
    "start_time": "2022-05-29T16:34:21.917Z"
   },
   {
    "duration": 3,
    "start_time": "2022-05-29T16:42:31.686Z"
   },
   {
    "duration": 5,
    "start_time": "2022-05-29T16:42:36.426Z"
   },
   {
    "duration": 3,
    "start_time": "2022-05-29T16:43:51.885Z"
   },
   {
    "duration": 4,
    "start_time": "2022-05-29T16:43:55.020Z"
   },
   {
    "duration": 4,
    "start_time": "2022-05-29T16:45:18.344Z"
   },
   {
    "duration": 4,
    "start_time": "2022-05-29T16:45:27.500Z"
   },
   {
    "duration": 3,
    "start_time": "2022-05-29T16:45:38.557Z"
   },
   {
    "duration": 5,
    "start_time": "2022-05-29T16:45:39.006Z"
   },
   {
    "duration": 5,
    "start_time": "2022-05-29T16:45:50.500Z"
   },
   {
    "duration": 10,
    "start_time": "2022-05-29T16:46:28.071Z"
   },
   {
    "duration": 3,
    "start_time": "2022-05-29T16:46:36.307Z"
   },
   {
    "duration": 4,
    "start_time": "2022-05-29T16:46:39.770Z"
   },
   {
    "duration": 4,
    "start_time": "2022-05-29T16:46:41.700Z"
   },
   {
    "duration": 2,
    "start_time": "2022-05-29T16:46:54.824Z"
   },
   {
    "duration": 4,
    "start_time": "2022-05-29T16:46:55.195Z"
   },
   {
    "duration": 4,
    "start_time": "2022-05-29T16:46:59.064Z"
   },
   {
    "duration": 4,
    "start_time": "2022-05-29T16:46:59.360Z"
   },
   {
    "duration": 5,
    "start_time": "2022-05-29T16:47:05.888Z"
   },
   {
    "duration": 3,
    "start_time": "2022-05-29T16:47:16.002Z"
   },
   {
    "duration": 4,
    "start_time": "2022-05-29T16:47:16.274Z"
   },
   {
    "duration": 3,
    "start_time": "2022-05-29T16:47:24.360Z"
   },
   {
    "duration": 3,
    "start_time": "2022-05-29T16:47:55.775Z"
   },
   {
    "duration": 4,
    "start_time": "2022-05-29T16:47:56.023Z"
   },
   {
    "duration": 3,
    "start_time": "2022-05-29T16:48:04.897Z"
   },
   {
    "duration": 3,
    "start_time": "2022-05-29T16:48:08.194Z"
   },
   {
    "duration": 3,
    "start_time": "2022-05-29T16:48:22.508Z"
   },
   {
    "duration": 5,
    "start_time": "2022-05-29T16:48:25.668Z"
   },
   {
    "duration": 5,
    "start_time": "2022-05-29T16:48:39.208Z"
   },
   {
    "duration": 4,
    "start_time": "2022-05-29T16:48:44.259Z"
   },
   {
    "duration": 3,
    "start_time": "2022-05-29T16:50:01.304Z"
   },
   {
    "duration": 5,
    "start_time": "2022-05-29T16:50:01.676Z"
   },
   {
    "duration": 3,
    "start_time": "2022-05-29T16:50:11.419Z"
   },
   {
    "duration": 4,
    "start_time": "2022-05-29T16:50:45.472Z"
   },
   {
    "duration": 4,
    "start_time": "2022-05-29T16:50:54.521Z"
   },
   {
    "duration": 5,
    "start_time": "2022-05-29T16:50:59.357Z"
   },
   {
    "duration": 3,
    "start_time": "2022-05-29T16:51:52.468Z"
   },
   {
    "duration": 5,
    "start_time": "2022-05-29T16:51:52.978Z"
   },
   {
    "duration": 4,
    "start_time": "2022-05-29T16:52:08.398Z"
   },
   {
    "duration": 5,
    "start_time": "2022-05-29T16:52:08.757Z"
   },
   {
    "duration": 3,
    "start_time": "2022-05-29T16:52:31.654Z"
   },
   {
    "duration": 5,
    "start_time": "2022-05-29T16:52:32.118Z"
   },
   {
    "duration": 13,
    "start_time": "2022-05-29T16:54:02.523Z"
   },
   {
    "duration": 3,
    "start_time": "2022-05-29T16:55:38.855Z"
   },
   {
    "duration": 2,
    "start_time": "2022-05-29T16:56:23.291Z"
   },
   {
    "duration": 5,
    "start_time": "2022-05-29T16:56:29.946Z"
   },
   {
    "duration": 4,
    "start_time": "2022-05-29T16:56:40.367Z"
   },
   {
    "duration": 3,
    "start_time": "2022-05-29T16:57:27.666Z"
   },
   {
    "duration": 3,
    "start_time": "2022-05-29T16:57:28.054Z"
   },
   {
    "duration": 5,
    "start_time": "2022-05-29T16:57:28.526Z"
   },
   {
    "duration": 3,
    "start_time": "2022-05-29T16:57:37.170Z"
   },
   {
    "duration": 2,
    "start_time": "2022-05-29T16:57:37.367Z"
   },
   {
    "duration": 3,
    "start_time": "2022-05-29T16:57:37.584Z"
   },
   {
    "duration": 5,
    "start_time": "2022-05-29T16:57:37.920Z"
   },
   {
    "duration": 3,
    "start_time": "2022-05-29T16:59:26.067Z"
   },
   {
    "duration": 9,
    "start_time": "2022-05-29T16:59:26.470Z"
   },
   {
    "duration": 4,
    "start_time": "2022-05-29T16:59:33.925Z"
   },
   {
    "duration": 10,
    "start_time": "2022-05-29T16:59:51.162Z"
   },
   {
    "duration": 5,
    "start_time": "2022-05-29T16:59:51.485Z"
   },
   {
    "duration": 3,
    "start_time": "2022-05-29T17:00:01.222Z"
   },
   {
    "duration": 7,
    "start_time": "2022-05-29T17:00:02.556Z"
   },
   {
    "duration": 1124,
    "start_time": "2022-05-29T17:00:13.384Z"
   },
   {
    "duration": 739,
    "start_time": "2022-05-29T17:00:14.509Z"
   },
   {
    "duration": 29,
    "start_time": "2022-05-29T17:00:15.251Z"
   },
   {
    "duration": 117,
    "start_time": "2022-05-29T17:00:15.282Z"
   },
   {
    "duration": 22,
    "start_time": "2022-05-29T17:00:15.402Z"
   },
   {
    "duration": 21,
    "start_time": "2022-05-29T17:00:15.425Z"
   },
   {
    "duration": 23,
    "start_time": "2022-05-29T17:00:15.447Z"
   },
   {
    "duration": 19,
    "start_time": "2022-05-29T17:00:15.472Z"
   },
   {
    "duration": 4,
    "start_time": "2022-05-29T17:00:15.493Z"
   },
   {
    "duration": 11,
    "start_time": "2022-05-29T17:00:15.523Z"
   },
   {
    "duration": 12,
    "start_time": "2022-05-29T17:00:15.536Z"
   },
   {
    "duration": 3,
    "start_time": "2022-05-29T17:00:15.550Z"
   },
   {
    "duration": 8,
    "start_time": "2022-05-29T17:00:15.555Z"
   },
   {
    "duration": 5,
    "start_time": "2022-05-29T17:00:15.566Z"
   },
   {
    "duration": 7,
    "start_time": "2022-05-29T17:00:15.572Z"
   },
   {
    "duration": 49,
    "start_time": "2022-05-29T17:00:15.581Z"
   },
   {
    "duration": 4,
    "start_time": "2022-05-29T17:00:15.632Z"
   },
   {
    "duration": 8,
    "start_time": "2022-05-29T17:00:15.638Z"
   },
   {
    "duration": 4,
    "start_time": "2022-05-29T17:00:15.647Z"
   },
   {
    "duration": 26,
    "start_time": "2022-05-29T17:00:15.652Z"
   },
   {
    "duration": 13,
    "start_time": "2022-05-29T17:00:15.680Z"
   },
   {
    "duration": 12,
    "start_time": "2022-05-29T17:00:15.722Z"
   },
   {
    "duration": 13,
    "start_time": "2022-05-29T17:00:15.735Z"
   },
   {
    "duration": 3,
    "start_time": "2022-05-29T17:00:15.750Z"
   },
   {
    "duration": 185,
    "start_time": "2022-05-29T17:00:15.755Z"
   },
   {
    "duration": 7,
    "start_time": "2022-05-29T17:00:15.941Z"
   },
   {
    "duration": 192,
    "start_time": "2022-05-29T17:00:15.950Z"
   },
   {
    "duration": 6,
    "start_time": "2022-05-29T17:00:16.144Z"
   },
   {
    "duration": 185,
    "start_time": "2022-05-29T17:00:16.152Z"
   },
   {
    "duration": 7,
    "start_time": "2022-05-29T17:00:16.340Z"
   },
   {
    "duration": 547,
    "start_time": "2022-05-29T17:00:16.348Z"
   },
   {
    "duration": 9,
    "start_time": "2022-05-29T17:00:16.897Z"
   },
   {
    "duration": 20,
    "start_time": "2022-05-29T17:00:16.908Z"
   },
   {
    "duration": 2519,
    "start_time": "2022-05-29T17:00:16.930Z"
   },
   {
    "duration": 15,
    "start_time": "2022-05-29T17:00:19.451Z"
   },
   {
    "duration": 22,
    "start_time": "2022-05-29T17:00:19.467Z"
   },
   {
    "duration": 2389,
    "start_time": "2022-05-29T17:00:19.491Z"
   },
   {
    "duration": 3,
    "start_time": "2022-05-29T17:00:21.881Z"
   },
   {
    "duration": 8,
    "start_time": "2022-05-29T17:00:21.886Z"
   },
   {
    "duration": 10,
    "start_time": "2022-05-29T17:00:21.896Z"
   },
   {
    "duration": 29,
    "start_time": "2022-05-29T17:00:21.909Z"
   },
   {
    "duration": 8,
    "start_time": "2022-05-29T17:00:21.939Z"
   },
   {
    "duration": 8,
    "start_time": "2022-05-29T17:00:21.948Z"
   },
   {
    "duration": 10,
    "start_time": "2022-05-29T17:00:21.958Z"
   },
   {
    "duration": 7,
    "start_time": "2022-05-29T17:00:21.970Z"
   },
   {
    "duration": 13,
    "start_time": "2022-05-29T17:00:21.979Z"
   },
   {
    "duration": 9,
    "start_time": "2022-05-29T17:00:21.993Z"
   },
   {
    "duration": 109,
    "start_time": "2022-05-29T17:00:36.477Z"
   },
   {
    "duration": 1192,
    "start_time": "2022-05-29T17:00:40.914Z"
   },
   {
    "duration": 770,
    "start_time": "2022-05-29T17:00:42.109Z"
   },
   {
    "duration": 17,
    "start_time": "2022-05-29T17:00:42.881Z"
   },
   {
    "duration": 113,
    "start_time": "2022-05-29T17:00:42.900Z"
   },
   {
    "duration": 13,
    "start_time": "2022-05-29T17:00:43.015Z"
   },
   {
    "duration": 29,
    "start_time": "2022-05-29T17:00:43.029Z"
   },
   {
    "duration": 33,
    "start_time": "2022-05-29T17:00:43.060Z"
   },
   {
    "duration": 19,
    "start_time": "2022-05-29T17:00:43.095Z"
   },
   {
    "duration": 8,
    "start_time": "2022-05-29T17:00:43.116Z"
   },
   {
    "duration": 27,
    "start_time": "2022-05-29T17:00:43.126Z"
   },
   {
    "duration": 12,
    "start_time": "2022-05-29T17:00:43.154Z"
   },
   {
    "duration": 3,
    "start_time": "2022-05-29T17:00:43.167Z"
   },
   {
    "duration": 18,
    "start_time": "2022-05-29T17:00:43.172Z"
   },
   {
    "duration": 15,
    "start_time": "2022-05-29T17:00:43.193Z"
   },
   {
    "duration": 18,
    "start_time": "2022-05-29T17:00:43.210Z"
   },
   {
    "duration": 28,
    "start_time": "2022-05-29T17:00:43.229Z"
   },
   {
    "duration": 24,
    "start_time": "2022-05-29T17:00:43.259Z"
   },
   {
    "duration": 24,
    "start_time": "2022-05-29T17:00:43.285Z"
   },
   {
    "duration": 6,
    "start_time": "2022-05-29T17:00:43.311Z"
   },
   {
    "duration": 31,
    "start_time": "2022-05-29T17:00:43.319Z"
   },
   {
    "duration": 15,
    "start_time": "2022-05-29T17:00:43.351Z"
   },
   {
    "duration": 12,
    "start_time": "2022-05-29T17:00:43.367Z"
   },
   {
    "duration": 22,
    "start_time": "2022-05-29T17:00:43.380Z"
   },
   {
    "duration": 3,
    "start_time": "2022-05-29T17:00:43.404Z"
   },
   {
    "duration": 181,
    "start_time": "2022-05-29T17:00:43.409Z"
   },
   {
    "duration": 7,
    "start_time": "2022-05-29T17:00:43.592Z"
   },
   {
    "duration": 176,
    "start_time": "2022-05-29T17:00:43.600Z"
   },
   {
    "duration": 6,
    "start_time": "2022-05-29T17:00:43.778Z"
   },
   {
    "duration": 200,
    "start_time": "2022-05-29T17:00:43.786Z"
   },
   {
    "duration": 8,
    "start_time": "2022-05-29T17:00:43.988Z"
   },
   {
    "duration": 568,
    "start_time": "2022-05-29T17:00:43.998Z"
   },
   {
    "duration": 10,
    "start_time": "2022-05-29T17:00:44.568Z"
   },
   {
    "duration": 22,
    "start_time": "2022-05-29T17:00:44.579Z"
   },
   {
    "duration": 2305,
    "start_time": "2022-05-29T17:00:44.602Z"
   },
   {
    "duration": 25,
    "start_time": "2022-05-29T17:00:46.908Z"
   },
   {
    "duration": 26,
    "start_time": "2022-05-29T17:00:46.934Z"
   },
   {
    "duration": 2471,
    "start_time": "2022-05-29T17:00:46.962Z"
   },
   {
    "duration": 4,
    "start_time": "2022-05-29T17:00:49.435Z"
   },
   {
    "duration": 13,
    "start_time": "2022-05-29T17:00:49.441Z"
   },
   {
    "duration": 13,
    "start_time": "2022-05-29T17:00:49.456Z"
   },
   {
    "duration": 26,
    "start_time": "2022-05-29T17:00:49.473Z"
   },
   {
    "duration": 27,
    "start_time": "2022-05-29T17:00:49.501Z"
   },
   {
    "duration": 11,
    "start_time": "2022-05-29T17:00:49.530Z"
   },
   {
    "duration": 12,
    "start_time": "2022-05-29T17:00:49.542Z"
   },
   {
    "duration": 13,
    "start_time": "2022-05-29T17:00:49.556Z"
   },
   {
    "duration": 7,
    "start_time": "2022-05-29T17:00:49.570Z"
   },
   {
    "duration": 32,
    "start_time": "2022-05-29T17:00:49.578Z"
   },
   {
    "duration": 130,
    "start_time": "2022-05-29T17:01:09.908Z"
   },
   {
    "duration": 1200,
    "start_time": "2022-05-29T17:01:16.702Z"
   },
   {
    "duration": 716,
    "start_time": "2022-05-29T17:01:17.904Z"
   },
   {
    "duration": 19,
    "start_time": "2022-05-29T17:01:18.622Z"
   },
   {
    "duration": 110,
    "start_time": "2022-05-29T17:01:18.643Z"
   },
   {
    "duration": 14,
    "start_time": "2022-05-29T17:01:18.755Z"
   },
   {
    "duration": 23,
    "start_time": "2022-05-29T17:01:18.771Z"
   },
   {
    "duration": 40,
    "start_time": "2022-05-29T17:01:18.796Z"
   },
   {
    "duration": 22,
    "start_time": "2022-05-29T17:01:18.838Z"
   },
   {
    "duration": 4,
    "start_time": "2022-05-29T17:01:18.862Z"
   },
   {
    "duration": 12,
    "start_time": "2022-05-29T17:01:18.867Z"
   },
   {
    "duration": 52,
    "start_time": "2022-05-29T17:01:18.881Z"
   },
   {
    "duration": 3,
    "start_time": "2022-05-29T17:01:18.935Z"
   },
   {
    "duration": 11,
    "start_time": "2022-05-29T17:01:18.940Z"
   },
   {
    "duration": 5,
    "start_time": "2022-05-29T17:01:18.954Z"
   },
   {
    "duration": 7,
    "start_time": "2022-05-29T17:01:18.961Z"
   },
   {
    "duration": 17,
    "start_time": "2022-05-29T17:01:18.969Z"
   },
   {
    "duration": 9,
    "start_time": "2022-05-29T17:01:18.987Z"
   },
   {
    "duration": 26,
    "start_time": "2022-05-29T17:01:18.997Z"
   },
   {
    "duration": 6,
    "start_time": "2022-05-29T17:01:19.025Z"
   },
   {
    "duration": 28,
    "start_time": "2022-05-29T17:01:19.033Z"
   },
   {
    "duration": 14,
    "start_time": "2022-05-29T17:01:19.063Z"
   },
   {
    "duration": 10,
    "start_time": "2022-05-29T17:01:19.079Z"
   },
   {
    "duration": 43,
    "start_time": "2022-05-29T17:01:19.091Z"
   },
   {
    "duration": 4,
    "start_time": "2022-05-29T17:01:19.135Z"
   },
   {
    "duration": 208,
    "start_time": "2022-05-29T17:01:19.140Z"
   },
   {
    "duration": 7,
    "start_time": "2022-05-29T17:01:19.350Z"
   },
   {
    "duration": 189,
    "start_time": "2022-05-29T17:01:19.360Z"
   },
   {
    "duration": 8,
    "start_time": "2022-05-29T17:01:19.551Z"
   },
   {
    "duration": 200,
    "start_time": "2022-05-29T17:01:19.561Z"
   },
   {
    "duration": 7,
    "start_time": "2022-05-29T17:01:19.764Z"
   },
   {
    "duration": 651,
    "start_time": "2022-05-29T17:01:19.772Z"
   },
   {
    "duration": 10,
    "start_time": "2022-05-29T17:01:20.425Z"
   },
   {
    "duration": 12,
    "start_time": "2022-05-29T17:01:20.438Z"
   },
   {
    "duration": 2501,
    "start_time": "2022-05-29T17:01:20.452Z"
   },
   {
    "duration": 15,
    "start_time": "2022-05-29T17:01:22.954Z"
   },
   {
    "duration": 22,
    "start_time": "2022-05-29T17:01:22.970Z"
   },
   {
    "duration": 2286,
    "start_time": "2022-05-29T17:01:22.993Z"
   },
   {
    "duration": 3,
    "start_time": "2022-05-29T17:01:25.281Z"
   },
   {
    "duration": 8,
    "start_time": "2022-05-29T17:01:25.285Z"
   },
   {
    "duration": 7,
    "start_time": "2022-05-29T17:01:25.295Z"
   },
   {
    "duration": 28,
    "start_time": "2022-05-29T17:01:25.305Z"
   },
   {
    "duration": 6,
    "start_time": "2022-05-29T17:01:25.334Z"
   },
   {
    "duration": 5,
    "start_time": "2022-05-29T17:01:25.341Z"
   },
   {
    "duration": 9,
    "start_time": "2022-05-29T17:01:25.347Z"
   },
   {
    "duration": 5,
    "start_time": "2022-05-29T17:01:25.357Z"
   },
   {
    "duration": 4,
    "start_time": "2022-05-29T17:01:25.363Z"
   },
   {
    "duration": 5,
    "start_time": "2022-05-29T17:01:25.369Z"
   },
   {
    "duration": 5671,
    "start_time": "2022-05-29T17:02:51.161Z"
   },
   {
    "duration": 5,
    "start_time": "2022-05-29T17:04:06.434Z"
   },
   {
    "duration": 177,
    "start_time": "2022-05-29T17:04:12.640Z"
   },
   {
    "duration": 20,
    "start_time": "2022-05-29T17:04:29.181Z"
   },
   {
    "duration": 13,
    "start_time": "2022-05-29T17:04:39.925Z"
   },
   {
    "duration": 20,
    "start_time": "2022-05-29T17:04:53.975Z"
   },
   {
    "duration": 1186,
    "start_time": "2022-05-29T17:08:02.504Z"
   },
   {
    "duration": 706,
    "start_time": "2022-05-29T17:08:03.692Z"
   },
   {
    "duration": 17,
    "start_time": "2022-05-29T17:08:04.400Z"
   },
   {
    "duration": 104,
    "start_time": "2022-05-29T17:08:04.419Z"
   },
   {
    "duration": 12,
    "start_time": "2022-05-29T17:08:04.524Z"
   },
   {
    "duration": 21,
    "start_time": "2022-05-29T17:08:04.538Z"
   },
   {
    "duration": 28,
    "start_time": "2022-05-29T17:08:04.561Z"
   },
   {
    "duration": 36,
    "start_time": "2022-05-29T17:08:04.591Z"
   },
   {
    "duration": 3,
    "start_time": "2022-05-29T17:08:04.629Z"
   },
   {
    "duration": 11,
    "start_time": "2022-05-29T17:08:04.634Z"
   },
   {
    "duration": 11,
    "start_time": "2022-05-29T17:08:04.647Z"
   },
   {
    "duration": 2,
    "start_time": "2022-05-29T17:08:04.660Z"
   },
   {
    "duration": 7,
    "start_time": "2022-05-29T17:08:04.663Z"
   },
   {
    "duration": 6,
    "start_time": "2022-05-29T17:08:04.671Z"
   },
   {
    "duration": 6,
    "start_time": "2022-05-29T17:08:04.678Z"
   },
   {
    "duration": 52,
    "start_time": "2022-05-29T17:08:04.685Z"
   },
   {
    "duration": 4,
    "start_time": "2022-05-29T17:08:04.739Z"
   },
   {
    "duration": 7,
    "start_time": "2022-05-29T17:08:04.744Z"
   },
   {
    "duration": 3,
    "start_time": "2022-05-29T17:08:04.752Z"
   },
   {
    "duration": 28,
    "start_time": "2022-05-29T17:08:04.757Z"
   },
   {
    "duration": 12,
    "start_time": "2022-05-29T17:08:04.787Z"
   },
   {
    "duration": 27,
    "start_time": "2022-05-29T17:08:04.801Z"
   },
   {
    "duration": 12,
    "start_time": "2022-05-29T17:08:04.829Z"
   },
   {
    "duration": 3,
    "start_time": "2022-05-29T17:08:04.843Z"
   },
   {
    "duration": 178,
    "start_time": "2022-05-29T17:08:04.847Z"
   },
   {
    "duration": 7,
    "start_time": "2022-05-29T17:08:05.027Z"
   },
   {
    "duration": 172,
    "start_time": "2022-05-29T17:08:05.035Z"
   },
   {
    "duration": 13,
    "start_time": "2022-05-29T17:08:05.211Z"
   },
   {
    "duration": 172,
    "start_time": "2022-05-29T17:08:05.225Z"
   },
   {
    "duration": 6,
    "start_time": "2022-05-29T17:08:05.399Z"
   },
   {
    "duration": 558,
    "start_time": "2022-05-29T17:08:05.407Z"
   },
   {
    "duration": 11,
    "start_time": "2022-05-29T17:08:05.967Z"
   },
   {
    "duration": 9,
    "start_time": "2022-05-29T17:08:05.980Z"
   },
   {
    "duration": 2496,
    "start_time": "2022-05-29T17:08:05.991Z"
   },
   {
    "duration": 15,
    "start_time": "2022-05-29T17:08:08.488Z"
   },
   {
    "duration": 36,
    "start_time": "2022-05-29T17:08:08.505Z"
   },
   {
    "duration": 2453,
    "start_time": "2022-05-29T17:08:08.544Z"
   },
   {
    "duration": 5,
    "start_time": "2022-05-29T17:08:10.999Z"
   },
   {
    "duration": 7,
    "start_time": "2022-05-29T17:08:11.006Z"
   },
   {
    "duration": 12,
    "start_time": "2022-05-29T17:08:11.014Z"
   },
   {
    "duration": 23,
    "start_time": "2022-05-29T17:08:11.028Z"
   },
   {
    "duration": 6,
    "start_time": "2022-05-29T17:08:11.053Z"
   },
   {
    "duration": 6,
    "start_time": "2022-05-29T17:08:11.060Z"
   },
   {
    "duration": 8,
    "start_time": "2022-05-29T17:08:11.067Z"
   },
   {
    "duration": 5,
    "start_time": "2022-05-29T17:08:11.076Z"
   },
   {
    "duration": 5,
    "start_time": "2022-05-29T17:08:11.082Z"
   },
   {
    "duration": 193,
    "start_time": "2022-05-29T17:08:11.089Z"
   },
   {
    "duration": 11,
    "start_time": "2022-05-29T17:08:11.283Z"
   },
   {
    "duration": 33,
    "start_time": "2022-05-29T17:08:11.297Z"
   },
   {
    "duration": 6,
    "start_time": "2022-05-29T17:08:11.333Z"
   },
   {
    "duration": 166,
    "start_time": "2022-05-29T17:10:02.700Z"
   },
   {
    "duration": 3,
    "start_time": "2022-05-29T17:10:48.529Z"
   },
   {
    "duration": 1196,
    "start_time": "2022-05-29T17:11:01.664Z"
   },
   {
    "duration": 697,
    "start_time": "2022-05-29T17:11:02.863Z"
   },
   {
    "duration": 18,
    "start_time": "2022-05-29T17:11:03.562Z"
   },
   {
    "duration": 102,
    "start_time": "2022-05-29T17:11:03.582Z"
   },
   {
    "duration": 12,
    "start_time": "2022-05-29T17:11:03.686Z"
   },
   {
    "duration": 35,
    "start_time": "2022-05-29T17:11:03.699Z"
   },
   {
    "duration": 17,
    "start_time": "2022-05-29T17:11:03.735Z"
   },
   {
    "duration": 19,
    "start_time": "2022-05-29T17:11:03.753Z"
   },
   {
    "duration": 3,
    "start_time": "2022-05-29T17:11:03.774Z"
   },
   {
    "duration": 12,
    "start_time": "2022-05-29T17:11:03.779Z"
   },
   {
    "duration": 40,
    "start_time": "2022-05-29T17:11:03.793Z"
   },
   {
    "duration": 3,
    "start_time": "2022-05-29T17:11:03.835Z"
   },
   {
    "duration": 13,
    "start_time": "2022-05-29T17:11:03.840Z"
   },
   {
    "duration": 6,
    "start_time": "2022-05-29T17:11:03.855Z"
   },
   {
    "duration": 15,
    "start_time": "2022-05-29T17:11:03.862Z"
   },
   {
    "duration": 18,
    "start_time": "2022-05-29T17:11:03.879Z"
   },
   {
    "duration": 7,
    "start_time": "2022-05-29T17:11:03.899Z"
   },
   {
    "duration": 15,
    "start_time": "2022-05-29T17:11:03.908Z"
   },
   {
    "duration": 7,
    "start_time": "2022-05-29T17:11:03.925Z"
   },
   {
    "duration": 29,
    "start_time": "2022-05-29T17:11:03.933Z"
   },
   {
    "duration": 13,
    "start_time": "2022-05-29T17:11:03.964Z"
   },
   {
    "duration": 11,
    "start_time": "2022-05-29T17:11:03.979Z"
   },
   {
    "duration": 37,
    "start_time": "2022-05-29T17:11:03.992Z"
   },
   {
    "duration": 3,
    "start_time": "2022-05-29T17:11:04.031Z"
   },
   {
    "duration": 177,
    "start_time": "2022-05-29T17:11:04.035Z"
   },
   {
    "duration": 12,
    "start_time": "2022-05-29T17:11:04.214Z"
   },
   {
    "duration": 173,
    "start_time": "2022-05-29T17:11:04.227Z"
   },
   {
    "duration": 6,
    "start_time": "2022-05-29T17:11:04.405Z"
   },
   {
    "duration": 181,
    "start_time": "2022-05-29T17:11:04.412Z"
   },
   {
    "duration": 5,
    "start_time": "2022-05-29T17:11:04.595Z"
   },
   {
    "duration": 572,
    "start_time": "2022-05-29T17:11:04.602Z"
   },
   {
    "duration": 11,
    "start_time": "2022-05-29T17:11:05.176Z"
   },
   {
    "duration": 10,
    "start_time": "2022-05-29T17:11:05.188Z"
   },
   {
    "duration": 2453,
    "start_time": "2022-05-29T17:11:05.199Z"
   },
   {
    "duration": 16,
    "start_time": "2022-05-29T17:11:07.654Z"
   },
   {
    "duration": 23,
    "start_time": "2022-05-29T17:11:07.671Z"
   },
   {
    "duration": 2597,
    "start_time": "2022-05-29T17:11:07.695Z"
   },
   {
    "duration": 4,
    "start_time": "2022-05-29T17:11:10.293Z"
   },
   {
    "duration": 7,
    "start_time": "2022-05-29T17:11:10.299Z"
   },
   {
    "duration": 15,
    "start_time": "2022-05-29T17:11:10.308Z"
   },
   {
    "duration": 19,
    "start_time": "2022-05-29T17:11:10.325Z"
   },
   {
    "duration": 7,
    "start_time": "2022-05-29T17:11:10.346Z"
   },
   {
    "duration": 5,
    "start_time": "2022-05-29T17:11:10.355Z"
   },
   {
    "duration": 9,
    "start_time": "2022-05-29T17:11:10.361Z"
   },
   {
    "duration": 128,
    "start_time": "2022-05-29T17:11:10.371Z"
   },
   {
    "duration": 0,
    "start_time": "2022-05-29T17:11:10.501Z"
   },
   {
    "duration": 0,
    "start_time": "2022-05-29T17:11:10.502Z"
   },
   {
    "duration": 0,
    "start_time": "2022-05-29T17:11:10.503Z"
   },
   {
    "duration": 0,
    "start_time": "2022-05-29T17:11:10.504Z"
   },
   {
    "duration": 0,
    "start_time": "2022-05-29T17:11:10.655Z"
   },
   {
    "duration": 4,
    "start_time": "2022-05-29T17:11:20.951Z"
   },
   {
    "duration": 14,
    "start_time": "2022-05-29T17:11:24.984Z"
   },
   {
    "duration": 1190,
    "start_time": "2022-05-29T17:11:35.094Z"
   },
   {
    "duration": 689,
    "start_time": "2022-05-29T17:11:36.287Z"
   },
   {
    "duration": 18,
    "start_time": "2022-05-29T17:11:36.980Z"
   },
   {
    "duration": 108,
    "start_time": "2022-05-29T17:11:37.000Z"
   },
   {
    "duration": 17,
    "start_time": "2022-05-29T17:11:37.109Z"
   },
   {
    "duration": 18,
    "start_time": "2022-05-29T17:11:37.127Z"
   },
   {
    "duration": 20,
    "start_time": "2022-05-29T17:11:37.146Z"
   },
   {
    "duration": 18,
    "start_time": "2022-05-29T17:11:37.167Z"
   },
   {
    "duration": 6,
    "start_time": "2022-05-29T17:11:37.189Z"
   },
   {
    "duration": 30,
    "start_time": "2022-05-29T17:11:37.196Z"
   },
   {
    "duration": 13,
    "start_time": "2022-05-29T17:11:37.228Z"
   },
   {
    "duration": 3,
    "start_time": "2022-05-29T17:11:37.242Z"
   },
   {
    "duration": 12,
    "start_time": "2022-05-29T17:11:37.247Z"
   },
   {
    "duration": 8,
    "start_time": "2022-05-29T17:11:37.260Z"
   },
   {
    "duration": 6,
    "start_time": "2022-05-29T17:11:37.270Z"
   },
   {
    "duration": 14,
    "start_time": "2022-05-29T17:11:37.277Z"
   },
   {
    "duration": 7,
    "start_time": "2022-05-29T17:11:37.292Z"
   },
   {
    "duration": 26,
    "start_time": "2022-05-29T17:11:37.300Z"
   },
   {
    "duration": 4,
    "start_time": "2022-05-29T17:11:37.328Z"
   },
   {
    "duration": 27,
    "start_time": "2022-05-29T17:11:37.333Z"
   },
   {
    "duration": 11,
    "start_time": "2022-05-29T17:11:37.362Z"
   },
   {
    "duration": 10,
    "start_time": "2022-05-29T17:11:37.375Z"
   },
   {
    "duration": 37,
    "start_time": "2022-05-29T17:11:37.386Z"
   },
   {
    "duration": 3,
    "start_time": "2022-05-29T17:11:37.424Z"
   },
   {
    "duration": 169,
    "start_time": "2022-05-29T17:11:37.429Z"
   },
   {
    "duration": 6,
    "start_time": "2022-05-29T17:11:37.600Z"
   },
   {
    "duration": 162,
    "start_time": "2022-05-29T17:11:37.623Z"
   },
   {
    "duration": 7,
    "start_time": "2022-05-29T17:11:37.787Z"
   },
   {
    "duration": 183,
    "start_time": "2022-05-29T17:11:37.795Z"
   },
   {
    "duration": 7,
    "start_time": "2022-05-29T17:11:37.979Z"
   },
   {
    "duration": 598,
    "start_time": "2022-05-29T17:11:37.987Z"
   },
   {
    "duration": 10,
    "start_time": "2022-05-29T17:11:38.587Z"
   },
   {
    "duration": 11,
    "start_time": "2022-05-29T17:11:38.599Z"
   },
   {
    "duration": 2380,
    "start_time": "2022-05-29T17:11:38.612Z"
   },
   {
    "duration": 14,
    "start_time": "2022-05-29T17:11:40.994Z"
   },
   {
    "duration": 30,
    "start_time": "2022-05-29T17:11:41.010Z"
   },
   {
    "duration": 2419,
    "start_time": "2022-05-29T17:11:41.042Z"
   },
   {
    "duration": 4,
    "start_time": "2022-05-29T17:11:43.463Z"
   },
   {
    "duration": 6,
    "start_time": "2022-05-29T17:11:43.468Z"
   },
   {
    "duration": 7,
    "start_time": "2022-05-29T17:11:43.476Z"
   },
   {
    "duration": 22,
    "start_time": "2022-05-29T17:11:43.484Z"
   },
   {
    "duration": 16,
    "start_time": "2022-05-29T17:11:43.508Z"
   },
   {
    "duration": 5,
    "start_time": "2022-05-29T17:11:43.526Z"
   },
   {
    "duration": 5,
    "start_time": "2022-05-29T17:11:43.533Z"
   },
   {
    "duration": 116,
    "start_time": "2022-05-29T17:11:43.539Z"
   },
   {
    "duration": 0,
    "start_time": "2022-05-29T17:11:43.657Z"
   },
   {
    "duration": 0,
    "start_time": "2022-05-29T17:11:43.658Z"
   },
   {
    "duration": 0,
    "start_time": "2022-05-29T17:11:43.659Z"
   },
   {
    "duration": 1,
    "start_time": "2022-05-29T17:11:43.660Z"
   },
   {
    "duration": 0,
    "start_time": "2022-05-29T17:11:43.662Z"
   },
   {
    "duration": 4,
    "start_time": "2022-05-29T17:11:46.139Z"
   },
   {
    "duration": 3,
    "start_time": "2022-05-29T17:12:07.965Z"
   },
   {
    "duration": 1185,
    "start_time": "2022-05-29T17:12:33.088Z"
   },
   {
    "duration": 710,
    "start_time": "2022-05-29T17:12:34.275Z"
   },
   {
    "duration": 33,
    "start_time": "2022-05-29T17:12:34.990Z"
   },
   {
    "duration": 109,
    "start_time": "2022-05-29T17:12:35.025Z"
   },
   {
    "duration": 14,
    "start_time": "2022-05-29T17:12:35.136Z"
   },
   {
    "duration": 21,
    "start_time": "2022-05-29T17:12:35.152Z"
   },
   {
    "duration": 17,
    "start_time": "2022-05-29T17:12:35.175Z"
   },
   {
    "duration": 21,
    "start_time": "2022-05-29T17:12:35.223Z"
   },
   {
    "duration": 3,
    "start_time": "2022-05-29T17:12:35.248Z"
   },
   {
    "duration": 16,
    "start_time": "2022-05-29T17:12:35.252Z"
   },
   {
    "duration": 12,
    "start_time": "2022-05-29T17:12:35.269Z"
   },
   {
    "duration": 2,
    "start_time": "2022-05-29T17:12:35.283Z"
   },
   {
    "duration": 8,
    "start_time": "2022-05-29T17:12:35.286Z"
   },
   {
    "duration": 28,
    "start_time": "2022-05-29T17:12:35.295Z"
   },
   {
    "duration": 17,
    "start_time": "2022-05-29T17:12:35.325Z"
   },
   {
    "duration": 13,
    "start_time": "2022-05-29T17:12:35.344Z"
   },
   {
    "duration": 6,
    "start_time": "2022-05-29T17:12:35.358Z"
   },
   {
    "duration": 6,
    "start_time": "2022-05-29T17:12:35.365Z"
   },
   {
    "duration": 4,
    "start_time": "2022-05-29T17:12:35.373Z"
   },
   {
    "duration": 26,
    "start_time": "2022-05-29T17:12:35.378Z"
   },
   {
    "duration": 27,
    "start_time": "2022-05-29T17:12:35.406Z"
   },
   {
    "duration": 10,
    "start_time": "2022-05-29T17:12:35.435Z"
   },
   {
    "duration": 12,
    "start_time": "2022-05-29T17:12:35.447Z"
   },
   {
    "duration": 3,
    "start_time": "2022-05-29T17:12:35.460Z"
   },
   {
    "duration": 194,
    "start_time": "2022-05-29T17:12:35.465Z"
   },
   {
    "duration": 6,
    "start_time": "2022-05-29T17:12:35.661Z"
   },
   {
    "duration": 184,
    "start_time": "2022-05-29T17:12:35.670Z"
   },
   {
    "duration": 6,
    "start_time": "2022-05-29T17:12:35.856Z"
   },
   {
    "duration": 186,
    "start_time": "2022-05-29T17:12:35.864Z"
   },
   {
    "duration": 7,
    "start_time": "2022-05-29T17:12:36.051Z"
   },
   {
    "duration": 541,
    "start_time": "2022-05-29T17:12:36.059Z"
   },
   {
    "duration": 11,
    "start_time": "2022-05-29T17:12:36.602Z"
   },
   {
    "duration": 11,
    "start_time": "2022-05-29T17:12:36.624Z"
   },
   {
    "duration": 2467,
    "start_time": "2022-05-29T17:12:36.637Z"
   },
   {
    "duration": 25,
    "start_time": "2022-05-29T17:12:39.106Z"
   },
   {
    "duration": 22,
    "start_time": "2022-05-29T17:12:39.133Z"
   },
   {
    "duration": 2314,
    "start_time": "2022-05-29T17:12:39.157Z"
   },
   {
    "duration": 5,
    "start_time": "2022-05-29T17:12:41.473Z"
   },
   {
    "duration": 5,
    "start_time": "2022-05-29T17:12:41.480Z"
   },
   {
    "duration": 7,
    "start_time": "2022-05-29T17:12:41.486Z"
   },
   {
    "duration": 38,
    "start_time": "2022-05-29T17:12:41.495Z"
   },
   {
    "duration": 9,
    "start_time": "2022-05-29T17:12:41.534Z"
   },
   {
    "duration": 6,
    "start_time": "2022-05-29T17:12:41.544Z"
   },
   {
    "duration": 7,
    "start_time": "2022-05-29T17:12:41.551Z"
   },
   {
    "duration": 6,
    "start_time": "2022-05-29T17:12:41.559Z"
   },
   {
    "duration": 5,
    "start_time": "2022-05-29T17:12:41.566Z"
   },
   {
    "duration": 168,
    "start_time": "2022-05-29T17:12:41.572Z"
   },
   {
    "duration": 10,
    "start_time": "2022-05-29T17:12:41.742Z"
   },
   {
    "duration": 24,
    "start_time": "2022-05-29T17:12:41.754Z"
   },
   {
    "duration": 7,
    "start_time": "2022-05-29T17:12:41.779Z"
   },
   {
    "duration": 109,
    "start_time": "2022-05-29T17:13:53.165Z"
   },
   {
    "duration": 6,
    "start_time": "2022-05-29T17:14:07.897Z"
   },
   {
    "duration": 20,
    "start_time": "2022-05-29T17:14:36.890Z"
   },
   {
    "duration": 5,
    "start_time": "2022-05-29T17:14:41.781Z"
   },
   {
    "duration": 19,
    "start_time": "2022-05-29T17:14:46.791Z"
   },
   {
    "duration": 5,
    "start_time": "2022-05-29T17:14:52.079Z"
   },
   {
    "duration": 3,
    "start_time": "2022-05-29T17:16:14.983Z"
   },
   {
    "duration": 1187,
    "start_time": "2022-05-29T17:16:20.626Z"
   },
   {
    "duration": 713,
    "start_time": "2022-05-29T17:16:21.815Z"
   },
   {
    "duration": 21,
    "start_time": "2022-05-29T17:16:22.530Z"
   },
   {
    "duration": 123,
    "start_time": "2022-05-29T17:16:22.553Z"
   },
   {
    "duration": 15,
    "start_time": "2022-05-29T17:16:22.678Z"
   },
   {
    "duration": 39,
    "start_time": "2022-05-29T17:16:22.695Z"
   },
   {
    "duration": 21,
    "start_time": "2022-05-29T17:16:22.736Z"
   },
   {
    "duration": 25,
    "start_time": "2022-05-29T17:16:22.759Z"
   },
   {
    "duration": 15,
    "start_time": "2022-05-29T17:16:22.785Z"
   },
   {
    "duration": 24,
    "start_time": "2022-05-29T17:16:22.803Z"
   },
   {
    "duration": 18,
    "start_time": "2022-05-29T17:16:22.829Z"
   },
   {
    "duration": 4,
    "start_time": "2022-05-29T17:16:22.848Z"
   },
   {
    "duration": 16,
    "start_time": "2022-05-29T17:16:22.854Z"
   },
   {
    "duration": 12,
    "start_time": "2022-05-29T17:16:22.872Z"
   },
   {
    "duration": 12,
    "start_time": "2022-05-29T17:16:22.886Z"
   },
   {
    "duration": 21,
    "start_time": "2022-05-29T17:16:22.899Z"
   },
   {
    "duration": 9,
    "start_time": "2022-05-29T17:16:22.921Z"
   },
   {
    "duration": 14,
    "start_time": "2022-05-29T17:16:22.931Z"
   },
   {
    "duration": 10,
    "start_time": "2022-05-29T17:16:22.946Z"
   },
   {
    "duration": 30,
    "start_time": "2022-05-29T17:16:22.958Z"
   },
   {
    "duration": 19,
    "start_time": "2022-05-29T17:16:22.990Z"
   },
   {
    "duration": 12,
    "start_time": "2022-05-29T17:16:23.011Z"
   },
   {
    "duration": 17,
    "start_time": "2022-05-29T17:16:23.025Z"
   },
   {
    "duration": 3,
    "start_time": "2022-05-29T17:16:23.043Z"
   },
   {
    "duration": 174,
    "start_time": "2022-05-29T17:16:23.048Z"
   },
   {
    "duration": 7,
    "start_time": "2022-05-29T17:16:23.224Z"
   },
   {
    "duration": 180,
    "start_time": "2022-05-29T17:16:23.233Z"
   },
   {
    "duration": 6,
    "start_time": "2022-05-29T17:16:23.422Z"
   },
   {
    "duration": 179,
    "start_time": "2022-05-29T17:16:23.430Z"
   },
   {
    "duration": 14,
    "start_time": "2022-05-29T17:16:23.611Z"
   },
   {
    "duration": 559,
    "start_time": "2022-05-29T17:16:23.626Z"
   },
   {
    "duration": 11,
    "start_time": "2022-05-29T17:16:24.187Z"
   },
   {
    "duration": 9,
    "start_time": "2022-05-29T17:16:24.199Z"
   },
   {
    "duration": 2417,
    "start_time": "2022-05-29T17:16:24.210Z"
   },
   {
    "duration": 14,
    "start_time": "2022-05-29T17:16:26.629Z"
   },
   {
    "duration": 21,
    "start_time": "2022-05-29T17:16:26.644Z"
   },
   {
    "duration": 2381,
    "start_time": "2022-05-29T17:16:26.667Z"
   },
   {
    "duration": 4,
    "start_time": "2022-05-29T17:16:29.050Z"
   },
   {
    "duration": 7,
    "start_time": "2022-05-29T17:16:29.055Z"
   },
   {
    "duration": 7,
    "start_time": "2022-05-29T17:16:29.064Z"
   },
   {
    "duration": 22,
    "start_time": "2022-05-29T17:16:29.073Z"
   },
   {
    "duration": 8,
    "start_time": "2022-05-29T17:16:29.097Z"
   },
   {
    "duration": 4,
    "start_time": "2022-05-29T17:16:29.123Z"
   },
   {
    "duration": 6,
    "start_time": "2022-05-29T17:16:29.129Z"
   },
   {
    "duration": 5,
    "start_time": "2022-05-29T17:16:29.136Z"
   },
   {
    "duration": 5,
    "start_time": "2022-05-29T17:16:29.143Z"
   },
   {
    "duration": 186,
    "start_time": "2022-05-29T17:16:29.149Z"
   },
   {
    "duration": 11,
    "start_time": "2022-05-29T17:16:29.336Z"
   },
   {
    "duration": 21,
    "start_time": "2022-05-29T17:16:29.349Z"
   },
   {
    "duration": 6,
    "start_time": "2022-05-29T17:16:29.372Z"
   },
   {
    "duration": 9,
    "start_time": "2022-05-29T17:16:29.379Z"
   },
   {
    "duration": 38,
    "start_time": "2022-05-29T17:16:29.389Z"
   },
   {
    "duration": 7,
    "start_time": "2022-05-29T17:16:29.429Z"
   },
   {
    "duration": 21,
    "start_time": "2022-05-29T17:16:29.437Z"
   },
   {
    "duration": 7,
    "start_time": "2022-05-29T17:16:29.459Z"
   },
   {
    "duration": 1170,
    "start_time": "2022-05-29T17:16:35.736Z"
   },
   {
    "duration": 686,
    "start_time": "2022-05-29T17:16:36.909Z"
   },
   {
    "duration": 18,
    "start_time": "2022-05-29T17:16:37.597Z"
   },
   {
    "duration": 107,
    "start_time": "2022-05-29T17:16:37.617Z"
   },
   {
    "duration": 12,
    "start_time": "2022-05-29T17:16:37.725Z"
   },
   {
    "duration": 18,
    "start_time": "2022-05-29T17:16:37.739Z"
   },
   {
    "duration": 27,
    "start_time": "2022-05-29T17:16:37.759Z"
   },
   {
    "duration": 37,
    "start_time": "2022-05-29T17:16:37.788Z"
   },
   {
    "duration": 2,
    "start_time": "2022-05-29T17:16:37.827Z"
   },
   {
    "duration": 17,
    "start_time": "2022-05-29T17:16:37.832Z"
   },
   {
    "duration": 11,
    "start_time": "2022-05-29T17:16:37.851Z"
   },
   {
    "duration": 2,
    "start_time": "2022-05-29T17:16:37.863Z"
   },
   {
    "duration": 8,
    "start_time": "2022-05-29T17:16:37.867Z"
   },
   {
    "duration": 5,
    "start_time": "2022-05-29T17:16:37.877Z"
   },
   {
    "duration": 6,
    "start_time": "2022-05-29T17:16:37.883Z"
   },
   {
    "duration": 38,
    "start_time": "2022-05-29T17:16:37.891Z"
   },
   {
    "duration": 8,
    "start_time": "2022-05-29T17:16:37.931Z"
   },
   {
    "duration": 8,
    "start_time": "2022-05-29T17:16:37.940Z"
   },
   {
    "duration": 4,
    "start_time": "2022-05-29T17:16:37.950Z"
   },
   {
    "duration": 25,
    "start_time": "2022-05-29T17:16:37.956Z"
   },
   {
    "duration": 41,
    "start_time": "2022-05-29T17:16:37.982Z"
   },
   {
    "duration": 11,
    "start_time": "2022-05-29T17:16:38.025Z"
   },
   {
    "duration": 13,
    "start_time": "2022-05-29T17:16:38.037Z"
   },
   {
    "duration": 2,
    "start_time": "2022-05-29T17:16:38.052Z"
   },
   {
    "duration": 194,
    "start_time": "2022-05-29T17:16:38.056Z"
   },
   {
    "duration": 6,
    "start_time": "2022-05-29T17:16:38.252Z"
   },
   {
    "duration": 183,
    "start_time": "2022-05-29T17:16:38.260Z"
   },
   {
    "duration": 6,
    "start_time": "2022-05-29T17:16:38.446Z"
   },
   {
    "duration": 193,
    "start_time": "2022-05-29T17:16:38.454Z"
   },
   {
    "duration": 6,
    "start_time": "2022-05-29T17:16:38.649Z"
   },
   {
    "duration": 562,
    "start_time": "2022-05-29T17:16:38.656Z"
   },
   {
    "duration": 11,
    "start_time": "2022-05-29T17:16:39.220Z"
   },
   {
    "duration": 10,
    "start_time": "2022-05-29T17:16:39.233Z"
   },
   {
    "duration": 2379,
    "start_time": "2022-05-29T17:16:39.245Z"
   },
   {
    "duration": 13,
    "start_time": "2022-05-29T17:16:41.626Z"
   },
   {
    "duration": 20,
    "start_time": "2022-05-29T17:16:41.641Z"
   },
   {
    "duration": 2323,
    "start_time": "2022-05-29T17:16:41.663Z"
   },
   {
    "duration": 4,
    "start_time": "2022-05-29T17:16:43.987Z"
   },
   {
    "duration": 7,
    "start_time": "2022-05-29T17:16:43.992Z"
   },
   {
    "duration": 8,
    "start_time": "2022-05-29T17:16:44.000Z"
   },
   {
    "duration": 26,
    "start_time": "2022-05-29T17:16:44.022Z"
   },
   {
    "duration": 4,
    "start_time": "2022-05-29T17:16:44.050Z"
   },
   {
    "duration": 8,
    "start_time": "2022-05-29T17:16:44.056Z"
   },
   {
    "duration": 7,
    "start_time": "2022-05-29T17:16:44.065Z"
   },
   {
    "duration": 123,
    "start_time": "2022-05-29T17:16:44.073Z"
   },
   {
    "duration": 0,
    "start_time": "2022-05-29T17:16:44.198Z"
   },
   {
    "duration": 0,
    "start_time": "2022-05-29T17:16:44.199Z"
   },
   {
    "duration": 0,
    "start_time": "2022-05-29T17:16:44.201Z"
   },
   {
    "duration": 0,
    "start_time": "2022-05-29T17:16:44.202Z"
   },
   {
    "duration": 0,
    "start_time": "2022-05-29T17:16:44.204Z"
   },
   {
    "duration": 0,
    "start_time": "2022-05-29T17:16:44.368Z"
   },
   {
    "duration": 0,
    "start_time": "2022-05-29T17:16:44.370Z"
   },
   {
    "duration": 0,
    "start_time": "2022-05-29T17:16:44.371Z"
   },
   {
    "duration": 0,
    "start_time": "2022-05-29T17:16:44.373Z"
   },
   {
    "duration": 1138,
    "start_time": "2022-05-29T17:17:33.667Z"
   },
   {
    "duration": 686,
    "start_time": "2022-05-29T17:17:34.807Z"
   },
   {
    "duration": 18,
    "start_time": "2022-05-29T17:17:35.494Z"
   },
   {
    "duration": 95,
    "start_time": "2022-05-29T17:17:35.514Z"
   },
   {
    "duration": 22,
    "start_time": "2022-05-29T17:17:35.612Z"
   },
   {
    "duration": 20,
    "start_time": "2022-05-29T17:17:35.635Z"
   },
   {
    "duration": 19,
    "start_time": "2022-05-29T17:17:35.657Z"
   },
   {
    "duration": 46,
    "start_time": "2022-05-29T17:17:35.678Z"
   },
   {
    "duration": 5,
    "start_time": "2022-05-29T17:17:35.725Z"
   },
   {
    "duration": 17,
    "start_time": "2022-05-29T17:17:35.732Z"
   },
   {
    "duration": 14,
    "start_time": "2022-05-29T17:17:35.751Z"
   },
   {
    "duration": 4,
    "start_time": "2022-05-29T17:17:35.767Z"
   },
   {
    "duration": 8,
    "start_time": "2022-05-29T17:17:35.772Z"
   },
   {
    "duration": 5,
    "start_time": "2022-05-29T17:17:35.783Z"
   },
   {
    "duration": 35,
    "start_time": "2022-05-29T17:17:35.790Z"
   },
   {
    "duration": 12,
    "start_time": "2022-05-29T17:17:35.827Z"
   },
   {
    "duration": 7,
    "start_time": "2022-05-29T17:17:35.840Z"
   },
   {
    "duration": 15,
    "start_time": "2022-05-29T17:17:35.849Z"
   },
   {
    "duration": 11,
    "start_time": "2022-05-29T17:17:35.866Z"
   },
   {
    "duration": 26,
    "start_time": "2022-05-29T17:17:35.879Z"
   },
   {
    "duration": 26,
    "start_time": "2022-05-29T17:17:35.907Z"
   },
   {
    "duration": 11,
    "start_time": "2022-05-29T17:17:35.935Z"
   },
   {
    "duration": 12,
    "start_time": "2022-05-29T17:17:35.948Z"
   },
   {
    "duration": 3,
    "start_time": "2022-05-29T17:17:35.962Z"
   },
   {
    "duration": 197,
    "start_time": "2022-05-29T17:17:35.966Z"
   },
   {
    "duration": 6,
    "start_time": "2022-05-29T17:17:36.165Z"
   },
   {
    "duration": 197,
    "start_time": "2022-05-29T17:17:36.173Z"
   },
   {
    "duration": 7,
    "start_time": "2022-05-29T17:17:36.371Z"
   },
   {
    "duration": 185,
    "start_time": "2022-05-29T17:17:36.380Z"
   },
   {
    "duration": 6,
    "start_time": "2022-05-29T17:17:36.567Z"
   },
   {
    "duration": 615,
    "start_time": "2022-05-29T17:17:36.575Z"
   },
   {
    "duration": 9,
    "start_time": "2022-05-29T17:17:37.192Z"
   },
   {
    "duration": 9,
    "start_time": "2022-05-29T17:17:37.202Z"
   },
   {
    "duration": 2505,
    "start_time": "2022-05-29T17:17:37.212Z"
   },
   {
    "duration": 18,
    "start_time": "2022-05-29T17:17:39.718Z"
   },
   {
    "duration": 21,
    "start_time": "2022-05-29T17:17:39.738Z"
   },
   {
    "duration": 2489,
    "start_time": "2022-05-29T17:17:39.761Z"
   },
   {
    "duration": 4,
    "start_time": "2022-05-29T17:17:42.252Z"
   },
   {
    "duration": 8,
    "start_time": "2022-05-29T17:17:42.258Z"
   },
   {
    "duration": 9,
    "start_time": "2022-05-29T17:17:42.268Z"
   },
   {
    "duration": 42,
    "start_time": "2022-05-29T17:17:42.282Z"
   },
   {
    "duration": 9,
    "start_time": "2022-05-29T17:17:42.326Z"
   },
   {
    "duration": 7,
    "start_time": "2022-05-29T17:17:42.336Z"
   },
   {
    "duration": 10,
    "start_time": "2022-05-29T17:17:42.345Z"
   },
   {
    "duration": 120,
    "start_time": "2022-05-29T17:17:42.357Z"
   },
   {
    "duration": 0,
    "start_time": "2022-05-29T17:17:42.479Z"
   },
   {
    "duration": 0,
    "start_time": "2022-05-29T17:17:42.480Z"
   },
   {
    "duration": 0,
    "start_time": "2022-05-29T17:17:42.481Z"
   },
   {
    "duration": 0,
    "start_time": "2022-05-29T17:17:42.482Z"
   },
   {
    "duration": 0,
    "start_time": "2022-05-29T17:17:42.483Z"
   },
   {
    "duration": 0,
    "start_time": "2022-05-29T17:17:42.484Z"
   },
   {
    "duration": 0,
    "start_time": "2022-05-29T17:17:42.485Z"
   },
   {
    "duration": 0,
    "start_time": "2022-05-29T17:17:42.487Z"
   },
   {
    "duration": 0,
    "start_time": "2022-05-29T17:17:42.488Z"
   },
   {
    "duration": 4,
    "start_time": "2022-05-29T17:19:22.939Z"
   },
   {
    "duration": 4,
    "start_time": "2022-05-29T17:19:26.611Z"
   },
   {
    "duration": 4,
    "start_time": "2022-05-29T17:21:12.371Z"
   },
   {
    "duration": 1134,
    "start_time": "2022-05-29T17:21:26.173Z"
   },
   {
    "duration": 699,
    "start_time": "2022-05-29T17:21:27.309Z"
   },
   {
    "duration": 26,
    "start_time": "2022-05-29T17:21:28.009Z"
   },
   {
    "duration": 113,
    "start_time": "2022-05-29T17:21:28.036Z"
   },
   {
    "duration": 13,
    "start_time": "2022-05-29T17:21:28.152Z"
   },
   {
    "duration": 21,
    "start_time": "2022-05-29T17:21:28.167Z"
   },
   {
    "duration": 43,
    "start_time": "2022-05-29T17:21:28.190Z"
   },
   {
    "duration": 21,
    "start_time": "2022-05-29T17:21:28.235Z"
   },
   {
    "duration": 4,
    "start_time": "2022-05-29T17:21:28.257Z"
   },
   {
    "duration": 12,
    "start_time": "2022-05-29T17:21:28.263Z"
   },
   {
    "duration": 11,
    "start_time": "2022-05-29T17:21:28.277Z"
   },
   {
    "duration": 34,
    "start_time": "2022-05-29T17:21:28.289Z"
   },
   {
    "duration": 6,
    "start_time": "2022-05-29T17:21:28.325Z"
   },
   {
    "duration": 4,
    "start_time": "2022-05-29T17:21:28.335Z"
   },
   {
    "duration": 5,
    "start_time": "2022-05-29T17:21:28.341Z"
   },
   {
    "duration": 13,
    "start_time": "2022-05-29T17:21:28.347Z"
   },
   {
    "duration": 6,
    "start_time": "2022-05-29T17:21:28.362Z"
   },
   {
    "duration": 7,
    "start_time": "2022-05-29T17:21:28.370Z"
   },
   {
    "duration": 4,
    "start_time": "2022-05-29T17:21:28.378Z"
   },
   {
    "duration": 60,
    "start_time": "2022-05-29T17:21:28.383Z"
   },
   {
    "duration": 12,
    "start_time": "2022-05-29T17:21:28.445Z"
   },
   {
    "duration": 10,
    "start_time": "2022-05-29T17:21:28.458Z"
   },
   {
    "duration": 12,
    "start_time": "2022-05-29T17:21:28.469Z"
   },
   {
    "duration": 3,
    "start_time": "2022-05-29T17:21:28.483Z"
   },
   {
    "duration": 199,
    "start_time": "2022-05-29T17:21:28.487Z"
   },
   {
    "duration": 6,
    "start_time": "2022-05-29T17:21:28.688Z"
   },
   {
    "duration": 192,
    "start_time": "2022-05-29T17:21:28.696Z"
   },
   {
    "duration": 6,
    "start_time": "2022-05-29T17:21:28.890Z"
   },
   {
    "duration": 215,
    "start_time": "2022-05-29T17:21:28.897Z"
   },
   {
    "duration": 11,
    "start_time": "2022-05-29T17:21:29.113Z"
   },
   {
    "duration": 568,
    "start_time": "2022-05-29T17:21:29.126Z"
   },
   {
    "duration": 10,
    "start_time": "2022-05-29T17:21:29.695Z"
   },
   {
    "duration": 26,
    "start_time": "2022-05-29T17:21:29.706Z"
   },
   {
    "duration": 2523,
    "start_time": "2022-05-29T17:21:29.734Z"
   },
   {
    "duration": 18,
    "start_time": "2022-05-29T17:21:32.259Z"
   },
   {
    "duration": 32,
    "start_time": "2022-05-29T17:21:32.279Z"
   },
   {
    "duration": 2362,
    "start_time": "2022-05-29T17:21:32.312Z"
   },
   {
    "duration": 3,
    "start_time": "2022-05-29T17:21:34.676Z"
   },
   {
    "duration": 8,
    "start_time": "2022-05-29T17:21:34.680Z"
   },
   {
    "duration": 7,
    "start_time": "2022-05-29T17:21:34.689Z"
   },
   {
    "duration": 27,
    "start_time": "2022-05-29T17:21:34.700Z"
   },
   {
    "duration": 4,
    "start_time": "2022-05-29T17:21:34.728Z"
   },
   {
    "duration": 6,
    "start_time": "2022-05-29T17:21:34.733Z"
   },
   {
    "duration": 6,
    "start_time": "2022-05-29T17:21:34.740Z"
   },
   {
    "duration": 5,
    "start_time": "2022-05-29T17:21:34.748Z"
   },
   {
    "duration": 164,
    "start_time": "2022-05-29T17:21:34.754Z"
   },
   {
    "duration": 11,
    "start_time": "2022-05-29T17:21:34.920Z"
   },
   {
    "duration": 22,
    "start_time": "2022-05-29T17:21:34.933Z"
   },
   {
    "duration": 5,
    "start_time": "2022-05-29T17:21:34.958Z"
   },
   {
    "duration": 6,
    "start_time": "2022-05-29T17:21:34.965Z"
   },
   {
    "duration": 21,
    "start_time": "2022-05-29T17:21:34.973Z"
   },
   {
    "duration": 28,
    "start_time": "2022-05-29T17:21:34.996Z"
   },
   {
    "duration": 19,
    "start_time": "2022-05-29T17:21:35.026Z"
   },
   {
    "duration": 6,
    "start_time": "2022-05-29T17:21:35.046Z"
   },
   {
    "duration": 9,
    "start_time": "2022-05-29T17:49:28.280Z"
   },
   {
    "duration": 46,
    "start_time": "2022-05-29T17:50:44.454Z"
   },
   {
    "duration": 22,
    "start_time": "2022-05-29T18:02:14.124Z"
   },
   {
    "duration": 31,
    "start_time": "2022-05-29T18:02:14.607Z"
   },
   {
    "duration": 3,
    "start_time": "2022-05-29T18:02:38.056Z"
   },
   {
    "duration": 4,
    "start_time": "2022-05-29T18:04:38.751Z"
   },
   {
    "duration": 137,
    "start_time": "2022-05-29T18:04:42.659Z"
   },
   {
    "duration": 5,
    "start_time": "2022-05-29T18:06:22.909Z"
   },
   {
    "duration": 16,
    "start_time": "2022-05-29T18:06:24.686Z"
   },
   {
    "duration": 4,
    "start_time": "2022-05-29T18:06:44.674Z"
   },
   {
    "duration": 4,
    "start_time": "2022-05-29T18:06:44.954Z"
   },
   {
    "duration": 17,
    "start_time": "2022-05-29T18:06:45.345Z"
   },
   {
    "duration": 4,
    "start_time": "2022-05-29T18:07:19.643Z"
   },
   {
    "duration": 3,
    "start_time": "2022-05-29T18:07:23.623Z"
   },
   {
    "duration": 4,
    "start_time": "2022-05-29T18:07:23.888Z"
   },
   {
    "duration": 38,
    "start_time": "2022-05-29T18:07:24.173Z"
   },
   {
    "duration": 4,
    "start_time": "2022-05-29T18:07:29.250Z"
   },
   {
    "duration": 4,
    "start_time": "2022-05-29T18:07:29.472Z"
   },
   {
    "duration": 37,
    "start_time": "2022-05-29T18:07:29.680Z"
   },
   {
    "duration": 1557,
    "start_time": "2022-05-30T16:13:59.993Z"
   },
   {
    "duration": 3060,
    "start_time": "2022-05-30T16:14:01.553Z"
   },
   {
    "duration": 21,
    "start_time": "2022-05-30T16:14:04.615Z"
   },
   {
    "duration": 28,
    "start_time": "2022-05-30T16:14:04.638Z"
   },
   {
    "duration": 14,
    "start_time": "2022-05-30T16:14:04.669Z"
   },
   {
    "duration": 22,
    "start_time": "2022-05-30T16:14:04.684Z"
   },
   {
    "duration": 33,
    "start_time": "2022-05-30T16:14:04.708Z"
   },
   {
    "duration": 20,
    "start_time": "2022-05-30T16:14:04.743Z"
   },
   {
    "duration": 4,
    "start_time": "2022-05-30T16:14:04.764Z"
   },
   {
    "duration": 14,
    "start_time": "2022-05-30T16:14:04.770Z"
   },
   {
    "duration": 23,
    "start_time": "2022-05-30T16:14:04.786Z"
   },
   {
    "duration": 3,
    "start_time": "2022-05-30T16:14:04.826Z"
   },
   {
    "duration": 11,
    "start_time": "2022-05-30T16:14:04.831Z"
   },
   {
    "duration": 5,
    "start_time": "2022-05-30T16:14:04.846Z"
   },
   {
    "duration": 11,
    "start_time": "2022-05-30T16:14:04.853Z"
   },
   {
    "duration": 30,
    "start_time": "2022-05-30T16:14:04.866Z"
   },
   {
    "duration": 12,
    "start_time": "2022-05-30T16:14:04.898Z"
   },
   {
    "duration": 17,
    "start_time": "2022-05-30T16:14:04.912Z"
   },
   {
    "duration": 4,
    "start_time": "2022-05-30T16:14:04.931Z"
   },
   {
    "duration": 32,
    "start_time": "2022-05-30T16:14:04.937Z"
   },
   {
    "duration": 19,
    "start_time": "2022-05-30T16:14:04.972Z"
   },
   {
    "duration": 43,
    "start_time": "2022-05-30T16:14:04.993Z"
   },
   {
    "duration": 16,
    "start_time": "2022-05-30T16:14:05.038Z"
   },
   {
    "duration": 5,
    "start_time": "2022-05-30T16:14:05.056Z"
   },
   {
    "duration": 217,
    "start_time": "2022-05-30T16:14:05.063Z"
   },
   {
    "duration": 7,
    "start_time": "2022-05-30T16:14:05.282Z"
   },
   {
    "duration": 224,
    "start_time": "2022-05-30T16:14:05.291Z"
   },
   {
    "duration": 14,
    "start_time": "2022-05-30T16:14:05.517Z"
   },
   {
    "duration": 219,
    "start_time": "2022-05-30T16:14:05.533Z"
   },
   {
    "duration": 6,
    "start_time": "2022-05-30T16:14:05.754Z"
   },
   {
    "duration": 646,
    "start_time": "2022-05-30T16:14:05.762Z"
   },
   {
    "duration": 9,
    "start_time": "2022-05-30T16:14:06.410Z"
   },
   {
    "duration": 12,
    "start_time": "2022-05-30T16:14:06.420Z"
   },
   {
    "duration": 2548,
    "start_time": "2022-05-30T16:14:06.434Z"
   },
   {
    "duration": 14,
    "start_time": "2022-05-30T16:14:08.983Z"
   },
   {
    "duration": 31,
    "start_time": "2022-05-30T16:14:08.998Z"
   },
   {
    "duration": 2534,
    "start_time": "2022-05-30T16:14:09.030Z"
   },
   {
    "duration": 3,
    "start_time": "2022-05-30T16:14:11.566Z"
   },
   {
    "duration": 22,
    "start_time": "2022-05-30T16:19:13.214Z"
   },
   {
    "duration": 4,
    "start_time": "2022-05-30T16:19:43.686Z"
   },
   {
    "duration": 8,
    "start_time": "2022-05-30T16:19:49.710Z"
   },
   {
    "duration": 5,
    "start_time": "2022-05-30T16:20:02.691Z"
   },
   {
    "duration": 4,
    "start_time": "2022-05-30T16:20:08.657Z"
   },
   {
    "duration": 5,
    "start_time": "2022-05-30T16:22:19.159Z"
   },
   {
    "duration": 3,
    "start_time": "2022-05-30T16:23:38.703Z"
   },
   {
    "duration": 6,
    "start_time": "2022-05-30T16:23:43.022Z"
   },
   {
    "duration": 1351,
    "start_time": "2022-05-30T16:24:10.890Z"
   },
   {
    "duration": 668,
    "start_time": "2022-05-30T16:24:12.243Z"
   },
   {
    "duration": 20,
    "start_time": "2022-05-30T16:24:12.912Z"
   },
   {
    "duration": 24,
    "start_time": "2022-05-30T16:24:12.933Z"
   },
   {
    "duration": 15,
    "start_time": "2022-05-30T16:24:12.960Z"
   },
   {
    "duration": 55,
    "start_time": "2022-05-30T16:24:12.976Z"
   },
   {
    "duration": 19,
    "start_time": "2022-05-30T16:24:13.033Z"
   },
   {
    "duration": 19,
    "start_time": "2022-05-30T16:24:13.054Z"
   },
   {
    "duration": 6,
    "start_time": "2022-05-30T16:24:13.075Z"
   },
   {
    "duration": 16,
    "start_time": "2022-05-30T16:24:13.083Z"
   },
   {
    "duration": 36,
    "start_time": "2022-05-30T16:24:13.102Z"
   },
   {
    "duration": 3,
    "start_time": "2022-05-30T16:24:13.140Z"
   },
   {
    "duration": 10,
    "start_time": "2022-05-30T16:24:13.144Z"
   },
   {
    "duration": 5,
    "start_time": "2022-05-30T16:24:13.157Z"
   },
   {
    "duration": 7,
    "start_time": "2022-05-30T16:24:13.163Z"
   },
   {
    "duration": 29,
    "start_time": "2022-05-30T16:24:13.171Z"
   },
   {
    "duration": 25,
    "start_time": "2022-05-30T16:24:13.202Z"
   },
   {
    "duration": 6,
    "start_time": "2022-05-30T16:24:13.229Z"
   },
   {
    "duration": 5,
    "start_time": "2022-05-30T16:24:13.237Z"
   },
   {
    "duration": 27,
    "start_time": "2022-05-30T16:24:13.244Z"
   },
   {
    "duration": 13,
    "start_time": "2022-05-30T16:24:13.273Z"
   },
   {
    "duration": 38,
    "start_time": "2022-05-30T16:24:13.288Z"
   },
   {
    "duration": 13,
    "start_time": "2022-05-30T16:24:13.328Z"
   },
   {
    "duration": 2,
    "start_time": "2022-05-30T16:24:13.343Z"
   },
   {
    "duration": 187,
    "start_time": "2022-05-30T16:24:13.346Z"
   },
   {
    "duration": 7,
    "start_time": "2022-05-30T16:24:13.535Z"
   },
   {
    "duration": 188,
    "start_time": "2022-05-30T16:24:13.543Z"
   },
   {
    "duration": 6,
    "start_time": "2022-05-30T16:24:13.733Z"
   },
   {
    "duration": 179,
    "start_time": "2022-05-30T16:24:13.741Z"
   },
   {
    "duration": 7,
    "start_time": "2022-05-30T16:24:13.926Z"
   },
   {
    "duration": 630,
    "start_time": "2022-05-30T16:24:13.934Z"
   },
   {
    "duration": 12,
    "start_time": "2022-05-30T16:24:14.566Z"
   },
   {
    "duration": 12,
    "start_time": "2022-05-30T16:24:14.579Z"
   },
   {
    "duration": 2614,
    "start_time": "2022-05-30T16:24:14.593Z"
   },
   {
    "duration": 19,
    "start_time": "2022-05-30T16:24:17.208Z"
   },
   {
    "duration": 19,
    "start_time": "2022-05-30T16:24:17.229Z"
   },
   {
    "duration": 2617,
    "start_time": "2022-05-30T16:24:17.250Z"
   },
   {
    "duration": 4,
    "start_time": "2022-05-30T16:24:19.868Z"
   },
   {
    "duration": 36,
    "start_time": "2022-05-30T16:24:19.874Z"
   },
   {
    "duration": 9,
    "start_time": "2022-05-30T16:24:19.912Z"
   },
   {
    "duration": 5,
    "start_time": "2022-05-30T16:24:19.927Z"
   },
   {
    "duration": 23,
    "start_time": "2022-05-30T16:24:19.934Z"
   },
   {
    "duration": 7,
    "start_time": "2022-05-30T16:24:19.960Z"
   },
   {
    "duration": 5,
    "start_time": "2022-05-30T16:24:19.969Z"
   },
   {
    "duration": 16,
    "start_time": "2022-05-30T16:24:19.976Z"
   },
   {
    "duration": 20,
    "start_time": "2022-05-30T16:24:19.994Z"
   },
   {
    "duration": 19,
    "start_time": "2022-05-30T16:24:20.016Z"
   },
   {
    "duration": 10,
    "start_time": "2022-05-30T16:24:20.037Z"
   },
   {
    "duration": 26,
    "start_time": "2022-05-30T16:24:20.048Z"
   },
   {
    "duration": 9,
    "start_time": "2022-05-30T16:24:20.075Z"
   },
   {
    "duration": 8,
    "start_time": "2022-05-30T16:24:20.086Z"
   },
   {
    "duration": 40,
    "start_time": "2022-05-30T16:24:20.096Z"
   },
   {
    "duration": 5,
    "start_time": "2022-05-30T16:24:20.139Z"
   },
   {
    "duration": 23,
    "start_time": "2022-05-30T16:24:20.146Z"
   },
   {
    "duration": 9,
    "start_time": "2022-05-30T16:24:20.171Z"
   },
   {
    "duration": 1344,
    "start_time": "2022-05-30T16:28:35.204Z"
   },
   {
    "duration": 660,
    "start_time": "2022-05-30T16:28:36.550Z"
   },
   {
    "duration": 18,
    "start_time": "2022-05-30T16:28:37.212Z"
   },
   {
    "duration": 24,
    "start_time": "2022-05-30T16:28:37.232Z"
   },
   {
    "duration": 12,
    "start_time": "2022-05-30T16:28:37.257Z"
   },
   {
    "duration": 19,
    "start_time": "2022-05-30T16:28:37.270Z"
   },
   {
    "duration": 49,
    "start_time": "2022-05-30T16:28:37.290Z"
   },
   {
    "duration": 20,
    "start_time": "2022-05-30T16:28:37.341Z"
   },
   {
    "duration": 8,
    "start_time": "2022-05-30T16:28:37.363Z"
   },
   {
    "duration": 19,
    "start_time": "2022-05-30T16:28:37.374Z"
   },
   {
    "duration": 12,
    "start_time": "2022-05-30T16:28:37.395Z"
   },
   {
    "duration": 19,
    "start_time": "2022-05-30T16:28:37.409Z"
   },
   {
    "duration": 6,
    "start_time": "2022-05-30T16:28:37.429Z"
   },
   {
    "duration": 11,
    "start_time": "2022-05-30T16:28:37.437Z"
   },
   {
    "duration": 8,
    "start_time": "2022-05-30T16:28:37.449Z"
   },
   {
    "duration": 15,
    "start_time": "2022-05-30T16:28:37.459Z"
   },
   {
    "duration": 11,
    "start_time": "2022-05-30T16:28:37.475Z"
   },
   {
    "duration": 7,
    "start_time": "2022-05-30T16:28:37.488Z"
   },
   {
    "duration": 9,
    "start_time": "2022-05-30T16:28:37.496Z"
   },
   {
    "duration": 35,
    "start_time": "2022-05-30T16:28:37.507Z"
   },
   {
    "duration": 13,
    "start_time": "2022-05-30T16:28:37.544Z"
   },
   {
    "duration": 11,
    "start_time": "2022-05-30T16:28:37.558Z"
   },
   {
    "duration": 14,
    "start_time": "2022-05-30T16:28:37.570Z"
   },
   {
    "duration": 3,
    "start_time": "2022-05-30T16:28:37.585Z"
   },
   {
    "duration": 199,
    "start_time": "2022-05-30T16:28:37.589Z"
   },
   {
    "duration": 6,
    "start_time": "2022-05-30T16:28:37.790Z"
   },
   {
    "duration": 183,
    "start_time": "2022-05-30T16:28:37.797Z"
   },
   {
    "duration": 6,
    "start_time": "2022-05-30T16:28:37.983Z"
   },
   {
    "duration": 185,
    "start_time": "2022-05-30T16:28:37.991Z"
   },
   {
    "duration": 6,
    "start_time": "2022-05-30T16:28:38.178Z"
   },
   {
    "duration": 613,
    "start_time": "2022-05-30T16:28:38.186Z"
   },
   {
    "duration": 10,
    "start_time": "2022-05-30T16:28:38.800Z"
   },
   {
    "duration": 19,
    "start_time": "2022-05-30T16:28:38.811Z"
   },
   {
    "duration": 2438,
    "start_time": "2022-05-30T16:28:38.831Z"
   },
   {
    "duration": 13,
    "start_time": "2022-05-30T16:28:41.271Z"
   },
   {
    "duration": 21,
    "start_time": "2022-05-30T16:28:41.285Z"
   },
   {
    "duration": 2568,
    "start_time": "2022-05-30T16:28:41.307Z"
   },
   {
    "duration": 3,
    "start_time": "2022-05-30T16:28:43.877Z"
   },
   {
    "duration": 36,
    "start_time": "2022-05-30T16:28:43.881Z"
   },
   {
    "duration": 117,
    "start_time": "2022-05-30T16:28:43.919Z"
   },
   {
    "duration": 0,
    "start_time": "2022-05-30T16:28:44.038Z"
   },
   {
    "duration": 0,
    "start_time": "2022-05-30T16:28:44.039Z"
   },
   {
    "duration": 3,
    "start_time": "2022-05-30T16:28:53.687Z"
   },
   {
    "duration": 3,
    "start_time": "2022-05-30T16:28:54.912Z"
   },
   {
    "duration": 16,
    "start_time": "2022-05-30T16:28:55.911Z"
   },
   {
    "duration": 4,
    "start_time": "2022-05-30T16:29:20.378Z"
   },
   {
    "duration": 10,
    "start_time": "2022-05-30T16:29:38.395Z"
   },
   {
    "duration": 10,
    "start_time": "2022-05-30T16:29:43.009Z"
   },
   {
    "duration": 4,
    "start_time": "2022-05-30T16:29:52.295Z"
   },
   {
    "duration": 12,
    "start_time": "2022-05-30T16:29:54.476Z"
   },
   {
    "duration": 6,
    "start_time": "2022-05-30T16:29:56.444Z"
   },
   {
    "duration": 5,
    "start_time": "2022-05-30T16:30:02.346Z"
   },
   {
    "duration": 4,
    "start_time": "2022-05-30T16:30:16.531Z"
   },
   {
    "duration": 21,
    "start_time": "2022-05-30T16:31:38.240Z"
   },
   {
    "duration": 4,
    "start_time": "2022-05-30T16:33:45.537Z"
   },
   {
    "duration": 4,
    "start_time": "2022-05-30T16:33:45.901Z"
   },
   {
    "duration": 41,
    "start_time": "2022-05-30T16:33:46.345Z"
   },
   {
    "duration": 9,
    "start_time": "2022-05-30T16:33:52.309Z"
   },
   {
    "duration": 4,
    "start_time": "2022-05-30T16:33:55.549Z"
   },
   {
    "duration": 4,
    "start_time": "2022-05-30T16:34:03.527Z"
   },
   {
    "duration": 4,
    "start_time": "2022-05-30T16:34:50.330Z"
   },
   {
    "duration": 5,
    "start_time": "2022-05-30T16:34:56.290Z"
   },
   {
    "duration": 31,
    "start_time": "2022-05-30T16:35:23.615Z"
   },
   {
    "duration": 3,
    "start_time": "2022-05-30T16:35:39.500Z"
   },
   {
    "duration": 3,
    "start_time": "2022-05-30T16:35:39.910Z"
   },
   {
    "duration": 31,
    "start_time": "2022-05-30T16:35:40.401Z"
   },
   {
    "duration": 4,
    "start_time": "2022-05-30T16:35:41.085Z"
   },
   {
    "duration": 3,
    "start_time": "2022-05-30T16:35:41.374Z"
   },
   {
    "duration": 3,
    "start_time": "2022-05-30T16:35:41.638Z"
   },
   {
    "duration": 4,
    "start_time": "2022-05-30T16:35:41.983Z"
   },
   {
    "duration": 4,
    "start_time": "2022-05-30T16:37:30.744Z"
   },
   {
    "duration": 12,
    "start_time": "2022-05-30T16:37:36.294Z"
   },
   {
    "duration": 31845,
    "start_time": "2022-05-30T16:38:07.727Z"
   },
   {
    "duration": 1260,
    "start_time": "2022-05-30T16:41:59.774Z"
   },
   {
    "duration": 699,
    "start_time": "2022-05-30T16:42:01.036Z"
   },
   {
    "duration": 18,
    "start_time": "2022-05-30T16:42:01.737Z"
   },
   {
    "duration": 31,
    "start_time": "2022-05-30T16:42:01.757Z"
   },
   {
    "duration": 18,
    "start_time": "2022-05-30T16:42:01.790Z"
   },
   {
    "duration": 31,
    "start_time": "2022-05-30T16:42:01.810Z"
   },
   {
    "duration": 41,
    "start_time": "2022-05-30T16:42:01.842Z"
   },
   {
    "duration": 39,
    "start_time": "2022-05-30T16:42:01.884Z"
   },
   {
    "duration": 34,
    "start_time": "2022-05-30T16:42:01.925Z"
   },
   {
    "duration": 21,
    "start_time": "2022-05-30T16:42:01.961Z"
   },
   {
    "duration": 19,
    "start_time": "2022-05-30T16:42:01.984Z"
   },
   {
    "duration": 29,
    "start_time": "2022-05-30T16:42:02.005Z"
   },
   {
    "duration": 30,
    "start_time": "2022-05-30T16:42:02.036Z"
   },
   {
    "duration": 14,
    "start_time": "2022-05-30T16:42:02.069Z"
   },
   {
    "duration": 10,
    "start_time": "2022-05-30T16:42:02.085Z"
   },
   {
    "duration": 32,
    "start_time": "2022-05-30T16:42:02.097Z"
   },
   {
    "duration": 5,
    "start_time": "2022-05-30T16:42:02.131Z"
   },
   {
    "duration": 14,
    "start_time": "2022-05-30T16:42:02.138Z"
   },
   {
    "duration": 10,
    "start_time": "2022-05-30T16:42:02.154Z"
   },
   {
    "duration": 35,
    "start_time": "2022-05-30T16:42:02.166Z"
   },
   {
    "duration": 23,
    "start_time": "2022-05-30T16:42:02.203Z"
   },
   {
    "duration": 11,
    "start_time": "2022-05-30T16:42:02.227Z"
   },
   {
    "duration": 12,
    "start_time": "2022-05-30T16:42:02.240Z"
   },
   {
    "duration": 3,
    "start_time": "2022-05-30T16:42:02.254Z"
   },
   {
    "duration": 190,
    "start_time": "2022-05-30T16:42:02.258Z"
   },
   {
    "duration": 5,
    "start_time": "2022-05-30T16:42:02.450Z"
   },
   {
    "duration": 181,
    "start_time": "2022-05-30T16:42:02.457Z"
   },
   {
    "duration": 6,
    "start_time": "2022-05-30T16:42:02.640Z"
   },
   {
    "duration": 196,
    "start_time": "2022-05-30T16:42:02.648Z"
   },
   {
    "duration": 6,
    "start_time": "2022-05-30T16:42:02.846Z"
   },
   {
    "duration": 549,
    "start_time": "2022-05-30T16:42:02.854Z"
   },
   {
    "duration": 9,
    "start_time": "2022-05-30T16:42:03.405Z"
   },
   {
    "duration": 16,
    "start_time": "2022-05-30T16:42:03.416Z"
   },
   {
    "duration": 2545,
    "start_time": "2022-05-30T16:42:03.434Z"
   },
   {
    "duration": 16,
    "start_time": "2022-05-30T16:42:05.981Z"
   },
   {
    "duration": 35,
    "start_time": "2022-05-30T16:42:05.999Z"
   },
   {
    "duration": 2555,
    "start_time": "2022-05-30T16:42:06.036Z"
   },
   {
    "duration": 3,
    "start_time": "2022-05-30T16:42:08.593Z"
   },
   {
    "duration": 29,
    "start_time": "2022-05-30T16:42:08.598Z"
   },
   {
    "duration": 9,
    "start_time": "2022-05-30T16:42:08.629Z"
   },
   {
    "duration": 4,
    "start_time": "2022-05-30T16:42:08.642Z"
   },
   {
    "duration": 6,
    "start_time": "2022-05-30T16:42:08.648Z"
   },
   {
    "duration": 10,
    "start_time": "2022-05-30T16:42:08.656Z"
   },
   {
    "duration": 11,
    "start_time": "2022-05-30T16:42:08.667Z"
   },
   {
    "duration": 23,
    "start_time": "2022-05-30T16:42:08.680Z"
   },
   {
    "duration": 12,
    "start_time": "2022-05-30T16:42:08.704Z"
   },
   {
    "duration": 8,
    "start_time": "2022-05-30T16:42:08.718Z"
   },
   {
    "duration": 35,
    "start_time": "2022-05-30T16:42:08.727Z"
   },
   {
    "duration": 4,
    "start_time": "2022-05-30T16:42:08.764Z"
   },
   {
    "duration": 9,
    "start_time": "2022-05-30T16:42:08.769Z"
   },
   {
    "duration": 9,
    "start_time": "2022-05-30T16:42:08.779Z"
   },
   {
    "duration": 18,
    "start_time": "2022-05-30T16:42:08.789Z"
   },
   {
    "duration": 21,
    "start_time": "2022-05-30T16:42:08.809Z"
   },
   {
    "duration": 30986,
    "start_time": "2022-05-30T16:42:08.832Z"
   },
   {
    "duration": 117,
    "start_time": "2022-05-30T16:42:39.820Z"
   },
   {
    "duration": 0,
    "start_time": "2022-05-30T16:42:39.939Z"
   },
   {
    "duration": 103741,
    "start_time": "2022-05-30T16:43:02.286Z"
   },
   {
    "duration": 1312,
    "start_time": "2022-05-30T16:46:07.816Z"
   },
   {
    "duration": 683,
    "start_time": "2022-05-30T16:46:09.130Z"
   },
   {
    "duration": 19,
    "start_time": "2022-05-30T16:46:09.815Z"
   },
   {
    "duration": 23,
    "start_time": "2022-05-30T16:46:09.836Z"
   },
   {
    "duration": 13,
    "start_time": "2022-05-30T16:46:09.861Z"
   },
   {
    "duration": 22,
    "start_time": "2022-05-30T16:46:09.875Z"
   },
   {
    "duration": 19,
    "start_time": "2022-05-30T16:46:09.927Z"
   },
   {
    "duration": 21,
    "start_time": "2022-05-30T16:46:09.948Z"
   },
   {
    "duration": 18,
    "start_time": "2022-05-30T16:46:09.971Z"
   },
   {
    "duration": 14,
    "start_time": "2022-05-30T16:46:09.992Z"
   },
   {
    "duration": 29,
    "start_time": "2022-05-30T16:46:10.007Z"
   },
   {
    "duration": 3,
    "start_time": "2022-05-30T16:46:10.038Z"
   },
   {
    "duration": 15,
    "start_time": "2022-05-30T16:46:10.043Z"
   },
   {
    "duration": 10,
    "start_time": "2022-05-30T16:46:10.060Z"
   },
   {
    "duration": 8,
    "start_time": "2022-05-30T16:46:10.072Z"
   },
   {
    "duration": 25,
    "start_time": "2022-05-30T16:46:10.082Z"
   },
   {
    "duration": 9,
    "start_time": "2022-05-30T16:46:10.108Z"
   },
   {
    "duration": 12,
    "start_time": "2022-05-30T16:46:10.118Z"
   },
   {
    "duration": 5,
    "start_time": "2022-05-30T16:46:10.131Z"
   },
   {
    "duration": 25,
    "start_time": "2022-05-30T16:46:10.137Z"
   },
   {
    "duration": 13,
    "start_time": "2022-05-30T16:46:10.163Z"
   },
   {
    "duration": 12,
    "start_time": "2022-05-30T16:46:10.178Z"
   },
   {
    "duration": 45,
    "start_time": "2022-05-30T16:46:10.192Z"
   },
   {
    "duration": 4,
    "start_time": "2022-05-30T16:46:10.239Z"
   },
   {
    "duration": 187,
    "start_time": "2022-05-30T16:46:10.245Z"
   },
   {
    "duration": 7,
    "start_time": "2022-05-30T16:46:10.434Z"
   },
   {
    "duration": 183,
    "start_time": "2022-05-30T16:46:10.443Z"
   },
   {
    "duration": 6,
    "start_time": "2022-05-30T16:46:10.631Z"
   },
   {
    "duration": 197,
    "start_time": "2022-05-30T16:46:10.639Z"
   },
   {
    "duration": 7,
    "start_time": "2022-05-30T16:46:10.838Z"
   },
   {
    "duration": 552,
    "start_time": "2022-05-30T16:46:10.847Z"
   },
   {
    "duration": 11,
    "start_time": "2022-05-30T16:46:11.401Z"
   },
   {
    "duration": 18,
    "start_time": "2022-05-30T16:46:11.414Z"
   },
   {
    "duration": 3517,
    "start_time": "2022-05-30T16:46:11.434Z"
   },
   {
    "duration": 15,
    "start_time": "2022-05-30T16:46:14.953Z"
   },
   {
    "duration": 22,
    "start_time": "2022-05-30T16:46:14.969Z"
   },
   {
    "duration": 2531,
    "start_time": "2022-05-30T16:46:14.993Z"
   },
   {
    "duration": 4,
    "start_time": "2022-05-30T16:46:17.525Z"
   },
   {
    "duration": 25,
    "start_time": "2022-05-30T16:46:17.530Z"
   },
   {
    "duration": 8,
    "start_time": "2022-05-30T16:46:17.556Z"
   },
   {
    "duration": 16,
    "start_time": "2022-05-30T16:46:17.566Z"
   },
   {
    "duration": 9,
    "start_time": "2022-05-30T16:46:17.583Z"
   },
   {
    "duration": 21,
    "start_time": "2022-05-30T16:46:17.593Z"
   },
   {
    "duration": 8,
    "start_time": "2022-05-30T16:46:17.615Z"
   },
   {
    "duration": 32,
    "start_time": "2022-05-30T16:46:17.624Z"
   },
   {
    "duration": 4,
    "start_time": "2022-05-30T16:46:17.657Z"
   },
   {
    "duration": 9,
    "start_time": "2022-05-30T16:46:17.662Z"
   },
   {
    "duration": 33,
    "start_time": "2022-05-30T16:46:17.672Z"
   },
   {
    "duration": 3,
    "start_time": "2022-05-30T16:46:17.707Z"
   },
   {
    "duration": 7,
    "start_time": "2022-05-30T16:46:17.712Z"
   },
   {
    "duration": 9,
    "start_time": "2022-05-30T16:46:17.721Z"
   },
   {
    "duration": 7,
    "start_time": "2022-05-30T16:46:17.731Z"
   },
   {
    "duration": 17,
    "start_time": "2022-05-30T16:46:17.739Z"
   },
   {
    "duration": 31471,
    "start_time": "2022-05-30T16:46:17.757Z"
   },
   {
    "duration": 139839,
    "start_time": "2022-05-30T16:46:49.229Z"
   },
   {
    "duration": 2258,
    "start_time": "2022-05-30T16:49:09.071Z"
   },
   {
    "duration": 60,
    "start_time": "2022-05-30T16:51:16.800Z"
   },
   {
    "duration": 292592,
    "start_time": "2022-05-30T16:51:25.220Z"
   },
   {
    "duration": 134389,
    "start_time": "2022-05-30T16:56:26.607Z"
   },
   {
    "duration": 8532,
    "start_time": "2022-05-30T16:59:11.568Z"
   },
   {
    "duration": 1320,
    "start_time": "2022-05-30T16:59:57.032Z"
   },
   {
    "duration": 707,
    "start_time": "2022-05-30T16:59:58.354Z"
   },
   {
    "duration": 18,
    "start_time": "2022-05-30T16:59:59.063Z"
   },
   {
    "duration": 23,
    "start_time": "2022-05-30T16:59:59.083Z"
   },
   {
    "duration": 30,
    "start_time": "2022-05-30T16:59:59.107Z"
   },
   {
    "duration": 20,
    "start_time": "2022-05-30T16:59:59.138Z"
   },
   {
    "duration": 24,
    "start_time": "2022-05-30T16:59:59.160Z"
   },
   {
    "duration": 19,
    "start_time": "2022-05-30T16:59:59.186Z"
   },
   {
    "duration": 6,
    "start_time": "2022-05-30T16:59:59.226Z"
   },
   {
    "duration": 17,
    "start_time": "2022-05-30T16:59:59.234Z"
   },
   {
    "duration": 14,
    "start_time": "2022-05-30T16:59:59.253Z"
   },
   {
    "duration": 3,
    "start_time": "2022-05-30T16:59:59.268Z"
   },
   {
    "duration": 15,
    "start_time": "2022-05-30T16:59:59.272Z"
   },
   {
    "duration": 15,
    "start_time": "2022-05-30T16:59:59.289Z"
   },
   {
    "duration": 6,
    "start_time": "2022-05-30T16:59:59.307Z"
   },
   {
    "duration": 24,
    "start_time": "2022-05-30T16:59:59.315Z"
   },
   {
    "duration": 11,
    "start_time": "2022-05-30T16:59:59.340Z"
   },
   {
    "duration": 7,
    "start_time": "2022-05-30T16:59:59.353Z"
   },
   {
    "duration": 6,
    "start_time": "2022-05-30T16:59:59.362Z"
   },
   {
    "duration": 31,
    "start_time": "2022-05-30T16:59:59.369Z"
   },
   {
    "duration": 29,
    "start_time": "2022-05-30T16:59:59.402Z"
   },
   {
    "duration": 12,
    "start_time": "2022-05-30T16:59:59.433Z"
   },
   {
    "duration": 13,
    "start_time": "2022-05-30T16:59:59.447Z"
   },
   {
    "duration": 6,
    "start_time": "2022-05-30T16:59:59.463Z"
   },
   {
    "duration": 201,
    "start_time": "2022-05-30T16:59:59.471Z"
   },
   {
    "duration": 6,
    "start_time": "2022-05-30T16:59:59.674Z"
   },
   {
    "duration": 189,
    "start_time": "2022-05-30T16:59:59.681Z"
   },
   {
    "duration": 6,
    "start_time": "2022-05-30T16:59:59.874Z"
   },
   {
    "duration": 196,
    "start_time": "2022-05-30T16:59:59.881Z"
   },
   {
    "duration": 7,
    "start_time": "2022-05-30T17:00:00.078Z"
   },
   {
    "duration": 611,
    "start_time": "2022-05-30T17:00:00.087Z"
   },
   {
    "duration": 11,
    "start_time": "2022-05-30T17:00:00.700Z"
   },
   {
    "duration": 26,
    "start_time": "2022-05-30T17:00:00.713Z"
   },
   {
    "duration": 2563,
    "start_time": "2022-05-30T17:00:00.741Z"
   },
   {
    "duration": 20,
    "start_time": "2022-05-30T17:00:03.306Z"
   },
   {
    "duration": 34,
    "start_time": "2022-05-30T17:00:03.328Z"
   },
   {
    "duration": 2665,
    "start_time": "2022-05-30T17:00:03.363Z"
   },
   {
    "duration": 4,
    "start_time": "2022-05-30T17:00:06.030Z"
   },
   {
    "duration": 31,
    "start_time": "2022-05-30T17:00:06.036Z"
   },
   {
    "duration": 14,
    "start_time": "2022-05-30T17:00:06.069Z"
   },
   {
    "duration": 17,
    "start_time": "2022-05-30T17:00:06.085Z"
   },
   {
    "duration": 17,
    "start_time": "2022-05-30T17:00:06.104Z"
   },
   {
    "duration": 15,
    "start_time": "2022-05-30T17:00:06.123Z"
   },
   {
    "duration": 17,
    "start_time": "2022-05-30T17:00:06.140Z"
   },
   {
    "duration": 28,
    "start_time": "2022-05-30T17:00:06.158Z"
   },
   {
    "duration": 22,
    "start_time": "2022-05-30T17:00:06.188Z"
   },
   {
    "duration": 13,
    "start_time": "2022-05-30T17:00:06.213Z"
   },
   {
    "duration": 39,
    "start_time": "2022-05-30T17:00:06.229Z"
   },
   {
    "duration": 4,
    "start_time": "2022-05-30T17:00:06.270Z"
   },
   {
    "duration": 17,
    "start_time": "2022-05-30T17:00:06.276Z"
   },
   {
    "duration": 12,
    "start_time": "2022-05-30T17:00:06.295Z"
   },
   {
    "duration": 9,
    "start_time": "2022-05-30T17:00:06.308Z"
   },
   {
    "duration": 9,
    "start_time": "2022-05-30T17:00:06.319Z"
   },
   {
    "duration": 61047,
    "start_time": "2022-05-30T17:00:06.330Z"
   },
   {
    "duration": 155,
    "start_time": "2022-05-30T17:01:07.379Z"
   },
   {
    "duration": 0,
    "start_time": "2022-05-30T17:01:07.536Z"
   },
   {
    "duration": 809,
    "start_time": "2022-05-30T17:04:17.005Z"
   },
   {
    "duration": 845,
    "start_time": "2022-05-30T17:05:09.811Z"
   },
   {
    "duration": 147733,
    "start_time": "2022-05-30T17:05:35.457Z"
   },
   {
    "duration": 3302,
    "start_time": "2022-05-30T17:08:49.126Z"
   },
   {
    "duration": 3,
    "start_time": "2022-05-30T17:12:55.898Z"
   },
   {
    "duration": 63362,
    "start_time": "2022-05-30T17:12:59.817Z"
   },
   {
    "duration": 148191,
    "start_time": "2022-05-30T17:14:06.636Z"
   },
   {
    "duration": 165138,
    "start_time": "2022-05-30T17:18:48.960Z"
   },
   {
    "duration": 963297,
    "start_time": "2022-05-30T17:21:51.572Z"
   },
   {
    "duration": 171556,
    "start_time": "2022-05-30T17:39:09.410Z"
   },
   {
    "duration": 723814,
    "start_time": "2022-05-30T17:42:13.905Z"
   },
   {
    "duration": 186858,
    "start_time": "2022-05-30T17:56:19.248Z"
   },
   {
    "duration": 5,
    "start_time": "2022-05-30T18:10:05.219Z"
   },
   {
    "duration": 177772,
    "start_time": "2022-05-30T18:10:10.425Z"
   },
   {
    "duration": 4,
    "start_time": "2022-05-30T18:15:16.912Z"
   },
   {
    "duration": 5,
    "start_time": "2022-05-30T18:18:32.755Z"
   },
   {
    "duration": 3,
    "start_time": "2022-05-30T18:18:33.116Z"
   },
   {
    "duration": 3,
    "start_time": "2022-05-30T18:18:33.378Z"
   },
   {
    "duration": 25,
    "start_time": "2022-05-30T18:18:33.836Z"
   },
   {
    "duration": 16,
    "start_time": "2022-05-30T18:18:34.519Z"
   },
   {
    "duration": 14,
    "start_time": "2022-05-30T18:19:19.539Z"
   },
   {
    "duration": 14,
    "start_time": "2022-05-30T18:21:04.466Z"
   },
   {
    "duration": 10,
    "start_time": "2022-05-30T18:27:48.158Z"
   },
   {
    "duration": 9,
    "start_time": "2022-05-30T18:28:00.714Z"
   },
   {
    "duration": 14,
    "start_time": "2022-05-30T18:28:09.593Z"
   },
   {
    "duration": 8390,
    "start_time": "2022-05-30T18:30:13.937Z"
   },
   {
    "duration": 11619,
    "start_time": "2022-05-30T18:33:59.345Z"
   },
   {
    "duration": 46,
    "start_time": "2022-05-30T18:39:35.822Z"
   },
   {
    "duration": 47,
    "start_time": "2022-05-30T18:40:41.766Z"
   },
   {
    "duration": 4,
    "start_time": "2022-05-30T19:07:58.994Z"
   },
   {
    "duration": 4,
    "start_time": "2022-05-30T19:08:10.165Z"
   },
   {
    "duration": 4,
    "start_time": "2022-05-30T19:08:11.097Z"
   },
   {
    "duration": 4,
    "start_time": "2022-05-30T19:08:11.654Z"
   },
   {
    "duration": 5,
    "start_time": "2022-05-30T19:08:12.181Z"
   },
   {
    "duration": 10985,
    "start_time": "2022-05-30T19:18:04.619Z"
   },
   {
    "duration": 27,
    "start_time": "2022-05-30T20:22:51.952Z"
   },
   {
    "duration": 845265,
    "start_time": "2022-05-30T20:37:37.722Z"
   },
   {
    "duration": 3,
    "start_time": "2022-05-30T20:51:42.989Z"
   },
   {
    "duration": 11,
    "start_time": "2022-05-30T20:51:42.993Z"
   },
   {
    "duration": 850616,
    "start_time": "2022-05-30T21:00:01.994Z"
   },
   {
    "duration": 5,
    "start_time": "2022-05-30T21:14:44.595Z"
   },
   {
    "duration": 4,
    "start_time": "2022-05-30T21:14:45.170Z"
   },
   {
    "duration": 18969,
    "start_time": "2022-05-30T21:14:45.985Z"
   },
   {
    "duration": 31,
    "start_time": "2022-05-30T21:18:52.825Z"
   },
   {
    "duration": 265210,
    "start_time": "2022-05-30T21:18:56.703Z"
   },
   {
    "duration": 4,
    "start_time": "2022-05-30T21:25:38.622Z"
   },
   {
    "duration": 4,
    "start_time": "2022-05-30T21:25:38.981Z"
   },
   {
    "duration": 18328,
    "start_time": "2022-05-30T21:25:41.794Z"
   },
   {
    "duration": 51,
    "start_time": "2022-05-30T21:26:02.082Z"
   },
   {
    "duration": 1583,
    "start_time": "2022-05-31T07:18:54.306Z"
   },
   {
    "duration": 3661,
    "start_time": "2022-05-31T07:18:55.891Z"
   },
   {
    "duration": 19,
    "start_time": "2022-05-31T07:18:59.555Z"
   },
   {
    "duration": 24,
    "start_time": "2022-05-31T07:18:59.577Z"
   },
   {
    "duration": 15,
    "start_time": "2022-05-31T07:18:59.602Z"
   },
   {
    "duration": 34,
    "start_time": "2022-05-31T07:18:59.619Z"
   },
   {
    "duration": 34,
    "start_time": "2022-05-31T07:18:59.655Z"
   },
   {
    "duration": 22,
    "start_time": "2022-05-31T07:18:59.690Z"
   },
   {
    "duration": 55,
    "start_time": "2022-05-31T07:18:59.713Z"
   },
   {
    "duration": 22,
    "start_time": "2022-05-31T07:18:59.771Z"
   },
   {
    "duration": 18,
    "start_time": "2022-05-31T07:18:59.795Z"
   },
   {
    "duration": 3,
    "start_time": "2022-05-31T07:18:59.815Z"
   },
   {
    "duration": 48,
    "start_time": "2022-05-31T07:18:59.820Z"
   },
   {
    "duration": 6,
    "start_time": "2022-05-31T07:18:59.871Z"
   },
   {
    "duration": 9,
    "start_time": "2022-05-31T07:18:59.881Z"
   },
   {
    "duration": 24,
    "start_time": "2022-05-31T07:18:59.892Z"
   },
   {
    "duration": 49,
    "start_time": "2022-05-31T07:18:59.918Z"
   },
   {
    "duration": 47,
    "start_time": "2022-05-31T07:18:59.969Z"
   },
   {
    "duration": 65,
    "start_time": "2022-05-31T07:19:00.018Z"
   },
   {
    "duration": 40,
    "start_time": "2022-05-31T07:19:00.084Z"
   },
   {
    "duration": 24,
    "start_time": "2022-05-31T07:19:00.126Z"
   },
   {
    "duration": 31,
    "start_time": "2022-05-31T07:19:00.153Z"
   },
   {
    "duration": 16,
    "start_time": "2022-05-31T07:19:00.186Z"
   },
   {
    "duration": 3,
    "start_time": "2022-05-31T07:19:00.203Z"
   },
   {
    "duration": 226,
    "start_time": "2022-05-31T07:19:00.208Z"
   },
   {
    "duration": 7,
    "start_time": "2022-05-31T07:19:00.439Z"
   },
   {
    "duration": 298,
    "start_time": "2022-05-31T07:19:00.448Z"
   },
   {
    "duration": 9,
    "start_time": "2022-05-31T07:19:00.751Z"
   },
   {
    "duration": 208,
    "start_time": "2022-05-31T07:19:00.762Z"
   },
   {
    "duration": 8,
    "start_time": "2022-05-31T07:19:00.972Z"
   },
   {
    "duration": 682,
    "start_time": "2022-05-31T07:19:00.982Z"
   },
   {
    "duration": 12,
    "start_time": "2022-05-31T07:19:01.666Z"
   },
   {
    "duration": 12,
    "start_time": "2022-05-31T07:19:01.680Z"
   },
   {
    "duration": 2892,
    "start_time": "2022-05-31T07:19:01.694Z"
   },
   {
    "duration": 16,
    "start_time": "2022-05-31T07:19:04.588Z"
   },
   {
    "duration": 33,
    "start_time": "2022-05-31T07:19:04.606Z"
   },
   {
    "duration": 2670,
    "start_time": "2022-05-31T07:19:04.641Z"
   },
   {
    "duration": 4,
    "start_time": "2022-05-31T07:19:07.312Z"
   },
   {
    "duration": 64,
    "start_time": "2022-05-31T07:19:07.317Z"
   },
   {
    "duration": 9,
    "start_time": "2022-05-31T07:19:07.383Z"
   },
   {
    "duration": 5,
    "start_time": "2022-05-31T07:19:07.394Z"
   },
   {
    "duration": 8,
    "start_time": "2022-05-31T07:19:07.401Z"
   },
   {
    "duration": 10,
    "start_time": "2022-05-31T07:19:07.411Z"
   },
   {
    "duration": 45,
    "start_time": "2022-05-31T07:19:07.423Z"
   },
   {
    "duration": 25,
    "start_time": "2022-05-31T07:19:07.470Z"
   },
   {
    "duration": 6,
    "start_time": "2022-05-31T07:19:07.497Z"
   },
   {
    "duration": 7,
    "start_time": "2022-05-31T07:19:07.504Z"
   },
   {
    "duration": 56,
    "start_time": "2022-05-31T07:19:07.512Z"
   },
   {
    "duration": 3,
    "start_time": "2022-05-31T07:19:07.570Z"
   },
   {
    "duration": 67988,
    "start_time": "2022-05-31T07:19:07.575Z"
   },
   {
    "duration": 295488,
    "start_time": "2022-05-31T07:20:15.565Z"
   },
   {
    "duration": 3381,
    "start_time": "2022-05-31T07:25:11.055Z"
   },
   {
    "duration": 12,
    "start_time": "2022-05-31T07:25:14.439Z"
   },
   {
    "duration": 22,
    "start_time": "2022-05-31T07:25:14.452Z"
   },
   {
    "duration": 27,
    "start_time": "2022-05-31T07:25:14.526Z"
   },
   {
    "duration": 47,
    "start_time": "2022-05-31T07:25:14.555Z"
   },
   {
    "duration": 7,
    "start_time": "2022-05-31T07:25:14.604Z"
   },
   {
    "duration": 42,
    "start_time": "2022-05-31T07:25:14.613Z"
   },
   {
    "duration": 21290,
    "start_time": "2022-05-31T07:25:14.657Z"
   },
   {
    "duration": 56,
    "start_time": "2022-05-31T07:25:35.949Z"
   },
   {
    "duration": 21,
    "start_time": "2022-05-31T07:57:40.235Z"
   },
   {
    "duration": 188,
    "start_time": "2022-05-31T07:58:35.152Z"
   },
   {
    "duration": 191,
    "start_time": "2022-05-31T07:58:42.699Z"
   },
   {
    "duration": 167,
    "start_time": "2022-05-31T07:58:47.141Z"
   },
   {
    "duration": 177,
    "start_time": "2022-05-31T07:58:50.891Z"
   },
   {
    "duration": 179,
    "start_time": "2022-05-31T07:58:56.260Z"
   },
   {
    "duration": 348,
    "start_time": "2022-05-31T07:59:00.747Z"
   },
   {
    "duration": 2,
    "start_time": "2022-05-31T08:00:35.162Z"
   },
   {
    "duration": 1407,
    "start_time": "2022-05-31T08:02:32.037Z"
   },
   {
    "duration": 734,
    "start_time": "2022-05-31T08:02:33.446Z"
   },
   {
    "duration": 18,
    "start_time": "2022-05-31T08:02:34.182Z"
   },
   {
    "duration": 40,
    "start_time": "2022-05-31T08:02:34.202Z"
   },
   {
    "duration": 14,
    "start_time": "2022-05-31T08:02:34.244Z"
   },
   {
    "duration": 27,
    "start_time": "2022-05-31T08:02:34.260Z"
   },
   {
    "duration": 34,
    "start_time": "2022-05-31T08:02:34.289Z"
   },
   {
    "duration": 29,
    "start_time": "2022-05-31T08:02:34.326Z"
   },
   {
    "duration": 3,
    "start_time": "2022-05-31T08:02:34.358Z"
   },
   {
    "duration": 14,
    "start_time": "2022-05-31T08:02:34.364Z"
   },
   {
    "duration": 27,
    "start_time": "2022-05-31T08:02:34.380Z"
   },
   {
    "duration": 3,
    "start_time": "2022-05-31T08:02:34.409Z"
   },
   {
    "duration": 28,
    "start_time": "2022-05-31T08:02:34.424Z"
   },
   {
    "duration": 27,
    "start_time": "2022-05-31T08:02:34.454Z"
   },
   {
    "duration": 10,
    "start_time": "2022-05-31T08:02:34.483Z"
   },
   {
    "duration": 17,
    "start_time": "2022-05-31T08:02:34.495Z"
   },
   {
    "duration": 7,
    "start_time": "2022-05-31T08:02:34.514Z"
   },
   {
    "duration": 24,
    "start_time": "2022-05-31T08:02:34.523Z"
   },
   {
    "duration": 5,
    "start_time": "2022-05-31T08:02:34.548Z"
   },
   {
    "duration": 28,
    "start_time": "2022-05-31T08:02:34.554Z"
   },
   {
    "duration": 14,
    "start_time": "2022-05-31T08:02:34.584Z"
   },
   {
    "duration": 30,
    "start_time": "2022-05-31T08:02:34.600Z"
   },
   {
    "duration": 15,
    "start_time": "2022-05-31T08:02:34.633Z"
   },
   {
    "duration": 3,
    "start_time": "2022-05-31T08:02:34.650Z"
   },
   {
    "duration": 213,
    "start_time": "2022-05-31T08:02:34.655Z"
   },
   {
    "duration": 7,
    "start_time": "2022-05-31T08:02:34.871Z"
   },
   {
    "duration": 215,
    "start_time": "2022-05-31T08:02:34.879Z"
   },
   {
    "duration": 7,
    "start_time": "2022-05-31T08:02:35.099Z"
   },
   {
    "duration": 210,
    "start_time": "2022-05-31T08:02:35.108Z"
   },
   {
    "duration": 9,
    "start_time": "2022-05-31T08:02:35.323Z"
   },
   {
    "duration": 580,
    "start_time": "2022-05-31T08:02:35.336Z"
   },
   {
    "duration": 20,
    "start_time": "2022-05-31T08:02:35.918Z"
   },
   {
    "duration": 17,
    "start_time": "2022-05-31T08:02:35.942Z"
   },
   {
    "duration": 2539,
    "start_time": "2022-05-31T08:02:35.960Z"
   },
   {
    "duration": 14,
    "start_time": "2022-05-31T08:02:38.500Z"
   },
   {
    "duration": 25,
    "start_time": "2022-05-31T08:02:38.523Z"
   },
   {
    "duration": 2664,
    "start_time": "2022-05-31T08:02:38.550Z"
   },
   {
    "duration": 8,
    "start_time": "2022-05-31T08:02:41.216Z"
   },
   {
    "duration": 40,
    "start_time": "2022-05-31T08:02:41.226Z"
   },
   {
    "duration": 8,
    "start_time": "2022-05-31T08:02:41.268Z"
   },
   {
    "duration": 8,
    "start_time": "2022-05-31T08:02:41.278Z"
   },
   {
    "duration": 11,
    "start_time": "2022-05-31T08:02:41.287Z"
   },
   {
    "duration": 10,
    "start_time": "2022-05-31T08:02:41.299Z"
   },
   {
    "duration": 14,
    "start_time": "2022-05-31T08:02:41.311Z"
   },
   {
    "duration": 58,
    "start_time": "2022-05-31T08:02:41.327Z"
   },
   {
    "duration": 5,
    "start_time": "2022-05-31T08:02:41.387Z"
   },
   {
    "duration": 5,
    "start_time": "2022-05-31T08:02:41.394Z"
   },
   {
    "duration": 42,
    "start_time": "2022-05-31T08:02:41.402Z"
   },
   {
    "duration": 5,
    "start_time": "2022-05-31T08:02:41.446Z"
   },
   {
    "duration": 64139,
    "start_time": "2022-05-31T08:02:41.452Z"
   },
   {
    "duration": 283309,
    "start_time": "2022-05-31T08:03:45.593Z"
   },
   {
    "duration": 2231,
    "start_time": "2022-05-31T08:08:28.904Z"
   },
   {
    "duration": 8,
    "start_time": "2022-05-31T08:08:31.137Z"
   },
   {
    "duration": 6,
    "start_time": "2022-05-31T08:08:31.229Z"
   },
   {
    "duration": 24,
    "start_time": "2022-05-31T08:08:31.239Z"
   },
   {
    "duration": 43,
    "start_time": "2022-05-31T08:08:31.265Z"
   },
   {
    "duration": 28,
    "start_time": "2022-05-31T08:08:31.310Z"
   },
   {
    "duration": 22,
    "start_time": "2022-05-31T08:08:31.340Z"
   },
   {
    "duration": 19789,
    "start_time": "2022-05-31T08:08:31.363Z"
   },
   {
    "duration": 40,
    "start_time": "2022-05-31T08:08:51.154Z"
   },
   {
    "duration": 1428,
    "start_time": "2022-06-01T07:57:46.773Z"
   },
   {
    "duration": 3022,
    "start_time": "2022-06-01T07:57:49.020Z"
   },
   {
    "duration": 18,
    "start_time": "2022-06-01T07:57:52.044Z"
   },
   {
    "duration": 24,
    "start_time": "2022-06-01T07:57:52.063Z"
   },
   {
    "duration": 13,
    "start_time": "2022-06-01T07:57:52.089Z"
   },
   {
    "duration": 37,
    "start_time": "2022-06-01T07:57:52.104Z"
   },
   {
    "duration": 23,
    "start_time": "2022-06-01T07:57:52.143Z"
   },
   {
    "duration": 22,
    "start_time": "2022-06-01T07:57:52.167Z"
   },
   {
    "duration": 6,
    "start_time": "2022-06-01T07:57:52.190Z"
   },
   {
    "duration": 11,
    "start_time": "2022-06-01T07:57:52.427Z"
   },
   {
    "duration": 13,
    "start_time": "2022-06-01T07:57:52.468Z"
   },
   {
    "duration": 3,
    "start_time": "2022-06-01T07:57:52.500Z"
   },
   {
    "duration": 6,
    "start_time": "2022-06-01T07:57:52.529Z"
   },
   {
    "duration": 5,
    "start_time": "2022-06-01T07:57:52.568Z"
   },
   {
    "duration": 4,
    "start_time": "2022-06-01T07:57:53.973Z"
   },
   {
    "duration": 12,
    "start_time": "2022-06-01T07:57:55.873Z"
   },
   {
    "duration": 4,
    "start_time": "2022-06-01T07:57:56.212Z"
   },
   {
    "duration": 6,
    "start_time": "2022-06-01T07:57:56.717Z"
   },
   {
    "duration": 4,
    "start_time": "2022-06-01T07:57:56.760Z"
   },
   {
    "duration": 23,
    "start_time": "2022-06-01T07:57:56.813Z"
   },
   {
    "duration": 13,
    "start_time": "2022-06-01T07:57:56.906Z"
   },
   {
    "duration": 10,
    "start_time": "2022-06-01T07:57:56.965Z"
   },
   {
    "duration": 13,
    "start_time": "2022-06-01T07:57:57.587Z"
   },
   {
    "duration": 3,
    "start_time": "2022-06-01T07:57:59.469Z"
   },
   {
    "duration": 185,
    "start_time": "2022-06-01T07:57:59.517Z"
   },
   {
    "duration": 6,
    "start_time": "2022-06-01T07:57:59.704Z"
   },
   {
    "duration": 197,
    "start_time": "2022-06-01T07:57:59.712Z"
   },
   {
    "duration": 17,
    "start_time": "2022-06-01T07:57:59.912Z"
   },
   {
    "duration": 190,
    "start_time": "2022-06-01T07:57:59.930Z"
   },
   {
    "duration": 6,
    "start_time": "2022-06-01T07:58:00.489Z"
   },
   {
    "duration": 673,
    "start_time": "2022-06-01T07:58:01.106Z"
   },
   {
    "duration": 10,
    "start_time": "2022-06-01T07:58:01.965Z"
   },
   {
    "duration": 9,
    "start_time": "2022-06-01T07:58:02.477Z"
   },
   {
    "duration": 2415,
    "start_time": "2022-06-01T07:58:02.498Z"
   },
   {
    "duration": 20,
    "start_time": "2022-06-01T07:58:04.915Z"
   },
   {
    "duration": 20,
    "start_time": "2022-06-01T07:58:04.938Z"
   },
   {
    "duration": 2583,
    "start_time": "2022-06-01T07:58:04.960Z"
   },
   {
    "duration": 3,
    "start_time": "2022-06-01T07:58:07.545Z"
   },
   {
    "duration": 21,
    "start_time": "2022-06-01T07:58:11.780Z"
   },
   {
    "duration": 116,
    "start_time": "2022-06-01T07:58:17.973Z"
   },
   {
    "duration": 3,
    "start_time": "2022-06-01T07:58:25.487Z"
   },
   {
    "duration": 2,
    "start_time": "2022-06-01T07:59:04.365Z"
   },
   {
    "duration": 3,
    "start_time": "2022-06-01T07:59:08.215Z"
   },
   {
    "duration": 4,
    "start_time": "2022-06-01T07:59:18.212Z"
   },
   {
    "duration": 5,
    "start_time": "2022-06-01T07:59:38.626Z"
   },
   {
    "duration": 36,
    "start_time": "2022-06-01T08:02:50.225Z"
   },
   {
    "duration": 4,
    "start_time": "2022-06-01T08:06:25.800Z"
   },
   {
    "duration": 39,
    "start_time": "2022-06-02T10:00:47.690Z"
   }
  ],
  "kernelspec": {
   "display_name": "Python 3 (ipykernel)",
   "language": "python",
   "name": "python3"
  },
  "language_info": {
   "codemirror_mode": {
    "name": "ipython",
    "version": 3
   },
   "file_extension": ".py",
   "mimetype": "text/x-python",
   "name": "python",
   "nbconvert_exporter": "python",
   "pygments_lexer": "ipython3",
   "version": "3.9.5"
  },
  "toc": {
   "base_numbering": 1,
   "nav_menu": {},
   "number_sections": true,
   "sideBar": true,
   "skip_h1_title": true,
   "title_cell": "Содержание",
   "title_sidebar": "Contents",
   "toc_cell": true,
   "toc_position": {
    "height": "calc(100% - 180px)",
    "left": "10px",
    "top": "150px",
    "width": "203.391px"
   },
   "toc_section_display": true,
   "toc_window_display": true
  }
 },
 "nbformat": 4,
 "nbformat_minor": 2
}
