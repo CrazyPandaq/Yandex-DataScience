{
 "cells": [
  {
   "cell_type": "markdown",
   "metadata": {},
   "source": [
    "# Рекомендация тарифов"
   ]
  },
  {
   "cell_type": "markdown",
   "metadata": {},
   "source": [
    "В вашем распоряжении данные о поведении клиентов, которые уже перешли на эти тарифы (из проекта курса «Статистический анализ данных»). Нужно построить модель для задачи классификации, которая выберет подходящий тариф. Предобработка данных не понадобится — вы её уже сделали.\n",
    "\n",
    "Постройте модель с максимально большим значением *accuracy*. Чтобы сдать проект успешно, нужно довести долю правильных ответов по крайней мере до 0.75. Проверьте *accuracy* на тестовой выборке самостоятельно."
   ]
  },
  {
   "cell_type": "markdown",
   "metadata": {},
   "source": [
    "Описание данных:\n",
    "\n",
    "Каждый объект в наборе данных — это информация о поведении одного пользователя за месяц. Известно:\n",
    "- сalls — количество звонков,\n",
    "- minutes — суммарная длительность звонков в минутах,\n",
    "- messages — количество sms-сообщений,\n",
    "- mb_used — израсходованный интернет-трафик в Мб,\n",
    "- is_ultra — каким тарифом пользовался в течение месяца («Ультра» — 1, «Смарт» — 0)."
   ]
  },
  {
   "cell_type": "markdown",
   "metadata": {},
   "source": [
    "## Откройте и изучите файл"
   ]
  },
  {
   "cell_type": "code",
   "execution_count": 1,
   "metadata": {},
   "outputs": [],
   "source": [
    "import pandas as pd\n",
    "from sklearn.ensemble import RandomForestClassifier\n",
    "from sklearn.tree import DecisionTreeClassifier\n",
    "from sklearn.linear_model import LogisticRegression\n",
    "from sklearn.model_selection import train_test_split\n",
    "from sklearn.metrics import accuracy_score \n",
    "from tqdm import tqdm\n",
    "from sklearn.dummy import DummyClassifier"
   ]
  },
  {
   "cell_type": "code",
   "execution_count": 2,
   "metadata": {},
   "outputs": [],
   "source": [
    "df = pd.read_csv(\"/datasets/users_behavior.csv\")"
   ]
  },
  {
   "cell_type": "code",
   "execution_count": 3,
   "metadata": {},
   "outputs": [
    {
     "name": "stdout",
     "output_type": "stream",
     "text": [
      "<class 'pandas.core.frame.DataFrame'>\n",
      "RangeIndex: 3214 entries, 0 to 3213\n",
      "Data columns (total 5 columns):\n",
      " #   Column    Non-Null Count  Dtype  \n",
      "---  ------    --------------  -----  \n",
      " 0   calls     3214 non-null   float64\n",
      " 1   minutes   3214 non-null   float64\n",
      " 2   messages  3214 non-null   float64\n",
      " 3   mb_used   3214 non-null   float64\n",
      " 4   is_ultra  3214 non-null   int64  \n",
      "dtypes: float64(4), int64(1)\n",
      "memory usage: 125.7 KB\n"
     ]
    }
   ],
   "source": [
    "df.info()"
   ]
  },
  {
   "cell_type": "code",
   "execution_count": 4,
   "metadata": {},
   "outputs": [
    {
     "data": {
      "text/plain": [
       "0"
      ]
     },
     "execution_count": 4,
     "metadata": {},
     "output_type": "execute_result"
    }
   ],
   "source": [
    "df.duplicated().sum()"
   ]
  },
  {
   "cell_type": "code",
   "execution_count": 5,
   "metadata": {},
   "outputs": [
    {
     "data": {
      "text/html": [
       "<div>\n",
       "<style scoped>\n",
       "    .dataframe tbody tr th:only-of-type {\n",
       "        vertical-align: middle;\n",
       "    }\n",
       "\n",
       "    .dataframe tbody tr th {\n",
       "        vertical-align: top;\n",
       "    }\n",
       "\n",
       "    .dataframe thead th {\n",
       "        text-align: right;\n",
       "    }\n",
       "</style>\n",
       "<table border=\"1\" class=\"dataframe\">\n",
       "  <thead>\n",
       "    <tr style=\"text-align: right;\">\n",
       "      <th></th>\n",
       "      <th>calls</th>\n",
       "      <th>minutes</th>\n",
       "      <th>messages</th>\n",
       "      <th>mb_used</th>\n",
       "      <th>is_ultra</th>\n",
       "    </tr>\n",
       "  </thead>\n",
       "  <tbody>\n",
       "    <tr>\n",
       "      <th>0</th>\n",
       "      <td>40.0</td>\n",
       "      <td>311.90</td>\n",
       "      <td>83.0</td>\n",
       "      <td>19915.42</td>\n",
       "      <td>0</td>\n",
       "    </tr>\n",
       "    <tr>\n",
       "      <th>1</th>\n",
       "      <td>85.0</td>\n",
       "      <td>516.75</td>\n",
       "      <td>56.0</td>\n",
       "      <td>22696.96</td>\n",
       "      <td>0</td>\n",
       "    </tr>\n",
       "    <tr>\n",
       "      <th>2</th>\n",
       "      <td>77.0</td>\n",
       "      <td>467.66</td>\n",
       "      <td>86.0</td>\n",
       "      <td>21060.45</td>\n",
       "      <td>0</td>\n",
       "    </tr>\n",
       "    <tr>\n",
       "      <th>3</th>\n",
       "      <td>106.0</td>\n",
       "      <td>745.53</td>\n",
       "      <td>81.0</td>\n",
       "      <td>8437.39</td>\n",
       "      <td>1</td>\n",
       "    </tr>\n",
       "    <tr>\n",
       "      <th>4</th>\n",
       "      <td>66.0</td>\n",
       "      <td>418.74</td>\n",
       "      <td>1.0</td>\n",
       "      <td>14502.75</td>\n",
       "      <td>0</td>\n",
       "    </tr>\n",
       "  </tbody>\n",
       "</table>\n",
       "</div>"
      ],
      "text/plain": [
       "   calls  minutes  messages   mb_used  is_ultra\n",
       "0   40.0   311.90      83.0  19915.42         0\n",
       "1   85.0   516.75      56.0  22696.96         0\n",
       "2   77.0   467.66      86.0  21060.45         0\n",
       "3  106.0   745.53      81.0   8437.39         1\n",
       "4   66.0   418.74       1.0  14502.75         0"
      ]
     },
     "execution_count": 5,
     "metadata": {},
     "output_type": "execute_result"
    }
   ],
   "source": [
    "df.head()"
   ]
  },
  {
   "cell_type": "markdown",
   "metadata": {},
   "source": [
    "### Вывод:\n",
    "Пропусков и дубликатов не обнаруженно"
   ]
  },
  {
   "cell_type": "markdown",
   "metadata": {},
   "source": [
    "## Разбейте данные на выборки"
   ]
  },
  {
   "cell_type": "code",
   "execution_count": 6,
   "metadata": {},
   "outputs": [],
   "source": [
    "features = df.drop([\"is_ultra\"],axis=1)\n",
    "target = df[\"is_ultra\"]"
   ]
  },
  {
   "cell_type": "code",
   "execution_count": 7,
   "metadata": {},
   "outputs": [],
   "source": [
    "features_train, features_valid, target_train, target_valid = train_test_split(features,\n",
    "                                                                              target,\n",
    "                                                                              test_size=0.4,\n",
    "                                                                              random_state=12345\n",
    "                                                                             )"
   ]
  },
  {
   "cell_type": "code",
   "execution_count": 8,
   "metadata": {},
   "outputs": [],
   "source": [
    "features_valid, features_test ,target_valid, target_test = train_test_split(features_valid,\n",
    "                                                                           target_valid,\n",
    "                                                                           test_size=0.5,\n",
    "                                                                           random_state=12345\n",
    "                                                                           )"
   ]
  },
  {
   "cell_type": "code",
   "execution_count": 9,
   "metadata": {},
   "outputs": [
    {
     "name": "stdout",
     "output_type": "stream",
     "text": [
      "Размер исходного датафрейма: (3214, 5)\n"
     ]
    }
   ],
   "source": [
    "print(f'Размер исходного датафрейма: {df.shape}')"
   ]
  },
  {
   "cell_type": "code",
   "execution_count": 10,
   "metadata": {},
   "outputs": [
    {
     "name": "stdout",
     "output_type": "stream",
     "text": [
      "Размер признака обучающей выборке: (1928, 4)\n",
      "Размер целевого признака обучающей выборке: 1928\n"
     ]
    }
   ],
   "source": [
    "print(f'Размер признака обучающей выборке: {features_train.shape}')\n",
    "print(f'Размер целевого признака обучающей выборке: {target_train.shape[0]}')"
   ]
  },
  {
   "cell_type": "code",
   "execution_count": 37,
   "metadata": {},
   "outputs": [
    {
     "name": "stdout",
     "output_type": "stream",
     "text": [
      "Размер признака валидационной выборки: (643, 4)\n",
      "Размер целевого признака валидационной выборки: 643\n"
     ]
    }
   ],
   "source": [
    "print(f'Размер признака валидационной выборки: {features_valid.shape}')\n",
    "print(f'Размер целевого признака валидационной выборки: {target_valid.shape[0]}')"
   ]
  },
  {
   "cell_type": "code",
   "execution_count": 12,
   "metadata": {},
   "outputs": [
    {
     "name": "stdout",
     "output_type": "stream",
     "text": [
      "Размер признака тестовой выборки: (643, 4)\n",
      "Размер целевого признака тестовой выборки: 643\n"
     ]
    }
   ],
   "source": [
    "print(f'Размер признака тестовой выборки: {features_test.shape}')\n",
    "print(f'Размер целевого признака тестовой выборки: {target_test.shape[0]}')"
   ]
  },
  {
   "cell_type": "markdown",
   "metadata": {},
   "source": [
    "## Исследуйте модели"
   ]
  },
  {
   "cell_type": "markdown",
   "metadata": {},
   "source": [
    "### Дерево решений"
   ]
  },
  {
   "cell_type": "code",
   "execution_count": 13,
   "metadata": {
    "scrolled": true
   },
   "outputs": [
    {
     "name": "stderr",
     "output_type": "stream",
     "text": [
      "100%|██████████| 50/50 [00:00<00:00, 61.10it/s]"
     ]
    },
    {
     "name": "stdout",
     "output_type": "stream",
     "text": [
      "Информация о модели:\n",
      "Глубина дерева: 3\n",
      "\n",
      "Accuracy\n",
      "Accuracy наилучшей модели на валидационной выборке: 0.7853810264385692\n"
     ]
    },
    {
     "name": "stderr",
     "output_type": "stream",
     "text": [
      "\n"
     ]
    }
   ],
   "source": [
    "best_model_tree = None\n",
    "result_tree_best = 0\n",
    "depth_tree = 0\n",
    "for depth in tqdm(range(1,51)):\n",
    "    model_tree = DecisionTreeClassifier(random_state=12345,max_depth=depth)\n",
    "    model_tree.fit(features_train,target_train)  # обучение модели на тренировочной выборке\n",
    "    predictions_tree_valid = model_tree.predict(features_valid) # получение предсказания модели на валидационной выборке\n",
    "    result_tree = accuracy_score(target_valid,predictions_tree_valid) # рассчет accurace\n",
    "    if result_tree > result_tree_best:\n",
    "        best_model_tree = model_tree\n",
    "        result_tree_best = result_tree\n",
    "        depth_tree = depth\n",
    "print(\"Информация о модели:\")\n",
    "print(\"Глубина дерева:\",depth_tree)\n",
    "print()\n",
    "print(\"Accuracy\")\n",
    "print(\"Accuracy наилучшей модели на валидационной выборке:\", result_tree_best)"
   ]
  },
  {
   "cell_type": "markdown",
   "metadata": {},
   "source": [
    "#### Вывод:\n",
    "Наибольший Accuracy в дереве решений составляет 0.79 при гиперпараметре max_depth (глубины дерева) равным 3"
   ]
  },
  {
   "cell_type": "markdown",
   "metadata": {},
   "source": [
    "### Cлучайный лес"
   ]
  },
  {
   "cell_type": "code",
   "execution_count": 14,
   "metadata": {},
   "outputs": [
    {
     "name": "stderr",
     "output_type": "stream",
     "text": [
      "100%|██████████| 50/50 [05:53<00:00,  7.07s/it]"
     ]
    },
    {
     "name": "stdout",
     "output_type": "stream",
     "text": [
      "Информация о модели:\n",
      "Количесвто деревьев: 40\n",
      "Глубина дерева: 8\n",
      "\n",
      "Accuracy\n",
      "Accuracy наилучшей модели на валидационной выборке: 0.8087091757387247\n"
     ]
    },
    {
     "name": "stderr",
     "output_type": "stream",
     "text": [
      "\n"
     ]
    }
   ],
   "source": [
    "best_model_forest = None\n",
    "result_forest_best = 0\n",
    "depth_forest = 0\n",
    "est_forest = 0\n",
    "for est in tqdm(range(1,51)):\n",
    "    for depth in range(1,51):\n",
    "        model_forest = RandomForestClassifier(random_state=12345,max_depth=depth, n_estimators=est)\n",
    "        model_forest.fit(features_train,target_train)  # обучение модели на тренировочной выборке\n",
    "        predictions_forest_valid = model_forest.predict(features_valid) # получение предсказания модели на валидационной выборке\n",
    "        result_forest = accuracy_score(target_valid,predictions_forest_valid) # рассчет accurace\n",
    "        if result_forest > result_forest_best:\n",
    "            best_model_forest = model_forest\n",
    "            result_forest_best = result_forest\n",
    "            depth_tree = depth\n",
    "            est_forest = est\n",
    "print(\"Информация о модели:\")\n",
    "print(\"Количесвто деревьев:\",est_forest)\n",
    "print(\"Глубина дерева:\",depth_tree)\n",
    "print()\n",
    "print(\"Accuracy\")\n",
    "print(\"Accuracy наилучшей модели на валидационной выборке:\", result_forest_best)"
   ]
  },
  {
   "cell_type": "markdown",
   "metadata": {},
   "source": [
    "#### Вывод:\n",
    "При рассмотре различных гиперпараметров (колиечества деревьев и глубина дерева) было выявлено, что наибольший Accuracy достигается при 40 деревьев с глубиной 8."
   ]
  },
  {
   "cell_type": "markdown",
   "metadata": {},
   "source": [
    "### Логистическая регрессия"
   ]
  },
  {
   "cell_type": "code",
   "execution_count": 15,
   "metadata": {},
   "outputs": [
    {
     "name": "stdout",
     "output_type": "stream",
     "text": [
      "Accuracy\n",
      "Accuracy наилучшей модели на валидационной выборке: 0.7107309486780715\n"
     ]
    }
   ],
   "source": [
    "model_logistic = LogisticRegression(random_state=12345)\n",
    "model_logistic.fit(features_train,target_train)  # обучение модели на тренировочной выборке\n",
    "predictions_linear_valid = model_logistic.predict(features_valid) # получение предсказания модели на валидационной выборке\n",
    "result_linear = accuracy_score(target_valid,predictions_linear_valid) # рассчет accurace\n",
    "\n",
    "\n",
    "print(\"Accuracy\")\n",
    "print(\"Accuracy наилучшей модели на валидационной выборке:\", result_linear)"
   ]
  },
  {
   "cell_type": "markdown",
   "metadata": {},
   "source": [
    "#### Вывод:\n",
    "В логистической регрессии получился самый наименьший Accuracy - 0.71"
   ]
  },
  {
   "cell_type": "markdown",
   "metadata": {},
   "source": [
    "### Вывод:\n",
    "- В ходе исследовании моделей было выявлено, что наибольшим Accuracy обладает модель - случайный лес (0.8). При этом количество одновременных деревьев в модели составляет 40 штук, с глубиной дерева 8.\n",
    "- Самым наименьшим значением обладает логистическая регрессия (0.71)"
   ]
  },
  {
   "cell_type": "markdown",
   "metadata": {},
   "source": [
    "## Проверьте модель на тестовой выборке"
   ]
  },
  {
   "cell_type": "markdown",
   "metadata": {},
   "source": [
    "### Дерево решений"
   ]
  },
  {
   "cell_type": "code",
   "execution_count": 26,
   "metadata": {},
   "outputs": [],
   "source": [
    "#prediction_tree_test = best_model_tree.predict(features_test)\n",
    "#accuracy_tree_test = accuracy_score(target_test,prediction_tree_test)\n",
    "#print(\"Accuracy:\",accuracy_tree_test)"
   ]
  },
  {
   "cell_type": "markdown",
   "metadata": {},
   "source": [
    "### Случайный лес"
   ]
  },
  {
   "cell_type": "code",
   "execution_count": 27,
   "metadata": {},
   "outputs": [
    {
     "name": "stdout",
     "output_type": "stream",
     "text": [
      "Accuracy: 0.7962674961119751\n"
     ]
    }
   ],
   "source": [
    "prediction_forest_test = best_model_forest.predict(features_test)\n",
    "accuracy_forest_test = accuracy_score(target_test,prediction_forest_test)\n",
    "print(\"Accuracy:\",accuracy_forest_test)"
   ]
  },
  {
   "cell_type": "code",
   "execution_count": 33,
   "metadata": {},
   "outputs": [],
   "source": [
    "features_train_new, features_test_new, target_train_new, target_test_new = train_test_split(features,\n",
    "                                                                              target,\n",
    "                                                                              test_size=0.2,\n",
    "                                                                              random_state=12345\n",
    "                                                                             )"
   ]
  },
  {
   "cell_type": "code",
   "execution_count": 34,
   "metadata": {},
   "outputs": [
    {
     "data": {
      "text/plain": [
       "(2571, 4)"
      ]
     },
     "execution_count": 34,
     "metadata": {},
     "output_type": "execute_result"
    }
   ],
   "source": [
    "features_train_new.shape"
   ]
  },
  {
   "cell_type": "code",
   "execution_count": 35,
   "metadata": {},
   "outputs": [
    {
     "data": {
      "text/plain": [
       "(643, 4)"
      ]
     },
     "execution_count": 35,
     "metadata": {},
     "output_type": "execute_result"
    }
   ],
   "source": [
    "features_test_new.shape"
   ]
  },
  {
   "cell_type": "code",
   "execution_count": 36,
   "metadata": {},
   "outputs": [
    {
     "name": "stdout",
     "output_type": "stream",
     "text": [
      "Accuracy на новой выборке: 0.8009331259720062\n"
     ]
    }
   ],
   "source": [
    "model_forest_new = RandomForestClassifier(random_state=12345,max_depth=8, n_estimators=40)\n",
    "model_forest_new.fit(features_train_new,target_train_new)  # обучение модели на тренировочной выборке\n",
    "predictions_forest_valid_new = model_forest_new.predict(features_test_new) # получение предсказания модели на валидационной выборке\n",
    "result_forest_new = accuracy_score(target_test_new,predictions_forest_valid_new) # рассчет accurace\n",
    "print(\"Accuracy на новой выборке:\", result_forest_new)"
   ]
  },
  {
   "cell_type": "markdown",
   "metadata": {},
   "source": [
    "### Логистическая регрессия"
   ]
  },
  {
   "cell_type": "code",
   "execution_count": 38,
   "metadata": {},
   "outputs": [],
   "source": [
    "#prediction_linear_test = model_logistic.predict(features_test)\n",
    "#accuracy_linear_test = accuracy_score(target_test,prediction_linear_test)\n",
    "#print(\"Accuracy:\",accuracy_linear_test)"
   ]
  },
  {
   "cell_type": "markdown",
   "metadata": {},
   "source": [
    "## Проверка модели на адекватность"
   ]
  },
  {
   "cell_type": "code",
   "execution_count": 23,
   "metadata": {},
   "outputs": [
    {
     "name": "stdout",
     "output_type": "stream",
     "text": [
      "Test score:  0.6842923794712286\n"
     ]
    }
   ],
   "source": [
    "dummy = DummyClassifier(strategy='most_frequent').fit(features_train, target_train)\n",
    "dummy_pred = dummy.predict(features_test)\n",
    "print('Test score: ', accuracy_score(target_test, dummy_pred))"
   ]
  },
  {
   "cell_type": "markdown",
   "metadata": {},
   "source": [
    "### Вывод:\n",
    "По полученным результатам, точность исследованных моделей получилась выше, чем у фиктивного классификатора. Что говорит о том, что наша модель работает адекватно."
   ]
  },
  {
   "cell_type": "markdown",
   "metadata": {},
   "source": [
    "## Общий вывод:"
   ]
  },
  {
   "cell_type": "markdown",
   "metadata": {},
   "source": [
    "- Был изучен исходный файл. В результате не были обнаружены пропуски и дубликаты;\n",
    "- Данные были разбиты на 3 выборки:  обучающая, валидационная и тестовая в соотношении 60:20:20 соответственно;\n",
    "- Были использованы 3 модели с различными гиперпараметрами: Дерево решений, случайный лес и логистическая регрессия. В результате наибольшая точность получилась у случайного леса равная - 0.8. Наихудшая точность у логистической регрессии - 0.71;\n",
    "- Модели проверены на тестовой выборке, где наибольшая точность также у случайного леса - 0.79;"
   ]
  }
 ],
 "metadata": {
  "ExecuteTimeLog": [
   {
    "duration": 1217,
    "start_time": "2022-04-20T10:18:02.969Z"
   },
   {
    "duration": 36,
    "start_time": "2022-04-20T10:18:20.635Z"
   },
   {
    "duration": 11,
    "start_time": "2022-04-20T10:18:27.462Z"
   },
   {
    "duration": 15,
    "start_time": "2022-04-20T10:18:40.867Z"
   },
   {
    "duration": 4,
    "start_time": "2022-04-20T10:18:48.172Z"
   },
   {
    "duration": 5,
    "start_time": "2022-04-20T10:18:54.400Z"
   },
   {
    "duration": 5,
    "start_time": "2022-04-20T10:18:59.730Z"
   },
   {
    "duration": 464,
    "start_time": "2022-04-20T10:19:16.444Z"
   },
   {
    "duration": 222305,
    "start_time": "2022-04-20T10:19:39.956Z"
   },
   {
    "duration": 22,
    "start_time": "2022-04-20T10:23:33.636Z"
   },
   {
    "duration": 7,
    "start_time": "2022-04-20T10:23:36.142Z"
   },
   {
    "duration": 11,
    "start_time": "2022-04-20T10:23:36.518Z"
   },
   {
    "duration": 5,
    "start_time": "2022-04-20T10:23:37.428Z"
   },
   {
    "duration": 6,
    "start_time": "2022-04-20T10:32:34.451Z"
   },
   {
    "duration": 4,
    "start_time": "2022-04-20T10:54:54.747Z"
   },
   {
    "duration": 3,
    "start_time": "2022-04-20T10:55:33.960Z"
   },
   {
    "duration": 4,
    "start_time": "2022-04-20T10:55:55.383Z"
   },
   {
    "duration": 1327,
    "start_time": "2022-04-20T15:34:27.832Z"
   },
   {
    "duration": 15,
    "start_time": "2022-04-20T15:34:29.161Z"
   },
   {
    "duration": 12,
    "start_time": "2022-04-20T15:34:29.178Z"
   },
   {
    "duration": 14,
    "start_time": "2022-04-20T15:34:29.192Z"
   },
   {
    "duration": 11,
    "start_time": "2022-04-20T15:34:29.207Z"
   },
   {
    "duration": 6,
    "start_time": "2022-04-20T15:34:29.220Z"
   },
   {
    "duration": 8,
    "start_time": "2022-04-20T15:34:29.228Z"
   },
   {
    "duration": 6,
    "start_time": "2022-04-20T15:34:29.255Z"
   },
   {
    "duration": 498,
    "start_time": "2022-04-20T15:34:29.263Z"
   },
   {
    "duration": 229314,
    "start_time": "2022-04-20T15:34:29.764Z"
   },
   {
    "duration": 23,
    "start_time": "2022-04-20T15:38:19.080Z"
   },
   {
    "duration": 7,
    "start_time": "2022-04-20T15:38:19.104Z"
   },
   {
    "duration": 43,
    "start_time": "2022-04-20T15:38:19.112Z"
   },
   {
    "duration": 6,
    "start_time": "2022-04-20T15:38:19.157Z"
   },
   {
    "duration": 5,
    "start_time": "2022-04-20T15:38:19.165Z"
   },
   {
    "duration": 8,
    "start_time": "2022-04-20T15:38:19.172Z"
   },
   {
    "duration": 75,
    "start_time": "2022-04-20T17:17:32.667Z"
   },
   {
    "duration": 1686,
    "start_time": "2022-04-20T17:17:42.466Z"
   },
   {
    "duration": 22,
    "start_time": "2022-04-20T17:17:44.155Z"
   },
   {
    "duration": 16,
    "start_time": "2022-04-20T17:17:44.179Z"
   },
   {
    "duration": 17,
    "start_time": "2022-04-20T17:17:44.198Z"
   },
   {
    "duration": 19,
    "start_time": "2022-04-20T17:17:44.230Z"
   },
   {
    "duration": 6,
    "start_time": "2022-04-20T17:17:44.252Z"
   },
   {
    "duration": 9,
    "start_time": "2022-04-20T17:17:44.260Z"
   },
   {
    "duration": 7,
    "start_time": "2022-04-20T17:17:44.272Z"
   },
   {
    "duration": 193,
    "start_time": "2022-04-20T17:17:44.281Z"
   },
   {
    "duration": 0,
    "start_time": "2022-04-20T17:17:44.476Z"
   },
   {
    "duration": 1,
    "start_time": "2022-04-20T17:17:44.477Z"
   },
   {
    "duration": 0,
    "start_time": "2022-04-20T17:17:44.479Z"
   },
   {
    "duration": 0,
    "start_time": "2022-04-20T17:17:44.480Z"
   },
   {
    "duration": 0,
    "start_time": "2022-04-20T17:17:44.482Z"
   },
   {
    "duration": 0,
    "start_time": "2022-04-20T17:17:44.483Z"
   },
   {
    "duration": 0,
    "start_time": "2022-04-20T17:17:44.484Z"
   },
   {
    "duration": 20,
    "start_time": "2022-04-20T17:18:01.942Z"
   },
   {
    "duration": 5,
    "start_time": "2022-04-20T17:18:06.338Z"
   },
   {
    "duration": 5,
    "start_time": "2022-04-20T17:18:30.897Z"
   },
   {
    "duration": 5,
    "start_time": "2022-04-20T17:23:07.786Z"
   },
   {
    "duration": 4,
    "start_time": "2022-04-20T17:23:46.784Z"
   },
   {
    "duration": 5,
    "start_time": "2022-04-20T17:23:57.781Z"
   },
   {
    "duration": 4,
    "start_time": "2022-04-20T17:25:32.272Z"
   },
   {
    "duration": 5,
    "start_time": "2022-04-20T17:26:06.906Z"
   },
   {
    "duration": 5,
    "start_time": "2022-04-20T17:26:10.017Z"
   },
   {
    "duration": 5,
    "start_time": "2022-04-20T17:26:42.348Z"
   },
   {
    "duration": 5,
    "start_time": "2022-04-20T17:26:44.757Z"
   },
   {
    "duration": 7,
    "start_time": "2022-04-20T17:30:19.568Z"
   },
   {
    "duration": 159,
    "start_time": "2022-04-20T17:33:47.936Z"
   },
   {
    "duration": 5,
    "start_time": "2022-04-20T17:34:19.158Z"
   },
   {
    "duration": 5,
    "start_time": "2022-04-20T17:34:28.079Z"
   },
   {
    "duration": 7,
    "start_time": "2022-04-20T17:34:50.404Z"
   },
   {
    "duration": 5,
    "start_time": "2022-04-20T17:34:50.790Z"
   },
   {
    "duration": 6,
    "start_time": "2022-04-20T17:34:51.507Z"
   },
   {
    "duration": 176,
    "start_time": "2022-04-20T17:34:52.273Z"
   },
   {
    "duration": 1722,
    "start_time": "2022-04-20T17:35:33.099Z"
   },
   {
    "duration": 55,
    "start_time": "2022-04-20T17:35:34.825Z"
   },
   {
    "duration": 18,
    "start_time": "2022-04-20T17:35:34.883Z"
   },
   {
    "duration": 17,
    "start_time": "2022-04-20T17:35:34.904Z"
   },
   {
    "duration": 20,
    "start_time": "2022-04-20T17:35:34.923Z"
   },
   {
    "duration": 6,
    "start_time": "2022-04-20T17:35:34.945Z"
   },
   {
    "duration": 14,
    "start_time": "2022-04-20T17:35:34.954Z"
   },
   {
    "duration": 14,
    "start_time": "2022-04-20T17:35:34.971Z"
   },
   {
    "duration": 9,
    "start_time": "2022-04-20T17:35:34.988Z"
   },
   {
    "duration": 6,
    "start_time": "2022-04-20T17:35:35.024Z"
   },
   {
    "duration": 13,
    "start_time": "2022-04-20T17:35:35.033Z"
   },
   {
    "duration": 12,
    "start_time": "2022-04-20T17:35:35.049Z"
   },
   {
    "duration": 855,
    "start_time": "2022-04-20T17:35:35.063Z"
   },
   {
    "duration": 353720,
    "start_time": "2022-04-20T17:35:35.926Z"
   },
   {
    "duration": 36,
    "start_time": "2022-04-20T17:41:29.648Z"
   },
   {
    "duration": 39,
    "start_time": "2022-04-20T17:41:29.686Z"
   },
   {
    "duration": 18,
    "start_time": "2022-04-20T17:41:29.727Z"
   },
   {
    "duration": 9,
    "start_time": "2022-04-20T17:41:29.747Z"
   },
   {
    "duration": 10,
    "start_time": "2022-04-20T17:41:29.759Z"
   },
   {
    "duration": 6,
    "start_time": "2022-04-20T17:41:29.772Z"
   },
   {
    "duration": 210,
    "start_time": "2022-04-20T17:41:29.780Z"
   },
   {
    "duration": 8,
    "start_time": "2022-04-20T17:41:29.993Z"
   },
   {
    "duration": 33,
    "start_time": "2022-04-20T17:41:30.003Z"
   },
   {
    "duration": 110,
    "start_time": "2022-04-20T17:41:30.042Z"
   },
   {
    "duration": 9,
    "start_time": "2022-04-20T17:41:41.785Z"
   },
   {
    "duration": 3,
    "start_time": "2022-04-20T17:44:54.989Z"
   },
   {
    "duration": 18,
    "start_time": "2022-04-20T17:44:57.134Z"
   },
   {
    "duration": 8,
    "start_time": "2022-04-20T17:45:02.151Z"
   },
   {
    "duration": 6,
    "start_time": "2022-04-20T17:45:02.519Z"
   },
   {
    "duration": 6,
    "start_time": "2022-04-20T17:45:03.358Z"
   },
   {
    "duration": 175,
    "start_time": "2022-04-20T17:45:04.293Z"
   },
   {
    "duration": 100,
    "start_time": "2022-04-20T17:46:22.444Z"
   },
   {
    "duration": 7,
    "start_time": "2022-04-20T17:53:37.690Z"
   },
   {
    "duration": 6,
    "start_time": "2022-04-20T17:53:38.130Z"
   },
   {
    "duration": 6,
    "start_time": "2022-04-20T17:53:38.490Z"
   },
   {
    "duration": 199,
    "start_time": "2022-04-20T17:53:39.089Z"
   },
   {
    "duration": 5,
    "start_time": "2022-04-20T17:55:19.912Z"
   },
   {
    "duration": 3,
    "start_time": "2022-04-20T17:58:01.521Z"
   }
  ],
  "kernelspec": {
   "display_name": "Python 3 (ipykernel)",
   "language": "python",
   "name": "python3"
  },
  "language_info": {
   "codemirror_mode": {
    "name": "ipython",
    "version": 3
   },
   "file_extension": ".py",
   "mimetype": "text/x-python",
   "name": "python",
   "nbconvert_exporter": "python",
   "pygments_lexer": "ipython3",
   "version": "3.9.5"
  },
  "toc": {
   "base_numbering": 1,
   "nav_menu": {},
   "number_sections": true,
   "sideBar": true,
   "skip_h1_title": true,
   "title_cell": "Table of Contents",
   "title_sidebar": "Contents",
   "toc_cell": false,
   "toc_position": {},
   "toc_section_display": true,
   "toc_window_display": false
  }
 },
 "nbformat": 4,
 "nbformat_minor": 2
}
