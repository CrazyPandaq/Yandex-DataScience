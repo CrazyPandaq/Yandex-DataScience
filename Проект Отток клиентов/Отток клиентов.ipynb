{
 "cells": [
  {
   "cell_type": "markdown",
   "metadata": {
    "toc": true
   },
   "source": [
    "<h1>Содержание<span class=\"tocSkip\"></span></h1>\n",
    "<div class=\"toc\"><ul class=\"toc-item\"><li><span><a href=\"#Подготовка-данных\" data-toc-modified-id=\"Подготовка-данных-1\"><span class=\"toc-item-num\">1&nbsp;&nbsp;</span>Подготовка данных</a></span><ul class=\"toc-item\"><li><span><a href=\"#Обработка-пропусков\" data-toc-modified-id=\"Обработка-пропусков-1.1\"><span class=\"toc-item-num\">1.1&nbsp;&nbsp;</span>Обработка пропусков</a></span></li><li><span><a href=\"#Проверка-дубликатов\" data-toc-modified-id=\"Проверка-дубликатов-1.2\"><span class=\"toc-item-num\">1.2&nbsp;&nbsp;</span>Проверка дубликатов</a></span></li><li><span><a href=\"#Баланс-классов\" data-toc-modified-id=\"Баланс-классов-1.3\"><span class=\"toc-item-num\">1.3&nbsp;&nbsp;</span>Баланс классов</a></span></li><li><span><a href=\"#Подготовка-данных\" data-toc-modified-id=\"Подготовка-данных-1.4\"><span class=\"toc-item-num\">1.4&nbsp;&nbsp;</span>Подготовка данных</a></span><ul class=\"toc-item\"><li><span><a href=\"#Прямое-кодирование\" data-toc-modified-id=\"Прямое-кодирование-1.4.1\"><span class=\"toc-item-num\">1.4.1&nbsp;&nbsp;</span>Прямое кодирование</a></span></li><li><span><a href=\"#Разделение-выборки\" data-toc-modified-id=\"Разделение-выборки-1.4.2\"><span class=\"toc-item-num\">1.4.2&nbsp;&nbsp;</span>Разделение выборки</a></span></li><li><span><a href=\"#Масштабирование-признаков\" data-toc-modified-id=\"Масштабирование-признаков-1.4.3\"><span class=\"toc-item-num\">1.4.3&nbsp;&nbsp;</span>Масштабирование признаков</a></span></li></ul></li></ul></li><li><span><a href=\"#Исследование-задачи\" data-toc-modified-id=\"Исследование-задачи-2\"><span class=\"toc-item-num\">2&nbsp;&nbsp;</span>Исследование задачи</a></span><ul class=\"toc-item\"><li><span><a href=\"#Исследование-баланса\" data-toc-modified-id=\"Исследование-баланса-2.1\"><span class=\"toc-item-num\">2.1&nbsp;&nbsp;</span>Исследование баланса</a></span></li><li><span><a href=\"#Обучение-моделей\" data-toc-modified-id=\"Обучение-моделей-2.2\"><span class=\"toc-item-num\">2.2&nbsp;&nbsp;</span>Обучение моделей</a></span></li><li><span><a href=\"#Логистическая-регрессия\" data-toc-modified-id=\"Логистическая-регрессия-2.3\"><span class=\"toc-item-num\">2.3&nbsp;&nbsp;</span>Логистическая регрессия</a></span></li><li><span><a href=\"#Cлучайный-лес\" data-toc-modified-id=\"Cлучайный-лес-2.4\"><span class=\"toc-item-num\">2.4&nbsp;&nbsp;</span>Cлучайный лес</a></span></li><li><span><a href=\"#Вывод:\" data-toc-modified-id=\"Вывод:-2.5\"><span class=\"toc-item-num\">2.5&nbsp;&nbsp;</span>Вывод:</a></span></li></ul></li><li><span><a href=\"#Борьба-с-дисбалансом-и-тестирование-модели\" data-toc-modified-id=\"Борьба-с-дисбалансом-и-тестирование-модели-3\"><span class=\"toc-item-num\">3&nbsp;&nbsp;</span>Борьба с дисбалансом и тестирование модели</a></span><ul class=\"toc-item\"><li><span><a href=\"#Upsampling\" data-toc-modified-id=\"Upsampling-3.1\"><span class=\"toc-item-num\">3.1&nbsp;&nbsp;</span>Upsampling</a></span><ul class=\"toc-item\"><li><span><a href=\"#Логистическая-регрессия\" data-toc-modified-id=\"Логистическая-регрессия-3.1.1\"><span class=\"toc-item-num\">3.1.1&nbsp;&nbsp;</span>Логистическая регрессия</a></span></li><li><span><a href=\"#Cлучайный-лес\" data-toc-modified-id=\"Cлучайный-лес-3.1.2\"><span class=\"toc-item-num\">3.1.2&nbsp;&nbsp;</span>Cлучайный лес</a></span></li></ul></li><li><span><a href=\"#Downsampling\" data-toc-modified-id=\"Downsampling-3.2\"><span class=\"toc-item-num\">3.2&nbsp;&nbsp;</span>Downsampling</a></span><ul class=\"toc-item\"><li><span><a href=\"#Логистическая-регрессия\" data-toc-modified-id=\"Логистическая-регрессия-3.2.1\"><span class=\"toc-item-num\">3.2.1&nbsp;&nbsp;</span>Логистическая регрессия</a></span></li><li><span><a href=\"#Cлучайный-лес\" data-toc-modified-id=\"Cлучайный-лес-3.2.2\"><span class=\"toc-item-num\">3.2.2&nbsp;&nbsp;</span>Cлучайный лес</a></span></li></ul></li><li><span><a href=\"#Class-weight\" data-toc-modified-id=\"Class-weight-3.3\"><span class=\"toc-item-num\">3.3&nbsp;&nbsp;</span>Class weight</a></span><ul class=\"toc-item\"><li><span><a href=\"#Логистическая-регрессия\" data-toc-modified-id=\"Логистическая-регрессия-3.3.1\"><span class=\"toc-item-num\">3.3.1&nbsp;&nbsp;</span>Логистическая регрессия</a></span></li><li><span><a href=\"#Cлучайный-лес\" data-toc-modified-id=\"Cлучайный-лес-3.3.2\"><span class=\"toc-item-num\">3.3.2&nbsp;&nbsp;</span>Cлучайный лес</a></span></li></ul></li><li><span><a href=\"#AUC-ROC\" data-toc-modified-id=\"AUC-ROC-3.4\"><span class=\"toc-item-num\">3.4&nbsp;&nbsp;</span>AUC-ROC</a></span></li><li><span><a href=\"#Вывод\" data-toc-modified-id=\"Вывод-3.5\"><span class=\"toc-item-num\">3.5&nbsp;&nbsp;</span>Вывод</a></span></li></ul></li><li><span><a href=\"#Тестирование\" data-toc-modified-id=\"Тестирование-4\"><span class=\"toc-item-num\">4&nbsp;&nbsp;</span>Тестирование</a></span></li><li><span><a href=\"#Общий-вывод\" data-toc-modified-id=\"Общий-вывод-5\"><span class=\"toc-item-num\">5&nbsp;&nbsp;</span>Общий вывод</a></span></li></ul></div>"
   ]
  },
  {
   "cell_type": "markdown",
   "metadata": {},
   "source": [
    "# Отток клиентов"
   ]
  },
  {
   "cell_type": "markdown",
   "metadata": {},
   "source": [
    "Из «Бета-Банка» стали уходить клиенты. Каждый месяц. Немного, но заметно. Банковские маркетологи посчитали: сохранять текущих клиентов дешевле, чем привлекать новых.\n",
    "\n",
    "Нужно спрогнозировать, уйдёт клиент из банка в ближайшее время или нет. Вам предоставлены исторические данные о поведении клиентов и расторжении договоров с банком. \n",
    "\n",
    "Постройте модель с предельно большим значением *F1*-меры. Чтобы сдать проект успешно, нужно довести метрику до 0.59. Проверьте *F1*-меру на тестовой выборке самостоятельно.\n",
    "\n",
    "Дополнительно измеряйте *AUC-ROC*, сравнивайте её значение с *F1*-мерой.\n",
    "\n",
    "Источник данных: [https://www.kaggle.com/barelydedicated/bank-customer-churn-modeling](https://www.kaggle.com/barelydedicated/bank-customer-churn-modeling)\n",
    "\n",
    "Признаки:\n",
    "- RowNumber — индекс строки в данных\n",
    "- CustomerId — уникальный идентификатор клиента\n",
    "- Surname — фамилия\n",
    "- CreditScore — кредитный рейтинг\n",
    "- Geography — страна проживания\n",
    "- Gender — пол\n",
    "- Age — возраст\n",
    "- Tenure — сколько лет человек является клиентом банка\n",
    "- Balance — баланс на счёте\n",
    "- NumOfProducts — количество продуктов банка, используемых клиентом\n",
    "- HasCrCard — наличие кредитной карты\n",
    "- IsActiveMember — активность клиента\n",
    "- EstimatedSalary — предполагаемая зарплата\n",
    "\n",
    "Целевой признак:\n",
    "- Exited — факт ухода клиента"
   ]
  },
  {
   "cell_type": "markdown",
   "metadata": {},
   "source": [
    "## Подготовка данных"
   ]
  },
  {
   "cell_type": "code",
   "execution_count": 1,
   "metadata": {},
   "outputs": [],
   "source": [
    "import pandas as pd\n",
    "import matplotlib.pyplot as plt\n",
    "from tqdm import tqdm\n",
    "\n",
    "from sklearn.metrics import roc_auc_score \n",
    "from sklearn.metrics import f1_score\n",
    "from sklearn.metrics import roc_curve\n",
    "from sklearn.metrics import accuracy_score\n",
    "from sklearn.linear_model import LogisticRegression\n",
    "from sklearn.ensemble import RandomForestClassifier\n",
    "from sklearn.model_selection import train_test_split\n",
    "from sklearn.utils import shuffle\n",
    "from sklearn.preprocessing import StandardScaler\n",
    "\n",
    "pd.options.mode.chained_assignment = None"
   ]
  },
  {
   "cell_type": "code",
   "execution_count": 2,
   "metadata": {},
   "outputs": [],
   "source": [
    "data = pd.read_csv('/datasets/Churn.csv')"
   ]
  },
  {
   "cell_type": "code",
   "execution_count": 3,
   "metadata": {},
   "outputs": [
    {
     "data": {
      "text/html": [
       "<div>\n",
       "<style scoped>\n",
       "    .dataframe tbody tr th:only-of-type {\n",
       "        vertical-align: middle;\n",
       "    }\n",
       "\n",
       "    .dataframe tbody tr th {\n",
       "        vertical-align: top;\n",
       "    }\n",
       "\n",
       "    .dataframe thead th {\n",
       "        text-align: right;\n",
       "    }\n",
       "</style>\n",
       "<table border=\"1\" class=\"dataframe\">\n",
       "  <thead>\n",
       "    <tr style=\"text-align: right;\">\n",
       "      <th></th>\n",
       "      <th>RowNumber</th>\n",
       "      <th>CustomerId</th>\n",
       "      <th>Surname</th>\n",
       "      <th>CreditScore</th>\n",
       "      <th>Geography</th>\n",
       "      <th>Gender</th>\n",
       "      <th>Age</th>\n",
       "      <th>Tenure</th>\n",
       "      <th>Balance</th>\n",
       "      <th>NumOfProducts</th>\n",
       "      <th>HasCrCard</th>\n",
       "      <th>IsActiveMember</th>\n",
       "      <th>EstimatedSalary</th>\n",
       "      <th>Exited</th>\n",
       "    </tr>\n",
       "  </thead>\n",
       "  <tbody>\n",
       "    <tr>\n",
       "      <th>0</th>\n",
       "      <td>1</td>\n",
       "      <td>15634602</td>\n",
       "      <td>Hargrave</td>\n",
       "      <td>619</td>\n",
       "      <td>France</td>\n",
       "      <td>Female</td>\n",
       "      <td>42</td>\n",
       "      <td>2.0</td>\n",
       "      <td>0.00</td>\n",
       "      <td>1</td>\n",
       "      <td>1</td>\n",
       "      <td>1</td>\n",
       "      <td>101348.88</td>\n",
       "      <td>1</td>\n",
       "    </tr>\n",
       "    <tr>\n",
       "      <th>1</th>\n",
       "      <td>2</td>\n",
       "      <td>15647311</td>\n",
       "      <td>Hill</td>\n",
       "      <td>608</td>\n",
       "      <td>Spain</td>\n",
       "      <td>Female</td>\n",
       "      <td>41</td>\n",
       "      <td>1.0</td>\n",
       "      <td>83807.86</td>\n",
       "      <td>1</td>\n",
       "      <td>0</td>\n",
       "      <td>1</td>\n",
       "      <td>112542.58</td>\n",
       "      <td>0</td>\n",
       "    </tr>\n",
       "    <tr>\n",
       "      <th>2</th>\n",
       "      <td>3</td>\n",
       "      <td>15619304</td>\n",
       "      <td>Onio</td>\n",
       "      <td>502</td>\n",
       "      <td>France</td>\n",
       "      <td>Female</td>\n",
       "      <td>42</td>\n",
       "      <td>8.0</td>\n",
       "      <td>159660.80</td>\n",
       "      <td>3</td>\n",
       "      <td>1</td>\n",
       "      <td>0</td>\n",
       "      <td>113931.57</td>\n",
       "      <td>1</td>\n",
       "    </tr>\n",
       "    <tr>\n",
       "      <th>3</th>\n",
       "      <td>4</td>\n",
       "      <td>15701354</td>\n",
       "      <td>Boni</td>\n",
       "      <td>699</td>\n",
       "      <td>France</td>\n",
       "      <td>Female</td>\n",
       "      <td>39</td>\n",
       "      <td>1.0</td>\n",
       "      <td>0.00</td>\n",
       "      <td>2</td>\n",
       "      <td>0</td>\n",
       "      <td>0</td>\n",
       "      <td>93826.63</td>\n",
       "      <td>0</td>\n",
       "    </tr>\n",
       "    <tr>\n",
       "      <th>4</th>\n",
       "      <td>5</td>\n",
       "      <td>15737888</td>\n",
       "      <td>Mitchell</td>\n",
       "      <td>850</td>\n",
       "      <td>Spain</td>\n",
       "      <td>Female</td>\n",
       "      <td>43</td>\n",
       "      <td>2.0</td>\n",
       "      <td>125510.82</td>\n",
       "      <td>1</td>\n",
       "      <td>1</td>\n",
       "      <td>1</td>\n",
       "      <td>79084.10</td>\n",
       "      <td>0</td>\n",
       "    </tr>\n",
       "  </tbody>\n",
       "</table>\n",
       "</div>"
      ],
      "text/plain": [
       "   RowNumber  CustomerId   Surname  CreditScore Geography  Gender  Age  \\\n",
       "0          1    15634602  Hargrave          619    France  Female   42   \n",
       "1          2    15647311      Hill          608     Spain  Female   41   \n",
       "2          3    15619304      Onio          502    France  Female   42   \n",
       "3          4    15701354      Boni          699    France  Female   39   \n",
       "4          5    15737888  Mitchell          850     Spain  Female   43   \n",
       "\n",
       "   Tenure    Balance  NumOfProducts  HasCrCard  IsActiveMember  \\\n",
       "0     2.0       0.00              1          1               1   \n",
       "1     1.0   83807.86              1          0               1   \n",
       "2     8.0  159660.80              3          1               0   \n",
       "3     1.0       0.00              2          0               0   \n",
       "4     2.0  125510.82              1          1               1   \n",
       "\n",
       "   EstimatedSalary  Exited  \n",
       "0        101348.88       1  \n",
       "1        112542.58       0  \n",
       "2        113931.57       1  \n",
       "3         93826.63       0  \n",
       "4         79084.10       0  "
      ]
     },
     "execution_count": 3,
     "metadata": {},
     "output_type": "execute_result"
    }
   ],
   "source": [
    "data.head()"
   ]
  },
  {
   "cell_type": "code",
   "execution_count": 4,
   "metadata": {},
   "outputs": [
    {
     "name": "stdout",
     "output_type": "stream",
     "text": [
      "<class 'pandas.core.frame.DataFrame'>\n",
      "RangeIndex: 10000 entries, 0 to 9999\n",
      "Data columns (total 14 columns):\n",
      " #   Column           Non-Null Count  Dtype  \n",
      "---  ------           --------------  -----  \n",
      " 0   RowNumber        10000 non-null  int64  \n",
      " 1   CustomerId       10000 non-null  int64  \n",
      " 2   Surname          10000 non-null  object \n",
      " 3   CreditScore      10000 non-null  int64  \n",
      " 4   Geography        10000 non-null  object \n",
      " 5   Gender           10000 non-null  object \n",
      " 6   Age              10000 non-null  int64  \n",
      " 7   Tenure           9091 non-null   float64\n",
      " 8   Balance          10000 non-null  float64\n",
      " 9   NumOfProducts    10000 non-null  int64  \n",
      " 10  HasCrCard        10000 non-null  int64  \n",
      " 11  IsActiveMember   10000 non-null  int64  \n",
      " 12  EstimatedSalary  10000 non-null  float64\n",
      " 13  Exited           10000 non-null  int64  \n",
      "dtypes: float64(3), int64(8), object(3)\n",
      "memory usage: 1.1+ MB\n"
     ]
    }
   ],
   "source": [
    "data.info()"
   ]
  },
  {
   "cell_type": "markdown",
   "metadata": {},
   "source": [
    "Наблюдаются пропуски в столбце `Tenure`"
   ]
  },
  {
   "cell_type": "markdown",
   "metadata": {},
   "source": [
    "Первые 3 признака не влияют на дальнейшую работу, следовательно от них можно избавиться."
   ]
  },
  {
   "cell_type": "code",
   "execution_count": 5,
   "metadata": {},
   "outputs": [],
   "source": [
    "data.drop([\"RowNumber\", \"CustomerId\", \"Surname\"], axis=1, inplace=True)"
   ]
  },
  {
   "cell_type": "code",
   "execution_count": 6,
   "metadata": {},
   "outputs": [
    {
     "data": {
      "text/html": [
       "<div>\n",
       "<style scoped>\n",
       "    .dataframe tbody tr th:only-of-type {\n",
       "        vertical-align: middle;\n",
       "    }\n",
       "\n",
       "    .dataframe tbody tr th {\n",
       "        vertical-align: top;\n",
       "    }\n",
       "\n",
       "    .dataframe thead th {\n",
       "        text-align: right;\n",
       "    }\n",
       "</style>\n",
       "<table border=\"1\" class=\"dataframe\">\n",
       "  <thead>\n",
       "    <tr style=\"text-align: right;\">\n",
       "      <th></th>\n",
       "      <th>CreditScore</th>\n",
       "      <th>Geography</th>\n",
       "      <th>Gender</th>\n",
       "      <th>Age</th>\n",
       "      <th>Tenure</th>\n",
       "      <th>Balance</th>\n",
       "      <th>NumOfProducts</th>\n",
       "      <th>HasCrCard</th>\n",
       "      <th>IsActiveMember</th>\n",
       "      <th>EstimatedSalary</th>\n",
       "      <th>Exited</th>\n",
       "    </tr>\n",
       "  </thead>\n",
       "  <tbody>\n",
       "    <tr>\n",
       "      <th>0</th>\n",
       "      <td>619</td>\n",
       "      <td>France</td>\n",
       "      <td>Female</td>\n",
       "      <td>42</td>\n",
       "      <td>2.0</td>\n",
       "      <td>0.00</td>\n",
       "      <td>1</td>\n",
       "      <td>1</td>\n",
       "      <td>1</td>\n",
       "      <td>101348.88</td>\n",
       "      <td>1</td>\n",
       "    </tr>\n",
       "    <tr>\n",
       "      <th>1</th>\n",
       "      <td>608</td>\n",
       "      <td>Spain</td>\n",
       "      <td>Female</td>\n",
       "      <td>41</td>\n",
       "      <td>1.0</td>\n",
       "      <td>83807.86</td>\n",
       "      <td>1</td>\n",
       "      <td>0</td>\n",
       "      <td>1</td>\n",
       "      <td>112542.58</td>\n",
       "      <td>0</td>\n",
       "    </tr>\n",
       "    <tr>\n",
       "      <th>2</th>\n",
       "      <td>502</td>\n",
       "      <td>France</td>\n",
       "      <td>Female</td>\n",
       "      <td>42</td>\n",
       "      <td>8.0</td>\n",
       "      <td>159660.80</td>\n",
       "      <td>3</td>\n",
       "      <td>1</td>\n",
       "      <td>0</td>\n",
       "      <td>113931.57</td>\n",
       "      <td>1</td>\n",
       "    </tr>\n",
       "    <tr>\n",
       "      <th>3</th>\n",
       "      <td>699</td>\n",
       "      <td>France</td>\n",
       "      <td>Female</td>\n",
       "      <td>39</td>\n",
       "      <td>1.0</td>\n",
       "      <td>0.00</td>\n",
       "      <td>2</td>\n",
       "      <td>0</td>\n",
       "      <td>0</td>\n",
       "      <td>93826.63</td>\n",
       "      <td>0</td>\n",
       "    </tr>\n",
       "    <tr>\n",
       "      <th>4</th>\n",
       "      <td>850</td>\n",
       "      <td>Spain</td>\n",
       "      <td>Female</td>\n",
       "      <td>43</td>\n",
       "      <td>2.0</td>\n",
       "      <td>125510.82</td>\n",
       "      <td>1</td>\n",
       "      <td>1</td>\n",
       "      <td>1</td>\n",
       "      <td>79084.10</td>\n",
       "      <td>0</td>\n",
       "    </tr>\n",
       "  </tbody>\n",
       "</table>\n",
       "</div>"
      ],
      "text/plain": [
       "   CreditScore Geography  Gender  Age  Tenure    Balance  NumOfProducts  \\\n",
       "0          619    France  Female   42     2.0       0.00              1   \n",
       "1          608     Spain  Female   41     1.0   83807.86              1   \n",
       "2          502    France  Female   42     8.0  159660.80              3   \n",
       "3          699    France  Female   39     1.0       0.00              2   \n",
       "4          850     Spain  Female   43     2.0  125510.82              1   \n",
       "\n",
       "   HasCrCard  IsActiveMember  EstimatedSalary  Exited  \n",
       "0          1               1        101348.88       1  \n",
       "1          0               1        112542.58       0  \n",
       "2          1               0        113931.57       1  \n",
       "3          0               0         93826.63       0  \n",
       "4          1               1         79084.10       0  "
      ]
     },
     "execution_count": 6,
     "metadata": {},
     "output_type": "execute_result"
    }
   ],
   "source": [
    "data.head()"
   ]
  },
  {
   "cell_type": "markdown",
   "metadata": {},
   "source": [
    "### Обработка пропусков"
   ]
  },
  {
   "cell_type": "code",
   "execution_count": 7,
   "metadata": {},
   "outputs": [
    {
     "data": {
      "text/plain": [
       "0    726\n",
       "1    183\n",
       "Name: Exited, dtype: int64"
      ]
     },
     "execution_count": 7,
     "metadata": {},
     "output_type": "execute_result"
    }
   ],
   "source": [
    "empty_tenure = data[data[\"Tenure\"].isna()]\n",
    "empty_tenure[\"Exited\"].value_counts()"
   ]
  },
  {
   "cell_type": "code",
   "execution_count": 8,
   "metadata": {},
   "outputs": [
    {
     "data": {
      "text/html": [
       "<div>\n",
       "<style scoped>\n",
       "    .dataframe tbody tr th:only-of-type {\n",
       "        vertical-align: middle;\n",
       "    }\n",
       "\n",
       "    .dataframe tbody tr th {\n",
       "        vertical-align: top;\n",
       "    }\n",
       "\n",
       "    .dataframe thead th {\n",
       "        text-align: right;\n",
       "    }\n",
       "</style>\n",
       "<table border=\"1\" class=\"dataframe\">\n",
       "  <thead>\n",
       "    <tr style=\"text-align: right;\">\n",
       "      <th></th>\n",
       "      <th>CreditScore</th>\n",
       "      <th>Geography</th>\n",
       "      <th>Gender</th>\n",
       "      <th>Age</th>\n",
       "      <th>Tenure</th>\n",
       "      <th>Balance</th>\n",
       "      <th>NumOfProducts</th>\n",
       "      <th>HasCrCard</th>\n",
       "      <th>IsActiveMember</th>\n",
       "      <th>EstimatedSalary</th>\n",
       "      <th>Exited</th>\n",
       "    </tr>\n",
       "  </thead>\n",
       "  <tbody>\n",
       "    <tr>\n",
       "      <th>30</th>\n",
       "      <td>591</td>\n",
       "      <td>Spain</td>\n",
       "      <td>Female</td>\n",
       "      <td>39</td>\n",
       "      <td>NaN</td>\n",
       "      <td>0.00</td>\n",
       "      <td>3</td>\n",
       "      <td>1</td>\n",
       "      <td>0</td>\n",
       "      <td>140469.38</td>\n",
       "      <td>1</td>\n",
       "    </tr>\n",
       "    <tr>\n",
       "      <th>48</th>\n",
       "      <td>550</td>\n",
       "      <td>Germany</td>\n",
       "      <td>Male</td>\n",
       "      <td>38</td>\n",
       "      <td>NaN</td>\n",
       "      <td>103391.38</td>\n",
       "      <td>1</td>\n",
       "      <td>0</td>\n",
       "      <td>1</td>\n",
       "      <td>90878.13</td>\n",
       "      <td>0</td>\n",
       "    </tr>\n",
       "    <tr>\n",
       "      <th>51</th>\n",
       "      <td>585</td>\n",
       "      <td>Germany</td>\n",
       "      <td>Male</td>\n",
       "      <td>36</td>\n",
       "      <td>NaN</td>\n",
       "      <td>146050.97</td>\n",
       "      <td>2</td>\n",
       "      <td>0</td>\n",
       "      <td>0</td>\n",
       "      <td>86424.57</td>\n",
       "      <td>0</td>\n",
       "    </tr>\n",
       "    <tr>\n",
       "      <th>53</th>\n",
       "      <td>655</td>\n",
       "      <td>Germany</td>\n",
       "      <td>Male</td>\n",
       "      <td>41</td>\n",
       "      <td>NaN</td>\n",
       "      <td>125561.97</td>\n",
       "      <td>1</td>\n",
       "      <td>0</td>\n",
       "      <td>0</td>\n",
       "      <td>164040.94</td>\n",
       "      <td>1</td>\n",
       "    </tr>\n",
       "    <tr>\n",
       "      <th>60</th>\n",
       "      <td>742</td>\n",
       "      <td>Germany</td>\n",
       "      <td>Male</td>\n",
       "      <td>35</td>\n",
       "      <td>NaN</td>\n",
       "      <td>136857.00</td>\n",
       "      <td>1</td>\n",
       "      <td>0</td>\n",
       "      <td>0</td>\n",
       "      <td>84509.57</td>\n",
       "      <td>0</td>\n",
       "    </tr>\n",
       "  </tbody>\n",
       "</table>\n",
       "</div>"
      ],
      "text/plain": [
       "    CreditScore Geography  Gender  Age  Tenure    Balance  NumOfProducts  \\\n",
       "30          591     Spain  Female   39     NaN       0.00              3   \n",
       "48          550   Germany    Male   38     NaN  103391.38              1   \n",
       "51          585   Germany    Male   36     NaN  146050.97              2   \n",
       "53          655   Germany    Male   41     NaN  125561.97              1   \n",
       "60          742   Germany    Male   35     NaN  136857.00              1   \n",
       "\n",
       "    HasCrCard  IsActiveMember  EstimatedSalary  Exited  \n",
       "30          1               0        140469.38       1  \n",
       "48          0               1         90878.13       0  \n",
       "51          0               0         86424.57       0  \n",
       "53          0               0        164040.94       1  \n",
       "60          0               0         84509.57       0  "
      ]
     },
     "execution_count": 8,
     "metadata": {},
     "output_type": "execute_result"
    }
   ],
   "source": [
    "empty_tenure.head()"
   ]
  },
  {
   "cell_type": "markdown",
   "metadata": {},
   "source": [
    "Так как этот столбец показывает сколько лет человек является клиентом банка, то по представленным данным трудно найти взаимосвязь для восстановления. Для борьбы с пропусками можно использовать несколько путей:\n",
    " - Удалить пустые строки;\n",
    " - Заполнить аномальным значением (0 или -1);\n",
    " - Заполнить медианной;"
   ]
  },
  {
   "cell_type": "markdown",
   "metadata": {},
   "source": [
    "Так как пропуски составляют порядка 9% и в них преобладает `0` класс, то предлагаю удалить данные строки. Возможно, также поможет в выравнивании классов."
   ]
  },
  {
   "cell_type": "code",
   "execution_count": 9,
   "metadata": {},
   "outputs": [
    {
     "data": {
      "text/plain": [
       "CreditScore        0\n",
       "Geography          0\n",
       "Gender             0\n",
       "Age                0\n",
       "Tenure             0\n",
       "Balance            0\n",
       "NumOfProducts      0\n",
       "HasCrCard          0\n",
       "IsActiveMember     0\n",
       "EstimatedSalary    0\n",
       "Exited             0\n",
       "dtype: int64"
      ]
     },
     "execution_count": 9,
     "metadata": {},
     "output_type": "execute_result"
    }
   ],
   "source": [
    "data_del = data.dropna(subset = [\"Tenure\"], axis = 0)\n",
    "data_del.isna().sum()"
   ]
  },
  {
   "cell_type": "markdown",
   "metadata": {},
   "source": [
    "### Проверка дубликатов"
   ]
  },
  {
   "cell_type": "code",
   "execution_count": 10,
   "metadata": {},
   "outputs": [
    {
     "data": {
      "text/plain": [
       "0"
      ]
     },
     "execution_count": 10,
     "metadata": {},
     "output_type": "execute_result"
    }
   ],
   "source": [
    "data.duplicated().sum()"
   ]
  },
  {
   "cell_type": "markdown",
   "metadata": {},
   "source": [
    "### Баланс классов"
   ]
  },
  {
   "cell_type": "code",
   "execution_count": 11,
   "metadata": {},
   "outputs": [
    {
     "name": "stdout",
     "output_type": "stream",
     "text": [
      "Процент класса \"0\": 0.7963\n",
      "Процент класса \"1\": 0.2037\n"
     ]
    }
   ],
   "source": [
    "print('Процент класса \"0\":', data[\"Exited\"].value_counts(normalize = 1)[0])\n",
    "print('Процент класса \"1\":', data[\"Exited\"].value_counts(normalize = 1)[1])"
   ]
  },
  {
   "cell_type": "code",
   "execution_count": 12,
   "metadata": {},
   "outputs": [
    {
     "name": "stdout",
     "output_type": "stream",
     "text": [
      "Процент класса \"0\": 0.7960620393796062\n",
      "Процент класса \"1\": 0.2039379606203938\n"
     ]
    }
   ],
   "source": [
    "print('Процент класса \"0\":', data_del[\"Exited\"].value_counts(normalize = 1)[0])\n",
    "print('Процент класса \"1\":', data_del[\"Exited\"].value_counts(normalize = 1)[1])"
   ]
  },
  {
   "cell_type": "markdown",
   "metadata": {},
   "source": [
    "Разница в балансе классов не изменилась"
   ]
  },
  {
   "cell_type": "markdown",
   "metadata": {},
   "source": [
    "### Подготовка данных"
   ]
  },
  {
   "cell_type": "markdown",
   "metadata": {},
   "source": [
    "#### Прямое кодирование"
   ]
  },
  {
   "cell_type": "markdown",
   "metadata": {},
   "source": [
    "В таблице присутствуют такие колонки, как `Gender` и `Geography`. Для дальнейшей работы закодируем их. Используем метод One-hot enconding, так как подходит в использовании случайного леса и логистической регрессии."
   ]
  },
  {
   "cell_type": "code",
   "execution_count": 13,
   "metadata": {},
   "outputs": [],
   "source": [
    "data_ml = pd.get_dummies(data_del, drop_first = True)"
   ]
  },
  {
   "cell_type": "code",
   "execution_count": 14,
   "metadata": {},
   "outputs": [
    {
     "data": {
      "text/html": [
       "<div>\n",
       "<style scoped>\n",
       "    .dataframe tbody tr th:only-of-type {\n",
       "        vertical-align: middle;\n",
       "    }\n",
       "\n",
       "    .dataframe tbody tr th {\n",
       "        vertical-align: top;\n",
       "    }\n",
       "\n",
       "    .dataframe thead th {\n",
       "        text-align: right;\n",
       "    }\n",
       "</style>\n",
       "<table border=\"1\" class=\"dataframe\">\n",
       "  <thead>\n",
       "    <tr style=\"text-align: right;\">\n",
       "      <th></th>\n",
       "      <th>CreditScore</th>\n",
       "      <th>Age</th>\n",
       "      <th>Tenure</th>\n",
       "      <th>Balance</th>\n",
       "      <th>NumOfProducts</th>\n",
       "      <th>HasCrCard</th>\n",
       "      <th>IsActiveMember</th>\n",
       "      <th>EstimatedSalary</th>\n",
       "      <th>Exited</th>\n",
       "      <th>Geography_Germany</th>\n",
       "      <th>Geography_Spain</th>\n",
       "      <th>Gender_Male</th>\n",
       "    </tr>\n",
       "  </thead>\n",
       "  <tbody>\n",
       "    <tr>\n",
       "      <th>0</th>\n",
       "      <td>619</td>\n",
       "      <td>42</td>\n",
       "      <td>2.0</td>\n",
       "      <td>0.00</td>\n",
       "      <td>1</td>\n",
       "      <td>1</td>\n",
       "      <td>1</td>\n",
       "      <td>101348.88</td>\n",
       "      <td>1</td>\n",
       "      <td>0</td>\n",
       "      <td>0</td>\n",
       "      <td>0</td>\n",
       "    </tr>\n",
       "    <tr>\n",
       "      <th>1</th>\n",
       "      <td>608</td>\n",
       "      <td>41</td>\n",
       "      <td>1.0</td>\n",
       "      <td>83807.86</td>\n",
       "      <td>1</td>\n",
       "      <td>0</td>\n",
       "      <td>1</td>\n",
       "      <td>112542.58</td>\n",
       "      <td>0</td>\n",
       "      <td>0</td>\n",
       "      <td>1</td>\n",
       "      <td>0</td>\n",
       "    </tr>\n",
       "    <tr>\n",
       "      <th>2</th>\n",
       "      <td>502</td>\n",
       "      <td>42</td>\n",
       "      <td>8.0</td>\n",
       "      <td>159660.80</td>\n",
       "      <td>3</td>\n",
       "      <td>1</td>\n",
       "      <td>0</td>\n",
       "      <td>113931.57</td>\n",
       "      <td>1</td>\n",
       "      <td>0</td>\n",
       "      <td>0</td>\n",
       "      <td>0</td>\n",
       "    </tr>\n",
       "    <tr>\n",
       "      <th>3</th>\n",
       "      <td>699</td>\n",
       "      <td>39</td>\n",
       "      <td>1.0</td>\n",
       "      <td>0.00</td>\n",
       "      <td>2</td>\n",
       "      <td>0</td>\n",
       "      <td>0</td>\n",
       "      <td>93826.63</td>\n",
       "      <td>0</td>\n",
       "      <td>0</td>\n",
       "      <td>0</td>\n",
       "      <td>0</td>\n",
       "    </tr>\n",
       "    <tr>\n",
       "      <th>4</th>\n",
       "      <td>850</td>\n",
       "      <td>43</td>\n",
       "      <td>2.0</td>\n",
       "      <td>125510.82</td>\n",
       "      <td>1</td>\n",
       "      <td>1</td>\n",
       "      <td>1</td>\n",
       "      <td>79084.10</td>\n",
       "      <td>0</td>\n",
       "      <td>0</td>\n",
       "      <td>1</td>\n",
       "      <td>0</td>\n",
       "    </tr>\n",
       "  </tbody>\n",
       "</table>\n",
       "</div>"
      ],
      "text/plain": [
       "   CreditScore  Age  Tenure    Balance  NumOfProducts  HasCrCard  \\\n",
       "0          619   42     2.0       0.00              1          1   \n",
       "1          608   41     1.0   83807.86              1          0   \n",
       "2          502   42     8.0  159660.80              3          1   \n",
       "3          699   39     1.0       0.00              2          0   \n",
       "4          850   43     2.0  125510.82              1          1   \n",
       "\n",
       "   IsActiveMember  EstimatedSalary  Exited  Geography_Germany  \\\n",
       "0               1        101348.88       1                  0   \n",
       "1               1        112542.58       0                  0   \n",
       "2               0        113931.57       1                  0   \n",
       "3               0         93826.63       0                  0   \n",
       "4               1         79084.10       0                  0   \n",
       "\n",
       "   Geography_Spain  Gender_Male  \n",
       "0                0            0  \n",
       "1                1            0  \n",
       "2                0            0  \n",
       "3                0            0  \n",
       "4                1            0  "
      ]
     },
     "execution_count": 14,
     "metadata": {},
     "output_type": "execute_result"
    }
   ],
   "source": [
    "data_ml.head()"
   ]
  },
  {
   "cell_type": "markdown",
   "metadata": {},
   "source": [
    "Столбец `Geography` разделился на 2 столбца, а `Gender` на 1 - что позволит избежать дами-ловушки"
   ]
  },
  {
   "cell_type": "markdown",
   "metadata": {},
   "source": [
    "#### Разделение выборки"
   ]
  },
  {
   "cell_type": "code",
   "execution_count": 15,
   "metadata": {},
   "outputs": [],
   "source": [
    "features = data_ml.drop('Exited', axis=1)\n",
    "target = data_ml['Exited']"
   ]
  },
  {
   "cell_type": "code",
   "execution_count": 16,
   "metadata": {},
   "outputs": [],
   "source": [
    "features_train, features_valid, target_train, target_valid = train_test_split(features,\n",
    "                                                                              target,\n",
    "                                                                              test_size=0.4,\n",
    "                                                                              random_state=12345\n",
    "                                                                             )"
   ]
  },
  {
   "cell_type": "code",
   "execution_count": 17,
   "metadata": {},
   "outputs": [],
   "source": [
    "features_valid, features_test ,target_valid, target_test = train_test_split(features_valid,\n",
    "                                                                           target_valid,\n",
    "                                                                           test_size=0.5,\n",
    "                                                                           random_state=12345\n",
    "                                                                           )"
   ]
  },
  {
   "cell_type": "code",
   "execution_count": 18,
   "metadata": {},
   "outputs": [
    {
     "name": "stdout",
     "output_type": "stream",
     "text": [
      "Размер исходного датафрейма: (9091, 12)\n",
      "Размер признака обучающей выборке: (5454, 11)\n",
      "Размер целевого признака обучающей выборке: 5454\n",
      "Размер признака валидационной выборки: (1818, 11)\n",
      "Размер целевого признака валидационной выборки: 1818\n",
      "Размер признака тестовой выборки: (1819, 11)\n",
      "Размер целевого признака тестовой выборки: 1819\n"
     ]
    }
   ],
   "source": [
    "print(f'Размер исходного датафрейма: {data_ml.shape}')\n",
    "print(f'Размер признака обучающей выборке: {features_train.shape}')\n",
    "print(f'Размер целевого признака обучающей выборке: {target_train.shape[0]}')\n",
    "print(f'Размер признака валидационной выборки: {features_valid.shape}')\n",
    "print(f'Размер целевого признака валидационной выборки: {target_valid.shape[0]}')\n",
    "print(f'Размер признака тестовой выборки: {features_test.shape}')\n",
    "print(f'Размер целевого признака тестовой выборки: {target_test.shape[0]}')"
   ]
  },
  {
   "cell_type": "markdown",
   "metadata": {},
   "source": [
    "#### Масштабирование признаков"
   ]
  },
  {
   "cell_type": "code",
   "execution_count": 19,
   "metadata": {},
   "outputs": [],
   "source": [
    "# Зафиксируем названия числовых признаков\n",
    "numeric = ['CreditScore', 'Age', 'Tenure', \n",
    "            'Balance', 'NumOfProducts', 'HasCrCard',\n",
    "            'IsActiveMember', 'EstimatedSalary'\n",
    "           ]"
   ]
  },
  {
   "cell_type": "code",
   "execution_count": 20,
   "metadata": {},
   "outputs": [],
   "source": [
    "scaler = StandardScaler()\n",
    "scaler.fit(features_train[numeric])\n",
    "features_train[numeric] = scaler.transform(features_train[numeric])\n",
    "features_valid[numeric] = scaler.transform(features_valid[numeric])\n",
    "features_test[numeric] = scaler.transform(features_test[numeric])"
   ]
  },
  {
   "cell_type": "code",
   "execution_count": 21,
   "metadata": {},
   "outputs": [
    {
     "data": {
      "text/html": [
       "<div>\n",
       "<style scoped>\n",
       "    .dataframe tbody tr th:only-of-type {\n",
       "        vertical-align: middle;\n",
       "    }\n",
       "\n",
       "    .dataframe tbody tr th {\n",
       "        vertical-align: top;\n",
       "    }\n",
       "\n",
       "    .dataframe thead th {\n",
       "        text-align: right;\n",
       "    }\n",
       "</style>\n",
       "<table border=\"1\" class=\"dataframe\">\n",
       "  <thead>\n",
       "    <tr style=\"text-align: right;\">\n",
       "      <th></th>\n",
       "      <th>CreditScore</th>\n",
       "      <th>Age</th>\n",
       "      <th>Tenure</th>\n",
       "      <th>Balance</th>\n",
       "      <th>NumOfProducts</th>\n",
       "      <th>HasCrCard</th>\n",
       "      <th>IsActiveMember</th>\n",
       "      <th>EstimatedSalary</th>\n",
       "      <th>Geography_Germany</th>\n",
       "      <th>Geography_Spain</th>\n",
       "      <th>Gender_Male</th>\n",
       "    </tr>\n",
       "  </thead>\n",
       "  <tbody>\n",
       "    <tr>\n",
       "      <th>9344</th>\n",
       "      <td>0.809075</td>\n",
       "      <td>-1.039327</td>\n",
       "      <td>-1.025995</td>\n",
       "      <td>0.554904</td>\n",
       "      <td>-0.908179</td>\n",
       "      <td>0.663468</td>\n",
       "      <td>-1.024127</td>\n",
       "      <td>0.019508</td>\n",
       "      <td>0</td>\n",
       "      <td>0</td>\n",
       "      <td>0</td>\n",
       "    </tr>\n",
       "    <tr>\n",
       "      <th>3796</th>\n",
       "      <td>-1.152518</td>\n",
       "      <td>-1.227561</td>\n",
       "      <td>0.696524</td>\n",
       "      <td>0.480609</td>\n",
       "      <td>-0.908179</td>\n",
       "      <td>-1.507231</td>\n",
       "      <td>-1.024127</td>\n",
       "      <td>0.056167</td>\n",
       "      <td>0</td>\n",
       "      <td>0</td>\n",
       "      <td>1</td>\n",
       "    </tr>\n",
       "    <tr>\n",
       "      <th>7462</th>\n",
       "      <td>-0.398853</td>\n",
       "      <td>0.090079</td>\n",
       "      <td>1.385532</td>\n",
       "      <td>-1.237830</td>\n",
       "      <td>-0.908179</td>\n",
       "      <td>0.663468</td>\n",
       "      <td>0.976442</td>\n",
       "      <td>0.848738</td>\n",
       "      <td>0</td>\n",
       "      <td>0</td>\n",
       "      <td>1</td>\n",
       "    </tr>\n",
       "    <tr>\n",
       "      <th>1508</th>\n",
       "      <td>-0.749875</td>\n",
       "      <td>-0.286389</td>\n",
       "      <td>0.352020</td>\n",
       "      <td>-1.237830</td>\n",
       "      <td>0.809300</td>\n",
       "      <td>0.663468</td>\n",
       "      <td>0.976442</td>\n",
       "      <td>-0.894953</td>\n",
       "      <td>0</td>\n",
       "      <td>0</td>\n",
       "      <td>1</td>\n",
       "    </tr>\n",
       "    <tr>\n",
       "      <th>4478</th>\n",
       "      <td>-1.028628</td>\n",
       "      <td>-0.756975</td>\n",
       "      <td>-0.336987</td>\n",
       "      <td>-1.237830</td>\n",
       "      <td>0.809300</td>\n",
       "      <td>-1.507231</td>\n",
       "      <td>0.976442</td>\n",
       "      <td>-1.284516</td>\n",
       "      <td>0</td>\n",
       "      <td>0</td>\n",
       "      <td>1</td>\n",
       "    </tr>\n",
       "  </tbody>\n",
       "</table>\n",
       "</div>"
      ],
      "text/plain": [
       "      CreditScore       Age    Tenure   Balance  NumOfProducts  HasCrCard  \\\n",
       "9344     0.809075 -1.039327 -1.025995  0.554904      -0.908179   0.663468   \n",
       "3796    -1.152518 -1.227561  0.696524  0.480609      -0.908179  -1.507231   \n",
       "7462    -0.398853  0.090079  1.385532 -1.237830      -0.908179   0.663468   \n",
       "1508    -0.749875 -0.286389  0.352020 -1.237830       0.809300   0.663468   \n",
       "4478    -1.028628 -0.756975 -0.336987 -1.237830       0.809300  -1.507231   \n",
       "\n",
       "      IsActiveMember  EstimatedSalary  Geography_Germany  Geography_Spain  \\\n",
       "9344       -1.024127         0.019508                  0                0   \n",
       "3796       -1.024127         0.056167                  0                0   \n",
       "7462        0.976442         0.848738                  0                0   \n",
       "1508        0.976442        -0.894953                  0                0   \n",
       "4478        0.976442        -1.284516                  0                0   \n",
       "\n",
       "      Gender_Male  \n",
       "9344            0  \n",
       "3796            1  \n",
       "7462            1  \n",
       "1508            1  \n",
       "4478            1  "
      ]
     },
     "execution_count": 21,
     "metadata": {},
     "output_type": "execute_result"
    }
   ],
   "source": [
    "features_train.head()"
   ]
  },
  {
   "cell_type": "code",
   "execution_count": 22,
   "metadata": {},
   "outputs": [
    {
     "data": {
      "text/html": [
       "<div>\n",
       "<style scoped>\n",
       "    .dataframe tbody tr th:only-of-type {\n",
       "        vertical-align: middle;\n",
       "    }\n",
       "\n",
       "    .dataframe tbody tr th {\n",
       "        vertical-align: top;\n",
       "    }\n",
       "\n",
       "    .dataframe thead th {\n",
       "        text-align: right;\n",
       "    }\n",
       "</style>\n",
       "<table border=\"1\" class=\"dataframe\">\n",
       "  <thead>\n",
       "    <tr style=\"text-align: right;\">\n",
       "      <th></th>\n",
       "      <th>CreditScore</th>\n",
       "      <th>Age</th>\n",
       "      <th>Tenure</th>\n",
       "      <th>Balance</th>\n",
       "      <th>NumOfProducts</th>\n",
       "      <th>HasCrCard</th>\n",
       "      <th>IsActiveMember</th>\n",
       "      <th>EstimatedSalary</th>\n",
       "      <th>Geography_Germany</th>\n",
       "      <th>Geography_Spain</th>\n",
       "      <th>Gender_Male</th>\n",
       "    </tr>\n",
       "  </thead>\n",
       "  <tbody>\n",
       "    <tr>\n",
       "      <th>7445</th>\n",
       "      <td>-1.369326</td>\n",
       "      <td>0.560665</td>\n",
       "      <td>-0.336987</td>\n",
       "      <td>-1.237830</td>\n",
       "      <td>-0.908179</td>\n",
       "      <td>0.663468</td>\n",
       "      <td>-1.024127</td>\n",
       "      <td>-0.086537</td>\n",
       "      <td>0</td>\n",
       "      <td>0</td>\n",
       "      <td>0</td>\n",
       "    </tr>\n",
       "    <tr>\n",
       "      <th>8620</th>\n",
       "      <td>1.232367</td>\n",
       "      <td>0.090079</td>\n",
       "      <td>1.041028</td>\n",
       "      <td>-1.237830</td>\n",
       "      <td>0.809300</td>\n",
       "      <td>-1.507231</td>\n",
       "      <td>0.976442</td>\n",
       "      <td>-0.537457</td>\n",
       "      <td>0</td>\n",
       "      <td>0</td>\n",
       "      <td>0</td>\n",
       "    </tr>\n",
       "    <tr>\n",
       "      <th>1714</th>\n",
       "      <td>0.840048</td>\n",
       "      <td>0.560665</td>\n",
       "      <td>0.352020</td>\n",
       "      <td>1.231363</td>\n",
       "      <td>-0.908179</td>\n",
       "      <td>-1.507231</td>\n",
       "      <td>-1.024127</td>\n",
       "      <td>1.070393</td>\n",
       "      <td>1</td>\n",
       "      <td>0</td>\n",
       "      <td>1</td>\n",
       "    </tr>\n",
       "    <tr>\n",
       "      <th>5441</th>\n",
       "      <td>1.056856</td>\n",
       "      <td>-0.945210</td>\n",
       "      <td>-1.370498</td>\n",
       "      <td>0.951231</td>\n",
       "      <td>-0.908179</td>\n",
       "      <td>0.663468</td>\n",
       "      <td>-1.024127</td>\n",
       "      <td>-0.576279</td>\n",
       "      <td>0</td>\n",
       "      <td>0</td>\n",
       "      <td>1</td>\n",
       "    </tr>\n",
       "    <tr>\n",
       "      <th>9001</th>\n",
       "      <td>0.406433</td>\n",
       "      <td>-0.662858</td>\n",
       "      <td>0.352020</td>\n",
       "      <td>0.767800</td>\n",
       "      <td>-0.908179</td>\n",
       "      <td>0.663468</td>\n",
       "      <td>0.976442</td>\n",
       "      <td>0.662068</td>\n",
       "      <td>0</td>\n",
       "      <td>1</td>\n",
       "      <td>1</td>\n",
       "    </tr>\n",
       "  </tbody>\n",
       "</table>\n",
       "</div>"
      ],
      "text/plain": [
       "      CreditScore       Age    Tenure   Balance  NumOfProducts  HasCrCard  \\\n",
       "7445    -1.369326  0.560665 -0.336987 -1.237830      -0.908179   0.663468   \n",
       "8620     1.232367  0.090079  1.041028 -1.237830       0.809300  -1.507231   \n",
       "1714     0.840048  0.560665  0.352020  1.231363      -0.908179  -1.507231   \n",
       "5441     1.056856 -0.945210 -1.370498  0.951231      -0.908179   0.663468   \n",
       "9001     0.406433 -0.662858  0.352020  0.767800      -0.908179   0.663468   \n",
       "\n",
       "      IsActiveMember  EstimatedSalary  Geography_Germany  Geography_Spain  \\\n",
       "7445       -1.024127        -0.086537                  0                0   \n",
       "8620        0.976442        -0.537457                  0                0   \n",
       "1714       -1.024127         1.070393                  1                0   \n",
       "5441       -1.024127        -0.576279                  0                0   \n",
       "9001        0.976442         0.662068                  0                1   \n",
       "\n",
       "      Gender_Male  \n",
       "7445            0  \n",
       "8620            0  \n",
       "1714            1  \n",
       "5441            1  \n",
       "9001            1  "
      ]
     },
     "execution_count": 22,
     "metadata": {},
     "output_type": "execute_result"
    }
   ],
   "source": [
    "features_valid.head()"
   ]
  },
  {
   "cell_type": "code",
   "execution_count": 23,
   "metadata": {},
   "outputs": [
    {
     "data": {
      "text/html": [
       "<div>\n",
       "<style scoped>\n",
       "    .dataframe tbody tr th:only-of-type {\n",
       "        vertical-align: middle;\n",
       "    }\n",
       "\n",
       "    .dataframe tbody tr th {\n",
       "        vertical-align: top;\n",
       "    }\n",
       "\n",
       "    .dataframe thead th {\n",
       "        text-align: right;\n",
       "    }\n",
       "</style>\n",
       "<table border=\"1\" class=\"dataframe\">\n",
       "  <thead>\n",
       "    <tr style=\"text-align: right;\">\n",
       "      <th></th>\n",
       "      <th>CreditScore</th>\n",
       "      <th>Age</th>\n",
       "      <th>Tenure</th>\n",
       "      <th>Balance</th>\n",
       "      <th>NumOfProducts</th>\n",
       "      <th>HasCrCard</th>\n",
       "      <th>IsActiveMember</th>\n",
       "      <th>EstimatedSalary</th>\n",
       "      <th>Geography_Germany</th>\n",
       "      <th>Geography_Spain</th>\n",
       "      <th>Gender_Male</th>\n",
       "    </tr>\n",
       "  </thead>\n",
       "  <tbody>\n",
       "    <tr>\n",
       "      <th>5170</th>\n",
       "      <td>1.707279</td>\n",
       "      <td>-0.756975</td>\n",
       "      <td>-0.336987</td>\n",
       "      <td>-1.237830</td>\n",
       "      <td>0.809300</td>\n",
       "      <td>0.663468</td>\n",
       "      <td>0.976442</td>\n",
       "      <td>0.718362</td>\n",
       "      <td>0</td>\n",
       "      <td>0</td>\n",
       "      <td>0</td>\n",
       "    </tr>\n",
       "    <tr>\n",
       "      <th>4180</th>\n",
       "      <td>-0.429826</td>\n",
       "      <td>-0.286389</td>\n",
       "      <td>1.730036</td>\n",
       "      <td>0.485538</td>\n",
       "      <td>0.809300</td>\n",
       "      <td>-1.507231</td>\n",
       "      <td>-1.024127</td>\n",
       "      <td>1.687305</td>\n",
       "      <td>1</td>\n",
       "      <td>0</td>\n",
       "      <td>1</td>\n",
       "    </tr>\n",
       "    <tr>\n",
       "      <th>7349</th>\n",
       "      <td>-0.171721</td>\n",
       "      <td>0.278313</td>\n",
       "      <td>0.352020</td>\n",
       "      <td>-0.269213</td>\n",
       "      <td>0.809300</td>\n",
       "      <td>-1.507231</td>\n",
       "      <td>0.976442</td>\n",
       "      <td>0.824128</td>\n",
       "      <td>1</td>\n",
       "      <td>0</td>\n",
       "      <td>1</td>\n",
       "    </tr>\n",
       "    <tr>\n",
       "      <th>7469</th>\n",
       "      <td>0.385784</td>\n",
       "      <td>-0.380507</td>\n",
       "      <td>1.041028</td>\n",
       "      <td>0.464813</td>\n",
       "      <td>-0.908179</td>\n",
       "      <td>0.663468</td>\n",
       "      <td>-1.024127</td>\n",
       "      <td>-1.118018</td>\n",
       "      <td>0</td>\n",
       "      <td>0</td>\n",
       "      <td>0</td>\n",
       "    </tr>\n",
       "    <tr>\n",
       "      <th>3467</th>\n",
       "      <td>-1.142194</td>\n",
       "      <td>0.278313</td>\n",
       "      <td>-1.370498</td>\n",
       "      <td>0.353837</td>\n",
       "      <td>0.809300</td>\n",
       "      <td>-1.507231</td>\n",
       "      <td>0.976442</td>\n",
       "      <td>-0.107642</td>\n",
       "      <td>1</td>\n",
       "      <td>0</td>\n",
       "      <td>0</td>\n",
       "    </tr>\n",
       "  </tbody>\n",
       "</table>\n",
       "</div>"
      ],
      "text/plain": [
       "      CreditScore       Age    Tenure   Balance  NumOfProducts  HasCrCard  \\\n",
       "5170     1.707279 -0.756975 -0.336987 -1.237830       0.809300   0.663468   \n",
       "4180    -0.429826 -0.286389  1.730036  0.485538       0.809300  -1.507231   \n",
       "7349    -0.171721  0.278313  0.352020 -0.269213       0.809300  -1.507231   \n",
       "7469     0.385784 -0.380507  1.041028  0.464813      -0.908179   0.663468   \n",
       "3467    -1.142194  0.278313 -1.370498  0.353837       0.809300  -1.507231   \n",
       "\n",
       "      IsActiveMember  EstimatedSalary  Geography_Germany  Geography_Spain  \\\n",
       "5170        0.976442         0.718362                  0                0   \n",
       "4180       -1.024127         1.687305                  1                0   \n",
       "7349        0.976442         0.824128                  1                0   \n",
       "7469       -1.024127        -1.118018                  0                0   \n",
       "3467        0.976442        -0.107642                  1                0   \n",
       "\n",
       "      Gender_Male  \n",
       "5170            0  \n",
       "4180            1  \n",
       "7349            1  \n",
       "7469            0  \n",
       "3467            0  "
      ]
     },
     "execution_count": 23,
     "metadata": {},
     "output_type": "execute_result"
    }
   ],
   "source": [
    "features_test.head()"
   ]
  },
  {
   "cell_type": "markdown",
   "metadata": {},
   "source": [
    "## Исследование задачи"
   ]
  },
  {
   "cell_type": "markdown",
   "metadata": {},
   "source": [
    "### Исследование баланса"
   ]
  },
  {
   "cell_type": "code",
   "execution_count": 24,
   "metadata": {},
   "outputs": [
    {
     "name": "stdout",
     "output_type": "stream",
     "text": [
      "Процент класса \"0\": 0.7935460212687935\n",
      "Процент класса \"1\": 0.20645397873120647\n"
     ]
    }
   ],
   "source": [
    "print('Процент класса \"0\":', 1-(target_train.sum()/len(target_train)))\n",
    "print('Процент класса \"1\":', target_train.sum()/len(target_train))"
   ]
  },
  {
   "cell_type": "code",
   "execution_count": 25,
   "metadata": {},
   "outputs": [
    {
     "name": "stdout",
     "output_type": "stream",
     "text": [
      "Процент класса \"0\": 0.7926292629262927\n",
      "Процент класса \"1\": 0.20737073707370737\n"
     ]
    }
   ],
   "source": [
    "print('Процент класса \"0\":', 1-(target_valid.sum()/len(target_valid)))\n",
    "print('Процент класса \"1\":', target_valid.sum()/len(target_valid))"
   ]
  },
  {
   "cell_type": "code",
   "execution_count": 26,
   "metadata": {},
   "outputs": [
    {
     "name": "stdout",
     "output_type": "stream",
     "text": [
      "Процент класса \"0\": 0.8070368334249588\n",
      "Процент класса \"1\": 0.19296316657504123\n"
     ]
    }
   ],
   "source": [
    "print('Процент класса \"0\":', 1-(target_test.sum()/len(target_test)))\n",
    "print('Процент класса \"1\":', target_test.sum()/len(target_test))"
   ]
  },
  {
   "cell_type": "markdown",
   "metadata": {},
   "source": [
    "Во всех выборках класс `0` преобладает почти в 4 раза"
   ]
  },
  {
   "cell_type": "markdown",
   "metadata": {},
   "source": [
    "### Обучение моделей"
   ]
  },
  {
   "cell_type": "markdown",
   "metadata": {},
   "source": [
    "### Логистическая регрессия"
   ]
  },
  {
   "cell_type": "code",
   "execution_count": 27,
   "metadata": {},
   "outputs": [
    {
     "name": "stdout",
     "output_type": "stream",
     "text": [
      "Accuracy наилучшей модели на валидационной выборке: 0.8080308030803081\n",
      "F1 мера: 0.3033932135728543\n"
     ]
    }
   ],
   "source": [
    "model_logistic = LogisticRegression(random_state=12345)\n",
    "model_logistic.fit(features_train,target_train)  # обучение модели на тренировочной выборке\n",
    "predictions_linear_valid = model_logistic.predict(features_valid) # получение предсказания модели на валидационной выборке\n",
    "result_linear = accuracy_score(target_valid,predictions_linear_valid) # рассчет accurace\n",
    "\n",
    "\n",
    "print(\"Accuracy наилучшей модели на валидационной выборке:\", result_linear)\n",
    "print(\"F1 мера:\",f1_score(target_valid,predictions_linear_valid))"
   ]
  },
  {
   "cell_type": "markdown",
   "metadata": {},
   "source": [
    "### Cлучайный лес"
   ]
  },
  {
   "cell_type": "code",
   "execution_count": 28,
   "metadata": {},
   "outputs": [
    {
     "name": "stderr",
     "output_type": "stream",
     "text": [
      "100%|██████████| 20/20 [01:44<00:00,  5.25s/it]"
     ]
    },
    {
     "name": "stdout",
     "output_type": "stream",
     "text": [
      "Информация о модели:\n",
      "Количесвто деревьев: 21\n",
      "Глубина дерева: 20\n",
      "\n",
      "Accuracy\n",
      "Accuracy наилучшей модели на валидационной выборке: 0.8619361936193619\n",
      "\n",
      "F1\n",
      "F1 наилучшей модели на валидационной выборке: 0.5971107544141251\n"
     ]
    },
    {
     "name": "stderr",
     "output_type": "stream",
     "text": [
      "\n"
     ]
    }
   ],
   "source": [
    "best_model_forest = None\n",
    "result_forest_best = 0\n",
    "depth_forest = 0\n",
    "est_forest = 0\n",
    "result_forest_accuracy_best = 0\n",
    "for est in tqdm(range(1,101,5)):\n",
    "    for depth in range(1,21):\n",
    "        model_forest = RandomForestClassifier(random_state=12345,max_depth=depth, n_estimators=est)\n",
    "        model_forest.fit(features_train,target_train)  # обучение модели на тренировочной выборке\n",
    "        predictions_forest_valid = model_forest.predict(features_valid) # получение предсказания модели на валидационной выборке\n",
    "        result_forest_accuracy = accuracy_score(target_valid,predictions_forest_valid) # рассчет accurace\n",
    "        result_forest_f1 = f1_score(target_valid,predictions_forest_valid)\n",
    "        if result_forest_f1 > result_forest_best:\n",
    "            best_model_forest = model_forest\n",
    "            result_forest_best = result_forest_f1\n",
    "            result_forest_accuracy_best = result_forest_accuracy\n",
    "            depth_tree = depth\n",
    "            est_forest = est\n",
    "print(\"Информация о модели:\")\n",
    "print(\"Количесвто деревьев:\",est_forest)\n",
    "print(\"Глубина дерева:\",depth_tree)\n",
    "print()\n",
    "print(\"Accuracy\")\n",
    "print(\"Accuracy наилучшей модели на валидационной выборке:\", result_forest_accuracy_best)\n",
    "print()\n",
    "print(\"F1\")\n",
    "print(\"F1 наилучшей модели на валидационной выборке:\", result_forest_best)"
   ]
  },
  {
   "cell_type": "markdown",
   "metadata": {},
   "source": [
    "### Вывод: \n",
    "Наибольшим значением F1 обладает модель - случайный лес с количеством деревьев равным 21 и глубной дерева - 20"
   ]
  },
  {
   "cell_type": "markdown",
   "metadata": {},
   "source": [
    "## Борьба с дисбалансом и тестирование модели"
   ]
  },
  {
   "cell_type": "markdown",
   "metadata": {},
   "source": [
    "Для борьбы с дисбалансом рассмотрим следующие методы:\n",
    "- Upsampling\n",
    "- Downsampling\n",
    "- Добавить в модель параметр class_weight\n"
   ]
  },
  {
   "cell_type": "markdown",
   "metadata": {},
   "source": [
    "### Upsampling"
   ]
  },
  {
   "cell_type": "code",
   "execution_count": 27,
   "metadata": {},
   "outputs": [],
   "source": [
    "def upsample(features, target, repeat):\n",
    "    features_zeros = features[target == 0]\n",
    "    features_ones = features[target == 1]\n",
    "    target_zeros = target[target == 0]\n",
    "    target_ones = target[target == 1]\n",
    "\n",
    "    features_upsampled = pd.concat([features_zeros] + [features_ones] * repeat)\n",
    "    target_upsampled = pd.concat([target_zeros] + [target_ones] * repeat)\n",
    "    \n",
    "    features_upsampled, target_upsampled = shuffle(\n",
    "        features_upsampled, target_upsampled, random_state=12345)\n",
    "    \n",
    "    return features_upsampled, target_upsampled"
   ]
  },
  {
   "cell_type": "code",
   "execution_count": 28,
   "metadata": {},
   "outputs": [],
   "source": [
    "features_upsampled, target_upsampled = upsample(features_train, target_train, 4)"
   ]
  },
  {
   "cell_type": "code",
   "execution_count": 29,
   "metadata": {},
   "outputs": [
    {
     "name": "stdout",
     "output_type": "stream",
     "text": [
      "Процент класса \"0\": 0.490036231884058\n",
      "Процент класса \"1\": 0.509963768115942\n"
     ]
    }
   ],
   "source": [
    "print('Процент класса \"0\":', 1-(target_upsampled.sum()/len(target_upsampled)))\n",
    "print('Процент класса \"1\":', target_upsampled.sum()/len(target_upsampled))"
   ]
  },
  {
   "cell_type": "markdown",
   "metadata": {},
   "source": [
    "#### Логистическая регрессия"
   ]
  },
  {
   "cell_type": "code",
   "execution_count": 32,
   "metadata": {},
   "outputs": [
    {
     "name": "stdout",
     "output_type": "stream",
     "text": [
      "Accuracy наилучшей модели на валидационной выборке: 0.7007700770077008\n",
      "F1 мера: 0.5072463768115941\n"
     ]
    }
   ],
   "source": [
    "model_logistic = LogisticRegression(random_state=12345)\n",
    "model_logistic.fit(features_upsampled,target_upsampled)  # обучение модели на тренировочной выборке\n",
    "predictions_linear_valid = model_logistic.predict(features_valid) # получение предсказания модели на валидационной выборке\n",
    "result_linear = accuracy_score(target_valid,predictions_linear_valid) # рассчет accurace\n",
    "\n",
    "\n",
    "print(\"Accuracy наилучшей модели на валидационной выборке:\", result_linear)\n",
    "print(\"F1 мера:\",f1_score(target_valid,predictions_linear_valid))"
   ]
  },
  {
   "cell_type": "markdown",
   "metadata": {},
   "source": [
    "#### Cлучайный лес"
   ]
  },
  {
   "cell_type": "code",
   "execution_count": 33,
   "metadata": {},
   "outputs": [
    {
     "name": "stderr",
     "output_type": "stream",
     "text": [
      "100%|██████████| 20/20 [02:20<00:00,  7.03s/it]"
     ]
    },
    {
     "name": "stdout",
     "output_type": "stream",
     "text": [
      "Информация о модели:\n",
      "Количесвто деревьев: 66\n",
      "Глубина дерева: 14\n",
      "\n",
      "Accuracy\n",
      "Accuracy наилучшей модели на валидационной выборке: 0.8542354235423543\n",
      "\n",
      "F1\n",
      "F1 наилучшей модели на валидационной выборке: 0.6384720327421556\n"
     ]
    },
    {
     "name": "stderr",
     "output_type": "stream",
     "text": [
      "\n"
     ]
    }
   ],
   "source": [
    "best_model_forest = None\n",
    "result_forest_best = 0\n",
    "depth_forest = 0\n",
    "est_forest = 0\n",
    "result_forest_accuracy_best = 0\n",
    "for est in tqdm(range(1,101,5)):\n",
    "    for depth in range(1,21):\n",
    "        model_forest = RandomForestClassifier(random_state=12345,max_depth=depth, n_estimators=est)\n",
    "        model_forest.fit(features_upsampled,target_upsampled)  # обучение модели на тренировочной выборке\n",
    "        predictions_forest_valid = model_forest.predict(features_valid) # получение предсказания модели на валидационной выборке\n",
    "        result_forest_accuracy = accuracy_score(target_valid,predictions_forest_valid) # рассчет accurace\n",
    "        result_forest_f1 = f1_score(target_valid,predictions_forest_valid)\n",
    "        if result_forest_f1 > result_forest_best:\n",
    "            best_model_forest = model_forest\n",
    "            result_forest_best = result_forest_f1\n",
    "            result_forest_accuracy_best = result_forest_accuracy\n",
    "            depth_tree = depth\n",
    "            est_forest = est\n",
    "print(\"Информация о модели:\")\n",
    "print(\"Количесвто деревьев:\",est_forest)\n",
    "print(\"Глубина дерева:\",depth_tree)\n",
    "print()\n",
    "print(\"Accuracy\")\n",
    "print(\"Accuracy наилучшей модели на валидационной выборке:\", result_forest_accuracy_best)\n",
    "print()\n",
    "print(\"F1\")\n",
    "print(\"F1 наилучшей модели на валидационной выборке:\", result_forest_best)"
   ]
  },
  {
   "cell_type": "markdown",
   "metadata": {},
   "source": [
    "### Downsampling"
   ]
  },
  {
   "cell_type": "code",
   "execution_count": 34,
   "metadata": {},
   "outputs": [],
   "source": [
    "def downsample(features, target, fraction):\n",
    "    features_zeros = features[target == 0]\n",
    "    features_ones = features[target == 1]\n",
    "    target_zeros = target[target == 0]\n",
    "    target_ones = target[target == 1]\n",
    "\n",
    "    features_downsampled = pd.concat(\n",
    "        [features_zeros.sample(frac=fraction, random_state=12345)] + [features_ones])\n",
    "    target_downsampled = pd.concat(\n",
    "        [target_zeros.sample(frac=fraction, random_state=12345)] + [target_ones])\n",
    "    \n",
    "    features_downsampled, target_downsampled = shuffle(\n",
    "        features_downsampled, target_downsampled, random_state=12345)\n",
    "    \n",
    "    return features_downsampled, target_downsampled"
   ]
  },
  {
   "cell_type": "code",
   "execution_count": 35,
   "metadata": {},
   "outputs": [],
   "source": [
    "features_downsampled, target_downsampled = downsample(features_train, target_train, 0.25)"
   ]
  },
  {
   "cell_type": "code",
   "execution_count": 36,
   "metadata": {},
   "outputs": [
    {
     "name": "stdout",
     "output_type": "stream",
     "text": [
      "Процент класса \"0\": 0.490036231884058\n",
      "Процент класса \"1\": 0.509963768115942\n"
     ]
    }
   ],
   "source": [
    "print('Процент класса \"0\":', 1-(target_downsampled.sum()/len(target_downsampled)))\n",
    "print('Процент класса \"1\":', target_downsampled.sum()/len(target_downsampled))"
   ]
  },
  {
   "cell_type": "markdown",
   "metadata": {},
   "source": [
    "#### Логистическая регрессия"
   ]
  },
  {
   "cell_type": "code",
   "execution_count": 37,
   "metadata": {},
   "outputs": [
    {
     "name": "stdout",
     "output_type": "stream",
     "text": [
      "Accuracy наилучшей модели на валидационной выборке: 0.6963696369636964\n",
      "F1 мера: 0.5044883303411131\n"
     ]
    }
   ],
   "source": [
    "model_logistic = LogisticRegression(random_state=12345)\n",
    "model_logistic.fit(features_downsampled,target_downsampled)  # обучение модели на тренировочной выборке\n",
    "predictions_linear_valid = model_logistic.predict(features_valid) # получение предсказания модели на валидационной выборке\n",
    "result_linear = accuracy_score(target_valid,predictions_linear_valid) # рассчет accurace\n",
    "\n",
    "\n",
    "print(\"Accuracy наилучшей модели на валидационной выборке:\", result_linear)\n",
    "print(\"F1 мера:\",f1_score(target_valid,predictions_linear_valid))"
   ]
  },
  {
   "cell_type": "markdown",
   "metadata": {},
   "source": [
    "#### Cлучайный лес"
   ]
  },
  {
   "cell_type": "code",
   "execution_count": 38,
   "metadata": {},
   "outputs": [
    {
     "name": "stderr",
     "output_type": "stream",
     "text": [
      "100%|██████████| 20/20 [01:01<00:00,  3.05s/it]"
     ]
    },
    {
     "name": "stdout",
     "output_type": "stream",
     "text": [
      "Информация о модели:\n",
      "Количесвто деревьев: 41\n",
      "Глубина дерева: 8\n",
      "\n",
      "Accuracy\n",
      "Accuracy наилучшей модели на валидационной выборке: 0.7871287128712872\n",
      "\n",
      "F1\n",
      "F1 наилучшей модели на валидационной выборке: 0.6094853683148336\n"
     ]
    },
    {
     "name": "stderr",
     "output_type": "stream",
     "text": [
      "\n"
     ]
    }
   ],
   "source": [
    "best_model_forest = None\n",
    "result_forest_best = 0\n",
    "depth_forest = 0\n",
    "est_forest = 0\n",
    "result_forest_accuracy_best = 0\n",
    "for est in tqdm(range(1,101,5)):\n",
    "    for depth in range(1,21):\n",
    "        model_forest = RandomForestClassifier(random_state=12345,max_depth=depth, n_estimators=est)\n",
    "        model_forest.fit(features_downsampled,target_downsampled)  # обучение модели на тренировочной выборке\n",
    "        predictions_forest_valid = model_forest.predict(features_valid) # получение предсказания модели на валидационной выборке\n",
    "        result_forest_accuracy = accuracy_score(target_valid,predictions_forest_valid) # рассчет accurace\n",
    "        result_forest_f1 = f1_score(target_valid,predictions_forest_valid)\n",
    "        if result_forest_f1 > result_forest_best:\n",
    "            best_model_forest = model_forest\n",
    "            result_forest_best = result_forest_f1\n",
    "            result_forest_accuracy_best = result_forest_accuracy\n",
    "            depth_tree = depth\n",
    "            est_forest = est\n",
    "print(\"Информация о модели:\")\n",
    "print(\"Количесвто деревьев:\",est_forest)\n",
    "print(\"Глубина дерева:\",depth_tree)\n",
    "print()\n",
    "print(\"Accuracy\")\n",
    "print(\"Accuracy наилучшей модели на валидационной выборке:\", result_forest_accuracy_best)\n",
    "print()\n",
    "print(\"F1\")\n",
    "print(\"F1 наилучшей модели на валидационной выборке:\", result_forest_best)"
   ]
  },
  {
   "cell_type": "markdown",
   "metadata": {},
   "source": [
    "### Class weight"
   ]
  },
  {
   "cell_type": "markdown",
   "metadata": {},
   "source": [
    "#### Логистическая регрессия"
   ]
  },
  {
   "cell_type": "code",
   "execution_count": 39,
   "metadata": {},
   "outputs": [
    {
     "name": "stdout",
     "output_type": "stream",
     "text": [
      "Accuracy наилучшей модели на валидационной выборке: 0.7090209020902091\n",
      "F1 мера: 0.509731232622799\n"
     ]
    }
   ],
   "source": [
    "model_logistic = LogisticRegression(random_state=12345, class_weight = \"balanced\")\n",
    "model_logistic.fit(features_train,target_train)  # обучение модели на тренировочной выборке\n",
    "predictions_linear_valid = model_logistic.predict(features_valid) # получение предсказания модели на валидационной выборке\n",
    "result_linear = accuracy_score(target_valid,predictions_linear_valid) # рассчет accurace\n",
    "\n",
    "\n",
    "print(\"Accuracy наилучшей модели на валидационной выборке:\", result_linear)\n",
    "print(\"F1 мера:\",f1_score(target_valid,predictions_linear_valid))"
   ]
  },
  {
   "cell_type": "markdown",
   "metadata": {},
   "source": [
    "#### Cлучайный лес"
   ]
  },
  {
   "cell_type": "code",
   "execution_count": 40,
   "metadata": {},
   "outputs": [
    {
     "name": "stderr",
     "output_type": "stream",
     "text": [
      "100%|██████████| 20/20 [01:44<00:00,  5.22s/it]"
     ]
    },
    {
     "name": "stdout",
     "output_type": "stream",
     "text": [
      "Информация о модели:\n",
      "Количесвто деревьев: 96\n",
      "Глубина дерева: 8\n",
      "\n",
      "Accuracy\n",
      "Accuracy наилучшей модели на валидационной выборке: 0.8360836083608361\n",
      "\n",
      "F1\n",
      "F1 наилучшей модели на валидационной выборке: 0.6469194312796209\n"
     ]
    },
    {
     "name": "stderr",
     "output_type": "stream",
     "text": [
      "\n"
     ]
    }
   ],
   "source": [
    "best_model_forest = None\n",
    "result_forest_best = 0\n",
    "depth_forest = 0\n",
    "est_forest = 0\n",
    "result_forest_accuracy_best = 0\n",
    "for est in tqdm(range(1,101,5)):\n",
    "    for depth in range(1,21):\n",
    "        model_forest = RandomForestClassifier(random_state=12345,max_depth=depth,\n",
    "                                              n_estimators=est,\n",
    "                                              class_weight = \"balanced\"\n",
    "                                             )\n",
    "        model_forest.fit(features_train,target_train)  # обучение модели на тренировочной выборке\n",
    "        predictions_forest_valid = model_forest.predict(features_valid) # получение предсказания модели на валидационной выборке\n",
    "        result_forest_accuracy = accuracy_score(target_valid,predictions_forest_valid) # рассчет accurace\n",
    "        result_forest_f1 = f1_score(target_valid,predictions_forest_valid)\n",
    "        if result_forest_f1 > result_forest_best:\n",
    "            best_model_forest = model_forest\n",
    "            result_forest_best = result_forest_f1\n",
    "            result_forest_accuracy_best = result_forest_accuracy\n",
    "            depth_tree = depth\n",
    "            est_forest = est\n",
    "print(\"Информация о модели:\")\n",
    "print(\"Количесвто деревьев:\",est_forest)\n",
    "print(\"Глубина дерева:\",depth_tree)\n",
    "print()\n",
    "print(\"Accuracy\")\n",
    "print(\"Accuracy наилучшей модели на валидационной выборке:\", result_forest_accuracy_best)\n",
    "print()\n",
    "print(\"F1\")\n",
    "print(\"F1 наилучшей модели на валидационной выборке:\", result_forest_best)"
   ]
  },
  {
   "cell_type": "markdown",
   "metadata": {},
   "source": [
    "### AUC-ROC"
   ]
  },
  {
   "cell_type": "markdown",
   "metadata": {},
   "source": [
    "Возьмем наилучшую модель для исследования"
   ]
  },
  {
   "cell_type": "code",
   "execution_count": 41,
   "metadata": {},
   "outputs": [
    {
     "data": {
      "image/png": "[encoded data removed]",
      "text/plain": [
       "<Figure size 432x288 with 1 Axes>"
      ]
     },
     "metadata": {
      "needs_background": "light"
     },
     "output_type": "display_data"
    },
    {
     "data": {
      "text/plain": [
       "<Figure size 432x288 with 0 Axes>"
      ]
     },
     "metadata": {},
     "output_type": "display_data"
    }
   ],
   "source": [
    "roc_model = RandomForestClassifier(random_state=12345,max_depth=8,\n",
    "                                              n_estimators=96,\n",
    "                                              class_weight = \"balanced\"\n",
    "                                             )\n",
    "roc_model.fit(features_train, target_train)\n",
    "\n",
    "probabilities_valid = roc_model.predict_proba(features_valid)\n",
    "probabilities_one_valid = probabilities_valid[:, 1]\n",
    "\n",
    "fpr, tpr, thresholds =roc_curve(target_valid, probabilities_one_valid)\n",
    "\n",
    "plt.figure()\n",
    "\n",
    "plt.plot(fpr, tpr)\n",
    "plt.plot([0, 1], [0, 1], linestyle='--')\n",
    "\n",
    "plt.xlim([0.0, 1.0])\n",
    "plt.ylim([0.0, 1.0])\n",
    "\n",
    "plt.xlabel('False Positive Rate')\n",
    "plt.ylabel('True Positive Rate')\n",
    "plt.title('ROC-кривая')\n",
    "plt.figure()\n",
    "plt.show()"
   ]
  },
  {
   "cell_type": "code",
   "execution_count": 42,
   "metadata": {},
   "outputs": [
    {
     "name": "stdout",
     "output_type": "stream",
     "text": [
      "AUC-ROC равняется: 0.8696031528355824\n"
     ]
    }
   ],
   "source": [
    "print(\"AUC-ROC равняется:\", roc_auc_score(target_valid,probabilities_one_valid))"
   ]
  },
  {
   "cell_type": "markdown",
   "metadata": {},
   "source": [
    "Метрика получилась выше чем у случайной модели (0.5)"
   ]
  },
  {
   "cell_type": "markdown",
   "metadata": {},
   "source": [
    "### Вывод"
   ]
  },
  {
   "cell_type": "markdown",
   "metadata": {},
   "source": [
    "* В ходе теста моделей было выявленно, что наибольший результат достигается у случайного леса с количесвто деревьев равным 96, глубиной дерева - 8 и решением дисбаланса с помощью `class_weight`. При этом значение F1 получилось 0.647.\n",
    "* Наихудшие значения F1 получились у логистической регрессии."
   ]
  },
  {
   "cell_type": "markdown",
   "metadata": {},
   "source": [
    "## Тестирование"
   ]
  },
  {
   "cell_type": "code",
   "execution_count": 43,
   "metadata": {},
   "outputs": [
    {
     "name": "stdout",
     "output_type": "stream",
     "text": [
      "Accuracy: 0.8202308960967565\n",
      "F1: 0.5937888198757764\n"
     ]
    }
   ],
   "source": [
    "prediction_forest_test = best_model_forest.predict(features_test)\n",
    "accuracy_forest_test = accuracy_score(target_test,prediction_forest_test)\n",
    "print(\"Accuracy:\",accuracy_forest_test)\n",
    "print(\"F1:\",f1_score(target_test,prediction_forest_test))"
   ]
  },
  {
   "cell_type": "markdown",
   "metadata": {},
   "source": [
    "Вывод: Полученное значение F1 получилось меньше на тестовой, чем на валидационной. Но порог в 0.59 проходит"
   ]
  },
  {
   "cell_type": "markdown",
   "metadata": {},
   "source": [
    "## Общий вывод"
   ]
  },
  {
   "cell_type": "markdown",
   "metadata": {},
   "source": [
    "* Был изучен полученный файл. В результате в столбце `Tenure` были обнаружены пропуски. Явные дубликаты не обнаружены;\n",
    "* Было принято решение удалить строки с пропусками;\n",
    "* Проведено кодирование столбцов `пол` и `страны` для дальнейшей работы;\n",
    "* Данные были разбиты на 3 выборки:  обучающая, валидационная и тестовая в соотношении 60:20:20 соответственно;\n",
    "* Осуществленно масштабирование признаков;\n",
    "* Обнаружен дисбаланс классов и в дальнейшем был решен с помощью 3х методов: upsampling, downsampling и class_weight;\n",
    "* Исследованы модели до баланса класаа и после. В качестве моделей были рассмотрены  логистическая регрессия и случайный лес;\n",
    "* В 2х случаях случайный лес показал наилучший результат F1. До баланса классов - 0.597. После дисбаланса с методом class weight - 0.647;\n",
    "* Построена ROC кривая и рассчитан AUC-ROC. Метрика получилась выше чем у случайной модели (AUC-ROC = 0.869);\n",
    "* Модель проверена на тестовой выборке, где F1 получился равным 0.594;"
   ]
  }
 ],
 "metadata": {
  "ExecuteTimeLog": [
   {
    "duration": 453,
    "start_time": "2022-05-04T13:01:37.251Z"
   },
   {
    "duration": 26,
    "start_time": "2022-05-04T13:02:24.707Z"
   },
   {
    "duration": 21,
    "start_time": "2022-05-04T13:02:34.837Z"
   },
   {
    "duration": 14,
    "start_time": "2022-05-04T13:02:43.580Z"
   },
   {
    "duration": 6,
    "start_time": "2022-05-04T13:28:57.151Z"
   },
   {
    "duration": 6,
    "start_time": "2022-05-04T13:36:57.255Z"
   },
   {
    "duration": 11,
    "start_time": "2022-05-04T13:37:09.691Z"
   },
   {
    "duration": 46,
    "start_time": "2022-05-07T15:10:32.497Z"
   },
   {
    "duration": 392,
    "start_time": "2022-05-07T15:10:40.037Z"
   },
   {
    "duration": 38,
    "start_time": "2022-05-07T15:10:40.432Z"
   },
   {
    "duration": 30,
    "start_time": "2022-05-07T15:10:40.472Z"
   },
   {
    "duration": 18,
    "start_time": "2022-05-07T15:10:40.506Z"
   },
   {
    "duration": 5,
    "start_time": "2022-05-07T15:10:40.526Z"
   },
   {
    "duration": 14,
    "start_time": "2022-05-07T15:10:40.533Z"
   },
   {
    "duration": 81,
    "start_time": "2022-05-07T15:10:40.549Z"
   },
   {
    "duration": 4,
    "start_time": "2022-05-07T15:10:58.127Z"
   },
   {
    "duration": 12,
    "start_time": "2022-05-07T15:11:04.533Z"
   },
   {
    "duration": 7,
    "start_time": "2022-05-07T15:11:30.887Z"
   },
   {
    "duration": 6,
    "start_time": "2022-05-07T15:11:45.705Z"
   },
   {
    "duration": 12,
    "start_time": "2022-05-07T15:11:58.670Z"
   },
   {
    "duration": 5,
    "start_time": "2022-05-07T15:12:03.032Z"
   },
   {
    "duration": 11,
    "start_time": "2022-05-07T15:56:33.134Z"
   },
   {
    "duration": 46,
    "start_time": "2022-05-11T07:57:14.318Z"
   },
   {
    "duration": 407,
    "start_time": "2022-05-11T07:57:22.262Z"
   },
   {
    "duration": 49,
    "start_time": "2022-05-11T07:57:22.671Z"
   },
   {
    "duration": 19,
    "start_time": "2022-05-11T07:57:22.722Z"
   },
   {
    "duration": 12,
    "start_time": "2022-05-11T07:57:22.743Z"
   },
   {
    "duration": 11,
    "start_time": "2022-05-11T07:57:22.757Z"
   },
   {
    "duration": 43,
    "start_time": "2022-05-11T07:57:22.770Z"
   },
   {
    "duration": 9,
    "start_time": "2022-05-11T07:57:22.815Z"
   },
   {
    "duration": 12,
    "start_time": "2022-05-11T07:57:22.826Z"
   },
   {
    "duration": 17,
    "start_time": "2022-05-11T07:57:22.839Z"
   },
   {
    "duration": 24,
    "start_time": "2022-05-11T07:57:22.858Z"
   },
   {
    "duration": 1929,
    "start_time": "2022-05-11T07:57:57.903Z"
   },
   {
    "duration": 4,
    "start_time": "2022-05-11T07:58:22.558Z"
   },
   {
    "duration": 13,
    "start_time": "2022-05-11T08:17:53.288Z"
   },
   {
    "duration": 6,
    "start_time": "2022-05-11T08:22:25.122Z"
   },
   {
    "duration": 119,
    "start_time": "2022-05-11T08:25:14.741Z"
   },
   {
    "duration": 8,
    "start_time": "2022-05-11T08:25:20.152Z"
   },
   {
    "duration": 126,
    "start_time": "2022-05-11T08:26:01.423Z"
   },
   {
    "duration": 160,
    "start_time": "2022-05-11T08:26:15.039Z"
   },
   {
    "duration": 6,
    "start_time": "2022-05-11T08:26:23.353Z"
   },
   {
    "duration": 7,
    "start_time": "2022-05-11T08:26:44.266Z"
   },
   {
    "duration": 7,
    "start_time": "2022-05-11T08:26:49.423Z"
   },
   {
    "duration": 10,
    "start_time": "2022-05-11T08:33:11.866Z"
   },
   {
    "duration": 17,
    "start_time": "2022-05-11T08:33:20.313Z"
   },
   {
    "duration": 6,
    "start_time": "2022-05-11T08:33:27.758Z"
   },
   {
    "duration": 6,
    "start_time": "2022-05-11T08:33:30.133Z"
   },
   {
    "duration": 15,
    "start_time": "2022-05-11T08:33:40.593Z"
   },
   {
    "duration": 15,
    "start_time": "2022-05-11T08:34:04.017Z"
   },
   {
    "duration": 12,
    "start_time": "2022-05-11T08:34:19.225Z"
   },
   {
    "duration": 14,
    "start_time": "2022-05-11T08:41:26.834Z"
   },
   {
    "duration": 19,
    "start_time": "2022-05-11T08:41:33.508Z"
   },
   {
    "duration": 20,
    "start_time": "2022-05-11T08:41:55.251Z"
   },
   {
    "duration": 12,
    "start_time": "2022-05-11T08:42:50.832Z"
   },
   {
    "duration": 3,
    "start_time": "2022-05-11T08:47:26.893Z"
   },
   {
    "duration": 3,
    "start_time": "2022-05-11T08:48:54.197Z"
   },
   {
    "duration": 8,
    "start_time": "2022-05-11T08:51:09.617Z"
   },
   {
    "duration": 7,
    "start_time": "2022-05-11T08:53:36.076Z"
   },
   {
    "duration": 7,
    "start_time": "2022-05-11T08:54:01.409Z"
   },
   {
    "duration": 13,
    "start_time": "2022-05-11T08:54:59.668Z"
   },
   {
    "duration": 5,
    "start_time": "2022-05-11T08:55:14.740Z"
   },
   {
    "duration": 119,
    "start_time": "2022-05-11T09:12:36.449Z"
   },
   {
    "duration": 4,
    "start_time": "2022-05-11T09:12:42.395Z"
   },
   {
    "duration": 47,
    "start_time": "2022-05-11T09:14:11.858Z"
   },
   {
    "duration": 5,
    "start_time": "2022-05-11T09:18:16.809Z"
   },
   {
    "duration": 26,
    "start_time": "2022-05-11T09:18:21.921Z"
   },
   {
    "duration": 13,
    "start_time": "2022-05-11T09:20:50.009Z"
   },
   {
    "duration": 16,
    "start_time": "2022-05-11T09:21:32.288Z"
   },
   {
    "duration": 13,
    "start_time": "2022-05-11T09:21:44.505Z"
   },
   {
    "duration": 2042,
    "start_time": "2022-05-11T09:39:03.461Z"
   },
   {
    "duration": 9,
    "start_time": "2022-05-11T09:39:15.997Z"
   },
   {
    "duration": 6,
    "start_time": "2022-05-11T09:40:17.266Z"
   },
   {
    "duration": 7,
    "start_time": "2022-05-11T09:40:29.914Z"
   },
   {
    "duration": 4,
    "start_time": "2022-05-11T09:41:03.029Z"
   },
   {
    "duration": 143,
    "start_time": "2022-05-11T09:41:46.992Z"
   },
   {
    "duration": 6,
    "start_time": "2022-05-11T09:41:58.542Z"
   },
   {
    "duration": 5,
    "start_time": "2022-05-11T09:42:36.342Z"
   },
   {
    "duration": 4,
    "start_time": "2022-05-11T09:42:42.166Z"
   },
   {
    "duration": 5,
    "start_time": "2022-05-11T09:43:20.963Z"
   },
   {
    "duration": 4,
    "start_time": "2022-05-11T09:43:24.728Z"
   },
   {
    "duration": 4,
    "start_time": "2022-05-11T09:43:25.232Z"
   },
   {
    "duration": 2,
    "start_time": "2022-05-11T09:44:42.757Z"
   },
   {
    "duration": 441,
    "start_time": "2022-05-11T09:47:18.344Z"
   },
   {
    "duration": 78,
    "start_time": "2022-05-11T10:04:40.943Z"
   },
   {
    "duration": 100808,
    "start_time": "2022-05-11T10:33:39.501Z"
   },
   {
    "duration": 677,
    "start_time": "2022-05-11T10:41:14.562Z"
   },
   {
    "duration": 618,
    "start_time": "2022-05-11T10:41:29.702Z"
   },
   {
    "duration": 3,
    "start_time": "2022-05-11T10:42:34.235Z"
   },
   {
    "duration": 3,
    "start_time": "2022-05-11T11:05:28.329Z"
   },
   {
    "duration": 4,
    "start_time": "2022-05-11T11:06:48.404Z"
   },
   {
    "duration": 10,
    "start_time": "2022-05-11T11:10:03.416Z"
   },
   {
    "duration": 9,
    "start_time": "2022-05-11T11:10:42.469Z"
   },
   {
    "duration": 463,
    "start_time": "2022-05-11T11:10:44.533Z"
   },
   {
    "duration": 136816,
    "start_time": "2022-05-11T11:12:19.311Z"
   },
   {
    "duration": 4,
    "start_time": "2022-05-11T11:19:32.152Z"
   },
   {
    "duration": 10,
    "start_time": "2022-05-11T11:19:46.632Z"
   },
   {
    "duration": 5,
    "start_time": "2022-05-11T11:20:17.141Z"
   },
   {
    "duration": 5,
    "start_time": "2022-05-11T11:20:47.709Z"
   },
   {
    "duration": 25,
    "start_time": "2022-05-11T11:21:03.159Z"
   },
   {
    "duration": 10,
    "start_time": "2022-05-11T11:21:49.121Z"
   },
   {
    "duration": 4,
    "start_time": "2022-05-11T11:21:49.943Z"
   },
   {
    "duration": 10,
    "start_time": "2022-05-11T11:21:54.367Z"
   },
   {
    "duration": 6,
    "start_time": "2022-05-11T11:21:54.894Z"
   },
   {
    "duration": 7,
    "start_time": "2022-05-11T11:22:02.815Z"
   },
   {
    "duration": 9,
    "start_time": "2022-05-11T11:22:03.160Z"
   },
   {
    "duration": 6,
    "start_time": "2022-05-11T11:22:03.602Z"
   },
   {
    "duration": 7,
    "start_time": "2022-05-11T11:22:09.471Z"
   },
   {
    "duration": 8,
    "start_time": "2022-05-11T11:22:09.751Z"
   },
   {
    "duration": 5,
    "start_time": "2022-05-11T11:22:10.100Z"
   },
   {
    "duration": 9,
    "start_time": "2022-05-11T11:22:26.400Z"
   },
   {
    "duration": 5,
    "start_time": "2022-05-11T11:22:27.103Z"
   },
   {
    "duration": 4,
    "start_time": "2022-05-11T11:22:29.744Z"
   },
   {
    "duration": 9,
    "start_time": "2022-05-11T11:22:30.129Z"
   },
   {
    "duration": 5,
    "start_time": "2022-05-11T11:22:30.501Z"
   },
   {
    "duration": 9,
    "start_time": "2022-05-11T11:22:38.831Z"
   },
   {
    "duration": 5,
    "start_time": "2022-05-11T11:22:39.225Z"
   },
   {
    "duration": 9,
    "start_time": "2022-05-11T11:22:45.231Z"
   },
   {
    "duration": 4,
    "start_time": "2022-05-11T11:22:45.494Z"
   },
   {
    "duration": 8,
    "start_time": "2022-05-11T11:22:52.041Z"
   },
   {
    "duration": 4,
    "start_time": "2022-05-11T11:22:52.287Z"
   },
   {
    "duration": 9,
    "start_time": "2022-05-11T11:22:56.742Z"
   },
   {
    "duration": 4,
    "start_time": "2022-05-11T11:22:57.292Z"
   },
   {
    "duration": 136,
    "start_time": "2022-05-11T11:25:14.940Z"
   },
   {
    "duration": 52808,
    "start_time": "2022-05-11T11:25:52.556Z"
   },
   {
    "duration": 113,
    "start_time": "2022-05-11T12:24:18.882Z"
   },
   {
    "duration": 101860,
    "start_time": "2022-05-11T12:26:19.884Z"
   },
   {
    "duration": 1491,
    "start_time": "2022-05-11T12:45:07.534Z"
   },
   {
    "duration": 31,
    "start_time": "2022-05-11T12:45:09.027Z"
   },
   {
    "duration": 20,
    "start_time": "2022-05-11T12:45:09.060Z"
   },
   {
    "duration": 29,
    "start_time": "2022-05-11T12:45:09.084Z"
   },
   {
    "duration": 25,
    "start_time": "2022-05-11T12:45:09.115Z"
   },
   {
    "duration": 29,
    "start_time": "2022-05-11T12:45:09.142Z"
   },
   {
    "duration": 43,
    "start_time": "2022-05-11T12:45:09.176Z"
   },
   {
    "duration": 36,
    "start_time": "2022-05-11T12:45:09.221Z"
   },
   {
    "duration": 44,
    "start_time": "2022-05-11T12:45:09.259Z"
   },
   {
    "duration": 13,
    "start_time": "2022-05-11T12:45:09.307Z"
   },
   {
    "duration": 7,
    "start_time": "2022-05-11T12:45:09.322Z"
   },
   {
    "duration": 35,
    "start_time": "2022-05-11T12:45:09.330Z"
   },
   {
    "duration": 47,
    "start_time": "2022-05-11T12:45:09.367Z"
   },
   {
    "duration": 55,
    "start_time": "2022-05-11T12:45:09.416Z"
   },
   {
    "duration": 26,
    "start_time": "2022-05-11T12:45:09.476Z"
   },
   {
    "duration": 18,
    "start_time": "2022-05-11T12:45:09.505Z"
   },
   {
    "duration": 20,
    "start_time": "2022-05-11T12:45:09.525Z"
   },
   {
    "duration": 25,
    "start_time": "2022-05-11T12:45:09.547Z"
   },
   {
    "duration": 26,
    "start_time": "2022-05-11T12:45:09.574Z"
   },
   {
    "duration": 44,
    "start_time": "2022-05-11T12:45:09.602Z"
   },
   {
    "duration": 12,
    "start_time": "2022-05-11T12:45:09.648Z"
   },
   {
    "duration": 39,
    "start_time": "2022-05-11T12:45:09.661Z"
   },
   {
    "duration": 21,
    "start_time": "2022-05-11T12:45:09.701Z"
   },
   {
    "duration": 9,
    "start_time": "2022-05-11T12:45:09.724Z"
   },
   {
    "duration": 8,
    "start_time": "2022-05-11T12:45:09.734Z"
   },
   {
    "duration": 12,
    "start_time": "2022-05-11T12:45:09.743Z"
   },
   {
    "duration": 340,
    "start_time": "2022-05-11T12:45:09.757Z"
   },
   {
    "duration": 97936,
    "start_time": "2022-05-11T12:45:10.172Z"
   },
   {
    "duration": 5,
    "start_time": "2022-05-11T12:46:48.110Z"
   },
   {
    "duration": 15,
    "start_time": "2022-05-11T12:46:48.117Z"
   },
   {
    "duration": 4,
    "start_time": "2022-05-11T12:46:48.134Z"
   },
   {
    "duration": 448,
    "start_time": "2022-05-11T12:46:48.140Z"
   },
   {
    "duration": 133509,
    "start_time": "2022-05-11T12:46:48.590Z"
   },
   {
    "duration": 9,
    "start_time": "2022-05-11T12:49:02.101Z"
   },
   {
    "duration": 56,
    "start_time": "2022-05-11T12:49:02.113Z"
   },
   {
    "duration": 14,
    "start_time": "2022-05-11T12:49:02.172Z"
   },
   {
    "duration": 778,
    "start_time": "2022-05-11T12:49:02.194Z"
   },
   {
    "duration": 59621,
    "start_time": "2022-05-11T12:49:02.989Z"
   },
   {
    "duration": 367,
    "start_time": "2022-05-11T12:50:02.613Z"
   },
   {
    "duration": 101552,
    "start_time": "2022-05-11T12:50:02.982Z"
   },
   {
    "duration": 620,
    "start_time": "2022-05-11T12:59:57.056Z"
   },
   {
    "duration": 114,
    "start_time": "2022-05-11T13:01:40.447Z"
   },
   {
    "duration": 4,
    "start_time": "2022-05-11T13:01:56.647Z"
   },
   {
    "duration": 7,
    "start_time": "2022-05-11T13:02:01.743Z"
   },
   {
    "duration": 3,
    "start_time": "2022-05-11T13:06:17.158Z"
   },
   {
    "duration": 5,
    "start_time": "2022-05-11T13:07:05.186Z"
   },
   {
    "duration": 6,
    "start_time": "2022-05-11T13:07:27.207Z"
   },
   {
    "duration": 41,
    "start_time": "2022-05-11T13:11:06.751Z"
   },
   {
    "duration": 13,
    "start_time": "2022-05-11T13:14:42.469Z"
   },
   {
    "duration": 12,
    "start_time": "2022-05-11T13:14:54.619Z"
   },
   {
    "duration": 1585,
    "start_time": "2022-05-11T13:39:07.911Z"
   },
   {
    "duration": 27,
    "start_time": "2022-05-11T13:39:09.498Z"
   },
   {
    "duration": 18,
    "start_time": "2022-05-11T13:39:09.527Z"
   },
   {
    "duration": 39,
    "start_time": "2022-05-11T13:39:09.547Z"
   },
   {
    "duration": 8,
    "start_time": "2022-05-11T13:39:09.589Z"
   },
   {
    "duration": 14,
    "start_time": "2022-05-11T13:39:09.600Z"
   },
   {
    "duration": 12,
    "start_time": "2022-05-11T13:39:09.616Z"
   },
   {
    "duration": 56,
    "start_time": "2022-05-11T13:39:09.631Z"
   },
   {
    "duration": 21,
    "start_time": "2022-05-11T13:39:09.689Z"
   },
   {
    "duration": 15,
    "start_time": "2022-05-11T13:39:09.712Z"
   },
   {
    "duration": 9,
    "start_time": "2022-05-11T13:39:09.730Z"
   },
   {
    "duration": 44,
    "start_time": "2022-05-11T13:39:09.741Z"
   },
   {
    "duration": 26,
    "start_time": "2022-05-11T13:39:09.787Z"
   },
   {
    "duration": 15,
    "start_time": "2022-05-11T13:39:09.816Z"
   },
   {
    "duration": 11,
    "start_time": "2022-05-11T13:39:09.834Z"
   },
   {
    "duration": 33,
    "start_time": "2022-05-11T13:39:09.848Z"
   },
   {
    "duration": 12,
    "start_time": "2022-05-11T13:39:09.883Z"
   },
   {
    "duration": 11,
    "start_time": "2022-05-11T13:39:09.898Z"
   },
   {
    "duration": 9,
    "start_time": "2022-05-11T13:39:09.911Z"
   },
   {
    "duration": 54,
    "start_time": "2022-05-11T13:39:09.922Z"
   },
   {
    "duration": 16,
    "start_time": "2022-05-11T13:39:09.982Z"
   },
   {
    "duration": 18,
    "start_time": "2022-05-11T13:39:10.000Z"
   },
   {
    "duration": 22,
    "start_time": "2022-05-11T13:39:10.021Z"
   },
   {
    "duration": 51,
    "start_time": "2022-05-11T13:39:10.046Z"
   },
   {
    "duration": 9,
    "start_time": "2022-05-11T13:39:10.099Z"
   },
   {
    "duration": 11,
    "start_time": "2022-05-11T13:39:10.109Z"
   },
   {
    "duration": 459,
    "start_time": "2022-05-11T13:39:10.122Z"
   },
   {
    "duration": 105034,
    "start_time": "2022-05-11T13:39:10.589Z"
   },
   {
    "duration": 3,
    "start_time": "2022-05-11T13:40:55.625Z"
   },
   {
    "duration": 19,
    "start_time": "2022-05-11T13:40:55.630Z"
   },
   {
    "duration": 5,
    "start_time": "2022-05-11T13:40:55.651Z"
   },
   {
    "duration": 421,
    "start_time": "2022-05-11T13:40:55.657Z"
   },
   {
    "duration": 140695,
    "start_time": "2022-05-11T13:40:56.088Z"
   },
   {
    "duration": 6,
    "start_time": "2022-05-11T13:43:16.785Z"
   },
   {
    "duration": 17,
    "start_time": "2022-05-11T13:43:16.792Z"
   },
   {
    "duration": 5,
    "start_time": "2022-05-11T13:43:16.811Z"
   },
   {
    "duration": 255,
    "start_time": "2022-05-11T13:43:16.818Z"
   },
   {
    "duration": 61122,
    "start_time": "2022-05-11T13:43:17.075Z"
   },
   {
    "duration": 101,
    "start_time": "2022-05-11T13:44:18.199Z"
   },
   {
    "duration": 104505,
    "start_time": "2022-05-11T13:44:18.302Z"
   },
   {
    "duration": 682,
    "start_time": "2022-05-11T13:46:02.813Z"
   },
   {
    "duration": 6,
    "start_time": "2022-05-11T13:46:03.497Z"
   },
   {
    "duration": 74,
    "start_time": "2022-05-11T13:46:03.505Z"
   },
   {
    "duration": 73514,
    "start_time": "2022-05-12T07:51:38.160Z"
   },
   {
    "duration": 30,
    "start_time": "2022-05-12T07:52:51.676Z"
   },
   {
    "duration": 43,
    "start_time": "2022-05-12T07:52:51.708Z"
   },
   {
    "duration": 17,
    "start_time": "2022-05-12T07:52:51.755Z"
   },
   {
    "duration": 7,
    "start_time": "2022-05-12T07:54:58.302Z"
   },
   {
    "duration": 18,
    "start_time": "2022-05-12T07:54:59.701Z"
   },
   {
    "duration": 10,
    "start_time": "2022-05-12T07:55:22.914Z"
   },
   {
    "duration": 17,
    "start_time": "2022-05-12T07:55:23.413Z"
   },
   {
    "duration": 19,
    "start_time": "2022-05-12T07:55:31.072Z"
   },
   {
    "duration": 15,
    "start_time": "2022-05-12T07:56:20.559Z"
   },
   {
    "duration": 9,
    "start_time": "2022-05-12T07:56:20.904Z"
   },
   {
    "duration": 9,
    "start_time": "2022-05-12T07:56:21.081Z"
   },
   {
    "duration": 17,
    "start_time": "2022-05-12T07:56:36.607Z"
   },
   {
    "duration": 19,
    "start_time": "2022-05-12T07:56:36.830Z"
   },
   {
    "duration": 8,
    "start_time": "2022-05-12T07:56:57.633Z"
   },
   {
    "duration": 10,
    "start_time": "2022-05-12T07:56:58.095Z"
   },
   {
    "duration": 8,
    "start_time": "2022-05-12T07:56:58.295Z"
   },
   {
    "duration": 7,
    "start_time": "2022-05-12T07:56:58.850Z"
   },
   {
    "duration": 4,
    "start_time": "2022-05-12T07:57:42.210Z"
   },
   {
    "duration": 47,
    "start_time": "2022-05-12T07:57:45.756Z"
   },
   {
    "duration": 18,
    "start_time": "2022-05-12T07:57:46.313Z"
   },
   {
    "duration": 17,
    "start_time": "2022-05-12T07:57:50.467Z"
   },
   {
    "duration": 18,
    "start_time": "2022-05-12T07:57:50.918Z"
   },
   {
    "duration": 6,
    "start_time": "2022-05-12T07:58:11.228Z"
   },
   {
    "duration": 6,
    "start_time": "2022-05-12T07:58:11.412Z"
   },
   {
    "duration": 7,
    "start_time": "2022-05-12T07:58:11.597Z"
   },
   {
    "duration": 6,
    "start_time": "2022-05-12T07:59:27.577Z"
   },
   {
    "duration": 13,
    "start_time": "2022-05-12T07:59:28.067Z"
   },
   {
    "duration": 6,
    "start_time": "2022-05-12T07:59:28.817Z"
   }
  ],
  "kernelspec": {
   "display_name": "Python 3 (ipykernel)",
   "language": "python",
   "name": "python3"
  },
  "language_info": {
   "codemirror_mode": {
    "name": "ipython",
    "version": 3
   },
   "file_extension": ".py",
   "mimetype": "text/x-python",
   "name": "python",
   "nbconvert_exporter": "python",
   "pygments_lexer": "ipython3",
   "version": "3.9.5"
  },
  "toc": {
   "base_numbering": 1,
   "nav_menu": {},
   "number_sections": true,
   "sideBar": true,
   "skip_h1_title": true,
   "title_cell": "Содержание",
   "title_sidebar": "Contents",
   "toc_cell": true,
   "toc_position": {
    "height": "calc(100% - 180px)",
    "left": "10px",
    "top": "150px",
    "width": "270.391px"
   },
   "toc_section_display": true,
   "toc_window_display": true
  }
 },
 "nbformat": 4,
 "nbformat_minor": 2
}
